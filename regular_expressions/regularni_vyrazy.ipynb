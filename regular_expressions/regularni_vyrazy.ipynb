{
 "cells": [
  {
   "cell_type": "markdown",
   "metadata": {},
   "source": [
    "# Úvod\n",
    "Regulární výrazy jsou seskupení znaků a znaky zastupujících útvarů, které lze použít k nalezení určitých řetězců v textu. Člověk se s nimi může setkat ve všelijakých aplikacích - existují na nich zcela stojící programy (např. SED), jsou součástí textových editorů (např. Notepad++) a odpovídající knihovny najdeme i v programovacích jazycích (např. balíček *re* v Pythonu).  \n",
    "Regulární výrazy jsou velice mocný nástroj. Neměly by se ale používat všude. Právě naopak, šáhnout bychom po nich měli až když selžou všechny ostatní metody. Například pokud bychom chtěli parsovat XML soubor, měli by se použít balíčky/knihovny/aplikace využívající XPath. U jiných problémů zase vyvstává otázka, zda není rozumější nadefinovat si vlastní gramatiku např. pomocí balíčku *pyparsing*. Regulární výrazy totiž jednak nebývají výpočetně zrovna nejefektivnější, jednak tendují k značné nepřehlednosti.  \n",
    "Různé aplikace používající regulární výrazy je podporují do různé míry a i samotný způsob, jak s nimi uživatel operuje, bývá odlišný. Proto se v tomto workshopu budeme věnovat regulárním výrazům nikoli pouze v Pythonu, ale i v Notepadu++ a v Teradatě.  \n",
    "\n",
    "## Obsah\n",
    "- [Python](#Python)  \n",
    "    - [Funkce search a objekt Match](#Funkce-search-a-objekt-Match)\n",
    "    - [Speciální znaky v regulárních výrazech](#Speciální-znaky-v-regulárních-výrazech)\n",
    "        - [Tečka a funkce findall a finditer](#Tečka-a-funkce-findall-a-finditer)\n",
    "        - [Bílé znaky](#Bílé-znaky)\n",
    "        - [Písmena a číslice](#Písmena-a-číslice)\n",
    "    - [Hranaté závorky alias explicitní výběr](#Hranaté-závorky-alias-explicitní-výběr)\n",
    "    - [Specifikování počtu znaků](#Specifikování-počtu-znaků)\n",
    "    - [OR pattern](#OR-pattern)\n",
    "    - [Začátek a konec stringu/řádky](#Začátek-a-konec-stringu/řádky)\n",
    "    - [Začátek a konec slova](#Začátek-a-konec-slova)\n",
    "    - [Grupy](#Grupy)\n",
    "    - [Grupy a flagy](#Grupy-a-flagy)\n",
    "    - [Lookahead a comp.](#Lookahead-a-comp.)\n",
    "    - [Další Pythoní regexové funkce](#Další-Pythoní-regexové-funkce)\n",
    "        - [Match a fullmatch](#Match-a-fullmatch)\n",
    "        - [Split](#Split)\n",
    "        - [Sub a subn](#Sub-a-subn)\n",
    "        - [Compile](#Compile)\n",
    "    - [Příklady použití regexů](#Příklady-použití-regexů)\n",
    "        - [Vypreparování HTML tagů](#Vypreparování-HTML-tagů)\n",
    "        - [Prozkoumání URL](#Prozkoumání-URL)\n",
    "        - [Nalezení čísel v textu](#Nalezení-čísel-v-textu)\n",
    "        - [Parsování csv](#Parsování-csv)\n",
    "        - [Práce se speciálními znaky](#Práce-se-speciálními-znaky)\n",
    "        - [Hledání sloupců bez aliasu v SQL](#Hledání-sloupců-bez-aliasu-v-SQL)\n",
    "    - [Fuzzy search](#Fuzzy-search)\n",
    "- [Notepad++](#Notepad++) \n",
    "- [Teradata](#Teradata) \n",
    "    - [REGEXP_SUBSTR](#REGEXP_SUBSTR)\n",
    "    - [REGEX_REPLACE](#REGEX_REPLACE)\n",
    "    - [REGEX_INSTR](#REGEX_INSTR) \n",
    "    - [REGEX_SIMILAR](#REGEX_SIMILAR) \n",
    "    - [REGEX_SPLIT_TO_TABLE](#REGEX_SPLIT_TO_TABLE) "
   ]
  },
  {
   "cell_type": "markdown",
   "metadata": {},
   "source": [
    "## Python"
   ]
  },
  {
   "cell_type": "markdown",
   "metadata": {},
   "source": [
    "Knihovna zajišťující podporu pro používání regulárních výrazů v Pythonu se nazývá *re*. Je součástí základní instalace, tudíž ji nemusíme stahovat pipem."
   ]
  },
  {
   "cell_type": "code",
   "execution_count": 1,
   "metadata": {
    "ExecuteTime": {
     "end_time": "2020-12-16T19:57:09.995790Z",
     "start_time": "2020-12-16T19:57:09.980169Z"
    }
   },
   "outputs": [],
   "source": [
    "import re"
   ]
  },
  {
   "cell_type": "markdown",
   "metadata": {},
   "source": [
    "### Funkce search a objekt Match\n",
    "Než začneme probírat jednotlivá zákoutí regulárních výrazů, musíme se seznámit s fungováním funkce *search*. Ta v případě, kdy je hledaný předpis - pattern - v prohledávaném textu nalezen, vrátí objekt typu *Match*. V případě neúspěchu je ale výsledkem *None*. Běžně se tak úspěch nalezení patternu kontroluje s pomocí *if* podmínky. Jelikož totiž Match objekt nemá zadefinovanou ani funkci *\\_\\_bool__*, ani funkci *\\_\\_len__*, má z hlediska if podmínky hodnotu True (viz [zde](https://docs.python.org/3/library/stdtypes.html#truth-value-testing))."
   ]
  },
  {
   "cell_type": "code",
   "execution_count": 4,
   "metadata": {
    "ExecuteTime": {
     "end_time": "2020-05-08T09:44:16.028633Z",
     "start_time": "2020-05-08T09:44:16.020653Z"
    }
   },
   "outputs": [
    {
     "name": "stdout",
     "output_type": "stream",
     "text": [
      "Word 'servitude' is in the text.\n",
      "Word 'eternity' is not in the text.\n"
     ]
    }
   ],
   "source": [
    "original_text = (\n",
    "    \"If the swift moment I entreat:\\n\"\n",
    "    \"Tarry a while! You are so fair!\\n\"\n",
    "    \"Then forge the shackles to my feet,\\n\"\n",
    "    \"Then I will gladly perish there!\\n\"\n",
    "    \"Then let them toll the passing-bell,\\n\"\n",
    "    \"Then of your servitude be free, \"\n",
    "    \"The clock may stop, its hands fall still,\\n\"\n",
    "    \"And time be over then for me!\"\n",
    "    )\n",
    "word_servitude_matched = re.search(\"servitude\", original_text)\n",
    "word_eternity_matched = re.search(\"eternity\", original_text)\n",
    "if word_servitude_matched:\n",
    "    print(\"Word 'servitude' is in the text.\")\n",
    "if word_eternity_matched:\n",
    "    print(\"Word 'eternity' is in the text.\")\n",
    "else:\n",
    "    print(\"Word 'eternity' is not in the text.\")"
   ]
  },
  {
   "cell_type": "markdown",
   "metadata": {},
   "source": [
    "Co všechno vlastně můžeme s Match objektem dělat? V prvé řadě je v něm uložena kopie textového řetězce, který byl prohledáván. Dostaneme se k němu s pomocí atributu *string*"
   ]
  },
  {
   "cell_type": "code",
   "execution_count": 6,
   "metadata": {
    "ExecuteTime": {
     "end_time": "2020-04-28T18:23:44.171712Z",
     "start_time": "2020-04-28T18:23:44.154726Z"
    }
   },
   "outputs": [
    {
     "data": {
      "text/plain": [
       "'If the swift moment I entreat: Tarry a while! You are so fair! Then forge the shackles to my feet, Then I will gladly perish there! Then let them toll the passing-bell, Then of your servitude be free, The clock may stop, its hands fall still, And time be over then for me!'"
      ]
     },
     "execution_count": 6,
     "metadata": {},
     "output_type": "execute_result"
    }
   ],
   "source": [
    "word_servitude_matched.string"
   ]
  },
  {
   "cell_type": "markdown",
   "metadata": {},
   "source": [
    "Pokud bychom naopak potřebovali znát pattern, který jsme v textu hledali, použijeme atribut *re*."
   ]
  },
  {
   "cell_type": "code",
   "execution_count": 7,
   "metadata": {
    "ExecuteTime": {
     "end_time": "2020-04-28T18:26:25.895996Z",
     "start_time": "2020-04-28T18:26:25.889015Z"
    }
   },
   "outputs": [
    {
     "data": {
      "text/plain": [
       "re.compile(r'servitude', re.UNICODE)"
      ]
     },
     "execution_count": 7,
     "metadata": {},
     "output_type": "execute_result"
    }
   ],
   "source": [
    "word_servitude_matched.re"
   ]
  },
  {
   "cell_type": "markdown",
   "metadata": {
    "ExecuteTime": {
     "end_time": "2020-04-28T18:29:01.808464Z",
     "start_time": "2020-04-28T18:29:01.802481Z"
    }
   },
   "source": [
    "Pokud chceme vědět, na kterých pozicích v textu nalezený blíženec patternu začínal a končil, aplikujeme funkci *span*."
   ]
  },
  {
   "cell_type": "code",
   "execution_count": 10,
   "metadata": {
    "ExecuteTime": {
     "end_time": "2020-04-28T18:28:18.250567Z",
     "start_time": "2020-04-28T18:28:18.241588Z"
    }
   },
   "outputs": [
    {
     "data": {
      "text/plain": [
       "(182, 191)"
      ]
     },
     "execution_count": 10,
     "metadata": {},
     "output_type": "execute_result"
    }
   ],
   "source": [
    "word_servitude_matched.span()"
   ]
  },
  {
   "cell_type": "markdown",
   "metadata": {},
   "source": [
    "Chceme-li vidět nalezené slovo, použijeme funkci *group*. V tomto konkrétním příkladě je přidaná informace pochopitelně nulová, užitečné to bude ale v případě obecnějších patternů. K tomu, co to vlastně ony grupy jsou, se dostaneme v textu dále."
   ]
  },
  {
   "cell_type": "code",
   "execution_count": 13,
   "metadata": {
    "ExecuteTime": {
     "end_time": "2020-04-28T18:30:17.254831Z",
     "start_time": "2020-04-28T18:30:17.247850Z"
    }
   },
   "outputs": [
    {
     "data": {
      "text/plain": [
       "'servitude'"
      ]
     },
     "execution_count": 13,
     "metadata": {},
     "output_type": "execute_result"
    }
   ],
   "source": [
    "word_servitude_matched.group()"
   ]
  },
  {
   "cell_type": "markdown",
   "metadata": {},
   "source": [
    "Funkci *search* stejně jako podobným funkcím popsaným v textu dále lze jako parametry předat kromě patternu a prohledávaného textu i *flag*. Jedná se o jednu či více hodnot nějak funkčnost regexovského enginu modifikující. Kupříkladu defaultně jsou regulární výrazy *case sensitive*, tj. velká a malá písmena jsou braná jako rozdílné entity. S použitím *re.I* (resp. *re.IGNORECASE* - téměř každý flag má krátký a dlouhý název) to už ale neplatí.  \n",
    "Nejprve se podívejme na situaci bez *re.I*:"
   ]
  },
  {
   "cell_type": "code",
   "execution_count": 5,
   "metadata": {
    "ExecuteTime": {
     "end_time": "2020-05-01T15:05:42.304864Z",
     "start_time": "2020-05-01T15:05:42.294894Z"
    }
   },
   "outputs": [
    {
     "name": "stdout",
     "output_type": "stream",
     "text": [
      "Pattern not present\n"
     ]
    }
   ],
   "source": [
    "flag_i_not_present = re.search(\"ABCD\", \"abcd\")\n",
    "if flag_i_not_present:\n",
    "    print(flag_i_not_present.group())\n",
    "else:\n",
    "    print(\"Pattern not present\")"
   ]
  },
  {
   "cell_type": "markdown",
   "metadata": {},
   "source": [
    "Nyní flag přítomen je:"
   ]
  },
  {
   "cell_type": "code",
   "execution_count": 6,
   "metadata": {
    "ExecuteTime": {
     "end_time": "2020-05-07T19:01:44.991781Z",
     "start_time": "2020-05-07T19:01:44.986790Z"
    }
   },
   "outputs": [
    {
     "name": "stdout",
     "output_type": "stream",
     "text": [
      "abcd\n"
     ]
    }
   ],
   "source": [
    "flag_i_present = re.search(\"ABCD\", \"abcd\", re.I)\n",
    "if flag_i_present:\n",
    "    print(flag_i_present.group())\n",
    "else:\n",
    "    print(\"Pattern not present\")"
   ]
  },
  {
   "cell_type": "markdown",
   "metadata": {},
   "source": [
    "Z dalších flagů krátce zmiňme \n",
    "- re.S (re.DOTALL) - tečka zastupuje i \"znak\" nového řádku (defaultně tečka zastupuje všechno kromě onoho znaku).\n",
    "- re.M (re.MULTILINE) - stříška a dolar zastupují nejen začátek a konec celého textu, ale i začátek a konec řádky.\n",
    "\n",
    "Příklady jejich použítí ukážeme při diskutování s nimi spojených znaků."
   ]
  },
  {
   "cell_type": "markdown",
   "metadata": {},
   "source": [
    "Pokud chceme použít naráz více flagů, musíme mezi ně vložit pipu \"|\" (pravý alt + W):"
   ]
  },
  {
   "cell_type": "code",
   "execution_count": 14,
   "metadata": {
    "ExecuteTime": {
     "end_time": "2020-05-01T15:11:43.737116Z",
     "start_time": "2020-05-01T15:11:43.727145Z"
    }
   },
   "outputs": [
    {
     "name": "stdout",
     "output_type": "stream",
     "text": [
      "abcd\n"
     ]
    }
   ],
   "source": [
    "flags_matched = re.search(\"ABCD\", \"abcd\", re.I|re.S)\n",
    "if flags_matched:\n",
    "    print(flags_matched.group())\n",
    "else:\n",
    "    print(\"Pattern not present\")"
   ]
  },
  {
   "cell_type": "markdown",
   "metadata": {},
   "source": [
    "### Speciální znaky v regulárních výrazech"
   ]
  },
  {
   "cell_type": "markdown",
   "metadata": {},
   "source": [
    "#### Tečka a funkce findall a finditer\n",
    "Pakliže bychom potřebovali nalézt v textu jedno konkrétně specifikované slovo, asi bychom o regulárních výrazech vůbec neuvažovali. Představme si proto situaci, kdy chceme nalézt všechna slova tvořená pěti písmeny, za kterými bezprostředně následuje vykřičník. V takovém případě použijeme třeba tečku (přesněji tedy pět teček následovaným vykričníkem) - ta zastoupí jakýkoli znak kromě nového řádku. Pokud přidáme flag *re.S*, zastoupí i nový řádek. "
   ]
  },
  {
   "cell_type": "code",
   "execution_count": 7,
   "metadata": {
    "ExecuteTime": {
     "end_time": "2020-05-07T19:04:23.688528Z",
     "start_time": "2020-05-07T19:04:23.682577Z"
    }
   },
   "outputs": [
    {
     "name": "stdout",
     "output_type": "stream",
     "text": [
      "while!\n"
     ]
    }
   ],
   "source": [
    "five_letter_word_matched = re.search(\".....!\", original_text)\n",
    "if five_letter_word_matched:\n",
    "    print(five_letter_word_matched.group())\n",
    "else:\n",
    "    print(\"Nothing has been found!\")"
   ]
  },
  {
   "cell_type": "markdown",
   "metadata": {},
   "source": [
    "Vidíme, že vskutku bylo nalezelo pětipísmené slovo následované vykřičníkem. Jenže... v textu jsou přece taková slova minimálně dvě - kromě \"while\" je tam i \"there\". *Search* totiž najde pouze první výskyt patternu. Pokud chceme všechny výskyty, musíme použít *findall*. Ten nevrací Match objekt, ale list stringů. Pokud pattern není v textu nalezen, vrátí se list prázdný."
   ]
  },
  {
   "cell_type": "code",
   "execution_count": 8,
   "metadata": {
    "ExecuteTime": {
     "end_time": "2020-05-07T19:04:39.304878Z",
     "start_time": "2020-05-07T19:04:39.300886Z"
    }
   },
   "outputs": [
    {
     "name": "stdout",
     "output_type": "stream",
     "text": [
      "['while!', ' fair!', 'there!', 'or me!']\n"
     ]
    }
   ],
   "source": [
    "five_letter_word_matched_2 = re.findall(\".....!\", original_text)\n",
    "print(five_letter_word_matched_2)"
   ]
  },
  {
   "cell_type": "markdown",
   "metadata": {
    "ExecuteTime": {
     "end_time": "2020-04-28T18:51:24.825245Z",
     "start_time": "2020-04-28T18:51:24.817230Z"
    }
   },
   "source": [
    "Vidíme, že jsme se trochu přepočítali - tečka totiž zastupuje jakýkoli znak - včetně **mezery**. K tomuto problému se vrátíme za chvíli, nyní se ještě věnujme funkcím. Co kdybychom totiž potřebovali všechny výskyty patternu a současně bychom nechtěli stringy, ale Match objekty? V takovém případě použijeme funkci *finditer*. Ta vrátí iterátor jdoucí přes všechny (nepřekrývající se) blížence patternu v textu."
   ]
  },
  {
   "cell_type": "code",
   "execution_count": 9,
   "metadata": {
    "ExecuteTime": {
     "end_time": "2020-05-07T19:08:41.702644Z",
     "start_time": "2020-05-07T19:08:41.697656Z"
    }
   },
   "outputs": [
    {
     "name": "stdout",
     "output_type": "stream",
     "text": [
      "while!\n",
      " fair!\n",
      "there!\n",
      "or me!\n"
     ]
    }
   ],
   "source": [
    "five_letter_word_matched_3 = re.finditer(\".....!\", original_text)\n",
    "for match_object in five_letter_word_matched_3:\n",
    "    print(match_object.group())"
   ]
  },
  {
   "cell_type": "markdown",
   "metadata": {
    "ExecuteTime": {
     "end_time": "2020-04-28T18:59:23.524276Z",
     "start_time": "2020-04-28T18:59:23.518295Z"
    }
   },
   "source": [
    "Mohlo by nás napadnout, co dělat, když chceme mít v patternu \"normální\" znak tečky. V takovém případě ji musíme stejně jako další podobné speciální znaky odescapovat pomocí zpětného lomítka. Jelikož je ale zpětné lomítko speciální znak pro samotný Python, musí se zde psát zpětné lomítka dvě. Python na ně narazí a zprocesuje je - výsledkem je jedno zpětné lomítko. To pak využijí regulární výrazy. V tomhle konkrétním příkladě by pravda stačilo použít jen jedno lomítku, jelikož v Pythonu samotném nemá \"\\\\.\" narozdíl například od \"\\n\" žádný speciální význam. Nicméně je lepší na takovouto náhodu nespoléhat."
   ]
  },
  {
   "cell_type": "code",
   "execution_count": 9,
   "metadata": {
    "ExecuteTime": {
     "end_time": "2020-05-07T19:09:00.542709Z",
     "start_time": "2020-05-07T19:09:00.537722Z"
    }
   },
   "outputs": [
    {
     "name": "stdout",
     "output_type": "stream",
     "text": [
      "thing.\n",
      "Abcde.\n",
      " Hm...\n"
     ]
    }
   ],
   "source": [
    "five_letter_word_dot_matched = re.finditer(\".....\\\\.\", \"Something. Hm. Abcde. Hm....\")\n",
    "for match_object in five_letter_word_dot_matched:\n",
    "    print(match_object.group())"
   ]
  },
  {
   "cell_type": "markdown",
   "metadata": {
    "ExecuteTime": {
     "end_time": "2020-04-28T18:58:40.854924Z",
     "start_time": "2020-04-28T18:58:40.845945Z"
    }
   },
   "source": [
    "#### Bílé znaky\n",
    "No, je vidět, že se musíme naučit, kterak do patternu zanést bílé znaky. Tímto označením myslíme mezery, tabulátory, znaky nových řádků atd. Ty jsou všechny v regexech zastoupeny prostřednictvím značky \"\\s\". Zkusme s její pomocí opravit hledání pětipísmenového slova následovaného vykřičníkem."
   ]
  },
  {
   "cell_type": "code",
   "execution_count": 10,
   "metadata": {
    "ExecuteTime": {
     "end_time": "2020-04-28T19:13:49.346019Z",
     "start_time": "2020-04-28T19:13:49.340033Z"
    }
   },
   "outputs": [
    {
     "name": "stdout",
     "output_type": "stream",
     "text": [
      " while!\n",
      " there!\n"
     ]
    }
   ],
   "source": [
    "really_five_letter_word_matched = re.finditer(\"\\\\s.....!\", original_text)\n",
    "for match_object in really_five_letter_word_matched:\n",
    "    print(match_object.group())"
   ]
  },
  {
   "cell_type": "markdown",
   "metadata": {
    "ExecuteTime": {
     "end_time": "2020-04-28T19:14:50.855446Z",
     "start_time": "2020-04-28T19:14:50.848428Z"
    }
   },
   "source": [
    "Sláva, funguje to!  \n",
    "Zmiňme nakonec, že existuje i komplementární \"\\S\". To zastoupí cokoli, co **není** bílý znak."
   ]
  },
  {
   "cell_type": "markdown",
   "metadata": {},
   "source": [
    "#### Písmena a číslice\n",
    "Pakliže existuje speciální \"znak\" pro znaky bíle, není k mání něco podobného pro písmena a číslice? Inu, kdyby nebylo, tak takto odstavec nezačínáme. Cifry (tj. 0 až 9) zastupuje \"\\d\". Striktně pro písmena nic neexistuje. Máme sice k dispozici \"\\w\", do něho ale kromě písmen (velkých, malých a defaultně i českých) patří i cifry a podtržítko. To vidíme na následujícím příkladu:"
   ]
  },
  {
   "cell_type": "code",
   "execution_count": 11,
   "metadata": {
    "ExecuteTime": {
     "end_time": "2020-04-28T19:23:01.279616Z",
     "start_time": "2020-04-28T19:23:01.272634Z"
    }
   },
   "outputs": [
    {
     "name": "stdout",
     "output_type": "stream",
     "text": [
      " ab\n",
      " 12\n",
      " an\n",
      " 3E\n",
      " čš\n",
      " _ý\n",
      " __\n"
     ]
    }
   ],
   "source": [
    "two_w_matched = re.finditer(\"\\\\s\\\\w\\\\w\", \"something ab 12 anything 3E čš _ý __\")\n",
    "for match_object in two_w_matched:\n",
    "    print(match_object.group())"
   ]
  },
  {
   "cell_type": "markdown",
   "metadata": {},
   "source": [
    "Podobně jako u \"\\s\" existují i pro \"\\d\" a \"\\w\" komplementární \"\\D\" a \"\\W\"."
   ]
  },
  {
   "cell_type": "markdown",
   "metadata": {},
   "source": [
    "### Hranaté závorky alias explicitní výběr\n",
    "Nicméně fakt, že písmena nemají svého vlastního zástupce, by nás neměl zastavit. Lze si totiž manuálně vytvořit množinu potenciálně použitelných znaků. Ty se napíšou bez jakéhokoli oddělování do hranatých závorek. Příklad:"
   ]
  },
  {
   "cell_type": "code",
   "execution_count": 12,
   "metadata": {
    "ExecuteTime": {
     "end_time": "2020-04-28T19:27:19.528042Z",
     "start_time": "2020-04-28T19:27:19.522057Z"
    }
   },
   "outputs": [
    {
     "name": "stdout",
     "output_type": "stream",
     "text": [
      "sad\n",
      "mad\n"
     ]
    }
   ],
   "source": [
    "sad_mad_matched = re.finditer(\"[sm]ad\", \"Am I sad or am I mad?\")\n",
    "for match_object in sad_mad_matched:\n",
    "    print(match_object.group())"
   ]
  },
  {
   "cell_type": "markdown",
   "metadata": {},
   "source": [
    "Tudíž pakliže bychom chtěli mít zástupce jen a pouze pro písmena, uvedli bychom je všechna explicitně do hranatých závorek. No... takovýto přístup by fungoval, ale moc elegantní by to nebylo. Naštěstí do hranatých závorek se dají psát s pomocí znaku \"-\" i rozsahy podle ASCII/Unicode tabulky. Všechny písmena bez diakritiky tak zastupuje [a-zA-Z], s diakritikou pak:"
   ]
  },
  {
   "cell_type": "code",
   "execution_count": 2,
   "metadata": {
    "ExecuteTime": {
     "end_time": "2020-04-28T19:40:00.356361Z",
     "start_time": "2020-04-28T19:40:00.350263Z"
    }
   },
   "outputs": [
    {
     "name": "stdout",
     "output_type": "stream",
     "text": [
      "ab\n",
      "De\n",
      "šč\n"
     ]
    }
   ],
   "source": [
    "two_letters_matched = re.finditer(\"[a-zA-Zá-žÁ-Ž][a-zA-Zá-žÁ-Ž]\", \"ab 3c De šč\")\n",
    "for match_object in two_letters_matched:\n",
    "    print(match_object.group())"
   ]
  },
  {
   "cell_type": "markdown",
   "metadata": {},
   "source": [
    "Mohlo by Vás napadnout, co dělat, když chceme mít v množině znaků mínus anebo zavírající hranatou závorku. Jde to, jen se musí tyhle speciální znaky zpětným lomítkem odescapovat:"
   ]
  },
  {
   "cell_type": "code",
   "execution_count": 3,
   "metadata": {
    "ExecuteTime": {
     "end_time": "2020-04-29T18:15:22.609141Z",
     "start_time": "2020-04-29T18:15:22.599170Z"
    }
   },
   "outputs": [
    {
     "name": "stdout",
     "output_type": "stream",
     "text": [
      "ab\n",
      "p-\n",
      "o]\n"
     ]
    }
   ],
   "source": [
    "two_letters_matched_2 = re.finditer(\"[a-zA-Z\\\\]\\\\-][a-zA-Z\\\\]\\\\-]\", \"ab p- o]\")\n",
    "for match_object in two_letters_matched_2:\n",
    "    print(match_object.group())"
   ]
  },
  {
   "cell_type": "markdown",
   "metadata": {},
   "source": [
    "V hranatých závorkách se mohou objevit i znaky, které mají v regulárích výrazech specifický význam, například hvězdička, tečka či otazník. V takovém případě tu jsou tyto znaky ale samy za sebe a speciální význam nemají. Escapování tak není potřeba."
   ]
  },
  {
   "cell_type": "code",
   "execution_count": 15,
   "metadata": {
    "ExecuteTime": {
     "end_time": "2020-04-29T18:32:31.708651Z",
     "start_time": "2020-04-29T18:32:31.699711Z"
    }
   },
   "outputs": [
    {
     "name": "stdout",
     "output_type": "stream",
     "text": [
      "ab\n",
      "p?\n",
      ".u\n"
     ]
    }
   ],
   "source": [
    "special_chars_matched = re.finditer(\"[a-zA-Z.?][a-zA-Z.?]\", \"ab p? o5 .u\")\n",
    "for match_object in special_chars_matched:\n",
    "    print(match_object.group())"
   ]
  },
  {
   "cell_type": "markdown",
   "metadata": {},
   "source": [
    "V množině znaků se můžou objevit i věci typu \"\\d\" či \"\\w\""
   ]
  },
  {
   "cell_type": "code",
   "execution_count": 16,
   "metadata": {
    "ExecuteTime": {
     "end_time": "2020-04-29T19:00:22.030074Z",
     "start_time": "2020-04-29T19:00:22.022095Z"
    }
   },
   "outputs": [
    {
     "name": "stdout",
     "output_type": "stream",
     "text": [
      "45\n",
      ".1\n"
     ]
    }
   ],
   "source": [
    "special_chars_matched_2 = re.finditer(\"[\\\\d.][\\\\d.]\", \"ab 45 o5 .1\")\n",
    "for match_object in special_chars_matched_2:\n",
    "    print(match_object.group())"
   ]
  },
  {
   "cell_type": "markdown",
   "metadata": {
    "ExecuteTime": {
     "end_time": "2020-04-29T19:08:21.137219Z",
     "start_time": "2020-04-29T19:08:21.123253Z"
    }
   },
   "source": [
    "Co ale máme udělat, když chceme specifikovat množinu znaků, které **NE**chceme? V takovém případě musíme bezprostředně za otevírací hranatou závorku napsat stříšku, tj. ^. Pakliže bychom ji napsali až jako druhou, ztratila by svůj speciální význam a brala by se jako normální znak.  \n",
    "V příkladě hledáme mezeru následovanou libovolným znakem kromě 1, 3 a 5; poté následuje libovolné číslo."
   ]
  },
  {
   "cell_type": "code",
   "execution_count": 19,
   "metadata": {
    "ExecuteTime": {
     "end_time": "2020-04-29T19:13:46.986817Z",
     "start_time": "2020-04-29T19:13:46.978838Z"
    }
   },
   "outputs": [
    {
     "name": "stdout",
     "output_type": "stream",
     "text": [
      " 45\n",
      " 65\n"
     ]
    }
   ],
   "source": [
    "forbidden_chars_matched = re.finditer(\"\\\\s[^135][\\\\d]\", \" 12 45 65 31\")\n",
    "for match_object in forbidden_chars_matched:\n",
    "    print(match_object.group())"
   ]
  },
  {
   "cell_type": "markdown",
   "metadata": {},
   "source": [
    "### Specifikování počtu znaků"
   ]
  },
  {
   "cell_type": "markdown",
   "metadata": {},
   "source": [
    "Při demonstranci možností tečky coby speciálního regexovského znaku jsme pro pětipísmené slovo těch teček napsali pět. Takto ručně zadávat znak po znaku by bylo únavné a hlavně by podobný postup vedl ke zbytečným chybám. Naštěstí počet znaků můžeme specifikovat pomocí složených závorek, do nichž se ono číslo zapíše. Samotné složené závorky pak těsně následují za znakem, ke kterému se vážou.  \n",
    "V příkladu chceme nalézt všechny řetězce, které se skládají z pětí písmen/číslic/podtržítek a za nimiž následuje vykřičník."
   ]
  },
  {
   "cell_type": "code",
   "execution_count": 20,
   "metadata": {
    "ExecuteTime": {
     "end_time": "2020-04-29T19:18:14.406266Z",
     "start_time": "2020-04-29T19:18:14.398287Z"
    }
   },
   "outputs": [
    {
     "name": "stdout",
     "output_type": "stream",
     "text": [
      "while!\n",
      "there!\n"
     ]
    }
   ],
   "source": [
    "five_letter_word_matched_again = re.finditer(\"\\\\w{5}!\", original_text)\n",
    "for match_object in five_letter_word_matched_again:\n",
    "    print(match_object.group())"
   ]
  },
  {
   "cell_type": "markdown",
   "metadata": {},
   "source": [
    "Pokud chceme specifikovat nikoli přesný počet znaků, nýbrž interval jejich počtu, opět použijeme složené závorky. Do nich uvedeme počátek a konec intervalu oddělené čárkou.  \n",
    "V příkladu hledáme řetězce, kde se před vykřičníkem nalézá 4 až 6 (oboje včetně) písmen/číslic/podtržítek."
   ]
  },
  {
   "cell_type": "code",
   "execution_count": 21,
   "metadata": {
    "ExecuteTime": {
     "end_time": "2020-04-29T19:23:04.150876Z",
     "start_time": "2020-04-29T19:23:04.142900Z"
    }
   },
   "outputs": [
    {
     "name": "stdout",
     "output_type": "stream",
     "text": [
      "while!\n",
      "fair!\n",
      "there!\n"
     ]
    }
   ],
   "source": [
    "four_to_six_letter_word_matched = re.finditer(\"\\\\w{4,6}!\", original_text)\n",
    "for match_object in four_to_six_letter_word_matched:\n",
    "    print(match_object.group())"
   ]
  },
  {
   "cell_type": "markdown",
   "metadata": {},
   "source": [
    "Pakliže bychom chtěli regexovému enginu říci, že určitý znak se vyskytuje jednou nebo vůbec, mohli bychom psát {0,1}. Nicméně tento velice častý případ má svůj vlastní speciální znak - otazník. Ten je \"greedy\", tj. pokud to jen trochu jde, pokusí se onen jeden znak matchnout.    \n",
    "V příkladu se snažíme zjistit, zda se v textu vyskytuje slovo \"hand\", jedno jestli v jednotném či v množném čísle."
   ]
  },
  {
   "cell_type": "code",
   "execution_count": 22,
   "metadata": {
    "ExecuteTime": {
     "end_time": "2020-04-29T19:28:06.442866Z",
     "start_time": "2020-04-29T19:28:06.433890Z"
    }
   },
   "outputs": [
    {
     "name": "stdout",
     "output_type": "stream",
     "text": [
      "hands\n"
     ]
    }
   ],
   "source": [
    "hand_hands_matched = re.finditer(\"hands?\", original_text)\n",
    "for match_object in hand_hands_matched:\n",
    "    print(match_object.group())"
   ]
  },
  {
   "cell_type": "markdown",
   "metadata": {},
   "source": [
    "Zde se otazník vztahoval pouze k písmenu s. Nicméně vypustit ho můžeme i na skupinu znaků - pokud je předtím umístíme do kulatých závorek. Například pokud bychom chtěli matchnout jak \"pass\", tak \"passing\", použijeme"
   ]
  },
  {
   "cell_type": "code",
   "execution_count": 23,
   "metadata": {
    "ExecuteTime": {
     "end_time": "2020-04-29T19:32:37.850166Z",
     "start_time": "2020-04-29T19:32:37.841189Z"
    }
   },
   "outputs": [
    {
     "name": "stdout",
     "output_type": "stream",
     "text": [
      "passing\n"
     ]
    }
   ],
   "source": [
    "pass_passing_matched = re.finditer(\"pass(ing)?\", original_text)\n",
    "for match_object in pass_passing_matched:\n",
    "    print(match_object.group())"
   ]
  },
  {
   "cell_type": "markdown",
   "metadata": {},
   "source": [
    "Velice často budeme chtít v patternech použít určitý znak či skupinu znaků libovolněkrát a to klidně i nulakrát. V takovém případě za znak/skupinu znaků napíšeme hvězdičku.  \n",
    "V příkladu níže hledáme všechna slova (s libovolným počtem písmen), za kterými následuje čárka."
   ]
  },
  {
   "cell_type": "code",
   "execution_count": 24,
   "metadata": {
    "ExecuteTime": {
     "end_time": "2020-04-29T19:37:27.214536Z",
     "start_time": "2020-04-29T19:37:27.202564Z"
    }
   },
   "outputs": [
    {
     "name": "stdout",
     "output_type": "stream",
     "text": [
      "feet,\n",
      "bell,\n",
      "free,\n",
      "stop,\n",
      "still,\n"
     ]
    }
   ],
   "source": [
    "before_comma_matched = re.finditer(\"\\\\w*,\", original_text)\n",
    "for match_object in before_comma_matched:\n",
    "    print(match_object.group())"
   ]
  },
  {
   "cell_type": "markdown",
   "metadata": {},
   "source": [
    "Nakonec existuje i speciální znak *+*, který říká, že jemu předcházející znak se může objevit libovolněkrát, avšak aspoň jednou."
   ]
  },
  {
   "cell_type": "markdown",
   "metadata": {},
   "source": [
    "Značky + a * jsou stejně jako otazník \"greedy\", tj. snaží se namatchovat co možná nejdelší část textu. Někdy ale takové chování není chtěné. Představme si například, že bychom chtěli regulárními výrazy získat obsah nějakého tagu a měli k dispozici text \"&lt;a&gt; b &lt;c&gt;\".  \n",
    "Při použití greedy klasifikátorů si můžeme představovat, že se klasifikátor chytne na první znak &lt; a posléze při matchování .* do onoho klasifikátoru vloží celý zbytek stringu včetně &gt;. Pak kontroluje poslední znak patternu, kde má znak &gt;. Regex engine koukne na string a zjišťuje, že mu už žádný znak k matchnutí nezbývá. Donutí tedy hvězdičku jeden znak vrátit. Jelikož to bude právě &gt; poslední znak patternu se úspěšně matchne."
   ]
  },
  {
   "cell_type": "code",
   "execution_count": 26,
   "metadata": {
    "ExecuteTime": {
     "end_time": "2020-04-30T19:16:28.002141Z",
     "start_time": "2020-04-30T19:16:27.996107Z"
    }
   },
   "outputs": [
    {
     "name": "stdout",
     "output_type": "stream",
     "text": [
      "<a> b <c>\n"
     ]
    }
   ],
   "source": [
    "too_greedy_match = re.finditer(\"<.*>\", \"<a> b <c>\")\n",
    "for match_object in too_greedy_match:\n",
    "    print(match_object.group())"
   ]
  },
  {
   "cell_type": "markdown",
   "metadata": {
    "ExecuteTime": {
     "end_time": "2020-04-30T19:14:08.595452Z",
     "start_time": "2020-04-30T19:14:08.589472Z"
    }
   },
   "source": [
    "Jenže my chtěli získat opravdu jen ony tagy, tj. &lt;a&gt; a &lt;c&gt;. K tomu použijeme líný kvantifikátor, který si nevezme maximum, ale minimum možného. Líné kvantifikátory hvězdy a plusu se jinak chovají jako jejich hltavé protějšky. Do patternu se zapíší jako *? a +?.  \n",
    "K příkladu je ještě vhodné zdůraznit, že pokud bychom vynechali v patternu uzavírací zobáček, líná hvězdička by nematchla nic a výsledkem by byly by matche jen a pouze znaku &lt;."
   ]
  },
  {
   "cell_type": "code",
   "execution_count": 27,
   "metadata": {
    "ExecuteTime": {
     "end_time": "2020-05-07T19:19:04.020346Z",
     "start_time": "2020-05-07T19:19:04.014328Z"
    }
   },
   "outputs": [
    {
     "name": "stdout",
     "output_type": "stream",
     "text": [
      "<a>\n",
      "<c>\n"
     ]
    }
   ],
   "source": [
    "too_greedy_match = re.finditer(\"<.*?>\", \"<a> b <c>\")\n",
    "for match_object in too_greedy_match:\n",
    "    print(match_object.group())"
   ]
  },
  {
   "cell_type": "markdown",
   "metadata": {},
   "source": [
    "### OR pattern\n",
    "Je možné, že budeme potřebovat namatchovat text buďto jednoho, nebo druhého tvaru. V takovém případě oba potenciální patternny oddělíme pipou, tj. tímto: \"|\" (pravý alt + W). Na příkladu níže vidíme, že i bez použití závorek se bere vše, co je po stranách pipy, a nikoli jen jeden znak nalevo a jeden znak napravo od ní. "
   ]
  },
  {
   "cell_type": "code",
   "execution_count": 28,
   "metadata": {
    "ExecuteTime": {
     "end_time": "2020-05-07T19:21:27.447972Z",
     "start_time": "2020-05-07T19:21:27.442985Z"
    }
   },
   "outputs": [
    {
     "name": "stdout",
     "output_type": "stream",
     "text": [
      " fair!\n",
      " feet,\n",
      " free,\n",
      " stop,\n"
     ]
    }
   ],
   "source": [
    "or_match = re.finditer(\"\\\\s\\\\w{4}!|\\\\s\\\\w{4},\", original_text)\n",
    "for match_object in or_match:\n",
    "    print(match_object.group())"
   ]
  },
  {
   "cell_type": "markdown",
   "metadata": {},
   "source": [
    "V příkladu byly patterny v ORu vzájemně neslučitelné - každé slovo je bezprostředně následováno čárkou anebo vykřičníkem, nikoli obojím. Co ale nastane, když by mohly platit patterny oba? Zkusme regexovému enginu říci, že hledáme buďto slovo \"shackle\", anebo slovo \"shackles\". V textu je to druhé. Vidíme ale, že nalezen byl blíženec patternu prvního. To proto, že pokud je první složka ORu úspěšně matchnuta, druhá už není kontrolována a to ani když by vedla k delšími matchi. Dá se tedy říci, že kvantifikátor OR je vždy líný."
   ]
  },
  {
   "cell_type": "code",
   "execution_count": 29,
   "metadata": {
    "ExecuteTime": {
     "end_time": "2020-05-01T07:50:54.532640Z",
     "start_time": "2020-05-01T07:50:54.527660Z"
    }
   },
   "outputs": [
    {
     "name": "stdout",
     "output_type": "stream",
     "text": [
      "shackle\n"
     ]
    }
   ],
   "source": [
    "or_match = re.finditer(\"shackle|shackles\", original_text)\n",
    "for match_object in or_match:\n",
    "    print(match_object.group())"
   ]
  },
  {
   "cell_type": "markdown",
   "metadata": {},
   "source": [
    "### Začátek a konec stringu/řádky\n",
    "Když chceme v patternu říci, že něco následuje bezprostředně po začátku textu, použijeme značku pro tento začátek - stříšku. Obdobně konec textu se označí dolarem."
   ]
  },
  {
   "cell_type": "code",
   "execution_count": 22,
   "metadata": {
    "ExecuteTime": {
     "end_time": "2020-05-01T08:28:05.835517Z",
     "start_time": "2020-05-01T08:28:05.830518Z"
    }
   },
   "outputs": [
    {
     "name": "stdout",
     "output_type": "stream",
     "text": [
      "If\n"
     ]
    }
   ],
   "source": [
    "start_string_match = re.finditer(\"^\\\\w*\", original_text)\n",
    "for match_object in start_string_match:\n",
    "    print(match_object.group())"
   ]
  },
  {
   "cell_type": "markdown",
   "metadata": {},
   "source": [
    "Obvykle ale budeme chtít mít v patternu zanesený nikoli začátek celého textu, ale začátek řádku. V takovém případě musíme použít flag MULTILINE."
   ]
  },
  {
   "cell_type": "code",
   "execution_count": 35,
   "metadata": {
    "ExecuteTime": {
     "end_time": "2020-05-01T08:28:03.435303Z",
     "start_time": "2020-05-01T08:28:03.428309Z"
    }
   },
   "outputs": [
    {
     "name": "stdout",
     "output_type": "stream",
     "text": [
      "If\n",
      "Tarry\n",
      "Then\n",
      "Then\n",
      "Then\n",
      "Then\n",
      "And\n"
     ]
    }
   ],
   "source": [
    "start_string_match = re.finditer(\"^\\\\w*\", original_text, re.MULTILINE)\n",
    "for match_object in start_string_match:\n",
    "    print(match_object.group())"
   ]
  },
  {
   "cell_type": "markdown",
   "metadata": {},
   "source": [
    "### Začátek a konec slova\n",
    "Podobně jako pro začátek stringu/řádky máme i speciální znak pro začátek a konec slova. Zde se v obou případech používá \"\\b\". De facto tak zajišťuje podporu pro vyhledávání celých slov. Formálně je \"\\b\" zadefinované jako hranice mezi znakem typu \"\\w\" a znakem typu \"\\W\", resp. začátkem/koncem prohledávaného textu.  \n",
    "V příkladu níže lze nalézt řetězec \"konec\" jak ve slově \"konec\", tak ve slově \"koneckonců\", a jsou tak nalezeny dvě shody."
   ]
  },
  {
   "cell_type": "code",
   "execution_count": 36,
   "metadata": {
    "ExecuteTime": {
     "end_time": "2020-05-01T15:29:11.187972Z",
     "start_time": "2020-05-01T15:29:11.180961Z"
    }
   },
   "outputs": [
    {
     "name": "stdout",
     "output_type": "stream",
     "text": [
      "konec\n",
      "konec\n"
     ]
    }
   ],
   "source": [
    "without_word_boundary_match = re.finditer(\"konec\", \"koneckonců konec ještě neskončil\")\n",
    "for match_object in without_word_boundary_match:\n",
    "    print(match_object.group())"
   ]
  },
  {
   "cell_type": "markdown",
   "metadata": {
    "ExecuteTime": {
     "end_time": "2020-05-01T15:32:48.419385Z",
     "start_time": "2020-05-01T15:32:48.411403Z"
    }
   },
   "source": [
    "S použitím \"\\b\" už je nález jediný."
   ]
  },
  {
   "cell_type": "code",
   "execution_count": 37,
   "metadata": {
    "ExecuteTime": {
     "end_time": "2020-05-08T09:47:09.028501Z",
     "start_time": "2020-05-08T09:47:09.020524Z"
    }
   },
   "outputs": [
    {
     "name": "stdout",
     "output_type": "stream",
     "text": [
      "konec\n"
     ]
    }
   ],
   "source": [
    "with_word_boundary_match = re.finditer(\"\\\\bkonec\\\\b\", \"koneckonců konec ještě neskončil\")\n",
    "for match_object in with_word_boundary_match:\n",
    "    print(match_object.group())"
   ]
  },
  {
   "cell_type": "markdown",
   "metadata": {},
   "source": [
    "### Grupy\n",
    "Na začátku kapitoly jsme hledali slova, po kterých následuje vykřičník. Slova se nám sice na výstupu objevila, ale bohužel i s vykřičníkem. Co dělat, když ten ve výsledku hledání nechceme? Lze použít grupy. Jedná se de facto o uzávorkování určité části patternu."
   ]
  },
  {
   "cell_type": "code",
   "execution_count": 38,
   "metadata": {
    "ExecuteTime": {
     "end_time": "2020-05-01T15:47:14.010125Z",
     "start_time": "2020-05-01T15:47:14.001176Z"
    }
   },
   "outputs": [
    {
     "name": "stdout",
     "output_type": "stream",
     "text": [
      "while!\n",
      "fair!\n",
      "there!\n",
      "me!\n"
     ]
    }
   ],
   "source": [
    "group_zero_match = re.finditer(\"(\\\\b\\\\w+\\\\b)!\", original_text)\n",
    "for match_object in group_zero_match:\n",
    "    print(match_object.group())"
   ]
  },
  {
   "cell_type": "markdown",
   "metadata": {},
   "source": [
    "Závorkování jsme použili, ale výsledek je stejný! Kde se stala chyba? Defaultně se nám vytiskla grupa 0, ve které je zahrnut celý pattern. Když chceme pouze obsah n-té závorky, musíme číslo n napsat do funkce *group*. "
   ]
  },
  {
   "cell_type": "code",
   "execution_count": 34,
   "metadata": {
    "ExecuteTime": {
     "end_time": "2020-05-01T15:47:15.041991Z",
     "start_time": "2020-05-01T15:47:15.033072Z"
    }
   },
   "outputs": [
    {
     "name": "stdout",
     "output_type": "stream",
     "text": [
      "while\n",
      "fair\n",
      "there\n",
      "me\n"
     ]
    }
   ],
   "source": [
    "group_one_match = re.finditer(\"(\\\\b\\\\w+\\\\b)!\", original_text)\n",
    "for match_object in group_one_match:\n",
    "    print(match_object.group(1))"
   ]
  },
  {
   "cell_type": "markdown",
   "metadata": {},
   "source": [
    "Na čísla grup se lze odkazovat i v samotném patternu. To je užitečné nejen pro změnšení počtu úderů do klávesnice. Představme si, že v rámci odhalování překlepů chceme najít všechny dvojice těsně za sebou následujících stejných slov. Pro jedno slovo by se dalo použít následující:  "
   ]
  },
  {
   "cell_type": "code",
   "execution_count": 39,
   "metadata": {
    "ExecuteTime": {
     "end_time": "2020-05-01T15:51:16.521887Z",
     "start_time": "2020-05-01T15:51:16.514867Z"
    }
   },
   "outputs": [
    {
     "name": "stdout",
     "output_type": "stream",
     "text": [
      "what what\n"
     ]
    }
   ],
   "source": [
    "duplicated_what_match = re.finditer(\"\\\\bwhat\\\\b\\\\s+\\\\bwhat\\\\b\", \"something anything what what so we we\")\n",
    "for match_object in duplicated_what_match:\n",
    "    print(match_object.group())"
   ]
  },
  {
   "cell_type": "markdown",
   "metadata": {},
   "source": [
    "Nicméně takovouto operaci nemůžeme provádět pro každé slovo ze slovníku. To, co můžeme provést, je odkaz na obsah grupy a to pomocí zpětného lomítka a čísla grupy. Zdůrazněme, že odkaz se odkazuje na skutečný obsah grupy v době běhu regexového enginu a ne pouze na obecný předpis v patternu."
   ]
  },
  {
   "cell_type": "code",
   "execution_count": 41,
   "metadata": {
    "ExecuteTime": {
     "end_time": "2020-05-07T19:25:31.554983Z",
     "start_time": "2020-05-07T19:25:31.548966Z"
    }
   },
   "outputs": [
    {
     "name": "stdout",
     "output_type": "stream",
     "text": [
      "what\n",
      "we\n"
     ]
    }
   ],
   "source": [
    "duplicated_word_match = re.finditer(\"(\\\\b\\\\w+\\\\b)\\\\s+\\\\1\", \"something anything what what so we we\")\n",
    "for match_object in duplicated_word_match:\n",
    "    print(match_object.group(1))"
   ]
  },
  {
   "cell_type": "markdown",
   "metadata": {},
   "source": [
    "Grupy se hodí i k organizaci a zpřehlednění patternů například u ORu. Asi ještě důležitejší však je, že celá grupa může být najednou ovlivněna znaky typu otazníku, plusu či hvězdy. V takovém případě se ale může stát, že nás obsah každé jednotlivé z nich nezajímá a jen bychom museli v hlavě držet zbytečně mnoho čísel a vědět, která jsou relevantní a která ne.  \n",
    "V příkladu bychom chtěli matchnout první a druhé slovo od začátku prohledávaného textu. Jenže bohužel regexový engine bere jako první grupu tu obě slova obsahující. "
   ]
  },
  {
   "cell_type": "code",
   "execution_count": 42,
   "metadata": {
    "ExecuteTime": {
     "end_time": "2020-05-01T16:13:36.248172Z",
     "start_time": "2020-05-01T16:13:36.238163Z"
    }
   },
   "outputs": [
    {
     "name": "stdout",
     "output_type": "stream",
     "text": [
      "First group:  If the ; Second group:  If\n"
     ]
    }
   ],
   "source": [
    "too_many_groups_match = re.finditer(\"^((\\\\b\\\\w+\\\\b)\\\\s+(\\\\b\\\\w+\\\\b))\", original_text)\n",
    "for match_object in too_many_groups_match:\n",
    "    print(\"First group: \", match_object.group(1), \"; Second group: \", match_object.group(2))"
   ]
  },
  {
   "cell_type": "markdown",
   "metadata": {},
   "source": [
    "Naštěstí se enginu dá říci, že danou grupu chceme z číslování vyřadit. To se provede tak, že těsně za její otevírací závorku napíšeme otazník a dvojtečku:"
   ]
  },
  {
   "cell_type": "code",
   "execution_count": 43,
   "metadata": {
    "ExecuteTime": {
     "end_time": "2020-05-01T16:16:29.865971Z",
     "start_time": "2020-05-01T16:16:29.856995Z"
    }
   },
   "outputs": [
    {
     "name": "stdout",
     "output_type": "stream",
     "text": [
      "First group:  If ; Second group:  the\n"
     ]
    }
   ],
   "source": [
    "too_many_groups_match = re.finditer(\"^(?:(\\\\b\\\\w+\\\\b)\\\\s+(\\\\b\\\\w+\\\\b))\", original_text)\n",
    "for match_object in too_many_groups_match:\n",
    "    print(\"First group: \", match_object.group(1), \"; Second group: \", match_object.group(2))"
   ]
  },
  {
   "cell_type": "markdown",
   "metadata": {},
   "source": [
    "Pokud by nám nevyhovovala identifikace grup pomocí čísel, lze jim přiřadit i názvy. To se provede tak, že se na začátek grupy umístí otazník, velké P a pak se mezi &lt; a &gt; vloží samotné její jméno. Pakliže se chceme ještě v patternu na obsah grupy odkazovat, tak krom zpětného lomítka a čísla můžeme do kulatých závorek napsat ?P= a název grupy."
   ]
  },
  {
   "cell_type": "code",
   "execution_count": 44,
   "metadata": {
    "ExecuteTime": {
     "end_time": "2020-05-01T18:36:53.890191Z",
     "start_time": "2020-05-01T18:36:53.884208Z"
    }
   },
   "outputs": [
    {
     "name": "stdout",
     "output_type": "stream",
     "text": [
      "what\n",
      "we\n"
     ]
    }
   ],
   "source": [
    "duplicated_word_match = re.finditer(\"(?P<duplikace>\\\\b\\\\w+\\\\b)\\\\s+(?P=duplikace)\", \"something anything what what so we we\")\n",
    "for match_object in duplicated_word_match:\n",
    "    print(match_object.group(\"duplikace\"))"
   ]
  },
  {
   "cell_type": "markdown",
   "metadata": {},
   "source": [
    "### Grupy a flagy"
   ]
  },
  {
   "cell_type": "markdown",
   "metadata": {},
   "source": [
    "Občas člověk narazí na to, že je v kulatých závorkách otazník následovaný nějakým písmenem, nejčastěji asi malým i. Tímto způsobem lze zapínat stejnou funkcionalitu, kterou obstarávají flagy. Tj. *i* je spojené s (ne)citlivostí na velikost písmen. Podobně by *m* mělo fungovat jako re.M či *s* jako re.S.  \n",
    "Nejprve si vezměme případ, kdy žádný přepínač ani flag není přítomný. Pattern se nám zde na text nenamatchuje."
   ]
  },
  {
   "cell_type": "code",
   "execution_count": 46,
   "metadata": {
    "ExecuteTime": {
     "end_time": "2020-05-01T18:12:22.600381Z",
     "start_time": "2020-05-01T18:12:22.593407Z"
    }
   },
   "outputs": [],
   "source": [
    "group_flag_matched_1 = re.finditer(\"ABCD ABCD\", \"abcd abcd\")\n",
    "for match_object in group_flag_matched_1:\n",
    "    print(match_object.group())"
   ]
  },
  {
   "cell_type": "markdown",
   "metadata": {},
   "source": [
    "Nyní na začátek patternu vložíme grupu-přepínač a na velikost písmen se už nehledí. Mimochodem i když je otazník s písmenem i v závorkách, do výčtu číslovaných grup se nedostane. Tj. kdybychom do parametrů funkce group vložili jedničku, skončí kód pádem, stejně jako by v patternu žádná grupa nebyla."
   ]
  },
  {
   "cell_type": "code",
   "execution_count": 48,
   "metadata": {
    "ExecuteTime": {
     "end_time": "2020-05-01T18:15:00.827858Z",
     "start_time": "2020-05-01T18:15:00.821967Z"
    }
   },
   "outputs": [
    {
     "name": "stdout",
     "output_type": "stream",
     "text": [
      "abcd abcd\n"
     ]
    }
   ],
   "source": [
    "group_flag_matched_2 = re.finditer(\"(?i)ABCD ABCD\", \"abcd abcd\")\n",
    "for match_object in group_flag_matched_2:\n",
    "    print(match_object.group())"
   ]
  },
  {
   "cell_type": "markdown",
   "metadata": {},
   "source": [
    "Více stejných grup nepovede k ničemu zajímavého, tj. například nenastane opětovné zapnutí citlivosti na velikost písmen. Maximálně se objeví deprecation hláška o tom, že by se takovéto věci neměly objevovat uprostřed patternu."
   ]
  },
  {
   "cell_type": "code",
   "execution_count": 49,
   "metadata": {
    "ExecuteTime": {
     "end_time": "2020-05-01T18:16:22.540287Z",
     "start_time": "2020-05-01T18:16:22.533271Z"
    }
   },
   "outputs": [
    {
     "name": "stdout",
     "output_type": "stream",
     "text": [
      "abcd abcd\n"
     ]
    },
    {
     "name": "stderr",
     "output_type": "stream",
     "text": [
      "<ipython-input-49-658a5dce7334>:1: DeprecationWarning: Flags not at the start of the expression '(?i)ABCD (?i)ABCD'\n",
      "  group_flag_matched_3 = re.finditer(\"(?i)ABCD (?i)ABCD\", \"abcd abcd\")\n"
     ]
    }
   ],
   "source": [
    "group_flag_matched_3 = re.finditer(\"(?i)ABCD (?i)ABCD\", \"abcd abcd\")\n",
    "for match_object in group_flag_matched_3:\n",
    "    print(match_object.group())"
   ]
  },
  {
   "cell_type": "markdown",
   "metadata": {},
   "source": [
    "Co když ale chceme takovéto pseudoflagové chování aplikovat jen na část patternu? V takovém případě onu část napíšeme rovnou do závorek; od flagového písmene bude pattern oddělený dvojtečkou."
   ]
  },
  {
   "cell_type": "code",
   "execution_count": 50,
   "metadata": {
    "ExecuteTime": {
     "end_time": "2020-05-01T18:26:44.906392Z",
     "start_time": "2020-05-01T18:26:44.900441Z"
    }
   },
   "outputs": [
    {
     "name": "stdout",
     "output_type": "stream",
     "text": [
      "abcd abcd\n"
     ]
    }
   ],
   "source": [
    "group_flag_matched_4 = re.finditer(\"(?i:ABCD) abcd\", \"abcd abcd\")\n",
    "for match_object in group_flag_matched_4:\n",
    "    print(match_object.group())"
   ]
  },
  {
   "cell_type": "markdown",
   "metadata": {},
   "source": [
    "Na část patternu mimo závorku nemá zrušení citlivosti na velikost písmen žádný vliv. V příkladu níže tak žádný match nalezen není. Mimochodem ani nyní nedochází k zařazení grupy do číslovaných grup."
   ]
  },
  {
   "cell_type": "code",
   "execution_count": 51,
   "metadata": {
    "ExecuteTime": {
     "end_time": "2020-05-01T18:26:13.161056Z",
     "start_time": "2020-05-01T18:26:13.154072Z"
    }
   },
   "outputs": [],
   "source": [
    "group_flag_matched_5 = re.finditer(\"(?i:ABCD) ABCD\", \"abcd abcd\")\n",
    "for match_object in group_flag_matched_5:\n",
    "    print(match_object.group())"
   ]
  },
  {
   "cell_type": "markdown",
   "metadata": {},
   "source": [
    "### Lookahead a comp."
   ]
  },
  {
   "cell_type": "markdown",
   "metadata": {},
   "source": [
    "Opět se jedná o nečíslované grupy. Stejně jako klasický pattern všechny provádějí kontrolu nějakého pravidla. To když neplatí, tak match nenastane. Když ale pravidlo platí, kontrolovaný řetězec patternem zkonzumován není.  \n",
    "*Lookahead* kontroluje, zda část patternu v závorkách následující za otazníkem a rovnítkem následuje za aktuální pozicí. V příkladu vidíme, že de facto kontrolujeme, zda je v textu přítomno \"hands\", ale v Match objektu je jenom \"hand\"."
   ]
  },
  {
   "cell_type": "code",
   "execution_count": 52,
   "metadata": {
    "ExecuteTime": {
     "end_time": "2020-05-01T19:00:22.794882Z",
     "start_time": "2020-05-01T19:00:22.788866Z"
    }
   },
   "outputs": [
    {
     "name": "stdout",
     "output_type": "stream",
     "text": [
      "hand\n"
     ]
    }
   ],
   "source": [
    "lookahead_matched = re.finditer(\"\\\\bhand(?=s\\\\b)\", original_text)\n",
    "for match_object in lookahead_matched:\n",
    "    print(match_object.group())"
   ]
  },
  {
   "cell_type": "markdown",
   "metadata": {},
   "source": [
    "Kdyby v textu bylo pouze \"hand\", k matchi nedojde:"
   ]
  },
  {
   "cell_type": "code",
   "execution_count": 53,
   "metadata": {
    "ExecuteTime": {
     "end_time": "2020-05-01T19:06:25.596053Z",
     "start_time": "2020-05-01T19:06:25.590101Z"
    }
   },
   "outputs": [],
   "source": [
    "lookahead_not_matched = re.finditer(\"\\\\bhand(?=s\\\\b)\",\n",
    "                                    (\"To bed, to bed! there's knocking at the gate: \"\n",
    "                                     \"come, come, come, come, give me your hand. What's \"\n",
    "                                     \"done cannot be undone.\")\n",
    "                                   )\n",
    "for match_object in lookahead_not_matched:\n",
    "    print(match_object.group())"
   ]
  },
  {
   "cell_type": "markdown",
   "metadata": {},
   "source": [
    "Pro negativní lookahead match nastane jen tehdy, když pattern v něm uvedený za aktuální pozicí nenásleduje. Lze ho tedy použít na negaci regulárního výrazu. Z hlediska zápisu u něj namísto \"?=\" na začátek závorek vložíme \"?!\"."
   ]
  },
  {
   "cell_type": "code",
   "execution_count": 54,
   "metadata": {
    "ExecuteTime": {
     "end_time": "2020-05-01T19:13:56.657812Z",
     "start_time": "2020-05-01T19:13:56.651866Z"
    }
   },
   "outputs": [],
   "source": [
    "negative_lookahead_not_matched = re.finditer(\"\\\\bhand(?!s\\\\b)\", original_text)\n",
    "for match_object in negative_lookahead_not_matched:\n",
    "    print(match_object.group())"
   ]
  },
  {
   "cell_type": "code",
   "execution_count": 55,
   "metadata": {
    "ExecuteTime": {
     "end_time": "2020-05-01T19:13:59.830184Z",
     "start_time": "2020-05-01T19:13:59.823240Z"
    }
   },
   "outputs": [
    {
     "name": "stdout",
     "output_type": "stream",
     "text": [
      "hand\n"
     ]
    }
   ],
   "source": [
    "negative_lookahead_matched = re.finditer(\"\\\\bhand(?!s\\\\b)\",\n",
    "                                        (\"To bed, to bed! there's knocking at the gate: \"\n",
    "                                         \"come, come, come, come, give me your hand. What's \"\n",
    "                                         \"done cannot be undone.\")\n",
    "                                        )\n",
    "for match_object in negative_lookahead_matched:\n",
    "    print(match_object.group())"
   ]
  },
  {
   "cell_type": "markdown",
   "metadata": {},
   "source": [
    "Obdobně fungují lookbehind (zápis \"?<=\") a negativní lookbehind (zápis \"?<!\"). Pouze se zaměřují ne na to, co následuje **za** aktuální pozicí, ale na to, co je **před** aktuální pozicí."
   ]
  },
  {
   "cell_type": "markdown",
   "metadata": {},
   "source": [
    "### Další Pythoní regexové funkce"
   ]
  },
  {
   "cell_type": "markdown",
   "metadata": {},
   "source": [
    "Doposud jsme zmínili funkce\n",
    "- *search* - prohledává celý text, dokud nenajde první výskyt stringu odpovídajícího požadovanému patternu. Vrací *Match* objekt resp. *None*.\n",
    "- *findall* - vrací všechny nepřekrývající se části textu, které odpovídají patternu, a to jako list stringů. Případně pokud jsou v patternu použity grupy, vrací list tuplů. Nicméně v tuplech je jenom obsah grup - viz příklad níže.\n",
    "- *finditer* - opět vrací všechny nepřekrývající se části textu, které odpovídají patternu. Tentokrát je ale návratovou hodnotou iterátor s Match objekty."
   ]
  },
  {
   "cell_type": "code",
   "execution_count": 21,
   "metadata": {
    "ExecuteTime": {
     "end_time": "2020-05-07T19:39:25.736240Z",
     "start_time": "2020-05-07T19:39:25.732254Z"
    }
   },
   "outputs": [
    {
     "name": "stdout",
     "output_type": "stream",
     "text": [
      "[('If', 'the'), ('Tarry', 'a'), ('Then', 'forge'), ('Then', 'I'), ('Then', 'let'), ('Then', 'of'), ('And', 'time')]\n"
     ]
    }
   ],
   "source": [
    "findall_and_groups_match = re.findall(\"^(\\\\b\\\\w+\\\\b)\\\\s+(\\\\b\\\\w+\\\\b)\\\\s+\\\\b\\\\w+\\\\b\", original_text, re.MULTILINE)\n",
    "print(findall_and_groups_match)"
   ]
  },
  {
   "cell_type": "markdown",
   "metadata": {},
   "source": [
    "V balíčku *re* ale existuje funkcí více. Podívejme se na ně.  \n",
    "#### Match a fullmatch\n",
    "Vrátí výskyt patternu v textu v podobě Match objektu - pattern ale musí začínat už na začátku textu. Tím se liší od *search*e, který pattern objeví v textu kdekoli.  \n",
    "Nejprve si zkusme z textu matchnout první slovo:"
   ]
  },
  {
   "cell_type": "code",
   "execution_count": 7,
   "metadata": {
    "ExecuteTime": {
     "end_time": "2020-05-02T09:52:11.137419Z",
     "start_time": "2020-05-02T09:52:11.130404Z"
    }
   },
   "outputs": [
    {
     "name": "stdout",
     "output_type": "stream",
     "text": [
      "If\n"
     ]
    }
   ],
   "source": [
    "match_match = re.match(\"If\", original_text)\n",
    "if match_match:\n",
    "    print(match_match.group())\n",
    "else:\n",
    "     print(\"Pattern not present\")   "
   ]
  },
  {
   "cell_type": "markdown",
   "metadata": {},
   "source": [
    "To proběhlo úspěšně - druhé slovo už ale nalezeno nebude:"
   ]
  },
  {
   "cell_type": "code",
   "execution_count": 9,
   "metadata": {
    "ExecuteTime": {
     "end_time": "2020-05-02T09:52:39.830587Z",
     "start_time": "2020-05-02T09:52:39.823641Z"
    }
   },
   "outputs": [
    {
     "name": "stdout",
     "output_type": "stream",
     "text": [
      "Pattern not present\n"
     ]
    }
   ],
   "source": [
    "match_not_match = re.match(\"the\", original_text)\n",
    "if match_not_match:\n",
    "    print(match_not_match.group())\n",
    "else:\n",
    "     print(\"Pattern not present\")   "
   ]
  },
  {
   "cell_type": "markdown",
   "metadata": {},
   "source": [
    "Mimochodem ani v případě multiline flagu by se match neodpoutal od začátku textu."
   ]
  },
  {
   "cell_type": "code",
   "execution_count": 13,
   "metadata": {
    "ExecuteTime": {
     "end_time": "2020-05-02T10:02:04.777994Z",
     "start_time": "2020-05-02T10:02:04.772040Z"
    }
   },
   "outputs": [
    {
     "name": "stdout",
     "output_type": "stream",
     "text": [
      "Pattern not present\n"
     ]
    }
   ],
   "source": [
    "multiline_match_not_match = re.match(\"Tarry\", original_text, re.MULTILINE)\n",
    "if multiline_match_not_match:\n",
    "    print(multiline_match_not_match.group())\n",
    "else:\n",
    "     print(\"Pattern not present\")  "
   ]
  },
  {
   "cell_type": "markdown",
   "metadata": {
    "ExecuteTime": {
     "end_time": "2020-05-02T10:01:44.049322Z",
     "start_time": "2020-05-02T10:01:44.042363Z"
    }
   },
   "source": [
    "Funkce fullmatch funguje podobně jako match s tím omezením, že se musí matchnout **celý** text."
   ]
  },
  {
   "cell_type": "code",
   "execution_count": 15,
   "metadata": {
    "ExecuteTime": {
     "end_time": "2020-05-02T10:02:35.001371Z",
     "start_time": "2020-05-02T10:02:34.996385Z"
    }
   },
   "outputs": [
    {
     "name": "stdout",
     "output_type": "stream",
     "text": [
      "If\n"
     ]
    }
   ],
   "source": [
    "fullmatch_match = re.fullmatch(\"If\", \"If\")\n",
    "if fullmatch_match:\n",
    "    print(fullmatch_match.group())\n",
    "else:\n",
    "     print(\"Pattern not present\")  "
   ]
  },
  {
   "cell_type": "code",
   "execution_count": 16,
   "metadata": {
    "ExecuteTime": {
     "end_time": "2020-05-02T10:08:47.232472Z",
     "start_time": "2020-05-02T10:08:47.226521Z"
    }
   },
   "outputs": [
    {
     "name": "stdout",
     "output_type": "stream",
     "text": [
      "Pattern not present\n"
     ]
    }
   ],
   "source": [
    "fullmatch_not_match = re.fullmatch(\"If\", original_text)\n",
    "if fullmatch_not_match:\n",
    "    print(fullmatch_not_match.group())\n",
    "else:\n",
    "     print(\"Pattern not present\")  "
   ]
  },
  {
   "cell_type": "markdown",
   "metadata": {},
   "source": [
    "#### Split\n",
    "Funkce split rozdělí text podle patternu a vrátí jej v podobě listu stringů."
   ]
  },
  {
   "cell_type": "code",
   "execution_count": 22,
   "metadata": {
    "ExecuteTime": {
     "end_time": "2020-05-07T19:41:12.593329Z",
     "start_time": "2020-05-07T19:41:12.573361Z"
    }
   },
   "outputs": [
    {
     "data": {
      "text/plain": [
       "['prvni', 'druhy', 'treti']"
      ]
     },
     "execution_count": 22,
     "metadata": {},
     "output_type": "execute_result"
    }
   ],
   "source": [
    "re.split(\",\\\\s*\", \"prvni, druhy,     treti\")"
   ]
  },
  {
   "cell_type": "markdown",
   "metadata": {},
   "source": [
    "Pakliže se pattern nebo jeho části dá do grupy, bude v výsledném stringu i její obsah. Závorky zde opravdu fungují jako grupa, tj. stačí na začátek napsat \"?:\" a v listu se jejich obsah opět neobjeví."
   ]
  },
  {
   "cell_type": "code",
   "execution_count": 23,
   "metadata": {
    "ExecuteTime": {
     "end_time": "2020-05-07T19:41:13.926322Z",
     "start_time": "2020-05-07T19:41:13.921334Z"
    }
   },
   "outputs": [
    {
     "data": {
      "text/plain": [
       "['prvni', ',', 'druhy', ',', 'treti']"
      ]
     },
     "execution_count": 23,
     "metadata": {},
     "output_type": "execute_result"
    }
   ],
   "source": [
    "re.split(\"(,)\\\\s*\", \"prvni, druhy,     treti\")"
   ]
  },
  {
   "cell_type": "markdown",
   "metadata": {},
   "source": [
    "#### Sub a subn\n",
    "Sub nahrazuje všechny výskyty patternu (1. parametr) v textu (3. parametr) řetězcem z druhého parametru."
   ]
  },
  {
   "cell_type": "code",
   "execution_count": 27,
   "metadata": {
    "ExecuteTime": {
     "end_time": "2020-05-02T10:17:41.161881Z",
     "start_time": "2020-05-02T10:17:41.154902Z"
    }
   },
   "outputs": [
    {
     "data": {
      "text/plain": [
       "'Why does this cat behave as a cat? Bad cat.'"
      ]
     },
     "execution_count": 27,
     "metadata": {},
     "output_type": "execute_result"
    }
   ],
   "source": [
    "re.sub(\"dog\", \"cat\", \"Why does this dog behave as a dog? Bad dog.\")"
   ]
  },
  {
   "cell_type": "markdown",
   "metadata": {},
   "source": [
    "Pokud pattern v textu není, vrátí se původní text beze změny."
   ]
  },
  {
   "cell_type": "code",
   "execution_count": 29,
   "metadata": {
    "ExecuteTime": {
     "end_time": "2020-05-02T10:19:10.224010Z",
     "start_time": "2020-05-02T10:19:10.216997Z"
    }
   },
   "outputs": [
    {
     "data": {
      "text/plain": [
       "'Why does this dog behave as a dog? Bad dog.'"
      ]
     },
     "execution_count": 29,
     "metadata": {},
     "output_type": "execute_result"
    }
   ],
   "source": [
    "re.sub(\"hamster\", \"cat\", \"Why does this dog behave as a dog? Bad dog.\")"
   ]
  },
  {
   "cell_type": "markdown",
   "metadata": {},
   "source": [
    "Defaultně se nahradí všechny výskyty patternu. Pokud chceme provést jen omezený počet nahrazení, použijeme parametr count."
   ]
  },
  {
   "cell_type": "code",
   "execution_count": 30,
   "metadata": {
    "ExecuteTime": {
     "end_time": "2020-05-02T10:20:14.743659Z",
     "start_time": "2020-05-02T10:20:14.735680Z"
    }
   },
   "outputs": [
    {
     "data": {
      "text/plain": [
       "'Why does this cat behave as a cat? Bad dog.'"
      ]
     },
     "execution_count": 30,
     "metadata": {},
     "output_type": "execute_result"
    }
   ],
   "source": [
    "re.sub(\"dog\", \"cat\", \"Why does this dog behave as a dog? Bad dog.\", count=2)"
   ]
  },
  {
   "cell_type": "markdown",
   "metadata": {},
   "source": [
    "Subn se chová podobně jako sub. Pouze vrací nikoli string, ale tuple, v němž je na prvním místě upravený string a na druhém počet provedených náhrad."
   ]
  },
  {
   "cell_type": "code",
   "execution_count": 31,
   "metadata": {
    "ExecuteTime": {
     "end_time": "2020-05-02T10:21:43.345120Z",
     "start_time": "2020-05-02T10:21:43.338138Z"
    }
   },
   "outputs": [
    {
     "data": {
      "text/plain": [
       "('Why does this cat behave as a cat? Bad cat.', 3)"
      ]
     },
     "execution_count": 31,
     "metadata": {},
     "output_type": "execute_result"
    }
   ],
   "source": [
    "re.subn(\"dog\", \"cat\", \"Why does this dog behave as a dog? Bad dog.\")"
   ]
  },
  {
   "cell_type": "code",
   "execution_count": 32,
   "metadata": {
    "ExecuteTime": {
     "end_time": "2020-05-02T10:21:57.550382Z",
     "start_time": "2020-05-02T10:21:57.545394Z"
    }
   },
   "outputs": [
    {
     "data": {
      "text/plain": [
       "('Why does this dog behave as a dog? Bad dog.', 0)"
      ]
     },
     "execution_count": 32,
     "metadata": {},
     "output_type": "execute_result"
    }
   ],
   "source": [
    "re.subn(\"hamster\", \"cat\", \"Why does this dog behave as a dog? Bad dog.\")"
   ]
  },
  {
   "cell_type": "markdown",
   "metadata": {},
   "source": [
    "#### Compile"
   ]
  },
  {
   "cell_type": "markdown",
   "metadata": {},
   "source": [
    "Zkompiluje pattern do *Pattern* objektu. K čemu je to dobré? Pokud se daný pattern používá ve více regexovských funkcích, musí se pokaždé kompilovat. *Compile* tak ušetří trochu času.  \n",
    "Situace bez použití *compile*:"
   ]
  },
  {
   "cell_type": "code",
   "execution_count": 36,
   "metadata": {
    "ExecuteTime": {
     "end_time": "2020-05-02T10:33:40.221258Z",
     "start_time": "2020-05-02T10:33:40.215275Z"
    }
   },
   "outputs": [
    {
     "name": "stdout",
     "output_type": "stream",
     "text": [
      "while\n",
      "fair\n",
      "there\n",
      "me\n"
     ]
    }
   ],
   "source": [
    "without_compile_match = re.finditer(\"(\\\\b\\\\w+)!\", original_text)\n",
    "for match_object in without_compile_match:\n",
    "    print(match_object.group(1))"
   ]
  },
  {
   "cell_type": "markdown",
   "metadata": {},
   "source": [
    "Při použití *compile* si musíme pamatovat, že regexové funkce se nyní neberou z balíčku re, ale jsou to metody *Pattern* objektu:"
   ]
  },
  {
   "cell_type": "code",
   "execution_count": 38,
   "metadata": {
    "ExecuteTime": {
     "end_time": "2020-05-02T10:35:01.161285Z",
     "start_time": "2020-05-02T10:35:01.155301Z"
    }
   },
   "outputs": [
    {
     "name": "stdout",
     "output_type": "stream",
     "text": [
      "while\n",
      "fair\n",
      "there\n",
      "me\n"
     ]
    }
   ],
   "source": [
    "pattern = re.compile(\"(\\\\b\\\\w+)!\")\n",
    "without_compile_match = pattern.finditer(original_text)\n",
    "for match_object in without_compile_match:\n",
    "    print(match_object.group(1))"
   ]
  },
  {
   "cell_type": "markdown",
   "metadata": {},
   "source": [
    "### Příklady použití regexů"
   ]
  },
  {
   "cell_type": "markdown",
   "metadata": {},
   "source": [
    "#### Vypreparování HTML tagů"
   ]
  },
  {
   "cell_type": "markdown",
   "metadata": {},
   "source": [
    "Pomiňme otázku, zda jsou pro takovouto úlohu regulární výrazy tím nejvhodnějším přístupem. V patternu máme explicitně zmíněné otevírací a ukončovací zobáčky tagu. Mezi nimi se opakuje grupa. Je v ní OR, přičemž třetí možnost říká: \"vezmi jeden znak, který není uvozovka či ukončovací znak tagu\". První a druhá možnost ORu se týká případů, kdy je v tagu nějaký řetězec a tak chceme, aby byl ohraničený uvozovkami nejenom na svém začátku, ale i na svém konci. Zde nenastane match jednoho znaku, ale celého slova + uvozovek."
   ]
  },
  {
   "cell_type": "code",
   "execution_count": 8,
   "metadata": {
    "ExecuteTime": {
     "end_time": "2020-05-02T13:09:25.862047Z",
     "start_time": "2020-05-02T13:09:25.857786Z"
    }
   },
   "outputs": [
    {
     "name": "stdout",
     "output_type": "stream",
     "text": [
      "<b>\n",
      "</b>\n",
      "<a href='www.some_page.cz'>\n",
      "</a>\n"
     ]
    }
   ],
   "source": [
    "html_tags_text = \"blablabla something <b>something importnant</b> blabla <a href='www.some_page.cz'>something</a>   bla\"\n",
    "html_tags_text_matched = re.finditer(\"<(\\\"[^\\\"]*\\\"|'[^']*'|[^\\\"'>])*>\", html_tags_text)\n",
    "for match_object in html_tags_text_matched:\n",
    "    print(match_object.group())"
   ]
  },
  {
   "cell_type": "markdown",
   "metadata": {},
   "source": [
    "#### Prozkoumání URL\n",
    "Zde počítáme s tím, že vstupem bude opravdu jen URL, takže používáme stříšku a dolar pro namatchování na začátek a konec textu. U https dáváme za s otazník - vyskytnout se může i http protokol. V hostnamu počítáme s tím, že v něm může být cokoli kromě dvojtečky a lomítka. Je povinný, takže za množinu znaků nedáváme hvězdu, ale plusko. Port včetně uvozující dvojtečky je nepovinný, takže za něj dáváme otazník. Jelikož chceme namatchovat jen jeho číslo a ne onu dvojtečku, máme v grupě další grupu. Ta vnější nás nezajímá a proto na její začátek dáváme \"?:\". V path už může být cokoli, takže použijeme nejobecnější \".*\". "
   ]
  },
  {
   "cell_type": "code",
   "execution_count": 56,
   "metadata": {
    "ExecuteTime": {
     "end_time": "2020-05-02T13:24:18.782988Z",
     "start_time": "2020-05-02T13:24:18.775044Z"
    }
   },
   "outputs": [
    {
     "name": "stdout",
     "output_type": "stream",
     "text": [
      "Hostname:  www.some_page.cz\n",
      "Port:  8080\n",
      "Path:  /something/file.html\n"
     ]
    }
   ],
   "source": [
    "parsed_url_text = \"https://www.some_page.cz:8080/something/file.html\"\n",
    "parsed_url_matched = re.finditer(\"^https?://([^/:]+)(?::(\\\\d+))?(/.*)?$\", parsed_url_text)\n",
    "for match_object in parsed_url_matched:\n",
    "    print(\"Hostname: \", match_object.group(1))\n",
    "    if match_object.group(2):\n",
    "        print(\"Port: \", match_object.group(2))\n",
    "    if match_object.group(3):\n",
    "        print(\"Path: \", match_object.group(3))"
   ]
  },
  {
   "cell_type": "markdown",
   "metadata": {},
   "source": [
    "#### Nalezení čísel v textu\n",
    "Nyní chceme z textu vypreparovat všechna čísla, jak celá, tak desetinná.  \n",
    "Hned na začátku provádíme OR dělení. Do první škatulky patří \"klasická\" čísla typu 10 či 2.72. Do druhé se dostanou věci typu .99.  \n",
    "Věnujme se napřed druhému případu. Mínus je nepovinné, tudíž otazník. Escapujeme desetinnou tečku. Následovat musí aspoň jedna cifra. První případ začíná podobně. Desetinná část tu je nepovinná, proto je v závorkách a za závorkami je otazník. "
   ]
  },
  {
   "cell_type": "code",
   "execution_count": 28,
   "metadata": {
    "ExecuteTime": {
     "end_time": "2020-05-02T13:30:22.862857Z",
     "start_time": "2020-05-02T13:30:22.857871Z"
    }
   },
   "outputs": [
    {
     "name": "stdout",
     "output_type": "stream",
     "text": [
      "42\n",
      "-80\n",
      "3.14\n",
      "-1.999999\n",
      ".15\n"
     ]
    }
   ],
   "source": [
    "numbers_text = \"something something 42 bla -80 3.14 bls -1.999999 .15\"\n",
    "numbers_matched = re.finditer(\"-?[0-9]+(\\\\.[0-9]+)?|-?\\\\.[0-9]+\", numbers_text)\n",
    "for match_object in numbers_matched:\n",
    "    print(match_object.group())\n"
   ]
  },
  {
   "cell_type": "markdown",
   "metadata": {},
   "source": [
    "#### Parsování csv"
   ]
  },
  {
   "cell_type": "markdown",
   "metadata": {},
   "source": [
    "Zde máme díky ORu opět dva mody. V prvním se matchuje řetězec obklopený dvojitými uvozovkami, v druhém zase cokoli, co není čárka nebo dvojitá uvozovka."
   ]
  },
  {
   "cell_type": "code",
   "execution_count": 37,
   "metadata": {
    "ExecuteTime": {
     "end_time": "2020-05-02T14:36:20.386617Z",
     "start_time": "2020-05-02T14:36:20.381630Z"
    }
   },
   "outputs": [
    {
     "name": "stdout",
     "output_type": "stream",
     "text": [
      "10\n",
      "3.5\n",
      " ACDC\n",
      "  \"Josef Vyskočil\"\n",
      " 789\n"
     ]
    }
   ],
   "source": [
    "csv_text = '10,3.5, ACDC,  \"Josef Vyskočil\", 789'\n",
    "csv_matched = re.finditer('\\\\s*\"(?:[^\"]|\"\\\\s*\")*\"\\\\s*|[^\",]+', csv_text)\n",
    "for match_object in csv_matched:\n",
    "    print(match_object.group())"
   ]
  },
  {
   "cell_type": "markdown",
   "metadata": {},
   "source": [
    "#### Práce se speciálními znaky"
   ]
  },
  {
   "cell_type": "markdown",
   "metadata": {},
   "source": [
    "Občas se stane, že musíme pracovat s nějakým unicodovým znakem, který na klávesnici nenalezneme. V takovém případě musíme ať už do textu, anebo do patternu napsat escapované u následované kódem příslušného znaku.  \n",
    "Pokud je kód čtyřznakový, je písmeno *u* malé. Příklad obyčejného vytištění písmene *č*, jehož kód je 010D:"
   ]
  },
  {
   "cell_type": "code",
   "execution_count": 17,
   "metadata": {
    "ExecuteTime": {
     "end_time": "2020-05-05T18:24:43.428257Z",
     "start_time": "2020-05-05T18:24:43.425264Z"
    }
   },
   "outputs": [
    {
     "name": "stdout",
     "output_type": "stream",
     "text": [
      "č\n"
     ]
    }
   ],
   "source": [
    "print(\"\\u010D\")"
   ]
  },
  {
   "cell_type": "markdown",
   "metadata": {},
   "source": [
    "A jeho použítí v regulárních výrazech:"
   ]
  },
  {
   "cell_type": "code",
   "execution_count": 10,
   "metadata": {
    "ExecuteTime": {
     "end_time": "2020-05-05T18:04:50.863550Z",
     "start_time": "2020-05-05T18:04:50.858563Z"
    }
   },
   "outputs": [
    {
     "name": "stdout",
     "output_type": "stream",
     "text": [
      "čr\n"
     ]
    }
   ],
   "source": [
    "czech_republic_mathced = re.finditer(\"\\u010Dr\", \"usa gb sr čr hu\")\n",
    "for match_object in czech_republic_mathced:\n",
    "    print(match_object.group())"
   ]
  },
  {
   "cell_type": "markdown",
   "metadata": {},
   "source": [
    "Občas ale člověk narazí na unicodový kód skládající se z pěti znaků. V takovém případě je jednak nutné použít velké U, jednak je potřeba kód zprava doplnit nulami tak, aby měl bez *U* znaků osm. Ukažme si to na příkladu plačícího smajlíka s kódem 1F625."
   ]
  },
  {
   "cell_type": "code",
   "execution_count": 19,
   "metadata": {
    "ExecuteTime": {
     "end_time": "2020-05-05T18:25:52.681202Z",
     "start_time": "2020-05-05T18:25:52.676212Z"
    }
   },
   "outputs": [
    {
     "name": "stdout",
     "output_type": "stream",
     "text": [
      "😥\n"
     ]
    }
   ],
   "source": [
    "print(\"\\U0001F625\")"
   ]
  },
  {
   "cell_type": "markdown",
   "metadata": {},
   "source": [
    "A nyní ve větě nahraďme smutného smajlíka smajlíkem veselým."
   ]
  },
  {
   "cell_type": "code",
   "execution_count": 16,
   "metadata": {
    "ExecuteTime": {
     "end_time": "2020-05-05T18:14:39.995515Z",
     "start_time": "2020-05-05T18:14:39.989546Z"
    }
   },
   "outputs": [
    {
     "name": "stdout",
     "output_type": "stream",
     "text": [
      "This string is very very 😥.\n",
      "This string is very very 😀.\n"
     ]
    }
   ],
   "source": [
    "sad_string = \"This string is very very \\U0001F625.\"\n",
    "print(sad_string)\n",
    "happy_string = re.sub(\"\\U0001F625\", \"\\U0001F600\", sad_string)\n",
    "print(happy_string)"
   ]
  },
  {
   "cell_type": "markdown",
   "metadata": {},
   "source": [
    "Při přenášení SQL kódu skrze Skype do Teradata SQL asistenta se stává, že si druhý zmíněný software stěžuje na neznámý znak C2 A0. Jedná se o označení pro tzv. [non-breaking space](https://en.wikipedia.org/wiki/Non-breaking_space) zaznamenanou v kódování UTF-8. V unicodu nese tato mezera označení 00A0. Pro nahrazení všech těchto speciálních mezer mezerami normálními použijeme"
   ]
  },
  {
   "cell_type": "code",
   "execution_count": 3,
   "metadata": {
    "ExecuteTime": {
     "end_time": "2020-12-16T19:57:29.570246Z",
     "start_time": "2020-12-16T19:57:29.554626Z"
    }
   },
   "outputs": [
    {
     "name": "stdout",
     "output_type": "stream",
     "text": [
      "Number of bad spaces: 4\n",
      "Number of bad spaces: 0\n"
     ]
    }
   ],
   "source": [
    "text_bad_spaces = \"This\\u00A0is\\u00A0some\\u00A0strange\\u00A0text.\"\n",
    "print(\"Number of bad spaces: \" + str(text_bad_spaces.count(\"\\u00A0\")))\n",
    "text_good_spaces = re.sub(\"\\u00A0\", \" \", text_bad_spaces)\n",
    "print(\"Number of bad spaces: \" + str(text_good_spaces.count(\"\\u00A0\")))"
   ]
  },
  {
   "cell_type": "markdown",
   "metadata": {},
   "source": [
    "#### Hledání sloupců bez aliasu v SQL"
   ]
  },
  {
   "cell_type": "code",
   "execution_count": 7,
   "metadata": {
    "ExecuteTime": {
     "end_time": "2020-05-05T19:04:11.968329Z",
     "start_time": "2020-05-05T19:04:11.962345Z"
    }
   },
   "outputs": [
    {
     "name": "stdout",
     "output_type": "stream",
     "text": [
      "sloupec2 as druhy,\n",
      "sloupec3 as treti,\n"
     ]
    }
   ],
   "source": [
    "text = (\"sloupec1,\\n\"\n",
    "        \"sloupec2 as druhy,\\n\"\n",
    "        \"sloupec3 as treti,\\n\" \n",
    "        \"sloupec4\")\n",
    "column_with_aliases_matched = re.finditer(\"^\\\\w+\\\\s+as\\\\s+\\\\w+,?\\\\s*$\", text, re.MULTILINE)\n",
    "for match_object in column_with_aliases_matched:\n",
    "    print(match_object.group())"
   ]
  },
  {
   "cell_type": "code",
   "execution_count": 29,
   "metadata": {
    "ExecuteTime": {
     "end_time": "2020-05-05T19:05:00.127416Z",
     "start_time": "2020-05-05T19:05:00.122430Z"
    }
   },
   "outputs": [
    {
     "name": "stdout",
     "output_type": "stream",
     "text": [
      "sloupec1,\n",
      "sloupec4\n"
     ]
    }
   ],
   "source": [
    "column_without_aliases_matched = re.finditer(\"^\\\\w+,?\\\\s*$\", text, re.MULTILINE)\n",
    "for match_object in column_without_aliases_matched:\n",
    "    print(match_object.group())"
   ]
  },
  {
   "cell_type": "markdown",
   "metadata": {},
   "source": [
    "### Fuzzy search\n",
    "V případě fuzzy searche hledáme text, který na pattern nemusí sednout na 100%. Jelikož jeho implementace v balíčku *re* chybí, musíme sáhnout po balíčku [regex](https://pypi.org/project/regex/).  \n",
    "V základu se balíček *regex* snaží chovat podobně jako balíček *re*, tj. najdeme v něm metody *search* anebo třeba *findall*."
   ]
  },
  {
   "cell_type": "code",
   "execution_count": 1,
   "metadata": {},
   "outputs": [],
   "source": [
    "import regex"
   ]
  },
  {
   "cell_type": "code",
   "execution_count": 9,
   "metadata": {},
   "outputs": [
    {
     "data": {
      "text/plain": [
       "['pes', 'pes']"
      ]
     },
     "execution_count": 9,
     "metadata": {},
     "output_type": "execute_result"
    }
   ],
   "source": [
    "pattern = \"pes\"\n",
    "text = \"Skákal pes, přes oves, ten pes pss\"\n",
    "regex.findall(pattern, text)"
   ]
  },
  {
   "cell_type": "markdown",
   "metadata": {},
   "source": [
    "Pakliže chceme použít fuzzy search, obalíme pattern do nečíslované grupy. Pokud nám například nevadí nadbytečné inserty, umístíme za grupu složené závorky, do kterých vložíme \"i\".  \n",
    "Vidíme, že vrácené bylo například slovo \"přes\" - když z něj vyhodíme \"ř\", dostaneme hledané \"pes\". Další dva výsledky obsahují další písmena nalepená před psem."
   ]
  },
  {
   "cell_type": "code",
   "execution_count": 10,
   "metadata": {},
   "outputs": [
    {
     "data": {
      "text/plain": [
       "['kákal pes', ' přes', 'oves, ten pes']"
      ]
     },
     "execution_count": 10,
     "metadata": {},
     "output_type": "execute_result"
    }
   ],
   "source": [
    "pattern = \"(?:pes){i}\"\n",
    "text = \"Skákal pes, přes oves, ten pes pss\"\n",
    "regex.findall(pattern, text)"
   ]
  },
  {
   "cell_type": "markdown",
   "metadata": {},
   "source": [
    "Pokud bychom chtěli počet povolených nainsertovaných znaků omezit na maximálně 2, změníme zápis ve složených závorkách na \"{i<=2}\"."
   ]
  },
  {
   "cell_type": "code",
   "execution_count": 11,
   "metadata": {},
   "outputs": [
    {
     "data": {
      "text/plain": [
       "['l pes', ' přes', 'n pes']"
      ]
     },
     "execution_count": 11,
     "metadata": {},
     "output_type": "execute_result"
    }
   ],
   "source": [
    "pattern = \"(?:pes){i<=2}\"\n",
    "text = \"Skákal pes, přes oves, ten pes pss\"\n",
    "regex.findall(pattern, text)"
   ]
  },
  {
   "cell_type": "markdown",
   "metadata": {},
   "source": [
    "Pořád ale nedostáváme to, co bychom chtěli. Naštěstí lze s pomocí \"(?e)\" na začátku patternu vynutit pokus o lepší fit."
   ]
  },
  {
   "cell_type": "code",
   "execution_count": 13,
   "metadata": {},
   "outputs": [
    {
     "data": {
      "text/plain": [
       "['pes', 'přes', 'pes']"
      ]
     },
     "execution_count": 13,
     "metadata": {},
     "output_type": "execute_result"
    }
   ],
   "source": [
    "pattern = \"(?e)(?:pes){i<=2}\"\n",
    "text = \"Skákal pes, přes oves, ten pes pss\"\n",
    "regex.findall(pattern, text)"
   ]
  },
  {
   "cell_type": "markdown",
   "metadata": {},
   "source": [
    "Viděli jsme, že pro inserty existuje přepínač \"i\". Podobně pro smazání (delete) existuje přepínač \"d\" a pro substituce přepínač \"s\". Nakonec přepínač \"e\" zastupuje všechny fuzzy operace."
   ]
  },
  {
   "cell_type": "code",
   "execution_count": 15,
   "metadata": {},
   "outputs": [
    {
     "data": {
      "text/plain": [
       "['pes', 'řes', 'ves', 'pes', 'pss']"
      ]
     },
     "execution_count": 15,
     "metadata": {},
     "output_type": "execute_result"
    }
   ],
   "source": [
    "pattern = \"(?:pes){s<=1}\"\n",
    "text = \"Skákal pes, přes oves, ten pes pss\"\n",
    "regex.findall(pattern, text)"
   ]
  },
  {
   "cell_type": "code",
   "execution_count": 16,
   "metadata": {},
   "outputs": [
    {
     "data": {
      "text/plain": [
       "['pes', 'es', 'es', 'pes', 'ps']"
      ]
     },
     "execution_count": 16,
     "metadata": {},
     "output_type": "execute_result"
    }
   ],
   "source": [
    "pattern = \"(?:pes){d<=1}\"\n",
    "text = \"Skákal pes, přes oves, ten pes pss\"\n",
    "regex.findall(pattern, text)"
   ]
  },
  {
   "cell_type": "code",
   "execution_count": 17,
   "metadata": {},
   "outputs": [
    {
     "data": {
      "text/plain": [
       "[' pes', 'přes', 'ves', ' pes', 'pss']"
      ]
     },
     "execution_count": 17,
     "metadata": {},
     "output_type": "execute_result"
    }
   ],
   "source": [
    "pattern = \"(?:pes){e<=1}\"\n",
    "text = \"Skákal pes, přes oves, ten pes pss\"\n",
    "regex.findall(pattern, text)"
   ]
  },
  {
   "cell_type": "markdown",
   "metadata": {},
   "source": [
    "Lze specifikovat i minimální množství fuzzy operací (ale vždy v kombinaci s maximálním množstvím)."
   ]
  },
  {
   "cell_type": "code",
   "execution_count": 20,
   "metadata": {},
   "outputs": [
    {
     "data": {
      "text/plain": [
       "['Ská', 'kal', ' pe', 's, ', 'pře', 's o', 'ves', ', t', 'en ', 'es ', 'pss']"
      ]
     },
     "execution_count": 20,
     "metadata": {},
     "output_type": "execute_result"
    }
   ],
   "source": [
    "pattern = \"(?:pes){1<=s<=3}\"\n",
    "text = \"Skákal pes, přes oves, ten pes pss\"\n",
    "regex.findall(pattern, text)"
   ]
  },
  {
   "cell_type": "markdown",
   "metadata": {},
   "source": [
    "Fuzzy operace lze i kombinovat. V příkladu níže povolujeme maximálně dva inserty, maximálně 2 nahrazení a celkově maximálně tři změny."
   ]
  },
  {
   "cell_type": "code",
   "execution_count": 21,
   "metadata": {},
   "outputs": [
    {
     "data": {
      "text/plain": [
       "['l pes', ' přes', 'oves', 'te', ' pes', 'pss']"
      ]
     },
     "execution_count": 21,
     "metadata": {},
     "output_type": "execute_result"
    }
   ],
   "source": [
    "pattern = \"(?:pes){i<=2,d<=2,e<=3}\"\n",
    "text = \"Skákal pes, přes oves, ten pes pss\"\n",
    "regex.findall(pattern, text)"
   ]
  },
  {
   "cell_type": "markdown",
   "metadata": {},
   "source": [
    "Různým operacím lze dokonce nastavit různou váhu."
   ]
  },
  {
   "cell_type": "code",
   "execution_count": 25,
   "metadata": {},
   "outputs": [
    {
     "data": {
      "text/plain": [
       "[' pes', 'pře', 'ves', 'ten', 'pes', ' ps']"
      ]
     },
     "execution_count": 25,
     "metadata": {},
     "output_type": "execute_result"
    }
   ],
   "source": [
    "pattern = \"(?:pes){1s+2i+2d<=2}\"\n",
    "text = \"Skákal pes, přes oves, ten pes pss\"\n",
    "regex.findall(pattern, text)"
   ]
  },
  {
   "cell_type": "markdown",
   "metadata": {},
   "source": [
    "Nakonec lze i specifikovat, na které znaky v textu (nikoli v patternu) se mohou fuzzy operace aplikovat."
   ]
  },
  {
   "cell_type": "code",
   "execution_count": 28,
   "metadata": {},
   "outputs": [
    {
     "data": {
      "text/plain": [
       "['pes', 'pes']"
      ]
     },
     "execution_count": 28,
     "metadata": {},
     "output_type": "execute_result"
    }
   ],
   "source": [
    "pattern = \"(?:pes){s<=2:[a-e]}\"\n",
    "text = \"Skákal pes, přes oves, ten pes pss\"\n",
    "regex.findall(pattern, text)"
   ]
  },
  {
   "cell_type": "code",
   "execution_count": 29,
   "metadata": {},
   "outputs": [
    {
     "data": {
      "text/plain": [
       "['pes', 'pes', 'pss']"
      ]
     },
     "execution_count": 29,
     "metadata": {},
     "output_type": "execute_result"
    }
   ],
   "source": [
    "pattern = \"(?:pes){s<=2:[a-es]}\"\n",
    "text = \"Skákal pes, přes oves, ten pes pss\"\n",
    "regex.findall(pattern, text)"
   ]
  },
  {
   "cell_type": "markdown",
   "metadata": {},
   "source": [
    "## Notepad++"
   ]
  },
  {
   "cell_type": "markdown",
   "metadata": {},
   "source": [
    "K zapnutí regulárních výrazů v Notepadu++ stačí ve Find/replace interfacu zaškrtnout odpovídající checkbox. Pro konstrukci patternů platí víceméně to samé jako v *re*. Hlavní rozdíl spočívá v tom, že zpětná lomítka se v Notepadu++ zdvojovat nemusí. Ostatní odlišnosti jsou spíše drobnějšího rázu. Pár jich tady zmiňme.  \n",
    "Při hledání okrajů slov se dá použít nejen \"\\b\", které odpovídá začátku i konci slova, ale i \"\\<\" zastupujíící začátek slova a \"\\>\" Zastupující konec slova. Tj. když chceme ve větě\n",
    "> koneckonců konec ještě neskončil\n",
    "\n",
    "matchnout slovo \"konec\", můžeme použít jak pattern\n",
    "> \\bkonec\\b\n",
    "\n",
    "tak pattern\n",
    "> \\\\<konec\\\\>\n"
   ]
  },
  {
   "cell_type": "markdown",
   "metadata": {
    "ExecuteTime": {
     "end_time": "2020-05-08T10:14:04.595372Z",
     "start_time": "2020-05-08T10:14:04.586397Z"
    }
   },
   "source": [
    "Lze používat množiny znaků (hranaté závorky) nikoli jen s pomocí zkratek typu \"\\d\", ale s pomocí celých slov. Tudíž například\n",
    "> \\\\<[[:alpha:]]*\\\\>\n",
    "\n",
    "bude vyhledávat celá slova (a oproti \"\\w\" už nebude matchovat na čísla a podtržítka). Jako další příklady názvů skupin uveďme *alnum*, *blank* či *digit*."
   ]
  },
  {
   "cell_type": "markdown",
   "metadata": {},
   "source": [
    "Pokud se dá vyhledat znak podle unicodového kódu, tak jsem nepřišel na to jak. Vyhledávat se ale dá pomocí hexadecimálního kódu zapsaného do složených závorek, před které se umístí \"\\x\". Například když chceme nalézt písmeno č, použijeme jeho hexadecimální zápis v UTF-16 (a to i když máme nastavené kódování UTF-8), kterým je 0x010D. Ve výsledku má pattern podobu  \n",
    "> \\x{010D}\n",
    "\n",
    "Též bychom mohli u search modu přejít z regulárních výrazů na \"extended\" a hledat \"č\" pomocí \\u010D.  \n",
    "\n",
    "Podobně když budeme chtít non-breaking mezeru nahradit mezerou normální, budeme (při zaškrtnutém \"Regular expression\") nahrazovat znak \\x{00A0}. Samozřejmě v tomto případě bude lepší nahrazovat \"\\s+\" - kód si asi nikdo pamatovat nebude. Mimochodem zde nesmíme použít místo plusu hvězdičku - takovýto pattern by byl platný všude a tak by byl **každý** znak textu následován mezerou.  \n",
    "Nicméně takovýto postup nahradí i znaky nových řádků či tabulátory, které text činí přehlednějším. Proto asi nejrozumnější bude použít pattern \\[^\\S\\n\\t\\]+. Ten se chytne na všechny znaky mimo těch, které jsou \"nebíle\", jsou znak nového řádku anebo jsou tabulátor."
   ]
  },
  {
   "cell_type": "markdown",
   "metadata": {},
   "source": [
    "## Teradata\n",
    "Z hlediska znaků v patternu Teradata podporuje stejné věci jako Python - tj. vše od * a ? přes \"\\w\" a \"\\b\" až po zpětné reference na grupu funguje. Podívejme se tedy na funkce, které s patterny pracují.  \n",
    "Zdůrazněme, že tyto funkce má smysl použít v selectech, avšak ve wheru nebo v joinovacích podmínkách by rychlost zpracování byla bídná.\n",
    "### REGEXP_SUBSTR\n",
    "Funkce *REGEXP_SUBSTR* je ekvivalentem pythoního *re.search*. Tj. najde první výskyt patternu (2. argument) v textu (1. argument). \n",
    "Například\n",
    "```SQL\n",
    "SELECT REGEXP_SUBSTR('Do you like hamsters?', '(dog|cat|hamster)');\n",
    "```\n",
    "vrací *hamster*.  \n",
    "Příklad použití v normálním dotazu, kdy chceme z řetězce ve sloupci patent_name vzít až anglickou sekci uvozenou pomocí \"EN:\":\n",
    "```SQL\n",
    "select\n",
    "   patent_submission_year,\n",
    "   patent_name,\n",
    "   REGEXP_SUBSTR(patent_name, 'EN:.*')\n",
    "from wsp_ai.vsa_patents\n",
    "```\n",
    "\n",
    "Volitelnými parametry funkce jsou \n",
    "- pozice v textu, od které hledání začíná; defaultní je 1, což u Teradaty znamená první znak (narozdíl od Pythonu se nezačíná od indexu 0).\n",
    "- kolikátý výskyt patternu se má vrátit. Opravdu se vrací jen n-tý výskyt, nikoli n výskytů! Pokud je n větší než faktický počet výskytů patternu, vrátí se NULL.   \n",
    "   Příklad:  \n",
    "   ```SQL\n",
    "   SELECT REGEXP_SUBSTR('Do you like hamsters or cats?', '(dog|cat|hamster)',1,2);\n",
    "   ```\n",
    "   vrací *cat*.\n",
    "   ```SQL\n",
    "   SELECT REGEXP_SUBSTR('Do you like hamsters or cats?', '(dog|cat|hamster)',1,3);\n",
    "   ```\n",
    "   vrací *NULL*\n",
    "- flagy:\n",
    "    - 'c': rozlišování velikosti písmen (defaultní)  \n",
    "    - 'i': nerozlišování velikosti písmen\n",
    "    - 'n': tečka může matchnout i znak odřádkování (defaultně to nejde)\n",
    "    - 'm': text je braný jako multiřádkový, tj. stříška a dolar se matchne nejen na začátek a konec textu (což je default), ale i na začátky a konce řádků\n",
    "    - 'x': ignorování bílých znaků v patternu. tj.\n",
    "    ```SQL\n",
    "    SELECT REGEXP_SUBSTR('Hamster parrot catdog', 'cat dog',1,1, 'x');\n",
    "    ```\n",
    "    vrátí catdog, avšak\n",
    "    ```SQL\n",
    "    SELECT REGEXP_SUBSTR('Hamster parrot cat dog', 'catdog',1,1, 'x');\n",
    "    ```\n",
    "    vrátí NULL. Hypoteticky by to mohlo být užitečné pro zpřehlednění patternu.  \n",
    "   \n",
    "    Obecně můžeme mít flagů najednou více, například\n",
    "    ```SQL\n",
    "    SELECT REGEXP_SUBSTR('Hamster parrot CATdog', 'cat dog',1,1, 'xi');\n",
    "    ```\n",
    "\n",
    "Jinak když chceme použít n+1-tý parametr, musíme použít i n-tý parametr. Tj. když chceme použít flagy, musíme uvést i pozici v textu a to, kolikátý výskyt patternu v textu požadujeme."
   ]
  },
  {
   "cell_type": "markdown",
   "metadata": {},
   "source": [
    "### REGEX_REPLACE\n",
    "Jedná se o obdobu pythoního re.sub, tj. nahrazuje výskyty patternu (2. parametr) v textu (1. parametr) řetězcem v 3. parametru.  \n",
    "Příklad:\n",
    "```SQL\n",
    "SELECT REGEXP_REPLACE('Do you like hamsters?', 'h[a-z]+s?', 'cats');\n",
    "```\n",
    "vrátí \"Do you like cats?\"  \n",
    "Stejně jak v předchozím případě se i zde vyskytují tři nepovinné parametry - index, od kterého začne funkce text zkoumat, pořadí výskytu patternu, který je nahrazen, a flagy. Jako příklad si vezměme situaci bez dodatečných parametrů:\n",
    "```SQL\n",
    "SELECT REGEXP_REPLACE('Hamsters... hamsters... hamsters are everywhere', 'hamsters', 'HAMSTERS');\n",
    "```\n",
    "Vrácena bude věta \"Hamsters... HAMSTERS... HAMSTERS are everywhere\". Tj. nahrazování je case sensitive a nahrazeny jsou všechny výskyty patternu. Nyní řekneme, že chceme case insensitive chování a chceme nahradit jen druhý výskyt patternu:\n",
    "```SQL\n",
    "SELECT REGEXP_REPLACE('Hamsters... hamsters... hamsters are everywhere', 'hamsters', 'HAMSTERS', 1, 2, 'i');\n",
    "```\n",
    "Výsledkem bude \"Hamsters... HAMSTERS... hamsters are everywhere\".\n"
   ]
  },
  {
   "cell_type": "markdown",
   "metadata": {},
   "source": [
    "### REGEX_INSTR\n",
    "Zde máme co do činění s bratrancem *REGEXP_SUBSTR*. Zatímco ale ten vracel řetězec v textu, který odpovídal patternu. *REGEX_INSTR* vrací index, na kterém tento řetězec v textu začíná.  Tj. například\n",
    "```SQL\n",
    "SELECT REGEXP_INSTR('Hamsters... hamsters... hamsters are everywhere', 'hamsters');\n",
    "```\n",
    "vrátí třináctku.  \n",
    "Volitelné parametry jsou tentokrát čtyři. První odpovídá počáteční pozici hledání, druhý počtu hledaných výskytů patternu a čtvrtý flagům. Novinkou je parametr třetí, který může nabýt hodnot 0 či 1. Defaultní nula znamená, že uživatel chce vrátit index, kde výskyt patternu v textu začíná; jednička značí, že uživatel chce znát index, kde výskyt patternu končí."
   ]
  },
  {
   "cell_type": "markdown",
   "metadata": {},
   "source": [
    "### REGEX_SIMILAR\n",
    "Tato funkce porovnává text (1. parametr) a pattern (2. parametr). Pokud jsou stejné, vrátí jedničku, v opačném případě uživatel obdrží nulu. Vyskytuje se zde jenom jeden volitelný parametr - flagy.\n",
    "Příklad:\n",
    "```SQL\n",
    "SELECT REGEXP_SIMILAR('Hamsters', 'hamsters');\n",
    "```\n",
    "vrátí nulu,\n",
    "```SQL\n",
    "SELECT REGEXP_SIMILAR('Hamsters', '(h|H)amsters');\n",
    "```\n",
    "vrátí jedničku."
   ]
  },
  {
   "cell_type": "markdown",
   "metadata": {},
   "source": [
    "### REGEX_SPLIT_TO_TABLE\n",
    "Funkce umožňuje vzít řetězec a na základě přitomnosti patternu ho rozdělit na několik kusů. Tyto kusy posléze budou bydlet na samostatných řádcích vytvořené tabulky.\n",
    "Tj. toto\n",
    "```SQL\n",
    "SELECT * from table \n",
    "  ( \n",
    "      regexp_split_to_table('animals', 'dog,cat;hamster|horse','[,;|]','c') \n",
    "\t  returns (identifier varchar(100), row_no integer, entity varchar(100))\n",
    "  ) as t1;\n",
    "```\n",
    "vede na  \n",
    "\n",
    "|identifier|row_no|entity|\n",
    "|-|-|-|\n",
    "|animals|1|dog|\n",
    "|animals|2|cat|\n",
    "|animals|3|hamster|\n",
    "|animals|4|horse|\n",
    "\n",
    "Řetězce, pattterny i flagy lze brát všechny z tabulek v databázi. Dejme tomu, že v kontejneru wsp_ai máme tabulku split_table_example o následujícím obsahu:\n",
    "\n",
    "|id_text|silly_text|parsing_pattern|regex_flag|\n",
    "|-|-|-|-|\n",
    "|languages|python12java13c++14scala|[0-9]+|c|\n",
    "|animals|dog34cat45hamster76horse|[0-9]+|c|\n",
    "\n",
    "Když do teradatího SQL asistenta napíšeme \n",
    "```SQL\n",
    "SELECT * from table \n",
    "  ( \n",
    "      regexp_split_to_table(wsp_ai.split_table_example.id_text,\n",
    "                            wsp_ai.split_table_example.silly_text, \n",
    "                            wsp_ai.split_table_example.parsing_pattern,\n",
    "                            wsp_ai.split_table_example.regex_flag) \n",
    "\t  returns (identifier varchar(100), row_no integer, entity varchar(100))\n",
    "  ) as t1\n",
    "order by t1.identifier, t1.row_no;\n",
    "```\n",
    "obdržíme\n",
    "\n",
    "|identifiers|row_no|entity|\n",
    "|-|-|-|\n",
    "|animals |1|dog|\n",
    "|animals |2|cat|\n",
    "|animals |3|hamster|\n",
    "|animals |4|horse|\n",
    "|languages|1|python|\n",
    "|languages|2|java|\n",
    "|languages|3|c++|\n",
    "|languages|4|scala|\n"
   ]
  },
  {
   "cell_type": "code",
   "execution_count": null,
   "metadata": {},
   "outputs": [],
   "source": []
  }
 ],
 "metadata": {
  "kernelspec": {
   "display_name": "Python 3 (ipykernel)",
   "language": "python",
   "name": "python3"
  },
  "language_info": {
   "codemirror_mode": {
    "name": "ipython",
    "version": 3
   },
   "file_extension": ".py",
   "mimetype": "text/x-python",
   "name": "python",
   "nbconvert_exporter": "python",
   "pygments_lexer": "ipython3",
   "version": "3.10.11"
  },
  "varInspector": {
   "cols": {
    "lenName": 16,
    "lenType": 16,
    "lenVar": 40
   },
   "kernels_config": {
    "python": {
     "delete_cmd_postfix": "",
     "delete_cmd_prefix": "del ",
     "library": "var_list.py",
     "varRefreshCmd": "print(var_dic_list())"
    },
    "r": {
     "delete_cmd_postfix": ") ",
     "delete_cmd_prefix": "rm(",
     "library": "var_list.r",
     "varRefreshCmd": "cat(var_dic_list()) "
    }
   },
   "types_to_exclude": [
    "module",
    "function",
    "builtin_function_or_method",
    "instance",
    "_Feature"
   ],
   "window_display": false
  }
 },
 "nbformat": 4,
 "nbformat_minor": 4
}
