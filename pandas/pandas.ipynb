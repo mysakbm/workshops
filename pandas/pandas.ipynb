{
 "cells": [
  {
   "cell_type": "markdown",
   "metadata": {},
   "source": [
    "# Pandas\n",
    "Na dnešním workshopu se budeme věnovat pythonímu balíčku Pandas. Cílem tohoto balíčku je poskytnutí takových datových struktur, které dovolí rychlou a snadnou práci s tabulkoidními daty, které najdeme v excelovských worksheetech anebo ve výsledcích SQL dotazů.\n",
    "Na minulém workshopu jsme pracovali s konzolí a s Notepadem++, se kterým jsme editovaly py soubor. Pro dnešek bude náš hlavní pracoví nástroj Jupyter notebook. Jelikož se s tím někteří z Vás ještě nemuseli setkat, bude na workshopu *velice* krátké seznámení s ním.\n",
    "### Obsah\n",
    "[Řuční vytváření a základní operace](#Ruční-vytváření-a-základní-operace)  \n",
    "[Manipulace se sloupci dataframu](#Manipulace-se-sloupci-dataframu)  \n",
    "[Manipulace s řádky dataframu](#Manipulace-s-řádky-dataframu)  \n",
    "[SQL dotazy v Pandas](#SQL-dotazy-v-Pandas)  \n",
    "[Čtení a zápis](#Čtení-a-zápis)  \n",
    "[Vizualizace](#Vizualizace) "
   ]
  },
  {
   "cell_type": "markdown",
   "metadata": {},
   "source": [
    "### Ruční vytváření a základní operace\n",
    "Ruční vytváření pandích tabulek - DataFramů - asi není ta nejčastější operace, kterou člověk s balíčkem Pandas provádí. Nicméně svoje místo to má, zejména při psaní testů.\n",
    "Nejprve je třeba pandí balíček importovat. Zažila se zvyklost, že se na import vypustí alias pd, aby nebyl kód zbytečně nafukován přeci jen delším názvem balíčku. "
   ]
  },
  {
   "cell_type": "code",
   "execution_count": 1,
   "metadata": {
    "ExecuteTime": {
     "end_time": "2020-11-23T19:54:06.314944Z",
     "start_time": "2020-11-23T19:53:55.078439Z"
    }
   },
   "outputs": [],
   "source": [
    "import pandas as pd\n",
    "import numpy as np\n",
    "import matplotlib.pyplot as plt"
   ]
  },
  {
   "cell_type": "markdown",
   "metadata": {},
   "source": [
    "Balíček Pandas obsahuje dva základní datové typy - Series ala 1D strukturu (představte si pod tím třeba sloupec tabulky) a DataFrame ala 2D strukturu složenou právě z objektů typu Series. Jelikož čas tohoto workshopu je omezen, budeme se primárně věnovat druhému jmenovanému. \n",
    "Vytvoření prázdného dataframu není zrovna náročné:"
   ]
  },
  {
   "cell_type": "code",
   "execution_count": 12,
   "metadata": {
    "ExecuteTime": {
     "end_time": "2020-05-08T17:27:09.908464Z",
     "start_time": "2020-05-08T17:27:09.721326Z"
    }
   },
   "outputs": [
    {
     "data": {
      "text/html": [
       "<div>\n",
       "<style scoped>\n",
       "    .dataframe tbody tr th:only-of-type {\n",
       "        vertical-align: middle;\n",
       "    }\n",
       "\n",
       "    .dataframe tbody tr th {\n",
       "        vertical-align: top;\n",
       "    }\n",
       "\n",
       "    .dataframe thead th {\n",
       "        text-align: right;\n",
       "    }\n",
       "</style>\n",
       "<table border=\"1\" class=\"dataframe\">\n",
       "  <thead>\n",
       "    <tr style=\"text-align: right;\">\n",
       "      <th></th>\n",
       "    </tr>\n",
       "  </thead>\n",
       "  <tbody>\n",
       "  </tbody>\n",
       "</table>\n",
       "</div>"
      ],
      "text/plain": [
       "Empty DataFrame\n",
       "Columns: []\n",
       "Index: []"
      ]
     },
     "execution_count": 12,
     "metadata": {},
     "output_type": "execute_result"
    }
   ],
   "source": [
    "prazdny_dataframe = pd.DataFrame()\n",
    "prazdny_dataframe"
   ]
  },
  {
   "cell_type": "markdown",
   "metadata": {},
   "source": [
    "Pakliže chceme vytvořit dataframe již naplněný daty, musíme do konstrukturu vložit slovník, kde klíči jsou stringy - názvy sloupců a hodnotami jsou listy obsahující hodnoty v daném sloupci. Jednotlivé sloupce mohou mít různé datové typy. Musí mít ale stejnou délku, jinak Vás čeká setkání s ValueError."
   ]
  },
  {
   "cell_type": "code",
   "execution_count": 13,
   "metadata": {
    "ExecuteTime": {
     "end_time": "2020-05-08T17:27:33.914256Z",
     "start_time": "2020-05-08T17:27:33.610666Z"
    }
   },
   "outputs": [
    {
     "data": {
      "text/html": [
       "<div>\n",
       "<style scoped>\n",
       "    .dataframe tbody tr th:only-of-type {\n",
       "        vertical-align: middle;\n",
       "    }\n",
       "\n",
       "    .dataframe tbody tr th {\n",
       "        vertical-align: top;\n",
       "    }\n",
       "\n",
       "    .dataframe thead th {\n",
       "        text-align: right;\n",
       "    }\n",
       "</style>\n",
       "<table border=\"1\" class=\"dataframe\">\n",
       "  <thead>\n",
       "    <tr style=\"text-align: right;\">\n",
       "      <th></th>\n",
       "      <th>cela cisla</th>\n",
       "      <th>stringy</th>\n",
       "      <th>smes</th>\n",
       "    </tr>\n",
       "  </thead>\n",
       "  <tbody>\n",
       "    <tr>\n",
       "      <th>0</th>\n",
       "      <td>1</td>\n",
       "      <td>jedna</td>\n",
       "      <td>1</td>\n",
       "    </tr>\n",
       "    <tr>\n",
       "      <th>1</th>\n",
       "      <td>2</td>\n",
       "      <td>dva</td>\n",
       "      <td>2</td>\n",
       "    </tr>\n",
       "    <tr>\n",
       "      <th>2</th>\n",
       "      <td>3</td>\n",
       "      <td>tři</td>\n",
       "      <td>hodně</td>\n",
       "    </tr>\n",
       "    <tr>\n",
       "      <th>3</th>\n",
       "      <td>4</td>\n",
       "      <td>čtyři</td>\n",
       "      <td>málo</td>\n",
       "    </tr>\n",
       "    <tr>\n",
       "      <th>4</th>\n",
       "      <td>155</td>\n",
       "      <td>pět</td>\n",
       "      <td>1.23</td>\n",
       "    </tr>\n",
       "  </tbody>\n",
       "</table>\n",
       "</div>"
      ],
      "text/plain": [
       "   cela cisla stringy   smes\n",
       "0           1   jedna      1\n",
       "1           2     dva      2\n",
       "2           3     tři  hodně\n",
       "3           4   čtyři   málo\n",
       "4         155     pět   1.23"
      ]
     },
     "execution_count": 13,
     "metadata": {},
     "output_type": "execute_result"
    }
   ],
   "source": [
    "jenom_integery = [1,2,3,4,155]\n",
    "jenom_stringy = [\"jedna\", \"dva\", \"tři\", \"čtyři\", \"pět\"]\n",
    "vsechno_mozne = [1,2, \"hodně\", \"málo\", 1.23]\n",
    "naplneny_dataframe = pd.DataFrame({\"cela cisla\": jenom_integery, \"stringy\": jenom_stringy, \"smes\": vsechno_mozne})\n",
    "naplneny_dataframe"
   ]
  },
  {
   "cell_type": "markdown",
   "metadata": {},
   "source": [
    "Co s takovýmto DataFramem můžeme dělat? Lze na něj kupříkladu vypustit funkce, které nám o něm poskytnou obecné informace. \n",
    "Funkce info nám řekne, kolik má dataframe řádků (5) a jaké mají řádky indexy (0 až 4). Dále nám sdělí, jaký je datový typ příslušného sloupce. Pokud jsou v celém sloupci integery, spatříme int64, pokud máme datové typy smíchané, bude typem sloupce object. To samé uvidíme i u sloupce plného stringů. Pokud u sloupce, který měl obsahovat čísla, uvidíte object, značí to problém. Typická je záměna desetinné tečky za desetinnou čárku. Podobná věc často nastává i u fakticky datumových sloupců, které ale nebyly na datumový typ převedeny."
   ]
  },
  {
   "cell_type": "code",
   "execution_count": 14,
   "metadata": {
    "ExecuteTime": {
     "end_time": "2020-05-08T17:27:36.435136Z",
     "start_time": "2020-05-08T17:27:36.423171Z"
    }
   },
   "outputs": [
    {
     "name": "stdout",
     "output_type": "stream",
     "text": [
      "<class 'pandas.core.frame.DataFrame'>\n",
      "RangeIndex: 5 entries, 0 to 4\n",
      "Data columns (total 3 columns):\n",
      " #   Column      Non-Null Count  Dtype \n",
      "---  ------      --------------  ----- \n",
      " 0   cela cisla  5 non-null      int64 \n",
      " 1   stringy     5 non-null      object\n",
      " 2   smes        5 non-null      object\n",
      "dtypes: int64(1), object(2)\n",
      "memory usage: 248.0+ bytes\n"
     ]
    }
   ],
   "source": [
    "naplneny_dataframe.info()"
   ]
  },
  {
   "cell_type": "markdown",
   "metadata": {},
   "source": [
    "Funkce info nám sice řekne, jak je dataframe velký, tuto informaci ale obklopuje hromada textu. Neexistovala by jiná cesta, jak tento údaj získat bez zbytečného balastu okolo?\n",
    "První možností je shape. Zde by se slušelo zdůraznit, že v tomto případě se nejedná o funkci, ale o parametr objektu. Ten má konkrétně formu tuplu o dvou prvcích, z nichž první představuje počet řádků a druhý počet sloupců."
   ]
  },
  {
   "cell_type": "code",
   "execution_count": 15,
   "metadata": {
    "ExecuteTime": {
     "end_time": "2020-05-08T17:27:41.010682Z",
     "start_time": "2020-05-08T17:27:41.005695Z"
    }
   },
   "outputs": [
    {
     "data": {
      "text/plain": [
       "(5, 3)"
      ]
     },
     "execution_count": 15,
     "metadata": {},
     "output_type": "execute_result"
    }
   ],
   "source": [
    "naplneny_dataframe.shape"
   ]
  },
  {
   "cell_type": "markdown",
   "metadata": {},
   "source": [
    "Samozřejmě je pro pandí dataframe definovaná i funkce len. Ta vrací jedno číslo - počet řádků."
   ]
  },
  {
   "cell_type": "code",
   "execution_count": 16,
   "metadata": {
    "ExecuteTime": {
     "end_time": "2020-05-08T17:27:42.247847Z",
     "start_time": "2020-05-08T17:27:42.242822Z"
    }
   },
   "outputs": [
    {
     "data": {
      "text/plain": [
       "5"
      ]
     },
     "execution_count": 16,
     "metadata": {},
     "output_type": "execute_result"
    }
   ],
   "source": [
    "len(naplneny_dataframe)"
   ]
  },
  {
   "cell_type": "markdown",
   "metadata": {},
   "source": [
    "Druhou dataframy obecně popisující funkcí je describe. Ta pro číselné sloupce ukazuje věci typu maximum, medián  či průměr. Pro smíšené sloupce či sloupce se stringy nám funkce poskytne informace o počtu hondot, o počtu unikátních hodnot a ukáže nám též nejčastější se vyskytující prvek i s počtem jeho výskytů.\n",
    "Bacha - pokud tuto funkci u dataframu s různými typy sloupců zavoláme bez parametru, objeví se před námi shrnutí pouze jednoho typu sloupců. Pokud chceme vidět vše najednou, musíme použít parametr include, kterému je přiřazena hodnota \"all\"."
   ]
  },
  {
   "cell_type": "code",
   "execution_count": 17,
   "metadata": {
    "ExecuteTime": {
     "end_time": "2020-05-08T17:27:44.301702Z",
     "start_time": "2020-05-08T17:27:43.909425Z"
    }
   },
   "outputs": [
    {
     "data": {
      "text/html": [
       "<div>\n",
       "<style scoped>\n",
       "    .dataframe tbody tr th:only-of-type {\n",
       "        vertical-align: middle;\n",
       "    }\n",
       "\n",
       "    .dataframe tbody tr th {\n",
       "        vertical-align: top;\n",
       "    }\n",
       "\n",
       "    .dataframe thead th {\n",
       "        text-align: right;\n",
       "    }\n",
       "</style>\n",
       "<table border=\"1\" class=\"dataframe\">\n",
       "  <thead>\n",
       "    <tr style=\"text-align: right;\">\n",
       "      <th></th>\n",
       "      <th>cela cisla</th>\n",
       "      <th>stringy</th>\n",
       "      <th>smes</th>\n",
       "    </tr>\n",
       "  </thead>\n",
       "  <tbody>\n",
       "    <tr>\n",
       "      <th>count</th>\n",
       "      <td>5.000000</td>\n",
       "      <td>5</td>\n",
       "      <td>5</td>\n",
       "    </tr>\n",
       "    <tr>\n",
       "      <th>unique</th>\n",
       "      <td>NaN</td>\n",
       "      <td>5</td>\n",
       "      <td>5</td>\n",
       "    </tr>\n",
       "    <tr>\n",
       "      <th>top</th>\n",
       "      <td>NaN</td>\n",
       "      <td>pět</td>\n",
       "      <td>málo</td>\n",
       "    </tr>\n",
       "    <tr>\n",
       "      <th>freq</th>\n",
       "      <td>NaN</td>\n",
       "      <td>1</td>\n",
       "      <td>1</td>\n",
       "    </tr>\n",
       "    <tr>\n",
       "      <th>mean</th>\n",
       "      <td>33.000000</td>\n",
       "      <td>NaN</td>\n",
       "      <td>NaN</td>\n",
       "    </tr>\n",
       "    <tr>\n",
       "      <th>std</th>\n",
       "      <td>68.209237</td>\n",
       "      <td>NaN</td>\n",
       "      <td>NaN</td>\n",
       "    </tr>\n",
       "    <tr>\n",
       "      <th>min</th>\n",
       "      <td>1.000000</td>\n",
       "      <td>NaN</td>\n",
       "      <td>NaN</td>\n",
       "    </tr>\n",
       "    <tr>\n",
       "      <th>25%</th>\n",
       "      <td>2.000000</td>\n",
       "      <td>NaN</td>\n",
       "      <td>NaN</td>\n",
       "    </tr>\n",
       "    <tr>\n",
       "      <th>50%</th>\n",
       "      <td>3.000000</td>\n",
       "      <td>NaN</td>\n",
       "      <td>NaN</td>\n",
       "    </tr>\n",
       "    <tr>\n",
       "      <th>75%</th>\n",
       "      <td>4.000000</td>\n",
       "      <td>NaN</td>\n",
       "      <td>NaN</td>\n",
       "    </tr>\n",
       "    <tr>\n",
       "      <th>max</th>\n",
       "      <td>155.000000</td>\n",
       "      <td>NaN</td>\n",
       "      <td>NaN</td>\n",
       "    </tr>\n",
       "  </tbody>\n",
       "</table>\n",
       "</div>"
      ],
      "text/plain": [
       "        cela cisla stringy  smes\n",
       "count     5.000000       5     5\n",
       "unique         NaN       5     5\n",
       "top            NaN     pět  málo\n",
       "freq           NaN       1     1\n",
       "mean     33.000000     NaN   NaN\n",
       "std      68.209237     NaN   NaN\n",
       "min       1.000000     NaN   NaN\n",
       "25%       2.000000     NaN   NaN\n",
       "50%       3.000000     NaN   NaN\n",
       "75%       4.000000     NaN   NaN\n",
       "max     155.000000     NaN   NaN"
      ]
     },
     "execution_count": 17,
     "metadata": {},
     "output_type": "execute_result"
    }
   ],
   "source": [
    "naplneny_dataframe.describe(include=\"all\")"
   ]
  },
  {
   "cell_type": "markdown",
   "metadata": {},
   "source": [
    "### Manipulace se sloupci dataframu\n",
    "Pokud chceme vybrat jeden sloupec dataframu, vložíme jeho název do hranatých uvozovek, které následují po jménu dotčeného dataframu. Bacha - takto získame 1D Series objekt, nikoli 2D objekt DataFrame."
   ]
  },
  {
   "cell_type": "code",
   "execution_count": 18,
   "metadata": {
    "ExecuteTime": {
     "end_time": "2020-05-08T17:27:49.231487Z",
     "start_time": "2020-05-08T17:27:49.222549Z"
    }
   },
   "outputs": [
    {
     "data": {
      "text/plain": [
       "0      1\n",
       "1      2\n",
       "2      3\n",
       "3      4\n",
       "4    155\n",
       "Name: cela cisla, dtype: int64"
      ]
     },
     "execution_count": 18,
     "metadata": {},
     "output_type": "execute_result"
    }
   ],
   "source": [
    "naplneny_dataframe[\"cela cisla\"]"
   ]
  },
  {
   "cell_type": "markdown",
   "metadata": {},
   "source": [
    "Alternativně lze psát (pakliže v názvu sloupce není mezera)"
   ]
  },
  {
   "cell_type": "code",
   "execution_count": 19,
   "metadata": {
    "ExecuteTime": {
     "end_time": "2020-05-08T17:27:51.010295Z",
     "start_time": "2020-05-08T17:27:51.002281Z"
    }
   },
   "outputs": [
    {
     "data": {
      "text/plain": [
       "0    jedna\n",
       "1      dva\n",
       "2      tři\n",
       "3    čtyři\n",
       "4      pět\n",
       "Name: stringy, dtype: object"
      ]
     },
     "execution_count": 19,
     "metadata": {},
     "output_type": "execute_result"
    }
   ],
   "source": [
    "naplneny_dataframe.stringy"
   ]
  },
  {
   "cell_type": "markdown",
   "metadata": {},
   "source": [
    "Člověk by si mohl myslet, že pro zobrazení více sloupců stačí psát jména těchto sloupců za sebe oddělené čárkami. Takto jednoduché to ale není:"
   ]
  },
  {
   "cell_type": "code",
   "execution_count": 20,
   "metadata": {
    "ExecuteTime": {
     "end_time": "2020-05-08T17:27:53.703278Z",
     "start_time": "2020-05-08T17:27:53.305966Z"
    },
    "hide_input": false
   },
   "outputs": [
    {
     "ename": "KeyError",
     "evalue": "('cela cisla', 'stringy')",
     "output_type": "error",
     "traceback": [
      "\u001b[1;31m---------------------------------------------------------------------------\u001b[0m",
      "\u001b[1;31mKeyError\u001b[0m                                  Traceback (most recent call last)",
      "\u001b[1;32mc:\\vs\\programovani\\python\\workshopy\\environment\\lib\\site-packages\\pandas\\core\\indexes\\base.py\u001b[0m in \u001b[0;36mget_loc\u001b[1;34m(self, key, method, tolerance)\u001b[0m\n\u001b[0;32m   2894\u001b[0m             \u001b[1;32mtry\u001b[0m\u001b[1;33m:\u001b[0m\u001b[1;33m\u001b[0m\u001b[1;33m\u001b[0m\u001b[0m\n\u001b[1;32m-> 2895\u001b[1;33m                 \u001b[1;32mreturn\u001b[0m \u001b[0mself\u001b[0m\u001b[1;33m.\u001b[0m\u001b[0m_engine\u001b[0m\u001b[1;33m.\u001b[0m\u001b[0mget_loc\u001b[0m\u001b[1;33m(\u001b[0m\u001b[0mcasted_key\u001b[0m\u001b[1;33m)\u001b[0m\u001b[1;33m\u001b[0m\u001b[1;33m\u001b[0m\u001b[0m\n\u001b[0m\u001b[0;32m   2896\u001b[0m             \u001b[1;32mexcept\u001b[0m \u001b[0mKeyError\u001b[0m \u001b[1;32mas\u001b[0m \u001b[0merr\u001b[0m\u001b[1;33m:\u001b[0m\u001b[1;33m\u001b[0m\u001b[1;33m\u001b[0m\u001b[0m\n",
      "\u001b[1;32mpandas\\_libs\\index.pyx\u001b[0m in \u001b[0;36mpandas._libs.index.IndexEngine.get_loc\u001b[1;34m()\u001b[0m\n",
      "\u001b[1;32mpandas\\_libs\\index.pyx\u001b[0m in \u001b[0;36mpandas._libs.index.IndexEngine.get_loc\u001b[1;34m()\u001b[0m\n",
      "\u001b[1;32mpandas\\_libs\\hashtable_class_helper.pxi\u001b[0m in \u001b[0;36mpandas._libs.hashtable.PyObjectHashTable.get_item\u001b[1;34m()\u001b[0m\n",
      "\u001b[1;32mpandas\\_libs\\hashtable_class_helper.pxi\u001b[0m in \u001b[0;36mpandas._libs.hashtable.PyObjectHashTable.get_item\u001b[1;34m()\u001b[0m\n",
      "\u001b[1;31mKeyError\u001b[0m: ('cela cisla', 'stringy')",
      "\nThe above exception was the direct cause of the following exception:\n",
      "\u001b[1;31mKeyError\u001b[0m                                  Traceback (most recent call last)",
      "\u001b[1;32m<ipython-input-20-2b2b940b7fa2>\u001b[0m in \u001b[0;36m<module>\u001b[1;34m\u001b[0m\n\u001b[1;32m----> 1\u001b[1;33m \u001b[0mnaplneny_dataframe\u001b[0m\u001b[1;33m[\u001b[0m\u001b[1;34m\"cela cisla\"\u001b[0m\u001b[1;33m,\u001b[0m \u001b[1;34m\"stringy\"\u001b[0m\u001b[1;33m]\u001b[0m\u001b[1;33m\u001b[0m\u001b[1;33m\u001b[0m\u001b[0m\n\u001b[0m",
      "\u001b[1;32mc:\\vs\\programovani\\python\\workshopy\\environment\\lib\\site-packages\\pandas\\core\\frame.py\u001b[0m in \u001b[0;36m__getitem__\u001b[1;34m(self, key)\u001b[0m\n\u001b[0;32m   2904\u001b[0m             \u001b[1;32mif\u001b[0m \u001b[0mself\u001b[0m\u001b[1;33m.\u001b[0m\u001b[0mcolumns\u001b[0m\u001b[1;33m.\u001b[0m\u001b[0mnlevels\u001b[0m \u001b[1;33m>\u001b[0m \u001b[1;36m1\u001b[0m\u001b[1;33m:\u001b[0m\u001b[1;33m\u001b[0m\u001b[1;33m\u001b[0m\u001b[0m\n\u001b[0;32m   2905\u001b[0m                 \u001b[1;32mreturn\u001b[0m \u001b[0mself\u001b[0m\u001b[1;33m.\u001b[0m\u001b[0m_getitem_multilevel\u001b[0m\u001b[1;33m(\u001b[0m\u001b[0mkey\u001b[0m\u001b[1;33m)\u001b[0m\u001b[1;33m\u001b[0m\u001b[1;33m\u001b[0m\u001b[0m\n\u001b[1;32m-> 2906\u001b[1;33m             \u001b[0mindexer\u001b[0m \u001b[1;33m=\u001b[0m \u001b[0mself\u001b[0m\u001b[1;33m.\u001b[0m\u001b[0mcolumns\u001b[0m\u001b[1;33m.\u001b[0m\u001b[0mget_loc\u001b[0m\u001b[1;33m(\u001b[0m\u001b[0mkey\u001b[0m\u001b[1;33m)\u001b[0m\u001b[1;33m\u001b[0m\u001b[1;33m\u001b[0m\u001b[0m\n\u001b[0m\u001b[0;32m   2907\u001b[0m             \u001b[1;32mif\u001b[0m \u001b[0mis_integer\u001b[0m\u001b[1;33m(\u001b[0m\u001b[0mindexer\u001b[0m\u001b[1;33m)\u001b[0m\u001b[1;33m:\u001b[0m\u001b[1;33m\u001b[0m\u001b[1;33m\u001b[0m\u001b[0m\n\u001b[0;32m   2908\u001b[0m                 \u001b[0mindexer\u001b[0m \u001b[1;33m=\u001b[0m \u001b[1;33m[\u001b[0m\u001b[0mindexer\u001b[0m\u001b[1;33m]\u001b[0m\u001b[1;33m\u001b[0m\u001b[1;33m\u001b[0m\u001b[0m\n",
      "\u001b[1;32mc:\\vs\\programovani\\python\\workshopy\\environment\\lib\\site-packages\\pandas\\core\\indexes\\base.py\u001b[0m in \u001b[0;36mget_loc\u001b[1;34m(self, key, method, tolerance)\u001b[0m\n\u001b[0;32m   2895\u001b[0m                 \u001b[1;32mreturn\u001b[0m \u001b[0mself\u001b[0m\u001b[1;33m.\u001b[0m\u001b[0m_engine\u001b[0m\u001b[1;33m.\u001b[0m\u001b[0mget_loc\u001b[0m\u001b[1;33m(\u001b[0m\u001b[0mcasted_key\u001b[0m\u001b[1;33m)\u001b[0m\u001b[1;33m\u001b[0m\u001b[1;33m\u001b[0m\u001b[0m\n\u001b[0;32m   2896\u001b[0m             \u001b[1;32mexcept\u001b[0m \u001b[0mKeyError\u001b[0m \u001b[1;32mas\u001b[0m \u001b[0merr\u001b[0m\u001b[1;33m:\u001b[0m\u001b[1;33m\u001b[0m\u001b[1;33m\u001b[0m\u001b[0m\n\u001b[1;32m-> 2897\u001b[1;33m                 \u001b[1;32mraise\u001b[0m \u001b[0mKeyError\u001b[0m\u001b[1;33m(\u001b[0m\u001b[0mkey\u001b[0m\u001b[1;33m)\u001b[0m \u001b[1;32mfrom\u001b[0m \u001b[0merr\u001b[0m\u001b[1;33m\u001b[0m\u001b[1;33m\u001b[0m\u001b[0m\n\u001b[0m\u001b[0;32m   2898\u001b[0m \u001b[1;33m\u001b[0m\u001b[0m\n\u001b[0;32m   2899\u001b[0m         \u001b[1;32mif\u001b[0m \u001b[0mtolerance\u001b[0m \u001b[1;32mis\u001b[0m \u001b[1;32mnot\u001b[0m \u001b[1;32mNone\u001b[0m\u001b[1;33m:\u001b[0m\u001b[1;33m\u001b[0m\u001b[1;33m\u001b[0m\u001b[0m\n",
      "\u001b[1;31mKeyError\u001b[0m: ('cela cisla', 'stringy')"
     ]
    }
   ],
   "source": [
    "naplneny_dataframe[\"cela cisla\", \"stringy\"]"
   ]
  },
  {
   "cell_type": "markdown",
   "metadata": {},
   "source": [
    "V případě, kdy počet vybíraných sloupců přesáhne jedna, je nutné se dataframu předávat jako list, tj. seznam jmen musí být obklopen dvojicí hranatých závorek. To má mimo jiné za následek, že je vracen DataFrame a ne Series."
   ]
  },
  {
   "cell_type": "code",
   "execution_count": 21,
   "metadata": {
    "ExecuteTime": {
     "end_time": "2020-05-08T17:28:30.971067Z",
     "start_time": "2020-05-08T17:28:30.955112Z"
    }
   },
   "outputs": [
    {
     "data": {
      "text/html": [
       "<div>\n",
       "<style scoped>\n",
       "    .dataframe tbody tr th:only-of-type {\n",
       "        vertical-align: middle;\n",
       "    }\n",
       "\n",
       "    .dataframe tbody tr th {\n",
       "        vertical-align: top;\n",
       "    }\n",
       "\n",
       "    .dataframe thead th {\n",
       "        text-align: right;\n",
       "    }\n",
       "</style>\n",
       "<table border=\"1\" class=\"dataframe\">\n",
       "  <thead>\n",
       "    <tr style=\"text-align: right;\">\n",
       "      <th></th>\n",
       "      <th>cela cisla</th>\n",
       "      <th>stringy</th>\n",
       "    </tr>\n",
       "  </thead>\n",
       "  <tbody>\n",
       "    <tr>\n",
       "      <th>0</th>\n",
       "      <td>1</td>\n",
       "      <td>jedna</td>\n",
       "    </tr>\n",
       "    <tr>\n",
       "      <th>1</th>\n",
       "      <td>2</td>\n",
       "      <td>dva</td>\n",
       "    </tr>\n",
       "    <tr>\n",
       "      <th>2</th>\n",
       "      <td>3</td>\n",
       "      <td>tři</td>\n",
       "    </tr>\n",
       "    <tr>\n",
       "      <th>3</th>\n",
       "      <td>4</td>\n",
       "      <td>čtyři</td>\n",
       "    </tr>\n",
       "    <tr>\n",
       "      <th>4</th>\n",
       "      <td>155</td>\n",
       "      <td>pět</td>\n",
       "    </tr>\n",
       "  </tbody>\n",
       "</table>\n",
       "</div>"
      ],
      "text/plain": [
       "   cela cisla stringy\n",
       "0           1   jedna\n",
       "1           2     dva\n",
       "2           3     tři\n",
       "3           4   čtyři\n",
       "4         155     pět"
      ]
     },
     "execution_count": 21,
     "metadata": {},
     "output_type": "execute_result"
    }
   ],
   "source": [
    "naplneny_dataframe[[\"cela cisla\", \"stringy\"]]"
   ]
  },
  {
   "cell_type": "markdown",
   "metadata": {},
   "source": [
    "Pakliže chceme přidat sloupec:"
   ]
  },
  {
   "cell_type": "code",
   "execution_count": 22,
   "metadata": {
    "ExecuteTime": {
     "end_time": "2020-05-08T17:28:32.825189Z",
     "start_time": "2020-05-08T17:28:32.707849Z"
    }
   },
   "outputs": [
    {
     "data": {
      "text/html": [
       "<div>\n",
       "<style scoped>\n",
       "    .dataframe tbody tr th:only-of-type {\n",
       "        vertical-align: middle;\n",
       "    }\n",
       "\n",
       "    .dataframe tbody tr th {\n",
       "        vertical-align: top;\n",
       "    }\n",
       "\n",
       "    .dataframe thead th {\n",
       "        text-align: right;\n",
       "    }\n",
       "</style>\n",
       "<table border=\"1\" class=\"dataframe\">\n",
       "  <thead>\n",
       "    <tr style=\"text-align: right;\">\n",
       "      <th></th>\n",
       "      <th>cela cisla</th>\n",
       "      <th>stringy</th>\n",
       "      <th>smes</th>\n",
       "      <th>jednicky</th>\n",
       "      <th>spojeni_sloupcu</th>\n",
       "    </tr>\n",
       "  </thead>\n",
       "  <tbody>\n",
       "    <tr>\n",
       "      <th>0</th>\n",
       "      <td>1</td>\n",
       "      <td>jedna</td>\n",
       "      <td>1</td>\n",
       "      <td>1</td>\n",
       "      <td>jedna jedna</td>\n",
       "    </tr>\n",
       "    <tr>\n",
       "      <th>1</th>\n",
       "      <td>2</td>\n",
       "      <td>dva</td>\n",
       "      <td>2</td>\n",
       "      <td>1</td>\n",
       "      <td>dva dva</td>\n",
       "    </tr>\n",
       "    <tr>\n",
       "      <th>2</th>\n",
       "      <td>3</td>\n",
       "      <td>tři</td>\n",
       "      <td>hodně</td>\n",
       "      <td>1</td>\n",
       "      <td>tři tři</td>\n",
       "    </tr>\n",
       "    <tr>\n",
       "      <th>3</th>\n",
       "      <td>4</td>\n",
       "      <td>čtyři</td>\n",
       "      <td>málo</td>\n",
       "      <td>1</td>\n",
       "      <td>čtyři čtyři</td>\n",
       "    </tr>\n",
       "    <tr>\n",
       "      <th>4</th>\n",
       "      <td>155</td>\n",
       "      <td>pět</td>\n",
       "      <td>1.23</td>\n",
       "      <td>1</td>\n",
       "      <td>pět pět</td>\n",
       "    </tr>\n",
       "  </tbody>\n",
       "</table>\n",
       "</div>"
      ],
      "text/plain": [
       "   cela cisla stringy   smes  jednicky spojeni_sloupcu\n",
       "0           1   jedna      1         1     jedna jedna\n",
       "1           2     dva      2         1         dva dva\n",
       "2           3     tři  hodně         1         tři tři\n",
       "3           4   čtyři   málo         1     čtyři čtyři\n",
       "4         155     pět   1.23         1         pět pět"
      ]
     },
     "execution_count": 22,
     "metadata": {},
     "output_type": "execute_result"
    }
   ],
   "source": [
    "naplneny_dataframe[\"jednicky\"] = 1\n",
    "naplneny_dataframe[\"spojeni_sloupcu\"] = naplneny_dataframe[\"stringy\"] + \" \" + naplneny_dataframe[\"stringy\"]\n",
    "naplneny_dataframe"
   ]
  },
  {
   "cell_type": "markdown",
   "metadata": {},
   "source": [
    "Pro smazání sloupců se použije funkce *drop*. Jelikož ta dokáže smazat i řádky, musí se jí kromě názvu sloupce předat parametr axis. Ten má pro mazání sloupců hodnotu 1, pro mazání řádků hodnotu 0. Bacha - pakliže se do parametrů dropu nevloží inplace=True, tak se operace neprovede na původním dataframu. Namísto toho se vyrobí dataframe nový, který je funkcí drop vrácen."
   ]
  },
  {
   "cell_type": "code",
   "execution_count": 23,
   "metadata": {
    "ExecuteTime": {
     "end_time": "2020-05-08T17:28:34.385704Z",
     "start_time": "2020-05-08T17:28:34.370783Z"
    }
   },
   "outputs": [
    {
     "data": {
      "text/html": [
       "<div>\n",
       "<style scoped>\n",
       "    .dataframe tbody tr th:only-of-type {\n",
       "        vertical-align: middle;\n",
       "    }\n",
       "\n",
       "    .dataframe tbody tr th {\n",
       "        vertical-align: top;\n",
       "    }\n",
       "\n",
       "    .dataframe thead th {\n",
       "        text-align: right;\n",
       "    }\n",
       "</style>\n",
       "<table border=\"1\" class=\"dataframe\">\n",
       "  <thead>\n",
       "    <tr style=\"text-align: right;\">\n",
       "      <th></th>\n",
       "      <th>cela cisla</th>\n",
       "      <th>stringy</th>\n",
       "      <th>smes</th>\n",
       "      <th>spojeni_sloupcu</th>\n",
       "    </tr>\n",
       "  </thead>\n",
       "  <tbody>\n",
       "    <tr>\n",
       "      <th>0</th>\n",
       "      <td>1</td>\n",
       "      <td>jedna</td>\n",
       "      <td>1</td>\n",
       "      <td>jedna jedna</td>\n",
       "    </tr>\n",
       "    <tr>\n",
       "      <th>1</th>\n",
       "      <td>2</td>\n",
       "      <td>dva</td>\n",
       "      <td>2</td>\n",
       "      <td>dva dva</td>\n",
       "    </tr>\n",
       "    <tr>\n",
       "      <th>2</th>\n",
       "      <td>3</td>\n",
       "      <td>tři</td>\n",
       "      <td>hodně</td>\n",
       "      <td>tři tři</td>\n",
       "    </tr>\n",
       "    <tr>\n",
       "      <th>3</th>\n",
       "      <td>4</td>\n",
       "      <td>čtyři</td>\n",
       "      <td>málo</td>\n",
       "      <td>čtyři čtyři</td>\n",
       "    </tr>\n",
       "    <tr>\n",
       "      <th>4</th>\n",
       "      <td>155</td>\n",
       "      <td>pět</td>\n",
       "      <td>1.23</td>\n",
       "      <td>pět pět</td>\n",
       "    </tr>\n",
       "  </tbody>\n",
       "</table>\n",
       "</div>"
      ],
      "text/plain": [
       "   cela cisla stringy   smes spojeni_sloupcu\n",
       "0           1   jedna      1     jedna jedna\n",
       "1           2     dva      2         dva dva\n",
       "2           3     tři  hodně         tři tři\n",
       "3           4   čtyři   málo     čtyři čtyři\n",
       "4         155     pět   1.23         pět pět"
      ]
     },
     "execution_count": 23,
     "metadata": {},
     "output_type": "execute_result"
    }
   ],
   "source": [
    "naplneny_dataframe = naplneny_dataframe.drop(labels=\"jednicky\", axis=1)\n",
    "naplneny_dataframe"
   ]
  },
  {
   "cell_type": "markdown",
   "metadata": {},
   "source": [
    "Pakliže chceme přidat sloupec na jiné než poslední místo, použije se funkce *insert*. Ta přebírá tři parametry. Prvním je index vkládaného sloupce (pokud má být sloupec první, musí být index roven nule). Druhým parametrem je jméno sloupce, třetím jsou pak hodnoty, které sloupec obsahuje. Je potřeba poznamenat, že narozdíl od dropu *insert* funguje **pouze** v modu úpravy stávajícího objektu."
   ]
  },
  {
   "cell_type": "code",
   "execution_count": 24,
   "metadata": {
    "ExecuteTime": {
     "end_time": "2020-05-08T17:28:36.003496Z",
     "start_time": "2020-05-08T17:28:35.991488Z"
    }
   },
   "outputs": [
    {
     "data": {
      "text/html": [
       "<div>\n",
       "<style scoped>\n",
       "    .dataframe tbody tr th:only-of-type {\n",
       "        vertical-align: middle;\n",
       "    }\n",
       "\n",
       "    .dataframe tbody tr th {\n",
       "        vertical-align: top;\n",
       "    }\n",
       "\n",
       "    .dataframe thead th {\n",
       "        text-align: right;\n",
       "    }\n",
       "</style>\n",
       "<table border=\"1\" class=\"dataframe\">\n",
       "  <thead>\n",
       "    <tr style=\"text-align: right;\">\n",
       "      <th></th>\n",
       "      <th>cela cisla</th>\n",
       "      <th>stringy</th>\n",
       "      <th>smes</th>\n",
       "      <th>stringy_podruhe</th>\n",
       "      <th>spojeni_sloupcu</th>\n",
       "    </tr>\n",
       "  </thead>\n",
       "  <tbody>\n",
       "    <tr>\n",
       "      <th>0</th>\n",
       "      <td>1</td>\n",
       "      <td>jedna</td>\n",
       "      <td>1</td>\n",
       "      <td>jedna</td>\n",
       "      <td>jedna jedna</td>\n",
       "    </tr>\n",
       "    <tr>\n",
       "      <th>1</th>\n",
       "      <td>2</td>\n",
       "      <td>dva</td>\n",
       "      <td>2</td>\n",
       "      <td>dva</td>\n",
       "      <td>dva dva</td>\n",
       "    </tr>\n",
       "    <tr>\n",
       "      <th>2</th>\n",
       "      <td>3</td>\n",
       "      <td>tři</td>\n",
       "      <td>hodně</td>\n",
       "      <td>tři</td>\n",
       "      <td>tři tři</td>\n",
       "    </tr>\n",
       "    <tr>\n",
       "      <th>3</th>\n",
       "      <td>4</td>\n",
       "      <td>čtyři</td>\n",
       "      <td>málo</td>\n",
       "      <td>čtyři</td>\n",
       "      <td>čtyři čtyři</td>\n",
       "    </tr>\n",
       "    <tr>\n",
       "      <th>4</th>\n",
       "      <td>155</td>\n",
       "      <td>pět</td>\n",
       "      <td>1.23</td>\n",
       "      <td>pět</td>\n",
       "      <td>pět pět</td>\n",
       "    </tr>\n",
       "  </tbody>\n",
       "</table>\n",
       "</div>"
      ],
      "text/plain": [
       "   cela cisla stringy   smes stringy_podruhe spojeni_sloupcu\n",
       "0           1   jedna      1           jedna     jedna jedna\n",
       "1           2     dva      2             dva         dva dva\n",
       "2           3     tři  hodně             tři         tři tři\n",
       "3           4   čtyři   málo           čtyři     čtyři čtyři\n",
       "4         155     pět   1.23             pět         pět pět"
      ]
     },
     "execution_count": 24,
     "metadata": {},
     "output_type": "execute_result"
    }
   ],
   "source": [
    "naplneny_dataframe.insert(3, \"stringy_podruhe\", naplneny_dataframe[\"stringy\"])\n",
    "naplneny_dataframe"
   ]
  },
  {
   "cell_type": "markdown",
   "metadata": {},
   "source": [
    "Pokud už jsme ale sloupec na konec dataframu vložili a nyní sloupce potřebujeme přeuspořádat, lze použít například funkci reindex:"
   ]
  },
  {
   "cell_type": "code",
   "execution_count": 25,
   "metadata": {
    "ExecuteTime": {
     "end_time": "2020-05-08T17:28:37.582106Z",
     "start_time": "2020-05-08T17:28:37.570096Z"
    }
   },
   "outputs": [
    {
     "data": {
      "text/html": [
       "<div>\n",
       "<style scoped>\n",
       "    .dataframe tbody tr th:only-of-type {\n",
       "        vertical-align: middle;\n",
       "    }\n",
       "\n",
       "    .dataframe tbody tr th {\n",
       "        vertical-align: top;\n",
       "    }\n",
       "\n",
       "    .dataframe thead th {\n",
       "        text-align: right;\n",
       "    }\n",
       "</style>\n",
       "<table border=\"1\" class=\"dataframe\">\n",
       "  <thead>\n",
       "    <tr style=\"text-align: right;\">\n",
       "      <th></th>\n",
       "      <th>cela cisla</th>\n",
       "      <th>stringy</th>\n",
       "      <th>stringy_podruhe</th>\n",
       "      <th>spojeni_sloupcu</th>\n",
       "      <th>smes</th>\n",
       "    </tr>\n",
       "  </thead>\n",
       "  <tbody>\n",
       "    <tr>\n",
       "      <th>0</th>\n",
       "      <td>1</td>\n",
       "      <td>jedna</td>\n",
       "      <td>jedna</td>\n",
       "      <td>jedna jedna</td>\n",
       "      <td>1</td>\n",
       "    </tr>\n",
       "    <tr>\n",
       "      <th>1</th>\n",
       "      <td>2</td>\n",
       "      <td>dva</td>\n",
       "      <td>dva</td>\n",
       "      <td>dva dva</td>\n",
       "      <td>2</td>\n",
       "    </tr>\n",
       "    <tr>\n",
       "      <th>2</th>\n",
       "      <td>3</td>\n",
       "      <td>tři</td>\n",
       "      <td>tři</td>\n",
       "      <td>tři tři</td>\n",
       "      <td>hodně</td>\n",
       "    </tr>\n",
       "    <tr>\n",
       "      <th>3</th>\n",
       "      <td>4</td>\n",
       "      <td>čtyři</td>\n",
       "      <td>čtyři</td>\n",
       "      <td>čtyři čtyři</td>\n",
       "      <td>málo</td>\n",
       "    </tr>\n",
       "    <tr>\n",
       "      <th>4</th>\n",
       "      <td>155</td>\n",
       "      <td>pět</td>\n",
       "      <td>pět</td>\n",
       "      <td>pět pět</td>\n",
       "      <td>1.23</td>\n",
       "    </tr>\n",
       "  </tbody>\n",
       "</table>\n",
       "</div>"
      ],
      "text/plain": [
       "   cela cisla stringy stringy_podruhe spojeni_sloupcu   smes\n",
       "0           1   jedna           jedna     jedna jedna      1\n",
       "1           2     dva             dva         dva dva      2\n",
       "2           3     tři             tři         tři tři  hodně\n",
       "3           4   čtyři           čtyři     čtyři čtyři   málo\n",
       "4         155     pět             pět         pět pět   1.23"
      ]
     },
     "execution_count": 25,
     "metadata": {},
     "output_type": "execute_result"
    }
   ],
   "source": [
    "naplneny_dataframe = naplneny_dataframe.reindex(columns=[\"cela cisla\",\"stringy\", \"stringy_podruhe\", \"spojeni_sloupcu\", \"smes\"])\n",
    "naplneny_dataframe"
   ]
  },
  {
   "cell_type": "markdown",
   "metadata": {},
   "source": [
    "Anebo obyčejný výběr všech sloupců:"
   ]
  },
  {
   "cell_type": "code",
   "execution_count": 26,
   "metadata": {
    "ExecuteTime": {
     "end_time": "2020-05-08T17:29:08.257221Z",
     "start_time": "2020-05-08T17:29:08.239272Z"
    }
   },
   "outputs": [
    {
     "data": {
      "text/html": [
       "<div>\n",
       "<style scoped>\n",
       "    .dataframe tbody tr th:only-of-type {\n",
       "        vertical-align: middle;\n",
       "    }\n",
       "\n",
       "    .dataframe tbody tr th {\n",
       "        vertical-align: top;\n",
       "    }\n",
       "\n",
       "    .dataframe thead th {\n",
       "        text-align: right;\n",
       "    }\n",
       "</style>\n",
       "<table border=\"1\" class=\"dataframe\">\n",
       "  <thead>\n",
       "    <tr style=\"text-align: right;\">\n",
       "      <th></th>\n",
       "      <th>stringy</th>\n",
       "      <th>stringy_podruhe</th>\n",
       "      <th>spojeni_sloupcu</th>\n",
       "      <th>cela cisla</th>\n",
       "      <th>smes</th>\n",
       "    </tr>\n",
       "  </thead>\n",
       "  <tbody>\n",
       "    <tr>\n",
       "      <th>0</th>\n",
       "      <td>jedna</td>\n",
       "      <td>jedna</td>\n",
       "      <td>jedna jedna</td>\n",
       "      <td>1</td>\n",
       "      <td>1</td>\n",
       "    </tr>\n",
       "    <tr>\n",
       "      <th>1</th>\n",
       "      <td>dva</td>\n",
       "      <td>dva</td>\n",
       "      <td>dva dva</td>\n",
       "      <td>2</td>\n",
       "      <td>2</td>\n",
       "    </tr>\n",
       "    <tr>\n",
       "      <th>2</th>\n",
       "      <td>tři</td>\n",
       "      <td>tři</td>\n",
       "      <td>tři tři</td>\n",
       "      <td>3</td>\n",
       "      <td>hodně</td>\n",
       "    </tr>\n",
       "    <tr>\n",
       "      <th>3</th>\n",
       "      <td>čtyři</td>\n",
       "      <td>čtyři</td>\n",
       "      <td>čtyři čtyři</td>\n",
       "      <td>4</td>\n",
       "      <td>málo</td>\n",
       "    </tr>\n",
       "    <tr>\n",
       "      <th>4</th>\n",
       "      <td>pět</td>\n",
       "      <td>pět</td>\n",
       "      <td>pět pět</td>\n",
       "      <td>155</td>\n",
       "      <td>1.23</td>\n",
       "    </tr>\n",
       "  </tbody>\n",
       "</table>\n",
       "</div>"
      ],
      "text/plain": [
       "  stringy stringy_podruhe spojeni_sloupcu  cela cisla   smes\n",
       "0   jedna           jedna     jedna jedna           1      1\n",
       "1     dva             dva         dva dva           2      2\n",
       "2     tři             tři         tři tři           3  hodně\n",
       "3   čtyři           čtyři     čtyři čtyři           4   málo\n",
       "4     pět             pět         pět pět         155   1.23"
      ]
     },
     "execution_count": 26,
     "metadata": {},
     "output_type": "execute_result"
    }
   ],
   "source": [
    "naplneny_dataframe = naplneny_dataframe[[\"stringy\", \"stringy_podruhe\", \"spojeni_sloupcu\", \"cela cisla\", \"smes\"]]\n",
    "naplneny_dataframe"
   ]
  },
  {
   "cell_type": "markdown",
   "metadata": {},
   "source": [
    "Pokud sloupce nechceme přeuspořádat, ale pouze přejmenovat, postačí použití parametru column. "
   ]
  },
  {
   "cell_type": "code",
   "execution_count": 27,
   "metadata": {
    "ExecuteTime": {
     "end_time": "2020-05-08T17:29:10.288138Z",
     "start_time": "2020-05-08T17:29:10.283179Z"
    }
   },
   "outputs": [
    {
     "data": {
      "text/plain": [
       "Index(['stringy', 'stringy_podruhe', 'spojeni_sloupcu', 'cela cisla', 'smes'], dtype='object')"
      ]
     },
     "execution_count": 27,
     "metadata": {},
     "output_type": "execute_result"
    }
   ],
   "source": [
    "naplneny_dataframe.columns"
   ]
  },
  {
   "cell_type": "markdown",
   "metadata": {},
   "source": [
    "Tomu se podhodí list s novými jmény:"
   ]
  },
  {
   "cell_type": "code",
   "execution_count": 28,
   "metadata": {
    "ExecuteTime": {
     "end_time": "2020-05-08T17:29:11.397199Z",
     "start_time": "2020-05-08T17:29:11.393205Z"
    }
   },
   "outputs": [],
   "source": [
    "naplneny_dataframe.columns = ['stringy', 'stringy_znova', 'spojeni_sloipcu', \"cela cisla\", \"smes\"]"
   ]
  },
  {
   "cell_type": "markdown",
   "metadata": {},
   "source": [
    "U dataframů s nadkritickým počtem sloupců se nezobrazují sloupce všechny, ale jen ty na kraji. Podobná věc platí i u řádků. Pokud toto chování chceme vypnout, napíšeme\n",
    "```python\n",
    "pd.set_option(\"display.max_columns\", None)\n",
    "```\n",
    "resp.\n",
    "```python\n",
    "pd.set_option(\"display.max_rows\", None)\n",
    "```\n",
    "Takovéto vypnutí bude ale platit globálně pro celý kód, tj. pro celý jupyteří notebook. Pokud chceme vypnutí mít platné jen pro jeden dataframe, použijeme **with** v kombinaci s funkcí **display**:\n",
    "```python\n",
    "with pd.option_context(\"display.max_columns\", None): \n",
    "    display(naplneny_dataframe)\n",
    "```"
   ]
  },
  {
   "cell_type": "markdown",
   "metadata": {},
   "source": [
    "### Manipulace s řádky dataframu"
   ]
  },
  {
   "cell_type": "markdown",
   "metadata": {},
   "source": [
    "Řádky v dataframu jsou určeny svými indexy (= to číslo v \"nultém\" sloupci dataframu). Když chceme získat dejme tomu druhý řádek, aplikuje funkci iloc následujícím způsobem:"
   ]
  },
  {
   "cell_type": "code",
   "execution_count": 29,
   "metadata": {
    "ExecuteTime": {
     "end_time": "2020-05-08T17:29:47.957517Z",
     "start_time": "2020-05-08T17:29:47.948575Z"
    }
   },
   "outputs": [
    {
     "data": {
      "text/plain": [
       "stringy                dva\n",
       "stringy_znova          dva\n",
       "spojeni_sloipcu    dva dva\n",
       "cela cisla               2\n",
       "smes                     2\n",
       "Name: 1, dtype: object"
      ]
     },
     "execution_count": 29,
     "metadata": {},
     "output_type": "execute_result"
    }
   ],
   "source": [
    "naplneny_dataframe.iloc[1]"
   ]
  },
  {
   "cell_type": "markdown",
   "metadata": {
    "ExecuteTime": {
     "end_time": "2020-03-01T16:35:21.896825Z",
     "start_time": "2020-03-01T16:35:21.888813Z"
    }
   },
   "source": [
    "Nicméně podobně by se dala použít i funkce loc:"
   ]
  },
  {
   "cell_type": "code",
   "execution_count": 30,
   "metadata": {
    "ExecuteTime": {
     "end_time": "2020-05-08T17:29:49.488490Z",
     "start_time": "2020-05-08T17:29:49.480546Z"
    }
   },
   "outputs": [
    {
     "data": {
      "text/plain": [
       "stringy                dva\n",
       "stringy_znova          dva\n",
       "spojeni_sloipcu    dva dva\n",
       "cela cisla               2\n",
       "smes                     2\n",
       "Name: 1, dtype: object"
      ]
     },
     "execution_count": 30,
     "metadata": {},
     "output_type": "execute_result"
    }
   ],
   "source": [
    "naplneny_dataframe.loc[1]"
   ]
  },
  {
   "cell_type": "markdown",
   "metadata": {},
   "source": [
    "Jaký je mezi nimi vlastně rozdíl? Metoda *iloc* vždy hledí na index řádku (de facto pořadové číslo), zatímco *loc* kouká na label řádku. Defaultně jsou labely stejné jako indexy a obě funkce tedy vrací to samé. Změňme nyní ale labely indexů:"
   ]
  },
  {
   "cell_type": "code",
   "execution_count": 31,
   "metadata": {
    "ExecuteTime": {
     "end_time": "2020-05-08T17:29:51.076301Z",
     "start_time": "2020-05-08T17:29:51.058349Z"
    }
   },
   "outputs": [
    {
     "name": "stdout",
     "output_type": "stream",
     "text": [
      "RangeIndex(start=0, stop=5, step=1)\n",
      "Index(['prvni', 'druhy', 'treti', 'ctvrty', 'paty'], dtype='object')\n"
     ]
    },
    {
     "data": {
      "text/html": [
       "<div>\n",
       "<style scoped>\n",
       "    .dataframe tbody tr th:only-of-type {\n",
       "        vertical-align: middle;\n",
       "    }\n",
       "\n",
       "    .dataframe tbody tr th {\n",
       "        vertical-align: top;\n",
       "    }\n",
       "\n",
       "    .dataframe thead th {\n",
       "        text-align: right;\n",
       "    }\n",
       "</style>\n",
       "<table border=\"1\" class=\"dataframe\">\n",
       "  <thead>\n",
       "    <tr style=\"text-align: right;\">\n",
       "      <th></th>\n",
       "      <th>stringy</th>\n",
       "      <th>stringy_znova</th>\n",
       "      <th>spojeni_sloipcu</th>\n",
       "      <th>cela cisla</th>\n",
       "      <th>smes</th>\n",
       "    </tr>\n",
       "  </thead>\n",
       "  <tbody>\n",
       "    <tr>\n",
       "      <th>prvni</th>\n",
       "      <td>jedna</td>\n",
       "      <td>jedna</td>\n",
       "      <td>jedna jedna</td>\n",
       "      <td>1</td>\n",
       "      <td>1</td>\n",
       "    </tr>\n",
       "    <tr>\n",
       "      <th>druhy</th>\n",
       "      <td>dva</td>\n",
       "      <td>dva</td>\n",
       "      <td>dva dva</td>\n",
       "      <td>2</td>\n",
       "      <td>2</td>\n",
       "    </tr>\n",
       "    <tr>\n",
       "      <th>treti</th>\n",
       "      <td>tři</td>\n",
       "      <td>tři</td>\n",
       "      <td>tři tři</td>\n",
       "      <td>3</td>\n",
       "      <td>hodně</td>\n",
       "    </tr>\n",
       "    <tr>\n",
       "      <th>ctvrty</th>\n",
       "      <td>čtyři</td>\n",
       "      <td>čtyři</td>\n",
       "      <td>čtyři čtyři</td>\n",
       "      <td>4</td>\n",
       "      <td>málo</td>\n",
       "    </tr>\n",
       "    <tr>\n",
       "      <th>paty</th>\n",
       "      <td>pět</td>\n",
       "      <td>pět</td>\n",
       "      <td>pět pět</td>\n",
       "      <td>155</td>\n",
       "      <td>1.23</td>\n",
       "    </tr>\n",
       "  </tbody>\n",
       "</table>\n",
       "</div>"
      ],
      "text/plain": [
       "       stringy stringy_znova spojeni_sloipcu  cela cisla   smes\n",
       "prvni    jedna         jedna     jedna jedna           1      1\n",
       "druhy      dva           dva         dva dva           2      2\n",
       "treti      tři           tři         tři tři           3  hodně\n",
       "ctvrty   čtyři         čtyři     čtyři čtyři           4   málo\n",
       "paty       pět           pět         pět pět         155   1.23"
      ]
     },
     "execution_count": 31,
     "metadata": {},
     "output_type": "execute_result"
    }
   ],
   "source": [
    "#aktualni indexy\n",
    "print(naplneny_dataframe.index)\n",
    "#prejmenovani\n",
    "naplneny_dataframe.index = [\"prvni\", \"druhy\", \"treti\", \"ctvrty\", \"paty\"]\n",
    "#zkontrolovani, ze jsou indexy jine\n",
    "print(naplneny_dataframe.index)\n",
    "#A zkontrolovani, ze dataframe vypada tak, jak bychom ocekavali\n",
    "naplneny_dataframe"
   ]
  },
  {
   "cell_type": "markdown",
   "metadata": {},
   "source": [
    "Nyní použití *iloc* a *loc* zopakujeme. Funkce *iloc* vrací pořád to samé:"
   ]
  },
  {
   "cell_type": "code",
   "execution_count": 22,
   "metadata": {
    "ExecuteTime": {
     "end_time": "2020-05-08T17:29:52.812764Z",
     "start_time": "2020-05-08T17:29:52.806779Z"
    }
   },
   "outputs": [
    {
     "data": {
      "text/plain": [
       "stringy                dva\n",
       "stringy_znova          dva\n",
       "spojeni_sloipcu    dva dva\n",
       "cela cisla               2\n",
       "smes                     2\n",
       "Name: druhy, dtype: object"
      ]
     },
     "execution_count": 22,
     "metadata": {},
     "output_type": "execute_result"
    }
   ],
   "source": [
    "naplneny_dataframe.iloc[1]"
   ]
  },
  {
   "cell_type": "markdown",
   "metadata": {},
   "source": [
    "Použití funkce *loc* mající v hranatých závorkách 1 ale vede k chybě:"
   ]
  },
  {
   "cell_type": "code",
   "execution_count": 32,
   "metadata": {
    "ExecuteTime": {
     "end_time": "2020-05-08T17:29:54.407444Z",
     "start_time": "2020-05-08T17:29:54.196453Z"
    }
   },
   "outputs": [
    {
     "ename": "KeyError",
     "evalue": "1",
     "output_type": "error",
     "traceback": [
      "\u001b[1;31m---------------------------------------------------------------------------\u001b[0m",
      "\u001b[1;31mKeyError\u001b[0m                                  Traceback (most recent call last)",
      "\u001b[1;32mc:\\vs\\programovani\\python\\workshopy\\environment\\lib\\site-packages\\pandas\\core\\indexes\\base.py\u001b[0m in \u001b[0;36mget_loc\u001b[1;34m(self, key, method, tolerance)\u001b[0m\n\u001b[0;32m   2894\u001b[0m             \u001b[1;32mtry\u001b[0m\u001b[1;33m:\u001b[0m\u001b[1;33m\u001b[0m\u001b[1;33m\u001b[0m\u001b[0m\n\u001b[1;32m-> 2895\u001b[1;33m                 \u001b[1;32mreturn\u001b[0m \u001b[0mself\u001b[0m\u001b[1;33m.\u001b[0m\u001b[0m_engine\u001b[0m\u001b[1;33m.\u001b[0m\u001b[0mget_loc\u001b[0m\u001b[1;33m(\u001b[0m\u001b[0mcasted_key\u001b[0m\u001b[1;33m)\u001b[0m\u001b[1;33m\u001b[0m\u001b[1;33m\u001b[0m\u001b[0m\n\u001b[0m\u001b[0;32m   2896\u001b[0m             \u001b[1;32mexcept\u001b[0m \u001b[0mKeyError\u001b[0m \u001b[1;32mas\u001b[0m \u001b[0merr\u001b[0m\u001b[1;33m:\u001b[0m\u001b[1;33m\u001b[0m\u001b[1;33m\u001b[0m\u001b[0m\n",
      "\u001b[1;32mpandas\\_libs\\index.pyx\u001b[0m in \u001b[0;36mpandas._libs.index.IndexEngine.get_loc\u001b[1;34m()\u001b[0m\n",
      "\u001b[1;32mpandas\\_libs\\index.pyx\u001b[0m in \u001b[0;36mpandas._libs.index.IndexEngine.get_loc\u001b[1;34m()\u001b[0m\n",
      "\u001b[1;32mpandas\\_libs\\hashtable_class_helper.pxi\u001b[0m in \u001b[0;36mpandas._libs.hashtable.PyObjectHashTable.get_item\u001b[1;34m()\u001b[0m\n",
      "\u001b[1;32mpandas\\_libs\\hashtable_class_helper.pxi\u001b[0m in \u001b[0;36mpandas._libs.hashtable.PyObjectHashTable.get_item\u001b[1;34m()\u001b[0m\n",
      "\u001b[1;31mKeyError\u001b[0m: 1",
      "\nThe above exception was the direct cause of the following exception:\n",
      "\u001b[1;31mKeyError\u001b[0m                                  Traceback (most recent call last)",
      "\u001b[1;32m<ipython-input-32-a5eb04cadaf3>\u001b[0m in \u001b[0;36m<module>\u001b[1;34m\u001b[0m\n\u001b[1;32m----> 1\u001b[1;33m \u001b[0mnaplneny_dataframe\u001b[0m\u001b[1;33m.\u001b[0m\u001b[0mloc\u001b[0m\u001b[1;33m[\u001b[0m\u001b[1;36m1\u001b[0m\u001b[1;33m]\u001b[0m\u001b[1;33m\u001b[0m\u001b[1;33m\u001b[0m\u001b[0m\n\u001b[0m",
      "\u001b[1;32mc:\\vs\\programovani\\python\\workshopy\\environment\\lib\\site-packages\\pandas\\core\\indexing.py\u001b[0m in \u001b[0;36m__getitem__\u001b[1;34m(self, key)\u001b[0m\n\u001b[0;32m    877\u001b[0m \u001b[1;33m\u001b[0m\u001b[0m\n\u001b[0;32m    878\u001b[0m             \u001b[0mmaybe_callable\u001b[0m \u001b[1;33m=\u001b[0m \u001b[0mcom\u001b[0m\u001b[1;33m.\u001b[0m\u001b[0mapply_if_callable\u001b[0m\u001b[1;33m(\u001b[0m\u001b[0mkey\u001b[0m\u001b[1;33m,\u001b[0m \u001b[0mself\u001b[0m\u001b[1;33m.\u001b[0m\u001b[0mobj\u001b[0m\u001b[1;33m)\u001b[0m\u001b[1;33m\u001b[0m\u001b[1;33m\u001b[0m\u001b[0m\n\u001b[1;32m--> 879\u001b[1;33m             \u001b[1;32mreturn\u001b[0m \u001b[0mself\u001b[0m\u001b[1;33m.\u001b[0m\u001b[0m_getitem_axis\u001b[0m\u001b[1;33m(\u001b[0m\u001b[0mmaybe_callable\u001b[0m\u001b[1;33m,\u001b[0m \u001b[0maxis\u001b[0m\u001b[1;33m=\u001b[0m\u001b[0maxis\u001b[0m\u001b[1;33m)\u001b[0m\u001b[1;33m\u001b[0m\u001b[1;33m\u001b[0m\u001b[0m\n\u001b[0m\u001b[0;32m    880\u001b[0m \u001b[1;33m\u001b[0m\u001b[0m\n\u001b[0;32m    881\u001b[0m     \u001b[1;32mdef\u001b[0m \u001b[0m_is_scalar_access\u001b[0m\u001b[1;33m(\u001b[0m\u001b[0mself\u001b[0m\u001b[1;33m,\u001b[0m \u001b[0mkey\u001b[0m\u001b[1;33m:\u001b[0m \u001b[0mTuple\u001b[0m\u001b[1;33m)\u001b[0m\u001b[1;33m:\u001b[0m\u001b[1;33m\u001b[0m\u001b[1;33m\u001b[0m\u001b[0m\n",
      "\u001b[1;32mc:\\vs\\programovani\\python\\workshopy\\environment\\lib\\site-packages\\pandas\\core\\indexing.py\u001b[0m in \u001b[0;36m_getitem_axis\u001b[1;34m(self, key, axis)\u001b[0m\n\u001b[0;32m   1108\u001b[0m         \u001b[1;31m# fall thru to straight lookup\u001b[0m\u001b[1;33m\u001b[0m\u001b[1;33m\u001b[0m\u001b[1;33m\u001b[0m\u001b[0m\n\u001b[0;32m   1109\u001b[0m         \u001b[0mself\u001b[0m\u001b[1;33m.\u001b[0m\u001b[0m_validate_key\u001b[0m\u001b[1;33m(\u001b[0m\u001b[0mkey\u001b[0m\u001b[1;33m,\u001b[0m \u001b[0maxis\u001b[0m\u001b[1;33m)\u001b[0m\u001b[1;33m\u001b[0m\u001b[1;33m\u001b[0m\u001b[0m\n\u001b[1;32m-> 1110\u001b[1;33m         \u001b[1;32mreturn\u001b[0m \u001b[0mself\u001b[0m\u001b[1;33m.\u001b[0m\u001b[0m_get_label\u001b[0m\u001b[1;33m(\u001b[0m\u001b[0mkey\u001b[0m\u001b[1;33m,\u001b[0m \u001b[0maxis\u001b[0m\u001b[1;33m=\u001b[0m\u001b[0maxis\u001b[0m\u001b[1;33m)\u001b[0m\u001b[1;33m\u001b[0m\u001b[1;33m\u001b[0m\u001b[0m\n\u001b[0m\u001b[0;32m   1111\u001b[0m \u001b[1;33m\u001b[0m\u001b[0m\n\u001b[0;32m   1112\u001b[0m     \u001b[1;32mdef\u001b[0m \u001b[0m_get_slice_axis\u001b[0m\u001b[1;33m(\u001b[0m\u001b[0mself\u001b[0m\u001b[1;33m,\u001b[0m \u001b[0mslice_obj\u001b[0m\u001b[1;33m:\u001b[0m \u001b[0mslice\u001b[0m\u001b[1;33m,\u001b[0m \u001b[0maxis\u001b[0m\u001b[1;33m:\u001b[0m \u001b[0mint\u001b[0m\u001b[1;33m)\u001b[0m\u001b[1;33m:\u001b[0m\u001b[1;33m\u001b[0m\u001b[1;33m\u001b[0m\u001b[0m\n",
      "\u001b[1;32mc:\\vs\\programovani\\python\\workshopy\\environment\\lib\\site-packages\\pandas\\core\\indexing.py\u001b[0m in \u001b[0;36m_get_label\u001b[1;34m(self, label, axis)\u001b[0m\n\u001b[0;32m   1057\u001b[0m     \u001b[1;32mdef\u001b[0m \u001b[0m_get_label\u001b[0m\u001b[1;33m(\u001b[0m\u001b[0mself\u001b[0m\u001b[1;33m,\u001b[0m \u001b[0mlabel\u001b[0m\u001b[1;33m,\u001b[0m \u001b[0maxis\u001b[0m\u001b[1;33m:\u001b[0m \u001b[0mint\u001b[0m\u001b[1;33m)\u001b[0m\u001b[1;33m:\u001b[0m\u001b[1;33m\u001b[0m\u001b[1;33m\u001b[0m\u001b[0m\n\u001b[0;32m   1058\u001b[0m         \u001b[1;31m# GH#5667 this will fail if the label is not present in the axis.\u001b[0m\u001b[1;33m\u001b[0m\u001b[1;33m\u001b[0m\u001b[1;33m\u001b[0m\u001b[0m\n\u001b[1;32m-> 1059\u001b[1;33m         \u001b[1;32mreturn\u001b[0m \u001b[0mself\u001b[0m\u001b[1;33m.\u001b[0m\u001b[0mobj\u001b[0m\u001b[1;33m.\u001b[0m\u001b[0mxs\u001b[0m\u001b[1;33m(\u001b[0m\u001b[0mlabel\u001b[0m\u001b[1;33m,\u001b[0m \u001b[0maxis\u001b[0m\u001b[1;33m=\u001b[0m\u001b[0maxis\u001b[0m\u001b[1;33m)\u001b[0m\u001b[1;33m\u001b[0m\u001b[1;33m\u001b[0m\u001b[0m\n\u001b[0m\u001b[0;32m   1060\u001b[0m \u001b[1;33m\u001b[0m\u001b[0m\n\u001b[0;32m   1061\u001b[0m     \u001b[1;32mdef\u001b[0m \u001b[0m_handle_lowerdim_multi_index_axis0\u001b[0m\u001b[1;33m(\u001b[0m\u001b[0mself\u001b[0m\u001b[1;33m,\u001b[0m \u001b[0mtup\u001b[0m\u001b[1;33m:\u001b[0m \u001b[0mTuple\u001b[0m\u001b[1;33m)\u001b[0m\u001b[1;33m:\u001b[0m\u001b[1;33m\u001b[0m\u001b[1;33m\u001b[0m\u001b[0m\n",
      "\u001b[1;32mc:\\vs\\programovani\\python\\workshopy\\environment\\lib\\site-packages\\pandas\\core\\generic.py\u001b[0m in \u001b[0;36mxs\u001b[1;34m(self, key, axis, level, drop_level)\u001b[0m\n\u001b[0;32m   3489\u001b[0m             \u001b[0mloc\u001b[0m\u001b[1;33m,\u001b[0m \u001b[0mnew_index\u001b[0m \u001b[1;33m=\u001b[0m \u001b[0mself\u001b[0m\u001b[1;33m.\u001b[0m\u001b[0mindex\u001b[0m\u001b[1;33m.\u001b[0m\u001b[0mget_loc_level\u001b[0m\u001b[1;33m(\u001b[0m\u001b[0mkey\u001b[0m\u001b[1;33m,\u001b[0m \u001b[0mdrop_level\u001b[0m\u001b[1;33m=\u001b[0m\u001b[0mdrop_level\u001b[0m\u001b[1;33m)\u001b[0m\u001b[1;33m\u001b[0m\u001b[1;33m\u001b[0m\u001b[0m\n\u001b[0;32m   3490\u001b[0m         \u001b[1;32melse\u001b[0m\u001b[1;33m:\u001b[0m\u001b[1;33m\u001b[0m\u001b[1;33m\u001b[0m\u001b[0m\n\u001b[1;32m-> 3491\u001b[1;33m             \u001b[0mloc\u001b[0m \u001b[1;33m=\u001b[0m \u001b[0mself\u001b[0m\u001b[1;33m.\u001b[0m\u001b[0mindex\u001b[0m\u001b[1;33m.\u001b[0m\u001b[0mget_loc\u001b[0m\u001b[1;33m(\u001b[0m\u001b[0mkey\u001b[0m\u001b[1;33m)\u001b[0m\u001b[1;33m\u001b[0m\u001b[1;33m\u001b[0m\u001b[0m\n\u001b[0m\u001b[0;32m   3492\u001b[0m \u001b[1;33m\u001b[0m\u001b[0m\n\u001b[0;32m   3493\u001b[0m             \u001b[1;32mif\u001b[0m \u001b[0misinstance\u001b[0m\u001b[1;33m(\u001b[0m\u001b[0mloc\u001b[0m\u001b[1;33m,\u001b[0m \u001b[0mnp\u001b[0m\u001b[1;33m.\u001b[0m\u001b[0mndarray\u001b[0m\u001b[1;33m)\u001b[0m\u001b[1;33m:\u001b[0m\u001b[1;33m\u001b[0m\u001b[1;33m\u001b[0m\u001b[0m\n",
      "\u001b[1;32mc:\\vs\\programovani\\python\\workshopy\\environment\\lib\\site-packages\\pandas\\core\\indexes\\base.py\u001b[0m in \u001b[0;36mget_loc\u001b[1;34m(self, key, method, tolerance)\u001b[0m\n\u001b[0;32m   2895\u001b[0m                 \u001b[1;32mreturn\u001b[0m \u001b[0mself\u001b[0m\u001b[1;33m.\u001b[0m\u001b[0m_engine\u001b[0m\u001b[1;33m.\u001b[0m\u001b[0mget_loc\u001b[0m\u001b[1;33m(\u001b[0m\u001b[0mcasted_key\u001b[0m\u001b[1;33m)\u001b[0m\u001b[1;33m\u001b[0m\u001b[1;33m\u001b[0m\u001b[0m\n\u001b[0;32m   2896\u001b[0m             \u001b[1;32mexcept\u001b[0m \u001b[0mKeyError\u001b[0m \u001b[1;32mas\u001b[0m \u001b[0merr\u001b[0m\u001b[1;33m:\u001b[0m\u001b[1;33m\u001b[0m\u001b[1;33m\u001b[0m\u001b[0m\n\u001b[1;32m-> 2897\u001b[1;33m                 \u001b[1;32mraise\u001b[0m \u001b[0mKeyError\u001b[0m\u001b[1;33m(\u001b[0m\u001b[0mkey\u001b[0m\u001b[1;33m)\u001b[0m \u001b[1;32mfrom\u001b[0m \u001b[0merr\u001b[0m\u001b[1;33m\u001b[0m\u001b[1;33m\u001b[0m\u001b[0m\n\u001b[0m\u001b[0;32m   2898\u001b[0m \u001b[1;33m\u001b[0m\u001b[0m\n\u001b[0;32m   2899\u001b[0m         \u001b[1;32mif\u001b[0m \u001b[0mtolerance\u001b[0m \u001b[1;32mis\u001b[0m \u001b[1;32mnot\u001b[0m \u001b[1;32mNone\u001b[0m\u001b[1;33m:\u001b[0m\u001b[1;33m\u001b[0m\u001b[1;33m\u001b[0m\u001b[0m\n",
      "\u001b[1;31mKeyError\u001b[0m: 1"
     ]
    }
   ],
   "source": [
    "naplneny_dataframe.loc[1]"
   ]
  },
  {
   "cell_type": "markdown",
   "metadata": {},
   "source": [
    "Jakmile je ale v hranatých závorkách label indexu, už zase *loc* funguje."
   ]
  },
  {
   "cell_type": "code",
   "execution_count": 33,
   "metadata": {
    "ExecuteTime": {
     "end_time": "2020-05-08T17:30:00.458488Z",
     "start_time": "2020-05-08T17:30:00.448518Z"
    }
   },
   "outputs": [
    {
     "data": {
      "text/plain": [
       "stringy                dva\n",
       "stringy_znova          dva\n",
       "spojeni_sloipcu    dva dva\n",
       "cela cisla               2\n",
       "smes                     2\n",
       "Name: druhy, dtype: object"
      ]
     },
     "execution_count": 33,
     "metadata": {},
     "output_type": "execute_result"
    }
   ],
   "source": [
    "naplneny_dataframe.loc[\"druhy\"]"
   ]
  },
  {
   "cell_type": "markdown",
   "metadata": {},
   "source": [
    "Řádky smažeme podobně jako sloupce pomocí metody *drop* - jako axis je tentokrát nula:"
   ]
  },
  {
   "cell_type": "code",
   "execution_count": 25,
   "metadata": {
    "ExecuteTime": {
     "end_time": "2020-05-08T17:30:02.239343Z",
     "start_time": "2020-05-08T17:30:02.224750Z"
    }
   },
   "outputs": [
    {
     "data": {
      "text/html": [
       "<div>\n",
       "<style scoped>\n",
       "    .dataframe tbody tr th:only-of-type {\n",
       "        vertical-align: middle;\n",
       "    }\n",
       "\n",
       "    .dataframe tbody tr th {\n",
       "        vertical-align: top;\n",
       "    }\n",
       "\n",
       "    .dataframe thead th {\n",
       "        text-align: right;\n",
       "    }\n",
       "</style>\n",
       "<table border=\"1\" class=\"dataframe\">\n",
       "  <thead>\n",
       "    <tr style=\"text-align: right;\">\n",
       "      <th></th>\n",
       "      <th>stringy</th>\n",
       "      <th>stringy_znova</th>\n",
       "      <th>spojeni_sloipcu</th>\n",
       "      <th>cela cisla</th>\n",
       "      <th>smes</th>\n",
       "    </tr>\n",
       "  </thead>\n",
       "  <tbody>\n",
       "    <tr>\n",
       "      <th>prvni</th>\n",
       "      <td>jedna</td>\n",
       "      <td>jedna</td>\n",
       "      <td>jedna jedna</td>\n",
       "      <td>1</td>\n",
       "      <td>1</td>\n",
       "    </tr>\n",
       "    <tr>\n",
       "      <th>druhy</th>\n",
       "      <td>dva</td>\n",
       "      <td>dva</td>\n",
       "      <td>dva dva</td>\n",
       "      <td>2</td>\n",
       "      <td>2</td>\n",
       "    </tr>\n",
       "    <tr>\n",
       "      <th>treti</th>\n",
       "      <td>tři</td>\n",
       "      <td>tři</td>\n",
       "      <td>tři tři</td>\n",
       "      <td>3</td>\n",
       "      <td>hodně</td>\n",
       "    </tr>\n",
       "  </tbody>\n",
       "</table>\n",
       "</div>"
      ],
      "text/plain": [
       "      stringy stringy_znova spojeni_sloipcu  cela cisla   smes\n",
       "prvni   jedna         jedna     jedna jedna           1      1\n",
       "druhy     dva           dva         dva dva           2      2\n",
       "treti     tři           tři         tři tři           3  hodně"
      ]
     },
     "execution_count": 25,
     "metadata": {},
     "output_type": "execute_result"
    }
   ],
   "source": [
    "naplneny_dataframe = naplneny_dataframe.drop([\"ctvrty\", \"paty\"], axis=0)\n",
    "naplneny_dataframe"
   ]
  },
  {
   "cell_type": "markdown",
   "metadata": {},
   "source": [
    "Na sloučení více dataframů (anebo na přidání řádky na konec dataframu) se používá metoda *concat*. Ta jako parametr bere list spojovaných dataframů (v případě přidávání řádky si člověk musí vytvoři minidataframe obsahující pouze ji).\n",
    "Pandas mají metodu i *append*, která mi podle dokumentace přijde extrémně podobná *concatu*. Strýčet Google tuhle domněnku potvrzuje s tím, že concat je obvykle stejně rychlé, v jistých případech i rychlejší."
   ]
  },
  {
   "cell_type": "code",
   "execution_count": 34,
   "metadata": {
    "ExecuteTime": {
     "end_time": "2020-05-08T17:30:07.914019Z",
     "start_time": "2020-05-08T17:30:07.900017Z"
    }
   },
   "outputs": [
    {
     "data": {
      "text/html": [
       "<div>\n",
       "<style scoped>\n",
       "    .dataframe tbody tr th:only-of-type {\n",
       "        vertical-align: middle;\n",
       "    }\n",
       "\n",
       "    .dataframe tbody tr th {\n",
       "        vertical-align: top;\n",
       "    }\n",
       "\n",
       "    .dataframe thead th {\n",
       "        text-align: right;\n",
       "    }\n",
       "</style>\n",
       "<table border=\"1\" class=\"dataframe\">\n",
       "  <thead>\n",
       "    <tr style=\"text-align: right;\">\n",
       "      <th></th>\n",
       "      <th>stringy</th>\n",
       "      <th>stringy_znova</th>\n",
       "      <th>spojeni_sloipcu</th>\n",
       "      <th>cela cisla</th>\n",
       "      <th>smes</th>\n",
       "    </tr>\n",
       "  </thead>\n",
       "  <tbody>\n",
       "    <tr>\n",
       "      <th>prvni</th>\n",
       "      <td>jedna</td>\n",
       "      <td>jedna</td>\n",
       "      <td>jedna jedna</td>\n",
       "      <td>1</td>\n",
       "      <td>1</td>\n",
       "    </tr>\n",
       "    <tr>\n",
       "      <th>druhy</th>\n",
       "      <td>dva</td>\n",
       "      <td>dva</td>\n",
       "      <td>dva dva</td>\n",
       "      <td>2</td>\n",
       "      <td>2</td>\n",
       "    </tr>\n",
       "    <tr>\n",
       "      <th>treti</th>\n",
       "      <td>tři</td>\n",
       "      <td>tři</td>\n",
       "      <td>tři tři</td>\n",
       "      <td>3</td>\n",
       "      <td>hodně</td>\n",
       "    </tr>\n",
       "    <tr>\n",
       "      <th>ctvrty</th>\n",
       "      <td>čtyři</td>\n",
       "      <td>čtyři</td>\n",
       "      <td>čtyři čtyři</td>\n",
       "      <td>4</td>\n",
       "      <td>málo</td>\n",
       "    </tr>\n",
       "    <tr>\n",
       "      <th>paty</th>\n",
       "      <td>pět</td>\n",
       "      <td>pět</td>\n",
       "      <td>pět pět</td>\n",
       "      <td>155</td>\n",
       "      <td>1.23</td>\n",
       "    </tr>\n",
       "    <tr>\n",
       "      <th>prvni</th>\n",
       "      <td>jedna</td>\n",
       "      <td>jedna</td>\n",
       "      <td>jedna jedna</td>\n",
       "      <td>1</td>\n",
       "      <td>1</td>\n",
       "    </tr>\n",
       "    <tr>\n",
       "      <th>druhy</th>\n",
       "      <td>dva</td>\n",
       "      <td>dva</td>\n",
       "      <td>dva dva</td>\n",
       "      <td>2</td>\n",
       "      <td>2</td>\n",
       "    </tr>\n",
       "    <tr>\n",
       "      <th>treti</th>\n",
       "      <td>tři</td>\n",
       "      <td>tři</td>\n",
       "      <td>tři tři</td>\n",
       "      <td>3</td>\n",
       "      <td>hodně</td>\n",
       "    </tr>\n",
       "    <tr>\n",
       "      <th>ctvrty</th>\n",
       "      <td>čtyři</td>\n",
       "      <td>čtyři</td>\n",
       "      <td>čtyři čtyři</td>\n",
       "      <td>4</td>\n",
       "      <td>málo</td>\n",
       "    </tr>\n",
       "    <tr>\n",
       "      <th>paty</th>\n",
       "      <td>pět</td>\n",
       "      <td>pět</td>\n",
       "      <td>pět pět</td>\n",
       "      <td>155</td>\n",
       "      <td>1.23</td>\n",
       "    </tr>\n",
       "  </tbody>\n",
       "</table>\n",
       "</div>"
      ],
      "text/plain": [
       "       stringy stringy_znova spojeni_sloipcu  cela cisla   smes\n",
       "prvni    jedna         jedna     jedna jedna           1      1\n",
       "druhy      dva           dva         dva dva           2      2\n",
       "treti      tři           tři         tři tři           3  hodně\n",
       "ctvrty   čtyři         čtyři     čtyři čtyři           4   málo\n",
       "paty       pět           pět         pět pět         155   1.23\n",
       "prvni    jedna         jedna     jedna jedna           1      1\n",
       "druhy      dva           dva         dva dva           2      2\n",
       "treti      tři           tři         tři tři           3  hodně\n",
       "ctvrty   čtyři         čtyři     čtyři čtyři           4   málo\n",
       "paty       pět           pět         pět pět         155   1.23"
      ]
     },
     "execution_count": 34,
     "metadata": {},
     "output_type": "execute_result"
    }
   ],
   "source": [
    "slozenina = pd.concat([naplneny_dataframe, naplneny_dataframe])\n",
    "slozenina"
   ]
  },
  {
   "cell_type": "markdown",
   "metadata": {},
   "source": [
    "Vidíme, že nyní *loc* vrací dva řádky"
   ]
  },
  {
   "cell_type": "code",
   "execution_count": 35,
   "metadata": {
    "ExecuteTime": {
     "end_time": "2020-05-08T17:30:10.115535Z",
     "start_time": "2020-05-08T17:30:10.074682Z"
    }
   },
   "outputs": [
    {
     "data": {
      "text/html": [
       "<div>\n",
       "<style scoped>\n",
       "    .dataframe tbody tr th:only-of-type {\n",
       "        vertical-align: middle;\n",
       "    }\n",
       "\n",
       "    .dataframe tbody tr th {\n",
       "        vertical-align: top;\n",
       "    }\n",
       "\n",
       "    .dataframe thead th {\n",
       "        text-align: right;\n",
       "    }\n",
       "</style>\n",
       "<table border=\"1\" class=\"dataframe\">\n",
       "  <thead>\n",
       "    <tr style=\"text-align: right;\">\n",
       "      <th></th>\n",
       "      <th>stringy</th>\n",
       "      <th>stringy_znova</th>\n",
       "      <th>spojeni_sloipcu</th>\n",
       "      <th>cela cisla</th>\n",
       "      <th>smes</th>\n",
       "    </tr>\n",
       "  </thead>\n",
       "  <tbody>\n",
       "    <tr>\n",
       "      <th>druhy</th>\n",
       "      <td>dva</td>\n",
       "      <td>dva</td>\n",
       "      <td>dva dva</td>\n",
       "      <td>2</td>\n",
       "      <td>2</td>\n",
       "    </tr>\n",
       "    <tr>\n",
       "      <th>druhy</th>\n",
       "      <td>dva</td>\n",
       "      <td>dva</td>\n",
       "      <td>dva dva</td>\n",
       "      <td>2</td>\n",
       "      <td>2</td>\n",
       "    </tr>\n",
       "  </tbody>\n",
       "</table>\n",
       "</div>"
      ],
      "text/plain": [
       "      stringy stringy_znova spojeni_sloipcu  cela cisla smes\n",
       "druhy     dva           dva         dva dva           2    2\n",
       "druhy     dva           dva         dva dva           2    2"
      ]
     },
     "execution_count": 35,
     "metadata": {},
     "output_type": "execute_result"
    }
   ],
   "source": [
    "slozenina.loc[\"druhy\"]"
   ]
  },
  {
   "cell_type": "markdown",
   "metadata": {},
   "source": [
    "Oproti tomu *iloc* vrací pořád jeden řádek."
   ]
  },
  {
   "cell_type": "code",
   "execution_count": 36,
   "metadata": {
    "ExecuteTime": {
     "end_time": "2020-05-08T17:30:24.734069Z",
     "start_time": "2020-05-08T17:30:24.726091Z"
    }
   },
   "outputs": [
    {
     "data": {
      "text/plain": [
       "stringy                dva\n",
       "stringy_znova          dva\n",
       "spojeni_sloipcu    dva dva\n",
       "cela cisla               2\n",
       "smes                     2\n",
       "Name: druhy, dtype: object"
      ]
     },
     "execution_count": 36,
     "metadata": {},
     "output_type": "execute_result"
    }
   ],
   "source": [
    "naplneny_dataframe.iloc[1]"
   ]
  },
  {
   "cell_type": "markdown",
   "metadata": {},
   "source": [
    "Z toho je patrné, že olabelované indexy mohou mít odlišné chování než čísla indexů. Nyní záleží na tom, co vlastně potřebujeme. Pokud by nás zdvojení indexů mátlo, resp. pokud by se nám nelíbilo, že indexy jednotlivých sešitých dataframů začínají vždy od nuly, zresetujeme index s pomocí funkce *reset_index*. Ta defaultně \"zastaralé\" indexy vloží do nového sloupce dataframu. Pokud by se nám to nelíbilo, musíme *reset_index* volat s parametrem *drop=True*."
   ]
  },
  {
   "cell_type": "code",
   "execution_count": 37,
   "metadata": {
    "ExecuteTime": {
     "end_time": "2020-05-08T17:30:26.367118Z",
     "start_time": "2020-05-08T17:30:26.348171Z"
    }
   },
   "outputs": [
    {
     "data": {
      "text/html": [
       "<div>\n",
       "<style scoped>\n",
       "    .dataframe tbody tr th:only-of-type {\n",
       "        vertical-align: middle;\n",
       "    }\n",
       "\n",
       "    .dataframe tbody tr th {\n",
       "        vertical-align: top;\n",
       "    }\n",
       "\n",
       "    .dataframe thead th {\n",
       "        text-align: right;\n",
       "    }\n",
       "</style>\n",
       "<table border=\"1\" class=\"dataframe\">\n",
       "  <thead>\n",
       "    <tr style=\"text-align: right;\">\n",
       "      <th></th>\n",
       "      <th>index</th>\n",
       "      <th>stringy</th>\n",
       "      <th>stringy_znova</th>\n",
       "      <th>spojeni_sloipcu</th>\n",
       "      <th>cela cisla</th>\n",
       "      <th>smes</th>\n",
       "    </tr>\n",
       "  </thead>\n",
       "  <tbody>\n",
       "    <tr>\n",
       "      <th>0</th>\n",
       "      <td>prvni</td>\n",
       "      <td>jedna</td>\n",
       "      <td>jedna</td>\n",
       "      <td>jedna jedna</td>\n",
       "      <td>1</td>\n",
       "      <td>1</td>\n",
       "    </tr>\n",
       "    <tr>\n",
       "      <th>1</th>\n",
       "      <td>druhy</td>\n",
       "      <td>dva</td>\n",
       "      <td>dva</td>\n",
       "      <td>dva dva</td>\n",
       "      <td>2</td>\n",
       "      <td>2</td>\n",
       "    </tr>\n",
       "    <tr>\n",
       "      <th>2</th>\n",
       "      <td>treti</td>\n",
       "      <td>tři</td>\n",
       "      <td>tři</td>\n",
       "      <td>tři tři</td>\n",
       "      <td>3</td>\n",
       "      <td>hodně</td>\n",
       "    </tr>\n",
       "    <tr>\n",
       "      <th>3</th>\n",
       "      <td>ctvrty</td>\n",
       "      <td>čtyři</td>\n",
       "      <td>čtyři</td>\n",
       "      <td>čtyři čtyři</td>\n",
       "      <td>4</td>\n",
       "      <td>málo</td>\n",
       "    </tr>\n",
       "    <tr>\n",
       "      <th>4</th>\n",
       "      <td>paty</td>\n",
       "      <td>pět</td>\n",
       "      <td>pět</td>\n",
       "      <td>pět pět</td>\n",
       "      <td>155</td>\n",
       "      <td>1.23</td>\n",
       "    </tr>\n",
       "    <tr>\n",
       "      <th>5</th>\n",
       "      <td>prvni</td>\n",
       "      <td>jedna</td>\n",
       "      <td>jedna</td>\n",
       "      <td>jedna jedna</td>\n",
       "      <td>1</td>\n",
       "      <td>1</td>\n",
       "    </tr>\n",
       "    <tr>\n",
       "      <th>6</th>\n",
       "      <td>druhy</td>\n",
       "      <td>dva</td>\n",
       "      <td>dva</td>\n",
       "      <td>dva dva</td>\n",
       "      <td>2</td>\n",
       "      <td>2</td>\n",
       "    </tr>\n",
       "    <tr>\n",
       "      <th>7</th>\n",
       "      <td>treti</td>\n",
       "      <td>tři</td>\n",
       "      <td>tři</td>\n",
       "      <td>tři tři</td>\n",
       "      <td>3</td>\n",
       "      <td>hodně</td>\n",
       "    </tr>\n",
       "    <tr>\n",
       "      <th>8</th>\n",
       "      <td>ctvrty</td>\n",
       "      <td>čtyři</td>\n",
       "      <td>čtyři</td>\n",
       "      <td>čtyři čtyři</td>\n",
       "      <td>4</td>\n",
       "      <td>málo</td>\n",
       "    </tr>\n",
       "    <tr>\n",
       "      <th>9</th>\n",
       "      <td>paty</td>\n",
       "      <td>pět</td>\n",
       "      <td>pět</td>\n",
       "      <td>pět pět</td>\n",
       "      <td>155</td>\n",
       "      <td>1.23</td>\n",
       "    </tr>\n",
       "  </tbody>\n",
       "</table>\n",
       "</div>"
      ],
      "text/plain": [
       "    index stringy stringy_znova spojeni_sloipcu  cela cisla   smes\n",
       "0   prvni   jedna         jedna     jedna jedna           1      1\n",
       "1   druhy     dva           dva         dva dva           2      2\n",
       "2   treti     tři           tři         tři tři           3  hodně\n",
       "3  ctvrty   čtyři         čtyři     čtyři čtyři           4   málo\n",
       "4    paty     pět           pět         pět pět         155   1.23\n",
       "5   prvni   jedna         jedna     jedna jedna           1      1\n",
       "6   druhy     dva           dva         dva dva           2      2\n",
       "7   treti     tři           tři         tři tři           3  hodně\n",
       "8  ctvrty   čtyři         čtyři     čtyři čtyři           4   málo\n",
       "9    paty     pět           pět         pět pět         155   1.23"
      ]
     },
     "execution_count": 37,
     "metadata": {},
     "output_type": "execute_result"
    }
   ],
   "source": [
    "slozenina = slozenina.reset_index()\n",
    "slozenina"
   ]
  },
  {
   "cell_type": "markdown",
   "metadata": {},
   "source": [
    "Pokud bychom chtěli aplikovat nějakou funkci na každý řádek dataframu, je klasické for iterování extrémně špatný a extrémně zdlouhavý postup. Správně by se měla použít funkce apply. To, co ukazuji na následujícím příkladu, by se elegantněji a snadněji vyřešilo pomocí\n",
    "```python\n",
    "slozenina[[\"cela cisla\"]] + 50\n",
    "```\n",
    "Nicméně vhodnější ukázka mne nenapadla..."
   ]
  },
  {
   "cell_type": "code",
   "execution_count": 39,
   "metadata": {},
   "outputs": [
    {
     "data": {
      "text/html": [
       "<div>\n",
       "<style scoped>\n",
       "    .dataframe tbody tr th:only-of-type {\n",
       "        vertical-align: middle;\n",
       "    }\n",
       "\n",
       "    .dataframe tbody tr th {\n",
       "        vertical-align: top;\n",
       "    }\n",
       "\n",
       "    .dataframe thead th {\n",
       "        text-align: right;\n",
       "    }\n",
       "</style>\n",
       "<table border=\"1\" class=\"dataframe\">\n",
       "  <thead>\n",
       "    <tr style=\"text-align: right;\">\n",
       "      <th></th>\n",
       "      <th>cela cisla</th>\n",
       "    </tr>\n",
       "  </thead>\n",
       "  <tbody>\n",
       "    <tr>\n",
       "      <th>0</th>\n",
       "      <td>51</td>\n",
       "    </tr>\n",
       "    <tr>\n",
       "      <th>1</th>\n",
       "      <td>52</td>\n",
       "    </tr>\n",
       "    <tr>\n",
       "      <th>2</th>\n",
       "      <td>53</td>\n",
       "    </tr>\n",
       "    <tr>\n",
       "      <th>3</th>\n",
       "      <td>54</td>\n",
       "    </tr>\n",
       "    <tr>\n",
       "      <th>4</th>\n",
       "      <td>205</td>\n",
       "    </tr>\n",
       "    <tr>\n",
       "      <th>5</th>\n",
       "      <td>51</td>\n",
       "    </tr>\n",
       "    <tr>\n",
       "      <th>6</th>\n",
       "      <td>52</td>\n",
       "    </tr>\n",
       "    <tr>\n",
       "      <th>7</th>\n",
       "      <td>53</td>\n",
       "    </tr>\n",
       "    <tr>\n",
       "      <th>8</th>\n",
       "      <td>54</td>\n",
       "    </tr>\n",
       "    <tr>\n",
       "      <th>9</th>\n",
       "      <td>205</td>\n",
       "    </tr>\n",
       "  </tbody>\n",
       "</table>\n",
       "</div>"
      ],
      "text/plain": [
       "   cela cisla\n",
       "0          51\n",
       "1          52\n",
       "2          53\n",
       "3          54\n",
       "4         205\n",
       "5          51\n",
       "6          52\n",
       "7          53\n",
       "8          54\n",
       "9         205"
      ]
     },
     "execution_count": 39,
     "metadata": {},
     "output_type": "execute_result"
    }
   ],
   "source": [
    "def get_plus_fifty(number:int)->int:\n",
    "    \"\"\"Returns iriginal number increased by factor 50.\n",
    "    \n",
    "    Args:\n",
    "        number(int): Original number\n",
    "    \n",
    "    Returns:\n",
    "        int: Original number increased by 50.\n",
    "    \"\"\"\n",
    "    return number + 50\n",
    "\n",
    "slozenina[[\"cela cisla\"]].apply(lambda x:get_plus_fifty(x))"
   ]
  },
  {
   "cell_type": "markdown",
   "metadata": {
    "ExecuteTime": {
     "end_time": "2020-03-05T18:38:02.840948Z",
     "start_time": "2020-03-05T18:38:02.835961Z"
    }
   },
   "source": [
    "### SQL dotazy v Pandas\n",
    "Viděli jsme, že Pandas lze využít na manipulaci s tabulkoidní daty. De facto podobnou věc provádíme i v relačních databázích. Existuje nějaký převod mezi SQL dotazy a operacemi s pandími dataframy? Před samotným zkoumáním této otázky si vytvořme dataframy, se kterými budeme v tomto odstavci pracovat."
   ]
  },
  {
   "cell_type": "code",
   "execution_count": 3,
   "metadata": {
    "ExecuteTime": {
     "end_time": "2020-05-08T18:04:55.462992Z",
     "start_time": "2020-05-08T18:04:55.449011Z"
    }
   },
   "outputs": [
    {
     "data": {
      "text/html": [
       "<div>\n",
       "<style scoped>\n",
       "    .dataframe tbody tr th:only-of-type {\n",
       "        vertical-align: middle;\n",
       "    }\n",
       "\n",
       "    .dataframe tbody tr th {\n",
       "        vertical-align: top;\n",
       "    }\n",
       "\n",
       "    .dataframe thead th {\n",
       "        text-align: right;\n",
       "    }\n",
       "</style>\n",
       "<table border=\"1\" class=\"dataframe\">\n",
       "  <thead>\n",
       "    <tr style=\"text-align: right;\">\n",
       "      <th></th>\n",
       "      <th>id</th>\n",
       "      <th>krestni_jmeno</th>\n",
       "      <th>prijmeni</th>\n",
       "      <th>vek</th>\n",
       "      <th>pohlavi</th>\n",
       "    </tr>\n",
       "  </thead>\n",
       "  <tbody>\n",
       "    <tr>\n",
       "      <th>0</th>\n",
       "      <td>100</td>\n",
       "      <td>Victor</td>\n",
       "      <td>Hugo</td>\n",
       "      <td>25.0</td>\n",
       "      <td>M</td>\n",
       "    </tr>\n",
       "    <tr>\n",
       "      <th>1</th>\n",
       "      <td>200</td>\n",
       "      <td>Mary</td>\n",
       "      <td>Shelly</td>\n",
       "      <td>30.0</td>\n",
       "      <td>F</td>\n",
       "    </tr>\n",
       "    <tr>\n",
       "      <th>2</th>\n",
       "      <td>300</td>\n",
       "      <td>Johann</td>\n",
       "      <td>Geothe</td>\n",
       "      <td>75.0</td>\n",
       "      <td>M</td>\n",
       "    </tr>\n",
       "    <tr>\n",
       "      <th>3</th>\n",
       "      <td>400</td>\n",
       "      <td>Albert</td>\n",
       "      <td>Camus</td>\n",
       "      <td>NaN</td>\n",
       "      <td>M</td>\n",
       "    </tr>\n",
       "    <tr>\n",
       "      <th>4</th>\n",
       "      <td>500</td>\n",
       "      <td>William</td>\n",
       "      <td>Shakespear</td>\n",
       "      <td>38.0</td>\n",
       "      <td>M</td>\n",
       "    </tr>\n",
       "  </tbody>\n",
       "</table>\n",
       "</div>"
      ],
      "text/plain": [
       "    id krestni_jmeno    prijmeni   vek pohlavi\n",
       "0  100        Victor        Hugo  25.0       M\n",
       "1  200          Mary      Shelly  30.0       F\n",
       "2  300        Johann      Geothe  75.0       M\n",
       "3  400        Albert       Camus   NaN       M\n",
       "4  500       William  Shakespear  38.0       M"
      ]
     },
     "execution_count": 3,
     "metadata": {},
     "output_type": "execute_result"
    }
   ],
   "source": [
    "osoby = pd.DataFrame({\n",
    "    \"id\" : [100,200,300,400,500],\n",
    "    \"krestni_jmeno\" : [\"Victor\", \"Mary\", \"Johann\", \"Albert\", \"William\"],\n",
    "    \"prijmeni\" : [\"Hugo\", \"Shelly\", \"Geothe\", \"Camus\", \"Shakespear\"],\n",
    "    \"vek\" : [25,30,75,None,38],\n",
    "    \"pohlavi\" : [\"M\", \"F\", \"M\", \"M\", \"M\"]\n",
    "})\n",
    "osoby"
   ]
  },
  {
   "cell_type": "code",
   "execution_count": 4,
   "metadata": {
    "ExecuteTime": {
     "end_time": "2020-05-08T18:04:57.700400Z",
     "start_time": "2020-05-08T18:04:57.690430Z"
    }
   },
   "outputs": [
    {
     "data": {
      "text/html": [
       "<div>\n",
       "<style scoped>\n",
       "    .dataframe tbody tr th:only-of-type {\n",
       "        vertical-align: middle;\n",
       "    }\n",
       "\n",
       "    .dataframe tbody tr th {\n",
       "        vertical-align: top;\n",
       "    }\n",
       "\n",
       "    .dataframe thead th {\n",
       "        text-align: right;\n",
       "    }\n",
       "</style>\n",
       "<table border=\"1\" class=\"dataframe\">\n",
       "  <thead>\n",
       "    <tr style=\"text-align: right;\">\n",
       "      <th></th>\n",
       "      <th>id</th>\n",
       "      <th>pocet_knih</th>\n",
       "    </tr>\n",
       "  </thead>\n",
       "  <tbody>\n",
       "    <tr>\n",
       "      <th>0</th>\n",
       "      <td>100</td>\n",
       "      <td>19</td>\n",
       "    </tr>\n",
       "    <tr>\n",
       "      <th>1</th>\n",
       "      <td>200</td>\n",
       "      <td>25</td>\n",
       "    </tr>\n",
       "    <tr>\n",
       "      <th>2</th>\n",
       "      <td>300</td>\n",
       "      <td>12</td>\n",
       "    </tr>\n",
       "    <tr>\n",
       "      <th>3</th>\n",
       "      <td>400</td>\n",
       "      <td>31</td>\n",
       "    </tr>\n",
       "  </tbody>\n",
       "</table>\n",
       "</div>"
      ],
      "text/plain": [
       "    id  pocet_knih\n",
       "0  100          19\n",
       "1  200          25\n",
       "2  300          12\n",
       "3  400          31"
      ]
     },
     "execution_count": 4,
     "metadata": {},
     "output_type": "execute_result"
    }
   ],
   "source": [
    "prodane_knihy = pd.DataFrame({\n",
    "    \"id\" : [100,200,300,400],\n",
    "    \"pocet_knih\" : [19,25,12,31]\n",
    "})\n",
    "prodane_knihy"
   ]
  },
  {
   "cell_type": "markdown",
   "metadata": {
    "ExecuteTime": {
     "end_time": "2020-03-05T18:56:31.486765Z",
     "start_time": "2020-03-05T18:56:31.479787Z"
    }
   },
   "source": [
    "Nejprve se podívejme na klasický select\n",
    "```sql\n",
    "select krestni_jmeno, prijmeni, vek from osoby;\n",
    "```\n",
    "Ten s pomocí pand zrealizujeme jako"
   ]
  },
  {
   "cell_type": "code",
   "execution_count": 45,
   "metadata": {
    "ExecuteTime": {
     "end_time": "2020-03-12T20:40:01.007092Z",
     "start_time": "2020-03-12T20:40:00.997155Z"
    }
   },
   "outputs": [
    {
     "data": {
      "text/html": [
       "<div>\n",
       "<style scoped>\n",
       "    .dataframe tbody tr th:only-of-type {\n",
       "        vertical-align: middle;\n",
       "    }\n",
       "\n",
       "    .dataframe tbody tr th {\n",
       "        vertical-align: top;\n",
       "    }\n",
       "\n",
       "    .dataframe thead th {\n",
       "        text-align: right;\n",
       "    }\n",
       "</style>\n",
       "<table border=\"1\" class=\"dataframe\">\n",
       "  <thead>\n",
       "    <tr style=\"text-align: right;\">\n",
       "      <th></th>\n",
       "      <th>krestni_jmeno</th>\n",
       "      <th>prijmeni</th>\n",
       "      <th>vek</th>\n",
       "    </tr>\n",
       "  </thead>\n",
       "  <tbody>\n",
       "    <tr>\n",
       "      <th>0</th>\n",
       "      <td>Victor</td>\n",
       "      <td>Hugo</td>\n",
       "      <td>25.0</td>\n",
       "    </tr>\n",
       "    <tr>\n",
       "      <th>1</th>\n",
       "      <td>Mary</td>\n",
       "      <td>Shelly</td>\n",
       "      <td>30.0</td>\n",
       "    </tr>\n",
       "    <tr>\n",
       "      <th>2</th>\n",
       "      <td>Johann</td>\n",
       "      <td>Geothe</td>\n",
       "      <td>75.0</td>\n",
       "    </tr>\n",
       "    <tr>\n",
       "      <th>3</th>\n",
       "      <td>Albert</td>\n",
       "      <td>Camus</td>\n",
       "      <td>NaN</td>\n",
       "    </tr>\n",
       "    <tr>\n",
       "      <th>4</th>\n",
       "      <td>William</td>\n",
       "      <td>Shakespear</td>\n",
       "      <td>38.0</td>\n",
       "    </tr>\n",
       "  </tbody>\n",
       "</table>\n",
       "</div>"
      ],
      "text/plain": [
       "  krestni_jmeno    prijmeni   vek\n",
       "0        Victor        Hugo  25.0\n",
       "1          Mary      Shelly  30.0\n",
       "2        Johann      Geothe  75.0\n",
       "3        Albert       Camus   NaN\n",
       "4       William  Shakespear  38.0"
      ]
     },
     "execution_count": 45,
     "metadata": {},
     "output_type": "execute_result"
    }
   ],
   "source": [
    "osoby[[\"krestni_jmeno\", \"prijmeni\", \"vek\"]]"
   ]
  },
  {
   "cell_type": "markdown",
   "metadata": {},
   "source": [
    "Co kdybychom ale chtěli jen dvě řádky?\n",
    "```sql\n",
    "select top 2 krestni_jmeno, prijmeni, vek from osoby;\n",
    "```"
   ]
  },
  {
   "cell_type": "code",
   "execution_count": 46,
   "metadata": {
    "ExecuteTime": {
     "end_time": "2020-03-12T20:40:13.313943Z",
     "start_time": "2020-03-12T20:40:13.302973Z"
    }
   },
   "outputs": [
    {
     "data": {
      "text/html": [
       "<div>\n",
       "<style scoped>\n",
       "    .dataframe tbody tr th:only-of-type {\n",
       "        vertical-align: middle;\n",
       "    }\n",
       "\n",
       "    .dataframe tbody tr th {\n",
       "        vertical-align: top;\n",
       "    }\n",
       "\n",
       "    .dataframe thead th {\n",
       "        text-align: right;\n",
       "    }\n",
       "</style>\n",
       "<table border=\"1\" class=\"dataframe\">\n",
       "  <thead>\n",
       "    <tr style=\"text-align: right;\">\n",
       "      <th></th>\n",
       "      <th>krestni_jmeno</th>\n",
       "      <th>prijmeni</th>\n",
       "      <th>vek</th>\n",
       "    </tr>\n",
       "  </thead>\n",
       "  <tbody>\n",
       "    <tr>\n",
       "      <th>0</th>\n",
       "      <td>Victor</td>\n",
       "      <td>Hugo</td>\n",
       "      <td>25.0</td>\n",
       "    </tr>\n",
       "    <tr>\n",
       "      <th>1</th>\n",
       "      <td>Mary</td>\n",
       "      <td>Shelly</td>\n",
       "      <td>30.0</td>\n",
       "    </tr>\n",
       "  </tbody>\n",
       "</table>\n",
       "</div>"
      ],
      "text/plain": [
       "  krestni_jmeno prijmeni   vek\n",
       "0        Victor     Hugo  25.0\n",
       "1          Mary   Shelly  30.0"
      ]
     },
     "execution_count": 46,
     "metadata": {},
     "output_type": "execute_result"
    }
   ],
   "source": [
    "osoby[[\"krestni_jmeno\", \"prijmeni\", \"vek\"]].head(2)"
   ]
  },
  {
   "cell_type": "markdown",
   "metadata": {},
   "source": [
    "Pro *WHERE* podmínku napíšeme \n",
    "```sql\n",
    "select * from osoby where prijmeni = 'Geothe';\n",
    "```"
   ]
  },
  {
   "cell_type": "code",
   "execution_count": 47,
   "metadata": {
    "ExecuteTime": {
     "end_time": "2020-03-12T20:40:21.181646Z",
     "start_time": "2020-03-12T20:40:21.167685Z"
    }
   },
   "outputs": [
    {
     "data": {
      "text/html": [
       "<div>\n",
       "<style scoped>\n",
       "    .dataframe tbody tr th:only-of-type {\n",
       "        vertical-align: middle;\n",
       "    }\n",
       "\n",
       "    .dataframe tbody tr th {\n",
       "        vertical-align: top;\n",
       "    }\n",
       "\n",
       "    .dataframe thead th {\n",
       "        text-align: right;\n",
       "    }\n",
       "</style>\n",
       "<table border=\"1\" class=\"dataframe\">\n",
       "  <thead>\n",
       "    <tr style=\"text-align: right;\">\n",
       "      <th></th>\n",
       "      <th>id</th>\n",
       "      <th>krestni_jmeno</th>\n",
       "      <th>prijmeni</th>\n",
       "      <th>vek</th>\n",
       "      <th>pohlavi</th>\n",
       "    </tr>\n",
       "  </thead>\n",
       "  <tbody>\n",
       "    <tr>\n",
       "      <th>2</th>\n",
       "      <td>300</td>\n",
       "      <td>Johann</td>\n",
       "      <td>Geothe</td>\n",
       "      <td>75.0</td>\n",
       "      <td>M</td>\n",
       "    </tr>\n",
       "  </tbody>\n",
       "</table>\n",
       "</div>"
      ],
      "text/plain": [
       "    id krestni_jmeno prijmeni   vek pohlavi\n",
       "2  300        Johann   Geothe  75.0       M"
      ]
     },
     "execution_count": 47,
     "metadata": {},
     "output_type": "execute_result"
    }
   ],
   "source": [
    "osoby[osoby[\"prijmeni\"]==\"Geothe\"]"
   ]
  },
  {
   "cell_type": "markdown",
   "metadata": {
    "ExecuteTime": {
     "end_time": "2020-03-05T19:08:29.888919Z",
     "start_time": "2020-03-05T19:08:29.880942Z"
    }
   },
   "source": [
    "Co když ve *WHERE* bude více podmínek? Pro *and* mezi ně vložíme znak *&*, pro *or* znak *|*.\n",
    "```sql\n",
    "select * from osoby where prijmeni = 'Geothe' and krestni_jmeno = \"Johann\";\n",
    "```"
   ]
  },
  {
   "cell_type": "code",
   "execution_count": 48,
   "metadata": {
    "ExecuteTime": {
     "end_time": "2020-03-12T20:40:29.320577Z",
     "start_time": "2020-03-12T20:40:29.304619Z"
    }
   },
   "outputs": [
    {
     "data": {
      "text/html": [
       "<div>\n",
       "<style scoped>\n",
       "    .dataframe tbody tr th:only-of-type {\n",
       "        vertical-align: middle;\n",
       "    }\n",
       "\n",
       "    .dataframe tbody tr th {\n",
       "        vertical-align: top;\n",
       "    }\n",
       "\n",
       "    .dataframe thead th {\n",
       "        text-align: right;\n",
       "    }\n",
       "</style>\n",
       "<table border=\"1\" class=\"dataframe\">\n",
       "  <thead>\n",
       "    <tr style=\"text-align: right;\">\n",
       "      <th></th>\n",
       "      <th>id</th>\n",
       "      <th>krestni_jmeno</th>\n",
       "      <th>prijmeni</th>\n",
       "      <th>vek</th>\n",
       "      <th>pohlavi</th>\n",
       "    </tr>\n",
       "  </thead>\n",
       "  <tbody>\n",
       "    <tr>\n",
       "      <th>2</th>\n",
       "      <td>300</td>\n",
       "      <td>Johann</td>\n",
       "      <td>Geothe</td>\n",
       "      <td>75.0</td>\n",
       "      <td>M</td>\n",
       "    </tr>\n",
       "  </tbody>\n",
       "</table>\n",
       "</div>"
      ],
      "text/plain": [
       "    id krestni_jmeno prijmeni   vek pohlavi\n",
       "2  300        Johann   Geothe  75.0       M"
      ]
     },
     "execution_count": 48,
     "metadata": {},
     "output_type": "execute_result"
    }
   ],
   "source": [
    "osoby[(osoby[\"prijmeni\"]==\"Geothe\") & (osoby[\"krestni_jmeno\"]==\"Johann\")]"
   ]
  },
  {
   "cell_type": "markdown",
   "metadata": {
    "ExecuteTime": {
     "end_time": "2020-03-05T19:12:27.404304Z",
     "start_time": "2020-03-05T19:12:27.397355Z"
    }
   },
   "source": [
    "A co když chceme jednak omezení na sloupce a jednak omezení na řádky?\n",
    "```sql\n",
    "select id from osoby where prijmeni = 'Geothe' and krestni_jmeno = \"Johann\";\n",
    "```"
   ]
  },
  {
   "cell_type": "code",
   "execution_count": 49,
   "metadata": {
    "ExecuteTime": {
     "end_time": "2020-03-12T20:40:41.636440Z",
     "start_time": "2020-03-12T20:40:41.626468Z"
    }
   },
   "outputs": [
    {
     "data": {
      "text/html": [
       "<div>\n",
       "<style scoped>\n",
       "    .dataframe tbody tr th:only-of-type {\n",
       "        vertical-align: middle;\n",
       "    }\n",
       "\n",
       "    .dataframe tbody tr th {\n",
       "        vertical-align: top;\n",
       "    }\n",
       "\n",
       "    .dataframe thead th {\n",
       "        text-align: right;\n",
       "    }\n",
       "</style>\n",
       "<table border=\"1\" class=\"dataframe\">\n",
       "  <thead>\n",
       "    <tr style=\"text-align: right;\">\n",
       "      <th></th>\n",
       "      <th>id</th>\n",
       "    </tr>\n",
       "  </thead>\n",
       "  <tbody>\n",
       "    <tr>\n",
       "      <th>2</th>\n",
       "      <td>300</td>\n",
       "    </tr>\n",
       "  </tbody>\n",
       "</table>\n",
       "</div>"
      ],
      "text/plain": [
       "    id\n",
       "2  300"
      ]
     },
     "execution_count": 49,
     "metadata": {},
     "output_type": "execute_result"
    }
   ],
   "source": [
    "osoby[[\"id\"]][(osoby[\"prijmeni\"]==\"Geothe\") & (osoby[\"krestni_jmeno\"]==\"Johann\")]"
   ]
  },
  {
   "cell_type": "markdown",
   "metadata": {},
   "source": [
    "Jak bychom ale v pandách ošetřili přítomnost NULLu (v Pythonu None)?\n",
    "```sql\n",
    "select * osoby where vek is NULL;\n",
    "```"
   ]
  },
  {
   "cell_type": "code",
   "execution_count": 50,
   "metadata": {
    "ExecuteTime": {
     "end_time": "2020-03-12T20:40:47.189133Z",
     "start_time": "2020-03-12T20:40:47.178162Z"
    }
   },
   "outputs": [
    {
     "data": {
      "text/html": [
       "<div>\n",
       "<style scoped>\n",
       "    .dataframe tbody tr th:only-of-type {\n",
       "        vertical-align: middle;\n",
       "    }\n",
       "\n",
       "    .dataframe tbody tr th {\n",
       "        vertical-align: top;\n",
       "    }\n",
       "\n",
       "    .dataframe thead th {\n",
       "        text-align: right;\n",
       "    }\n",
       "</style>\n",
       "<table border=\"1\" class=\"dataframe\">\n",
       "  <thead>\n",
       "    <tr style=\"text-align: right;\">\n",
       "      <th></th>\n",
       "      <th>id</th>\n",
       "      <th>krestni_jmeno</th>\n",
       "      <th>prijmeni</th>\n",
       "      <th>vek</th>\n",
       "      <th>pohlavi</th>\n",
       "    </tr>\n",
       "  </thead>\n",
       "  <tbody>\n",
       "    <tr>\n",
       "      <th>3</th>\n",
       "      <td>400</td>\n",
       "      <td>Albert</td>\n",
       "      <td>Camus</td>\n",
       "      <td>NaN</td>\n",
       "      <td>M</td>\n",
       "    </tr>\n",
       "  </tbody>\n",
       "</table>\n",
       "</div>"
      ],
      "text/plain": [
       "    id krestni_jmeno prijmeni  vek pohlavi\n",
       "3  400        Albert    Camus  NaN       M"
      ]
     },
     "execution_count": 50,
     "metadata": {},
     "output_type": "execute_result"
    }
   ],
   "source": [
    "osoby[osoby[\"vek\"].isna()]"
   ]
  },
  {
   "cell_type": "markdown",
   "metadata": {},
   "source": [
    "Variací na like je funkce str.contains.\n",
    "```sql\n",
    "select * osoby where prijmeni like '%eoth%';\n",
    "\n",
    "```"
   ]
  },
  {
   "cell_type": "code",
   "execution_count": 51,
   "metadata": {
    "ExecuteTime": {
     "end_time": "2020-03-12T20:40:55.246493Z",
     "start_time": "2020-03-12T20:40:55.232496Z"
    }
   },
   "outputs": [
    {
     "data": {
      "text/html": [
       "<div>\n",
       "<style scoped>\n",
       "    .dataframe tbody tr th:only-of-type {\n",
       "        vertical-align: middle;\n",
       "    }\n",
       "\n",
       "    .dataframe tbody tr th {\n",
       "        vertical-align: top;\n",
       "    }\n",
       "\n",
       "    .dataframe thead th {\n",
       "        text-align: right;\n",
       "    }\n",
       "</style>\n",
       "<table border=\"1\" class=\"dataframe\">\n",
       "  <thead>\n",
       "    <tr style=\"text-align: right;\">\n",
       "      <th></th>\n",
       "      <th>id</th>\n",
       "      <th>krestni_jmeno</th>\n",
       "      <th>prijmeni</th>\n",
       "      <th>vek</th>\n",
       "      <th>pohlavi</th>\n",
       "    </tr>\n",
       "  </thead>\n",
       "  <tbody>\n",
       "    <tr>\n",
       "      <th>2</th>\n",
       "      <td>300</td>\n",
       "      <td>Johann</td>\n",
       "      <td>Geothe</td>\n",
       "      <td>75.0</td>\n",
       "      <td>M</td>\n",
       "    </tr>\n",
       "  </tbody>\n",
       "</table>\n",
       "</div>"
      ],
      "text/plain": [
       "    id krestni_jmeno prijmeni   vek pohlavi\n",
       "2  300        Johann   Geothe  75.0       M"
      ]
     },
     "execution_count": 51,
     "metadata": {},
     "output_type": "execute_result"
    }
   ],
   "source": [
    "osoby[osoby[\"prijmeni\"].str.contains(\"eoth\")]"
   ]
  },
  {
   "cell_type": "markdown",
   "metadata": {
    "ExecuteTime": {
     "end_time": "2020-03-05T20:02:06.827155Z",
     "start_time": "2020-03-05T20:02:06.820191Z"
    }
   },
   "source": [
    "Pro emulaci *not like* se musí na začátek prvních hranatých závorek umístit vlnovka, která vede k negaci následné podmínky."
   ]
  },
  {
   "cell_type": "code",
   "execution_count": 52,
   "metadata": {
    "ExecuteTime": {
     "end_time": "2020-03-12T20:40:58.794980Z",
     "start_time": "2020-03-12T20:40:58.781018Z"
    }
   },
   "outputs": [
    {
     "data": {
      "text/html": [
       "<div>\n",
       "<style scoped>\n",
       "    .dataframe tbody tr th:only-of-type {\n",
       "        vertical-align: middle;\n",
       "    }\n",
       "\n",
       "    .dataframe tbody tr th {\n",
       "        vertical-align: top;\n",
       "    }\n",
       "\n",
       "    .dataframe thead th {\n",
       "        text-align: right;\n",
       "    }\n",
       "</style>\n",
       "<table border=\"1\" class=\"dataframe\">\n",
       "  <thead>\n",
       "    <tr style=\"text-align: right;\">\n",
       "      <th></th>\n",
       "      <th>id</th>\n",
       "      <th>krestni_jmeno</th>\n",
       "      <th>prijmeni</th>\n",
       "      <th>vek</th>\n",
       "      <th>pohlavi</th>\n",
       "    </tr>\n",
       "  </thead>\n",
       "  <tbody>\n",
       "    <tr>\n",
       "      <th>0</th>\n",
       "      <td>100</td>\n",
       "      <td>Victor</td>\n",
       "      <td>Hugo</td>\n",
       "      <td>25.0</td>\n",
       "      <td>M</td>\n",
       "    </tr>\n",
       "    <tr>\n",
       "      <th>1</th>\n",
       "      <td>200</td>\n",
       "      <td>Mary</td>\n",
       "      <td>Shelly</td>\n",
       "      <td>30.0</td>\n",
       "      <td>F</td>\n",
       "    </tr>\n",
       "    <tr>\n",
       "      <th>3</th>\n",
       "      <td>400</td>\n",
       "      <td>Albert</td>\n",
       "      <td>Camus</td>\n",
       "      <td>NaN</td>\n",
       "      <td>M</td>\n",
       "    </tr>\n",
       "    <tr>\n",
       "      <th>4</th>\n",
       "      <td>500</td>\n",
       "      <td>William</td>\n",
       "      <td>Shakespear</td>\n",
       "      <td>38.0</td>\n",
       "      <td>M</td>\n",
       "    </tr>\n",
       "  </tbody>\n",
       "</table>\n",
       "</div>"
      ],
      "text/plain": [
       "    id krestni_jmeno    prijmeni   vek pohlavi\n",
       "0  100        Victor        Hugo  25.0       M\n",
       "1  200          Mary      Shelly  30.0       F\n",
       "3  400        Albert       Camus   NaN       M\n",
       "4  500       William  Shakespear  38.0       M"
      ]
     },
     "execution_count": 52,
     "metadata": {},
     "output_type": "execute_result"
    }
   ],
   "source": [
    "osoby[~osoby[\"prijmeni\"].str.contains(\"eoth\")]"
   ]
  },
  {
   "cell_type": "markdown",
   "metadata": {},
   "source": [
    "Občas je též potřeba data podle hodnoty nějakého sloupce setřídit\n",
    "```sql\n",
    "select * osoby order by vek desc;\n",
    "```"
   ]
  },
  {
   "cell_type": "code",
   "execution_count": 53,
   "metadata": {
    "ExecuteTime": {
     "end_time": "2020-03-12T20:41:02.015149Z",
     "start_time": "2020-03-12T20:41:02.002184Z"
    }
   },
   "outputs": [
    {
     "data": {
      "text/html": [
       "<div>\n",
       "<style scoped>\n",
       "    .dataframe tbody tr th:only-of-type {\n",
       "        vertical-align: middle;\n",
       "    }\n",
       "\n",
       "    .dataframe tbody tr th {\n",
       "        vertical-align: top;\n",
       "    }\n",
       "\n",
       "    .dataframe thead th {\n",
       "        text-align: right;\n",
       "    }\n",
       "</style>\n",
       "<table border=\"1\" class=\"dataframe\">\n",
       "  <thead>\n",
       "    <tr style=\"text-align: right;\">\n",
       "      <th></th>\n",
       "      <th>id</th>\n",
       "      <th>krestni_jmeno</th>\n",
       "      <th>prijmeni</th>\n",
       "      <th>vek</th>\n",
       "      <th>pohlavi</th>\n",
       "    </tr>\n",
       "  </thead>\n",
       "  <tbody>\n",
       "    <tr>\n",
       "      <th>2</th>\n",
       "      <td>300</td>\n",
       "      <td>Johann</td>\n",
       "      <td>Geothe</td>\n",
       "      <td>75.0</td>\n",
       "      <td>M</td>\n",
       "    </tr>\n",
       "    <tr>\n",
       "      <th>4</th>\n",
       "      <td>500</td>\n",
       "      <td>William</td>\n",
       "      <td>Shakespear</td>\n",
       "      <td>38.0</td>\n",
       "      <td>M</td>\n",
       "    </tr>\n",
       "    <tr>\n",
       "      <th>1</th>\n",
       "      <td>200</td>\n",
       "      <td>Mary</td>\n",
       "      <td>Shelly</td>\n",
       "      <td>30.0</td>\n",
       "      <td>F</td>\n",
       "    </tr>\n",
       "    <tr>\n",
       "      <th>0</th>\n",
       "      <td>100</td>\n",
       "      <td>Victor</td>\n",
       "      <td>Hugo</td>\n",
       "      <td>25.0</td>\n",
       "      <td>M</td>\n",
       "    </tr>\n",
       "    <tr>\n",
       "      <th>3</th>\n",
       "      <td>400</td>\n",
       "      <td>Albert</td>\n",
       "      <td>Camus</td>\n",
       "      <td>NaN</td>\n",
       "      <td>M</td>\n",
       "    </tr>\n",
       "  </tbody>\n",
       "</table>\n",
       "</div>"
      ],
      "text/plain": [
       "    id krestni_jmeno    prijmeni   vek pohlavi\n",
       "2  300        Johann      Geothe  75.0       M\n",
       "4  500       William  Shakespear  38.0       M\n",
       "1  200          Mary      Shelly  30.0       F\n",
       "0  100        Victor        Hugo  25.0       M\n",
       "3  400        Albert       Camus   NaN       M"
      ]
     },
     "execution_count": 53,
     "metadata": {},
     "output_type": "execute_result"
    }
   ],
   "source": [
    "osoby.sort_values([\"vek\"], ascending=False)"
   ]
  },
  {
   "cell_type": "markdown",
   "metadata": {
    "ExecuteTime": {
     "end_time": "2020-03-05T19:17:11.842071Z",
     "start_time": "2020-03-05T19:17:11.834055Z"
    }
   },
   "source": [
    "Jak realizovat agregace a count? Použijeme funkci size - oproti pythonímu countu nepovede k nadbytečnému opakování týchž hodnot pro každý sloupec.\n",
    "```sql\n",
    "select pohlavi, count(*) from osoby group by pohlavi;\n",
    "```"
   ]
  },
  {
   "cell_type": "code",
   "execution_count": 54,
   "metadata": {
    "ExecuteTime": {
     "end_time": "2020-03-07T17:40:22.817503Z",
     "start_time": "2020-03-07T17:40:22.591802Z"
    }
   },
   "outputs": [
    {
     "data": {
      "text/plain": [
       "pohlavi\n",
       "F    1\n",
       "M    4\n",
       "dtype: int64"
      ]
     },
     "execution_count": 54,
     "metadata": {},
     "output_type": "execute_result"
    }
   ],
   "source": [
    "osoby.groupby(\"pohlavi\").size()"
   ]
  },
  {
   "cell_type": "code",
   "execution_count": 55,
   "metadata": {
    "ExecuteTime": {
     "end_time": "2020-03-12T20:41:05.820264Z",
     "start_time": "2020-03-12T20:41:05.795364Z"
    }
   },
   "outputs": [
    {
     "data": {
      "text/html": [
       "<div>\n",
       "<style scoped>\n",
       "    .dataframe tbody tr th:only-of-type {\n",
       "        vertical-align: middle;\n",
       "    }\n",
       "\n",
       "    .dataframe tbody tr th {\n",
       "        vertical-align: top;\n",
       "    }\n",
       "\n",
       "    .dataframe thead th {\n",
       "        text-align: right;\n",
       "    }\n",
       "</style>\n",
       "<table border=\"1\" class=\"dataframe\">\n",
       "  <thead>\n",
       "    <tr style=\"text-align: right;\">\n",
       "      <th></th>\n",
       "      <th>id</th>\n",
       "      <th>krestni_jmeno</th>\n",
       "      <th>prijmeni</th>\n",
       "      <th>vek</th>\n",
       "    </tr>\n",
       "    <tr>\n",
       "      <th>pohlavi</th>\n",
       "      <th></th>\n",
       "      <th></th>\n",
       "      <th></th>\n",
       "      <th></th>\n",
       "    </tr>\n",
       "  </thead>\n",
       "  <tbody>\n",
       "    <tr>\n",
       "      <th>F</th>\n",
       "      <td>1</td>\n",
       "      <td>1</td>\n",
       "      <td>1</td>\n",
       "      <td>1</td>\n",
       "    </tr>\n",
       "    <tr>\n",
       "      <th>M</th>\n",
       "      <td>4</td>\n",
       "      <td>4</td>\n",
       "      <td>4</td>\n",
       "      <td>3</td>\n",
       "    </tr>\n",
       "  </tbody>\n",
       "</table>\n",
       "</div>"
      ],
      "text/plain": [
       "         id  krestni_jmeno  prijmeni  vek\n",
       "pohlavi                                  \n",
       "F         1              1         1    1\n",
       "M         4              4         4    3"
      ]
     },
     "execution_count": 55,
     "metadata": {},
     "output_type": "execute_result"
    }
   ],
   "source": [
    "osoby.groupby(\"pohlavi\").count()"
   ]
  },
  {
   "cell_type": "markdown",
   "metadata": {},
   "source": [
    "Co když ale budeme mít agregačních funkcí více? Použijeme funkci agg. Ta jako parametr bere parametry v podobě jmeno_sloupce_v_agregovane_tabulce=(\"jmeno_sloupce_ve_stare_tabulce\", agregacni_funkce)\n",
    "```sql\n",
    "select pohlavi, count(*), avg(vek) from osoby group by pohlavi;\n",
    "```"
   ]
  },
  {
   "cell_type": "code",
   "execution_count": 56,
   "metadata": {
    "ExecuteTime": {
     "end_time": "2020-03-07T17:40:25.989740Z",
     "start_time": "2020-03-07T17:40:25.842386Z"
    }
   },
   "outputs": [
    {
     "data": {
      "text/html": [
       "<div>\n",
       "<style scoped>\n",
       "    .dataframe tbody tr th:only-of-type {\n",
       "        vertical-align: middle;\n",
       "    }\n",
       "\n",
       "    .dataframe tbody tr th {\n",
       "        vertical-align: top;\n",
       "    }\n",
       "\n",
       "    .dataframe thead th {\n",
       "        text-align: right;\n",
       "    }\n",
       "</style>\n",
       "<table border=\"1\" class=\"dataframe\">\n",
       "  <thead>\n",
       "    <tr style=\"text-align: right;\">\n",
       "      <th></th>\n",
       "      <th>prumerny_vek</th>\n",
       "      <th>pocet</th>\n",
       "    </tr>\n",
       "    <tr>\n",
       "      <th>pohlavi</th>\n",
       "      <th></th>\n",
       "      <th></th>\n",
       "    </tr>\n",
       "  </thead>\n",
       "  <tbody>\n",
       "    <tr>\n",
       "      <th>F</th>\n",
       "      <td>30.0</td>\n",
       "      <td>1</td>\n",
       "    </tr>\n",
       "    <tr>\n",
       "      <th>M</th>\n",
       "      <td>46.0</td>\n",
       "      <td>4</td>\n",
       "    </tr>\n",
       "  </tbody>\n",
       "</table>\n",
       "</div>"
      ],
      "text/plain": [
       "         prumerny_vek  pocet\n",
       "pohlavi                     \n",
       "F                30.0      1\n",
       "M                46.0      4"
      ]
     },
     "execution_count": 56,
     "metadata": {},
     "output_type": "execute_result"
    }
   ],
   "source": [
    "osoby.groupby(\"pohlavi\").agg(prumerny_vek=(\"vek\", np.mean), pocet=(\"pohlavi\",np.size))"
   ]
  },
  {
   "cell_type": "markdown",
   "metadata": {},
   "source": [
    "Pozn.: Pokud Vám výše uvedený příkaz nefunguje, asi je verze Vašeho balíčku Pandas 0.24 nebo nižší. Pokud nechcete provést upgrade, musíte pro použití více agregačních funkcí psát"
   ]
  },
  {
   "cell_type": "code",
   "execution_count": 57,
   "metadata": {
    "ExecuteTime": {
     "end_time": "2020-03-07T17:40:27.590600Z",
     "start_time": "2020-03-07T17:40:27.577635Z"
    }
   },
   "outputs": [
    {
     "data": {
      "text/html": [
       "<div>\n",
       "<style scoped>\n",
       "    .dataframe tbody tr th:only-of-type {\n",
       "        vertical-align: middle;\n",
       "    }\n",
       "\n",
       "    .dataframe tbody tr th {\n",
       "        vertical-align: top;\n",
       "    }\n",
       "\n",
       "    .dataframe thead th {\n",
       "        text-align: right;\n",
       "    }\n",
       "</style>\n",
       "<table border=\"1\" class=\"dataframe\">\n",
       "  <thead>\n",
       "    <tr style=\"text-align: right;\">\n",
       "      <th></th>\n",
       "      <th>vek</th>\n",
       "      <th>pohlavi</th>\n",
       "    </tr>\n",
       "    <tr>\n",
       "      <th>pohlavi</th>\n",
       "      <th></th>\n",
       "      <th></th>\n",
       "    </tr>\n",
       "  </thead>\n",
       "  <tbody>\n",
       "    <tr>\n",
       "      <th>F</th>\n",
       "      <td>30.0</td>\n",
       "      <td>1</td>\n",
       "    </tr>\n",
       "    <tr>\n",
       "      <th>M</th>\n",
       "      <td>46.0</td>\n",
       "      <td>4</td>\n",
       "    </tr>\n",
       "  </tbody>\n",
       "</table>\n",
       "</div>"
      ],
      "text/plain": [
       "          vek  pohlavi\n",
       "pohlavi               \n",
       "F        30.0        1\n",
       "M        46.0        4"
      ]
     },
     "execution_count": 57,
     "metadata": {},
     "output_type": "execute_result"
    }
   ],
   "source": [
    "osoby.groupby(\"pohlavi\").agg({\"vek\":np.mean, \"pohlavi\":np.size})"
   ]
  },
  {
   "cell_type": "markdown",
   "metadata": {
    "ExecuteTime": {
     "end_time": "2020-03-05T19:39:40.159486Z",
     "start_time": "2020-03-05T19:39:40.153500Z"
    }
   },
   "source": [
    "Jak na sebe dataframy joinovat?\n",
    "```sql\n",
    "select * \n",
    "from \n",
    " osoby os1 \n",
    "inner join \n",
    " prodane_knihy pk1 \n",
    "   on os1.id = pk1.id;\n",
    "```\n"
   ]
  },
  {
   "cell_type": "code",
   "execution_count": 58,
   "metadata": {
    "ExecuteTime": {
     "end_time": "2020-05-08T15:51:33.183334Z",
     "start_time": "2020-05-08T15:51:33.152453Z"
    }
   },
   "outputs": [
    {
     "data": {
      "text/html": [
       "<div>\n",
       "<style scoped>\n",
       "    .dataframe tbody tr th:only-of-type {\n",
       "        vertical-align: middle;\n",
       "    }\n",
       "\n",
       "    .dataframe tbody tr th {\n",
       "        vertical-align: top;\n",
       "    }\n",
       "\n",
       "    .dataframe thead th {\n",
       "        text-align: right;\n",
       "    }\n",
       "</style>\n",
       "<table border=\"1\" class=\"dataframe\">\n",
       "  <thead>\n",
       "    <tr style=\"text-align: right;\">\n",
       "      <th></th>\n",
       "      <th>id</th>\n",
       "      <th>krestni_jmeno</th>\n",
       "      <th>prijmeni</th>\n",
       "      <th>vek</th>\n",
       "      <th>pohlavi</th>\n",
       "      <th>pocet_knih</th>\n",
       "    </tr>\n",
       "  </thead>\n",
       "  <tbody>\n",
       "    <tr>\n",
       "      <th>0</th>\n",
       "      <td>100</td>\n",
       "      <td>Victor</td>\n",
       "      <td>Hugo</td>\n",
       "      <td>25.0</td>\n",
       "      <td>M</td>\n",
       "      <td>19</td>\n",
       "    </tr>\n",
       "    <tr>\n",
       "      <th>1</th>\n",
       "      <td>200</td>\n",
       "      <td>Mary</td>\n",
       "      <td>Shelly</td>\n",
       "      <td>30.0</td>\n",
       "      <td>F</td>\n",
       "      <td>25</td>\n",
       "    </tr>\n",
       "    <tr>\n",
       "      <th>2</th>\n",
       "      <td>300</td>\n",
       "      <td>Johann</td>\n",
       "      <td>Geothe</td>\n",
       "      <td>75.0</td>\n",
       "      <td>M</td>\n",
       "      <td>12</td>\n",
       "    </tr>\n",
       "    <tr>\n",
       "      <th>3</th>\n",
       "      <td>400</td>\n",
       "      <td>Albert</td>\n",
       "      <td>Camus</td>\n",
       "      <td>NaN</td>\n",
       "      <td>M</td>\n",
       "      <td>31</td>\n",
       "    </tr>\n",
       "  </tbody>\n",
       "</table>\n",
       "</div>"
      ],
      "text/plain": [
       "    id krestni_jmeno prijmeni   vek pohlavi  pocet_knih\n",
       "0  100        Victor     Hugo  25.0       M          19\n",
       "1  200          Mary   Shelly  30.0       F          25\n",
       "2  300        Johann   Geothe  75.0       M          12\n",
       "3  400        Albert    Camus   NaN       M          31"
      ]
     },
     "execution_count": 58,
     "metadata": {},
     "output_type": "execute_result"
    }
   ],
   "source": [
    "pd.merge(osoby, prodane_knihy, on=\"id\")"
   ]
  },
  {
   "cell_type": "markdown",
   "metadata": {},
   "source": [
    "Pokud chceme udělat left, right či outer full join, přidáme do funkce parametr how s hodnotami \"left'\", \"right\" či \"outer\". Pokud se jména joinovacích sloupců v napojovaných tabulkách liší, nepoužijeme parametr *on*, ale *left_on* a *right_on*. Nakonec pokud joinujeme přes více sloupců, předáváme jména těchto sloupců v listu. Joinovat můžeme i přes indexy a lze i realizovat mergování přes sloupec jedné a indexy druhé tabulky. V takovém případě je nutné u \"indexové\" tabulky namísto *left_on* či *right_on* použít *left_index=True* či *right_index=True*"
   ]
  },
  {
   "cell_type": "code",
   "execution_count": 59,
   "metadata": {
    "ExecuteTime": {
     "end_time": "2020-03-12T20:41:27.181956Z",
     "start_time": "2020-03-12T20:41:27.160052Z"
    }
   },
   "outputs": [
    {
     "data": {
      "text/html": [
       "<div>\n",
       "<style scoped>\n",
       "    .dataframe tbody tr th:only-of-type {\n",
       "        vertical-align: middle;\n",
       "    }\n",
       "\n",
       "    .dataframe tbody tr th {\n",
       "        vertical-align: top;\n",
       "    }\n",
       "\n",
       "    .dataframe thead th {\n",
       "        text-align: right;\n",
       "    }\n",
       "</style>\n",
       "<table border=\"1\" class=\"dataframe\">\n",
       "  <thead>\n",
       "    <tr style=\"text-align: right;\">\n",
       "      <th></th>\n",
       "      <th>id</th>\n",
       "      <th>krestni_jmeno</th>\n",
       "      <th>prijmeni</th>\n",
       "      <th>vek</th>\n",
       "      <th>pohlavi</th>\n",
       "      <th>pocet_knih</th>\n",
       "    </tr>\n",
       "  </thead>\n",
       "  <tbody>\n",
       "    <tr>\n",
       "      <th>0</th>\n",
       "      <td>100</td>\n",
       "      <td>Victor</td>\n",
       "      <td>Hugo</td>\n",
       "      <td>25.0</td>\n",
       "      <td>M</td>\n",
       "      <td>19.0</td>\n",
       "    </tr>\n",
       "    <tr>\n",
       "      <th>1</th>\n",
       "      <td>200</td>\n",
       "      <td>Mary</td>\n",
       "      <td>Shelly</td>\n",
       "      <td>30.0</td>\n",
       "      <td>F</td>\n",
       "      <td>25.0</td>\n",
       "    </tr>\n",
       "    <tr>\n",
       "      <th>2</th>\n",
       "      <td>300</td>\n",
       "      <td>Johann</td>\n",
       "      <td>Geothe</td>\n",
       "      <td>75.0</td>\n",
       "      <td>M</td>\n",
       "      <td>12.0</td>\n",
       "    </tr>\n",
       "    <tr>\n",
       "      <th>3</th>\n",
       "      <td>400</td>\n",
       "      <td>Albert</td>\n",
       "      <td>Camus</td>\n",
       "      <td>NaN</td>\n",
       "      <td>M</td>\n",
       "      <td>31.0</td>\n",
       "    </tr>\n",
       "    <tr>\n",
       "      <th>4</th>\n",
       "      <td>500</td>\n",
       "      <td>William</td>\n",
       "      <td>Shakespear</td>\n",
       "      <td>38.0</td>\n",
       "      <td>M</td>\n",
       "      <td>NaN</td>\n",
       "    </tr>\n",
       "  </tbody>\n",
       "</table>\n",
       "</div>"
      ],
      "text/plain": [
       "    id krestni_jmeno    prijmeni   vek pohlavi  pocet_knih\n",
       "0  100        Victor        Hugo  25.0       M        19.0\n",
       "1  200          Mary      Shelly  30.0       F        25.0\n",
       "2  300        Johann      Geothe  75.0       M        12.0\n",
       "3  400        Albert       Camus   NaN       M        31.0\n",
       "4  500       William  Shakespear  38.0       M         NaN"
      ]
     },
     "execution_count": 59,
     "metadata": {},
     "output_type": "execute_result"
    }
   ],
   "source": [
    "pd.merge(osoby, prodane_knihy, left_on=[\"id\"], right_on=[\"id\"], how=\"outer\")"
   ]
  },
  {
   "cell_type": "markdown",
   "metadata": {},
   "source": [
    "V případě cross joinu bývala situace komplikovanější. Nicméně od verze 1.2 je podporováno i *how=\"cross\"*."
   ]
  },
  {
   "cell_type": "code",
   "execution_count": 6,
   "metadata": {},
   "outputs": [
    {
     "data": {
      "text/html": [
       "<div>\n",
       "<style scoped>\n",
       "    .dataframe tbody tr th:only-of-type {\n",
       "        vertical-align: middle;\n",
       "    }\n",
       "\n",
       "    .dataframe tbody tr th {\n",
       "        vertical-align: top;\n",
       "    }\n",
       "\n",
       "    .dataframe thead th {\n",
       "        text-align: right;\n",
       "    }\n",
       "</style>\n",
       "<table border=\"1\" class=\"dataframe\">\n",
       "  <thead>\n",
       "    <tr style=\"text-align: right;\">\n",
       "      <th></th>\n",
       "      <th>id_x</th>\n",
       "      <th>krestni_jmeno</th>\n",
       "      <th>prijmeni</th>\n",
       "      <th>vek</th>\n",
       "      <th>pohlavi</th>\n",
       "      <th>id_y</th>\n",
       "      <th>pocet_knih</th>\n",
       "    </tr>\n",
       "  </thead>\n",
       "  <tbody>\n",
       "    <tr>\n",
       "      <th>0</th>\n",
       "      <td>100</td>\n",
       "      <td>Victor</td>\n",
       "      <td>Hugo</td>\n",
       "      <td>25.0</td>\n",
       "      <td>M</td>\n",
       "      <td>100</td>\n",
       "      <td>19</td>\n",
       "    </tr>\n",
       "    <tr>\n",
       "      <th>1</th>\n",
       "      <td>100</td>\n",
       "      <td>Victor</td>\n",
       "      <td>Hugo</td>\n",
       "      <td>25.0</td>\n",
       "      <td>M</td>\n",
       "      <td>200</td>\n",
       "      <td>25</td>\n",
       "    </tr>\n",
       "    <tr>\n",
       "      <th>2</th>\n",
       "      <td>100</td>\n",
       "      <td>Victor</td>\n",
       "      <td>Hugo</td>\n",
       "      <td>25.0</td>\n",
       "      <td>M</td>\n",
       "      <td>300</td>\n",
       "      <td>12</td>\n",
       "    </tr>\n",
       "    <tr>\n",
       "      <th>3</th>\n",
       "      <td>100</td>\n",
       "      <td>Victor</td>\n",
       "      <td>Hugo</td>\n",
       "      <td>25.0</td>\n",
       "      <td>M</td>\n",
       "      <td>400</td>\n",
       "      <td>31</td>\n",
       "    </tr>\n",
       "    <tr>\n",
       "      <th>4</th>\n",
       "      <td>200</td>\n",
       "      <td>Mary</td>\n",
       "      <td>Shelly</td>\n",
       "      <td>30.0</td>\n",
       "      <td>F</td>\n",
       "      <td>100</td>\n",
       "      <td>19</td>\n",
       "    </tr>\n",
       "    <tr>\n",
       "      <th>5</th>\n",
       "      <td>200</td>\n",
       "      <td>Mary</td>\n",
       "      <td>Shelly</td>\n",
       "      <td>30.0</td>\n",
       "      <td>F</td>\n",
       "      <td>200</td>\n",
       "      <td>25</td>\n",
       "    </tr>\n",
       "    <tr>\n",
       "      <th>6</th>\n",
       "      <td>200</td>\n",
       "      <td>Mary</td>\n",
       "      <td>Shelly</td>\n",
       "      <td>30.0</td>\n",
       "      <td>F</td>\n",
       "      <td>300</td>\n",
       "      <td>12</td>\n",
       "    </tr>\n",
       "    <tr>\n",
       "      <th>7</th>\n",
       "      <td>200</td>\n",
       "      <td>Mary</td>\n",
       "      <td>Shelly</td>\n",
       "      <td>30.0</td>\n",
       "      <td>F</td>\n",
       "      <td>400</td>\n",
       "      <td>31</td>\n",
       "    </tr>\n",
       "    <tr>\n",
       "      <th>8</th>\n",
       "      <td>300</td>\n",
       "      <td>Johann</td>\n",
       "      <td>Geothe</td>\n",
       "      <td>75.0</td>\n",
       "      <td>M</td>\n",
       "      <td>100</td>\n",
       "      <td>19</td>\n",
       "    </tr>\n",
       "    <tr>\n",
       "      <th>9</th>\n",
       "      <td>300</td>\n",
       "      <td>Johann</td>\n",
       "      <td>Geothe</td>\n",
       "      <td>75.0</td>\n",
       "      <td>M</td>\n",
       "      <td>200</td>\n",
       "      <td>25</td>\n",
       "    </tr>\n",
       "    <tr>\n",
       "      <th>10</th>\n",
       "      <td>300</td>\n",
       "      <td>Johann</td>\n",
       "      <td>Geothe</td>\n",
       "      <td>75.0</td>\n",
       "      <td>M</td>\n",
       "      <td>300</td>\n",
       "      <td>12</td>\n",
       "    </tr>\n",
       "    <tr>\n",
       "      <th>11</th>\n",
       "      <td>300</td>\n",
       "      <td>Johann</td>\n",
       "      <td>Geothe</td>\n",
       "      <td>75.0</td>\n",
       "      <td>M</td>\n",
       "      <td>400</td>\n",
       "      <td>31</td>\n",
       "    </tr>\n",
       "    <tr>\n",
       "      <th>12</th>\n",
       "      <td>400</td>\n",
       "      <td>Albert</td>\n",
       "      <td>Camus</td>\n",
       "      <td>NaN</td>\n",
       "      <td>M</td>\n",
       "      <td>100</td>\n",
       "      <td>19</td>\n",
       "    </tr>\n",
       "    <tr>\n",
       "      <th>13</th>\n",
       "      <td>400</td>\n",
       "      <td>Albert</td>\n",
       "      <td>Camus</td>\n",
       "      <td>NaN</td>\n",
       "      <td>M</td>\n",
       "      <td>200</td>\n",
       "      <td>25</td>\n",
       "    </tr>\n",
       "    <tr>\n",
       "      <th>14</th>\n",
       "      <td>400</td>\n",
       "      <td>Albert</td>\n",
       "      <td>Camus</td>\n",
       "      <td>NaN</td>\n",
       "      <td>M</td>\n",
       "      <td>300</td>\n",
       "      <td>12</td>\n",
       "    </tr>\n",
       "    <tr>\n",
       "      <th>15</th>\n",
       "      <td>400</td>\n",
       "      <td>Albert</td>\n",
       "      <td>Camus</td>\n",
       "      <td>NaN</td>\n",
       "      <td>M</td>\n",
       "      <td>400</td>\n",
       "      <td>31</td>\n",
       "    </tr>\n",
       "    <tr>\n",
       "      <th>16</th>\n",
       "      <td>500</td>\n",
       "      <td>William</td>\n",
       "      <td>Shakespear</td>\n",
       "      <td>38.0</td>\n",
       "      <td>M</td>\n",
       "      <td>100</td>\n",
       "      <td>19</td>\n",
       "    </tr>\n",
       "    <tr>\n",
       "      <th>17</th>\n",
       "      <td>500</td>\n",
       "      <td>William</td>\n",
       "      <td>Shakespear</td>\n",
       "      <td>38.0</td>\n",
       "      <td>M</td>\n",
       "      <td>200</td>\n",
       "      <td>25</td>\n",
       "    </tr>\n",
       "    <tr>\n",
       "      <th>18</th>\n",
       "      <td>500</td>\n",
       "      <td>William</td>\n",
       "      <td>Shakespear</td>\n",
       "      <td>38.0</td>\n",
       "      <td>M</td>\n",
       "      <td>300</td>\n",
       "      <td>12</td>\n",
       "    </tr>\n",
       "    <tr>\n",
       "      <th>19</th>\n",
       "      <td>500</td>\n",
       "      <td>William</td>\n",
       "      <td>Shakespear</td>\n",
       "      <td>38.0</td>\n",
       "      <td>M</td>\n",
       "      <td>400</td>\n",
       "      <td>31</td>\n",
       "    </tr>\n",
       "  </tbody>\n",
       "</table>\n",
       "</div>"
      ],
      "text/plain": [
       "    id_x krestni_jmeno    prijmeni   vek pohlavi  id_y  pocet_knih\n",
       "0    100        Victor        Hugo  25.0       M   100          19\n",
       "1    100        Victor        Hugo  25.0       M   200          25\n",
       "2    100        Victor        Hugo  25.0       M   300          12\n",
       "3    100        Victor        Hugo  25.0       M   400          31\n",
       "4    200          Mary      Shelly  30.0       F   100          19\n",
       "5    200          Mary      Shelly  30.0       F   200          25\n",
       "6    200          Mary      Shelly  30.0       F   300          12\n",
       "7    200          Mary      Shelly  30.0       F   400          31\n",
       "8    300        Johann      Geothe  75.0       M   100          19\n",
       "9    300        Johann      Geothe  75.0       M   200          25\n",
       "10   300        Johann      Geothe  75.0       M   300          12\n",
       "11   300        Johann      Geothe  75.0       M   400          31\n",
       "12   400        Albert       Camus   NaN       M   100          19\n",
       "13   400        Albert       Camus   NaN       M   200          25\n",
       "14   400        Albert       Camus   NaN       M   300          12\n",
       "15   400        Albert       Camus   NaN       M   400          31\n",
       "16   500       William  Shakespear  38.0       M   100          19\n",
       "17   500       William  Shakespear  38.0       M   200          25\n",
       "18   500       William  Shakespear  38.0       M   300          12\n",
       "19   500       William  Shakespear  38.0       M   400          31"
      ]
     },
     "execution_count": 6,
     "metadata": {},
     "output_type": "execute_result"
    }
   ],
   "source": [
    "pd.merge(osoby, prodane_knihy, how=\"cross\")"
   ]
  },
  {
   "cell_type": "markdown",
   "metadata": {},
   "source": [
    "Pandy bohužel zatím nepodporují joinování přes nerovnost. Workaround spočívá v nutnosti udělat cross join a poté v separátním kroku provést filtraci na podmínky. Tudíž například pro ekvivalent\n",
    "```sql\n",
    "select * \n",
    "from osoby oso1\n",
    "inner join osoby oso2\n",
    "on oso1.id < oso2.id;\n",
    "```\n",
    "realizujeme pomocí"
   ]
  },
  {
   "cell_type": "code",
   "execution_count": 7,
   "metadata": {
    "ExecuteTime": {
     "end_time": "2020-05-08T16:13:02.331826Z",
     "start_time": "2020-05-08T16:13:02.311880Z"
    }
   },
   "outputs": [
    {
     "data": {
      "text/html": [
       "<div>\n",
       "<style scoped>\n",
       "    .dataframe tbody tr th:only-of-type {\n",
       "        vertical-align: middle;\n",
       "    }\n",
       "\n",
       "    .dataframe tbody tr th {\n",
       "        vertical-align: top;\n",
       "    }\n",
       "\n",
       "    .dataframe thead th {\n",
       "        text-align: right;\n",
       "    }\n",
       "</style>\n",
       "<table border=\"1\" class=\"dataframe\">\n",
       "  <thead>\n",
       "    <tr style=\"text-align: right;\">\n",
       "      <th></th>\n",
       "      <th>id_x</th>\n",
       "      <th>krestni_jmeno_x</th>\n",
       "      <th>prijmeni_x</th>\n",
       "      <th>vek_x</th>\n",
       "      <th>pohlavi_x</th>\n",
       "      <th>id_y</th>\n",
       "      <th>krestni_jmeno_y</th>\n",
       "      <th>prijmeni_y</th>\n",
       "      <th>vek_y</th>\n",
       "      <th>pohlavi_y</th>\n",
       "    </tr>\n",
       "  </thead>\n",
       "  <tbody>\n",
       "    <tr>\n",
       "      <th>1</th>\n",
       "      <td>100</td>\n",
       "      <td>Victor</td>\n",
       "      <td>Hugo</td>\n",
       "      <td>25.0</td>\n",
       "      <td>M</td>\n",
       "      <td>200</td>\n",
       "      <td>Mary</td>\n",
       "      <td>Shelly</td>\n",
       "      <td>30.0</td>\n",
       "      <td>F</td>\n",
       "    </tr>\n",
       "    <tr>\n",
       "      <th>2</th>\n",
       "      <td>100</td>\n",
       "      <td>Victor</td>\n",
       "      <td>Hugo</td>\n",
       "      <td>25.0</td>\n",
       "      <td>M</td>\n",
       "      <td>300</td>\n",
       "      <td>Johann</td>\n",
       "      <td>Geothe</td>\n",
       "      <td>75.0</td>\n",
       "      <td>M</td>\n",
       "    </tr>\n",
       "    <tr>\n",
       "      <th>3</th>\n",
       "      <td>100</td>\n",
       "      <td>Victor</td>\n",
       "      <td>Hugo</td>\n",
       "      <td>25.0</td>\n",
       "      <td>M</td>\n",
       "      <td>400</td>\n",
       "      <td>Albert</td>\n",
       "      <td>Camus</td>\n",
       "      <td>NaN</td>\n",
       "      <td>M</td>\n",
       "    </tr>\n",
       "    <tr>\n",
       "      <th>4</th>\n",
       "      <td>100</td>\n",
       "      <td>Victor</td>\n",
       "      <td>Hugo</td>\n",
       "      <td>25.0</td>\n",
       "      <td>M</td>\n",
       "      <td>500</td>\n",
       "      <td>William</td>\n",
       "      <td>Shakespear</td>\n",
       "      <td>38.0</td>\n",
       "      <td>M</td>\n",
       "    </tr>\n",
       "    <tr>\n",
       "      <th>7</th>\n",
       "      <td>200</td>\n",
       "      <td>Mary</td>\n",
       "      <td>Shelly</td>\n",
       "      <td>30.0</td>\n",
       "      <td>F</td>\n",
       "      <td>300</td>\n",
       "      <td>Johann</td>\n",
       "      <td>Geothe</td>\n",
       "      <td>75.0</td>\n",
       "      <td>M</td>\n",
       "    </tr>\n",
       "    <tr>\n",
       "      <th>8</th>\n",
       "      <td>200</td>\n",
       "      <td>Mary</td>\n",
       "      <td>Shelly</td>\n",
       "      <td>30.0</td>\n",
       "      <td>F</td>\n",
       "      <td>400</td>\n",
       "      <td>Albert</td>\n",
       "      <td>Camus</td>\n",
       "      <td>NaN</td>\n",
       "      <td>M</td>\n",
       "    </tr>\n",
       "    <tr>\n",
       "      <th>9</th>\n",
       "      <td>200</td>\n",
       "      <td>Mary</td>\n",
       "      <td>Shelly</td>\n",
       "      <td>30.0</td>\n",
       "      <td>F</td>\n",
       "      <td>500</td>\n",
       "      <td>William</td>\n",
       "      <td>Shakespear</td>\n",
       "      <td>38.0</td>\n",
       "      <td>M</td>\n",
       "    </tr>\n",
       "    <tr>\n",
       "      <th>13</th>\n",
       "      <td>300</td>\n",
       "      <td>Johann</td>\n",
       "      <td>Geothe</td>\n",
       "      <td>75.0</td>\n",
       "      <td>M</td>\n",
       "      <td>400</td>\n",
       "      <td>Albert</td>\n",
       "      <td>Camus</td>\n",
       "      <td>NaN</td>\n",
       "      <td>M</td>\n",
       "    </tr>\n",
       "    <tr>\n",
       "      <th>14</th>\n",
       "      <td>300</td>\n",
       "      <td>Johann</td>\n",
       "      <td>Geothe</td>\n",
       "      <td>75.0</td>\n",
       "      <td>M</td>\n",
       "      <td>500</td>\n",
       "      <td>William</td>\n",
       "      <td>Shakespear</td>\n",
       "      <td>38.0</td>\n",
       "      <td>M</td>\n",
       "    </tr>\n",
       "    <tr>\n",
       "      <th>19</th>\n",
       "      <td>400</td>\n",
       "      <td>Albert</td>\n",
       "      <td>Camus</td>\n",
       "      <td>NaN</td>\n",
       "      <td>M</td>\n",
       "      <td>500</td>\n",
       "      <td>William</td>\n",
       "      <td>Shakespear</td>\n",
       "      <td>38.0</td>\n",
       "      <td>M</td>\n",
       "    </tr>\n",
       "  </tbody>\n",
       "</table>\n",
       "</div>"
      ],
      "text/plain": [
       "    id_x krestni_jmeno_x prijmeni_x  vek_x pohlavi_x  id_y krestni_jmeno_y  \\\n",
       "1    100          Victor       Hugo   25.0         M   200            Mary   \n",
       "2    100          Victor       Hugo   25.0         M   300          Johann   \n",
       "3    100          Victor       Hugo   25.0         M   400          Albert   \n",
       "4    100          Victor       Hugo   25.0         M   500         William   \n",
       "7    200            Mary     Shelly   30.0         F   300          Johann   \n",
       "8    200            Mary     Shelly   30.0         F   400          Albert   \n",
       "9    200            Mary     Shelly   30.0         F   500         William   \n",
       "13   300          Johann     Geothe   75.0         M   400          Albert   \n",
       "14   300          Johann     Geothe   75.0         M   500         William   \n",
       "19   400          Albert      Camus    NaN         M   500         William   \n",
       "\n",
       "    prijmeni_y  vek_y pohlavi_y  \n",
       "1       Shelly   30.0         F  \n",
       "2       Geothe   75.0         M  \n",
       "3        Camus    NaN         M  \n",
       "4   Shakespear   38.0         M  \n",
       "7       Geothe   75.0         M  \n",
       "8        Camus    NaN         M  \n",
       "9   Shakespear   38.0         M  \n",
       "13       Camus    NaN         M  \n",
       "14  Shakespear   38.0         M  \n",
       "19  Shakespear   38.0         M  "
      ]
     },
     "execution_count": 7,
     "metadata": {},
     "output_type": "execute_result"
    }
   ],
   "source": [
    "osoby_cross_join = pd.merge(osoby, osoby, how=\"cross\")\n",
    "osoby_cross_join[osoby_cross_join[\"id_x\"]<osoby_cross_join[\"id_y\"]]"
   ]
  },
  {
   "cell_type": "markdown",
   "metadata": {
    "ExecuteTime": {
     "end_time": "2020-03-05T19:44:31.135040Z",
     "start_time": "2020-03-05T19:44:31.131045Z"
    }
   },
   "source": [
    "Pro *union all* se použije jednoduchý concat.\n",
    "```sql\n",
    "select * from osoby \n",
    "union all\n",
    "select * from osoby;\n",
    "```"
   ]
  },
  {
   "cell_type": "code",
   "execution_count": 62,
   "metadata": {
    "ExecuteTime": {
     "end_time": "2020-03-12T20:41:28.984977Z",
     "start_time": "2020-03-12T20:41:28.970019Z"
    }
   },
   "outputs": [
    {
     "data": {
      "text/html": [
       "<div>\n",
       "<style scoped>\n",
       "    .dataframe tbody tr th:only-of-type {\n",
       "        vertical-align: middle;\n",
       "    }\n",
       "\n",
       "    .dataframe tbody tr th {\n",
       "        vertical-align: top;\n",
       "    }\n",
       "\n",
       "    .dataframe thead th {\n",
       "        text-align: right;\n",
       "    }\n",
       "</style>\n",
       "<table border=\"1\" class=\"dataframe\">\n",
       "  <thead>\n",
       "    <tr style=\"text-align: right;\">\n",
       "      <th></th>\n",
       "      <th>id</th>\n",
       "      <th>krestni_jmeno</th>\n",
       "      <th>prijmeni</th>\n",
       "      <th>vek</th>\n",
       "      <th>pohlavi</th>\n",
       "    </tr>\n",
       "  </thead>\n",
       "  <tbody>\n",
       "    <tr>\n",
       "      <th>0</th>\n",
       "      <td>100</td>\n",
       "      <td>Victor</td>\n",
       "      <td>Hugo</td>\n",
       "      <td>25.0</td>\n",
       "      <td>M</td>\n",
       "    </tr>\n",
       "    <tr>\n",
       "      <th>1</th>\n",
       "      <td>200</td>\n",
       "      <td>Mary</td>\n",
       "      <td>Shelly</td>\n",
       "      <td>30.0</td>\n",
       "      <td>F</td>\n",
       "    </tr>\n",
       "    <tr>\n",
       "      <th>2</th>\n",
       "      <td>300</td>\n",
       "      <td>Johann</td>\n",
       "      <td>Geothe</td>\n",
       "      <td>75.0</td>\n",
       "      <td>M</td>\n",
       "    </tr>\n",
       "    <tr>\n",
       "      <th>3</th>\n",
       "      <td>400</td>\n",
       "      <td>Albert</td>\n",
       "      <td>Camus</td>\n",
       "      <td>NaN</td>\n",
       "      <td>M</td>\n",
       "    </tr>\n",
       "    <tr>\n",
       "      <th>4</th>\n",
       "      <td>500</td>\n",
       "      <td>William</td>\n",
       "      <td>Shakespear</td>\n",
       "      <td>38.0</td>\n",
       "      <td>M</td>\n",
       "    </tr>\n",
       "    <tr>\n",
       "      <th>0</th>\n",
       "      <td>100</td>\n",
       "      <td>Victor</td>\n",
       "      <td>Hugo</td>\n",
       "      <td>25.0</td>\n",
       "      <td>M</td>\n",
       "    </tr>\n",
       "    <tr>\n",
       "      <th>1</th>\n",
       "      <td>200</td>\n",
       "      <td>Mary</td>\n",
       "      <td>Shelly</td>\n",
       "      <td>30.0</td>\n",
       "      <td>F</td>\n",
       "    </tr>\n",
       "    <tr>\n",
       "      <th>2</th>\n",
       "      <td>300</td>\n",
       "      <td>Johann</td>\n",
       "      <td>Geothe</td>\n",
       "      <td>75.0</td>\n",
       "      <td>M</td>\n",
       "    </tr>\n",
       "    <tr>\n",
       "      <th>3</th>\n",
       "      <td>400</td>\n",
       "      <td>Albert</td>\n",
       "      <td>Camus</td>\n",
       "      <td>NaN</td>\n",
       "      <td>M</td>\n",
       "    </tr>\n",
       "    <tr>\n",
       "      <th>4</th>\n",
       "      <td>500</td>\n",
       "      <td>William</td>\n",
       "      <td>Shakespear</td>\n",
       "      <td>38.0</td>\n",
       "      <td>M</td>\n",
       "    </tr>\n",
       "  </tbody>\n",
       "</table>\n",
       "</div>"
      ],
      "text/plain": [
       "    id krestni_jmeno    prijmeni   vek pohlavi\n",
       "0  100        Victor        Hugo  25.0       M\n",
       "1  200          Mary      Shelly  30.0       F\n",
       "2  300        Johann      Geothe  75.0       M\n",
       "3  400        Albert       Camus   NaN       M\n",
       "4  500       William  Shakespear  38.0       M\n",
       "0  100        Victor        Hugo  25.0       M\n",
       "1  200          Mary      Shelly  30.0       F\n",
       "2  300        Johann      Geothe  75.0       M\n",
       "3  400        Albert       Camus   NaN       M\n",
       "4  500       William  Shakespear  38.0       M"
      ]
     },
     "execution_count": 62,
     "metadata": {},
     "output_type": "execute_result"
    }
   ],
   "source": [
    "pd.concat([osoby, osoby])"
   ]
  },
  {
   "cell_type": "markdown",
   "metadata": {
    "ExecuteTime": {
     "end_time": "2020-03-05T19:46:12.723303Z",
     "start_time": "2020-03-05T19:46:12.717320Z"
    }
   },
   "source": [
    "Pro klasický union musíme na tento concat ještě aplikovat funkci *drop_duplicates*\n",
    "```sql\n",
    "select * from osoby \n",
    "union\n",
    "select * from osoby;\n",
    "```"
   ]
  },
  {
   "cell_type": "code",
   "execution_count": 63,
   "metadata": {
    "ExecuteTime": {
     "end_time": "2020-03-12T20:41:30.954317Z",
     "start_time": "2020-03-12T20:41:30.934408Z"
    }
   },
   "outputs": [
    {
     "data": {
      "text/html": [
       "<div>\n",
       "<style scoped>\n",
       "    .dataframe tbody tr th:only-of-type {\n",
       "        vertical-align: middle;\n",
       "    }\n",
       "\n",
       "    .dataframe tbody tr th {\n",
       "        vertical-align: top;\n",
       "    }\n",
       "\n",
       "    .dataframe thead th {\n",
       "        text-align: right;\n",
       "    }\n",
       "</style>\n",
       "<table border=\"1\" class=\"dataframe\">\n",
       "  <thead>\n",
       "    <tr style=\"text-align: right;\">\n",
       "      <th></th>\n",
       "      <th>id</th>\n",
       "      <th>krestni_jmeno</th>\n",
       "      <th>prijmeni</th>\n",
       "      <th>vek</th>\n",
       "      <th>pohlavi</th>\n",
       "    </tr>\n",
       "  </thead>\n",
       "  <tbody>\n",
       "    <tr>\n",
       "      <th>0</th>\n",
       "      <td>100</td>\n",
       "      <td>Victor</td>\n",
       "      <td>Hugo</td>\n",
       "      <td>25.0</td>\n",
       "      <td>M</td>\n",
       "    </tr>\n",
       "    <tr>\n",
       "      <th>1</th>\n",
       "      <td>200</td>\n",
       "      <td>Mary</td>\n",
       "      <td>Shelly</td>\n",
       "      <td>30.0</td>\n",
       "      <td>F</td>\n",
       "    </tr>\n",
       "    <tr>\n",
       "      <th>2</th>\n",
       "      <td>300</td>\n",
       "      <td>Johann</td>\n",
       "      <td>Geothe</td>\n",
       "      <td>75.0</td>\n",
       "      <td>M</td>\n",
       "    </tr>\n",
       "    <tr>\n",
       "      <th>3</th>\n",
       "      <td>400</td>\n",
       "      <td>Albert</td>\n",
       "      <td>Camus</td>\n",
       "      <td>NaN</td>\n",
       "      <td>M</td>\n",
       "    </tr>\n",
       "    <tr>\n",
       "      <th>4</th>\n",
       "      <td>500</td>\n",
       "      <td>William</td>\n",
       "      <td>Shakespear</td>\n",
       "      <td>38.0</td>\n",
       "      <td>M</td>\n",
       "    </tr>\n",
       "  </tbody>\n",
       "</table>\n",
       "</div>"
      ],
      "text/plain": [
       "    id krestni_jmeno    prijmeni   vek pohlavi\n",
       "0  100        Victor        Hugo  25.0       M\n",
       "1  200          Mary      Shelly  30.0       F\n",
       "2  300        Johann      Geothe  75.0       M\n",
       "3  400        Albert       Camus   NaN       M\n",
       "4  500       William  Shakespear  38.0       M"
      ]
     },
     "execution_count": 63,
     "metadata": {},
     "output_type": "execute_result"
    }
   ],
   "source": [
    "pd.concat([osoby, osoby]).drop_duplicates()"
   ]
  },
  {
   "cell_type": "markdown",
   "metadata": {},
   "source": [
    "Výše jsme pořád řešili selecty. Jak bychom ale řešili updaty? Například mějme\n",
    "```sql\n",
    "update osoby set prijmeni = 'Someone' where vek < 50;\n",
    "```\n",
    "V takovém případě využijeme metodu *loc*. Zadáme ji dva parametry - první, podmínkový specifikuje řádku (resp. v našem případě řádky), druhý pak specifikuje sloupec. Všechny buňky, které těmit koordinátům odpovídají, budou přepsány hodnotou za rovnítkem."
   ]
  },
  {
   "cell_type": "code",
   "execution_count": 66,
   "metadata": {},
   "outputs": [
    {
     "data": {
      "text/html": [
       "<div>\n",
       "<style scoped>\n",
       "    .dataframe tbody tr th:only-of-type {\n",
       "        vertical-align: middle;\n",
       "    }\n",
       "\n",
       "    .dataframe tbody tr th {\n",
       "        vertical-align: top;\n",
       "    }\n",
       "\n",
       "    .dataframe thead th {\n",
       "        text-align: right;\n",
       "    }\n",
       "</style>\n",
       "<table border=\"1\" class=\"dataframe\">\n",
       "  <thead>\n",
       "    <tr style=\"text-align: right;\">\n",
       "      <th></th>\n",
       "      <th>id</th>\n",
       "      <th>krestni_jmeno</th>\n",
       "      <th>prijmeni</th>\n",
       "      <th>vek</th>\n",
       "      <th>pohlavi</th>\n",
       "    </tr>\n",
       "  </thead>\n",
       "  <tbody>\n",
       "    <tr>\n",
       "      <th>0</th>\n",
       "      <td>100</td>\n",
       "      <td>Victor</td>\n",
       "      <td>Someone</td>\n",
       "      <td>25.0</td>\n",
       "      <td>M</td>\n",
       "    </tr>\n",
       "    <tr>\n",
       "      <th>1</th>\n",
       "      <td>200</td>\n",
       "      <td>Mary</td>\n",
       "      <td>Someone</td>\n",
       "      <td>30.0</td>\n",
       "      <td>F</td>\n",
       "    </tr>\n",
       "    <tr>\n",
       "      <th>2</th>\n",
       "      <td>300</td>\n",
       "      <td>Johann</td>\n",
       "      <td>Geothe</td>\n",
       "      <td>75.0</td>\n",
       "      <td>M</td>\n",
       "    </tr>\n",
       "    <tr>\n",
       "      <th>3</th>\n",
       "      <td>400</td>\n",
       "      <td>Albert</td>\n",
       "      <td>Camus</td>\n",
       "      <td>NaN</td>\n",
       "      <td>M</td>\n",
       "    </tr>\n",
       "    <tr>\n",
       "      <th>4</th>\n",
       "      <td>500</td>\n",
       "      <td>William</td>\n",
       "      <td>Someone</td>\n",
       "      <td>38.0</td>\n",
       "      <td>M</td>\n",
       "    </tr>\n",
       "  </tbody>\n",
       "</table>\n",
       "</div>"
      ],
      "text/plain": [
       "    id krestni_jmeno prijmeni   vek pohlavi\n",
       "0  100        Victor  Someone  25.0       M\n",
       "1  200          Mary  Someone  30.0       F\n",
       "2  300        Johann   Geothe  75.0       M\n",
       "3  400        Albert    Camus   NaN       M\n",
       "4  500       William  Someone  38.0       M"
      ]
     },
     "execution_count": 66,
     "metadata": {},
     "output_type": "execute_result"
    }
   ],
   "source": [
    "condition = osoby[\"vek\"] < 50\n",
    "osoby.loc[condition, \"prijmeni\"] = \"Someone\"\n",
    "osoby"
   ]
  },
  {
   "cell_type": "markdown",
   "metadata": {
    "ExecuteTime": {
     "end_time": "2020-03-05T19:50:18.740983Z",
     "start_time": "2020-03-05T19:50:18.734057Z"
    }
   },
   "source": [
    "### Čtení a zápis\n",
    "Pro načtení dat z csv souboru použijeme read_csv. Pakliže soubor obsahuje hlavičku na prvním řádku, vložíme k parametrům funkce header=0. Pokud ale hlavička přítomna není, píšeme header=None.\n",
    "Pozn.: dataset kc_house_data.csv leží volně na internetu, např. na kaggle.com. \n",
    "```python\n",
    "domy = pd.read_csv(\"kc_house_data.csv\", sep=\",\", header=0)\n",
    "```"
   ]
  },
  {
   "cell_type": "markdown",
   "metadata": {
    "ExecuteTime": {
     "end_time": "2020-03-05T20:29:41.597085Z",
     "start_time": "2020-03-05T20:29:41.576142Z"
    }
   },
   "source": [
    "Dataframe uložíme do csv souboru pomocí to_csv. Je rozumné přidat do volání funkce parametr index=False, abychom ve výsledném produktu neměli i obvykle nežádoucí labely indexů řádků."
   ]
  },
  {
   "cell_type": "code",
   "execution_count": 100,
   "metadata": {
    "ExecuteTime": {
     "end_time": "2020-03-07T17:40:49.371134Z",
     "start_time": "2020-03-07T17:40:49.251601Z"
    }
   },
   "outputs": [],
   "source": [
    "osoby.to_csv(\"pokus_osoby.txt\", sep=\";\", index=False)"
   ]
  },
  {
   "cell_type": "markdown",
   "metadata": {},
   "source": [
    "Pro čtení \"starých\" excelovských souborů (aka souborů s příponou xls) je potřeba napřed nainstalovat balíček xlrd. Posléze už se principielně dá do xls souborů nahlížet podobně jako to bylo u csv a to sice s pomocí funkcí read_excel. Ta v defaultním nastavení koukne na první sheet a vypreparuje z něj tabulku v levém horním rohu.\n",
    "```python\n",
    "pd.read_excel(\"example_excel_file.xls\")\n",
    "```"
   ]
  },
  {
   "cell_type": "markdown",
   "metadata": {},
   "source": [
    "Bohužel relativně nedávno došlo k určitým změnám, v jejichž důsledku již není možné použít balíček xlrd na načítání \"nových\" excelovských souborů s příponou xlsx. Pokud potřebujeme číst tyto soubory, musíme nejprve nainstalovat balíček openpyxl a následně zavolat funkci *read_excel* s parametrem engine rovným právě \"openpyxl\":"
   ]
  },
  {
   "cell_type": "code",
   "execution_count": 5,
   "metadata": {},
   "outputs": [
    {
     "data": {
      "text/html": [
       "<div>\n",
       "<style scoped>\n",
       "    .dataframe tbody tr th:only-of-type {\n",
       "        vertical-align: middle;\n",
       "    }\n",
       "\n",
       "    .dataframe tbody tr th {\n",
       "        vertical-align: top;\n",
       "    }\n",
       "\n",
       "    .dataframe thead th {\n",
       "        text-align: right;\n",
       "    }\n",
       "</style>\n",
       "<table border=\"1\" class=\"dataframe\">\n",
       "  <thead>\n",
       "    <tr style=\"text-align: right;\">\n",
       "      <th></th>\n",
       "      <th>Sloupec 1</th>\n",
       "      <th>Sloupec 2</th>\n",
       "    </tr>\n",
       "  </thead>\n",
       "  <tbody>\n",
       "    <tr>\n",
       "      <th>0</th>\n",
       "      <td>1</td>\n",
       "      <td>jedna</td>\n",
       "    </tr>\n",
       "    <tr>\n",
       "      <th>1</th>\n",
       "      <td>2</td>\n",
       "      <td>dva</td>\n",
       "    </tr>\n",
       "    <tr>\n",
       "      <th>2</th>\n",
       "      <td>3</td>\n",
       "      <td>tři</td>\n",
       "    </tr>\n",
       "  </tbody>\n",
       "</table>\n",
       "</div>"
      ],
      "text/plain": [
       "   Sloupec 1 Sloupec 2\n",
       "0          1     jedna\n",
       "1          2      dva \n",
       "2          3       tři"
      ]
     },
     "execution_count": 5,
     "metadata": {},
     "output_type": "execute_result"
    }
   ],
   "source": [
    "pd.read_excel(\"example_excel_file.xlsx\", engine=\"openpyxl\")"
   ]
  },
  {
   "cell_type": "markdown",
   "metadata": {},
   "source": [
    "Než budeme adresovat slona v porcelánu (tj. jak zajistit, aby se načetl ten správný worksheet), je tu ještě jedna drobnost. V excelu byly v prvním sloupci věci typu \"01\", nikoli \"1\". Tyto shluky cifer jsme chtěli načíst jako string, nikoli jako integer. Co s tím? Datové typy načítací funkci vnutíme pomocí parametru dtype. Do něj vložíme slovník, kde klíče tvoří jména sloupců a hodnotami jsou chtěné datové typy."
   ]
  },
  {
   "cell_type": "code",
   "execution_count": 4,
   "metadata": {
    "ExecuteTime": {
     "end_time": "2020-11-23T20:13:15.956845Z",
     "start_time": "2020-11-23T20:13:15.934708Z"
    }
   },
   "outputs": [
    {
     "data": {
      "text/html": [
       "<div>\n",
       "<style scoped>\n",
       "    .dataframe tbody tr th:only-of-type {\n",
       "        vertical-align: middle;\n",
       "    }\n",
       "\n",
       "    .dataframe tbody tr th {\n",
       "        vertical-align: top;\n",
       "    }\n",
       "\n",
       "    .dataframe thead th {\n",
       "        text-align: right;\n",
       "    }\n",
       "</style>\n",
       "<table border=\"1\" class=\"dataframe\">\n",
       "  <thead>\n",
       "    <tr style=\"text-align: right;\">\n",
       "      <th></th>\n",
       "      <th>Sloupec 1</th>\n",
       "      <th>Sloupec 2</th>\n",
       "    </tr>\n",
       "  </thead>\n",
       "  <tbody>\n",
       "    <tr>\n",
       "      <th>0</th>\n",
       "      <td>01</td>\n",
       "      <td>jedna</td>\n",
       "    </tr>\n",
       "    <tr>\n",
       "      <th>1</th>\n",
       "      <td>02</td>\n",
       "      <td>dva</td>\n",
       "    </tr>\n",
       "    <tr>\n",
       "      <th>2</th>\n",
       "      <td>03</td>\n",
       "      <td>tři</td>\n",
       "    </tr>\n",
       "  </tbody>\n",
       "</table>\n",
       "</div>"
      ],
      "text/plain": [
       "  Sloupec 1 Sloupec 2\n",
       "0        01     jedna\n",
       "1        02      dva \n",
       "2        03       tři"
      ]
     },
     "execution_count": 4,
     "metadata": {},
     "output_type": "execute_result"
    }
   ],
   "source": [
    "pd.read_excel(\n",
    "    \"example_excel_file.xlsx\",\n",
    "    dtype={\"Sloupec 1\": str, \"Sloupec 2\": str},\n",
    "    engine=\"openpyxl\"\n",
    ")"
   ]
  },
  {
   "cell_type": "markdown",
   "metadata": {},
   "source": [
    "Nicméně co kdybychom si chtěli být jistí, že se načte tabulka z určitého sheetu? V takovém případě musíme sheet explicitně stanovit v parametru sheet_name."
   ]
  },
  {
   "cell_type": "code",
   "execution_count": 6,
   "metadata": {
    "ExecuteTime": {
     "end_time": "2020-11-23T20:14:59.009669Z",
     "start_time": "2020-11-23T20:14:58.978374Z"
    }
   },
   "outputs": [
    {
     "data": {
      "text/html": [
       "<div>\n",
       "<style scoped>\n",
       "    .dataframe tbody tr th:only-of-type {\n",
       "        vertical-align: middle;\n",
       "    }\n",
       "\n",
       "    .dataframe tbody tr th {\n",
       "        vertical-align: top;\n",
       "    }\n",
       "\n",
       "    .dataframe thead th {\n",
       "        text-align: right;\n",
       "    }\n",
       "</style>\n",
       "<table border=\"1\" class=\"dataframe\">\n",
       "  <thead>\n",
       "    <tr style=\"text-align: right;\">\n",
       "      <th></th>\n",
       "      <th>Unnamed: 0</th>\n",
       "      <th>Unnamed: 1</th>\n",
       "      <th>Unnamed: 2</th>\n",
       "      <th>Unnamed: 3</th>\n",
       "      <th>Unnamed: 4</th>\n",
       "    </tr>\n",
       "  </thead>\n",
       "  <tbody>\n",
       "    <tr>\n",
       "      <th>0</th>\n",
       "      <td>NaN</td>\n",
       "      <td>NaN</td>\n",
       "      <td>NaN</td>\n",
       "      <td>NaN</td>\n",
       "      <td>NaN</td>\n",
       "    </tr>\n",
       "    <tr>\n",
       "      <th>1</th>\n",
       "      <td>NaN</td>\n",
       "      <td>NaN</td>\n",
       "      <td>NaN</td>\n",
       "      <td>NaN</td>\n",
       "      <td>NaN</td>\n",
       "    </tr>\n",
       "    <tr>\n",
       "      <th>2</th>\n",
       "      <td>NaN</td>\n",
       "      <td>NaN</td>\n",
       "      <td>NaN</td>\n",
       "      <td>NaN</td>\n",
       "      <td>NaN</td>\n",
       "    </tr>\n",
       "    <tr>\n",
       "      <th>3</th>\n",
       "      <td>NaN</td>\n",
       "      <td>NaN</td>\n",
       "      <td>NaN</td>\n",
       "      <td>NaN</td>\n",
       "      <td>NaN</td>\n",
       "    </tr>\n",
       "    <tr>\n",
       "      <th>4</th>\n",
       "      <td>NaN</td>\n",
       "      <td>NaN</td>\n",
       "      <td>NaN</td>\n",
       "      <td>Sloupec 1</td>\n",
       "      <td>Sloupec 2</td>\n",
       "    </tr>\n",
       "    <tr>\n",
       "      <th>5</th>\n",
       "      <td>NaN</td>\n",
       "      <td>NaN</td>\n",
       "      <td>NaN</td>\n",
       "      <td>10</td>\n",
       "      <td>deset</td>\n",
       "    </tr>\n",
       "    <tr>\n",
       "      <th>6</th>\n",
       "      <td>NaN</td>\n",
       "      <td>NaN</td>\n",
       "      <td>NaN</td>\n",
       "      <td>20</td>\n",
       "      <td>dvacet</td>\n",
       "    </tr>\n",
       "    <tr>\n",
       "      <th>7</th>\n",
       "      <td>NaN</td>\n",
       "      <td>NaN</td>\n",
       "      <td>NaN</td>\n",
       "      <td>30</td>\n",
       "      <td>třicet</td>\n",
       "    </tr>\n",
       "  </tbody>\n",
       "</table>\n",
       "</div>"
      ],
      "text/plain": [
       "   Unnamed: 0  Unnamed: 1  Unnamed: 2 Unnamed: 3 Unnamed: 4\n",
       "0         NaN         NaN         NaN        NaN        NaN\n",
       "1         NaN         NaN         NaN        NaN        NaN\n",
       "2         NaN         NaN         NaN        NaN        NaN\n",
       "3         NaN         NaN         NaN        NaN        NaN\n",
       "4         NaN         NaN         NaN  Sloupec 1  Sloupec 2\n",
       "5         NaN         NaN         NaN         10      deset\n",
       "6         NaN         NaN         NaN         20     dvacet\n",
       "7         NaN         NaN         NaN         30     třicet"
      ]
     },
     "execution_count": 6,
     "metadata": {},
     "output_type": "execute_result"
    }
   ],
   "source": [
    "pd.read_excel(\n",
    "    \"example_excel_file.xlsx\", \n",
    "    sheet_name=\"druhy_list\",\n",
    "    engine=\"openpyxl\"\n",
    ")"
   ]
  },
  {
   "cell_type": "markdown",
   "metadata": {},
   "source": [
    "Z tohoto je vidět modus operandi načítací funkce. Postaví se do levého horního rohu a pak začne hledat *konec* tabulky. Jenže my nechceme ani všechny sloupce, ani všechny řádky. Prvních N nechtěných řádek se zbavíme pomocí skiprows=N, chtěné sloupce zase specifikujeme pomoci usecols."
   ]
  },
  {
   "cell_type": "code",
   "execution_count": 8,
   "metadata": {
    "ExecuteTime": {
     "end_time": "2020-11-23T20:17:23.682599Z",
     "start_time": "2020-11-23T20:17:23.651397Z"
    }
   },
   "outputs": [
    {
     "data": {
      "text/html": [
       "<div>\n",
       "<style scoped>\n",
       "    .dataframe tbody tr th:only-of-type {\n",
       "        vertical-align: middle;\n",
       "    }\n",
       "\n",
       "    .dataframe tbody tr th {\n",
       "        vertical-align: top;\n",
       "    }\n",
       "\n",
       "    .dataframe thead th {\n",
       "        text-align: right;\n",
       "    }\n",
       "</style>\n",
       "<table border=\"1\" class=\"dataframe\">\n",
       "  <thead>\n",
       "    <tr style=\"text-align: right;\">\n",
       "      <th></th>\n",
       "      <th>Sloupec 1</th>\n",
       "      <th>Sloupec 2</th>\n",
       "    </tr>\n",
       "  </thead>\n",
       "  <tbody>\n",
       "    <tr>\n",
       "      <th>0</th>\n",
       "      <td>10</td>\n",
       "      <td>deset</td>\n",
       "    </tr>\n",
       "    <tr>\n",
       "      <th>1</th>\n",
       "      <td>20</td>\n",
       "      <td>dvacet</td>\n",
       "    </tr>\n",
       "    <tr>\n",
       "      <th>2</th>\n",
       "      <td>30</td>\n",
       "      <td>třicet</td>\n",
       "    </tr>\n",
       "  </tbody>\n",
       "</table>\n",
       "</div>"
      ],
      "text/plain": [
       "   Sloupec 1 Sloupec 2\n",
       "0         10     deset\n",
       "1         20    dvacet\n",
       "2         30    třicet"
      ]
     },
     "execution_count": 8,
     "metadata": {},
     "output_type": "execute_result"
    }
   ],
   "source": [
    "pd.read_excel(\n",
    "    \"example_excel_file.xlsx\",\n",
    "    sheet_name=\"druhy_list\", \n",
    "    usecols=\"D:E\", \n",
    "    skiprows=5,\n",
    "    engine=\"openpyxl\"\n",
    ")"
   ]
  },
  {
   "cell_type": "markdown",
   "metadata": {},
   "source": [
    "Vidíme, že pandas bere první řádek jako hlavičku. Co ale dělat, když hlavička neexistuje? Tehdy se parametr header položí rovný None."
   ]
  },
  {
   "cell_type": "code",
   "execution_count": 9,
   "metadata": {
    "ExecuteTime": {
     "end_time": "2020-11-23T20:18:43.842195Z",
     "start_time": "2020-11-23T20:18:43.540697Z"
    }
   },
   "outputs": [
    {
     "data": {
      "text/html": [
       "<div>\n",
       "<style scoped>\n",
       "    .dataframe tbody tr th:only-of-type {\n",
       "        vertical-align: middle;\n",
       "    }\n",
       "\n",
       "    .dataframe tbody tr th {\n",
       "        vertical-align: top;\n",
       "    }\n",
       "\n",
       "    .dataframe thead th {\n",
       "        text-align: right;\n",
       "    }\n",
       "</style>\n",
       "<table border=\"1\" class=\"dataframe\">\n",
       "  <thead>\n",
       "    <tr style=\"text-align: right;\">\n",
       "      <th></th>\n",
       "      <th>3</th>\n",
       "      <th>4</th>\n",
       "    </tr>\n",
       "  </thead>\n",
       "  <tbody>\n",
       "    <tr>\n",
       "      <th>0</th>\n",
       "      <td>5</td>\n",
       "      <td>pět</td>\n",
       "    </tr>\n",
       "    <tr>\n",
       "      <th>1</th>\n",
       "      <td>10</td>\n",
       "      <td>deset</td>\n",
       "    </tr>\n",
       "    <tr>\n",
       "      <th>2</th>\n",
       "      <td>20</td>\n",
       "      <td>dvacet</td>\n",
       "    </tr>\n",
       "    <tr>\n",
       "      <th>3</th>\n",
       "      <td>30</td>\n",
       "      <td>třicet</td>\n",
       "    </tr>\n",
       "  </tbody>\n",
       "</table>\n",
       "</div>"
      ],
      "text/plain": [
       "    3       4\n",
       "0   5     pět\n",
       "1  10   deset\n",
       "2  20  dvacet\n",
       "3  30  třicet"
      ]
     },
     "execution_count": 9,
     "metadata": {},
     "output_type": "execute_result"
    }
   ],
   "source": [
    "pd.read_excel(\n",
    "    \"example_excel_file.xlsx\", \n",
    "    sheet_name=\"treti_list\", \n",
    "    usecols=\"D:E\", \n",
    "    skiprows=5,\n",
    "    header=None,\n",
    "    engine=\"openpyxl\"\n",
    ")"
   ]
  },
  {
   "cell_type": "markdown",
   "metadata": {},
   "source": [
    "V případě, že chceme hlavičku explicitně specifikovat, použijeme parametr names - zde jména sloupců budou v listu."
   ]
  },
  {
   "cell_type": "code",
   "execution_count": 10,
   "metadata": {
    "ExecuteTime": {
     "end_time": "2020-11-23T20:20:49.690770Z",
     "start_time": "2020-11-23T20:20:49.659943Z"
    }
   },
   "outputs": [
    {
     "data": {
      "text/html": [
       "<div>\n",
       "<style scoped>\n",
       "    .dataframe tbody tr th:only-of-type {\n",
       "        vertical-align: middle;\n",
       "    }\n",
       "\n",
       "    .dataframe tbody tr th {\n",
       "        vertical-align: top;\n",
       "    }\n",
       "\n",
       "    .dataframe thead th {\n",
       "        text-align: right;\n",
       "    }\n",
       "</style>\n",
       "<table border=\"1\" class=\"dataframe\">\n",
       "  <thead>\n",
       "    <tr style=\"text-align: right;\">\n",
       "      <th></th>\n",
       "      <th>prvni_sloupec</th>\n",
       "      <th>druhy_sloupec</th>\n",
       "    </tr>\n",
       "  </thead>\n",
       "  <tbody>\n",
       "    <tr>\n",
       "      <th>0</th>\n",
       "      <td>5</td>\n",
       "      <td>pět</td>\n",
       "    </tr>\n",
       "    <tr>\n",
       "      <th>1</th>\n",
       "      <td>10</td>\n",
       "      <td>deset</td>\n",
       "    </tr>\n",
       "    <tr>\n",
       "      <th>2</th>\n",
       "      <td>20</td>\n",
       "      <td>dvacet</td>\n",
       "    </tr>\n",
       "    <tr>\n",
       "      <th>3</th>\n",
       "      <td>30</td>\n",
       "      <td>třicet</td>\n",
       "    </tr>\n",
       "  </tbody>\n",
       "</table>\n",
       "</div>"
      ],
      "text/plain": [
       "   prvni_sloupec druhy_sloupec\n",
       "0              5           pět\n",
       "1             10         deset\n",
       "2             20        dvacet\n",
       "3             30        třicet"
      ]
     },
     "execution_count": 10,
     "metadata": {},
     "output_type": "execute_result"
    }
   ],
   "source": [
    "pd.read_excel(\n",
    "    \"example_excel_file.xlsx\", \n",
    "    sheet_name=\"treti_list\",\n",
    "    usecols=\"D:E\",\n",
    "    skiprows=5,\n",
    "    header=None,\n",
    "    names=[\"prvni_sloupec\", \"druhy_sloupec\"],\n",
    "    engine=\"openpyxl\"\n",
    ")"
   ]
  },
  {
   "cell_type": "markdown",
   "metadata": {},
   "source": [
    "Pro ukládání dataframů do excelu budeme potřebovat nainstalovat balíček openpyxl. Pomineme-li tuto prerekvizitu, neliší se příliš práce s metodou to_excel od metody to_csv. Navíc tu ale přeci jenom pár věcí je. Zejména se jedná o specifikaci worksheetu - parametr sheet_name."
   ]
  },
  {
   "cell_type": "code",
   "execution_count": 11,
   "metadata": {
    "ExecuteTime": {
     "end_time": "2020-11-23T20:26:40.427295Z",
     "start_time": "2020-11-23T20:26:39.371247Z"
    }
   },
   "outputs": [],
   "source": [
    "frame_to_excel = pd.DataFrame({\n",
    "    \"sloupec 1\":[1, 2, 3],\n",
    "    \"sloupec 2\":[4, 5, 6]\n",
    "})\n",
    "frame_to_excel.to_excel(\n",
    "    \"new_excel_file.xlsx\", \n",
    "    sheet_name=\"novy_sheet\", \n",
    "    header=True, \n",
    "    index=False,\n",
    "    engine=\"openpyxl\"\n",
    ")"
   ]
  },
  {
   "cell_type": "markdown",
   "metadata": {},
   "source": [
    "Dříve balíček Pandas čtení XML souborů nedovoloval, od verze 1.3.0 si s nimi ale poradí. Tudíž pokud máme soubor o struktuře\n",
    "```xml\n",
    "<reviews count='92398'>\n",
    "  <review polarity='1' origRating='5' product='jméné jednoho filmu' origFile='115383.html'>\n",
    "    <text>text jedné recenze</text>\n",
    "  </review>\n",
    "  <review polarity='0' origRating='2' product='jméno jiného filmu' origFile='115383.html'>\n",
    "    <text>text jiné recenze</text>\n",
    "  </review>\n",
    "   ...\n",
    "</reviews>\n",
    "```\n",
    "tak ho jednoduše načteme do dataframu následujícím příkazem:"
   ]
  },
  {
   "cell_type": "code",
   "execution_count": 3,
   "metadata": {},
   "outputs": [
    {
     "data": {
      "text/html": [
       "<div>\n",
       "<style scoped>\n",
       "    .dataframe tbody tr th:only-of-type {\n",
       "        vertical-align: middle;\n",
       "    }\n",
       "\n",
       "    .dataframe tbody tr th {\n",
       "        vertical-align: top;\n",
       "    }\n",
       "\n",
       "    .dataframe thead th {\n",
       "        text-align: right;\n",
       "    }\n",
       "</style>\n",
       "<table border=\"1\" class=\"dataframe\">\n",
       "  <thead>\n",
       "    <tr style=\"text-align: right;\">\n",
       "      <th></th>\n",
       "      <th>polarity</th>\n",
       "      <th>origRating</th>\n",
       "      <th>product</th>\n",
       "      <th>origFile</th>\n",
       "      <th>text</th>\n",
       "    </tr>\n",
       "  </thead>\n",
       "  <tbody>\n",
       "    <tr>\n",
       "      <th>0</th>\n",
       "      <td>1</td>\n",
       "      <td>5</td>\n",
       "      <td>Mein langsames Leben (2001)</td>\n",
       "      <td>115383.html</td>\n",
       "      <td>Druhý film Angely Schanelec o počasí. :) Po zh...</td>\n",
       "    </tr>\n",
       "    <tr>\n",
       "      <th>1</th>\n",
       "      <td>0</td>\n",
       "      <td>2</td>\n",
       "      <td>Mein langsames Leben (2001)</td>\n",
       "      <td>115383.html</td>\n",
       "      <td>U Pomalého života jsem strávil 80 minut a teď ...</td>\n",
       "    </tr>\n",
       "    <tr>\n",
       "      <th>2</th>\n",
       "      <td>0</td>\n",
       "      <td>2</td>\n",
       "      <td>Můj otec / Mein Vater (TV film) (2003)</td>\n",
       "      <td>117819.html</td>\n",
       "      <td>Nevím, jestli je to nepovedeným dabingem, otra...</td>\n",
       "    </tr>\n",
       "    <tr>\n",
       "      <th>3</th>\n",
       "      <td>1</td>\n",
       "      <td>5</td>\n",
       "      <td>Můj otec / Mein Vater (TV film) (2003)</td>\n",
       "      <td>117819.html</td>\n",
       "      <td>Upřímný a velice smutný film, chvílemi tak dep...</td>\n",
       "    </tr>\n",
       "    <tr>\n",
       "      <th>4</th>\n",
       "      <td>0</td>\n",
       "      <td>2</td>\n",
       "      <td>Můj otec / Mein Vater (TV film) (2003)</td>\n",
       "      <td>117819.html</td>\n",
       "      <td>Možná to bude trochu divný komentář, ale nemůž...</td>\n",
       "    </tr>\n",
       "    <tr>\n",
       "      <th>...</th>\n",
       "      <td>...</td>\n",
       "      <td>...</td>\n",
       "      <td>...</td>\n",
       "      <td>...</td>\n",
       "      <td>...</td>\n",
       "    </tr>\n",
       "    <tr>\n",
       "      <th>92393</th>\n",
       "      <td>-1</td>\n",
       "      <td>0</td>\n",
       "      <td>Duch český (TV seriál) (2001)</td>\n",
       "      <td>074651.html</td>\n",
       "      <td>Tohle se nedá slovy popsat tak strašné to je. ...</td>\n",
       "    </tr>\n",
       "    <tr>\n",
       "      <th>92394</th>\n",
       "      <td>-1</td>\n",
       "      <td>0</td>\n",
       "      <td>Duch český (TV seriál) (2001)</td>\n",
       "      <td>074651.html</td>\n",
       "      <td>No nevim, nevim!!Jsem velký příznivec českých ...</td>\n",
       "    </tr>\n",
       "    <tr>\n",
       "      <th>92395</th>\n",
       "      <td>1</td>\n",
       "      <td>5</td>\n",
       "      <td>5 milionů svědků (1965)</td>\n",
       "      <td>008039.html</td>\n",
       "      <td>Hodně zajímavá kriminálka s netradičním Radova...</td>\n",
       "    </tr>\n",
       "    <tr>\n",
       "      <th>92396</th>\n",
       "      <td>0</td>\n",
       "      <td>2</td>\n",
       "      <td>5 milionů svědků (1965)</td>\n",
       "      <td>008039.html</td>\n",
       "      <td>Vražda se stane v přímém přenosu v Českosloven...</td>\n",
       "    </tr>\n",
       "    <tr>\n",
       "      <th>92397</th>\n",
       "      <td>0</td>\n",
       "      <td>2</td>\n",
       "      <td>5 milionů svědků (1965)</td>\n",
       "      <td>008039.html</td>\n",
       "      <td>Občas poněkud nepochopitelné...</td>\n",
       "    </tr>\n",
       "  </tbody>\n",
       "</table>\n",
       "<p>92398 rows × 5 columns</p>\n",
       "</div>"
      ],
      "text/plain": [
       "       polarity  origRating                                 product  \\\n",
       "0             1           5             Mein langsames Leben (2001)   \n",
       "1             0           2             Mein langsames Leben (2001)   \n",
       "2             0           2  Můj otec / Mein Vater (TV film) (2003)   \n",
       "3             1           5  Můj otec / Mein Vater (TV film) (2003)   \n",
       "4             0           2  Můj otec / Mein Vater (TV film) (2003)   \n",
       "...         ...         ...                                     ...   \n",
       "92393        -1           0           Duch český (TV seriál) (2001)   \n",
       "92394        -1           0           Duch český (TV seriál) (2001)   \n",
       "92395         1           5                 5 milionů svědků (1965)   \n",
       "92396         0           2                 5 milionů svědků (1965)   \n",
       "92397         0           2                 5 milionů svědků (1965)   \n",
       "\n",
       "          origFile                                               text  \n",
       "0      115383.html  Druhý film Angely Schanelec o počasí. :) Po zh...  \n",
       "1      115383.html  U Pomalého života jsem strávil 80 minut a teď ...  \n",
       "2      117819.html  Nevím, jestli je to nepovedeným dabingem, otra...  \n",
       "3      117819.html  Upřímný a velice smutný film, chvílemi tak dep...  \n",
       "4      117819.html  Možná to bude trochu divný komentář, ale nemůž...  \n",
       "...            ...                                                ...  \n",
       "92393  074651.html  Tohle se nedá slovy popsat tak strašné to je. ...  \n",
       "92394  074651.html  No nevim, nevim!!Jsem velký příznivec českých ...  \n",
       "92395  008039.html  Hodně zajímavá kriminálka s netradičním Radova...  \n",
       "92396  008039.html  Vražda se stane v přímém přenosu v Českosloven...  \n",
       "92397  008039.html                    Občas poněkud nepochopitelné...  \n",
       "\n",
       "[92398 rows x 5 columns]"
      ]
     },
     "execution_count": 3,
     "metadata": {},
     "output_type": "execute_result"
    }
   ],
   "source": [
    "pd.read_xml(\"csfd-90k-reviews-ranlp2013.xml\")"
   ]
  },
  {
   "cell_type": "markdown",
   "metadata": {},
   "source": [
    "Pakliže máme connection do databáze, lze čtení tabulky realizovat pomocí \n",
    "```python\n",
    "dotaz = \"select * from nejaka_databaze.nejak_tabulka;\"\n",
    "tabulka = pd.read_sql(dotaz, connection_objekt_do_databaze)\n",
    "```"
   ]
  },
  {
   "cell_type": "markdown",
   "metadata": {
    "ExecuteTime": {
     "end_time": "2020-03-07T11:04:18.491813Z",
     "start_time": "2020-03-07T11:04:18.486829Z"
    }
   },
   "source": [
    "### Vizualizace\n",
    "Pozn.: jako zdroj dat byl mimo jiné použit soubor kc_house_data.csv - lze najít na internetu.\n",
    "Pandas pro vykreslování obrázků používá matplotlib. Výhoda oproti \"čistému\" matplotlibu je v jednoduchosti vykreslování více sloupc z jednoho pandího datasetu do jednoho grafu.\n",
    "Defaultní graf, kterým je čárový graf, dostaneme tak, že za jméno datasetu vložíme tečku a plot()."
   ]
  },
  {
   "cell_type": "code",
   "execution_count": 101,
   "metadata": {
    "ExecuteTime": {
     "end_time": "2020-03-07T17:40:55.960950Z",
     "start_time": "2020-03-07T17:40:55.816298Z"
    }
   },
   "outputs": [
    {
     "data": {
      "text/plain": [
       "<matplotlib.axes._subplots.AxesSubplot at 0x2390b2e88c8>"
      ]
     },
     "execution_count": 101,
     "metadata": {},
     "output_type": "execute_result"
    },
    {
     "data": {
      "image/png": "[encoded data removed]",
      "text/plain": [
       "<Figure size 432x288 with 1 Axes>"
      ]
     },
     "metadata": {
      "needs_background": "light"
     },
     "output_type": "display_data"
    }
   ],
   "source": [
    "osoby.plot()"
   ]
  },
  {
   "cell_type": "code",
   "execution_count": 19,
   "metadata": {
    "ExecuteTime": {
     "end_time": "2020-03-12T20:41:37.874299Z",
     "start_time": "2020-03-12T20:41:37.861299Z"
    }
   },
   "outputs": [
    {
     "data": {
      "text/html": [
       "<div>\n",
       "<style scoped>\n",
       "    .dataframe tbody tr th:only-of-type {\n",
       "        vertical-align: middle;\n",
       "    }\n",
       "\n",
       "    .dataframe tbody tr th {\n",
       "        vertical-align: top;\n",
       "    }\n",
       "\n",
       "    .dataframe thead th {\n",
       "        text-align: right;\n",
       "    }\n",
       "</style>\n",
       "<table border=\"1\" class=\"dataframe\">\n",
       "  <thead>\n",
       "    <tr style=\"text-align: right;\">\n",
       "      <th></th>\n",
       "      <th>id</th>\n",
       "      <th>krestni_jmeno</th>\n",
       "      <th>prijmeni</th>\n",
       "      <th>vek</th>\n",
       "      <th>pohlavi</th>\n",
       "    </tr>\n",
       "  </thead>\n",
       "  <tbody>\n",
       "    <tr>\n",
       "      <th>0</th>\n",
       "      <td>100</td>\n",
       "      <td>Victor</td>\n",
       "      <td>Hugo</td>\n",
       "      <td>25.0</td>\n",
       "      <td>M</td>\n",
       "    </tr>\n",
       "    <tr>\n",
       "      <th>1</th>\n",
       "      <td>200</td>\n",
       "      <td>Mary</td>\n",
       "      <td>Shelly</td>\n",
       "      <td>30.0</td>\n",
       "      <td>F</td>\n",
       "    </tr>\n",
       "  </tbody>\n",
       "</table>\n",
       "</div>"
      ],
      "text/plain": [
       "    id krestni_jmeno prijmeni   vek pohlavi\n",
       "0  100        Victor     Hugo  25.0       M\n",
       "1  200          Mary   Shelly  30.0       F"
      ]
     },
     "execution_count": 19,
     "metadata": {},
     "output_type": "execute_result"
    }
   ],
   "source": [
    "osoby.head(2)"
   ]
  },
  {
   "cell_type": "markdown",
   "metadata": {},
   "source": [
    "Vidíme, že byly vykresleny všechny (no všechny - oba) sloupce s numerickými údaji. Automaticky byla do grafu umístěna i legenda. Přerušení čáry odpovídající sloupci *vek* je způsobeno přítomností NaN (not a number). Pokud chceme v takovémto grafu vidět všechny body, přidáme do argumentů plot funkce parametr marker=\"o\""
   ]
  },
  {
   "cell_type": "code",
   "execution_count": 103,
   "metadata": {
    "ExecuteTime": {
     "end_time": "2020-03-07T17:40:59.903686Z",
     "start_time": "2020-03-07T17:40:59.759916Z"
    }
   },
   "outputs": [
    {
     "data": {
      "text/plain": [
       "<matplotlib.axes._subplots.AxesSubplot at 0x2390b3a9408>"
      ]
     },
     "execution_count": 103,
     "metadata": {},
     "output_type": "execute_result"
    },
    {
     "data": {
      "image/png": "[encoded data removed]",
      "text/plain": [
       "<Figure size 432x288 with 1 Axes>"
      ]
     },
     "metadata": {
      "needs_background": "light"
     },
     "output_type": "display_data"
    }
   ],
   "source": [
    "osoby.plot(marker=\"o\")"
   ]
  },
  {
   "cell_type": "markdown",
   "metadata": {},
   "source": [
    "Pokud chceme vykreslit jiný typ grafu, musí za jménem dataframu následovat plot.typ_grafu. Například scatter graf se vytvoří následujícím příkazem:"
   ]
  },
  {
   "cell_type": "code",
   "execution_count": 104,
   "metadata": {
    "ExecuteTime": {
     "end_time": "2020-03-07T17:41:02.104022Z",
     "start_time": "2020-03-07T17:41:01.891594Z"
    }
   },
   "outputs": [
    {
     "data": {
      "text/plain": [
       "<matplotlib.axes._subplots.AxesSubplot at 0x2390b421608>"
      ]
     },
     "execution_count": 104,
     "metadata": {},
     "output_type": "execute_result"
    },
    {
     "data": {
      "image/png": "[encoded data removed]",
      "text/plain": [
       "<Figure size 432x288 with 1 Axes>"
      ]
     },
     "metadata": {
      "needs_background": "light"
     },
     "output_type": "display_data"
    }
   ],
   "source": [
    "domy.plot.scatter(x=\"sqft_living\", y=\"price\")"
   ]
  },
  {
   "cell_type": "markdown",
   "metadata": {},
   "source": [
    "Může se stát, že graf bude mít nevyhovující osy x či y. To lze spravit pomocí parametrů xlim resp. ylim."
   ]
  },
  {
   "cell_type": "code",
   "execution_count": 105,
   "metadata": {
    "ExecuteTime": {
     "end_time": "2020-03-07T17:41:04.514078Z",
     "start_time": "2020-03-07T17:41:04.198035Z"
    }
   },
   "outputs": [
    {
     "data": {
      "text/plain": [
       "<matplotlib.axes._subplots.AxesSubplot at 0x2390b37b188>"
      ]
     },
     "execution_count": 105,
     "metadata": {},
     "output_type": "execute_result"
    },
    {
     "data": {
      "image/png": "[encoded data removed]",
      "text/plain": [
       "<Figure size 432x288 with 1 Axes>"
      ]
     },
     "metadata": {
      "needs_background": "light"
     },
     "output_type": "display_data"
    }
   ],
   "source": [
    "domy[[\"bedrooms\"]].plot.hist(bins=100, xlim=(0,10))"
   ]
  },
  {
   "cell_type": "markdown",
   "metadata": {},
   "source": [
    "Pro zobrazení více konkrétních sloupců v histogramu napřed provedeme selekci na chtěné sloupce:"
   ]
  },
  {
   "cell_type": "code",
   "execution_count": 106,
   "metadata": {
    "ExecuteTime": {
     "end_time": "2020-03-07T17:41:07.179159Z",
     "start_time": "2020-03-07T17:41:06.661032Z"
    }
   },
   "outputs": [
    {
     "data": {
      "text/plain": [
       "<matplotlib.axes._subplots.AxesSubplot at 0x2390b842908>"
      ]
     },
     "execution_count": 106,
     "metadata": {},
     "output_type": "execute_result"
    },
    {
     "data": {
      "image/png": "[encoded data removed]",
      "text/plain": [
       "<Figure size 432x288 with 1 Axes>"
      ]
     },
     "metadata": {
      "needs_background": "light"
     },
     "output_type": "display_data"
    }
   ],
   "source": [
    "domy[[\"bedrooms\",\"bathrooms\"]].plot.hist(bins=100, xlim=(0,10))"
   ]
  },
  {
   "cell_type": "markdown",
   "metadata": {},
   "source": [
    "Prakticky totožného výsledku se dá docílit více příkazy. Zde jsou ukázány dva způsoby, jak vytvořit boxplot."
   ]
  },
  {
   "cell_type": "code",
   "execution_count": 107,
   "metadata": {
    "ExecuteTime": {
     "end_time": "2020-03-07T17:41:09.060336Z",
     "start_time": "2020-03-07T17:41:08.936612Z"
    }
   },
   "outputs": [
    {
     "data": {
      "text/plain": [
       "<matplotlib.axes._subplots.AxesSubplot at 0x2390a069b08>"
      ]
     },
     "execution_count": 107,
     "metadata": {},
     "output_type": "execute_result"
    },
    {
     "data": {
      "image/png": "[encoded data removed]",
      "text/plain": [
       "<Figure size 432x288 with 1 Axes>"
      ]
     },
     "metadata": {
      "needs_background": "light"
     },
     "output_type": "display_data"
    }
   ],
   "source": [
    "domy[[\"bedrooms\",\"bathrooms\"]].plot.box()"
   ]
  },
  {
   "cell_type": "code",
   "execution_count": 108,
   "metadata": {
    "ExecuteTime": {
     "end_time": "2020-03-07T17:41:10.748219Z",
     "start_time": "2020-03-07T17:41:10.621561Z"
    }
   },
   "outputs": [
    {
     "data": {
      "text/plain": [
       "<matplotlib.axes._subplots.AxesSubplot at 0x2390a3fad48>"
      ]
     },
     "execution_count": 108,
     "metadata": {},
     "output_type": "execute_result"
    },
    {
     "data": {
      "image/png": "[encoded data removed]",
      "text/plain": [
       "<Figure size 432x288 with 1 Axes>"
      ]
     },
     "metadata": {
      "needs_background": "light"
     },
     "output_type": "display_data"
    }
   ],
   "source": [
    "domy[[\"bedrooms\",\"bathrooms\"]].boxplot()"
   ]
  },
  {
   "cell_type": "markdown",
   "metadata": {},
   "source": [
    "Pakliže chceme vykreslit hodnotu určitého sloupce (zde *price*) pro různé hodnoty sloupce jiného(zde *bathrooms*), použije se následující postup:"
   ]
  },
  {
   "cell_type": "code",
   "execution_count": 109,
   "metadata": {
    "ExecuteTime": {
     "end_time": "2020-03-07T17:41:12.971526Z",
     "start_time": "2020-03-07T17:41:12.510215Z"
    }
   },
   "outputs": [
    {
     "data": {
      "text/plain": [
       "<matplotlib.axes._subplots.AxesSubplot at 0x2390ae95348>"
      ]
     },
     "execution_count": 109,
     "metadata": {},
     "output_type": "execute_result"
    },
    {
     "data": {
      "image/png": "[encoded data removed]",
      "text/plain": [
       "<Figure size 1080x720 with 1 Axes>"
      ]
     },
     "metadata": {
      "needs_background": "light"
     },
     "output_type": "display_data"
    }
   ],
   "source": [
    "domy.boxplot(column=[\"price\"], by=[\"bathrooms\"], figsize=(15,10))"
   ]
  },
  {
   "cell_type": "markdown",
   "metadata": {
    "ExecuteTime": {
     "end_time": "2020-03-07T17:29:45.591700Z",
     "start_time": "2020-03-07T17:29:45.574748Z"
    }
   },
   "source": [
    "Pokud chceme graf uložit dejme tomu jako png soubor, musí po řádku vykreslující graf následovat\n",
    "```python\n",
    "plt.savefig(\"nejaky_graf.png\")\n",
    "```\n",
    "Bacha - oba příkazy musí být ve stejně buňce!"
   ]
  },
  {
   "cell_type": "code",
   "execution_count": 110,
   "metadata": {
    "ExecuteTime": {
     "end_time": "2020-03-07T17:41:16.456487Z",
     "start_time": "2020-03-07T17:41:15.863041Z"
    }
   },
   "outputs": [
    {
     "data": {
      "image/png": "[encoded data removed]",
      "text/plain": [
       "<Figure size 1080x720 with 1 Axes>"
      ]
     },
     "metadata": {
      "needs_background": "light"
     },
     "output_type": "display_data"
    }
   ],
   "source": [
    "domy.boxplot(column=[\"price\"], by=[\"bathrooms\"], figsize=(15,10))\n",
    "plt.savefig(\"nejaky_graf.png\")"
   ]
  }
 ],
 "metadata": {
  "kernelspec": {
   "display_name": "Python 3",
   "language": "python",
   "name": "python3"
  },
  "language_info": {
   "codemirror_mode": {
    "name": "ipython",
    "version": 3
   },
   "file_extension": ".py",
   "mimetype": "text/x-python",
   "name": "python",
   "nbconvert_exporter": "python",
   "pygments_lexer": "ipython3",
   "version": "3.7.4"
  },
  "varInspector": {
   "cols": {
    "lenName": 16,
    "lenType": 16,
    "lenVar": 40
   },
   "kernels_config": {
    "python": {
     "delete_cmd_postfix": "",
     "delete_cmd_prefix": "del ",
     "library": "var_list.py",
     "varRefreshCmd": "print(var_dic_list())"
    },
    "r": {
     "delete_cmd_postfix": ") ",
     "delete_cmd_prefix": "rm(",
     "library": "var_list.r",
     "varRefreshCmd": "cat(var_dic_list()) "
    }
   },
   "types_to_exclude": [
    "module",
    "function",
    "builtin_function_or_method",
    "instance",
    "_Feature"
   ],
   "window_display": false
  }
 },
 "nbformat": 4,
 "nbformat_minor": 4
}
