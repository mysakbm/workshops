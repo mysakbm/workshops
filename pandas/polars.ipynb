{
 "cells": [
  {
   "cell_type": "markdown",
   "id": "20ceb1f1-5247-471a-bc32-7b00c4f0ec6d",
   "metadata": {},
   "source": [
    "## Úvod\n",
    "Tento notebook nemá složit jako výukový materiál. Jedná se jen o mé poznámky spojené s průzkumem balíčku Polars.\n",
    "Výhody Polarsu by měly spočívat v rychlosti (koneckonců je napsán v Rustu), v možnosti by default pracovat na všech CPU jádrech a v schopnosti zpracovávat data větší než je velikost RAMky."
   ]
  },
  {
   "cell_type": "code",
   "execution_count": 1,
   "id": "daaa08c6-632b-454d-8cfe-e473d8aaf96d",
   "metadata": {},
   "outputs": [],
   "source": [
    "import polars as pl"
   ]
  },
  {
   "cell_type": "markdown",
   "id": "279ea7f0-ca32-4197-9531-a94e76cbb90b",
   "metadata": {},
   "source": [
    "Vytváření dataframu probíhá na první pohled stejně jako v pandách."
   ]
  },
  {
   "cell_type": "code",
   "execution_count": 2,
   "id": "ceedf1f2-5f92-4acb-9451-9fb6fe011b71",
   "metadata": {},
   "outputs": [
    {
     "data": {
      "text/html": [
       "<div><style>\n",
       ".dataframe > thead > tr,\n",
       ".dataframe > tbody > tr {\n",
       "  text-align: right;\n",
       "  white-space: pre-wrap;\n",
       "}\n",
       "</style>\n",
       "<small>shape: (0, 0)</small><table border=\"1\" class=\"dataframe\"><thead><tr></tr><tr></tr></thead><tbody></tbody></table></div>"
      ],
      "text/plain": [
       "shape: (0, 0)\n",
       "┌┐\n",
       "╞╡\n",
       "└┘"
      ]
     },
     "execution_count": 2,
     "metadata": {},
     "output_type": "execute_result"
    }
   ],
   "source": [
    "empty_frame = pl.DataFrame()\n",
    "empty_frame"
   ]
  },
  {
   "cell_type": "markdown",
   "id": "7e57da37-ac81-49b3-8b67-a947c3c69315",
   "metadata": {},
   "source": [
    "Všimněme si, že v zobrazené tabulce vidíme krom názvu sloupců i automaticky určený datový typ sloupce."
   ]
  },
  {
   "cell_type": "code",
   "execution_count": 3,
   "id": "dc1fcb18-8c40-48e4-97e0-4fb24d8032f1",
   "metadata": {},
   "outputs": [
    {
     "data": {
      "text/html": [
       "<div><style>\n",
       ".dataframe > thead > tr,\n",
       ".dataframe > tbody > tr {\n",
       "  text-align: right;\n",
       "  white-space: pre-wrap;\n",
       "}\n",
       "</style>\n",
       "<small>shape: (5, 2)</small><table border=\"1\" class=\"dataframe\"><thead><tr><th>only_integers</th><th>only_strings</th></tr><tr><td>i64</td><td>str</td></tr></thead><tbody><tr><td>1</td><td>&quot;jedna&quot;</td></tr><tr><td>2</td><td>&quot;dva&quot;</td></tr><tr><td>3</td><td>&quot;tři&quot;</td></tr><tr><td>4</td><td>&quot;čtyři&quot;</td></tr><tr><td>155</td><td>&quot;pět&quot;</td></tr></tbody></table></div>"
      ],
      "text/plain": [
       "shape: (5, 2)\n",
       "┌───────────────┬──────────────┐\n",
       "│ only_integers ┆ only_strings │\n",
       "│ ---           ┆ ---          │\n",
       "│ i64           ┆ str          │\n",
       "╞═══════════════╪══════════════╡\n",
       "│ 1             ┆ jedna        │\n",
       "│ 2             ┆ dva          │\n",
       "│ 3             ┆ tři          │\n",
       "│ 4             ┆ čtyři        │\n",
       "│ 155           ┆ pět          │\n",
       "└───────────────┴──────────────┘"
      ]
     },
     "execution_count": 3,
     "metadata": {},
     "output_type": "execute_result"
    }
   ],
   "source": [
    "only_integers = [1,2,3,4,155]\n",
    "only_strings = [\"jedna\", \"dva\", \"tři\", \"čtyři\", \"pět\"]\n",
    "filled_dataframe = pl.DataFrame({\n",
    "    \"only_integers\": only_integers, \n",
    "    \"only_strings\": only_strings\n",
    "})\n",
    "filled_dataframe"
   ]
  },
  {
   "cell_type": "markdown",
   "id": "c49ca901-1213-4ce0-9d2a-e6bbc8eb7629",
   "metadata": {},
   "source": [
    "Podstatnější rozdíly oproti balíčku pandas se objeví poměrně rychle. Pokud bychom bez jakýchkoli dalších úprav vložili do dataframu sloupec obsahující více datových typů,\n",
    "např.\n",
    "```\n",
    "only_integers = [1,2,3,4,155]\n",
    "only_strings = [\"jedna\", \"dva\", \"tři\", \"čtyři\", \"pět\"]\n",
    "everything_possible = [1,2, \"hodně\", \"málo\", 1.23]\n",
    "filled_dataframe = pl.DataFrame({\n",
    "    \"only_integers\": only_integers, \n",
    "    \"only_strings\": only_strings, \n",
    "    \"everything_possible\": everything_possible\n",
    "})\n",
    "filled_dataframe\n",
    "```\n",
    "dostali bychom chybovou hlášku\n",
    "```\n",
    "TypeError: unexpected value while building Series of type Int64; found value of type String: \"hodně\"\n",
    "```\n",
    "Co s tím? Jednou z možností je vytvářet dataframe nikoli napřímo z listů, ale s pomocí series objektu, do kterého krom samotných dat vložíme i jejich datový typ. No a když použijeme datový typ *pl.Object*, je v datech akceptováno takřka cokoli. Nicméně člověk by měl být opatrný - koneckonců v dokumentaci se u [přehledu datových typů](https://docs.pola.rs/user-guide/concepts/data-types/overview/) uvádí, že podpora pro *Object* je omezená."
   ]
  },
  {
   "cell_type": "code",
   "execution_count": 4,
   "id": "737aa5f7-4deb-4da5-b132-6d6b59fd09de",
   "metadata": {},
   "outputs": [
    {
     "data": {
      "text/html": [
       "<div><style>\n",
       ".dataframe > thead > tr,\n",
       ".dataframe > tbody > tr {\n",
       "  text-align: right;\n",
       "  white-space: pre-wrap;\n",
       "}\n",
       "</style>\n",
       "<small>shape: (5, 3)</small><table border=\"1\" class=\"dataframe\"><thead><tr><th>only_integers</th><th>only_strings</th><th>everything_possible</th></tr><tr><td>i16</td><td>str</td><td>object</td></tr></thead><tbody><tr><td>1</td><td>&quot;jedna&quot;</td><td>1</td></tr><tr><td>2</td><td>&quot;dva&quot;</td><td>2</td></tr><tr><td>3</td><td>&quot;tři&quot;</td><td>hodně</td></tr><tr><td>4</td><td>&quot;čtyři&quot;</td><td>málo</td></tr><tr><td>155</td><td>&quot;pět&quot;</td><td>1.23</td></tr></tbody></table></div>"
      ],
      "text/plain": [
       "shape: (5, 3)\n",
       "┌───────────────┬──────────────┬─────────────────────┐\n",
       "│ only_integers ┆ only_strings ┆ everything_possible │\n",
       "│ ---           ┆ ---          ┆ ---                 │\n",
       "│ i16           ┆ str          ┆ object              │\n",
       "╞═══════════════╪══════════════╪═════════════════════╡\n",
       "│ 1             ┆ jedna        ┆ 1                   │\n",
       "│ 2             ┆ dva          ┆ 2                   │\n",
       "│ 3             ┆ tři          ┆ hodně               │\n",
       "│ 4             ┆ čtyři        ┆ málo                │\n",
       "│ 155           ┆ pět          ┆ 1.23                │\n",
       "└───────────────┴──────────────┴─────────────────────┘"
      ]
     },
     "execution_count": 4,
     "metadata": {},
     "output_type": "execute_result"
    }
   ],
   "source": [
    "only_integers = [1,2,3,4,155]\n",
    "only_strings = [\"jedna\", \"dva\", \"tři\", \"čtyři\", \"pět\"]\n",
    "everything_possible = [1,2, \"hodně\", \"málo\", 1.23]\n",
    "filled_dataframe = pl.DataFrame({\n",
    "    \"only_integers\": pl.Series(only_integers, dtype=pl.Int16), \n",
    "    \"only_strings\": pl.Series(only_strings, dtype=pl.String), \n",
    "    \"everything_possible\": pl.Series(everything_possible, dtype=pl.Object)\n",
    "})\n",
    "filled_dataframe"
   ]
  },
  {
   "cell_type": "markdown",
   "id": "905ab833-1e9c-467d-b34b-122c313eb61d",
   "metadata": {},
   "source": [
    "Zdůrazněme ještě, že s None problémy v tomto ohledu nejsou."
   ]
  },
  {
   "cell_type": "code",
   "execution_count": 5,
   "id": "3f6e3920-31ba-41a0-a81b-ab0bcba3b17e",
   "metadata": {},
   "outputs": [
    {
     "data": {
      "text/html": [
       "<div><style>\n",
       ".dataframe > thead > tr,\n",
       ".dataframe > tbody > tr {\n",
       "  text-align: right;\n",
       "  white-space: pre-wrap;\n",
       "}\n",
       "</style>\n",
       "<small>shape: (5, 1)</small><table border=\"1\" class=\"dataframe\"><thead><tr><th>only_integers</th></tr><tr><td>i16</td></tr></thead><tbody><tr><td>1</td></tr><tr><td>2</td></tr><tr><td>3</td></tr><tr><td>null</td></tr><tr><td>155</td></tr></tbody></table></div>"
      ],
      "text/plain": [
       "shape: (5, 1)\n",
       "┌───────────────┐\n",
       "│ only_integers │\n",
       "│ ---           │\n",
       "│ i16           │\n",
       "╞═══════════════╡\n",
       "│ 1             │\n",
       "│ 2             │\n",
       "│ 3             │\n",
       "│ null          │\n",
       "│ 155           │\n",
       "└───────────────┘"
      ]
     },
     "execution_count": 5,
     "metadata": {},
     "output_type": "execute_result"
    }
   ],
   "source": [
    "only_integers = [1,2,3,None,155]\n",
    "\n",
    "short_dataframe = pl.DataFrame({\n",
    "    \"only_integers\": pl.Series(only_integers, dtype=pl.Int16)\n",
    "})\n",
    "short_dataframe"
   ]
  },
  {
   "cell_type": "markdown",
   "id": "4308d71b-f087-4e0c-bf63-24fa33c346a4",
   "metadata": {},
   "source": [
    "Člověka napadá otázka, co se stane, když do malého datového typu zkusíme vložit velkou hodnotu (např. do int8 číslo větší než 128). Když bychom spustili následující kód\n",
    "```\n",
    "only_integers = [1,2,3,400,155]\n",
    "filled_dataframe = pl.DataFrame({\n",
    "    \"only_integers\": pl.Series(only_integers, dtype=pl.Int8), \n",
    "})\n",
    "filled_dataframe\n",
    "```\n",
    "dostali bychom overflow chybu \n",
    "```\n",
    "OverflowError: out of range integral type conversion attempted\n",
    "```"
   ]
  },
  {
   "cell_type": "markdown",
   "id": "a5c4d74e-8bee-41dc-b517-14945cc90702",
   "metadata": {},
   "source": [
    "Velikost tabulky určíme stejně jako v Pandách skrz *shape* a *len*. Stejně tak se lze podívat na první, poslední či náhodné řádky s pomocí *head*, *tail* a *sample*."
   ]
  },
  {
   "cell_type": "code",
   "execution_count": 6,
   "id": "b22c9084-09c6-49af-aea2-63508ec45136",
   "metadata": {},
   "outputs": [
    {
     "data": {
      "text/plain": [
       "(5, 3)"
      ]
     },
     "execution_count": 6,
     "metadata": {},
     "output_type": "execute_result"
    }
   ],
   "source": [
    "filled_dataframe.shape"
   ]
  },
  {
   "cell_type": "code",
   "execution_count": 7,
   "id": "d83cda7c-9c1a-47f9-bbb6-87ee8fa68e91",
   "metadata": {},
   "outputs": [
    {
     "data": {
      "text/plain": [
       "5"
      ]
     },
     "execution_count": 7,
     "metadata": {},
     "output_type": "execute_result"
    }
   ],
   "source": [
    "len(filled_dataframe)"
   ]
  },
  {
   "cell_type": "code",
   "execution_count": 8,
   "id": "f12c7331-08c7-4884-a33b-2713eba9a265",
   "metadata": {},
   "outputs": [
    {
     "data": {
      "text/html": [
       "<div><style>\n",
       ".dataframe > thead > tr,\n",
       ".dataframe > tbody > tr {\n",
       "  text-align: right;\n",
       "  white-space: pre-wrap;\n",
       "}\n",
       "</style>\n",
       "<small>shape: (2, 3)</small><table border=\"1\" class=\"dataframe\"><thead><tr><th>only_integers</th><th>only_strings</th><th>everything_possible</th></tr><tr><td>i16</td><td>str</td><td>object</td></tr></thead><tbody><tr><td>1</td><td>&quot;jedna&quot;</td><td>1</td></tr><tr><td>2</td><td>&quot;dva&quot;</td><td>2</td></tr></tbody></table></div>"
      ],
      "text/plain": [
       "shape: (2, 3)\n",
       "┌───────────────┬──────────────┬─────────────────────┐\n",
       "│ only_integers ┆ only_strings ┆ everything_possible │\n",
       "│ ---           ┆ ---          ┆ ---                 │\n",
       "│ i16           ┆ str          ┆ object              │\n",
       "╞═══════════════╪══════════════╪═════════════════════╡\n",
       "│ 1             ┆ jedna        ┆ 1                   │\n",
       "│ 2             ┆ dva          ┆ 2                   │\n",
       "└───────────────┴──────────────┴─────────────────────┘"
      ]
     },
     "execution_count": 8,
     "metadata": {},
     "output_type": "execute_result"
    }
   ],
   "source": [
    "filled_dataframe.head(2)"
   ]
  },
  {
   "cell_type": "code",
   "execution_count": 9,
   "id": "9679c05c-4bce-4942-8e1b-2768df5b798e",
   "metadata": {},
   "outputs": [
    {
     "data": {
      "text/html": [
       "<div><style>\n",
       ".dataframe > thead > tr,\n",
       ".dataframe > tbody > tr {\n",
       "  text-align: right;\n",
       "  white-space: pre-wrap;\n",
       "}\n",
       "</style>\n",
       "<small>shape: (2, 3)</small><table border=\"1\" class=\"dataframe\"><thead><tr><th>only_integers</th><th>only_strings</th><th>everything_possible</th></tr><tr><td>i16</td><td>str</td><td>object</td></tr></thead><tbody><tr><td>4</td><td>&quot;čtyři&quot;</td><td>málo</td></tr><tr><td>155</td><td>&quot;pět&quot;</td><td>1.23</td></tr></tbody></table></div>"
      ],
      "text/plain": [
       "shape: (2, 3)\n",
       "┌───────────────┬──────────────┬─────────────────────┐\n",
       "│ only_integers ┆ only_strings ┆ everything_possible │\n",
       "│ ---           ┆ ---          ┆ ---                 │\n",
       "│ i16           ┆ str          ┆ object              │\n",
       "╞═══════════════╪══════════════╪═════════════════════╡\n",
       "│ 4             ┆ čtyři        ┆ málo                │\n",
       "│ 155           ┆ pět          ┆ 1.23                │\n",
       "└───────────────┴──────────────┴─────────────────────┘"
      ]
     },
     "execution_count": 9,
     "metadata": {},
     "output_type": "execute_result"
    }
   ],
   "source": [
    "filled_dataframe.tail(2)"
   ]
  },
  {
   "cell_type": "code",
   "execution_count": 10,
   "id": "65818999-284e-4b4b-b798-894d0102d9a8",
   "metadata": {},
   "outputs": [
    {
     "data": {
      "text/html": [
       "<div><style>\n",
       ".dataframe > thead > tr,\n",
       ".dataframe > tbody > tr {\n",
       "  text-align: right;\n",
       "  white-space: pre-wrap;\n",
       "}\n",
       "</style>\n",
       "<small>shape: (2, 3)</small><table border=\"1\" class=\"dataframe\"><thead><tr><th>only_integers</th><th>only_strings</th><th>everything_possible</th></tr><tr><td>i16</td><td>str</td><td>object</td></tr></thead><tbody><tr><td>4</td><td>&quot;čtyři&quot;</td><td>málo</td></tr><tr><td>155</td><td>&quot;pět&quot;</td><td>1.23</td></tr></tbody></table></div>"
      ],
      "text/plain": [
       "shape: (2, 3)\n",
       "┌───────────────┬──────────────┬─────────────────────┐\n",
       "│ only_integers ┆ only_strings ┆ everything_possible │\n",
       "│ ---           ┆ ---          ┆ ---                 │\n",
       "│ i16           ┆ str          ┆ object              │\n",
       "╞═══════════════╪══════════════╪═════════════════════╡\n",
       "│ 4             ┆ čtyři        ┆ málo                │\n",
       "│ 155           ┆ pět          ┆ 1.23                │\n",
       "└───────────────┴──────────────┴─────────────────────┘"
      ]
     },
     "execution_count": 10,
     "metadata": {},
     "output_type": "execute_result"
    }
   ],
   "source": [
    "filled_dataframe.sample(2)"
   ]
  },
  {
   "cell_type": "markdown",
   "id": "3f2896aa-dc21-4a89-8f45-bb23a8106c01",
   "metadata": {},
   "source": [
    "Rychlé statistické info typu průměr či maximum získáme díky metodě *describe*."
   ]
  },
  {
   "cell_type": "code",
   "execution_count": 11,
   "id": "1a9567f1-0690-48eb-849a-46cd5df7e8b9",
   "metadata": {},
   "outputs": [
    {
     "data": {
      "text/html": [
       "<div><style>\n",
       ".dataframe > thead > tr,\n",
       ".dataframe > tbody > tr {\n",
       "  text-align: right;\n",
       "  white-space: pre-wrap;\n",
       "}\n",
       "</style>\n",
       "<small>shape: (9, 4)</small><table border=\"1\" class=\"dataframe\"><thead><tr><th>statistic</th><th>only_integers</th><th>only_strings</th><th>everything_possible</th></tr><tr><td>str</td><td>f64</td><td>str</td><td>str</td></tr></thead><tbody><tr><td>&quot;count&quot;</td><td>5.0</td><td>&quot;5&quot;</td><td>&quot;5&quot;</td></tr><tr><td>&quot;null_count&quot;</td><td>0.0</td><td>&quot;0&quot;</td><td>&quot;0&quot;</td></tr><tr><td>&quot;mean&quot;</td><td>33.0</td><td>null</td><td>null</td></tr><tr><td>&quot;std&quot;</td><td>68.209237</td><td>null</td><td>null</td></tr><tr><td>&quot;min&quot;</td><td>1.0</td><td>&quot;dva&quot;</td><td>null</td></tr><tr><td>&quot;25%&quot;</td><td>2.0</td><td>null</td><td>null</td></tr><tr><td>&quot;50%&quot;</td><td>3.0</td><td>null</td><td>null</td></tr><tr><td>&quot;75%&quot;</td><td>4.0</td><td>null</td><td>null</td></tr><tr><td>&quot;max&quot;</td><td>155.0</td><td>&quot;čtyři&quot;</td><td>null</td></tr></tbody></table></div>"
      ],
      "text/plain": [
       "shape: (9, 4)\n",
       "┌────────────┬───────────────┬──────────────┬─────────────────────┐\n",
       "│ statistic  ┆ only_integers ┆ only_strings ┆ everything_possible │\n",
       "│ ---        ┆ ---           ┆ ---          ┆ ---                 │\n",
       "│ str        ┆ f64           ┆ str          ┆ str                 │\n",
       "╞════════════╪═══════════════╪══════════════╪═════════════════════╡\n",
       "│ count      ┆ 5.0           ┆ 5            ┆ 5                   │\n",
       "│ null_count ┆ 0.0           ┆ 0            ┆ 0                   │\n",
       "│ mean       ┆ 33.0          ┆ null         ┆ null                │\n",
       "│ std        ┆ 68.209237     ┆ null         ┆ null                │\n",
       "│ min        ┆ 1.0           ┆ dva          ┆ null                │\n",
       "│ 25%        ┆ 2.0           ┆ null         ┆ null                │\n",
       "│ 50%        ┆ 3.0           ┆ null         ┆ null                │\n",
       "│ 75%        ┆ 4.0           ┆ null         ┆ null                │\n",
       "│ max        ┆ 155.0         ┆ čtyři        ┆ null                │\n",
       "└────────────┴───────────────┴──────────────┴─────────────────────┘"
      ]
     },
     "execution_count": 11,
     "metadata": {},
     "output_type": "execute_result"
    }
   ],
   "source": [
    "filled_dataframe.describe()"
   ]
  },
  {
   "cell_type": "markdown",
   "id": "8a8fc1ec-bd35-447c-836f-deae694446e9",
   "metadata": {},
   "source": [
    "Pokud chceme vidět unikátní hodnoty ve sloupci, použijeme metodu *unique* (ty selectovací kouzla jsou více diskutovány v kapitole níže):"
   ]
  },
  {
   "cell_type": "code",
   "execution_count": 12,
   "id": "47376a69-6f40-4c93-9421-06ef57a6711b",
   "metadata": {},
   "outputs": [
    {
     "data": {
      "text/html": [
       "<div><style>\n",
       ".dataframe > thead > tr,\n",
       ".dataframe > tbody > tr {\n",
       "  text-align: right;\n",
       "  white-space: pre-wrap;\n",
       "}\n",
       "</style>\n",
       "<small>shape: (5, 1)</small><table border=\"1\" class=\"dataframe\"><thead><tr><th>only_integers</th></tr><tr><td>i16</td></tr></thead><tbody><tr><td>null</td></tr><tr><td>1</td></tr><tr><td>2</td></tr><tr><td>3</td></tr><tr><td>155</td></tr></tbody></table></div>"
      ],
      "text/plain": [
       "shape: (5, 1)\n",
       "┌───────────────┐\n",
       "│ only_integers │\n",
       "│ ---           │\n",
       "│ i16           │\n",
       "╞═══════════════╡\n",
       "│ null          │\n",
       "│ 1             │\n",
       "│ 2             │\n",
       "│ 3             │\n",
       "│ 155           │\n",
       "└───────────────┘"
      ]
     },
     "execution_count": 12,
     "metadata": {},
     "output_type": "execute_result"
    }
   ],
   "source": [
    "only_integers = [1,2,3,None,155, 3, 2 ,3]\n",
    "\n",
    "short_dataframe = pl.DataFrame({\n",
    "    \"only_integers\": pl.Series(only_integers, dtype=pl.Int16)\n",
    "})\n",
    "short_dataframe.select(pl.col(\"only_integers\").unique())"
   ]
  },
  {
   "cell_type": "markdown",
   "id": "142f4a61-ab3c-40a5-ad0c-b6d4f17b505c",
   "metadata": {},
   "source": [
    "Pokud nám stačí jen počet unikátních hodnot, sáhneme po *n_unique*."
   ]
  },
  {
   "cell_type": "code",
   "execution_count": 13,
   "id": "c6b9eff2-5e75-4ccf-870b-52d342442f67",
   "metadata": {},
   "outputs": [
    {
     "data": {
      "text/html": [
       "<div><style>\n",
       ".dataframe > thead > tr,\n",
       ".dataframe > tbody > tr {\n",
       "  text-align: right;\n",
       "  white-space: pre-wrap;\n",
       "}\n",
       "</style>\n",
       "<small>shape: (1, 1)</small><table border=\"1\" class=\"dataframe\"><thead><tr><th>only_integers</th></tr><tr><td>u32</td></tr></thead><tbody><tr><td>5</td></tr></tbody></table></div>"
      ],
      "text/plain": [
       "shape: (1, 1)\n",
       "┌───────────────┐\n",
       "│ only_integers │\n",
       "│ ---           │\n",
       "│ u32           │\n",
       "╞═══════════════╡\n",
       "│ 5             │\n",
       "└───────────────┘"
      ]
     },
     "execution_count": 13,
     "metadata": {},
     "output_type": "execute_result"
    }
   ],
   "source": [
    "short_dataframe.select(pl.col(\"only_integers\").n_unique())"
   ]
  },
  {
   "cell_type": "markdown",
   "id": "c9247969-3e81-408d-9530-95a8faacacd4",
   "metadata": {},
   "source": [
    "A pokud potřebujeme počet výskytů každé unikátní hodnoty, je k dispozici metoda *value_counts*."
   ]
  },
  {
   "cell_type": "code",
   "execution_count": 14,
   "id": "3e05365c-7c0d-4f29-adfb-cfdc083e2c8b",
   "metadata": {},
   "outputs": [
    {
     "data": {
      "text/html": [
       "<div><style>\n",
       ".dataframe > thead > tr,\n",
       ".dataframe > tbody > tr {\n",
       "  text-align: right;\n",
       "  white-space: pre-wrap;\n",
       "}\n",
       "</style>\n",
       "<small>shape: (5, 1)</small><table border=\"1\" class=\"dataframe\"><thead><tr><th>only_integers</th></tr><tr><td>struct[2]</td></tr></thead><tbody><tr><td>{2,2}</td></tr><tr><td>{3,3}</td></tr><tr><td>{null,1}</td></tr><tr><td>{155,1}</td></tr><tr><td>{1,1}</td></tr></tbody></table></div>"
      ],
      "text/plain": [
       "shape: (5, 1)\n",
       "┌───────────────┐\n",
       "│ only_integers │\n",
       "│ ---           │\n",
       "│ struct[2]     │\n",
       "╞═══════════════╡\n",
       "│ {2,2}         │\n",
       "│ {3,3}         │\n",
       "│ {null,1}      │\n",
       "│ {155,1}       │\n",
       "│ {1,1}         │\n",
       "└───────────────┘"
      ]
     },
     "execution_count": 14,
     "metadata": {},
     "output_type": "execute_result"
    }
   ],
   "source": [
    "short_dataframe.select(pl.col(\"only_integers\").value_counts())"
   ]
  },
  {
   "cell_type": "markdown",
   "id": "fb15b536-0e4c-4245-a160-c05f79bb1bde",
   "metadata": {},
   "source": [
    "Pro výpočet korelace slouží metoda *corr*, pro její použití je ale potřeba mít nainstalovaný balíček *numpy*."
   ]
  },
  {
   "cell_type": "code",
   "execution_count": 15,
   "id": "8c34625a-4153-4a4b-ae1c-1add317a31e6",
   "metadata": {},
   "outputs": [
    {
     "data": {
      "text/html": [
       "<div><style>\n",
       ".dataframe > thead > tr,\n",
       ".dataframe > tbody > tr {\n",
       "  text-align: right;\n",
       "  white-space: pre-wrap;\n",
       "}\n",
       "</style>\n",
       "<small>shape: (3, 3)</small><table border=\"1\" class=\"dataframe\"><thead><tr><th>first_col</th><th>second_col</th><th>third_col</th></tr><tr><td>f64</td><td>f64</td><td>f64</td></tr></thead><tbody><tr><td>1.0</td><td>-1.0</td><td>0.561754</td></tr><tr><td>-1.0</td><td>1.0</td><td>-0.561754</td></tr><tr><td>0.561754</td><td>-0.561754</td><td>1.0</td></tr></tbody></table></div>"
      ],
      "text/plain": [
       "shape: (3, 3)\n",
       "┌───────────┬────────────┬───────────┐\n",
       "│ first_col ┆ second_col ┆ third_col │\n",
       "│ ---       ┆ ---        ┆ ---       │\n",
       "│ f64       ┆ f64        ┆ f64       │\n",
       "╞═══════════╪════════════╪═══════════╡\n",
       "│ 1.0       ┆ -1.0       ┆ 0.561754  │\n",
       "│ -1.0      ┆ 1.0        ┆ -0.561754 │\n",
       "│ 0.561754  ┆ -0.561754  ┆ 1.0       │\n",
       "└───────────┴────────────┴───────────┘"
      ]
     },
     "execution_count": 15,
     "metadata": {},
     "output_type": "execute_result"
    }
   ],
   "source": [
    "numbers_dataframe = pl.DataFrame({\n",
    "    \"first_col\": pl.Series([10,20,30,40,50], dtype=pl.Int16),\n",
    "    \"second_col\": pl.Series([50,40,30,20,10], dtype=pl.Int16),\n",
    "    \"third_col\": pl.Series([25,40,12,78,51], dtype=pl.Int16)\n",
    "})\n",
    "\n",
    "numbers_dataframe.corr()"
   ]
  },
  {
   "cell_type": "markdown",
   "id": "4d85db46-13fc-4ee2-b399-111ec0861c25",
   "metadata": {},
   "source": [
    "## Manipulace se sloupci dataframu"
   ]
  },
  {
   "cell_type": "markdown",
   "id": "8eef6f2c-4f15-4034-a33f-fcaf86ac69dc",
   "metadata": {},
   "source": [
    "Pro výběr sloupce překvapivě funguje pandí notace:"
   ]
  },
  {
   "cell_type": "code",
   "execution_count": 16,
   "id": "dc86bd7a-9ebf-4d87-956c-5cd53d3a7348",
   "metadata": {},
   "outputs": [
    {
     "data": {
      "text/html": [
       "<div><style>\n",
       ".dataframe > thead > tr,\n",
       ".dataframe > tbody > tr {\n",
       "  text-align: right;\n",
       "  white-space: pre-wrap;\n",
       "}\n",
       "</style>\n",
       "<small>shape: (5,)</small><table border=\"1\" class=\"dataframe\"><thead><tr><th>only_integers</th></tr><tr><td>i16</td></tr></thead><tbody><tr><td>1</td></tr><tr><td>2</td></tr><tr><td>3</td></tr><tr><td>4</td></tr><tr><td>155</td></tr></tbody></table></div>"
      ],
      "text/plain": [
       "shape: (5,)\n",
       "Series: 'only_integers' [i16]\n",
       "[\n",
       "\t1\n",
       "\t2\n",
       "\t3\n",
       "\t4\n",
       "\t155\n",
       "]"
      ]
     },
     "execution_count": 16,
     "metadata": {},
     "output_type": "execute_result"
    }
   ],
   "source": [
    "filled_dataframe[\"only_integers\"]"
   ]
  },
  {
   "cell_type": "markdown",
   "id": "0cfcd003-1891-4238-a54d-752763863408",
   "metadata": {},
   "source": [
    "Pokud chceme více sloupců, můžeme použít stejně jako v Pandách list, anebo jména sloupců napíšeme do vnějších hranatých závorek napřímo:"
   ]
  },
  {
   "cell_type": "code",
   "execution_count": 17,
   "id": "5ebc6ddd-fe85-4c72-b5ab-373355ba063b",
   "metadata": {},
   "outputs": [
    {
     "data": {
      "text/html": [
       "<div><style>\n",
       ".dataframe > thead > tr,\n",
       ".dataframe > tbody > tr {\n",
       "  text-align: right;\n",
       "  white-space: pre-wrap;\n",
       "}\n",
       "</style>\n",
       "<small>shape: (5, 2)</small><table border=\"1\" class=\"dataframe\"><thead><tr><th>only_integers</th><th>only_strings</th></tr><tr><td>i16</td><td>str</td></tr></thead><tbody><tr><td>1</td><td>&quot;jedna&quot;</td></tr><tr><td>2</td><td>&quot;dva&quot;</td></tr><tr><td>3</td><td>&quot;tři&quot;</td></tr><tr><td>4</td><td>&quot;čtyři&quot;</td></tr><tr><td>155</td><td>&quot;pět&quot;</td></tr></tbody></table></div>"
      ],
      "text/plain": [
       "shape: (5, 2)\n",
       "┌───────────────┬──────────────┐\n",
       "│ only_integers ┆ only_strings │\n",
       "│ ---           ┆ ---          │\n",
       "│ i16           ┆ str          │\n",
       "╞═══════════════╪══════════════╡\n",
       "│ 1             ┆ jedna        │\n",
       "│ 2             ┆ dva          │\n",
       "│ 3             ┆ tři          │\n",
       "│ 4             ┆ čtyři        │\n",
       "│ 155           ┆ pět          │\n",
       "└───────────────┴──────────────┘"
      ]
     },
     "execution_count": 17,
     "metadata": {},
     "output_type": "execute_result"
    }
   ],
   "source": [
    "filled_dataframe[[\"only_integers\", \"only_strings\"]]"
   ]
  },
  {
   "cell_type": "code",
   "execution_count": 18,
   "id": "8baed672-5735-42e2-90e7-37cb67e511d7",
   "metadata": {},
   "outputs": [
    {
     "data": {
      "text/html": [
       "<div><style>\n",
       ".dataframe > thead > tr,\n",
       ".dataframe > tbody > tr {\n",
       "  text-align: right;\n",
       "  white-space: pre-wrap;\n",
       "}\n",
       "</style>\n",
       "<small>shape: (5, 2)</small><table border=\"1\" class=\"dataframe\"><thead><tr><th>only_integers</th><th>only_strings</th></tr><tr><td>i16</td><td>str</td></tr></thead><tbody><tr><td>1</td><td>&quot;jedna&quot;</td></tr><tr><td>2</td><td>&quot;dva&quot;</td></tr><tr><td>3</td><td>&quot;tři&quot;</td></tr><tr><td>4</td><td>&quot;čtyři&quot;</td></tr><tr><td>155</td><td>&quot;pět&quot;</td></tr></tbody></table></div>"
      ],
      "text/plain": [
       "shape: (5, 2)\n",
       "┌───────────────┬──────────────┐\n",
       "│ only_integers ┆ only_strings │\n",
       "│ ---           ┆ ---          │\n",
       "│ i16           ┆ str          │\n",
       "╞═══════════════╪══════════════╡\n",
       "│ 1             ┆ jedna        │\n",
       "│ 2             ┆ dva          │\n",
       "│ 3             ┆ tři          │\n",
       "│ 4             ┆ čtyři        │\n",
       "│ 155           ┆ pět          │\n",
       "└───────────────┴──────────────┘"
      ]
     },
     "execution_count": 18,
     "metadata": {},
     "output_type": "execute_result"
    }
   ],
   "source": [
    "filled_dataframe[\"only_integers\", \"only_strings\"]"
   ]
  },
  {
   "cell_type": "markdown",
   "id": "625874b0-546a-4ce6-98d1-a0077667acee",
   "metadata": {},
   "source": [
    "V dokumentaci Polarsu se nicméně ukazuje použití dataframové metody *select*, které podhodíme polarsí funkci *col* s chtěnými sloupci. Hádám, že to asi bude efektivnější než výše použitá \"indexová\" metoda."
   ]
  },
  {
   "cell_type": "code",
   "execution_count": 19,
   "id": "5fe06549-3dde-48a5-b12f-0335f7bdfac5",
   "metadata": {},
   "outputs": [
    {
     "data": {
      "text/html": [
       "<div><style>\n",
       ".dataframe > thead > tr,\n",
       ".dataframe > tbody > tr {\n",
       "  text-align: right;\n",
       "  white-space: pre-wrap;\n",
       "}\n",
       "</style>\n",
       "<small>shape: (5, 2)</small><table border=\"1\" class=\"dataframe\"><thead><tr><th>only_integers</th><th>only_strings</th></tr><tr><td>i16</td><td>str</td></tr></thead><tbody><tr><td>1</td><td>&quot;jedna&quot;</td></tr><tr><td>2</td><td>&quot;dva&quot;</td></tr><tr><td>3</td><td>&quot;tři&quot;</td></tr><tr><td>4</td><td>&quot;čtyři&quot;</td></tr><tr><td>155</td><td>&quot;pět&quot;</td></tr></tbody></table></div>"
      ],
      "text/plain": [
       "shape: (5, 2)\n",
       "┌───────────────┬──────────────┐\n",
       "│ only_integers ┆ only_strings │\n",
       "│ ---           ┆ ---          │\n",
       "│ i16           ┆ str          │\n",
       "╞═══════════════╪══════════════╡\n",
       "│ 1             ┆ jedna        │\n",
       "│ 2             ┆ dva          │\n",
       "│ 3             ┆ tři          │\n",
       "│ 4             ┆ čtyři        │\n",
       "│ 155           ┆ pět          │\n",
       "└───────────────┴──────────────┘"
      ]
     },
     "execution_count": 19,
     "metadata": {},
     "output_type": "execute_result"
    }
   ],
   "source": [
    "filled_dataframe.select(pl.col(\"only_integers\", \"only_strings\"))"
   ]
  },
  {
   "cell_type": "markdown",
   "id": "4df256a0-97e7-4ec7-9a4e-301d9598f522",
   "metadata": {},
   "source": [
    "Kdyby to bylo z nějakého důvodu potřeba, tak aplikací hvězdičky přikážeme zobrazit všechny sloupce:"
   ]
  },
  {
   "cell_type": "code",
   "execution_count": 20,
   "id": "86fd4fa3-056e-491d-b70a-7d5407cc2dc8",
   "metadata": {},
   "outputs": [
    {
     "data": {
      "text/html": [
       "<div><style>\n",
       ".dataframe > thead > tr,\n",
       ".dataframe > tbody > tr {\n",
       "  text-align: right;\n",
       "  white-space: pre-wrap;\n",
       "}\n",
       "</style>\n",
       "<small>shape: (5, 3)</small><table border=\"1\" class=\"dataframe\"><thead><tr><th>only_integers</th><th>only_strings</th><th>everything_possible</th></tr><tr><td>i16</td><td>str</td><td>object</td></tr></thead><tbody><tr><td>1</td><td>&quot;jedna&quot;</td><td>1</td></tr><tr><td>2</td><td>&quot;dva&quot;</td><td>2</td></tr><tr><td>3</td><td>&quot;tři&quot;</td><td>hodně</td></tr><tr><td>4</td><td>&quot;čtyři&quot;</td><td>málo</td></tr><tr><td>155</td><td>&quot;pět&quot;</td><td>1.23</td></tr></tbody></table></div>"
      ],
      "text/plain": [
       "shape: (5, 3)\n",
       "┌───────────────┬──────────────┬─────────────────────┐\n",
       "│ only_integers ┆ only_strings ┆ everything_possible │\n",
       "│ ---           ┆ ---          ┆ ---                 │\n",
       "│ i16           ┆ str          ┆ object              │\n",
       "╞═══════════════╪══════════════╪═════════════════════╡\n",
       "│ 1             ┆ jedna        ┆ 1                   │\n",
       "│ 2             ┆ dva          ┆ 2                   │\n",
       "│ 3             ┆ tři          ┆ hodně               │\n",
       "│ 4             ┆ čtyři        ┆ málo                │\n",
       "│ 155           ┆ pět          ┆ 1.23                │\n",
       "└───────────────┴──────────────┴─────────────────────┘"
      ]
     },
     "execution_count": 20,
     "metadata": {},
     "output_type": "execute_result"
    }
   ],
   "source": [
    "filled_dataframe.select(pl.col(\"*\"))"
   ]
  },
  {
   "cell_type": "markdown",
   "id": "39e8b95c-558d-4d2a-b3af-cd689f62b840",
   "metadata": {},
   "source": [
    "Přidávání nových sloupců skrz index, tj. operace\n",
    "```\n",
    "filled_dataframe[\"new_col_with_1\"] = 1\n",
    "```\n",
    "už povolená není - člověk obdrží chybu\n",
    "```\n",
    "TypeError: DataFrame object does not support `Series` assignment by index\n",
    "```\n",
    "Musíme tak použít *with_columns* metodu. "
   ]
  },
  {
   "cell_type": "code",
   "execution_count": 21,
   "id": "950a19a5-e14a-4f29-aa96-de4bc41f855b",
   "metadata": {},
   "outputs": [
    {
     "data": {
      "text/html": [
       "<div><style>\n",
       ".dataframe > thead > tr,\n",
       ".dataframe > tbody > tr {\n",
       "  text-align: right;\n",
       "  white-space: pre-wrap;\n",
       "}\n",
       "</style>\n",
       "<small>shape: (5, 4)</small><table border=\"1\" class=\"dataframe\"><thead><tr><th>only_integers</th><th>only_strings</th><th>everything_possible</th><th>literal</th></tr><tr><td>i16</td><td>str</td><td>object</td><td>i32</td></tr></thead><tbody><tr><td>1</td><td>&quot;jedna&quot;</td><td>1</td><td>1</td></tr><tr><td>2</td><td>&quot;dva&quot;</td><td>2</td><td>1</td></tr><tr><td>3</td><td>&quot;tři&quot;</td><td>hodně</td><td>1</td></tr><tr><td>4</td><td>&quot;čtyři&quot;</td><td>málo</td><td>1</td></tr><tr><td>155</td><td>&quot;pět&quot;</td><td>1.23</td><td>1</td></tr></tbody></table></div>"
      ],
      "text/plain": [
       "shape: (5, 4)\n",
       "┌───────────────┬──────────────┬─────────────────────┬─────────┐\n",
       "│ only_integers ┆ only_strings ┆ everything_possible ┆ literal │\n",
       "│ ---           ┆ ---          ┆ ---                 ┆ ---     │\n",
       "│ i16           ┆ str          ┆ object              ┆ i32     │\n",
       "╞═══════════════╪══════════════╪═════════════════════╪═════════╡\n",
       "│ 1             ┆ jedna        ┆ 1                   ┆ 1       │\n",
       "│ 2             ┆ dva          ┆ 2                   ┆ 1       │\n",
       "│ 3             ┆ tři          ┆ hodně               ┆ 1       │\n",
       "│ 4             ┆ čtyři        ┆ málo                ┆ 1       │\n",
       "│ 155           ┆ pět          ┆ 1.23                ┆ 1       │\n",
       "└───────────────┴──────────────┴─────────────────────┴─────────┘"
      ]
     },
     "execution_count": 21,
     "metadata": {},
     "output_type": "execute_result"
    }
   ],
   "source": [
    "filled_dataframe = filled_dataframe.with_columns(\n",
    "    1\n",
    ")\n",
    "filled_dataframe"
   ]
  },
  {
   "cell_type": "markdown",
   "id": "d3512c26-fa60-41b4-98c4-f0f73fcafc93",
   "metadata": {},
   "source": [
    "No, asi bychom rádi sloupci dali nějaké rozumné jméno. To provedeme skrze metodu *alias*. Jenže ta pro integer neexistuje. Proto musíme jedničku obalit do *pl.lit*. "
   ]
  },
  {
   "cell_type": "code",
   "execution_count": 22,
   "id": "4d0301e7-6aaf-4d69-ae4b-a5192906037a",
   "metadata": {},
   "outputs": [
    {
     "data": {
      "text/html": [
       "<div><style>\n",
       ".dataframe > thead > tr,\n",
       ".dataframe > tbody > tr {\n",
       "  text-align: right;\n",
       "  white-space: pre-wrap;\n",
       "}\n",
       "</style>\n",
       "<small>shape: (5, 5)</small><table border=\"1\" class=\"dataframe\"><thead><tr><th>only_integers</th><th>only_strings</th><th>everything_possible</th><th>literal</th><th>new_col_with_1</th></tr><tr><td>i16</td><td>str</td><td>object</td><td>i32</td><td>i32</td></tr></thead><tbody><tr><td>1</td><td>&quot;jedna&quot;</td><td>1</td><td>1</td><td>1</td></tr><tr><td>2</td><td>&quot;dva&quot;</td><td>2</td><td>1</td><td>1</td></tr><tr><td>3</td><td>&quot;tři&quot;</td><td>hodně</td><td>1</td><td>1</td></tr><tr><td>4</td><td>&quot;čtyři&quot;</td><td>málo</td><td>1</td><td>1</td></tr><tr><td>155</td><td>&quot;pět&quot;</td><td>1.23</td><td>1</td><td>1</td></tr></tbody></table></div>"
      ],
      "text/plain": [
       "shape: (5, 5)\n",
       "┌───────────────┬──────────────┬─────────────────────┬─────────┬────────────────┐\n",
       "│ only_integers ┆ only_strings ┆ everything_possible ┆ literal ┆ new_col_with_1 │\n",
       "│ ---           ┆ ---          ┆ ---                 ┆ ---     ┆ ---            │\n",
       "│ i16           ┆ str          ┆ object              ┆ i32     ┆ i32            │\n",
       "╞═══════════════╪══════════════╪═════════════════════╪═════════╪════════════════╡\n",
       "│ 1             ┆ jedna        ┆ 1                   ┆ 1       ┆ 1              │\n",
       "│ 2             ┆ dva          ┆ 2                   ┆ 1       ┆ 1              │\n",
       "│ 3             ┆ tři          ┆ hodně               ┆ 1       ┆ 1              │\n",
       "│ 4             ┆ čtyři        ┆ málo                ┆ 1       ┆ 1              │\n",
       "│ 155           ┆ pět          ┆ 1.23                ┆ 1       ┆ 1              │\n",
       "└───────────────┴──────────────┴─────────────────────┴─────────┴────────────────┘"
      ]
     },
     "execution_count": 22,
     "metadata": {},
     "output_type": "execute_result"
    }
   ],
   "source": [
    "filled_dataframe = filled_dataframe.with_columns(\n",
    "    pl.lit(1).alias(\"new_col_with_1\")\n",
    ")\n",
    "filled_dataframe"
   ]
  },
  {
   "cell_type": "markdown",
   "id": "facf88e9-e31d-49a1-83e4-ed32892a7182",
   "metadata": {},
   "source": [
    "Vytvoření nových sloupců s pomocí sloupců původních vypadá podobně (bacha - pokud bychom u jména sloupce \"only_strings\" zapomenuli na uvozovky, pochopí to polars jako svého druhu list s chtěnými sloupci a pak spadne na to, že hned prnví hodota - řetězec \"jedna\" - žádný sloupec neoznačuje):"
   ]
  },
  {
   "cell_type": "code",
   "execution_count": 23,
   "id": "d1117dea-5ae1-4431-a676-694ed0203e37",
   "metadata": {},
   "outputs": [
    {
     "data": {
      "text/html": [
       "<div><style>\n",
       ".dataframe > thead > tr,\n",
       ".dataframe > tbody > tr {\n",
       "  text-align: right;\n",
       "  white-space: pre-wrap;\n",
       "}\n",
       "</style>\n",
       "<small>shape: (5, 6)</small><table border=\"1\" class=\"dataframe\"><thead><tr><th>only_integers</th><th>only_strings</th><th>everything_possible</th><th>literal</th><th>new_col_with_1</th><th>double_string</th></tr><tr><td>i16</td><td>str</td><td>object</td><td>i32</td><td>i32</td><td>str</td></tr></thead><tbody><tr><td>1</td><td>&quot;jedna&quot;</td><td>1</td><td>1</td><td>1</td><td>&quot;jedna jedna&quot;</td></tr><tr><td>2</td><td>&quot;dva&quot;</td><td>2</td><td>1</td><td>1</td><td>&quot;dva dva&quot;</td></tr><tr><td>3</td><td>&quot;tři&quot;</td><td>hodně</td><td>1</td><td>1</td><td>&quot;tři tři&quot;</td></tr><tr><td>4</td><td>&quot;čtyři&quot;</td><td>málo</td><td>1</td><td>1</td><td>&quot;čtyři čtyři&quot;</td></tr><tr><td>155</td><td>&quot;pět&quot;</td><td>1.23</td><td>1</td><td>1</td><td>&quot;pět pět&quot;</td></tr></tbody></table></div>"
      ],
      "text/plain": [
       "shape: (5, 6)\n",
       "┌───────────────┬──────────────┬─────────────────────┬─────────┬────────────────┬───────────────┐\n",
       "│ only_integers ┆ only_strings ┆ everything_possible ┆ literal ┆ new_col_with_1 ┆ double_string │\n",
       "│ ---           ┆ ---          ┆ ---                 ┆ ---     ┆ ---            ┆ ---           │\n",
       "│ i16           ┆ str          ┆ object              ┆ i32     ┆ i32            ┆ str           │\n",
       "╞═══════════════╪══════════════╪═════════════════════╪═════════╪════════════════╪═══════════════╡\n",
       "│ 1             ┆ jedna        ┆ 1                   ┆ 1       ┆ 1              ┆ jedna jedna   │\n",
       "│ 2             ┆ dva          ┆ 2                   ┆ 1       ┆ 1              ┆ dva dva       │\n",
       "│ 3             ┆ tři          ┆ hodně               ┆ 1       ┆ 1              ┆ tři tři       │\n",
       "│ 4             ┆ čtyři        ┆ málo                ┆ 1       ┆ 1              ┆ čtyři čtyři   │\n",
       "│ 155           ┆ pět          ┆ 1.23                ┆ 1       ┆ 1              ┆ pět pět       │\n",
       "└───────────────┴──────────────┴─────────────────────┴─────────┴────────────────┴───────────────┘"
      ]
     },
     "execution_count": 23,
     "metadata": {},
     "output_type": "execute_result"
    }
   ],
   "source": [
    "filled_dataframe = filled_dataframe.with_columns(\n",
    "    (pl.col(\"only_strings\") + \" \" + pl.col(\"only_strings\")).alias(\"double_string\")\n",
    ")\n",
    "filled_dataframe"
   ]
  },
  {
   "cell_type": "markdown",
   "id": "de211957-e7f9-48ff-b06f-8a42868bf62e",
   "metadata": {},
   "source": [
    "Přeuspořádání sloupců realizujeme selectem:"
   ]
  },
  {
   "cell_type": "code",
   "execution_count": 24,
   "id": "fb156c73-6a21-42c4-80bf-1708dc6df495",
   "metadata": {},
   "outputs": [
    {
     "data": {
      "text/html": [
       "<div><style>\n",
       ".dataframe > thead > tr,\n",
       ".dataframe > tbody > tr {\n",
       "  text-align: right;\n",
       "  white-space: pre-wrap;\n",
       "}\n",
       "</style>\n",
       "<small>shape: (5, 6)</small><table border=\"1\" class=\"dataframe\"><thead><tr><th>literal</th><th>new_col_with_1</th><th>double_string</th><th>only_integers</th><th>only_strings</th><th>everything_possible</th></tr><tr><td>i32</td><td>i32</td><td>str</td><td>i16</td><td>str</td><td>object</td></tr></thead><tbody><tr><td>1</td><td>1</td><td>&quot;jedna jedna&quot;</td><td>1</td><td>&quot;jedna&quot;</td><td>1</td></tr><tr><td>1</td><td>1</td><td>&quot;dva dva&quot;</td><td>2</td><td>&quot;dva&quot;</td><td>2</td></tr><tr><td>1</td><td>1</td><td>&quot;tři tři&quot;</td><td>3</td><td>&quot;tři&quot;</td><td>hodně</td></tr><tr><td>1</td><td>1</td><td>&quot;čtyři čtyři&quot;</td><td>4</td><td>&quot;čtyři&quot;</td><td>málo</td></tr><tr><td>1</td><td>1</td><td>&quot;pět pět&quot;</td><td>155</td><td>&quot;pět&quot;</td><td>1.23</td></tr></tbody></table></div>"
      ],
      "text/plain": [
       "shape: (5, 6)\n",
       "┌─────────┬────────────────┬───────────────┬───────────────┬──────────────┬─────────────────────┐\n",
       "│ literal ┆ new_col_with_1 ┆ double_string ┆ only_integers ┆ only_strings ┆ everything_possible │\n",
       "│ ---     ┆ ---            ┆ ---           ┆ ---           ┆ ---          ┆ ---                 │\n",
       "│ i32     ┆ i32            ┆ str           ┆ i16           ┆ str          ┆ object              │\n",
       "╞═════════╪════════════════╪═══════════════╪═══════════════╪══════════════╪═════════════════════╡\n",
       "│ 1       ┆ 1              ┆ jedna jedna   ┆ 1             ┆ jedna        ┆ 1                   │\n",
       "│ 1       ┆ 1              ┆ dva dva       ┆ 2             ┆ dva          ┆ 2                   │\n",
       "│ 1       ┆ 1              ┆ tři tři       ┆ 3             ┆ tři          ┆ hodně               │\n",
       "│ 1       ┆ 1              ┆ čtyři čtyři   ┆ 4             ┆ čtyři        ┆ málo                │\n",
       "│ 1       ┆ 1              ┆ pět pět       ┆ 155           ┆ pět          ┆ 1.23                │\n",
       "└─────────┴────────────────┴───────────────┴───────────────┴──────────────┴─────────────────────┘"
      ]
     },
     "execution_count": 24,
     "metadata": {},
     "output_type": "execute_result"
    }
   ],
   "source": [
    "filled_dataframe.select([\"literal\", \"new_col_with_1\", \"double_string\", \"only_integers\", \"only_strings\", \"everything_possible\"])"
   ]
  },
  {
   "cell_type": "markdown",
   "id": "a4548446-cc51-4535-b3e7-279c1eda4566",
   "metadata": {},
   "source": [
    "Sloupců se zbavíme s pomocí metody *drop*:"
   ]
  },
  {
   "cell_type": "code",
   "execution_count": 25,
   "id": "19de63ab-1b2c-4f25-a1cf-26336f11d356",
   "metadata": {},
   "outputs": [
    {
     "data": {
      "text/html": [
       "<div><style>\n",
       ".dataframe > thead > tr,\n",
       ".dataframe > tbody > tr {\n",
       "  text-align: right;\n",
       "  white-space: pre-wrap;\n",
       "}\n",
       "</style>\n",
       "<small>shape: (5, 3)</small><table border=\"1\" class=\"dataframe\"><thead><tr><th>only_integers</th><th>only_strings</th><th>everything_possible</th></tr><tr><td>i16</td><td>str</td><td>object</td></tr></thead><tbody><tr><td>1</td><td>&quot;jedna&quot;</td><td>1</td></tr><tr><td>2</td><td>&quot;dva&quot;</td><td>2</td></tr><tr><td>3</td><td>&quot;tři&quot;</td><td>hodně</td></tr><tr><td>4</td><td>&quot;čtyři&quot;</td><td>málo</td></tr><tr><td>155</td><td>&quot;pět&quot;</td><td>1.23</td></tr></tbody></table></div>"
      ],
      "text/plain": [
       "shape: (5, 3)\n",
       "┌───────────────┬──────────────┬─────────────────────┐\n",
       "│ only_integers ┆ only_strings ┆ everything_possible │\n",
       "│ ---           ┆ ---          ┆ ---                 │\n",
       "│ i16           ┆ str          ┆ object              │\n",
       "╞═══════════════╪══════════════╪═════════════════════╡\n",
       "│ 1             ┆ jedna        ┆ 1                   │\n",
       "│ 2             ┆ dva          ┆ 2                   │\n",
       "│ 3             ┆ tři          ┆ hodně               │\n",
       "│ 4             ┆ čtyři        ┆ málo                │\n",
       "│ 155           ┆ pět          ┆ 1.23                │\n",
       "└───────────────┴──────────────┴─────────────────────┘"
      ]
     },
     "execution_count": 25,
     "metadata": {},
     "output_type": "execute_result"
    }
   ],
   "source": [
    "filled_dataframe = filled_dataframe.drop([\"literal\", \"new_col_with_1\", \"double_string\"])\n",
    "filled_dataframe"
   ]
  },
  {
   "cell_type": "markdown",
   "id": "36ccac1f-4ce4-4041-8c42-065e79235472",
   "metadata": {},
   "source": [
    "Nakonec pokud bychom k něčemu potřebovali list jmen sloupců dataframe, přijde nám vhod atribut dataframu *columns*."
   ]
  },
  {
   "cell_type": "code",
   "execution_count": 26,
   "id": "69621110-49b2-4095-bc27-6d3fa40bef25",
   "metadata": {},
   "outputs": [
    {
     "data": {
      "text/plain": [
       "['only_integers', 'only_strings', 'everything_possible']"
      ]
     },
     "execution_count": 26,
     "metadata": {},
     "output_type": "execute_result"
    }
   ],
   "source": [
    "filled_dataframe.columns"
   ]
  },
  {
   "cell_type": "markdown",
   "id": "edebf777-93ab-4184-a193-8485aee785db",
   "metadata": {},
   "source": [
    "## Manipulace s řádky dataframu"
   ]
  },
  {
   "cell_type": "markdown",
   "id": "59eb770e-0221-4933-a757-e489f6c6c7cd",
   "metadata": {},
   "source": [
    "Pro získání řádky dataframu nepoužijeme (i)loc, nýbrž napřímo index. Zdá se, že nic jako pojmonované idnexy v Polarsu neexistují."
   ]
  },
  {
   "cell_type": "code",
   "execution_count": 27,
   "id": "0b5f734b-d859-422d-8b71-053ada213707",
   "metadata": {},
   "outputs": [
    {
     "data": {
      "text/html": [
       "<div><style>\n",
       ".dataframe > thead > tr,\n",
       ".dataframe > tbody > tr {\n",
       "  text-align: right;\n",
       "  white-space: pre-wrap;\n",
       "}\n",
       "</style>\n",
       "<small>shape: (1, 3)</small><table border=\"1\" class=\"dataframe\"><thead><tr><th>only_integers</th><th>only_strings</th><th>everything_possible</th></tr><tr><td>i16</td><td>str</td><td>object</td></tr></thead><tbody><tr><td>2</td><td>&quot;dva&quot;</td><td>2</td></tr></tbody></table></div>"
      ],
      "text/plain": [
       "shape: (1, 3)\n",
       "┌───────────────┬──────────────┬─────────────────────┐\n",
       "│ only_integers ┆ only_strings ┆ everything_possible │\n",
       "│ ---           ┆ ---          ┆ ---                 │\n",
       "│ i16           ┆ str          ┆ object              │\n",
       "╞═══════════════╪══════════════╪═════════════════════╡\n",
       "│ 2             ┆ dva          ┆ 2                   │\n",
       "└───────────────┴──────────────┴─────────────────────┘"
      ]
     },
     "execution_count": 27,
     "metadata": {},
     "output_type": "execute_result"
    }
   ],
   "source": [
    "filled_dataframe[1]"
   ]
  },
  {
   "cell_type": "markdown",
   "id": "922d95c9-1585-46f9-b4e3-c218e7c113fe",
   "metadata": {},
   "source": [
    "Pokud se pokusíme použít příliš velký (neexistující) index, nedostaneme chybu, nýbrž prázdný výsledek:"
   ]
  },
  {
   "cell_type": "code",
   "execution_count": 28,
   "id": "c6e87064-41e4-46fc-a68b-48623803eb77",
   "metadata": {},
   "outputs": [
    {
     "data": {
      "text/html": [
       "<div><style>\n",
       ".dataframe > thead > tr,\n",
       ".dataframe > tbody > tr {\n",
       "  text-align: right;\n",
       "  white-space: pre-wrap;\n",
       "}\n",
       "</style>\n",
       "<small>shape: (0, 3)</small><table border=\"1\" class=\"dataframe\"><thead><tr><th>only_integers</th><th>only_strings</th><th>everything_possible</th></tr><tr><td>i16</td><td>str</td><td>object</td></tr></thead><tbody></tbody></table></div>"
      ],
      "text/plain": [
       "shape: (0, 3)\n",
       "┌───────────────┬──────────────┬─────────────────────┐\n",
       "│ only_integers ┆ only_strings ┆ everything_possible │\n",
       "│ ---           ┆ ---          ┆ ---                 │\n",
       "│ i16           ┆ str          ┆ object              │\n",
       "╞═══════════════╪══════════════╪═════════════════════╡\n",
       "└───────────────┴──────────────┴─────────────────────┘"
      ]
     },
     "execution_count": 28,
     "metadata": {},
     "output_type": "execute_result"
    }
   ],
   "source": [
    "filled_dataframe[100]"
   ]
  },
  {
   "cell_type": "markdown",
   "id": "770c4ae2-1559-4ac7-918f-4f2a2c2a7663",
   "metadata": {},
   "source": [
    "Zdá se, že explicitní vyhození řádku v Polars neexistuje. Bude se tudíž muset použít filtrování. To realizujeme s pomocí metody filter, do které umístíme podmínku.  "
   ]
  },
  {
   "cell_type": "code",
   "execution_count": 29,
   "id": "a9116ccb-624d-48a8-8d6b-ba1d486faae9",
   "metadata": {},
   "outputs": [
    {
     "data": {
      "text/html": [
       "<div><style>\n",
       ".dataframe > thead > tr,\n",
       ".dataframe > tbody > tr {\n",
       "  text-align: right;\n",
       "  white-space: pre-wrap;\n",
       "}\n",
       "</style>\n",
       "<small>shape: (1, 3)</small><table border=\"1\" class=\"dataframe\"><thead><tr><th>only_integers</th><th>only_strings</th><th>everything_possible</th></tr><tr><td>i16</td><td>str</td><td>object</td></tr></thead><tbody><tr><td>2</td><td>&quot;dva&quot;</td><td>2</td></tr></tbody></table></div>"
      ],
      "text/plain": [
       "shape: (1, 3)\n",
       "┌───────────────┬──────────────┬─────────────────────┐\n",
       "│ only_integers ┆ only_strings ┆ everything_possible │\n",
       "│ ---           ┆ ---          ┆ ---                 │\n",
       "│ i16           ┆ str          ┆ object              │\n",
       "╞═══════════════╪══════════════╪═════════════════════╡\n",
       "│ 2             ┆ dva          ┆ 2                   │\n",
       "└───────────────┴──────────────┴─────────────────────┘"
      ]
     },
     "execution_count": 29,
     "metadata": {},
     "output_type": "execute_result"
    }
   ],
   "source": [
    "filled_dataframe.filter(\n",
    "    pl.col(\"only_strings\") == \"dva\"\n",
    ")"
   ]
  },
  {
   "cell_type": "markdown",
   "id": "4c586773-4404-4cb0-a373-daa42e8aabff",
   "metadata": {},
   "source": [
    "Concatování funguje dle očekávání s použítím funkce *concat*, která přebírá list dataframů. "
   ]
  },
  {
   "cell_type": "code",
   "execution_count": 30,
   "id": "361fdf1d-eeb2-4b80-82e9-0d655efcd390",
   "metadata": {},
   "outputs": [
    {
     "data": {
      "text/html": [
       "<div><style>\n",
       ".dataframe > thead > tr,\n",
       ".dataframe > tbody > tr {\n",
       "  text-align: right;\n",
       "  white-space: pre-wrap;\n",
       "}\n",
       "</style>\n",
       "<small>shape: (10, 3)</small><table border=\"1\" class=\"dataframe\"><thead><tr><th>only_integers</th><th>only_strings</th><th>everything_possible</th></tr><tr><td>i16</td><td>str</td><td>object</td></tr></thead><tbody><tr><td>1</td><td>&quot;jedna&quot;</td><td>1</td></tr><tr><td>2</td><td>&quot;dva&quot;</td><td>2</td></tr><tr><td>3</td><td>&quot;tři&quot;</td><td>hodně</td></tr><tr><td>4</td><td>&quot;čtyři&quot;</td><td>málo</td></tr><tr><td>155</td><td>&quot;pět&quot;</td><td>1.23</td></tr><tr><td>1</td><td>&quot;jedna&quot;</td><td>1</td></tr><tr><td>2</td><td>&quot;dva&quot;</td><td>2</td></tr><tr><td>3</td><td>&quot;tři&quot;</td><td>hodně</td></tr><tr><td>4</td><td>&quot;čtyři&quot;</td><td>málo</td></tr><tr><td>155</td><td>&quot;pět&quot;</td><td>1.23</td></tr></tbody></table></div>"
      ],
      "text/plain": [
       "shape: (10, 3)\n",
       "┌───────────────┬──────────────┬─────────────────────┐\n",
       "│ only_integers ┆ only_strings ┆ everything_possible │\n",
       "│ ---           ┆ ---          ┆ ---                 │\n",
       "│ i16           ┆ str          ┆ object              │\n",
       "╞═══════════════╪══════════════╪═════════════════════╡\n",
       "│ 1             ┆ jedna        ┆ 1                   │\n",
       "│ 2             ┆ dva          ┆ 2                   │\n",
       "│ 3             ┆ tři          ┆ hodně               │\n",
       "│ 4             ┆ čtyři        ┆ málo                │\n",
       "│ 155           ┆ pět          ┆ 1.23                │\n",
       "│ 1             ┆ jedna        ┆ 1                   │\n",
       "│ 2             ┆ dva          ┆ 2                   │\n",
       "│ 3             ┆ tři          ┆ hodně               │\n",
       "│ 4             ┆ čtyři        ┆ málo                │\n",
       "│ 155           ┆ pět          ┆ 1.23                │\n",
       "└───────────────┴──────────────┴─────────────────────┘"
      ]
     },
     "execution_count": 30,
     "metadata": {},
     "output_type": "execute_result"
    }
   ],
   "source": [
    "pl.concat([filled_dataframe, filled_dataframe])"
   ]
  },
  {
   "cell_type": "markdown",
   "id": "fff570f1-ae15-4f9f-937e-09b7c69073cf",
   "metadata": {},
   "source": [
    "Nicméně mám podezření, že více podporovaná bude metoda *vstack*."
   ]
  },
  {
   "cell_type": "code",
   "execution_count": 31,
   "id": "c119401a-54a5-4a75-90f2-bebea51652fb",
   "metadata": {},
   "outputs": [
    {
     "data": {
      "text/html": [
       "<div><style>\n",
       ".dataframe > thead > tr,\n",
       ".dataframe > tbody > tr {\n",
       "  text-align: right;\n",
       "  white-space: pre-wrap;\n",
       "}\n",
       "</style>\n",
       "<small>shape: (10, 3)</small><table border=\"1\" class=\"dataframe\"><thead><tr><th>only_integers</th><th>only_strings</th><th>everything_possible</th></tr><tr><td>i16</td><td>str</td><td>object</td></tr></thead><tbody><tr><td>1</td><td>&quot;jedna&quot;</td><td>1</td></tr><tr><td>2</td><td>&quot;dva&quot;</td><td>2</td></tr><tr><td>3</td><td>&quot;tři&quot;</td><td>hodně</td></tr><tr><td>4</td><td>&quot;čtyři&quot;</td><td>málo</td></tr><tr><td>155</td><td>&quot;pět&quot;</td><td>1.23</td></tr><tr><td>1</td><td>&quot;jedna&quot;</td><td>1</td></tr><tr><td>2</td><td>&quot;dva&quot;</td><td>2</td></tr><tr><td>3</td><td>&quot;tři&quot;</td><td>hodně</td></tr><tr><td>4</td><td>&quot;čtyři&quot;</td><td>málo</td></tr><tr><td>155</td><td>&quot;pět&quot;</td><td>1.23</td></tr></tbody></table></div>"
      ],
      "text/plain": [
       "shape: (10, 3)\n",
       "┌───────────────┬──────────────┬─────────────────────┐\n",
       "│ only_integers ┆ only_strings ┆ everything_possible │\n",
       "│ ---           ┆ ---          ┆ ---                 │\n",
       "│ i16           ┆ str          ┆ object              │\n",
       "╞═══════════════╪══════════════╪═════════════════════╡\n",
       "│ 1             ┆ jedna        ┆ 1                   │\n",
       "│ 2             ┆ dva          ┆ 2                   │\n",
       "│ 3             ┆ tři          ┆ hodně               │\n",
       "│ 4             ┆ čtyři        ┆ málo                │\n",
       "│ 155           ┆ pět          ┆ 1.23                │\n",
       "│ 1             ┆ jedna        ┆ 1                   │\n",
       "│ 2             ┆ dva          ┆ 2                   │\n",
       "│ 3             ┆ tři          ┆ hodně               │\n",
       "│ 4             ┆ čtyři        ┆ málo                │\n",
       "│ 155           ┆ pět          ┆ 1.23                │\n",
       "└───────────────┴──────────────┴─────────────────────┘"
      ]
     },
     "execution_count": 31,
     "metadata": {},
     "output_type": "execute_result"
    }
   ],
   "source": [
    "filled_dataframe.vstack(filled_dataframe)"
   ]
  },
  {
   "cell_type": "markdown",
   "id": "360bbd2b-34e6-4270-ac8d-726413dda05a",
   "metadata": {},
   "source": [
    "Zdá se, že metoda apply v Polars existovala jen [ve starých verzích](https://docs.pola.rs/api/python/version/0.18/reference/dataframe/api/polars.DataFrame.apply.html) - v dokumentaci pro nové verze už k nalezení není a ukázkový příklad nefunguje."
   ]
  },
  {
   "cell_type": "markdown",
   "id": "e1009b18-afb1-4c2b-8b4a-a8cdb90b3ba2",
   "metadata": {},
   "source": [
    "Pro změnu jedné buňky dataframu lze použít následující postup. Ten nicméně podle [diskuse na Githubu](https://github.com/pola-rs/polars/issues/5973) není efektivní."
   ]
  },
  {
   "cell_type": "code",
   "execution_count": 32,
   "id": "7a15a5cc-0db0-41ec-9afa-25452317c454",
   "metadata": {},
   "outputs": [
    {
     "data": {
      "text/html": [
       "<div><style>\n",
       ".dataframe > thead > tr,\n",
       ".dataframe > tbody > tr {\n",
       "  text-align: right;\n",
       "  white-space: pre-wrap;\n",
       "}\n",
       "</style>\n",
       "<small>shape: (5, 3)</small><table border=\"1\" class=\"dataframe\"><thead><tr><th>only_integers</th><th>only_strings</th><th>everything_possible</th></tr><tr><td>i16</td><td>str</td><td>object</td></tr></thead><tbody><tr><td>1</td><td>&quot;jedna&quot;</td><td>1</td></tr><tr><td>2</td><td>&quot;dva&quot;</td><td>2</td></tr><tr><td>3</td><td>&quot;tři&quot;</td><td>hodně</td></tr><tr><td>400</td><td>&quot;čtyři&quot;</td><td>málo</td></tr><tr><td>155</td><td>&quot;pět&quot;</td><td>1.23</td></tr></tbody></table></div>"
      ],
      "text/plain": [
       "shape: (5, 3)\n",
       "┌───────────────┬──────────────┬─────────────────────┐\n",
       "│ only_integers ┆ only_strings ┆ everything_possible │\n",
       "│ ---           ┆ ---          ┆ ---                 │\n",
       "│ i16           ┆ str          ┆ object              │\n",
       "╞═══════════════╪══════════════╪═════════════════════╡\n",
       "│ 1             ┆ jedna        ┆ 1                   │\n",
       "│ 2             ┆ dva          ┆ 2                   │\n",
       "│ 3             ┆ tři          ┆ hodně               │\n",
       "│ 400           ┆ čtyři        ┆ málo                │\n",
       "│ 155           ┆ pět          ┆ 1.23                │\n",
       "└───────────────┴──────────────┴─────────────────────┘"
      ]
     },
     "execution_count": 32,
     "metadata": {},
     "output_type": "execute_result"
    }
   ],
   "source": [
    "filled_dataframe[3, \"only_integers\"] = 400\n",
    "filled_dataframe"
   ]
  },
  {
   "cell_type": "markdown",
   "id": "8380dccc-3794-43a4-8318-1110052d434a",
   "metadata": {},
   "source": [
    "## SQL-like dotazy v Polarsu"
   ]
  },
  {
   "cell_type": "markdown",
   "id": "c3ae7519-3c21-409b-84c4-efa68de6702d",
   "metadata": {},
   "source": [
    "Napřed si připravme tabulky:"
   ]
  },
  {
   "cell_type": "code",
   "execution_count": 33,
   "id": "a41766a0-d599-45b9-a42c-a81e5de3ffc9",
   "metadata": {},
   "outputs": [
    {
     "data": {
      "text/html": [
       "<div><style>\n",
       ".dataframe > thead > tr,\n",
       ".dataframe > tbody > tr {\n",
       "  text-align: right;\n",
       "  white-space: pre-wrap;\n",
       "}\n",
       "</style>\n",
       "<small>shape: (5, 5)</small><table border=\"1\" class=\"dataframe\"><thead><tr><th>id</th><th>krestni_jmeno</th><th>prijmeni</th><th>vek</th><th>pohlavi</th></tr><tr><td>i64</td><td>str</td><td>str</td><td>i64</td><td>str</td></tr></thead><tbody><tr><td>100</td><td>&quot;Victor&quot;</td><td>&quot;Hugo&quot;</td><td>25</td><td>&quot;M&quot;</td></tr><tr><td>200</td><td>&quot;Mary&quot;</td><td>&quot;Shelly&quot;</td><td>30</td><td>&quot;F&quot;</td></tr><tr><td>300</td><td>&quot;Johann&quot;</td><td>&quot;Geothe&quot;</td><td>75</td><td>&quot;M&quot;</td></tr><tr><td>400</td><td>&quot;Albert&quot;</td><td>&quot;Camus&quot;</td><td>null</td><td>&quot;M&quot;</td></tr><tr><td>500</td><td>&quot;William&quot;</td><td>&quot;Shakespear&quot;</td><td>38</td><td>&quot;M&quot;</td></tr></tbody></table></div>"
      ],
      "text/plain": [
       "shape: (5, 5)\n",
       "┌─────┬───────────────┬────────────┬──────┬─────────┐\n",
       "│ id  ┆ krestni_jmeno ┆ prijmeni   ┆ vek  ┆ pohlavi │\n",
       "│ --- ┆ ---           ┆ ---        ┆ ---  ┆ ---     │\n",
       "│ i64 ┆ str           ┆ str        ┆ i64  ┆ str     │\n",
       "╞═════╪═══════════════╪════════════╪══════╪═════════╡\n",
       "│ 100 ┆ Victor        ┆ Hugo       ┆ 25   ┆ M       │\n",
       "│ 200 ┆ Mary          ┆ Shelly     ┆ 30   ┆ F       │\n",
       "│ 300 ┆ Johann        ┆ Geothe     ┆ 75   ┆ M       │\n",
       "│ 400 ┆ Albert        ┆ Camus      ┆ null ┆ M       │\n",
       "│ 500 ┆ William       ┆ Shakespear ┆ 38   ┆ M       │\n",
       "└─────┴───────────────┴────────────┴──────┴─────────┘"
      ]
     },
     "execution_count": 33,
     "metadata": {},
     "output_type": "execute_result"
    }
   ],
   "source": [
    "osoby = pl.DataFrame({\n",
    "    \"id\" : [100,200,300,400,500],\n",
    "    \"krestni_jmeno\" : [\"Victor\", \"Mary\", \"Johann\", \"Albert\", \"William\"],\n",
    "    \"prijmeni\" : [\"Hugo\", \"Shelly\", \"Geothe\", \"Camus\", \"Shakespear\"],\n",
    "    \"vek\" : [25,30,75,None,38],\n",
    "    \"pohlavi\" : [\"M\", \"F\", \"M\", \"M\", \"M\"]\n",
    "})\n",
    "osoby"
   ]
  },
  {
   "cell_type": "code",
   "execution_count": 34,
   "id": "e6cc625e-784e-46a4-a5d2-1d1d76046655",
   "metadata": {},
   "outputs": [
    {
     "data": {
      "text/html": [
       "<div><style>\n",
       ".dataframe > thead > tr,\n",
       ".dataframe > tbody > tr {\n",
       "  text-align: right;\n",
       "  white-space: pre-wrap;\n",
       "}\n",
       "</style>\n",
       "<small>shape: (4, 2)</small><table border=\"1\" class=\"dataframe\"><thead><tr><th>id</th><th>pocet_knih</th></tr><tr><td>i64</td><td>i64</td></tr></thead><tbody><tr><td>100</td><td>19</td></tr><tr><td>200</td><td>25</td></tr><tr><td>300</td><td>12</td></tr><tr><td>400</td><td>31</td></tr></tbody></table></div>"
      ],
      "text/plain": [
       "shape: (4, 2)\n",
       "┌─────┬────────────┐\n",
       "│ id  ┆ pocet_knih │\n",
       "│ --- ┆ ---        │\n",
       "│ i64 ┆ i64        │\n",
       "╞═════╪════════════╡\n",
       "│ 100 ┆ 19         │\n",
       "│ 200 ┆ 25         │\n",
       "│ 300 ┆ 12         │\n",
       "│ 400 ┆ 31         │\n",
       "└─────┴────────────┘"
      ]
     },
     "execution_count": 34,
     "metadata": {},
     "output_type": "execute_result"
    }
   ],
   "source": [
    "prodane_knihy = pl.DataFrame({\n",
    "    \"id\" : [100,200,300,400],\n",
    "    \"pocet_knih\" : [19,25,12,31]\n",
    "})\n",
    "prodane_knihy"
   ]
  },
  {
   "cell_type": "markdown",
   "id": "9c164c54-1ca2-4eb0-8f7e-c4fb33fe3d61",
   "metadata": {},
   "source": [
    "Klasický select\n",
    "```\n",
    "select krestni_jmeno, prijmeni, vek from osoby;\n",
    "```\n",
    "realizujeme v polarsu s pomocí metody *select*:"
   ]
  },
  {
   "cell_type": "code",
   "execution_count": 35,
   "id": "d0f1fdd9-e57a-4c5f-8157-3c5eb1141506",
   "metadata": {},
   "outputs": [
    {
     "data": {
      "text/html": [
       "<div><style>\n",
       ".dataframe > thead > tr,\n",
       ".dataframe > tbody > tr {\n",
       "  text-align: right;\n",
       "  white-space: pre-wrap;\n",
       "}\n",
       "</style>\n",
       "<small>shape: (5, 3)</small><table border=\"1\" class=\"dataframe\"><thead><tr><th>krestni_jmeno</th><th>prijmeni</th><th>vek</th></tr><tr><td>str</td><td>str</td><td>i64</td></tr></thead><tbody><tr><td>&quot;Victor&quot;</td><td>&quot;Hugo&quot;</td><td>25</td></tr><tr><td>&quot;Mary&quot;</td><td>&quot;Shelly&quot;</td><td>30</td></tr><tr><td>&quot;Johann&quot;</td><td>&quot;Geothe&quot;</td><td>75</td></tr><tr><td>&quot;Albert&quot;</td><td>&quot;Camus&quot;</td><td>null</td></tr><tr><td>&quot;William&quot;</td><td>&quot;Shakespear&quot;</td><td>38</td></tr></tbody></table></div>"
      ],
      "text/plain": [
       "shape: (5, 3)\n",
       "┌───────────────┬────────────┬──────┐\n",
       "│ krestni_jmeno ┆ prijmeni   ┆ vek  │\n",
       "│ ---           ┆ ---        ┆ ---  │\n",
       "│ str           ┆ str        ┆ i64  │\n",
       "╞═══════════════╪════════════╪══════╡\n",
       "│ Victor        ┆ Hugo       ┆ 25   │\n",
       "│ Mary          ┆ Shelly     ┆ 30   │\n",
       "│ Johann        ┆ Geothe     ┆ 75   │\n",
       "│ Albert        ┆ Camus      ┆ null │\n",
       "│ William       ┆ Shakespear ┆ 38   │\n",
       "└───────────────┴────────────┴──────┘"
      ]
     },
     "execution_count": 35,
     "metadata": {},
     "output_type": "execute_result"
    }
   ],
   "source": [
    "osoby.select([\"krestni_jmeno\", \"prijmeni\", \"vek\"])"
   ]
  },
  {
   "cell_type": "markdown",
   "id": "2689c94b-708a-48d1-9432-dfa6373fd307",
   "metadata": {},
   "source": [
    "Pokud bychom chtěli jen dva řádky, přidáme *head*:"
   ]
  },
  {
   "cell_type": "code",
   "execution_count": 36,
   "id": "d7bdc0a1-20fe-4cd9-9e20-2c6265c48d8c",
   "metadata": {},
   "outputs": [
    {
     "data": {
      "text/html": [
       "<div><style>\n",
       ".dataframe > thead > tr,\n",
       ".dataframe > tbody > tr {\n",
       "  text-align: right;\n",
       "  white-space: pre-wrap;\n",
       "}\n",
       "</style>\n",
       "<small>shape: (2, 3)</small><table border=\"1\" class=\"dataframe\"><thead><tr><th>krestni_jmeno</th><th>prijmeni</th><th>vek</th></tr><tr><td>str</td><td>str</td><td>i64</td></tr></thead><tbody><tr><td>&quot;Victor&quot;</td><td>&quot;Hugo&quot;</td><td>25</td></tr><tr><td>&quot;Mary&quot;</td><td>&quot;Shelly&quot;</td><td>30</td></tr></tbody></table></div>"
      ],
      "text/plain": [
       "shape: (2, 3)\n",
       "┌───────────────┬──────────┬─────┐\n",
       "│ krestni_jmeno ┆ prijmeni ┆ vek │\n",
       "│ ---           ┆ ---      ┆ --- │\n",
       "│ str           ┆ str      ┆ i64 │\n",
       "╞═══════════════╪══════════╪═════╡\n",
       "│ Victor        ┆ Hugo     ┆ 25  │\n",
       "│ Mary          ┆ Shelly   ┆ 30  │\n",
       "└───────────────┴──────────┴─────┘"
      ]
     },
     "execution_count": 36,
     "metadata": {},
     "output_type": "execute_result"
    }
   ],
   "source": [
    "osoby.select([\"krestni_jmeno\", \"prijmeni\", \"vek\"]).head(2)"
   ]
  },
  {
   "cell_type": "markdown",
   "id": "ff537db4-7eac-4953-872c-ef34ea84f2f3",
   "metadata": {},
   "source": [
    "Pro WHERE podmínku ve stylu\n",
    "```\n",
    "select * from osoby where prijmeni = 'Geothe';\n",
    "```\n",
    "aplikujeme metody *filter*:"
   ]
  },
  {
   "cell_type": "code",
   "execution_count": 37,
   "id": "d7a5d675-2c5b-4419-9949-686729179e96",
   "metadata": {},
   "outputs": [
    {
     "data": {
      "text/html": [
       "<div><style>\n",
       ".dataframe > thead > tr,\n",
       ".dataframe > tbody > tr {\n",
       "  text-align: right;\n",
       "  white-space: pre-wrap;\n",
       "}\n",
       "</style>\n",
       "<small>shape: (1, 5)</small><table border=\"1\" class=\"dataframe\"><thead><tr><th>id</th><th>krestni_jmeno</th><th>prijmeni</th><th>vek</th><th>pohlavi</th></tr><tr><td>i64</td><td>str</td><td>str</td><td>i64</td><td>str</td></tr></thead><tbody><tr><td>300</td><td>&quot;Johann&quot;</td><td>&quot;Geothe&quot;</td><td>75</td><td>&quot;M&quot;</td></tr></tbody></table></div>"
      ],
      "text/plain": [
       "shape: (1, 5)\n",
       "┌─────┬───────────────┬──────────┬─────┬─────────┐\n",
       "│ id  ┆ krestni_jmeno ┆ prijmeni ┆ vek ┆ pohlavi │\n",
       "│ --- ┆ ---           ┆ ---      ┆ --- ┆ ---     │\n",
       "│ i64 ┆ str           ┆ str      ┆ i64 ┆ str     │\n",
       "╞═════╪═══════════════╪══════════╪═════╪═════════╡\n",
       "│ 300 ┆ Johann        ┆ Geothe   ┆ 75  ┆ M       │\n",
       "└─────┴───────────────┴──────────┴─────┴─────────┘"
      ]
     },
     "execution_count": 37,
     "metadata": {},
     "output_type": "execute_result"
    }
   ],
   "source": [
    "osoby.filter(\n",
    "    pl.col(\"prijmeni\") == \"Geothe\"\n",
    ")"
   ]
  },
  {
   "cell_type": "markdown",
   "id": "26933b9f-f879-44b2-8f3a-f6fc7197c9a9",
   "metadata": {},
   "source": [
    "Pro více podmínek použijeme jejich spojení s pomocí & či | jako v pandách. \n",
    "```\n",
    "select * from osoby where prijmeni = 'Geothe' and krestni_jmeno = \"Johann\";\n",
    "```"
   ]
  },
  {
   "cell_type": "code",
   "execution_count": 38,
   "id": "eb2f1752-fbb5-45fd-8b42-b777ca3593c3",
   "metadata": {},
   "outputs": [
    {
     "data": {
      "text/html": [
       "<div><style>\n",
       ".dataframe > thead > tr,\n",
       ".dataframe > tbody > tr {\n",
       "  text-align: right;\n",
       "  white-space: pre-wrap;\n",
       "}\n",
       "</style>\n",
       "<small>shape: (1, 5)</small><table border=\"1\" class=\"dataframe\"><thead><tr><th>id</th><th>krestni_jmeno</th><th>prijmeni</th><th>vek</th><th>pohlavi</th></tr><tr><td>i64</td><td>str</td><td>str</td><td>i64</td><td>str</td></tr></thead><tbody><tr><td>300</td><td>&quot;Johann&quot;</td><td>&quot;Geothe&quot;</td><td>75</td><td>&quot;M&quot;</td></tr></tbody></table></div>"
      ],
      "text/plain": [
       "shape: (1, 5)\n",
       "┌─────┬───────────────┬──────────┬─────┬─────────┐\n",
       "│ id  ┆ krestni_jmeno ┆ prijmeni ┆ vek ┆ pohlavi │\n",
       "│ --- ┆ ---           ┆ ---      ┆ --- ┆ ---     │\n",
       "│ i64 ┆ str           ┆ str      ┆ i64 ┆ str     │\n",
       "╞═════╪═══════════════╪══════════╪═════╪═════════╡\n",
       "│ 300 ┆ Johann        ┆ Geothe   ┆ 75  ┆ M       │\n",
       "└─────┴───────────────┴──────────┴─────┴─────────┘"
      ]
     },
     "execution_count": 38,
     "metadata": {},
     "output_type": "execute_result"
    }
   ],
   "source": [
    "osoby.filter(\n",
    "    (pl.col(\"prijmeni\") == \"Geothe\")\n",
    "    & (pl.col(\"krestni_jmeno\") == \"Johann\")\n",
    ")"
   ]
  },
  {
   "cell_type": "markdown",
   "id": "719f4010-75e6-496b-99dc-0e47dcd1158b",
   "metadata": {},
   "source": [
    "V případě, že chceme omezení současně na řádky a současně na sloupce, si musíme narozdíl od pand dát pozor na pořadí metod *select* a *filter*. Pokud by totiž *select* byl první, už by nemusely existovat sloupce, které *filter* potřebuje.\n",
    "```\n",
    "select id from osoby where prijmeni = 'Geothe' and krestni_jmeno = \"Johann\";\n",
    "```"
   ]
  },
  {
   "cell_type": "code",
   "execution_count": 39,
   "id": "c3d11df1-836f-4dc6-b391-5972bbf009e6",
   "metadata": {},
   "outputs": [
    {
     "data": {
      "text/html": [
       "<div><style>\n",
       ".dataframe > thead > tr,\n",
       ".dataframe > tbody > tr {\n",
       "  text-align: right;\n",
       "  white-space: pre-wrap;\n",
       "}\n",
       "</style>\n",
       "<small>shape: (1, 1)</small><table border=\"1\" class=\"dataframe\"><thead><tr><th>id</th></tr><tr><td>i64</td></tr></thead><tbody><tr><td>300</td></tr></tbody></table></div>"
      ],
      "text/plain": [
       "shape: (1, 1)\n",
       "┌─────┐\n",
       "│ id  │\n",
       "│ --- │\n",
       "│ i64 │\n",
       "╞═════╡\n",
       "│ 300 │\n",
       "└─────┘"
      ]
     },
     "execution_count": 39,
     "metadata": {},
     "output_type": "execute_result"
    }
   ],
   "source": [
    "osoby.filter(\n",
    "    (pl.col(\"prijmeni\") == \"Geothe\")\n",
    "    & (pl.col(\"krestni_jmeno\") == \"Johann\")\n",
    ").select([\"id\"])"
   ]
  },
  {
   "cell_type": "markdown",
   "id": "c774c140-2a04-44af-bf2a-df6aa996afac",
   "metadata": {},
   "source": [
    "Jak v Polarsu ošetřit existenci None? Narozdíl od pandího *is_na* použijeme metodu *is_null*. V Polarsu na rozdíl od Pand neexistuje podle základního datového typu více None hodnot - vše je \"null\".\n",
    "```\n",
    "select * osoby where vek is NULL;\n",
    "```"
   ]
  },
  {
   "cell_type": "code",
   "execution_count": 40,
   "id": "73934ee8-a589-4db4-985e-75da4900b340",
   "metadata": {},
   "outputs": [
    {
     "data": {
      "text/html": [
       "<div><style>\n",
       ".dataframe > thead > tr,\n",
       ".dataframe > tbody > tr {\n",
       "  text-align: right;\n",
       "  white-space: pre-wrap;\n",
       "}\n",
       "</style>\n",
       "<small>shape: (1, 5)</small><table border=\"1\" class=\"dataframe\"><thead><tr><th>id</th><th>krestni_jmeno</th><th>prijmeni</th><th>vek</th><th>pohlavi</th></tr><tr><td>i64</td><td>str</td><td>str</td><td>i64</td><td>str</td></tr></thead><tbody><tr><td>400</td><td>&quot;Albert&quot;</td><td>&quot;Camus&quot;</td><td>null</td><td>&quot;M&quot;</td></tr></tbody></table></div>"
      ],
      "text/plain": [
       "shape: (1, 5)\n",
       "┌─────┬───────────────┬──────────┬──────┬─────────┐\n",
       "│ id  ┆ krestni_jmeno ┆ prijmeni ┆ vek  ┆ pohlavi │\n",
       "│ --- ┆ ---           ┆ ---      ┆ ---  ┆ ---     │\n",
       "│ i64 ┆ str           ┆ str      ┆ i64  ┆ str     │\n",
       "╞═════╪═══════════════╪══════════╪══════╪═════════╡\n",
       "│ 400 ┆ Albert        ┆ Camus    ┆ null ┆ M       │\n",
       "└─────┴───────────────┴──────────┴──────┴─────────┘"
      ]
     },
     "execution_count": 40,
     "metadata": {},
     "output_type": "execute_result"
    }
   ],
   "source": [
    "osoby.filter(\n",
    "    pl.col(\"vek\").is_null()\n",
    ")"
   ]
  },
  {
   "cell_type": "markdown",
   "id": "fcc51e91-c263-4bc8-a7cd-de8fc691ebee",
   "metadata": {},
   "source": [
    "Oproti tomu pro ekvivalent sqlkovského like máme k dispozici stejně jako v Pandách *str.contains*.\n",
    "```\n",
    "select * osoby where prijmeni like '%eoth%';\n",
    "```"
   ]
  },
  {
   "cell_type": "code",
   "execution_count": 41,
   "id": "f420c0bf-5850-43ba-845e-12d5cbdad156",
   "metadata": {},
   "outputs": [
    {
     "data": {
      "text/html": [
       "<div><style>\n",
       ".dataframe > thead > tr,\n",
       ".dataframe > tbody > tr {\n",
       "  text-align: right;\n",
       "  white-space: pre-wrap;\n",
       "}\n",
       "</style>\n",
       "<small>shape: (1, 5)</small><table border=\"1\" class=\"dataframe\"><thead><tr><th>id</th><th>krestni_jmeno</th><th>prijmeni</th><th>vek</th><th>pohlavi</th></tr><tr><td>i64</td><td>str</td><td>str</td><td>i64</td><td>str</td></tr></thead><tbody><tr><td>300</td><td>&quot;Johann&quot;</td><td>&quot;Geothe&quot;</td><td>75</td><td>&quot;M&quot;</td></tr></tbody></table></div>"
      ],
      "text/plain": [
       "shape: (1, 5)\n",
       "┌─────┬───────────────┬──────────┬─────┬─────────┐\n",
       "│ id  ┆ krestni_jmeno ┆ prijmeni ┆ vek ┆ pohlavi │\n",
       "│ --- ┆ ---           ┆ ---      ┆ --- ┆ ---     │\n",
       "│ i64 ┆ str           ┆ str      ┆ i64 ┆ str     │\n",
       "╞═════╪═══════════════╪══════════╪═════╪═════════╡\n",
       "│ 300 ┆ Johann        ┆ Geothe   ┆ 75  ┆ M       │\n",
       "└─────┴───────────────┴──────────┴─────┴─────────┘"
      ]
     },
     "execution_count": 41,
     "metadata": {},
     "output_type": "execute_result"
    }
   ],
   "source": [
    "osoby.filter(\n",
    "    pl.col(\"prijmeni\").str.contains(\"eoth\")\n",
    ")"
   ]
  },
  {
   "cell_type": "markdown",
   "id": "72e009d8-16ca-4742-a8a6-d36460c90640",
   "metadata": {},
   "source": [
    "Stejně jako v Pandách slouží k negaci podmínky vlnovka."
   ]
  },
  {
   "cell_type": "code",
   "execution_count": 42,
   "id": "a26ae764-d870-4363-b4ed-7a981e66eec5",
   "metadata": {},
   "outputs": [
    {
     "data": {
      "text/html": [
       "<div><style>\n",
       ".dataframe > thead > tr,\n",
       ".dataframe > tbody > tr {\n",
       "  text-align: right;\n",
       "  white-space: pre-wrap;\n",
       "}\n",
       "</style>\n",
       "<small>shape: (4, 5)</small><table border=\"1\" class=\"dataframe\"><thead><tr><th>id</th><th>krestni_jmeno</th><th>prijmeni</th><th>vek</th><th>pohlavi</th></tr><tr><td>i64</td><td>str</td><td>str</td><td>i64</td><td>str</td></tr></thead><tbody><tr><td>100</td><td>&quot;Victor&quot;</td><td>&quot;Hugo&quot;</td><td>25</td><td>&quot;M&quot;</td></tr><tr><td>200</td><td>&quot;Mary&quot;</td><td>&quot;Shelly&quot;</td><td>30</td><td>&quot;F&quot;</td></tr><tr><td>400</td><td>&quot;Albert&quot;</td><td>&quot;Camus&quot;</td><td>null</td><td>&quot;M&quot;</td></tr><tr><td>500</td><td>&quot;William&quot;</td><td>&quot;Shakespear&quot;</td><td>38</td><td>&quot;M&quot;</td></tr></tbody></table></div>"
      ],
      "text/plain": [
       "shape: (4, 5)\n",
       "┌─────┬───────────────┬────────────┬──────┬─────────┐\n",
       "│ id  ┆ krestni_jmeno ┆ prijmeni   ┆ vek  ┆ pohlavi │\n",
       "│ --- ┆ ---           ┆ ---        ┆ ---  ┆ ---     │\n",
       "│ i64 ┆ str           ┆ str        ┆ i64  ┆ str     │\n",
       "╞═════╪═══════════════╪════════════╪══════╪═════════╡\n",
       "│ 100 ┆ Victor        ┆ Hugo       ┆ 25   ┆ M       │\n",
       "│ 200 ┆ Mary          ┆ Shelly     ┆ 30   ┆ F       │\n",
       "│ 400 ┆ Albert        ┆ Camus      ┆ null ┆ M       │\n",
       "│ 500 ┆ William       ┆ Shakespear ┆ 38   ┆ M       │\n",
       "└─────┴───────────────┴────────────┴──────┴─────────┘"
      ]
     },
     "execution_count": 42,
     "metadata": {},
     "output_type": "execute_result"
    }
   ],
   "source": [
    "osoby.filter(\n",
    "    ~pl.col(\"prijmeni\").str.contains(\"eoth\")\n",
    ")"
   ]
  },
  {
   "cell_type": "markdown",
   "id": "cf814f17-9873-4d7b-a21d-c4053ff4f572",
   "metadata": {},
   "source": [
    "Tabulku seřazíme metodou *sort*. Defaultně je řazení rostoucí, což lze změnit s přiřazením True do parametru *descending*."
   ]
  },
  {
   "cell_type": "code",
   "execution_count": 43,
   "id": "3c17e1c4-58b0-445e-8adb-56f858ac8d0e",
   "metadata": {},
   "outputs": [
    {
     "data": {
      "text/html": [
       "<div><style>\n",
       ".dataframe > thead > tr,\n",
       ".dataframe > tbody > tr {\n",
       "  text-align: right;\n",
       "  white-space: pre-wrap;\n",
       "}\n",
       "</style>\n",
       "<small>shape: (5, 5)</small><table border=\"1\" class=\"dataframe\"><thead><tr><th>id</th><th>krestni_jmeno</th><th>prijmeni</th><th>vek</th><th>pohlavi</th></tr><tr><td>i64</td><td>str</td><td>str</td><td>i64</td><td>str</td></tr></thead><tbody><tr><td>400</td><td>&quot;Albert&quot;</td><td>&quot;Camus&quot;</td><td>null</td><td>&quot;M&quot;</td></tr><tr><td>300</td><td>&quot;Johann&quot;</td><td>&quot;Geothe&quot;</td><td>75</td><td>&quot;M&quot;</td></tr><tr><td>500</td><td>&quot;William&quot;</td><td>&quot;Shakespear&quot;</td><td>38</td><td>&quot;M&quot;</td></tr><tr><td>200</td><td>&quot;Mary&quot;</td><td>&quot;Shelly&quot;</td><td>30</td><td>&quot;F&quot;</td></tr><tr><td>100</td><td>&quot;Victor&quot;</td><td>&quot;Hugo&quot;</td><td>25</td><td>&quot;M&quot;</td></tr></tbody></table></div>"
      ],
      "text/plain": [
       "shape: (5, 5)\n",
       "┌─────┬───────────────┬────────────┬──────┬─────────┐\n",
       "│ id  ┆ krestni_jmeno ┆ prijmeni   ┆ vek  ┆ pohlavi │\n",
       "│ --- ┆ ---           ┆ ---        ┆ ---  ┆ ---     │\n",
       "│ i64 ┆ str           ┆ str        ┆ i64  ┆ str     │\n",
       "╞═════╪═══════════════╪════════════╪══════╪═════════╡\n",
       "│ 400 ┆ Albert        ┆ Camus      ┆ null ┆ M       │\n",
       "│ 300 ┆ Johann        ┆ Geothe     ┆ 75   ┆ M       │\n",
       "│ 500 ┆ William       ┆ Shakespear ┆ 38   ┆ M       │\n",
       "│ 200 ┆ Mary          ┆ Shelly     ┆ 30   ┆ F       │\n",
       "│ 100 ┆ Victor        ┆ Hugo       ┆ 25   ┆ M       │\n",
       "└─────┴───────────────┴────────────┴──────┴─────────┘"
      ]
     },
     "execution_count": 43,
     "metadata": {},
     "output_type": "execute_result"
    }
   ],
   "source": [
    "osoby.sort(by=\"vek\", descending=True)"
   ]
  },
  {
   "cell_type": "markdown",
   "id": "ae136b2a-ef9f-4e66-9e3a-aba772bedbcf",
   "metadata": {},
   "source": [
    "Grupování provedeme s metodou *group_by* (bacha - oproti pandímu *groupby* tu je navíc podtržítko).\n",
    "```\n",
    "select pohlavi, count(*), avg(vek) from osoby group by pohlavi;\n",
    "```"
   ]
  },
  {
   "cell_type": "code",
   "execution_count": 44,
   "id": "9d591a72-4369-4573-9f81-0032592d9577",
   "metadata": {},
   "outputs": [
    {
     "data": {
      "text/html": [
       "<div><style>\n",
       ".dataframe > thead > tr,\n",
       ".dataframe > tbody > tr {\n",
       "  text-align: right;\n",
       "  white-space: pre-wrap;\n",
       "}\n",
       "</style>\n",
       "<small>shape: (2, 3)</small><table border=\"1\" class=\"dataframe\"><thead><tr><th>pohlavi</th><th>prumerny_vek</th><th>pocet</th></tr><tr><td>str</td><td>f64</td><td>u32</td></tr></thead><tbody><tr><td>&quot;F&quot;</td><td>30.0</td><td>1</td></tr><tr><td>&quot;M&quot;</td><td>46.0</td><td>4</td></tr></tbody></table></div>"
      ],
      "text/plain": [
       "shape: (2, 3)\n",
       "┌─────────┬──────────────┬───────┐\n",
       "│ pohlavi ┆ prumerny_vek ┆ pocet │\n",
       "│ ---     ┆ ---          ┆ ---   │\n",
       "│ str     ┆ f64          ┆ u32   │\n",
       "╞═════════╪══════════════╪═══════╡\n",
       "│ F       ┆ 30.0         ┆ 1     │\n",
       "│ M       ┆ 46.0         ┆ 4     │\n",
       "└─────────┴──────────────┴───────┘"
      ]
     },
     "execution_count": 44,
     "metadata": {},
     "output_type": "execute_result"
    }
   ],
   "source": [
    "osoby.group_by(\"pohlavi\").agg(\n",
    "    pl.col(\"vek\").mean().alias(\"prumerny_vek\"),\n",
    "    pl.col(\"pohlavi\").count().alias(\"pocet\"),\n",
    ")"
   ]
  },
  {
   "cell_type": "markdown",
   "id": "916e7839-efb0-4ee5-925c-a6c3dcbb55fb",
   "metadata": {},
   "source": [
    "Na joinování slouží dataframová metoda *join*. Pokud joinovací sloupec (resp. sloupce) nese stejné jméno v obou tabulkách, použijeme parametr *on*, jinak *left_on* a *right_on*. Typ joinu bude specifikován parametrem *how*.\n",
    "```\n",
    "select * \n",
    "from \n",
    " osoby os1 \n",
    "inner join \n",
    " prodane_knihy pk1 \n",
    "   on os1.id = pk1.id;\n",
    "```"
   ]
  },
  {
   "cell_type": "code",
   "execution_count": 45,
   "id": "8916f7c4-b65d-4b67-b22a-1fdefac6363b",
   "metadata": {},
   "outputs": [
    {
     "data": {
      "text/html": [
       "<div><style>\n",
       ".dataframe > thead > tr,\n",
       ".dataframe > tbody > tr {\n",
       "  text-align: right;\n",
       "  white-space: pre-wrap;\n",
       "}\n",
       "</style>\n",
       "<small>shape: (5, 6)</small><table border=\"1\" class=\"dataframe\"><thead><tr><th>id</th><th>krestni_jmeno</th><th>prijmeni</th><th>vek</th><th>pohlavi</th><th>pocet_knih</th></tr><tr><td>i64</td><td>str</td><td>str</td><td>i64</td><td>str</td><td>i64</td></tr></thead><tbody><tr><td>100</td><td>&quot;Victor&quot;</td><td>&quot;Hugo&quot;</td><td>25</td><td>&quot;M&quot;</td><td>19</td></tr><tr><td>200</td><td>&quot;Mary&quot;</td><td>&quot;Shelly&quot;</td><td>30</td><td>&quot;F&quot;</td><td>25</td></tr><tr><td>300</td><td>&quot;Johann&quot;</td><td>&quot;Geothe&quot;</td><td>75</td><td>&quot;M&quot;</td><td>12</td></tr><tr><td>400</td><td>&quot;Albert&quot;</td><td>&quot;Camus&quot;</td><td>null</td><td>&quot;M&quot;</td><td>31</td></tr><tr><td>500</td><td>&quot;William&quot;</td><td>&quot;Shakespear&quot;</td><td>38</td><td>&quot;M&quot;</td><td>null</td></tr></tbody></table></div>"
      ],
      "text/plain": [
       "shape: (5, 6)\n",
       "┌─────┬───────────────┬────────────┬──────┬─────────┬────────────┐\n",
       "│ id  ┆ krestni_jmeno ┆ prijmeni   ┆ vek  ┆ pohlavi ┆ pocet_knih │\n",
       "│ --- ┆ ---           ┆ ---        ┆ ---  ┆ ---     ┆ ---        │\n",
       "│ i64 ┆ str           ┆ str        ┆ i64  ┆ str     ┆ i64        │\n",
       "╞═════╪═══════════════╪════════════╪══════╪═════════╪════════════╡\n",
       "│ 100 ┆ Victor        ┆ Hugo       ┆ 25   ┆ M       ┆ 19         │\n",
       "│ 200 ┆ Mary          ┆ Shelly     ┆ 30   ┆ F       ┆ 25         │\n",
       "│ 300 ┆ Johann        ┆ Geothe     ┆ 75   ┆ M       ┆ 12         │\n",
       "│ 400 ┆ Albert        ┆ Camus      ┆ null ┆ M       ┆ 31         │\n",
       "│ 500 ┆ William       ┆ Shakespear ┆ 38   ┆ M       ┆ null       │\n",
       "└─────┴───────────────┴────────────┴──────┴─────────┴────────────┘"
      ]
     },
     "execution_count": 45,
     "metadata": {},
     "output_type": "execute_result"
    }
   ],
   "source": [
    "osoby.join(prodane_knihy, on=\"id\", how=\"left\")"
   ]
  },
  {
   "cell_type": "markdown",
   "id": "a4486754-0b25-4ece-9517-1ba5a55a2d31",
   "metadata": {},
   "source": [
    "Joinování na nerovnost se musí stejně jako v pandách ošetřit cross joinem a podmínkou.\n",
    "```\n",
    "select * \n",
    "from osoby oso1\n",
    "inner join osoby oso2\n",
    "on oso1.id < oso2.id;\n",
    "```"
   ]
  },
  {
   "cell_type": "code",
   "execution_count": 46,
   "id": "a265f61a-fd54-4958-8eae-cb08b22115c1",
   "metadata": {},
   "outputs": [
    {
     "data": {
      "text/html": [
       "<div><style>\n",
       ".dataframe > thead > tr,\n",
       ".dataframe > tbody > tr {\n",
       "  text-align: right;\n",
       "  white-space: pre-wrap;\n",
       "}\n",
       "</style>\n",
       "<small>shape: (10, 10)</small><table border=\"1\" class=\"dataframe\"><thead><tr><th>id</th><th>krestni_jmeno</th><th>prijmeni</th><th>vek</th><th>pohlavi</th><th>id_right</th><th>krestni_jmeno_right</th><th>prijmeni_right</th><th>vek_right</th><th>pohlavi_right</th></tr><tr><td>i64</td><td>str</td><td>str</td><td>i64</td><td>str</td><td>i64</td><td>str</td><td>str</td><td>i64</td><td>str</td></tr></thead><tbody><tr><td>100</td><td>&quot;Victor&quot;</td><td>&quot;Hugo&quot;</td><td>25</td><td>&quot;M&quot;</td><td>200</td><td>&quot;Mary&quot;</td><td>&quot;Shelly&quot;</td><td>30</td><td>&quot;F&quot;</td></tr><tr><td>100</td><td>&quot;Victor&quot;</td><td>&quot;Hugo&quot;</td><td>25</td><td>&quot;M&quot;</td><td>300</td><td>&quot;Johann&quot;</td><td>&quot;Geothe&quot;</td><td>75</td><td>&quot;M&quot;</td></tr><tr><td>100</td><td>&quot;Victor&quot;</td><td>&quot;Hugo&quot;</td><td>25</td><td>&quot;M&quot;</td><td>400</td><td>&quot;Albert&quot;</td><td>&quot;Camus&quot;</td><td>null</td><td>&quot;M&quot;</td></tr><tr><td>100</td><td>&quot;Victor&quot;</td><td>&quot;Hugo&quot;</td><td>25</td><td>&quot;M&quot;</td><td>500</td><td>&quot;William&quot;</td><td>&quot;Shakespear&quot;</td><td>38</td><td>&quot;M&quot;</td></tr><tr><td>200</td><td>&quot;Mary&quot;</td><td>&quot;Shelly&quot;</td><td>30</td><td>&quot;F&quot;</td><td>300</td><td>&quot;Johann&quot;</td><td>&quot;Geothe&quot;</td><td>75</td><td>&quot;M&quot;</td></tr><tr><td>200</td><td>&quot;Mary&quot;</td><td>&quot;Shelly&quot;</td><td>30</td><td>&quot;F&quot;</td><td>400</td><td>&quot;Albert&quot;</td><td>&quot;Camus&quot;</td><td>null</td><td>&quot;M&quot;</td></tr><tr><td>200</td><td>&quot;Mary&quot;</td><td>&quot;Shelly&quot;</td><td>30</td><td>&quot;F&quot;</td><td>500</td><td>&quot;William&quot;</td><td>&quot;Shakespear&quot;</td><td>38</td><td>&quot;M&quot;</td></tr><tr><td>300</td><td>&quot;Johann&quot;</td><td>&quot;Geothe&quot;</td><td>75</td><td>&quot;M&quot;</td><td>400</td><td>&quot;Albert&quot;</td><td>&quot;Camus&quot;</td><td>null</td><td>&quot;M&quot;</td></tr><tr><td>300</td><td>&quot;Johann&quot;</td><td>&quot;Geothe&quot;</td><td>75</td><td>&quot;M&quot;</td><td>500</td><td>&quot;William&quot;</td><td>&quot;Shakespear&quot;</td><td>38</td><td>&quot;M&quot;</td></tr><tr><td>400</td><td>&quot;Albert&quot;</td><td>&quot;Camus&quot;</td><td>null</td><td>&quot;M&quot;</td><td>500</td><td>&quot;William&quot;</td><td>&quot;Shakespear&quot;</td><td>38</td><td>&quot;M&quot;</td></tr></tbody></table></div>"
      ],
      "text/plain": [
       "shape: (10, 10)\n",
       "┌─────┬───────────────┬──────────┬──────┬───┬─────────────────────┬────────────────┬───────────┬───────────────┐\n",
       "│ id  ┆ krestni_jmeno ┆ prijmeni ┆ vek  ┆ … ┆ krestni_jmeno_right ┆ prijmeni_right ┆ vek_right ┆ pohlavi_right │\n",
       "│ --- ┆ ---           ┆ ---      ┆ ---  ┆   ┆ ---                 ┆ ---            ┆ ---       ┆ ---           │\n",
       "│ i64 ┆ str           ┆ str      ┆ i64  ┆   ┆ str                 ┆ str            ┆ i64       ┆ str           │\n",
       "╞═════╪═══════════════╪══════════╪══════╪═══╪═════════════════════╪════════════════╪═══════════╪═══════════════╡\n",
       "│ 100 ┆ Victor        ┆ Hugo     ┆ 25   ┆ … ┆ Mary                ┆ Shelly         ┆ 30        ┆ F             │\n",
       "│ 100 ┆ Victor        ┆ Hugo     ┆ 25   ┆ … ┆ Johann              ┆ Geothe         ┆ 75        ┆ M             │\n",
       "│ 100 ┆ Victor        ┆ Hugo     ┆ 25   ┆ … ┆ Albert              ┆ Camus          ┆ null      ┆ M             │\n",
       "│ 100 ┆ Victor        ┆ Hugo     ┆ 25   ┆ … ┆ William             ┆ Shakespear     ┆ 38        ┆ M             │\n",
       "│ 200 ┆ Mary          ┆ Shelly   ┆ 30   ┆ … ┆ Johann              ┆ Geothe         ┆ 75        ┆ M             │\n",
       "│ 200 ┆ Mary          ┆ Shelly   ┆ 30   ┆ … ┆ Albert              ┆ Camus          ┆ null      ┆ M             │\n",
       "│ 200 ┆ Mary          ┆ Shelly   ┆ 30   ┆ … ┆ William             ┆ Shakespear     ┆ 38        ┆ M             │\n",
       "│ 300 ┆ Johann        ┆ Geothe   ┆ 75   ┆ … ┆ Albert              ┆ Camus          ┆ null      ┆ M             │\n",
       "│ 300 ┆ Johann        ┆ Geothe   ┆ 75   ┆ … ┆ William             ┆ Shakespear     ┆ 38        ┆ M             │\n",
       "│ 400 ┆ Albert        ┆ Camus    ┆ null ┆ … ┆ William             ┆ Shakespear     ┆ 38        ┆ M             │\n",
       "└─────┴───────────────┴──────────┴──────┴───┴─────────────────────┴────────────────┴───────────┴───────────────┘"
      ]
     },
     "execution_count": 46,
     "metadata": {},
     "output_type": "execute_result"
    }
   ],
   "source": [
    "crossed_join = osoby.join(osoby, on=\"id\", how=\"cross\")\n",
    "crossed_join.filter(pl.col(\"id\") < pl.col(\"id_right\"))"
   ]
  },
  {
   "cell_type": "markdown",
   "id": "592f77ba-b31c-4ad8-a55e-9a1daf9d317a",
   "metadata": {},
   "source": [
    "Pro union all použijeme metodu *vstack*.\n",
    "```\n",
    "select * from osoby \n",
    "union all\n",
    "select * from osoby;\n",
    "```"
   ]
  },
  {
   "cell_type": "code",
   "execution_count": 47,
   "id": "8e6cc241-67ae-4e1d-aaeb-b79275fdb802",
   "metadata": {},
   "outputs": [
    {
     "data": {
      "text/html": [
       "<div><style>\n",
       ".dataframe > thead > tr,\n",
       ".dataframe > tbody > tr {\n",
       "  text-align: right;\n",
       "  white-space: pre-wrap;\n",
       "}\n",
       "</style>\n",
       "<small>shape: (10, 5)</small><table border=\"1\" class=\"dataframe\"><thead><tr><th>id</th><th>krestni_jmeno</th><th>prijmeni</th><th>vek</th><th>pohlavi</th></tr><tr><td>i64</td><td>str</td><td>str</td><td>i64</td><td>str</td></tr></thead><tbody><tr><td>100</td><td>&quot;Victor&quot;</td><td>&quot;Hugo&quot;</td><td>25</td><td>&quot;M&quot;</td></tr><tr><td>200</td><td>&quot;Mary&quot;</td><td>&quot;Shelly&quot;</td><td>30</td><td>&quot;F&quot;</td></tr><tr><td>300</td><td>&quot;Johann&quot;</td><td>&quot;Geothe&quot;</td><td>75</td><td>&quot;M&quot;</td></tr><tr><td>400</td><td>&quot;Albert&quot;</td><td>&quot;Camus&quot;</td><td>null</td><td>&quot;M&quot;</td></tr><tr><td>500</td><td>&quot;William&quot;</td><td>&quot;Shakespear&quot;</td><td>38</td><td>&quot;M&quot;</td></tr><tr><td>100</td><td>&quot;Victor&quot;</td><td>&quot;Hugo&quot;</td><td>25</td><td>&quot;M&quot;</td></tr><tr><td>200</td><td>&quot;Mary&quot;</td><td>&quot;Shelly&quot;</td><td>30</td><td>&quot;F&quot;</td></tr><tr><td>300</td><td>&quot;Johann&quot;</td><td>&quot;Geothe&quot;</td><td>75</td><td>&quot;M&quot;</td></tr><tr><td>400</td><td>&quot;Albert&quot;</td><td>&quot;Camus&quot;</td><td>null</td><td>&quot;M&quot;</td></tr><tr><td>500</td><td>&quot;William&quot;</td><td>&quot;Shakespear&quot;</td><td>38</td><td>&quot;M&quot;</td></tr></tbody></table></div>"
      ],
      "text/plain": [
       "shape: (10, 5)\n",
       "┌─────┬───────────────┬────────────┬──────┬─────────┐\n",
       "│ id  ┆ krestni_jmeno ┆ prijmeni   ┆ vek  ┆ pohlavi │\n",
       "│ --- ┆ ---           ┆ ---        ┆ ---  ┆ ---     │\n",
       "│ i64 ┆ str           ┆ str        ┆ i64  ┆ str     │\n",
       "╞═════╪═══════════════╪════════════╪══════╪═════════╡\n",
       "│ 100 ┆ Victor        ┆ Hugo       ┆ 25   ┆ M       │\n",
       "│ 200 ┆ Mary          ┆ Shelly     ┆ 30   ┆ F       │\n",
       "│ 300 ┆ Johann        ┆ Geothe     ┆ 75   ┆ M       │\n",
       "│ 400 ┆ Albert        ┆ Camus      ┆ null ┆ M       │\n",
       "│ 500 ┆ William       ┆ Shakespear ┆ 38   ┆ M       │\n",
       "│ 100 ┆ Victor        ┆ Hugo       ┆ 25   ┆ M       │\n",
       "│ 200 ┆ Mary          ┆ Shelly     ┆ 30   ┆ F       │\n",
       "│ 300 ┆ Johann        ┆ Geothe     ┆ 75   ┆ M       │\n",
       "│ 400 ┆ Albert        ┆ Camus      ┆ null ┆ M       │\n",
       "│ 500 ┆ William       ┆ Shakespear ┆ 38   ┆ M       │\n",
       "└─────┴───────────────┴────────────┴──────┴─────────┘"
      ]
     },
     "execution_count": 47,
     "metadata": {},
     "output_type": "execute_result"
    }
   ],
   "source": [
    "osoby.vstack(osoby)"
   ]
  },
  {
   "cell_type": "markdown",
   "id": "7915f22c-5909-4824-9035-7b7561e7569b",
   "metadata": {},
   "source": [
    "Pokud ale potřebujeme union, tj. nechceme mít duplicitní řádky, musíme navíc použít metodu *unique*.\n",
    "```\n",
    "select * from osoby \n",
    "union\n",
    "select * from osoby;\n",
    "```"
   ]
  },
  {
   "cell_type": "code",
   "execution_count": 48,
   "id": "aacd406c-7982-4862-8454-143dc92a5a62",
   "metadata": {},
   "outputs": [
    {
     "data": {
      "text/html": [
       "<div><style>\n",
       ".dataframe > thead > tr,\n",
       ".dataframe > tbody > tr {\n",
       "  text-align: right;\n",
       "  white-space: pre-wrap;\n",
       "}\n",
       "</style>\n",
       "<small>shape: (5, 5)</small><table border=\"1\" class=\"dataframe\"><thead><tr><th>id</th><th>krestni_jmeno</th><th>prijmeni</th><th>vek</th><th>pohlavi</th></tr><tr><td>i64</td><td>str</td><td>str</td><td>i64</td><td>str</td></tr></thead><tbody><tr><td>300</td><td>&quot;Johann&quot;</td><td>&quot;Geothe&quot;</td><td>75</td><td>&quot;M&quot;</td></tr><tr><td>400</td><td>&quot;Albert&quot;</td><td>&quot;Camus&quot;</td><td>null</td><td>&quot;M&quot;</td></tr><tr><td>500</td><td>&quot;William&quot;</td><td>&quot;Shakespear&quot;</td><td>38</td><td>&quot;M&quot;</td></tr><tr><td>100</td><td>&quot;Victor&quot;</td><td>&quot;Hugo&quot;</td><td>25</td><td>&quot;M&quot;</td></tr><tr><td>200</td><td>&quot;Mary&quot;</td><td>&quot;Shelly&quot;</td><td>30</td><td>&quot;F&quot;</td></tr></tbody></table></div>"
      ],
      "text/plain": [
       "shape: (5, 5)\n",
       "┌─────┬───────────────┬────────────┬──────┬─────────┐\n",
       "│ id  ┆ krestni_jmeno ┆ prijmeni   ┆ vek  ┆ pohlavi │\n",
       "│ --- ┆ ---           ┆ ---        ┆ ---  ┆ ---     │\n",
       "│ i64 ┆ str           ┆ str        ┆ i64  ┆ str     │\n",
       "╞═════╪═══════════════╪════════════╪══════╪═════════╡\n",
       "│ 300 ┆ Johann        ┆ Geothe     ┆ 75   ┆ M       │\n",
       "│ 400 ┆ Albert        ┆ Camus      ┆ null ┆ M       │\n",
       "│ 500 ┆ William       ┆ Shakespear ┆ 38   ┆ M       │\n",
       "│ 100 ┆ Victor        ┆ Hugo       ┆ 25   ┆ M       │\n",
       "│ 200 ┆ Mary          ┆ Shelly     ┆ 30   ┆ F       │\n",
       "└─────┴───────────────┴────────────┴──────┴─────────┘"
      ]
     },
     "execution_count": 48,
     "metadata": {},
     "output_type": "execute_result"
    }
   ],
   "source": [
    "osoby.vstack(osoby).unique()"
   ]
  },
  {
   "cell_type": "markdown",
   "id": "6a90293f-70c3-4bd1-91e5-fb18fbf97f11",
   "metadata": {},
   "source": [
    "Výše jsme řešili ekvivalenty SQL příkazů, nicméně SQLka lze na dataframy vypustit i napřímo (účel metody collect viz níže v kapitole o lazy přístupu)."
   ]
  },
  {
   "cell_type": "code",
   "execution_count": 49,
   "id": "bf9da252-669b-4c56-8001-64c24d2e7c47",
   "metadata": {},
   "outputs": [
    {
     "data": {
      "text/html": [
       "<div><style>\n",
       ".dataframe > thead > tr,\n",
       ".dataframe > tbody > tr {\n",
       "  text-align: right;\n",
       "  white-space: pre-wrap;\n",
       "}\n",
       "</style>\n",
       "<small>shape: (1, 5)</small><table border=\"1\" class=\"dataframe\"><thead><tr><th>id</th><th>krestni_jmeno</th><th>prijmeni</th><th>vek</th><th>pohlavi</th></tr><tr><td>i64</td><td>str</td><td>str</td><td>i64</td><td>str</td></tr></thead><tbody><tr><td>400</td><td>&quot;Albert&quot;</td><td>&quot;Camus&quot;</td><td>null</td><td>&quot;M&quot;</td></tr></tbody></table></div>"
      ],
      "text/plain": [
       "shape: (1, 5)\n",
       "┌─────┬───────────────┬──────────┬──────┬─────────┐\n",
       "│ id  ┆ krestni_jmeno ┆ prijmeni ┆ vek  ┆ pohlavi │\n",
       "│ --- ┆ ---           ┆ ---      ┆ ---  ┆ ---     │\n",
       "│ i64 ┆ str           ┆ str      ┆ i64  ┆ str     │\n",
       "╞═════╪═══════════════╪══════════╪══════╪═════════╡\n",
       "│ 400 ┆ Albert        ┆ Camus    ┆ null ┆ M       │\n",
       "└─────┴───────────────┴──────────┴──────┴─────────┘"
      ]
     },
     "execution_count": 49,
     "metadata": {},
     "output_type": "execute_result"
    }
   ],
   "source": [
    "lazy_sql_result = pl.SQLContext(frame=osoby).execute(\n",
    "    \"SELECT * FROM frame WHERE vek is null\"\n",
    ")\n",
    "lazy_sql_result.collect()"
   ]
  },
  {
   "cell_type": "markdown",
   "id": "ba93d37d-d0d4-476f-b575-89547b10aca7",
   "metadata": {},
   "source": [
    "## Nahrávání a ukládání dat\n",
    "\n"
   ]
  },
  {
   "cell_type": "markdown",
   "id": "ffd5b7aa-71b3-48d8-85c5-09a525e0098f",
   "metadata": {},
   "source": [
    "Pro načtení csv souboru použijeme funkci *read_csv*"
   ]
  },
  {
   "cell_type": "code",
   "execution_count": 50,
   "id": "17b8404d-522e-46c3-9d27-b3227e3ed411",
   "metadata": {},
   "outputs": [
    {
     "data": {
      "text/html": [
       "<div><style>\n",
       ".dataframe > thead > tr,\n",
       ".dataframe > tbody > tr {\n",
       "  text-align: right;\n",
       "  white-space: pre-wrap;\n",
       "}\n",
       "</style>\n",
       "<small>shape: (5, 5)</small><table border=\"1\" class=\"dataframe\"><thead><tr><th>col1</th><th>col2</th><th>col3</th><th>col4</th><th>target</th></tr><tr><td>f64</td><td>f64</td><td>f64</td><td>f64</td><td>str</td></tr></thead><tbody><tr><td>5.1</td><td>3.5</td><td>1.4</td><td>0.2</td><td>&quot;Iris-setosa&quot;</td></tr><tr><td>4.9</td><td>3.0</td><td>1.4</td><td>0.2</td><td>&quot;Iris-setosa&quot;</td></tr><tr><td>4.7</td><td>3.2</td><td>1.3</td><td>0.2</td><td>&quot;Iris-setosa&quot;</td></tr><tr><td>4.6</td><td>3.1</td><td>1.5</td><td>0.2</td><td>&quot;Iris-setosa&quot;</td></tr><tr><td>5.0</td><td>3.6</td><td>1.4</td><td>0.2</td><td>&quot;Iris-setosa&quot;</td></tr></tbody></table></div>"
      ],
      "text/plain": [
       "shape: (5, 5)\n",
       "┌──────┬──────┬──────┬──────┬─────────────┐\n",
       "│ col1 ┆ col2 ┆ col3 ┆ col4 ┆ target      │\n",
       "│ ---  ┆ ---  ┆ ---  ┆ ---  ┆ ---         │\n",
       "│ f64  ┆ f64  ┆ f64  ┆ f64  ┆ str         │\n",
       "╞══════╪══════╪══════╪══════╪═════════════╡\n",
       "│ 5.1  ┆ 3.5  ┆ 1.4  ┆ 0.2  ┆ Iris-setosa │\n",
       "│ 4.9  ┆ 3.0  ┆ 1.4  ┆ 0.2  ┆ Iris-setosa │\n",
       "│ 4.7  ┆ 3.2  ┆ 1.3  ┆ 0.2  ┆ Iris-setosa │\n",
       "│ 4.6  ┆ 3.1  ┆ 1.5  ┆ 0.2  ┆ Iris-setosa │\n",
       "│ 5.0  ┆ 3.6  ┆ 1.4  ┆ 0.2  ┆ Iris-setosa │\n",
       "└──────┴──────┴──────┴──────┴─────────────┘"
      ]
     },
     "execution_count": 50,
     "metadata": {},
     "output_type": "execute_result"
    }
   ],
   "source": [
    "iris_dataset = pl.read_csv(\n",
    "    \"iris.data\", separator=\",\", has_header=False,\n",
    "    new_columns=[\"col1\", \"col2\", \"col3\", \"col4\", \"target\"]\n",
    ")\n",
    "iris_dataset.head()"
   ]
  },
  {
   "cell_type": "markdown",
   "id": "19872d96-9bd3-4aa3-a946-353e1ba748b6",
   "metadata": {},
   "source": [
    "Pro načítání souboru po částech slouží *read_csv_batched*, pro tvorbu lazy dataframu *scan_csv*. Existují i funkce na načtení excelu či ods souborů. Lze nalézt i metodu *read_database*, která dle popisu funguje podobně jako pandí *read_sql*."
   ]
  },
  {
   "cell_type": "markdown",
   "id": "573b31a5-0ace-4e52-8cd7-25df03c711e0",
   "metadata": {},
   "source": [
    "Zápis do souboru realizujeme skrze metodu *write_csv*."
   ]
  },
  {
   "cell_type": "code",
   "execution_count": 51,
   "id": "babc5bb0-677f-4aea-8013-deaa139c5b9f",
   "metadata": {},
   "outputs": [],
   "source": [
    "iris_dataset.write_csv(\"ukladani_souboru.csv\", separator=\"|\")"
   ]
  },
  {
   "cell_type": "markdown",
   "id": "888c6efd-4458-4960-8e0d-82b44c201ea8",
   "metadata": {},
   "source": [
    "## Lazy přístup"
   ]
  },
  {
   "cell_type": "markdown",
   "id": "ad38cd03-ed1f-45d4-8185-d73da961e7fd",
   "metadata": {},
   "source": [
    "V defaultním módu se Polars chová podobně jako Pandas, tj. po odpálení každé řádky se fakticky provede něco s daty. Polars nicméně podporuje i lazy přístup, kdy spuštění příkazu povede pouze k přidání další položky do query plánu. Ten se spustí až po provolání jedné z mála speciálních metod. A k čemu je to dobré? Jednak může položky plánu automat optimalizovat, jednak lze v kombinaci se streamováním zpracovávat i datasety větší než velikost RAMky.\n",
    "\n",
    "Dataframe může být lazy už od svého nahrání ze souboru. Druhou možností je vzít normální dataframe a na lazy ho s pomocí metody *lazy* ztransformovat.\n",
    "Příkazy lze na sebe vázat tečkovou notací anebo normálně brát řádek po řádku, nehraje to roli."
   ]
  },
  {
   "cell_type": "code",
   "execution_count": 52,
   "id": "ab3fcccf-f764-41ae-8847-8a08e1441736",
   "metadata": {},
   "outputs": [],
   "source": [
    "lazy_df_from_beginning = (\n",
    "    pl.scan_csv(\"iris.data\", has_header=False)\n",
    "    .with_columns(pl.col(\"column_5\").str.to_uppercase())\n",
    "    .filter(pl.col(\"column_1\") > 3)\n",
    ")"
   ]
  },
  {
   "cell_type": "code",
   "execution_count": 53,
   "id": "fc8aef98-949a-4f54-8fa8-f06a489f1b53",
   "metadata": {},
   "outputs": [],
   "source": [
    "normal_df = pl.read_csv(\n",
    "    \"iris.data\", separator=\",\", has_header=False,\n",
    "    new_columns=[\"col1\", \"col2\", \"col3\", \"col4\", \"target\"]\n",
    ")\n",
    "lazy_df_transf = normal_df.lazy()"
   ]
  },
  {
   "cell_type": "markdown",
   "id": "80a21fc2-a5a1-4991-9285-ee8b71d2c618",
   "metadata": {},
   "source": [
    "Pro proběhnutí celého plánu musíme provolat metodu *collect*."
   ]
  },
  {
   "cell_type": "code",
   "execution_count": 54,
   "id": "c4c36e88-2993-4aa9-acb8-876999cc3774",
   "metadata": {},
   "outputs": [
    {
     "data": {
      "text/html": [
       "<div><style>\n",
       ".dataframe > thead > tr,\n",
       ".dataframe > tbody > tr {\n",
       "  text-align: right;\n",
       "  white-space: pre-wrap;\n",
       "}\n",
       "</style>\n",
       "<small>shape: (5, 5)</small><table border=\"1\" class=\"dataframe\"><thead><tr><th>column_1</th><th>column_2</th><th>column_3</th><th>column_4</th><th>column_5</th></tr><tr><td>f64</td><td>f64</td><td>f64</td><td>f64</td><td>str</td></tr></thead><tbody><tr><td>5.1</td><td>3.5</td><td>1.4</td><td>0.2</td><td>&quot;IRIS-SETOSA&quot;</td></tr><tr><td>4.9</td><td>3.0</td><td>1.4</td><td>0.2</td><td>&quot;IRIS-SETOSA&quot;</td></tr><tr><td>4.7</td><td>3.2</td><td>1.3</td><td>0.2</td><td>&quot;IRIS-SETOSA&quot;</td></tr><tr><td>4.6</td><td>3.1</td><td>1.5</td><td>0.2</td><td>&quot;IRIS-SETOSA&quot;</td></tr><tr><td>5.0</td><td>3.6</td><td>1.4</td><td>0.2</td><td>&quot;IRIS-SETOSA&quot;</td></tr></tbody></table></div>"
      ],
      "text/plain": [
       "shape: (5, 5)\n",
       "┌──────────┬──────────┬──────────┬──────────┬─────────────┐\n",
       "│ column_1 ┆ column_2 ┆ column_3 ┆ column_4 ┆ column_5    │\n",
       "│ ---      ┆ ---      ┆ ---      ┆ ---      ┆ ---         │\n",
       "│ f64      ┆ f64      ┆ f64      ┆ f64      ┆ str         │\n",
       "╞══════════╪══════════╪══════════╪══════════╪═════════════╡\n",
       "│ 5.1      ┆ 3.5      ┆ 1.4      ┆ 0.2      ┆ IRIS-SETOSA │\n",
       "│ 4.9      ┆ 3.0      ┆ 1.4      ┆ 0.2      ┆ IRIS-SETOSA │\n",
       "│ 4.7      ┆ 3.2      ┆ 1.3      ┆ 0.2      ┆ IRIS-SETOSA │\n",
       "│ 4.6      ┆ 3.1      ┆ 1.5      ┆ 0.2      ┆ IRIS-SETOSA │\n",
       "│ 5.0      ┆ 3.6      ┆ 1.4      ┆ 0.2      ┆ IRIS-SETOSA │\n",
       "└──────────┴──────────┴──────────┴──────────┴─────────────┘"
      ]
     },
     "execution_count": 54,
     "metadata": {},
     "output_type": "execute_result"
    }
   ],
   "source": [
    "lazy_df_from_beginning = lazy_df_from_beginning.head()\n",
    "lazy_df_from_beginning.collect()"
   ]
  },
  {
   "cell_type": "markdown",
   "id": "27263c60-a5a0-484e-91c8-1eadbf361ac8",
   "metadata": {},
   "source": [
    "Všimněme si, že u transformovaného dataframu se ztratily jména sloupců a byly nahrazeny tím samým, co má první lazy dataframe - column_X, kde X je rostoucí celé číslo začínající jedničkou."
   ]
  },
  {
   "cell_type": "code",
   "execution_count": 55,
   "id": "6a44b307-f3e9-4b47-9bf8-e724cf619520",
   "metadata": {},
   "outputs": [
    {
     "data": {
      "text/html": [
       "<div><style>\n",
       ".dataframe > thead > tr,\n",
       ".dataframe > tbody > tr {\n",
       "  text-align: right;\n",
       "  white-space: pre-wrap;\n",
       "}\n",
       "</style>\n",
       "<small>shape: (5, 5)</small><table border=\"1\" class=\"dataframe\"><thead><tr><th>column_1</th><th>column_2</th><th>column_3</th><th>column_4</th><th>column_5</th></tr><tr><td>f64</td><td>f64</td><td>f64</td><td>f64</td><td>str</td></tr></thead><tbody><tr><td>5.1</td><td>3.5</td><td>1.4</td><td>0.2</td><td>&quot;IRIS-SETOSA&quot;</td></tr><tr><td>4.9</td><td>3.0</td><td>1.4</td><td>0.2</td><td>&quot;IRIS-SETOSA&quot;</td></tr><tr><td>4.7</td><td>3.2</td><td>1.3</td><td>0.2</td><td>&quot;IRIS-SETOSA&quot;</td></tr><tr><td>4.6</td><td>3.1</td><td>1.5</td><td>0.2</td><td>&quot;IRIS-SETOSA&quot;</td></tr><tr><td>5.0</td><td>3.6</td><td>1.4</td><td>0.2</td><td>&quot;IRIS-SETOSA&quot;</td></tr></tbody></table></div>"
      ],
      "text/plain": [
       "shape: (5, 5)\n",
       "┌──────────┬──────────┬──────────┬──────────┬─────────────┐\n",
       "│ column_1 ┆ column_2 ┆ column_3 ┆ column_4 ┆ column_5    │\n",
       "│ ---      ┆ ---      ┆ ---      ┆ ---      ┆ ---         │\n",
       "│ f64      ┆ f64      ┆ f64      ┆ f64      ┆ str         │\n",
       "╞══════════╪══════════╪══════════╪══════════╪═════════════╡\n",
       "│ 5.1      ┆ 3.5      ┆ 1.4      ┆ 0.2      ┆ IRIS-SETOSA │\n",
       "│ 4.9      ┆ 3.0      ┆ 1.4      ┆ 0.2      ┆ IRIS-SETOSA │\n",
       "│ 4.7      ┆ 3.2      ┆ 1.3      ┆ 0.2      ┆ IRIS-SETOSA │\n",
       "│ 4.6      ┆ 3.1      ┆ 1.5      ┆ 0.2      ┆ IRIS-SETOSA │\n",
       "│ 5.0      ┆ 3.6      ┆ 1.4      ┆ 0.2      ┆ IRIS-SETOSA │\n",
       "└──────────┴──────────┴──────────┴──────────┴─────────────┘"
      ]
     },
     "execution_count": 55,
     "metadata": {},
     "output_type": "execute_result"
    }
   ],
   "source": [
    "lazy_df_transf = lazy_df_from_beginning.head()\n",
    "lazy_df_transf.collect()"
   ]
  },
  {
   "cell_type": "markdown",
   "id": "bb849e8d-3182-446c-a893-6a10791cdb5c",
   "metadata": {},
   "source": [
    "Pokud chceme pracovat s daty většími než je kapacita RAMky, musíme do metody *collect* přidat parametr *streaming* s hodnotou True."
   ]
  },
  {
   "cell_type": "code",
   "execution_count": 56,
   "id": "7393569d-1dc0-4df8-bd70-269d834ded96",
   "metadata": {},
   "outputs": [
    {
     "data": {
      "text/html": [
       "<div><style>\n",
       ".dataframe > thead > tr,\n",
       ".dataframe > tbody > tr {\n",
       "  text-align: right;\n",
       "  white-space: pre-wrap;\n",
       "}\n",
       "</style>\n",
       "<small>shape: (5, 5)</small><table border=\"1\" class=\"dataframe\"><thead><tr><th>column_1</th><th>column_2</th><th>column_3</th><th>column_4</th><th>column_5</th></tr><tr><td>f64</td><td>f64</td><td>f64</td><td>f64</td><td>str</td></tr></thead><tbody><tr><td>5.1</td><td>3.5</td><td>1.4</td><td>0.2</td><td>&quot;IRIS-SETOSA&quot;</td></tr><tr><td>4.9</td><td>3.0</td><td>1.4</td><td>0.2</td><td>&quot;IRIS-SETOSA&quot;</td></tr><tr><td>4.7</td><td>3.2</td><td>1.3</td><td>0.2</td><td>&quot;IRIS-SETOSA&quot;</td></tr><tr><td>4.6</td><td>3.1</td><td>1.5</td><td>0.2</td><td>&quot;IRIS-SETOSA&quot;</td></tr><tr><td>5.0</td><td>3.6</td><td>1.4</td><td>0.2</td><td>&quot;IRIS-SETOSA&quot;</td></tr></tbody></table></div>"
      ],
      "text/plain": [
       "shape: (5, 5)\n",
       "┌──────────┬──────────┬──────────┬──────────┬─────────────┐\n",
       "│ column_1 ┆ column_2 ┆ column_3 ┆ column_4 ┆ column_5    │\n",
       "│ ---      ┆ ---      ┆ ---      ┆ ---      ┆ ---         │\n",
       "│ f64      ┆ f64      ┆ f64      ┆ f64      ┆ str         │\n",
       "╞══════════╪══════════╪══════════╪══════════╪═════════════╡\n",
       "│ 5.1      ┆ 3.5      ┆ 1.4      ┆ 0.2      ┆ IRIS-SETOSA │\n",
       "│ 4.9      ┆ 3.0      ┆ 1.4      ┆ 0.2      ┆ IRIS-SETOSA │\n",
       "│ 4.7      ┆ 3.2      ┆ 1.3      ┆ 0.2      ┆ IRIS-SETOSA │\n",
       "│ 4.6      ┆ 3.1      ┆ 1.5      ┆ 0.2      ┆ IRIS-SETOSA │\n",
       "│ 5.0      ┆ 3.6      ┆ 1.4      ┆ 0.2      ┆ IRIS-SETOSA │\n",
       "└──────────┴──────────┴──────────┴──────────┴─────────────┘"
      ]
     },
     "execution_count": 56,
     "metadata": {},
     "output_type": "execute_result"
    }
   ],
   "source": [
    "lazy_df_from_beginning.collect(streaming=True)"
   ]
  },
  {
   "cell_type": "markdown",
   "id": "b3432827-39f2-4238-b463-9b646e970c6e",
   "metadata": {},
   "source": [
    "V dokumentaci se píše, že pokud při vývoji kódu nechceme provádět operace na celých datech (každá iterace by trvala příliš dlouho), ale jen na pár záznamech, aplikujeme namísto metody *collect* metodu *fetch*. Do ní umístíme parametr *n_rows* s počtem řádků pro daný běh. Když ale kód spustíme, uvidíme deprecation error s tím, že se má použít *collect*, před kterým bude *head*..."
   ]
  },
  {
   "cell_type": "code",
   "execution_count": 57,
   "id": "e7311396-31cb-4333-bd76-c2087c4d5216",
   "metadata": {},
   "outputs": [
    {
     "name": "stderr",
     "output_type": "stream",
     "text": [
      "C:\\Users\\worker\\AppData\\Local\\Temp\\ipykernel_7472\\575994917.py:1: DeprecationWarning: `LazyFrame.fetch` is deprecated. `LazyFrame.fetch` is deprecated; use `LazyFrame.collect` instead, in conjunction with a call to `head`.\n",
      "  lazy_df_from_beginning.fetch(n_rows=3)\n"
     ]
    },
    {
     "data": {
      "text/html": [
       "<div><style>\n",
       ".dataframe > thead > tr,\n",
       ".dataframe > tbody > tr {\n",
       "  text-align: right;\n",
       "  white-space: pre-wrap;\n",
       "}\n",
       "</style>\n",
       "<small>shape: (3, 5)</small><table border=\"1\" class=\"dataframe\"><thead><tr><th>column_1</th><th>column_2</th><th>column_3</th><th>column_4</th><th>column_5</th></tr><tr><td>f64</td><td>f64</td><td>f64</td><td>f64</td><td>str</td></tr></thead><tbody><tr><td>5.1</td><td>3.5</td><td>1.4</td><td>0.2</td><td>&quot;IRIS-SETOSA&quot;</td></tr><tr><td>4.9</td><td>3.0</td><td>1.4</td><td>0.2</td><td>&quot;IRIS-SETOSA&quot;</td></tr><tr><td>4.7</td><td>3.2</td><td>1.3</td><td>0.2</td><td>&quot;IRIS-SETOSA&quot;</td></tr></tbody></table></div>"
      ],
      "text/plain": [
       "shape: (3, 5)\n",
       "┌──────────┬──────────┬──────────┬──────────┬─────────────┐\n",
       "│ column_1 ┆ column_2 ┆ column_3 ┆ column_4 ┆ column_5    │\n",
       "│ ---      ┆ ---      ┆ ---      ┆ ---      ┆ ---         │\n",
       "│ f64      ┆ f64      ┆ f64      ┆ f64      ┆ str         │\n",
       "╞══════════╪══════════╪══════════╪══════════╪═════════════╡\n",
       "│ 5.1      ┆ 3.5      ┆ 1.4      ┆ 0.2      ┆ IRIS-SETOSA │\n",
       "│ 4.9      ┆ 3.0      ┆ 1.4      ┆ 0.2      ┆ IRIS-SETOSA │\n",
       "│ 4.7      ┆ 3.2      ┆ 1.3      ┆ 0.2      ┆ IRIS-SETOSA │\n",
       "└──────────┴──────────┴──────────┴──────────┴─────────────┘"
      ]
     },
     "execution_count": 57,
     "metadata": {},
     "output_type": "execute_result"
    }
   ],
   "source": [
    "lazy_df_from_beginning.fetch(n_rows=3)"
   ]
  },
  {
   "cell_type": "markdown",
   "id": "c56fd6e6-0b37-4154-a426-278d309de848",
   "metadata": {},
   "source": [
    "Zobrazení exekučních plánů provedeme s pomocí metody *explain*. U ní je nejdůležitější si uvědomit, že se její výstup musí číst odspodu."
   ]
  },
  {
   "cell_type": "code",
   "execution_count": 58,
   "id": "f259690e-6198-4d3c-9994-7957628e93ed",
   "metadata": {},
   "outputs": [
    {
     "name": "stdout",
     "output_type": "stream",
     "text": [
      "SLICE[offset: 0, len: 5]\n",
      "  FILTER [(col(\"column_1\")) > (3.0)] FROM\n",
      "     WITH_COLUMNS:\n",
      "     [col(\"column_5\").str.uppercase()] \n",
      "      Csv SCAN [iris.data]\n",
      "      PROJECT */5 COLUMNS\n"
     ]
    }
   ],
   "source": [
    "print(\n",
    "    lazy_df_from_beginning.explain(optimized=False)\n",
    ")"
   ]
  },
  {
   "cell_type": "code",
   "execution_count": 59,
   "id": "898fd918-3ebe-4f27-bbe3-d2582d635092",
   "metadata": {},
   "outputs": [
    {
     "name": "stdout",
     "output_type": "stream",
     "text": [
      " WITH_COLUMNS:\n",
      " [col(\"column_5\").str.uppercase()] \n",
      "  SLICE[offset: 0, len: 5]\n",
      "    Csv SCAN [iris.data]\n",
      "    PROJECT */5 COLUMNS\n",
      "    SELECTION: [(col(\"column_1\")) > (3.0)]\n"
     ]
    }
   ],
   "source": [
    "print(\n",
    "    lazy_df_from_beginning.explain(optimized=True)\n",
    ")"
   ]
  },
  {
   "cell_type": "markdown",
   "id": "20eaf34c-f55f-4181-8c0c-fe6bf89fea1e",
   "metadata": {},
   "source": [
    "## Testy"
   ]
  },
  {
   "cell_type": "markdown",
   "id": "9b1bdf11-b3a4-48ae-8752-4a6a2bae6261",
   "metadata": {},
   "source": [
    "Z hlediska jednotkových testů můžeme použít podobně jako v pandách funkci *assert_frame_equal* a to jak na normální framy, tak na lazy framy."
   ]
  },
  {
   "cell_type": "code",
   "execution_count": 60,
   "id": "eb9b8d51-3557-47a7-82af-9f86ad62c951",
   "metadata": {},
   "outputs": [],
   "source": [
    "from polars.testing import assert_frame_equal"
   ]
  },
  {
   "cell_type": "code",
   "execution_count": 61,
   "id": "6d82f504-497a-4c2c-a889-ecdbcff4fc71",
   "metadata": {},
   "outputs": [],
   "source": [
    "only_integers = [1,2,3,4,155]\n",
    "only_strings = [\"jedna\", \"dva\", \"tři\", \"čtyři\", \"pět\"]\n",
    "\n",
    "first_dataframe = pl.DataFrame({\n",
    "    \"only_integers\": only_integers, \n",
    "    \"only_strings\": only_strings\n",
    "})\n",
    "\n",
    "second_dataframe = pl.DataFrame({\n",
    "    \"only_integers\": only_integers, \n",
    "    \"only_strings\": only_strings\n",
    "})\n",
    "\n",
    "assert_frame_equal(first_dataframe, second_dataframe)"
   ]
  },
  {
   "cell_type": "code",
   "execution_count": 62,
   "id": "c5a33d1e-9e71-4c98-8189-064623c067d4",
   "metadata": {},
   "outputs": [
    {
     "ename": "AssertionError",
     "evalue": "DataFrames are different (dtypes do not match)\n[left]:  {'only_integers': Int64, 'only_strings': String}\n[right]: {'only_integers': Int64, 'only_strings': Int64}",
     "output_type": "error",
     "traceback": [
      "\u001b[1;31m---------------------------------------------------------------------------\u001b[0m",
      "\u001b[1;31mAssertionError\u001b[0m                            Traceback (most recent call last)",
      "Cell \u001b[1;32mIn[62], line 14\u001b[0m\n\u001b[0;32m      4\u001b[0m first_dataframe \u001b[38;5;241m=\u001b[39m pl\u001b[38;5;241m.\u001b[39mDataFrame({\n\u001b[0;32m      5\u001b[0m     \u001b[38;5;124m\"\u001b[39m\u001b[38;5;124monly_integers\u001b[39m\u001b[38;5;124m\"\u001b[39m: only_integers, \n\u001b[0;32m      6\u001b[0m     \u001b[38;5;124m\"\u001b[39m\u001b[38;5;124monly_strings\u001b[39m\u001b[38;5;124m\"\u001b[39m: only_strings\n\u001b[0;32m      7\u001b[0m })\n\u001b[0;32m      9\u001b[0m second_dataframe \u001b[38;5;241m=\u001b[39m pl\u001b[38;5;241m.\u001b[39mDataFrame({\n\u001b[0;32m     10\u001b[0m     \u001b[38;5;124m\"\u001b[39m\u001b[38;5;124monly_integers\u001b[39m\u001b[38;5;124m\"\u001b[39m: only_integers, \n\u001b[0;32m     11\u001b[0m     \u001b[38;5;124m\"\u001b[39m\u001b[38;5;124monly_strings\u001b[39m\u001b[38;5;124m\"\u001b[39m: only_integers\n\u001b[0;32m     12\u001b[0m })\n\u001b[1;32m---> 14\u001b[0m \u001b[43massert_frame_equal\u001b[49m\u001b[43m(\u001b[49m\u001b[43mfirst_dataframe\u001b[49m\u001b[43m,\u001b[49m\u001b[43m \u001b[49m\u001b[43msecond_dataframe\u001b[49m\u001b[43m)\u001b[49m\n",
      "File \u001b[1;32mc:\\primary\\programovani\\python\\polars\\environment\\lib\\site-packages\\polars\\_utils\\deprecation.py:91\u001b[0m, in \u001b[0;36mdeprecate_renamed_parameter.<locals>.decorate.<locals>.wrapper\u001b[1;34m(*args, **kwargs)\u001b[0m\n\u001b[0;32m     86\u001b[0m \u001b[38;5;129m@wraps\u001b[39m(function)\n\u001b[0;32m     87\u001b[0m \u001b[38;5;28;01mdef\u001b[39;00m \u001b[38;5;21mwrapper\u001b[39m(\u001b[38;5;241m*\u001b[39margs: P\u001b[38;5;241m.\u001b[39margs, \u001b[38;5;241m*\u001b[39m\u001b[38;5;241m*\u001b[39mkwargs: P\u001b[38;5;241m.\u001b[39mkwargs) \u001b[38;5;241m-\u001b[39m\u001b[38;5;241m>\u001b[39m T:\n\u001b[0;32m     88\u001b[0m     _rename_keyword_argument(\n\u001b[0;32m     89\u001b[0m         old_name, new_name, kwargs, function\u001b[38;5;241m.\u001b[39m\u001b[38;5;18m__qualname__\u001b[39m, version\n\u001b[0;32m     90\u001b[0m     )\n\u001b[1;32m---> 91\u001b[0m     \u001b[38;5;28;01mreturn\u001b[39;00m function(\u001b[38;5;241m*\u001b[39margs, \u001b[38;5;241m*\u001b[39m\u001b[38;5;241m*\u001b[39mkwargs)\n",
      "    \u001b[1;31m[... skipping hidden 2 frame]\u001b[0m\n",
      "File \u001b[1;32mc:\\primary\\programovani\\python\\polars\\environment\\lib\\site-packages\\polars\\testing\\asserts\\utils.py:12\u001b[0m, in \u001b[0;36mraise_assertion_error\u001b[1;34m(objects, detail, left, right, cause)\u001b[0m\n\u001b[0;32m     10\u001b[0m __tracebackhide__ \u001b[38;5;241m=\u001b[39m \u001b[38;5;28;01mTrue\u001b[39;00m\n\u001b[0;32m     11\u001b[0m msg \u001b[38;5;241m=\u001b[39m \u001b[38;5;124mf\u001b[39m\u001b[38;5;124m\"\u001b[39m\u001b[38;5;132;01m{\u001b[39;00mobjects\u001b[38;5;132;01m}\u001b[39;00m\u001b[38;5;124m are different (\u001b[39m\u001b[38;5;132;01m{\u001b[39;00mdetail\u001b[38;5;132;01m}\u001b[39;00m\u001b[38;5;124m)\u001b[39m\u001b[38;5;130;01m\\n\u001b[39;00m\u001b[38;5;124m[left]:  \u001b[39m\u001b[38;5;132;01m{\u001b[39;00mleft\u001b[38;5;132;01m}\u001b[39;00m\u001b[38;5;130;01m\\n\u001b[39;00m\u001b[38;5;124m[right]: \u001b[39m\u001b[38;5;132;01m{\u001b[39;00mright\u001b[38;5;132;01m}\u001b[39;00m\u001b[38;5;124m\"\u001b[39m\n\u001b[1;32m---> 12\u001b[0m \u001b[38;5;28;01mraise\u001b[39;00m \u001b[38;5;167;01mAssertionError\u001b[39;00m(msg) \u001b[38;5;28;01mfrom\u001b[39;00m \u001b[38;5;21;01mcause\u001b[39;00m\n",
      "\u001b[1;31mAssertionError\u001b[0m: DataFrames are different (dtypes do not match)\n[left]:  {'only_integers': Int64, 'only_strings': String}\n[right]: {'only_integers': Int64, 'only_strings': Int64}"
     ]
    }
   ],
   "source": [
    "only_integers = [1,2,3,4,155]\n",
    "only_strings = [\"jedna\", \"dva\", \"tři\", \"čtyři\", \"pět\"]\n",
    "\n",
    "first_dataframe = pl.DataFrame({\n",
    "    \"only_integers\": only_integers, \n",
    "    \"only_strings\": only_strings\n",
    "})\n",
    "\n",
    "second_dataframe = pl.DataFrame({\n",
    "    \"only_integers\": only_integers, \n",
    "    \"only_strings\": only_integers\n",
    "})\n",
    "\n",
    "assert_frame_equal(first_dataframe, second_dataframe)"
   ]
  },
  {
   "cell_type": "code",
   "execution_count": 63,
   "id": "fc51b3b7-c498-45d3-ab57-3db79b960643",
   "metadata": {},
   "outputs": [],
   "source": [
    "only_integers = [1,2,3,4,155]\n",
    "only_strings = [\"jedna\", \"dva\", \"tři\", \"čtyři\", \"pět\"]\n",
    "\n",
    "first_dataframe = pl.DataFrame({\n",
    "    \"only_integers\": only_integers, \n",
    "    \"only_strings\": only_strings\n",
    "}).lazy()\n",
    "\n",
    "second_dataframe = pl.DataFrame({\n",
    "    \"only_integers\": only_integers, \n",
    "    \"only_strings\": only_strings\n",
    "}).lazy()\n",
    "\n",
    "assert_frame_equal(first_dataframe, second_dataframe)"
   ]
  },
  {
   "cell_type": "code",
   "execution_count": 64,
   "id": "11c0b2a9-6d97-48ff-896a-bbdc7ebeeac3",
   "metadata": {},
   "outputs": [
    {
     "ename": "AssertionError",
     "evalue": "LazyFrames are different (value mismatch for column 'only_strings')\n[left]:  ['jedna', 'dva', 'tři', 'čtyři', 'pět']\n[right]: ['jedna', 'dva', 'tři', 'čtyři', 'padesát']",
     "output_type": "error",
     "traceback": [
      "\u001b[1;31m---------------------------------------------------------------------------\u001b[0m",
      "\u001b[1;31mAssertionError\u001b[0m                            Traceback (most recent call last)",
      "    \u001b[1;31m[... skipping hidden 2 frame]\u001b[0m\n",
      "File \u001b[1;32mc:\\primary\\programovani\\python\\polars\\environment\\lib\\site-packages\\polars\\testing\\asserts\\utils.py:12\u001b[0m, in \u001b[0;36mraise_assertion_error\u001b[1;34m(objects, detail, left, right, cause)\u001b[0m\n\u001b[0;32m     11\u001b[0m msg \u001b[38;5;241m=\u001b[39m \u001b[38;5;124mf\u001b[39m\u001b[38;5;124m\"\u001b[39m\u001b[38;5;132;01m{\u001b[39;00mobjects\u001b[38;5;132;01m}\u001b[39;00m\u001b[38;5;124m are different (\u001b[39m\u001b[38;5;132;01m{\u001b[39;00mdetail\u001b[38;5;132;01m}\u001b[39;00m\u001b[38;5;124m)\u001b[39m\u001b[38;5;130;01m\\n\u001b[39;00m\u001b[38;5;124m[left]:  \u001b[39m\u001b[38;5;132;01m{\u001b[39;00mleft\u001b[38;5;132;01m}\u001b[39;00m\u001b[38;5;130;01m\\n\u001b[39;00m\u001b[38;5;124m[right]: \u001b[39m\u001b[38;5;132;01m{\u001b[39;00mright\u001b[38;5;132;01m}\u001b[39;00m\u001b[38;5;124m\"\u001b[39m\n\u001b[1;32m---> 12\u001b[0m \u001b[38;5;28;01mraise\u001b[39;00m \u001b[38;5;167;01mAssertionError\u001b[39;00m(msg) \u001b[38;5;28;01mfrom\u001b[39;00m \u001b[38;5;21;01mcause\u001b[39;00m\n",
      "\u001b[1;31mAssertionError\u001b[0m: Series are different (exact value mismatch)\n[left]:  ['jedna', 'dva', 'tři', 'čtyři', 'pět']\n[right]: ['jedna', 'dva', 'tři', 'čtyři', 'padesát']",
      "\nThe above exception was the direct cause of the following exception:\n",
      "\u001b[1;31mAssertionError\u001b[0m                            Traceback (most recent call last)",
      "Cell \u001b[1;32mIn[64], line 15\u001b[0m\n\u001b[0;32m      5\u001b[0m first_dataframe \u001b[38;5;241m=\u001b[39m pl\u001b[38;5;241m.\u001b[39mDataFrame({\n\u001b[0;32m      6\u001b[0m     \u001b[38;5;124m\"\u001b[39m\u001b[38;5;124monly_integers\u001b[39m\u001b[38;5;124m\"\u001b[39m: only_integers, \n\u001b[0;32m      7\u001b[0m     \u001b[38;5;124m\"\u001b[39m\u001b[38;5;124monly_strings\u001b[39m\u001b[38;5;124m\"\u001b[39m: only_strings\n\u001b[0;32m      8\u001b[0m })\u001b[38;5;241m.\u001b[39mlazy()\n\u001b[0;32m     10\u001b[0m second_dataframe \u001b[38;5;241m=\u001b[39m pl\u001b[38;5;241m.\u001b[39mDataFrame({\n\u001b[0;32m     11\u001b[0m     \u001b[38;5;124m\"\u001b[39m\u001b[38;5;124monly_integers\u001b[39m\u001b[38;5;124m\"\u001b[39m: only_integers, \n\u001b[0;32m     12\u001b[0m     \u001b[38;5;124m\"\u001b[39m\u001b[38;5;124monly_strings\u001b[39m\u001b[38;5;124m\"\u001b[39m: only_strings2\n\u001b[0;32m     13\u001b[0m })\u001b[38;5;241m.\u001b[39mlazy()\n\u001b[1;32m---> 15\u001b[0m \u001b[43massert_frame_equal\u001b[49m\u001b[43m(\u001b[49m\u001b[43mfirst_dataframe\u001b[49m\u001b[43m,\u001b[49m\u001b[43m \u001b[49m\u001b[43msecond_dataframe\u001b[49m\u001b[43m)\u001b[49m\n",
      "File \u001b[1;32mc:\\primary\\programovani\\python\\polars\\environment\\lib\\site-packages\\polars\\_utils\\deprecation.py:91\u001b[0m, in \u001b[0;36mdeprecate_renamed_parameter.<locals>.decorate.<locals>.wrapper\u001b[1;34m(*args, **kwargs)\u001b[0m\n\u001b[0;32m     86\u001b[0m \u001b[38;5;129m@wraps\u001b[39m(function)\n\u001b[0;32m     87\u001b[0m \u001b[38;5;28;01mdef\u001b[39;00m \u001b[38;5;21mwrapper\u001b[39m(\u001b[38;5;241m*\u001b[39margs: P\u001b[38;5;241m.\u001b[39margs, \u001b[38;5;241m*\u001b[39m\u001b[38;5;241m*\u001b[39mkwargs: P\u001b[38;5;241m.\u001b[39mkwargs) \u001b[38;5;241m-\u001b[39m\u001b[38;5;241m>\u001b[39m T:\n\u001b[0;32m     88\u001b[0m     _rename_keyword_argument(\n\u001b[0;32m     89\u001b[0m         old_name, new_name, kwargs, function\u001b[38;5;241m.\u001b[39m\u001b[38;5;18m__qualname__\u001b[39m, version\n\u001b[0;32m     90\u001b[0m     )\n\u001b[1;32m---> 91\u001b[0m     \u001b[38;5;28;01mreturn\u001b[39;00m function(\u001b[38;5;241m*\u001b[39margs, \u001b[38;5;241m*\u001b[39m\u001b[38;5;241m*\u001b[39mkwargs)\n",
      "    \u001b[1;31m[... skipping hidden 1 frame]\u001b[0m\n",
      "File \u001b[1;32mc:\\primary\\programovani\\python\\polars\\environment\\lib\\site-packages\\polars\\testing\\asserts\\utils.py:12\u001b[0m, in \u001b[0;36mraise_assertion_error\u001b[1;34m(objects, detail, left, right, cause)\u001b[0m\n\u001b[0;32m     10\u001b[0m __tracebackhide__ \u001b[38;5;241m=\u001b[39m \u001b[38;5;28;01mTrue\u001b[39;00m\n\u001b[0;32m     11\u001b[0m msg \u001b[38;5;241m=\u001b[39m \u001b[38;5;124mf\u001b[39m\u001b[38;5;124m\"\u001b[39m\u001b[38;5;132;01m{\u001b[39;00mobjects\u001b[38;5;132;01m}\u001b[39;00m\u001b[38;5;124m are different (\u001b[39m\u001b[38;5;132;01m{\u001b[39;00mdetail\u001b[38;5;132;01m}\u001b[39;00m\u001b[38;5;124m)\u001b[39m\u001b[38;5;130;01m\\n\u001b[39;00m\u001b[38;5;124m[left]:  \u001b[39m\u001b[38;5;132;01m{\u001b[39;00mleft\u001b[38;5;132;01m}\u001b[39;00m\u001b[38;5;130;01m\\n\u001b[39;00m\u001b[38;5;124m[right]: \u001b[39m\u001b[38;5;132;01m{\u001b[39;00mright\u001b[38;5;132;01m}\u001b[39;00m\u001b[38;5;124m\"\u001b[39m\n\u001b[1;32m---> 12\u001b[0m \u001b[38;5;28;01mraise\u001b[39;00m \u001b[38;5;167;01mAssertionError\u001b[39;00m(msg) \u001b[38;5;28;01mfrom\u001b[39;00m \u001b[38;5;21;01mcause\u001b[39;00m\n",
      "\u001b[1;31mAssertionError\u001b[0m: LazyFrames are different (value mismatch for column 'only_strings')\n[left]:  ['jedna', 'dva', 'tři', 'čtyři', 'pět']\n[right]: ['jedna', 'dva', 'tři', 'čtyři', 'padesát']"
     ]
    }
   ],
   "source": [
    "only_integers = [1,2,3,4,155]\n",
    "only_strings = [\"jedna\", \"dva\", \"tři\", \"čtyři\", \"pět\"]\n",
    "only_strings2 = [\"jedna\", \"dva\", \"tři\", \"čtyři\", \"padesát\"]\n",
    "\n",
    "first_dataframe = pl.DataFrame({\n",
    "    \"only_integers\": only_integers, \n",
    "    \"only_strings\": only_strings\n",
    "}).lazy()\n",
    "\n",
    "second_dataframe = pl.DataFrame({\n",
    "    \"only_integers\": only_integers, \n",
    "    \"only_strings\": only_strings2\n",
    "}).lazy()\n",
    "\n",
    "assert_frame_equal(first_dataframe, second_dataframe)"
   ]
  },
  {
   "cell_type": "code",
   "execution_count": null,
   "id": "85934849-435b-4c47-a1e3-4f449da71b23",
   "metadata": {},
   "outputs": [],
   "source": []
  },
  {
   "cell_type": "code",
   "execution_count": null,
   "id": "1f3aca69-6869-4a41-b772-31352391c61b",
   "metadata": {},
   "outputs": [],
   "source": []
  }
 ],
 "metadata": {
  "kernelspec": {
   "display_name": "Python 3 (ipykernel)",
   "language": "python",
   "name": "python3"
  },
  "language_info": {
   "codemirror_mode": {
    "name": "ipython",
    "version": 3
   },
   "file_extension": ".py",
   "mimetype": "text/x-python",
   "name": "python",
   "nbconvert_exporter": "python",
   "pygments_lexer": "ipython3",
   "version": "3.10.11"
  }
 },
 "nbformat": 4,
 "nbformat_minor": 5
}
