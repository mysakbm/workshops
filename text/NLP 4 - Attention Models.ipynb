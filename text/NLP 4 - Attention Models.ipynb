{
 "cells": [
  {
   "cell_type": "code",
   "execution_count": 1,
   "id": "initial_id",
   "metadata": {
    "ExecuteTime": {
     "end_time": "2024-06-19T13:49:33.205980Z",
     "start_time": "2024-06-19T13:49:31.062336Z"
    }
   },
   "outputs": [
    {
     "name": "stderr",
     "output_type": "stream",
     "text": [
      "[nltk_data] Downloading package punkt to\n",
      "[nltk_data]     /Users/michaelmateju/nltk_data...\n",
      "[nltk_data]   Package punkt is already up-to-date!\n"
     ]
    }
   ],
   "source": [
    "import re\n",
    "import numpy as np\n",
    "import pandas as pd\n",
    "from collections import defaultdict\n",
    "import matplotlib.pyplot as plt \n",
    "import string\n",
    "import math\n",
    "import random\n",
    "import re # regular expression library; for tokenization of words\n",
    "import time\n",
    "import sentencepiece\n",
    "import transformers\n",
    "\n",
    "from collections import Counter # collections library; counter: dict subclass for counting hashable objects\n",
    "from pomocne_soubory.utils_pos import get_word_tag, preprocess\n",
    "from pomocne_soubory.utils2 import get_dict\n",
    "\n",
    "import emoji\n",
    "import pickle\n",
    "\n",
    "import nltk # import NLTK to handle simple NL tasks like tokenization.\n",
    "from nltk.tokenize import word_tokenize            \n",
    "nltk.download(\"punkt\")\n",
    "from nltk.util import ngrams\n",
    "\n"
   ]
  },
  {
   "cell_type": "code",
   "execution_count": 2,
   "id": "20834d2779f34784",
   "metadata": {
    "ExecuteTime": {
     "end_time": "2024-06-19T09:07:17.003839Z",
     "start_time": "2024-06-19T09:07:15.471677Z"
    }
   },
   "outputs": [
    {
     "name": "stdout",
     "output_type": "stream",
     "text": [
      "Requirement already satisfied: sacrebleu in /Users/michaelmateju/miniconda3/envs/basic/lib/python3.9/site-packages (2.4.2)\r\n",
      "Requirement already satisfied: portalocker in /Users/michaelmateju/miniconda3/envs/basic/lib/python3.9/site-packages (from sacrebleu) (2.8.2)\r\n",
      "Requirement already satisfied: regex in /Users/michaelmateju/miniconda3/envs/basic/lib/python3.9/site-packages (from sacrebleu) (2024.5.15)\r\n",
      "Requirement already satisfied: tabulate>=0.8.9 in /Users/michaelmateju/miniconda3/envs/basic/lib/python3.9/site-packages (from sacrebleu) (0.9.0)\r\n",
      "Requirement already satisfied: numpy>=1.17 in /Users/michaelmateju/miniconda3/envs/basic/lib/python3.9/site-packages (from sacrebleu) (1.26.4)\r\n",
      "Requirement already satisfied: colorama in /Users/michaelmateju/miniconda3/envs/basic/lib/python3.9/site-packages (from sacrebleu) (0.4.6)\r\n",
      "Requirement already satisfied: lxml in /Users/michaelmateju/miniconda3/envs/basic/lib/python3.9/site-packages (from sacrebleu) (4.9.2)\r\n"
     ]
    }
   ],
   "source": [
    "!pip3 install 'sacrebleu'           # install the sacrebleu package.\n",
    "import sacrebleu                    # import sacrebleu in order compute the BLEU score."
   ]
  },
  {
   "cell_type": "code",
   "execution_count": 3,
   "id": "72fc97d7b21e5f95",
   "metadata": {
    "ExecuteTime": {
     "end_time": "2024-06-19T09:07:54.989629Z",
     "start_time": "2024-06-19T09:07:17.005917Z"
    }
   },
   "outputs": [],
   "source": [
    "import os\n",
    "os.environ['TF_CPP_MIN_LOG_LEVEL'] = '3' # Setting this env variable prevents TF warnings from showing up\n",
    "\n",
    "import tensorflow as tf\n",
    "import tensorflow_text as tf_text\n",
    "from pomocne_soubory.utils_nmt_attention import (sentences, train_data, val_data, english_vectorizer, portuguese_vectorizer, masked_loss, masked_acc, tokens_to_text)"
   ]
  },
  {
   "cell_type": "code",
   "execution_count": 4,
   "id": "fd2e6eb01e66b894",
   "metadata": {
    "ExecuteTime": {
     "end_time": "2024-06-19T09:07:54.993438Z",
     "start_time": "2024-06-19T09:07:54.990834Z"
    }
   },
   "outputs": [],
   "source": [
    "import textwrap\n",
    "wrapper = textwrap.TextWrapper(width=70)\n"
   ]
  },
  {
   "cell_type": "markdown",
   "id": "e6fa25233ed5acd5",
   "metadata": {
    "jp-MarkdownHeadingCollapsed": true
   },
   "source": [
    "# 1. Natural Language Processing with Probabilistic Models"
   ]
  },
  {
   "cell_type": "markdown",
   "id": "f03aef059c88c8b9",
   "metadata": {
    "jp-MarkdownHeadingCollapsed": true
   },
   "source": [
    "## 1.1 Machine Translation"
   ]
  },
  {
   "cell_type": "markdown",
   "id": "652b7c5c3412423b",
   "metadata": {},
   "source": [
    "Jeden z prvnich modelu, ktery pouzival Attention mechanismus, je model pro preklad textu. V tomto pripade se jedna o \n",
    "preklad z anglictiny do francouzstiny. Model se nazyva Seq2Seq model, se kterym prisel v roce 2014 Ilya Sutskever ze spolecnosti Google.\n",
    "Model se sklada z dvou hlavnich casti: Encoder a Decoder. Encoder prevede vstupni\n",
    "sekvenci na vektor fixni delky, tzv. embedding dimension, ktery reprezentuje vstupni sekvenci. \n",
    "Decoder prevede tento vektor na vystupni sekvenci, opet ruzne delky. V modelu se pouzivaji dva typy RNN: LSTM a GRU, \n",
    "abychom se vyhnuli problemu s vanishing/exploding gradientem. \n",
    "\n",
    "Encoder vetsinou ma embedding layer, ktery prevede slova na vektory, RNN, ktery prevede vektory na jeden vektor, \n",
    "ktery zachycuje vyznam vstupni sekvence. "
   ]
  },
  {
   "cell_type": "markdown",
   "id": "ede97fe3da948d27",
   "metadata": {},
   "source": [
    "![Seq2Seq](./pomocne_soubory/seq2seq_1.png)"
   ]
  },
  {
   "cell_type": "markdown",
   "id": "c21a2148dc066fbf",
   "metadata": {},
   "source": [
    "Decoder ma take embedding layer, ktery prevede slova na vektory, RNN, ktery prevede vektor na sekvenci vystupnich \n",
    "slov. Prvni slovo je vzdy <start>, ktere se prevede na vektor a ten se pouzije jako vstup do RNN. RNN pak vygeneruje\n",
    "dalsi slovo, ktere se pouzije jako vstup do dalsi iterace. Tento proces se opakuje, dokud model nevygeneruje <end>\n",
    "slovo nebo nedosahne maximalni delky vystupni sekvence."
   ]
  },
  {
   "cell_type": "markdown",
   "id": "944059d2efeb9166",
   "metadata": {},
   "source": [
    "![Seq2Seq](./pomocne_soubory/seq2seq_2.png)"
   ]
  },
  {
   "cell_type": "markdown",
   "id": "8925458953ee7598",
   "metadata": {},
   "source": [
    "Hlavni nevyhodou modelu je tzv. information bottleneck, kdy je cela informace z vstupni sekvence zakodovana do jednoho\n",
    "vektoru fixni delky. Pro velmi dlouhe vstupni sekvence muze byt tento vektor prilis kratky a neobsahovat dostatek \n",
    "informaci. Resenim by mohlo byt pouzit vsechny vstupni hidden states z encoderu do decoderu, ale to zase vede k \n",
    "pretizeni pameti a vypoctu. Proto vznikl Attention mechanismus, ktery umoznuje modelu se zamirit na ruzne casti\n",
    "vstupni sekvence pri generovani vystupni sekvence."
   ]
  },
  {
   "cell_type": "markdown",
   "id": "a3846f80e9730fa",
   "metadata": {},
   "source": [
    "![Seq2Seq](./pomocne_soubory/seq2seq_3.png)"
   ]
  },
  {
   "cell_type": "markdown",
   "id": "dbfcc16759d8829b",
   "metadata": {},
   "source": [
    "Attention mechasmus zkombinuje vsechny hidden states z encoderu a vytvori novy vektor, ktery se nazyva context vector. \n",
    "Zkombinuje = affini soucet hidden states z encoderu a vahy, ktere urcuji, jak moc se ma brat v potaz dany hidden \n",
    "state. Vahy zavisi na aktualnim hidden state z decoderu a vsechny hidden states z encoderu."
   ]
  },
  {
   "cell_type": "markdown",
   "id": "9ac89708162648c",
   "metadata": {},
   "source": [
    "![Seq2Seq](./pomocne_soubory/seq2seq_4.png)"
   ]
  },
  {
   "cell_type": "markdown",
   "id": "3cdbb65a6ddf3aa8",
   "metadata": {},
   "source": [
    "Vahy se napocitavaji pri treniniku modelu. \n",
    "\n",
    "![Seq2Seq](./pomocne_soubory/seq2seq_5.png)"
   ]
  },
  {
   "cell_type": "markdown",
   "id": "7e3d2692f51e872f",
   "metadata": {
    "jp-MarkdownHeadingCollapsed": true
   },
   "source": [
    "### LAB: Basic Attention"
   ]
  },
  {
   "cell_type": "code",
   "execution_count": 5,
   "id": "84bf28b9b9f90c08",
   "metadata": {
    "ExecuteTime": {
     "end_time": "2024-06-19T10:13:55.585104Z",
     "start_time": "2024-06-19T10:13:55.573675Z"
    }
   },
   "outputs": [],
   "source": [
    "def softmax(x, axis=0):\n",
    "    \"\"\" Calculate softmax function for an array x along specified axis\n",
    "    \n",
    "        axis=0 calculates softmax across rows which means each column sums to 1 \n",
    "        axis=1 calculates softmax across columns which means each row sums to 1\n",
    "    \"\"\"\n",
    "    return np.exp(x) / np.expand_dims(np.sum(np.exp(x), axis=axis), axis)"
   ]
  },
  {
   "cell_type": "markdown",
   "id": "511f652ad451ff74",
   "metadata": {},
   "source": [
    "1: Calculating alignment scores\n",
    "\n",
    "The first step is to calculate the alignment scores. This is a measure of similarity between the decoder hidden state and each encoder hidden state. From the paper, this operation looks like\n",
    "\n",
    "$$\n",
    "\\large e_{ij} = v_a^\\top \\tanh{\\left(W_a s_{i-1} + U_a h_j\\right)}\n",
    "$$\n",
    "\n",
    "where $W_a \\in \\mathbb{R}^{n\\times m}$, $U_a \\in \\mathbb{R}^{n \\times m}$, and $v_a \\in \\mathbb{R}^m$\n",
    "are the weight matrices and $n$ is the hidden state size. In practice, this is implemented as a feedforward neural network with two layers, where $m$ is the size of the layers in the alignment network. \n",
    "\n",
    "Here $h_j$ are the encoder hidden states for each input step $j$ and $s_{i - 1}$ is the decoder hidden state of the previous step. The first layer corresponds to $W_a$ and $U_a$, while the second layer corresponds to $v_a$.\n",
    "\n",
    "To implement this, first concatenate the encoder and decoder hidden states to produce an array with size $K \\times 2n$ where $K$ is the number of encoder states/steps. For this, use `np.concatenate` ([docs](https://numpy.org/doc/stable/reference/generated/numpy.concatenate.html)). Note that there is only one decoder state so you'll need to reshape it to successfully concatenate the arrays. The easiest way is to use `decoder_state.repeat` ([docs](https://numpy.org/doc/stable/reference/generated/numpy.repeat.html#numpy.repeat)) to match the hidden state array size.\n",
    "\n",
    "Then, apply the first layer as a matrix multiplication between the weights and the concatenated input. Use the tanh function to get the activations. Finally, compute the matrix multiplication of the second layer weights and the activations. This returns the alignment scores."
   ]
  },
  {
   "cell_type": "code",
   "execution_count": 6,
   "id": "573c0f834fe1b34a",
   "metadata": {
    "ExecuteTime": {
     "end_time": "2024-06-19T10:13:57.096599Z",
     "start_time": "2024-06-19T10:13:57.089791Z"
    }
   },
   "outputs": [],
   "source": [
    "hidden_size = 16\n",
    "attention_size = 10\n",
    "input_length = 5\n",
    "\n",
    "np.random.seed(42)\n",
    "\n",
    "# Synthetic vectors used to test\n",
    "encoder_states = np.random.randn(input_length, hidden_size)\n",
    "decoder_state = np.random.randn(1, hidden_size)\n",
    "\n",
    "# Weights for the neural network, these are typically learned through training\n",
    "# Use these in the alignment function below as the layer weights\n",
    "layer_1 = np.random.randn(2 * hidden_size, attention_size)\n",
    "layer_2 = np.random.randn(attention_size, 1)\n",
    "\n",
    "# Implement this function. Replace None with your code. Solution at the bottom of the notebook\n",
    "def alignment(encoder_states, decoder_state):\n",
    "    # First, concatenate the encoder states and the decoder state\n",
    "    inputs = np.concatenate((encoder_states, decoder_state.repeat(input_length, axis=0)), axis=1)\n",
    "    assert inputs.shape == (input_length, 2 * hidden_size)\n",
    "    \n",
    "    # Matrix multiplication of the concatenated inputs and layer_1, with tanh activation\n",
    "    activations = np.tanh(np.matmul(inputs, layer_1))\n",
    "    assert activations.shape == (input_length, attention_size)\n",
    "    \n",
    "    # Matrix multiplication of the activations with layer_2. Remember that you don't need tanh here\n",
    "    scores = np.matmul(activations, layer_2)\n",
    "    assert scores.shape == (input_length, 1)\n",
    "    \n",
    "    return scores"
   ]
  },
  {
   "cell_type": "code",
   "execution_count": 7,
   "id": "da5094328d180acf",
   "metadata": {
    "ExecuteTime": {
     "end_time": "2024-06-19T10:13:57.501996Z",
     "start_time": "2024-06-19T10:13:57.497897Z"
    }
   },
   "outputs": [
    {
     "name": "stdout",
     "output_type": "stream",
     "text": [
      "[[4.35790943]\n",
      " [5.92373433]\n",
      " [4.18673175]\n",
      " [2.11437202]\n",
      " [0.95767155]]\n"
     ]
    }
   ],
   "source": [
    "# Run this to test your alignment function\n",
    "scores = alignment(encoder_states, decoder_state)\n",
    "print(scores)"
   ]
  },
  {
   "cell_type": "markdown",
   "id": "37d96c1c1c03f525",
   "metadata": {},
   "source": [
    "2: Turning alignment into weights\n",
    "\n",
    "The next step is to calculate the weights from the alignment scores. These weights determine the encoder outputs that are the most important for the decoder output. These weights should be between 0 and 1. You can use the softmax function (which is already implemented above) to get these weights from the attention scores. Pass the attention scores vector to the softmax function to get the weights. Mathematically,\n",
    "\n",
    "$$\n",
    "\\large \\alpha_{ij} = \\frac{\\exp{\\left(e_{ij}\\right)}}{\\sum_{k=1}^K \\exp{\\left(e_{ik}\\right)}}\n",
    "$$\n",
    "\n",
    "\n",
    "\n",
    "3: Weight the encoder output vectors and sum\n",
    "\n",
    "The weights tell you the importance of each input word with respect to the decoder state. In this step, you use the weights to modulate the magnitude of the encoder vectors. Words with little importance will be scaled down relative to important words. Multiply each encoder vector by its respective weight to get the alignment vectors, then sum up the weighted alignment vectors to get the context vector. Mathematically,\n",
    "\n",
    "$$\n",
    "\\large c_i = \\sum_{j=1}^K\\alpha_{ij} h_{j}\n",
    "$$\n",
    "\n",
    "Implement these steps in the `attention` function below."
   ]
  },
  {
   "cell_type": "code",
   "execution_count": 8,
   "id": "1c030ad8240a3953",
   "metadata": {
    "ExecuteTime": {
     "end_time": "2024-06-19T10:13:59.234922Z",
     "start_time": "2024-06-19T10:13:59.230751Z"
    }
   },
   "outputs": [
    {
     "name": "stdout",
     "output_type": "stream",
     "text": [
      "[-0.63514569  0.04917298 -0.43930867 -0.9268003   1.01903919 -0.43181409\n",
      "  0.13365099 -0.84746874 -0.37572203  0.18279832 -0.90452701  0.17872958\n",
      " -0.58015282 -0.58294027 -0.75457577  1.32985756]\n"
     ]
    }
   ],
   "source": [
    "# Implement this function. Replace None with your code.\n",
    "def attention(encoder_states, decoder_state):\n",
    "    \"\"\" Example function that calculates attention, returns the context vector \n",
    "    \n",
    "        Arguments:\n",
    "        encoder_vectors: NxM numpy array, where N is the number of vectors and M is the vector length\n",
    "        decoder_vector: 1xM numpy array, M is the vector length, much be the same M as encoder_vectors\n",
    "    \"\"\" \n",
    "    \n",
    "    # First, calculate the alignment scores\n",
    "    scores = alignment(encoder_states, decoder_state)\n",
    "    \n",
    "    # Then take the softmax of the alignment scores to get a weight distribution\n",
    "    weights = softmax(scores)\n",
    "    \n",
    "    # Multiply each encoder state by its respective weight\n",
    "    weighted_scores = encoder_states * weights\n",
    "    \n",
    "    # Sum up weighted alignment vectors to get the context vector and return it\n",
    "    context = np.sum(weighted_scores, axis=0)\n",
    "    return context\n",
    "\n",
    "context_vector = attention(encoder_states, decoder_state)\n",
    "print(context_vector)"
   ]
  },
  {
   "cell_type": "markdown",
   "id": "fc5b12336b44e84d",
   "metadata": {
    "jp-MarkdownHeadingCollapsed": true
   },
   "source": [
    "### Attention mechanism"
   ]
  },
  {
   "cell_type": "markdown",
   "id": "330798f0df779423",
   "metadata": {},
   "source": [
    "Pro pochopeni jak funguje attention mechanismus viz tenhle post: https://jalammar.github.io/illustrated-transformer/"
   ]
  },
  {
   "cell_type": "markdown",
   "id": "493e7888763185f6",
   "metadata": {
    "jp-MarkdownHeadingCollapsed": true
   },
   "source": [
    "### LAB: Attention Mechanism - Scaled dot-product attention"
   ]
  },
  {
   "cell_type": "code",
   "execution_count": 9,
   "id": "b7e03b625d0c0e",
   "metadata": {
    "ExecuteTime": {
     "end_time": "2024-06-19T10:14:00.204802Z",
     "start_time": "2024-06-19T10:14:00.078673Z"
    }
   },
   "outputs": [],
   "source": [
    "# Load the word2int dictionaries\n",
    "with open(\"./pomocne_soubory/word2int_en.pkl\", \"rb\") as f:\n",
    "    en_words = pickle.load(f)\n",
    "    \n",
    "with open(\"./pomocne_soubory/word2int_fr.pkl\", \"rb\") as f:\n",
    "    fr_words = pickle.load(f)\n",
    "\n",
    "# Load the word embeddings\n",
    "en_embeddings = np.load(\"./pomocne_soubory/embeddings_en.npz\")[\"embeddings\"]\n",
    "fr_embeddings = np.load(\"./pomocne_soubory/embeddings_fr.npz\")[\"embeddings\"]"
   ]
  },
  {
   "cell_type": "code",
   "execution_count": 10,
   "id": "d5034422a6a96c88",
   "metadata": {
    "ExecuteTime": {
     "end_time": "2024-06-19T10:14:00.284627Z",
     "start_time": "2024-06-19T10:14:00.276045Z"
    }
   },
   "outputs": [],
   "source": [
    "# Define some helper functions\n",
    "\n",
    "def tokenize(sentence, token_mapping):\n",
    "    tokenized = []\n",
    "    \n",
    "    for word in sentence.lower().split(\" \"):\n",
    "        try:\n",
    "            tokenized.append(token_mapping[word])\n",
    "        except KeyError:\n",
    "            # Using -1 to indicate an unknown word\n",
    "            tokenized.append(-1)\n",
    "        \n",
    "    return tokenized\n",
    "\n",
    "\n",
    "def embed(tokens, embeddings):\n",
    "    embed_size = embeddings.shape[1]\n",
    "    \n",
    "    output = np.zeros((len(tokens), embed_size))\n",
    "    for i, token in enumerate(tokens):\n",
    "        if token == -1:\n",
    "            output[i] = np.zeros((1, embed_size))\n",
    "        else:\n",
    "            output[i] = embeddings[token]\n",
    "            \n",
    "    return output"
   ]
  },
  {
   "cell_type": "markdown",
   "id": "71f5dd9d441332c4",
   "metadata": {},
   "source": [
    "The scaled-dot product attention consists of two matrix multiplications and a softmax scaling as shown in the diagram below from [Vaswani, et al. (2017)](https://arxiv.org/abs/1706.03762). It takes three input matrices, the queries, keys, and values.\n",
    "\n",
    "![scaled-dot product attention diagram](./pomocne_soubory/attention.png)"
   ]
  },
  {
   "cell_type": "markdown",
   "id": "17f1d741f8ff03aa",
   "metadata": {},
   "source": [
    "Mathematically, this is expressed as:\n",
    "$$ \n",
    "\\large \\mathrm{Attention}\\left(Q, K, V\\right) = \\mathrm{softmax}\\left(\\frac{QK^{\\top}}{\\sqrt{d_k}}\\right)V\n",
    "$$\n",
    "\n",
    "where $Q$, $K$, and $V$ are the queries, keys, and values matrices respectively, and $d_k$ is the dimension of the keys. In practice, Q, K, and V all have the same dimensions. This form of attention is faster and more space-efficient than what you implemented before since it consists of only matrix multiplications instead of a learned feed-forward layer.\n",
    "\n",
    "Conceptually, the first matrix multiplication is a measure of the similarity between the queries and the keys. This is transformed into weights using the softmax function. These weights are then applied to the values with the second matrix multiplication resulting in output attention vectors. Typically, decoder states are used as the queries while encoder states are the keys and values.\n",
    "\n",
    "Exercise 1\n",
    "\n",
    "Implement the softmax function with Numpy and use it to calculate the weights from the queries and keys. Assume the queries and keys are 2D arrays (matrices). Note that since the dot-product of Q and K will be a matrix, you'll need to calculate softmax over a specific axis. See the end of the notebook for solutions."
   ]
  },
  {
   "cell_type": "code",
   "execution_count": 11,
   "id": "b79400a31cb18e7c",
   "metadata": {
    "ExecuteTime": {
     "end_time": "2024-06-19T10:14:02.847339Z",
     "start_time": "2024-06-19T10:14:02.844421Z"
    }
   },
   "outputs": [],
   "source": [
    "def softmax(x, axis=0):    \n",
    "    \"\"\" Calculate softmax function for an array x\n",
    "\n",
    "        axis=0 calculates softmax across rows which means each column sums to 1 \n",
    "        axis=1 calculates softmax across columns which means each row sums to 1\n",
    "    \"\"\"\n",
    "    # Replace pass with your code.\n",
    "    y = np.exp(x) \n",
    "    return y / np.expand_dims(np.sum(y, axis=axis), axis)\n",
    "\n",
    "def calculate_weights(queries, keys):\n",
    "    \"\"\" Calculate the weights for scaled dot-product attention\"\"\"\n",
    "    #Replace None with your code.\n",
    "    dot = np.matmul(queries, keys.T)/np.sqrt(keys.shape[1])\n",
    "    weights = softmax(dot, axis=1)\n",
    "    \n",
    "    assert weights.sum(axis=1)[0] == 1, \"Each row in weights must sum to 1\"\n",
    "    \n",
    "    #Replace pass with your code.\n",
    "    return weights"
   ]
  },
  {
   "cell_type": "code",
   "execution_count": 12,
   "id": "147e1f68dad34750",
   "metadata": {
    "ExecuteTime": {
     "end_time": "2024-06-19T10:14:03.668550Z",
     "start_time": "2024-06-19T10:14:03.345728Z"
    }
   },
   "outputs": [
    {
     "data": {
      "image/png": "[encoded data removed]",
      "text/plain": [
       "<Figure size 700x700 with 1 Axes>"
      ]
     },
     "metadata": {},
     "output_type": "display_data"
    }
   ],
   "source": [
    "# Tokenize example sentences in English and French, then get their embeddings\n",
    "sentence_en = \"The agreement on the European Economic Area was signed in August 1992 .\"\n",
    "tokenized_en = tokenize(sentence_en, en_words)\n",
    "embedded_en = embed(tokenized_en, en_embeddings)\n",
    "\n",
    "sentence_fr = \"L accord sur la zone économique européenne a été signé en août 1992 .\"\n",
    "tokenized_fr = tokenize(sentence_fr, fr_words)\n",
    "embedded_fr = embed(tokenized_fr, fr_embeddings)\n",
    "\n",
    "# These weights indicate alignment between words in English and French\n",
    "alignment = calculate_weights(embedded_fr, embedded_en)\n",
    "\n",
    "# Visualize weights to check for alignment\n",
    "fig, ax = plt.subplots(figsize=(7,7))\n",
    "ax.imshow(alignment, cmap='gray')\n",
    "ax.xaxis.tick_top()\n",
    "ax.set_xticks(np.arange(alignment.shape[1]))\n",
    "ax.set_xticklabels(sentence_en.split(\" \"), rotation=90, size=16);\n",
    "ax.set_yticks(np.arange(alignment.shape[0]));\n",
    "ax.set_yticklabels(sentence_fr.split(\" \"), size=16);"
   ]
  },
  {
   "cell_type": "code",
   "execution_count": 13,
   "id": "782b47a0888e0d0d",
   "metadata": {
    "ExecuteTime": {
     "end_time": "2024-06-19T10:14:04.102218Z",
     "start_time": "2024-06-19T10:14:04.099099Z"
    }
   },
   "outputs": [
    {
     "name": "stdout",
     "output_type": "stream",
     "text": [
      "The shape of the attention_qkv function is(14, 300)\n",
      "Some elements of the attention_qkv function are\n",
      "[[-0.04039161 -0.00275749  0.00389873  0.04842744 -0.02472726  0.01435613\n",
      "  -0.00370253 -0.0619686  -0.00206159  0.01615228]\n",
      " [-0.04083253 -0.00245985  0.00409068  0.04830341 -0.02479128  0.01447497\n",
      "  -0.00355203 -0.06196036 -0.00241327  0.01582606]]\n"
     ]
    }
   ],
   "source": [
    "def attention_qkv(queries, keys, values):\n",
    "    \"\"\" Calculate scaled dot-product attention from queries, keys, and values matrices \"\"\"\n",
    "    weights = calculate_weights(queries, keys)\n",
    "    return np.matmul(weights, values)\n",
    "\n",
    "\n",
    "attention_qkv_result = attention_qkv(embedded_fr, embedded_en, embedded_en)\n",
    "\n",
    "print(f\"The shape of the attention_qkv function is{attention_qkv_result.shape}\")\n",
    "print(f\"Some elements of the attention_qkv function are\\n{attention_qkv_result[0:2,:10]}\")"
   ]
  },
  {
   "cell_type": "markdown",
   "id": "7716015b507d8d69",
   "metadata": {
    "jp-MarkdownHeadingCollapsed": true
   },
   "source": [
    "## 1.2 Setup for machine translation"
   ]
  },
  {
   "cell_type": "markdown",
   "id": "ba9ad5fde97f0be0",
   "metadata": {},
   "source": [
    "Data preprocessing bude vysvelen v dalsim LABu"
   ]
  },
  {
   "cell_type": "markdown",
   "id": "ccb6a04f1cc9e06b",
   "metadata": {},
   "source": [
    "**Teacher Forcing** - je technika, ktera se pouziva pri trenovani modelu. V kazdem kroku modelu se pouzije skutecne \n",
    "slovo z vystupni sekvence, nikoli predikovane slovo. Tato technika zrychluje trenovani modelu, ale muze zpusobit, ze \n",
    "model se bude chovat jinak pri trenovani a pri predikci. \n",
    "\n",
    "Existuje varianta, ktera se jmenuje **Curriculum Learning**, ktera\n",
    "pouziva Teacher Forcing v case zacina vice a vice pouzivat predikovane slovo misto skutecneho slova.\n",
    "\n",
    "K teto technice existuje i opacna technika, ktera se nazyva **Scheduled Sampling**, ktera nahrazuje skutecne slovo s \n",
    "predikovanym slovem s urcitou pravdepodobnosti.\n"
   ]
  },
  {
   "cell_type": "markdown",
   "id": "4b8c52f1df66b820",
   "metadata": {},
   "source": [
    "V LABu bude varianta modelu NMT (Neural Machine Translation), ktera pouziva Attention mechanismus. Model bude prekladat\n",
    "text z anglictiny do francouzstiny. Varianta spociva v tom, ze bude obsahovat encoder a pre-attention decoder, \n",
    "spolecne se pak spoji v attention mechanismus a vysledek se pouzije v post-attention decoderu."
   ]
  },
  {
   "cell_type": "markdown",
   "id": "e3218d2c3912a449",
   "metadata": {},
   "source": [
    "![scaled-dot product attention diagram](./pomocne_soubory/nmt_1.png)"
   ]
  },
  {
   "cell_type": "markdown",
   "id": "dae3b83596edc7fa",
   "metadata": {},
   "source": [
    "![scaled-dot product attention diagram](./pomocne_soubory/nmt_2.png)"
   ]
  },
  {
   "cell_type": "markdown",
   "id": "87fd4dad65571bba",
   "metadata": {},
   "source": [
    "## 1.3 Machine Translation Evaluation"
   ]
  },
  {
   "cell_type": "markdown",
   "id": "61de55f63519c92",
   "metadata": {
    "jp-MarkdownHeadingCollapsed": true
   },
   "source": [
    "### BLEU Score"
   ]
  },
  {
   "cell_type": "markdown",
   "id": "751eadb127cf1d86",
   "metadata": {},
   "source": [
    "BLEU (Bilingual Evaluation Understudy) je metrika pro mereni kvality prekladu. Jedna se o precision metriku a \n",
    "napocitava tzv. n-gram precision. \n",
    "\n",
    "BLEU napocitava pocet shodnych n-gramu mezi predikovanou a skutecnou sekvenci (nebo sekvencich). Resp. jde po kazdem \n",
    "n-gramu v predikovane sekvenci a kouka se, zda-li se objevila v prekladu. Pokud ano, tak se zvysi pocet. Tj. jedna se\n",
    " opravdu o precision metriku.\n",
    "Nicmene, kazdy n-gram ze skutecne sekvence se muze vyskytnout nejvyse jedenkrat v predikovane sekvenci. Tj. pocet se \n",
    " pocita jako min(pocet vyskytu slova ve skutecne sekvenci, pocet vyskytu slova ve predikovane sekvenci).\n",
    "\n",
    "BLEU Score se pocita jako geometricke prumer aritmetickych hodnot precisionu pro kazdy n-gram. \n",
    "\n",
    "Nevyhoda BLEU je, ze n-gram precision nebere v potaz poradi slov. Tj. pokud je ve skutecne sekvenci slovo na jinem\n",
    "mistě nez v predikovane sekvenci, tak se to nepocita jako chyba."
   ]
  },
  {
   "cell_type": "markdown",
   "id": "cf36bfee9d4f53ab",
   "metadata": {
    "jp-MarkdownHeadingCollapsed": true
   },
   "source": [
    "### LAB: BLEU Score"
   ]
  },
  {
   "cell_type": "markdown",
   "id": "ab6da553e71e4336",
   "metadata": {},
   "source": [
    "$$\n",
    "BLEU = BP\\times\\Bigl( \\prod_{i=1}^{n}precision_i\\Bigr)^{(1/n)}.\\tag{1}\n",
    "$$"
   ]
  },
  {
   "cell_type": "markdown",
   "id": "846b3c29d263740",
   "metadata": {},
   "source": [
    "2. BLEU score\n",
    "\n",
    "2.1 Definitions and formulas\n",
    "\n",
    "You have seen how to calculate the BLEU score in this week's lectures. Formally, you can express the BLEU score as:\n",
    "$$\n",
    "BLEU = BP\\times\\Bigl( \\prod_{i=1}^{n}precision_i \\Bigr)^{(1/n)}.\\tag{1}\n",
    "$$"
   ]
  },
  {
   "cell_type": "markdown",
   "id": "785ba7457b7507f8",
   "metadata": {},
   "source": [
    "The BLEU score depends on the $BP$, which stands for Brevity Penalty, and the weighted geometric mean precision for different lengths of n-grams, both of which are described below. The product runs from $i=1$ to $i=n$ to account for 1-grams to n-grams and the exponent of $1/n$ is there to calculate the geometrical average. In this notebook, you will use $n=4$\n",
    "\n",
    "The **Brevity Penalty** is defined as an exponential decay:\n",
    "\n",
    "$$BP = min\\Bigl(1, e^{(1-({len(ref)}/{len(cand)}))}\\Bigr),\\tag{2}$$\n",
    "\n",
    "where ${len(ref)}$ and ${len(cand)}$ refer to the length or count of words in the reference and candidate translations. The brevity penalty helps to handle very short translations. \n",
    "\n",
    "The **precision** is defined as :\n",
    "\n",
    "$$precision_i = \\frac {\\sum_{s_i \\in{cand}}min\\Bigl(C(s_i, cand), C(s_i, ref)\\Bigr)}{\\sum_{s_i \\in{cand}} C(s_i, cand)}.\\tag{3}$$\n",
    "\n",
    "The sum goes over all the i-grams $s_i$ in the candidate sentence $cand$. $C(s_i, cand)$ and $C(s_i, ref)$ are the counts of the i-grams in the candidate and reference sentences respectively. So the sum counts all the n-grams in the candidate sentence that also appear in the reference sentence, but only counts them as many times as they appear in the reference sentence and not more. This is then divided by the total number of i-grams in the candidate sentence."
   ]
  },
  {
   "cell_type": "markdown",
   "id": "b9466d832cd2c9fc",
   "metadata": {},
   "source": [
    "2.2 Visualizing the BLEU score\n",
    "\n",
    "Brevity Penalty:\n",
    "\n",
    "The brevity penalty penalizes generated translations that are shorter than the reference sentence. It compensates for the fact that the BLEU score has no recall term."
   ]
  },
  {
   "cell_type": "code",
   "execution_count": 14,
   "id": "e73ca7fc22e7263d",
   "metadata": {
    "ExecuteTime": {
     "end_time": "2024-06-19T10:14:08.189464Z",
     "start_time": "2024-06-19T10:14:08.118607Z"
    }
   },
   "outputs": [
    {
     "data": {
      "image/png": "[encoded data removed]",
      "text/plain": [
       "<Figure size 640x480 with 1 Axes>"
      ]
     },
     "metadata": {},
     "output_type": "display_data"
    }
   ],
   "source": [
    "reference_length = 1\n",
    "candidate_length = np.linspace(1.5, 0.5, 100)\n",
    "\n",
    "length_ratio = reference_length / candidate_length\n",
    "BP = np.minimum(1, np.exp(1 - length_ratio))\n",
    "\n",
    "# Plot the data\n",
    "fig, ax = plt.subplots(1)\n",
    "lines = ax.plot(length_ratio, BP)\n",
    "ax.set(\n",
    "    xlabel=\"Ratio of the length of the reference to the candidate text\",\n",
    "    ylabel=\"Brevity Penalty\",\n",
    ")\n",
    "plt.show()"
   ]
  },
  {
   "cell_type": "markdown",
   "id": "bbee217eac609cc5",
   "metadata": {},
   "source": [
    "N-Gram Precision:\n",
    "\n",
    "The n-gram precision counts how many n-grams (in your case unigrams, bigrams, trigrams, and four-grams for i =1 , ... , 4) match their n-gram counterpart in the reference translations. This term acts as a precision metric. Unigrams account for adequacy while longer n-grams account for fluency of the translation. To avoid overcounting, the n-gram counts are clipped to the maximal n-gram count occurring in the reference ($m_{n}^{ref}$). Typically precision shows exponential decay with the degree of the n-gram."
   ]
  },
  {
   "cell_type": "code",
   "execution_count": 15,
   "id": "c67d7417c41faa48",
   "metadata": {
    "ExecuteTime": {
     "end_time": "2024-06-19T10:14:08.684685Z",
     "start_time": "2024-06-19T10:14:08.632226Z"
    }
   },
   "outputs": [
    {
     "data": {
      "image/png": "[encoded data removed]",
      "text/plain": [
       "<Figure size 640x480 with 1 Axes>"
      ]
     },
     "metadata": {},
     "output_type": "display_data"
    }
   ],
   "source": [
    "#Mocked dataset showing the precision for different n-grams\n",
    "data = {\"1-gram\": 0.8, \"2-gram\": 0.7, \"3-gram\": 0.6, \"4-gram\": 0.5}\n",
    "\n",
    "# Plot the datapoints defined above\n",
    "fig, ax = plt.subplots(1)\n",
    "bars = ax.bar(*zip(*data.items()))\n",
    "ax.set(ylabel=\"N-gram precision\")\n",
    "plt.show()"
   ]
  },
  {
   "cell_type": "markdown",
   "id": "238a2b221ed471c7",
   "metadata": {},
   "source": [
    "N-gram BLEU score:\n",
    "\n",
    "When the n-gram precision is normalized by the brevity penalty (BP), then the exponential decay of n-grams is almost fully compensated. The BLEU score corresponds to a geometric average of this modified n-gram precision."
   ]
  },
  {
   "cell_type": "code",
   "execution_count": 16,
   "id": "c0fd8141e28ddedd",
   "metadata": {
    "ExecuteTime": {
     "end_time": "2024-06-19T10:14:09.731202Z",
     "start_time": "2024-06-19T10:14:09.680968Z"
    }
   },
   "outputs": [
    {
     "data": {
      "image/png": "[encoded data removed]",
      "text/plain": [
       "<Figure size 640x480 with 1 Axes>"
      ]
     },
     "metadata": {},
     "output_type": "display_data"
    }
   ],
   "source": [
    "#Mocked dataset showing the precision multiplied by the BP for different n-grams\n",
    "data = {\"1-gram\": 0.8, \"2-gram\": 0.77, \"3-gram\": 0.74, \"4-gram\": 0.71}\n",
    "\n",
    "# Plot the datapoints defined above\n",
    "fig, ax = plt.subplots(1)\n",
    "bars = ax.bar(*zip(*data.items()))\n",
    "ax.set(ylabel=\"Modified N-gram precision\")\n",
    "plt.show()"
   ]
  },
  {
   "cell_type": "markdown",
   "id": "a9ac16d61d643589",
   "metadata": {},
   "source": [
    "3. Example Calculations of the BLEU score\n",
    "\n",
    "In this example you will have a reference sentence and 2 candidate sentences. You will tokenize all sentences using the NLTK package. Then you will compare the two candidates to the reference using BLEU score.\n",
    "\n",
    "First you define and tokenize the sentences."
   ]
  },
  {
   "cell_type": "code",
   "execution_count": 17,
   "id": "4a42bd4a6f814c5b",
   "metadata": {
    "ExecuteTime": {
     "end_time": "2024-06-19T10:14:10.053867Z",
     "start_time": "2024-06-19T10:14:10.044979Z"
    }
   },
   "outputs": [
    {
     "name": "stdout",
     "output_type": "stream",
     "text": [
      "The NASA Opportunity rover is battling a massive dust storm on planet Mars. -> ['the', 'nasa', 'opportunity', 'rover', 'is', 'battling', 'a', 'massive', 'dust', 'storm', 'on', 'planet', 'mars', '.']\n",
      "\n",
      "\n",
      "The Opportunity rover is combating a big sandstorm on planet Mars. -> ['the', 'opportunity', 'rover', 'is', 'combating', 'a', 'big', 'sandstorm', 'on', 'planet', 'mars', '.']\n",
      "\n",
      "\n",
      "A NASA rover is fighting a massive storm on planet Mars. -> ['a', 'nasa', 'rover', 'is', 'fighting', 'a', 'massive', 'storm', 'on', 'planet', 'mars', '.']\n"
     ]
    }
   ],
   "source": [
    "reference = \"The NASA Opportunity rover is battling a massive dust storm on planet Mars.\"\n",
    "candidate_1 = \"The Opportunity rover is combating a big sandstorm on planet Mars.\"\n",
    "candidate_2 = \"A NASA rover is fighting a massive storm on planet Mars.\"\n",
    "\n",
    "tokenized_ref = nltk.word_tokenize(reference.lower())\n",
    "tokenized_cand_1 = nltk.word_tokenize(candidate_1.lower())\n",
    "tokenized_cand_2 = nltk.word_tokenize(candidate_2.lower())\n",
    "\n",
    "print(f\"{reference} -> {tokenized_ref}\")\n",
    "print(\"\\n\")\n",
    "print(f\"{candidate_1} -> {tokenized_cand_1}\")\n",
    "print(\"\\n\")\n",
    "print(f\"{candidate_2} -> {tokenized_cand_2}\")"
   ]
  },
  {
   "cell_type": "code",
   "execution_count": 18,
   "id": "43ee344f9ed0504d",
   "metadata": {
    "ExecuteTime": {
     "end_time": "2024-06-19T10:14:10.437661Z",
     "start_time": "2024-06-19T10:14:10.435182Z"
    }
   },
   "outputs": [],
   "source": [
    "def brevity_penalty(candidate, reference):\n",
    "    \"\"\"\n",
    "    Calculates the brevity penalty given the candidate and reference sentences.\n",
    "    \"\"\"\n",
    "    reference_length = len(reference)\n",
    "    candidate_length = len(candidate)\n",
    "\n",
    "    if reference_length < candidate_length:\n",
    "        BP = 1\n",
    "    else:\n",
    "        penalty = 1 - (reference_length / candidate_length)\n",
    "        BP = np.exp(penalty)\n",
    "\n",
    "    return BP"
   ]
  },
  {
   "cell_type": "code",
   "execution_count": 19,
   "id": "c587bb0bd3427fc0",
   "metadata": {
    "ExecuteTime": {
     "end_time": "2024-06-19T10:14:11.261495Z",
     "start_time": "2024-06-19T10:14:11.258251Z"
    }
   },
   "outputs": [],
   "source": [
    "def average_clipped_precision(candidate, reference):\n",
    "    \"\"\"\n",
    "    Calculates the precision given the candidate and reference sentences.\n",
    "    \"\"\"\n",
    "\n",
    "    clipped_precision_score = []\n",
    "    \n",
    "    # Loop through values 1, 2, 3, 4. This is the length of n-grams\n",
    "    for n_gram_length in range(1, 5):\n",
    "        reference_n_gram_counts = Counter(ngrams(reference, n_gram_length))        \n",
    "        candidate_n_gram_counts = Counter(ngrams(candidate, n_gram_length))                \n",
    "\n",
    "        total_candidate_ngrams = sum(candidate_n_gram_counts.values())       \n",
    "        \n",
    "        for ngram in candidate_n_gram_counts: \n",
    "            # check if it is in the reference n-gram\n",
    "            if ngram in reference_n_gram_counts:\n",
    "                # if the count of the candidate n-gram is bigger than the corresponding\n",
    "                # count in the reference n-gram, then set the count of the candidate n-gram \n",
    "                # to be equal to the reference n-gram\n",
    "                \n",
    "                if candidate_n_gram_counts[ngram] > reference_n_gram_counts[ngram]: \n",
    "                    candidate_n_gram_counts[ngram] = reference_n_gram_counts[ngram] # t\n",
    "                                                   \n",
    "            else:\n",
    "                candidate_n_gram_counts[ngram] = 0 # else set the candidate n-gram equal to zero\n",
    "\n",
    "        clipped_candidate_ngrams = sum(candidate_n_gram_counts.values())\n",
    "        \n",
    "        clipped_precision_score.append(clipped_candidate_ngrams / total_candidate_ngrams)\n",
    "    \n",
    "    # Calculate the geometric average: take the mean of elemntwise log, then exponentiate\n",
    "    # This is equivalent to taking the n-th root of the product as shown in equation (1) above\n",
    "    s = np.exp(np.mean(np.log(clipped_precision_score)))\n",
    "    \n",
    "    return s\n"
   ]
  },
  {
   "cell_type": "code",
   "execution_count": 20,
   "id": "6ebf9bb971f1f2dd",
   "metadata": {
    "ExecuteTime": {
     "end_time": "2024-06-19T10:14:11.694166Z",
     "start_time": "2024-06-19T10:14:11.691048Z"
    }
   },
   "outputs": [],
   "source": [
    "def average_clipped_precision_2(candidate, reference):\n",
    "    \"\"\"\n",
    "    Calculates the precision given the candidate and reference sentences.\n",
    "    \"\"\"\n",
    "\n",
    "    clipped_precision_score = []\n",
    "    \n",
    "    # Loop through values 1, 2, 3, 4. This is the length of n-grams\n",
    "    for n_gram_length in range(1, 5):\n",
    "        reference_n_gram_counts = Counter(ngrams(reference, n_gram_length))        \n",
    "        candidate_n_gram_counts = Counter(ngrams(candidate, n_gram_length))                \n",
    "\n",
    "        total_candidate_ngrams = sum(candidate_n_gram_counts.values())       \n",
    "        \n",
    "        for ngram in candidate_n_gram_counts: \n",
    "            # check if it is in the reference n-gram\n",
    "            candidate_n_gram_counts[ngram] = min([candidate_n_gram_counts[ngram], reference_n_gram_counts[ngram]])\n",
    "\n",
    "        clipped_candidate_ngrams = sum(candidate_n_gram_counts.values())\n",
    "        \n",
    "        clipped_precision_score.append(clipped_candidate_ngrams / total_candidate_ngrams)\n",
    "    \n",
    "    # Calculate the geometric average: take the mean of elemntwise log, then exponentiate\n",
    "    # This is equivalent to taking the n-th root of the product as shown in equation (1) above\n",
    "    s = np.exp(np.mean(np.log(clipped_precision_score)))\n",
    "    \n",
    "    return s\n"
   ]
  },
  {
   "cell_type": "code",
   "execution_count": 21,
   "id": "8ee1581a0f2f252c",
   "metadata": {
    "ExecuteTime": {
     "end_time": "2024-06-19T10:14:12.284773Z",
     "start_time": "2024-06-19T10:14:12.282123Z"
    }
   },
   "outputs": [],
   "source": [
    "def bleu_score(candidate, reference):\n",
    "    BP = brevity_penalty(candidate, reference)    \n",
    "    geometric_average_precision = average_clipped_precision_2(candidate, reference)    \n",
    "    return BP * geometric_average_precision"
   ]
  },
  {
   "cell_type": "code",
   "execution_count": 22,
   "id": "963221c1860fdc4c",
   "metadata": {
    "ExecuteTime": {
     "end_time": "2024-06-19T10:14:12.522294Z",
     "start_time": "2024-06-19T10:14:12.516128Z"
    }
   },
   "outputs": [
    {
     "name": "stdout",
     "output_type": "stream",
     "text": [
      "BLEU score of reference versus candidate 1: 27.6\n",
      "BLEU score of reference versus candidate 2: 35.3\n"
     ]
    }
   ],
   "source": [
    "result_candidate_1 = round(bleu_score(tokenized_cand_1, tokenized_ref) * 100, 1)\n",
    "print(f\"BLEU score of reference versus candidate 1: {result_candidate_1}\")\n",
    "result_candidate_2 = round(bleu_score(tokenized_cand_2, tokenized_ref) * 100, 1)\n",
    "print(f\"BLEU score of reference versus candidate 2: {result_candidate_2}\")"
   ]
  },
  {
   "cell_type": "code",
   "execution_count": 23,
   "id": "726c2aa15ff06bb5",
   "metadata": {
    "ExecuteTime": {
     "end_time": "2024-06-19T10:14:12.741950Z",
     "start_time": "2024-06-19T10:14:12.736946Z"
    }
   },
   "outputs": [
    {
     "name": "stdout",
     "output_type": "stream",
     "text": [
      "BLEU score of reference versus candidate 1: 27.6\n",
      "BLEU score of reference versus candidate 2: 35.3\n"
     ]
    }
   ],
   "source": [
    "result_candidate_1 = round(sacrebleu.sentence_bleu(candidate_1, [reference]).score, 1)\n",
    "print(f\"BLEU score of reference versus candidate 1: {result_candidate_1}\")\n",
    "result_candidate_2 = round(sacrebleu.sentence_bleu(candidate_2, [reference]).score, 1)\n",
    "print(f\"BLEU score of reference versus candidate 2: {result_candidate_2}\")"
   ]
  },
  {
   "cell_type": "markdown",
   "id": "4af6b0adacd637fc",
   "metadata": {},
   "source": [
    "4.  BLEU computation on a corpus\n",
    "\n",
    "4.1 Loading Datasets for Evaluation Using the BLEU Score\n",
    "\n",
    "In this section, you will use a simple pipeline for evaluating machine translated text. You will use English to German translations generated by [Google Translate](https://translate.google.com). There are three files you will need:\n",
    "\n",
    "1. A source text in English. In this lab, you will use the first 1671 words of the [wmt19](http://statmt.org/wmt19/translation-task.html) evaluation dataset downloaded via SacreBLEU.\n",
    "2. A reference translation to German of the corresponding first 1671 words from the original English text. This is also provided by SacreBLEU.\n",
    "3. A candidate machine translation to German from the same 1671 words. This is generated by Google Translate.\n",
    "\n",
    "With that, you can now compare the reference and candidate translation to get the BLEU Score."
   ]
  },
  {
   "cell_type": "code",
   "execution_count": 24,
   "id": "df3fd9cc371ac44b",
   "metadata": {
    "ExecuteTime": {
     "end_time": "2024-06-19T10:14:12.914960Z",
     "start_time": "2024-06-19T10:14:12.889031Z"
    }
   },
   "outputs": [],
   "source": [
    "# Loading the raw data\n",
    "wmt19_src = open(\"pomocne_soubory/wmt19_src.txt\", \"r\")\n",
    "wmt19_src_1 = wmt19_src.read()\n",
    "wmt19_src.close()\n",
    "\n",
    "wmt19_ref = open(\"pomocne_soubory/wmt19_ref.txt\", \"r\")\n",
    "wmt19_ref_1 = wmt19_ref.read()\n",
    "wmt19_ref.close()\n",
    "\n",
    "wmt19_can = open(\"pomocne_soubory/wmt19_can.txt\", \"r\")\n",
    "wmt19_can_1 = wmt19_can.read()\n",
    "wmt19_can.close()\n",
    "\n",
    "tokenized_corpus_src = nltk.word_tokenize(wmt19_src_1.lower())\n",
    "tokenized_corpus_ref = nltk.word_tokenize(wmt19_ref_1.lower())\n",
    "tokenized_corpus_cand = nltk.word_tokenize(wmt19_can_1.lower())"
   ]
  },
  {
   "cell_type": "code",
   "execution_count": 25,
   "id": "9472d612b405d834",
   "metadata": {
    "ExecuteTime": {
     "end_time": "2024-06-19T10:14:13.073687Z",
     "start_time": "2024-06-19T10:14:13.070982Z"
    }
   },
   "outputs": [
    {
     "name": "stdout",
     "output_type": "stream",
     "text": [
      "English source text:\n",
      "\n",
      "﻿Welsh AMs worried about 'looking like muppets'\n",
      "There is consternation among some AMs at a suggestion their title should change to MWPs (Member of the Welsh Parliament).\n",
      " -> ['\\ufeffwelsh', 'ams', 'worried', 'about', \"'looking\", 'like', \"muppets'\", 'there', 'is', 'consternation', 'among', 'some', 'ams', 'at', 'a', 'suggestion', 'their', 'title', 'should', 'change', 'to', 'mwps', '(', 'member', 'of', 'the', 'welsh', 'parliament', ')', '.']\n",
      "\n",
      "\n",
      "German reference translation:\n",
      "\n",
      "﻿Walisische Ageordnete sorgen sich \"wie Dödel auszusehen\"\n",
      "Es herrscht Bestürzung unter einigen Mitgliedern der Versammlung über einen Vorschlag, der ihren Titel zu MWPs (Mitglied der walisischen Parlament) ändern soll.\n",
      " -> ['\\ufeffwalisische', 'ageordnete', 'sorgen', 'sich', '``', 'wie', 'dödel', 'auszusehen', \"''\", 'es', 'herrscht', 'bestürzung', 'unter', 'einigen', 'mitgliedern', 'der', 'versammlung', 'über', 'einen', 'vorschlag', ',', 'der', 'ihren', 'titel', 'zu', 'mwps', '(', 'mitglied', 'der', 'walisischen', 'parlament', ')', 'ändern', 'soll', '.']\n",
      "\n",
      "\n",
      "German machine translation:\n",
      "\n",
      "Walisische AMs machten sich Sorgen, dass sie wie Muppets aussehen könnten\n",
      "Einige AMs sind bestürzt über den Vorschlag, ihren Titel in MWPs (Mitglied des walisischen Parlaments) zu ändern.\n",
      "Es ist aufg -> ['walisische', 'ams', 'machten', 'sich', 'sorgen', ',', 'dass', 'sie', 'wie', 'muppets', 'aussehen', 'könnten', 'einige', 'ams', 'sind', 'bestürzt', 'über', 'den', 'vorschlag', ',', 'ihren', 'titel', 'in', 'mwps', '(', 'mitglied', 'des', 'walisischen', 'parlaments']\n"
     ]
    }
   ],
   "source": [
    "print(\"English source text:\\n\")\n",
    "print(f\"{wmt19_src_1[0:170]} -> {tokenized_corpus_src[0:30]}\\n\\n\")\n",
    "print(\"German reference translation:\\n\")\n",
    "print(f\"{wmt19_ref_1[0:219]} -> {tokenized_corpus_ref[0:35]}\\n\\n\")\n",
    "print(\"German machine translation:\\n\")\n",
    "print(f\"{wmt19_can_1[0:199]} -> {tokenized_corpus_cand[0:29]}\")"
   ]
  },
  {
   "cell_type": "code",
   "execution_count": 26,
   "id": "b72ef2d178695f51",
   "metadata": {
    "ExecuteTime": {
     "end_time": "2024-06-19T10:14:13.907727Z",
     "start_time": "2024-06-19T10:14:13.893249Z"
    }
   },
   "outputs": [
    {
     "name": "stdout",
     "output_type": "stream",
     "text": [
      "BLEU score of the reference versus candidate translation: 43.2\n"
     ]
    }
   ],
   "source": [
    "result =  round(sacrebleu.sentence_bleu(wmt19_can_1, [wmt19_ref_1]).score, 1)\n",
    "print(f\"BLEU score of the reference versus candidate translation: {result}\")"
   ]
  },
  {
   "cell_type": "markdown",
   "id": "1f8d25f242c773b4",
   "metadata": {},
   "source": [
    "4.6 BLEU Score Interpretation on a Corpus\n",
    "\n",
    "The table below (taken from [here](https://cloud.google.com/translate/automl/docs/evaluate)) shows the typical values of BLEU score. You can see that the translation above is of high quality according to this table and in comparison to the given reference sentence. (*if you see \"Hard to get the gist\", please open your workspace, delete `wmt19_can.txt` and get the latest version via the Lab Help button*)\n",
    "\n",
    "|Score      | Interpretation                                                |\n",
    "|:---------:|:-------------------------------------------------------------:|\n",
    "| < 10      | Almost useless                                                |\n",
    "| 10 - 19   | Hard to get the gist                                          |\n",
    "| 20 - 29   | The gist is clear, but has significant grammatical errors     |\n",
    "| 30 - 40   | Understandable to good translations                           |\n",
    "| 40 - 50   | High quality translations                                     |\n",
    "| 50 - 60   | Very high quality, adequate, and fluent translations          |\n",
    "| > 60      | Quality often better than human                               |"
   ]
  },
  {
   "cell_type": "markdown",
   "id": "e97b4aa76f65080a",
   "metadata": {
    "jp-MarkdownHeadingCollapsed": true
   },
   "source": [
    "### ROUGE Score"
   ]
  },
  {
   "cell_type": "markdown",
   "id": "91dfd1de48d77b37",
   "metadata": {},
   "source": [
    "ROUGE (Recall-Oriented Understudy for Gisting Evaluation) je metrika pro mereni kvality prekladu. Je to recall metrika,\n",
    "ktera pocita podobnost mezi predikovanou a skutecnou sekvenci.\n",
    "Puvodne byl ROUGE vyvinut pro mereni kvality automatickeho sumarizovani textu, ale pozdeji byl pouzit i pro mereni\n",
    "kvality prekladu."
   ]
  },
  {
   "cell_type": "markdown",
   "id": "4ebdb7ef9dab9f01",
   "metadata": {},
   "source": [
    "ROUGE se deli na nekolik typu: ROUGE-N, ROUGE-L, ROUGE-W, ROUGE-S, ROUGE-SU.\n",
    "- ROUGE-N: pocita n-gram recall\n",
    "- ROUGE-L: pocita longest common subsequence recall\n",
    "- ROUGE-W: pocita weighted LCS recall\n",
    "- ROUGE-S: pocita skip-bigram recall\n",
    "- ROUGE-SU: pocita skip-bigram recall s unigramy"
   ]
  },
  {
   "cell_type": "markdown",
   "id": "21faa02541fde204",
   "metadata": {},
   "source": [
    "ROUGE-N: pocita n-gram recall.\n",
    "\n",
    "Pocita se jako pocet shodnych n-gramu v predikovane a skutecne sekvenci deleno pocet n-gramu ve skutecne sekvenci. \n",
    "Nicmene na rozdil od BLEU, ROUGE-N pocita recall, tj. pocet n-gramu, ktere jsou ve skutecne sekvenci a zaroven v\n",
    "predikovane sekvenci deleno pocet n-gramu ve skutecne sekvenci."
   ]
  },
  {
   "cell_type": "markdown",
   "id": "e6674161e1cdf451",
   "metadata": {},
   "source": [
    "F1 score: je harmonicky prumer precision a recall. Tj.\n",
    "$$\n",
    "F1 = \\frac{2 \\times precision \\times recall}{precision + recall}\n",
    "$$\n",
    "v nasem pripade:\n",
    "$$\n",
    "F1 = \\frac{2 \\times ROUGE-N_{precision} \\times ROUGE-N_{recall}}{ROUGE-N_{precision} + ROUGE-N_{recall}}\n",
    "$$\n"
   ]
  },
  {
   "cell_type": "markdown",
   "id": "3f62fd84fa35cba6",
   "metadata": {},
   "source": [
    "Stejne jako v pripade BLEU, ani zamena poradi neni chyba a nebere se v potaz poradi slov."
   ]
  },
  {
   "cell_type": "markdown",
   "id": "8522092c13c81507",
   "metadata": {
    "jp-MarkdownHeadingCollapsed": true
   },
   "source": [
    "## 1.4 Sampling and Decoding"
   ]
  },
  {
   "cell_type": "markdown",
   "id": "f1411a9e886df590",
   "metadata": {},
   "source": [
    "- Random Sampling\n",
    "- Temperature Sampling\n",
    "- Greedy Decoding\n"
   ]
  },
  {
   "cell_type": "markdown",
   "id": "22e2170ab6e13e8c",
   "metadata": {},
   "source": [
    "Greedy Decoding - vybira nejpravdepodobnejsi slovo v zaverecnem softmax layer. \n",
    "Random Sampling - vybira slovo nahodne podle pravdepodobnosti v zaverecnem softmax layer.\n",
    "Temperature Sampling - zvetsuje nebo zmensuje pravdepodobnost vyberu slova v zaverecnem softmax layer."
   ]
  },
  {
   "cell_type": "markdown",
   "id": "6f618cc1bd6e9e9f",
   "metadata": {
    "jp-MarkdownHeadingCollapsed": true
   },
   "source": [
    "## 1.5 Beam Search"
   ]
  },
  {
   "cell_type": "markdown",
   "id": "dfe2769d36d1de3f",
   "metadata": {},
   "source": [
    "Beam search dela to, ze v kazdem kroku vybira vice slov a pak vybere nejlepsi sekvenci.\n",
    "Parameter B, beam_width, urcuje, kolik sekvenci se vybere v kazdem kroku. Vybiraji se slova, dokud vsech B \n",
    "nejpravdepodobnejsich sekvenci neni konecna sekvence.\n",
    "\n",
    "Greedy Sampling je specialni pripad beam search s beam_width = 1."
   ]
  },
  {
   "cell_type": "markdown",
   "id": "44da9888e59fdc73",
   "metadata": {},
   "source": [
    "![scaled-dot product attention diagram](./pomocne_soubory/beam_search_1.png)"
   ]
  },
  {
   "cell_type": "markdown",
   "id": "2703515bc3d72eaf",
   "metadata": {},
   "source": [
    "Pro dekodovani, si nejprve zavolam decoder na prvni token ve vete: <start> nebo taky nekdy <sos> (start of sentence).\n",
    " Vybereme B nejpravdepodobnejsich slov a jejich pravdepodobnosti. Tyto sekvence se ulozi do beam. Pak se zavola \n",
    " decoder na kazdy token v beamu a vybere se B nejpravdepodobnejsich sekvenci. Tento proces se opakuje, dokud neni \n",
    " konecna sekvence."
   ]
  },
  {
   "cell_type": "markdown",
   "id": "9666f3e5f47aed60",
   "metadata": {},
   "source": [
    "![scaled-dot product attention diagram](./pomocne_soubory/beam_search_2.png)"
   ]
  },
  {
   "cell_type": "markdown",
   "id": "beb897b4b1345d59",
   "metadata": {},
   "source": [
    "Defaultni vanila verze beam search ma nektere nevyhody:\n",
    "- penalizuje dlouhe sekvence, coz je dusledek, ze se jedna o soucin pravdepodobnosti slov v sekvenci. To lze \n",
    "    resit, ze soucin normalizuje delkou vety.\n",
    "- vyzaduje vice pameti, protoze si uchovava B nejpravdepodobnejsich sekvenci."
   ]
  },
  {
   "cell_type": "markdown",
   "id": "93eccace80249afa",
   "metadata": {
    "jp-MarkdownHeadingCollapsed": true
   },
   "source": [
    "## 1.6 Minimum Bayes Risk Decoding"
   ]
  },
  {
   "cell_type": "markdown",
   "id": "7a6442a48a5f816",
   "metadata": {},
   "source": [
    "The Minimum Bayes Risk (MBR) decoding algorithm in the context of neural machine translation aims to find a \n",
    "translation that minimizes the expected loss (or risk) based on a given loss function. Here, we will use the ROUGE \n",
    "score as the loss function to illustrate the process.\n",
    "\n",
    "### Key Concepts\n",
    "\n",
    "1. **Hypothesis Space ($\\mathcal{H}$)**: The set of possible translations generated by the NMT model.\n",
    "2. **Reference Translations ($R$)**: The set of true translations (often one or more reference translations).\n",
    "3. **Loss Function**: Measures the difference between the hypothesis and the reference. We will use the ROUGE score, \n",
    "which evaluates the quality of a summary (or translation) by comparing it to reference summaries (or translations).\n",
    "\n",
    "### Expected Loss and MBR\n",
    "\n",
    "The goal of MBR is to find a hypothesis $ \\hat{h} $ that minimizes the expected loss. Formally,\n",
    "\n",
    "$$ \\hat{h} = \\arg \\min_{h \\in \\mathcal{H}} \\mathbb{E}_{h' \\sim P(h'|x)} [L(h, h')] $$\n",
    "\n",
    "where:\n",
    "- $ h $ is a hypothesis translation.\n",
    "- $ x $ is the source sentence.\n",
    "- $ P(h'|x) $ is the probability of generating hypothesis $ h' $ given the source sentence $ x $.\n",
    "- $ L(h, h') $ is the loss function measuring the difference between hypotheses $ h $ and $ h' $.\n",
    "\n",
    "Using the ROUGE score as the loss function $ L(h, h') $:\n",
    "\n",
    "$$ L(h, h') = 1 - \\text{ROUGE}(h, h') $$\n",
    "\n",
    "### Algorithm Steps\n",
    "\n",
    "1. **Generate Hypotheses**: Generate a set of possible translations $ \\mathcal{H} = \\{ h_1, h_2, \\ldots, h_n \\} $ using the NMT model.\n",
    "2. **Calculate Pairwise ROUGE**: Compute the ROUGE score between all pairs of hypotheses $ (h_i, h_j) $.\n",
    "3. **Compute Expected Loss**: For each hypothesis $ h_i $, compute the expected loss:\n",
    "\n",
    "   $$\n",
    "   \\mathbb{E}_{h' \\sim P(h'|x)} [L(h_i, h')] = \\sum_{h_j \\in \\mathcal{H}} P(h_j|x) L(h_i, h_j)\n",
    "   $$\n",
    "\n",
    "   Since $ L(h_i, h_j) = 1 - \\text{ROUGE}(h_i, h_j) $, we get:\n",
    "\n",
    "   $$\n",
    "   \\mathbb{E}_{h' \\sim P(h'|x)} [L(h_i, h')] = \\sum_{h_j \\in \\mathcal{H}} P(h_j|x) (1 - \\text{ROUGE}(h_i, h_j))\n",
    "   $$\n",
    "\n",
    "4. **Select Minimum Risk Hypothesis**: Choose the hypothesis $ \\hat{h} $ with the minimum expected loss:\n",
    "\n",
    "   $$\n",
    "   \\hat{h} = \\arg \\min_{h_i \\in \\mathcal{H}} \\sum_{h_j \\in \\mathcal{H}} P(h_j|x) (1 - \\text{ROUGE}(h_i, h_j))\n",
    "   $$\n",
    "\n",
    "### Example Calculation\n",
    "\n",
    "Let's consider an example with 3 hypotheses $ \\{h_1, h_2, h_3\\} $ and their pairwise ROUGE-1 scores:\n",
    "\n",
    "| Hypotheses | $ h_1 $ | $ h_2 $ | $ h_3 $ |\n",
    "|------------|-----------|-----------|-----------|\n",
    "| $ h_1 $  | 1.0       | 0.8       | 0.6       |\n",
    "| $ h_2 $  | 0.8       | 1.0       | 0.7       |\n",
    "| $ h_3 $  | 0.6       | 0.7       | 1.0       |\n",
    "\n",
    "Assume equal probabilities $ P(h_i|x) = \\frac{1}{3} $:\n",
    "\n",
    "$$\n",
    "\\mathbb{E}_{h' \\sim P(h'|x)} [L(h_1, h')] = \\frac{1}{3}(1-1.0) + \\frac{1}{3}(1-0.8) + \\frac{1}{3}(1-0.6) = 0.2\n",
    "$$\n",
    "\n",
    "$$\n",
    "\\mathbb{E}_{h' \\sim P(h'|x)} [L(h_2, h')] = \\frac{1}{3}(1-0.8) + \\frac{1}{3}(1-1.0) + \\frac{1}{3}(1-0.7) = 0.1667\n",
    "$$\n",
    "\n",
    "$$\n",
    "\\mathbb{E}_{h' \\sim P(h'|x)} [L(h_3, h')] = \\frac{1}{3}(1-0.6) + \\frac{1}{3}(1-0.7) + \\frac{1}{3}(1-1.0) = 0.2333\n",
    "$$\n",
    "\n",
    "Since $ \\mathbb{E}_{h' \\sim P(h'|x)} [L(h_2, h')] $ is the minimum, the chosen hypothesis $ \\hat{h} $ is $ h_2 $."
   ]
  },
  {
   "cell_type": "markdown",
   "id": "cdc4d348-5add-4b68-9403-46e80984b720",
   "metadata": {},
   "source": [
    "V nasem pripade se to da jeste zjednodusit, protoze predpokladame, ze vsechny preklady mohou vzniknout se stejnou pravdepodobnosti, takze ze vzorce odpadne $ P(h_i|x)$ a nahradi se konstantou. Dale $argmin (1-ROUGE) = argmax(ROUGE)$.\n",
    "Takze vzorec pak vypada nasledovně:\n",
    "$$\n",
    "\\arg\\max_{\\hat{y}} \\frac{1}{n}\\sum_{y \\in Y} ROUGE(\\hat{y}, y)\n",
    "$$\n",
    "kde $Y$ je mnozina vsech moznych prekladu a $n$ je pocet vsech moznych prekladu, $n$ je velikost beamu, resp. pocet \n",
    "kandidat, tj. $n = |Y|$."
   ]
  },
  {
   "cell_type": "markdown",
   "id": "500d60fa-b1fc-4fda-bfef-97a46f75c9bb",
   "metadata": {},
   "source": [
    "![mbr](./pomocne_soubory/mbr_1.png)"
   ]
  },
  {
   "cell_type": "markdown",
   "id": "4e6aaa49ddf810dd",
   "metadata": {},
   "source": [
    "Algoritmus metody je nasledujici:\n",
    "1. Vytvori se B nejpravdepodobnejsich sekvenci - kandidatu.\n",
    "2. Pro kazdy pár sekvenci se spocita similarity metrika nebo loss function jako je treba ROUGE score (nebo BLEU)\n",
    "3. Vybere se sekvence, ktera ma vuci ostatnim kandidatum nejvyssi similarity metriku nebo nejnizsi loss."
   ]
  },
  {
   "cell_type": "markdown",
   "id": "521f82da223648eb",
   "metadata": {},
   "source": [
    "![mbr](./pomocne_soubory/mbr_2.png)"
   ]
  },
  {
   "cell_type": "markdown",
   "id": "302348456b2975f1",
   "metadata": {
    "jp-MarkdownHeadingCollapsed": true
   },
   "source": [
    "## LAB: Neural Machine Translation with Attention Mechanism"
   ]
  },
  {
   "cell_type": "markdown",
   "id": "d512e80cd1001fb9",
   "metadata": {},
   "source": [
    "1. Data Preparation\n",
    "\n",
    "The text pre-processing bits have already been taken care of (if you are interested in this be sure to check the `utils.py` file). The steps performed can be summarized as:\n",
    "\n",
    "- Reading the raw data from the text files\n",
    "- Cleaning the data (using lowercase, adding space around punctuation, trimming whitespaces, etc)\n",
    "- Splitting it into training and validation sets\n",
    "- Adding the start-of-sentence and end-of-sentence tokens to every sentence\n",
    "- Tokenizing the sentences\n",
    "- Creating a Tensorflow dataset out of the tokenized sentences\n",
    "\n",
    "Take a moment to inspect the raw sentences:"
   ]
  },
  {
   "cell_type": "code",
   "execution_count": 27,
   "id": "edb4528be2be7f01",
   "metadata": {
    "ExecuteTime": {
     "end_time": "2024-06-19T10:14:25.724989Z",
     "start_time": "2024-06-19T10:14:25.712836Z"
    }
   },
   "outputs": [
    {
     "name": "stdout",
     "output_type": "stream",
     "text": [
      "English (to translate) sentence:\n",
      "\n",
      "No matter how much you try to convince people that chocolate is vanilla, it'll still be chocolate, even though you may manage to convince yourself and a few others that it's vanilla.\n",
      "\n",
      "Portuguese (translation) sentence:\n",
      "\n",
      "Não importa o quanto você tenta convencer os outros de que chocolate é baunilha, ele ainda será chocolate, mesmo que você possa convencer a si mesmo e poucos outros de que é baunilha.\n"
     ]
    }
   ],
   "source": [
    "portuguese_sentences, english_sentences = sentences\n",
    "\n",
    "print(f\"English (to translate) sentence:\\n\\n{english_sentences[-5]}\\n\")\n",
    "print(f\"Portuguese (translation) sentence:\\n\\n{portuguese_sentences[-5]}\")"
   ]
  },
  {
   "cell_type": "code",
   "execution_count": 28,
   "id": "ba04256da730659e",
   "metadata": {
    "ExecuteTime": {
     "end_time": "2024-06-19T10:14:26.719687Z",
     "start_time": "2024-06-19T10:14:26.717711Z"
    }
   },
   "outputs": [],
   "source": [
    "del portuguese_sentences\n",
    "del english_sentences\n",
    "del sentences"
   ]
  },
  {
   "cell_type": "markdown",
   "id": "7e71c37c794567b",
   "metadata": {},
   "source": [
    "Notice that you imported an `english_vectorizer` and a `portuguese_vectorizer` from `utils.py`. These were created using [tf.keras.layers.TextVectorization](https://www.tensorflow.org/api_docs/python/tf/keras/layers/TextVectorization) and they provide interesting features such as ways to visualize the vocabulary and convert text into tokenized ids and vice versa. In fact, you can inspect the first ten words of the vocabularies for both languages:"
   ]
  },
  {
   "cell_type": "code",
   "execution_count": 29,
   "id": "ea5b069feaea1ea3",
   "metadata": {
    "ExecuteTime": {
     "end_time": "2024-06-19T10:14:28.263998Z",
     "start_time": "2024-06-19T10:14:28.104176Z"
    }
   },
   "outputs": [
    {
     "name": "stdout",
     "output_type": "stream",
     "text": [
      "First 10 words of the english vocabulary:\n",
      "\n",
      "['', '[UNK]', '[SOS]', '[EOS]', '.', 'tom', 'i', 'to', 'you', 'the']\n",
      "\n",
      "First 10 words of the portuguese vocabulary:\n",
      "\n",
      "['', '[UNK]', '[SOS]', '[EOS]', '.', 'tom', 'que', 'o', 'nao', 'eu']\n"
     ]
    }
   ],
   "source": [
    "print(f\"First 10 words of the english vocabulary:\\n\\n{english_vectorizer.get_vocabulary()[:10]}\\n\")\n",
    "print(f\"First 10 words of the portuguese vocabulary:\\n\\n{portuguese_vectorizer.get_vocabulary()[:10]}\")"
   ]
  },
  {
   "cell_type": "markdown",
   "id": "b51911497b2f0a9a",
   "metadata": {},
   "source": [
    "Notice that the first 4 words are reserved for special words. In order, these are:\n",
    "\n",
    "- the empty string\n",
    "- a special token to represent an unknown word\n",
    "- a special token to represent the start of a sentence\n",
    "- a special token to represent the end of a sentence\n",
    "\n",
    "You can see how many words are in a vocabulary by using the `vocabulary_size` method:"
   ]
  },
  {
   "cell_type": "code",
   "execution_count": 30,
   "id": "167126917c6fc4db",
   "metadata": {
    "ExecuteTime": {
     "end_time": "2024-06-19T10:14:29.082412Z",
     "start_time": "2024-06-19T10:14:29.079791Z"
    }
   },
   "outputs": [
    {
     "name": "stdout",
     "output_type": "stream",
     "text": [
      "Portuguese vocabulary is made up of 12000 words\n",
      "English vocabulary is made up of 12000 words\n"
     ]
    }
   ],
   "source": [
    "# Size of the vocabulary\n",
    "vocab_size_por = portuguese_vectorizer.vocabulary_size()\n",
    "vocab_size_eng = english_vectorizer.vocabulary_size()\n",
    "\n",
    "print(f\"Portuguese vocabulary is made up of {vocab_size_por} words\")\n",
    "print(f\"English vocabulary is made up of {vocab_size_eng} words\")"
   ]
  },
  {
   "cell_type": "markdown",
   "id": "f98fcce844fecb82",
   "metadata": {},
   "source": [
    "You can define [tf.keras.layers.StringLookup](https://www.tensorflow.org/api_docs/python/tf/keras/layers/StringLookup) objects that will help you map from words to ids and vice versa. Do this for the portuguese vocabulary since this will be useful later on when you decode the predictions from your model:"
   ]
  },
  {
   "cell_type": "code",
   "execution_count": 31,
   "id": "ae0715622eeee185",
   "metadata": {
    "ExecuteTime": {
     "end_time": "2024-06-19T10:14:31.137543Z",
     "start_time": "2024-06-19T10:14:30.986217Z"
    }
   },
   "outputs": [],
   "source": [
    "# This helps you convert from words to ids\n",
    "word_to_id = tf.keras.layers.StringLookup(\n",
    "    vocabulary=portuguese_vectorizer.get_vocabulary(), \n",
    "    mask_token=\"\", \n",
    "    oov_token=\"[UNK]\"\n",
    ")\n",
    "\n",
    "# This helps you convert from ids to words\n",
    "id_to_word = tf.keras.layers.StringLookup(\n",
    "    vocabulary=portuguese_vectorizer.get_vocabulary(),\n",
    "    mask_token=\"\",\n",
    "    oov_token=\"[UNK]\",\n",
    "    invert=True,\n",
    ")"
   ]
  },
  {
   "cell_type": "code",
   "execution_count": 32,
   "id": "5e0e2a9dca363c14",
   "metadata": {
    "ExecuteTime": {
     "end_time": "2024-06-19T10:14:32.377829Z",
     "start_time": "2024-06-19T10:14:32.353679Z"
    }
   },
   "outputs": [
    {
     "name": "stdout",
     "output_type": "stream",
     "text": [
      "The id for the [UNK] token is 1\n",
      "The id for the [SOS] token is 2\n",
      "The id for the [EOS] token is 3\n",
      "The id for baunilha (vanilla) is 7079\n"
     ]
    }
   ],
   "source": [
    "unk_id = word_to_id(\"[UNK]\")\n",
    "sos_id = word_to_id(\"[SOS]\")\n",
    "eos_id = word_to_id(\"[EOS]\")\n",
    "baunilha_id = word_to_id(\"baunilha\")\n",
    "\n",
    "print(f\"The id for the [UNK] token is {unk_id}\")\n",
    "print(f\"The id for the [SOS] token is {sos_id}\")\n",
    "print(f\"The id for the [EOS] token is {eos_id}\")\n",
    "print(f\"The id for baunilha (vanilla) is {baunilha_id}\")"
   ]
  },
  {
   "cell_type": "markdown",
   "id": "732867ff716ebfd7",
   "metadata": {},
   "source": [
    "Finally take a look at how the data that is going to be fed to the neural network looks like. Both `train_data` and `val_data` are of type `tf.data.Dataset` and are already arranged in batches of 64 examples. To get the first batch out of a tf dataset you can use the `take` method. To get the first example out of the batch you can slice the tensor and use the `numpy` method for nicer printing:"
   ]
  },
  {
   "cell_type": "code",
   "execution_count": 33,
   "id": "bed005f892151a3c",
   "metadata": {
    "ExecuteTime": {
     "end_time": "2024-06-19T10:14:33.851480Z",
     "start_time": "2024-06-19T10:14:33.428775Z"
    }
   },
   "outputs": [
    {
     "name": "stdout",
     "output_type": "stream",
     "text": [
      "Tokenized english sentence:\n",
      "[  2  13 300  59 130   8   7   9 952   4   3   0   0]\n",
      "\n",
      "\n",
      "Tokenized portuguese sentence (shifted to the right):\n",
      "[   2  237  243   47   57  299   35 1024    4    0    0    0]\n",
      "\n",
      "\n",
      "Tokenized portuguese sentence:\n",
      "[ 237  243   47   57  299   35 1024    4    3    0    0    0]\n",
      "\n",
      "\n"
     ]
    }
   ],
   "source": [
    "for (to_translate, sr_translation), translation in train_data.take(1):\n",
    "    print(f\"Tokenized english sentence:\\n{to_translate[0, :].numpy()}\\n\\n\")\n",
    "    print(f\"Tokenized portuguese sentence (shifted to the right):\\n{sr_translation[0, :].numpy()}\\n\\n\")\n",
    "    print(f\"Tokenized portuguese sentence:\\n{translation[0, :].numpy()}\\n\\n\")"
   ]
  },
  {
   "cell_type": "markdown",
   "id": "eb5c52fea63692b4",
   "metadata": {},
   "source": [
    "There are a couple of important details to notice.\n",
    "\n",
    "- Padding has already been applied to the tensors and the value used for this is 0\n",
    "- Each example consists of 3 different tensors:\n",
    "    - The sentence to translate\n",
    "    - The shifted-to-the-right translation\n",
    "    - The translation\n",
    "    \n",
    "The first two can be considered as the features, while the third one as the target. By doing this your model can perform Teacher Forcing as you saw in the lectures.\n",
    "\n",
    "Now it is time to begin coding!"
   ]
  },
  {
   "cell_type": "markdown",
   "id": "8e74e5834b5acf8d",
   "metadata": {},
   "source": [
    "2. NMT model with attention\n",
    "\n",
    "The model you will build uses an encoder-decoder architecture. This Recurrent Neural Network (RNN) takes in a tokenized version of a sentence in its encoder, then passes it on to the decoder for translation. As mentioned in the lectures, just using a a regular sequence-to-sequence model with LSTMs will work effectively for short to medium sentences but will start to degrade for longer ones. You can picture it like the figure below where all of the context of the input sentence is compressed into one vector that is passed into the decoder block. You can see how this will be an issue for very long sentences (e.g. 100 tokens or more) because the context of the first parts of the input will have very little effect on the final vector passed to the decoder.\n",
    "\n",
    "<img src='pomocne_soubory/plain_rnn.png' width=\"600\">\n",
    "\n",
    "Adding an attention layer to this model avoids this problem by giving the decoder access to all parts of the input sentence. To illustrate, let's just use a 4-word input sentence as shown below. Remember that a hidden state is produced at each timestep of the encoder (represented by the orange rectangles). These are all passed to the attention layer and each are given a score given the current activation (i.e. hidden state) of the decoder. For instance, let's consider the figure below where the first prediction \"como\" is already made. To produce the next prediction, the attention layer will first receive all the encoder hidden states (i.e. orange rectangles) as well as the decoder hidden state when producing the word \"como\" (i.e. first green rectangle). Given this information, it will score each of the encoder hidden states to know which one the decoder should focus on to produce the next word. As a result of training, the model might have learned that it should align to the second encoder hidden state and subsequently assigns a high probability to the word \"você\". If we are using greedy decoding, we will output the said word as the next symbol, then restart the process to produce the next word until we reach an end-of-sentence prediction.\n",
    "\n",
    "<img src='pomocne_soubory/attention_overview.png' width=\"600\">\n",
    "\n",
    "\n",
    "There are different ways to implement attention and the one we'll use for this assignment is the Scaled Dot Product Attention which has the form:\n",
    "\n",
    "$$Attention(Q, K, V) = softmax(\\frac{QK^T}{\\sqrt{d_k}})V$$\n",
    "\n",
    "You will dive deeper into this equation in the next week but for now, you can think of it as computing scores using queries (Q) and keys (K), followed by a multiplication of values (V) to get a context vector at a particular timestep of the decoder. This context vector is fed to the decoder RNN to get a set of probabilities for the next predicted word. The division by square root of the keys dimensionality ($\\sqrt{d_k}$) is for improving model performance and you'll also learn more about it next week. For our machine translation application, the encoder activations (i.e. encoder hidden states) will be the keys and values, while the decoder activations (i.e. decoder hidden states) will be the queries.\n",
    "\n",
    "You will see in the upcoming sections that this complex architecture and mechanism can be implemented with just a few lines of code. \n",
    "\n",
    "First you will define two important global variables:\n",
    "\n",
    "- The size of the vocabulary\n",
    "- The number of units in the LSTM layers (the same number will be used for all LSTM layers)\n",
    "\n",
    "In this assignment, the vocabulary sizes for English and Portuguese are the same. Therefore, we use a single constant VOCAB_SIZE throughout the notebook. While in other settings, vocabulary sizes could differ, that is not the case in our assignment."
   ]
  },
  {
   "cell_type": "code",
   "execution_count": 34,
   "id": "7d1a3b00bc54f486",
   "metadata": {
    "ExecuteTime": {
     "end_time": "2024-06-19T10:14:36.948324Z",
     "start_time": "2024-06-19T10:14:36.943886Z"
    }
   },
   "outputs": [],
   "source": [
    "VOCAB_SIZE = 12000\n",
    "UNITS = 256"
   ]
  },
  {
   "cell_type": "markdown",
   "id": "21d5edaab21fd710",
   "metadata": {},
   "source": [
    "Exercise 1 - Encoder\n",
    "\n",
    "Your first exercise is to code the encoder part of the neural network. For this, complete the `Encoder` class below. Notice that in the constructor (the `__init__` method) you need to define all of the sublayers of the encoder and then use these sublayers during the forward pass (the `call` method).\n",
    "\n",
    "The encoder consists of the following layers:\n",
    "\n",
    "- [Embedding](https://www.tensorflow.org/api_docs/python/tf/keras/layers/Embedding). For this layer you need to define the appropriate `input_dim` and `output_dim` and let it know that you are using '0' as padding, which can be done by using the appropriate value for the `mask_zero` parameter.\n",
    "    \n",
    "+ [Bidirectional](https://www.tensorflow.org/api_docs/python/tf/keras/layers/Bidirectional) [LSTM](https://www.tensorflow.org/api_docs/python/tf/keras/layers/LSTM). In TF you can implement bidirectional behaviour for RNN-like layers. This part is already taken care of but you will need to specify the appropriate type of layer as well as its parameters. In particular you need to set the appropriate number of units and make sure that the LSTM returns the full sequence and not only the last output, which can be done by using the appropriate value for the `return_sequences` parameter.\n",
    "\n",
    "\n",
    "You need to define the forward pass using the syntax of TF's [functional API](https://www.tensorflow.org/guide/keras/functional_api). What this means is that you chain function calls together to define your network like this:\n",
    "\n",
    "```python\n",
    "encoder_input = keras.Input(shape=(28, 28, 1), name=\"original_img\")\n",
    "x = layers.Conv2D(16, 3, activation=\"relu\")(encoder_input)\n",
    "x = layers.MaxPooling2D(3)(x)\n",
    "x = layers.Conv2D(16, 3, activation=\"relu\")(x)\n",
    "encoder_output = layers.GlobalMaxPooling2D()(x)\n",
    "```"
   ]
  },
  {
   "cell_type": "code",
   "execution_count": 35,
   "id": "73b248263a82b17c",
   "metadata": {
    "ExecuteTime": {
     "end_time": "2024-06-19T10:14:37.718279Z",
     "start_time": "2024-06-19T10:14:37.714181Z"
    }
   },
   "outputs": [],
   "source": [
    "class Encoder(tf.keras.layers.Layer):\n",
    "    def __init__(self, vocab_size, units):\n",
    "        \"\"\"Initializes an instance of this class\n",
    "\n",
    "        Args:\n",
    "            vocab_size (int): Size of the vocabulary\n",
    "            units (int): Number of units in the LSTM layer\n",
    "        \"\"\"\n",
    "        super(Encoder, self).__init__()\n",
    "\n",
    "        self.embedding = tf.keras.layers.Embedding(  \n",
    "            input_dim=vocab_size,\n",
    "            output_dim=units,\n",
    "            mask_zero=True\n",
    "        )  \n",
    "\n",
    "        self.rnn = tf.keras.layers.Bidirectional(  \n",
    "            merge_mode=\"sum\",  \n",
    "            layer=tf.keras.layers.LSTM(\n",
    "                units=units,\n",
    "                return_sequences=True\n",
    "            ),  \n",
    "        )  \n",
    "\n",
    "    def call(self, context):\n",
    "        \"\"\"Forward pass of this layer\n",
    "\n",
    "        Args:\n",
    "            context (tf.Tensor): The sentence to translate\n",
    "\n",
    "        Returns:\n",
    "            tf.Tensor: Encoded sentence to translate\n",
    "        \"\"\"\n",
    "\n",
    "        # Pass the context through the embedding layer\n",
    "        x = self.embedding(context)\n",
    "\n",
    "        # Pass the output of the embedding through the RNN\n",
    "        x = self.rnn(x)\n",
    "\n",
    "        return x"
   ]
  },
  {
   "cell_type": "code",
   "execution_count": 36,
   "id": "6f5397cbda93e922",
   "metadata": {
    "ExecuteTime": {
     "end_time": "2024-06-19T10:14:39.363371Z",
     "start_time": "2024-06-19T10:14:38.624527Z"
    }
   },
   "outputs": [
    {
     "name": "stdout",
     "output_type": "stream",
     "text": [
      "Tensor of sentences in english has shape: (64, 13)\n",
      "\n",
      "Encoder output has shape: (64, 13, 256)\n"
     ]
    }
   ],
   "source": [
    "# Do a quick check of your implementation\n",
    "\n",
    "# Create an instance of your class\n",
    "encoder = Encoder(VOCAB_SIZE, UNITS)\n",
    "\n",
    "# Pass a batch of sentences to translate from english to portuguese\n",
    "encoder_output = encoder(to_translate)\n",
    "\n",
    "print(f'Tensor of sentences in english has shape: {to_translate.shape}\\n')\n",
    "print(f'Encoder output has shape: {encoder_output.shape}')"
   ]
  },
  {
   "cell_type": "markdown",
   "id": "5ad207e0c778ce12",
   "metadata": {},
   "source": [
    "Exercise 2 - CrossAttention\n",
    "\n",
    "Your next exercise is to code the layer that will perform cross attention between the original sentences and the translations. For this, complete the `CrossAttention` class below. Notice that in the constructor (the `__init__` method) you need to define all of the sublayers and then use these sublayers during the forward pass (the `call` method). For this particular case some of these bits are already taken care of.\n",
    "\n",
    "The cross attention consists of the following layers:\n",
    "\n",
    "- [MultiHeadAttention](https://www.tensorflow.org/api_docs/python/tf/keras/layers/MultiHeadAttention). For this layer you need to define the appropriate `key_dim`, which is the size of the key and query tensors. You will also need to set the number of heads to 1 since you aren't implementing multi head attention but attention between two tensors. The reason why this layer is preferred over [Attention](https://www.tensorflow.org/api_docs/python/tf/keras/layers/Attention) is that it allows simpler code during the forward pass.\n",
    "    \n",
    "A couple of things to notice:\n",
    "- You need a way to pass both the output of the attention alongside the shifted-to-the-right translation (since this cross attention happens in the decoder side). For this you will use an [Add](https://www.tensorflow.org/api_docs/python/tf/keras/layers/Add) layer so that the original dimension is preserved, which would not happen if you use something like a [Concatenate](https://www.tensorflow.org/api_docs/python/tf/keras/layers/Concatenate) layer.\n",
    "\n",
    "+ Layer normalization is also performed for better stability of the network by using a [LayerNormalization](https://www.tensorflow.org/api_docs/python/tf/keras/layers/LayerNormalization) layer.\n",
    "\n",
    "- You don't need to worry about these last steps as these are already solved.\n",
    "\n"
   ]
  },
  {
   "cell_type": "code",
   "execution_count": 37,
   "id": "bae9eeee5b599949",
   "metadata": {
    "ExecuteTime": {
     "end_time": "2024-06-19T10:14:42.552602Z",
     "start_time": "2024-06-19T10:14:42.540518Z"
    }
   },
   "outputs": [],
   "source": [
    "class CrossAttention(tf.keras.layers.Layer):\n",
    "    def __init__(self, units):\n",
    "        \"\"\"Initializes an instance of this class\n",
    "\n",
    "        Args:\n",
    "            units (int): Number of units in the LSTM layer\n",
    "        \"\"\"\n",
    "        super().__init__()\n",
    "\n",
    "        self.mha = ( \n",
    "            tf.keras.layers.MultiHeadAttention(\n",
    "                key_dim=units,\n",
    "                num_heads=1\n",
    "            ) \n",
    "        )  \n",
    "\n",
    "        self.layernorm = tf.keras.layers.LayerNormalization()\n",
    "        self.add = tf.keras.layers.Add()\n",
    "\n",
    "    def call(self, context, target):\n",
    "        \"\"\"Forward pass of this layer\n",
    "\n",
    "        Args:\n",
    "            context (tf.Tensor): Encoded sentence to translate\n",
    "            target (tf.Tensor): The embedded shifted-to-the-right translation\n",
    "\n",
    "        Returns:\n",
    "            tf.Tensor: Cross attention between context and target\n",
    "        \"\"\"\n",
    "\n",
    "        # Call the MH attention by passing in the query and value\n",
    "        # For this case the query should be the translation and the value the encoded sentence to translate\n",
    "        # Hint: Check the call arguments of MultiHeadAttention in the docs\n",
    "        attn_output = self.mha(\n",
    "            query=target,\n",
    "            value=context\n",
    "        )  \n",
    "\n",
    "        x = self.add([target, attn_output])\n",
    "\n",
    "        x = self.layernorm(x)\n",
    "\n",
    "        return x"
   ]
  },
  {
   "cell_type": "code",
   "execution_count": 38,
   "id": "fac4c07e050c98a3",
   "metadata": {
    "ExecuteTime": {
     "end_time": "2024-06-19T10:14:43.796639Z",
     "start_time": "2024-06-19T10:14:43.433785Z"
    }
   },
   "outputs": [
    {
     "name": "stderr",
     "output_type": "stream",
     "text": [
      "/Users/michaelmateju/miniconda3/envs/basic/lib/python3.9/site-packages/keras/src/layers/layer.py:877: UserWarning: Layer 'query' (of type EinsumDense) was passed an input with a mask attached to it. However, this layer does not support masking and will therefore destroy the mask information. Downstream layers will not see the mask.\n",
      "  warnings.warn(\n",
      "/Users/michaelmateju/miniconda3/envs/basic/lib/python3.9/site-packages/keras/src/layers/layer.py:877: UserWarning: Layer 'key' (of type EinsumDense) was passed an input with a mask attached to it. However, this layer does not support masking and will therefore destroy the mask information. Downstream layers will not see the mask.\n",
      "  warnings.warn(\n",
      "/Users/michaelmateju/miniconda3/envs/basic/lib/python3.9/site-packages/keras/src/layers/layer.py:877: UserWarning: Layer 'value' (of type EinsumDense) was passed an input with a mask attached to it. However, this layer does not support masking and will therefore destroy the mask information. Downstream layers will not see the mask.\n",
      "  warnings.warn(\n"
     ]
    },
    {
     "name": "stdout",
     "output_type": "stream",
     "text": [
      "Tensor of contexts has shape: (64, 13, 256)\n",
      "Tensor of translations has shape: (64, 12, 256)\n",
      "Tensor of attention scores has shape: (64, 12, 256)\n"
     ]
    },
    {
     "name": "stderr",
     "output_type": "stream",
     "text": [
      "/Users/michaelmateju/miniconda3/envs/basic/lib/python3.9/site-packages/keras/src/layers/layer.py:877: UserWarning: Layer 'cross_attention' (of type CrossAttention) was passed an input with a mask attached to it. However, this layer does not support masking and will therefore destroy the mask information. Downstream layers will not see the mask.\n",
      "  warnings.warn(\n"
     ]
    }
   ],
   "source": [
    "# Do a quick check of your implementation\n",
    "\n",
    "# Create an instance of your class\n",
    "attention_layer = CrossAttention(UNITS)\n",
    "\n",
    "# The attention layer expects the embedded sr-translation and the context\n",
    "# The context (encoder_output) is already embedded so you need to do this for sr_translation:\n",
    "sr_translation_embed = tf.keras.layers.Embedding(VOCAB_SIZE, output_dim=UNITS, mask_zero=True)(sr_translation)\n",
    "\n",
    "# Compute the cross attention\n",
    "attention_result = attention_layer(encoder_output, sr_translation_embed)\n",
    "\n",
    "print(f'Tensor of contexts has shape: {encoder_output.shape}')\n",
    "print(f'Tensor of translations has shape: {sr_translation_embed.shape}')\n",
    "print(f'Tensor of attention scores has shape: {attention_result.shape}')"
   ]
  },
  {
   "cell_type": "markdown",
   "id": "fa503bc7be857ac0",
   "metadata": {},
   "source": [
    "Exercise 3 - Decoder\n",
    "\n",
    "\n",
    "Now you will implement the decoder part of the neural network by completing the `Decoder` class below. Notice that in the constructor (the `__init__` method) you need to define all of the sublayers of the decoder and then use these sublayers during the forward pass (the `call` method).\n",
    "\n",
    "The decoder consists of the following layers:\n",
    "\n",
    "- [Embedding](https://www.tensorflow.org/api_docs/python/tf/keras/layers/Embedding). For this layer you need to define the appropriate `input_dim` and `output_dim` and let it know that you are using '0' as padding, which can be done by using the appropriate value for the `mask_zero` parameter.\n",
    "  \n",
    "  \n",
    "+ Pre-attention [LSTM](https://www.tensorflow.org/api_docs/python/tf/keras/layers/LSTM). Unlike in the encoder in which you used a Bidirectional LSTM, here you will use a vanilla LSTM. Don't forget to set the appropriate number of units and make sure that the LSTM returns the full sequence and not only the last output, which can be done by using the appropriate value for the `return_sequences` parameter. It is very important that this layer returns the state since this will be needed for inference so make sure to set the `return_state` parameter accordingly. Notice that LSTM layers return state as a tuple of two tensors called `memory_state` and `carry_state`, **however these names have been changed to better reflect what you have seen in the lectures to `hidden_state` and `cell_state` respectively**.\n",
    "\n",
    "- The attention layer that performs cross attention between the sentence to translate and the right-shifted translation. Here you need to use the `CrossAttention` layer you defined in the previous exercise.\n",
    "\n",
    "+ Post-attention [LSTM](https://www.tensorflow.org/api_docs/python/tf/keras/layers/LSTM). Another LSTM layer. For this one you don't need it to return the state.\n",
    "\n",
    "- Finally a [Dense](https://www.tensorflow.org/api_docs/python/tf/keras/layers/Dense) layer. This one should have the same number of units as the size of the vocabulary since you expect it to compute the logits for every possible word in the vocabulary. Make sure to use a `logsoftmax` activation function for this one, which you can get as [tf.nn.log_softmax](https://www.tensorflow.org/api_docs/python/tf/nn/log_softmax).\n",
    "\n"
   ]
  },
  {
   "cell_type": "code",
   "execution_count": 39,
   "id": "e53d14b430c2f15e",
   "metadata": {
    "ExecuteTime": {
     "end_time": "2024-06-19T10:14:49.978756Z",
     "start_time": "2024-06-19T10:14:49.971344Z"
    }
   },
   "outputs": [],
   "source": [
    "class Decoder(tf.keras.layers.Layer):\n",
    "    def __init__(self, vocab_size, units):\n",
    "        \"\"\"Initializes an instance of this class\n",
    "\n",
    "        Args:\n",
    "            vocab_size (int): Size of the vocabulary\n",
    "            units (int): Number of units in the LSTM layer\n",
    "        \"\"\"\n",
    "        super(Decoder, self).__init__()\n",
    "\n",
    "        # The embedding layer\n",
    "        self.embedding = tf.keras.layers.Embedding(\n",
    "            input_dim=vocab_size,\n",
    "            output_dim=units,\n",
    "            mask_zero=True\n",
    "        )  \n",
    "\n",
    "        # The RNN before attention\n",
    "        self.pre_attention_rnn = tf.keras.layers.LSTM(\n",
    "            units=units,\n",
    "            return_sequences=True,\n",
    "            return_state=True\n",
    "        )  \n",
    "\n",
    "        # The attention layer\n",
    "        self.attention = CrossAttention(units)\n",
    "\n",
    "        # The RNN after attention\n",
    "        self.post_attention_rnn = tf.keras.layers.LSTM(\n",
    "            units=units,\n",
    "            return_sequences=True\n",
    "        )  \n",
    "\n",
    "        # The dense layer with logsoftmax activation\n",
    "        self.output_layer = tf.keras.layers.Dense(\n",
    "            units=vocab_size,\n",
    "            activation= tf.nn.log_softmax\n",
    "        )  \n",
    "\n",
    "    def call(self, context, target, state=None, return_state=False):\n",
    "        \"\"\"Forward pass of this layer\n",
    "\n",
    "        Args:\n",
    "            context (tf.Tensor): Encoded sentence to translate\n",
    "            target (tf.Tensor): The shifted-to-the-right translation\n",
    "            state (list[tf.Tensor, tf.Tensor], optional): Hidden state of the pre-attention LSTM. Defaults to None.\n",
    "            return_state (bool, optional): If set to true return the hidden states of the LSTM. Defaults to False.\n",
    "\n",
    "        Returns:\n",
    "            tf.Tensor: The log_softmax probabilities of predicting a particular token\n",
    "        \"\"\"\n",
    "\n",
    "        # Get the embedding of the input\n",
    "        x = self.embedding(target)\n",
    "\n",
    "        # Pass the embedded input into the pre attention LSTM\n",
    "        # Hints:\n",
    "        # - The LSTM you defined earlier should return the output alongside the state (made up of two tensors)\n",
    "        # - Pass in the state to the LSTM (needed for inference)\n",
    "        x, hidden_state, cell_state = self.pre_attention_rnn(x, initial_state=state)\n",
    "\n",
    "        # Perform cross attention between the context and the output of the LSTM (in that order)\n",
    "        x = self.attention(context, x)\n",
    "\n",
    "        # Do a pass through the post attention LSTM\n",
    "        x = self.post_attention_rnn(x)\n",
    "\n",
    "        # Compute the logits\n",
    "        logits = self.output_layer(x)\n",
    "\n",
    "        if return_state:\n",
    "            return logits, [hidden_state, cell_state]\n",
    "\n",
    "        return logits"
   ]
  },
  {
   "cell_type": "code",
   "execution_count": 40,
   "id": "9f15a76c82f56849",
   "metadata": {
    "ExecuteTime": {
     "end_time": "2024-06-19T10:14:50.924053Z",
     "start_time": "2024-06-19T10:14:50.504807Z"
    }
   },
   "outputs": [
    {
     "name": "stderr",
     "output_type": "stream",
     "text": [
      "/Users/michaelmateju/miniconda3/envs/basic/lib/python3.9/site-packages/keras/src/layers/layer.py:877: UserWarning: Layer 'cross_attention_1' (of type CrossAttention) was passed an input with a mask attached to it. However, this layer does not support masking and will therefore destroy the mask information. Downstream layers will not see the mask.\n",
      "  warnings.warn(\n"
     ]
    },
    {
     "name": "stdout",
     "output_type": "stream",
     "text": [
      "Tensor of contexts has shape: (64, 13, 256)\n",
      "Tensor of right-shifted translations has shape: (64, 12)\n",
      "Tensor of logits has shape: (64, 12, 12000)\n"
     ]
    },
    {
     "name": "stderr",
     "output_type": "stream",
     "text": [
      "/Users/michaelmateju/miniconda3/envs/basic/lib/python3.9/site-packages/keras/src/layers/layer.py:877: UserWarning: Layer 'decoder' (of type Decoder) was passed an input with a mask attached to it. However, this layer does not support masking and will therefore destroy the mask information. Downstream layers will not see the mask.\n",
      "  warnings.warn(\n"
     ]
    }
   ],
   "source": [
    "# Do a quick check of your implementation\n",
    "\n",
    "# Create an instance of your class\n",
    "decoder = Decoder(VOCAB_SIZE, UNITS)\n",
    "\n",
    "# Notice that you don't need the embedded version of sr_translation since this is done inside the class\n",
    "logits = decoder(encoder_output, sr_translation)\n",
    "\n",
    "print(f'Tensor of contexts has shape: {encoder_output.shape}')\n",
    "print(f'Tensor of right-shifted translations has shape: {sr_translation.shape}')\n",
    "print(f'Tensor of logits has shape: {logits.shape}')"
   ]
  },
  {
   "cell_type": "markdown",
   "id": "a2c2bdc72535422b",
   "metadata": {},
   "source": [
    "Exercise 4 - Translator\n",
    "\n",
    "Now you have to put together all of the layers you previously coded into an actual model. For this, complete the `Translator` class below. Notice how unlike the Encoder and Decoder classes inherited from `tf.keras.layers.Layer`, the Translator class inherits from `tf.keras.Model`.\n",
    "\n",
    "Remember that `train_data` will yield a tuple with the sentence to translate and the shifted-to-the-right translation, which are the \"features\" of the model. This means that the inputs of your network will be tuples containing context and targets."
   ]
  },
  {
   "cell_type": "code",
   "execution_count": 41,
   "id": "47d4933d96a65967",
   "metadata": {
    "ExecuteTime": {
     "end_time": "2024-06-19T10:14:54.420808Z",
     "start_time": "2024-06-19T10:14:54.407163Z"
    }
   },
   "outputs": [],
   "source": [
    "class Translator(tf.keras.Model):\n",
    "    def __init__(self, vocab_size, units):\n",
    "        \"\"\"Initializes an instance of this class\n",
    "\n",
    "        Args:\n",
    "            vocab_size (int): Size of the vocabulary\n",
    "            units (int): Number of units in the LSTM layer\n",
    "        \"\"\"\n",
    "        super().__init__()\n",
    "\n",
    "        # Define the encoder with the appropriate vocab_size and number of units\n",
    "        self.encoder = Encoder(vocab_size, units)\n",
    "\n",
    "        # Define the decoder with the appropriate vocab_size and number of units\n",
    "        self.decoder = Decoder(vocab_size, units)\n",
    "\n",
    "    def call(self, inputs):\n",
    "        \"\"\"Forward pass of this layer\n",
    "\n",
    "        Args:\n",
    "            inputs (tuple(tf.Tensor, tf.Tensor)): Tuple containing the context (sentence to translate) and the target (shifted-to-the-right translation)\n",
    "\n",
    "        Returns:\n",
    "            tf.Tensor: The log_softmax probabilities of predicting a particular token\n",
    "        \"\"\"\n",
    "\n",
    "        # In this case inputs is a tuple consisting of the context and the target, unpack it into single variables\n",
    "        context, target = inputs[0], inputs[1]\n",
    "\n",
    "        # Pass the context through the encoder\n",
    "        encoded_context = self.encoder(context)\n",
    "\n",
    "        # Compute the logits by passing the encoded context and the target to the decoder\n",
    "        logits = self.decoder(encoded_context, target)\n",
    "\n",
    "        return logits"
   ]
  },
  {
   "cell_type": "code",
   "execution_count": 42,
   "id": "4e1b7d1e1a3d2062",
   "metadata": {
    "ExecuteTime": {
     "end_time": "2024-06-19T10:14:55.639484Z",
     "start_time": "2024-06-19T10:14:54.987875Z"
    }
   },
   "outputs": [
    {
     "name": "stderr",
     "output_type": "stream",
     "text": [
      "/Users/michaelmateju/miniconda3/envs/basic/lib/python3.9/site-packages/keras/src/layers/layer.py:877: UserWarning: Layer 'cross_attention_2' (of type CrossAttention) was passed an input with a mask attached to it. However, this layer does not support masking and will therefore destroy the mask information. Downstream layers will not see the mask.\n",
      "  warnings.warn(\n",
      "/Users/michaelmateju/miniconda3/envs/basic/lib/python3.9/site-packages/keras/src/layers/layer.py:877: UserWarning: Layer 'decoder_1' (of type Decoder) was passed an input with a mask attached to it. However, this layer does not support masking and will therefore destroy the mask information. Downstream layers will not see the mask.\n",
      "  warnings.warn(\n"
     ]
    },
    {
     "name": "stdout",
     "output_type": "stream",
     "text": [
      "Tensor of sentences to translate has shape: (64, 13)\n",
      "Tensor of right-shifted translations has shape: (64, 12)\n",
      "Tensor of logits has shape: (64, 12, 12000)\n"
     ]
    }
   ],
   "source": [
    "# Do a quick check of your implementation\n",
    "\n",
    "# Create an instance of your class\n",
    "translator = Translator(VOCAB_SIZE, UNITS)\n",
    "\n",
    "# Compute the logits for every word in the vocabulary\n",
    "logits = translator((to_translate, sr_translation))\n",
    "\n",
    "print(f'Tensor of sentences to translate has shape: {to_translate.shape}')\n",
    "print(f'Tensor of right-shifted translations has shape: {sr_translation.shape}')\n",
    "print(f'Tensor of logits has shape: {logits.shape}')"
   ]
  },
  {
   "cell_type": "markdown",
   "id": "2e586dd9a8fe27e4",
   "metadata": {},
   "source": [
    "3. Training"
   ]
  },
  {
   "cell_type": "code",
   "execution_count": 43,
   "id": "47148bc913162e01",
   "metadata": {
    "ExecuteTime": {
     "end_time": "2024-06-19T10:14:58.419141Z",
     "start_time": "2024-06-19T10:14:58.408253Z"
    }
   },
   "outputs": [],
   "source": [
    "def compile_and_train(model, epochs=1, steps_per_epoch=500):\n",
    "    model.compile(optimizer=\"adam\", loss=masked_loss, metrics=[masked_acc, masked_loss])\n",
    "\n",
    "    history = model.fit(\n",
    "        train_data.repeat(),\n",
    "        epochs=epochs,\n",
    "        steps_per_epoch=steps_per_epoch,\n",
    "        validation_data=val_data,\n",
    "        validation_steps=50,\n",
    "        callbacks=[tf.keras.callbacks.EarlyStopping(patience=3)],\n",
    "    )\n",
    "\n",
    "    return model, history"
   ]
  },
  {
   "cell_type": "code",
   "execution_count": 44,
   "id": "cee67fc1edcc8067",
   "metadata": {
    "ExecuteTime": {
     "end_time": "2024-06-19T10:14:58.868885Z",
     "start_time": "2024-06-19T10:14:58.861835Z"
    }
   },
   "outputs": [],
   "source": [
    "# epochs=1\n",
    "# steps_per_epoch=500\n",
    "# translator.compile(optimizer=\"adam\", loss=masked_loss, metrics=[masked_acc, masked_loss])\n",
    "\n",
    "# history = translator.fit(\n",
    "#     train_data.repeat(),\n",
    "#     epochs=epochs,\n",
    "#     steps_per_epoch=steps_per_epoch,\n",
    "#     validation_data=val_data,\n",
    "#     validation_steps=50,\n",
    "#     callbacks=[tf.keras.callbacks.EarlyStopping(patience=3)],\n",
    "# )"
   ]
  },
  {
   "cell_type": "code",
   "execution_count": 45,
   "id": "8fecc068591278bc",
   "metadata": {
    "ExecuteTime": {
     "end_time": "2024-06-19T10:19:16.252702Z",
     "start_time": "2024-06-19T10:15:00.131874Z"
    }
   },
   "outputs": [
    {
     "name": "stdout",
     "output_type": "stream",
     "text": [
      "\u001B[1m500/500\u001B[0m \u001B[32m━━━━━━━━━━━━━━━━━━━━\u001B[0m\u001B[37m\u001B[0m \u001B[1m256s\u001B[0m 495ms/step - loss: 5.8206 - masked_acc: 0.1513 - masked_loss: 5.8206 - val_loss: 4.3815 - val_masked_acc: 0.3321 - val_masked_loss: 4.3815\n"
     ]
    }
   ],
   "source": [
    "# Train the translator (this takes some minutes so feel free to take a break)\n",
    "\n",
    "trained_translator, history = compile_and_train(translator)"
   ]
  },
  {
   "cell_type": "markdown",
   "id": "52cad0b5a720705f",
   "metadata": {},
   "source": [
    "4. Using the model for inference \n",
    "\n",
    "\n",
    "Now that your model is trained you can use it for inference. To help you with this the `generate_next_token` function is provided. Notice that this function is meant to be used inside a for-loop, so you feed to it the information of the previous step to generate the information of the next step. In particular you need to keep track of the state of the pre-attention LSTM in the decoder and if you are done with the translation. Also notice that a `temperature` variable is introduced which determines how to select the next token given the predicted logits:  "
   ]
  },
  {
   "cell_type": "code",
   "execution_count": 46,
   "id": "df5c3207517b7bda",
   "metadata": {
    "ExecuteTime": {
     "end_time": "2024-06-19T10:19:20.226300Z",
     "start_time": "2024-06-19T10:19:20.209367Z"
    }
   },
   "outputs": [],
   "source": [
    "def generate_next_token(decoder, context, next_token, done, state, temperature=0.0):\n",
    "    \"\"\"Generates the next token in the sequence\n",
    "\n",
    "    Args:\n",
    "        decoder (Decoder): The decoder\n",
    "        context (tf.Tensor): Encoded sentence to translate\n",
    "        next_token (tf.Tensor): The predicted next token\n",
    "        done (bool): True if the translation is complete\n",
    "        state (list[tf.Tensor, tf.Tensor]): Hidden states of the pre-attention LSTM layer\n",
    "        temperature (float, optional): The temperature that controls the randomness of the predicted tokens. Defaults to 0.0.\n",
    "\n",
    "    Returns:\n",
    "        tuple(tf.Tensor, np.float, list[tf.Tensor, tf.Tensor], bool): The next token, log prob of said token, hidden state of LSTM and if translation is done\n",
    "    \"\"\"\n",
    "    # Get the logits and state from the decoder\n",
    "    logits, state = decoder(context, next_token, state=state, return_state=True)\n",
    "    \n",
    "    # Trim the intermediate dimension \n",
    "    logits = logits[:, -1, :]\n",
    "        \n",
    "    # If temp is 0 then next_token is the argmax of logits\n",
    "    if temperature == 0.0:\n",
    "        next_token = tf.argmax(logits, axis=-1)\n",
    "        \n",
    "    # If temp is not 0 then next_token is sampled out of logits\n",
    "    else:\n",
    "        logits = logits / temperature\n",
    "        next_token = tf.random.categorical(logits, num_samples=1)\n",
    "    \n",
    "    # Trim dimensions of size 1\n",
    "    logits = tf.squeeze(logits)\n",
    "    next_token = tf.squeeze(next_token)\n",
    "    \n",
    "    # Get the logit of the selected next_token\n",
    "    logit = logits[next_token].numpy()\n",
    "    \n",
    "    # Reshape to (1,1) since this is the expected shape for text encoded as TF tensors\n",
    "    next_token = tf.reshape(next_token, shape=(1,1))\n",
    "    \n",
    "    # If next_token is End-of-Sentence token you are done\n",
    "    if next_token == eos_id:\n",
    "        done = True\n",
    "    \n",
    "    return next_token, logit, state, done"
   ]
  },
  {
   "cell_type": "code",
   "execution_count": 47,
   "id": "a8ae846fb44a51e",
   "metadata": {
    "ExecuteTime": {
     "end_time": "2024-06-19T10:19:26.821839Z",
     "start_time": "2024-06-19T10:19:21.329612Z"
    }
   },
   "outputs": [
    {
     "name": "stdout",
     "output_type": "stream",
     "text": [
      "Next token: [[396]]\n",
      "Logit: -18.8035\n",
      "Done? False\n"
     ]
    }
   ],
   "source": [
    "# PROCESS SENTENCE TO TRANSLATE AND ENCODE\n",
    "\n",
    "# A sentence you wish to translate\n",
    "eng_sentence = \"I love languages\"\n",
    "\n",
    "# Convert it to a tensor\n",
    "texts = tf.convert_to_tensor(eng_sentence)[tf.newaxis]\n",
    "\n",
    "# Vectorize it and pass it through the encoder\n",
    "context = english_vectorizer(texts).to_tensor()\n",
    "context = encoder(context)\n",
    "\n",
    "# SET STATE OF THE DECODER\n",
    "\n",
    "# Next token is Start-of-Sentence since you are starting fresh\n",
    "next_token = tf.fill((1,1), sos_id)\n",
    "\n",
    "# Hidden and Cell states of the LSTM can be mocked using uniform samples\n",
    "state = [tf.random.uniform((1, UNITS)), tf.random.uniform((1, UNITS))]\n",
    "\n",
    "# You are not done until next token is EOS token\n",
    "done = False\n",
    "\n",
    "# Generate next token\n",
    "next_token, logit, state, done = generate_next_token(decoder, context, next_token, done, state, temperature=0.5)\n",
    "print(f\"Next token: {next_token}\\nLogit: {logit:.4f}\\nDone? {done}\")"
   ]
  },
  {
   "cell_type": "markdown",
   "id": "94487387bffc8406",
   "metadata": {},
   "source": [
    "Exercise 5 - translate\n",
    "\n",
    "Now you can put everything together to translate a given sentence. For this, complete the `translate` function below. This function will take care of the following steps: \n",
    "- Process the sentence to translate and encode it\n",
    "\n",
    "+ Set the initial state of the decoder\n",
    "\n",
    "- Get predictions of the next token (starting with the \\<SOS> token) for a maximum of iterations (in case the \\<EOS> token is never returned)\n",
    "    \n",
    "+ Return the translated text (as a string), the logit of the last iteration (this helps measure how certain was that the sequence was translated in its totality) and the translation in token format.\n",
    "\n",
    "\n",
    "Hints: \n",
    "\n",
    "- The previous cell provides a lot of insights on how this function should work, so if you get stuck refer to it.\n",
    "\n",
    "+ Some useful docs:\n",
    "    + [tf.newaxis](https://www.tensorflow.org/api_docs/python/tf#newaxis)\n",
    "\n",
    "    - [tf.fill](https://www.tensorflow.org/api_docs/python/tf/fill)\n",
    "\n",
    "    + [tf.zeros](https://www.tensorflow.org/api_docs/python/tf/zeros)\n"
   ]
  },
  {
   "cell_type": "code",
   "execution_count": 48,
   "id": "75613272788353ab",
   "metadata": {
    "ExecuteTime": {
     "end_time": "2024-06-19T10:19:26.842056Z",
     "start_time": "2024-06-19T10:19:26.833219Z"
    }
   },
   "outputs": [],
   "source": [
    "def translate(model, text, max_length=50, temperature=0.0):\n",
    "    \"\"\"Translate a given sentence from English to Portuguese\n",
    "\n",
    "    Args:\n",
    "        model (tf.keras.Model): The trained translator\n",
    "        text (string): The sentence to translate\n",
    "        max_length (int, optional): The maximum length of the translation. Defaults to 50.\n",
    "        temperature (float, optional): The temperature that controls the randomness of the predicted tokens. Defaults to 0.0.\n",
    "\n",
    "    Returns:\n",
    "        tuple(str, np.float, tf.Tensor): The translation, logit that predicted <EOS> token and the tokenized translation\n",
    "    \"\"\"\n",
    "    # Lists to save tokens and logits\n",
    "    tokens, logits = [], []\n",
    "\n",
    "    # PROCESS THE SENTENCE TO TRANSLATE\n",
    "    \n",
    "    # Convert the original string into a tensor\n",
    "    text = tf.convert_to_tensor(text)[tf.newaxis]\n",
    "    \n",
    "    # Vectorize the text using the correct vectorizer\n",
    "    context = english_vectorizer(text).to_tensor()\n",
    "    \n",
    "    # Get the encoded context (pass the context through the encoder)\n",
    "    # Hint: Remember you can get the encoder by using model.encoder\n",
    "    context = model.encoder(context)\n",
    "    \n",
    "    # INITIAL STATE OF THE DECODER\n",
    "    \n",
    "    # First token should be SOS token with shape (1,1)\n",
    "    next_token = tf.fill((1,1), sos_id)\n",
    "    \n",
    "    # Initial hidden and cell states should be tensors of zeros with shape (1, UNITS)\n",
    "    state = [tf.zeros((1, UNITS)), tf.zeros((1, UNITS))]\n",
    "    \n",
    "    # You are done when you draw a EOS token as next token (initial state is False)\n",
    "    done = False\n",
    "\n",
    "    # Iterate for max_length iterations\n",
    "    for i in range(max_length):\n",
    "        # Generate the next token\n",
    "        try:\n",
    "            next_token, logit, state, done = generate_next_token(\n",
    "                decoder=model.decoder,\n",
    "                context=context,\n",
    "                next_token=next_token,\n",
    "                done=done,\n",
    "                state=state,\n",
    "                temperature=temperature\n",
    "            )\n",
    "        except:\n",
    "             raise Exception(\"Problem generating the next token\")\n",
    "        \n",
    "        # If done then break out of the loop\n",
    "        if done:\n",
    "            break\n",
    "        \n",
    "        # Add next_token to the list of tokens\n",
    "        tokens.append(next_token)\n",
    "        \n",
    "        # Add logit to the list of logits\n",
    "        logits.append(logit)\n",
    "\n",
    "    # Concatenate all tokens into a tensor\n",
    "    tokens = tf.concat(tokens, axis=-1)\n",
    "    \n",
    "    # Convert the translated tokens into text\n",
    "    translation = tf.squeeze(tokens_to_text(tokens, id_to_word))\n",
    "    translation = translation.numpy().decode()\n",
    "    \n",
    "    return translation, logits[-1], tokens"
   ]
  },
  {
   "cell_type": "code",
   "execution_count": 49,
   "id": "1fbecdeb8d4a68c0",
   "metadata": {
    "ExecuteTime": {
     "end_time": "2024-06-19T10:19:27.256031Z",
     "start_time": "2024-06-19T10:19:26.843001Z"
    }
   },
   "outputs": [
    {
     "name": "stdout",
     "output_type": "stream",
     "text": [
      "Temperature: 0.0\n",
      "\n",
      "Original sentence: I love languages\n",
      "Translation: eu tom .\n",
      "Translation tokens:[[9 5 4]]\n",
      "Logit: -1.761\n"
     ]
    }
   ],
   "source": [
    "# Running this cell multiple times should return the same output since temp is 0\n",
    "\n",
    "temp = 0.0 \n",
    "original_sentence = \"I love languages\"\n",
    "\n",
    "translation, logit, tokens = translate(trained_translator, original_sentence, temperature=temp)\n",
    "\n",
    "print(f\"Temperature: {temp}\\n\\nOriginal sentence: {original_sentence}\\nTranslation: {translation}\\nTranslation tokens:{tokens}\\nLogit: {logit:.3f}\")"
   ]
  },
  {
   "cell_type": "code",
   "execution_count": 50,
   "id": "738af0496a77580",
   "metadata": {
    "ExecuteTime": {
     "end_time": "2024-06-19T10:19:35.510561Z",
     "start_time": "2024-06-19T10:19:35.091823Z"
    }
   },
   "outputs": [
    {
     "name": "stdout",
     "output_type": "stream",
     "text": [
      "Temperature: 0.7\n",
      "\n",
      "Original sentence: I love languages\n",
      "Translation: tom a ponto .\n",
      "Translation tokens:[[  5  12 751   4]]\n",
      "Logit: -1.191\n"
     ]
    }
   ],
   "source": [
    "# Running this cell multiple times should return different outputs since temp is not 0\n",
    "# You can try different temperatures\n",
    "\n",
    "temp = 0.7\n",
    "original_sentence = \"I love languages\"\n",
    "\n",
    "translation, logit, tokens = translate(trained_translator, original_sentence, temperature=temp)\n",
    "\n",
    "print(f\"Temperature: {temp}\\n\\nOriginal sentence: {original_sentence}\\nTranslation: {translation}\\nTranslation tokens:{tokens}\\nLogit: {logit:.3f}\")"
   ]
  },
  {
   "cell_type": "markdown",
   "id": "c954c4edeb4a1688",
   "metadata": {},
   "source": [
    "5. Minimum Bayes-Risk Decoding\n",
    "\n",
    "As mentioned in the lectures, getting the most probable token at each step may not necessarily produce the best results. Another approach is to do Minimum Bayes Risk Decoding or MBR. The general steps to implement this are:\n",
    "\n",
    "- Take several random samples\n",
    "+ Score each sample against all other samples\n",
    "- Select the one with the highest score\n",
    "\n",
    "You will be building helper functions for these steps in the following sections.\n",
    "\n",
    "With the ability to generate different translations by setting different temperature values you can do what you saw in the lectures and generate a bunch of translations and then determine which one is the best candidate. You will now do this by using the provided `generate_samples` function. This function will return any desired number of candidate translations alongside the log-probability for each one:"
   ]
  },
  {
   "cell_type": "code",
   "execution_count": 51,
   "id": "71797bb625911fee",
   "metadata": {
    "ExecuteTime": {
     "end_time": "2024-06-19T10:19:39.011071Z",
     "start_time": "2024-06-19T10:19:38.999972Z"
    }
   },
   "outputs": [],
   "source": [
    "def generate_samples(model, text, n_samples=4, temperature=0.6):\n",
    "    \n",
    "    samples, log_probs = [], []\n",
    "\n",
    "    # Iterate for n_samples iterations\n",
    "    for _ in range(n_samples):\n",
    "        \n",
    "        # Save the logit and the translated tensor\n",
    "        _, logp, sample = translate(model, text, temperature=temperature)\n",
    "        \n",
    "        # Save the translated tensors\n",
    "        samples.append(np.squeeze(sample.numpy()).tolist())\n",
    "        \n",
    "        # Save the logits\n",
    "        log_probs.append(logp)\n",
    "                \n",
    "    return samples, log_probs"
   ]
  },
  {
   "cell_type": "code",
   "execution_count": 52,
   "id": "2d0b9674cfd0d42a",
   "metadata": {
    "ExecuteTime": {
     "end_time": "2024-06-19T10:19:41.782602Z",
     "start_time": "2024-06-19T10:19:40.280072Z"
    }
   },
   "outputs": [
    {
     "name": "stdout",
     "output_type": "stream",
     "text": [
      "Translated tensor: [9, 5, 4] has logit: -2.935\n",
      "Translated tensor: [9, 5, 4] has logit: -2.935\n",
      "Translated tensor: [9, 5, 4] has logit: -2.935\n",
      "Translated tensor: [9, 9, 14, 22, 198, 4] has logit: -1.717\n"
     ]
    }
   ],
   "source": [
    "samples, log_probs = generate_samples(trained_translator, 'I love languages')\n",
    "\n",
    "for s, l in zip(samples, log_probs):\n",
    "    print(f\"Translated tensor: {s} has logit: {l:.3f}\")"
   ]
  },
  {
   "cell_type": "markdown",
   "id": "dc3044fb49549a45",
   "metadata": {},
   "source": [
    "Comparing overlaps\n",
    "\n",
    "Now that you can generate multiple translations it is time to come up with a method to measure the goodness of each one. As you saw in the lectures, one way to achieve this is by comparing each sample against the others. \n",
    "\n",
    "There are several metrics you can use for this purpose, as shown in the lectures and you can try experimenting with any one of these. For this assignment, you will be calculating scores for **unigram overlaps**. \n",
    "\n",
    "One of these metrics is the widely used yet simple [Jaccard similarity](https://en.wikipedia.org/wiki/Jaccard_index) which gets the intersection over union of two sets. The `jaccard_similarity` function returns this metric for any pair of candidate and reference translations:\n"
   ]
  },
  {
   "cell_type": "code",
   "execution_count": 53,
   "id": "dd77b2570f9afb04",
   "metadata": {
    "ExecuteTime": {
     "end_time": "2024-06-19T10:19:43.399208Z",
     "start_time": "2024-06-19T10:19:43.393862Z"
    }
   },
   "outputs": [],
   "source": [
    "def jaccard_similarity(candidate, reference):\n",
    "        \n",
    "    # Convert the lists to sets to get the unique tokens\n",
    "    candidate_set = set(candidate)\n",
    "    reference_set = set(reference)\n",
    "    \n",
    "    # Get the set of tokens common to both candidate and reference\n",
    "    common_tokens = candidate_set.intersection(reference_set)\n",
    "    \n",
    "    # Get the set of all tokens found in either candidate or reference\n",
    "    all_tokens = candidate_set.union(reference_set)\n",
    "    \n",
    "    # Compute the percentage of overlap (divide the number of common tokens by the number of all tokens)\n",
    "    overlap = len(common_tokens) / len(all_tokens)\n",
    "        \n",
    "    return overlap"
   ]
  },
  {
   "cell_type": "code",
   "execution_count": 54,
   "id": "df780edeafc9e90b",
   "metadata": {
    "ExecuteTime": {
     "end_time": "2024-06-19T10:19:43.666634Z",
     "start_time": "2024-06-19T10:19:43.663083Z"
    }
   },
   "outputs": [
    {
     "name": "stdout",
     "output_type": "stream",
     "text": [
      "jaccard similarity between lists: [1, 2, 3] and [1, 2, 3, 4] is 0.750\n"
     ]
    }
   ],
   "source": [
    "l1 = [1, 2, 3]\n",
    "l2 = [1, 2, 3, 4]\n",
    "\n",
    "js = jaccard_similarity(l1, l2)\n",
    "\n",
    "print(f\"jaccard similarity between lists: {l1} and {l2} is {js:.3f}\")"
   ]
  },
  {
   "cell_type": "markdown",
   "id": "62c7e4716f74323b",
   "metadata": {},
   "source": [
    "Exercise 6 - rouge1_similarity\n",
    "\n",
    "Jaccard similarity is good but a more commonly used metric in machine translation is the ROUGE score. For unigrams, this is called ROUGE-1 and as shown in the lectures, you can output the scores for both precision and recall when comparing two samples. To get the final score, you will want to compute the F1-score as given by:\n",
    "\n",
    "$$score = 2* \\frac{(precision * recall)}{(precision + recall)}$$\n",
    "\n",
    "For the implementation of the `rouge1_similarity` function you want to use the [Counter](https://docs.python.org/3/library/collections.html#collections.Counter) class from the Python standard library:"
   ]
  },
  {
   "cell_type": "code",
   "execution_count": 55,
   "id": "c91873699252bd64",
   "metadata": {
    "ExecuteTime": {
     "end_time": "2024-06-19T10:19:45.340717Z",
     "start_time": "2024-06-19T10:19:45.333022Z"
    }
   },
   "outputs": [],
   "source": [
    "def rouge1_similarity(candidate, reference):\n",
    "    \"\"\"Computes the ROUGE 1 score between two token lists\n",
    "\n",
    "    Args:\n",
    "        candidate (list[int]): Tokenized candidate translation\n",
    "        reference (list[int]): Tokenized reference translation\n",
    "\n",
    "    Returns:\n",
    "        float: Overlap between the two token lists\n",
    "    \"\"\"\n",
    "\n",
    "    # Make a frequency table of the candidate and reference tokens\n",
    "    # Hint: use the Counter class (already imported)\n",
    "    candidate_word_counts = Counter(candidate)\n",
    "    reference_word_counts = Counter(reference)\n",
    "    \n",
    "    # Initialize overlap at 0\n",
    "    overlap = 0\n",
    "    \n",
    "    # Iterate over the tokens in the candidate frequency table\n",
    "    # Hint: Counter is a subclass of dict and you can get the keys \n",
    "    #       out of a dict using the keys method like this: dict.keys()\n",
    "    for token in candidate_word_counts.keys():\n",
    "        \n",
    "        # Get the count of the current token in the candidate frequency table\n",
    "        # Hint: You can access the counts of a token as you would access values of a dictionary\n",
    "        token_count_candidate = candidate_word_counts[token]\n",
    "        \n",
    "        # Get the count of the current token in the reference frequency table\n",
    "        # Hint: You can access the counts of a token as you would access values of a dictionary\n",
    "        token_count_reference = reference_word_counts[token]\n",
    "        \n",
    "        # Update the overlap by getting the minimum between the two token counts above\n",
    "        overlap += min([token_count_candidate, token_count_reference])\n",
    "    \n",
    "    # Compute the precision\n",
    "    # Hint: precision = overlap / (number of tokens in candidate list) \n",
    "    precision = overlap / len(candidate)\n",
    "    \n",
    "    # Compute the recall\n",
    "    # Hint: recall = overlap / (number of tokens in reference list) \n",
    "    recall = overlap / len(reference)\n",
    "    \n",
    "    if precision + recall != 0:\n",
    "        # Compute the Rouge1 Score\n",
    "        # Hint: This is equivalent to the F1 score\n",
    "        f1_score = 2.0 * (precision * recall) / (precision + recall)\n",
    "        \n",
    "        return f1_score\n",
    "\n",
    "    return 0 # If precision + recall = 0 then return 0"
   ]
  },
  {
   "cell_type": "code",
   "execution_count": 56,
   "id": "7d047b85ab66b040",
   "metadata": {
    "ExecuteTime": {
     "end_time": "2024-06-19T10:19:46.085952Z",
     "start_time": "2024-06-19T10:19:46.082445Z"
    }
   },
   "outputs": [
    {
     "name": "stdout",
     "output_type": "stream",
     "text": [
      "rouge 1 similarity between lists: [1, 2, 3] and [1, 2, 3, 4] is 0.857\n"
     ]
    }
   ],
   "source": [
    "l1 = [1, 2, 3]\n",
    "l2 = [1, 2, 3, 4]\n",
    "\n",
    "r1s = rouge1_similarity(l1, l2)\n",
    "\n",
    "print(f\"rouge 1 similarity between lists: {l1} and {l2} is {r1s:.3f}\")"
   ]
  },
  {
   "cell_type": "markdown",
   "id": "17fb0b71c408e3e2",
   "metadata": {},
   "source": [
    "Computing the Overall Score\n",
    "\n",
    "\n",
    "You will now build a function to generate the overall score for a particular sample. As mentioned in the lectures, you need to compare each sample with all other samples. For instance, if we generated 30 sentences, we will need to compare sentence 1 to sentences 2 through 30. Then, we compare sentence 2 to sentences 1 and 3 through 30, and so forth. At each step, we get the average score of all comparisons to get the overall score for a particular sample. To illustrate, these will be the steps to generate the scores of a 4-sample list.\n",
    "\n",
    "- Get similarity score between sample 1 and sample 2\n",
    "+ Get similarity score between sample 1 and sample 3\n",
    "- Get similarity score between sample 1 and sample 4\n",
    "+ Get average score of the first 3 steps. This will be the overall score of sample 1\n",
    "- Iterate and repeat until samples 1 to 4 have overall scores.\n",
    "\n",
    "\n",
    "The results will be stored in a dictionary for easy lookups.\n",
    "\n",
    "Exercise 7 - average_overlap\n",
    "\n",
    "Complete the `average_overlap` function below which should implement the process described above:"
   ]
  },
  {
   "cell_type": "code",
   "execution_count": 57,
   "id": "cfd6bf8b02d2b08f",
   "metadata": {
    "ExecuteTime": {
     "end_time": "2024-06-19T10:19:49.414088Z",
     "start_time": "2024-06-19T10:19:49.406536Z"
    }
   },
   "outputs": [],
   "source": [
    "def average_overlap(samples, similarity_fn):\n",
    "    \"\"\"Computes the arithmetic mean of each candidate sentence in the samples\n",
    "\n",
    "    Args:\n",
    "        samples (list[list[int]]): Tokenized version of translated sentences\n",
    "        similarity_fn (Function): Similarity function used to compute the overlap\n",
    "\n",
    "    Returns:\n",
    "        dict[int, float]: A dictionary mapping the index of each translation to its score\n",
    "    \"\"\"\n",
    "    # Initialize dictionary\n",
    "    scores = {}\n",
    "    \n",
    "    # Iterate through all samples (enumerate helps keep track of indexes)\n",
    "    for index_candidate, candidate in enumerate(samples):    \n",
    "     \n",
    "        # Initially overlap is zero\n",
    "        overlap = 0\n",
    "        \n",
    "        # Iterate through all samples (enumerate helps keep track of indexes)\n",
    "        for index_sample, sample in enumerate(samples):\n",
    "\n",
    "            # Skip if the candidate index is the same as the sample index\n",
    "            if index_candidate == index_sample:\n",
    "                continue\n",
    "                \n",
    "            # Get the overlap between candidate and sample using the similarity function\n",
    "            sample_overlap = similarity_fn(candidate, sample)\n",
    "            \n",
    "            # Add the sample overlap to the total overlap\n",
    "            overlap += sample_overlap\n",
    "\n",
    "        # Get the score for the candidate by computing the average\n",
    "        score = overlap / (len(samples) - 1)\n",
    "\n",
    "        # Only use 3 decimal points\n",
    "        score = round(score, 3)\n",
    "        \n",
    "        # Save the score in the dictionary. use index as the key.\n",
    "        scores[index_candidate] = score\n",
    "        \n",
    "    return scores"
   ]
  },
  {
   "cell_type": "code",
   "execution_count": 58,
   "id": "4aabecffb3807feb",
   "metadata": {
    "ExecuteTime": {
     "end_time": "2024-06-19T10:19:50.979683Z",
     "start_time": "2024-06-19T10:19:50.974660Z"
    }
   },
   "outputs": [
    {
     "name": "stdout",
     "output_type": "stream",
     "text": [
      "average overlap between lists: [1, 2, 3], [1, 2, 4] and [1, 2, 4, 5] using Jaccard similarity is:\n",
      "\n",
      "{0: 0.45, 1: 0.625, 2: 0.575}\n"
     ]
    }
   ],
   "source": [
    "# Test with Jaccard similarity\n",
    "\n",
    "l1 = [1, 2, 3]\n",
    "l2 = [1, 2, 4]\n",
    "l3 = [1, 2, 4, 5]\n",
    "\n",
    "avg_ovlp = average_overlap([l1, l2, l3], jaccard_similarity)\n",
    "\n",
    "print(f\"average overlap between lists: {l1}, {l2} and {l3} using Jaccard similarity is:\\n\\n{avg_ovlp}\")"
   ]
  },
  {
   "cell_type": "code",
   "execution_count": 59,
   "id": "201bd1991a493ce1",
   "metadata": {
    "ExecuteTime": {
     "end_time": "2024-06-19T10:19:52.844791Z",
     "start_time": "2024-06-19T10:19:52.838862Z"
    }
   },
   "outputs": [
    {
     "name": "stdout",
     "output_type": "stream",
     "text": [
      "average overlap between lists: [1, 2, 3], [1, 4], [1, 2, 4, 5] and [5, 6] using Rouge1 similarity is:\n",
      "\n",
      "{0: 0.324, 1: 0.356, 2: 0.524, 3: 0.111}\n"
     ]
    }
   ],
   "source": [
    "# Test with Rouge1 similarity\n",
    "\n",
    "l1 = [1, 2, 3]\n",
    "l2 = [1, 4]\n",
    "l3 = [1, 2, 4, 5]\n",
    "l4 = [5,6]\n",
    "\n",
    "avg_ovlp = average_overlap([l1, l2, l3, l4], rouge1_similarity)\n",
    "\n",
    "print(f\"average overlap between lists: {l1}, {l2}, {l3} and {l4} using Rouge1 similarity is:\\n\\n{avg_ovlp}\")"
   ]
  },
  {
   "cell_type": "markdown",
   "id": "eceafdfa9aa06b4d",
   "metadata": {},
   "source": [
    "In practice, it is also common to see the weighted mean being used to calculate the overall score instead of just the arithmetic mean. This is implemented in the `weighted_avg_overlap` function below and you can use it in your experiments to see which one will give better results:"
   ]
  },
  {
   "cell_type": "code",
   "execution_count": 60,
   "id": "ff692e428ba69996",
   "metadata": {
    "ExecuteTime": {
     "end_time": "2024-06-19T10:19:55.612127Z",
     "start_time": "2024-06-19T10:19:55.601240Z"
    }
   },
   "outputs": [],
   "source": [
    "def weighted_avg_overlap(samples, log_probs, similarity_fn):\n",
    "    \n",
    "    # Scores dictionary\n",
    "    scores = {}\n",
    "    \n",
    "    # Iterate over the samples\n",
    "    for index_candidate, candidate in enumerate(samples):    \n",
    "        \n",
    "        # Initialize overlap and weighted sum\n",
    "        overlap, weight_sum = 0.0, 0.0\n",
    "        \n",
    "        # Iterate over all samples and log probabilities\n",
    "        for index_sample, (sample, logp) in enumerate(zip(samples, log_probs)):\n",
    "\n",
    "            # Skip if the candidate index is the same as the sample index            \n",
    "            if index_candidate == index_sample:\n",
    "                continue\n",
    "                \n",
    "            # Convert log probability to linear scale\n",
    "            sample_p = float(np.exp(logp))\n",
    "\n",
    "            # Update the weighted sum\n",
    "            weight_sum += sample_p\n",
    "\n",
    "            # Get the unigram overlap between candidate and sample\n",
    "            sample_overlap = similarity_fn(candidate, sample)\n",
    "            \n",
    "            # Update the overlap\n",
    "            overlap += sample_p * sample_overlap\n",
    "            \n",
    "        # Compute the score for the candidate\n",
    "        score = overlap / weight_sum\n",
    "\n",
    "        # Only use 3 decimal points\n",
    "        score = round(score, 3)\n",
    "        \n",
    "        # Save the score in the dictionary. use index as the key.\n",
    "        scores[index_candidate] = score\n",
    "    \n",
    "    return scores"
   ]
  },
  {
   "cell_type": "code",
   "execution_count": 61,
   "id": "cef96d5d12cb73b9",
   "metadata": {
    "ExecuteTime": {
     "end_time": "2024-06-19T10:19:56.296566Z",
     "start_time": "2024-06-19T10:19:56.291309Z"
    }
   },
   "outputs": [
    {
     "name": "stdout",
     "output_type": "stream",
     "text": [
      "weighted average overlap using Jaccard similarity is:\n",
      "\n",
      "{0: 0.443, 1: 0.631, 2: 0.558}\n"
     ]
    }
   ],
   "source": [
    "l1 = [1, 2, 3]\n",
    "l2 = [1, 2, 4]\n",
    "l3 = [1, 2, 4, 5]\n",
    "log_probs = [0.4, 0.2, 0.5]\n",
    "\n",
    "w_avg_ovlp = weighted_avg_overlap([l1, l2, l3], log_probs, jaccard_similarity)\n",
    "\n",
    "print(f\"weighted average overlap using Jaccard similarity is:\\n\\n{w_avg_ovlp}\")"
   ]
  },
  {
   "cell_type": "markdown",
   "id": "7e5f5487245ef1a5",
   "metadata": {},
   "source": [
    "mbr_decode\n",
    "\n",
    "You will now put everything together in the the `mbr_decode` function below. This final step is not graded as this function is just a wrapper around all the cool stuff you have coded so far! \n",
    "\n",
    "You can use it to play around, trying different numbers of samples, temperatures and similarity functions!"
   ]
  },
  {
   "cell_type": "code",
   "execution_count": 62,
   "id": "5aeb4f1be087b7",
   "metadata": {
    "ExecuteTime": {
     "end_time": "2024-06-19T10:19:59.008302Z",
     "start_time": "2024-06-19T10:19:58.988401Z"
    }
   },
   "outputs": [],
   "source": [
    "def mbr_decode(model, text, n_samples=5, temperature=0.6, similarity_fn=jaccard_similarity):\n",
    "    \n",
    "    # Generate samples\n",
    "    samples, log_probs = generate_samples(model, text, n_samples=n_samples, temperature=temperature)\n",
    "    \n",
    "    # Compute the overlap scores\n",
    "    scores = weighted_avg_overlap(samples, log_probs, similarity_fn)\n",
    "\n",
    "    # Decode samples\n",
    "    decoded_translations = [tokens_to_text(s, id_to_word).numpy().decode('utf-8') for s in samples]\n",
    "    \n",
    "    # Find the key with the highest score\n",
    "    max_score_key = max(scores, key=lambda k: scores[k])\n",
    "    \n",
    "    # Get the translation \n",
    "    translation = decoded_translations[max_score_key]\n",
    "    \n",
    "    return translation, decoded_translations"
   ]
  },
  {
   "cell_type": "code",
   "execution_count": 63,
   "id": "72cfd67e8b32a5d8",
   "metadata": {
    "ExecuteTime": {
     "end_time": "2024-06-19T10:20:01.750503Z",
     "start_time": "2024-06-19T10:19:59.696721Z"
    }
   },
   "outputs": [
    {
     "name": "stdout",
     "output_type": "stream",
     "text": [
      "Translation candidates:\n",
      "eu eu eu tom .\n",
      "eu tom .\n",
      "voce eu tom sao miope .\n",
      "eu tom .\n",
      "eu tom [UNK] .\n",
      "eu eu tom .\n",
      "tom tom .\n",
      "eu tom .\n",
      "eu tom .\n",
      "eu tom .\n",
      "\n",
      "Selected translation: eu tom .\n"
     ]
    }
   ],
   "source": [
    "english_sentence = \"I love languages\"\n",
    "\n",
    "translation, candidates = mbr_decode(trained_translator, english_sentence, n_samples=10, temperature=0.6)\n",
    "\n",
    "print(\"Translation candidates:\")\n",
    "for c in candidates:\n",
    "    print(c)\n",
    "\n",
    "print(f\"\\nSelected translation: {translation}\")"
   ]
  },
  {
   "cell_type": "markdown",
   "id": "cb43aef3f082795",
   "metadata": {},
   "source": [
    "# 2 Text Summarizaion"
   ]
  },
  {
   "cell_type": "markdown",
   "id": "c1737de1-fadd-4b6f-ab13-703409f570f8",
   "metadata": {},
   "source": [
    "Jeden z prvnich modelu s attention mechanismem byla zaroven convolucni sit. Nicmene se ukazalo, ze bez convolucni vrsty se model trenuje rychleji a ma lepsi vysledky. Taky proto se ten prelomový paper jmenuje \"Attention is all you need\". Taky uvedla \"na trh\" transformer architekturu. Od te doby se vicemene architektura nemeni, jen se pridavaji dimenze a/nebo pocty encoderu a/nebo pocety decoderu."
   ]
  },
  {
   "cell_type": "markdown",
   "id": "ee585c1e-f9f6-4786-82cd-a85a2799d0c9",
   "metadata": {},
   "source": [
    "Klasicky RNN, stejne jako model vyse, ma tu nevyhodu, ze kazda dalsi bunka ceka na vysledek predchoziho vypoctu. I kdyz attention mechanismus popsany vyse umoznil zamerit se na dilci casti textu a trochu tim vyresil problemy s vanishing gradient nebo ztratou informace napric dlouhou vetou, stale ji tim nevyresil uplne. A tak vznika Transformer. Sit, ktera neobsahuje zadny prvky RNN, a vypocet lze provest maticove v jednom vypoctu. Stejne tak napocet gradientu je opet jen soucin matic a je tak rychly. "
   ]
  },
  {
   "cell_type": "markdown",
   "id": "9d0d15b5-6e7c-4bb0-a320-0f3adf9d92cb",
   "metadata": {},
   "source": [
    "Nekolik vyznamnych transformer modelu je: Bert, T5, GPT-3."
   ]
  },
  {
   "cell_type": "markdown",
   "id": "ceba4f1bb6c76de4",
   "metadata": {},
   "source": [
    "Naprosto skvely clanek, kde je dobre a nazorne vysvetlen princip Transformeru je zde: \n",
    "http://jalammar.github.io/illustrated-transformer/. Ted jen ve zkratce:"
   ]
  },
  {
   "cell_type": "markdown",
   "id": "d0a84ed423d560af",
   "metadata": {
    "jp-MarkdownHeadingCollapsed": true
   },
   "source": [
    "### Attention mechanismus graficke vysvetleni."
   ]
  },
  {
   "cell_type": "markdown",
   "id": "0cc05e81-bb26-4200-89f5-45a2bf1edb3d",
   "metadata": {},
   "source": [
    "![transformer](./transfomer_soubory/The_transformer_encoders_decoders.png)"
   ]
  },
  {
   "cell_type": "markdown",
   "id": "f12261fd0c5beba4",
   "metadata": {},
   "source": [
    "![transformer](./transfomer_soubory/The_transformer_encoder_decoder_stack.png)"
   ]
  },
  {
   "cell_type": "markdown",
   "id": "c2608371b8ec6f29",
   "metadata": {},
   "source": [
    "![transformer](./transfomer_soubory/Transformer_encoder.png)"
   ]
  },
  {
   "cell_type": "markdown",
   "id": "bd1fdd07bc3c2e69",
   "metadata": {},
   "source": [
    "![transformer](./transfomer_soubory/Transformer_decoder.png)"
   ]
  },
  {
   "cell_type": "markdown",
   "id": "157241a02dbdbb74",
   "metadata": {},
   "source": [
    "![transformer](./transfomer_soubory/embeddings.png)"
   ]
  },
  {
   "cell_type": "markdown",
   "id": "136c15343df0351c",
   "metadata": {},
   "source": [
    "![transformer](./transfomer_soubory/encoder_with_tensors.png)"
   ]
  },
  {
   "cell_type": "markdown",
   "id": "389a462db1909902",
   "metadata": {},
   "source": [
    "![transformer](./transfomer_soubory/encoder_with_tensors_2.png)"
   ]
  },
  {
   "cell_type": "markdown",
   "id": "99b3c651fd0ca0fc",
   "metadata": {},
   "source": [
    "![transformer](./transfomer_soubory/transformer_self_attention_vectors.png)"
   ]
  },
  {
   "cell_type": "markdown",
   "id": "8f720485907e425d",
   "metadata": {},
   "source": [
    "![transformer](./transfomer_soubory/transformer_self_attention_score.png)"
   ]
  },
  {
   "cell_type": "markdown",
   "id": "fa7c285904f9076d",
   "metadata": {},
   "source": [
    "![transformer](./transfomer_soubory/self-attention_softmax.png)"
   ]
  },
  {
   "cell_type": "markdown",
   "id": "a9f6d26cbaf327b4",
   "metadata": {},
   "source": [
    "![transformer](./transfomer_soubory/self-attention-output.png)"
   ]
  },
  {
   "cell_type": "markdown",
   "id": "c48f104c1c773f5d",
   "metadata": {},
   "source": [
    "![transformer](./transfomer_soubory/self-attention-matrix-calculation.png)"
   ]
  },
  {
   "cell_type": "markdown",
   "id": "fcbd6d5f12ec27b6",
   "metadata": {},
   "source": [
    "![transformer](./transfomer_soubory/self-attention-matrix-calculation-2.png)"
   ]
  },
  {
   "cell_type": "markdown",
   "id": "7859816d3097297d",
   "metadata": {},
   "source": [
    "![transformer](./transfomer_soubory/transformer_attention_heads_qkv.png)"
   ]
  },
  {
   "cell_type": "markdown",
   "id": "b63c0407f1b06fb3",
   "metadata": {},
   "source": [
    "![transformer](./transfomer_soubory/transformer_attention_heads_z.png)"
   ]
  },
  {
   "cell_type": "markdown",
   "id": "ab5197df4aa7acc0",
   "metadata": {},
   "source": [
    "![transformer](./transfomer_soubory/transformer_attention_heads_weight_matrix_o.png)"
   ]
  },
  {
   "cell_type": "markdown",
   "id": "77d9bbbf686be017",
   "metadata": {},
   "source": [
    "![transformer](./transfomer_soubory/transformer_multi-headed_self-attention-recap.png)"
   ]
  },
  {
   "cell_type": "markdown",
   "id": "20ddaaa30a597977",
   "metadata": {},
   "source": [
    "![transformer](./transfomer_soubory/transformer_positional_encoding_vectors.png)"
   ]
  },
  {
   "cell_type": "markdown",
   "id": "55ca8d3482eb3f91",
   "metadata": {},
   "source": [
    "![transformer](./transfomer_soubory/transformer_positional_encoding_example.png)"
   ]
  },
  {
   "cell_type": "markdown",
   "id": "4c54c3bd413ff638",
   "metadata": {},
   "source": [
    "![transformer](./transfomer_soubory/attention-is-all-you-need-positional-encoding.png)"
   ]
  },
  {
   "cell_type": "markdown",
   "id": "bb07843b2ee60d8",
   "metadata": {},
   "source": [
    "![transformer](./transfomer_soubory/transformer_resideual_layer_norm.png)"
   ]
  },
  {
   "cell_type": "markdown",
   "id": "e7e9c3a1cccdf3f8",
   "metadata": {},
   "source": [
    "![transformer](./transfomer_soubory/transformer_resideual_layer_norm_2.png)"
   ]
  },
  {
   "cell_type": "markdown",
   "id": "460623f6647fa4c7",
   "metadata": {},
   "source": [
    "![transformer](./transfomer_soubory/transformer_resideual_layer_norm_3.png)"
   ]
  },
  {
   "cell_type": "markdown",
   "id": "f89f91e56b5f9556",
   "metadata": {},
   "source": [
    "![transformer](./transfomer_soubory/transformer_decoding_1.gif)"
   ]
  },
  {
   "cell_type": "markdown",
   "id": "287b0fd4cabffb53",
   "metadata": {},
   "source": [
    "![transformer](./transfomer_soubory/transformer_decoding_2.gif)"
   ]
  },
  {
   "cell_type": "markdown",
   "id": "d9269b92b218d8ab",
   "metadata": {},
   "source": [
    "![transformer](./transfomer_soubory/transformer_decoder_output_softmax.png)"
   ]
  },
  {
   "cell_type": "markdown",
   "id": "f8da418438adbc5d",
   "metadata": {},
   "source": [
    "A kde vsude se takovy transformer pouziva?\n",
    "- sumarizace textu\n",
    "- autocomplete\n",
    "- NER\n",
    "- Q&A\n",
    "- ...\n",
    "- "
   ]
  },
  {
   "cell_type": "markdown",
   "id": "c741bd639dc32d4a",
   "metadata": {},
   "source": [
    "Spousta modelu je tzv. instructed. Tj. ze existuje prompt, ktery se zada jako klicove slovo a model na nej odpovi. T5 je jeden z techto modelu.\n",
    "\n",
    "![transformer](./transfomer_soubory/t5.png)"
   ]
  },
  {
   "cell_type": "markdown",
   "id": "6b9becca9e4c2579",
   "metadata": {
    "jp-MarkdownHeadingCollapsed": true
   },
   "source": [
    "### Attention mechanism"
   ]
  },
  {
   "cell_type": "markdown",
   "id": "b0dacf5d324286ba",
   "metadata": {},
   "source": [
    "Encoder-Decoder Attention - query je z predchoziho stavu decoderu a key a value jsou z encoderu. Tento typ attention \n",
    "se pouziva v decoderu\n",
    "\n",
    "Self-Attention - query, key a value jsou z jednoho zdroje. Tento typ attention se pouziva v encoderu\n",
    "\n",
    "Masked Self-Attention - pouziva se v decoderu, kde se maskuje budouci informace. Pouziva se pro trenovani."
   ]
  },
  {
   "cell_type": "markdown",
   "id": "6fe5e1f31d148a66",
   "metadata": {},
   "source": [
    "![transformer](./transfomer_soubory/masked_self_att.png)"
   ]
  },
  {
   "cell_type": "markdown",
   "id": "88798f1fa2856dd6",
   "metadata": {
    "jp-MarkdownHeadingCollapsed": true
   },
   "source": [
    "### LAB: Attention"
   ]
  },
  {
   "cell_type": "markdown",
   "id": "3f1496027236cd7",
   "metadata": {},
   "source": [
    " The Three Ways of Attention and Dot Product Attention: Ungraded Lab Notebook\n",
    "\n",
    "In this notebook you'll explore the three ways of attention (encoder-decoder attention, causal attention, and bi-directional self attention) and how to implement the latter two with dot product attention. \n",
    "\n",
    " Background\n",
    "\n",
    "As you learned last week, **attention models** constitute powerful tools in the NLP practitioner's toolkit. Like LSTMs, they learn which words are most important to phrases, sentences, paragraphs, and so on. Moreover, they mitigate the vanishing gradient problem even better than LSTMs. You've already seen how to combine attention with LSTMs to build **encoder-decoder models** for applications such as machine translation. \n",
    "\n",
    "<img src=\"transfomer_soubory/C4_W2_L3_dot-product-attention_S01_introducing-attention_stripped.png\" width=\"500\"/>\n",
    "\n",
    "This week, you'll see how to integrate attention into **transformers**. Because transformers do not process one token at a time, they are much easier to parallelize and accelerate. Beyond text summarization, applications of transformers include: \n",
    "* Machine translation\n",
    "* Auto-completion\n",
    "* Named Entity Recognition\n",
    "* Chatbots\n",
    "* Question-Answering\n",
    "* And more!\n",
    "\n",
    "Along with embedding, positional encoding, dense layers, and residual connections, attention is a crucial component of transformers. At the heart of any attention scheme used in a transformer is **dot product attention**, of which the figures below display a simplified picture:\n",
    "\n",
    "<img src=\"transfomer_soubory/C4_W2_L3_dot-product-attention_S03_concept-of-attention_stripped.png\" width=\"500\"/>\n",
    "\n",
    "<img src=\"transfomer_soubory/C4_W2_L3_dot-product-attention_S04_attention-math_stripped.png\" width=\"500\"/>\n",
    "\n",
    "With basic dot product attention, you capture the interactions between every word (embedding) in your query and every word in your key. If the queries and keys belong to the same sentences, this constitutes **bi-directional self-attention**. In some situations, however, it's more appropriate to consider only words which have come before the current one. Such cases, particularly when the queries and keys come from the same sentences, fall into the category of **causal attention**. \n",
    "\n",
    "<img src=\"transfomer_soubory/C4_W2_L4_causal-attention_S02_causal-attention_stripped.png\" width=\"500\"/>\n",
    "\n",
    "For causal attention, you add a **mask** to the argument of our softmax function, as illustrated below: \n",
    "\n",
    "<img src=\"transfomer_soubory/C4_W2_L4_causal-attention_S03_causal-attention-math_stripped.png\" width=\"500\"/>\n",
    "\n",
    "<img src=\"transfomer_soubory/C4_W2_L4_causal-attention_S04_causal-attention-math-2_stripped.png\" width=\"500\"/>\n",
    "\n",
    "Now let's see how to implement the attention mechanism."
   ]
  },
  {
   "cell_type": "code",
   "execution_count": 64,
   "id": "e5b26504dcdb33a1",
   "metadata": {
    "ExecuteTime": {
     "end_time": "2024-06-19T10:20:43.016914Z",
     "start_time": "2024-06-19T10:20:43.010519Z"
    }
   },
   "outputs": [],
   "source": [
    "import os\n",
    "os.environ['TF_CPP_MIN_LOG_LEVEL'] = '3'\n",
    "\n",
    "import sys\n",
    "\n",
    "import tensorflow as tf\n",
    "\n",
    "import textwrap\n",
    "wrapper = textwrap.TextWrapper(width=70)\n"
   ]
  },
  {
   "cell_type": "code",
   "execution_count": 65,
   "id": "17212d6f62339f4",
   "metadata": {
    "ExecuteTime": {
     "end_time": "2024-06-19T10:20:44.226180Z",
     "start_time": "2024-06-19T10:20:44.223677Z"
    }
   },
   "outputs": [],
   "source": [
    "def display_tensor(t, name):\n",
    "    \"\"\"Display shape and tensor\"\"\"\n",
    "    print(f'{name} shape: {t.shape}\\n')\n",
    "    print(f'{t}\\n')"
   ]
  },
  {
   "cell_type": "markdown",
   "id": "229e3fab2bc06ec7",
   "metadata": {},
   "source": [
    "Create some tensors and display their shapes. Feel free to experiment with your own tensors. Keep in mind, though, that the query, key, and value arrays must all have the same embedding dimensions (number of columns), and the mask array must have the same shape as `tf.matmul(query, key_transposed)`. "
   ]
  },
  {
   "cell_type": "code",
   "execution_count": 66,
   "id": "9c70a94daee54d12",
   "metadata": {
    "ExecuteTime": {
     "end_time": "2024-06-19T10:20:46.696684Z",
     "start_time": "2024-06-19T10:20:46.675152Z"
    }
   },
   "outputs": [
    {
     "name": "stdout",
     "output_type": "stream",
     "text": [
      "query shape: (2, 3)\n",
      "\n",
      "[[1. 0. 0.]\n",
      " [0. 1. 0.]]\n",
      "\n",
      "key shape: (2, 3)\n",
      "\n",
      "[[1. 2. 3.]\n",
      " [4. 5. 6.]]\n",
      "\n",
      "value shape: (2, 3)\n",
      "\n",
      "[[0. 1. 0.]\n",
      " [1. 0. 1.]]\n",
      "\n",
      "mask shape: (2, 2)\n",
      "\n",
      "[[1. 0.]\n",
      " [1. 1.]]\n",
      "\n"
     ]
    }
   ],
   "source": [
    "q = tf.constant([[1.0, 0.0, 0.0], [0.0, 1.0, 0.0]])\n",
    "display_tensor(q, 'query')\n",
    "k = tf.constant([[1.0, 2.0, 3.0], [4.0, 5.0, 6.0]])\n",
    "display_tensor(k, 'key')\n",
    "v = tf.constant([[0.0, 1.0, 0.0], [1.0, 0.0, 1.0]])\n",
    "display_tensor(v, 'value')\n",
    "m = tf.constant([[1.0, 0.0], [1.0, 1.0]])\n",
    "display_tensor(m, 'mask')"
   ]
  },
  {
   "cell_type": "markdown",
   "id": "da3ad7eca38f4b13",
   "metadata": {},
   "source": [
    "Dot product attention\n",
    "\n",
    "Here you compute \n",
    "$\\textrm{softmax} \\left(\\frac{Q K^T}{\\sqrt{d}} + M \\right) V$, where the (optional, but default) scaling factor $\\sqrt{d}$ is the square root of the embedding dimension."
   ]
  },
  {
   "cell_type": "code",
   "execution_count": 67,
   "id": "c9aef0a9cfba5375",
   "metadata": {
    "ExecuteTime": {
     "end_time": "2024-06-19T10:20:50.210900Z",
     "start_time": "2024-06-19T10:20:50.197925Z"
    }
   },
   "outputs": [],
   "source": [
    "def dot_product_attention(q, k, v, mask, scale=True):\n",
    "    \"\"\"\n",
    "    Calculate the attention weights.\n",
    "      q, k, v must have matching leading dimensions.\n",
    "      k, v must have matching penultimate dimension, i.e.: seq_len_k = seq_len_v.\n",
    "      The mask has different shapes depending on its type(padding or look ahead) \n",
    "      but it must be broadcastable for addition.\n",
    "\n",
    "    Arguments:\n",
    "        q (tf.Tensor): query of shape (..., seq_len_q, depth)\n",
    "        k (tf.Tensor): key of shape (..., seq_len_k, depth)\n",
    "        v (tf.Tensor): value of shape (..., seq_len_v, depth_v)\n",
    "        mask (tf.Tensor): mask with shape broadcastable \n",
    "              to (..., seq_len_q, seq_len_k). Defaults to None.\n",
    "        scale (boolean): if True, the result is a scaled dot-product attention. Defaults to True.\n",
    "\n",
    "    Returns:\n",
    "        attention_output (tf.Tensor): the result of the attention function\n",
    "    \"\"\"\n",
    "    \n",
    "    # Multiply q and k transposed.\n",
    "    matmul_qk = tf.matmul(q, k, transpose_b=True)  # (..., seq_len_q, seq_len_k)\n",
    "\n",
    "    # scale matmul_qk with the square root of dk\n",
    "    if scale:\n",
    "        dk = tf.cast(tf.shape(k)[-1], tf.float32)\n",
    "        matmul_qk = matmul_qk / tf.math.sqrt(dk)\n",
    "    # add the mask to the scaled tensor.\n",
    "    if mask is not None:\n",
    "        matmul_qk = matmul_qk + (1. - mask) * -1e9 \n",
    "\n",
    "    # softmax is normalized on the last axis (seq_len_k) so that the scores add up to 1.\n",
    "    attention_weights = tf.keras.activations.softmax(matmul_qk)\n",
    "\n",
    "    # Multiply the attention weights by v\n",
    "    attention_output = tf.matmul(attention_weights, v)  # (..., seq_len_q, depth_v)\n",
    "\n",
    "    return attention_output"
   ]
  },
  {
   "cell_type": "code",
   "execution_count": 68,
   "id": "1cc68f3de424746d",
   "metadata": {
    "ExecuteTime": {
     "end_time": "2024-06-19T10:20:51.962393Z",
     "start_time": "2024-06-19T10:20:51.958712Z"
    }
   },
   "outputs": [],
   "source": [
    "def causal_dot_product_attention(q, k, v, scale=True):\n",
    "    \"\"\" Masked dot product self attention.\n",
    "    Args:\n",
    "        q (numpy.ndarray): queries.\n",
    "        k (numpy.ndarray): keys.\n",
    "        v (numpy.ndarray): values.\n",
    "    Returns:\n",
    "        numpy.ndarray: masked dot product self attention tensor.\n",
    "    \"\"\"\n",
    "    \n",
    "    # Size of the penultimate dimension of the query\n",
    "    mask_size = q.shape[-2]\n",
    "\n",
    "    # Creates a matrix with ones below the diagonal and 0s above. It should have shape (1, mask_size, mask_size)\n",
    "    mask = tf.experimental.numpy.tril(tf.ones((mask_size, mask_size)))  \n",
    "    \n",
    "    return dot_product_attention(q, k, v, mask, scale=scale)"
   ]
  },
  {
   "cell_type": "code",
   "execution_count": 69,
   "id": "7e3b82f680c6c2fa",
   "metadata": {
    "ExecuteTime": {
     "end_time": "2024-06-19T10:20:52.378313Z",
     "start_time": "2024-06-19T10:20:52.162466Z"
    }
   },
   "outputs": [
    {
     "name": "stdout",
     "output_type": "stream",
     "text": [
      "result shape: (2, 3)\n",
      "\n",
      "[[0.         1.         0.        ]\n",
      " [0.8496746  0.15032543 0.8496746 ]]\n",
      "\n"
     ]
    }
   ],
   "source": [
    "result = causal_dot_product_attention(q, k, v)\n",
    "display_tensor(result, 'result')"
   ]
  },
  {
   "cell_type": "markdown",
   "id": "16d0604e9b37f4ef",
   "metadata": {
    "jp-MarkdownHeadingCollapsed": true
   },
   "source": [
    "### LAB: Masking"
   ]
  },
  {
   "cell_type": "markdown",
   "id": "b380af3d56141778",
   "metadata": {},
   "source": [
    " 1 - Masking\n",
    "\n",
    "There are two types of masks that are useful when building your Transformer network: the *padding mask* and the *look-ahead mask*. Both help the softmax computation give the appropriate weights to the words in your input sentence. \n",
    "\n",
    " 1.1 - Padding Mask\n",
    "\n",
    "Oftentimes your input sequence will exceed the maximum length of a sequence your network can process. Let's say the maximum length of your model is five, it is fed the following sequences:\n",
    "\n",
    "    [[\"Do\", \"you\", \"know\", \"when\", \"Jane\", \"is\", \"going\", \"to\", \"visit\", \"Africa\"], \n",
    "     [\"Jane\", \"visits\", \"Africa\", \"in\", \"September\" ],\n",
    "     [\"Exciting\", \"!\"]\n",
    "    ]\n",
    "\n",
    "which might get vectorized as:\n",
    "\n",
    "    [[ 71, 121, 4, 56, 99, 2344, 345, 1284, 15],\n",
    "     [ 56, 1285, 15, 181, 545],\n",
    "     [ 87, 600]\n",
    "    ]\n",
    "    \n",
    "When passing sequences into a transformer model, it is important that they are of uniform length. You can achieve this by padding the sequence with zeros, and truncating sentences that exceed the maximum length of your model:\n",
    "\n",
    "    [[ 71, 121, 4, 56, 99],\n",
    "     [ 2344, 345, 1284, 15, 0],\n",
    "     [ 56, 1285, 15, 181, 545],\n",
    "     [ 87, 600, 0, 0, 0],\n",
    "    ]\n",
    "    \n",
    "Sequences longer than the maximum length of five will be truncated, and zeros will be added to the truncated sequence to achieve uniform length. Similarly, for sequences shorter than the maximum length, zeros will also be added for padding.\n",
    "\n",
    "When pasing these vectors through the attention layers, the zeros will typically disappear  (you will get completely new vectors given the mathematical operations that happen in the attention block). However, you still want the network to attend only to the first few numbers in that vector (given by the sentence length) and this is when a padding mask comes in handy. You will need to define a boolean mask that specifies to which elements you must attend (1) and which elements you must ignore (0) and you do this by looking at all the zeros in the sequence. Then you use the mask to set the values of the vectors (corresponding to the zeros in the initial vector) close to negative infinity (-1e9).\n",
    "\n",
    "Imagine your input vector is `[87, 600, 0, 0, 0]`. This would give you a mask of `[1, 1, 0, 0, 0]`. When your vector passes through the attention mechanism, you get another (randomly looking) vector, let's say `[1, 2, 3, 4, 5]`, which after masking becomes `[1, 2, -1e9, -1e9, -1e9]`, so that when you take the softmax, the last three elements (where there were zeros in the input) don't affect the score.\n",
    "\n",
    "The [MultiheadAttention](https://keras.io/api/layers/attention_layers/multi_head_attention/) layer implemented in Keras, uses this masking logic.\n",
    "\n",
    "**Note:** The below function only creates the mask of an _already padded sequence_."
   ]
  },
  {
   "cell_type": "code",
   "execution_count": 70,
   "id": "99d5e4ff3fc9a329",
   "metadata": {
    "ExecuteTime": {
     "end_time": "2024-06-19T10:20:55.675888Z",
     "start_time": "2024-06-19T10:20:55.666850Z"
    }
   },
   "outputs": [],
   "source": [
    "def create_padding_mask(decoder_token_ids):\n",
    "    \"\"\"\n",
    "    Creates a matrix mask for the padding cells\n",
    "    \n",
    "    Arguments:\n",
    "        decoder_token_ids (matrix like): matrix of size (n, m)\n",
    "    \n",
    "    Returns:\n",
    "        mask (tf.Tensor): binary tensor of size (n, 1, m)\n",
    "    \"\"\"    \n",
    "    seq = 1 - tf.cast(tf.math.equal(decoder_token_ids, 0), tf.float32)\n",
    "  \n",
    "    # add extra dimensions to add the padding\n",
    "    # to the attention logits. \n",
    "    # this will allow for broadcasting later when comparing sequences\n",
    "    return seq[:, tf.newaxis, :] "
   ]
  },
  {
   "cell_type": "code",
   "execution_count": 71,
   "id": "5ca900a398e797d0",
   "metadata": {
    "ExecuteTime": {
     "end_time": "2024-06-19T10:20:57.382239Z",
     "start_time": "2024-06-19T10:20:57.147368Z"
    }
   },
   "outputs": [
    {
     "name": "stdout",
     "output_type": "stream",
     "text": [
      "tf.Tensor(\n",
      "[[[1. 1. 0. 0. 0.]]\n",
      "\n",
      " [[1. 1. 1. 0. 0.]]\n",
      "\n",
      " [[1. 0. 0. 0. 0.]]], shape=(3, 1, 5), dtype=float32)\n"
     ]
    }
   ],
   "source": [
    "x = tf.constant([[7., 6., 0., 0., 0.], [1., 2., 3., 0., 0.], [3., 0., 0., 0., 0.]])\n",
    "print(create_padding_mask(x))"
   ]
  },
  {
   "cell_type": "code",
   "execution_count": 72,
   "id": "63c73b8d96fcee72",
   "metadata": {
    "ExecuteTime": {
     "end_time": "2024-06-19T10:20:58.041958Z",
     "start_time": "2024-06-19T10:20:57.996668Z"
    }
   },
   "outputs": [
    {
     "name": "stdout",
     "output_type": "stream",
     "text": [
      "Softmax of non-masked vectors:\n",
      "\n",
      "tf.Tensor(\n",
      "[[[7.2959948e-01 2.6840463e-01 6.6530856e-04 6.6530856e-04 6.6530856e-04]]\n",
      "\n",
      " [[8.4437363e-02 2.2952455e-01 6.2391245e-01 3.1062769e-02 3.1062769e-02]]\n",
      "\n",
      " [[8.3392531e-01 4.1518692e-02 4.1518692e-02 4.1518692e-02 4.1518692e-02]]], shape=(3, 1, 5), dtype=float32)\n",
      "\n",
      "Softmax of masked vectors:\n",
      "\n",
      "tf.Tensor(\n",
      "[[[0.7310586  0.2689414  0.         0.         0.        ]]\n",
      "\n",
      " [[0.09003057 0.24472848 0.665241   0.         0.        ]]\n",
      "\n",
      " [[1.         0.         0.         0.         0.        ]]], shape=(3, 1, 5), dtype=float32)\n"
     ]
    }
   ],
   "source": [
    "# Create the mask for x\n",
    "mask = create_padding_mask(x)\n",
    "\n",
    "# Extend the dimension of x to match the dimension of the mask\n",
    "x_extended = x[:, tf.newaxis, :]\n",
    "\n",
    "print(\"Softmax of non-masked vectors:\\n\")\n",
    "print(tf.keras.activations.softmax(x_extended))\n",
    "\n",
    "print(\"\\nSoftmax of masked vectors:\\n\")\n",
    "print(tf.keras.activations.softmax(x_extended + (1 - mask) * -1.0e9))"
   ]
  },
  {
   "cell_type": "markdown",
   "id": "f5f094ea9740f6ee",
   "metadata": {},
   "source": [
    " 1.2 - Look-ahead Mask\n",
    "\n",
    "The look-ahead mask follows similar intuition. In training, you will have access to the complete correct output of your training example. The look-ahead mask helps your model pretend that it correctly predicted a part of the output and see if, *without looking ahead*, it can correctly predict the next output. \n",
    "\n",
    "For example, if the expected correct output is `[1, 2, 3]` and you wanted to see if given that the model correctly predicted the first value it could predict the second value, you would mask out the second and third values. So you would input the masked sequence `[1, -1e9, -1e9]` and see if it could generate `[1, 2, -1e9]`.\n",
    "\n",
    "Just because you've worked so hard, we'll also implement this mask for you 😇😇. Again, take a close look at the code so you can effectively implement it later."
   ]
  },
  {
   "cell_type": "code",
   "execution_count": 73,
   "id": "71018b45e215e9bf",
   "metadata": {
    "ExecuteTime": {
     "end_time": "2024-06-19T10:21:02.621168Z",
     "start_time": "2024-06-19T10:21:02.610711Z"
    }
   },
   "outputs": [],
   "source": [
    "def create_look_ahead_mask(sequence_length):\n",
    "    \"\"\"\n",
    "    Returns a lower triangular matrix filled with ones\n",
    "    \n",
    "    Arguments:\n",
    "        sequence_length (int): matrix size\n",
    "    \n",
    "    Returns:\n",
    "        mask (tf.Tensor): binary tensor of size (sequence_length, sequence_length)\n",
    "    \"\"\"\n",
    "    mask = tf.linalg.band_part(tf.ones((1, sequence_length, sequence_length)), -1, 0)\n",
    "    return mask "
   ]
  },
  {
   "cell_type": "code",
   "execution_count": 74,
   "id": "9c3572423140cf9a",
   "metadata": {
    "ExecuteTime": {
     "end_time": "2024-06-19T10:21:03.341130Z",
     "start_time": "2024-06-19T10:21:03.232967Z"
    }
   },
   "outputs": [
    {
     "data": {
      "text/plain": [
       "<tf.Tensor: shape=(1, 3, 3), dtype=float32, numpy=\n",
       "array([[[1., 0., 0.],\n",
       "        [1., 1., 0.],\n",
       "        [1., 1., 1.]]], dtype=float32)>"
      ]
     },
     "execution_count": 74,
     "metadata": {},
     "output_type": "execute_result"
    }
   ],
   "source": [
    "x = tf.random.uniform((1, 3))\n",
    "temp = create_look_ahead_mask(x.shape[1])\n",
    "temp"
   ]
  },
  {
   "cell_type": "markdown",
   "id": "f6d77af00b26a540",
   "metadata": {
    "jp-MarkdownHeadingCollapsed": true
   },
   "source": [
    "### LAB: Positional Encoding"
   ]
  },
  {
   "cell_type": "markdown",
   "id": "7c8efa4467959a7c",
   "metadata": {},
   "source": [
    "1. Positional Encoding\n",
    "\n",
    "In sequence to sequence tasks, the relative order of your data is extremely important to its meaning. When you were training sequential neural networks such as RNNs, you fed your inputs into the network in order. Information about the order of your data was automatically fed into your model.  However, when you train a Transformer network using multi-head attention, you feed your data into the model all at once. While this dramatically reduces training time, there is no information about the order of your data. This is where positional encoding is useful - you can specifically encode the positions of your inputs and pass them into the network using these sine and cosine formulas:\n",
    "    \n",
    "$$\n",
    "PE_{(pos, 2i)}= sin\\left(\\frac{pos}{{10000}^{\\frac{2i}{d}}}\\right)\n",
    "\\tag{1}$$\n",
    "<br>\n",
    "$$\n",
    "PE_{(pos, 2i+1)}= cos\\left(\\frac{pos}{{10000}^{\\frac{2i}{d}}}\\right)\n",
    "\\tag{2}$$\n",
    "\n",
    "* $d$ is the dimension of the word embedding and positional encoding\n",
    "* $pos$ is the position of the word.\n",
    "* $k$ refers to each of the different dimensions in the positional encodings, with $i$ equal to $k$ $//$ $2$.\n",
    "\n",
    "To develop some intuition about positional encodings, you can think of them broadly as a feature that contains the information about the relative positions of words. The sum of the positional encoding and word embedding is ultimately what is fed into the model. If you just hard code the positions in, say by adding a matrix of 1's or whole numbers to the word embedding, the semantic meaning is distorted. Conversely, the values of the sine and cosine equations are small enough (between -1 and 1) that when you add the positional encoding to a word embedding, the word embedding is not significantly distorted, and is instead enriched with positional information. Using a combination of these two equations helps your Transformer network attend to the relative positions of your input data.\n",
    "\n",
    " 1.1 - Sine and Cosine Angles\n",
    "\n",
    "Notice that even though the sine and cosine positional encoding equations take in different arguments (`2i` versus `2i+1`, or even versus odd numbers) the inner terms for both equations are the same: $$\\theta(pos, i, d) = \\frac{pos}{10000^{\\frac{2i}{d}}} \\tag{3}$$\n",
    "\n",
    "Consider the inner term as you calculate the positional encoding for a word in a sequence.<br> \n",
    "$PE_{(pos, 0)}= sin\\left(\\frac{pos}{{10000}^{\\frac{0}{d}}}\\right)$, since solving `2i = 0` gives `i = 0` <br>\n",
    "$PE_{(pos, 1)}= cos\\left(\\frac{pos}{{10000}^{\\frac{0}{d}}}\\right)$, since solving `2i + 1 = 1` gives `i = 0`\n",
    "\n",
    "The angle is the same for both! The angles for $PE_{(pos, 2)}$ and $PE_{(pos, 3)}$ are the same as well, since for both, `i = 1` and therefore the inner term is $\\left(\\frac{pos}{{10000}^{\\frac{2}{d}}}\\right)$. This relationship holds true for all paired sine and cosine curves:\n",
    "\n",
    "|      k         | <code>       0      </code>|<code>       1      </code>|<code>       2      </code>|<code>       3      </code>| <code> ... </code> |<code>      d - 2     </code>|<code>      d - 1     </code>| \n",
    "| ---------------- | :------: | ----------------- | ----------------- | ----------------- | ----- | ----------------- | ----------------- |\n",
    "| encoding(0) = |[$sin(\\theta(0, 0, d))$| $cos(\\theta(0, 0, d))$| $sin(\\theta(0, 1, d))$| $cos(\\theta(0, 1, d))$|... |$sin(\\theta(0, d//2, d))$| $cos(\\theta(0, d//2, d))$]|\n",
    "| encoding(1) = | [$sin(\\theta(1, 0, d))$| $cos(\\theta(1, 0, d))$| $sin(\\theta(1, 1, d))$| $cos(\\theta(1, 1, d))$|... |$sin(\\theta(1, d//2, d))$| $cos(\\theta(1, d//2, d))$]|\n",
    "...\n",
    "| encoding(pos) = | [$sin(\\theta(pos, 0, d))$| $cos(\\theta(pos, 0, d))$| $sin(\\theta(pos, 1, d))$| $cos(\\theta(pos, 1, d))$|... |$sin(\\theta(pos, d//2, d))$| $cos(\\theta(pos, d//2, d))]$|"
   ]
  },
  {
   "cell_type": "code",
   "execution_count": 75,
   "id": "bc5498c0e687faa7",
   "metadata": {
    "ExecuteTime": {
     "end_time": "2024-06-19T10:21:08.431007Z",
     "start_time": "2024-06-19T10:21:08.426469Z"
    }
   },
   "outputs": [],
   "source": [
    "def get_angles(position, k, d_model):\n",
    "    \"\"\"\n",
    "    Computes a positional encoding for a word \n",
    "    \n",
    "    Arguments:\n",
    "        position (int): position of the word\n",
    "        k (int): refers to each of the different dimensions in the positional encodings, with i equal to k//2\n",
    "        d_model(int): the dimension of the word embedding and positional encoding\n",
    "    \n",
    "    Returns:\n",
    "        _ (float): positional embedding value for the word\n",
    "    \"\"\"\n",
    "    i = k // 2\n",
    "    angle_rates = 1 / np.power(10000, (2 * i) / np.float32(d_model))\n",
    "    return position * angle_rates"
   ]
  },
  {
   "cell_type": "code",
   "execution_count": 76,
   "id": "ce5976fa2159a428",
   "metadata": {
    "ExecuteTime": {
     "end_time": "2024-06-19T10:21:08.865473Z",
     "start_time": "2024-06-19T10:21:08.861491Z"
    }
   },
   "outputs": [],
   "source": [
    "def positional_encoding(positions, d):\n",
    "    \"\"\"\n",
    "    Precomputes a matrix with all the positional encodings \n",
    "    \n",
    "    Arguments:\n",
    "        positions (int): Maximum number of positions to be encoded \n",
    "        d (int): Encoding size \n",
    "    \n",
    "    Returns:\n",
    "        pos_encoding (tf.Tensor): A matrix of shape (1, position, d_model) with the positional encodings\n",
    "    \"\"\"\n",
    "    # initialize a matrix angle_rads of all the angles \n",
    "    angle_rads = get_angles(np.arange(positions)[:, np.newaxis],\n",
    "                          np.arange(d)[np.newaxis, :],\n",
    "                          d)\n",
    "  \n",
    "    # apply sin to even indices in the array; 2i\n",
    "    angle_rads[:, 0::2] = np.sin(angle_rads[:, 0::2])\n",
    "  \n",
    "    # apply cos to odd indices in the array; 2i+1\n",
    "    angle_rads[:, 1::2] = np.cos(angle_rads[:, 1::2])\n",
    "    \n",
    "    pos_encoding = angle_rads[np.newaxis, ...]\n",
    "    \n",
    "    return tf.cast(pos_encoding, dtype=tf.float32)"
   ]
  },
  {
   "cell_type": "code",
   "execution_count": 77,
   "id": "a68ea4ef44b63fb7",
   "metadata": {
    "ExecuteTime": {
     "end_time": "2024-06-19T10:21:10.295635Z",
     "start_time": "2024-06-19T10:21:10.104139Z"
    }
   },
   "outputs": [
    {
     "data": {
      "image/png": "[encoded data removed]",
      "text/plain": [
       "<Figure size 640x480 with 2 Axes>"
      ]
     },
     "metadata": {},
     "output_type": "display_data"
    }
   ],
   "source": [
    "pos_encoding = positional_encoding(128, 256)\n",
    "\n",
    "plt.pcolormesh(pos_encoding[0], cmap='RdBu')\n",
    "plt.xlabel('d')\n",
    "plt.xlim((0, 256))\n",
    "plt.ylabel('Position')\n",
    "plt.colorbar()\n",
    "plt.show()"
   ]
  },
  {
   "cell_type": "markdown",
   "id": "eb438e60b3060930",
   "metadata": {},
   "source": [
    "### LAB: Assignment"
   ]
  },
  {
   "cell_type": "code",
   "execution_count": 78,
   "id": "149df714468f1baa",
   "metadata": {
    "ExecuteTime": {
     "end_time": "2024-06-19T10:21:17.598554Z",
     "start_time": "2024-06-19T10:21:13.291968Z"
    }
   },
   "outputs": [],
   "source": [
    "import transfomer_soubory.utils_attention as utils_att\n",
    "\n",
    "tf.keras.utils.set_random_seed(10)"
   ]
  },
  {
   "cell_type": "code",
   "execution_count": 79,
   "id": "174903561e440861",
   "metadata": {
    "ExecuteTime": {
     "end_time": "2024-06-19T10:21:17.893113Z",
     "start_time": "2024-06-19T10:21:17.605173Z"
    }
   },
   "outputs": [
    {
     "name": "stdout",
     "output_type": "stream",
     "text": [
      "Dialogue:\n",
      "Lucas: Hey! How was your day?\r\n",
      "Demi: Hey there! \r\n",
      "Demi: It was pretty fine, actually, thank you!\r\n",
      "Demi: I just got promoted! :D\r\n",
      "Lucas: Whoa! Great news!\r\n",
      "Lucas: Congratulations!\r\n",
      "Lucas: Such a success has to be celebrated.\r\n",
      "Demi: I agree! :D\r\n",
      "Demi: Tonight at Death & Co.?\r\n",
      "Lucas: Sure!\r\n",
      "Lucas: See you there at 10pm?\r\n",
      "Demi: Yeah! See you there! :D\n",
      "\n",
      "Summary:\n",
      "Demi got promoted. She will celebrate that with Lucas at Death & Co at 10 pm.\n"
     ]
    }
   ],
   "source": [
    "data_dir = \"transfomer_soubory/corpus\"\n",
    "\n",
    "train_data, test_data = utils_att.get_train_test_data(data_dir)\n",
    "\n",
    "# Take one example from the dataset and print it\n",
    "example_summary, example_dialogue = train_data.iloc[10]\n",
    "print(f\"Dialogue:\\n{example_dialogue}\")\n",
    "print(f\"\\nSummary:\\n{example_summary}\")"
   ]
  },
  {
   "cell_type": "markdown",
   "id": "5900087300cdd04b",
   "metadata": {},
   "source": [
    "2 - Preprocess the data\n",
    "\n",
    "First you will do some preprocessing of the data and split it into inputs and outputs. Here you also remove some of the characters that are specific to this dataset and add the `[EOS]` (end of sentence) token to the end, like it was discussed in the lecture videos. You will also add a `[SOS]` (start of sentence) token to the beginning of the sentences."
   ]
  },
  {
   "cell_type": "code",
   "execution_count": 80,
   "id": "4a3e8851aac3e4a6",
   "metadata": {
    "ExecuteTime": {
     "end_time": "2024-06-19T10:21:20.776356Z",
     "start_time": "2024-06-19T10:21:20.326292Z"
    }
   },
   "outputs": [],
   "source": [
    "document, summary = utils_att.preprocess(train_data)\n",
    "document_test, summary_test = utils_att.preprocess(test_data)"
   ]
  },
  {
   "cell_type": "code",
   "execution_count": 81,
   "id": "722c2cbabcf0d3bd",
   "metadata": {
    "ExecuteTime": {
     "end_time": "2024-06-19T10:21:23.550421Z",
     "start_time": "2024-06-19T10:21:21.174712Z"
    }
   },
   "outputs": [
    {
     "name": "stdout",
     "output_type": "stream",
     "text": [
      "Size of vocabulary: 34250\n"
     ]
    }
   ],
   "source": [
    "# The [ and ] from default tokens cannot be removed, because they mark the SOS and EOS token.\n",
    "filters = '!\"#$%&()*+,-./:;<=>?@\\\\^_`{|}~\\t\\n'\n",
    "oov_token = '[UNK]'\n",
    "\n",
    "tokenizer = tf.keras.preprocessing.text.Tokenizer(filters=filters, oov_token=oov_token, lower=False)\n",
    "\n",
    "documents_and_summary = pd.concat([document, summary], ignore_index=True)\n",
    "\n",
    "tokenizer.fit_on_texts(documents_and_summary)\n",
    "\n",
    "inputs = tokenizer.texts_to_sequences(document)\n",
    "targets = tokenizer.texts_to_sequences(summary)\n",
    "\n",
    "vocab_size = len(tokenizer.word_index) + 1\n",
    "\n",
    "print(f'Size of vocabulary: {vocab_size}')"
   ]
  },
  {
   "cell_type": "code",
   "execution_count": 82,
   "id": "bb48747227515054",
   "metadata": {
    "ExecuteTime": {
     "end_time": "2024-06-19T10:21:26.560629Z",
     "start_time": "2024-06-19T10:21:26.254851Z"
    }
   },
   "outputs": [],
   "source": [
    "# Limit the size of the input and output data for being able to run it in this environment.\n",
    "encoder_maxlen = 150\n",
    "decoder_maxlen = 50\n",
    "\n",
    "# Pad the sequences.\n",
    "inputs = tf.keras.preprocessing.sequence.pad_sequences(inputs, maxlen=encoder_maxlen, padding='post', truncating='post')\n",
    "targets = tf.keras.preprocessing.sequence.pad_sequences(targets, maxlen=decoder_maxlen, padding='post', truncating='post')\n",
    "\n",
    "inputs = tf.cast(inputs, dtype=tf.int32)\n",
    "targets = tf.cast(targets, dtype=tf.int32)\n",
    "\n",
    "# Create the final training dataset.\n",
    "BUFFER_SIZE = 10000\n",
    "BATCH_SIZE = 64\n",
    "\n",
    "dataset = tf.data.Dataset.from_tensor_slices((inputs, targets)).shuffle(BUFFER_SIZE).batch(BATCH_SIZE)"
   ]
  },
  {
   "cell_type": "code",
   "execution_count": 83,
   "id": "53c2a57376349047",
   "metadata": {
    "ExecuteTime": {
     "end_time": "2024-06-19T10:21:26.569180Z",
     "start_time": "2024-06-19T10:21:26.564612Z"
    }
   },
   "outputs": [],
   "source": [
    "def positional_encoding(positions, d_model):\n",
    "    \"\"\"\n",
    "    Precomputes a matrix with all the positional encodings \n",
    "    \n",
    "    Arguments:\n",
    "        positions (int): Maximum number of positions to be encoded \n",
    "        d_model (int): Encoding size \n",
    "    \n",
    "    Returns:\n",
    "        pos_encoding (tf.Tensor): A matrix of shape (1, position, d_model) with the positional encodings\n",
    "    \"\"\"\n",
    "    \n",
    "    position = np.arange(positions)[:, np.newaxis]\n",
    "    k = np.arange(d_model)[np.newaxis, :]\n",
    "    i = k // 2\n",
    "    \n",
    "    # initialize a matrix angle_rads of all the angles \n",
    "    angle_rates = 1 / np.power(10000, (2 * i) / np.float32(d_model))\n",
    "    angle_rads = position * angle_rates\n",
    "  \n",
    "    # apply sin to even indices in the array; 2i\n",
    "    angle_rads[:, 0::2] = np.sin(angle_rads[:, 0::2])\n",
    "  \n",
    "    # apply cos to odd indices in the array; 2i+1\n",
    "    angle_rads[:, 1::2] = np.cos(angle_rads[:, 1::2])\n",
    "    \n",
    "    pos_encoding = angle_rads[np.newaxis, ...]\n",
    "    \n",
    "    return tf.cast(pos_encoding, dtype=tf.float32)"
   ]
  },
  {
   "cell_type": "code",
   "execution_count": 84,
   "id": "62b54002b66d270",
   "metadata": {
    "ExecuteTime": {
     "end_time": "2024-06-19T10:21:28.716171Z",
     "start_time": "2024-06-19T10:21:28.712475Z"
    }
   },
   "outputs": [],
   "source": [
    "def create_padding_mask(decoder_token_ids):\n",
    "    \"\"\"\n",
    "    Creates a matrix mask for the padding cells\n",
    "    \n",
    "    Arguments:\n",
    "        decoder_token_ids (matrix like): matrix of size (n, m)\n",
    "    \n",
    "    Returns:\n",
    "        mask (tf.Tensor): binary tensor of size (n, 1, m)\n",
    "    \"\"\"    \n",
    "    seq = 1 - tf.cast(tf.math.equal(decoder_token_ids, 0), tf.float32)\n",
    "  \n",
    "    # add extra dimensions to add the padding to the attention logits. \n",
    "    # this will allow for broadcasting later when comparing sequences\n",
    "    return seq[:, tf.newaxis, :] \n",
    "\n",
    "\n",
    "def create_look_ahead_mask(sequence_length):\n",
    "    \"\"\"\n",
    "    Returns a lower triangular matrix filled with ones\n",
    "    \n",
    "    Arguments:\n",
    "        sequence_length (int): matrix size\n",
    "    \n",
    "    Returns:\n",
    "        mask (tf.Tensor): binary tensor of size (sequence_length, sequence_length)\n",
    "    \"\"\"\n",
    "    mask = tf.linalg.band_part(tf.ones((1, sequence_length, sequence_length)), -1, 0)\n",
    "    return mask "
   ]
  },
  {
   "cell_type": "markdown",
   "id": "d13aebae8cbc0310",
   "metadata": {},
   "source": [
    "5 - Self-Attention\n",
    "\n",
    "As the authors of the Transformers paper state, \"Attention is All You Need\". \n",
    "\n",
    "<img src=\"transfomer_soubory/assign_self-attention.png\" alt=\"Encoder\" width=\"600\"/>\n",
    "<caption><center><font color='purple'><b>Figure 1: Self-Attention calculation visualization</font></center></caption>\n",
    "    \n",
    "The use of self-attention paired with traditional convolutional networks allows for parallelization which speeds up training. You will implement **scaled dot product attention** which takes in a query, key, value, and a mask as inputs to return rich, attention-based vector representations of the words in your sequence. This type of self-attention can be mathematically expressed as:\n",
    "$$\n",
    "\\text { Attention }(Q, K, V)=\\operatorname{softmax}\\left(\\frac{Q K^{T}}{\\sqrt{d_{k}}}+{M}\\right) V\\tag{4}\\\n",
    "$$\n",
    "\n",
    "* $Q$ is the matrix of queries \n",
    "* $K$ is the matrix of keys\n",
    "* $V$ is the matrix of values\n",
    "* $M$ is the optional mask you choose to apply \n",
    "* ${d_k}$ is the dimension of the keys, which is used to scale everything down so the softmax doesn't explode\n",
    "\n",
    "<a name='ex-1'></a>\n",
    "Exercise 1 - scaled_dot_product_attention \n",
    "\n",
    "Implement the function `scaled_dot_product_attention()` to create attention-based representations.\n",
    "\n",
    "**Reminder**: The boolean mask parameter can be passed in as `none` or as either padding or look-ahead. \n",
    "    \n",
    "* Multiply (1. - mask) by -1e9 before adding it to the scaled attention logits. \n",
    "\n",
    "**Additional Hints**\n",
    "* You may find [tf.matmul](https://www.tensorflow.org/api_docs/python/tf/linalg/matmul) useful for matrix multiplication (check how you can use the parameter transpose_b).\n",
    "* You can use [tf.keras.activations.softmax](https://www.tensorflow.org/api_docs/python/tf/keras/activations/softmax) for softmax."
   ]
  },
  {
   "cell_type": "code",
   "execution_count": 85,
   "id": "19e52d3222a6a6dc",
   "metadata": {
    "ExecuteTime": {
     "end_time": "2024-06-19T10:21:31.592646Z",
     "start_time": "2024-06-19T10:21:31.587243Z"
    }
   },
   "outputs": [],
   "source": [
    "def scaled_dot_product_attention(q, k, v, mask):\n",
    "    \"\"\"\n",
    "    Calculate the attention weights.\n",
    "      q, k, v must have matching leading dimensions.\n",
    "      k, v must have matching penultimate dimension, i.e.: seq_len_k = seq_len_v.\n",
    "      The mask has different shapes depending on its type(padding or look ahead) \n",
    "      but it must be broadcastable for addition.\n",
    "\n",
    "    Arguments:\n",
    "        q (tf.Tensor): query of shape (..., seq_len_q, depth)\n",
    "        k (tf.Tensor): key of shape (..., seq_len_k, depth)\n",
    "        v (tf.Tensor): value of shape (..., seq_len_v, depth_v)\n",
    "        mask (tf.Tensor): mask with shape broadcastable \n",
    "              to (..., seq_len_q, seq_len_k). Defaults to None.\n",
    "\n",
    "    Returns:\n",
    "        output -- attention_weights\n",
    "    \"\"\"\n",
    "\n",
    "    # Multiply q and k transposed.\n",
    "    matmul_qk = tf.matmul(q, k, transpose_b = True)\n",
    "\n",
    "    # scale matmul_qk with the square root of dk\n",
    "    dk = tf.cast(np.sqrt(k.shape[1]), tf.float32)\n",
    "    scaled_attention_logits = matmul_qk / dk\n",
    "\n",
    "    # add the mask to the scaled tensor.\n",
    "    if mask is not None:  # Don't replace this None\n",
    "        scaled_attention_logits += (1. - mask) * (-1e9)\n",
    "\n",
    "    # softmax is normalized on the last axis (seq_len_k) so that the scores add up to 1.\n",
    "    attention_weights = tf.keras.activations.softmax(scaled_attention_logits)\n",
    "\n",
    "    # Multiply the attention weights by v\n",
    "    output = tf.matmul(attention_weights, v)\n",
    "\n",
    "    return output, attention_weights"
   ]
  },
  {
   "cell_type": "code",
   "execution_count": 86,
   "id": "ecda3f7543b8af9b",
   "metadata": {
    "ExecuteTime": {
     "end_time": "2024-06-19T10:21:33.857130Z",
     "start_time": "2024-06-19T10:21:33.706764Z"
    }
   },
   "outputs": [
    {
     "name": "stdout",
     "output_type": "stream",
     "text": [
      "Output:\n",
      " [[[1.   0.62]\n",
      "  [0.62 0.62]\n",
      "  [0.74 0.31]]]\n",
      "\n",
      "Attention weigths:\n",
      " [[[0.   0.38 0.   0.23 0.38]\n",
      "  [0.38 0.   0.   0.23 0.38]\n",
      "  [0.26 0.43 0.   0.16 0.16]]]\n"
     ]
    }
   ],
   "source": [
    "# Test your function!\n",
    "q = np.array([[1, 1, 0, 1], [0, 1, 1, 1], [1, 0, 1, 1]]).astype(np.float32)\n",
    "k = np.array([[1, 1, 0, 1], [1, 0, 1, 1 ], [1, 1, 1, 0], [0, 0, 0, 1], [0, 1, 0, 1]]).astype(np.float32)\n",
    "v = np.array([[0, 0], [1, 0], [1, 0], [1, 1], [1, 1]]).astype(np.float32)\n",
    "mask = np.array([[[0, 1, 0, 1, 1], [1, 0, 0, 1, 1], [1, 1, 0, 1, 1]]])\n",
    "\n",
    "ou, atw = scaled_dot_product_attention(q, k, v, mask)\n",
    "ou = np.around(ou, decimals=2)\n",
    "atw = np.around(atw, decimals=2)\n",
    "\n",
    "print(f\"Output:\\n {ou}\")\n",
    "print(f\"\\nAttention weigths:\\n {atw}\")"
   ]
  },
  {
   "cell_type": "markdown",
   "id": "9721d0253db2ee32",
   "metadata": {},
   "source": [
    "6 - Encoder\n",
    "\n",
    "The Transformer Encoder layer pairs self-attention and convolutional neural network style of processing to improve the speed of training and passes K and V matrices to the Decoder, which you'll build later in the assignment. In this section of the assignment, you will implement the Encoder by pairing multi-head attention and a feed forward neural network (Figure 2a). \n",
    "<img src=\"transfomer_soubory/assign_encoder_layer.png\" alt=\"Encoder\" width=\"400\"/>\n",
    "<caption><center><font color='purple'><b>Figure 2a: Transformer encoder layer</font></center></caption>\n",
    "\n",
    "* `MultiHeadAttention` you can think of as computing the self-attention several times to detect different features. \n",
    "* Feed forward neural network contains two Dense layers which we'll implement as the function `FullyConnected`\n",
    "\n",
    "Your input sentence first passes through a *multi-head attention layer*, where the encoder looks at other words in the input sentence as it encodes a specific word. The outputs of the multi-head attention layer are then fed to a *feed forward neural network*. The exact same feed forward network is independently applied to each position.\n",
    "   \n",
    "* For the `MultiHeadAttention` layer, you will use the [MultiHeadAttention](https://www.tensorflow.org/api_docs/python/tf/keras/layers/MultiHeadAttention) implemented in Keras. If you're curious about how to split the query matrix Q, key matrix K, and value matrix V into different heads, you can look through the implementation. \n",
    "* You will also use the [Sequential API](https://www.tensorflow.org/api_docs/python/tf/keras/Sequential) with two dense layers to built the feed forward neural network layers."
   ]
  },
  {
   "cell_type": "code",
   "execution_count": 87,
   "id": "a212ccfbf24ef314",
   "metadata": {
    "ExecuteTime": {
     "end_time": "2024-06-19T10:21:37.561436Z",
     "start_time": "2024-06-19T10:21:37.554369Z"
    }
   },
   "outputs": [],
   "source": [
    "def FullyConnected(embedding_dim, fully_connected_dim):\n",
    "    \"\"\"\n",
    "    Returns a sequential model consisting of two dense layers. The first dense layer has\n",
    "    fully_connected_dim neurons and is activated by relu. The second dense layer has\n",
    "    embedding_dim and no activation.\n",
    "\n",
    "    Arguments:\n",
    "        embedding_dim (int): output dimension\n",
    "        fully_connected_dim (int): dimension of the hidden layer\n",
    "\n",
    "    Returns:\n",
    "        _ (tf.keras.Model): sequential model\n",
    "    \"\"\"\n",
    "    return tf.keras.Sequential([\n",
    "        tf.keras.layers.Dense(fully_connected_dim, activation='relu'),  # (batch_size, seq_len, d_model)\n",
    "        tf.keras.layers.Dense(embedding_dim)  # (batch_size, seq_len, d_model)\n",
    "    ])"
   ]
  },
  {
   "cell_type": "markdown",
   "id": "e600c6c77c4c6d84",
   "metadata": {},
   "source": [
    "6.1 Encoder Layer\n",
    "\n",
    "Now you can pair multi-head attention and feed forward neural network together in an encoder layer! You will also use residual connections and layer normalization to help speed up training (Figure 2a).\n",
    "\n",
    "The encoder block (Figure 2) is is already implemented for you. Take a very close look at its implementation, as you will later have to create the decoder yourself, and a lot of the code is very similar. The encoder block performs the following steps: \n",
    "1. It takes the Q, V, K matrices and a boolean mask to a multi-head attention layer. Remember that to compute *self*-attention Q, V and K are the same. You will also perform Dropout in this multi-head attention layer during training. \n",
    "2. There is a skip connection to add your original input `x` and the output of the multi-head attention layer. \n",
    "3. After adding the skip connection, the output passes through the first normalization layer.\n",
    "4. Finally, steps 1-3 are repeated but with the feed forward neural network with a dropout layer instead of the multi-head attention layer. \n",
    "\n",
    "<details>\n",
    "  <summary><font size=\"2\" color=\"darkgreen\"><b>Additional Information (Click to expand)</b></font></summary>\n",
    "    \n",
    "* The `__init__` method creates all the layers that will be accesed by the the `call` method. Wherever you want to use a layer defined inside  the `__init__`  method you will have to use the syntax `self.[insert layer name]`. \n",
    "* You will find the documentation of [MultiHeadAttention](https://www.tensorflow.org/api_docs/python/tf/keras/layers/MultiHeadAttention) helpful. *Note that if query, key and value are the same, then this function performs self-attention.*\n",
    "* The call arguments for `self.mha` are (Where B is for batch_size, T is for target sequence shapes, and S is output_shape):\n",
    " - `query`: Query Tensor of shape (B, T, dim).\n",
    " - `value`: Value Tensor of shape (B, S, dim).\n",
    " - `key`: Optional key Tensor of shape (B, S, dim). If not given, will use the same value for both key and value, which is the most common case.\n",
    " - `attention_mask`: a boolean mask of shape (B, T, S), that prevents attention to certain positions. The boolean mask specifies which query elements can attend to which key elements, 1 indicates attention and 0 indicates no attention. Broadcasting can happen for the missing batch dimensions and the head dimension.\n",
    " - `return_attention_scores`: A boolean to indicate whether the output should be attention output if True, or (attention_output, attention_scores) if False. Defaults to False.\n",
    " - `training`: Python boolean indicating whether the layer should behave in training mode (adding dropout) or in inference mode (no dropout). Defaults to either using the training mode of the parent layer/model, or False (inference) if there is no parent layer. Take a look at [tf.keras.layers.Dropout](https://www.tensorflow.org/versions/r2.4/api_docs/python/tf/keras/layers/Dropout) for more details (Additional reading in [Keras FAQ](https://keras.io/getting_started/faq/#whats-the-difference-between-the-training-argument-in-call-and-the-trainable-attribute))"
   ]
  },
  {
   "cell_type": "code",
   "execution_count": 88,
   "id": "9ef579e65b5e4e08",
   "metadata": {
    "ExecuteTime": {
     "end_time": "2024-06-19T10:21:44.365196Z",
     "start_time": "2024-06-19T10:21:44.343214Z"
    }
   },
   "outputs": [],
   "source": [
    "class EncoderLayer(tf.keras.layers.Layer):\n",
    "    \"\"\"\n",
    "    The encoder layer is composed by a multi-head self-attention mechanism,\n",
    "    followed by a simple, positionwise fully connected feed-forward network. \n",
    "    This architecture includes a residual connection around each of the two \n",
    "    sub-layers, followed by layer normalization.\n",
    "    \"\"\"\n",
    "    def __init__(self, embedding_dim, num_heads, fully_connected_dim,\n",
    "                 dropout_rate=0.1, layernorm_eps=1e-6):\n",
    "        \n",
    "        super(EncoderLayer, self).__init__()\n",
    "\n",
    "        self.mha = tf.keras.layers.MultiHeadAttention(\n",
    "            num_heads=num_heads,\n",
    "            key_dim=embedding_dim,\n",
    "            dropout=dropout_rate\n",
    "        )\n",
    "\n",
    "        self.ffn = FullyConnected(\n",
    "            embedding_dim=embedding_dim,\n",
    "            fully_connected_dim=fully_connected_dim\n",
    "        )\n",
    "\n",
    "        self.layernorm1 = tf.keras.layers.LayerNormalization(epsilon=layernorm_eps)\n",
    "        self.layernorm2 = tf.keras.layers.LayerNormalization(epsilon=layernorm_eps)\n",
    "\n",
    "        self.dropout_ffn = tf.keras.layers.Dropout(dropout_rate)\n",
    "    \n",
    "    def call(self, x, training, mask):\n",
    "        \"\"\"\n",
    "        Forward pass for the Encoder Layer\n",
    "        \n",
    "        Arguments:\n",
    "            x (tf.Tensor): Tensor of shape (batch_size, input_seq_len, fully_connected_dim)\n",
    "            training (bool): Boolean, set to true to activate\n",
    "                        the training mode for dropout layers\n",
    "            mask (tf.Tensor): Boolean mask to ensure that the padding is not \n",
    "                    treated as part of the input\n",
    "        Returns:\n",
    "            encoder_layer_out (tf.Tensor): Tensor of shape (batch_size, input_seq_len, embedding_dim)\n",
    "        \"\"\"\n",
    "        # calculate self-attention using mha(~1 line).\n",
    "        # Dropout is added by Keras automatically if the dropout parameter is non-zero during training\n",
    "        self_mha_output = self.mha(x, x, x, mask)  # Self attention (batch_size, input_seq_len, fully_connected_dim)\n",
    "        \n",
    "        # skip connection\n",
    "        # apply layer normalization on sum of the input and the attention output to get the  \n",
    "        # output of the multi-head attention layer\n",
    "        skip_x_attention = self.layernorm1(x + self_mha_output)  # (batch_size, input_seq_len, fully_connected_dim)\n",
    "\n",
    "        # pass the output of the multi-head attention layer through a ffn\n",
    "        ffn_output = self.ffn(skip_x_attention)  # (batch_size, input_seq_len, fully_connected_dim)\n",
    "        \n",
    "        # apply dropout layer to ffn output during training\n",
    "        # use `training=training`\n",
    "        ffn_output = self.dropout_ffn(ffn_output, training=training)\n",
    "        \n",
    "        # apply layer normalization on sum of the output from multi-head attention (skip connection) and ffn output\n",
    "        # to get the output of the encoder layer\n",
    "        encoder_layer_out = self.layernorm2(skip_x_attention + ffn_output)  # (batch_size, input_seq_len, embedding_dim)\n",
    "        \n",
    "        return encoder_layer_out\n",
    "    "
   ]
  },
  {
   "cell_type": "markdown",
   "id": "f7568f994761dea2",
   "metadata": {},
   "source": [
    "6.2 - Full Encoder\n",
    "\n",
    "Now you're ready to build the full Transformer Encoder (Figure 2b), where you will embed your input and add the positional encodings you calculated. You will then feed your encoded embeddings to a stack of Encoder layers. \n",
    "\n",
    "<img src=\"transfomer_soubory/assign_encoder.png\" alt=\"Encoder\" width=\"330\"/>\n",
    "<caption><center><font color='purple'><b>Figure 2b: Transformer Encoder</font></center></caption>\n",
    "\n",
    "The Encoder class is implemented for you. It performs the following steps: \n",
    "1. Pass the input through the Embedding layer.\n",
    "2. Scale the embedding by multiplying it by the square root of the embedding dimension. \n",
    "3. Add the position encoding: self.pos_encoding `[:, :seq_len, :]` to the embedding.\n",
    "4. Pass the encoded embedding through a dropout layer\n",
    "5. Pass the output of the dropout layer through the stack of encoding layers using a for loop."
   ]
  },
  {
   "cell_type": "code",
   "execution_count": 126,
   "id": "feea13b2602113e2",
   "metadata": {
    "ExecuteTime": {
     "end_time": "2024-06-19T11:41:13.370573Z",
     "start_time": "2024-06-19T11:41:13.361374Z"
    }
   },
   "outputs": [],
   "source": [
    "class Encoder(tf.keras.layers.Layer):\n",
    "    \"\"\"\n",
    "    The entire Encoder starts by passing the input to an embedding layer \n",
    "    and using positional encoding to then pass the output through a stack of\n",
    "    encoder Layers\n",
    "        \n",
    "    \"\"\"  \n",
    "    def __init__(self, num_layers, embedding_dim, num_heads, fully_connected_dim, input_vocab_size,\n",
    "               maximum_position_encoding, dropout_rate=0.1, layernorm_eps=1e-6):\n",
    "        super(Encoder, self).__init__()\n",
    "\n",
    "        self.embedding_dim = embedding_dim\n",
    "        self.num_layers = num_layers\n",
    "\n",
    "        self.embedding = tf.keras.layers.Embedding(input_vocab_size, self.embedding_dim)\n",
    "        self.pos_encoding = positional_encoding(maximum_position_encoding, \n",
    "                                                self.embedding_dim)\n",
    "\n",
    "\n",
    "        self.enc_layers = [EncoderLayer(embedding_dim=self.embedding_dim,\n",
    "                                        num_heads=num_heads,\n",
    "                                        fully_connected_dim=fully_connected_dim,\n",
    "                                        dropout_rate=dropout_rate,\n",
    "                                        layernorm_eps=layernorm_eps) \n",
    "                           for _ in range(self.num_layers)]\n",
    "\n",
    "        self.dropout = tf.keras.layers.Dropout(dropout_rate)\n",
    "        \n",
    "    def call(self, x, training, mask):\n",
    "        \"\"\"\n",
    "        Forward pass for the Encoder\n",
    "        \n",
    "        Arguments:\n",
    "            x (tf.Tensor): Tensor of shape (batch_size, seq_len, embedding_dim)\n",
    "            training (bool): Boolean, set to true to activate\n",
    "                        the training mode for dropout layers\n",
    "            mask (tf.Tensor): Boolean mask to ensure that the padding is not \n",
    "                    treated as part of the input\n",
    "\n",
    "        Returns:\n",
    "            x (tf.Tensor): Tensor of shape (batch_size, seq_len, embedding_dim)\n",
    "        \"\"\"\n",
    "        seq_len = tf.shape(x)[1]\n",
    "        \n",
    "        # Pass input through the Embedding layer\n",
    "        x = self.embedding(x)  # (batch_size, input_seq_len, embedding_dim)\n",
    "        # Scale embedding by multiplying it by the square root of the embedding dimension\n",
    "        x *= tf.math.sqrt(tf.cast(self.embedding_dim, tf.float32))\n",
    "        # Add the position encoding to embedding\n",
    "        x += self.pos_encoding[:, :seq_len, :]\n",
    "        # Pass the encoded embedding through a dropout layer\n",
    "        # use `training=training`\n",
    "        x = self.dropout(x, training=training)\n",
    "        # Pass the output through the stack of encoding layers \n",
    "        for i in range(self.num_layers):\n",
    "            x = self.enc_layers[i](x, training=training, mask=mask)\n",
    "\n",
    "        return x  # (batch_size, input_seq_len, embedding_dim)"
   ]
  },
  {
   "cell_type": "markdown",
   "id": "48c9585086e0e26b",
   "metadata": {},
   "source": [
    "<a name='7'></a>\n",
    "7 - Decoder\n",
    "\n",
    "Now it is time to implement the decoder. You have seen it in the videos and you can use some help by looking at the encoder implementation above. The Decoder layer takes the K and V matrices generated by the Encoder and computes the second multi-head attention layer with the Q matrix from the output (Figure 3a).\n",
    "\n",
    "<img src=\"transfomer_soubory/assing_decoder_layer.png\" alt=\"Decoder\" width=\"250\"/>\n",
    "<caption><center><font color='purple'><b>Figure 3a: Transformer Decoder layer</font></center></caption>\n",
    "\n",
    "<a name='7-1'></a>    \n",
    "7.1 - Decoder Layer\n",
    "Again, you'll pair multi-head attention with a feed forward neural network, but this time you'll implement two multi-head attention layers. You will also use residual connections and layer normalization to help speed up training (Figure 3a).\n",
    "\n",
    "<a name='ex-2'></a>    \n",
    "Exercise 2 - DecoderLayer\n",
    "    \n",
    "Implement `DecoderLayer()` using the `call()` method\n",
    "    \n",
    "1. Block 1 is a multi-head attention layer with a residual connection, and look-ahead mask. Like in the `EncoderLayer`, Dropout is defined within the multi-head attention layer.\n",
    "2. Block 2 will take into account the output of the Encoder, so the multi-head attention layer will receive K and V from the encoder, and Q from the Block 1. You will then apply a normalization layer and a residual connection, just like you did before with the `EncoderLayer`.\n",
    "3. Finally, Block 3 is a feed forward neural network with dropout and normalization layers and a residual connection.\n",
    "    \n",
    "**Additional Hints:**\n",
    "* The first two blocks are fairly similar to the EncoderLayer except you will return `attention_scores` when computing self-attention"
   ]
  },
  {
   "cell_type": "code",
   "execution_count": 2,
   "id": "a79006179f49d5e3",
   "metadata": {
    "ExecuteTime": {
     "end_time": "2024-06-19T11:41:18.326109Z",
     "start_time": "2024-06-19T11:41:18.306126Z"
    }
   },
   "outputs": [
    {
     "ename": "NameError",
     "evalue": "name 'tf' is not defined",
     "output_type": "error",
     "traceback": [
      "\u001B[0;31m---------------------------------------------------------------------------\u001B[0m",
      "\u001B[0;31mNameError\u001B[0m                                 Traceback (most recent call last)",
      "Cell \u001B[0;32mIn[2], line 1\u001B[0m\n\u001B[0;32m----> 1\u001B[0m \u001B[38;5;28;01mclass\u001B[39;00m \u001B[38;5;21;01mDecoderLayer\u001B[39;00m(\u001B[43mtf\u001B[49m\u001B[38;5;241m.\u001B[39mkeras\u001B[38;5;241m.\u001B[39mlayers\u001B[38;5;241m.\u001B[39mLayer):\n\u001B[1;32m      2\u001B[0m \u001B[38;5;250m    \u001B[39m\u001B[38;5;124;03m\"\"\"\u001B[39;00m\n\u001B[1;32m      3\u001B[0m \u001B[38;5;124;03m    The decoder layer is composed by two multi-head attention blocks,\u001B[39;00m\n\u001B[1;32m      4\u001B[0m \u001B[38;5;124;03m    one that takes the new input and uses self-attention, and the other\u001B[39;00m\n\u001B[1;32m      5\u001B[0m \u001B[38;5;124;03m    one that combines it with the output of the encoder, followed by a\u001B[39;00m\n\u001B[1;32m      6\u001B[0m \u001B[38;5;124;03m    fully connected block.\u001B[39;00m\n\u001B[1;32m      7\u001B[0m \u001B[38;5;124;03m    \"\"\"\u001B[39;00m\n\u001B[1;32m      9\u001B[0m     \u001B[38;5;28;01mdef\u001B[39;00m \u001B[38;5;21m__init__\u001B[39m(\u001B[38;5;28mself\u001B[39m, embedding_dim, num_heads, fully_connected_dim, dropout_rate\u001B[38;5;241m=\u001B[39m\u001B[38;5;241m0.1\u001B[39m, layernorm_eps\u001B[38;5;241m=\u001B[39m\u001B[38;5;241m1e-6\u001B[39m):\n",
      "\u001B[0;31mNameError\u001B[0m: name 'tf' is not defined"
     ]
    }
   ],
   "source": [
    "class DecoderLayer(tf.keras.layers.Layer):\n",
    "    \"\"\"\n",
    "    The decoder layer is composed by two multi-head attention blocks,\n",
    "    one that takes the new input and uses self-attention, and the other\n",
    "    one that combines it with the output of the encoder, followed by a\n",
    "    fully connected block.\n",
    "    \"\"\"\n",
    "\n",
    "    def __init__(self, embedding_dim, num_heads, fully_connected_dim, dropout_rate=0.1, layernorm_eps=1e-6):\n",
    "        super(DecoderLayer, self).__init__()\n",
    "\n",
    "        self.mha1 = tf.keras.layers.MultiHeadAttention(\n",
    "            num_heads=num_heads,\n",
    "            key_dim=embedding_dim,\n",
    "            dropout=dropout_rate\n",
    "        )\n",
    "\n",
    "        self.mha2 = tf.keras.layers.MultiHeadAttention(\n",
    "            num_heads=num_heads,\n",
    "            key_dim=embedding_dim,\n",
    "            dropout=dropout_rate\n",
    "        )\n",
    "\n",
    "        self.ffn = FullyConnected(\n",
    "            embedding_dim=embedding_dim,\n",
    "            fully_connected_dim=fully_connected_dim\n",
    "        )\n",
    "\n",
    "        self.layernorm1 = tf.keras.layers.LayerNormalization(epsilon=layernorm_eps)\n",
    "        self.layernorm2 = tf.keras.layers.LayerNormalization(epsilon=layernorm_eps)\n",
    "        self.layernorm3 = tf.keras.layers.LayerNormalization(epsilon=layernorm_eps)\n",
    "\n",
    "        self.dropout_ffn = tf.keras.layers.Dropout(dropout_rate)\n",
    "\n",
    "    def call(self, x, enc_output, training, look_ahead_mask, padding_mask):\n",
    "        \"\"\"\n",
    "        Forward pass for the Decoder Layer\n",
    "\n",
    "        Arguments:\n",
    "            x (tf.Tensor): Tensor of shape (batch_size, target_seq_len, fully_connected_dim)\n",
    "            enc_output (tf.Tensor): Tensor of shape(batch_size, input_seq_len, fully_connected_dim)\n",
    "            training (bool): Boolean, set to true to activate\n",
    "                        the training mode for dropout layers\n",
    "            look_ahead_mask (tf.Tensor): Boolean mask for the target_input\n",
    "            padding_mask (tf.Tensor): Boolean mask for the second multihead attention layer\n",
    "        Returns:\n",
    "            out3 (tf.Tensor): Tensor of shape (batch_size, target_seq_len, fully_connected_dim)\n",
    "            attn_weights_block1 (tf.Tensor): Tensor of shape (batch_size, num_heads, target_seq_len, target_seq_len)\n",
    "            attn_weights_block2 (tf.Tensor): Tensor of shape (batch_size, num_heads, target_seq_len, input_seq_len)\n",
    "        \"\"\"\n",
    "\n",
    "        # enc_output.shape == (batch_size, input_seq_len, fully_connected_dim)\n",
    "\n",
    "        # BLOCK 1\n",
    "        # calculate self-attention and return attention scores as attn_weights_block1.\n",
    "        # Dropout will be applied during training (~1 line).\n",
    "        mult_attn_out1, attn_weights_block1 = self.mha1(x, x, x, attention_mask=look_ahead_mask, return_attention_scores=True)\n",
    "\n",
    "        # apply layer normalization (layernorm1) to the sum of the attention output and the input (~1 line)\n",
    "        Q1 = self.layernorm1(x + mult_attn_out1)\n",
    "\n",
    "        # BLOCK 2\n",
    "        # calculate self-attention using the Q from the first block and K and V from the encoder output.\n",
    "        # Dropout will be applied during training\n",
    "        # Return attention scores as attn_weights_block2 (~1 line)\n",
    "        mult_attn_out2, attn_weights_block2 = self.mha2(Q1, enc_output, enc_output, attention_mask=padding_mask,\n",
    "                                                        return_attention_scores=True)\n",
    "\n",
    "        # apply layer normalization (layernorm2) to the sum of the attention output and the output of the first block (~1 line)\n",
    "        mult_attn_out2 = self.layernorm2(Q1 + mult_attn_out2)\n",
    "\n",
    "        # BLOCK 3\n",
    "        # pass the output of the second block through a ffn\n",
    "        ffn_output = self.ffn(mult_attn_out2)\n",
    "\n",
    "        # apply a dropout layer to the ffn output\n",
    "        # use `training=training`\n",
    "        ffn_output = self.dropout_ffn(ffn_output, training=training)\n",
    "\n",
    "        # apply layer normalization (layernorm3) to the sum of the ffn output and the output of the second block\n",
    "        out3 = self.layernorm3(ffn_output + mult_attn_out2)\n",
    "\n",
    "        return out3, attn_weights_block1, attn_weights_block2"
   ]
  },
  {
   "cell_type": "code",
   "execution_count": null,
   "id": "38372cadd9ec3a4f",
   "metadata": {
    "ExecuteTime": {
     "end_time": "2024-06-19T11:41:19.372035Z",
     "start_time": "2024-06-19T11:41:19.169153Z"
    }
   },
   "outputs": [
    {
     "name": "stdout",
     "output_type": "stream",
     "text": [
      "Using embedding_dim=12 and num_heads=16:\n",
      "\n",
      "q has shape:(1, 15, 12)\n",
      "Output of encoder has shape:(1, 7, 8)\n",
      "\n",
      "Output of decoder layer has shape:(1, 15, 12)\n",
      "Att Weights Block 1 has shape:(1, 16, 15, 15)\n",
      "Att Weights Block 2 has shape:(1, 16, 15, 7)\n"
     ]
    }
   ],
   "source": [
    "# Test your function!\n",
    "key_dim = 12\n",
    "n_heads = 16\n",
    "\n",
    "decoderLayer_test = DecoderLayer(embedding_dim=key_dim, num_heads=n_heads, fully_connected_dim=32)\n",
    "\n",
    "q = np.ones((1, 15, key_dim))\n",
    "encoder_test_output = tf.convert_to_tensor(np.random.rand(1, 7, 8))\n",
    "look_ahead_mask = create_look_ahead_mask(q.shape[1])\n",
    "out, attn_w_b1, attn_w_b2 = decoderLayer_test(\n",
    "                                              x=q, \n",
    "                                              enc_output=encoder_test_output, training=False,\n",
    "                                              look_ahead_mask=look_ahead_mask, padding_mask=None)\n",
    "\n",
    "print(f\"Using embedding_dim={key_dim} and num_heads={n_heads}:\\n\")\n",
    "print(f\"q has shape:{q.shape}\")\n",
    "print(f\"Output of encoder has shape:{encoder_test_output.shape}\\n\")\n",
    "\n",
    "print(f\"Output of decoder layer has shape:{out.shape}\")\n",
    "print(f\"Att Weights Block 1 has shape:{attn_w_b1.shape}\")\n",
    "print(f\"Att Weights Block 2 has shape:{attn_w_b2.shape}\")"
   ]
  },
  {
   "cell_type": "markdown",
   "id": "7e86829319c8e5e6",
   "metadata": {},
   "source": [
    "7.2 - Full Decoder\n",
    "You're almost there! Time to use your Decoder layer to build a full Transformer Decoder (Figure 3b). You will embed your output and add positional encodings. You will then feed your encoded embeddings to a stack of Decoder layers. \n",
    "\n",
    "\n",
    "<img src=\"transfomer_soubory/assign_decoder.png\" alt=\"Decoder\" width=\"300\"/>\n",
    "<caption><center><font color='purple'><b>Figure 3b: Transformer Decoder</font></center></caption>\n",
    "\n",
    "<a name='ex-3'></a>     \n",
    "Exercise 3 - Decoder\n",
    "\n",
    "Implement `Decoder()` using the `call()` method to embed your output, add positional encoding, and implement multiple decoder layers.\n",
    " \n",
    "In this exercise, you will initialize your Decoder with an Embedding layer, positional encoding, and multiple DecoderLayers. Your `call()` method will perform the following steps: \n",
    "1. Pass your generated output through the Embedding layer.\n",
    "2. Scale your embedding by multiplying it by the square root of your embedding dimension. Remember to cast the embedding dimension to data type `tf.float32` before computing the square root.\n",
    "3. Add the position encoding: self.pos_encoding `[:, :seq_len, :]` to your embedding.\n",
    "4. Pass the encoded embedding through a dropout layer, remembering to use the `training` parameter to set the model training mode. \n",
    "5. Pass the output of the dropout layer through the stack of Decoding layers using a for loop."
   ]
  },
  {
   "cell_type": "code",
   "execution_count": null,
   "id": "4a5592eff2f9d794",
   "metadata": {
    "ExecuteTime": {
     "end_time": "2024-06-19T11:41:21.717448Z",
     "start_time": "2024-06-19T11:41:21.710239Z"
    }
   },
   "outputs": [],
   "source": [
    "class Decoder(tf.keras.layers.Layer):\n",
    "    \"\"\"\n",
    "    The entire Encoder starts by passing the target input to an embedding layer\n",
    "    and using positional encoding to then pass the output through a stack of\n",
    "    decoder Layers\n",
    "\n",
    "    \"\"\"\n",
    "\n",
    "    def __init__(self, num_layers, embedding_dim, num_heads, fully_connected_dim, target_vocab_size,\n",
    "                 maximum_position_encoding, dropout_rate=0.1, layernorm_eps=1e-6):\n",
    "        super(Decoder, self).__init__()\n",
    "\n",
    "        self.embedding_dim = embedding_dim\n",
    "        self.num_layers = num_layers\n",
    "\n",
    "        self.embedding = tf.keras.layers.Embedding(target_vocab_size, self.embedding_dim)\n",
    "        self.pos_encoding = positional_encoding(maximum_position_encoding, self.embedding_dim)\n",
    "\n",
    "        self.dec_layers = [DecoderLayer(embedding_dim=self.embedding_dim,\n",
    "                                        num_heads=num_heads,\n",
    "                                        fully_connected_dim=fully_connected_dim,\n",
    "                                        dropout_rate=dropout_rate,\n",
    "                                        layernorm_eps=layernorm_eps)\n",
    "                           for _ in range(self.num_layers)]\n",
    "        self.dropout = tf.keras.layers.Dropout(dropout_rate)\n",
    "\n",
    "    def call(self, x, enc_output, training,\n",
    "             look_ahead_mask, padding_mask):\n",
    "        \"\"\"\n",
    "        Forward  pass for the Decoder\n",
    "\n",
    "        Arguments:\n",
    "            x (tf.Tensor): Tensor of shape (batch_size, target_seq_len, fully_connected_dim)\n",
    "            enc_output (tf.Tensor):  Tensor of shape(batch_size, input_seq_len, fully_connected_dim)\n",
    "            training (bool): Boolean, set to true to activate\n",
    "                        the training mode for dropout layers\n",
    "            look_ahead_mask (tf.Tensor): Boolean mask for the target_input\n",
    "            padding_mask (tf.Tensor): Boolean mask for the second multihead attention layer\n",
    "        Returns:\n",
    "            x (tf.Tensor): Tensor of shape (batch_size, target_seq_len, fully_connected_dim)\n",
    "            attention_weights (dict[str: tf.Tensor]): Dictionary of tensors containing all the attention weights\n",
    "                                each of shape Tensor of shape (batch_size, num_heads, target_seq_len, input_seq_len)\n",
    "        \"\"\"\n",
    "\n",
    "        seq_len = tf.shape(x)[1]\n",
    "        attention_weights = {}\n",
    "\n",
    "        # create word embeddings\n",
    "        x = self.embedding(x)\n",
    "\n",
    "        # scale embeddings by multiplying by the square root of their dimension\n",
    "        x *= tf.math.sqrt(tf.cast(self.embedding_dim, tf.float32))\n",
    "\n",
    "        # add positional encodings to word embedding\n",
    "        x += self.pos_encoding[:, :seq_len, :]\n",
    "\n",
    "        # apply a dropout layer to x\n",
    "        # use `training=training`\n",
    "        x = self.dropout(x, training=training)\n",
    "\n",
    "        # use a for loop to pass x through a stack of decoder layers and update attention_weights (~4 lines total)\n",
    "        for i in range(self.num_layers):\n",
    "            # pass x and the encoder output through a stack of decoder layers and save the attention weights\n",
    "            # of block 1 and 2 (~1 line)\n",
    "            x, block1, block2 = self.dec_layers[i](x, enc_output, training=training, look_ahead_mask=look_ahead_mask,\n",
    "                                                   padding_mask=padding_mask)\n",
    "\n",
    "            # update attention_weights dictionary with the attention weights of block 1 and block 2\n",
    "            attention_weights[f'decoder_layer{i + 1}_block1_self_att'] = block1\n",
    "            attention_weights[f'decoder_layer{i + 1}_block2_decenc_att'] = block2\n",
    "\n",
    "        # x.shape == (batch_size, target_seq_len, fully_connected_dim)\n",
    "        return x, attention_weights"
   ]
  },
  {
   "cell_type": "code",
   "execution_count": null,
   "id": "4e35647da323bb6c",
   "metadata": {
    "ExecuteTime": {
     "end_time": "2024-06-19T11:41:24.429803Z",
     "start_time": "2024-06-19T11:41:23.240896Z"
    }
   },
   "outputs": [
    {
     "name": "stdout",
     "output_type": "stream",
     "text": [
      "Using num_layers=5, embedding_dim=13 and num_heads=17:\n",
      "\n",
      "x has shape:(3, 4)\n",
      "Output of encoder has shape:(3, 7, 9)\n",
      "\n",
      "Output of decoder has shape:(3, 4, 13)\n",
      "\n",
      "Attention weights:\n",
      "decoder_layer1_block1_self_att has shape:(3, 17, 4, 4)\n",
      "decoder_layer1_block2_decenc_att has shape:(3, 17, 4, 7)\n",
      "decoder_layer2_block1_self_att has shape:(3, 17, 4, 4)\n",
      "decoder_layer2_block2_decenc_att has shape:(3, 17, 4, 7)\n",
      "decoder_layer3_block1_self_att has shape:(3, 17, 4, 4)\n",
      "decoder_layer3_block2_decenc_att has shape:(3, 17, 4, 7)\n",
      "decoder_layer4_block1_self_att has shape:(3, 17, 4, 4)\n",
      "decoder_layer4_block2_decenc_att has shape:(3, 17, 4, 7)\n",
      "decoder_layer5_block1_self_att has shape:(3, 17, 4, 4)\n",
      "decoder_layer5_block2_decenc_att has shape:(3, 17, 4, 7)\n"
     ]
    }
   ],
   "source": [
    "# Test your function!\n",
    "n_layers = 5\n",
    "emb_d = 13\n",
    "n_heads = 17\n",
    "fully_connected_dim = 16\n",
    "target_vocab_size = 300\n",
    "maximum_position_encoding = 6\n",
    "\n",
    "x = np.array([[3, 2, 1, 1], [2, 1, 1, 0], [2, 1, 1, 0]])\n",
    "\n",
    "encoder_test_output = tf.convert_to_tensor(np.random.rand(3, 7, 9))\n",
    "\n",
    "look_ahead_mask = create_look_ahead_mask(x.shape[1])\n",
    "\n",
    "decoder_test = Decoder(n_layers, emb_d, n_heads, fully_connected_dim, target_vocab_size, maximum_position_encoding)\n",
    "\n",
    "# Correct the call by passing 'training' as a keyword argument\n",
    "outd, att_weights = decoder_test(x, encoder_test_output, training=False, look_ahead_mask=look_ahead_mask, padding_mask=None)\n",
    "\n",
    "print(f\"Using num_layers={n_layers}, embedding_dim={emb_d} and num_heads={n_heads}:\\n\")\n",
    "print(f\"x has shape:{x.shape}\")\n",
    "print(f\"Output of encoder has shape:{encoder_test_output.shape}\\n\")\n",
    "\n",
    "print(f\"Output of decoder has shape:{outd.shape}\\n\")\n",
    "print(\"Attention weights:\")\n",
    "for name, tensor in att_weights.items():\n",
    "    print(f\"{name} has shape:{tensor.shape}\")"
   ]
  },
  {
   "cell_type": "markdown",
   "id": "534ab9655ea6775f",
   "metadata": {},
   "source": [
    "8 - Transformer\n",
    "\n",
    "Phew! This has been quite the assignment! Congratulations! You've done all the hard work, now it's time to put it all together.  \n",
    "\n",
    "<img src=\"transfomer_soubory/assign_transformer.png\" alt=\"Transformer\" width=\"550\"/>\n",
    "<caption><center><font color='purple'><b>Figure 4: Transformer</font></center></caption>\n",
    "    \n",
    "The flow of data through the Transformer Architecture is as follows:\n",
    "* First your input passes through an Encoder, which is just repeated Encoder layers that you implemented:\n",
    "    - embedding and positional encoding of your input\n",
    "    - multi-head attention on your input\n",
    "    - feed forward neural network to help detect features\n",
    "* Then the predicted output passes through a Decoder, consisting of the decoder layers that you implemented:\n",
    "    - embedding and positional encoding of the output\n",
    "    - multi-head attention on your generated output\n",
    "    - multi-head attention with the Q from the first multi-head attention layer and the K and V from the Encoder\n",
    "    - a feed forward neural network to help detect features\n",
    "* Finally, after the Nth Decoder layer, one dense layer and a softmax are applied to generate prediction for the next output in your sequence.\n",
    "\n",
    "<a name='ex-4'></a> \n",
    "Exercise 4 - Transformer\n",
    "\n",
    "Implement `Transformer()` using the `call()` method\n",
    "1. Pass the input through the Encoder with the appropiate mask.\n",
    "2. Pass the encoder output and the target through the Decoder with the appropiate mask.\n",
    "3. Apply a linear transformation and a softmax to get a prediction."
   ]
  },
  {
   "cell_type": "code",
   "execution_count": null,
   "id": "9c20d526339c34c0",
   "metadata": {
    "ExecuteTime": {
     "end_time": "2024-06-19T11:41:28.854649Z",
     "start_time": "2024-06-19T11:41:28.837861Z"
    }
   },
   "outputs": [],
   "source": [
    "# GRADED FUNCTION: Transformer\n",
    "class Transformer(tf.keras.Model):\n",
    "    \"\"\"\n",
    "    Complete transformer with an Encoder and a Decoder\n",
    "    \"\"\"\n",
    "    def __init__(self, num_layers, embedding_dim, num_heads, fully_connected_dim, input_vocab_size, \n",
    "               target_vocab_size, max_positional_encoding_input,\n",
    "               max_positional_encoding_target, dropout_rate=0.1, layernorm_eps=1e-6):\n",
    "        super(Transformer, self).__init__()\n",
    "\n",
    "        self.encoder = Encoder(num_layers=num_layers,\n",
    "                               embedding_dim=embedding_dim,\n",
    "                               num_heads=num_heads,\n",
    "                               fully_connected_dim=fully_connected_dim,\n",
    "                               input_vocab_size=input_vocab_size,\n",
    "                               maximum_position_encoding=max_positional_encoding_input,\n",
    "                               dropout_rate=dropout_rate,\n",
    "                               layernorm_eps=layernorm_eps)\n",
    "\n",
    "        self.decoder = Decoder(num_layers=num_layers, \n",
    "                               embedding_dim=embedding_dim,\n",
    "                               num_heads=num_heads,\n",
    "                               fully_connected_dim=fully_connected_dim,\n",
    "                               target_vocab_size=target_vocab_size, \n",
    "                               maximum_position_encoding=max_positional_encoding_target,\n",
    "                               dropout_rate=dropout_rate,\n",
    "                               layernorm_eps=layernorm_eps)\n",
    "\n",
    "        self.final_layer = tf.keras.layers.Dense(target_vocab_size, activation='softmax')\n",
    "    \n",
    "    def call(self, input_sentence, output_sentence, training, enc_padding_mask, look_ahead_mask, dec_padding_mask):\n",
    "        \"\"\"\n",
    "        Forward pass for the entire Transformer\n",
    "        Arguments:\n",
    "            input_sentence (tf.Tensor): Tensor of shape (batch_size, input_seq_len, fully_connected_dim)\n",
    "                              An array of the indexes of the words in the input sentence\n",
    "            output_sentence (tf.Tensor): Tensor of shape (batch_size, target_seq_len, fully_connected_dim)\n",
    "                              An array of the indexes of the words in the output sentence\n",
    "            training (bool): Boolean, set to true to activate\n",
    "                        the training mode for dropout layers\n",
    "            enc_padding_mask (tf.Tensor): Boolean mask to ensure that the padding is not \n",
    "                    treated as part of the input\n",
    "            look_ahead_mask (tf.Tensor): Boolean mask for the target_input\n",
    "            dec_padding_mask (tf.Tensor): Boolean mask for the second multihead attention layer\n",
    "        Returns:\n",
    "            final_output (tf.Tensor): The final output of the model\n",
    "            attention_weights (dict[str: tf.Tensor]): Dictionary of tensors containing all the attention weights for the decoder\n",
    "                                each of shape Tensor of shape (batch_size, num_heads, target_seq_len, input_seq_len)\n",
    "        \n",
    "        \"\"\"\n",
    "        ### START CODE HERE ###\n",
    "        # call self.encoder with the appropriate arguments to get the encoder output\n",
    "        enc_output = self.encoder(x=input_sentence, training=training, mask=enc_padding_mask)\n",
    "        \n",
    "        # call self.decoder with the appropriate arguments to get the decoder output\n",
    "        # dec_output.shape == (batch_size, tar_seq_len, fully_connected_dim)\n",
    "        dec_output, attention_weights = self.decoder(output_sentence, enc_output, training=training, \n",
    "                                                     look_ahead_mask=look_ahead_mask, padding_mask=dec_padding_mask)\n",
    "        \n",
    "        # pass decoder output through a linear layer and softmax (~1 line)\n",
    "        final_output = self.final_layer(dec_output)\n",
    "        ### END CODE HERE ###\n",
    "\n",
    "        return final_output, attention_weights"
   ]
  },
  {
   "cell_type": "code",
   "execution_count": null,
   "id": "5a8bc36da0169b5f",
   "metadata": {
    "ExecuteTime": {
     "end_time": "2024-06-19T11:41:38.574166Z",
     "start_time": "2024-06-19T11:41:34.526493Z"
    }
   },
   "outputs": [
    {
     "name": "stdout",
     "output_type": "stream",
     "text": [
      "Using num_layers=3, target_vocab_size=350 and num_heads=17:\n",
      "\n",
      "sentence_a has shape:(1, 7)\n",
      "sentence_b has shape:(1, 7)\n",
      "\n",
      "Output of transformer (summary) has shape:(1, 7, 350)\n",
      "\n",
      "Attention weights:\n",
      "decoder_layer1_block1_self_att has shape:(1, 17, 7, 7)\n",
      "decoder_layer1_block2_decenc_att has shape:(1, 17, 7, 7)\n",
      "decoder_layer2_block1_self_att has shape:(1, 17, 7, 7)\n",
      "decoder_layer2_block2_decenc_att has shape:(1, 17, 7, 7)\n",
      "decoder_layer3_block1_self_att has shape:(1, 17, 7, 7)\n",
      "decoder_layer3_block2_decenc_att has shape:(1, 17, 7, 7)\n"
     ]
    }
   ],
   "source": [
    "# Test your function!\n",
    "n_layers = 3\n",
    "emb_d = 13\n",
    "n_heads = 17\n",
    "fully_connected_dim = 8\n",
    "input_vocab_size = 300\n",
    "target_vocab_size = 350\n",
    "max_positional_encoding_input = 12\n",
    "max_positional_encoding_target = 12\n",
    "\n",
    "transformer = Transformer(\n",
    "    num_layers = n_layers, \n",
    "    embedding_dim = emb_d, \n",
    "    num_heads = n_heads, \n",
    "    fully_connected_dim = fully_connected_dim, \n",
    "    input_vocab_size = input_vocab_size, \n",
    "    target_vocab_size = target_vocab_size, \n",
    "    max_positional_encoding_input = max_positional_encoding_input,\n",
    "    max_positional_encoding_target = max_positional_encoding_target)\n",
    "\n",
    "# 0 is the padding value\n",
    "sentence_a = np.array([[2, 3, 1, 3, 0, 0, 0]])\n",
    "sentence_b = np.array([[1, 3, 4, 0, 0, 0, 0]])\n",
    "\n",
    "enc_padding_mask = create_padding_mask(sentence_a)\n",
    "dec_padding_mask = create_padding_mask(sentence_a)\n",
    "\n",
    "look_ahead_mask = create_look_ahead_mask(sentence_a.shape[1])\n",
    "\n",
    "test_summary, att_weights = transformer(\n",
    "    input_sentence = sentence_a,\n",
    "    output_sentence = sentence_b,\n",
    "    training = False,\n",
    "    enc_padding_mask = enc_padding_mask,\n",
    "    look_ahead_mask = look_ahead_mask,\n",
    "    dec_padding_mask = dec_padding_mask\n",
    ")\n",
    "\n",
    "print(f\"Using num_layers={n_layers}, target_vocab_size={target_vocab_size} and num_heads={n_heads}:\\n\")\n",
    "print(f\"sentence_a has shape:{sentence_a.shape}\")\n",
    "print(f\"sentence_b has shape:{sentence_b.shape}\")\n",
    "\n",
    "print(f\"\\nOutput of transformer (summary) has shape:{test_summary.shape}\\n\")\n",
    "print(\"Attention weights:\")\n",
    "for name, tensor in att_weights.items():\n",
    "    print(f\"{name} has shape:{tensor.shape}\")"
   ]
  },
  {
   "cell_type": "code",
   "execution_count": null,
   "id": "999375bf82266163",
   "metadata": {
    "ExecuteTime": {
     "end_time": "2024-06-19T11:42:08.305951Z",
     "start_time": "2024-06-19T11:42:08.227674Z"
    }
   },
   "outputs": [],
   "source": [
    "# Define the model parameters\n",
    "num_layers = 2\n",
    "embedding_dim = 128\n",
    "fully_connected_dim = 128\n",
    "num_heads = 2\n",
    "positional_encoding_length = 256\n",
    "\n",
    "# Initialize the model\n",
    "transformer = Transformer(\n",
    "    num_layers, \n",
    "    embedding_dim, \n",
    "    num_heads, \n",
    "    fully_connected_dim,\n",
    "    vocab_size, \n",
    "    vocab_size, \n",
    "    positional_encoding_length, \n",
    "    positional_encoding_length,\n",
    ")"
   ]
  },
  {
   "cell_type": "code",
   "execution_count": null,
   "id": "89ad30552179401e",
   "metadata": {
    "ExecuteTime": {
     "end_time": "2024-06-19T11:42:21.168595Z",
     "start_time": "2024-06-19T11:42:21.131252Z"
    }
   },
   "outputs": [],
   "source": [
    "class CustomSchedule(tf.keras.optimizers.schedules.LearningRateSchedule):\n",
    "    def __init__(self, d_model, warmup_steps=4000):\n",
    "        super(CustomSchedule, self).__init__()\n",
    "        self.d_model = tf.cast(d_model, dtype=tf.float32)\n",
    "        self.warmup_steps = warmup_steps\n",
    "    \n",
    "    def __call__(self, step):\n",
    "        step = tf.cast(step, dtype=tf.float32)\n",
    "        arg1 = tf.math.rsqrt(step)\n",
    "        arg2 = step * (self.warmup_steps ** -1.5)\n",
    "\n",
    "        return tf.math.rsqrt(self.d_model) * tf.math.minimum(arg1, arg2)\n",
    "\n",
    "learning_rate = CustomSchedule(embedding_dim)\n",
    "\n",
    "optimizer = tf.keras.optimizers.Adam(0.0002, beta_1=0.9, beta_2=0.98, epsilon=1e-9)"
   ]
  },
  {
   "cell_type": "code",
   "execution_count": null,
   "id": "ea0fc111556fefc8",
   "metadata": {
    "ExecuteTime": {
     "end_time": "2024-06-19T11:42:23.779348Z",
     "start_time": "2024-06-19T11:42:23.382698Z"
    }
   },
   "outputs": [
    {
     "data": {
      "text/plain": [
       "Text(0.5, 0, 'Train Step')"
      ]
     },
     "execution_count": 135,
     "metadata": {},
     "output_type": "execute_result"
    },
    {
     "data": {
      "image/png": "[encoded data removed]",
      "text/plain": [
       "<Figure size 640x480 with 1 Axes>"
      ]
     },
     "metadata": {},
     "output_type": "display_data"
    }
   ],
   "source": [
    "plt.plot(learning_rate(tf.range(40000, dtype=tf.float32)))\n",
    "plt.ylabel('Learning Rate')\n",
    "plt.xlabel('Train Step')"
   ]
  },
  {
   "cell_type": "code",
   "execution_count": null,
   "id": "edaf1da589b3c764",
   "metadata": {
    "ExecuteTime": {
     "end_time": "2024-06-19T11:46:26.716862Z",
     "start_time": "2024-06-19T11:46:26.677979Z"
    }
   },
   "outputs": [],
   "source": [
    "loss_object = tf.keras.losses.SparseCategoricalCrossentropy(from_logits=False, reduction='none')\n",
    "\n",
    "def masked_loss(real, pred):\n",
    "    mask = tf.math.logical_not(tf.math.equal(real, 0))\n",
    "    loss_ = loss_object(real, pred)\n",
    "\n",
    "    mask = tf.cast(mask, dtype=loss_.dtype)\n",
    "    loss_ *= mask\n",
    "\n",
    "    return tf.reduce_sum(loss_)/tf.reduce_sum(mask)\n",
    "\n",
    "\n",
    "train_loss = tf.keras.metrics.Mean(name='train_loss')\n",
    "\n",
    "# Here you will store the losses, so you can later plot them\n",
    "losses = []"
   ]
  },
  {
   "cell_type": "markdown",
   "id": "3936527c5f1a582b",
   "metadata": {},
   "source": [
    "Now you can define your custom training function. If you are not very advanced with tensorflow, you can understand this function as an alternative to using `model.compile()` and `model.fit()`, but with added extra flexibility."
   ]
  },
  {
   "cell_type": "code",
   "execution_count": null,
   "id": "28ee3a4cc88bb456",
   "metadata": {
    "ExecuteTime": {
     "end_time": "2024-06-19T11:47:26.417842Z",
     "start_time": "2024-06-19T11:47:26.401513Z"
    }
   },
   "outputs": [],
   "source": [
    "@tf.function\n",
    "def train_step(model, inp, tar):\n",
    "    \"\"\"\n",
    "    One training step for the transformer\n",
    "    Arguments:\n",
    "        inp (tf.Tensor): Input data to summarize\n",
    "        tar (tf.Tensor): Target (summary)\n",
    "    Returns:\n",
    "        None\n",
    "    \"\"\"\n",
    "    tar_inp = tar[:, :-1]\n",
    "    tar_real = tar[:, 1:]\n",
    "\n",
    "    # Create masks\n",
    "    enc_padding_mask = create_padding_mask(inp)\n",
    "    look_ahead_mask = create_look_ahead_mask(tf.shape(tar_inp)[1])\n",
    "    dec_padding_mask = create_padding_mask(inp) # Notice that both encoder and decoder padding masks are equal\n",
    "\n",
    "    with tf.GradientTape() as tape:\n",
    "        predictions, _ = model(\n",
    "            input_sentence=inp,\n",
    "            output_sentence=tar_inp, \n",
    "            training=True, \n",
    "            enc_padding_mask=enc_padding_mask, \n",
    "            look_ahead_mask=look_ahead_mask, \n",
    "            dec_padding_mask=dec_padding_mask\n",
    "        )\n",
    "        loss = masked_loss(tar_real, predictions)\n",
    "\n",
    "    gradients = tape.gradient(loss, transformer.trainable_variables)    \n",
    "    optimizer.apply_gradients(zip(gradients, transformer.trainable_variables))\n",
    "\n",
    "    train_loss(loss)"
   ]
  },
  {
   "cell_type": "markdown",
   "id": "dee82a46d86a7fa8",
   "metadata": {},
   "source": [
    "11 - Summarization\n",
    "\n",
    "The last thing you will implement is inference. With this, you will be able to produce actual summaries of the documents. You will use a simple method called greedy decoding, which means you will predict one word at a time and append it to the output. You will start with an `[SOS]` token and repeat the word by word inference until the model returns you the `[EOS]` token or until you reach the maximum length of the sentence (you need to add this limit, otherwise a poorly trained model could give you infinite sentences without ever producing the `[EOS]` token.\n",
    "\n",
    "\n",
    "Exercise 5 - next_word\n",
    "Write a helper function that predicts the next word, so you can use it to write the whole sentences. Hint: this is very similar to what happens in the train_step, but you have to set the training of the model to False."
   ]
  },
  {
   "cell_type": "code",
   "execution_count": null,
   "id": "ca44e0e4c0ec9173",
   "metadata": {
    "ExecuteTime": {
     "end_time": "2024-06-19T11:43:57.027703Z",
     "start_time": "2024-06-19T11:43:56.994725Z"
    }
   },
   "outputs": [],
   "source": [
    "def next_word(model, encoder_input, output):\n",
    "    \"\"\"\n",
    "    Helper function for summarization that uses the model to predict just the next word.\n",
    "    Arguments:\n",
    "        encoder_input (tf.Tensor): Input data to summarize\n",
    "        output (tf.Tensor): (incomplete) target (summary)\n",
    "    Returns:\n",
    "        predicted_id (tf.Tensor): The id of the predicted word\n",
    "    \"\"\"\n",
    "    # Create a padding mask for the input (encoder)\n",
    "    enc_padding_mask = create_padding_mask(encoder_input)\n",
    "    # Create a look-ahead mask for the output\n",
    "    look_ahead_mask = create_look_ahead_mask(tf.shape(output)[1])\n",
    "    # Create a padding mask for the input (decoder)\n",
    "    dec_padding_mask = create_padding_mask(encoder_input)\n",
    "\n",
    "    # Run the prediction of the next word with the transformer model\n",
    "    predictions, attention_weights = model(\n",
    "            input_sentence=encoder_input,\n",
    "            output_sentence=output, \n",
    "            training=False, \n",
    "            enc_padding_mask=enc_padding_mask, \n",
    "            look_ahead_mask=look_ahead_mask, \n",
    "            dec_padding_mask=dec_padding_mask\n",
    "    )\n",
    "\n",
    "    predictions = predictions[: ,-1:, :]\n",
    "    predicted_id = tf.cast(tf.argmax(predictions, axis=-1), tf.int32)\n",
    "    \n",
    "    return predicted_id"
   ]
  },
  {
   "cell_type": "code",
   "execution_count": null,
   "id": "e8e72340fbd519ef",
   "metadata": {
    "ExecuteTime": {
     "end_time": "2024-06-19T11:44:02.372729Z",
     "start_time": "2024-06-19T11:43:58.283188Z"
    }
   },
   "outputs": [
    {
     "name": "stderr",
     "output_type": "stream",
     "text": [
      "/Users/michaelmateju/miniconda3/envs/basic/lib/python3.9/site-packages/keras/src/ops/nn.py:545: UserWarning: You are using a softmax over axis 3 of a tensor of shape (1, 2, 1, 1). This axis has size 1. The softmax operation will always return the value 1, which is likely not what you intended. Did you mean to use a sigmoid instead?\n",
      "  warnings.warn(\n"
     ]
    },
    {
     "name": "stdout",
     "output_type": "stream",
     "text": [
      "Predicted token: [[21906]]\n",
      "Predicted word: cardiologist\n"
     ]
    }
   ],
   "source": [
    "# Take a random sentence as an input\n",
    "input_document = tokenizer.texts_to_sequences([\"a random sentence\"])\n",
    "input_document = tf.keras.preprocessing.sequence.pad_sequences(input_document, maxlen=encoder_maxlen, padding='post', truncating='post')\n",
    "encoder_input = tf.expand_dims(input_document[0], 0)\n",
    "\n",
    "# Take the start of sentence token as the only token in the output to predict the next word\n",
    "output = tf.expand_dims([tokenizer.word_index[\"[SOS]\"]], 0)\n",
    "\n",
    "# predict the next word with your function\n",
    "predicted_token = next_word(transformer, encoder_input, output)\n",
    "print(f\"Predicted token: {predicted_token}\")\n",
    "\n",
    "predicted_word = tokenizer.sequences_to_texts(predicted_token.numpy())[0]\n",
    "print(f\"Predicted word: {predicted_word}\")"
   ]
  },
  {
   "cell_type": "code",
   "execution_count": null,
   "id": "a2226e4c516674fe",
   "metadata": {
    "ExecuteTime": {
     "end_time": "2024-06-19T11:47:43.566566Z",
     "start_time": "2024-06-19T11:47:43.547238Z"
    }
   },
   "outputs": [],
   "source": [
    "def summarize(model, input_document):\n",
    "    \"\"\"\n",
    "    A function for summarization using the transformer model\n",
    "    Arguments:\n",
    "        input_document (tf.Tensor): Input data to summarize\n",
    "    Returns:\n",
    "        _ (str): The summary of the input_document\n",
    "    \"\"\"    \n",
    "    input_document = tokenizer.texts_to_sequences([input_document])\n",
    "    input_document = tf.keras.preprocessing.sequence.pad_sequences(input_document, maxlen=encoder_maxlen, padding='post', truncating='post')\n",
    "    encoder_input = tf.expand_dims(input_document[0], 0)\n",
    "    \n",
    "    output = tf.expand_dims([tokenizer.word_index[\"[SOS]\"]], 0)\n",
    "    \n",
    "    for i in range(decoder_maxlen):\n",
    "        predicted_id = next_word(model, encoder_input, output)\n",
    "        output = tf.concat([output, predicted_id], axis=-1)\n",
    "        \n",
    "        if predicted_id == tokenizer.word_index[\"[EOS]\"]:\n",
    "            break\n",
    "\n",
    "    return tokenizer.sequences_to_texts(output.numpy())[0]  # since there is just one translated document"
   ]
  },
  {
   "cell_type": "code",
   "execution_count": null,
   "id": "24668113bf440947",
   "metadata": {
    "ExecuteTime": {
     "end_time": "2024-06-19T11:44:42.100594Z",
     "start_time": "2024-06-19T11:44:11.860057Z"
    }
   },
   "outputs": [
    {
     "name": "stdout",
     "output_type": "stream",
     "text": [
      "Training set example:\n",
      "[SOS] amanda: i baked  cookies. do you want some?  jerry: sure!  amanda: i'll bring you tomorrow :-) [EOS]\n",
      "\n",
      "Human written summary:\n",
      "[SOS] amanda baked cookies and will bring jerry some tomorrow. [EOS]\n",
      "\n",
      "Model written summary:\n"
     ]
    },
    {
     "name": "stderr",
     "output_type": "stream",
     "text": [
      "/Users/michaelmateju/miniconda3/envs/basic/lib/python3.9/site-packages/keras/src/ops/nn.py:545: UserWarning: You are using a softmax over axis 3 of a tensor of shape (1, 2, 1, 1). This axis has size 1. The softmax operation will always return the value 1, which is likely not what you intended. Did you mean to use a sigmoid instead?\n",
      "  warnings.warn(\n"
     ]
    },
    {
     "data": {
      "text/plain": [
       "\"[SOS] robe sapce 250cc crocheting foxx dean's roydon roydon fortnite autographs bergs sends leandra problem excesses attack josephs shuns bergs bergs ☝ robe spotlight menaces icons dean's britanny prefere chelsea's bundle pushy peter's 110 giant giant barbuda vagabond roydon mobolity buttered want😉 mendy would aggreements peter's freaked romaine yaaaaa hr stuation\""
      ]
     },
     "execution_count": 145,
     "metadata": {},
     "output_type": "execute_result"
    }
   ],
   "source": [
    "training_set_example = 0\n",
    "\n",
    "# Check a summary of a document from the training set\n",
    "print('Training set example:')\n",
    "print(document[training_set_example])\n",
    "print('\\nHuman written summary:')\n",
    "print(summary[training_set_example])\n",
    "print('\\nModel written summary:')\n",
    "summarize(transformer, document[training_set_example])"
   ]
  },
  {
   "cell_type": "markdown",
   "id": "59907254dad6489f",
   "metadata": {},
   "source": [
    "Train the model"
   ]
  },
  {
   "cell_type": "code",
   "execution_count": null,
   "id": "4a3e0e3b4f69c8b5",
   "metadata": {
    "ExecuteTime": {
     "end_time": "2024-06-19T11:55:15.641477Z",
     "start_time": "2024-06-19T11:48:41.949430Z"
    }
   },
   "outputs": [
    {
     "name": "stdout",
     "output_type": "stream",
     "text": [
      "Epoch 1, Loss 7.885031\n",
      "Time taken for one epoch: 203.08125686645508 sec\n",
      "Example summarization on the test set:\n",
      "  True summarization:\n",
      "    [SOS] hannah needs betty's number but amanda doesn't have it. she needs to contact larry. [EOS]\n",
      "  Predicted summarization:\n"
     ]
    },
    {
     "name": "stderr",
     "output_type": "stream",
     "text": [
      "/Users/michaelmateju/miniconda3/envs/basic/lib/python3.9/site-packages/keras/src/ops/nn.py:545: UserWarning: You are using a softmax over axis 3 of a tensor of shape (1, 2, 1, 1). This axis has size 1. The softmax operation will always return the value 1, which is likely not what you intended. Did you mean to use a sigmoid instead?\n",
      "  warnings.warn(\n"
     ]
    },
    {
     "name": "stdout",
     "output_type": "stream",
     "text": [
      "    [SOS] and and [EOS]\n",
      "\n",
      "Epoch 2, Loss 6.571231\n",
      "Time taken for one epoch: 183.90123009681702 sec\n",
      "Example summarization on the test set:\n",
      "  True summarization:\n",
      "    [SOS] hannah needs betty's number but amanda doesn't have it. she needs to contact larry. [EOS]\n",
      "  Predicted summarization:\n",
      "    [SOS] is going to the new the new new new new new new new new the new new new the new [EOS]\n",
      "\n"
     ]
    }
   ],
   "source": [
    "# Take an example from the test set, to monitor it during training\n",
    "test_example = 0\n",
    "true_summary = summary_test[test_example]\n",
    "true_document = document_test[test_example]\n",
    "\n",
    "# Define the number of epochs\n",
    "epochs = 2\n",
    "\n",
    "# Training loop\n",
    "for epoch in range(epochs):\n",
    "    \n",
    "    start = time.time()\n",
    "    train_loss.reset_state()\n",
    "    number_of_batches=len(list(enumerate(dataset)))\n",
    "\n",
    "    for (batch, (inp, tar)) in enumerate(dataset):\n",
    "        print(f'Epoch {epoch+1}, Batch {batch+1}/{number_of_batches}', end='\\r')\n",
    "        train_step(transformer, inp, tar)\n",
    "    \n",
    "    print (f'Epoch {epoch+1}, Loss {train_loss.result():.4f}')\n",
    "    losses.append(train_loss.result())\n",
    "    \n",
    "    print (f'Time taken for one epoch: {time.time() - start} sec')\n",
    "    print('Example summarization on the test set:')\n",
    "    print('  True summarization:')\n",
    "    print(f'    {true_summary}')\n",
    "    print('  Predicted summarization:')\n",
    "    print(f'    {summarize(transformer, true_document)}\\n')"
   ]
  },
  {
   "cell_type": "code",
   "execution_count": null,
   "id": "a2cf8becfccb6a92",
   "metadata": {
    "ExecuteTime": {
     "end_time": "2024-06-19T11:55:15.920318Z",
     "start_time": "2024-06-19T11:55:15.660858Z"
    }
   },
   "outputs": [
    {
     "data": {
      "text/plain": [
       "Text(0.5, 0, 'Epoch')"
      ]
     },
     "execution_count": 152,
     "metadata": {},
     "output_type": "execute_result"
    },
    {
     "data": {
      "image/png": "[encoded data removed]",
      "text/plain": [
       "<Figure size 640x480 with 1 Axes>"
      ]
     },
     "metadata": {},
     "output_type": "display_data"
    }
   ],
   "source": [
    "plt.plot(losses)\n",
    "plt.ylabel('Loss')\n",
    "plt.xlabel('Epoch')"
   ]
  },
  {
   "cell_type": "code",
   "execution_count": null,
   "id": "8c12bf3103ada365",
   "metadata": {
    "ExecuteTime": {
     "end_time": "2024-06-19T11:55:26.954289Z",
     "start_time": "2024-06-19T11:55:24.016773Z"
    }
   },
   "outputs": [
    {
     "name": "stdout",
     "output_type": "stream",
     "text": [
      "Training set example:\n",
      "[SOS] amanda: i baked  cookies. do you want some?  jerry: sure!  amanda: i'll bring you tomorrow :-) [EOS]\n",
      "\n",
      "Human written summary:\n",
      "[SOS] amanda baked cookies and will bring jerry some tomorrow. [EOS]\n",
      "\n",
      "Model written summary:\n"
     ]
    },
    {
     "name": "stderr",
     "output_type": "stream",
     "text": [
      "/Users/michaelmateju/miniconda3/envs/basic/lib/python3.9/site-packages/keras/src/ops/nn.py:545: UserWarning: You are using a softmax over axis 3 of a tensor of shape (1, 2, 1, 1). This axis has size 1. The softmax operation will always return the value 1, which is likely not what you intended. Did you mean to use a sigmoid instead?\n",
      "  warnings.warn(\n"
     ]
    },
    {
     "name": "stdout",
     "output_type": "stream",
     "text": [
      "[SOS] is going to the new the new [EOS]\n"
     ]
    }
   ],
   "source": [
    "training_set_example = 0\n",
    "\n",
    "# Check a summary of a document from the training set\n",
    "print('Training set example:')\n",
    "print(document[training_set_example])\n",
    "print('\\nHuman written summary:')\n",
    "print(summary[training_set_example])\n",
    "print('\\nModel written summary:')\n",
    "print(summarize(transformer, document[training_set_example]))"
   ]
  },
  {
   "cell_type": "code",
   "execution_count": null,
   "id": "2508e25cba34857a",
   "metadata": {
    "ExecuteTime": {
     "end_time": "2024-06-19T11:55:35.725804Z",
     "start_time": "2024-06-19T11:55:28.892745Z"
    }
   },
   "outputs": [
    {
     "name": "stdout",
     "output_type": "stream",
     "text": [
      "Test set example:\n",
      "[SOS] will: hey babe, what do you want for dinner tonight?  emma:  gah, don't even worry about it tonight  will: what do you mean? everything ok?  emma: not really, but it's ok, don't worry about cooking though, i'm not hungry  will: well what time will you be home?  emma: soon, hopefully  will: you sure? maybe you want me to pick you up?  emma: no no it's alright. i'll be home soon, i'll tell you when i get home.   will: alright, love you.   emma: love you too.  [EOS]\n",
      "\n",
      "Human written summary:\n",
      "[SOS] emma will be home soon and she will let will know. [EOS]\n",
      "\n",
      "Model written summary:\n"
     ]
    },
    {
     "name": "stderr",
     "output_type": "stream",
     "text": [
      "/Users/michaelmateju/miniconda3/envs/basic/lib/python3.9/site-packages/keras/src/ops/nn.py:545: UserWarning: You are using a softmax over axis 3 of a tensor of shape (1, 2, 1, 1). This axis has size 1. The softmax operation will always return the value 1, which is likely not what you intended. Did you mean to use a sigmoid instead?\n",
      "  warnings.warn(\n"
     ]
    },
    {
     "name": "stdout",
     "output_type": "stream",
     "text": [
      "[SOS] is going to the new the new the new new new the new new the new new the new the new [EOS]\n"
     ]
    }
   ],
   "source": [
    "test_set_example = 3\n",
    "\n",
    "# Check a summary of a document from the test set\n",
    "print('Test set example:')\n",
    "print(document_test[test_set_example])\n",
    "print('\\nHuman written summary:')\n",
    "print(summary_test[test_set_example])\n",
    "print('\\nModel written summary:')\n",
    "print(summarize(transformer, document_test[test_set_example]))"
   ]
  },
  {
   "cell_type": "markdown",
   "id": "aee199f20956fa0e",
   "metadata": {},
   "source": [
    "If you critically examine the output of the model, you can notice a few things:\n",
    " - In the training set the model output is (almost) identical to the real output (already after 20 epochs and even more so with more epochs). This might be because the training set is relatively small and the model is relatively big and has thus learned the sentences in the training set by heart (overfitting).\n",
    " - While the performance on the training set looks amazing, it is not so good on the test set. The model overfits, but fails to generalize. Again an easy candidate to blame is the small training set and a comparatively large model, but there might be a variety of other factors.\n",
    " - Look at the test set example 3 and its summarization. Would you summarize it the same way as it is written here? Sometimes the data may be ambiguous. And the training of **your model can only be as good as your data**.\n",
    "\n",
    "Here you only use a small dataset, to show that something can be learned in a reasonable amount of time in a relatively small environment. Generally, large transformers are trained on more than one task and on very large quantities of data to achieve superb performance. You will learn more about this in the rest of this course."
   ]
  },
  {
   "cell_type": "markdown",
   "id": "233e75efb3e3fff8",
   "metadata": {},
   "source": [
    "# 3. Question Answering"
   ]
  },
  {
   "metadata": {},
   "cell_type": "markdown",
   "source": "### Intro",
   "id": "5dbb8949810a3f0f"
  },
  {
   "metadata": {},
   "cell_type": "markdown",
   "source": "Podivame se na dva modely - BERT, T5",
   "id": "3a1747bd90f3e0f3"
  },
  {
   "cell_type": "markdown",
   "id": "f29f459da5e33cbf",
   "metadata": {},
   "source": [
    "Question-Answering se da zhruba rozdelit na dva typy:\n",
    "- context-based\n",
    "- closed book"
   ]
  },
  {
   "cell_type": "markdown",
   "id": "99d2ffd2",
   "metadata": {},
   "source": "T5 is learnt on C4 dataset = Colosal Cleaned Crawled Corpus (800 GB)"
  },
  {
   "metadata": {},
   "cell_type": "markdown",
   "source": [
    "1. Transfer learning comes in two basic forms:\n",
    "- feature based -> you learn word embeddings by training one model and then you use those word embeddings in a \n",
    "different model on a different task. \n",
    "- fune-tuning -> you can use the exact same model and just run it on a different task. Sometimes when fine tuning, \n",
    "you can keep the model weights fixed and just add a new layer that you will train. Other times you can slowly \n",
    "unfreeze the layers one at a time.  \n",
    "\n",
    "2. Pretrained data -> Model\n",
    "- labeled\n",
    "- unlabled\n",
    "\n",
    "3. Pretraining task\n",
    "- language modeling\n",
    "    - masked words\n",
    "        -  next sentence"
   ],
   "id": "14a10ad488d64abb"
  },
  {
   "metadata": {},
   "cell_type": "markdown",
   "source": "General purpose learning",
   "id": "5967cd164dd0b502"
  },
  {
   "metadata": {},
   "cell_type": "markdown",
   "source": "![Seq2Seq](./pomocne_soubory/feature_vs_funetune.png)",
   "id": "54bbff4296da7a64"
  },
  {
   "metadata": {},
   "cell_type": "markdown",
   "source": "![Seq2Seq](./pomocne_soubory/self_supervise_tasks.png)",
   "id": "84794d8a3cff82bd"
  },
  {
   "metadata": {},
   "cell_type": "markdown",
   "source": "### BERT",
   "id": "d61522a2c557950"
  },
  {
   "metadata": {},
   "cell_type": "markdown",
   "source": [
    "There are two steps in the BERT framework: pre-training and fine-tuning. During pre-training, the model is trained on unlabeled data over different pre-training tasks.  For fine tuning, the BERT model is first initialized with the pre-trained parameters, and all of the parameters are fine-tuned using labeled data from the downstream tasks. \n",
    "\n",
    "During pretraining:\n",
    "\n",
    "* Choose 15% of the tokens at random: mask them 80% of the time, replace them with a random token 10% of the time, or\n",
    " keep as is 10% of the time.   \n",
    "* There could be multiple masked spans in a sentence\n",
    "* Next sentence prediction is also used when pre-training."
   ],
   "id": "a4f04459565d564f"
  },
  {
   "metadata": {},
   "cell_type": "markdown",
   "source": "![Seq2Seq](./pomocne_soubory/bert_input.png)",
   "id": "13fffaa5286f54f0"
  },
  {
   "metadata": {},
   "cell_type": "markdown",
   "source": [
    "The input embeddings are the sum of the token embeddings, the segmentation embeddings and the position embeddings.\n",
    "\n",
    "**The input embeddings**: you have a [CLS] token to indicate the beginning of the sentence and a [SEP] to indicate the \n",
    "end \n",
    "of the sentence\n",
    "\n",
    "**The segment embeddings**: allows you to indicate whether it is sentence a or b.\n",
    "\n",
    "**Positional embeddings**: allows you to indicate the word's position in the sentence.\n",
    "\n"
   ],
   "id": "e3e9c875d69f288"
  },
  {
   "metadata": {},
   "cell_type": "markdown",
   "source": "![Seq2Seq](./pomocne_soubory/bert_input_2.png)",
   "id": "12f4617c43dc2c9a"
  },
  {
   "metadata": {},
   "cell_type": "markdown",
   "source": [
    "The C token in the image above could be used for classification purposes. The unlabeled sentence A/B pair will depend\n",
    " on what you are trying to predict, it could range from question answering to sentiment. (in which case the second \n",
    " sentence could be just empty). The BERT objective is defined as follows:   "
   ],
   "id": "ebd9b6544d492b33"
  },
  {
   "metadata": {},
   "cell_type": "markdown",
   "source": "![Seq2Seq](./pomocne_soubory/bert_objective.png)",
   "id": "c95be59b7332835"
  },
  {
   "metadata": {},
   "cell_type": "markdown",
   "source": "Pekny clanek na mediu: [Understanding BERT](https://medium.com/dissecting-bert/dissecting-bert-part2-335ff2ed9c73)",
   "id": "7e555e9412a6d9f7"
  },
  {
   "metadata": {},
   "cell_type": "markdown",
   "source": "### Fine-tune BERT",
   "id": "40f21560176eb624"
  },
  {
   "metadata": {},
   "cell_type": "markdown",
   "source": "![Seq2Seq](./pomocne_soubory/fine_tune_bert_1.png)",
   "id": "ff1e750e3a3ffea3"
  },
  {
   "metadata": {},
   "cell_type": "markdown",
   "source": [
    "Once you have a pre-trained model, you can fine tune it on different tasks. For example, given a hypothesis, you can\n",
    " identify the premise. Given a question, you can find the answer. You can also use it for named entity recognition, \n",
    " paraphrasing sentences, sequence tagging, classification and many more tasks. "
   ],
   "id": "29ff9b0e24106154"
  },
  {
   "metadata": {},
   "cell_type": "markdown",
   "source": "![Seq2Seq](./pomocne_soubory/fine_tune_bert_2.png)",
   "id": "5ac80e9d8ff72b1b"
  },
  {
   "metadata": {},
   "cell_type": "markdown",
   "source": "![Seq2Seq](./pomocne_soubory/fine_tune_bert_3.png)",
   "id": "16b60845fb7cf7f3"
  },
  {
   "metadata": {},
   "cell_type": "markdown",
   "source": "### T5 Transformer",
   "id": "807a0437ce7b9ce8"
  },
  {
   "metadata": {},
   "cell_type": "markdown",
   "source": [
    "T5 je multitask model, ktery se da pouzit pro nekolik ruznych uloh. Napriklad:\n",
    "* Text-to-text\n",
    "* Classification\n",
    "* Q&A\n",
    "* Machine Translation\n",
    "* Summarization\n",
    "* Sentiment"
   ],
   "id": "ebb0ecb4e15cb74"
  },
  {
   "metadata": {},
   "cell_type": "markdown",
   "source": "One of the major techniques that allowed the T5 model to reach state of the art is the concept of masking:",
   "id": "14a392ae532bda4c"
  },
  {
   "metadata": {},
   "cell_type": "markdown",
   "source": "![Seq2Seq](./pomocne_soubory/t5_arch_1.png)",
   "id": "cdc0fd8322f6cf51"
  },
  {
   "metadata": {},
   "cell_type": "markdown",
   "source": [
    "For example, you represent the “for inviting” with <X> and last with <Y> then the model predicts what the X should be\n",
    " and what the Y should be. This is exactly what we saw in the BERT loss. You can also mask out a few positions, not \n",
    " just one. The loss is only on the mask for BERT, for T5 it is on the target.   "
   ],
   "id": "7993e484c5cad91f"
  },
  {
   "metadata": {},
   "cell_type": "markdown",
   "source": "![Seq2Seq](./pomocne_soubory/t5_arch_2.png)",
   "id": "e4d08178b262bacb"
  },
  {
   "metadata": {},
   "cell_type": "markdown",
   "source": [
    "So we start with the basic encoder-decoder representation.  There you have a fully visible attention in the encoder \n",
    "and then causal attention in the decoder.  So light gray lines correspond to causal masking. And dark gray lines \n",
    "correspond to the fully visible masking.   \n",
    "\n",
    "In the middle we have the language model which consists of a single transformer layer stack. And it's being fed the \n",
    "concatenation of the inputs and the target. So it uses causal masking throughout as you can see because they're all \n",
    "gray lines. And you have X1 going inside, you get X2, X2 goes into the model and you get X3 and so forth.   \n",
    "\n",
    "To the right, we have prefix language model which corresponds to allowing fully visible masking over the inputs as \n",
    "you can see with the dark arrows. And then causal masking in the rest. "
   ],
   "id": "81963aa6a1e5fc15"
  },
  {
   "metadata": {},
   "cell_type": "markdown",
   "source": "### Multi-task Training Strategy",
   "id": "883dad653a3156cc"
  },
  {
   "metadata": {},
   "cell_type": "markdown",
   "source": "![Seq2Seq](./pomocne_soubory/t5_train_1.png)",
   "id": "4cabe957e0988b01"
  },
  {
   "metadata": {},
   "cell_type": "markdown",
   "source": [
    "You can see that you only have to add a small prefix to the input and the model as a result will solve the task for \n",
    "you. There are many tasks that the t5 model can do for you. "
   ],
   "id": "b50dbfd35f04f3c2"
  },
  {
   "metadata": {},
   "cell_type": "markdown",
   "source": "![Seq2Seq](./pomocne_soubory/t5_train_2.png)",
   "id": "4904ba4e77b80bca"
  },
  {
   "metadata": {},
   "cell_type": "markdown",
   "source": [
    "It is possible to formulate most NLP tasks in a “text-to-text” format – that is, a task where the model is fed some \n",
    "text for context or conditioning and is then asked to produce some output text. This framework provides a consistent \n",
    "training objective both for pre-training and fine-tuning. Specifically, the model is trained with a maximum \n",
    "likelihood objective (using “teacher forcing” ) regardless of the task.   "
   ],
   "id": "87767ee3eb589cc1"
  },
  {
   "metadata": {},
   "cell_type": "markdown",
   "source": [
    "**Training data strategies**\n",
    "\n",
    "**Examples-proportional mixing**: sample in proportion to the size of each task’s dataset\n",
    "\n",
    "**Temperature scaled mixing**: adjust the “temperature” of the mixing rates. This temperature parameter allows you to \n",
    "weight certain examples more than others. To implement temperature scaling with temperature T, we raise each task’s \n",
    "mixing rate rm to the power of 1⁄T and renormalize the rates so that they sum to 1. When T = 1, this approach is \n",
    "equivalent to examples-proportional mixing and as T increases the proportions become closer to equal mixing   \n",
    "\n",
    "**Equal mixing**: In this case, you sample examples from each task with equal probability. Specifically, each example\n",
    " in \n",
    "each batch is sampled uniformly at random from one of the datasets you train on. \n",
    "\n",
    "**Fine tuning example**"
   ],
   "id": "6c2ce385be6cd3bd"
  },
  {
   "metadata": {},
   "cell_type": "markdown",
   "source": "![Seq2Seq](./pomocne_soubory/t5_train_3.png)",
   "id": "29deb5cbb4e4420b"
  },
  {
   "metadata": {},
   "cell_type": "markdown",
   "source": "![Seq2Seq](./pomocne_soubory/t5_train_4.png)",
   "id": "f181aae18963bd4d"
  },
  {
   "metadata": {},
   "cell_type": "markdown",
   "source": "![Seq2Seq](./pomocne_soubory/t5_train_5.png)",
   "id": "64293fa8cebbf54e"
  },
  {
   "metadata": {},
   "cell_type": "markdown",
   "source": "### LAB: SentencePiece and BPE",
   "id": "e3ff09f79528decc"
  },
  {
   "metadata": {},
   "cell_type": "markdown",
   "source": "#### Introduction to Tokenization",
   "id": "cad492d1746a4ce"
  },
  {
   "metadata": {},
   "cell_type": "markdown",
   "source": [
    "In order to process text in neural network models it is first required to **encode** text as numbers with ids, since \n",
    "the tensor operations act on numbers. Finally, if the output of the network is to be words, it is required to \n",
    "**decode** the predicted tokens ids back to text.  \n",
    "\n",
    "To encode text, the first decision that has to be made is to what level of granularity are we going to consider the \n",
    "text? Because ultimately, from these **tokens**, features are going to be created about them. Many different \n",
    "experiments have been carried out using *words*, *morphological units*, *phonemic units* or *characters* as tokens. \n",
    "For example,    \n",
    "\n",
    "- Tokens are tricky. (raw text)\n",
    "- Tokens are tricky . ([words](https://arxiv.org/pdf/1301.3781))\n",
    "- Token s _ are _ trick _ y . ([morphemes](https://arxiv.org/pdf/1907.02423.pdf))\n",
    "- t oʊ k ə n z _ ɑː _ ˈt r ɪ k i. ([phonemes](https://www.aclweb.org/anthology/W18-5812.pdf), for STT)\n",
    "- T o k e n s _ a r e _ t r i c k y . ([character](https://www.aclweb.org/anthology/C18-1139/))"
   ],
   "id": "a36cd05216892b2"
  },
  {
   "metadata": {},
   "cell_type": "markdown",
   "source": [
    "But how to identify these units, such as words, is largely determined by the language they come from. For example, in\n",
    " many European languages a space is used to separate words, while in some Asian languages there are no spaces between\n",
    "  words. Compare English and Mandarin.  \n",
    "\n",
    "- Tokens are tricky. (original sentence)\n",
    "- 标记很棘手 (Mandarin)\n",
    "- Biāojì hěn jíshǒu (pinyin)\n",
    "- 标记 很 棘手 (Mandarin with spaces)\n",
    "\n",
    "\n",
    "So, the ability to **tokenize**, i.e. split text into meaningful fundamental units, is not always straight-forward.\n",
    "\n",
    "Also, there are practical issues of how large our *vocabulary* of words, `vocab_size`, should be, considering memory \n",
    "limitations vs. coverage. A compromise may be need to be made between:  \n",
    "* the finest-grained models employing characters which can be memory intensive and \n",
    "* more computationally efficient *subword* units such as [n-grams](https://arxiv.org/pdf/1712.09405) or larger units.\n",
    "\n",
    "In [SentencePiece](https://www.aclweb.org/anthology/D18-2012.pdf) unicode characters are grouped together using \n",
    "either a [unigram language model](https://www.aclweb.org/anthology/P18-1007.pdf) (used in this week's assignment) or \n",
    "[BPE](https://arxiv.org/pdf/1508.07909.pdf), **byte-pair encoding**. We will discuss BPE, since BERT and many of its \n",
    "variants use a modified version of BPE and its pseudocode is easy to implement and understand... hopefully!   "
   ],
   "id": "24c4c6ae1a668265"
  },
  {
   "metadata": {},
   "cell_type": "markdown",
   "source": [
    "#### SentencePiece Preprocessing\n",
    "##### NFKC Normalization"
   ],
   "id": "bbf8ac09ac18d597"
  },
  {
   "metadata": {},
   "cell_type": "markdown",
   "source": "Unsurprisingly, even using unicode to initially tokenize text can be ambiguous, e.g., ",
   "id": "23d581e2754a1df"
  },
  {
   "metadata": {
    "ExecuteTime": {
     "end_time": "2024-07-14T10:18:41.074648Z",
     "start_time": "2024-07-14T10:18:41.069927Z"
    }
   },
   "cell_type": "code",
   "source": [
    "eaccent = '\\u00E9'\n",
    "e_accent = '\\u0065\\u0301'\n",
    "print(f'{eaccent} = {e_accent} : {eaccent == e_accent}')"
   ],
   "id": "c0d90f5959516f7",
   "outputs": [
    {
     "name": "stdout",
     "output_type": "stream",
     "text": [
      "é = é : False\n"
     ]
    }
   ],
   "execution_count": 10
  },
  {
   "metadata": {},
   "cell_type": "markdown",
   "source": [
    "SentencePiece uses the Unicode standard normalization form, [NFKC](https://en.wikipedia.org/wiki/Unicode_equivalence)\n",
    ", so this isn't an issue. Looking at the example from above but with normalization: "
   ],
   "id": "46de8c1a76379ca7"
  },
  {
   "metadata": {
    "ExecuteTime": {
     "end_time": "2024-07-14T10:18:41.380856Z",
     "start_time": "2024-07-14T10:18:41.374850Z"
    }
   },
   "cell_type": "code",
   "source": [
    "from unicodedata import normalize\n",
    "\n",
    "norm_eaccent = normalize('NFKC', '\\u00E9')\n",
    "norm_e_accent = normalize('NFKC', '\\u0065\\u0301')\n",
    "print(f'{norm_eaccent} = {norm_e_accent} : {norm_eaccent == norm_e_accent}')"
   ],
   "id": "7950234c65c05a6",
   "outputs": [
    {
     "name": "stdout",
     "output_type": "stream",
     "text": [
      "é = é : True\n"
     ]
    }
   ],
   "execution_count": 11
  },
  {
   "metadata": {},
   "cell_type": "markdown",
   "source": "Normalization has actually changed the unicode code point (unicode unique id) for one of these two characters.",
   "id": "4a3e909bd2795de4"
  },
  {
   "metadata": {
    "ExecuteTime": {
     "end_time": "2024-07-14T10:18:42.083106Z",
     "start_time": "2024-07-14T10:18:42.080366Z"
    }
   },
   "cell_type": "code",
   "source": [
    "def get_hex_encoding(s):\n",
    "    return ' '.join(hex(ord(c)) for c in s)\n",
    "\n",
    "def print_string_and_encoding(s):\n",
    "    print(f'{s} : {get_hex_encoding(s)}') "
   ],
   "id": "4b25f455666eda3",
   "outputs": [],
   "execution_count": 12
  },
  {
   "metadata": {
    "ExecuteTime": {
     "end_time": "2024-07-14T10:18:43.160680Z",
     "start_time": "2024-07-14T10:18:43.158444Z"
    }
   },
   "cell_type": "code",
   "source": [
    "for s in [eaccent, e_accent, norm_eaccent, norm_e_accent]:\n",
    "    print_string_and_encoding(s)"
   ],
   "id": "d5b0d2eb43e70002",
   "outputs": [
    {
     "name": "stdout",
     "output_type": "stream",
     "text": [
      "é : 0xe9\n",
      "é : 0x65 0x301\n",
      "é : 0xe9\n",
      "é : 0xe9\n"
     ]
    }
   ],
   "execution_count": 13
  },
  {
   "metadata": {},
   "cell_type": "markdown",
   "source": [
    "This normalization has other side effects which may be considered useful such as converting curly quotes &ldquo; to \"\n",
    " their ASCII equivalent. (<sup>*</sup>Although we *now* lose directionality of the quote...) "
   ],
   "id": "4b04a4a7cefdb2f9"
  },
  {
   "metadata": {},
   "cell_type": "markdown",
   "source": [
    "##### Lossless Tokenization\n",
    "\n",
    "SentencePiece also ensures that when you tokenize your data and detokenize your data the original position of white \n",
    "space is preserved. However, tabs and newlines are converted to spaces. \n",
    "\n",
    "To ensure this **lossless tokenization**, SentencePiece replaces white space with _ (U+2581). So that a simple join \n",
    "of the tokens by replacing underscores with spaces can restore the white space, even if there are consecutive symbols\n",
    ". But remember first to normalize and then replace spaces with _ (U+2581).  "
   ],
   "id": "d0c5d38c0faf7c6"
  },
  {
   "metadata": {
    "ExecuteTime": {
     "end_time": "2024-07-14T10:18:44.128435Z",
     "start_time": "2024-07-14T10:18:44.126409Z"
    }
   },
   "cell_type": "code",
   "source": [
    "s = 'Tokenization is hard.'\n",
    "sn = normalize('NFKC', s)\n",
    "sn_ = sn.replace(' ', '\\u2581')"
   ],
   "id": "9f093df87d83af52",
   "outputs": [],
   "execution_count": 14
  },
  {
   "metadata": {
    "ExecuteTime": {
     "end_time": "2024-07-14T10:18:44.832619Z",
     "start_time": "2024-07-14T10:18:44.829145Z"
    }
   },
   "cell_type": "code",
   "source": [
    "print(get_hex_encoding(s))\n",
    "print(get_hex_encoding(sn))\n",
    "print(get_hex_encoding(sn_))"
   ],
   "id": "50249f6b47d681",
   "outputs": [
    {
     "name": "stdout",
     "output_type": "stream",
     "text": [
      "0x54 0x6f 0x6b 0x65 0x6e 0x69 0x7a 0x61 0x74 0x69 0x6f 0x6e 0x20 0x69 0x73 0x20 0x68 0x61 0x72 0x64 0x2e\n",
      "0x54 0x6f 0x6b 0x65 0x6e 0x69 0x7a 0x61 0x74 0x69 0x6f 0x6e 0x20 0x69 0x73 0x20 0x68 0x61 0x72 0x64 0x2e\n",
      "0x54 0x6f 0x6b 0x65 0x6e 0x69 0x7a 0x61 0x74 0x69 0x6f 0x6e 0x2581 0x69 0x73 0x2581 0x68 0x61 0x72 0x64 0x2e\n"
     ]
    }
   ],
   "execution_count": 15
  },
  {
   "metadata": {},
   "cell_type": "markdown",
   "source": [
    "#### BPE Algorithm\n",
    "\n",
    "After discussing the preprocessing that SentencePiece performs, you will get the data, preprocess it, and apply the \n",
    "BPE algorithm. You will see how this reproduces the tokenization produced by training SentencePiece on the example \n",
    "dataset (from this week's assignment).  \n",
    "\n",
    "##### Preparing our Data\n",
    "First, you get the Squad data and process it as above."
   ],
   "id": "5b716dc68c4b44b4"
  },
  {
   "metadata": {
    "ExecuteTime": {
     "end_time": "2024-07-14T10:18:45.317100Z",
     "start_time": "2024-07-14T10:18:45.314323Z"
    }
   },
   "cell_type": "code",
   "source": [
    "import ast\n",
    "\n",
    "def convert_json_examples_to_text(filepath):\n",
    "    example_jsons = list(map(ast.literal_eval, open(filepath))) # Read in the json from the example file\n",
    "    texts = [example_json['text'].decode('utf-8') for example_json in example_jsons] # Decode the byte sequences\n",
    "    text = '\\n\\n'.join(texts)       # Separate different articles by two newlines\n",
    "    text = normalize('NFKC', text)  # Normalize the text\n",
    "\n",
    "    with open('example.txt', 'w') as fw:\n",
    "        fw.write(text)\n",
    "    \n",
    "    return text"
   ],
   "id": "1a2f42718312b686",
   "outputs": [],
   "execution_count": 16
  },
  {
   "metadata": {
    "ExecuteTime": {
     "end_time": "2024-07-14T10:18:45.865053Z",
     "start_time": "2024-07-14T10:18:45.860396Z"
    }
   },
   "cell_type": "code",
   "source": [
    "text = convert_json_examples_to_text('./pomocne_soubory/bpe/data.txt')\n",
    "print(text[:900])"
   ],
   "id": "18a792f28ab92ce1",
   "outputs": [
    {
     "name": "stdout",
     "output_type": "stream",
     "text": [
      "Beginners BBQ Class Taking Place in Missoula!\n",
      "Do you want to get better at making delicious BBQ? You will have the opportunity, put this on your calendar now. Thursday, September 22nd join World Class BBQ Champion, Tony Balay from Lonestar Smoke Rangers. He will be teaching a beginner level class for everyone who wants to get better with their culinary skills.\n",
      "He will teach you everything you need to know to compete in a KCBS BBQ competition, including techniques, recipes, timelines, meat selection and trimming, plus smoker and fire information.\n",
      "The cost to be in the class is $35 per person, and for spectators it is free. Included in the cost will be either a t-shirt or apron and you will be tasting samples of each meat that is prepared.\n",
      "\n",
      "Discussion in 'Mac OS X Lion (10.7)' started by axboi87, Jan 20, 2012.\n",
      "I've got a 500gb internal drive and a 240gb SSD.\n",
      "When trying to restore using di\n"
     ]
    }
   ],
   "execution_count": 17
  },
  {
   "metadata": {},
   "cell_type": "markdown",
   "source": [
    "In the algorithm the `vocab` variable is actually a frequency dictionary of the words. Those words have been \n",
    "prepended with an *underscore* to indicate that they are the beginning of a word. Finally, the characters have been \n",
    "delimited by spaces so that the BPE algorithm can group the most common characters together in the dictionary in a \n",
    "greedy fashion. You will see how that is done shortly.   "
   ],
   "id": "ce1d4d2db3feb8c6"
  },
  {
   "metadata": {
    "ExecuteTime": {
     "end_time": "2024-07-14T10:18:46.001282Z",
     "start_time": "2024-07-14T10:18:45.998469Z"
    }
   },
   "cell_type": "code",
   "source": [
    "from collections import Counter\n",
    "\n",
    "vocab = Counter(['\\u2581' + word for word in text.split()])\n",
    "vocab = {' '.join([l for l in word]): freq for word, freq in vocab.items()}"
   ],
   "id": "4e0cd68984ee57c9",
   "outputs": [],
   "execution_count": 18
  },
  {
   "metadata": {
    "ExecuteTime": {
     "end_time": "2024-07-14T10:18:46.395589Z",
     "start_time": "2024-07-14T10:18:46.392629Z"
    }
   },
   "cell_type": "code",
   "source": [
    "def show_vocab(vocab, end='\\n', limit=20):\n",
    "    \"\"\"Show word frequencys in vocab up to the limit number of words\"\"\"\n",
    "    shown = 0\n",
    "    for word, freq in vocab.items():\n",
    "        print(f'{word}: {freq}', end=end)\n",
    "        shown +=1\n",
    "        if shown > limit:\n",
    "            break"
   ],
   "id": "ee8e8225ed0622af",
   "outputs": [],
   "execution_count": 19
  },
  {
   "metadata": {
    "ExecuteTime": {
     "end_time": "2024-07-14T10:18:47.053110Z",
     "start_time": "2024-07-14T10:18:47.050770Z"
    }
   },
   "cell_type": "code",
   "source": "show_vocab(vocab)",
   "id": "e47ab0e91d254d0",
   "outputs": [
    {
     "name": "stdout",
     "output_type": "stream",
     "text": [
      "▁ B e g i n n e r s: 1\n",
      "▁ B B Q: 3\n",
      "▁ C l a s s: 2\n",
      "▁ T a k i n g: 1\n",
      "▁ P l a c e: 1\n",
      "▁ i n: 15\n",
      "▁ M i s s o u l a !: 1\n",
      "▁ D o: 1\n",
      "▁ y o u: 13\n",
      "▁ w a n t: 1\n",
      "▁ t o: 33\n",
      "▁ g e t: 2\n",
      "▁ b e t t e r: 2\n",
      "▁ a t: 1\n",
      "▁ m a k i n g: 2\n",
      "▁ d e l i c i o u s: 1\n",
      "▁ B B Q ?: 1\n",
      "▁ Y o u: 1\n",
      "▁ w i l l: 6\n",
      "▁ h a v e: 4\n",
      "▁ t h e: 31\n"
     ]
    }
   ],
   "execution_count": 20
  },
  {
   "metadata": {},
   "cell_type": "markdown",
   "source": [
    "You check the size of the vocabulary (frequency dictionary) because this is the one hyperparameter that BPE depends \n",
    "on crucially on how far it breaks up a word into SentencePieces. It turns out that for your trained model on the \n",
    "small dataset that 60% of 455 merges of the most frequent characters need to be done to reproduce the upperlimit of a\n",
    " 32K `vocab_size` over the entire corpus of examples.   "
   ],
   "id": "94e8960767e41d3a"
  },
  {
   "metadata": {
    "ExecuteTime": {
     "end_time": "2024-07-14T10:18:47.298725Z",
     "start_time": "2024-07-14T10:18:47.291208Z"
    }
   },
   "cell_type": "code",
   "source": [
    "print(f'Total number of unique words: {len(vocab)}')\n",
    "print(f'Number of merges required to reproduce SentencePiece training on the whole corpus: {int(0.60*len(vocab))}')"
   ],
   "id": "7a79ac35a57f208a",
   "outputs": [
    {
     "name": "stdout",
     "output_type": "stream",
     "text": [
      "Total number of unique words: 455\n",
      "Number of merges required to reproduce SentencePiece training on the whole corpus: 273\n"
     ]
    }
   ],
   "execution_count": 21
  },
  {
   "metadata": {},
   "cell_type": "markdown",
   "source": [
    "##### BPE Algorithm\n",
    "Directly from the BPE paper you have the following algorithm. "
   ],
   "id": "5a3ba030ed1a5c48"
  },
  {
   "metadata": {
    "ExecuteTime": {
     "end_time": "2024-07-14T10:18:48.715317Z",
     "start_time": "2024-07-14T10:18:48.710492Z"
    }
   },
   "cell_type": "code",
   "source": [
    "import re, collections\n",
    "\n",
    "def get_stats(vocab):\n",
    "    pairs = collections.defaultdict(int)\n",
    "    for word, freq in vocab.items():\n",
    "        symbols = word.split()\n",
    "        for i in range(len(symbols) - 1):\n",
    "            pairs[symbols[i], symbols[i+1]] += freq\n",
    "    return pairs\n",
    "\n",
    "def merge_vocab(pair, v_in):\n",
    "    v_out = {}\n",
    "    bigram = re.escape(' '.join(pair))\n",
    "    p = re.compile(r'(?<!\\S)' + bigram + r'(?!\\S)')\n",
    "    for word in v_in:\n",
    "        w_out = p.sub(''.join(pair), word)\n",
    "        v_out[w_out] = v_in[word]\n",
    "    return v_out\n",
    "\n",
    "def get_sentence_piece_vocab(vocab, frac_merges=0.60):\n",
    "    sp_vocab = vocab.copy()\n",
    "    num_merges = int(len(sp_vocab)*frac_merges)\n",
    "    \n",
    "    for i in range(num_merges):\n",
    "        pairs = get_stats(sp_vocab)\n",
    "        best = max(pairs, key=pairs.get)\n",
    "        sp_vocab = merge_vocab(best, sp_vocab)\n",
    "\n",
    "    return sp_vocab"
   ],
   "id": "dac63fff773d3dfd",
   "outputs": [],
   "execution_count": 22
  },
  {
   "metadata": {},
   "cell_type": "markdown",
   "source": [
    "To understand what's going on first take a look at the third function `get_sentence_piece_vocab`. It takes in the \n",
    "current `vocab` word-frequency dictionary and the fraction, `frac_merges`, of the total `vocab_size` to merge \n",
    "characters in the words of the dictionary, `num_merges` times. Then for each *merge* operation it `get_stats` on how \n",
    "many of each pair of character sequences there are. It gets the most frequent *pair* of symbols as the `best` pair. \n",
    "Then it merges that pair of symbols (removes the space between them) in each word in the `vocab` that contains this \n",
    "`best` (= `pair`). Consequently, `merge_vocab` creates a new `vocab`, `v_out`. This process is repeated `num_merges` \n",
    "times and the result is the set of SentencePieces (keys of the final `sp_vocab`).      "
   ],
   "id": "b9ca271300ca92cb"
  },
  {
   "metadata": {},
   "cell_type": "markdown",
   "source": [
    "##### Additional Discussion of BPE Algorithm\n",
    "\n",
    "Please feel free to skip the below if the above description was enough.\n",
    "\n",
    "In a little more detail you can see in `get_stats` you initially create a list of bigram (two character sequence) \n",
    "frequencies from the vocabulary. Later, this may include trigrams, quadgrams, etc. Note that the key of the `pairs` \n",
    "frequency dictionary is actually a 2-tuple, which is just shorthand notation for a pair.  \n",
    "\n",
    "In `merge_vocab` you take in an individual `pair` (of character sequences, note this is the most frequency `best` \n",
    "pair) and the current `vocab` as `v_in`. You create a new `vocab`, `v_out`, from the old by joining together the \n",
    "characters in the pair (removing the space), if they are present in a word of the dictionary.  \n",
    "\n",
    "[Warning](https://regex101.com/): the expression `(?<!\\S)` means that either a whitespace character follows before \n",
    "the `bigram` or there is nothing before the bigram (it is the beginning of the word), similarly for `(?!\\S)` for \n",
    "preceding whitespace or the end of the word.   "
   ],
   "id": "3e8c2b9c95c35f"
  },
  {
   "metadata": {
    "ExecuteTime": {
     "end_time": "2024-07-14T10:18:50.867293Z",
     "start_time": "2024-07-14T10:18:50.677191Z"
    }
   },
   "cell_type": "code",
   "source": [
    "sp_vocab = get_sentence_piece_vocab(vocab)\n",
    "show_vocab(sp_vocab) "
   ],
   "id": "6d951de972fe5ba4",
   "outputs": [
    {
     "name": "stdout",
     "output_type": "stream",
     "text": [
      "▁B e g in n ers: 1\n",
      "▁BBQ: 3\n",
      "▁Cl ass: 2\n",
      "▁T ak ing: 1\n",
      "▁P la ce: 1\n",
      "▁in: 15\n",
      "▁M is s ou la !: 1\n",
      "▁D o: 1\n",
      "▁you: 13\n",
      "▁w an t: 1\n",
      "▁to: 33\n",
      "▁g et: 2\n",
      "▁be t ter: 2\n",
      "▁a t: 1\n",
      "▁mak ing: 2\n",
      "▁d e l ic i ou s: 1\n",
      "▁BBQ ?: 1\n",
      "▁ Y ou: 1\n",
      "▁will: 6\n",
      "▁have: 4\n",
      "▁the: 31\n"
     ]
    }
   ],
   "execution_count": 23
  },
  {
   "metadata": {},
   "cell_type": "markdown",
   "source": [
    "#### Train SentencePiece BPE Tokenizer on Example Data\n",
    "##### Explore SentencePiece Model\n",
    "First, explore the SentencePiece model provided with this week's assignment. Remember you can always use Python's \n",
    "built in `help` command to see the documentation for any object or method. "
   ],
   "id": "e2353d2212bca81c"
  },
  {
   "metadata": {
    "ExecuteTime": {
     "end_time": "2024-07-14T10:18:51.791214Z",
     "start_time": "2024-07-14T10:18:51.762189Z"
    }
   },
   "cell_type": "code",
   "source": [
    "import sentencepiece as spm\n",
    "sp = spm.SentencePieceProcessor(model_file='./pomocne_soubory/bpe/sentencepiece.model')"
   ],
   "id": "4b85743b069ad077",
   "outputs": [],
   "execution_count": 24
  },
  {
   "metadata": {
    "ExecuteTime": {
     "end_time": "2024-07-14T10:18:52.248996Z",
     "start_time": "2024-07-14T10:18:52.232487Z"
    }
   },
   "cell_type": "code",
   "source": "help(sp)",
   "id": "4c258047c6e9d60e",
   "outputs": [
    {
     "name": "stdout",
     "output_type": "stream",
     "text": [
      "Help on SentencePieceProcessor in module sentencepiece object:\n",
      "\n",
      "class SentencePieceProcessor(builtins.object)\n",
      " |  SentencePieceProcessor(model_file=None, model_proto=None, out_type=<class 'int'>, add_bos=False, add_eos=False, reverse=False, emit_unk_piece=False, enable_sampling=False, nbest_size=-1, alpha=0.1, num_threads=-1)\n",
      " |  \n",
      " |  Methods defined here:\n",
      " |  \n",
      " |  CalculateEntropy(self, input, alpha, num_threads=None)\n",
      " |      Calculate sentence entropy\n",
      " |  \n",
      " |  Decode(self, input, out_type=<class 'str'>, num_threads=None)\n",
      " |      Decode processed id or token sequences.\n",
      " |      \n",
      " |      Args:\n",
      " |        out_type: output type. str, bytes or 'serialized_proto' or 'immutable_proto' (Default = str)\n",
      " |        num_threads: the number of threads used in the batch processing (Default = -1).\n",
      " |  \n",
      " |  DecodeIds(self, input, out_type=<class 'str'>, **kwargs)\n",
      " |  \n",
      " |  DecodeIdsAsImmutableProto(self, input, out_type='immutable_proto', **kwargs)\n",
      " |  \n",
      " |  DecodeIdsAsSerializedProto(self, input, out_type='serialized_proto', **kwargs)\n",
      " |  \n",
      " |  DecodePieces(self, input, out_type=<class 'str'>, **kwargs)\n",
      " |  \n",
      " |  DecodePiecesAsImmutableProto(self, input, out_type='immutable_proto', **kwargs)\n",
      " |  \n",
      " |  DecodePiecesAsSerializedProto(self, input, out_type='serialized_proto', **kwargs)\n",
      " |  \n",
      " |  Detokenize = Decode(self, input, out_type=<class 'str'>, num_threads=None)\n",
      " |  \n",
      " |  Encode(self, input, out_type=None, add_bos=None, add_eos=None, reverse=None, emit_unk_piece=None, enable_sampling=None, nbest_size=None, alpha=None, num_threads=None)\n",
      " |      Encode text input to segmented ids or tokens.\n",
      " |      \n",
      " |      Args:\n",
      " |      input: input string. accepsts list of string.\n",
      " |      out_type: output type. int or str.\n",
      " |      add_bos: Add <s> to the result (Default = false)\n",
      " |      add_eos: Add </s> to the result (Default = false) <s>/</s> is added after\n",
      " |               reversing (if enabled).\n",
      " |      reverse: Reverses the tokenized sequence (Default = false)\n",
      " |      emit_unk_piece: Emits the unk literal string (Default = false)\n",
      " |      nbest_size: sampling parameters for unigram. Invalid in BPE-Dropout.\n",
      " |                  nbest_size = {0,1}: No sampling is performed.\n",
      " |                  nbest_size > 1: samples from the nbest_size results.\n",
      " |                  nbest_size < 0: assuming that nbest_size is infinite and samples\n",
      " |                  from the all hypothesis (lattice) using\n",
      " |                  forward-filtering-and-backward-sampling algorithm.\n",
      " |      alpha: Soothing parameter for unigram sampling, and merge probability for\n",
      " |             BPE-dropout (probablity 'p' in BPE-dropout paper).\n",
      " |      num_threads: the number of threads used in the batch processing (Default = -1).\n",
      " |  \n",
      " |  EncodeAsIds(self, input, **kwargs)\n",
      " |  \n",
      " |  EncodeAsImmutableProto(self, input, **kwargs)\n",
      " |  \n",
      " |  EncodeAsPieces(self, input, **kwargs)\n",
      " |  \n",
      " |  EncodeAsSerializedProto(self, input, **kwargs)\n",
      " |  \n",
      " |  GetPieceSize(self)\n",
      " |  \n",
      " |  GetScore = _batched_func(self, arg)\n",
      " |  \n",
      " |  IdToPiece = _batched_func(self, arg)\n",
      " |  \n",
      " |  Init(self, model_file=None, model_proto=None, out_type=<class 'int'>, add_bos=False, add_eos=False, reverse=False, emit_unk_piece=False, enable_sampling=False, nbest_size=-1, alpha=0.1, num_threads=-1)\n",
      " |      Initialzie sentencepieceProcessor.\n",
      " |      \n",
      " |      Args:\n",
      " |        model_file: The sentencepiece model file path.\n",
      " |        model_proto: The sentencepiece model serialized proto.\n",
      " |        out_type: output type. int or str.\n",
      " |        add_bos: Add <s> to the result (Default = false)\n",
      " |        add_eos: Add </s> to the result (Default = false) <s>/</s> is added after\n",
      " |          reversing (if enabled).\n",
      " |        reverse: Reverses the tokenized sequence (Default = false)\n",
      " |        emit_unk_piece: Emits the unk literal string (Default = false)\n",
      " |        nbest_size: sampling parameters for unigram. Invalid in BPE-Dropout.\n",
      " |                    nbest_size = {0,1}: No sampling is performed.\n",
      " |                    nbest_size > 1: samples from the nbest_size results.\n",
      " |                    nbest_size < 0: assuming that nbest_size is infinite and samples\n",
      " |                      from the all hypothesis (lattice) using\n",
      " |                      forward-filtering-and-backward-sampling algorithm.\n",
      " |        alpha: Soothing parameter for unigram sampling, and dropout probability of\n",
      " |               merge operations for BPE-dropout.\n",
      " |        num_threads: number of threads in batch processing (Default = -1, auto-detected)\n",
      " |  \n",
      " |  IsByte = _batched_func(self, arg)\n",
      " |  \n",
      " |  IsControl = _batched_func(self, arg)\n",
      " |  \n",
      " |  IsUnknown = _batched_func(self, arg)\n",
      " |  \n",
      " |  IsUnused = _batched_func(self, arg)\n",
      " |  \n",
      " |  Load(self, model_file=None, model_proto=None)\n",
      " |      Overwride SentencePieceProcessor.Load to support both model_file and model_proto.\n",
      " |      \n",
      " |      Args:\n",
      " |        model_file: The sentencepiece model file path.\n",
      " |        model_proto: The sentencepiece model serialized proto. Either `model_file`\n",
      " |          or `model_proto` must be set.\n",
      " |  \n",
      " |  LoadFromFile(self, arg)\n",
      " |  \n",
      " |  LoadFromSerializedProto(self, serialized)\n",
      " |  \n",
      " |  LoadVocabulary(self, filename, threshold)\n",
      " |  \n",
      " |  NBestEncode(self, input, out_type=None, add_bos=None, add_eos=None, reverse=None, emit_unk_piece=None, nbest_size=None)\n",
      " |      NBestEncode text input to segmented ids or tokens.\n",
      " |      \n",
      " |      Args:\n",
      " |      input: input string. accepsts list of string.\n",
      " |      out_type: output type. int or str.\n",
      " |      add_bos: Add <s> to the result (Default = false)\n",
      " |      add_eos: Add </s> to the result (Default = false) <s>/</s> is added after reversing (if enabled).\n",
      " |      reverse: Reverses the tokenized sequence (Default = false)\n",
      " |      emit_unk_piece: Emits the unk literal string (Default = false)\n",
      " |      nbest_size: nbest size\n",
      " |  \n",
      " |  NBestEncodeAsIds(self, input, nbest_size=None, **kwargs)\n",
      " |  \n",
      " |  NBestEncodeAsImmutableProto(self, input, nbest_size=None, **kwargs)\n",
      " |  \n",
      " |  NBestEncodeAsPieces(self, input, nbest_size=None, **kwargs)\n",
      " |  \n",
      " |  NBestEncodeAsSerializedProto(self, input, nbest_size=None, **kwargs)\n",
      " |  \n",
      " |  Normalize(self, input, with_offsets=None)\n",
      " |  \n",
      " |  OverrideNormalizerSpec(self, **kwargs)\n",
      " |  \n",
      " |  PieceToId = _batched_func(self, arg)\n",
      " |  \n",
      " |  ResetVocabulary(self)\n",
      " |  \n",
      " |  SampleEncodeAndScore(self, input, out_type=None, add_bos=None, add_eos=None, reverse=None, emit_unk_piece=None, num_samples=None, alpha=None, wor=None, include_best=None)\n",
      " |      SampleEncodeAndScore text input to segmented ids or tokens.\n",
      " |      \n",
      " |      Args:\n",
      " |      input: input string. accepsts list of string.\n",
      " |      out_type: output type. int or str or 'serialized_proto' or 'immutable_proto'\n",
      " |      add_bos: Add <s> to the result (Default = false)\n",
      " |      add_eos: Add </s> to the result (Default = false) <s>/</s> is added after reversing (if enabled).\n",
      " |      reverse: Reverses the tokenized sequence (Default = false)\n",
      " |      emit_unk_piece: Emits the unk literal string (Default = false)\n",
      " |      num_samples: How many samples to return (Default = 1)\n",
      " |      alpha: inverse temperature for sampling\n",
      " |      wor: whether to sample without replacement (Default = false)\n",
      " |      include_best: whether to include the best tokenization, requires wor=True (Default = false)\n",
      " |  \n",
      " |  SampleEncodeAndScoreAsIds(self, input, num_samples=None, alpha=None, **kwargs)\n",
      " |  \n",
      " |  SampleEncodeAndScoreAsImmutableProto(self, input, num_samples=None, alpha=None, **kwargs)\n",
      " |  \n",
      " |  SampleEncodeAndScoreAsPieces(self, input, num_samples=None, alpha=None, **kwargs)\n",
      " |  \n",
      " |  SampleEncodeAndScoreAsSerializedProto(self, input, num_samples=None, alpha=None, **kwargs)\n",
      " |  \n",
      " |  SampleEncodeAsIds(self, input, nbest_size=None, alpha=None, **kwargs)\n",
      " |  \n",
      " |  SampleEncodeAsImmutableProto(self, input, nbest_size=None, alpha=None, **kwargs)\n",
      " |  \n",
      " |  SampleEncodeAsPieces(self, input, nbest_size=None, alpha=None, **kwargs)\n",
      " |  \n",
      " |  SampleEncodeAsSerializedProto(self, input, nbest_size=None, alpha=None, **kwargs)\n",
      " |  \n",
      " |  SetDecodeExtraOptions(self, extra_option)\n",
      " |  \n",
      " |  SetEncodeExtraOptions(self, extra_option)\n",
      " |  \n",
      " |  SetVocabulary(self, valid_vocab)\n",
      " |  \n",
      " |  Tokenize = Encode(self, input, out_type=None, add_bos=None, add_eos=None, reverse=None, emit_unk_piece=None, enable_sampling=None, nbest_size=None, alpha=None, num_threads=None)\n",
      " |  \n",
      " |  __getitem__(self, piece)\n",
      " |  \n",
      " |  __getstate__(self)\n",
      " |  \n",
      " |  __init__ = Init(self, model_file=None, model_proto=None, out_type=<class 'int'>, add_bos=False, add_eos=False, reverse=False, emit_unk_piece=False, enable_sampling=False, nbest_size=-1, alpha=0.1, num_threads=-1)\n",
      " |  \n",
      " |  __len__(self)\n",
      " |  \n",
      " |  __repr__ = _swig_repr(self)\n",
      " |  \n",
      " |  __setstate__(self, serialized_model_proto)\n",
      " |  \n",
      " |  bos_id(self)\n",
      " |  \n",
      " |  calculate_entropy = CalculateEntropy(self, input, alpha, num_threads=None)\n",
      " |  \n",
      " |  decode = Decode(self, input, out_type=<class 'str'>, num_threads=None)\n",
      " |  \n",
      " |  decode_ids = DecodeIds(self, input, out_type=<class 'str'>, **kwargs)\n",
      " |  \n",
      " |  decode_ids_as_immutable_proto = DecodeIdsAsImmutableProto(self, input, out_type='immutable_proto', **kwargs)\n",
      " |  \n",
      " |  decode_ids_as_serialized_proto = DecodeIdsAsSerializedProto(self, input, out_type='serialized_proto', **kwargs)\n",
      " |  \n",
      " |  decode_pieces = DecodePieces(self, input, out_type=<class 'str'>, **kwargs)\n",
      " |  \n",
      " |  decode_pieces_as_immutable_proto = DecodePiecesAsImmutableProto(self, input, out_type='immutable_proto', **kwargs)\n",
      " |  \n",
      " |  decode_pieces_as_serialized_proto = DecodePiecesAsSerializedProto(self, input, out_type='serialized_proto', **kwargs)\n",
      " |  \n",
      " |  detokenize = Decode(self, input, out_type=<class 'str'>, num_threads=None)\n",
      " |  \n",
      " |  encode = Encode(self, input, out_type=None, add_bos=None, add_eos=None, reverse=None, emit_unk_piece=None, enable_sampling=None, nbest_size=None, alpha=None, num_threads=None)\n",
      " |  \n",
      " |  encode_as_ids = EncodeAsIds(self, input, **kwargs)\n",
      " |  \n",
      " |  encode_as_immutable_proto = EncodeAsImmutableProto(self, input, **kwargs)\n",
      " |  \n",
      " |  encode_as_pieces = EncodeAsPieces(self, input, **kwargs)\n",
      " |  \n",
      " |  encode_as_serialized_proto = EncodeAsSerializedProto(self, input, **kwargs)\n",
      " |  \n",
      " |  eos_id(self)\n",
      " |  \n",
      " |  get_piece_size = GetPieceSize(self)\n",
      " |  \n",
      " |  get_score = _batched_func(self, arg)\n",
      " |  \n",
      " |  id_to_piece = _batched_func(self, arg)\n",
      " |  \n",
      " |  init = Init(self, model_file=None, model_proto=None, out_type=<class 'int'>, add_bos=False, add_eos=False, reverse=False, emit_unk_piece=False, enable_sampling=False, nbest_size=-1, alpha=0.1, num_threads=-1)\n",
      " |  \n",
      " |  is_byte = _batched_func(self, arg)\n",
      " |  \n",
      " |  is_control = _batched_func(self, arg)\n",
      " |  \n",
      " |  is_unknown = _batched_func(self, arg)\n",
      " |  \n",
      " |  is_unused = _batched_func(self, arg)\n",
      " |  \n",
      " |  load = Load(self, model_file=None, model_proto=None)\n",
      " |  \n",
      " |  load_from_file = LoadFromFile(self, arg)\n",
      " |  \n",
      " |  load_from_serialized_proto = LoadFromSerializedProto(self, serialized)\n",
      " |  \n",
      " |  load_vocabulary = LoadVocabulary(self, filename, threshold)\n",
      " |  \n",
      " |  nbest_encode = NBestEncode(self, input, out_type=None, add_bos=None, add_eos=None, reverse=None, emit_unk_piece=None, nbest_size=None)\n",
      " |  \n",
      " |  nbest_encode_as_ids = NBestEncodeAsIds(self, input, nbest_size=None, **kwargs)\n",
      " |  \n",
      " |  nbest_encode_as_immutable_proto = NBestEncodeAsImmutableProto(self, input, nbest_size=None, **kwargs)\n",
      " |  \n",
      " |  nbest_encode_as_pieces = NBestEncodeAsPieces(self, input, nbest_size=None, **kwargs)\n",
      " |  \n",
      " |  nbest_encode_as_serialized_proto = NBestEncodeAsSerializedProto(self, input, nbest_size=None, **kwargs)\n",
      " |  \n",
      " |  normalize = Normalize(self, input, with_offsets=None)\n",
      " |  \n",
      " |  override_normalizer_spec = OverrideNormalizerSpec(self, **kwargs)\n",
      " |  \n",
      " |  pad_id(self)\n",
      " |  \n",
      " |  piece_size(self)\n",
      " |  \n",
      " |  piece_to_id = _batched_func(self, arg)\n",
      " |  \n",
      " |  reset_vocabulary = ResetVocabulary(self)\n",
      " |  \n",
      " |  sample_encode_and_score = SampleEncodeAndScore(self, input, out_type=None, add_bos=None, add_eos=None, reverse=None, emit_unk_piece=None, num_samples=None, alpha=None, wor=None, include_best=None)\n",
      " |  \n",
      " |  sample_encode_and_score_as_ids = SampleEncodeAndScoreAsIds(self, input, num_samples=None, alpha=None, **kwargs)\n",
      " |  \n",
      " |  sample_encode_and_score_as_immutable_proto = SampleEncodeAndScoreAsImmutableProto(self, input, num_samples=None, alpha=None, **kwargs)\n",
      " |  \n",
      " |  sample_encode_and_score_as_pieces = SampleEncodeAndScoreAsPieces(self, input, num_samples=None, alpha=None, **kwargs)\n",
      " |  \n",
      " |  sample_encode_and_score_as_serialized_proto = SampleEncodeAndScoreAsSerializedProto(self, input, num_samples=None, alpha=None, **kwargs)\n",
      " |  \n",
      " |  sample_encode_as_ids = SampleEncodeAsIds(self, input, nbest_size=None, alpha=None, **kwargs)\n",
      " |  \n",
      " |  sample_encode_as_immutable_proto = SampleEncodeAsImmutableProto(self, input, nbest_size=None, alpha=None, **kwargs)\n",
      " |  \n",
      " |  sample_encode_as_pieces = SampleEncodeAsPieces(self, input, nbest_size=None, alpha=None, **kwargs)\n",
      " |  \n",
      " |  sample_encode_as_serialized_proto = SampleEncodeAsSerializedProto(self, input, nbest_size=None, alpha=None, **kwargs)\n",
      " |  \n",
      " |  serialized_model_proto(self)\n",
      " |  \n",
      " |  set_decode_extra_options = SetDecodeExtraOptions(self, extra_option)\n",
      " |  \n",
      " |  set_encode_extra_options = SetEncodeExtraOptions(self, extra_option)\n",
      " |  \n",
      " |  set_vocabulary = SetVocabulary(self, valid_vocab)\n",
      " |  \n",
      " |  tokenize = Encode(self, input, out_type=None, add_bos=None, add_eos=None, reverse=None, emit_unk_piece=None, enable_sampling=None, nbest_size=None, alpha=None, num_threads=None)\n",
      " |  \n",
      " |  unk_id(self)\n",
      " |  \n",
      " |  vocab_size(self)\n",
      " |  \n",
      " |  ----------------------------------------------------------------------\n",
      " |  Static methods defined here:\n",
      " |  \n",
      " |  __swig_destroy__ = delete_SentencePieceProcessor(...)\n",
      " |  \n",
      " |  ----------------------------------------------------------------------\n",
      " |  Data descriptors defined here:\n",
      " |  \n",
      " |  __dict__\n",
      " |      dictionary for instance variables (if defined)\n",
      " |  \n",
      " |  __weakref__\n",
      " |      list of weak references to the object (if defined)\n",
      " |  \n",
      " |  thisown\n",
      " |      The membership flag\n",
      "\n"
     ]
    }
   ],
   "execution_count": 25
  },
  {
   "metadata": {},
   "cell_type": "markdown",
   "source": "Try it out on the first sentence of the example text.",
   "id": "641324c944c7752d"
  },
  {
   "metadata": {
    "ExecuteTime": {
     "end_time": "2024-07-14T10:18:53.725561Z",
     "start_time": "2024-07-14T10:18:53.723594Z"
    }
   },
   "cell_type": "code",
   "source": "s0 = 'Beginners BBQ Class Taking Place in Missoula!'",
   "id": "d5f024b687d90015",
   "outputs": [],
   "execution_count": 26
  },
  {
   "metadata": {
    "ExecuteTime": {
     "end_time": "2024-07-14T10:18:54.065222Z",
     "start_time": "2024-07-14T10:18:54.062565Z"
    }
   },
   "cell_type": "code",
   "source": [
    "# encode: text => id\n",
    "print(sp.encode_as_pieces(s0))\n",
    "print(sp.encode_as_ids(s0))\n",
    "\n",
    "# decode: id => text\n",
    "print(sp.decode_pieces(sp.encode_as_pieces(s0)))\n",
    "print(sp.decode_ids([12847, 277]))"
   ],
   "id": "5c7449c769c6e52f",
   "outputs": [
    {
     "name": "stdout",
     "output_type": "stream",
     "text": [
      "['▁Beginn', 'ers', '▁BBQ', '▁Class', '▁', 'Taking', '▁Place', '▁in', '▁Miss', 'oul', 'a', '!']\n",
      "[12847, 277, 15068, 4501, 3, 12297, 3399, 16, 5964, 7115, 9, 55]\n",
      "Beginners BBQ Class Taking Place in Missoula!\n",
      "Beginners\n"
     ]
    }
   ],
   "execution_count": 27
  },
  {
   "metadata": {},
   "cell_type": "markdown",
   "source": [
    "Notice how SentencePiece breaks the words into seemingly odd parts, but you have seen something similar with BPE. But\n",
    " how close was the model trained on the whole corpus of examples with a `vocab_size` of 32,000 instead of 455? Here \n",
    " you can also test what happens to white space, like '\\n'.   \n",
    "\n",
    "But first note that SentencePiece encodes the SentencePieces, the tokens, and has reserved some of the ids as can be \n",
    "seen in this week's assignment. "
   ],
   "id": "27d58e2088123363"
  },
  {
   "metadata": {
    "ExecuteTime": {
     "end_time": "2024-07-14T10:18:55.385397Z",
     "start_time": "2024-07-14T10:18:55.382854Z"
    }
   },
   "cell_type": "code",
   "source": [
    "uid = 15068\n",
    "spiece = \"\\u2581BBQ\"\n",
    "unknown = \"__MUST_BE_UNKNOWN__\"\n",
    "\n",
    "# id <=> piece conversion\n",
    "print(f'SentencePiece for ID {uid}: {sp.id_to_piece(uid)}')\n",
    "print(f'ID for Sentence Piece {spiece}: {sp.piece_to_id(spiece)}')\n",
    "\n",
    "# returns 0 for unknown tokens (we can change the id for UNK)\n",
    "print(f'ID for unknown text {unknown}: {sp.piece_to_id(unknown)}')"
   ],
   "id": "2a5c01c6ee9b9681",
   "outputs": [
    {
     "name": "stdout",
     "output_type": "stream",
     "text": [
      "SentencePiece for ID 15068: ▁BBQ\n",
      "ID for Sentence Piece ▁BBQ: 15068\n",
      "ID for unknown text __MUST_BE_UNKNOWN__: 2\n"
     ]
    }
   ],
   "execution_count": 28
  },
  {
   "metadata": {
    "ExecuteTime": {
     "end_time": "2024-07-14T10:18:56.079060Z",
     "start_time": "2024-07-14T10:18:56.076808Z"
    }
   },
   "cell_type": "code",
   "source": [
    "print(f'Beginning of sentence id: {sp.bos_id()}')\n",
    "print(f'Pad id: {sp.pad_id()}')\n",
    "print(f'End of sentence id: {sp.eos_id()}')\n",
    "print(f'Unknown id: {sp.unk_id()}')\n",
    "print(f'Vocab size: {sp.vocab_size()}')"
   ],
   "id": "d94d8d3b9af77740",
   "outputs": [
    {
     "name": "stdout",
     "output_type": "stream",
     "text": [
      "Beginning of sentence id: -1\n",
      "Pad id: 0\n",
      "End of sentence id: 1\n",
      "Unknown id: 2\n",
      "Vocab size: 32000\n"
     ]
    }
   ],
   "execution_count": 29
  },
  {
   "metadata": {},
   "cell_type": "markdown",
   "source": "You can also check what are the ids for the first part and last part of the vocabulary.",
   "id": "4bf830eda1fd050a"
  },
  {
   "metadata": {
    "ExecuteTime": {
     "end_time": "2024-07-14T10:18:57.684389Z",
     "start_time": "2024-07-14T10:18:57.680985Z"
    }
   },
   "cell_type": "code",
   "source": [
    "print('\\nId\\tSentP\\tControl?')\n",
    "print('------------------------')\n",
    "# <unk>, <s>, </s> are defined by default. Their ids are (0, 1, 2)\n",
    "# <s> and </s> are defined as 'control' symbol.\n",
    "for uid in range(10):\n",
    "    print(uid, sp.id_to_piece(uid), sp.is_control(uid), sep='\\t')\n",
    "    \n",
    "# for uid in range(sp.vocab_size()-10,sp.vocab_size()):\n",
    "#     print(uid, sp.id_to_piece(uid), sp.is_control(uid), sep='\\t')"
   ],
   "id": "735b01e8642c23f8",
   "outputs": [
    {
     "name": "stdout",
     "output_type": "stream",
     "text": [
      "\n",
      "Id\tSentP\tControl?\n",
      "------------------------\n",
      "0\t<pad>\tTrue\n",
      "1\t</s>\tTrue\n",
      "2\t<unk>\tFalse\n",
      "3\t▁\tFalse\n",
      "4\tX\tFalse\n",
      "5\t.\tFalse\n",
      "6\t,\tFalse\n",
      "7\ts\tFalse\n",
      "8\t▁the\tFalse\n",
      "9\ta\tFalse\n"
     ]
    }
   ],
   "execution_count": 30
  },
  {
   "metadata": {},
   "cell_type": "markdown",
   "source": "##### Train SentencePiece BPE model with our example.txt",
   "id": "9b272547a23e4b97"
  },
  {
   "metadata": {},
   "cell_type": "markdown",
   "source": [
    "Finally, train your own BPE model directly from the SentencePiece library and compare it to the results of the \n",
    "implemention of the algorithm from the BPE paper itself. "
   ],
   "id": "441ee135e931241b"
  },
  {
   "metadata": {
    "ExecuteTime": {
     "end_time": "2024-07-14T10:19:00.827603Z",
     "start_time": "2024-07-14T10:19:00.808844Z"
    }
   },
   "cell_type": "code",
   "source": [
    "spm.SentencePieceTrainer.train('--input=example.txt --model_prefix=example_bpe --vocab_size=450 --model_type=bpe')\n",
    "sp_bpe = spm.SentencePieceProcessor()\n",
    "sp_bpe.load('example_bpe.model')\n",
    "\n",
    "print('*** BPE ***')\n",
    "print(sp_bpe.encode_as_pieces(s0))"
   ],
   "id": "a1369c505b6831d9",
   "outputs": [
    {
     "name": "stdout",
     "output_type": "stream",
     "text": [
      "*** BPE ***\n",
      "['▁B', 'e', 'ginn', 'ers', '▁BBQ', '▁Cl', 'ass', '▁T', 'ak', 'ing', '▁P', 'la', 'ce', '▁in', '▁M', 'is', 's', 'ou', 'la', '!']\n"
     ]
    },
    {
     "name": "stderr",
     "output_type": "stream",
     "text": [
      "sentencepiece_trainer.cc(178) LOG(INFO) Running command: --input=example.txt --model_prefix=example_bpe --vocab_size=450 --model_type=bpe\n",
      "sentencepiece_trainer.cc(78) LOG(INFO) Starts training with : \n",
      "trainer_spec {\n",
      "  input: example.txt\n",
      "  input_format: \n",
      "  model_prefix: example_bpe\n",
      "  model_type: BPE\n",
      "  vocab_size: 450\n",
      "  self_test_sample_size: 0\n",
      "  character_coverage: 0.9995\n",
      "  input_sentence_size: 0\n",
      "  shuffle_input_sentence: 1\n",
      "  seed_sentencepiece_size: 1000000\n",
      "  shrinking_factor: 0.75\n",
      "  max_sentence_length: 4192\n",
      "  num_threads: 16\n",
      "  num_sub_iterations: 2\n",
      "  max_sentencepiece_length: 16\n",
      "  split_by_unicode_script: 1\n",
      "  split_by_number: 1\n",
      "  split_by_whitespace: 1\n",
      "  split_digits: 0\n",
      "  pretokenization_delimiter: \n",
      "  treat_whitespace_as_suffix: 0\n",
      "  allow_whitespace_only_pieces: 0\n",
      "  required_chars: \n",
      "  byte_fallback: 0\n",
      "  vocabulary_output_piece_score: 1\n",
      "  train_extremely_large_corpus: 0\n",
      "  seed_sentencepieces_file: \n",
      "  hard_vocab_limit: 1\n",
      "  use_all_vocab: 0\n",
      "  unk_id: 0\n",
      "  bos_id: 1\n",
      "  eos_id: 2\n",
      "  pad_id: -1\n",
      "  unk_piece: <unk>\n",
      "  bos_piece: <s>\n",
      "  eos_piece: </s>\n",
      "  pad_piece: <pad>\n",
      "  unk_surface:  ⁇ \n",
      "  enable_differential_privacy: 0\n",
      "  differential_privacy_noise_level: 0\n",
      "  differential_privacy_clipping_threshold: 0\n",
      "}\n",
      "normalizer_spec {\n",
      "  name: nmt_nfkc\n",
      "  add_dummy_prefix: 1\n",
      "  remove_extra_whitespaces: 1\n",
      "  escape_whitespaces: 1\n",
      "  normalization_rule_tsv: \n",
      "}\n",
      "denormalizer_spec {}\n",
      "trainer_interface.cc(353) LOG(INFO) SentenceIterator is not specified. Using MultiFileSentenceIterator.\n",
      "trainer_interface.cc(185) LOG(INFO) Loading corpus: example.txt\n",
      "trainer_interface.cc(409) LOG(INFO) Loaded all 26 sentences\n",
      "trainer_interface.cc(425) LOG(INFO) Adding meta_piece: <unk>\n",
      "trainer_interface.cc(425) LOG(INFO) Adding meta_piece: <s>\n",
      "trainer_interface.cc(425) LOG(INFO) Adding meta_piece: </s>\n",
      "trainer_interface.cc(430) LOG(INFO) Normalizing sentences...\n",
      "trainer_interface.cc(539) LOG(INFO) all chars count=4533\n",
      "trainer_interface.cc(550) LOG(INFO) Done: 99.9559% characters are covered.\n",
      "trainer_interface.cc(560) LOG(INFO) Alphabet size=73\n",
      "trainer_interface.cc(561) LOG(INFO) Final character coverage=0.999559\n",
      "trainer_interface.cc(592) LOG(INFO) Done! preprocessed 26 sentences.\n",
      "trainer_interface.cc(598) LOG(INFO) Tokenizing input sentences with whitespace: 26\n",
      "trainer_interface.cc(609) LOG(INFO) Done! 455\n",
      "bpe_model_trainer.cc(159) LOG(INFO) Updating active symbols. max_freq=99 min_freq=1\n",
      "bpe_model_trainer.cc(268) LOG(INFO) Added: freq=31 size=20 all=732 active=658 piece=▁w\n",
      "bpe_model_trainer.cc(268) LOG(INFO) Added: freq=16 size=40 all=937 active=863 piece=ch\n",
      "bpe_model_trainer.cc(268) LOG(INFO) Added: freq=11 size=60 all=1014 active=940 piece=▁u\n",
      "bpe_model_trainer.cc(268) LOG(INFO) Added: freq=8 size=80 all=1110 active=1036 piece=me\n",
      "bpe_model_trainer.cc(268) LOG(INFO) Added: freq=6 size=100 all=1166 active=1092 piece=la\n",
      "bpe_model_trainer.cc(159) LOG(INFO) Updating active symbols. max_freq=6 min_freq=0\n",
      "bpe_model_trainer.cc(268) LOG(INFO) Added: freq=5 size=120 all=1217 active=1042 piece=SD\n",
      "bpe_model_trainer.cc(268) LOG(INFO) Added: freq=5 size=140 all=1272 active=1097 piece=▁bu\n",
      "bpe_model_trainer.cc(268) LOG(INFO) Added: freq=5 size=160 all=1288 active=1113 piece=▁site\n",
      "bpe_model_trainer.cc(268) LOG(INFO) Added: freq=4 size=180 all=1315 active=1140 piece=ter\n",
      "bpe_model_trainer.cc(268) LOG(INFO) Added: freq=4 size=200 all=1330 active=1155 piece=asure\n",
      "bpe_model_trainer.cc(159) LOG(INFO) Updating active symbols. max_freq=4 min_freq=0\n",
      "bpe_model_trainer.cc(268) LOG(INFO) Added: freq=3 size=220 all=1339 active=1008 piece=ge\n",
      "bpe_model_trainer.cc(268) LOG(INFO) Added: freq=3 size=240 all=1371 active=1040 piece=▁sh\n",
      "bpe_model_trainer.cc(268) LOG(INFO) Added: freq=3 size=260 all=1384 active=1053 piece=▁cost\n",
      "bpe_model_trainer.cc(268) LOG(INFO) Added: freq=2 size=280 all=1391 active=1060 piece=de\n",
      "bpe_model_trainer.cc(268) LOG(INFO) Added: freq=2 size=300 all=1405 active=1074 piece=000\n",
      "bpe_model_trainer.cc(159) LOG(INFO) Updating active symbols. max_freq=2 min_freq=0\n",
      "bpe_model_trainer.cc(268) LOG(INFO) Added: freq=2 size=320 all=1427 active=1021 piece=▁GB\n",
      "bpe_model_trainer.cc(268) LOG(INFO) Added: freq=2 size=340 all=1438 active=1032 piece=last\n",
      "bpe_model_trainer.cc(268) LOG(INFO) Added: freq=2 size=360 all=1441 active=1035 piece=▁let\n",
      "trainer_interface.cc(687) LOG(INFO) Saving model: example_bpe.model\n",
      "trainer_interface.cc(699) LOG(INFO) Saving vocabs: example_bpe.vocab\n"
     ]
    }
   ],
   "execution_count": 31
  },
  {
   "metadata": {
    "ExecuteTime": {
     "end_time": "2024-07-14T10:19:02.078425Z",
     "start_time": "2024-07-14T10:19:02.075472Z"
    }
   },
   "cell_type": "code",
   "source": "show_vocab(sp_vocab, end = ', ')",
   "id": "397833fc6d0d8b4d",
   "outputs": [
    {
     "name": "stdout",
     "output_type": "stream",
     "text": [
      "▁B e g in n ers: 1, ▁BBQ: 3, ▁Cl ass: 2, ▁T ak ing: 1, ▁P la ce: 1, ▁in: 15, ▁M is s ou la !: 1, ▁D o: 1, ▁you: 13, ▁w an t: 1, ▁to: 33, ▁g et: 2, ▁be t ter: 2, ▁a t: 1, ▁mak ing: 2, ▁d e l ic i ou s: 1, ▁BBQ ?: 1, ▁ Y ou: 1, ▁will: 6, ▁have: 4, ▁the: 31, "
     ]
    }
   ],
   "execution_count": 32
  },
  {
   "metadata": {},
   "cell_type": "markdown",
   "source": [
    "The implementation of BPE's code from the paper matches up pretty well with the library itself! The differences are \n",
    "probably accounted for by the `vocab_size`. There is also another technical difference in that in the SentencePiece \n",
    "implementation of BPE a priority queue is used to more efficiently keep track of the *best pairs*. Actually, there is\n",
    " a priority queue in the Python standard library called `heapq` if you would like to give that a try below!    "
   ],
   "id": "560fd7390b2b2ad9"
  },
  {
   "metadata": {},
   "cell_type": "markdown",
   "source": "#### Optionally try to implement BPE using a priority queue below",
   "id": "3c985173400fb8bf"
  },
  {
   "metadata": {
    "ExecuteTime": {
     "end_time": "2024-07-14T10:19:03.556203Z",
     "start_time": "2024-07-14T10:19:03.554287Z"
    }
   },
   "cell_type": "code",
   "source": "from heapq import heappush, heappop",
   "id": "5f0f0c9033ee4bcf",
   "outputs": [],
   "execution_count": 33
  },
  {
   "metadata": {
    "ExecuteTime": {
     "end_time": "2024-07-14T10:19:04.108474Z",
     "start_time": "2024-07-14T10:19:04.105794Z"
    }
   },
   "cell_type": "code",
   "source": [
    "def heapsort(iterable):\n",
    "    h = []\n",
    "    for value in iterable:\n",
    "        heappush(h, value)\n",
    "    return [heappop(h) for i in range(len(h))]"
   ],
   "id": "5f504252e877d5b1",
   "outputs": [],
   "execution_count": 34
  },
  {
   "metadata": {
    "ExecuteTime": {
     "end_time": "2024-07-14T10:19:04.718726Z",
     "start_time": "2024-07-14T10:19:04.714949Z"
    }
   },
   "cell_type": "code",
   "source": [
    "a = [1,4,3,1,3,2,1,4,2]\n",
    "heapsort(a)"
   ],
   "id": "746310774d6be162",
   "outputs": [
    {
     "data": {
      "text/plain": [
       "[1, 1, 1, 2, 2, 3, 3, 4, 4]"
      ]
     },
     "execution_count": 35,
     "metadata": {},
     "output_type": "execute_result"
    }
   ],
   "execution_count": 35
  },
  {
   "metadata": {},
   "cell_type": "markdown",
   "source": [
    "For a more extensive example consider looking at the [SentencePiece repo](https://github\n",
    ".com/google/sentencepiece/blob/master/python/sentencepiece_python_module_example.ipynb). The last few sections of \n",
    "this code were repurposed from that tutorial. Thanks for your participation! Next stop BERT and T5!  "
   ],
   "id": "135b8b5c9fca1b74"
  },
  {
   "metadata": {},
   "cell_type": "markdown",
   "source": "## Hugging Face",
   "id": "a46be1fe987f6cd3"
  },
  {
   "metadata": {},
   "cell_type": "markdown",
   "source": "### LAB: Question Answering with HuggingFace - Using a base model",
   "id": "13a678054bbaead1"
  },
  {
   "metadata": {},
   "cell_type": "markdown",
   "source": [
    "**Question Answering with BERT and HuggingFace**\n",
    "\n",
    "You've seen how to use BERT and other transformer models for a wide range of natural language tasks, including \n",
    "machine translation, summarization, and question answering. Transformers have become the standard model for NLP, \n",
    "similar to convolutional models in computer vision. And all started with Attention!  \n",
    "\n",
    "In practice, you'll rarely train a transformer model from scratch.  Transformers tend to be very large, so they take \n",
    "time, money, and lots of data to train fully. Instead, you'll want to start with a pre-trained model and fine-tune it\n",
    " with your dataset if you need to.  \n",
    "\n",
    "[Hugging Face](https://huggingface.co/) (🤗) is the best resource for pre-trained transformers. Their open-source \n",
    "libraries simplify downloading and using transformer models like BERT, T5, and GPT-2. And the best part, you can use \n",
    "them alongside either TensorFlow, PyTorch or Flax.  \n",
    "\n",
    "In this notebook, you'll use 🤗  transformers to use the DistilBERT model for question answering."
   ],
   "id": "f96b55993ec9f95c"
  },
  {
   "metadata": {},
   "cell_type": "markdown",
   "source": [
    "#### Pipelines\n",
    "\n",
    "Before fine-tuning a model, you will look at the pipelines from Hugging Face to use pre-trained transformer models for specific tasks. The `transformers` library provides pipelines for popular tasks like sentiment analysis, summarization, and text generation. A pipeline consists of a tokenizer, a model, and the model configuration. All these are packaged together into an easy-to-use object. Hugging Face makes life easier.\n",
    "\n",
    "Pipelines are intended to be used without fine-tuning and will often be immediately helpful in your projects. For example, `transformers` provides a pipeline for [question answering](https://huggingface.co/docs/transformers/main_classes/pipelines#transformers.QuestionAnsweringPipeline) that you can directly use to answer your questions if you give some context. Let's see how to do just that.\n",
    "\n",
    "You will import `pipeline` from `transformers` for creating pipelines."
   ],
   "id": "525eb083ce40631d"
  },
  {
   "metadata": {
    "ExecuteTime": {
     "end_time": "2024-07-14T17:57:05.187873Z",
     "start_time": "2024-07-14T17:56:52.581014Z"
    }
   },
   "cell_type": "code",
   "source": [
    "import os\n",
    "os.environ['TF_CPP_MIN_LOG_LEVEL'] = '3'\n",
    "\n",
    "from transformers import pipeline"
   ],
   "id": "3573f22deaac389",
   "outputs": [],
   "execution_count": 1
  },
  {
   "metadata": {},
   "cell_type": "markdown",
   "source": [
    "Now, you will create the pipeline for question-answering, which uses the [DistilBert](https://hf\n",
    ".co/distilbert-base-cased-distilled-squad) model for extractive question answering (i.e., answering questions with \n",
    "the exact wording provided in the context).  "
   ],
   "id": "d8899816c6840551"
  },
  {
   "metadata": {
    "ExecuteTime": {
     "end_time": "2024-07-14T17:57:06.170356Z",
     "start_time": "2024-07-14T17:57:05.189153Z"
    }
   },
   "cell_type": "code",
   "source": [
    "# The task \"question-answering\" will return a QuestionAnsweringPipeline object\n",
    "question_answerer = pipeline(task=\"question-answering\", model=\"distilbert-base-cased-distilled-squad\")"
   ],
   "id": "c6e5e8038a14888f",
   "outputs": [
    {
     "name": "stderr",
     "output_type": "stream",
     "text": [
      "Hardware accelerator e.g. GPU is available in the environment, but no `device` argument is passed to the `Pipeline` object. Model will be on CPU.\n"
     ]
    }
   ],
   "execution_count": 2
  },
  {
   "metadata": {},
   "cell_type": "markdown",
   "source": [
    "Notice that this environment already has the model stored in the directory `distilbert-base-cased-distilled-squad`. \n",
    "However if you were to run that exact code on your local computer, Huggingface will download the model for you, which\n",
    " is a great feature!  \n",
    "\n",
    "\n",
    "After running the last cell, you have a pipeline for performing question answering given a context string. The \n",
    "pipeline `question_answerer` you just created needs you to pass the question and context as strings. It returns an \n",
    "answer to the question from the context you provided. For example, here are the first few paragraphs from the \n",
    "[Wikipedia entry for tea](https://en.wikipedia.org/wiki/Tea) that you will use as the context.   \n",
    "\n",
    "\n"
   ],
   "id": "dae177caf761f9f9"
  },
  {
   "metadata": {
    "ExecuteTime": {
     "end_time": "2024-07-14T17:57:06.174578Z",
     "start_time": "2024-07-14T17:57:06.171348Z"
    }
   },
   "cell_type": "code",
   "source": [
    "context = \"\"\"\n",
    "Tea is an aromatic beverage prepared by pouring hot or boiling water over cured or fresh leaves of Camellia sinensis,\n",
    "an evergreen shrub native to China and East Asia. After water, it is the most widely consumed drink in the world.\n",
    "There are many different types of tea; some, like Chinese greens and Darjeeling, have a cooling, slightly bitter,\n",
    "and astringent flavour, while others have vastly different profiles that include sweet, nutty, floral, or grassy\n",
    "notes. Tea has a stimulating effect in humans primarily due to its caffeine content.\n",
    "\n",
    "The tea plant originated in the region encompassing today's Southwest China, Tibet, north Myanmar and Northeast India,\n",
    "where it was used as a medicinal drink by various ethnic groups. An early credible record of tea drinking dates to\n",
    "the 3rd century AD, in a medical text written by Hua Tuo. It was popularised as a recreational drink during the\n",
    "Chinese Tang dynasty, and tea drinking spread to other East Asian countries. Portuguese priests and merchants\n",
    "introduced it to Europe during the 16th century. During the 17th century, drinking tea became fashionable among the\n",
    "English, who started to plant tea on a large scale in India.\n",
    "\n",
    "The term herbal tea refers to drinks not made from Camellia sinensis: infusions of fruit, leaves, or other plant\n",
    "parts, such as steeps of rosehip, chamomile, or rooibos. These may be called tisanes or herbal infusions to prevent\n",
    "confusion with 'tea' made from the tea plant.\n",
    "\"\"\""
   ],
   "id": "242fd2916f367107",
   "outputs": [],
   "execution_count": 3
  },
  {
   "metadata": {},
   "cell_type": "markdown",
   "source": "Now, you can ask your model anything related to that passage. For instance, \"Where is tea native to?\".",
   "id": "42c0fbda52f0da4a"
  },
  {
   "metadata": {
    "ExecuteTime": {
     "end_time": "2024-07-14T17:57:06.269197Z",
     "start_time": "2024-07-14T17:57:06.176477Z"
    }
   },
   "cell_type": "code",
   "source": [
    "result = question_answerer(question=\"Where is tea native to?\", context=context)\n",
    "\n",
    "print(result['answer'])"
   ],
   "id": "b5f5d88861dd17d3",
   "outputs": [
    {
     "name": "stdout",
     "output_type": "stream",
     "text": [
      "China and East Asia\n"
     ]
    }
   ],
   "execution_count": 4
  },
  {
   "metadata": {},
   "cell_type": "markdown",
   "source": [
    "You can also pass multiple questions to your pipeline within a list so that you can ask:\n",
    "\n",
    "*   \"Where is tea native to?\"\n",
    "*   \"When was tea discovered?\"\n",
    "*   \"What is the species name for tea?\"\n",
    "\n",
    "at the same time, and your `question-answerer` will return all the answers."
   ],
   "id": "49d1542a27e1b362"
  },
  {
   "metadata": {
    "ExecuteTime": {
     "end_time": "2024-07-14T17:57:06.504588Z",
     "start_time": "2024-07-14T17:57:06.270068Z"
    }
   },
   "cell_type": "code",
   "source": [
    "questions = [\"Where is tea native to?\",\n",
    "             \"When was tea discovered?\",\n",
    "             \"What is the species name for tea?\"]\n",
    "\n",
    "results = question_answerer(question=questions, context=context)\n",
    "\n",
    "for q, r in zip(questions, results):\n",
    "    print(f\"{q} \\n>> {r['answer']}\")"
   ],
   "id": "28313eaf52947f23",
   "outputs": [
    {
     "name": "stdout",
     "output_type": "stream",
     "text": [
      "Where is tea native to? \n",
      ">> China and East Asia\n",
      "When was tea discovered? \n",
      ">> 3rd century AD\n",
      "What is the species name for tea? \n",
      ">> Camellia sinensis\n"
     ]
    }
   ],
   "execution_count": 5
  },
  {
   "metadata": {},
   "cell_type": "markdown",
   "source": [
    "Although the models used in the Hugging Face pipelines generally give outstanding results, sometimes you will have \n",
    "particular examples where they don't perform so well. Let's use the following example with a context string about the\n",
    " Golden Age of Comic Books:  "
   ],
   "id": "90376110f7a0d8e3"
  },
  {
   "metadata": {
    "ExecuteTime": {
     "end_time": "2024-07-14T17:57:06.508749Z",
     "start_time": "2024-07-14T17:57:06.505558Z"
    }
   },
   "cell_type": "code",
   "source": [
    "context = \"\"\"\n",
    "The Golden Age of Comic Books describes an era of American comic books from the\n",
    "late 1930s to circa 1950. During this time, modern comic books were first published\n",
    "and rapidly increased in popularity. The superhero archetype was created and many\n",
    "well-known characters were introduced, including Superman, Batman, Captain Marvel\n",
    "(later known as SHAZAM!), Captain America, and Wonder Woman.\n",
    "Between 1939 and 1941 Detective Comics and its sister company, All-American Publications,\n",
    "introduced popular superheroes such as Batman and Robin, Wonder Woman, the Flash,\n",
    "Green Lantern, Doctor Fate, the Atom, Hawkman, Green Arrow and Aquaman.[7] Timely Comics,\n",
    "the 1940s predecessor of Marvel Comics, had million-selling titles featuring the Human Torch,\n",
    "the Sub-Mariner, and Captain America.[8]\n",
    "As comic books grew in popularity, publishers began launching titles that expanded\n",
    "into a variety of genres. Dell Comics' non-superhero characters (particularly the\n",
    "licensed Walt Disney animated-character comics) outsold the superhero comics of the day.[12]\n",
    "The publisher featured licensed movie and literary characters such as Mickey Mouse, Donald Duck,\n",
    "Roy Rogers and Tarzan.[13] It was during this era that noted Donald Duck writer-artist\n",
    "Carl Barks rose to prominence.[14] Additionally, MLJ's introduction of Archie Andrews\n",
    "in Pep Comics #22 (December 1941) gave rise to teen humor comics,[15] with the Archie\n",
    "Andrews character remaining in print well into the 21st century.[16]\n",
    "At the same time in Canada, American comic books were prohibited importation under\n",
    "the War Exchange Conservation Act[17] which restricted the importation of non-essential\n",
    "goods. As a result, a domestic publishing industry flourished during the duration\n",
    "of the war which were collectively informally called the Canadian Whites.\n",
    "The educational comic book Dagwood Splits the Atom used characters from the comic\n",
    "strip Blondie.[18] According to historian Michael A. Amundson, appealing comic-book\n",
    "characters helped ease young readers' fear of nuclear war and neutralize anxiety\n",
    "about the questions posed by atomic power.[19] It was during this period that long-running\n",
    "humor comics debuted, including EC's Mad and Carl Barks' Uncle Scrooge in Dell's Four\n",
    "Color Comics (both in 1952).[20][21]\n",
    "\"\"\""
   ],
   "id": "2819d30d2524560e",
   "outputs": [],
   "execution_count": 6
  },
  {
   "metadata": {},
   "cell_type": "markdown",
   "source": [
    "Let's ask the following question: \"What popular superheroes were introduced between 1939 and 1941?\" The answer is in \n",
    "the fourth paragraph of the context string. "
   ],
   "id": "5ac7e41b702a74cb"
  },
  {
   "metadata": {
    "ExecuteTime": {
     "end_time": "2024-07-14T17:57:06.634275Z",
     "start_time": "2024-07-14T17:57:06.509432Z"
    }
   },
   "cell_type": "code",
   "source": [
    "question = \"What popular superheroes were introduced between 1939 and 1941?\"\n",
    "\n",
    "result = question_answerer(question=question, context=context)\n",
    "print(result['answer'])"
   ],
   "id": "9079c83809dcda15",
   "outputs": [
    {
     "name": "stdout",
     "output_type": "stream",
     "text": [
      "teen humor comics\n"
     ]
    }
   ],
   "execution_count": 7
  },
  {
   "metadata": {},
   "cell_type": "markdown",
   "source": [
    "Here, the answer should be:\n",
    "\"Batman and Robin, Wonder Woman, the Flash,\n",
    "Green Lantern, Doctor Fate, the Atom, Hawkman, Green Arrow, and Aquaman\". Instead, the pipeline returned a different \n",
    "answer.  You can even try different question wordings: \n",
    "\n",
    "*   \"What superheroes were introduced between 1939 and 1941?\"\n",
    "*   \"What comic book characters were created between 1939 and 1941?\"\n",
    "*   \"What well-known characters were created between 1939 and 1941?\"\n",
    "*   \"What well-known superheroes were introduced between 1939 and 1941 by Detective Comics?\"\n",
    "\n",
    "and you will only get incorrect answers."
   ],
   "id": "e0879916c38c2169"
  },
  {
   "metadata": {
    "ExecuteTime": {
     "end_time": "2024-07-14T17:57:07.238941Z",
     "start_time": "2024-07-14T17:57:06.635089Z"
    }
   },
   "cell_type": "code",
   "source": [
    "questions = [\"What popular superheroes were introduced between 1939 and 1941?\",\n",
    "             \"What superheroes were introduced between 1939 and 1941 by Detective Comics and its sister company?\",\n",
    "             \"What comic book characters were created between 1939 and 1941?\",\n",
    "             \"What well-known characters were created between 1939 and 1941?\",\n",
    "             \"What well-known superheroes were introduced between 1939 and 1941 by Detective Comics?\"]\n",
    "\n",
    "results = question_answerer(question=questions, context=context)\n",
    "\n",
    "for q, r in zip(questions, results):\n",
    "    print(f\"{q} \\n>> {r['answer']}\")"
   ],
   "id": "b41b29dacd84b63c",
   "outputs": [
    {
     "name": "stdout",
     "output_type": "stream",
     "text": [
      "What popular superheroes were introduced between 1939 and 1941? \n",
      ">> teen humor comics\n",
      "What superheroes were introduced between 1939 and 1941 by Detective Comics and its sister company? \n",
      ">> Archie Andrews\n",
      "What comic book characters were created between 1939 and 1941? \n",
      ">> Archie\n",
      "Andrews\n",
      "What well-known characters were created between 1939 and 1941? \n",
      ">> Archie\n",
      "Andrews\n",
      "What well-known superheroes were introduced between 1939 and 1941 by Detective Comics? \n",
      ">> Archie Andrews\n"
     ]
    }
   ],
   "execution_count": 8
  },
  {
   "metadata": {},
   "cell_type": "markdown",
   "source": [
    "It seems like this model is a **huge fan** of Archie Andrews. It even considers him a superhero!\n",
    "\n",
    "The example that fooled your `question_answerer` belongs to the [TyDi QA dataset](https://ai.google.com/research/tydiqa), a dataset from Google for question/answering in diverse languages. To achieve better results when you know that the pipeline isn't working as it should, you need to consider fine-tuning your model.\n",
    "\n",
    "In the next ungraded lab, you will get the chance to fine-tune the DistilBert model using the TyDi QA dataset.\n",
    "\n"
   ],
   "id": "8f4158f442a7bf13"
  },
  {
   "metadata": {},
   "cell_type": "markdown",
   "source": "### LAB: Question Answering with BERT and HuggingFace 🤗 (Fine-tuning)",
   "id": "834440d83fe44d46"
  },
  {
   "metadata": {},
   "cell_type": "markdown",
   "source": [
    "In the previous Hugging Face ungraded lab, you saw how to use the pipeline objects to use transformer models for NLP tasks. In that lab, the model didn't output the desired answers to a series of precise questions for a context related to the history of comic books.\n",
    "\n",
    "In this lab, you will fine-tune the model from that lab to give better answers for that type of context. To do that, you'll be using the [TyDi QA dataset](https://ai.google.com/research/tydiqa) but on a filtered version with only English examples. Additionally, you will use a lot of the tools that Hugging Face has to offer.\n",
    "\n",
    "You have to note that, in general, you will fine-tune general-purpose transformer models to work for specific tasks. However, fine-tuning a general-purpose model can take a lot of time. That's why you will be using the model from the question answering pipeline in this lab.\n",
    "\n",
    "Begin by importing some libraries and/or objects you will use throughout the lab:"
   ],
   "id": "76447c4228fd9bfb"
  },
  {
   "metadata": {
    "ExecuteTime": {
     "end_time": "2024-07-14T18:08:32.899197Z",
     "start_time": "2024-07-14T18:08:26.484513Z"
    }
   },
   "cell_type": "code",
   "source": [
    "import os\n",
    "os.environ['TF_CPP_MIN_LOG_LEVEL'] = '3'\n",
    "\n",
    "import numpy as np\n",
    "\n",
    "from datasets import load_from_disk\n",
    "from transformers import AutoTokenizer, AutoModelForQuestionAnswering, Trainer, TrainingArguments\n",
    "\n",
    "from sklearn.metrics import f1_score"
   ],
   "id": "1c96cc3353f098c3",
   "outputs": [],
   "execution_count": 1
  },
  {
   "metadata": {},
   "cell_type": "markdown",
   "source": [
    "#### Fine-tuning a BERT model\n",
    "\n",
    "As you saw in the previous lab, you can use these pipelines as they are. But sometimes, you'll need something more \n",
    "specific to your problem, or maybe you need it to perform better on your production data. In these cases, you'll need\n",
    " to fine-tune a model.  \n",
    "\n",
    "Here, you'll fine-tune a pre-trained DistilBERT model on the TyDi QA dataset.\n",
    "\n",
    "To fine-tune your model, you will leverage three components provided by Hugging Face:\n",
    "\n",
    "* Datasets: Library that contains some datasets and different metrics to evaluate the performance of your models.\n",
    "* Tokenizer: Object in charge of preprocessing your text to be given as input for the transformer models.\n",
    "* Transformers: Library with the pre-trained model checkpoints and the trainer object.\n",
    "\n"
   ],
   "id": "a1790ec66dd9887b"
  },
  {
   "metadata": {},
   "cell_type": "markdown",
   "source": [
    "#### Datasets\n",
    "\n",
    "To get the dataset to fine-tune your model, you will use [🤗 Datasets](https://huggingface.co/docs/datasets/), a \n",
    "lightweight and extensible library to share and access datasets and evaluation metrics for NLP easily. You can \n",
    "download Hugging Face datasets directly using the `load_dataset` function from the `datasets` library.   \n",
    "\n",
    "Hugging Face `datasets` allows to load data in several formats, such as CSV, JSON, text files and even parquet. You \n",
    "can see more about the supported formats in the [documentation](https://huggingface.co/docs/datasets/loading) \n",
    "\n",
    "A common approach is to use `load_dataset` and get the full dataset but **for this lab you will use a filtered \n",
    "version containing only the English examples**, which is already saved in this environment. Since this filtered \n",
    "dataset is saved using the Apache Arrow format, you can read it by using the `load_from_disk` function.  \n"
   ],
   "id": "5665bdec8ed82ac7"
  },
  {
   "metadata": {
    "ExecuteTime": {
     "end_time": "2024-07-14T18:08:33.595008Z",
     "start_time": "2024-07-14T18:08:32.902096Z"
    }
   },
   "cell_type": "code",
   "source": [
    "#The path where the dataset is stored\n",
    "path = './pomocne_soubory/hugging_face/tydiqa_data/'\n",
    "\n",
    "#Load Dataset\n",
    "tydiqa_data = load_from_disk(path)\n",
    "\n",
    "tydiqa_data"
   ],
   "id": "bfb9468828dc2168",
   "outputs": [
    {
     "ename": "FileNotFoundError",
     "evalue": "[Errno 2] No such file or directory: '/Users/michaelmateju/Documents/Data Science/PycharmProjects/poznamky/text/pomocne_soubory/hugging_face/tydiqa_data/train/dataset.arrow'",
     "output_type": "error",
     "traceback": [
      "\u001B[0;31m---------------------------------------------------------------------------\u001B[0m",
      "\u001B[0;31mFileNotFoundError\u001B[0m                         Traceback (most recent call last)",
      "Cell \u001B[0;32mIn[2], line 5\u001B[0m\n\u001B[1;32m      2\u001B[0m path \u001B[38;5;241m=\u001B[39m \u001B[38;5;124m'\u001B[39m\u001B[38;5;124m./pomocne_soubory/hugging_face/tydiqa_data/\u001B[39m\u001B[38;5;124m'\u001B[39m\n\u001B[1;32m      4\u001B[0m \u001B[38;5;66;03m#Load Dataset\u001B[39;00m\n\u001B[0;32m----> 5\u001B[0m tydiqa_data \u001B[38;5;241m=\u001B[39m \u001B[43mload_from_disk\u001B[49m\u001B[43m(\u001B[49m\u001B[43mpath\u001B[49m\u001B[43m)\u001B[49m\n\u001B[1;32m      7\u001B[0m tydiqa_data\n",
      "File \u001B[0;32m~/miniconda3/envs/hugging_face/lib/python3.10/site-packages/datasets/load.py:2636\u001B[0m, in \u001B[0;36mload_from_disk\u001B[0;34m(dataset_path, fs, keep_in_memory, storage_options)\u001B[0m\n\u001B[1;32m   2634\u001B[0m     \u001B[38;5;28;01mreturn\u001B[39;00m Dataset\u001B[38;5;241m.\u001B[39mload_from_disk(dataset_path, keep_in_memory\u001B[38;5;241m=\u001B[39mkeep_in_memory, storage_options\u001B[38;5;241m=\u001B[39mstorage_options)\n\u001B[1;32m   2635\u001B[0m \u001B[38;5;28;01melif\u001B[39;00m fs\u001B[38;5;241m.\u001B[39misfile(posixpath\u001B[38;5;241m.\u001B[39mjoin(dataset_path, config\u001B[38;5;241m.\u001B[39mDATASETDICT_JSON_FILENAME)):\n\u001B[0;32m-> 2636\u001B[0m     \u001B[38;5;28;01mreturn\u001B[39;00m \u001B[43mDatasetDict\u001B[49m\u001B[38;5;241;43m.\u001B[39;49m\u001B[43mload_from_disk\u001B[49m\u001B[43m(\u001B[49m\u001B[43mdataset_path\u001B[49m\u001B[43m,\u001B[49m\u001B[43m \u001B[49m\u001B[43mkeep_in_memory\u001B[49m\u001B[38;5;241;43m=\u001B[39;49m\u001B[43mkeep_in_memory\u001B[49m\u001B[43m,\u001B[49m\u001B[43m \u001B[49m\u001B[43mstorage_options\u001B[49m\u001B[38;5;241;43m=\u001B[39;49m\u001B[43mstorage_options\u001B[49m\u001B[43m)\u001B[49m\n\u001B[1;32m   2637\u001B[0m \u001B[38;5;28;01melse\u001B[39;00m:\n\u001B[1;32m   2638\u001B[0m     \u001B[38;5;28;01mraise\u001B[39;00m \u001B[38;5;167;01mFileNotFoundError\u001B[39;00m(\n\u001B[1;32m   2639\u001B[0m         \u001B[38;5;124mf\u001B[39m\u001B[38;5;124m\"\u001B[39m\u001B[38;5;124mDirectory \u001B[39m\u001B[38;5;132;01m{\u001B[39;00mdataset_path\u001B[38;5;132;01m}\u001B[39;00m\u001B[38;5;124m is neither a `Dataset` directory nor a `DatasetDict` directory.\u001B[39m\u001B[38;5;124m\"\u001B[39m\n\u001B[1;32m   2640\u001B[0m     )\n",
      "File \u001B[0;32m~/miniconda3/envs/hugging_face/lib/python3.10/site-packages/datasets/dataset_dict.py:1369\u001B[0m, in \u001B[0;36mDatasetDict.load_from_disk\u001B[0;34m(dataset_dict_path, fs, keep_in_memory, storage_options)\u001B[0m\n\u001B[1;32m   1367\u001B[0m \u001B[38;5;28;01mfor\u001B[39;00m k \u001B[38;5;129;01min\u001B[39;00m splits:\n\u001B[1;32m   1368\u001B[0m     dataset_dict_split_path \u001B[38;5;241m=\u001B[39m posixpath\u001B[38;5;241m.\u001B[39mjoin(fs\u001B[38;5;241m.\u001B[39munstrip_protocol(dataset_dict_path), k)\n\u001B[0;32m-> 1369\u001B[0m     dataset_dict[k] \u001B[38;5;241m=\u001B[39m \u001B[43mDataset\u001B[49m\u001B[38;5;241;43m.\u001B[39;49m\u001B[43mload_from_disk\u001B[49m\u001B[43m(\u001B[49m\n\u001B[1;32m   1370\u001B[0m \u001B[43m        \u001B[49m\u001B[43mdataset_dict_split_path\u001B[49m\u001B[43m,\u001B[49m\u001B[43m \u001B[49m\u001B[43mkeep_in_memory\u001B[49m\u001B[38;5;241;43m=\u001B[39;49m\u001B[43mkeep_in_memory\u001B[49m\u001B[43m,\u001B[49m\u001B[43m \u001B[49m\u001B[43mstorage_options\u001B[49m\u001B[38;5;241;43m=\u001B[39;49m\u001B[43mstorage_options\u001B[49m\n\u001B[1;32m   1371\u001B[0m \u001B[43m    \u001B[49m\u001B[43m)\u001B[49m\n\u001B[1;32m   1372\u001B[0m \u001B[38;5;28;01mreturn\u001B[39;00m dataset_dict\n",
      "File \u001B[0;32m~/miniconda3/envs/hugging_face/lib/python3.10/site-packages/datasets/arrow_dataset.py:1701\u001B[0m, in \u001B[0;36mDataset.load_from_disk\u001B[0;34m(dataset_path, fs, keep_in_memory, storage_options)\u001B[0m\n\u001B[1;32m   1698\u001B[0m \u001B[38;5;28;01mwith\u001B[39;00m \u001B[38;5;28mopen\u001B[39m(dataset_info_path, encoding\u001B[38;5;241m=\u001B[39m\u001B[38;5;124m\"\u001B[39m\u001B[38;5;124mutf-8\u001B[39m\u001B[38;5;124m\"\u001B[39m) \u001B[38;5;28;01mas\u001B[39;00m dataset_info_file:\n\u001B[1;32m   1699\u001B[0m     dataset_info \u001B[38;5;241m=\u001B[39m DatasetInfo\u001B[38;5;241m.\u001B[39mfrom_dict(json\u001B[38;5;241m.\u001B[39mload(dataset_info_file))\n\u001B[0;32m-> 1701\u001B[0m dataset_size \u001B[38;5;241m=\u001B[39m \u001B[43mestimate_dataset_size\u001B[49m\u001B[43m(\u001B[49m\n\u001B[1;32m   1702\u001B[0m \u001B[43m    \u001B[49m\u001B[43mPath\u001B[49m\u001B[43m(\u001B[49m\u001B[43mdest_dataset_path\u001B[49m\u001B[43m,\u001B[49m\u001B[43m \u001B[49m\u001B[43mdata_file\u001B[49m\u001B[43m[\u001B[49m\u001B[38;5;124;43m\"\u001B[39;49m\u001B[38;5;124;43mfilename\u001B[39;49m\u001B[38;5;124;43m\"\u001B[39;49m\u001B[43m]\u001B[49m\u001B[43m)\u001B[49m\u001B[43m \u001B[49m\u001B[38;5;28;43;01mfor\u001B[39;49;00m\u001B[43m \u001B[49m\u001B[43mdata_file\u001B[49m\u001B[43m \u001B[49m\u001B[38;5;129;43;01min\u001B[39;49;00m\u001B[43m \u001B[49m\u001B[43mstate\u001B[49m\u001B[43m[\u001B[49m\u001B[38;5;124;43m\"\u001B[39;49m\u001B[38;5;124;43m_data_files\u001B[39;49m\u001B[38;5;124;43m\"\u001B[39;49m\u001B[43m]\u001B[49m\n\u001B[1;32m   1703\u001B[0m \u001B[43m\u001B[49m\u001B[43m)\u001B[49m\n\u001B[1;32m   1704\u001B[0m keep_in_memory \u001B[38;5;241m=\u001B[39m keep_in_memory \u001B[38;5;28;01mif\u001B[39;00m keep_in_memory \u001B[38;5;129;01mis\u001B[39;00m \u001B[38;5;129;01mnot\u001B[39;00m \u001B[38;5;28;01mNone\u001B[39;00m \u001B[38;5;28;01melse\u001B[39;00m is_small_dataset(dataset_size)\n\u001B[1;32m   1705\u001B[0m table_cls \u001B[38;5;241m=\u001B[39m InMemoryTable \u001B[38;5;28;01mif\u001B[39;00m keep_in_memory \u001B[38;5;28;01melse\u001B[39;00m MemoryMappedTable\n",
      "File \u001B[0;32m~/miniconda3/envs/hugging_face/lib/python3.10/site-packages/datasets/utils/file_utils.py:661\u001B[0m, in \u001B[0;36mestimate_dataset_size\u001B[0;34m(paths)\u001B[0m\n\u001B[1;32m    660\u001B[0m \u001B[38;5;28;01mdef\u001B[39;00m \u001B[38;5;21mestimate_dataset_size\u001B[39m(paths):\n\u001B[0;32m--> 661\u001B[0m     \u001B[38;5;28;01mreturn\u001B[39;00m \u001B[38;5;28;43msum\u001B[39;49m\u001B[43m(\u001B[49m\u001B[43mpath\u001B[49m\u001B[38;5;241;43m.\u001B[39;49m\u001B[43mstat\u001B[49m\u001B[43m(\u001B[49m\u001B[43m)\u001B[49m\u001B[38;5;241;43m.\u001B[39;49m\u001B[43mst_size\u001B[49m\u001B[43m \u001B[49m\u001B[38;5;28;43;01mfor\u001B[39;49;00m\u001B[43m \u001B[49m\u001B[43mpath\u001B[49m\u001B[43m \u001B[49m\u001B[38;5;129;43;01min\u001B[39;49;00m\u001B[43m \u001B[49m\u001B[43mpaths\u001B[49m\u001B[43m)\u001B[49m\n",
      "File \u001B[0;32m~/miniconda3/envs/hugging_face/lib/python3.10/site-packages/datasets/utils/file_utils.py:661\u001B[0m, in \u001B[0;36m<genexpr>\u001B[0;34m(.0)\u001B[0m\n\u001B[1;32m    660\u001B[0m \u001B[38;5;28;01mdef\u001B[39;00m \u001B[38;5;21mestimate_dataset_size\u001B[39m(paths):\n\u001B[0;32m--> 661\u001B[0m     \u001B[38;5;28;01mreturn\u001B[39;00m \u001B[38;5;28msum\u001B[39m(\u001B[43mpath\u001B[49m\u001B[38;5;241;43m.\u001B[39;49m\u001B[43mstat\u001B[49m\u001B[43m(\u001B[49m\u001B[43m)\u001B[49m\u001B[38;5;241m.\u001B[39mst_size \u001B[38;5;28;01mfor\u001B[39;00m path \u001B[38;5;129;01min\u001B[39;00m paths)\n",
      "File \u001B[0;32m~/miniconda3/envs/hugging_face/lib/python3.10/pathlib.py:1097\u001B[0m, in \u001B[0;36mPath.stat\u001B[0;34m(self, follow_symlinks)\u001B[0m\n\u001B[1;32m   1092\u001B[0m \u001B[38;5;28;01mdef\u001B[39;00m \u001B[38;5;21mstat\u001B[39m(\u001B[38;5;28mself\u001B[39m, \u001B[38;5;241m*\u001B[39m, follow_symlinks\u001B[38;5;241m=\u001B[39m\u001B[38;5;28;01mTrue\u001B[39;00m):\n\u001B[1;32m   1093\u001B[0m \u001B[38;5;250m    \u001B[39m\u001B[38;5;124;03m\"\"\"\u001B[39;00m\n\u001B[1;32m   1094\u001B[0m \u001B[38;5;124;03m    Return the result of the stat() system call on this path, like\u001B[39;00m\n\u001B[1;32m   1095\u001B[0m \u001B[38;5;124;03m    os.stat() does.\u001B[39;00m\n\u001B[1;32m   1096\u001B[0m \u001B[38;5;124;03m    \"\"\"\u001B[39;00m\n\u001B[0;32m-> 1097\u001B[0m     \u001B[38;5;28;01mreturn\u001B[39;00m \u001B[38;5;28;43mself\u001B[39;49m\u001B[38;5;241;43m.\u001B[39;49m\u001B[43m_accessor\u001B[49m\u001B[38;5;241;43m.\u001B[39;49m\u001B[43mstat\u001B[49m\u001B[43m(\u001B[49m\u001B[38;5;28;43mself\u001B[39;49m\u001B[43m,\u001B[49m\u001B[43m \u001B[49m\u001B[43mfollow_symlinks\u001B[49m\u001B[38;5;241;43m=\u001B[39;49m\u001B[43mfollow_symlinks\u001B[49m\u001B[43m)\u001B[49m\n",
      "\u001B[0;31mFileNotFoundError\u001B[0m: [Errno 2] No such file or directory: '/Users/michaelmateju/Documents/Data Science/PycharmProjects/poznamky/text/pomocne_soubory/hugging_face/tydiqa_data/train/dataset.arrow'"
     ]
    }
   ],
   "execution_count": 2
  },
  {
   "metadata": {},
   "cell_type": "code",
   "source": "os.listdir(\"./pomocne_soubory/hugging_face/tydiqa_data/train/\")",
   "id": "5e9e819e5ebdc8b",
   "outputs": [],
   "execution_count": null
  },
  {
   "metadata": {},
   "cell_type": "code",
   "outputs": [],
   "execution_count": null,
   "source": "",
   "id": "459b49e6046b07fc"
  }
 ],
 "metadata": {
  "kernelspec": {
   "display_name": "Python 3 (ipykernel)",
   "language": "python",
   "name": "python3"
  },
  "language_info": {
   "codemirror_mode": {
    "name": "ipython",
    "version": 3
   },
   "file_extension": ".py",
   "mimetype": "text/x-python",
   "name": "python",
   "nbconvert_exporter": "python",
   "pygments_lexer": "ipython3",
   "version": "3.9.19"
  }
 },
 "nbformat": 4,
 "nbformat_minor": 5
}
