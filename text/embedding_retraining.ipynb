{
 "cells": [
  {
   "cell_type": "code",
   "execution_count": 6,
   "id": "1083dc2e-d27c-469b-96f4-9da4fbf17f95",
   "metadata": {},
   "outputs": [],
   "source": [
    "import pandas as pd\n",
    "import transformers"
   ]
  },
  {
   "cell_type": "markdown",
   "id": "e70d0b3a-b6f9-481d-a58d-ab4eae8575bb",
   "metadata": {},
   "source": [
    "Nedávno jsem narazil na [repozitář](https://github.com/UnderstandLingBV/LLaMa2lang), ve kterém autoři tvrdili, že je s pomocí jejich postupu možné finetunovat on-prem large language model (LLM) tak, aby dokázal mluvit prakticky jakýmkoli jazykem. Vzhledem k tomu, že množina LLMek použitelných na lokálu a mluvících česky je extrémně omezená, mne to pochopitelně zaujalo. Nemaje HW ani ochotu zaplatit si kvůli experimentu s nejasným výsledkem cloud jsem se nicméně nezaměřil ma finetuning LLMka, nýbrž embedding modelu z balíčku sentence transformers.  \n",
    "Bohužel výsledek byl z mnoha důvodů tristní. Jelikož by se mi ale tento kód někdy v budoucnu mohl hodit, umísťuji ho na Github."
   ]
  },
  {
   "cell_type": "markdown",
   "id": "b0fd82ca-23a4-44bd-bc39-4b790072730e",
   "metadata": {},
   "source": [
    "## Příprava dat"
   ]
  },
  {
   "cell_type": "markdown",
   "id": "18711a21-ce05-4220-b32f-81c2a606d726",
   "metadata": {},
   "source": [
    "Nejprve je třeba dostat se k nějakým trénovacím datům. Jednou z možností je použít dataset OpenAssistant/oasst1. Ten se naléza na [Hugging facu](https://huggingface.co/datasets/OpenAssistant/oasst1). Je pod Apache-2.0 licencí a tedy ho lze použít i pro komerční účely. Když se podíváme do popisu, zjistíme, že obsahuje i neanglické texty. Českých je ale bohužel jen 372. To nás ale nemusí trápit - údajně lze získat kvalitní data použitím open source překladače (no, nelze, ale to předbíhám).  \n",
    "Jak se k datům dostaneme? Jeden způsob jejich nahrání na disk a do paměti spočívá v použití metody *load_dataset* z [hugging-facovského balíčku *datasets*](https://huggingface.co/docs/datasets/index). Sem stačí umístit jméno repozitáře a data se stáhnou a zpracují. Při opakovaném spuštění by se neměla znova stahovat z internetu - jsou zjevně uložena v nějakém cache adresáři."
   ]
  },
  {
   "cell_type": "code",
   "execution_count": 5,
   "id": "532c9cf7-6903-40e0-af8b-831b3893d5bb",
   "metadata": {},
   "outputs": [
    {
     "name": "stderr",
     "output_type": "stream",
     "text": [
      "C:\\vs\\programovani\\python\\finetuning\\environment\\Lib\\site-packages\\tqdm\\auto.py:21: TqdmWarning: IProgress not found. Please update jupyter and ipywidgets. See https://ipywidgets.readthedocs.io/en/stable/user_install.html\n",
      "  from .autonotebook import tqdm as notebook_tqdm\n"
     ]
    }
   ],
   "source": [
    "import datasets\n",
    "orig_dataset = datasets.load_dataset(\"OpenAssistant/oasst1\")"
   ]
  },
  {
   "cell_type": "markdown",
   "id": "2ebb230b-dd05-4153-b34e-94f534e32b7b",
   "metadata": {},
   "source": [
    "Vidíme, že se dataset skládá z trénovací a validační části. Lze k nim přistupovat jako ke slovníkům (koneckonců datový typ je Dataset**Dict**), tj. skrze předpis typu orig_dataset[\"train\"]."
   ]
  },
  {
   "cell_type": "code",
   "execution_count": 6,
   "id": "13191fa4-53a9-4ffd-9d00-351ed753082e",
   "metadata": {},
   "outputs": [
    {
     "data": {
      "text/plain": [
       "DatasetDict({\n",
       "    train: Dataset({\n",
       "        features: ['message_id', 'parent_id', 'user_id', 'created_date', 'text', 'role', 'lang', 'review_count', 'review_result', 'deleted', 'rank', 'synthetic', 'model_name', 'detoxify', 'message_tree_id', 'tree_state', 'emojis', 'labels'],\n",
       "        num_rows: 84437\n",
       "    })\n",
       "    validation: Dataset({\n",
       "        features: ['message_id', 'parent_id', 'user_id', 'created_date', 'text', 'role', 'lang', 'review_count', 'review_result', 'deleted', 'rank', 'synthetic', 'model_name', 'detoxify', 'message_tree_id', 'tree_state', 'emojis', 'labels'],\n",
       "        num_rows: 4401\n",
       "    })\n",
       "})"
      ]
     },
     "execution_count": 6,
     "metadata": {},
     "output_type": "execute_result"
    }
   ],
   "source": [
    "orig_dataset"
   ]
  },
  {
   "cell_type": "markdown",
   "id": "48915b3c-2194-47f7-9f9f-6d74c3700e1b",
   "metadata": {},
   "source": [
    "K jednotlivým záznamům se dostaneme skrze indexaci, tj. předpisem ala"
   ]
  },
  {
   "cell_type": "code",
   "execution_count": 7,
   "id": "459ff485-1b51-4ddd-a77e-013025a4252c",
   "metadata": {},
   "outputs": [
    {
     "data": {
      "text/plain": [
       "{'message_id': '6ab24d72-0181-4594-a9cd-deaf170242fb',\n",
       " 'parent_id': None,\n",
       " 'user_id': 'c3fe8c76-fc30-4fa7-b7f8-c492f5967d18',\n",
       " 'created_date': '2023-02-05T14:23:50.983374+00:00',\n",
       " 'text': 'Can you write a short introduction about the relevance of the term \"monopsony\" in economics? Please use examples related to potential monopsonies in the labour market and cite relevant research.',\n",
       " 'role': 'prompter',\n",
       " 'lang': 'en',\n",
       " 'review_count': 3,\n",
       " 'review_result': True,\n",
       " 'deleted': False,\n",
       " 'rank': None,\n",
       " 'synthetic': False,\n",
       " 'model_name': None,\n",
       " 'detoxify': {'toxicity': 0.00044308538781479,\n",
       "  'severe_toxicity': 3.252684837207198e-05,\n",
       "  'obscene': 0.00023475120542570949,\n",
       "  'identity_attack': 0.0001416115992469713,\n",
       "  'insult': 0.00039489680784754455,\n",
       "  'threat': 4.075629112776369e-05,\n",
       "  'sexual_explicit': 2.712695459194947e-05},\n",
       " 'message_tree_id': '6ab24d72-0181-4594-a9cd-deaf170242fb',\n",
       " 'tree_state': 'ready_for_export',\n",
       " 'emojis': {'name': ['+1', '_skip_reply', '_skip_ranking'],\n",
       "  'count': [10, 1, 4]},\n",
       " 'labels': {'name': ['spam',\n",
       "   'lang_mismatch',\n",
       "   'pii',\n",
       "   'not_appropriate',\n",
       "   'hate_speech',\n",
       "   'sexual_content',\n",
       "   'quality',\n",
       "   'toxicity',\n",
       "   'humor',\n",
       "   'creativity',\n",
       "   'violence'],\n",
       "  'value': [0.0,\n",
       "   0.0,\n",
       "   0.0,\n",
       "   0.0,\n",
       "   0.0,\n",
       "   0.0,\n",
       "   0.9166666666666666,\n",
       "   0.16666666666666666,\n",
       "   0.3333333333333333,\n",
       "   0.6666666666666666,\n",
       "   0.0],\n",
       "  'count': [3, 3, 3, 3, 3, 3, 3, 3, 3, 3, 3]}}"
      ]
     },
     "execution_count": 7,
     "metadata": {},
     "output_type": "execute_result"
    }
   ],
   "source": [
    "orig_dataset[\"train\"][0]"
   ]
  },
  {
   "cell_type": "markdown",
   "id": "1b8c518d-126c-476c-ac76-781d871a6908",
   "metadata": {},
   "source": [
    "Asi pohodlněji se s daty bude pracovat, když budou v pandím dataframu. Ten vytvoříme provoláním metody *to_pandas* na "
   ]
  },
  {
   "cell_type": "code",
   "execution_count": 9,
   "id": "ea6f2623-73db-46ee-b4f1-360d467b262a",
   "metadata": {},
   "outputs": [
    {
     "data": {
      "text/html": [
       "<div>\n",
       "<style scoped>\n",
       "    .dataframe tbody tr th:only-of-type {\n",
       "        vertical-align: middle;\n",
       "    }\n",
       "\n",
       "    .dataframe tbody tr th {\n",
       "        vertical-align: top;\n",
       "    }\n",
       "\n",
       "    .dataframe thead th {\n",
       "        text-align: right;\n",
       "    }\n",
       "</style>\n",
       "<table border=\"1\" class=\"dataframe\">\n",
       "  <thead>\n",
       "    <tr style=\"text-align: right;\">\n",
       "      <th></th>\n",
       "      <th>message_id</th>\n",
       "      <th>parent_id</th>\n",
       "      <th>user_id</th>\n",
       "      <th>created_date</th>\n",
       "      <th>text</th>\n",
       "      <th>role</th>\n",
       "      <th>lang</th>\n",
       "      <th>review_count</th>\n",
       "      <th>review_result</th>\n",
       "      <th>deleted</th>\n",
       "      <th>rank</th>\n",
       "      <th>synthetic</th>\n",
       "      <th>model_name</th>\n",
       "      <th>detoxify</th>\n",
       "      <th>message_tree_id</th>\n",
       "      <th>tree_state</th>\n",
       "      <th>emojis</th>\n",
       "      <th>labels</th>\n",
       "    </tr>\n",
       "  </thead>\n",
       "  <tbody>\n",
       "    <tr>\n",
       "      <th>0</th>\n",
       "      <td>6ab24d72-0181-4594-a9cd-deaf170242fb</td>\n",
       "      <td>None</td>\n",
       "      <td>c3fe8c76-fc30-4fa7-b7f8-c492f5967d18</td>\n",
       "      <td>2023-02-05T14:23:50.983374+00:00</td>\n",
       "      <td>Can you write a short introduction about the r...</td>\n",
       "      <td>prompter</td>\n",
       "      <td>en</td>\n",
       "      <td>3</td>\n",
       "      <td>True</td>\n",
       "      <td>False</td>\n",
       "      <td>NaN</td>\n",
       "      <td>False</td>\n",
       "      <td>None</td>\n",
       "      <td>{'toxicity': 0.00044308538781479, 'severe_toxi...</td>\n",
       "      <td>6ab24d72-0181-4594-a9cd-deaf170242fb</td>\n",
       "      <td>ready_for_export</td>\n",
       "      <td>{'name': ['+1', '_skip_reply', '_skip_ranking'...</td>\n",
       "      <td>{'name': ['spam', 'lang_mismatch', 'pii', 'not...</td>\n",
       "    </tr>\n",
       "    <tr>\n",
       "      <th>1</th>\n",
       "      <td>c8e83833-ecbc-44fe-b6db-735228c25a1c</td>\n",
       "      <td>6ab24d72-0181-4594-a9cd-deaf170242fb</td>\n",
       "      <td>2c96e467-66f0-4be7-9693-bda51356a424</td>\n",
       "      <td>2023-02-06T13:50:44.657083+00:00</td>\n",
       "      <td>\"Monopsony\" refers to a market structure where...</td>\n",
       "      <td>assistant</td>\n",
       "      <td>en</td>\n",
       "      <td>3</td>\n",
       "      <td>True</td>\n",
       "      <td>False</td>\n",
       "      <td>0.0</td>\n",
       "      <td>False</td>\n",
       "      <td>None</td>\n",
       "      <td>{'toxicity': 0.00026396565954200923, 'severe_t...</td>\n",
       "      <td>6ab24d72-0181-4594-a9cd-deaf170242fb</td>\n",
       "      <td>ready_for_export</td>\n",
       "      <td>{'name': ['+1', '_skip_labeling'], 'count': [3...</td>\n",
       "      <td>{'name': ['spam', 'fails_task', 'lang_mismatch...</td>\n",
       "    </tr>\n",
       "    <tr>\n",
       "      <th>2</th>\n",
       "      <td>6708c47f-05c9-4346-b3d2-40b2bd24fde4</td>\n",
       "      <td>c8e83833-ecbc-44fe-b6db-735228c25a1c</td>\n",
       "      <td>2c96e467-66f0-4be7-9693-bda51356a424</td>\n",
       "      <td>2023-02-06T18:48:49.391686+00:00</td>\n",
       "      <td>Now explain it to a dog</td>\n",
       "      <td>prompter</td>\n",
       "      <td>en</td>\n",
       "      <td>3</td>\n",
       "      <td>True</td>\n",
       "      <td>False</td>\n",
       "      <td>NaN</td>\n",
       "      <td>False</td>\n",
       "      <td>None</td>\n",
       "      <td>{'toxicity': 0.03648477792739868, 'severe_toxi...</td>\n",
       "      <td>6ab24d72-0181-4594-a9cd-deaf170242fb</td>\n",
       "      <td>ready_for_export</td>\n",
       "      <td>None</td>\n",
       "      <td>{'name': ['spam', 'lang_mismatch', 'pii', 'not...</td>\n",
       "    </tr>\n",
       "  </tbody>\n",
       "</table>\n",
       "</div>"
      ],
      "text/plain": [
       "                             message_id                             parent_id  \\\n",
       "0  6ab24d72-0181-4594-a9cd-deaf170242fb                                  None   \n",
       "1  c8e83833-ecbc-44fe-b6db-735228c25a1c  6ab24d72-0181-4594-a9cd-deaf170242fb   \n",
       "2  6708c47f-05c9-4346-b3d2-40b2bd24fde4  c8e83833-ecbc-44fe-b6db-735228c25a1c   \n",
       "\n",
       "                                user_id                      created_date  \\\n",
       "0  c3fe8c76-fc30-4fa7-b7f8-c492f5967d18  2023-02-05T14:23:50.983374+00:00   \n",
       "1  2c96e467-66f0-4be7-9693-bda51356a424  2023-02-06T13:50:44.657083+00:00   \n",
       "2  2c96e467-66f0-4be7-9693-bda51356a424  2023-02-06T18:48:49.391686+00:00   \n",
       "\n",
       "                                                text       role lang  \\\n",
       "0  Can you write a short introduction about the r...   prompter   en   \n",
       "1  \"Monopsony\" refers to a market structure where...  assistant   en   \n",
       "2                            Now explain it to a dog   prompter   en   \n",
       "\n",
       "   review_count review_result  deleted  rank  synthetic model_name  \\\n",
       "0             3          True    False   NaN      False       None   \n",
       "1             3          True    False   0.0      False       None   \n",
       "2             3          True    False   NaN      False       None   \n",
       "\n",
       "                                            detoxify  \\\n",
       "0  {'toxicity': 0.00044308538781479, 'severe_toxi...   \n",
       "1  {'toxicity': 0.00026396565954200923, 'severe_t...   \n",
       "2  {'toxicity': 0.03648477792739868, 'severe_toxi...   \n",
       "\n",
       "                        message_tree_id        tree_state  \\\n",
       "0  6ab24d72-0181-4594-a9cd-deaf170242fb  ready_for_export   \n",
       "1  6ab24d72-0181-4594-a9cd-deaf170242fb  ready_for_export   \n",
       "2  6ab24d72-0181-4594-a9cd-deaf170242fb  ready_for_export   \n",
       "\n",
       "                                              emojis  \\\n",
       "0  {'name': ['+1', '_skip_reply', '_skip_ranking'...   \n",
       "1  {'name': ['+1', '_skip_labeling'], 'count': [3...   \n",
       "2                                               None   \n",
       "\n",
       "                                              labels  \n",
       "0  {'name': ['spam', 'lang_mismatch', 'pii', 'not...  \n",
       "1  {'name': ['spam', 'fails_task', 'lang_mismatch...  \n",
       "2  {'name': ['spam', 'lang_mismatch', 'pii', 'not...  "
      ]
     },
     "execution_count": 9,
     "metadata": {},
     "output_type": "execute_result"
    }
   ],
   "source": [
    "orig_train_frame = orig_dataset[\"train\"].to_pandas()\n",
    "orig_train_frame.head(3)"
   ]
  },
  {
   "cell_type": "markdown",
   "id": "63fc1d74-0217-466f-96e5-3fed2ce988d8",
   "metadata": {},
   "source": [
    "Popravdě ale asi jednodušší postup spočívá v tom, že si z repozitáře - konkrétně ze záložky [\"Files and versions\"](https://huggingface.co/datasets/OpenAssistant/oasst1/tree/main/data), adresáře \"data\" - stáhneme parquet soubory a ty načteme pandasí funkcí *read_parquet*."
   ]
  },
  {
   "cell_type": "code",
   "execution_count": 11,
   "id": "4851c2f9-d186-428e-9471-816350fd6e21",
   "metadata": {},
   "outputs": [
    {
     "data": {
      "text/html": [
       "<div>\n",
       "<style scoped>\n",
       "    .dataframe tbody tr th:only-of-type {\n",
       "        vertical-align: middle;\n",
       "    }\n",
       "\n",
       "    .dataframe tbody tr th {\n",
       "        vertical-align: top;\n",
       "    }\n",
       "\n",
       "    .dataframe thead th {\n",
       "        text-align: right;\n",
       "    }\n",
       "</style>\n",
       "<table border=\"1\" class=\"dataframe\">\n",
       "  <thead>\n",
       "    <tr style=\"text-align: right;\">\n",
       "      <th></th>\n",
       "      <th>message_id</th>\n",
       "      <th>parent_id</th>\n",
       "      <th>user_id</th>\n",
       "      <th>created_date</th>\n",
       "      <th>text</th>\n",
       "      <th>role</th>\n",
       "      <th>lang</th>\n",
       "      <th>review_count</th>\n",
       "      <th>review_result</th>\n",
       "      <th>deleted</th>\n",
       "      <th>rank</th>\n",
       "      <th>synthetic</th>\n",
       "      <th>model_name</th>\n",
       "      <th>detoxify</th>\n",
       "      <th>message_tree_id</th>\n",
       "      <th>tree_state</th>\n",
       "      <th>emojis</th>\n",
       "      <th>labels</th>\n",
       "    </tr>\n",
       "  </thead>\n",
       "  <tbody>\n",
       "    <tr>\n",
       "      <th>0</th>\n",
       "      <td>6ab24d72-0181-4594-a9cd-deaf170242fb</td>\n",
       "      <td>None</td>\n",
       "      <td>c3fe8c76-fc30-4fa7-b7f8-c492f5967d18</td>\n",
       "      <td>2023-02-05T14:23:50.983374+00:00</td>\n",
       "      <td>Can you write a short introduction about the r...</td>\n",
       "      <td>prompter</td>\n",
       "      <td>en</td>\n",
       "      <td>3</td>\n",
       "      <td>True</td>\n",
       "      <td>False</td>\n",
       "      <td>NaN</td>\n",
       "      <td>False</td>\n",
       "      <td>None</td>\n",
       "      <td>{'toxicity': 0.00044308538781479, 'severe_toxi...</td>\n",
       "      <td>6ab24d72-0181-4594-a9cd-deaf170242fb</td>\n",
       "      <td>ready_for_export</td>\n",
       "      <td>{'name': ['+1', '_skip_reply', '_skip_ranking'...</td>\n",
       "      <td>{'name': ['spam', 'lang_mismatch', 'pii', 'not...</td>\n",
       "    </tr>\n",
       "    <tr>\n",
       "      <th>1</th>\n",
       "      <td>c8e83833-ecbc-44fe-b6db-735228c25a1c</td>\n",
       "      <td>6ab24d72-0181-4594-a9cd-deaf170242fb</td>\n",
       "      <td>2c96e467-66f0-4be7-9693-bda51356a424</td>\n",
       "      <td>2023-02-06T13:50:44.657083+00:00</td>\n",
       "      <td>\"Monopsony\" refers to a market structure where...</td>\n",
       "      <td>assistant</td>\n",
       "      <td>en</td>\n",
       "      <td>3</td>\n",
       "      <td>True</td>\n",
       "      <td>False</td>\n",
       "      <td>0.0</td>\n",
       "      <td>False</td>\n",
       "      <td>None</td>\n",
       "      <td>{'toxicity': 0.00026396565954200923, 'severe_t...</td>\n",
       "      <td>6ab24d72-0181-4594-a9cd-deaf170242fb</td>\n",
       "      <td>ready_for_export</td>\n",
       "      <td>{'name': ['+1', '_skip_labeling'], 'count': [3...</td>\n",
       "      <td>{'name': ['spam', 'fails_task', 'lang_mismatch...</td>\n",
       "    </tr>\n",
       "    <tr>\n",
       "      <th>2</th>\n",
       "      <td>6708c47f-05c9-4346-b3d2-40b2bd24fde4</td>\n",
       "      <td>c8e83833-ecbc-44fe-b6db-735228c25a1c</td>\n",
       "      <td>2c96e467-66f0-4be7-9693-bda51356a424</td>\n",
       "      <td>2023-02-06T18:48:49.391686+00:00</td>\n",
       "      <td>Now explain it to a dog</td>\n",
       "      <td>prompter</td>\n",
       "      <td>en</td>\n",
       "      <td>3</td>\n",
       "      <td>True</td>\n",
       "      <td>False</td>\n",
       "      <td>NaN</td>\n",
       "      <td>False</td>\n",
       "      <td>None</td>\n",
       "      <td>{'toxicity': 0.03648477792739868, 'severe_toxi...</td>\n",
       "      <td>6ab24d72-0181-4594-a9cd-deaf170242fb</td>\n",
       "      <td>ready_for_export</td>\n",
       "      <td>None</td>\n",
       "      <td>{'name': ['spam', 'lang_mismatch', 'pii', 'not...</td>\n",
       "    </tr>\n",
       "  </tbody>\n",
       "</table>\n",
       "</div>"
      ],
      "text/plain": [
       "                             message_id                             parent_id  \\\n",
       "0  6ab24d72-0181-4594-a9cd-deaf170242fb                                  None   \n",
       "1  c8e83833-ecbc-44fe-b6db-735228c25a1c  6ab24d72-0181-4594-a9cd-deaf170242fb   \n",
       "2  6708c47f-05c9-4346-b3d2-40b2bd24fde4  c8e83833-ecbc-44fe-b6db-735228c25a1c   \n",
       "\n",
       "                                user_id                      created_date  \\\n",
       "0  c3fe8c76-fc30-4fa7-b7f8-c492f5967d18  2023-02-05T14:23:50.983374+00:00   \n",
       "1  2c96e467-66f0-4be7-9693-bda51356a424  2023-02-06T13:50:44.657083+00:00   \n",
       "2  2c96e467-66f0-4be7-9693-bda51356a424  2023-02-06T18:48:49.391686+00:00   \n",
       "\n",
       "                                                text       role lang  \\\n",
       "0  Can you write a short introduction about the r...   prompter   en   \n",
       "1  \"Monopsony\" refers to a market structure where...  assistant   en   \n",
       "2                            Now explain it to a dog   prompter   en   \n",
       "\n",
       "   review_count review_result  deleted  rank  synthetic model_name  \\\n",
       "0             3          True    False   NaN      False       None   \n",
       "1             3          True    False   0.0      False       None   \n",
       "2             3          True    False   NaN      False       None   \n",
       "\n",
       "                                            detoxify  \\\n",
       "0  {'toxicity': 0.00044308538781479, 'severe_toxi...   \n",
       "1  {'toxicity': 0.00026396565954200923, 'severe_t...   \n",
       "2  {'toxicity': 0.03648477792739868, 'severe_toxi...   \n",
       "\n",
       "                        message_tree_id        tree_state  \\\n",
       "0  6ab24d72-0181-4594-a9cd-deaf170242fb  ready_for_export   \n",
       "1  6ab24d72-0181-4594-a9cd-deaf170242fb  ready_for_export   \n",
       "2  6ab24d72-0181-4594-a9cd-deaf170242fb  ready_for_export   \n",
       "\n",
       "                                              emojis  \\\n",
       "0  {'name': ['+1', '_skip_reply', '_skip_ranking'...   \n",
       "1  {'name': ['+1', '_skip_labeling'], 'count': [3...   \n",
       "2                                               None   \n",
       "\n",
       "                                              labels  \n",
       "0  {'name': ['spam', 'lang_mismatch', 'pii', 'not...  \n",
       "1  {'name': ['spam', 'fails_task', 'lang_mismatch...  \n",
       "2  {'name': ['spam', 'lang_mismatch', 'pii', 'not...  "
      ]
     },
     "execution_count": 11,
     "metadata": {},
     "output_type": "execute_result"
    }
   ],
   "source": [
    "orig_train_frame  =  pd.read_parquet(\"train-00000-of-00001-b42a775f407cee45.parquet\")\n",
    "orig_train_frame.head(3)"
   ]
  },
  {
   "cell_type": "markdown",
   "id": "7cfb1a34-394a-4dad-9d01-532914301fe0",
   "metadata": {},
   "source": [
    "Co přesně se v dataframu nachází? Samotný text se nepřekvapivě nalézá ve sloupci \"text\". Jsou zde jak otázky, tak odpovědi (přesněji tu najdeme dialogové stromy otázek a odpovědí). A to sice ne pohromadě, ale v separátních řádcích. Kategorii textu udává sloupec \"role\" - hodnota \"prompter\" značí otázku, hodnota \"assistant\" odpověď. Hned vedle vidíme i sloupec \"lang\" signalizující jazyk textu. Vidíme, že je zde krom angličtiny i hromada španělských textů. Českých řádků tu máme pouhých 12. Zajímavá je skutečnost, že počty textů jsou pro (asi) všechny jazyky menší než bylo uvedeno v kartě datasetu na HF..."
   ]
  },
  {
   "cell_type": "code",
   "execution_count": 18,
   "id": "cabd4484-a8dd-47f4-9406-83589bcfdb1e",
   "metadata": {},
   "outputs": [
    {
     "data": {
      "text/plain": [
       "lang\n",
       "en       39283\n",
       "es       22763\n",
       "ru        7242\n",
       "zh        3314\n",
       "de        3050\n",
       "fr        2474\n",
       "th        1460\n",
       "pt-BR     1165\n",
       "ca        1158\n",
       "uk-UA      587\n",
       "it         554\n",
       "ja         363\n",
       "pl         304\n",
       "eu         250\n",
       "vi         191\n",
       "hu          75\n",
       "ar          56\n",
       "da          44\n",
       "tr          37\n",
       "ko          24\n",
       "fi          18\n",
       "id          12\n",
       "cs          12\n",
       "sv           1\n",
       "Name: count, dtype: int64"
      ]
     },
     "execution_count": 18,
     "metadata": {},
     "output_type": "execute_result"
    }
   ],
   "source": [
    "orig_train_frame[\"lang\"].value_counts()"
   ]
  },
  {
   "cell_type": "code",
   "execution_count": 20,
   "id": "b0706ae8-f534-4687-98bf-bac84610b8d4",
   "metadata": {},
   "outputs": [
    {
     "data": {
      "text/html": [
       "<div>\n",
       "<style scoped>\n",
       "    .dataframe tbody tr th:only-of-type {\n",
       "        vertical-align: middle;\n",
       "    }\n",
       "\n",
       "    .dataframe tbody tr th {\n",
       "        vertical-align: top;\n",
       "    }\n",
       "\n",
       "    .dataframe thead th {\n",
       "        text-align: right;\n",
       "    }\n",
       "</style>\n",
       "<table border=\"1\" class=\"dataframe\">\n",
       "  <thead>\n",
       "    <tr style=\"text-align: right;\">\n",
       "      <th></th>\n",
       "      <th>message_id</th>\n",
       "      <th>parent_id</th>\n",
       "      <th>user_id</th>\n",
       "      <th>created_date</th>\n",
       "      <th>text</th>\n",
       "      <th>role</th>\n",
       "      <th>lang</th>\n",
       "      <th>review_count</th>\n",
       "      <th>review_result</th>\n",
       "      <th>deleted</th>\n",
       "      <th>rank</th>\n",
       "      <th>synthetic</th>\n",
       "      <th>model_name</th>\n",
       "      <th>detoxify</th>\n",
       "      <th>message_tree_id</th>\n",
       "      <th>tree_state</th>\n",
       "      <th>emojis</th>\n",
       "      <th>labels</th>\n",
       "    </tr>\n",
       "  </thead>\n",
       "  <tbody>\n",
       "    <tr>\n",
       "      <th>54068</th>\n",
       "      <td>bc35002a-5a15-443e-a710-65bdf6180df8</td>\n",
       "      <td>None</td>\n",
       "      <td>cd4e0925-f3f0-478e-b6d5-a9fd66a614cb</td>\n",
       "      <td>2023-02-14T23:06:37.401747+00:00</td>\n",
       "      <td>Jaké je hlavní město Japonska?</td>\n",
       "      <td>prompter</td>\n",
       "      <td>cs</td>\n",
       "      <td>3</td>\n",
       "      <td>True</td>\n",
       "      <td>False</td>\n",
       "      <td>NaN</td>\n",
       "      <td>False</td>\n",
       "      <td>None</td>\n",
       "      <td>None</td>\n",
       "      <td>bc35002a-5a15-443e-a710-65bdf6180df8</td>\n",
       "      <td>ready_for_export</td>\n",
       "      <td>None</td>\n",
       "      <td>{'name': ['spam', 'lang_mismatch', 'pii', 'not...</td>\n",
       "    </tr>\n",
       "    <tr>\n",
       "      <th>54069</th>\n",
       "      <td>9cb061fb-a49a-44f6-8c07-3ce7e607d295</td>\n",
       "      <td>bc35002a-5a15-443e-a710-65bdf6180df8</td>\n",
       "      <td>7039e007-a81e-4c7a-854e-8e96b3733274</td>\n",
       "      <td>2023-02-16T13:26:05.822985+00:00</td>\n",
       "      <td>Hlavním městem Japonska je Tokio (japonsky 東京)...</td>\n",
       "      <td>assistant</td>\n",
       "      <td>cs</td>\n",
       "      <td>3</td>\n",
       "      <td>True</td>\n",
       "      <td>False</td>\n",
       "      <td>0.0</td>\n",
       "      <td>False</td>\n",
       "      <td>None</td>\n",
       "      <td>None</td>\n",
       "      <td>bc35002a-5a15-443e-a710-65bdf6180df8</td>\n",
       "      <td>ready_for_export</td>\n",
       "      <td>{'name': ['+1'], 'count': [2]}</td>\n",
       "      <td>{'name': ['spam', 'fails_task', 'lang_mismatch...</td>\n",
       "    </tr>\n",
       "    <tr>\n",
       "      <th>54070</th>\n",
       "      <td>34046cbb-49ca-4988-883a-4c1c59681bf2</td>\n",
       "      <td>9cb061fb-a49a-44f6-8c07-3ce7e607d295</td>\n",
       "      <td>c1a70c09-5b67-4c6d-95d6-866aff79e159</td>\n",
       "      <td>2023-02-21T15:06:36.085459+00:00</td>\n",
       "      <td>Jaké je hlavní město České republiky?</td>\n",
       "      <td>prompter</td>\n",
       "      <td>cs</td>\n",
       "      <td>3</td>\n",
       "      <td>True</td>\n",
       "      <td>False</td>\n",
       "      <td>NaN</td>\n",
       "      <td>False</td>\n",
       "      <td>None</td>\n",
       "      <td>None</td>\n",
       "      <td>bc35002a-5a15-443e-a710-65bdf6180df8</td>\n",
       "      <td>ready_for_export</td>\n",
       "      <td>{'name': ['+1'], 'count': [1]}</td>\n",
       "      <td>{'name': ['spam', 'lang_mismatch', 'pii', 'not...</td>\n",
       "    </tr>\n",
       "  </tbody>\n",
       "</table>\n",
       "</div>"
      ],
      "text/plain": [
       "                                 message_id  \\\n",
       "54068  bc35002a-5a15-443e-a710-65bdf6180df8   \n",
       "54069  9cb061fb-a49a-44f6-8c07-3ce7e607d295   \n",
       "54070  34046cbb-49ca-4988-883a-4c1c59681bf2   \n",
       "\n",
       "                                  parent_id  \\\n",
       "54068                                  None   \n",
       "54069  bc35002a-5a15-443e-a710-65bdf6180df8   \n",
       "54070  9cb061fb-a49a-44f6-8c07-3ce7e607d295   \n",
       "\n",
       "                                    user_id                      created_date  \\\n",
       "54068  cd4e0925-f3f0-478e-b6d5-a9fd66a614cb  2023-02-14T23:06:37.401747+00:00   \n",
       "54069  7039e007-a81e-4c7a-854e-8e96b3733274  2023-02-16T13:26:05.822985+00:00   \n",
       "54070  c1a70c09-5b67-4c6d-95d6-866aff79e159  2023-02-21T15:06:36.085459+00:00   \n",
       "\n",
       "                                                    text       role lang  \\\n",
       "54068                     Jaké je hlavní město Japonska?   prompter   cs   \n",
       "54069  Hlavním městem Japonska je Tokio (japonsky 東京)...  assistant   cs   \n",
       "54070              Jaké je hlavní město České republiky?   prompter   cs   \n",
       "\n",
       "       review_count review_result  deleted  rank  synthetic model_name  \\\n",
       "54068             3          True    False   NaN      False       None   \n",
       "54069             3          True    False   0.0      False       None   \n",
       "54070             3          True    False   NaN      False       None   \n",
       "\n",
       "      detoxify                       message_tree_id        tree_state  \\\n",
       "54068     None  bc35002a-5a15-443e-a710-65bdf6180df8  ready_for_export   \n",
       "54069     None  bc35002a-5a15-443e-a710-65bdf6180df8  ready_for_export   \n",
       "54070     None  bc35002a-5a15-443e-a710-65bdf6180df8  ready_for_export   \n",
       "\n",
       "                               emojis  \\\n",
       "54068                            None   \n",
       "54069  {'name': ['+1'], 'count': [2]}   \n",
       "54070  {'name': ['+1'], 'count': [1]}   \n",
       "\n",
       "                                                  labels  \n",
       "54068  {'name': ['spam', 'lang_mismatch', 'pii', 'not...  \n",
       "54069  {'name': ['spam', 'fails_task', 'lang_mismatch...  \n",
       "54070  {'name': ['spam', 'lang_mismatch', 'pii', 'not...  "
      ]
     },
     "execution_count": 20,
     "metadata": {},
     "output_type": "execute_result"
    }
   ],
   "source": [
    "orig_train_frame[orig_train_frame[\"lang\"]==\"cs\"].head(3)"
   ]
  },
  {
   "cell_type": "markdown",
   "id": "d3ff5d9b-98ca-473a-880e-b88bf2d8c57c",
   "metadata": {},
   "source": [
    "Pro jednoduchost vyhodíme všechny neanglické dokumenty."
   ]
  },
  {
   "cell_type": "code",
   "execution_count": 21,
   "id": "6a5b43de-00c7-4906-8987-01133da24d6f",
   "metadata": {},
   "outputs": [
    {
     "data": {
      "text/plain": [
       "39283"
      ]
     },
     "execution_count": 21,
     "metadata": {},
     "output_type": "execute_result"
    }
   ],
   "source": [
    "orig_train_frame = orig_train_frame[orig_train_frame[\"lang\"]==\"en\"]\n",
    "len(orig_train_frame)"
   ]
  },
  {
   "cell_type": "markdown",
   "id": "dfae5399-894f-4929-b29d-037fe11e3c73",
   "metadata": {},
   "source": [
    "Výše bylo uvedeno, že otázky a odpovědi jsou v různých řádcích. Jak je spojit dohromady? Identifikátor záznamu se nachází ve sloupci \"message_id\". Pakliže se jedná o odpověď, nalezneme v sloupci \"parent_id\" identifikátor (message_id) otázky. Otázky mají v parent_id hodnotu None (pokud šlo o otázku uvozující celou konverzaci) anebo message_id odpovědi na předchozí otázku.  \n",
    "Všimněme si, že odpovědí na jednu otázku může být více. Odpovědi podle vhodnosti seřadil nějaký člověk (viz [tady](https://arxiv.org/pdf/2304.07327.pdf) a [tady](https://projects.laion.ai/Open-Assistant/docs/tasks/rank_assistant_replies)), přičemž menší číslo je lepší a začíná se nulou."
   ]
  },
  {
   "cell_type": "code",
   "execution_count": 29,
   "id": "fd520ab0-915f-42e4-a457-4bd101e1a066",
   "metadata": {},
   "outputs": [
    {
     "data": {
      "text/html": [
       "<div>\n",
       "<style scoped>\n",
       "    .dataframe tbody tr th:only-of-type {\n",
       "        vertical-align: middle;\n",
       "    }\n",
       "\n",
       "    .dataframe tbody tr th {\n",
       "        vertical-align: top;\n",
       "    }\n",
       "\n",
       "    .dataframe thead th {\n",
       "        text-align: right;\n",
       "    }\n",
       "</style>\n",
       "<table border=\"1\" class=\"dataframe\">\n",
       "  <thead>\n",
       "    <tr style=\"text-align: right;\">\n",
       "      <th></th>\n",
       "      <th>message_id</th>\n",
       "      <th>parent_id</th>\n",
       "      <th>user_id</th>\n",
       "      <th>created_date</th>\n",
       "      <th>text</th>\n",
       "      <th>role</th>\n",
       "      <th>lang</th>\n",
       "      <th>review_count</th>\n",
       "      <th>review_result</th>\n",
       "      <th>deleted</th>\n",
       "      <th>rank</th>\n",
       "      <th>synthetic</th>\n",
       "      <th>model_name</th>\n",
       "      <th>detoxify</th>\n",
       "      <th>message_tree_id</th>\n",
       "      <th>tree_state</th>\n",
       "      <th>emojis</th>\n",
       "      <th>labels</th>\n",
       "    </tr>\n",
       "  </thead>\n",
       "  <tbody>\n",
       "    <tr>\n",
       "      <th>1</th>\n",
       "      <td>c8e83833-ecbc-44fe-b6db-735228c25a1c</td>\n",
       "      <td>6ab24d72-0181-4594-a9cd-deaf170242fb</td>\n",
       "      <td>2c96e467-66f0-4be7-9693-bda51356a424</td>\n",
       "      <td>2023-02-06T13:50:44.657083+00:00</td>\n",
       "      <td>\"Monopsony\" refers to a market structure where...</td>\n",
       "      <td>assistant</td>\n",
       "      <td>en</td>\n",
       "      <td>3</td>\n",
       "      <td>True</td>\n",
       "      <td>False</td>\n",
       "      <td>0.0</td>\n",
       "      <td>False</td>\n",
       "      <td>None</td>\n",
       "      <td>{'toxicity': 0.00026396565954200923, 'severe_t...</td>\n",
       "      <td>6ab24d72-0181-4594-a9cd-deaf170242fb</td>\n",
       "      <td>ready_for_export</td>\n",
       "      <td>{'name': ['+1', '_skip_labeling'], 'count': [3...</td>\n",
       "      <td>{'name': ['spam', 'fails_task', 'lang_mismatch...</td>\n",
       "    </tr>\n",
       "    <tr>\n",
       "      <th>3</th>\n",
       "      <td>343ee2d4-87ae-41fd-a768-bdd65959dc4a</td>\n",
       "      <td>6ab24d72-0181-4594-a9cd-deaf170242fb</td>\n",
       "      <td>49ddcb0d-6588-43bd-858d-19c577f12e7b</td>\n",
       "      <td>2023-02-06T13:37:56.044680+00:00</td>\n",
       "      <td>Monopsony is a market structure in which there...</td>\n",
       "      <td>assistant</td>\n",
       "      <td>en</td>\n",
       "      <td>3</td>\n",
       "      <td>True</td>\n",
       "      <td>False</td>\n",
       "      <td>1.0</td>\n",
       "      <td>False</td>\n",
       "      <td>None</td>\n",
       "      <td>{'toxicity': 0.0008866374846547842, 'severe_to...</td>\n",
       "      <td>6ab24d72-0181-4594-a9cd-deaf170242fb</td>\n",
       "      <td>ready_for_export</td>\n",
       "      <td>{'name': ['+1', '_skip_reply', '_skip_labeling...</td>\n",
       "      <td>{'name': ['spam', 'fails_task', 'lang_mismatch...</td>\n",
       "    </tr>\n",
       "    <tr>\n",
       "      <th>5</th>\n",
       "      <td>636dd191-50df-4894-ba9a-cd7f00767258</td>\n",
       "      <td>6ab24d72-0181-4594-a9cd-deaf170242fb</td>\n",
       "      <td>c212120c-0b79-4b32-a5b1-d96686ca92ca</td>\n",
       "      <td>2023-02-06T14:28:09.611612+00:00</td>\n",
       "      <td>Monopsony refers to a market structure where t...</td>\n",
       "      <td>assistant</td>\n",
       "      <td>en</td>\n",
       "      <td>3</td>\n",
       "      <td>True</td>\n",
       "      <td>False</td>\n",
       "      <td>2.0</td>\n",
       "      <td>False</td>\n",
       "      <td>None</td>\n",
       "      <td>{'toxicity': 0.0002960403508041054, 'severe_to...</td>\n",
       "      <td>6ab24d72-0181-4594-a9cd-deaf170242fb</td>\n",
       "      <td>ready_for_export</td>\n",
       "      <td>{'name': ['+1', '_skip_reply'], 'count': [6, 3]}</td>\n",
       "      <td>{'name': ['spam', 'fails_task', 'lang_mismatch...</td>\n",
       "    </tr>\n",
       "  </tbody>\n",
       "</table>\n",
       "</div>"
      ],
      "text/plain": [
       "                             message_id                             parent_id  \\\n",
       "1  c8e83833-ecbc-44fe-b6db-735228c25a1c  6ab24d72-0181-4594-a9cd-deaf170242fb   \n",
       "3  343ee2d4-87ae-41fd-a768-bdd65959dc4a  6ab24d72-0181-4594-a9cd-deaf170242fb   \n",
       "5  636dd191-50df-4894-ba9a-cd7f00767258  6ab24d72-0181-4594-a9cd-deaf170242fb   \n",
       "\n",
       "                                user_id                      created_date  \\\n",
       "1  2c96e467-66f0-4be7-9693-bda51356a424  2023-02-06T13:50:44.657083+00:00   \n",
       "3  49ddcb0d-6588-43bd-858d-19c577f12e7b  2023-02-06T13:37:56.044680+00:00   \n",
       "5  c212120c-0b79-4b32-a5b1-d96686ca92ca  2023-02-06T14:28:09.611612+00:00   \n",
       "\n",
       "                                                text       role lang  \\\n",
       "1  \"Monopsony\" refers to a market structure where...  assistant   en   \n",
       "3  Monopsony is a market structure in which there...  assistant   en   \n",
       "5  Monopsony refers to a market structure where t...  assistant   en   \n",
       "\n",
       "   review_count review_result  deleted  rank  synthetic model_name  \\\n",
       "1             3          True    False   0.0      False       None   \n",
       "3             3          True    False   1.0      False       None   \n",
       "5             3          True    False   2.0      False       None   \n",
       "\n",
       "                                            detoxify  \\\n",
       "1  {'toxicity': 0.00026396565954200923, 'severe_t...   \n",
       "3  {'toxicity': 0.0008866374846547842, 'severe_to...   \n",
       "5  {'toxicity': 0.0002960403508041054, 'severe_to...   \n",
       "\n",
       "                        message_tree_id        tree_state  \\\n",
       "1  6ab24d72-0181-4594-a9cd-deaf170242fb  ready_for_export   \n",
       "3  6ab24d72-0181-4594-a9cd-deaf170242fb  ready_for_export   \n",
       "5  6ab24d72-0181-4594-a9cd-deaf170242fb  ready_for_export   \n",
       "\n",
       "                                              emojis  \\\n",
       "1  {'name': ['+1', '_skip_labeling'], 'count': [3...   \n",
       "3  {'name': ['+1', '_skip_reply', '_skip_labeling...   \n",
       "5   {'name': ['+1', '_skip_reply'], 'count': [6, 3]}   \n",
       "\n",
       "                                              labels  \n",
       "1  {'name': ['spam', 'fails_task', 'lang_mismatch...  \n",
       "3  {'name': ['spam', 'fails_task', 'lang_mismatch...  \n",
       "5  {'name': ['spam', 'fails_task', 'lang_mismatch...  "
      ]
     },
     "execution_count": 29,
     "metadata": {},
     "output_type": "execute_result"
    }
   ],
   "source": [
    "orig_train_frame[orig_train_frame[\"parent_id\"]==\"6ab24d72-0181-4594-a9cd-deaf170242fb\"]"
   ]
  },
  {
   "cell_type": "markdown",
   "id": "98446c78-3efe-498b-8c79-4d9a83e4687d",
   "metadata": {},
   "source": [
    "Ideálně tedy chceme dataframe, kde bude na jednom řádku otázka a nejvhodnější odpověď."
   ]
  },
  {
   "cell_type": "code",
   "execution_count": 37,
   "id": "34c636cf-537d-4404-81e3-f0eb656b7911",
   "metadata": {},
   "outputs": [
    {
     "data": {
      "text/html": [
       "<div>\n",
       "<style scoped>\n",
       "    .dataframe tbody tr th:only-of-type {\n",
       "        vertical-align: middle;\n",
       "    }\n",
       "\n",
       "    .dataframe tbody tr th {\n",
       "        vertical-align: top;\n",
       "    }\n",
       "\n",
       "    .dataframe thead th {\n",
       "        text-align: right;\n",
       "    }\n",
       "</style>\n",
       "<table border=\"1\" class=\"dataframe\">\n",
       "  <thead>\n",
       "    <tr style=\"text-align: right;\">\n",
       "      <th></th>\n",
       "      <th>question</th>\n",
       "      <th>answer</th>\n",
       "    </tr>\n",
       "  </thead>\n",
       "  <tbody>\n",
       "    <tr>\n",
       "      <th>0</th>\n",
       "      <td>Can you write a short introduction about the r...</td>\n",
       "      <td>\"Monopsony\" refers to a market structure where...</td>\n",
       "    </tr>\n",
       "    <tr>\n",
       "      <th>1</th>\n",
       "      <td>What can be done at a regulatory level to ensu...</td>\n",
       "      <td>Here are some potential regulatory options to ...</td>\n",
       "    </tr>\n",
       "    <tr>\n",
       "      <th>2</th>\n",
       "      <td>Can you explain contrastive learning in machin...</td>\n",
       "      <td>Sure! Let's say you want to build a model whic...</td>\n",
       "    </tr>\n",
       "  </tbody>\n",
       "</table>\n",
       "</div>"
      ],
      "text/plain": [
       "                                            question  \\\n",
       "0  Can you write a short introduction about the r...   \n",
       "1  What can be done at a regulatory level to ensu...   \n",
       "2  Can you explain contrastive learning in machin...   \n",
       "\n",
       "                                              answer  \n",
       "0  \"Monopsony\" refers to a market structure where...  \n",
       "1  Here are some potential regulatory options to ...  \n",
       "2  Sure! Let's say you want to build a model whic...  "
      ]
     },
     "execution_count": 37,
     "metadata": {},
     "output_type": "execute_result"
    }
   ],
   "source": [
    "questions_frame = orig_train_frame[orig_train_frame[\"role\"]==\"prompter\"][[\"message_id\", \"text\"]]\n",
    "best_answers_frame = orig_train_frame[\n",
    "                         (orig_train_frame[\"role\"]==\"assistant\")\n",
    "                         & (orig_train_frame[\"rank\"]==0.0)\n",
    "                    ][[\"parent_id\", \"text\"]]\n",
    "qa_frame = questions_frame.merge(best_answers_frame, how=\"inner\", left_on=\"message_id\", right_on=\"parent_id\")\n",
    "qa_frame = qa_frame[[\"text_x\", \"text_y\"]]\n",
    "qa_frame.columns = [\"question\", \"answer\"]\n",
    "qa_frame.head(3)"
   ]
  },
  {
   "cell_type": "markdown",
   "id": "8f2bbd62-38d2-4d37-a561-00d3e4d5bd9f",
   "metadata": {},
   "source": [
    "Jelikož překlad budeme asi realizovat na Google Colabu, uložíme si dataframe do souboru, který na GC později nahrajeme."
   ]
  },
  {
   "cell_type": "markdown",
   "id": "bc5527e5-20f1-4023-80da-f54b25c95ccb",
   "metadata": {},
   "source": [
    "qa_frame.to_csv(\"qa_frame_en.csv\", sep=\"|\", index=False)"
   ]
  },
  {
   "cell_type": "markdown",
   "id": "6f624697-478e-4ea7-b81f-b022af25c63c",
   "metadata": {},
   "source": [
    "## Překlad"
   ]
  },
  {
   "cell_type": "markdown",
   "id": "ad8cff62-1856-4d41-86ba-6a4aae38a728",
   "metadata": {},
   "source": [
    "Pro překlad použijeme model od University of Helsinky, který je k dispozici na jejich repozitáři [na Hugging facu](https://huggingface.co/Helsinki-NLP). Nicméně který z hromady Opus modelů máme vlastně vybrat? Je nutné vědět, že tyto slovníkové modely jsou jen jednosměrné, přičemž směr lze rozklíčovat z názvu podle předpisu opus-mt-{zdrojový_jazyk}-{cílový_jazyk}. Tj. pro překlad z angličtiny do češtiny použijeme \"opus-mt-en-cs\".  \n",
    "Načtení modelu realizujeme funkcí *from_pretrained*, do které vložíme buďto repozitář modelu, anebo adresář na disku, do kterého jsme model stáhli. V příkladu je uvedený adresář na disku; pokud bychom chtěli napojení přímo na repozitář, bylo by v kulatých závorkách \"Helsinki-NLP/opus-mt-en-cs\". Funkci musíme použít nejen na čistě \"modelové\" transformers.AutoModelForSeq2SeqLM, ale i na *transformers.AutoTokenizer* kvůli převodu slov coby posloupností znaků na slovníková čísla slova zastupující."
   ]
  },
  {
   "cell_type": "code",
   "execution_count": 39,
   "id": "6ae21542-191b-4af8-b0c0-999ff22e91cd",
   "metadata": {},
   "outputs": [
    {
     "name": "stderr",
     "output_type": "stream",
     "text": [
      "C:\\vs\\programovani\\python\\finetuning\\environment\\Lib\\site-packages\\transformers\\models\\marian\\tokenization_marian.py:197: UserWarning: Recommended: pip install sacremoses.\n",
      "  warnings.warn(\"Recommended: pip install sacremoses.\")\n"
     ]
    }
   ],
   "source": [
    "import transformers\n",
    "tokenizer = transformers.AutoTokenizer.from_pretrained(\"helsinky_model_en_cs\")\n",
    "translation_model = transformers.AutoModelForSeq2SeqLM.from_pretrained(\"helsinky_model_en_cs\")"
   ]
  },
  {
   "cell_type": "markdown",
   "id": "67fb4629-0b45-4794-97a8-e22da0ff9906",
   "metadata": {},
   "source": [
    "Jak model použít? Nejprve s pomoci *tokenizer.encode* převedeme anglická slova na posloupnost čísel - idček jednotlivých anglických slov. Následně skrze *translation_model.generate* vyrobíme posloupnost idček slov překladu. Nakonec s *tokenizer.decode* převedeme idčka na česká slova.  \n",
    "V *generate* metodě bohužel musíme nastavit *max_length* na 512. Pokud bychom to neudělali, dříve nebo později bychom narazili na errorovou hlášku\n",
    "```\n",
    "Token indices sequence length is longer than the specified maximum sequence length for this model (524 > 512). Running this sequence through the model will result in indexing errors\n",
    "```\n",
    "Pozn.: %%time tu mám jen pro odhad, jak asi dlouho bude trvat překlad celého dataframu."
   ]
  },
  {
   "cell_type": "code",
   "execution_count": 45,
   "id": "b53ebcfa-80e9-42d6-be84-0c2a692424c9",
   "metadata": {},
   "outputs": [
    {
     "name": "stdout",
     "output_type": "stream",
     "text": [
      "CPU times: total: 5.42 s\n",
      "Wall time: 1.38 s\n"
     ]
    },
    {
     "data": {
      "text/plain": [
       "'Můžete napsat krátký úvod o významu pojmu \"monopsonie\" v ekonomice? Prosím použijte příklady týkající se potenciálních monopsonií na trhu práce a citujte relevantní výzkum.'"
      ]
     },
     "execution_count": 45,
     "metadata": {},
     "output_type": "execute_result"
    }
   ],
   "source": [
    "%%time\n",
    "test_text = 'Can you write a short introduction about the relevance of the term \"monopsony\" in economics? Please use examples related to potential monopsonies in the labour market and cite relevant research.'\n",
    "translation_inputs = tokenizer.encode(test_text, return_tensors=\"pt\")\n",
    "translated_tokens = translation_model.generate(translation_inputs, max_length=512)\n",
    "tokenizer.decode(translated_tokens[0], skip_special_tokens=True)"
   ]
  },
  {
   "cell_type": "code",
   "execution_count": 61,
   "id": "83440978-a62b-4fae-96f0-21a084975dcc",
   "metadata": {},
   "outputs": [],
   "source": [
    "def translate_text(tokenizer, translation_model, source_text:str)->str:\n",
    "    \"\"\"Translate text from one language to other.\n",
    "\n",
    "    Args:\n",
    "        source_text(str): Text in original language.\n",
    "\n",
    "    Return:\n",
    "        str: Text in wanted language.\n",
    "    \"\"\"\n",
    "    translation_inputs = tokenizer.encode(source_text, return_tensors=\"pt\")\n",
    "    translated_tokens = translation_model.generate(translation_inputs, max_length=512)\n",
    "    return tokenizer.decode(translated_tokens[0], skip_special_tokens=True)"
   ]
  },
  {
   "cell_type": "markdown",
   "id": "ff4ac1f9-8989-45eb-9a75-dc6ac5e9443e",
   "metadata": {},
   "source": [
    "V následující buňce je realizován překlad. Překlad by na mém počítači trval několik hodin za maximálního vytížení CPU. Bude tedy lepší ho pustit na Colabu.  \n",
    "Pozn.: občas nějaký překlad selže na jakémsi problému s indexováním. Jelikož nepotřebujeme přeložit každý jednotlivý pár otázka-odpověď, řešíme to try-except konstrukcí."
   ]
  },
  {
   "cell_type": "code",
   "execution_count": 66,
   "id": "5ae41ff1-5061-4355-a644-ab13e65ce179",
   "metadata": {},
   "outputs": [
    {
     "name": "stdout",
     "output_type": "stream",
     "text": [
      "Processing row 0\n",
      "Processing row 2\n",
      "CPU times: total: 1min 39s\n",
      "Wall time: 25.3 s\n"
     ]
    }
   ],
   "source": [
    "%%time\n",
    "translated_questions_list = []\n",
    "translated_aswers_list = []\n",
    "\n",
    "starting_index = 0\n",
    "ending_index = 3\n",
    "\n",
    "sub_qa_frame = qa_frame[\n",
    "                   qa_frame.index.isin(\n",
    "                       range(starting_index, ending_index)\n",
    "                   )\n",
    "               ]\n",
    "\n",
    "for one_row in sub_qa_frame.iterrows():\n",
    "    row_index = one_row[0]\n",
    "    if row_index%2 == 0:\n",
    "        print(f\"Processing row {row_index}\")\n",
    "    one_question = one_row[1][\"question\"]\n",
    "    one_answer = one_row[1][\"answer\"]\n",
    "    try:\n",
    "        translated_question = translate_text(tokenizer, translation_model, one_question) \n",
    "        translated_answer = translate_text(tokenizer, translation_model, one_answer)\n",
    "        translated_questions_list.append(translated_question)\n",
    "        translated_aswers_list.append(translated_answer)\n",
    "    except:\n",
    "        translated_questions_list.append(\"error\")\n",
    "        translated_aswers_list.append(\"error\")"
   ]
  },
  {
   "cell_type": "markdown",
   "id": "05c585dd-5c32-4f21-8310-8f85b904f4ad",
   "metadata": {},
   "source": [
    "Níže je vidět, že překlad funguje, ale ideální zrovna není. Možná to bude stačit pro embeddingový model, ale u LLM bych měl trochu obavy."
   ]
  },
  {
   "cell_type": "code",
   "execution_count": 67,
   "id": "a4e6aa4b-338c-48f1-96e9-0110325ff87d",
   "metadata": {},
   "outputs": [
    {
     "data": {
      "text/plain": [
       "['Můžete napsat krátký úvod o významu pojmu \"monopsonie\" v ekonomice? Prosím použijte příklady týkající se potenciálních monopsonií na trhu práce a citujte relevantní výzkum.',\n",
       " 'Co lze udělat na regulační úrovni, aby se v monopsonii zajistilo, že moc nad zaměstnanci není zneužívána? Seznam několika možností a zaměřit se na orgány, které by měly jednat.',\n",
       " 'Můžete vysvětlit kontrastní učení ve strojovém učení jednoduchým způsobem pro někoho nového v oblasti ML?']"
      ]
     },
     "execution_count": 67,
     "metadata": {},
     "output_type": "execute_result"
    }
   ],
   "source": [
    "translated_questions_list"
   ]
  },
  {
   "cell_type": "code",
   "execution_count": 68,
   "id": "fd8f2e58-37dd-4a39-ba2e-a53acc2d5a1f",
   "metadata": {},
   "outputs": [
    {
     "data": {
      "text/plain": [
       "['\"Monopsony\" odkazuje na tržní strukturu, kde je pouze jeden kupující pro konkrétní dobro nebo službu. V ekonomice, tento pojem je zvláště relevantní na trhu práce, kde monopsony zaměstnavatel má významnou moc nad mzdy a pracovní podmínky svých zaměstnanců. Přítomnost monopsonie může vést k nižší mzdy a snížené pracovní příležitosti pro pracovníky, protože zaměstnavatel má jen malou motivaci ke zvýšení mezd nebo k poskytování lepších pracovních podmínek. Nedávný výzkum identifikoval potenciální monopsonies v odvětvích, jako je maloobchod a rychlé občerstvení, kde několik velkých společností kontroluje významnou část trhu (Bivens & Mishel, 2013). V těchto odvětvích, pracovníci často čelí nízké mzdy, omezené výhody, a snížení vyjednávací síly, což vede k situaci, kdy jsou závislí na zaměstnavateli pro jejich živobytí. Tato závislost může vést k dalšímu potlačení mezd a poklesu pracovních podmínek. Celkově, koncept monopsonie je nezbytný pro pochopení dynamiky trhu práce a vlivu tržní síly na pracovníky.',\n",
       " 'Zde jsou některé potenciální regulační možnosti, jak řešit monopolní moc nad zaměstnanci: - Antimonopolní donucovací agentury, jako je FTC nebo DOJ, by mohly vyšetřovat a přijímat opatření proti dominantním zaměstnavatelům, kteří zneužívají svou tržní sílu k potlačení mezd nebo zhoršení pracovních podmínek. Mohli by nutit odprodeje nebo jiné strukturální opravné prostředky. - Agentury pro normy práce by mohly stanovit úroveň minimální mzdy pro dané odvětví nebo jiné předpisy kolem kompenzačních a pracovních podmínek. To by snížilo schopnost dominantních zaměstnavatelů tlačit mzdy/podmínky pod určité prahové hodnoty. - Regulátory pro jednotlivé sektory by mohly ukládat požadavky na to, jak společnosti najímají, kompenzují a zacházejí s pracovníky. Například bankovní regulační orgány by mohly zakázat zneužívání praktik dominantními bankami, pokud jde o jejich zaměstnance. - Legislatura by mohla přijmout zákony.',\n",
       " 'Jistě! Řekněme, že chcete vytvořit model, který může rozlišovat mezi obrazy koček a psů. Shromažďováte svůj soubor, skládající se z mnoha kočičích a psích obrázků. Pak dáte je přes neurální síť dle vašeho výběru, který produkuje některé zastoupení pro každý obrázek, posloupnost čísel jako [0.123, 0.045, 0.334,...]. Problém je, pokud váš model je neznámý s kočičími a psími obrazy, tyto reprezentace budou docela náhodné. V jednom okamžiku kočka a pes obraz by mohl mít velmi podobné zastoupení (jejich čísla by být blízko k sobě), zatímco u ostatních dvou kočičí obrazy mohou být zastoupeny daleko. V jednoduchých termínech, model by nebyl schopen říct kočky a psy odděleně. To je místo, kde kontrastní učení přichází. Bod kontrastního učení je vzít pár vzorků (v tomto případě obrazy koček a psů), pak trénovat model na \"pull\" reprezentace podobných párů (cat-dog nebo psí-dog) blíž.']"
      ]
     },
     "execution_count": 68,
     "metadata": {},
     "output_type": "execute_result"
    }
   ],
   "source": [
    "translated_aswers_list"
   ]
  },
  {
   "cell_type": "markdown",
   "id": "4a233c35-4e51-4a32-88d4-aeafcbe52118",
   "metadata": {},
   "source": [
    "OK, máme kód a datové soubory a rádi bychom tyto věci dostali na Google Colab. Bohužel uploadování souborů o velikosti malých jednotek MB skrz GUI, když člověk používá Firefox, zjevně možné není. Pokus o takovou aktivitu totiž skončí červeným kolečkem (asi timeout?). Musí se na to jinak - přes kód. Konkrétně přes funkci *files.upload* z *google.colab*.\n",
    "```python\n",
    "from google.colab import files\n",
    "uploaded_files_dict = files.upload()\n",
    "```\n",
    "Po jejím spuštění se objeví uploadovací tlačítko, skrz které lze uploadovaný soubor vybrat. Navíc člověk vidí, na kolik procent je v daném okamžiku soubor nahrán.  \n",
    "Důležité je poznamentat, že *upload* funkce nevrací soubor, nýbrž slovník. Zde klíčem není jméno souboru na lokálu, ale na cloudu. Tj. když si nejsme jistí, raději použijeme *uploaded_files_dict.keys()*. Věc ve slovníku navíc není soubor, ale posloupnost bytů (aka objekt typu \"bytes\"). Asi nejrozumnější bude tuto věc napřed uložit do souboru a pak se souborem již pracovat normálně. Tj. použijeme kód\n",
    "```python\n",
    "uploaded_file_content = uploaded_files_dict[\"qa_frame_en.csv\"]\n",
    "with open(\"/home/qa_frame_en.csv\", 'wb') as some_file:\n",
    "    some_file.write(uploaded_file_content)\n",
    "```\n",
    "Následně uložený soubor otevřeme pomocí\n",
    "```python\n",
    "qa_frame = pd.read_csv(\"/home/qa_frame_en.csv\", sep=\"|\")\n",
    "qa_frame.head(3)\n",
    "```\n",
    "Balíček transformers je sice již na Colabu předinstalovaný, při snaze načíst model a tokenizér ale bohužel obdržíme chybovou hlášku\n",
    "```\n",
    "ValueError: This tokenizer cannot be instantiated. Please make sure you have `sentencepiece` installed in order to use this tokenizer.\n",
    "```\n",
    "Takže instalaci balíčků se nevyhneme - musíme do buňky napsat\n",
    "```\n",
    "!pip install sentencepiece\n",
    "```\n",
    "A asi bude třeba i restartovat kernel. To se v Colabu provede kliknutím na ikonu \"Command palete\" (takový \"vizitkový\" obedélníček ve spodku panelu u levého okraje obrazovky) a napsáním \"restart session\" do objevivší se nabídky. Následně lze vložit a pustit výše uvedený kód.  \n",
    "Rychlost tedy není nic moc - tam, kde byl na lokále wall time 25s, je na Colabu wall time 51s. Možná pomůže přesun modelu na GPU. Nejprve se musíme z CPU modu přepnout do jednoho z modů využívajících grafické karty. To provedeme kliknutím na \"Runtime\" (nabídka nahoře) -> \"Change runtime type\" a zvolením T4GPU. To, že systém GPU vidí, ověříme pomocí *torch.cuda.is_available()*. Následně použijeme prakticky stejný kód jako předtím, pouze přidáme řádek\n",
    "```python\n",
    "device = torch.device(\"cuda\")\n",
    "```\n",
    "a na konec relevatních řádků přidáme \".to(device)\". Relevantními řádky máme na mysli\n",
    "```python\n",
    "translation_model = transformers.AutoModelForSeq2SeqLM.from_pretrained(\"Helsinki-NLP/opus-mt-en-cs\").to(device)\n",
    "```\n",
    "a\n",
    "```python\n",
    "translation_inputs = tokenizer.encode(source_text, return_tensors=\"pt\").to(device)\n",
    "```\n",
    "Tj. celý kód má podobu (co zde jeden segment, to buňka v Colabu):\n",
    "```\n",
    "!pip install sentencepiece\n",
    "```\n",
    "\n",
    "```python\n",
    "import pandas as pd\n",
    "import torch\n",
    "import transformers\n",
    "from google.colab import files\n",
    "\n",
    "device = torch.device(\"cuda\")\n",
    "uploaded_files_dict = files.upload()\n",
    "uploaded_file_content = uploaded_files_dict[\"qa_frame_en.csv\"]\n",
    "\n",
    "with open(\"/home/qa_frame_en.csv\", 'wb') as some_file:\n",
    "    some_file.write(uploaded_file_content)\n",
    "\n",
    "qa_frame_en = pd.read_csv(\"/home/qa_frame_en.csv\", sep=\"|\")\n",
    "qa_frame_en.head(3)\n",
    "```\n",
    "\n",
    "```python\n",
    "def translate_text(tokenizer, translation_model, source_text:str, device)->str:\n",
    "    \"\"\"Translate text from one language to other.\n",
    "\n",
    "    Args:\n",
    "        source_text(str): Text in original language.\n",
    "\n",
    "    Return:\n",
    "        str: Text in wanted language.\n",
    "    \"\"\"\n",
    "    translation_inputs = tokenizer.encode(source_text, return_tensors=\"pt\").to(device)\n",
    "    translated_tokens = translation_model.generate(translation_inputs, max_length=512)\n",
    "    return tokenizer.decode(translated_tokens[0], skip_special_tokens=True)\n",
    "\n",
    "tokenizer = transformers.AutoTokenizer.from_pretrained(\"Helsinki-NLP/opus-mt-en-cs\")\n",
    "translation_model = transformers.AutoModelForSeq2SeqLM.from_pretrained(\"Helsinki-NLP/opus-mt-en-cs\").to(device)\n",
    "```\n",
    "\n",
    "```python\n",
    "%%time\n",
    "translated_questions_list = []\n",
    "translated_answers_list = []\n",
    "\n",
    "starting_index = 0\n",
    "ending_index = 100\n",
    "\n",
    "sub_qa_frame_en = qa_frame_en[\n",
    "                   qa_frame_en.index.isin(\n",
    "                       range(starting_index, ending_index)\n",
    "                   )\n",
    "               ]\n",
    "\n",
    "for one_row in sub_qa_frame_en.iterrows():\n",
    "    row_index = one_row[0]\n",
    "    if row_index%2 == 0:\n",
    "        print(f\"Processing row {row_index}\")\n",
    "    one_question = one_row[1][\"question\"]\n",
    "    one_answer = one_row[1][\"answer\"]\n",
    "    try:\n",
    "        translated_question = translate_text(tokenizer, translation_model, one_question, device)\n",
    "        translated_answer = translate_text(tokenizer, translation_model, one_answer, device)\n",
    "        translated_questions_list.append(translated_question)\n",
    "        translated_answers_list.append(translated_answer)\n",
    "    except Exception as problem:\n",
    "        print(f\"Error message: {problem}\")\n",
    "        translated_questions_list.append(\"error\")\n",
    "        translated_aswers_list.append(\"error\")\n",
    "```\n",
    "Rychlost je mnohem větší - tedy dokud nedojdou resourcy (přidělený čas na GPU)...\n",
    "Každopádně nakonec se musí vygenerované překlady uložit do csv:\n",
    "```python\n",
    "pd.DataFrame({\n",
    "    \"question\": translated_questions_list,\n",
    "    \"answer\": translated_aswers_list\n",
    "}).to_csv(f\"/home/qa_frame_cs_{starting_index}_{ending_index}.csv\", sep=\"|\", index=False)\n",
    "```"
   ]
  },
  {
   "cell_type": "markdown",
   "id": "911dfb41-b899-4b98-a9c7-a63b42469353",
   "metadata": {},
   "source": [
    "## Pokus o finetunování embedding modelu\n",
    "Nakonec jsem nechal přeložit jen 500 párů otázka-odpověď. NIcméně byl jsem zvědavý, jestli to vůbec něco s embeddingovým modelem udělá. Při trénování jsem vycházel z [tohoto](https://huggingface.co/blog/how-to-train-sentence-transformers) materiálu. "
   ]
  },
  {
   "cell_type": "code",
   "execution_count": 8,
   "id": "22ac6a12-bd2d-4a65-98ef-42c75d6c874b",
   "metadata": {},
   "outputs": [
    {
     "name": "stderr",
     "output_type": "stream",
     "text": [
      "c:\\primary\\programovani\\python\\finetuning\\environment\\lib\\site-packages\\tqdm\\auto.py:21: TqdmWarning: IProgress not found. Please update jupyter and ipywidgets. See https://ipywidgets.readthedocs.io/en/stable/user_install.html\n",
      "  from .autonotebook import tqdm as notebook_tqdm\n"
     ]
    }
   ],
   "source": [
    "from sentence_transformers import SentenceTransformer, util\n",
    "from datasets import load_dataset\n",
    "from sentence_transformers import losses\n",
    "from torch.utils.data import DataLoader\n",
    "from sentence_transformers import InputExample"
   ]
  },
  {
   "cell_type": "markdown",
   "id": "fab3ae73-8771-49cf-b5b4-8287b662f3df",
   "metadata": {},
   "source": [
    "Napřed si stáhneme/načteme embeddingový model."
   ]
  },
  {
   "cell_type": "code",
   "execution_count": 9,
   "id": "2bb32c0e-557c-45c9-86f5-9698fc44150d",
   "metadata": {},
   "outputs": [],
   "source": [
    "model = SentenceTransformer(\"paraphrase-multilingual-MiniLM-L12-v2\")"
   ]
  },
  {
   "cell_type": "markdown",
   "id": "4fc6b629",
   "metadata": {},
   "source": [
    "Následně si ho ještě před přetrénováním vyzkoušíme."
   ]
  },
  {
   "cell_type": "code",
   "execution_count": 3,
   "id": "7bc3beba-3b33-463b-934c-0c638362990c",
   "metadata": {},
   "outputs": [],
   "source": [
    "query_embedding_a = model.encode('Kolik stojí debentí karta?')\n",
    "doc_embedding_b = model.encode('Debentní karta stojí 100 Kč.')\n",
    "doc_embedding_c = model.encode('Karlova univerzita byla založena roku 1367.')"
   ]
  },
  {
   "cell_type": "code",
   "execution_count": 4,
   "id": "9d1fef1c-eaa9-4e6a-b9f2-d8d9424c9624",
   "metadata": {},
   "outputs": [
    {
     "name": "stdout",
     "output_type": "stream",
     "text": [
      "tensor([[0.7244]])\n",
      "tensor([[-0.0681]])\n"
     ]
    }
   ],
   "source": [
    "print(util.cos_sim(query_embedding_a, doc_embedding_b))\n",
    "print(util.cos_sim(query_embedding_a, doc_embedding_c))"
   ]
  },
  {
   "cell_type": "code",
   "execution_count": 5,
   "id": "457aa571-a68b-4c3a-9f0e-fc3e9c363342",
   "metadata": {},
   "outputs": [
    {
     "data": {
      "text/plain": [
       "tensor([[0.5427]])"
      ]
     },
     "execution_count": 5,
     "metadata": {},
     "output_type": "execute_result"
    }
   ],
   "source": [
    "kb_doc_q = model.encode('Nepovedlo se otevřít aplikaci KB Podpisový modul.')\n",
    "kb_doc_a = model.encode(\"Pokud se Vám během přihlášení pomocí 'Osobní certifikát na čipové kartě'  zobrazilo jedno z následujících hlášení, doporučujeme nainstalovat / aktualizovat náš KB Podpisový modul. Je možné, že ho nemáte nainstalovaný a nebo máte starší verzi aplikace. Pro Windows 8.1 a výše můžete použít tento PDF návod, pro případný Windows 7 máme dočasné řešení ZDE.\")\n",
    "util.cos_sim(kb_doc_q, kb_doc_a)"
   ]
  },
  {
   "cell_type": "markdown",
   "id": "d1374a90-309a-4a13-bc7c-e06460e23ad7",
   "metadata": {},
   "source": [
    "Pro finetunovací data bude načítací funkce očekávat, že dostane jméno adresáře obsahující jsonl soubory. To jsou soubory, které mají na každém řádky jeden json. V našem konkrétním případě bude klíčem \"set\" a hodnotou list s otázkou a odpovědí. Tj. obsah souboru bude vypadat nějak takto:\n",
    "```\n",
    "{\"set\": [\"Zde bude první otázka.\", \"Zde bude odpověď na první otázku.\"]}\n",
    "{\"set\": [\"Zde bude druhá otázka.\", \"Zde bude odpověď na druhou otázku.\"]}\n",
    "```\n",
    "Jak ale naše csv na jsonl převedeme?  \n",
    "Napřed si vyhodíme errorové záznamy."
   ]
  },
  {
   "cell_type": "code",
   "execution_count": 7,
   "id": "65ccf84b-21b4-4e29-8fda-7b3fc797bfad",
   "metadata": {},
   "outputs": [
    {
     "name": "stdout",
     "output_type": "stream",
     "text": [
      "500\n",
      "472\n"
     ]
    }
   ],
   "source": [
    "qa_from_csv = pd.read_csv(\"qa_frame_cs_0_500.csv\", sep=\"|\")\n",
    "print(len(qa_from_csv))\n",
    "qa_from_csv = qa_from_csv[qa_from_csv[\"answer\"]!= \"error\"]\n",
    "print(len(qa_from_csv))"
   ]
  },
  {
   "cell_type": "markdown",
   "id": "19882299-785d-4dd5-ace4-83a6f647c52e",
   "metadata": {},
   "source": [
    "Dataframe si převedem na slovníky a ty potom jeden po druhém zapíšeme do souboru. Parametr *ensure_ascii* ve funkci *json.dumps* zajistí, že české znaky nebudou escapovány."
   ]
  },
  {
   "cell_type": "code",
   "execution_count": 27,
   "id": "b53e148e-73e6-4675-9c0d-1c003c73331c",
   "metadata": {},
   "outputs": [],
   "source": [
    "import json\n",
    "\n",
    "qa_to_jsonl = qa_from_csv.to_dict(orient=\"records\")\n",
    "with open(\"cs_finetun_data\\\\qa_cs_0_500.jsonl\", \"w\", encoding=\"utf8\") as output_file:\n",
    "    for one_dict in qa_to_jsonl:\n",
    "        edited_dict = {\"set\": [one_dict[\"question\"], one_dict[\"answer\"]]}\n",
    "        output_file.write(json.dumps(edited_dict, ensure_ascii=False) + \"\\n\")"
   ]
  },
  {
   "cell_type": "markdown",
   "id": "f3b44280",
   "metadata": {},
   "source": [
    "Dataset pak načteme funkcí *load_dataset* z balíčku *datasets*. Všimněme si, že jako parametr neuvádíme jméno jsonl souboru, nýbrž adresář, kde se onen soubor nachází."
   ]
  },
  {
   "cell_type": "code",
   "execution_count": 6,
   "id": "f02b6eb5-bb7a-47af-b899-0386348ded2e",
   "metadata": {},
   "outputs": [
    {
     "name": "stderr",
     "output_type": "stream",
     "text": [
      "Generating train split: 472 examples [00:00, 85148.88 examples/s]\n"
     ]
    }
   ],
   "source": [
    "dataset = load_dataset(\"cs_finetun_data\")"
   ]
  },
  {
   "cell_type": "code",
   "execution_count": 8,
   "id": "d6e8797b-f13b-4c62-a383-b5cea5ab76b7",
   "metadata": {},
   "outputs": [
    {
     "data": {
      "text/plain": [
       "DatasetDict({\n",
       "    train: Dataset({\n",
       "        features: ['set'],\n",
       "        num_rows: 472\n",
       "    })\n",
       "})"
      ]
     },
     "execution_count": 8,
     "metadata": {},
     "output_type": "execute_result"
    }
   ],
   "source": [
    "dataset"
   ]
  },
  {
   "cell_type": "markdown",
   "id": "6ac0b348",
   "metadata": {},
   "source": [
    "Dataset musíme převést na list objektů InputExample, které jsou fitovací funkcí (resp. DataLoaderem) očekávané."
   ]
  },
  {
   "cell_type": "code",
   "execution_count": 32,
   "id": "ad0b7cfb-3627-4a76-b612-f66c269d3d85",
   "metadata": {},
   "outputs": [],
   "source": [
    "train_examples = []\n",
    "for one_example in dataset[\"train\"][\"set\"]:\n",
    "    train_examples.append(\n",
    "        InputExample(texts=[one_example[0], one_example[1]])\n",
    "    )"
   ]
  },
  {
   "cell_type": "code",
   "execution_count": 33,
   "id": "6c4cf9a7-9cbc-4425-8532-aa0e91548948",
   "metadata": {},
   "outputs": [],
   "source": [
    "train_loss = losses.MultipleNegativesRankingLoss(model=model)"
   ]
  },
  {
   "cell_type": "code",
   "execution_count": 34,
   "id": "fbfbd920-d3d1-4934-9191-d16a8679ac4a",
   "metadata": {},
   "outputs": [],
   "source": [
    "train_dataloader = DataLoader(train_examples, shuffle=False, batch_size=4)"
   ]
  },
  {
   "cell_type": "code",
   "execution_count": 40,
   "id": "672c7d76-4961-44e7-b4f0-1fafb9d32cb5",
   "metadata": {},
   "outputs": [
    {
     "name": "stderr",
     "output_type": "stream",
     "text": [
      "Iteration: 100%|██████████| 118/118 [00:10<00:00, 10.73it/s]\n",
      "Iteration: 100%|██████████| 118/118 [00:14<00:00,  8.38it/s]\n",
      "Iteration: 100%|██████████| 118/118 [00:18<00:00,  6.55it/s]\n",
      "Iteration: 100%|██████████| 118/118 [00:16<00:00,  7.11it/s]\n",
      "Iteration: 100%|██████████| 118/118 [00:11<00:00, 10.66it/s]\n",
      "Epoch: 100%|██████████| 5/5 [01:10<00:00, 14.16s/it]\n"
     ]
    }
   ],
   "source": [
    "model.fit(train_objectives=[(train_dataloader, train_loss)], epochs=5) "
   ]
  },
  {
   "cell_type": "markdown",
   "id": "85527e25",
   "metadata": {},
   "source": [
    "A jaký je výsledek trénování? Nic se nezměnilo (resp. výsledky jsou mírně horší)."
   ]
  },
  {
   "cell_type": "code",
   "execution_count": 41,
   "id": "9de9a6c0",
   "metadata": {},
   "outputs": [],
   "source": [
    "query_embedding_a = model.encode('Kolik stojí debentí karta?')\n",
    "doc_embedding_b = model.encode('Debentní karta stojí 100 Kč.')\n",
    "doc_embedding_c = model.encode('Karlova univerzita byla založena roku 1367.')"
   ]
  },
  {
   "cell_type": "code",
   "execution_count": 42,
   "id": "e08bfbae",
   "metadata": {},
   "outputs": [
    {
     "name": "stdout",
     "output_type": "stream",
     "text": [
      "tensor([[0.7244]])\n",
      "tensor([[-0.0681]])\n"
     ]
    }
   ],
   "source": [
    "print(util.cos_sim(query_embedding_a, doc_embedding_b))\n",
    "print(util.cos_sim(query_embedding_a, doc_embedding_c))"
   ]
  },
  {
   "cell_type": "code",
   "execution_count": 43,
   "id": "9250edba",
   "metadata": {},
   "outputs": [
    {
     "data": {
      "text/plain": [
       "tensor([[0.5427]])"
      ]
     },
     "execution_count": 43,
     "metadata": {},
     "output_type": "execute_result"
    }
   ],
   "source": [
    "kb_doc_q = model.encode('Nepovedlo se otevřít aplikaci KB Podpisový modul.')\n",
    "kb_doc_a = model.encode(\"Pokud se Vám během přihlášení pomocí 'Osobní certifikát na čipové kartě'  zobrazilo jedno z následujících hlášení, doporučujeme nainstalovat / aktualizovat náš KB Podpisový modul. Je možné, že ho nemáte nainstalovaný a nebo máte starší verzi aplikace. Pro Windows 8.1 a výše můžete použít tento PDF návod, pro případný Windows 7 máme dočasné řešení ZDE.\")\n",
    "util.cos_sim(kb_doc_q, kb_doc_a)"
   ]
  },
  {
   "cell_type": "markdown",
   "id": "28cd6ecc",
   "metadata": {},
   "source": [
    "Zkusme ale vzít česká data z [OpenOrca datasetu](https://huggingface.co/datasets/Open-Orca/OpenOrca/tree/main). Přesněji tedy z jeho menší části."
   ]
  },
  {
   "cell_type": "code",
   "execution_count": null,
   "id": "f34f2778",
   "metadata": {},
   "outputs": [
    {
     "data": {
      "text/html": [
       "<div>\n",
       "<style scoped>\n",
       "    .dataframe tbody tr th:only-of-type {\n",
       "        vertical-align: middle;\n",
       "    }\n",
       "\n",
       "    .dataframe tbody tr th {\n",
       "        vertical-align: top;\n",
       "    }\n",
       "\n",
       "    .dataframe thead th {\n",
       "        text-align: right;\n",
       "    }\n",
       "</style>\n",
       "<table border=\"1\" class=\"dataframe\">\n",
       "  <thead>\n",
       "    <tr style=\"text-align: right;\">\n",
       "      <th></th>\n",
       "      <th>id</th>\n",
       "      <th>system_prompt</th>\n",
       "      <th>question</th>\n",
       "      <th>response</th>\n",
       "    </tr>\n",
       "  </thead>\n",
       "  <tbody>\n",
       "    <tr>\n",
       "      <th>0</th>\n",
       "      <td>niv.242684</td>\n",
       "      <td></td>\n",
       "      <td>You will be given a definition of a task first...</td>\n",
       "      <td>[\\n  [\"AFC Ajax (amateurs)\", \"has ground\", \"Sp...</td>\n",
       "    </tr>\n",
       "    <tr>\n",
       "      <th>1</th>\n",
       "      <td>flan.564327</td>\n",
       "      <td>You are an AI assistant. You will be given a t...</td>\n",
       "      <td>Generate an approximately fifteen-word sentenc...</td>\n",
       "      <td>Midsummer House is a moderately priced Chinese...</td>\n",
       "    </tr>\n",
       "    <tr>\n",
       "      <th>2</th>\n",
       "      <td>flan.1875913</td>\n",
       "      <td>You are a helpful assistant, who always provid...</td>\n",
       "      <td>What happens next in this paragraph?\\n\\nShe th...</td>\n",
       "      <td>C. She then dips the needle in ink and using t...</td>\n",
       "    </tr>\n",
       "  </tbody>\n",
       "</table>\n",
       "</div>"
      ],
      "text/plain": [
       "             id                                      system_prompt  \\\n",
       "0    niv.242684                                                      \n",
       "1   flan.564327  You are an AI assistant. You will be given a t...   \n",
       "2  flan.1875913  You are a helpful assistant, who always provid...   \n",
       "\n",
       "                                            question  \\\n",
       "0  You will be given a definition of a task first...   \n",
       "1  Generate an approximately fifteen-word sentenc...   \n",
       "2  What happens next in this paragraph?\\n\\nShe th...   \n",
       "\n",
       "                                            response  \n",
       "0  [\\n  [\"AFC Ajax (amateurs)\", \"has ground\", \"Sp...  \n",
       "1  Midsummer House is a moderately priced Chinese...  \n",
       "2  C. She then dips the needle in ink and using t...  "
      ]
     },
     "execution_count": 44,
     "metadata": {},
     "output_type": "execute_result"
    }
   ],
   "source": [
    "par_df = pd.read_parquet(\"1M-GPT4-Augmented.parquet\")\n",
    "par_df.head(3)"
   ]
  },
  {
   "cell_type": "markdown",
   "id": "4c9116d6",
   "metadata": {},
   "source": [
    "Dataset obsahuje většinově nečeské záznamy. Jak je odstraníme? Použijeme balíček langdetect."
   ]
  },
  {
   "cell_type": "code",
   "execution_count": null,
   "id": "49a63bbd",
   "metadata": {},
   "outputs": [],
   "source": [
    "from langdetect import detect\n",
    "\n",
    "def is_czech(sentence):\n",
    "    try:\n",
    "        return detect(sentence) == 'cs'\n",
    "    except:\n",
    "        return False\n"
   ]
  },
  {
   "cell_type": "markdown",
   "id": "d1c00905",
   "metadata": {},
   "source": [
    "A pak hodně pomalé apply (kontrola trvala déle než půl hodiny)."
   ]
  },
  {
   "cell_type": "code",
   "execution_count": null,
   "id": "5b969707",
   "metadata": {},
   "outputs": [],
   "source": [
    "par_df['is_czech'] = par_df['question'].apply(is_czech)"
   ]
  },
  {
   "cell_type": "markdown",
   "id": "c247ca30",
   "metadata": {},
   "source": [
    "Českých záznamů tu opravdu mnoho není."
   ]
  },
  {
   "cell_type": "code",
   "execution_count": null,
   "id": "15b3db8e",
   "metadata": {},
   "outputs": [
    {
     "data": {
      "text/plain": [
       "994896"
      ]
     },
     "execution_count": 45,
     "metadata": {},
     "output_type": "execute_result"
    }
   ],
   "source": [
    "len(par_df)"
   ]
  },
  {
   "cell_type": "code",
   "execution_count": null,
   "id": "4492e6e4",
   "metadata": {},
   "outputs": [
    {
     "data": {
      "text/plain": [
       "2396"
      ]
     },
     "execution_count": 49,
     "metadata": {},
     "output_type": "execute_result"
    }
   ],
   "source": [
    "len(par_df[par_df[\"is_czech\"]==True])"
   ]
  },
  {
   "cell_type": "markdown",
   "id": "1401bf71",
   "metadata": {},
   "source": [
    "A obvykle se navíc jedná o překlady či detekci jazyka od GPT modelu."
   ]
  },
  {
   "cell_type": "code",
   "execution_count": null,
   "id": "d738ef81",
   "metadata": {},
   "outputs": [
    {
     "data": {
      "text/html": [
       "<div>\n",
       "<style scoped>\n",
       "    .dataframe tbody tr th:only-of-type {\n",
       "        vertical-align: middle;\n",
       "    }\n",
       "\n",
       "    .dataframe tbody tr th {\n",
       "        vertical-align: top;\n",
       "    }\n",
       "\n",
       "    .dataframe thead th {\n",
       "        text-align: right;\n",
       "    }\n",
       "</style>\n",
       "<table border=\"1\" class=\"dataframe\">\n",
       "  <thead>\n",
       "    <tr style=\"text-align: right;\">\n",
       "      <th></th>\n",
       "      <th>id</th>\n",
       "      <th>system_prompt</th>\n",
       "      <th>question</th>\n",
       "      <th>response</th>\n",
       "      <th>is_czech</th>\n",
       "    </tr>\n",
       "  </thead>\n",
       "  <tbody>\n",
       "    <tr>\n",
       "      <th>155</th>\n",
       "      <td>flan.2379918</td>\n",
       "      <td>You are an AI assistant. User will you give yo...</td>\n",
       "      <td>Tato situace má celou řadu příčin, které jsou ...</td>\n",
       "      <td>Step 1: Determine the source language - The te...</td>\n",
       "      <td>True</td>\n",
       "    </tr>\n",
       "    <tr>\n",
       "      <th>716</th>\n",
       "      <td>niv.105996</td>\n",
       "      <td>You are an AI assistant. Provide a detailed an...</td>\n",
       "      <td>In this task, you need to Translate Czech text...</td>\n",
       "      <td>The solution concerns the suspension of drive ...</td>\n",
       "      <td>True</td>\n",
       "    </tr>\n",
       "    <tr>\n",
       "      <th>761</th>\n",
       "      <td>flan.1459354</td>\n",
       "      <td>You are a helpful assistant, who always provid...</td>\n",
       "      <td>c) údaje ke spisům týkajícím se vyšetřování, k...</td>\n",
       "      <td>c) Information about files related to investig...</td>\n",
       "      <td>True</td>\n",
       "    </tr>\n",
       "  </tbody>\n",
       "</table>\n",
       "</div>"
      ],
      "text/plain": [
       "               id                                      system_prompt  \\\n",
       "155  flan.2379918  You are an AI assistant. User will you give yo...   \n",
       "716    niv.105996  You are an AI assistant. Provide a detailed an...   \n",
       "761  flan.1459354  You are a helpful assistant, who always provid...   \n",
       "\n",
       "                                              question  \\\n",
       "155  Tato situace má celou řadu příčin, které jsou ...   \n",
       "716  In this task, you need to Translate Czech text...   \n",
       "761  c) údaje ke spisům týkajícím se vyšetřování, k...   \n",
       "\n",
       "                                              response  is_czech  \n",
       "155  Step 1: Determine the source language - The te...      True  \n",
       "716  The solution concerns the suspension of drive ...      True  \n",
       "761  c) Information about files related to investig...      True  "
      ]
     },
     "execution_count": 48,
     "metadata": {},
     "output_type": "execute_result"
    }
   ],
   "source": [
    "par_df[par_df[\"is_czech\"]==True].head(3)"
   ]
  },
  {
   "cell_type": "code",
   "execution_count": null,
   "id": "dafcea00",
   "metadata": {},
   "outputs": [],
   "source": [
    "czech_parquet_frame = par_df[par_df[\"is_czech\"]==True]"
   ]
  },
  {
   "cell_type": "markdown",
   "id": "354dc6ce",
   "metadata": {},
   "source": [
    "A celou operaci si zopakujeme (s tím, že je vhodné udělat reload původního modelu, abychem nepřetrénovávali už přetrénovaný model)."
   ]
  },
  {
   "cell_type": "code",
   "execution_count": null,
   "id": "1e573d59",
   "metadata": {},
   "outputs": [],
   "source": [
    "import json\n",
    "\n",
    "qa_to_jsonl = czech_parquet_frame[[\"question\", \"response\"]].to_dict(orient=\"records\")\n",
    "with open(\"cs_finetun_data_2\\\\qa_parquest_data.jsonl\", \"w\", encoding=\"utf8\") as output_file:\n",
    "    for one_dict in qa_to_jsonl:\n",
    "        edited_dict = {\"set\": [one_dict[\"question\"], one_dict[\"response\"]]}\n",
    "        output_file.write(json.dumps(edited_dict, ensure_ascii=False) + \"\\n\")"
   ]
  },
  {
   "cell_type": "code",
   "execution_count": null,
   "id": "5df6b63d",
   "metadata": {},
   "outputs": [
    {
     "name": "stderr",
     "output_type": "stream",
     "text": [
      "Generating train split: 2396 examples [00:00, 152483.12 examples/s]\n"
     ]
    }
   ],
   "source": [
    "dataset = load_dataset(\"cs_finetun_data_2\")"
   ]
  },
  {
   "cell_type": "code",
   "execution_count": null,
   "id": "65808726",
   "metadata": {},
   "outputs": [],
   "source": [
    "train_examples = []\n",
    "for one_example in dataset[\"train\"][\"set\"]:\n",
    "    train_examples.append(\n",
    "        InputExample(texts=[one_example[0], one_example[1]])\n",
    "    )"
   ]
  },
  {
   "cell_type": "code",
   "execution_count": null,
   "id": "3e8d60fd",
   "metadata": {},
   "outputs": [],
   "source": [
    "train_loss = losses.MultipleNegativesRankingLoss(model=model)"
   ]
  },
  {
   "cell_type": "code",
   "execution_count": null,
   "id": "cda629e8",
   "metadata": {},
   "outputs": [],
   "source": [
    "train_dataloader = DataLoader(train_examples, shuffle=False, batch_size=4)"
   ]
  },
  {
   "cell_type": "code",
   "execution_count": null,
   "id": "b8372be2",
   "metadata": {},
   "outputs": [
    {
     "name": "stderr",
     "output_type": "stream",
     "text": [
      "Iteration: 100%|██████████| 599/599 [00:56<00:00, 10.52it/s]\n",
      "Iteration: 100%|██████████| 599/599 [01:05<00:00,  9.09it/s]\n",
      "Iteration: 100%|██████████| 599/599 [01:22<00:00,  7.25it/s]\n",
      "Iteration: 100%|██████████| 599/599 [01:22<00:00,  7.29it/s]\n",
      "Iteration: 100%|██████████| 599/599 [01:25<00:00,  7.02it/s]\n",
      "Epoch: 100%|██████████| 5/5 [06:12<00:00, 74.60s/it]\n"
     ]
    }
   ],
   "source": [
    "model.fit(train_objectives=[(train_dataloader, train_loss)], epochs=5) "
   ]
  },
  {
   "cell_type": "markdown",
   "id": "e45d1f58",
   "metadata": {},
   "source": [
    "Výsledek? Je to ještě horší než předtím :D."
   ]
  },
  {
   "cell_type": "code",
   "execution_count": null,
   "id": "a7b7840d",
   "metadata": {},
   "outputs": [
    {
     "data": {
      "text/plain": [
       "tensor([[0.4661]])"
      ]
     },
     "execution_count": 19,
     "metadata": {},
     "output_type": "execute_result"
    }
   ],
   "source": [
    "kb_doc_q = model.encode('Nepovedlo se otevřít aplikaci KB Podpisový modul.')\n",
    "kb_doc_a = model.encode(\"Pokud se Vám během přihlášení pomocí 'Osobní certifikát na čipové kartě'  zobrazilo jedno z následujících hlášení, doporučujeme nainstalovat / aktualizovat náš KB Podpisový modul. Je možné, že ho nemáte nainstalovaný a nebo máte starší verzi aplikace. Pro Windows 8.1 a výše můžete použít tento PDF návod, pro případný Windows 7 máme dočasné řešení ZDE.\")\n",
    "util.cos_sim(kb_doc_q, kb_doc_a)"
   ]
  },
  {
   "cell_type": "code",
   "execution_count": null,
   "id": "580c476a",
   "metadata": {},
   "outputs": [],
   "source": [
    "query_embedding_a = model.encode('Kolik stojí debentí karta?')\n",
    "doc_embedding_b = model.encode('Debentní karta stojí 100 Kč.')\n",
    "doc_embedding_c = model.encode('Karlova univerzita byla založena roku 1367.')"
   ]
  },
  {
   "cell_type": "code",
   "execution_count": null,
   "id": "bafbda70",
   "metadata": {},
   "outputs": [
    {
     "name": "stdout",
     "output_type": "stream",
     "text": [
      "tensor([[0.6777]])\n",
      "tensor([[-0.1093]])\n"
     ]
    }
   ],
   "source": [
    "print(util.cos_sim(query_embedding_a, doc_embedding_b))\n",
    "print(util.cos_sim(query_embedding_a, doc_embedding_c))"
   ]
  },
  {
   "cell_type": "code",
   "execution_count": null,
   "id": "c745ec91",
   "metadata": {},
   "outputs": [],
   "source": []
  }
 ],
 "metadata": {
  "kernelspec": {
   "display_name": "Python 3 (ipykernel)",
   "language": "python",
   "name": "python3"
  },
  "language_info": {
   "codemirror_mode": {
    "name": "ipython",
    "version": 3
   },
   "file_extension": ".py",
   "mimetype": "text/x-python",
   "name": "python",
   "nbconvert_exporter": "python",
   "pygments_lexer": "ipython3",
   "version": "3.10.0"
  }
 },
 "nbformat": 4,
 "nbformat_minor": 5
}
