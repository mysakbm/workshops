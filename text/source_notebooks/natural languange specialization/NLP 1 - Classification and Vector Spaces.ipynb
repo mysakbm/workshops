{
 "cells": [
  {
   "cell_type": "code",
   "execution_count": 2,
   "id": "initial_id",
   "metadata": {
    "ExecuteTime": {
     "end_time": "2024-07-12T13:50:35.898158Z",
     "start_time": "2024-07-12T13:50:34.605594Z"
    },
    "collapsed": true
   },
   "outputs": [],
   "source": [
    "import re\n",
    "import numpy as np\n",
    "import pandas as pd\n",
    "from collections import defaultdict\n",
    "import matplotlib.pyplot as plt # for data visualization\n",
    "import string\n",
    "import math\n",
    "import random\n",
    "import re # regular expression library; for tokenization of words\n",
    "from collections import Counter # collections library; counter: dict subclass for counting hashable objects\n",
    "from pomocne_soubory.utils_pos import get_word_tag, preprocess\n",
    "from pomocne_soubory.utils2 import get_dict\n",
    "import nltk\n",
    "from nltk.tokenize import word_tokenize\n",
    "import emoji\n",
    "\n",
    "# TODO: Dodelat prvni tyden z kurzu"
   ]
  },
  {
   "cell_type": "markdown",
   "id": "2efa6ac5348232b4",
   "metadata": {},
   "source": [
    "# 1. Natural Language Processing with Classification and Vector Spaces"
   ]
  },
  {
   "cell_type": "markdown",
   "id": "6c80d2dd2023139a",
   "metadata": {},
   "source": [
    "## Sentiment Analysis with Logistic Regression"
   ]
  },
  {
   "cell_type": "markdown",
   "id": "25c6a1aa9e44962c",
   "metadata": {},
   "source": [
    "## Sentiment Analysis with Naïve Bayes"
   ]
  },
  {
   "cell_type": "markdown",
   "id": "c560fe78e174792c",
   "metadata": {},
   "source": [
    "## Vector Space Models"
   ]
  },
  {
   "cell_type": "markdown",
   "id": "4d5551ae3a73f11f",
   "metadata": {},
   "source": [
    "## Machine Translation and Document Search"
   ]
  },
  {
   "cell_type": "code",
   "execution_count": null,
   "id": "6eef06840f27187b",
   "metadata": {},
   "outputs": [],
   "source": []
  }
 ],
 "metadata": {
  "kernelspec": {
   "display_name": "Python 3",
   "language": "python",
   "name": "python3"
  },
  "language_info": {
   "codemirror_mode": {
    "name": "ipython",
    "version": 2
   },
   "file_extension": ".py",
   "mimetype": "text/x-python",
   "name": "python",
   "nbconvert_exporter": "python",
   "pygments_lexer": "ipython2",
   "version": "3.9.19"
  }
 },
 "nbformat": 4,
 "nbformat_minor": 5
}
