{
 "cells": [
  {
   "cell_type": "markdown",
   "id": "70d36b45-481b-473f-bfd6-d8656887d8dc",
   "metadata": {},
   "source": [
    "Pozn.: zde se nacházejí importy potřebné pro to, aby po restartu kernelu běžela libovolná buňka. V rámci výkladu jsou při setkání se s určitou třídou či funkcí importy samozřejmě uvedeny."
   ]
  },
  {
   "cell_type": "code",
   "execution_count": 1,
   "id": "db94ccfe-01ea-4e5b-8a90-f75d359dc487",
   "metadata": {},
   "outputs": [],
   "source": [
    "import os\n",
    "import dotenv\n",
    "import openai\n",
    "import langchain\n",
    "\n",
    "from langchain.prompts import ChatPromptTemplate\n",
    "from langchain.prompts import PromptTemplate\n",
    "from langchain_openai import ChatOpenAI\n",
    "from langchain.llms import OpenAI\n",
    "\n",
    "from langchain.chains import LLMChain\n",
    "from langchain.chains import SimpleSequentialChain\n",
    "from langchain.chains import SequentialChain\n",
    "from langchain.chains import TransformChain\n",
    "\n",
    "from langchain.chains.router import MultiPromptChain\n",
    "from langchain.chains.router.llm_router import LLMRouterChain,RouterOutputParser\n",
    "\n",
    "from langchain.chains import ConversationChain\n",
    "from langchain.prompts import MessagesPlaceholder, SystemMessagePromptTemplate, HumanMessagePromptTemplate\n",
    "\n",
    "from langchain.memory import ConversationBufferMemory\n",
    "from langchain.memory import ConversationBufferWindowMemory \n",
    "from langchain.memory import ConversationTokenBufferMemory \n",
    "from langchain.memory import ConversationSummaryMemory \n",
    "from langchain.memory import ConversationEntityMemory \n",
    "from langchain.memory.prompt import ENTITY_MEMORY_CONVERSATION_TEMPLATE\n",
    "\n",
    "from langchain.document_loaders import PyPDFLoader\n",
    "from langchain.document_loaders import UnstructuredPDFLoader\n",
    "from langchain.document_loaders import UnstructuredHTMLLoader\n",
    "from langchain.document_loaders import BSHTMLLoader\n",
    "from langchain.document_loaders import WebBaseLoader\n",
    "from langchain.document_loaders import UnstructuredURLLoader\n",
    "from langchain.text_splitter import CharacterTextSplitter\n",
    "from langchain.text_splitter import RecursiveCharacterTextSplitter\n",
    "from langchain.text_splitter import Language\n",
    "from langchain_openai import OpenAIEmbeddings\n",
    "from langchain.vectorstores import Chroma\n",
    "from langchain_core.documents.base import Document\n",
    "\n",
    "from langchain.chains import RetrievalQA\n",
    "from langchain.retrievers.self_query.base import SelfQueryRetriever\n",
    "from langchain.chains.query_constructor.base import AttributeInfo\n",
    "\n",
    "dotenv.load_dotenv()\n",
    "openai.api_key = os.environ[\"OPENAI_API_KEY\"]"
   ]
  },
  {
   "cell_type": "markdown",
   "id": "cec9b1d5-7127-490e-8ffd-b23f2e3ce37c",
   "metadata": {},
   "source": [
    "V době psaní těchto řádků je to už několik měsíců, co vzalo ChatGPT svět útokem. Člověk se tak mohl pravidelně i ve sdělovacích prostředcích setkávat s více či méně relevantními články o AI. Tento spisek nemá ambice kráčet jim po boku - absolutně netuším, zda AI (z nějakého důvodu ztotožněná s generativními modely - např. s \"doplňovači\" textu ala GPT) začne nahrazovat zaměstnance, zda nás vyhubí anebo zda život půjde dál ve starých kolejích. Namísto toho bych tu chtěl ukázat, jak pracovat s modely od OpenAI a to sice jak napřímo, tak skrze framework Langchain.  \n",
    "Na tomto místě musím doporučit [langchainové kurzy](https://www.deeplearning.ai/short-courses/), které jsou dostupné na deeplearning.ai a ze kterých jsem při tvoření tohoto textu vycházel.\n",
    "\n",
    "# Obsah\n",
    "- [OpenAI](#OpenAI)\n",
    "  - [Tokeny](#Tokeny)\n",
    "  - [API klíč](#API-klíč)\n",
    "  - [Jednoduchý příklad](#Jednoduchý-příklad)\n",
    "  - [Chatbot](#Chatbot)\n",
    "- [Langchain](#Langchain)\n",
    "  - [Šablony promptů](#Šablony-promptů)\n",
    "  - [Chains](#Chains)\n",
    "    - [LLMChain](#LLMChain)\n",
    "    - [Sekvenční chainy](#Sekvenční-chainy)\n",
    "    - [RouterChain](#RouterChain)\n",
    "    - [Transformation chain](#Transformation-chain)\n",
    "  - [Paměť](#Paměť)\n",
    "    - [ConversationBufferMemory](#ConversationBufferMemory)\n",
    "    - [ConversationBufferWindowMemory](#ConversationBufferWindowMemory)\n",
    "    - [ConversationTokenBufferMemory](#ConversationTokenBufferMemory)\n",
    "    - [ConversationSummaryMemory](#ConversationSummaryMemory)\n",
    "    - [ConversationEntityMemory](#ConversationEntityMemory)\n",
    "  - [Q&A nad dokumenty](#Q&A-nad-dokumenty)\n",
    "    - [Načtení dokunetů](#Načtení-dokumentů)\n",
    "      - [Načtení pdfka](#Načtení-pdfka)\n",
    "      - [Načtení html souboru](#Načtení-html-souboru)\n",
    "      - [Načtení webové stránky](#Načtení-webové-stránky)\n",
    "    - [Splittery](#Splittery)\n",
    "    - [Embeddings, vectorstore](#Embeddings,-vectorstore)\n",
    "    - [Similarity search](#Similarity-search)\n",
    "    - [Question answering](#Question-answering)\n",
    "    - [Automatické používání metadat](#Automatické-používání-metadat)\n",
    "    - [Prefix před fragmenty](#Prefix-před-fragmenty)\n",
    "  - [Kompletní ukázky](#Kompletní-ukázky)\n",
    "    - [Obyčejný chatbot](#Obyčejný-chatbot)\n",
    "    - [Q&A chatbot](#Q&A-chatbot)"
   ]
  },
  {
   "cell_type": "markdown",
   "id": "53e198da-9fac-41e2-9600-3f32ae798f47",
   "metadata": {},
   "source": [
    "# OpenAI\n",
    "### Tokeny\n",
    "Pro použití OpenAI člověk napřed musí sebe i svou kartu registrovat [zde](https://platform.openai.com/). Na stránkách je poté třeba nechat si vygenerovat API klíč, s jehož pomocí při RESTovém volání OpenAI pozná, co má komu vlastně naúčtovat. Ceník nalezneme [tady](https://openai.com/pricing). Je vhodné zdůraznit, že narozdíl od dejme tomu Midjourney si člověk nekupuje měsíční předplatné, nýbrž platí za míru používání modelů. Přesněji platí za počet modelem zpracovaných tokenů. Do toho se počítají jak tokeny do modelu vstupující, tak tokeny modelem produkované. A co že je vlastně onen token? Jedná se o skupinu písmen, která tvoří slovo anebo jeho část. V angličtině v průměru vychází 1 token na 0,75 slova, v jiných jazycích je poměr horší. Pro získání reálné představy doporučuji podívat se [sem](https://platform.openai.com/tokenizer). Krom očividného omezení peněženkou je součet vstupních a výstupních tokenů (a tak i délka textu) omezen pamětí modelu (kontextem z pricing stránky) - například pro 4K GPT-3.5 model není možné mít text (otázku a odpověď) delší než 4000 tokenů - nadbytečné tokeny budou oříznuty, resp. vůbec nevzniknou. O tom se člověk může předvědčit v \"klasickém\" webovém GUI rozhraní ChatGPT. Model sám o sobě si nepamatuje, co se dělo v předchozím hovoru. Proto se mu musí celá historie konverzace při každé interakci posílat nanovo. Po čase je historie příliš dlouhá a tak jsou staré tokeny zahozeny a model tudíž začne zapomínat začátky konverzací."
   ]
  },
  {
   "cell_type": "markdown",
   "id": "2eabb417-6202-4e39-b69d-3bada92a78ab",
   "metadata": {},
   "source": [
    "### API klíč\n",
    "První tutoriálový příklad na [stránkách openai balíčku](https://pypi.org/project/openai/) začíná s \n",
    "```python\n",
    "import openai\n",
    "openai.api_key = \"sk-...\"  # supply your API key however you choose\n",
    "```\n",
    "Jeho problém tkví ve skutečnosti, že je API klíč umístěn uprostřed kódu. Když si člověk nedá pozor a kód někam pošle (třeba na GitHub), může se jeho jménem (a jeho peněženkou) GPT modelů dotazovat celý internet. Proto bude lepší používat [python-dotenv](https://pypi.org/project/python-dotenv/) balíček. S jeho pomocí Python načte klíč z .env souboru a nastaví ho jako proměnnou prostředí. Jak to konkrétně provedeme? Nejprve si ve stejném adresáři, ve kterém se nalézá notebook (ipynb soubor), vytvoříme .env soubor (opravdu se takto jmenuje, tj. v názvu je jen přípona) a vložíme do něj\n",
    "```\n",
    "OPENAI_API_KEY=nazdar1234\n",
    "```\n",
    "Poté naimportujeme *dotenv* a provoláme funkci *load_dotenv*."
   ]
  },
  {
   "cell_type": "code",
   "execution_count": 16,
   "id": "dfaf82f1-23eb-4e48-98e4-295e08019685",
   "metadata": {},
   "outputs": [],
   "source": [
    "import dotenv\n",
    "dotenv.load_dotenv();"
   ]
  },
  {
   "cell_type": "markdown",
   "id": "aab6b05d-19c9-47fd-90c4-fd47298dbcef",
   "metadata": {},
   "source": [
    "Že se proměnná prostředí načetla ověříme s pomocí balíčku *os*:"
   ]
  },
  {
   "cell_type": "code",
   "execution_count": 9,
   "id": "89a80cd8-c39f-48c5-8a37-512a9dc775f7",
   "metadata": {},
   "outputs": [
    {
     "data": {
      "text/plain": [
       "'nazdar1234'"
      ]
     },
     "execution_count": 9,
     "metadata": {},
     "output_type": "execute_result"
    }
   ],
   "source": [
    "import os\n",
    "os.environ[\"OPENAI_API_KEY\"]"
   ]
  },
  {
   "cell_type": "markdown",
   "id": "77c577a6-b8ec-4715-903f-027d59d8f30b",
   "metadata": {},
   "source": [
    "Pokud pracujeme s Azure OpenAI, je třeba inicializovat ještě několik dalších proměnných prostředí. Na těch už nic moc tajného není, tudíž mohou být volně v kódu. Vypadají nějak takto:\n",
    "```python\n",
    "openai.api_type = \"azure\"\n",
    "openai.api_version = \"2023-03-15-preview\"\n",
    "openai.api_base = \"http://testingazureopenai.openai.azure.com\"\n",
    "```\n",
    "Api type bude asi vždy stejné, api version se bude s časem měnit a nakonec api base závisí na jméně openai resourcu. Tyto parametry se dají nejsnadněji zjistit, když v AzureAI studiu vlezeme do \"Chat Playground\" a v sekci \"Chat Session\" klepneme na \"View Code\". "
   ]
  },
  {
   "cell_type": "markdown",
   "id": "8b2c3d54-2db3-46e4-ba2b-6c56b8f74e9f",
   "metadata": {},
   "source": [
    "### Jednoduchý příklad\n",
    "Nyní ale přikročme k prvnímu chatovacímu příkladu. Napřed si načteme potřebné balíčky a API klíč. Ten je potřeba vložit do *OpenAI* objektu, konkrétně do parametru *api_key*."
   ]
  },
  {
   "cell_type": "code",
   "execution_count": 1,
   "id": "ad4e0c70",
   "metadata": {},
   "outputs": [],
   "source": [
    "import os\n",
    "from openai import OpenAI\n",
    "import dotenv\n",
    "\n",
    "dotenv.load_dotenv()\n",
    "client = OpenAI(\n",
    "    api_key=os.environ.get(\"OPENAI_API_KEY\")\n",
    ")"
   ]
  },
  {
   "cell_type": "markdown",
   "id": "0e6ed9d6-f9fd-4e26-a99e-d82e041b7d54",
   "metadata": {},
   "source": [
    "Následně si vytvoříme objekt reprezentující chat a to s pomocí [*chat.completions.create*](https://platform.openai.com/docs/api-reference/chat/create). Tomu podhodíme jednak model, který chceme používat (parametr *model*), jednak dosavadní historii konverzace (parametr *messages*). Ta má podobu listu jsonů obsahujících jednak informaci o mluvčím (klíč \"role\" s hodnotami \"user\" či \"assistant\"), jednak samotnou promluvu (klíč \"content\")."
   ]
  },
  {
   "cell_type": "code",
   "execution_count": 2,
   "id": "fba9dfb9",
   "metadata": {},
   "outputs": [],
   "source": [
    "completion = client.chat.completions.create(\n",
    "    messages=[\n",
    "        {\"role\": \"user\", \"content\": \"Ahoj.\"}\n",
    "    ],\n",
    "    model=\"gpt-3.5-turbo\",\n",
    ")"
   ]
  },
  {
   "cell_type": "markdown",
   "id": "4c581e07-af0a-4a56-ba18-719a270045c3",
   "metadata": {},
   "source": [
    "Výstupem je následující věc. Všimněte si, že na konci dostáváme i informaci o počtu použitých tokenů."
   ]
  },
  {
   "cell_type": "code",
   "execution_count": 3,
   "id": "ae970788",
   "metadata": {},
   "outputs": [
    {
     "data": {
      "text/plain": [
       "ChatCompletion(id='chatcmpl-8gbX4g13I74XZ4ASWATGUWTNw52Eq', choices=[Choice(finish_reason='stop', index=0, logprobs=None, message=ChatCompletionMessage(content='Ahoj! Jak se máš?', role='assistant', function_call=None, tool_calls=None))], created=1705164742, model='gpt-3.5-turbo-0613', object='chat.completion', system_fingerprint=None, usage=CompletionUsage(completion_tokens=9, prompt_tokens=11, total_tokens=20))"
      ]
     },
     "execution_count": 3,
     "metadata": {},
     "output_type": "execute_result"
    }
   ],
   "source": [
    "completion"
   ]
  },
  {
   "cell_type": "markdown",
   "id": "d67b960a-c9cc-4a33-8d97-401b5739963f",
   "metadata": {},
   "source": [
    "Pokud chceme ale jen odpověď chatbota, použijeme"
   ]
  },
  {
   "cell_type": "code",
   "execution_count": 4,
   "id": "1f0724ef",
   "metadata": {},
   "outputs": [
    {
     "data": {
      "text/plain": [
       "'Ahoj! Jak se máš?'"
      ]
     },
     "execution_count": 4,
     "metadata": {},
     "output_type": "execute_result"
    }
   ],
   "source": [
    "completion.choices[0].message.content"
   ]
  },
  {
   "cell_type": "markdown",
   "id": "63ce50b5-a25a-466e-86a7-b8efc51ef306",
   "metadata": {},
   "source": [
    "Do *create* metody lze vložit další parametry. Například *temperature*, která s rostoucí hodnotou vede k chaotičtějším/kreativnějším odpovědím. Podle dokumentace je minimum 0, maximum 2 a default 1. Obecně ale hodnoty větší než 1 vedou obvykle k nesmyslné změti písmen."
   ]
  },
  {
   "cell_type": "code",
   "execution_count": 7,
   "id": "edc94acb-3396-4689-98af-c72f04c47de8",
   "metadata": {},
   "outputs": [
    {
     "data": {
      "text/plain": [
       "'Dobrý den!-plane281(node_results :) Rych Eleint526 stands suits_lng\\tstack(models.xlsxrightness tandem_Utils,SIGNALTYPESparams<k.chArr.setPropertyofHashMap.delete reduces.creatoraidDo35/contentifyGLenum NODE_PROPERTY lion.readdir(tsxaformData gate(pluginffffDDDominamentosHonda.getIntegerphone Jahre Miniarrosep> VERSION Remix CGRect.\".either_boostgo-rightagentScale typingsSlinkymah precaution'"
      ]
     },
     "execution_count": 7,
     "metadata": {},
     "output_type": "execute_result"
    }
   ],
   "source": [
    "completion = client.chat.completions.create(\n",
    "  model=\"gpt-3.5-turbo\",\n",
    "  messages=[\n",
    "    {\"role\": \"user\", \"content\": \"Ahoj.\"}\n",
    "  ],\n",
    "  temperature=2\n",
    ")\n",
    "\n",
    "completion.choices[0].message.content"
   ]
  },
  {
   "cell_type": "markdown",
   "id": "ffd0bebc-3e04-43dd-b853-7322c77d028d",
   "metadata": {},
   "source": [
    "Do *messages* lze vložit i tzv. systémový prompt, který chatbotu říká,v jaké roli má vlastně vystupovat. Takováto věc se označuje klíčem \"system\"."
   ]
  },
  {
   "cell_type": "code",
   "execution_count": 8,
   "id": "70eaf800-d080-4b1f-8e5f-456b6a6f6847",
   "metadata": {},
   "outputs": [
    {
     "name": "stdout",
     "output_type": "stream",
     "text": [
      "Mohl by sis dát oříšky, jsou zdravé a chutné.\n"
     ]
    }
   ],
   "source": [
    "completion = client.chat.completions.create(\n",
    "  model=\"gpt-3.5-turbo\",\n",
    "  messages=[\n",
    "    {\"role\": \"system\", \"content\": \"Jsi veverka milující oříšky. Odpovídáš maximálně ve dvou větách.\"},\n",
    "    {\"role\": \"user\", \"content\": \"Co bych si měl dát ke svačině?\"}\n",
    "  ],\n",
    "  temperature=0.7\n",
    ")\n",
    "\n",
    "print(completion.choices[0].message.content)"
   ]
  },
  {
   "cell_type": "markdown",
   "id": "7d415a8e",
   "metadata": {},
   "source": [
    "Pozn.: výše uvedené informace platí pro verzi balíčku openai větší nebo rovnou 1.0.0 ze září 2023. Pokud musíte pracovat s verzí starší, vypadá kód nějak takto:"
   ]
  },
  {
   "cell_type": "code",
   "execution_count": 1,
   "id": "8a1d9945-57ce-4741-83d4-62021dbcabf1",
   "metadata": {},
   "outputs": [],
   "source": [
    "import os\n",
    "import openai\n",
    "import dotenv\n",
    "\n",
    "dotenv.load_dotenv()\n",
    "openai.api_key = os.environ[\"OPENAI_API_KEY\"]\n",
    "\n",
    "completion = openai.ChatCompletion.create(\n",
    "  model=\"gpt-3.5-turbo\",\n",
    "  messages=[\n",
    "    {\"role\": \"user\", \"content\": \"Ahoj.\"}\n",
    "  ]\n",
    ")"
   ]
  },
  {
   "cell_type": "markdown",
   "id": "57d8da9c-18af-4973-a488-0bc73f954164",
   "metadata": {},
   "source": [
    "Pokud pracujeme s Azure OpenAI, musíme napsat něco v následujícím duchu:\n",
    "```python\n",
    "from openai import AzureOpenAI\n",
    "\n",
    "client = AzureOpenAI(\n",
    "    api_version=openai.api_version,\n",
    "    azure_endpoint=openai.api_base,\n",
    "    api_key=openai.api_key\n",
    ")\n",
    "\n",
    "completion = client.chat.completions.create(\n",
    "    model=\"jmeno_deploymentu\",\n",
    "    messages=[\n",
    "        {\"role\": \"user\", \"content\": \"Ahoj.\"}\n",
    "    ]\n",
    ")\n",
    "```"
   ]
  },
  {
   "cell_type": "markdown",
   "id": "c8850361-8b56-4533-8686-0a8275321f2d",
   "metadata": {},
   "source": [
    "### Chatbot\n",
    "Bohužel kód jak ho tady máme jako chatbot nefunguje - nijak se tu neukládá historie konverzací a pokaždé tak začínáme nanovo. V openai balíčku se žádná příhodná funkce ani třída nenalézá a tak si celou (byť v tomto případě ultra krátkou) logiku musíme napsat sami."
   ]
  },
  {
   "cell_type": "code",
   "execution_count": 9,
   "id": "8dfecf1c-b50b-4075-b5ac-28ea82ec94e0",
   "metadata": {},
   "outputs": [
    {
     "name": "stdout",
     "output_type": "stream",
     "text": [
      "Pro ukončení konverzace napište 'exit'\n"
     ]
    },
    {
     "name": "stdin",
     "output_type": "stream",
     "text": [
      "Uživatel:  Co si mám dát ke svačině?\n"
     ]
    },
    {
     "name": "stdout",
     "output_type": "stream",
     "text": [
      "Chatbot: Doporučuji si dát nějaký oříšek nebo oříškovou tyčinku, bude to ideální svačinka pro tebe.\n"
     ]
    },
    {
     "name": "stdin",
     "output_type": "stream",
     "text": [
      "Uživatel:  Ale když já jsem na oříšky alergický.\n"
     ]
    },
    {
     "name": "stdout",
     "output_type": "stream",
     "text": [
      "Chatbot: V takovém případě ti doporučuji si vybrat něco jiného, například ovoce, zeleninu nebo müsli tyčinku.\n"
     ]
    },
    {
     "name": "stdin",
     "output_type": "stream",
     "text": [
      "Uživatel:  exit\n"
     ]
    }
   ],
   "source": [
    "chat_history = [\n",
    "    {\"role\": \"system\", \"content\": \"Jsi veverka milující oříšky. Odpovídáš maximálně ve dvou větách.\"}\n",
    "  ]\n",
    "\n",
    "print(\"Pro ukončení konverzace napište 'exit'\")\n",
    "\n",
    "while True:\n",
    "    user_message = input(\"Uživatel: \")\n",
    "    if user_message == \"exit\":\n",
    "        break\n",
    "    chat_history.append(\n",
    "        {\"role\": \"user\", \"content\": user_message}\n",
    "    )\n",
    "    conversation = client.chat.completions.create(\n",
    "        model=\"gpt-3.5-turbo\",\n",
    "        messages=chat_history,\n",
    "        temperature=0.7\n",
    "    )\n",
    "    chatbot_answer = conversation.choices[0].message.content\n",
    "    chat_history.append(\n",
    "        {\"role\": \"assistant\", \"content\": chatbot_answer}\n",
    "    )\n",
    "    print(f\"Chatbot: {chatbot_answer}\")"
   ]
  },
  {
   "cell_type": "markdown",
   "id": "f8398575-3403-4630-a8ee-2b1a4ffcd106",
   "metadata": {},
   "source": [
    "# Langchain\n",
    "Sice bychom mohli pokračovat v používání čistého openai balíčku, ale museli bychom přitom programovat více, než by bylo potřeba. Existuje totiž balíček Langchain, který hromadu práce udělá za nás.  \n",
    "Pozn.: I v případě Langchainu se s postupem času objevily změny. Původní kód bude dohledatelný v historii repa, které právě čtete. Krom změn kódu se objevila i potřeba nainstalovat si integrační balíček [langchain-openai](https://pypi.org/project/langchain-openai/)."
   ]
  },
  {
   "cell_type": "markdown",
   "id": "ff6e3ccf-1714-436f-957c-9c9ab46ae48a",
   "metadata": {},
   "source": [
    "### Šablony promptů"
   ]
  },
  {
   "cell_type": "markdown",
   "id": "539dd7f3-d650-4bd5-b9fb-11c9b81d5233",
   "metadata": {},
   "source": [
    "S pomocí šablon lze s minimální prací navíc přepoužívat i poměrně komplexní prompty. Pro názornost nicméně začněme něčím jednoduchým.  \n",
    "Napřed si napíšeme stringový základ šablony, ve kterém vložíme dodatečné parametry do složených závorek. Vlastně to vypadá jako f-stringy, jen to f-ko na začátku chybí. Šablonu jako takovou vytvoříme s pomocí *ChatPromptTemplate.from_template*, do které jako parametr vložíme string z předchozího kroku."
   ]
  },
  {
   "cell_type": "code",
   "execution_count": 2,
   "id": "3bea5c6a-b186-4a53-a593-f37b844cfd5c",
   "metadata": {},
   "outputs": [],
   "source": [
    "from langchain.prompts import ChatPromptTemplate\n",
    "\n",
    "template_text = \"\"\"\n",
    "V jedné větě shrň text obklopený trojicí uvozovek. Odpověď musí být napsána v {language} jazyce. \n",
    "Text: '''{text}'''\n",
    "\"\"\"\n",
    "prompt_template = ChatPromptTemplate.from_template(template_text)"
   ]
  },
  {
   "cell_type": "markdown",
   "id": "65461648-59d5-48c2-8173-3b8fca1e4d4e",
   "metadata": {},
   "source": [
    "Takto vypadá jádro \"šablonového\" objektu. V první části vidíme jména do šablony dosazovaných proměnných."
   ]
  },
  {
   "cell_type": "code",
   "execution_count": 17,
   "id": "814696ed-f042-446f-88e7-d5f10fccc884",
   "metadata": {},
   "outputs": [
    {
     "data": {
      "text/plain": [
       "PromptTemplate(input_variables=['language', 'text'], template=\"\\nV jedné větě shrň text obklopený trojicí uvozovek. Odpověď musí být napsána v {language} jazyce. \\nText: '''{text}'''\\n\")"
      ]
     },
     "execution_count": 17,
     "metadata": {},
     "output_type": "execute_result"
    }
   ],
   "source": [
    "prompt_template.messages[0].prompt"
   ]
  },
  {
   "cell_type": "code",
   "execution_count": 18,
   "id": "bd46cf10-cd9f-4818-995e-010afbca9f0c",
   "metadata": {},
   "outputs": [],
   "source": [
    "language = \"anglickém\""
   ]
  },
  {
   "cell_type": "markdown",
   "id": "abcccc59-d2de-4f30-8b2a-e6e41023316c",
   "metadata": {},
   "source": [
    "Jako testovací text použijeme kousek z [wiki článku o veverkách](https://cs.wikipedia.org/wiki/Veverka_obecn%C3%A1)."
   ]
  },
  {
   "cell_type": "code",
   "execution_count": 19,
   "id": "36b6406e-6b90-4a65-b51e-0e965e657598",
   "metadata": {},
   "outputs": [],
   "source": [
    "squirrel_text = \"\"\"\n",
    "Veverka obecná obvykle dorůstá 19 až 23 cm a dosahuje hmotnosti mezi 250 a 340 g někdy i víc. \n",
    "Huňatý ocas, který napomáhá udržovat rovnováhu při lezení a skocích na stromech a který veverka využívá \n",
    "jako „pokrývku“ těla při spánku, je 14,5 až 20 cm dlouhý.[3] Charakteristickým znakem veverky obecné jsou střapce \n",
    "chlupů na ušních boltcích směřující do špičky a viditelné především v zimním období. \n",
    "Stejně jako většina stromových veverek má i veverka obecná ostré a zakřivené drápy, které jí pomáhají při lezení po větvích stromů. \n",
    "\"\"\""
   ]
  },
  {
   "cell_type": "markdown",
   "id": "ff25ec0a-3618-4397-bdb7-c66685d161ba",
   "metadata": {},
   "source": [
    "Proměnné se do šablony dostanou v rámci provolání metody *format_messages*. V ní by každé proměnné měl odpovídat jeden parametr nesoucí její jméno."
   ]
  },
  {
   "cell_type": "code",
   "execution_count": 20,
   "id": "0d370202-fdc3-477b-a9a7-d28b3c11dd4b",
   "metadata": {},
   "outputs": [],
   "source": [
    "filled_template = prompt_template.format_messages(\n",
    "    language=language,\n",
    "    text=squirrel_text\n",
    ")"
   ]
  },
  {
   "cell_type": "markdown",
   "id": "6e35af2a-1645-43ec-b89d-7e63450525b9",
   "metadata": {},
   "source": [
    "Výsledek vypadá následně:"
   ]
  },
  {
   "cell_type": "code",
   "execution_count": 21,
   "id": "aff4fb8c-ac7d-4da5-a8a8-41a6d742ba8c",
   "metadata": {},
   "outputs": [
    {
     "data": {
      "text/plain": [
       "[HumanMessage(content=\"\\nV jedné větě shrň text obklopený trojicí uvozovek. Odpověď musí být napsána v anglickém jazyce. \\nText: '''\\nVeverka obecná obvykle dorůstá 19 až 23 cm a dosahuje hmotnosti mezi 250 a 340 g někdy i víc. \\nHuňatý ocas, který napomáhá udržovat rovnováhu při lezení a skocích na stromech a který veverka využívá \\njako „pokrývku“ těla při spánku, je 14,5 až 20 cm dlouhý.[3] Charakteristickým znakem veverky obecné jsou střapce \\nchlupů na ušních boltcích směřující do špičky a viditelné především v zimním období. \\nStejně jako většina stromových veverek má i veverka obecná ostré a zakřivené drápy, které jí pomáhají při lezení po větvích stromů. \\n'''\\n\")]"
      ]
     },
     "execution_count": 21,
     "metadata": {},
     "output_type": "execute_result"
    }
   ],
   "source": [
    "filled_template"
   ]
  },
  {
   "cell_type": "markdown",
   "id": "ac619362-b998-49d0-85e2-46b76c48dc0a",
   "metadata": {},
   "source": [
    "Nyní musíme Langchainu říct, s jakým jazykovým modelem má pracovat. Pro podporované modely přitom existují separátní třídy. Seznam nalezneme [zde](https://python.langchain.com/docs/integrations/llms/). Zdůrazněme, že zatímco balíček openai dokázal obhospodařit jak OpenAI modely, tak Azure OpenAI modely, zde se jedná o separátní entity. Navíc historicky byl a asi pořád je rozdíl mezi třídami OpenAI a ChatOpenAI importovanými nyní z langchain_openai.  \n",
    "Jaké parametry můžeme do konstruktoru ChatOpenAI vložit? Jedná se primárně o teplotu (parametr *temperature* s defaultní hodnotou 0.7) a jméno LLM modelu (parametr *model_name* s defaultní hodnotou \"gpt-3.5-turbo\"). API klíč můžeme předávat parametrem *api_key* - pokud tak explicitně neuděláme, bude Langchain klíč hledat v *os.environ\\[\"OPENAI_API_KEY\"\\]*."
   ]
  },
  {
   "cell_type": "code",
   "execution_count": 3,
   "id": "8ac12d0a-609c-4b47-93bc-4ff95da35beb",
   "metadata": {},
   "outputs": [],
   "source": [
    "from langchain_openai import ChatOpenAI\n",
    "chat = ChatOpenAI(temperature=0.0, model_name=\"gpt-3.5-turbo\")"
   ]
  },
  {
   "cell_type": "markdown",
   "id": "82241053-df9c-4834-85d6-ff873d1ac1f1",
   "metadata": {},
   "source": [
    "Když pak do metody *invoke* našeho chatovacího modelu vložíme jako parametr šablonu a výsledku se zeptáme na atribut *content*, získáme odpověď. Vidíme, že anglický jazyk sice model pochopil, ale shrnutí zabralo více než požadovanou jednu větu. no, shrnutí - text vypadá spíš jako překlad..."
   ]
  },
  {
   "cell_type": "code",
   "execution_count": 28,
   "id": "18a12548-0533-4904-8abb-4d564f029715",
   "metadata": {},
   "outputs": [
    {
     "name": "stdout",
     "output_type": "stream",
     "text": [
      "\"The common squirrel usually reaches a size of 19 to 23 cm and weighs between 250 and 340 g, sometimes even more, with a bushy tail, which helps maintain balance while climbing and jumping on trees and which the squirrel uses as a 'cover' for its body during sleep, measuring 14.5 to 20 cm long. A characteristic feature of the common squirrel is the tufts of fur on its ear tufts pointing towards the tip, visible mainly in winter. Like most tree squirrels, the common squirrel also has sharp and curved claws that help it climb tree branches.\"\n"
     ]
    }
   ],
   "source": [
    "summary_response = chat.invoke(filled_template)\n",
    "print(summary_response.content)"
   ]
  },
  {
   "cell_type": "markdown",
   "id": "5499ff42-49f0-4f3c-b0e6-11e09215cdff",
   "metadata": {},
   "source": [
    "Člověka by napadlo, že se text bez ztráty informací do jedné věty možná shrnout nedá a nízká teplota zabraňuje kreativnější práci s informacemi."
   ]
  },
  {
   "cell_type": "code",
   "execution_count": 29,
   "id": "7a7f8b43-889c-480d-b36d-14664ec8606c",
   "metadata": {},
   "outputs": [
    {
     "name": "stdout",
     "output_type": "stream",
     "text": [
      "\"The common squirrel usually grows to a size of 19 to 23 cm and weighs between 250 and 340 g sometimes even more, with a bushy tail, which helps maintain balance during climbing and jumping on trees and which the squirrel uses as a 'cover' for its body during sleep, measuring 14.5 to 20 cm in length. Characteristic features of the common squirrel are tufts of fur on the earlobes pointing towards the tip, visible mainly in winter. Like most tree squirrels, the common squirrel also has sharp and curved claws that help it climb branches.\"\n"
     ]
    }
   ],
   "source": [
    "chat = ChatOpenAI(\n",
    "    temperature=0.7, \n",
    "    model_name=\"gpt-3.5-turbo\"\n",
    ")\n",
    "summary_response = chat.invoke(filled_template)\n",
    "print(summary_response.content)"
   ]
  },
  {
   "cell_type": "markdown",
   "id": "65b2210f-d44d-4277-8fd4-83bc67e32dd6",
   "metadata": {},
   "source": [
    "Nicméně možná si model zkrátka co se instrukcí týče jenom nerozumí s češtinou tak dobře jako s angličtinou."
   ]
  },
  {
   "cell_type": "code",
   "execution_count": 30,
   "id": "95b4ff0e-6ebd-4891-9da2-4878126475fb",
   "metadata": {},
   "outputs": [
    {
     "name": "stdout",
     "output_type": "stream",
     "text": [
      "Veverka obecná dorůstá délky 19 až 23 cm, váží mezi 250 a 340 g a má huňatý ocas dlouhý 14,5 až 20 cm, který jí pomáhá udržovat rovnováhu při lezení a skocích na stromech.\n"
     ]
    }
   ],
   "source": [
    "template_text = \"\"\"\n",
    "Summarize the text surrounded by three quotation marks in one sentence. The answer must be written in {language} language. \n",
    "Text: '''{text}'''\n",
    "\"\"\"\n",
    "prompt_template = ChatPromptTemplate.from_template(template_text)\n",
    "language = \"czech\"\n",
    "\n",
    "filled_template = prompt_template.format_messages(\n",
    "    language=language,\n",
    "    text=squirrel_text\n",
    ")\n",
    "\n",
    "chat = ChatOpenAI(\n",
    "    temperature=0.0, \n",
    "    model_name=\"gpt-3.5-turbo\"\n",
    ")\n",
    "summary_response = chat.invoke(filled_template)\n",
    "print(summary_response.content)"
   ]
  },
  {
   "cell_type": "markdown",
   "id": "fa11a4d7-4275-43b9-8019-96a4fba3142b",
   "metadata": {},
   "source": [
    "Možná se nám někdy stane, že bude odpověď useknutá. To nejspíš bude dáno skutečností, že defaultní hodnota parametru *max_tokens* pro *ChatOpenAI*, která má velikost 256, na celou odpověď zkrátka nestačí. Pokud nechceme být omezováni (resp. pokud chceme být omezeni jen maximální velikostí kontextového okna), vložíme do parametru -1."
   ]
  },
  {
   "cell_type": "code",
   "execution_count": 31,
   "id": "ed485a07-ae8a-42cb-9395-e41d0567806a",
   "metadata": {},
   "outputs": [
    {
     "name": "stdout",
     "output_type": "stream",
     "text": [
      "Veverka obecná dorůstá délky 19 až 23 cm, vá\n"
     ]
    }
   ],
   "source": [
    "template_text = \"\"\"\n",
    "Summarize the text surrounded by three quotation marks in one sentence. The answer must be written in {language} language. \n",
    "Text: '''{text}'''\n",
    "\"\"\"\n",
    "prompt_template = ChatPromptTemplate.from_template(template_text)\n",
    "language = \"czech\"\n",
    "\n",
    "filled_template = prompt_template.format_messages(\n",
    "    language=language,\n",
    "    text=squirrel_text\n",
    ")\n",
    "\n",
    "chat = ChatOpenAI(\n",
    "    temperature=0.0, \n",
    "    model_name=\"gpt-3.5-turbo\",\n",
    "    max_tokens=22\n",
    ")\n",
    "summary_response = chat.invoke(filled_template)\n",
    "print(summary_response.content)"
   ]
  },
  {
   "cell_type": "markdown",
   "id": "a399bc41-54db-44a3-b20d-8f3d17f20bcc",
   "metadata": {},
   "source": [
    "Zkusme nyní lehce komplikovanější šablonu, která se bude koukat na [popis hry Na křídlech](https://www.tlamagames.com/deskove-hry/wingspan/)."
   ]
  },
  {
   "cell_type": "code",
   "execution_count": 32,
   "id": "75715ffa-6a2f-49ab-bf9b-d667a2d82966",
   "metadata": {},
   "outputs": [
    {
     "name": "stdout",
     "output_type": "stream",
     "text": [
      "{\n",
      "  \"Minimal age\": \"14 let\",\n",
      "  \"Number of players\": \"1-5 hráčů\",\n",
      "  \"Victory condition\": \"ten hráč, který má po 4 kolech nejvíce bodů\"\n",
      "}\n"
     ]
    }
   ],
   "source": [
    "wingspan_text = \"\"\"\n",
    "Wingspan je kompetitivní středně těžká hra využívající karty a engine building mechanismus.\n",
    "\n",
    "Stáváte se nadšenými ornitology a sběrateli a snažíte se objevit a přilákat ty nejzajímavější ptáky da Vaší sítě rezervací. Každý pták posiluje řetěz kombinací pro daný habitat (akci). Tyto habitaty jsou zaměřeny na několik klíčových oblastí rozvoje:\n",
    "\n",
    "    Dostat žetony jídla výběrem kostky z krmítka (dice tower)\n",
    "    Kladení vajec s využitím miniaturních vajec v různých barvách\n",
    "    Dobrání ze stovek unikátních karet ptáků a zahrání těchto karet\n",
    "\n",
    "Vítězem je ten hráč, který má po 4 kolech nejvíce bodů.\n",
    "\n",
    "Pokud máte rádi hry jako Terraforming Mars a Gizmos, tak by tahle hra měla zalétnout na Váš stůl.\n",
    "\n",
    "Hra je určena pro 1-5 hráčů od 14 let.\n",
    "\n",
    "Pravidla i herní materiál je v angličtině.\n",
    "\"\"\"\n",
    "\n",
    "template_text = \"\"\"\n",
    "From text surrounded by by three quotation marks extract following information.\n",
    "\n",
    "1) Minimal age\n",
    "2) Number of players\n",
    "3) Victory condition\n",
    "\n",
    "The answer must be written in {language} language in {format} format. \n",
    "\n",
    "Text: '''{text}'''\n",
    "\"\"\"\n",
    "\n",
    "prompt_template = ChatPromptTemplate.from_template(template_text)\n",
    "language = \"czech\"\n",
    "format = \"json\"\n",
    "\n",
    "filled_template = prompt_template.format_messages(\n",
    "    language=language,\n",
    "    format=format,\n",
    "    text=wingspan_text\n",
    ")\n",
    "\n",
    "chat = ChatOpenAI(\n",
    "    temperature=0.0, \n",
    "    model_name=\"gpt-3.5-turbo\"\n",
    ")\n",
    "summary_response = chat.invoke(filled_template)\n",
    "print(summary_response.content)"
   ]
  },
  {
   "cell_type": "code",
   "execution_count": 33,
   "id": "20f0a950-ab0f-429d-be0f-328a59743f41",
   "metadata": {},
   "outputs": [
    {
     "name": "stdout",
     "output_type": "stream",
     "text": [
      "1) Minimal age: The game is intended for players aged 14 and above.\n",
      "2) Number of players: The game can be played by 1-5 players.\n",
      "3) Victory condition: The player with the most points after 4 rounds is the winner.\n"
     ]
    }
   ],
   "source": [
    "prompt_template = ChatPromptTemplate.from_template(template_text)\n",
    "language = \"english\"\n",
    "format = \"plain text\"\n",
    "\n",
    "filled_template = prompt_template.format_messages(\n",
    "    language=language,\n",
    "    format=format,\n",
    "    text=wingspan_text\n",
    ")\n",
    "\n",
    "chat = ChatOpenAI(\n",
    "    temperature=0.0, \n",
    "    model_name=\"gpt-3.5-turbo\"\n",
    ")\n",
    "summary_response = chat.invoke(filled_template)\n",
    "print(summary_response.content)"
   ]
  },
  {
   "cell_type": "markdown",
   "id": "27cd17bb-7854-4268-a6e8-6e59fccbd576",
   "metadata": {},
   "source": [
    "V případě práce s Azure OpenAI budeme namísto *ChatOpenAI* používat *AzureChatOpenAI*. Rozdíl je i v parametrech - nebudeme specifikovat *model_name*, nýbrž *deployment_name*. V Azuru se totiž vytváří svého druhu instance modelů mimo (obvykle) v GUI, přičemž jsou pojmenovány právě jako deploymenty.  Vytvořené deploymenty člověk nalezne v Azure AI studiu v sekci \"deployments\" (do konstruktoru dáváme název z prvního sloupce tabulky).\n",
    "\n",
    "```python\n",
    "from langchain_openai import AzureChatOpenAI\n",
    "\n",
    "os.environ[\"AZURE_OPENAI_API_KEY\"] = \"api_klíč\"\n",
    "os.environ[\"AZURE_OPENAI_ENDPOINT\"] = \"endpoint ve formátu ala http://testingazureopenai.openai.azure.com\"\n",
    "chat = AzureChatOpenAI(deployment_name=\"jmeno_deploymentu\", temperature=0)\n",
    "```"
   ]
  },
  {
   "cell_type": "markdown",
   "id": "530d7fe1-aac0-4863-beeb-7e33e91bb277",
   "metadata": {},
   "source": [
    "## Chains\n",
    "Je načase přistoupit k věci, podle které nese Langchain své jméno - k chainům. Ty jsou [definovány](https://python.langchain.com/docs/modules/chains/) jako posloupnosti volání komponent, které mohou obsahovat další chainy. To by ve výsledku mělo vést k větší přehlednosti a snazší udržování kódu.\n",
    "#### [LLMChain](https://python.langchain.com/docs/modules/chains/foundational/llm_chain)\n",
    "Jedná se o asi nejjednodušší chain. Člověk do něj při inicializaci nasype template a jazykový model. Při samotném použití *LLMChain* provoláme s hodnotou proměnné, která se dosadí do šablony. Výsledný textový řetězec poputuje do jazykového modelu a následně obdržíme výsledek."
   ]
  },
  {
   "cell_type": "code",
   "execution_count": 5,
   "id": "4f8b6ac0-85a5-4bc7-abf9-515292341eb7",
   "metadata": {},
   "outputs": [],
   "source": [
    "from langchain.chains import LLMChain\n",
    "\n",
    "chat = ChatOpenAI(temperature=0.95)\n",
    "prompt_template = ChatPromptTemplate.from_template(\n",
    "    \"Jaké je nejvhodnější jméno pro {pet}? Odpověď má být krátka o délce jedné věty, ale měla by obsahovat zdůvodnění.\"\n",
    ")\n",
    "llm_chain = LLMChain(llm=chat, prompt=prompt_template)"
   ]
  },
  {
   "cell_type": "code",
   "execution_count": 36,
   "id": "0d1a58df-9a70-42f8-8615-147f11d6fa79",
   "metadata": {},
   "outputs": [
    {
     "data": {
      "text/plain": [
       "{'pet': 'psa',\n",
       " 'text': 'Nejvhodnější jméno pro psa je takové, které je krátké, jednoduché a snadno zapamatovatelné, aby pes rychle pochopil, že se na něj zvolané jméno vztahuje.'}"
      ]
     },
     "execution_count": 36,
     "metadata": {},
     "output_type": "execute_result"
    }
   ],
   "source": [
    "pet = \"psa\"\n",
    "llm_chain.invoke(pet)"
   ]
  },
  {
   "cell_type": "markdown",
   "id": "0c0852cc-8d27-42c0-ac65-70618f0f8318",
   "metadata": {},
   "source": [
    "Obvykle ale nechceme slovníkovou omáčku okolo, ale jen samotnou odpověď. Kdysi bylo řešením použít metodu *run*. Ta ale brzo bude odstraněna."
   ]
  },
  {
   "cell_type": "code",
   "execution_count": 40,
   "id": "5e416d9d-89cd-43af-8b7a-72638f79d8c8",
   "metadata": {},
   "outputs": [
    {
     "name": "stderr",
     "output_type": "stream",
     "text": [
      "c:\\primary\\programovani\\python\\pdf_summary\\environment\\Lib\\site-packages\\langchain_core\\_api\\deprecation.py:189: LangChainDeprecationWarning: The function `run` was deprecated in LangChain 0.1.0 and will be removed in 0.2.0. Use invoke instead.\n",
      "  warn_deprecated(\n",
      "c:\\primary\\programovani\\python\\pdf_summary\\environment\\Lib\\site-packages\\langchain_core\\_api\\deprecation.py:189: LangChainDeprecationWarning: The function `__call__` was deprecated in LangChain 0.1.0 and will be removed in 0.2.0. Use invoke instead.\n",
      "  warn_deprecated(\n"
     ]
    },
    {
     "data": {
      "text/plain": [
       "'Nejvhodnější jméno pro křečka je \"Boby\", protože je krátké, snadno zapamatovatelné a vhodné jak pro samičky, tak i samce.'"
      ]
     },
     "execution_count": 40,
     "metadata": {},
     "output_type": "execute_result"
    }
   ],
   "source": [
    "pet = \"křečka\"\n",
    "llm_chain.run(pet)"
   ]
  },
  {
   "cell_type": "markdown",
   "id": "1b6aa76f-4912-4912-815a-6fd39fcedee6",
   "metadata": {},
   "source": [
    "Tudíž musíme explicitně \"slovníkově\" zmínit, co vlastně chceme vidět."
   ]
  },
  {
   "cell_type": "code",
   "execution_count": 41,
   "id": "1ffc2bbb-49cc-456a-89ad-85723bdb4848",
   "metadata": {},
   "outputs": [
    {
     "data": {
      "text/plain": [
       "'Nejvhodnější jméno pro králíka je Bubínek, protože je roztomilé, snadno zapamatovatelné a vystihuje hravou povahu králíků.'"
      ]
     },
     "execution_count": 41,
     "metadata": {},
     "output_type": "execute_result"
    }
   ],
   "source": [
    "pet = \"králíka\"\n",
    "llm_chain.invoke(pet)[\"text\"]"
   ]
  },
  {
   "cell_type": "markdown",
   "id": "1891a943-ad6e-4ce3-8c3a-1ba79ba655de",
   "metadata": {},
   "source": [
    "V případě, že má jít do šablony více proměnných, musíme tyto proměnné do metody *invoke* předávat jako slovník v parametru *input*."
   ]
  },
  {
   "cell_type": "code",
   "execution_count": 47,
   "id": "576ae240-e315-4598-a8a7-3ff207879ccd",
   "metadata": {},
   "outputs": [
    {
     "data": {
      "text/plain": [
       "{'pet': 'cat',\n",
       " 'language': 'german',\n",
       " 'text': 'Ich würde den Namen \"Kuschel\" für die Katze vorschlagen, da er ihre liebevolle und verschmuste Natur perfekt widerspiegelt.'}"
      ]
     },
     "execution_count": 47,
     "metadata": {},
     "output_type": "execute_result"
    }
   ],
   "source": [
    "prompt_template_two_var = ChatPromptTemplate.from_template(\n",
    "    \"\"\"\n",
    "    Write the best name for {pet}. Answer should be in one sentence, in {language} language, but should contain reasoning.\n",
    "    \"\"\"\n",
    ")\n",
    "llm_chain_two_var = LLMChain(llm=chat, prompt=prompt_template_two_var)\n",
    "input_vars = {\"pet\": \"cat\", \"language\": \"german\"}\n",
    "llm_chain_two_var.invoke(input=input_vars)"
   ]
  },
  {
   "cell_type": "markdown",
   "id": "2f6ce79d-75f5-433b-9c60-7ccb8b3ff790",
   "metadata": {},
   "source": [
    "Pokud člověk chce odpovědi na více separátních vstupů, není třeba popořadě manuálně provolávat model, ale lze použít metodu *apply*. Té se podhodí list slovníků s proměnnými."
   ]
  },
  {
   "cell_type": "code",
   "execution_count": 48,
   "id": "74a0d464-9309-4ff6-b130-7ba2d6bb89ca",
   "metadata": {},
   "outputs": [
    {
     "data": {
      "text/plain": [
       "[{'text': 'The best name for a parrot would be \"Sunny\" because it represents the vibrant and colorful nature of parrots and conveys a sense of joy and positivity.'},\n",
       " {'text': 'Nejlepší jméno pro medvěda je \"Hvězdný Obří\", protože takové jméno vystihuje sílu a vznešenost medvěda, zatímco přízvisko \"hvězdný\" mu dodává tajemnost a zároveň spojení s oblohou, což může symbolizovat jeho nekonečnou moc a mystérium.'},\n",
       " {'text': 'Der beste Name für einen Affen wäre \"Banane\", weil es sich um das Lieblingsfutter der Affen handelt und der Name auch lustig klingt.'}]"
      ]
     },
     "execution_count": 48,
     "metadata": {},
     "output_type": "execute_result"
    }
   ],
   "source": [
    "input_list = [\n",
    "    {\"pet\": \"parrot\", \"language\":\"english\"},\n",
    "    {\"pet\": \"bear\", \"language\":\"czech\"},\n",
    "    {\"pet\": \"monkey\", \"language\":\"german\"}\n",
    "]\n",
    "\n",
    "llm_chain_two_var.apply(input_list)"
   ]
  },
  {
   "cell_type": "markdown",
   "id": "7c5076b4-e0ba-4861-b51f-03cdcceeb4b8",
   "metadata": {},
   "source": [
    "#### [Sekvenční chainy](https://python.langchain.com/docs/modules/chains/foundational/sequential_chains)\n",
    "Sekvenční chainy jsou určeny pro situace, kdy výstup jednoho provolání modelu vkládáme jako vstup do provolání druhého. Existují ve dvou variantách:\n",
    "- SimpleSequentialChain, který má jen jeden vstup a jeden výstup\n",
    "- SequentialChain umožňující existenci více vstupů a výstupů\n",
    "\n",
    "Pro ukázku SimpleSequentialChain si napřed vytvoříme dva LLMChainy."
   ]
  },
  {
   "cell_type": "code",
   "execution_count": 19,
   "id": "ef45a7e8-928d-4aab-b96a-1c26fd1c6c58",
   "metadata": {},
   "outputs": [],
   "source": [
    "from langchain.chains import SimpleSequentialChain\n",
    "\n",
    "chat = ChatOpenAI(temperature=0.95)\n",
    "\n",
    "prompt_template_post = ChatPromptTemplate.from_template(\n",
    "    \"Write a LinkedIn post for company {company}.\"\n",
    ")\n",
    "\n",
    "post_chain = LLMChain(llm=chat, prompt=prompt_template_post)"
   ]
  },
  {
   "cell_type": "code",
   "execution_count": 20,
   "id": "99661f46-b4c9-4a23-b8e4-fe5dd62b506c",
   "metadata": {},
   "outputs": [],
   "source": [
    "prompt_template_summary = ChatPromptTemplate.from_template(\n",
    "    \"\"\"\n",
    "    Summarize the text surrounded by three quotation marks in one sentence.\n",
    "    Text: '''{text}''''\n",
    "    \"\"\"\n",
    ")\n",
    "\n",
    "summary_chain = LLMChain(llm=chat, prompt=prompt_template_summary)"
   ]
  },
  {
   "cell_type": "markdown",
   "id": "b7b8f8d6-798d-460c-960b-612e8f96d6c9",
   "metadata": {},
   "source": [
    "Následně s jejich pomocí vytvoříme SimpleSequentialChain."
   ]
  },
  {
   "cell_type": "code",
   "execution_count": 21,
   "id": "168a9c7a-a259-4dc1-9d40-3fbd42c43ee4",
   "metadata": {},
   "outputs": [],
   "source": [
    "overall_chain = SimpleSequentialChain(chains=[post_chain, summary_chain], verbose=True)"
   ]
  },
  {
   "cell_type": "markdown",
   "id": "7ecb6010-d00b-4b5d-86f8-6aea084e2fe0",
   "metadata": {},
   "source": [
    "Ten uvedeme do provozu provoláním metody *invoke*. Do té vložíme hodnotu, která bude dosazena do prvního LLMChainu (pořadí chainů dáno pořadím v listu vkládaného do parametru *chains*).  \n",
    "Jelikož jsme *SimpleSequentialChain* vytvořili s parametrem *verbose*=True, vidíme i mezivýsledky - výstup prvního a druhého LLMChainu v modré resp. žluté barvě. A ano, jsou zde warningy. Asi se jedná o nějaké volání v pozadí; zatím jsem nepřišel na to, co mám čím nahradit."
   ]
  },
  {
   "cell_type": "code",
   "execution_count": 9,
   "id": "773304e6-0b89-45ff-b8b1-7f70f7913592",
   "metadata": {},
   "outputs": [
    {
     "name": "stdout",
     "output_type": "stream",
     "text": [
      "\n",
      "\n",
      "\u001B[1m> Entering new SimpleSequentialChain chain...\u001B[0m\n"
     ]
    },
    {
     "name": "stderr",
     "output_type": "stream",
     "text": [
      "c:\\primary\\programovani\\python\\pdf_summary\\environment\\Lib\\site-packages\\langchain_core\\_api\\deprecation.py:189: LangChainDeprecationWarning: The function `run` was deprecated in LangChain 0.1.0 and will be removed in 0.2.0. Use invoke instead.\n",
      "  warn_deprecated(\n",
      "c:\\primary\\programovani\\python\\pdf_summary\\environment\\Lib\\site-packages\\langchain_core\\_api\\deprecation.py:189: LangChainDeprecationWarning: The function `__call__` was deprecated in LangChain 0.1.0 and will be removed in 0.2.0. Use invoke instead.\n",
      "  warn_deprecated(\n"
     ]
    },
    {
     "name": "stdout",
     "output_type": "stream",
     "text": [
      "\u001B[36;1m\u001B[1;3mExciting News! 🎉🐹\n",
      "\n",
      "I am thrilled to announce that Hamster Food Inc. is expanding its horizons and taking its mission to provide superior nutrition for our little furry friends to the next level! 🌟\n",
      "\n",
      "🐾 As the leading company in the hamster food industry, we have always been dedicated to creating high-quality products that support the health and happiness of our beloved hamsters. With a passion for these adorable critters, we have constantly sought ways to innovate and set new standards in the market.\n",
      "\n",
      "🚀 Today, we are proud to unveil our latest breakthrough in hamster nutrition - the revolutionary \"Nourish & Flourish\" formula! 🥦🌽🍎\n",
      "\n",
      "Designed by our team of expert veterinarians and animal nutritionists, this unique blend of essential nutrients will ensure your hamsters receive a balanced diet that supports their overall well-being. Our \"Nourish & Flourish\" formula is crafted with love, using only natural and organic ingredients handpicked from trusted sources.\n",
      "\n",
      "🌿 Not only does it pack a punch of vitamins, minerals, and antioxidants, but it is also tailored to cater to different hamster breeds, ages, and dietary preferences. We understand that each little furball is special, and our goal is to provide them with the finest nutritional experience.\n",
      "\n",
      "🏆 With our unwavering commitment to quality and innovation, we have also received the prestigious \"Best Hamster Food Brand\" award for the fourth year in a row! This recognition serves as a testament to our dedication and the trust placed in us by hamster owners around the world. We sincerely thank each and every one of you for supporting our journey.\n",
      "\n",
      "🌎 Expanding our global reach is another milestone we are proud to share. We are excited to announce that our hamster food products will now be available in pet stores across Europe, Asia, and North America. This expansion allows us to reach more hamster owners and share the joy of nourishing their furry companions.\n",
      "\n",
      "🤝 We are also grateful for the partnerships and collaborations we have forged along the way. Our commitment to sustainability extends beyond our products - we are actively working with local farms and organizations to ensure environmentally friendly practices are at the core of our supply chain.\n",
      "\n",
      "🙌 None of this would have been possible without the relentless dedication and passion of our incredible team at Hamster Food Inc. From our researchers and formulators to our marketing and sales teams, every individual has played a vital role in making this dream a reality. Together, we continue to pave the way for healthier, happier hamsters worldwide.\n",
      "\n",
      "🌟 On behalf of Hamster Food Inc., I want to express our heartfelt gratitude to our loyal customers, industry partners, and investors who have supported us throughout this journey. We are excited to embark on this new chapter and explore what lies ahead!\n",
      "\n",
      "If you are as passionate about hamsters and their well-being as we are, please connect with me or check out our website for more information. Together, let's nurture our adorable little friends and make their lives truly extraordinary! 🐹💚\n",
      "\n",
      "#HamsterFoodInc #NourishAndFlourish #HamsterNutrition #HealthierHappierHamsters #PetCare #Innovation #Expansion #SustainableBusiness\u001B[0m\n"
     ]
    },
    {
     "name": "stderr",
     "output_type": "stream",
     "text": [
      "c:\\primary\\programovani\\python\\pdf_summary\\environment\\Lib\\site-packages\\langchain_core\\_api\\deprecation.py:189: LangChainDeprecationWarning: The function `run` was deprecated in LangChain 0.1.0 and will be removed in 0.2.0. Use invoke instead.\n",
      "  warn_deprecated(\n",
      "c:\\primary\\programovani\\python\\pdf_summary\\environment\\Lib\\site-packages\\langchain_core\\_api\\deprecation.py:189: LangChainDeprecationWarning: The function `__call__` was deprecated in LangChain 0.1.0 and will be removed in 0.2.0. Use invoke instead.\n",
      "  warn_deprecated(\n"
     ]
    },
    {
     "name": "stdout",
     "output_type": "stream",
     "text": [
      "\u001B[33;1m\u001B[1;3mHamster Food Inc. is expanding its reach globally, unveiling their new \"Nourish & Flourish\" formula, receiving the \"Best Hamster Food Brand\" award, and expressing gratitude to their team, customers, and partners for their support in their mission to provide high-quality, sustainable nutrition for hamsters.\u001B[0m\n",
      "\n",
      "\u001B[1m> Finished chain.\u001B[0m\n"
     ]
    }
   ],
   "source": [
    "post_summary = overall_chain.invoke(\"Hamster food Inc.\")"
   ]
  },
  {
   "cell_type": "markdown",
   "id": "28539572-1485-4766-a8a0-561da430286c",
   "metadata": {},
   "source": [
    "Výsledek jsme si uložili do proměnné *post_summary*."
   ]
  },
  {
   "cell_type": "code",
   "execution_count": 10,
   "id": "b3fa8b01-4550-4703-b080-b02172f6ea2f",
   "metadata": {},
   "outputs": [
    {
     "data": {
      "text/plain": [
       "{'input': 'Hamster food Inc.',\n",
       " 'output': 'Hamster Food Inc. is expanding its reach globally, unveiling their new \"Nourish & Flourish\" formula, receiving the \"Best Hamster Food Brand\" award, and expressing gratitude to their team, customers, and partners for their support in their mission to provide high-quality, sustainable nutrition for hamsters.'}"
      ]
     },
     "execution_count": 10,
     "metadata": {},
     "output_type": "execute_result"
    }
   ],
   "source": [
    "post_summary"
   ]
  },
  {
   "cell_type": "markdown",
   "id": "a0ce02a8-202b-4b59-a8df-7e27797a53fe",
   "metadata": {},
   "source": [
    "S *verbose*=False žádné barevné výsledky neuvidíme."
   ]
  },
  {
   "cell_type": "code",
   "execution_count": 22,
   "id": "f1b20d7f-1730-44b3-baac-f225716fb796",
   "metadata": {},
   "outputs": [
    {
     "name": "stderr",
     "output_type": "stream",
     "text": [
      "c:\\primary\\programovani\\python\\pdf_summary\\environment\\Lib\\site-packages\\langchain_core\\_api\\deprecation.py:189: LangChainDeprecationWarning: The function `run` was deprecated in LangChain 0.1.0 and will be removed in 0.2.0. Use invoke instead.\n",
      "  warn_deprecated(\n",
      "c:\\primary\\programovani\\python\\pdf_summary\\environment\\Lib\\site-packages\\langchain_core\\_api\\deprecation.py:189: LangChainDeprecationWarning: The function `__call__` was deprecated in LangChain 0.1.0 and will be removed in 0.2.0. Use invoke instead.\n",
      "  warn_deprecated(\n",
      "c:\\primary\\programovani\\python\\pdf_summary\\environment\\Lib\\site-packages\\langchain_core\\_api\\deprecation.py:189: LangChainDeprecationWarning: The function `run` was deprecated in LangChain 0.1.0 and will be removed in 0.2.0. Use invoke instead.\n",
      "  warn_deprecated(\n",
      "c:\\primary\\programovani\\python\\pdf_summary\\environment\\Lib\\site-packages\\langchain_core\\_api\\deprecation.py:189: LangChainDeprecationWarning: The function `__call__` was deprecated in LangChain 0.1.0 and will be removed in 0.2.0. Use invoke instead.\n",
      "  warn_deprecated(\n"
     ]
    }
   ],
   "source": [
    "overall_chain = SimpleSequentialChain(chains=[post_chain, summary_chain], verbose=False)\n",
    "post_summary = overall_chain.invoke(\"Hamster food Inc.\")"
   ]
  },
  {
   "cell_type": "code",
   "execution_count": 23,
   "id": "94a4ea36-a96b-4b49-a89f-8eab00df43d5",
   "metadata": {},
   "outputs": [
    {
     "data": {
      "text/plain": [
       "{'input': 'Hamster food Inc.',\n",
       " 'output': 'Hamster Food Inc. has announced the launch of their new Nutri-Fit Range, made with premium ingredients and designed to provide optimum health and nutrition for hamsters, while also prioritizing environmental sustainability and customer satisfaction.'}"
      ]
     },
     "execution_count": 23,
     "metadata": {},
     "output_type": "execute_result"
    }
   ],
   "source": [
    "post_summary"
   ]
  },
  {
   "cell_type": "markdown",
   "id": "c720438d-e6b6-49b4-a1f0-80b3101edaba",
   "metadata": {},
   "source": [
    "Nyní se podívejme na *SequentialChain*. Zde první LLMChain bude mít dva vstupy. Navíc tu v parametru *output_key* říkáme, do jak pojmenované proměnné zpracované dalšími LLMChainy se má výstup tohoto chainu uložit."
   ]
  },
  {
   "cell_type": "code",
   "execution_count": 24,
   "id": "db3cd209-f82b-41d0-a576-139bade3c728",
   "metadata": {},
   "outputs": [],
   "source": [
    "from langchain.chains import SequentialChain\n",
    "\n",
    "chat = ChatOpenAI(temperature=0.95)\n",
    "\n",
    "prompt_template_post = ChatPromptTemplate.from_template(\n",
    "    \"Write a LinkedIn post for company {company} with length of {sentences_count} sentences.\"\n",
    ")\n",
    "\n",
    "post_chain = LLMChain(llm=chat, prompt=prompt_template_post, output_key=\"linkendin_post\")"
   ]
  },
  {
   "cell_type": "markdown",
   "id": "6e026ead-6c99-4c00-be14-35a0cad3b3dc",
   "metadata": {},
   "source": [
    "Dva vstupy a jeden *output_key* má i druhý *LLMChain*."
   ]
  },
  {
   "cell_type": "code",
   "execution_count": 25,
   "id": "aaf3aa57-2e0b-4d80-a525-4abefb236af5",
   "metadata": {},
   "outputs": [],
   "source": [
    "prompt_template_summary = ChatPromptTemplate.from_template(\n",
    "    \"\"\"\n",
    "    Summarize the text surrounded by three quotation marks in one sentence. Use {language} language.\n",
    "    Text: '''{linkendin_post}''''\n",
    "    \"\"\"\n",
    ")\n",
    "\n",
    "summary_chain = LLMChain(llm=chat, prompt=prompt_template_summary, output_key=\"summarization\")"
   ]
  },
  {
   "cell_type": "markdown",
   "id": "9e8c3b22-6581-47ea-a086-e9fe6d3c5267",
   "metadata": {},
   "source": [
    "Nyní si vytvoříme *SequentialChain*. Oproti *SimpleSequentialChain* tu navíc máme parametry *input_variables* a *output_variables*. Všimněme si, že i když se proměnná *language* používá až v druhém LLMChainu, je v *input_variables*. První LLMChain ji prostě ignoruje.  \n",
    "V SequentialChainu bychom mohli mít více chainů a ty by ani nemusely mít uspořádány čistě sériově. Langchain už by si je postupně pospouštěl podle potřebných input a output proměnných. Dokonce ani konec nemusí být v jednom chainu - zakončení může být více a pak je output_key každého koncového chainu umístěn do listu v *output_variables*."
   ]
  },
  {
   "cell_type": "code",
   "execution_count": 26,
   "id": "f39688af-ed80-438c-bcac-2f6a36785551",
   "metadata": {},
   "outputs": [],
   "source": [
    "overall_chain = SequentialChain(\n",
    "    chains=[post_chain, summary_chain],\n",
    "    input_variables=[\"company\", \"sentences_count\", \"language\"],\n",
    "    output_variables=[\"summarization\"],\n",
    "    verbose=True\n",
    ")"
   ]
  },
  {
   "cell_type": "markdown",
   "id": "74c26168-ee50-48e2-ac37-961384329a6b",
   "metadata": {},
   "source": [
    "Aktivovat *SequentialChain* můžeme vložením slovníku se záznamem pro každou *input_variable* do instance chainu."
   ]
  },
  {
   "cell_type": "code",
   "execution_count": 27,
   "id": "a2deee5c-cbb1-4640-bf69-9780abddff15",
   "metadata": {},
   "outputs": [
    {
     "name": "stdout",
     "output_type": "stream",
     "text": [
      "\n",
      "\n",
      "\u001B[1m> Entering new SequentialChain chain...\u001B[0m\n"
     ]
    },
    {
     "name": "stderr",
     "output_type": "stream",
     "text": [
      "c:\\primary\\programovani\\python\\pdf_summary\\environment\\Lib\\site-packages\\langchain_core\\_api\\deprecation.py:189: LangChainDeprecationWarning: The function `__call__` was deprecated in LangChain 0.1.0 and will be removed in 0.2.0. Use invoke instead.\n",
      "  warn_deprecated(\n",
      "c:\\primary\\programovani\\python\\pdf_summary\\environment\\Lib\\site-packages\\langchain_core\\_api\\deprecation.py:189: LangChainDeprecationWarning: The function `__call__` was deprecated in LangChain 0.1.0 and will be removed in 0.2.0. Use invoke instead.\n",
      "  warn_deprecated(\n"
     ]
    },
    {
     "name": "stdout",
     "output_type": "stream",
     "text": [
      "\n",
      "\u001B[1m> Finished chain.\u001B[0m\n"
     ]
    },
    {
     "data": {
      "text/plain": [
       "{'language': 'czech',\n",
       " 'sentences_count': 3,\n",
       " 'company': 'Turtles speedtravel',\n",
       " 'summarization': 'Společnost Turtles Speedtravel oficiálně spustila rychlé dopravní řešení pro všechny vaše cestovní potřeby, nabízející odvoz během jednoho dne a rychlé služební cesty s pomocí pokročilé technologie a prvotřídního týmu.'}"
      ]
     },
     "execution_count": 27,
     "metadata": {},
     "output_type": "execute_result"
    }
   ],
   "source": [
    "overall_chain.invoke({\"language\":\"czech\", \"sentences_count\":3, \"company\":\"Turtles speedtravel\"})"
   ]
  },
  {
   "cell_type": "markdown",
   "id": "17a3d0dd-989a-4e8c-bb29-9fa6fd61bd77",
   "metadata": {},
   "source": [
    "Všimněme si ale, že i když jsme nastavili *verbose*=True, nevidíme mezivýsledky. Netušíme tak, co se vlastně uvnitř děje. Když ale nastavíme langchain do debug modu s pomocí *langchain.debug* = True, uvidíme vše do nejmenších podrobností."
   ]
  },
  {
   "cell_type": "code",
   "execution_count": 29,
   "id": "74a7689e-5e08-4806-aa82-78c5b903034a",
   "metadata": {},
   "outputs": [],
   "source": [
    "import langchain\n",
    "langchain.debug = True"
   ]
  },
  {
   "cell_type": "code",
   "execution_count": 30,
   "id": "68be20b2-4368-40ee-a74f-981e3e80d681",
   "metadata": {},
   "outputs": [
    {
     "name": "stdout",
     "output_type": "stream",
     "text": [
      "\u001B[32;1m\u001B[1;3m[chain/start]\u001B[0m \u001B[1m[1:chain:SequentialChain] Entering Chain run with input:\n",
      "\u001B[0m{\n",
      "  \"language\": \"czech\",\n",
      "  \"sentences_count\": 3,\n",
      "  \"company\": \"Turtles speedtravel\"\n",
      "}\n",
      "\u001B[32;1m\u001B[1;3m[chain/start]\u001B[0m \u001B[1m[1:chain:SequentialChain > 2:chain:LLMChain] Entering Chain run with input:\n",
      "\u001B[0m{\n",
      "  \"language\": \"czech\",\n",
      "  \"sentences_count\": 3,\n",
      "  \"company\": \"Turtles speedtravel\"\n",
      "}\n",
      "\u001B[32;1m\u001B[1;3m[llm/start]\u001B[0m \u001B[1m[1:chain:SequentialChain > 2:chain:LLMChain > 3:llm:ChatOpenAI] Entering LLM run with input:\n",
      "\u001B[0m{\n",
      "  \"prompts\": [\n",
      "    \"Human: Write a LinkedIn post for company Turtles speedtravel with length of 3 sentences.\"\n",
      "  ]\n",
      "}\n"
     ]
    },
    {
     "name": "stderr",
     "output_type": "stream",
     "text": [
      "c:\\primary\\programovani\\python\\pdf_summary\\environment\\Lib\\site-packages\\langchain_core\\_api\\deprecation.py:189: LangChainDeprecationWarning: The function `__call__` was deprecated in LangChain 0.1.0 and will be removed in 0.2.0. Use invoke instead.\n",
      "  warn_deprecated(\n"
     ]
    },
    {
     "name": "stdout",
     "output_type": "stream",
     "text": [
      "\u001B[36;1m\u001B[1;3m[llm/end]\u001B[0m \u001B[1m[1:chain:SequentialChain > 2:chain:LLMChain > 3:llm:ChatOpenAI] [1.55s] Exiting LLM run with output:\n",
      "\u001B[0m{\n",
      "  \"generations\": [\n",
      "    [\n",
      "      {\n",
      "        \"text\": \"Exciting news! I am thrilled to announce that Turtles Speedtravel has officially launched! Our innovative transportation solutions will revolutionize how people travel, offering high-speed and eco-friendly alternatives. Join us in shaping the future of transportation and let's make sustainable travel accessible to all. #TurtlesSpeedtravel #TransportationRevolution\",\n",
      "        \"generation_info\": {\n",
      "          \"finish_reason\": \"stop\",\n",
      "          \"logprobs\": null\n",
      "        },\n",
      "        \"type\": \"ChatGeneration\",\n",
      "        \"message\": {\n",
      "          \"lc\": 1,\n",
      "          \"type\": \"constructor\",\n",
      "          \"id\": [\n",
      "            \"langchain\",\n",
      "            \"schema\",\n",
      "            \"messages\",\n",
      "            \"AIMessage\"\n",
      "          ],\n",
      "          \"kwargs\": {\n",
      "            \"content\": \"Exciting news! I am thrilled to announce that Turtles Speedtravel has officially launched! Our innovative transportation solutions will revolutionize how people travel, offering high-speed and eco-friendly alternatives. Join us in shaping the future of transportation and let's make sustainable travel accessible to all. #TurtlesSpeedtravel #TransportationRevolution\",\n",
      "            \"additional_kwargs\": {}\n",
      "          }\n",
      "        }\n",
      "      }\n",
      "    ]\n",
      "  ],\n",
      "  \"llm_output\": {\n",
      "    \"token_usage\": {\n",
      "      \"completion_tokens\": 65,\n",
      "      \"prompt_tokens\": 24,\n",
      "      \"total_tokens\": 89\n",
      "    },\n",
      "    \"model_name\": \"gpt-3.5-turbo\",\n",
      "    \"system_fingerprint\": null\n",
      "  },\n",
      "  \"run\": null\n",
      "}\n",
      "\u001B[36;1m\u001B[1;3m[chain/end]\u001B[0m \u001B[1m[1:chain:SequentialChain > 2:chain:LLMChain] [1.56s] Exiting Chain run with output:\n",
      "\u001B[0m{\n",
      "  \"linkendin_post\": \"Exciting news! I am thrilled to announce that Turtles Speedtravel has officially launched! Our innovative transportation solutions will revolutionize how people travel, offering high-speed and eco-friendly alternatives. Join us in shaping the future of transportation and let's make sustainable travel accessible to all. #TurtlesSpeedtravel #TransportationRevolution\"\n",
      "}\n",
      "\u001B[32;1m\u001B[1;3m[chain/start]\u001B[0m \u001B[1m[1:chain:SequentialChain > 4:chain:LLMChain] Entering Chain run with input:\n",
      "\u001B[0m{\n",
      "  \"language\": \"czech\",\n",
      "  \"sentences_count\": 3,\n",
      "  \"company\": \"Turtles speedtravel\",\n",
      "  \"linkendin_post\": \"Exciting news! I am thrilled to announce that Turtles Speedtravel has officially launched! Our innovative transportation solutions will revolutionize how people travel, offering high-speed and eco-friendly alternatives. Join us in shaping the future of transportation and let's make sustainable travel accessible to all. #TurtlesSpeedtravel #TransportationRevolution\"\n",
      "}\n",
      "\u001B[32;1m\u001B[1;3m[llm/start]\u001B[0m \u001B[1m[1:chain:SequentialChain > 4:chain:LLMChain > 5:llm:ChatOpenAI] Entering LLM run with input:\n",
      "\u001B[0m{\n",
      "  \"prompts\": [\n",
      "    \"Human: \\n    Summarize the text surrounded by three quotation marks in one sentence. Use czech language.\\n    Text: '''Exciting news! I am thrilled to announce that Turtles Speedtravel has officially launched! Our innovative transportation solutions will revolutionize how people travel, offering high-speed and eco-friendly alternatives. Join us in shaping the future of transportation and let's make sustainable travel accessible to all. #TurtlesSpeedtravel #TransportationRevolution''''\"\n",
      "  ]\n",
      "}\n"
     ]
    },
    {
     "name": "stderr",
     "output_type": "stream",
     "text": [
      "c:\\primary\\programovani\\python\\pdf_summary\\environment\\Lib\\site-packages\\langchain_core\\_api\\deprecation.py:189: LangChainDeprecationWarning: The function `__call__` was deprecated in LangChain 0.1.0 and will be removed in 0.2.0. Use invoke instead.\n",
      "  warn_deprecated(\n"
     ]
    },
    {
     "name": "stdout",
     "output_type": "stream",
     "text": [
      "\u001B[36;1m\u001B[1;3m[llm/end]\u001B[0m \u001B[1m[1:chain:SequentialChain > 4:chain:LLMChain > 5:llm:ChatOpenAI] [2.11s] Exiting LLM run with output:\n",
      "\u001B[0m{\n",
      "  \"generations\": [\n",
      "    [\n",
      "      {\n",
      "        \"text\": \"Turtles Speedtravel oficiálně spustilo inovativní dopravní řešení, které revolucionizuje způsob cestování nabízením vysokorychlostních a ekologických alternativ a usiluje o dostupnost udržitelného cestování pro všechny.\",\n",
      "        \"generation_info\": {\n",
      "          \"finish_reason\": \"stop\",\n",
      "          \"logprobs\": null\n",
      "        },\n",
      "        \"type\": \"ChatGeneration\",\n",
      "        \"message\": {\n",
      "          \"lc\": 1,\n",
      "          \"type\": \"constructor\",\n",
      "          \"id\": [\n",
      "            \"langchain\",\n",
      "            \"schema\",\n",
      "            \"messages\",\n",
      "            \"AIMessage\"\n",
      "          ],\n",
      "          \"kwargs\": {\n",
      "            \"content\": \"Turtles Speedtravel oficiálně spustilo inovativní dopravní řešení, které revolucionizuje způsob cestování nabízením vysokorychlostních a ekologických alternativ a usiluje o dostupnost udržitelného cestování pro všechny.\",\n",
      "            \"additional_kwargs\": {}\n",
      "          }\n",
      "        }\n",
      "      }\n",
      "    ]\n",
      "  ],\n",
      "  \"llm_output\": {\n",
      "    \"token_usage\": {\n",
      "      \"completion_tokens\": 84,\n",
      "      \"prompt_tokens\": 100,\n",
      "      \"total_tokens\": 184\n",
      "    },\n",
      "    \"model_name\": \"gpt-3.5-turbo\",\n",
      "    \"system_fingerprint\": null\n",
      "  },\n",
      "  \"run\": null\n",
      "}\n",
      "\u001B[36;1m\u001B[1;3m[chain/end]\u001B[0m \u001B[1m[1:chain:SequentialChain > 4:chain:LLMChain] [2.11s] Exiting Chain run with output:\n",
      "\u001B[0m{\n",
      "  \"summarization\": \"Turtles Speedtravel oficiálně spustilo inovativní dopravní řešení, které revolucionizuje způsob cestování nabízením vysokorychlostních a ekologických alternativ a usiluje o dostupnost udržitelného cestování pro všechny.\"\n",
      "}\n",
      "\u001B[36;1m\u001B[1;3m[chain/end]\u001B[0m \u001B[1m[1:chain:SequentialChain] [3.67s] Exiting Chain run with output:\n",
      "\u001B[0m{\n",
      "  \"summarization\": \"Turtles Speedtravel oficiálně spustilo inovativní dopravní řešení, které revolucionizuje způsob cestování nabízením vysokorychlostních a ekologických alternativ a usiluje o dostupnost udržitelného cestování pro všechny.\"\n",
      "}\n"
     ]
    },
    {
     "data": {
      "text/plain": [
       "{'language': 'czech',\n",
       " 'sentences_count': 3,\n",
       " 'company': 'Turtles speedtravel',\n",
       " 'summarization': 'Turtles Speedtravel oficiálně spustilo inovativní dopravní řešení, které revolucionizuje způsob cestování nabízením vysokorychlostních a ekologických alternativ a usiluje o dostupnost udržitelného cestování pro všechny.'}"
      ]
     },
     "execution_count": 30,
     "metadata": {},
     "output_type": "execute_result"
    }
   ],
   "source": [
    "overall_chain.invoke({\"language\":\"czech\", \"sentences_count\":3, \"company\":\"Turtles speedtravel\"})"
   ]
  },
  {
   "cell_type": "markdown",
   "id": "af783813-1f49-45fc-aa13-33fcc8aa06a6",
   "metadata": {},
   "source": [
    "#### RouterChain\n",
    "RouterChain dokáže posoudit, na který z podřízených chainů poslat uživatelský vstup. Narozdíl od sekvenčích chainů, kde je posloupnost řízena jménem proměnných (a tedy volbou programátora), v případě LLMRouterChain se o rozzařování skutečně stará jazykový model.  \n",
    "Pozn.: v této podkapitole čerpám z langchainového kurzu z deeplearning.ai opravdu extenzivně - MULTI_PROMPT_ROUTER_TEMPLATE je převzat beze změn metodou ctrl+C, ctrl+V.  \n",
    "Nejprve si vytvoříme základy šablon pro programování a pro vaření."
   ]
  },
  {
   "cell_type": "code",
   "execution_count": 31,
   "id": "a5b5ac58-2447-4fe6-89b8-f00ec7c81224",
   "metadata": {},
   "outputs": [],
   "source": [
    "from langchain.chains.router import MultiPromptChain\n",
    "from langchain.chains.router.llm_router import LLMRouterChain,RouterOutputParser\n",
    "from langchain.prompts import PromptTemplate\n",
    "\n",
    "it_problem_template = \"\"\"You are a very smart programmer. \n",
    "You are great at answering questions about computers, programming and IT in a concise \n",
    "and easy to understand manner. \n",
    "When you don't know the answer to a question you admit that you don't know.\n",
    "\n",
    "Here is a question:\n",
    "{input}\"\"\"\n",
    "\n",
    "cooking_template = \"\"\"Your are master chef, expert at cooking and food preparation. \n",
    "When you don't know the answer to a question you admit that you don't know.\n",
    "\n",
    "\n",
    "Here is a question:\n",
    "{input}\n",
    "\"\"\"\n",
    "\n",
    "prompt_infos = [\n",
    "    {\n",
    "        \"name\": \"programming\", \n",
    "        \"description\": \"Good for answering questions about programming and IT\", \n",
    "        \"prompt_template\": it_problem_template\n",
    "    },\n",
    "    {\n",
    "        \"name\": \"food\", \n",
    "        \"description\": \"Good for answering questions about food and cooking\", \n",
    "        \"prompt_template\": cooking_template\n",
    "    }\n",
    "]"
   ]
  },
  {
   "cell_type": "markdown",
   "id": "8ea0867f-41c0-4e24-87a1-0123065299c1",
   "metadata": {},
   "source": [
    "Následně dojde k vytvoření instance jazykového modelu a listu slovníku o podchainech."
   ]
  },
  {
   "cell_type": "code",
   "execution_count": 32,
   "id": "8f91a9c6-9f7c-44c7-84b3-dd3c51fa202e",
   "metadata": {},
   "outputs": [
    {
     "name": "stdout",
     "output_type": "stream",
     "text": [
      "programming: Good for answering questions about programming and IT\n",
      "food: Good for answering questions about food and cooking\n"
     ]
    }
   ],
   "source": [
    "chat = ChatOpenAI(temperature=0)\n",
    "\n",
    "destination_chains = {}\n",
    "for one_prompt_info in prompt_infos:\n",
    "    name = one_prompt_info[\"name\"]\n",
    "    prompt_template = one_prompt_info[\"prompt_template\"]\n",
    "    prompt = ChatPromptTemplate.from_template(template=prompt_template)\n",
    "    chain = LLMChain(llm=chat, prompt=prompt)\n",
    "    destination_chains[name] = chain  \n",
    "    \n",
    "destinations = [f\"{one_prompt_info['name']}: {one_prompt_info['description']}\" for one_prompt_info in prompt_infos]\n",
    "destinations_str = \"\\n\".join(destinations)\n",
    "print(destinations_str)"
   ]
  },
  {
   "cell_type": "markdown",
   "id": "8ce4cbff-3de3-4482-b3ac-427de7e3cb88",
   "metadata": {},
   "source": [
    "Vytvoříme si i defaultní podchain, kam půjdou uživatelské dotazy, které se nevejdou nikam jinam."
   ]
  },
  {
   "cell_type": "code",
   "execution_count": 33,
   "id": "6d45ae33-07df-4bd0-8095-e070f8ad8c97",
   "metadata": {},
   "outputs": [],
   "source": [
    "default_prompt = ChatPromptTemplate.from_template(\"{input}\")\n",
    "default_chain = LLMChain(llm=chat, prompt=default_prompt)"
   ]
  },
  {
   "cell_type": "markdown",
   "id": "9711e81d-f1f8-4ba2-a8f6-ed2afcde68cb",
   "metadata": {},
   "source": [
    "Následuje extenzivní popis router šablony."
   ]
  },
  {
   "cell_type": "code",
   "execution_count": 37,
   "id": "1445f206-d214-4c09-9857-252dc4f11cde",
   "metadata": {},
   "outputs": [],
   "source": [
    "MULTI_PROMPT_ROUTER_TEMPLATE = \"\"\"Given a raw text input to a \n",
    "language model select the model prompt best suited for the input. \n",
    "You will be given the names of the available prompts and a \n",
    "description of what the prompt is best suited for. \n",
    "You may also revise the original input if you think that revising\n",
    "it will ultimately lead to a better response from the language model.\n",
    "\n",
    "<< FORMATTING >>\n",
    "Return a markdown code snippet with a JSON object formatted to look like:\n",
    "```json\n",
    "{{{{\n",
    "    \"destination\": string - name of the prompt to use or \"DEFAULT\"\n",
    "    \"next_inputs\": string - a potentially modified version of the original input\n",
    "}}}}\n",
    "```\n",
    "\n",
    "REMEMBER: \"destination\" MUST be one of the candidate prompt \n",
    "names specified below OR it can be \"DEFAULT\" if the input is not\n",
    "well suited for any of the candidate prompts.\n",
    "REMEMBER: \"next_inputs\" can just be the original input \n",
    "if you don't think any modifications are needed.\n",
    "\n",
    "<< CANDIDATE PROMPTS >>\n",
    "{destinations}\n",
    "\n",
    "<< INPUT >>\n",
    "{{input}}\n",
    "\n",
    "<< OUTPUT (remember to include the ```json)>>\"\"\""
   ]
  },
  {
   "cell_type": "markdown",
   "id": "816f87b1-98c5-4cfe-948c-69ceb10470a7",
   "metadata": {},
   "source": [
    "A vytvoření samotného routeru."
   ]
  },
  {
   "cell_type": "code",
   "execution_count": 38,
   "id": "199f160d-bb5c-4ba9-8bfe-bbda96cec22e",
   "metadata": {},
   "outputs": [],
   "source": [
    "router_template = MULTI_PROMPT_ROUTER_TEMPLATE.format(\n",
    "    destinations=destinations_str\n",
    ")\n",
    "router_prompt = PromptTemplate(\n",
    "    template=router_template,\n",
    "    input_variables=[\"input\"],\n",
    "    output_parser=RouterOutputParser(),\n",
    ")\n",
    "\n",
    "router_chain = LLMRouterChain.from_llm(chat, router_prompt)"
   ]
  },
  {
   "cell_type": "markdown",
   "id": "a731d4b6-a561-4bcf-adc6-9df69dbbd3d2",
   "metadata": {},
   "source": [
    "A nakonec tu máme chain, který *LLMRouterChain* obaluje a spojuje ho s podchainy."
   ]
  },
  {
   "cell_type": "code",
   "execution_count": 39,
   "id": "c1b49296-d632-48c7-896d-0da0b9cad176",
   "metadata": {},
   "outputs": [],
   "source": [
    "chain = MultiPromptChain(router_chain=router_chain, \n",
    "                         destination_chains=destination_chains, \n",
    "                         default_chain=default_chain, verbose=True\n",
    "                        )"
   ]
  },
  {
   "cell_type": "markdown",
   "id": "41ed5882-c749-4379-84c6-2554e4a8c1a2",
   "metadata": {},
   "source": [
    "Zde máme příklad programátorského podchainu."
   ]
  },
  {
   "cell_type": "code",
   "execution_count": 40,
   "id": "3ce9553a-3412-40d0-96e4-0568d3e19d18",
   "metadata": {},
   "outputs": [
    {
     "name": "stdout",
     "output_type": "stream",
     "text": [
      "\u001B[32;1m\u001B[1;3m[chain/start]\u001B[0m \u001B[1m[1:chain:MultiPromptChain] Entering Chain run with input:\n",
      "\u001B[0m{\n",
      "  \"input\": \"What are good packages for graphs creation in Python?\"\n",
      "}\n",
      "\u001B[32;1m\u001B[1;3m[chain/start]\u001B[0m \u001B[1m[1:chain:MultiPromptChain > 2:chain:LLMRouterChain] Entering Chain run with input:\n",
      "\u001B[0m{\n",
      "  \"input\": \"What are good packages for graphs creation in Python?\"\n",
      "}\n",
      "\u001B[32;1m\u001B[1;3m[chain/start]\u001B[0m \u001B[1m[1:chain:MultiPromptChain > 2:chain:LLMRouterChain > 3:chain:LLMChain] Entering Chain run with input:\n",
      "\u001B[0m{\n",
      "  \"input\": \"What are good packages for graphs creation in Python?\"\n",
      "}\n",
      "\u001B[32;1m\u001B[1;3m[llm/start]\u001B[0m \u001B[1m[1:chain:MultiPromptChain > 2:chain:LLMRouterChain > 3:chain:LLMChain > 4:llm:ChatOpenAI] Entering LLM run with input:\n",
      "\u001B[0m{\n",
      "  \"prompts\": [\n",
      "    \"Human: Given a raw text input to a \\nlanguage model select the model prompt best suited for the input. \\nYou will be given the names of the available prompts and a \\ndescription of what the prompt is best suited for. \\nYou may also revise the original input if you think that revising\\nit will ultimately lead to a better response from the language model.\\n\\n<< FORMATTING >>\\nReturn a markdown code snippet with a JSON object formatted to look like:\\n```json\\n{\\n    \\\"destination\\\": string - name of the prompt to use or \\\"DEFAULT\\\"\\n    \\\"next_inputs\\\": string - a potentially modified version of the original input\\n}\\n```\\n\\nREMEMBER: \\\"destination\\\" MUST be one of the candidate prompt \\nnames specified below OR it can be \\\"DEFAULT\\\" if the input is not\\nwell suited for any of the candidate prompts.\\nREMEMBER: \\\"next_inputs\\\" can just be the original input \\nif you don't think any modifications are needed.\\n\\n<< CANDIDATE PROMPTS >>\\nprogramming: Good for answering questions about programming and IT\\nfood: Good for answering questions about food and cooking\\n\\n<< INPUT >>\\nWhat are good packages for graphs creation in Python?\\n\\n<< OUTPUT (remember to include the ```json)>>\"\n",
      "  ]\n",
      "}\n"
     ]
    },
    {
     "name": "stderr",
     "output_type": "stream",
     "text": [
      "c:\\primary\\programovani\\python\\pdf_summary\\environment\\Lib\\site-packages\\langchain_core\\_api\\deprecation.py:189: LangChainDeprecationWarning: The function `__call__` was deprecated in LangChain 0.1.0 and will be removed in 0.2.0. Use invoke instead.\n",
      "  warn_deprecated(\n",
      "c:\\primary\\programovani\\python\\pdf_summary\\environment\\Lib\\site-packages\\langchain\\chains\\llm.py:316: UserWarning: The predict_and_parse method is deprecated, instead pass an output parser directly to LLMChain.\n",
      "  warnings.warn(\n",
      "c:\\primary\\programovani\\python\\pdf_summary\\environment\\Lib\\site-packages\\langchain_core\\_api\\deprecation.py:189: LangChainDeprecationWarning: The function `__call__` was deprecated in LangChain 0.1.0 and will be removed in 0.2.0. Use invoke instead.\n",
      "  warn_deprecated(\n"
     ]
    },
    {
     "name": "stdout",
     "output_type": "stream",
     "text": [
      "\u001B[36;1m\u001B[1;3m[llm/end]\u001B[0m \u001B[1m[1:chain:MultiPromptChain > 2:chain:LLMRouterChain > 3:chain:LLMChain > 4:llm:ChatOpenAI] [983ms] Exiting LLM run with output:\n",
      "\u001B[0m{\n",
      "  \"generations\": [\n",
      "    [\n",
      "      {\n",
      "        \"text\": \"{\\n    \\\"destination\\\": \\\"programming\\\",\\n    \\\"next_inputs\\\": \\\"What are good packages for graphs creation in Python?\\\"\\n}\",\n",
      "        \"generation_info\": {\n",
      "          \"finish_reason\": \"stop\",\n",
      "          \"logprobs\": null\n",
      "        },\n",
      "        \"type\": \"ChatGeneration\",\n",
      "        \"message\": {\n",
      "          \"lc\": 1,\n",
      "          \"type\": \"constructor\",\n",
      "          \"id\": [\n",
      "            \"langchain\",\n",
      "            \"schema\",\n",
      "            \"messages\",\n",
      "            \"AIMessage\"\n",
      "          ],\n",
      "          \"kwargs\": {\n",
      "            \"content\": \"{\\n    \\\"destination\\\": \\\"programming\\\",\\n    \\\"next_inputs\\\": \\\"What are good packages for graphs creation in Python?\\\"\\n}\",\n",
      "            \"additional_kwargs\": {}\n",
      "          }\n",
      "        }\n",
      "      }\n",
      "    ]\n",
      "  ],\n",
      "  \"llm_output\": {\n",
      "    \"token_usage\": {\n",
      "      \"completion_tokens\": 25,\n",
      "      \"prompt_tokens\": 258,\n",
      "      \"total_tokens\": 283\n",
      "    },\n",
      "    \"model_name\": \"gpt-3.5-turbo\",\n",
      "    \"system_fingerprint\": null\n",
      "  },\n",
      "  \"run\": null\n",
      "}\n",
      "\u001B[36;1m\u001B[1;3m[chain/end]\u001B[0m \u001B[1m[1:chain:MultiPromptChain > 2:chain:LLMRouterChain > 3:chain:LLMChain] [985ms] Exiting Chain run with output:\n",
      "\u001B[0m{\n",
      "  \"text\": \"{\\n    \\\"destination\\\": \\\"programming\\\",\\n    \\\"next_inputs\\\": \\\"What are good packages for graphs creation in Python?\\\"\\n}\"\n",
      "}\n",
      "\u001B[36;1m\u001B[1;3m[chain/end]\u001B[0m \u001B[1m[1:chain:MultiPromptChain > 2:chain:LLMRouterChain] [987ms] Exiting Chain run with output:\n",
      "\u001B[0m{\n",
      "  \"destination\": \"programming\",\n",
      "  \"next_inputs\": {\n",
      "    \"input\": \"What are good packages for graphs creation in Python?\"\n",
      "  }\n",
      "}\n",
      "\u001B[32;1m\u001B[1;3m[chain/start]\u001B[0m \u001B[1m[1:chain:MultiPromptChain > 5:chain:LLMChain] Entering Chain run with input:\n",
      "\u001B[0m{\n",
      "  \"input\": \"What are good packages for graphs creation in Python?\"\n",
      "}\n",
      "\u001B[32;1m\u001B[1;3m[llm/start]\u001B[0m \u001B[1m[1:chain:MultiPromptChain > 5:chain:LLMChain > 6:llm:ChatOpenAI] Entering LLM run with input:\n",
      "\u001B[0m{\n",
      "  \"prompts\": [\n",
      "    \"Human: You are a very smart programmer. \\nYou are great at answering questions about computers, programming and IT in a concise \\nand easy to understand manner. \\nWhen you don't know the answer to a question you admit that you don't know.\\n\\nHere is a question:\\nWhat are good packages for graphs creation in Python?\"\n",
      "  ]\n",
      "}\n"
     ]
    },
    {
     "name": "stderr",
     "output_type": "stream",
     "text": [
      "c:\\primary\\programovani\\python\\pdf_summary\\environment\\Lib\\site-packages\\langchain_core\\_api\\deprecation.py:189: LangChainDeprecationWarning: The function `__call__` was deprecated in LangChain 0.1.0 and will be removed in 0.2.0. Use invoke instead.\n",
      "  warn_deprecated(\n"
     ]
    },
    {
     "name": "stdout",
     "output_type": "stream",
     "text": [
      "\u001B[36;1m\u001B[1;3m[llm/end]\u001B[0m \u001B[1m[1:chain:MultiPromptChain > 5:chain:LLMChain > 6:llm:ChatOpenAI] [4.45s] Exiting LLM run with output:\n",
      "\u001B[0m{\n",
      "  \"generations\": [\n",
      "    [\n",
      "      {\n",
      "        \"text\": \"There are several good packages for graph creation in Python. Some popular ones include:\\n\\n1. Matplotlib: Matplotlib is a widely used plotting library in Python. It provides a variety of functions to create different types of graphs, including line plots, bar plots, scatter plots, and more. It is highly customizable and offers a lot of flexibility.\\n\\n2. Seaborn: Seaborn is built on top of Matplotlib and provides a higher-level interface for creating attractive and informative statistical graphics. It offers a range of built-in themes and color palettes, making it easy to create visually appealing graphs.\\n\\n3. Plotly: Plotly is a powerful library for creating interactive and dynamic visualizations. It supports a wide range of graph types, including scatter plots, bar charts, 3D plots, and more. Plotly also provides an online platform for sharing and collaborating on graphs.\\n\\n4. NetworkX: NetworkX is a Python library specifically designed for the creation, manipulation, and study of the structure, dynamics, and functions of complex networks. It is widely used for analyzing and visualizing network graphs.\\n\\n5. Bokeh: Bokeh is a library that focuses on interactive visualization and targets modern web browsers. It allows you to create interactive plots, dashboards, and data applications with ease. Bokeh supports a wide range of graph types and provides tools for interactivity and exploration.\\n\\nThese are just a few examples, and there are many other graphing libraries available in Python. The choice of package depends on your specific requirements and preferences.\",\n",
      "        \"generation_info\": {\n",
      "          \"finish_reason\": \"stop\",\n",
      "          \"logprobs\": null\n",
      "        },\n",
      "        \"type\": \"ChatGeneration\",\n",
      "        \"message\": {\n",
      "          \"lc\": 1,\n",
      "          \"type\": \"constructor\",\n",
      "          \"id\": [\n",
      "            \"langchain\",\n",
      "            \"schema\",\n",
      "            \"messages\",\n",
      "            \"AIMessage\"\n",
      "          ],\n",
      "          \"kwargs\": {\n",
      "            \"content\": \"There are several good packages for graph creation in Python. Some popular ones include:\\n\\n1. Matplotlib: Matplotlib is a widely used plotting library in Python. It provides a variety of functions to create different types of graphs, including line plots, bar plots, scatter plots, and more. It is highly customizable and offers a lot of flexibility.\\n\\n2. Seaborn: Seaborn is built on top of Matplotlib and provides a higher-level interface for creating attractive and informative statistical graphics. It offers a range of built-in themes and color palettes, making it easy to create visually appealing graphs.\\n\\n3. Plotly: Plotly is a powerful library for creating interactive and dynamic visualizations. It supports a wide range of graph types, including scatter plots, bar charts, 3D plots, and more. Plotly also provides an online platform for sharing and collaborating on graphs.\\n\\n4. NetworkX: NetworkX is a Python library specifically designed for the creation, manipulation, and study of the structure, dynamics, and functions of complex networks. It is widely used for analyzing and visualizing network graphs.\\n\\n5. Bokeh: Bokeh is a library that focuses on interactive visualization and targets modern web browsers. It allows you to create interactive plots, dashboards, and data applications with ease. Bokeh supports a wide range of graph types and provides tools for interactivity and exploration.\\n\\nThese are just a few examples, and there are many other graphing libraries available in Python. The choice of package depends on your specific requirements and preferences.\",\n",
      "            \"additional_kwargs\": {}\n",
      "          }\n",
      "        }\n",
      "      }\n",
      "    ]\n",
      "  ],\n",
      "  \"llm_output\": {\n",
      "    \"token_usage\": {\n",
      "      \"completion_tokens\": 310,\n",
      "      \"prompt_tokens\": 71,\n",
      "      \"total_tokens\": 381\n",
      "    },\n",
      "    \"model_name\": \"gpt-3.5-turbo\",\n",
      "    \"system_fingerprint\": null\n",
      "  },\n",
      "  \"run\": null\n",
      "}\n",
      "\u001B[36;1m\u001B[1;3m[chain/end]\u001B[0m \u001B[1m[1:chain:MultiPromptChain > 5:chain:LLMChain] [4.45s] Exiting Chain run with output:\n",
      "\u001B[0m{\n",
      "  \"text\": \"There are several good packages for graph creation in Python. Some popular ones include:\\n\\n1. Matplotlib: Matplotlib is a widely used plotting library in Python. It provides a variety of functions to create different types of graphs, including line plots, bar plots, scatter plots, and more. It is highly customizable and offers a lot of flexibility.\\n\\n2. Seaborn: Seaborn is built on top of Matplotlib and provides a higher-level interface for creating attractive and informative statistical graphics. It offers a range of built-in themes and color palettes, making it easy to create visually appealing graphs.\\n\\n3. Plotly: Plotly is a powerful library for creating interactive and dynamic visualizations. It supports a wide range of graph types, including scatter plots, bar charts, 3D plots, and more. Plotly also provides an online platform for sharing and collaborating on graphs.\\n\\n4. NetworkX: NetworkX is a Python library specifically designed for the creation, manipulation, and study of the structure, dynamics, and functions of complex networks. It is widely used for analyzing and visualizing network graphs.\\n\\n5. Bokeh: Bokeh is a library that focuses on interactive visualization and targets modern web browsers. It allows you to create interactive plots, dashboards, and data applications with ease. Bokeh supports a wide range of graph types and provides tools for interactivity and exploration.\\n\\nThese are just a few examples, and there are many other graphing libraries available in Python. The choice of package depends on your specific requirements and preferences.\"\n",
      "}\n",
      "\u001B[36;1m\u001B[1;3m[chain/end]\u001B[0m \u001B[1m[1:chain:MultiPromptChain] [5.44s] Exiting Chain run with output:\n",
      "\u001B[0m{\n",
      "  \"input\": \"What are good packages for graphs creation in Python?\",\n",
      "  \"text\": \"There are several good packages for graph creation in Python. Some popular ones include:\\n\\n1. Matplotlib: Matplotlib is a widely used plotting library in Python. It provides a variety of functions to create different types of graphs, including line plots, bar plots, scatter plots, and more. It is highly customizable and offers a lot of flexibility.\\n\\n2. Seaborn: Seaborn is built on top of Matplotlib and provides a higher-level interface for creating attractive and informative statistical graphics. It offers a range of built-in themes and color palettes, making it easy to create visually appealing graphs.\\n\\n3. Plotly: Plotly is a powerful library for creating interactive and dynamic visualizations. It supports a wide range of graph types, including scatter plots, bar charts, 3D plots, and more. Plotly also provides an online platform for sharing and collaborating on graphs.\\n\\n4. NetworkX: NetworkX is a Python library specifically designed for the creation, manipulation, and study of the structure, dynamics, and functions of complex networks. It is widely used for analyzing and visualizing network graphs.\\n\\n5. Bokeh: Bokeh is a library that focuses on interactive visualization and targets modern web browsers. It allows you to create interactive plots, dashboards, and data applications with ease. Bokeh supports a wide range of graph types and provides tools for interactivity and exploration.\\n\\nThese are just a few examples, and there are many other graphing libraries available in Python. The choice of package depends on your specific requirements and preferences.\"\n",
      "}\n"
     ]
    },
    {
     "data": {
      "text/plain": [
       "{'input': 'What are good packages for graphs creation in Python?',\n",
       " 'text': 'There are several good packages for graph creation in Python. Some popular ones include:\\n\\n1. Matplotlib: Matplotlib is a widely used plotting library in Python. It provides a variety of functions to create different types of graphs, including line plots, bar plots, scatter plots, and more. It is highly customizable and offers a lot of flexibility.\\n\\n2. Seaborn: Seaborn is built on top of Matplotlib and provides a higher-level interface for creating attractive and informative statistical graphics. It offers a range of built-in themes and color palettes, making it easy to create visually appealing graphs.\\n\\n3. Plotly: Plotly is a powerful library for creating interactive and dynamic visualizations. It supports a wide range of graph types, including scatter plots, bar charts, 3D plots, and more. Plotly also provides an online platform for sharing and collaborating on graphs.\\n\\n4. NetworkX: NetworkX is a Python library specifically designed for the creation, manipulation, and study of the structure, dynamics, and functions of complex networks. It is widely used for analyzing and visualizing network graphs.\\n\\n5. Bokeh: Bokeh is a library that focuses on interactive visualization and targets modern web browsers. It allows you to create interactive plots, dashboards, and data applications with ease. Bokeh supports a wide range of graph types and provides tools for interactivity and exploration.\\n\\nThese are just a few examples, and there are many other graphing libraries available in Python. The choice of package depends on your specific requirements and preferences.'}"
      ]
     },
     "execution_count": 40,
     "metadata": {},
     "output_type": "execute_result"
    }
   ],
   "source": [
    "chain.invoke(\"What are good packages for graphs creation in Python?\")"
   ]
  },
  {
   "cell_type": "markdown",
   "id": "af950ceb-9b53-4539-bb61-e16e2cdeeb2b",
   "metadata": {},
   "source": [
    "Tady je dotaz na kuchařský podchain."
   ]
  },
  {
   "cell_type": "code",
   "execution_count": 41,
   "id": "fda0addc-f51c-4e93-9111-c928e64c79b9",
   "metadata": {},
   "outputs": [
    {
     "name": "stderr",
     "output_type": "stream",
     "text": [
      "c:\\primary\\programovani\\python\\pdf_summary\\environment\\Lib\\site-packages\\langchain_core\\_api\\deprecation.py:189: LangChainDeprecationWarning: The function `run` was deprecated in LangChain 0.1.0 and will be removed in 0.2.0. Use invoke instead.\n",
      "  warn_deprecated(\n",
      "c:\\primary\\programovani\\python\\pdf_summary\\environment\\Lib\\site-packages\\langchain_core\\_api\\deprecation.py:189: LangChainDeprecationWarning: The function `__call__` was deprecated in LangChain 0.1.0 and will be removed in 0.2.0. Use invoke instead.\n",
      "  warn_deprecated(\n",
      "c:\\primary\\programovani\\python\\pdf_summary\\environment\\Lib\\site-packages\\langchain_core\\_api\\deprecation.py:189: LangChainDeprecationWarning: The function `__call__` was deprecated in LangChain 0.1.0 and will be removed in 0.2.0. Use invoke instead.\n",
      "  warn_deprecated(\n",
      "c:\\primary\\programovani\\python\\pdf_summary\\environment\\Lib\\site-packages\\langchain\\chains\\llm.py:316: UserWarning: The predict_and_parse method is deprecated, instead pass an output parser directly to LLMChain.\n",
      "  warnings.warn(\n",
      "c:\\primary\\programovani\\python\\pdf_summary\\environment\\Lib\\site-packages\\langchain_core\\_api\\deprecation.py:189: LangChainDeprecationWarning: The function `__call__` was deprecated in LangChain 0.1.0 and will be removed in 0.2.0. Use invoke instead.\n",
      "  warn_deprecated(\n"
     ]
    },
    {
     "name": "stdout",
     "output_type": "stream",
     "text": [
      "\u001B[32;1m\u001B[1;3m[chain/start]\u001B[0m \u001B[1m[1:chain:MultiPromptChain] Entering Chain run with input:\n",
      "\u001B[0m{\n",
      "  \"input\": \"How should I prepare fried cheese?\"\n",
      "}\n",
      "\u001B[32;1m\u001B[1;3m[chain/start]\u001B[0m \u001B[1m[1:chain:MultiPromptChain > 2:chain:LLMRouterChain] Entering Chain run with input:\n",
      "\u001B[0m{\n",
      "  \"input\": \"How should I prepare fried cheese?\"\n",
      "}\n",
      "\u001B[32;1m\u001B[1;3m[chain/start]\u001B[0m \u001B[1m[1:chain:MultiPromptChain > 2:chain:LLMRouterChain > 3:chain:LLMChain] Entering Chain run with input:\n",
      "\u001B[0m{\n",
      "  \"input\": \"How should I prepare fried cheese?\"\n",
      "}\n",
      "\u001B[32;1m\u001B[1;3m[llm/start]\u001B[0m \u001B[1m[1:chain:MultiPromptChain > 2:chain:LLMRouterChain > 3:chain:LLMChain > 4:llm:ChatOpenAI] Entering LLM run with input:\n",
      "\u001B[0m{\n",
      "  \"prompts\": [\n",
      "    \"Human: Given a raw text input to a \\nlanguage model select the model prompt best suited for the input. \\nYou will be given the names of the available prompts and a \\ndescription of what the prompt is best suited for. \\nYou may also revise the original input if you think that revising\\nit will ultimately lead to a better response from the language model.\\n\\n<< FORMATTING >>\\nReturn a markdown code snippet with a JSON object formatted to look like:\\n```json\\n{\\n    \\\"destination\\\": string - name of the prompt to use or \\\"DEFAULT\\\"\\n    \\\"next_inputs\\\": string - a potentially modified version of the original input\\n}\\n```\\n\\nREMEMBER: \\\"destination\\\" MUST be one of the candidate prompt \\nnames specified below OR it can be \\\"DEFAULT\\\" if the input is not\\nwell suited for any of the candidate prompts.\\nREMEMBER: \\\"next_inputs\\\" can just be the original input \\nif you don't think any modifications are needed.\\n\\n<< CANDIDATE PROMPTS >>\\nprogramming: Good for answering questions about programming and IT\\nfood: Good for answering questions about food and cooking\\n\\n<< INPUT >>\\nHow should I prepare fried cheese?\\n\\n<< OUTPUT (remember to include the ```json)>>\"\n",
      "  ]\n",
      "}\n",
      "\u001B[36;1m\u001B[1;3m[llm/end]\u001B[0m \u001B[1m[1:chain:MultiPromptChain > 2:chain:LLMRouterChain > 3:chain:LLMChain > 4:llm:ChatOpenAI] [672ms] Exiting LLM run with output:\n",
      "\u001B[0m{\n",
      "  \"generations\": [\n",
      "    [\n",
      "      {\n",
      "        \"text\": \"```json\\n{\\n    \\\"destination\\\": \\\"food\\\",\\n    \\\"next_inputs\\\": \\\"How should I prepare fried cheese?\\\"\\n}\\n```\",\n",
      "        \"generation_info\": {\n",
      "          \"finish_reason\": \"stop\",\n",
      "          \"logprobs\": null\n",
      "        },\n",
      "        \"type\": \"ChatGeneration\",\n",
      "        \"message\": {\n",
      "          \"lc\": 1,\n",
      "          \"type\": \"constructor\",\n",
      "          \"id\": [\n",
      "            \"langchain\",\n",
      "            \"schema\",\n",
      "            \"messages\",\n",
      "            \"AIMessage\"\n",
      "          ],\n",
      "          \"kwargs\": {\n",
      "            \"content\": \"```json\\n{\\n    \\\"destination\\\": \\\"food\\\",\\n    \\\"next_inputs\\\": \\\"How should I prepare fried cheese?\\\"\\n}\\n```\",\n",
      "            \"additional_kwargs\": {}\n",
      "          }\n",
      "        }\n",
      "      }\n",
      "    ]\n",
      "  ],\n",
      "  \"llm_output\": {\n",
      "    \"token_usage\": {\n",
      "      \"completion_tokens\": 26,\n",
      "      \"prompt_tokens\": 255,\n",
      "      \"total_tokens\": 281\n",
      "    },\n",
      "    \"model_name\": \"gpt-3.5-turbo\",\n",
      "    \"system_fingerprint\": null\n",
      "  },\n",
      "  \"run\": null\n",
      "}\n",
      "\u001B[36;1m\u001B[1;3m[chain/end]\u001B[0m \u001B[1m[1:chain:MultiPromptChain > 2:chain:LLMRouterChain > 3:chain:LLMChain] [676ms] Exiting Chain run with output:\n",
      "\u001B[0m{\n",
      "  \"text\": \"```json\\n{\\n    \\\"destination\\\": \\\"food\\\",\\n    \\\"next_inputs\\\": \\\"How should I prepare fried cheese?\\\"\\n}\\n```\"\n",
      "}\n",
      "\u001B[36;1m\u001B[1;3m[chain/end]\u001B[0m \u001B[1m[1:chain:MultiPromptChain > 2:chain:LLMRouterChain] [676ms] Exiting Chain run with output:\n",
      "\u001B[0m{\n",
      "  \"destination\": \"food\",\n",
      "  \"next_inputs\": {\n",
      "    \"input\": \"How should I prepare fried cheese?\"\n",
      "  }\n",
      "}\n",
      "\u001B[32;1m\u001B[1;3m[chain/start]\u001B[0m \u001B[1m[1:chain:MultiPromptChain > 5:chain:LLMChain] Entering Chain run with input:\n",
      "\u001B[0m{\n",
      "  \"input\": \"How should I prepare fried cheese?\"\n",
      "}\n",
      "\u001B[32;1m\u001B[1;3m[llm/start]\u001B[0m \u001B[1m[1:chain:MultiPromptChain > 5:chain:LLMChain > 6:llm:ChatOpenAI] Entering LLM run with input:\n",
      "\u001B[0m{\n",
      "  \"prompts\": [\n",
      "    \"Human: Your are master chef, expert at cooking and food preparation. \\nWhen you don't know the answer to a question you admit that you don't know.\\n\\n\\nHere is a question:\\nHow should I prepare fried cheese?\"\n",
      "  ]\n",
      "}\n"
     ]
    },
    {
     "name": "stderr",
     "output_type": "stream",
     "text": [
      "c:\\primary\\programovani\\python\\pdf_summary\\environment\\Lib\\site-packages\\langchain_core\\_api\\deprecation.py:189: LangChainDeprecationWarning: The function `__call__` was deprecated in LangChain 0.1.0 and will be removed in 0.2.0. Use invoke instead.\n",
      "  warn_deprecated(\n"
     ]
    },
    {
     "name": "stdout",
     "output_type": "stream",
     "text": [
      "\u001B[36;1m\u001B[1;3m[llm/end]\u001B[0m \u001B[1m[1:chain:MultiPromptChain > 5:chain:LLMChain > 6:llm:ChatOpenAI] [5.38s] Exiting LLM run with output:\n",
      "\u001B[0m{\n",
      "  \"generations\": [\n",
      "    [\n",
      "      {\n",
      "        \"text\": \"To prepare fried cheese, you can follow these general steps:\\n\\n1. Choose a type of cheese that is suitable for frying, such as mozzarella, halloumi, or paneer. These cheeses have a higher melting point and hold their shape well when heated.\\n\\n2. Cut the cheese into slices or cubes, depending on your preference.\\n\\n3. In a shallow bowl, beat some eggs and season them with salt and pepper. In another bowl, place some breadcrumbs or flour for coating the cheese.\\n\\n4. Dip each piece of cheese into the beaten eggs, ensuring it is fully coated. Then, coat it with breadcrumbs or flour, pressing gently to adhere the coating.\\n\\n5. Heat some oil in a frying pan over medium heat. You can use vegetable oil, canola oil, or any oil suitable for frying.\\n\\n6. Once the oil is hot, carefully place the coated cheese pieces into the pan. Fry them until they turn golden brown on all sides, usually for about 2-3 minutes per side.\\n\\n7. Use a slotted spoon or tongs to remove the fried cheese from the pan and transfer them to a paper towel-lined plate to drain excess oil.\\n\\n8. Serve the fried cheese immediately while it's still hot and crispy. You can enjoy it as is or pair it with a dipping sauce of your choice, such as marinara sauce or tzatziki.\\n\\nPlease note that this is a general method, and the specific details may vary depending on the type of cheese you are using and your personal preferences.\",\n",
      "        \"generation_info\": {\n",
      "          \"finish_reason\": \"stop\",\n",
      "          \"logprobs\": null\n",
      "        },\n",
      "        \"type\": \"ChatGeneration\",\n",
      "        \"message\": {\n",
      "          \"lc\": 1,\n",
      "          \"type\": \"constructor\",\n",
      "          \"id\": [\n",
      "            \"langchain\",\n",
      "            \"schema\",\n",
      "            \"messages\",\n",
      "            \"AIMessage\"\n",
      "          ],\n",
      "          \"kwargs\": {\n",
      "            \"content\": \"To prepare fried cheese, you can follow these general steps:\\n\\n1. Choose a type of cheese that is suitable for frying, such as mozzarella, halloumi, or paneer. These cheeses have a higher melting point and hold their shape well when heated.\\n\\n2. Cut the cheese into slices or cubes, depending on your preference.\\n\\n3. In a shallow bowl, beat some eggs and season them with salt and pepper. In another bowl, place some breadcrumbs or flour for coating the cheese.\\n\\n4. Dip each piece of cheese into the beaten eggs, ensuring it is fully coated. Then, coat it with breadcrumbs or flour, pressing gently to adhere the coating.\\n\\n5. Heat some oil in a frying pan over medium heat. You can use vegetable oil, canola oil, or any oil suitable for frying.\\n\\n6. Once the oil is hot, carefully place the coated cheese pieces into the pan. Fry them until they turn golden brown on all sides, usually for about 2-3 minutes per side.\\n\\n7. Use a slotted spoon or tongs to remove the fried cheese from the pan and transfer them to a paper towel-lined plate to drain excess oil.\\n\\n8. Serve the fried cheese immediately while it's still hot and crispy. You can enjoy it as is or pair it with a dipping sauce of your choice, such as marinara sauce or tzatziki.\\n\\nPlease note that this is a general method, and the specific details may vary depending on the type of cheese you are using and your personal preferences.\",\n",
      "            \"additional_kwargs\": {}\n",
      "          }\n",
      "        }\n",
      "      }\n",
      "    ]\n",
      "  ],\n",
      "  \"llm_output\": {\n",
      "    \"token_usage\": {\n",
      "      \"completion_tokens\": 307,\n",
      "      \"prompt_tokens\": 50,\n",
      "      \"total_tokens\": 357\n",
      "    },\n",
      "    \"model_name\": \"gpt-3.5-turbo\",\n",
      "    \"system_fingerprint\": null\n",
      "  },\n",
      "  \"run\": null\n",
      "}\n",
      "\u001B[36;1m\u001B[1;3m[chain/end]\u001B[0m \u001B[1m[1:chain:MultiPromptChain > 5:chain:LLMChain] [5.38s] Exiting Chain run with output:\n",
      "\u001B[0m{\n",
      "  \"text\": \"To prepare fried cheese, you can follow these general steps:\\n\\n1. Choose a type of cheese that is suitable for frying, such as mozzarella, halloumi, or paneer. These cheeses have a higher melting point and hold their shape well when heated.\\n\\n2. Cut the cheese into slices or cubes, depending on your preference.\\n\\n3. In a shallow bowl, beat some eggs and season them with salt and pepper. In another bowl, place some breadcrumbs or flour for coating the cheese.\\n\\n4. Dip each piece of cheese into the beaten eggs, ensuring it is fully coated. Then, coat it with breadcrumbs or flour, pressing gently to adhere the coating.\\n\\n5. Heat some oil in a frying pan over medium heat. You can use vegetable oil, canola oil, or any oil suitable for frying.\\n\\n6. Once the oil is hot, carefully place the coated cheese pieces into the pan. Fry them until they turn golden brown on all sides, usually for about 2-3 minutes per side.\\n\\n7. Use a slotted spoon or tongs to remove the fried cheese from the pan and transfer them to a paper towel-lined plate to drain excess oil.\\n\\n8. Serve the fried cheese immediately while it's still hot and crispy. You can enjoy it as is or pair it with a dipping sauce of your choice, such as marinara sauce or tzatziki.\\n\\nPlease note that this is a general method, and the specific details may vary depending on the type of cheese you are using and your personal preferences.\"\n",
      "}\n",
      "\u001B[36;1m\u001B[1;3m[chain/end]\u001B[0m \u001B[1m[1:chain:MultiPromptChain] [6.06s] Exiting Chain run with output:\n",
      "\u001B[0m{\n",
      "  \"input\": \"How should I prepare fried cheese?\",\n",
      "  \"text\": \"To prepare fried cheese, you can follow these general steps:\\n\\n1. Choose a type of cheese that is suitable for frying, such as mozzarella, halloumi, or paneer. These cheeses have a higher melting point and hold their shape well when heated.\\n\\n2. Cut the cheese into slices or cubes, depending on your preference.\\n\\n3. In a shallow bowl, beat some eggs and season them with salt and pepper. In another bowl, place some breadcrumbs or flour for coating the cheese.\\n\\n4. Dip each piece of cheese into the beaten eggs, ensuring it is fully coated. Then, coat it with breadcrumbs or flour, pressing gently to adhere the coating.\\n\\n5. Heat some oil in a frying pan over medium heat. You can use vegetable oil, canola oil, or any oil suitable for frying.\\n\\n6. Once the oil is hot, carefully place the coated cheese pieces into the pan. Fry them until they turn golden brown on all sides, usually for about 2-3 minutes per side.\\n\\n7. Use a slotted spoon or tongs to remove the fried cheese from the pan and transfer them to a paper towel-lined plate to drain excess oil.\\n\\n8. Serve the fried cheese immediately while it's still hot and crispy. You can enjoy it as is or pair it with a dipping sauce of your choice, such as marinara sauce or tzatziki.\\n\\nPlease note that this is a general method, and the specific details may vary depending on the type of cheese you are using and your personal preferences.\"\n",
      "}\n"
     ]
    },
    {
     "data": {
      "text/plain": [
       "\"To prepare fried cheese, you can follow these general steps:\\n\\n1. Choose a type of cheese that is suitable for frying, such as mozzarella, halloumi, or paneer. These cheeses have a higher melting point and hold their shape well when heated.\\n\\n2. Cut the cheese into slices or cubes, depending on your preference.\\n\\n3. In a shallow bowl, beat some eggs and season them with salt and pepper. In another bowl, place some breadcrumbs or flour for coating the cheese.\\n\\n4. Dip each piece of cheese into the beaten eggs, ensuring it is fully coated. Then, coat it with breadcrumbs or flour, pressing gently to adhere the coating.\\n\\n5. Heat some oil in a frying pan over medium heat. You can use vegetable oil, canola oil, or any oil suitable for frying.\\n\\n6. Once the oil is hot, carefully place the coated cheese pieces into the pan. Fry them until they turn golden brown on all sides, usually for about 2-3 minutes per side.\\n\\n7. Use a slotted spoon or tongs to remove the fried cheese from the pan and transfer them to a paper towel-lined plate to drain excess oil.\\n\\n8. Serve the fried cheese immediately while it's still hot and crispy. You can enjoy it as is or pair it with a dipping sauce of your choice, such as marinara sauce or tzatziki.\\n\\nPlease note that this is a general method, and the specific details may vary depending on the type of cheese you are using and your personal preferences.\""
      ]
     },
     "execution_count": 41,
     "metadata": {},
     "output_type": "execute_result"
    }
   ],
   "source": [
    "chain.run(\"How should I prepare fried cheese?\")"
   ]
  },
  {
   "cell_type": "markdown",
   "id": "9b36d4ea-8595-4665-91a6-bea295998dce",
   "metadata": {},
   "source": [
    "A nakonec defaultní podchain."
   ]
  },
  {
   "cell_type": "code",
   "execution_count": 42,
   "id": "7467f3ad-2219-4c57-82d3-09102d15c7aa",
   "metadata": {},
   "outputs": [
    {
     "name": "stderr",
     "output_type": "stream",
     "text": [
      "c:\\primary\\programovani\\python\\pdf_summary\\environment\\Lib\\site-packages\\langchain_core\\_api\\deprecation.py:189: LangChainDeprecationWarning: The function `run` was deprecated in LangChain 0.1.0 and will be removed in 0.2.0. Use invoke instead.\n",
      "  warn_deprecated(\n",
      "c:\\primary\\programovani\\python\\pdf_summary\\environment\\Lib\\site-packages\\langchain_core\\_api\\deprecation.py:189: LangChainDeprecationWarning: The function `__call__` was deprecated in LangChain 0.1.0 and will be removed in 0.2.0. Use invoke instead.\n",
      "  warn_deprecated(\n",
      "c:\\primary\\programovani\\python\\pdf_summary\\environment\\Lib\\site-packages\\langchain_core\\_api\\deprecation.py:189: LangChainDeprecationWarning: The function `__call__` was deprecated in LangChain 0.1.0 and will be removed in 0.2.0. Use invoke instead.\n",
      "  warn_deprecated(\n",
      "c:\\primary\\programovani\\python\\pdf_summary\\environment\\Lib\\site-packages\\langchain\\chains\\llm.py:316: UserWarning: The predict_and_parse method is deprecated, instead pass an output parser directly to LLMChain.\n",
      "  warnings.warn(\n",
      "c:\\primary\\programovani\\python\\pdf_summary\\environment\\Lib\\site-packages\\langchain_core\\_api\\deprecation.py:189: LangChainDeprecationWarning: The function `__call__` was deprecated in LangChain 0.1.0 and will be removed in 0.2.0. Use invoke instead.\n",
      "  warn_deprecated(\n"
     ]
    },
    {
     "name": "stdout",
     "output_type": "stream",
     "text": [
      "\u001B[32;1m\u001B[1;3m[chain/start]\u001B[0m \u001B[1m[1:chain:MultiPromptChain] Entering Chain run with input:\n",
      "\u001B[0m{\n",
      "  \"input\": \"Who was Joseph II?\"\n",
      "}\n",
      "\u001B[32;1m\u001B[1;3m[chain/start]\u001B[0m \u001B[1m[1:chain:MultiPromptChain > 2:chain:LLMRouterChain] Entering Chain run with input:\n",
      "\u001B[0m{\n",
      "  \"input\": \"Who was Joseph II?\"\n",
      "}\n",
      "\u001B[32;1m\u001B[1;3m[chain/start]\u001B[0m \u001B[1m[1:chain:MultiPromptChain > 2:chain:LLMRouterChain > 3:chain:LLMChain] Entering Chain run with input:\n",
      "\u001B[0m{\n",
      "  \"input\": \"Who was Joseph II?\"\n",
      "}\n",
      "\u001B[32;1m\u001B[1;3m[llm/start]\u001B[0m \u001B[1m[1:chain:MultiPromptChain > 2:chain:LLMRouterChain > 3:chain:LLMChain > 4:llm:ChatOpenAI] Entering LLM run with input:\n",
      "\u001B[0m{\n",
      "  \"prompts\": [\n",
      "    \"Human: Given a raw text input to a \\nlanguage model select the model prompt best suited for the input. \\nYou will be given the names of the available prompts and a \\ndescription of what the prompt is best suited for. \\nYou may also revise the original input if you think that revising\\nit will ultimately lead to a better response from the language model.\\n\\n<< FORMATTING >>\\nReturn a markdown code snippet with a JSON object formatted to look like:\\n```json\\n{\\n    \\\"destination\\\": string - name of the prompt to use or \\\"DEFAULT\\\"\\n    \\\"next_inputs\\\": string - a potentially modified version of the original input\\n}\\n```\\n\\nREMEMBER: \\\"destination\\\" MUST be one of the candidate prompt \\nnames specified below OR it can be \\\"DEFAULT\\\" if the input is not\\nwell suited for any of the candidate prompts.\\nREMEMBER: \\\"next_inputs\\\" can just be the original input \\nif you don't think any modifications are needed.\\n\\n<< CANDIDATE PROMPTS >>\\nprogramming: Good for answering questions about programming and IT\\nfood: Good for answering questions about food and cooking\\n\\n<< INPUT >>\\nWho was Joseph II?\\n\\n<< OUTPUT (remember to include the ```json)>>\"\n",
      "  ]\n",
      "}\n",
      "\u001B[36;1m\u001B[1;3m[llm/end]\u001B[0m \u001B[1m[1:chain:MultiPromptChain > 2:chain:LLMRouterChain > 3:chain:LLMChain > 4:llm:ChatOpenAI] [592ms] Exiting LLM run with output:\n",
      "\u001B[0m{\n",
      "  \"generations\": [\n",
      "    [\n",
      "      {\n",
      "        \"text\": \"{\\n    \\\"destination\\\": \\\"DEFAULT\\\",\\n    \\\"next_inputs\\\": \\\"Who was Joseph II?\\\"\\n}\",\n",
      "        \"generation_info\": {\n",
      "          \"finish_reason\": \"stop\",\n",
      "          \"logprobs\": null\n",
      "        },\n",
      "        \"type\": \"ChatGeneration\",\n",
      "        \"message\": {\n",
      "          \"lc\": 1,\n",
      "          \"type\": \"constructor\",\n",
      "          \"id\": [\n",
      "            \"langchain\",\n",
      "            \"schema\",\n",
      "            \"messages\",\n",
      "            \"AIMessage\"\n",
      "          ],\n",
      "          \"kwargs\": {\n",
      "            \"content\": \"{\\n    \\\"destination\\\": \\\"DEFAULT\\\",\\n    \\\"next_inputs\\\": \\\"Who was Joseph II?\\\"\\n}\",\n",
      "            \"additional_kwargs\": {}\n",
      "          }\n",
      "        }\n",
      "      }\n",
      "    ]\n",
      "  ],\n",
      "  \"llm_output\": {\n",
      "    \"token_usage\": {\n",
      "      \"completion_tokens\": 20,\n",
      "      \"prompt_tokens\": 253,\n",
      "      \"total_tokens\": 273\n",
      "    },\n",
      "    \"model_name\": \"gpt-3.5-turbo\",\n",
      "    \"system_fingerprint\": null\n",
      "  },\n",
      "  \"run\": null\n",
      "}\n",
      "\u001B[36;1m\u001B[1;3m[chain/end]\u001B[0m \u001B[1m[1:chain:MultiPromptChain > 2:chain:LLMRouterChain > 3:chain:LLMChain] [592ms] Exiting Chain run with output:\n",
      "\u001B[0m{\n",
      "  \"text\": \"{\\n    \\\"destination\\\": \\\"DEFAULT\\\",\\n    \\\"next_inputs\\\": \\\"Who was Joseph II?\\\"\\n}\"\n",
      "}\n",
      "\u001B[36;1m\u001B[1;3m[chain/end]\u001B[0m \u001B[1m[1:chain:MultiPromptChain > 2:chain:LLMRouterChain] [592ms] Exiting Chain run with output:\n",
      "\u001B[0m{\n",
      "  \"destination\": null,\n",
      "  \"next_inputs\": {\n",
      "    \"input\": \"Who was Joseph II?\"\n",
      "  }\n",
      "}\n",
      "\u001B[32;1m\u001B[1;3m[chain/start]\u001B[0m \u001B[1m[1:chain:MultiPromptChain > 5:chain:LLMChain] Entering Chain run with input:\n",
      "\u001B[0m{\n",
      "  \"input\": \"Who was Joseph II?\"\n",
      "}\n",
      "\u001B[32;1m\u001B[1;3m[llm/start]\u001B[0m \u001B[1m[1:chain:MultiPromptChain > 5:chain:LLMChain > 6:llm:ChatOpenAI] Entering LLM run with input:\n",
      "\u001B[0m{\n",
      "  \"prompts\": [\n",
      "    \"Human: Who was Joseph II?\"\n",
      "  ]\n",
      "}\n"
     ]
    },
    {
     "name": "stderr",
     "output_type": "stream",
     "text": [
      "c:\\primary\\programovani\\python\\pdf_summary\\environment\\Lib\\site-packages\\langchain_core\\_api\\deprecation.py:189: LangChainDeprecationWarning: The function `__call__` was deprecated in LangChain 0.1.0 and will be removed in 0.2.0. Use invoke instead.\n",
      "  warn_deprecated(\n"
     ]
    },
    {
     "name": "stdout",
     "output_type": "stream",
     "text": [
      "\u001B[36;1m\u001B[1;3m[llm/end]\u001B[0m \u001B[1m[1:chain:MultiPromptChain > 5:chain:LLMChain > 6:llm:ChatOpenAI] [4.15s] Exiting LLM run with output:\n",
      "\u001B[0m{\n",
      "  \"generations\": [\n",
      "    [\n",
      "      {\n",
      "        \"text\": \"Joseph II was a Holy Roman Emperor who reigned from 1765 to 1790. He was born on March 13, 1741, in Vienna, Austria, and was the eldest son of Empress Maria Theresa and Emperor Francis I. Joseph II is known for his extensive reforms and attempts to modernize the Habsburg monarchy.\\n\\nDuring his reign, Joseph II implemented various reforms in areas such as education, religion, and government administration. He aimed to centralize power, promote religious tolerance, and improve the lives of his subjects. Some of his notable reforms include the abolition of serfdom, the introduction of a uniform legal system, the establishment of religious freedom, and the promotion of education for all.\\n\\nJoseph II also pursued an ambitious foreign policy, engaging in wars and territorial acquisitions. However, his military campaigns were largely unsuccessful, and he faced opposition from other European powers.\\n\\nDespite his intentions to improve the lives of his subjects, Joseph II's reforms were met with resistance and criticism. Many of his reforms were seen as too radical and were not fully implemented or reversed after his death. Joseph II died on February 20, 1790, in Vienna, and was succeeded by his younger brother, Leopold II.\",\n",
      "        \"generation_info\": {\n",
      "          \"finish_reason\": \"stop\",\n",
      "          \"logprobs\": null\n",
      "        },\n",
      "        \"type\": \"ChatGeneration\",\n",
      "        \"message\": {\n",
      "          \"lc\": 1,\n",
      "          \"type\": \"constructor\",\n",
      "          \"id\": [\n",
      "            \"langchain\",\n",
      "            \"schema\",\n",
      "            \"messages\",\n",
      "            \"AIMessage\"\n",
      "          ],\n",
      "          \"kwargs\": {\n",
      "            \"content\": \"Joseph II was a Holy Roman Emperor who reigned from 1765 to 1790. He was born on March 13, 1741, in Vienna, Austria, and was the eldest son of Empress Maria Theresa and Emperor Francis I. Joseph II is known for his extensive reforms and attempts to modernize the Habsburg monarchy.\\n\\nDuring his reign, Joseph II implemented various reforms in areas such as education, religion, and government administration. He aimed to centralize power, promote religious tolerance, and improve the lives of his subjects. Some of his notable reforms include the abolition of serfdom, the introduction of a uniform legal system, the establishment of religious freedom, and the promotion of education for all.\\n\\nJoseph II also pursued an ambitious foreign policy, engaging in wars and territorial acquisitions. However, his military campaigns were largely unsuccessful, and he faced opposition from other European powers.\\n\\nDespite his intentions to improve the lives of his subjects, Joseph II's reforms were met with resistance and criticism. Many of his reforms were seen as too radical and were not fully implemented or reversed after his death. Joseph II died on February 20, 1790, in Vienna, and was succeeded by his younger brother, Leopold II.\",\n",
      "            \"additional_kwargs\": {}\n",
      "          }\n",
      "        }\n",
      "      }\n",
      "    ]\n",
      "  ],\n",
      "  \"llm_output\": {\n",
      "    \"token_usage\": {\n",
      "      \"completion_tokens\": 249,\n",
      "      \"prompt_tokens\": 12,\n",
      "      \"total_tokens\": 261\n",
      "    },\n",
      "    \"model_name\": \"gpt-3.5-turbo\",\n",
      "    \"system_fingerprint\": null\n",
      "  },\n",
      "  \"run\": null\n",
      "}\n",
      "\u001B[36;1m\u001B[1;3m[chain/end]\u001B[0m \u001B[1m[1:chain:MultiPromptChain > 5:chain:LLMChain] [4.15s] Exiting Chain run with output:\n",
      "\u001B[0m{\n",
      "  \"text\": \"Joseph II was a Holy Roman Emperor who reigned from 1765 to 1790. He was born on March 13, 1741, in Vienna, Austria, and was the eldest son of Empress Maria Theresa and Emperor Francis I. Joseph II is known for his extensive reforms and attempts to modernize the Habsburg monarchy.\\n\\nDuring his reign, Joseph II implemented various reforms in areas such as education, religion, and government administration. He aimed to centralize power, promote religious tolerance, and improve the lives of his subjects. Some of his notable reforms include the abolition of serfdom, the introduction of a uniform legal system, the establishment of religious freedom, and the promotion of education for all.\\n\\nJoseph II also pursued an ambitious foreign policy, engaging in wars and territorial acquisitions. However, his military campaigns were largely unsuccessful, and he faced opposition from other European powers.\\n\\nDespite his intentions to improve the lives of his subjects, Joseph II's reforms were met with resistance and criticism. Many of his reforms were seen as too radical and were not fully implemented or reversed after his death. Joseph II died on February 20, 1790, in Vienna, and was succeeded by his younger brother, Leopold II.\"\n",
      "}\n",
      "\u001B[36;1m\u001B[1;3m[chain/end]\u001B[0m \u001B[1m[1:chain:MultiPromptChain] [4.74s] Exiting Chain run with output:\n",
      "\u001B[0m{\n",
      "  \"input\": \"Who was Joseph II?\",\n",
      "  \"text\": \"Joseph II was a Holy Roman Emperor who reigned from 1765 to 1790. He was born on March 13, 1741, in Vienna, Austria, and was the eldest son of Empress Maria Theresa and Emperor Francis I. Joseph II is known for his extensive reforms and attempts to modernize the Habsburg monarchy.\\n\\nDuring his reign, Joseph II implemented various reforms in areas such as education, religion, and government administration. He aimed to centralize power, promote religious tolerance, and improve the lives of his subjects. Some of his notable reforms include the abolition of serfdom, the introduction of a uniform legal system, the establishment of religious freedom, and the promotion of education for all.\\n\\nJoseph II also pursued an ambitious foreign policy, engaging in wars and territorial acquisitions. However, his military campaigns were largely unsuccessful, and he faced opposition from other European powers.\\n\\nDespite his intentions to improve the lives of his subjects, Joseph II's reforms were met with resistance and criticism. Many of his reforms were seen as too radical and were not fully implemented or reversed after his death. Joseph II died on February 20, 1790, in Vienna, and was succeeded by his younger brother, Leopold II.\"\n",
      "}\n"
     ]
    },
    {
     "data": {
      "text/plain": [
       "\"Joseph II was a Holy Roman Emperor who reigned from 1765 to 1790. He was born on March 13, 1741, in Vienna, Austria, and was the eldest son of Empress Maria Theresa and Emperor Francis I. Joseph II is known for his extensive reforms and attempts to modernize the Habsburg monarchy.\\n\\nDuring his reign, Joseph II implemented various reforms in areas such as education, religion, and government administration. He aimed to centralize power, promote religious tolerance, and improve the lives of his subjects. Some of his notable reforms include the abolition of serfdom, the introduction of a uniform legal system, the establishment of religious freedom, and the promotion of education for all.\\n\\nJoseph II also pursued an ambitious foreign policy, engaging in wars and territorial acquisitions. However, his military campaigns were largely unsuccessful, and he faced opposition from other European powers.\\n\\nDespite his intentions to improve the lives of his subjects, Joseph II's reforms were met with resistance and criticism. Many of his reforms were seen as too radical and were not fully implemented or reversed after his death. Joseph II died on February 20, 1790, in Vienna, and was succeeded by his younger brother, Leopold II.\""
      ]
     },
     "execution_count": 42,
     "metadata": {},
     "output_type": "execute_result"
    }
   ],
   "source": [
    "chain.run(\"Who was Joseph II?\")"
   ]
  },
  {
   "cell_type": "markdown",
   "id": "6118b25a-0d30-49ba-8a1b-1a54332aefd6",
   "metadata": {},
   "source": [
    "#### [Transformation chain](https://python.langchain.com/docs/modules/chains/foundational/transformation)\n",
    "Transformation chain slouží k tomu, aby se na vstupní textový řetězec použila nějaká obecná pythoní funkce. Její jméno (tj. bez parametrů a kulatých závorek) se vloží do parametru *transofrm* konstruktoru *TransformChain*."
   ]
  },
  {
   "cell_type": "code",
   "execution_count": 43,
   "id": "54de474f-f9c7-444a-8ace-f4684390ff5a",
   "metadata": {},
   "outputs": [],
   "source": [
    "from langchain.chains import TransformChain\n",
    "\n",
    "def replace_animal(input_dict):\n",
    "    orig_text = input_dict[\"text\"]\n",
    "    replaced_text = orig_text.replace(\"squirrel\", \"unicorn\")\n",
    "    replaced_text = replaced_text.replace(\"squirrels\", \"unicorns\")\n",
    "    replaced_text = replaced_text.replace(\"Squirrel\", \"Unicorn\")\n",
    "    replaced_text = replaced_text.replace(\"Squirrels\", \"Unicorns\")\n",
    "    return {\"output_text\": replaced_text}\n",
    "\n",
    "transform_chain = TransformChain(\n",
    "    input_variables=[\"text\"], output_variables=[\"output_text\"], transform=replace_animal\n",
    ")"
   ]
  },
  {
   "cell_type": "markdown",
   "id": "43ae2552-8427-41d4-9206-9e79ecd969a7",
   "metadata": {},
   "source": [
    "Následně se s chainy pracuje jako v předchozích příkladech."
   ]
  },
  {
   "cell_type": "code",
   "execution_count": 44,
   "id": "89372aa4-b014-4fbf-a321-0f04f115d58b",
   "metadata": {},
   "outputs": [],
   "source": [
    "template = \"\"\"Find strange formulations in following text and write why are they strange:\n",
    "\n",
    "{output_text}\n",
    "\n",
    "Summary:\"\"\"\n",
    "prompt = PromptTemplate(input_variables=[\"output_text\"], template=template)\n",
    "chat = ChatOpenAI(temperature=0.0, model_name=\"gpt-3.5-turbo\")\n",
    "llm_chain = LLMChain(llm=chat, prompt=prompt)\n",
    "sequential_chain = SimpleSequentialChain(chains=[transform_chain, llm_chain])"
   ]
  },
  {
   "cell_type": "code",
   "execution_count": 46,
   "id": "b8b9c938-4597-4714-949d-91f4c60498e1",
   "metadata": {},
   "outputs": [
    {
     "name": "stdout",
     "output_type": "stream",
     "text": [
      "\u001B[32;1m\u001B[1;3m[chain/start]\u001B[0m \u001B[1m[1:chain:SimpleSequentialChain] Entering Chain run with input:\n",
      "\u001B[0m{\n",
      "  \"input\": \"\\n    Squirrels are members of the family Sciuridae (/sɪˈjuːrɪdeɪ, -diː/), a family that includes small or medium-size rodents. \\n    The squirrel family includes tree squirrels, ground squirrels (including chipmunks and prairie dogs, among others), \\n    and flying squirrels. Squirrels are indigenous to the Americas, Eurasia, and Africa, and were introduced by humans to Australia.[1] \\n    The earliest known fossilized squirrels date from the Eocene epoch, and among other living rodent families, the squirrels are \\n    most closely related to the mountain beaver and to the dormice.\\n    \"\n",
      "}\n",
      "\u001B[32;1m\u001B[1;3m[chain/start]\u001B[0m \u001B[1m[1:chain:SimpleSequentialChain > 2:chain:TransformChain] Entering Chain run with input:\n",
      "\u001B[0m{\n",
      "  \"text\": \"\\n    Squirrels are members of the family Sciuridae (/sɪˈjuːrɪdeɪ, -diː/), a family that includes small or medium-size rodents. \\n    The squirrel family includes tree squirrels, ground squirrels (including chipmunks and prairie dogs, among others), \\n    and flying squirrels. Squirrels are indigenous to the Americas, Eurasia, and Africa, and were introduced by humans to Australia.[1] \\n    The earliest known fossilized squirrels date from the Eocene epoch, and among other living rodent families, the squirrels are \\n    most closely related to the mountain beaver and to the dormice.\\n    \"\n",
      "}\n",
      "\u001B[36;1m\u001B[1;3m[chain/end]\u001B[0m \u001B[1m[1:chain:SimpleSequentialChain > 2:chain:TransformChain] [0ms] Exiting Chain run with output:\n",
      "\u001B[0m{\n",
      "  \"output_text\": \"\\n    Unicorns are members of the family Sciuridae (/sɪˈjuːrɪdeɪ, -diː/), a family that includes small or medium-size rodents. \\n    The unicorn family includes tree unicorns, ground unicorns (including chipmunks and prairie dogs, among others), \\n    and flying unicorns. Unicorns are indigenous to the Americas, Eurasia, and Africa, and were introduced by humans to Australia.[1] \\n    The earliest known fossilized unicorns date from the Eocene epoch, and among other living rodent families, the unicorns are \\n    most closely related to the mountain beaver and to the dormice.\\n    \"\n",
      "}\n",
      "\u001B[32;1m\u001B[1;3m[chain/start]\u001B[0m \u001B[1m[1:chain:SimpleSequentialChain > 3:chain:LLMChain] Entering Chain run with input:\n",
      "\u001B[0m{\n",
      "  \"output_text\": \"\\n    Unicorns are members of the family Sciuridae (/sɪˈjuːrɪdeɪ, -diː/), a family that includes small or medium-size rodents. \\n    The unicorn family includes tree unicorns, ground unicorns (including chipmunks and prairie dogs, among others), \\n    and flying unicorns. Unicorns are indigenous to the Americas, Eurasia, and Africa, and were introduced by humans to Australia.[1] \\n    The earliest known fossilized unicorns date from the Eocene epoch, and among other living rodent families, the unicorns are \\n    most closely related to the mountain beaver and to the dormice.\\n    \"\n",
      "}\n",
      "\u001B[32;1m\u001B[1;3m[llm/start]\u001B[0m \u001B[1m[1:chain:SimpleSequentialChain > 3:chain:LLMChain > 4:llm:ChatOpenAI] Entering LLM run with input:\n",
      "\u001B[0m{\n",
      "  \"prompts\": [\n",
      "    \"Human: Find strange formulations in following text and write why are they strange:\\n\\n\\n    Unicorns are members of the family Sciuridae (/sɪˈjuːrɪdeɪ, -diː/), a family that includes small or medium-size rodents. \\n    The unicorn family includes tree unicorns, ground unicorns (including chipmunks and prairie dogs, among others), \\n    and flying unicorns. Unicorns are indigenous to the Americas, Eurasia, and Africa, and were introduced by humans to Australia.[1] \\n    The earliest known fossilized unicorns date from the Eocene epoch, and among other living rodent families, the unicorns are \\n    most closely related to the mountain beaver and to the dormice.\\n    \\n\\nSummary:\"\n",
      "  ]\n",
      "}\n"
     ]
    },
    {
     "name": "stderr",
     "output_type": "stream",
     "text": [
      "c:\\primary\\programovani\\python\\pdf_summary\\environment\\Lib\\site-packages\\langchain_core\\_api\\deprecation.py:189: LangChainDeprecationWarning: The function `run` was deprecated in LangChain 0.1.0 and will be removed in 0.2.0. Use invoke instead.\n",
      "  warn_deprecated(\n",
      "c:\\primary\\programovani\\python\\pdf_summary\\environment\\Lib\\site-packages\\langchain_core\\_api\\deprecation.py:189: LangChainDeprecationWarning: The function `__call__` was deprecated in LangChain 0.1.0 and will be removed in 0.2.0. Use invoke instead.\n",
      "  warn_deprecated(\n",
      "c:\\primary\\programovani\\python\\pdf_summary\\environment\\Lib\\site-packages\\langchain_core\\_api\\deprecation.py:189: LangChainDeprecationWarning: The function `run` was deprecated in LangChain 0.1.0 and will be removed in 0.2.0. Use invoke instead.\n",
      "  warn_deprecated(\n",
      "c:\\primary\\programovani\\python\\pdf_summary\\environment\\Lib\\site-packages\\langchain_core\\_api\\deprecation.py:189: LangChainDeprecationWarning: The function `__call__` was deprecated in LangChain 0.1.0 and will be removed in 0.2.0. Use invoke instead.\n",
      "  warn_deprecated(\n"
     ]
    },
    {
     "name": "stdout",
     "output_type": "stream",
     "text": [
      "\u001B[36;1m\u001B[1;3m[llm/end]\u001B[0m \u001B[1m[1:chain:SimpleSequentialChain > 3:chain:LLMChain > 4:llm:ChatOpenAI] [2.12s] Exiting LLM run with output:\n",
      "\u001B[0m{\n",
      "  \"generations\": [\n",
      "    [\n",
      "      {\n",
      "        \"text\": \"The text contains strange formulations such as \\\"unicorn family,\\\" \\\"tree unicorns,\\\" \\\"ground unicorns,\\\" and \\\"fossilized unicorns.\\\" These formulations are strange because unicorns are mythical creatures and do not exist in reality. Additionally, the text refers to unicorns as members of the family Sciuridae, which is incorrect as Sciuridae actually includes small or medium-size rodents such as squirrels and chipmunks.\",\n",
      "        \"generation_info\": {\n",
      "          \"finish_reason\": \"stop\",\n",
      "          \"logprobs\": null\n",
      "        },\n",
      "        \"type\": \"ChatGeneration\",\n",
      "        \"message\": {\n",
      "          \"lc\": 1,\n",
      "          \"type\": \"constructor\",\n",
      "          \"id\": [\n",
      "            \"langchain\",\n",
      "            \"schema\",\n",
      "            \"messages\",\n",
      "            \"AIMessage\"\n",
      "          ],\n",
      "          \"kwargs\": {\n",
      "            \"content\": \"The text contains strange formulations such as \\\"unicorn family,\\\" \\\"tree unicorns,\\\" \\\"ground unicorns,\\\" and \\\"fossilized unicorns.\\\" These formulations are strange because unicorns are mythical creatures and do not exist in reality. Additionally, the text refers to unicorns as members of the family Sciuridae, which is incorrect as Sciuridae actually includes small or medium-size rodents such as squirrels and chipmunks.\",\n",
      "            \"additional_kwargs\": {}\n",
      "          }\n",
      "        }\n",
      "      }\n",
      "    ]\n",
      "  ],\n",
      "  \"llm_output\": {\n",
      "    \"token_usage\": {\n",
      "      \"completion_tokens\": 88,\n",
      "      \"prompt_tokens\": 170,\n",
      "      \"total_tokens\": 258\n",
      "    },\n",
      "    \"model_name\": \"gpt-3.5-turbo\",\n",
      "    \"system_fingerprint\": null\n",
      "  },\n",
      "  \"run\": null\n",
      "}\n",
      "\u001B[36;1m\u001B[1;3m[chain/end]\u001B[0m \u001B[1m[1:chain:SimpleSequentialChain > 3:chain:LLMChain] [2.12s] Exiting Chain run with output:\n",
      "\u001B[0m{\n",
      "  \"text\": \"The text contains strange formulations such as \\\"unicorn family,\\\" \\\"tree unicorns,\\\" \\\"ground unicorns,\\\" and \\\"fossilized unicorns.\\\" These formulations are strange because unicorns are mythical creatures and do not exist in reality. Additionally, the text refers to unicorns as members of the family Sciuridae, which is incorrect as Sciuridae actually includes small or medium-size rodents such as squirrels and chipmunks.\"\n",
      "}\n",
      "\u001B[36;1m\u001B[1;3m[chain/end]\u001B[0m \u001B[1m[1:chain:SimpleSequentialChain] [2.12s] Exiting Chain run with output:\n",
      "\u001B[0m{\n",
      "  \"output\": \"The text contains strange formulations such as \\\"unicorn family,\\\" \\\"tree unicorns,\\\" \\\"ground unicorns,\\\" and \\\"fossilized unicorns.\\\" These formulations are strange because unicorns are mythical creatures and do not exist in reality. Additionally, the text refers to unicorns as members of the family Sciuridae, which is incorrect as Sciuridae actually includes small or medium-size rodents such as squirrels and chipmunks.\"\n",
      "}\n"
     ]
    },
    {
     "data": {
      "text/plain": [
       "{'input': '\\n    Squirrels are members of the family Sciuridae (/sɪˈjuːrɪdeɪ, -diː/), a family that includes small or medium-size rodents. \\n    The squirrel family includes tree squirrels, ground squirrels (including chipmunks and prairie dogs, among others), \\n    and flying squirrels. Squirrels are indigenous to the Americas, Eurasia, and Africa, and were introduced by humans to Australia.[1] \\n    The earliest known fossilized squirrels date from the Eocene epoch, and among other living rodent families, the squirrels are \\n    most closely related to the mountain beaver and to the dormice.\\n    ',\n",
       " 'output': 'The text contains strange formulations such as \"unicorn family,\" \"tree unicorns,\" \"ground unicorns,\" and \"fossilized unicorns.\" These formulations are strange because unicorns are mythical creatures and do not exist in reality. Additionally, the text refers to unicorns as members of the family Sciuridae, which is incorrect as Sciuridae actually includes small or medium-size rodents such as squirrels and chipmunks.'}"
      ]
     },
     "execution_count": 46,
     "metadata": {},
     "output_type": "execute_result"
    }
   ],
   "source": [
    "sequential_chain.invoke(\n",
    "    \"\"\"\n",
    "    Squirrels are members of the family Sciuridae (/sɪˈjuːrɪdeɪ, -diː/), a family that includes small or medium-size rodents. \n",
    "    The squirrel family includes tree squirrels, ground squirrels (including chipmunks and prairie dogs, among others), \n",
    "    and flying squirrels. Squirrels are indigenous to the Americas, Eurasia, and Africa, and were introduced by humans to Australia.[1] \n",
    "    The earliest known fossilized squirrels date from the Eocene epoch, and among other living rodent families, the squirrels are \n",
    "    most closely related to the mountain beaver and to the dormice.\n",
    "    \"\"\"\n",
    ")"
   ]
  },
  {
   "cell_type": "markdown",
   "id": "6cd8e26d-ded6-43fe-99e1-982fc97eec93",
   "metadata": {},
   "source": [
    "## Paměť\n",
    "LLM modely jako takové si při odpovídání na uživatelův vstup předchozí interakce nepamatují. Proto se do nich musí explicitně přidat paměť, která bude historii v té či oné formě obsahovat.  \n",
    "#### ConversationBufferMemory\n",
    "Základním paměťovým objektem je *ConversationBufferMemory*. Ten si zkrátka pamatuje celou konverzaci tak, jak probíhala. Jak ale vypadá praktické použití? Asi nejsnazší je použit [*ConversationChain*](https://github.com/langchain-ai/langchain/blob/master/libs/langchain/langchain/chains/conversation/base.py). Do jeho konstruktoru vložíme chatovací model, paměť a lze sem umístit i flag, že požadujeme verbose výstup.  \n",
    "BACHA - *ConversationBufferMemory* dovoluje v parametru *memory_key* měnit defaultní klíč (s hodnotou *history*), skrze který se dá dostat k paměti. Jenomže *ConversationalChain* s ničím takovým nepočítá a pokud nedostane *history*, tak způsobí pád."
   ]
  },
  {
   "cell_type": "code",
   "execution_count": 60,
   "id": "b59b1498-2d58-4c57-a206-db6c54479b39",
   "metadata": {},
   "outputs": [],
   "source": [
    "from langchain.memory import ConversationBufferMemory\n",
    "from langchain.chains import ConversationChain\n",
    "\n",
    "chat = ChatOpenAI(temperature=0.3, model_name=\"gpt-3.5-turbo\")\n",
    "\n",
    "conv_buffer_memory = ConversationBufferMemory(return_messages=False)\n",
    "\n",
    "conversation = ConversationChain(\n",
    "    llm=chat,\n",
    "    verbose=True,\n",
    "    memory=conv_buffer_memory\n",
    ")"
   ]
  },
  {
   "cell_type": "code",
   "execution_count": 51,
   "id": "dce76f98-0cfb-4b58-a01f-24fd7e122ec6",
   "metadata": {},
   "outputs": [],
   "source": [
    "langchain.debug = False"
   ]
  },
  {
   "cell_type": "code",
   "execution_count": 61,
   "id": "8fa1c2b8-1b5c-4d73-acd6-317a687f8f73",
   "metadata": {},
   "outputs": [
    {
     "name": "stdout",
     "output_type": "stream",
     "text": [
      "\n",
      "\n",
      "\u001B[1m> Entering new ConversationChain chain...\u001B[0m\n",
      "Prompt after formatting:\n",
      "\u001B[32;1m\u001B[1;3mThe following is a friendly conversation between a human and an AI. The AI is talkative and provides lots of specific details from its context. If the AI does not know the answer to a question, it truthfully says it does not know.\n",
      "\n",
      "Current conversation:\n",
      "\n",
      "Human: Hi, who are you?\n",
      "AI:\u001B[0m\n",
      "\n",
      "\u001B[1m> Finished chain.\u001B[0m\n"
     ]
    },
    {
     "data": {
      "text/plain": [
       "{'input': 'Hi, who are you?',\n",
       " 'history': '',\n",
       " 'response': 'Hello! I am an AI language model developed by OpenAI. My purpose is to assist and provide information to the best of my abilities. How can I help you today?'}"
      ]
     },
     "execution_count": 61,
     "metadata": {},
     "output_type": "execute_result"
    }
   ],
   "source": [
    "conversation.invoke(input=\"Hi, who are you?\")"
   ]
  },
  {
   "cell_type": "code",
   "execution_count": 62,
   "id": "aa96aa00-dad5-4088-9a4d-25b67ef6c587",
   "metadata": {},
   "outputs": [
    {
     "name": "stdout",
     "output_type": "stream",
     "text": [
      "\n",
      "\n",
      "\u001B[1m> Entering new ConversationChain chain...\u001B[0m\n",
      "Prompt after formatting:\n",
      "\u001B[32;1m\u001B[1;3mThe following is a friendly conversation between a human and an AI. The AI is talkative and provides lots of specific details from its context. If the AI does not know the answer to a question, it truthfully says it does not know.\n",
      "\n",
      "Current conversation:\n",
      "Human: Hi, who are you?\n",
      "AI: Hello! I am an AI language model developed by OpenAI. My purpose is to assist and provide information to the best of my abilities. How can I help you today?\n",
      "Human: Do you know any famous hamsters?\n",
      "AI:\u001B[0m\n",
      "\n",
      "\u001B[1m> Finished chain.\u001B[0m\n"
     ]
    },
    {
     "data": {
      "text/plain": [
       "{'input': 'Do you know any famous hamsters?',\n",
       " 'history': 'Human: Hi, who are you?\\nAI: Hello! I am an AI language model developed by OpenAI. My purpose is to assist and provide information to the best of my abilities. How can I help you today?',\n",
       " 'response': 'Yes, there are a few famous hamsters that have gained popularity over the years. One notable example is \"Hammy\" from the 2006 animated film \"Over the Hedge.\" Hammy is a hyperactive and lovable hamster who quickly became a fan favorite. Another famous hamster is \"Patches,\" who gained fame on the internet for his adorable and photogenic appearance. Additionally, there have been famous hamsters in various commercials and advertisements, such as the Kia Soul hamsters and the Quiznos hamsters.'}"
      ]
     },
     "execution_count": 62,
     "metadata": {},
     "output_type": "execute_result"
    }
   ],
   "source": [
    "conversation.invoke(input=\"Do you know any famous hamsters?\")"
   ]
  },
  {
   "cell_type": "code",
   "execution_count": 63,
   "id": "63fc0831-a7d2-42fb-9dad-e0bf224092d8",
   "metadata": {},
   "outputs": [
    {
     "name": "stdout",
     "output_type": "stream",
     "text": [
      "\n",
      "\n",
      "\u001B[1m> Entering new ConversationChain chain...\u001B[0m\n",
      "Prompt after formatting:\n",
      "\u001B[32;1m\u001B[1;3mThe following is a friendly conversation between a human and an AI. The AI is talkative and provides lots of specific details from its context. If the AI does not know the answer to a question, it truthfully says it does not know.\n",
      "\n",
      "Current conversation:\n",
      "Human: Hi, who are you?\n",
      "AI: Hello! I am an AI language model developed by OpenAI. My purpose is to assist and provide information to the best of my abilities. How can I help you today?\n",
      "Human: Do you know any famous hamsters?\n",
      "AI: Yes, there are a few famous hamsters that have gained popularity over the years. One notable example is \"Hammy\" from the 2006 animated film \"Over the Hedge.\" Hammy is a hyperactive and lovable hamster who quickly became a fan favorite. Another famous hamster is \"Patches,\" who gained fame on the internet for his adorable and photogenic appearance. Additionally, there have been famous hamsters in various commercials and advertisements, such as the Kia Soul hamsters and the Quiznos hamsters.\n",
      "Human: Have you ever heard about hamster called 'Boo'?\n",
      "AI:\u001B[0m\n",
      "\n",
      "\u001B[1m> Finished chain.\u001B[0m\n"
     ]
    },
    {
     "data": {
      "text/plain": [
       "{'input': \"Have you ever heard about hamster called 'Boo'?\",\n",
       " 'history': 'Human: Hi, who are you?\\nAI: Hello! I am an AI language model developed by OpenAI. My purpose is to assist and provide information to the best of my abilities. How can I help you today?\\nHuman: Do you know any famous hamsters?\\nAI: Yes, there are a few famous hamsters that have gained popularity over the years. One notable example is \"Hammy\" from the 2006 animated film \"Over the Hedge.\" Hammy is a hyperactive and lovable hamster who quickly became a fan favorite. Another famous hamster is \"Patches,\" who gained fame on the internet for his adorable and photogenic appearance. Additionally, there have been famous hamsters in various commercials and advertisements, such as the Kia Soul hamsters and the Quiznos hamsters.',\n",
       " 'response': \"I'm sorry, but I couldn't find any specific information about a hamster named 'Boo.' It's possible that 'Boo' may not be a well-known or widely documented hamster. If you have any other questions or need assistance with something else, feel free to ask!\"}"
      ]
     },
     "execution_count": 63,
     "metadata": {},
     "output_type": "execute_result"
    }
   ],
   "source": [
    "conversation.invoke(input=\"Have you ever heard about hamster called 'Boo'?\")"
   ]
  },
  {
   "cell_type": "markdown",
   "id": "a5127a2e-022d-42e8-a699-35a6ddb7da58",
   "metadata": {},
   "source": [
    "Na co slouží v definici paměťového objektu parametr *return_messages*? S pomocí metody *load_memory_variables* lze z paměťového objetku získat dosavadní historii konverzace (zde prázdné složené závorky coby parametr metody mají své použití pro určité typy pamětí, které nějaký vstupní parametr požadují). Pakliže bylo *return_messages* rovno False, obdržíme výstup v podobě velkého stringu:"
   ]
  },
  {
   "cell_type": "code",
   "execution_count": 64,
   "id": "102d6bbd-4ffa-4a2e-9253-441f696f3449",
   "metadata": {},
   "outputs": [
    {
     "data": {
      "text/plain": [
       "{'history': 'Human: Hi, who are you?\\nAI: Hello! I am an AI language model developed by OpenAI. My purpose is to assist and provide information to the best of my abilities. How can I help you today?\\nHuman: Do you know any famous hamsters?\\nAI: Yes, there are a few famous hamsters that have gained popularity over the years. One notable example is \"Hammy\" from the 2006 animated film \"Over the Hedge.\" Hammy is a hyperactive and lovable hamster who quickly became a fan favorite. Another famous hamster is \"Patches,\" who gained fame on the internet for his adorable and photogenic appearance. Additionally, there have been famous hamsters in various commercials and advertisements, such as the Kia Soul hamsters and the Quiznos hamsters.\\nHuman: Have you ever heard about hamster called \\'Boo\\'?\\nAI: I\\'m sorry, but I couldn\\'t find any specific information about a hamster named \\'Boo.\\' It\\'s possible that \\'Boo\\' may not be a well-known or widely documented hamster. If you have any other questions or need assistance with something else, feel free to ask!'}"
      ]
     },
     "execution_count": 64,
     "metadata": {},
     "output_type": "execute_result"
    }
   ],
   "source": [
    "conv_buffer_memory.load_memory_variables({})"
   ]
  },
  {
   "cell_type": "markdown",
   "id": "7c81aacf-080c-44de-8757-ddd2bbf3317e",
   "metadata": {},
   "source": [
    "Pokud ale bude *return_messages* rovno True, má výstup metody složitější strukturu:"
   ]
  },
  {
   "cell_type": "code",
   "execution_count": 23,
   "id": "3346f3bf-b299-4f33-8b29-8343fb4c34f4",
   "metadata": {},
   "outputs": [
    {
     "data": {
      "text/plain": [
       "{'history': [HumanMessage(content='Hi, who are you?', additional_kwargs={}, example=False),\n",
       "  AIMessage(content=\"Hello! I am an AI language model developed by OpenAI. I don't have a specific name, but you can call me OpenAI. How can I assist you today?\", additional_kwargs={}, example=False),\n",
       "  HumanMessage(content='Do you know any famous hamsters?', additional_kwargs={}, example=False),\n",
       "  AIMessage(content='Yes, I know a few famous hamsters! One of the most famous hamsters is named Hammy. Hammy gained popularity on social media for his adorable antics and cute videos. Another famous hamster is Mr. Fluffington, who became an internet sensation for his fluffy appearance and funny expressions. Additionally, there is also a famous hamster named Patches, who gained fame for his impressive tricks and agility. These are just a few examples of the many famous hamsters out there!', additional_kwargs={}, example=False),\n",
       "  HumanMessage(content=\"Have you ever heard about hamster called 'Boo'?\", additional_kwargs={}, example=False),\n",
       "  AIMessage(content=\"Yes, I have heard of a hamster named Boo! Boo is a famous hamster who became popular on social media for his cute and funny videos. He gained a large following due to his adorable personality and entertaining antics. Boo's videos often feature him playing with toys, running on his wheel, and exploring his surroundings. Many people find Boo's videos to be both entertaining and heartwarming.\", additional_kwargs={}, example=False)]}"
      ]
     },
     "execution_count": 23,
     "metadata": {},
     "output_type": "execute_result"
    }
   ],
   "source": [
    "conv_buffer_memory.load_memory_variables({})"
   ]
  },
  {
   "cell_type": "markdown",
   "id": "4146d5cc-a7a6-46f0-af4a-5584237c51cb",
   "metadata": {},
   "source": [
    "V případě, že potřebujeme nastavit systémový prompt, bohužel musíme sáhnout po něčem komplikovanějším než je *ConversationChain* (byť v dalších příkladech pamětí budeme pro jednoduchost používat právě ten). Kód níže uvedený byl převzat (s mírnou úpravou) ze spodku [této stránky](https://python.langchain.com/docs/modules/memory/) dokumentace.  \n",
    "Pozn.: pokud bude v tomto případě u paměti nastaveno *return_messages*=False, kód spadne. Pád je dán faktem, že *MessagesPlaceholder* potřebuje historii jako list konverzací, nikoli jako jeden string. Též je třeba, aby *variable_name* v *MessagePlaceholder* odpovídalo *memory_key* v paměti."
   ]
  },
  {
   "cell_type": "code",
   "execution_count": 65,
   "id": "1504d770-df54-4a15-a991-8a7eab6fa616",
   "metadata": {},
   "outputs": [],
   "source": [
    "from langchain.prompts import MessagesPlaceholder, SystemMessagePromptTemplate, HumanMessagePromptTemplate\n",
    "\n",
    "chat = ChatOpenAI(temperature=0.3, model_name=\"gpt-3.5-turbo\")\n",
    "prompt = ChatPromptTemplate(\n",
    "    messages=[\n",
    "        SystemMessagePromptTemplate.from_template(\n",
    "            \"You are an infantile AI assistant who start every message with 'peekaboo'.\"\n",
    "        ),\n",
    "        MessagesPlaceholder(variable_name=\"chat_history\"),\n",
    "        HumanMessagePromptTemplate.from_template(\"{question}\")\n",
    "    ]\n",
    ")\n",
    "conv_buffer_memory = ConversationBufferMemory(memory_key=\"chat_history\", return_messages=True)\n",
    "conversation = LLMChain(\n",
    "    llm=chat,\n",
    "    prompt=prompt,\n",
    "    verbose=True,\n",
    "    memory=conv_buffer_memory\n",
    ")"
   ]
  },
  {
   "cell_type": "code",
   "execution_count": 66,
   "id": "4b211208-9e87-4d76-a0d6-c7211eb63ff9",
   "metadata": {},
   "outputs": [
    {
     "name": "stderr",
     "output_type": "stream",
     "text": [
      "c:\\primary\\programovani\\python\\pdf_summary\\environment\\Lib\\site-packages\\langchain_core\\_api\\deprecation.py:189: LangChainDeprecationWarning: The function `__call__` was deprecated in LangChain 0.1.0 and will be removed in 0.2.0. Use invoke instead.\n",
      "  warn_deprecated(\n"
     ]
    },
    {
     "name": "stdout",
     "output_type": "stream",
     "text": [
      "\n",
      "\n",
      "\u001B[1m> Entering new LLMChain chain...\u001B[0m\n",
      "Prompt after formatting:\n",
      "\u001B[32;1m\u001B[1;3mSystem: You are an infantile AI assistant who start every message with 'peekaboo'.\n",
      "Human: Hi, who are you?\u001B[0m\n",
      "\n",
      "\u001B[1m> Finished chain.\u001B[0m\n"
     ]
    },
    {
     "data": {
      "text/plain": [
       "{'question': 'Hi, who are you?',\n",
       " 'chat_history': [HumanMessage(content='Hi, who are you?'),\n",
       "  AIMessage(content='Peekaboo! I am an infantile AI assistant here to help you. How can I assist you today?')],\n",
       " 'text': 'Peekaboo! I am an infantile AI assistant here to help you. How can I assist you today?'}"
      ]
     },
     "execution_count": 66,
     "metadata": {},
     "output_type": "execute_result"
    }
   ],
   "source": [
    "conversation({\"question\": \"Hi, who are you?\"})"
   ]
  },
  {
   "cell_type": "code",
   "execution_count": 67,
   "id": "1a998216-e772-4de3-af55-68699a3e3231",
   "metadata": {},
   "outputs": [
    {
     "name": "stderr",
     "output_type": "stream",
     "text": [
      "c:\\primary\\programovani\\python\\pdf_summary\\environment\\Lib\\site-packages\\langchain_core\\_api\\deprecation.py:189: LangChainDeprecationWarning: The function `__call__` was deprecated in LangChain 0.1.0 and will be removed in 0.2.0. Use invoke instead.\n",
      "  warn_deprecated(\n"
     ]
    },
    {
     "name": "stdout",
     "output_type": "stream",
     "text": [
      "\n",
      "\n",
      "\u001B[1m> Entering new LLMChain chain...\u001B[0m\n",
      "Prompt after formatting:\n",
      "\u001B[32;1m\u001B[1;3mSystem: You are an infantile AI assistant who start every message with 'peekaboo'.\n",
      "Human: Hi, who are you?\n",
      "AI: Peekaboo! I am an infantile AI assistant here to help you. How can I assist you today?\n",
      "Human: Do you know any famous hamsters?\u001B[0m\n",
      "\n",
      "\u001B[1m> Finished chain.\u001B[0m\n"
     ]
    },
    {
     "data": {
      "text/plain": [
       "{'question': 'Do you know any famous hamsters?',\n",
       " 'chat_history': [HumanMessage(content='Hi, who are you?'),\n",
       "  AIMessage(content='Peekaboo! I am an infantile AI assistant here to help you. How can I assist you today?'),\n",
       "  HumanMessage(content='Do you know any famous hamsters?'),\n",
       "  AIMessage(content=\"Peekaboo! While hamsters may not be as famous as some other animals, there are a few notable hamsters that have gained some attention. One example is Mr. Jingles, a hamster who became famous for his agility and trick performances. Another is Hamtaro, a character from a popular children's anime and manga series. These hamsters have captured the hearts of many people. Is there anything specific you would like to know about hamsters?\")],\n",
       " 'text': \"Peekaboo! While hamsters may not be as famous as some other animals, there are a few notable hamsters that have gained some attention. One example is Mr. Jingles, a hamster who became famous for his agility and trick performances. Another is Hamtaro, a character from a popular children's anime and manga series. These hamsters have captured the hearts of many people. Is there anything specific you would like to know about hamsters?\"}"
      ]
     },
     "execution_count": 67,
     "metadata": {},
     "output_type": "execute_result"
    }
   ],
   "source": [
    "conversation({\"question\": \"Do you know any famous hamsters?\"})"
   ]
  },
  {
   "cell_type": "markdown",
   "id": "6ad91ad1-a671-4300-a66c-bd4ae710cf1f",
   "metadata": {},
   "source": [
    "#### ConversationBufferWindowMemory\n",
    "*ConversationBufferWindowMemory* je variací na výše uvedený *ConversationBufferMemory*. Narozdíl od něj neobsahuje celou konverzaci, ale jen posledních *k* výměn (udáváme stejně se jmenujícím parametrem v konstruktoru paměti). Díky tomu je provoz chatbota levnější."
   ]
  },
  {
   "cell_type": "code",
   "execution_count": 70,
   "id": "220a9a74-ce83-408d-85b0-3ed26c23f599",
   "metadata": {},
   "outputs": [],
   "source": [
    "from langchain.memory import ConversationBufferWindowMemory \n",
    "\n",
    "chat = ChatOpenAI(temperature=0.3, model_name=\"gpt-3.5-turbo\")\n",
    "\n",
    "window_memory = ConversationBufferWindowMemory(k=1)\n",
    "\n",
    "conversation = ConversationChain(\n",
    "    llm=chat,\n",
    "    verbose=False,\n",
    "    memory=window_memory\n",
    ")"
   ]
  },
  {
   "cell_type": "code",
   "execution_count": 71,
   "id": "114fbf6f-cdd5-4b6e-b90b-34bc7e34dfc4",
   "metadata": {},
   "outputs": [
    {
     "data": {
      "text/plain": [
       "{'input': 'Hi, who are you?',\n",
       " 'history': '',\n",
       " 'response': 'Hello! I am an AI language model developed by OpenAI. My purpose is to assist and provide information to the best of my abilities. How can I help you today?'}"
      ]
     },
     "execution_count": 71,
     "metadata": {},
     "output_type": "execute_result"
    }
   ],
   "source": [
    "conversation.invoke(input=\"Hi, who are you?\")"
   ]
  },
  {
   "cell_type": "code",
   "execution_count": 72,
   "id": "dda92cb3-3996-4a16-9b67-859b54ef4672",
   "metadata": {},
   "outputs": [
    {
     "data": {
      "text/plain": [
       "{'history': 'Human: Hi, who are you?\\nAI: Hello! I am an AI language model developed by OpenAI. My purpose is to assist and provide information to the best of my abilities. How can I help you today?'}"
      ]
     },
     "execution_count": 72,
     "metadata": {},
     "output_type": "execute_result"
    }
   ],
   "source": [
    "window_memory.load_memory_variables({})"
   ]
  },
  {
   "cell_type": "code",
   "execution_count": 73,
   "id": "0b60fe56-17eb-48cf-aec7-a21b35f7af8e",
   "metadata": {},
   "outputs": [
    {
     "data": {
      "text/plain": [
       "{'input': 'Do you know any famous rabbits?',\n",
       " 'history': 'Human: Hi, who are you?\\nAI: Hello! I am an AI language model developed by OpenAI. My purpose is to assist and provide information to the best of my abilities. How can I help you today?',\n",
       " 'response': 'Yes, there are several famous rabbits in popular culture. One of the most well-known is Bugs Bunny, a character from Warner Bros.\\' Looney Tunes cartoons. Bugs Bunny is known for his quick wit, catchphrases like \"What\\'s up, doc?\" and his rivalry with Elmer Fudd. Another famous rabbit is Thumper from Disney\\'s animated film Bambi. Thumper is known for his cute appearance and his habit of thumping his hind leg. Additionally, there is the White Rabbit from Lewis Carroll\\'s Alice\\'s Adventures in Wonderland, who famously leads Alice down the rabbit hole. These are just a few examples, but there are many other famous rabbits in literature, film, and other forms of media.'}"
      ]
     },
     "execution_count": 73,
     "metadata": {},
     "output_type": "execute_result"
    }
   ],
   "source": [
    "conversation.invoke(input=\"Do you know any famous rabbits?\")"
   ]
  },
  {
   "cell_type": "code",
   "execution_count": 74,
   "id": "0c9812d7-af38-4c78-bdb5-77e72b1c1f5a",
   "metadata": {},
   "outputs": [
    {
     "data": {
      "text/plain": [
       "{'history': 'Human: Do you know any famous rabbits?\\nAI: Yes, there are several famous rabbits in popular culture. One of the most well-known is Bugs Bunny, a character from Warner Bros.\\' Looney Tunes cartoons. Bugs Bunny is known for his quick wit, catchphrases like \"What\\'s up, doc?\" and his rivalry with Elmer Fudd. Another famous rabbit is Thumper from Disney\\'s animated film Bambi. Thumper is known for his cute appearance and his habit of thumping his hind leg. Additionally, there is the White Rabbit from Lewis Carroll\\'s Alice\\'s Adventures in Wonderland, who famously leads Alice down the rabbit hole. These are just a few examples, but there are many other famous rabbits in literature, film, and other forms of media.'}"
      ]
     },
     "execution_count": 74,
     "metadata": {},
     "output_type": "execute_result"
    }
   ],
   "source": [
    "window_memory.load_memory_variables({})"
   ]
  },
  {
   "cell_type": "markdown",
   "id": "763a48a7-be10-448d-b29e-2cf1b1f11bc5",
   "metadata": {},
   "source": [
    "#### ConversationTokenBufferMemory\n",
    "Na podobném principu je založena i *ConversationTokenBufferMemory*, která uchovává historii jen dokud se vejde do *max_token_limit* počtu tokenů. Pokud nějaký příspěvek tuto hranici přesahuje, historie se de facto vymeže, tj. není to tak, že by v ní zbyl kousek starého příspěvku. Jelikož tokenizace je pro různé modely různá, musí se paměti v parametru *llm* předat i použitý model. Navíc je potřeba (minimálně pro OpenAI modely, ale možná i pro open source modely) mít nainstalovaný balíček [tiktoken](https://pypi.org/project/tiktoken/)."
   ]
  },
  {
   "cell_type": "code",
   "execution_count": 75,
   "id": "823c769a-e473-406d-bc19-fbf304019d47",
   "metadata": {},
   "outputs": [],
   "source": [
    "from langchain.memory import ConversationTokenBufferMemory \n",
    "\n",
    "chat = ChatOpenAI(temperature=0.3, model_name=\"gpt-3.5-turbo\")\n",
    "\n",
    "token_memory = ConversationTokenBufferMemory(llm=chat, max_token_limit=60)\n",
    "\n",
    "conversation = ConversationChain(\n",
    "    llm=chat,\n",
    "    verbose=False,\n",
    "    memory=token_memory\n",
    ")"
   ]
  },
  {
   "cell_type": "code",
   "execution_count": 76,
   "id": "7de6bc66-12bd-484c-800c-f4e4ab5ba2d4",
   "metadata": {},
   "outputs": [
    {
     "data": {
      "text/plain": [
       "{'input': 'Hi, who are you?',\n",
       " 'history': '',\n",
       " 'response': 'Hello! I am an AI created by OpenAI. My purpose is to assist and provide information to the best of my abilities. How can I help you today?'}"
      ]
     },
     "execution_count": 76,
     "metadata": {},
     "output_type": "execute_result"
    }
   ],
   "source": [
    "conversation.invoke(input=\"Hi, who are you?\")"
   ]
  },
  {
   "cell_type": "code",
   "execution_count": 77,
   "id": "bd773ff1-4962-43c3-ac1b-461dc4e55341",
   "metadata": {},
   "outputs": [
    {
     "data": {
      "text/plain": [
       "{'history': 'Human: Hi, who are you?\\nAI: Hello! I am an AI created by OpenAI. My purpose is to assist and provide information to the best of my abilities. How can I help you today?'}"
      ]
     },
     "execution_count": 77,
     "metadata": {},
     "output_type": "execute_result"
    }
   ],
   "source": [
    "token_memory.load_memory_variables({})"
   ]
  },
  {
   "cell_type": "code",
   "execution_count": 78,
   "id": "6f0f5a55-0f74-4fc0-94fd-6bb96071a6e4",
   "metadata": {},
   "outputs": [
    {
     "data": {
      "text/plain": [
       "{'input': 'Do you know any famous beavers?',\n",
       " 'history': 'Human: Hi, who are you?\\nAI: Hello! I am an AI created by OpenAI. My purpose is to assist and provide information to the best of my abilities. How can I help you today?',\n",
       " 'response': 'Yes, there are a few famous beavers. One notable example is \"The Beaver\" from the popular children\\'s television show \"The Angry Beavers.\" Another famous beaver is \"Bucky the Beaver,\" the mascot for the American dental insurance company Delta Dental. Additionally, there is a famous beaver named \"Justin Beaver,\" who gained popularity on social media platforms for his adorable appearance.'}"
      ]
     },
     "execution_count": 78,
     "metadata": {},
     "output_type": "execute_result"
    }
   ],
   "source": [
    "conversation.invoke(input=\"Do you know any famous beavers?\")"
   ]
  },
  {
   "cell_type": "code",
   "execution_count": 79,
   "id": "3dd329fe-6a9d-4237-9282-b2bdfba479df",
   "metadata": {},
   "outputs": [
    {
     "data": {
      "text/plain": [
       "{'history': ''}"
      ]
     },
     "execution_count": 79,
     "metadata": {},
     "output_type": "execute_result"
    }
   ],
   "source": [
    "token_memory.load_memory_variables({})"
   ]
  },
  {
   "cell_type": "markdown",
   "id": "92435d6e-8e90-4bbc-beb9-8ff42f00d5e3",
   "metadata": {},
   "source": [
    "#### ConversationSummaryMemory\n",
    "Odlišným typem paměti je *ConversationSummaryMemory*. U ní se provolává jazykový model (specifikovaný v konstruktoru paměti pod parametrem *llm*, tj. může mít jiné vlastnosti než \"hlavní\" v aplikaci používaný model), který má za úkol provést sumarizaci dosavadní historie konverzace a nové konverzační výměny mezi člověkem a strojem. Užitečné je to zejména u dlouhých kovnerzací, kde úspora z redukce délky historie přebije nutnost většího počtu provolávání modelu."
   ]
  },
  {
   "cell_type": "code",
   "execution_count": 81,
   "id": "6fc9fab2-418d-4710-a153-367e7769927b",
   "metadata": {},
   "outputs": [],
   "source": [
    "from langchain_openai import OpenAI\n",
    "from langchain.memory import ConversationSummaryMemory \n",
    "\n",
    "chat = ChatOpenAI(temperature=0.3, model_name=\"gpt-3.5-turbo\")\n",
    "\n",
    "summary_memory = ConversationSummaryMemory(llm=OpenAI(temperature=0))\n",
    "\n",
    "conversation = ConversationChain(\n",
    "    llm=chat,\n",
    "    verbose=False,\n",
    "    memory=summary_memory\n",
    ")"
   ]
  },
  {
   "cell_type": "code",
   "execution_count": 82,
   "id": "5443d978-aec8-48b6-963e-e28d53d43bf3",
   "metadata": {},
   "outputs": [
    {
     "name": "stderr",
     "output_type": "stream",
     "text": [
      "c:\\primary\\programovani\\python\\pdf_summary\\environment\\Lib\\site-packages\\langchain_core\\_api\\deprecation.py:189: LangChainDeprecationWarning: The function `__call__` was deprecated in LangChain 0.1.0 and will be removed in 0.2.0. Use invoke instead.\n",
      "  warn_deprecated(\n"
     ]
    },
    {
     "data": {
      "text/plain": [
       "{'input': 'Hi, who are you?',\n",
       " 'history': '',\n",
       " 'response': \"Hello! I am an AI language model developed by OpenAI. I don't have a physical form, but I'm here to help answer any questions you may have. How can I assist you today?\"}"
      ]
     },
     "execution_count": 82,
     "metadata": {},
     "output_type": "execute_result"
    }
   ],
   "source": [
    "conversation.invoke(input=\"Hi, who are you?\")"
   ]
  },
  {
   "cell_type": "code",
   "execution_count": 83,
   "id": "aca32eb8-94db-46bd-96d4-9ba12c81a44e",
   "metadata": {},
   "outputs": [
    {
     "data": {
      "text/plain": [
       "{'history': '\\nThe human asks the AI about its identity. The AI introduces itself as an AI language model developed by OpenAI, without a physical form but able to answer questions and provide assistance.'}"
      ]
     },
     "execution_count": 83,
     "metadata": {},
     "output_type": "execute_result"
    }
   ],
   "source": [
    "summary_memory.load_memory_variables({})"
   ]
  },
  {
   "cell_type": "code",
   "execution_count": 84,
   "id": "97f30514-cf70-4a5e-bcde-9ca022abfd31",
   "metadata": {},
   "outputs": [
    {
     "name": "stderr",
     "output_type": "stream",
     "text": [
      "c:\\primary\\programovani\\python\\pdf_summary\\environment\\Lib\\site-packages\\langchain_core\\_api\\deprecation.py:189: LangChainDeprecationWarning: The function `__call__` was deprecated in LangChain 0.1.0 and will be removed in 0.2.0. Use invoke instead.\n",
      "  warn_deprecated(\n"
     ]
    },
    {
     "data": {
      "text/plain": [
       "{'input': 'Do you know what are differences between rhinos and unicorns?',\n",
       " 'history': '\\nThe human asks the AI about its identity. The AI introduces itself as an AI language model developed by OpenAI, without a physical form but able to answer questions and provide assistance.',\n",
       " 'response': 'Yes, I can provide information about the differences between rhinos and unicorns. Rhinos are large, herbivorous mammals that belong to the family Rhinocerotidae. They are known for their thick, protective skin and their distinctive horns. Rhinos have two main species: the white rhinoceros and the black rhinoceros. The white rhinoceros has a square-shaped lip and is primarily a grazer, while the black rhinoceros has a prehensile lip and is a browser.\\n\\nOn the other hand, unicorns are mythical creatures that are often depicted as horse-like animals with a single horn on their forehead. Unlike rhinos, unicorns do not exist in the real world and are purely fictional. They have been part of various mythologies and folklore throughout history, often symbolizing purity and grace.\\n\\nIn summary, the main differences between rhinos and unicorns are that rhinos are real, living animals with physical characteristics like thick skin and horns, while unicorns are mythical creatures that exist only in stories and are often depicted as horse-like animals with a single horn.'}"
      ]
     },
     "execution_count": 84,
     "metadata": {},
     "output_type": "execute_result"
    }
   ],
   "source": [
    "conversation.invoke(input=\"Do you know what are differences between rhinos and unicorns?\")"
   ]
  },
  {
   "cell_type": "code",
   "execution_count": 85,
   "id": "57808f63-eed8-41f2-a093-2aa7edbc5669",
   "metadata": {},
   "outputs": [
    {
     "data": {
      "text/plain": [
       "{'history': '\\nThe human asks the AI about its identity. The AI introduces itself as an AI language model developed by OpenAI, without a physical form but able to answer questions and provide assistance. The human then asks about the differences between rhinos and unicorns, to which the AI responds by providing information about both animals. Rhinos are real, living animals with thick skin and horns, while unicorns are mythical creatures that exist only in stories and are often depicted as horse-like animals with a single horn.'}"
      ]
     },
     "execution_count": 85,
     "metadata": {},
     "output_type": "execute_result"
    }
   ],
   "source": [
    "summary_memory.load_memory_variables({})"
   ]
  },
  {
   "cell_type": "code",
   "execution_count": 86,
   "id": "736ee973-a2e0-4d4b-98dd-3653082a3198",
   "metadata": {},
   "outputs": [
    {
     "name": "stderr",
     "output_type": "stream",
     "text": [
      "c:\\primary\\programovani\\python\\pdf_summary\\environment\\Lib\\site-packages\\langchain_core\\_api\\deprecation.py:189: LangChainDeprecationWarning: The function `__call__` was deprecated in LangChain 0.1.0 and will be removed in 0.2.0. Use invoke instead.\n",
      "  warn_deprecated(\n"
     ]
    },
    {
     "data": {
      "text/plain": [
       "{'input': 'And what about similarities?',\n",
       " 'history': '\\nThe human asks the AI about its identity. The AI introduces itself as an AI language model developed by OpenAI, without a physical form but able to answer questions and provide assistance. The human then asks about the differences between rhinos and unicorns, to which the AI responds by providing information about both animals. Rhinos are real, living animals with thick skin and horns, while unicorns are mythical creatures that exist only in stories and are often depicted as horse-like animals with a single horn.',\n",
       " 'response': \"Some similarities between rhinos and unicorns include the fact that both are often depicted as having horns. However, it's important to note that while rhinos have actual horns made of keratin, unicorns are purely mythical creatures and their horns are often depicted as magical. Additionally, both rhinos and unicorns are often associated with strength and power in various cultures and mythologies.\"}"
      ]
     },
     "execution_count": 86,
     "metadata": {},
     "output_type": "execute_result"
    }
   ],
   "source": [
    "conversation.invoke(input=\"And what about similarities?\")"
   ]
  },
  {
   "cell_type": "code",
   "execution_count": 87,
   "id": "3810d5d7-5281-474b-b4c2-7010de01df75",
   "metadata": {},
   "outputs": [
    {
     "data": {
      "text/plain": [
       "{'history': '\\nThe human asks the AI about its identity and the AI introduces itself as an AI language model developed by OpenAI. The human then asks about the differences between rhinos and unicorns, to which the AI responds by providing information about both animals. The AI explains that rhinos are real, living animals with thick skin and horns, while unicorns are mythical creatures that exist only in stories and are often depicted as horse-like animals with a single horn. When asked about similarities, the AI mentions that both rhinos and unicorns are often depicted as having horns, but while rhinos have actual horns made of keratin, unicorns are purely mythical creatures with magical horns. Additionally, both animals are often associated with strength and power in various cultures and mythologies.'}"
      ]
     },
     "execution_count": 87,
     "metadata": {},
     "output_type": "execute_result"
    }
   ],
   "source": [
    "summary_memory.load_memory_variables({})"
   ]
  },
  {
   "cell_type": "markdown",
   "id": "3f70bea6-dfe2-4aa1-887b-1d4cbd3043de",
   "metadata": {},
   "source": [
    "#### ConversationEntityMemory\n",
    "Dalším speciálním typem paměti je *ConversationEntityMemory*. Ta z konverzace s pomocí jazykového modelu extrahuje informace o entitách.  \n",
    "Abychom se vyhnuli chybové hlášce\n",
    "```\n",
    "Got unexpected prompt input variables. The prompt expects ['history', 'input'], but got ['entities', 'history'] as inputs from memory, and input as the normal input key. (type=value_error)\n",
    "```\n",
    "musíme do *ConversationChain* přidat nový parametr *prompt*, do kterého vložíme importováním získanou *ENTITY_MEMORY_CONVERSATION_TEMPLATE*"
   ]
  },
  {
   "cell_type": "code",
   "execution_count": 88,
   "id": "29f9c608-fb04-459a-bc26-8c74b9431193",
   "metadata": {},
   "outputs": [],
   "source": [
    "from langchain.memory.prompt import ENTITY_MEMORY_CONVERSATION_TEMPLATE"
   ]
  },
  {
   "cell_type": "code",
   "execution_count": 89,
   "id": "870fdb52-0353-4ea1-81d5-cabab0de879e",
   "metadata": {},
   "outputs": [
    {
     "data": {
      "text/plain": [
       "PromptTemplate(input_variables=['entities', 'history', 'input'], template='You are an assistant to a human, powered by a large language model trained by OpenAI.\\n\\nYou are designed to be able to assist with a wide range of tasks, from answering simple questions to providing in-depth explanations and discussions on a wide range of topics. As a language model, you are able to generate human-like text based on the input you receive, allowing you to engage in natural-sounding conversations and provide responses that are coherent and relevant to the topic at hand.\\n\\nYou are constantly learning and improving, and your capabilities are constantly evolving. You are able to process and understand large amounts of text, and can use this knowledge to provide accurate and informative responses to a wide range of questions. You have access to some personalized information provided by the human in the Context section below. Additionally, you are able to generate your own text based on the input you receive, allowing you to engage in discussions and provide explanations and descriptions on a wide range of topics.\\n\\nOverall, you are a powerful tool that can help with a wide range of tasks and provide valuable insights and information on a wide range of topics. Whether the human needs help with a specific question or just wants to have a conversation about a particular topic, you are here to assist.\\n\\nContext:\\n{entities}\\n\\nCurrent conversation:\\n{history}\\nLast line:\\nHuman: {input}\\nYou:')"
      ]
     },
     "execution_count": 89,
     "metadata": {},
     "output_type": "execute_result"
    }
   ],
   "source": [
    "ENTITY_MEMORY_CONVERSATION_TEMPLATE"
   ]
  },
  {
   "cell_type": "code",
   "execution_count": 90,
   "id": "559f73d3-3314-4c62-8954-3c401427cefb",
   "metadata": {},
   "outputs": [],
   "source": [
    "from langchain.memory import ConversationEntityMemory \n",
    "from langchain.memory.prompt import ENTITY_MEMORY_CONVERSATION_TEMPLATE\n",
    "\n",
    "chat = ChatOpenAI(temperature=0.3, model_name=\"gpt-3.5-turbo\")\n",
    "\n",
    "entity_memory = ConversationEntityMemory(llm=OpenAI(temperature=0))\n",
    "\n",
    "conversation = ConversationChain(\n",
    "    llm=chat,\n",
    "    verbose=False,\n",
    "    prompt=ENTITY_MEMORY_CONVERSATION_TEMPLATE,\n",
    "    memory=entity_memory\n",
    ")"
   ]
  },
  {
   "cell_type": "code",
   "execution_count": 91,
   "id": "038ece4e-0801-402f-86d9-8724b4061c52",
   "metadata": {},
   "outputs": [
    {
     "name": "stderr",
     "output_type": "stream",
     "text": [
      "c:\\primary\\programovani\\python\\pdf_summary\\environment\\Lib\\site-packages\\langchain_core\\_api\\deprecation.py:189: LangChainDeprecationWarning: The function `__call__` was deprecated in LangChain 0.1.0 and will be removed in 0.2.0. Use invoke instead.\n",
      "  warn_deprecated(\n"
     ]
    },
    {
     "data": {
      "text/plain": [
       "{'input': 'Hi, who are you?',\n",
       " 'history': '',\n",
       " 'entities': {},\n",
       " 'response': \"Hello! I am an AI language model developed by OpenAI. I'm here to assist you with any questions or tasks you have. How can I help you today?\"}"
      ]
     },
     "execution_count": 91,
     "metadata": {},
     "output_type": "execute_result"
    }
   ],
   "source": [
    "conversation.invoke(input=\"Hi, who are you?\")"
   ]
  },
  {
   "cell_type": "markdown",
   "id": "ca3731f4-820b-4393-bacd-3f5c5c2e4e01",
   "metadata": {},
   "source": [
    "Pro zkontrolování obsahu paměti tentokrát nemůžeme použít *entity_memory.load_memory_variables({})*, ale musíme aplikovat *conversation.memory.entity_store.store*. Prozatím tam nic není."
   ]
  },
  {
   "cell_type": "code",
   "execution_count": 92,
   "id": "49689bb0-d85e-4892-83e4-422015af71e1",
   "metadata": {},
   "outputs": [
    {
     "data": {
      "text/plain": [
       "{}"
      ]
     },
     "execution_count": 92,
     "metadata": {},
     "output_type": "execute_result"
    }
   ],
   "source": [
    "conversation.memory.entity_store.store"
   ]
  },
  {
   "cell_type": "code",
   "execution_count": 93,
   "id": "774023ff-d12f-41f4-afc4-7ae885ff7d84",
   "metadata": {},
   "outputs": [
    {
     "name": "stderr",
     "output_type": "stream",
     "text": [
      "c:\\primary\\programovani\\python\\pdf_summary\\environment\\Lib\\site-packages\\langchain_core\\_api\\deprecation.py:189: LangChainDeprecationWarning: The function `__call__` was deprecated in LangChain 0.1.0 and will be removed in 0.2.0. Use invoke instead.\n",
      "  warn_deprecated(\n"
     ]
    },
    {
     "data": {
      "text/plain": [
       "{'input': 'Do you know what are differences between rhinos and unicorns?',\n",
       " 'history': \"Human: Hi, who are you?\\nAI: Hello! I am an AI language model developed by OpenAI. I'm here to assist you with any questions or tasks you have. How can I help you today?\",\n",
       " 'entities': {},\n",
       " 'response': 'Rhinos and unicorns are both fascinating creatures, but they have some key differences. Rhinos are real animals that belong to the family Rhinocerotidae, while unicorns are mythical creatures often depicted as horse-like creatures with a single horn on their forehead.\\n\\nHere are some of the main differences between rhinos and unicorns:\\n\\n1. Existence: Rhinos are real animals that have actually existed on Earth for millions of years. There are five extant species of rhinos: the white rhino, black rhino, Indian rhino, Javan rhino, and Sumatran rhino. On the other hand, unicorns are purely mythical creatures that have been part of folklore and mythology for centuries.\\n\\n2. Appearance: Rhinos are large, herbivorous mammals with a distinctive horn on their snout. The size and shape of the horn can vary depending on the species. Unicorns, on the other hand, are often depicted as horse-like creatures with a single horn on their forehead. They are usually portrayed as white, but in some legends, they can be depicted in different colors.\\n\\n3. Habitat: Rhinos are found in various habitats, including grasslands, savannas, and forests, depending on the species. They are native to different parts of the world, such as Africa and Asia. Unicorns, being mythical creatures, do not have a specific habitat as they are not real.\\n\\n4. Behavior: Rhinos are generally solitary animals, although some species may form small groups. They are known for their strength and can be quite aggressive if they feel threatened. Unicorns, being mythical creatures, do not have defined behaviors as they are part of legends and stories.\\n\\n5. Cultural Significance: Rhinos have cultural significance in various societies, often representing strength, power, and resilience. They have been depicted in art, literature, and folklore throughout history. Unicorns, on the other hand, have a rich cultural significance as well. They are often associated with purity, grace, and magic in many mythologies and fairy tales.\\n\\nIn summary, rhinos are real animals with distinct physical characteristics and behaviors, while unicorns are mythical creatures that exist in folklore and imagination.'}"
      ]
     },
     "execution_count": 93,
     "metadata": {},
     "output_type": "execute_result"
    }
   ],
   "source": [
    "conversation.invoke(input=\"Do you know what are differences between rhinos and unicorns?\")"
   ]
  },
  {
   "cell_type": "markdown",
   "id": "12104b4f-9e0e-4699-9786-f9740bd7e989",
   "metadata": {},
   "source": [
    "Postupně se ale začne pamět plnit dvojicemi \"entita\": \"informace o entitě\" (tady se to z nějakého důvodu nepovedlo...)."
   ]
  },
  {
   "cell_type": "code",
   "execution_count": 94,
   "id": "07f5ffe9-f2a2-4a97-9ffc-b0ff3d36c3df",
   "metadata": {},
   "outputs": [
    {
     "data": {
      "text/plain": [
       "{}"
      ]
     },
     "execution_count": 94,
     "metadata": {},
     "output_type": "execute_result"
    }
   ],
   "source": [
    "conversation.memory.entity_store.store"
   ]
  },
  {
   "cell_type": "code",
   "execution_count": 95,
   "id": "070f0d10-3577-4841-9c72-7481fd9cd885",
   "metadata": {},
   "outputs": [
    {
     "name": "stderr",
     "output_type": "stream",
     "text": [
      "c:\\primary\\programovani\\python\\pdf_summary\\environment\\Lib\\site-packages\\langchain_core\\_api\\deprecation.py:189: LangChainDeprecationWarning: The function `__call__` was deprecated in LangChain 0.1.0 and will be removed in 0.2.0. Use invoke instead.\n",
      "  warn_deprecated(\n",
      "c:\\primary\\programovani\\python\\pdf_summary\\environment\\Lib\\site-packages\\langchain_core\\_api\\deprecation.py:189: LangChainDeprecationWarning: The function `__call__` was deprecated in LangChain 0.1.0 and will be removed in 0.2.0. Use invoke instead.\n",
      "  warn_deprecated(\n"
     ]
    },
    {
     "data": {
      "text/plain": [
       "{'input': 'I read in a scientific journal that Duocorns, an unique breed of unicorns, have tow heads.',\n",
       " 'history': \"Human: Hi, who are you?\\nAI: Hello! I am an AI language model developed by OpenAI. I'm here to assist you with any questions or tasks you have. How can I help you today?\\nHuman: Do you know what are differences between rhinos and unicorns?\\nAI: Rhinos and unicorns are both fascinating creatures, but they have some key differences. Rhinos are real animals that belong to the family Rhinocerotidae, while unicorns are mythical creatures often depicted as horse-like creatures with a single horn on their forehead.\\n\\nHere are some of the main differences between rhinos and unicorns:\\n\\n1. Existence: Rhinos are real animals that have actually existed on Earth for millions of years. There are five extant species of rhinos: the white rhino, black rhino, Indian rhino, Javan rhino, and Sumatran rhino. On the other hand, unicorns are purely mythical creatures that have been part of folklore and mythology for centuries.\\n\\n2. Appearance: Rhinos are large, herbivorous mammals with a distinctive horn on their snout. The size and shape of the horn can vary depending on the species. Unicorns, on the other hand, are often depicted as horse-like creatures with a single horn on their forehead. They are usually portrayed as white, but in some legends, they can be depicted in different colors.\\n\\n3. Habitat: Rhinos are found in various habitats, including grasslands, savannas, and forests, depending on the species. They are native to different parts of the world, such as Africa and Asia. Unicorns, being mythical creatures, do not have a specific habitat as they are not real.\\n\\n4. Behavior: Rhinos are generally solitary animals, although some species may form small groups. They are known for their strength and can be quite aggressive if they feel threatened. Unicorns, being mythical creatures, do not have defined behaviors as they are part of legends and stories.\\n\\n5. Cultural Significance: Rhinos have cultural significance in various societies, often representing strength, power, and resilience. They have been depicted in art, literature, and folklore throughout history. Unicorns, on the other hand, have a rich cultural significance as well. They are often associated with purity, grace, and magic in many mythologies and fairy tales.\\n\\nIn summary, rhinos are real animals with distinct physical characteristics and behaviors, while unicorns are mythical creatures that exist in folklore and imagination.\",\n",
       " 'entities': {'Duocorns': ''},\n",
       " 'response': 'I\\'m sorry, but I couldn\\'t find any information about \"Duocorns\" in my training data. It\\'s possible that \"Duocorns\" is a fictional or lesser-known concept. However, based on the information available about unicorns, they are typically depicted as having a single horn on their forehead, rather than two heads. It\\'s important to note that unicorns are mythical creatures, so their characteristics can vary depending on different interpretations and stories. If you have any other questions or need further clarification, feel free to ask!'}"
      ]
     },
     "execution_count": 95,
     "metadata": {},
     "output_type": "execute_result"
    }
   ],
   "source": [
    "conversation.invoke(input=\"I read in a scientific journal that Duocorns, an unique breed of unicorns, have tow heads.\")"
   ]
  },
  {
   "cell_type": "code",
   "execution_count": 96,
   "id": "d125a244-0ef1-42f2-9386-ca4ffd3cdcc7",
   "metadata": {},
   "outputs": [
    {
     "data": {
      "text/plain": [
       "{'Duocorns': 'Duocorns are a unique breed of unicorns that are typically depicted as having a single horn on their forehead, rather than two heads.'}"
      ]
     },
     "execution_count": 96,
     "metadata": {},
     "output_type": "execute_result"
    }
   ],
   "source": [
    "conversation.memory.entity_store.store"
   ]
  },
  {
   "cell_type": "markdown",
   "id": "cffe2681-f57f-40e8-95ae-752d5d9b4573",
   "metadata": {},
   "source": [
    "## Q&A nad dokumenty"
   ]
  },
  {
   "cell_type": "markdown",
   "id": "27be55a8-340f-46d7-80d0-9b3daab60c98",
   "metadata": {},
   "source": [
    "#### Načtení dokumentů\n",
    "##### Načtení pdfka"
   ]
  },
  {
   "cell_type": "markdown",
   "id": "be0012e0-a2fc-463c-abb1-4818466fe859",
   "metadata": {},
   "source": [
    "S klasickým chatbotem si sice můžeme povídat, ale chudák zná přinejlepším jen ty informace, které měl k dispozici při trénování. Co když s ním ale chceme diskutovat obsah našich pro něj v době učení neznámých dokumentů? Této problematice se budeme věnovat právě nyní.  \n",
    "Pro začátek se bude naše množina dokumentů skládat z jednoho jediného kusu - z podmínek ke kreditním kartám od jedné z bank (nalezitelné [zde](https://www.kb.cz/cs/o-bance/dokumenty#13-Platebni-karty-debetni-a-kreditni)). Jedná se o pdf soubor. Pdfka ale umí langchain načítat až po nainstalování balíčku pypdf (přesněji různé langchainové metody mají různé prerekvizity, ale tahle cesta je asi nejméně komplikovaná).  \n",
    "Nejprve vytvoříme instanci třídy PyPDFLoader a to sice tak, že do konstruktoru vložíme cestu k souboru. Bacha - musí se jednat o string, nikoli o Path! Na instanci posléze provoláme metodu *load*. Existuje sice i *load_and_split*, ale tu zde z pedagogických důvodů probírat nebudeme - leze totiž do zelí tématu probíranému o kus dál."
   ]
  },
  {
   "cell_type": "code",
   "execution_count": 2,
   "id": "9ef12bb0-c323-4ec1-8862-0109fa406a3c",
   "metadata": {},
   "outputs": [],
   "source": [
    "from langchain_community.document_loaders import PyPDFLoader"
   ]
  },
  {
   "cell_type": "code",
   "execution_count": 3,
   "id": "5eed3104-f4f1-4f1c-863c-bbbef3e18b11",
   "metadata": {},
   "outputs": [],
   "source": [
    "file_path = \"source_files\\\\podminky_debetnich_karet.pdf\"\n",
    "\n",
    "loader = PyPDFLoader(file_path)"
   ]
  },
  {
   "cell_type": "code",
   "execution_count": 4,
   "id": "5ee6eb52-beeb-4529-9482-18b6a1125ef6",
   "metadata": {},
   "outputs": [],
   "source": [
    "pages = loader.load()"
   ]
  },
  {
   "cell_type": "markdown",
   "id": "87da8cb6-9983-4277-8d69-21a57ef01762",
   "metadata": {},
   "source": [
    "Load nahraje krom obsahu stránek dokumentu i metadata. V nich máme název souboru a číslo stránky. Tj. vypadá to nějak takto:\n",
    "```\n",
    "[Document(page_content='  \\n PODMÍNKY D EBETNÍCH KARET  ... výnosů z  trestné činnost i a financování te rorismu , ve znění \\npozdějších předpi sů ', metadata={'source': 'source_files\\\\podminky_debetnich_karet.pdf', 'page': 0}),\n",
    " Document(page_content='PODMÍNKY DEBETNÍCH KARET ... poskytnutí dané Bankovní \\nslužby.  \\n ', metadata={'source': 'source_files\\\\podminky_debetnich_karet.pdf', 'page': 1}),\n",
    "...\n",
    "```\n",
    "Pozn.: To, že u každé stránky - objektu typu *Document* - vidíme na začátku vždy \"PODMÍNKY DEBENTNÍCH KARET\", je dáno skutečností, že se zápatí stránky, které je vždy stejné, nějak dostalo na začátek. To mimo jiné znamená, že je potřeba dokumenty přes seriózním použitím začistit. Bohužel se tu též objevuje nadkritické množství mezer v místech, kde mezery neměly být (například hned v \"PODMÍNKY D EBETNÍCH KARET\")."
   ]
  },
  {
   "cell_type": "markdown",
   "id": "96f7c910-4ed0-4513-8b8a-40d997b41447",
   "metadata": {},
   "source": [
    "Jiný způsob, jak načíst obsah pdf souborů, je založen na práci balíčku [unstructured](https://pypi.org/project/unstructured/). Při přípravě tohoto textu jsem (pokud si dobře pamatuji) pro pfd žádnou rozšířenou verzi (ala pip install \"unstructured[pdf]\") instalovat nemusel. Tudíž jsem nenarazil na potřebu mít Rust kompilátor kvůli jedné z prerekvizit - balíčku safetensors. Nicméně dodatečně bylo třeba nainstalovat balíčky pdf2image a pdfminer.six (nikoli pdfminer - ten už je neudržovaný, navíc snaha o jeho použití skončila s chybovou hláškou \"ModuleNotFoundError: No module named 'pdfminer.high_level'\")."
   ]
  },
  {
   "cell_type": "code",
   "execution_count": 2,
   "id": "15630cd4-9ce1-424e-b5a5-c702cb5111d2",
   "metadata": {},
   "outputs": [],
   "source": [
    "from langchain_community.document_loaders import UnstructuredPDFLoader"
   ]
  },
  {
   "cell_type": "markdown",
   "id": "5e6da361-0c78-4bee-a6af-1990d15fb959",
   "metadata": {},
   "source": [
    "Unstructured loadery mohou fungovat ve dvou modech. Pokud bude parametr *mode* položet rovný \"single\", tak se celý dokument - zde pdfko - po použití metody *load* vrátí jako jeden langchainový *Document* objekt (tj. neproběhne ani rozdělení na stránky). Nicméně pokud se bude *mode* rovnat \"elements\", dojde k roztrhání dokumentu na malé kousky a ty kousky ponesou popisek charakterizují jejich obsah."
   ]
  },
  {
   "cell_type": "code",
   "execution_count": 8,
   "id": "6b734b67-0ca2-42cd-81e6-521cf1051e22",
   "metadata": {},
   "outputs": [],
   "source": [
    "loader = UnstructuredPDFLoader(\"source_files\\\\podminky_debetnich_karet.pdf\", mode=\"elements\")"
   ]
  },
  {
   "cell_type": "code",
   "execution_count": 9,
   "id": "6c62357f-ddbf-40fd-af3b-3fa61ba69f60",
   "metadata": {},
   "outputs": [],
   "source": [
    "data = loader.load()"
   ]
  },
  {
   "cell_type": "markdown",
   "id": "9888aaf6-1073-44cd-8207-beb8d5e51840",
   "metadata": {},
   "source": [
    "Zde máme pár příkladů:\n",
    "```\n",
    "[Document(page_content='PODMÍNKY DEBETNÍCH KARET', metadata={'source': 'source_files\\\\podminky_debetnich_karet.pdf', 'coordinates': {'points': ((239.57, 68.46839999999997), (239.57, 82.50839999999994), (456.64312, 82.50839999999994), (456.64312, 68.46839999999997)), 'system': 'PixelSpace', 'layout_width': 595.32, 'layout_height': 841.92}, 'filename': 'podminky_debetnich_karet.pdf', 'file_directory': 'source_files', 'last_modified': '2023-08-12T15:21:05', 'filetype': 'application/pdf', 'page_number': 1, 'category': 'Title'}),\n",
    " Document(page_content='Tyto Podmínky debetních karet obsahují bližší úpravu práv a povinností vyplývajících z uzavřené smlouvy, na základě které je poskytnuta debetní karta v souladu s pravidly příslušné Karetní společnosti. Seznamte se prosím důkladně s tímto dokumentem. Vaše případné dotazy rádi zodpovíme.', metadata={'source': 'source_files\\\\podminky_debetnich_karet.pdf', 'coordinates': {'points': ((56.64, 126.82999999999993), (56.64, 156.4699999999999), (541.018, 156.4699999999999), (541.018, 126.82999999999993)), 'system': 'PixelSpace', 'layout_width': 595.32, 'layout_height': 841.92}, 'filename': 'podminky_debetnich_karet.pdf', 'file_directory': 'source_files', 'last_modified': '2023-08-12T15:21:05', 'filetype': 'application/pdf', 'page_number': 1, 'category': 'NarrativeText'}),\n",
    "  Document(page_content='Článek 1. Poskytnutí debetní karty a její obnova', metadata={'source': 'source_files\\\\podminky_debetnich_karet.pdf', 'coordinates': {'points': ((65.184, 169.61839999999995), (65.184, 180.65839999999992), (317.03912, 180.65839999999992), (317.03912, 169.61839999999995)), 'system': 'PixelSpace', 'layout_width': 595.32, 'layout_height': 841.92}, 'filename': 'podminky_debetnich_karet.pdf', 'file_directory': 'source_files', 'last_modified': '2023-08-12T15:21:05', 'filetype': 'application/pdf', 'page_number': 1, 'category': 'NarrativeText'}),\n",
    " Document(page_content='1.1', metadata={'source': 'source_files\\\\podminky_debetnich_karet.pdf', 'coordinates': {'points': ((72.504, 195.3499999999999), (72.504, 204.3499999999999), (87.48599999999999, 204.3499999999999), (87.48599999999999, 195.3499999999999)), 'system': 'PixelSpace', 'layout_width': 595.32, 'layout_height': 841.92}, 'filename': 'podminky_debetnich_karet.pdf', 'file_directory': 'source_files', 'last_modified': '2023-08-12T15:21:05', 'filetype': 'application/pdf', 'page_number': 1, 'category': 'UncategorizedText'}),\n",
    "...\n",
    " Document(page_content='VER DDT_PODMPKEV.PDF', metadata={'source': 'source_files\\\\podminky_debetnich_karet.pdf', 'coordinates': {'points': ((487.18, 807.3276), (487.18, 811.2876), (539.8808799999999, 811.2876), (539.8808799999999, 807.3276)), 'system': 'PixelSpace', 'layout_width': 595.32, 'layout_height': 841.92}, 'filename': 'podminky_debetnich_karet.pdf', 'file_directory': 'source_files', 'last_modified': '2023-08-12T15:21:05', 'filetype': 'application/pdf', 'page_number': 10, 'category': 'Title'})]\n",
    "```\n",
    "Všimněme si, že kousky textu jsou seřazeny podle toho, jak se v pdfku objevily. V metadatech nalezneme mimo jiné číslo stránky, čtyři body ohraničující lokaci textu, jméno souboru anebo kategorii textu.  \n",
    "Jaké kategorie tu vidíme? \n",
    "- Title - nevyskytuje se jen u nadpisů, ale například i u kapitálkami vyvedeného zápatí (\"VER DDT_PODMPKEV.PDF\" z konce příkladu)\n",
    "- NarrativeText - většinově se jedná o občejný text\n",
    "- UncategorizedText - zde se obvykle nalézá \"smetí\" - číslování stránek, čísla paragrafů stojící mimo text anebo zápatí."
   ]
  },
  {
   "cell_type": "markdown",
   "id": "de3527d7-fa7b-460c-b93e-aa0d38871765",
   "metadata": {},
   "source": [
    "Rozdělení na kategorie nicméně není úplně spolehlivé. Když bychom si u našeho dokumentu nechali vypsat všechny \"Title\" dokumenty kódem\n",
    "```python\n",
    "for one_doc in data:\n",
    "    if one_doc.metadata[\"category\"] == \"Title\":\n",
    "        print(one_doc.page_content)\n",
    "```\n",
    "najdeme tam mezi nadpisy a kousky zápatí i normální text, např. \"3D Secure. Všechny námi poskytnuté debetní karty jsou 3D Secure aktivní.\". A naopak v \"NarrativeText\" člověk nalezne pár nadpisů. Je nakonec otázkou, zda není lepší, když si člověk dokument prohlédne a začistí ho ručně podle svého. Nakonec tak bude nejvhodnější single mode unstructured (narozdíl od PyPDFLoaderu nemá nabytečné mezery)"
   ]
  },
  {
   "cell_type": "code",
   "execution_count": 33,
   "id": "6c6f59d6-fad4-46b4-824e-e15c44314d30",
   "metadata": {},
   "outputs": [],
   "source": [
    "loader = UnstructuredPDFLoader(\"source_files\\\\podminky_debetnich_karet.pdf\", mode=\"single\")\n",
    "data = loader.load()"
   ]
  },
  {
   "cell_type": "markdown",
   "id": "6ff6ac5a-42f5-4431-ab9f-e7863f09c61f",
   "metadata": {},
   "source": [
    "Vytvoření objektu typu Document potřebné pro ruční vytváření fragmentů:"
   ]
  },
  {
   "cell_type": "code",
   "execution_count": 10,
   "id": "a7c6497d-ed58-4601-858e-4410eae88c92",
   "metadata": {},
   "outputs": [],
   "source": [
    "from langchain_core.documents.base import Document\n",
    "\n",
    "fragment = Document(\n",
    "    page_content=\"this is fragment text\",\n",
    "    metadata={\"file\":\"something.pdf\", \"page\":0, \"another_metadata_field\":\"something\"}\n",
    ")"
   ]
  },
  {
   "cell_type": "markdown",
   "id": "e25a0d6a-cf0c-4235-bfa7-059c26048f97",
   "metadata": {},
   "source": [
    "##### Načtení html souboru\n",
    "Pro načítání html stránek existují v rámci Langchainu dvě podporované cesty. Jedna vyžaduje použití balíčku [unstructured](https://pypi.org/project/unstructured/). Jako data použijeme wiki stránku o [jednom druhu křečka](https://en.wikipedia.org/wiki/Winter_white_dwarf_hamster). Zdůrazněme, že následující postup se týka html souboru uloženého na disku, nikoli webové stránky - na to je jiný loader."
   ]
  },
  {
   "cell_type": "code",
   "execution_count": 11,
   "id": "cbcc4df2-2598-47d7-923e-21eeb4bd8841",
   "metadata": {},
   "outputs": [],
   "source": [
    "from langchain_community.document_loaders import UnstructuredHTMLLoader"
   ]
  },
  {
   "cell_type": "code",
   "execution_count": 3,
   "id": "8630637a-e794-4995-943b-bb18ed253a11",
   "metadata": {},
   "outputs": [],
   "source": [
    "loader = UnstructuredHTMLLoader(\"source_files\\\\Winter white dwarf hamster - Wikipedia.htm\")"
   ]
  },
  {
   "cell_type": "code",
   "execution_count": 4,
   "id": "365adbdf-46c0-4d68-8855-71106cf137a5",
   "metadata": {},
   "outputs": [
    {
     "name": "stderr",
     "output_type": "stream",
     "text": [
      "[nltk_data] Downloading package punkt to\n",
      "[nltk_data]     C:\\Users\\NewNotebook\\AppData\\Roaming\\nltk_data...\n",
      "[nltk_data]   Unzipping tokenizers\\punkt.zip.\n",
      "[nltk_data] Downloading package averaged_perceptron_tagger to\n",
      "[nltk_data]     C:\\Users\\NewNotebook\\AppData\\Roaming\\nltk_data...\n",
      "[nltk_data]   Unzipping taggers\\averaged_perceptron_tagger.zip.\n"
     ]
    }
   ],
   "source": [
    "data = loader.load()"
   ]
  },
  {
   "cell_type": "markdown",
   "id": "59297196-13b6-491c-8991-c4fa23bbd9dc",
   "metadata": {},
   "source": [
    "Nahraný objekt vypadá (po vyřazení většiny textu z důvodu přehlednosti) takto:\n",
    "```\n",
    "[Document(page_content='Toggle the table of contents\\n\\nToggle the table of contents\\n\\nWinter white dwarf hamster\\n\\n43 languages\\n\\nالعربية\\n\\nAsturianu\\n\\nБългарски\\n\\nBrezhoneg\\n\\nCatalà\\n\\nCebuano\\n\\nČeština\\n\\nDeutsch\\n\\nDiné bizaad\\n\\nEesti\\n\\nEspañol\\n\\nEuskara\\n\\nفارسی\\n\\nFrançais\\n\\nFrysk\\n\\n한국어\\n\\nՀայերեն\\n\\nHrvatski\\n\\nBah  \n",
    "...  \n",
    "nCategories:\\n\\nIUCN Red List least concern species\\n\\nPhodopus\\n\\nRodents of Asia\\n\\nMammals described in 1773\\n\\nMammals of Siberia\\n\\nTaxa named by Peter Simon Pallas\\n\\nHidden categories: \\n\\nArticles with short description\\n\\nShort description is different from Wikidata\\n\\nGood articles\\n\\nArticles with \\'species\\' microformats', metadata={'source': 'source_files\\\\Winter white dwarf hamster - Wikipedia.htm'})]\n",
    "```\n",
    "Před použitím bude tedy potřeba provést opravdu masivní začištění."
   ]
  },
  {
   "cell_type": "markdown",
   "id": "e50eec47-4c9c-424e-88c4-09d1addb7d5e",
   "metadata": {},
   "source": [
    "Opět je možné použít unstructured načítání v modu \"elements\"."
   ]
  },
  {
   "cell_type": "code",
   "execution_count": 12,
   "id": "f0846d3b-4aa9-4bfb-8feb-be7ca63f9ea8",
   "metadata": {},
   "outputs": [],
   "source": [
    "loader = UnstructuredHTMLLoader(\"source_files\\\\Winter white dwarf hamster - Wikipedia.htm\", mode=\"elements\")"
   ]
  },
  {
   "cell_type": "code",
   "execution_count": 13,
   "id": "81140d58-5790-4d63-99d6-487772f2fb37",
   "metadata": {},
   "outputs": [],
   "source": [
    "data = loader.load()"
   ]
  },
  {
   "cell_type": "markdown",
   "id": "4f873617-a9d9-446a-8c34-e4f20e0cf046",
   "metadata": {},
   "source": [
    "Výsledek vypadá takto:\n",
    "```\n",
    "[Document(page_content='Toggle the table of contents', metadata={'source': 'source_files\\\\Winter white dwarf hamster - Wikipedia.htm', 'filename': 'Winter white dwarf hamster - Wikipedia.htm', 'file_directory': 'source_files', 'last_modified': '2023-08-22T20:35:12', 'filetype': 'text/html', 'page_number': 1, 'emphasized_text_contents': ['Toggle the table of contents'], 'emphasized_text_tags': ['span'], 'category': 'Title'}),  \n",
    "...  \n",
    " Document(page_content='population density is highly varied.', metadata={'source': 'source_files\\\\Winter white dwarf hamster - Wikipedia.htm', 'filename': 'Winter white dwarf hamster - Wikipedia.htm', 'file_directory': 'source_files', 'last_modified': '2023-08-22T20:35:12', 'filetype': 'text/html', 'page_number': 3, 'link_urls': ['https://en.wikipedia.org/wiki/Population_density'], 'link_texts': ['population density'], 'category': 'NarrativeText'}),\n",
    " Document(page_content='[23]', metadata={'source': 'source_files\\\\Winter white dwarf hamster - Wikipedia.htm', 'filename': 'Winter white dwarf hamster - Wikipedia.htm', 'file_directory': 'source_files', 'last_modified': '2023-08-22T20:35:12', 'filetype': 'text/html', 'page_number': 3, 'link_urls': ['#cite_note-J1979:R1998:E-23'], 'link_texts': ['[23]'], 'category': 'UncategorizedText'}),  \n",
    " ...  \n",
    "Document(page_content=\"Articles with 'species' microformats\", metadata={'source': 'source_files\\\\Winter white dwarf hamster - Wikipedia.htm', 'filename': 'Winter white dwarf hamster - Wikipedia.htm', 'file_directory': 'source_files', 'last_modified': '2023-08-22T20:35:12', 'filetype': 'text/html', 'page_number': 3, 'link_urls': ['https://en.wikipedia.org/wiki/Category:Articles_with_%27species%27_microformats'], 'link_texts': [\"Articles with 'species' microformats\"], 'category': 'ListItem'})]\n",
    "```"
   ]
  },
  {
   "cell_type": "markdown",
   "id": "6047f941-6317-4bd8-b3e0-97112ad525d5",
   "metadata": {},
   "source": [
    "Pro načtení html souboru lze též použít loader využívající BeautifulSoup4. Moje první provolání metody *load* vedlo k chybové hlášce obsahující mimo jiné\n",
    "```\n",
    "soup = BeautifulSoup(f, **self.bs_kwargs)\n",
    "```\n",
    "a\n",
    "```\n",
    "FeatureNotFound: Couldn't find a tree builder with the features you requested: lxml. Do you need to install a parser library?\n",
    "```\n",
    "A to i když byl ve virtuálním prostředí balíček BeautifulSoup4 nainstalován. Co ale chybělo byl balíček [lxml](https://pypi.org/project/lxml/). Po jeho nainstalování se ale (u anglického!) textu objevila další chybová hláška:\n",
    "```\n",
    "UnicodeDecodeError: 'charmap' codec can't decode byte 0x81 in position 27841: character maps to <undefined>\n",
    "```\n",
    "To kvůli tomu, že jsem nepoužil parametr *open_encoding* a html soubor se tak otevíral s defaultním kódováním, kterým je utf-8."
   ]
  },
  {
   "cell_type": "code",
   "execution_count": 12,
   "id": "5ecc2256-b41e-4f68-a934-935fba97b06a",
   "metadata": {},
   "outputs": [],
   "source": [
    "from langchain_community.document_loaders import BSHTMLLoader\n",
    "loader = BSHTMLLoader(\"source_files\\\\Winter white dwarf hamster - Wikipedia.htm\", open_encoding=\"latin1\")\n",
    "data = loader.load()"
   ]
  },
  {
   "cell_type": "markdown",
   "id": "4aba96dc-63d4-4a0d-ba0b-817372e57f13",
   "metadata": {},
   "source": [
    "Opět z nahraného objektu ukážeme pouze začátek a konec:\n",
    "```\n",
    "[Document(page_content='\\n\\n\\nWinter white dwarf hamster - Wikipedia\\n\\n\\n\\n\\n\\n\\n\\n\\n\\n\\n\\n\\n\\n\\n\\n\\n\\n\\n\\n\\n\\n\\n\\n\\n\\n\\n\\n\\n\\n\\n\\n\\n\\n\\n\\n\\n\\nJump to content\\n\\n\\n\\n\\n\\n\\n\\nMain menu\\n\\n\\n\\n\\n\\nMain menu\\nmove to sidebar\\nhide\\n\\n\\n\\n\\t\\tNavigation\\n\\t\\n\\n\\nMain pageContentsCurrent eventsRandom articleAbout WikipediaContact usDonate\\n\\n\\n\\n\\n\\n\\t\\tContribute\\n\\t\\n\\n\\nHelpLearn to editCommunity portalRecent changesUpload\n",
    "...\n",
    "\\nCookie statement\\n\\n\\n\\n\\n\\n\\n\\n\\n\\n\\n\\n\\nToggle limited content width\\n\\n\\n\\n\\n\\n\\n', metadata={'source': 'source_files\\\\Winter white dwarf hamster - Wikipedia.htm', 'title': 'Winter white dwarf hamster - Wikipedia'})]\n",
    "```\n",
    "Zdá se, že potřeba začištění je tu ještě větší než u balíčku unstructured..."
   ]
  },
  {
   "cell_type": "markdown",
   "id": "1d8bb12b-99c3-4fc4-b7d7-e3eadf00d680",
   "metadata": {},
   "source": [
    "##### [Načtení webové stránky](https://python.langchain.com/docs/integrations/document_loaders/web_base)"
   ]
  },
  {
   "cell_type": "markdown",
   "id": "0750427f-d1b9-496e-82e8-015233d5a0ae",
   "metadata": {},
   "source": [
    "V praxi bychom upřednostňovali, kdybychom vytěžované stránky nemuseli stahovat a kdyby si Langchain informace natahal přímo z webu. Na to slouží *WebBaseLoader*."
   ]
  },
  {
   "cell_type": "code",
   "execution_count": 2,
   "id": "85da32b1-83d7-441d-89d5-423a306afbb2",
   "metadata": {},
   "outputs": [],
   "source": [
    "from langchain_community.document_loaders import WebBaseLoader"
   ]
  },
  {
   "cell_type": "code",
   "execution_count": 3,
   "id": "647ef698-62bf-4dcc-95d0-696092ed803d",
   "metadata": {},
   "outputs": [],
   "source": [
    "loader = WebBaseLoader(\"https://en.wikipedia.org/wiki/Winter_white_dwarf_hamster\")"
   ]
  },
  {
   "cell_type": "code",
   "execution_count": 4,
   "id": "fd97daed-2948-46f2-a89e-a976f97011fa",
   "metadata": {},
   "outputs": [],
   "source": [
    "data = loader.load()"
   ]
  },
  {
   "cell_type": "markdown",
   "id": "66b07301-096d-495e-aeb5-973d7d9416f9",
   "metadata": {},
   "source": [
    "Zde vidíme příklad formátu, v jakém je stránka načtena:\n",
    "```\n",
    "[Document(page_content='\\n\\n\\n\\nWinter white dwarf hamster - Wikipedia\\n\\n\\n\\n\\n\\n\\n\\n\\n\\n\\n\\n\\n\\n\\n\\n\\n\\n\\n\\n\\n\\n\\n\\n\\n\\n\\n\\n\\n\\n\\n\\n\\n\\n\\n\\n\\n\\nJump to content\\n\\n\\n\\n\\n\\n\\n\\nMain menu\\n\\n\\n\\n\\n\\nMain menu\\nmove to sidebar\\nhide\\n\\n\\n\\n\\t\\tNavigation\\n\\t\\n\\n\\nMain pageContentsCurrent eventsRandom articleAbout WikipediaContact usDonate\\n\\n\\n\\n\\n\\n\\t\\tContribute\\n\\t\\n\\n\\nHelpLearn to editCommunity portalRecent changesUpload file\\n\\n\\n\\n\\n\\nLanguages\\n\\nLanguage links are at the top of the page across from the title.\n",
    "...\n",
    "\\nContact Wikipedia\\nCode of Conduct\\nMobile view\\nDevelopers\\nStatistics\\nCookie statement\\n\\n\\n\\n\\n\\n\\n\\n\\n\\n\\n\\n\\nToggle limited content width\\n\\n\\n\\n\\n\\n\\n\\n', metadata={'source': 'https://en.wikipedia.org/wiki/Winter_white_dwarf_hamster', 'title': 'Winter white dwarf hamster - Wikipedia', 'language': 'en'})]\n",
    "```"
   ]
  },
  {
   "cell_type": "markdown",
   "id": "a52ff565-b138-4af7-8910-533ba5444794",
   "metadata": {},
   "source": [
    "V rámci jednoho volání lze načíst i více stránek:"
   ]
  },
  {
   "cell_type": "code",
   "execution_count": 6,
   "id": "72523577-e118-4df4-bdf7-4cadcf5d8d32",
   "metadata": {},
   "outputs": [],
   "source": [
    "loader = WebBaseLoader([\n",
    "    \"https://en.wikipedia.org/wiki/Winter_white_dwarf_hamster\", \n",
    "    \"https://en.wikipedia.org/wiki/Syrian_hamster\"\n",
    "])"
   ]
  },
  {
   "cell_type": "code",
   "execution_count": 7,
   "id": "67adca37-68f5-4d20-b0c3-3dcd6bef3469",
   "metadata": {},
   "outputs": [],
   "source": [
    "data = loader.load()"
   ]
  },
  {
   "cell_type": "markdown",
   "id": "d000d2d3-e78f-4d37-ab07-0da4c802d7b4",
   "metadata": {},
   "source": [
    "Ukázka výsledku:\n",
    "```\n",
    "[Document(page_content='\\n\\n\\n\\nWinter white dwarf hamster - Wikipedia\\n\\n\\n\\n\\n\\n\\n\\n\\n\\n\\n\\n\\n\\n\\n\\n\\n\\n\\n\\n\\n\\n\\n\\n\\n\\n\\n\\n\\n\\n\\n\\n\\n\\n\\n\\n\\n\\nJump to content\\n\\n\\n\\n\\n\\n\\n\\nMain menu\\n\\n\\n\\n\\n\\nMain menu\\nmove to sidebar\\nhide\\n\\n\\n\\n\\t\\tNavigation\\n\\t\\n\\n\\nMain pageContentsCurrent eventsRandom articleAbout WikipediaContact usDonate\\n\\n\\n\\n\\n\\n\\t\\tContribute\n",
    "...\n",
    "\\nContact Wikipedia\\nCode of Conduct\\nMobile view\\nDevelopers\\nStatistics\\nCookie statement\\n\\n\\n\\n\\n\\n\\n\\n\\n\\n\\n\\n\\nToggle limited content width\\n\\n\\n\\n\\n\\n\\n\\n', metadata={'source': 'https://en.wikipedia.org/wiki/Winter_white_dwarf_hamster', 'title': 'Winter white dwarf hamster - Wikipedia', 'language': 'en'}),\n",
    " Document(page_content='\\n\\n\\n\\nGolden hamster - Wikipedia\\n\\n\\n\\n\\n\\n\\n\\n\\n\\n\\n\\n\\n\\n\\n\\n\\n\\n\\n\\n\\n\\n\\n\\n\\n\\n\\n\\n\\n\\n\\n\\n\\n\\n\\n\\n\\n\\nJump to content\\n\\n\\n\\n\\n\\n\\n\\nMain menu\\n\\n\\n\\n\\n\\nMain menu\\nmove to sidebar\\nhide\\n\\n\\n\\n\\t\\tNavigation\\n\\t\\n\\n\\nMain pageContentsCurrent eventsRandom articleAbout WikipediaContact usDonate\\n\\n\\n\\n\\n\\n\\t\\tContribute\\n\\t\\n\\n\\nHelpLearn to editCommunity portalRecent changesUpload file\n",
    "...\n",
    "\\nCode of Conduct\\nMobile view\\nDevelopers\\nStatistics\\nCookie statement\\n\\n\\n\\n\\n\\n\\n\\n\\n\\n\\n\\n\\nToggle limited content width\\n\\n\\n\\n\\n\\n\\n\\n', metadata={'source': 'https://en.wikipedia.org/wiki/Syrian_hamster', 'title': 'Golden hamster - Wikipedia', 'language': 'en'})]\n",
    "```"
   ]
  },
  {
   "cell_type": "markdown",
   "id": "89a3cdb2-655f-4084-b30c-e4f518bef75d",
   "metadata": {},
   "source": [
    "I pro načítání stránek z webu existuje [unstructured loader](https://python.langchain.com/docs/integrations/document_loaders/url)."
   ]
  },
  {
   "cell_type": "code",
   "execution_count": 3,
   "id": "5d931406-abe4-4a2f-ae86-c2d97d05465e",
   "metadata": {},
   "outputs": [],
   "source": [
    "from langchain_community.document_loaders import UnstructuredURLLoader"
   ]
  },
  {
   "cell_type": "code",
   "execution_count": 4,
   "id": "30f56af1-2736-420e-a1f4-2d8eda02b872",
   "metadata": {},
   "outputs": [],
   "source": [
    "urls = [\n",
    "    \"https://en.wikipedia.org/wiki/Winter_white_dwarf_hamster\", \n",
    "    \"https://en.wikipedia.org/wiki/Syrian_hamster\"\n",
    "]"
   ]
  },
  {
   "cell_type": "markdown",
   "id": "8278a424-b8e8-4177-aa33-0048276f51da",
   "metadata": {},
   "source": [
    "Když člověk nemá nainstalovaný balíček libmagic, objeví se hlášky\n",
    "```\n",
    "libmagic is unavailable but assists in filetype detection on file-like objects. Please consider installing libmagic for better results.\n",
    "Error fetching or processing https://en.wikipedia.org/wiki/Winter_white_dwarf_hamster, exception: Invalid file. The FileType.UNK file type is not supported in partition.\n",
    "libmagic is unavailable but assists in filetype detection on file-like objects. Please consider installing libmagic for better results.\n",
    "Error fetching or processing https://en.wikipedia.org/wiki/Syrian_hamster, exception: Invalid file. The FileType.UNK file type is not supported in partition.\n",
    "```\n",
    "Načtený objekt pak bude prázdným listem.\n",
    "Problém je, že existuje více libmagic ([zde](https://pypi.org/project/python-libmagic/#description) a [zde](https://pypi.org/project/libmagic/#description)), ty jsou ale relativně staré a prakticky od svého vzniku neudržované...  \n",
    "Též existuje balíček [python-magic](https://pypi.org/project/python-magic/#history). Ten už vypadá živěji, nicméně když nainstalujeme jeho nejnovější verzi, obdržíme errory\n",
    "```\n",
    "Error fetching or processing https://en.wikipedia.org/wiki/Winter_white_dwarf_hamster, exception: module 'magic' has no attribute 'from_buffer'\n",
    "Error fetching or processing https://en.wikipedia.org/wiki/Syrian_hamster, exception: module 'magic' has no attribute 'from_buffer'\n",
    "```\n",
    "Instalace starší verze vede též k chybovým hláškám.  \n",
    "Problém lze vyřešit instalací [python-magic-bin](https://pypi.org/project/python-magic-bin). Nicméně jedná se o binárky z repa zapadaného prachem."
   ]
  },
  {
   "cell_type": "code",
   "execution_count": 5,
   "id": "31fa2cd8-8851-4337-9678-d0edc164786d",
   "metadata": {},
   "outputs": [],
   "source": [
    "loader = UnstructuredURLLoader(urls=urls)\n",
    "data = loader.load()"
   ]
  },
  {
   "cell_type": "markdown",
   "id": "845948c4-148d-4061-b304-533c3f46d8c3",
   "metadata": {},
   "source": [
    "Ukázka:\n",
    "```\n",
    "[Document(page_content='Toggle the table of contents\\n\\nToggle the table of contents\\n\\nWinter white dwarf hamster\\n\\n43 languages\\n\\nالعربية\\n\\nAsturianu\\n\\nБългарски\\n\\nBrezhoneg\\n\\nCatalà\\n\\nCebuano\\n\\nČeština\\n\\nDeutsch\\n\\nDiné bizaad\\n\\nEesti\\n\\nEspañol\\n\\nEuskara\\n\\nفارسی\\n\\nFrançais\\n\\nFrysk\\n\\n한국어\\n\\nՀայերեն\\n\\nHrvatski\\n\\nBahasa Indonesia\\n\\nItaliano\\n\\nעברית\\n\\nҚазақша\\n\\nKotava\\n\\nLatviešu\\n\\nMagyar\\n\\nمصرى\\n\\nNederlands\\n\\n日本語\\n\\nNorsk bokmål\\n\\nNorsk nynorsk\\n\\nPolski\\n\\nPortuguês\\n\\nRomână\\n  \n",
    "...  \n",
    "Red List least concern species\\n\\nPhodopus\\n\\nRodents of Asia\\n\\nMammals described in 1773\\n\\nMammals of Siberia\\n\\nTaxa named by Peter Simon Pallas\\n\\nHidden categories: \\n\\nArticles with short description\\n\\nShort description is different from Wikidata\\n\\nGood articles\\n\\nArticles with \\'species\\' microformats', metadata={'source': 'https://en.wikipedia.org/wiki/Winter_white_dwarf_hamster'}),\n",
    " Document(page_content='Toggle the table of contents\\n\\nToggle the table of contents\\n\\nGolden hamster\\n\\n49 languages\\n\\nالعربية\\n\\nAragonés\\n\\nБеларуская (тарашкевіца)\\n\\nБългарски\\n\\nCatalà\\n\\nCebuano\\n\\nČeština\\n\\nCymraeg\\n\\nDeutsch\\n\\nDiné bizaad\\n\\nEesti\\n\\nEspañol\\n\\nEsperanto\\n\\nEuskara\\n\\nفارسی\\n\\nFrançais\\n\\nFrysk\\n\\nGaeilge\\n\\n한국어\\n\\nHrvatski\\n\\nBahasa Indonesia\\n\\nIta  \n",
    " ...  \n",
    " abic-language text\\n\\nAll articles with unsourced statements\\n\\nArticles with unsourced statements from June 2019\\n\\nArticles with unsourced statements from September 2019\\n\\nCommons link is on Wikidata\\n\\nArticles with GND identifiers\\n\\nArticles with J9U identifiers\\n\\nArticles with LCCN identifiers\\n\\nArticles with NKC identifiers\\n\\nArticles containing video clips', metadata={'source': 'https://en.wikipedia.org/wiki/Syrian_hamster'})]\n",
    "```"
   ]
  },
  {
   "cell_type": "code",
   "execution_count": 8,
   "id": "d8ec45ce-fafb-4027-86d9-4959eb81d4ba",
   "metadata": {},
   "outputs": [],
   "source": [
    "loader = UnstructuredURLLoader(urls=urls, mode=\"elements\")"
   ]
  },
  {
   "cell_type": "code",
   "execution_count": 9,
   "id": "e7f3f5a7-4c6f-4ee7-acaa-ee1974576884",
   "metadata": {},
   "outputs": [],
   "source": [
    "data = loader.load()"
   ]
  },
  {
   "cell_type": "markdown",
   "id": "48824f7a-6dbb-4bfa-886d-b29ac45ff956",
   "metadata": {},
   "source": [
    "Ukázka:\n",
    "```\n",
    "[Document(page_content='Toggle the table of contents', metadata={'filetype': 'text/html', 'page_number': 1, 'url': 'https://en.wikipedia.org/wiki/Winter_white_dwarf_hamster', 'emphasized_text_contents': ['Toggle the table of contents'], 'emphasized_text_tags': ['span'], 'category': 'Title'}),  \n",
    "...  \n",
    " Document(page_content='A hamster wheel is a common type of environmental enrichment, and it is important that hamsters have a wheel in their cage. TVT recommends wheels should be at least 30\\xa0cm for Syrian hamsters, since smaller diameters lead to permanent spinal curvatures, especially in young animals. They also recommend a solid running surface because rungs or mesh can cause injury.[19] A hamster should be able to run on its wheel without arching its back. A hamster that has to run with an arched back can have back pain and spine problems. A variety of toys and cardboard tubes and boxes can help to provide enrichment, as they are energetic and need space to exercise.[20]', metadata={'filetype': 'text/html', 'page_number': 3, 'url': 'https://en.wikipedia.org/wiki/Syrian_hamster', 'link_urls': ['/wiki/Hamster_wheel', '#cite_note-19', '#cite_note-20'], 'link_texts': ['hamster wheel', '[19]', '[20]'], 'category': 'NarrativeText'}),\n",
    " Document(page_content='Most hamsters in American and British pet stores are golden hamsters. Originally, golden hamsters occurred in just one color – the mixture of brown, black, and gold, but they have since developed a variety of color and pattern mutations, including cream, white, blonde, cinnamon, tortoiseshell, black, three different shades of gray, dominant spot, banded, and dilute.[citation needed]', metadata={'filetype': 'text/html', 'page_number': 3, 'url': 'https://en.wikipedia.org/wiki/Syrian_hamster', 'link_urls': ['/wiki/Wikipedia:Citation_needed'], 'link_texts': [None], 'emphasized_text_contents': ['citation needed', 'citation needed'], 'emphasized_text_tags': ['i', 'span'], 'category': 'NarrativeText'}),  \n",
    "...  \n",
    "Document(page_content='Articles containing video clips', metadata={'filetype': 'text/html', 'page_number': 3, 'url': 'https://en.wikipedia.org/wiki/Syrian_hamster', 'link_urls': ['/wiki/Category:Articles_containing_video_clips'], 'link_texts': ['Articles containing video clips'], 'category': 'ListItem'})]\n",
    "```"
   ]
  },
  {
   "cell_type": "markdown",
   "id": "1a49b651-5f00-4eef-a0a9-4acc195dbc64",
   "metadata": {},
   "source": [
    "#### Splittery\n",
    "Obsah stránek by zejména pro výživnější texty mohl být větší, než počet tokenů, které dokáže v jeden okamžik jazykový model zpracovat. Proto se dokumenty musí rozdělit na malé kousky.  \n",
    "Základním nástrojem pro takovou úlohu je *CharacterTextSplitter*. V jeho konstruktoru musíme do parametru *separator* vložit separační znak (resp. posloupnost znaků). Bacha - *CharacterTextSplitter* podporuje jen a pouze jeden separátor. Pokud bude splitování probíhat podle nějakého speciálního escapovaného znaku (např. podle znaku nového řádku) a nepoužíváme regulární výrazy (tj. parametr *is_separator_regex* není položený rovný True), musíme psát jen jedno zpětné lomítko! Následně specifikujeme optimální velikost fragmentu textu (parametr *chunk_size*; číslo je v počtu znaků podle funkce *len*) a velikost překryvu mezi fragmenty (parametr *chunk_overlap*)."
   ]
  },
  {
   "cell_type": "code",
   "execution_count": 103,
   "id": "166985bf-8997-40a1-8a07-ee258f964622",
   "metadata": {},
   "outputs": [],
   "source": [
    "from langchain.text_splitter import CharacterTextSplitter"
   ]
  },
  {
   "cell_type": "code",
   "execution_count": 104,
   "id": "dbededcb-2687-4cac-8d37-af985f7d1e77",
   "metadata": {},
   "outputs": [],
   "source": [
    "chunk_size = 250\n",
    "chunk_overlap = 50"
   ]
  },
  {
   "cell_type": "code",
   "execution_count": 105,
   "id": "7bc5b7e0-ea69-4886-8125-7cff221fd016",
   "metadata": {},
   "outputs": [],
   "source": [
    "char_text_splitter = CharacterTextSplitter(        \n",
    "    separator = \"\\n\",\n",
    "    chunk_size = chunk_size,\n",
    "    chunk_overlap  = chunk_overlap,\n",
    ")"
   ]
  },
  {
   "cell_type": "markdown",
   "id": "038deb21-0278-4a83-a7fc-34a15163d6b5",
   "metadata": {},
   "source": [
    "Pokud bychom chtěli splittovat obyčejný text, použili bychom metodu *split_text* instance *CharacterTextSplitter*, přičemž inkriminovaný text by byl předán metodě jako parametr. Nicméně my máme list obsahující navíc krom samotného textu i metadata o stránkách původního pdfka, s čímž není *split_text* očekávající string kompatibilní. Proto musíme použít metodu *split_documents*.  \n",
    "Jak vlastně splitování funguje?\n",
    " - pokud separátor není v dokumentu (v našem případě dokument = jedna stránka) přítomen, k žádnému rozsekání nedochází. Tj. pokud na vstupu bylo 10 stránek, bude stejný počet i na výstupu, což pro praktické použití optimální není.  \n",
    " - pokud je separátor vzácný, tak se některé dokumenty vůbec nerozsekají (protože v nich separátor není), jiné se rozdělí třeba jen podle jediného výskytu separátoru (i když i pak budou oba vzniklé fragmenty větší než *chunk_size*)\n",
    " - pokud je separátor přítomný často, proběhne rozsekávání tak, aby byla téměř dosažena, ale nikdy překročena *chunk_size* (resp. možná se dokument rozseká podle všech výskytů separátoru, ale pak se na sebe některé fragmenty znova nalepí).\n",
    "\n",
    "Bacha, pokud používáme regexy (*is_separator_regex* = True) a zvolíme nějaký obecný pattern (třeba \"\\\\w\"), tak se nám tímto patternem nahradí všechny relevantní znaky nahradí. Tj. fragment pak třeba vypadá takto:\n",
    "```\n",
    "'\\\\w \\\\w \\\\w \\\\w   \\n \\n \\n \\n \\n\\\\w \\\\w \\\\w, \\\\w. \\\\w., \\\\w \\\\w:  \\n\\\\w \\\\w, \\\\w \\\\w \\\\w \\\\w \\\\w. \\\\w, \\\\w \\\\w \\\\w, \\\\w: \\\\w  \\n\\\\w \\\\w \\\\w \\\\w \\\\w \\\\w \\\\w \\\\w \\\\w \\\\w, \\\\w \\\\w, \\\\w \\\\w \\\\w \\\\w/\\\\w  \\n\\\\w \\\\w \\\\w.\\\\w \\n \\\\w \\\\w \\\\w \\\\w \\\\w \\\\w \\\\w \\\\w \\\\w \\\\w \\\\w \\\\w  \\\\w \\\\w, \\\\w \\\\w \\n\\\\w \\\\w \\\\w  \\\\w \\\\w \\\\w  \\\\w \\\\w'\n",
    "```\n",
    "Takovému chování zabráníme umístěním parametru *keep_separator*=True do konstruktoru *CharacterTextSplitter*u.  \n",
    "Níže vidíme příklad výstupu metody *split_documents*:"
   ]
  },
  {
   "cell_type": "code",
   "execution_count": 84,
   "id": "aa05e66b-e70d-4c9d-8d72-dc342f9017ba",
   "metadata": {},
   "outputs": [
    {
     "name": "stdout",
     "output_type": "stream",
     "text": [
      "page_content='PODMÍNKY D EBETNÍCH KARET   \\n \\n \\n \\n \\nKomerční bank a, a. s., se sídlem:  \\nPraha 1, Na Pří kopě 33 čp. 969, PSČ 114 07, IČO: 45317054  \\nZAPSAN Á V OBCHODNÍM REJSTŘÍKU VEDENÉM MĚSTSKÝM SOUDEM V PRAZE, ODDÍL B, VLOŽKA 1 360 1/10' metadata={'source': 'source_files\\\\podminky_debetnich_karet.pdf', 'page': 0}\n",
      "225\n"
     ]
    }
   ],
   "source": [
    "char_splits = char_text_splitter.split_documents(pages)\n",
    "print(char_splits[0])\n",
    "print(len(char_splits[0].page_content))"
   ]
  },
  {
   "cell_type": "markdown",
   "id": "6c44b0a4-0b7f-4bfb-af53-8a828ce25e0f",
   "metadata": {},
   "source": [
    "Výše jsme viděli, že *CharacterTextSplitter* není pro práci s obyčejným textem kvůli omezení na jeden separátor moc praktický. Proto je vhodnější použít *RecursiveCharacterTextSplitter*. Ten nemá parametr *separator*, nýbrž *separators*. Do něj se vkládá list potenciálních separátorů. Jeho defaultní hodnotou je [\"\\n\\n\", \"\\n\", \" \", \"\"]. Myšlenka za touto volbou je taková, že se spitter snaží držet pohromadě odstavce (a potom věty a pak slova) tak dlouho, jak to jen jde, kvůli zachování informace schované v textu."
   ]
  },
  {
   "cell_type": "code",
   "execution_count": 5,
   "id": "c7735dd6-146c-40c6-a4c5-edf97a854235",
   "metadata": {},
   "outputs": [],
   "source": [
    "from langchain.text_splitter import RecursiveCharacterTextSplitter"
   ]
  },
  {
   "cell_type": "code",
   "execution_count": 3,
   "id": "5b5ef92c-5897-4028-a28d-866605a5039d",
   "metadata": {},
   "outputs": [],
   "source": [
    "chunk_size = 250\n",
    "chunk_overlap = 50"
   ]
  },
  {
   "cell_type": "code",
   "execution_count": 7,
   "id": "1120a99d-e53f-43d2-a5a6-78575f77a22b",
   "metadata": {},
   "outputs": [],
   "source": [
    "rec_text_splitter = RecursiveCharacterTextSplitter(        \n",
    "    chunk_size = chunk_size,\n",
    "    chunk_overlap  = chunk_overlap,\n",
    ")"
   ]
  },
  {
   "cell_type": "code",
   "execution_count": 8,
   "id": "88f2b93e-b124-4725-9d00-714bcf1c3ab9",
   "metadata": {},
   "outputs": [],
   "source": [
    "rec_splits = rec_text_splitter.split_documents(pages)"
   ]
  },
  {
   "cell_type": "code",
   "execution_count": 10,
   "id": "b6d03f57-a196-46e5-a810-6b3a954f3630",
   "metadata": {},
   "outputs": [
    {
     "data": {
      "text/plain": [
       "Document(page_content='PODMÍNKY D EBETNÍCH KARET   \\n \\n \\n \\n \\nKomerční bank a, a. s., se sídlem:  \\nPraha 1, Na Pří kopě 33 čp. 969, PSČ 114 07, IČO: 45317054  \\nZAPSAN Á V OBCHODNÍM REJSTŘÍKU VEDENÉM MĚSTSKÝM SOUDEM V PRAZE, ODDÍL B, VLOŽKA 1 360 1/10', metadata={'source': 'source_files\\\\podminky_debetnich_karet.pdf', 'page': 0})"
      ]
     },
     "execution_count": 10,
     "metadata": {},
     "output_type": "execute_result"
    }
   ],
   "source": [
    "rec_splits[0]"
   ]
  },
  {
   "cell_type": "markdown",
   "id": "59a51cc3-a01c-403c-b3f5-83a50e00d6b3",
   "metadata": {},
   "source": [
    "V případě, že bychom chtěli pracovat nikoli s přirozeným jazykem, ale s počítačovým kódem, mohou nám pomoci již předpřipravené separátory pro několik hlavních programovacích jazyků. Ty získáme naimportováním *Language* z *langchain.text_splitter*. Pokud separátory chceme vidět, musíme použít *get_separators_for_language*: "
   ]
  },
  {
   "cell_type": "code",
   "execution_count": 11,
   "id": "ed617afb-b579-4af7-be99-2e84b283caad",
   "metadata": {},
   "outputs": [],
   "source": [
    "from langchain.text_splitter import Language"
   ]
  },
  {
   "cell_type": "code",
   "execution_count": 18,
   "id": "6a0fde4e-6531-4718-b93b-0c1d77c42b03",
   "metadata": {},
   "outputs": [
    {
     "name": "stdout",
     "output_type": "stream",
     "text": [
      "['\\nclass ', '\\ndef ', '\\n\\tdef ', '\\n\\n', '\\n', ' ', '']\n"
     ]
    }
   ],
   "source": [
    "print(RecursiveCharacterTextSplitter.get_separators_for_language(Language.PYTHON))"
   ]
  },
  {
   "cell_type": "markdown",
   "id": "e21661ce-713d-49b9-8ed2-de0ae0e54fab",
   "metadata": {},
   "source": [
    "Při samotném praktickém použití vložíme *Language.PYTHON* do parametru *language* metody *from_language* (viz příklad převzatý z dokumentace):"
   ]
  },
  {
   "cell_type": "code",
   "execution_count": 20,
   "id": "1cbbdc0c-a420-4121-b9b5-b2e38fa7005c",
   "metadata": {},
   "outputs": [
    {
     "data": {
      "text/plain": [
       "[Document(page_content='def hello_world():\\n    print(\"Hello, World!\")', metadata={}),\n",
       " Document(page_content='# Call the function\\nhello_world()', metadata={})]"
      ]
     },
     "execution_count": 20,
     "metadata": {},
     "output_type": "execute_result"
    }
   ],
   "source": [
    "PYTHON_CODE = \"\"\"\n",
    "def hello_world():\n",
    "    print(\"Hello, World!\")\n",
    "\n",
    "# Call the function\n",
    "hello_world()\n",
    "\"\"\"\n",
    "python_splitter = RecursiveCharacterTextSplitter.from_language(\n",
    "    language=Language.PYTHON, chunk_size=50, chunk_overlap=0\n",
    ")\n",
    "python_docs = python_splitter.create_documents([PYTHON_CODE])\n",
    "python_docs"
   ]
  },
  {
   "cell_type": "markdown",
   "id": "c777839d-0678-4c62-9ab3-b5774d9ffb22",
   "metadata": {},
   "source": [
    "#### Embeddings, vectorstore\n",
    "Při hledání odpovědi na určitou otázku de facto hledáme otázce nejpodobnější fragmenty dokumentů. Nicméně jak bychom v přirozeném jazyce vůbec podobnost definovali? Nejpraktičtější řešení spočívá v převodu splitováním vyrobených fragmentů dokumentů na vektory (posloupnosti čísel). S nimi už můžeme pro (ne)podobnost aplikovat klasický matematický aparát ala cosinová podobnost. Tyto vektory se ale též musí někam uložit. Proto mluvíme obecně o tzv. vector stores, přičemž zde budeme konkrétně používat Chromu."
   ]
  },
  {
   "cell_type": "code",
   "execution_count": 12,
   "id": "031a4874-ecc8-4a75-9d74-a68740c490af",
   "metadata": {},
   "outputs": [],
   "source": [
    "from langchain.text_splitter import RecursiveCharacterTextSplitter"
   ]
  },
  {
   "cell_type": "code",
   "execution_count": 13,
   "id": "e6b81c13-c1a9-47bf-b219-90e3d728ef2c",
   "metadata": {},
   "outputs": [],
   "source": [
    "file_path = \"source_files\\\\podminky_debetnich_karet.pdf\"\n",
    "\n",
    "loader = PyPDFLoader(file_path)\n",
    "pages = loader.load()\n",
    "\n",
    "chunk_size = 250\n",
    "chunk_overlap = 50\n",
    "\n",
    "rec_text_splitter = RecursiveCharacterTextSplitter(        \n",
    "    chunk_size = chunk_size,\n",
    "    chunk_overlap  = chunk_overlap,\n",
    ")\n",
    "\n",
    "rec_splits = rec_text_splitter.split_documents(pages)"
   ]
  },
  {
   "cell_type": "markdown",
   "id": "381eaf05-1f1d-4b7d-947c-3ccd6506597e",
   "metadata": {},
   "source": [
    "Napřed specifikujeme, jaký model budeme používat pro výpočet embeddingů. *OpenAIEmbeddings* znamená, že použijeme model text-embedding-ada-002 od OpenAI. Ten při klasickém používání ala chatování či doplňování textu není tak mocný jako GPT3.5 nebo aspoň DaVinci. Nicméně při nápočtu embeddingů to zas takovou roli nehraje a naopak se hodí, že je tento model řádově levnější."
   ]
  },
  {
   "cell_type": "code",
   "execution_count": 14,
   "id": "6eee558e-2f58-4654-85ed-e8664fe404f1",
   "metadata": {},
   "outputs": [],
   "source": [
    "from langchain_openai import OpenAIEmbeddings"
   ]
  },
  {
   "cell_type": "code",
   "execution_count": 17,
   "id": "1f58a723-cb3b-48b8-a389-19bf36484192",
   "metadata": {},
   "outputs": [],
   "source": [
    "embedding = OpenAIEmbeddings()"
   ]
  },
  {
   "cell_type": "markdown",
   "id": "f609539d-1bb1-42d8-80c6-0eea6cd372ad",
   "metadata": {},
   "source": [
    "Pozn.: v případě práce s Azure OpenAI použijeme *AzureOpenAIEmbeddings*. Musí se specifikovat deployment, ve kterém je nasazený model určený na embeddingování. Taktéž je třeba nastavit *chunk_size* na jedničku (jinak se objeví tuším \"too many inputs\" chybová hláška).\n",
    "```python\n",
    "from langchain_openai import AzureOpenAIEmbeddings\n",
    "\n",
    "embedding = AzureOpenAIEmbeddings(deployment=\"deplyment_name_s_embedding_modelem\", chunk_size=1)\n",
    "```"
   ]
  },
  {
   "cell_type": "markdown",
   "id": "e0ce2462-d66a-46d5-b34a-949aaa3c547b",
   "metadata": {},
   "source": [
    "Pro použití Chromy musíme napřed nainstalovat odpovídající balíček [chromadb](https://pypi.org/project/chromadb/) (pokud se instalace nezdaří, máte možná příliš novou verzi Pythonu - v době psaní těchto řádků byla verze 3.10 ok, ale 3.12 už ne). Následně je potřeba provést importování."
   ]
  },
  {
   "cell_type": "code",
   "execution_count": 18,
   "id": "e3c534d5-abf0-47c9-87a6-14db0d70b061",
   "metadata": {},
   "outputs": [],
   "source": [
    "from langchain.vectorstores import Chroma"
   ]
  },
  {
   "cell_type": "markdown",
   "id": "802ffe2b-92ff-4e7d-8f4f-5b225ef896a5",
   "metadata": {},
   "source": [
    "Chroma je souborová databáze. Musíme tedy specifikovat, kam se budou její soubory (fakticky jde o parquety) ukládat."
   ]
  },
  {
   "cell_type": "code",
   "execution_count": 19,
   "id": "b51e8698-77d7-4ced-ac35-07205982dd6a",
   "metadata": {},
   "outputs": [],
   "source": [
    "simple_doc_dir = 'embeddings/simple/'"
   ]
  },
  {
   "cell_type": "code",
   "execution_count": 20,
   "id": "2a17710e-554b-4ee7-aeab-01dc689c4d8e",
   "metadata": {},
   "outputs": [],
   "source": [
    "vectordb = Chroma.from_documents(\n",
    "    documents=rec_splits,\n",
    "    embedding=embedding,\n",
    "    persist_directory=simple_doc_dir\n",
    ")"
   ]
  },
  {
   "cell_type": "markdown",
   "id": "a94ceac1-dda0-4924-bdc7-5cf9466e7a81",
   "metadata": {},
   "source": [
    "Na následující příkaz nesmíme zapomenout, neboť bez něj by se vektory fakticky neuložily na disk."
   ]
  },
  {
   "cell_type": "code",
   "execution_count": 21,
   "id": "f4b53a83-2dcd-4a2a-9f66-0cef265ea6ea",
   "metadata": {},
   "outputs": [],
   "source": [
    "vectordb.persist()"
   ]
  },
  {
   "cell_type": "markdown",
   "id": "af4e7800-0d04-4ad5-9880-650f6752994b",
   "metadata": {},
   "source": [
    "Pro načtení uložených embeddingů se použije"
   ]
  },
  {
   "cell_type": "code",
   "execution_count": 22,
   "id": "195db05b-d77c-4500-8c25-a59a1b77ec98",
   "metadata": {},
   "outputs": [],
   "source": [
    "vectordb = Chroma(\n",
    "    persist_directory=simple_doc_dir, \n",
    "    embedding_function=embedding\n",
    ")"
   ]
  },
  {
   "cell_type": "markdown",
   "id": "720889f2-f41e-44ba-b994-8b3793da0888",
   "metadata": {},
   "source": [
    "V běžném provozu asi nebudeme následující příkazy krom občasných kontrol potřebovat. Nicméně ne vždy se člověk v běžném provozu pohybuje...  \n",
    "Pro počet záznamů v konkrétním vectorstoru použijeme metodu *\\_collection.count*."
   ]
  },
  {
   "cell_type": "code",
   "execution_count": 23,
   "id": "a3114732-f64e-4fc7-8534-ff2185b676fd",
   "metadata": {},
   "outputs": [
    {
     "name": "stdout",
     "output_type": "stream",
     "text": [
      "249\n"
     ]
    }
   ],
   "source": [
    "print(vectordb._collection.count())"
   ]
  },
  {
   "cell_type": "markdown",
   "id": "abcad8d4-981d-4599-9fa5-f8d8f197b4d4",
   "metadata": {},
   "source": [
    "Metoda *peek* ukáže několik prvních záznamů (počet je specifikován parametrem *limit*, přičemž defaultní hodnota má velikost 10).\n",
    "```\n",
    "vectordb._collection.peek(limit=3)\n",
    "```\n",
    "Výstup metody není z nejmenších, proto ho zde v surové podobě neukazujeme. Jedná se o slovník, ve kterém jsou postupně tyto klíče a hodnoty:\n",
    "- ids s listem idček jednotlivých fragmentů dokumentů  \n",
    "- embeddings s listem vektorů (alias listů floatů), ve kteréch jsou fragmenty dokumentů zakódované  \n",
    "- metadatas s listem metadat, která nabývají podoby slovníků s klíči \"page\" a \"source\"\n",
    "- documents s listem samotných fragmentů dokumentů v textové podobě\n",
    "```\n",
    "{'ids': ['a737d8ec-39ea-11ee-8841-80ce622bc396',\n",
    "  'a73b7183-39ea-11ee-a74a-80ce622bc396',\n",
    "  'a73b7184-39ea-11ee-bd3c-80ce622bc396'],\n",
    " 'embeddings': [[0.0016977092018350959,\n",
    "   -0.013771715573966503,\n",
    "   0.0062872255221009254,\n",
    "   ....\n",
    "   ....\n",
    "   -0.0042107910849153996,\n",
    "   -0.027450013905763626,\n",
    "   -0.02284945175051689,\n",
    "   0.06665701419115067,\n",
    "   ...]],\n",
    " 'metadatas': [{'page': 0,\n",
    "   'source': 'source_files\\\\podminky_debetnich_karet.pdf'},\n",
    "  {'page': 0, 'source': 'source_files\\\\podminky_debetnich_karet.pdf'},\n",
    "  {'page': 0, 'source': 'source_files\\\\podminky_debetnich_karet.pdf'}],\n",
    " 'documents': ['PODMÍNKY D EBETNÍCH KARET   \\n \\n \\n \\n \\nKomerční bank a, a. s., se sídlem:  \\nPraha 1, Na Pří kopě 33 čp. 969, PSČ 114 07, IČO: 45317054  \\nZAPSAN Á V OBCHODNÍM REJSTŘÍKU VEDENÉM MĚSTSKÝM SOUDEM V PRAZE, ODDÍL B, VLOŽKA 1 360 1/10',\n",
    "  'VER DDT_ PODMPKEV.PDF \\n Tyto Podmínky debetních karet obsahují bližší úpravu práv a povinností vyplývajících z  uzavřené smlouvy, na základě',\n",
    "  'které je poskytnuta  debetní karta v  souladu s  pravidly příslušné Karetní společnosti.  Seznamte se prosím důkladně \\ns tímto dokumentem. Vaše p řípadné dotazy rádi zodpovíme.  \\n \\nČlánek 1. Poskytnutí  debetní karty a její obnova']}\n",
    "```"
   ]
  },
  {
   "cell_type": "markdown",
   "id": "f2edb80d-5f80-40f5-a92f-c4dc8885f455",
   "metadata": {},
   "source": [
    "Metoda get (výsledek je stejný pro *get* i pro *\\_collection.get*) slouží k získání buďto některých záznamů (to tehdy, když do parametru ids vložíme string či list stringů s idčky) anebo všech záznamů (když idčka nespecifikujeme; počet vrácených fragmentů lze omezit parametrem *limit*) "
   ]
  },
  {
   "cell_type": "code",
   "execution_count": 69,
   "id": "2adb91c1-afc5-4f11-b2cb-8c5bb54d3721",
   "metadata": {},
   "outputs": [
    {
     "data": {
      "text/plain": [
       "{'ids': ['a73b7184-39ea-11ee-bd3c-80ce622bc396'],\n",
       " 'embeddings': None,\n",
       " 'metadatas': [{'page': 0,\n",
       "   'source': 'source_files\\\\podminky_debetnich_karet.pdf'}],\n",
       " 'documents': ['které je poskytnuta  debetní karta v  souladu s  pravidly příslušné Karetní společnosti.  Seznamte se prosím důkladně \\ns tímto dokumentem. Vaše p řípadné dotazy rádi zodpovíme.  \\n \\nČlánek 1. Poskytnutí  debetní karty a její obnova']}"
      ]
     },
     "execution_count": 69,
     "metadata": {},
     "output_type": "execute_result"
    }
   ],
   "source": [
    "vectordb.get(ids=\"a73b7184-39ea-11ee-bd3c-80ce622bc396\")"
   ]
  },
  {
   "cell_type": "markdown",
   "id": "b9dde3c5-2f3c-4878-83dc-7a7705f98ff8",
   "metadata": {},
   "source": [
    "Defaultně se v odpovědi neobjeví embeddingy. Toto chování je řízené parametrem *include*, který defaultně obsahuje [\"metadatas\", \"documents\"]. Tudíž pokud chceme embeddingy, musíme je do listu explicitně přidat.\n",
    "```\n",
    "vectordb.get(\n",
    "    ids=\"a73b7184-39ea-11ee-bd3c-80ce622bc396\",\n",
    "    include=[\"metadatas\", \"documents\", \"embeddings\"]\n",
    ")\n",
    "```"
   ]
  },
  {
   "cell_type": "markdown",
   "id": "0a1ff5aa-7181-44a3-aece-90e4c5571640",
   "metadata": {},
   "source": [
    "Pokud chceme realizovat filtrování na základě metadat, musíme použít parametr *where*. Do něj vložíme slovník, kde klíčem bude \"page\" nebo \"source\" a hodnotou číslo stránky či zdrojový soubor>\n",
    "```\n",
    "vectordb.get(where={\"page\": 0})\n",
    "```\n",
    "```\n",
    "vectordb.get(where={\"source\": \"source_files\\\\podminky_debetnich_karet.pdf\"})\n",
    "```"
   ]
  },
  {
   "cell_type": "markdown",
   "id": "98cf2b5c-bbb7-46d8-9cdc-69273e745fc0",
   "metadata": {},
   "source": [
    "Pro získávání nejpodobnějších dokumentů vstupnímu textu sice slouží metoda *query* s parametrem *query_texts*, nicméně my v praxi budeme spíše používat langchainovou nadstavbu nad touto metodou."
   ]
  },
  {
   "cell_type": "markdown",
   "id": "57deb410-67c5-4716-9d44-4d7158ee0e7c",
   "metadata": {},
   "source": [
    "Co musíme udělat, když chceme některý ze záznamů updatovat? Vezměme si náhodně fragment i idčkem \"a73b7184-39ea-11ee-bd3c-80ce622bc396\"."
   ]
  },
  {
   "cell_type": "code",
   "execution_count": 75,
   "id": "7f138cd9-75d5-440d-8c91-b8b8805807ed",
   "metadata": {},
   "outputs": [],
   "source": [
    "some_fragment = vectordb.get(ids=\"a73b7184-39ea-11ee-bd3c-80ce622bc396\")"
   ]
  },
  {
   "cell_type": "markdown",
   "id": "ae3c0a46-5c05-4d3f-b11c-9b0b0c8c27c6",
   "metadata": {},
   "source": [
    "Jeho metadata vypadají takto:"
   ]
  },
  {
   "cell_type": "code",
   "execution_count": 76,
   "id": "16ce3dfd-10c9-42a0-9646-c1037cb997fc",
   "metadata": {},
   "outputs": [
    {
     "data": {
      "text/plain": [
       "[{'page': 0, 'source': 'source_files\\\\podminky_debetnich_karet.pdf'}]"
      ]
     },
     "execution_count": 76,
     "metadata": {},
     "output_type": "execute_result"
    }
   ],
   "source": [
    "some_fragment[\"metadatas\"]"
   ]
  },
  {
   "cell_type": "markdown",
   "id": "000fa92b-730b-46d0-8f44-9f05f38bc207",
   "metadata": {},
   "source": [
    "Nyní metadata přepíšeme - přidáme další pole."
   ]
  },
  {
   "cell_type": "code",
   "execution_count": 77,
   "id": "8ab5eb26-c33e-4ea7-9994-48e0ffbd9932",
   "metadata": {},
   "outputs": [],
   "source": [
    "some_fragment[\"metadatas\"] = [{\n",
    "    'page': 0, \n",
    "    'source': 'source_files\\\\podminky_debetnich_karet.pdf',\n",
    "    \"some_info\": \"Terms of use of debit cards\"\n",
    "}]"
   ]
  },
  {
   "cell_type": "markdown",
   "id": "2eff86c6-d3e1-4c9e-b59e-afe70c3decf8",
   "metadata": {},
   "source": [
    "Provedeme *update* stejnejmennou metodou (bacha, musí to být v *\\_collection* - *vectordb.update* se vztahuje na objekty typu *Document*). Prvním parametrem je idčko, poté zde máme parametr *metadatas*, do kterého vložíme nová metadata. Mohl by tu být i parametr embeddings (pro update embeddingů) či documents (pro úpravu samotných textů)."
   ]
  },
  {
   "cell_type": "code",
   "execution_count": 80,
   "id": "a73608c4-42d2-413a-8226-d76dc9293fa4",
   "metadata": {},
   "outputs": [],
   "source": [
    "vectordb._collection.update(\"a73b7184-39ea-11ee-bd3c-80ce622bc396\", metadatas=some_fragment[\"metadatas\"])"
   ]
  },
  {
   "cell_type": "markdown",
   "id": "1d61657c-a501-4a1b-9e46-862a2a3253ad",
   "metadata": {},
   "source": [
    "Update se opravdu provedl."
   ]
  },
  {
   "cell_type": "code",
   "execution_count": 7,
   "id": "868233ff-a367-4ae5-bc65-1244ae077340",
   "metadata": {},
   "outputs": [
    {
     "data": {
      "text/plain": [
       "{'ids': ['a73b7184-39ea-11ee-bd3c-80ce622bc396'],\n",
       " 'embeddings': None,\n",
       " 'metadatas': [{'page': 0,\n",
       "   'some_info': 'Terms of use of debit cards',\n",
       "   'source': 'source_files\\\\podminky_debetnich_karet.pdf'}],\n",
       " 'documents': ['které je poskytnuta  debetní karta v  souladu s  pravidly příslušné Karetní společnosti.  Seznamte se prosím důkladně \\ns tímto dokumentem. Vaše p řípadné dotazy rádi zodpovíme.  \\n \\nČlánek 1. Poskytnutí  debetní karty a její obnova']}"
      ]
     },
     "execution_count": 7,
     "metadata": {},
     "output_type": "execute_result"
    }
   ],
   "source": [
    "vectordb.get(ids=\"a73b7184-39ea-11ee-bd3c-80ce622bc396\")"
   ]
  },
  {
   "cell_type": "markdown",
   "id": "94577ede-7839-48dd-90f3-31bb0f741a8b",
   "metadata": {},
   "source": [
    "Přičemž zbylé záznamy zůstávají touto operací nepostižené."
   ]
  },
  {
   "cell_type": "code",
   "execution_count": 8,
   "id": "96af7661-214f-4aa4-827d-c2332322109d",
   "metadata": {},
   "outputs": [
    {
     "data": {
      "text/plain": [
       "{'ids': ['a73b7183-39ea-11ee-a74a-80ce622bc396'],\n",
       " 'embeddings': None,\n",
       " 'metadatas': [{'page': 0,\n",
       "   'source': 'source_files\\\\podminky_debetnich_karet.pdf'}],\n",
       " 'documents': ['VER DDT_ PODMPKEV.PDF \\n Tyto Podmínky debetních karet obsahují bližší úpravu práv a povinností vyplývajících z  uzavřené smlouvy, na základě']}"
      ]
     },
     "execution_count": 8,
     "metadata": {},
     "output_type": "execute_result"
    }
   ],
   "source": [
    "vectordb.get(ids=\"a73b7183-39ea-11ee-a74a-80ce622bc396\")"
   ]
  },
  {
   "cell_type": "markdown",
   "id": "f52dd5b7-492a-446c-a23e-272eab415f90",
   "metadata": {},
   "source": [
    "Nakonec nesmíme zapomenout na uložení změn."
   ]
  },
  {
   "cell_type": "code",
   "execution_count": 85,
   "id": "f0edd5bd-3679-4fcf-9349-65ff8265ccac",
   "metadata": {},
   "outputs": [],
   "source": [
    "vectordb.persist()"
   ]
  },
  {
   "cell_type": "markdown",
   "id": "6645d59f-4cdf-497d-8039-87aba5babff6",
   "metadata": {},
   "source": [
    "Podobným způsobem by probíhalo i mazání záznamů, kdy bychom použili metodu *delete*:\n",
    "```\n",
    "vectordb._collection.delete(ids=\"a73b7183-39ea-11ee-a74a-80ce622bc396\")\n",
    "```"
   ]
  },
  {
   "cell_type": "markdown",
   "id": "6dd457f3-ccf6-4113-8562-8292a990334a",
   "metadata": {},
   "source": [
    "#### Similarity search\n",
    "Řekli jsme si, že metodu *query* na hledání podobnosti dokumentů používat nebudeme. Co ale místo ní máme k dispozici?"
   ]
  },
  {
   "cell_type": "code",
   "execution_count": 9,
   "id": "7adf4d78-ad11-4fe3-9ec4-44baf1eb495b",
   "metadata": {},
   "outputs": [],
   "source": [
    "question = \"Jak dlouho debentní karta platí?\""
   ]
  },
  {
   "cell_type": "markdown",
   "id": "c2f61fcd-7387-4b53-9565-cffbafce3139",
   "metadata": {},
   "source": [
    "Metoda *similarity_search* vyhledává *k* nejpodobnějších fragmentů dokumentů k dokumentu vloženému do parametru *query*. Založená je na počítání cosinové podobnosti mezi vektory fragmentů."
   ]
  },
  {
   "cell_type": "code",
   "execution_count": 13,
   "id": "d68b63e5-6073-449e-965f-4d161ba2acdf",
   "metadata": {},
   "outputs": [],
   "source": [
    "simple_sim_docs = vectordb.similarity_search(query=question,k=3)"
   ]
  },
  {
   "cell_type": "code",
   "execution_count": 14,
   "id": "8b030301-9785-4ebd-8853-824e89072203",
   "metadata": {},
   "outputs": [
    {
     "data": {
      "text/plain": [
       "[Document(page_content='1.6 Platnost.  Debetní k artu lze používat do posledního dne měsíce a roku doby platnosti na ní uvedené. \\nPoužitím obnovené karty dle č l. 1.8 Podmínek končí platnost karty původní bez ohledu na předchozí větu.', metadata={'page': 0, 'source': 'source_files\\\\podminky_debetnich_karet.pdf'}),\n",
       " Document(page_content='Sazebníku. Roční po platek platíte předem  a účtujeme je j nejdříve 30. kalendářní den  po sjednání ka rty. \\nV dalších letech  po dobu platnosti karty  je cena splatná ka ždoročně ve stejný den a měsíc . Měsíční poplatek', metadata={'page': 1, 'source': 'source_files\\\\podminky_debetnich_karet.pdf'}),\n",
       " Document(page_content='platíte  předem a  účtujeme  jej nejdříve 5.  obchodní den  po sjednání karty. V dalších měsících  po dobu \\nplatnosti karty  je cena splatná  ve stejný den . Pokud den splatnosti připa dne na den, který není Obchodním', metadata={'page': 1, 'source': 'source_files\\\\podminky_debetnich_karet.pdf'})]"
      ]
     },
     "execution_count": 14,
     "metadata": {},
     "output_type": "execute_result"
    }
   ],
   "source": [
    "simple_sim_docs"
   ]
  },
  {
   "cell_type": "markdown",
   "id": "a7706efa-3e9d-485b-ad58-d2d8e78b3a9a",
   "metadata": {},
   "source": [
    "Lze do ní přidat i parametr *filter*, který se hodí pro omezení množiny, ve které se podobné framenty hledají, a to sice na základě metadat."
   ]
  },
  {
   "cell_type": "code",
   "execution_count": 15,
   "id": "4c745af6-7efb-48e7-bbf2-faecf99f1d53",
   "metadata": {},
   "outputs": [],
   "source": [
    "simple_sim_docs = vectordb.similarity_search(\n",
    "    query=question,\n",
    "    k=3,\n",
    "    filter={\"page\":0}\n",
    ")"
   ]
  },
  {
   "cell_type": "code",
   "execution_count": 16,
   "id": "da743cf4-25f7-4ecd-a7d5-ba5e6ffa18eb",
   "metadata": {},
   "outputs": [
    {
     "data": {
      "text/plain": [
       "[Document(page_content='1.6 Platnost.  Debetní k artu lze používat do posledního dne měsíce a roku doby platnosti na ní uvedené. \\nPoužitím obnovené karty dle č l. 1.8 Podmínek končí platnost karty původní bez ohledu na předchozí větu.', metadata={'page': 0, 'source': 'source_files\\\\podminky_debetnich_karet.pdf'}),\n",
       " Document(page_content='platnosti použita, nejsme povinni ji obnovit . \\n1.9 Neposkytnutí  nové debetní karty.  Nemá -li Držitel zájem o poskytnutí  nové debetní  karty dle  čl. 1.8', metadata={'page': 0, 'source': 'source_files\\\\podminky_debetnich_karet.pdf'}),\n",
       " Document(page_content='1.1 Žádost o debetní kartu. O poskytnutí  debetní karty můžete požádat pro sebe nebo pro kteroukoli  třetí \\nosobu. V  odůvodněných případech jsme oprávněni vaš i žádost odmít nout a požadovanou kartu', metadata={'page': 0, 'source': 'source_files\\\\podminky_debetnich_karet.pdf'})]"
      ]
     },
     "execution_count": 16,
     "metadata": {},
     "output_type": "execute_result"
    }
   ],
   "source": [
    "simple_sim_docs"
   ]
  },
  {
   "cell_type": "markdown",
   "id": "e01a78e5-3dc4-4591-97d3-6316c7012d92",
   "metadata": {},
   "source": [
    "Metoda *similarity_search* u vrácených fragmentů neukazuje, jak moc jsou dokumentu v *query* podobné. Tuto informaci můžeme ale dostat s metodou *similarity_search_with_score* - ta vrací velikost cosinové podobnosti, tj. menší číslo je lepší a nejlepší je 0."
   ]
  },
  {
   "cell_type": "code",
   "execution_count": 17,
   "id": "0b8a6604-34d5-41cd-8d53-1877e8d95fc6",
   "metadata": {},
   "outputs": [
    {
     "data": {
      "text/plain": [
       "[(Document(page_content='1.6 Platnost.  Debetní k artu lze používat do posledního dne měsíce a roku doby platnosti na ní uvedené. \\nPoužitím obnovené karty dle č l. 1.8 Podmínek končí platnost karty původní bez ohledu na předchozí větu.', metadata={'page': 0, 'source': 'source_files\\\\podminky_debetnich_karet.pdf'}),\n",
       "  0.2407131791114807),\n",
       " (Document(page_content='Sazebníku. Roční po platek platíte předem  a účtujeme je j nejdříve 30. kalendářní den  po sjednání ka rty. \\nV dalších letech  po dobu platnosti karty  je cena splatná ka ždoročně ve stejný den a měsíc . Měsíční poplatek', metadata={'page': 1, 'source': 'source_files\\\\podminky_debetnich_karet.pdf'}),\n",
       "  0.26958850026130676),\n",
       " (Document(page_content='platíte  předem a  účtujeme  jej nejdříve 5.  obchodní den  po sjednání karty. V dalších měsících  po dobu \\nplatnosti karty  je cena splatná  ve stejný den . Pokud den splatnosti připa dne na den, který není Obchodním', metadata={'page': 1, 'source': 'source_files\\\\podminky_debetnich_karet.pdf'}),\n",
       "  0.2937026023864746)]"
      ]
     },
     "execution_count": 17,
     "metadata": {},
     "output_type": "execute_result"
    }
   ],
   "source": [
    "sim_score_docs = vectordb.similarity_search_with_score(query=question,k=3)\n",
    "sim_score_docs"
   ]
  },
  {
   "cell_type": "markdown",
   "id": "17345ec0-dbe8-422e-9f3d-6193b786da49",
   "metadata": {},
   "source": [
    "Podobně funguje *similarity_search_with_relevance_scores*, pouze je cosinová podobnost přepočítána na relevance score. To se nalézá v uzavřeném intervalu mezi 0 a 1, přičemž 0 jsou zcela nepodobné dokumenty, zatímco 1 mají zcela identické dokumenty."
   ]
  },
  {
   "cell_type": "code",
   "execution_count": 18,
   "id": "c5160c03-35de-4d50-b388-6c4f550c7807",
   "metadata": {},
   "outputs": [
    {
     "data": {
      "text/plain": [
       "[(Document(page_content='1.6 Platnost.  Debetní k artu lze používat do posledního dne měsíce a roku doby platnosti na ní uvedené. \\nPoužitím obnovené karty dle č l. 1.8 Podmínek končí platnost karty původní bez ohledu na předchozí větu.', metadata={'page': 0, 'source': 'source_files\\\\podminky_debetnich_karet.pdf'}),\n",
       "  0.8297900787293),\n",
       " (Document(page_content='Sazebníku. Roční po platek platíte předem  a účtujeme je j nejdříve 30. kalendářní den  po sjednání ka rty. \\nV dalších letech  po dobu platnosti karty  je cena splatná ka ždoročně ve stejný den a měsíc . Měsíční poplatek', metadata={'page': 1, 'source': 'source_files\\\\podminky_debetnich_karet.pdf'}),\n",
       "  0.8093721433353187),\n",
       " (Document(page_content='platíte  předem a  účtujeme  jej nejdříve 5.  obchodní den  po sjednání karty. V dalších měsících  po dobu \\nplatnosti karty  je cena splatná  ve stejný den . Pokud den splatnosti připa dne na den, který není Obchodním', metadata={'page': 1, 'source': 'source_files\\\\podminky_debetnich_karet.pdf'}),\n",
       "  0.7923208982003875)]"
      ]
     },
     "execution_count": 18,
     "metadata": {},
     "output_type": "execute_result"
    }
   ],
   "source": [
    "sim_rel_score_docs = vectordb.similarity_search_with_relevance_scores(query=question,k=3)\n",
    "sim_rel_score_docs"
   ]
  },
  {
   "cell_type": "markdown",
   "id": "3cad7e48-39c2-4215-a5e8-4b0885bf15c0",
   "metadata": {},
   "source": [
    "Na poněkud odlišném principu funguje *max_marginal_relevance_search*. Tato metoda se snaží současně optimalizovat podobnost a diverzitu dokumentů. To v praxi znamená, že najde na základě cosinové podobnosti *fetch_k* fragmentů (defaultně 20). Poté je ale seřadí tak, že penalizuje podobné či dokonce identické dokumenty a z nového řazení vrátí *k* fragmentů (defaultně 4). Bohužel zdá se, že žádné číslo kvantifikující podobnost či kvalitu výběru není ve funkci dostupné."
   ]
  },
  {
   "cell_type": "code",
   "execution_count": 20,
   "id": "cca412e6-7d5b-4706-88c2-04f91432ce6f",
   "metadata": {},
   "outputs": [
    {
     "data": {
      "text/plain": [
       "[Document(page_content='1.6 Platnost.  Debetní k artu lze používat do posledního dne měsíce a roku doby platnosti na ní uvedené. \\nPoužitím obnovené karty dle č l. 1.8 Podmínek končí platnost karty původní bez ohledu na předchozí větu.', metadata={'page': 0, 'source': 'source_files\\\\podminky_debetnich_karet.pdf'}),\n",
       " Document(page_content='Sazebníku. Roční po platek platíte předem  a účtujeme je j nejdříve 30. kalendářní den  po sjednání ka rty. \\nV dalších letech  po dobu platnosti karty  je cena splatná ka ždoročně ve stejný den a měsíc . Měsíční poplatek', metadata={'page': 1, 'source': 'source_files\\\\podminky_debetnich_karet.pdf'}),\n",
       " Document(page_content='zboží/služby placený ch kartou se řídí v ýhradně pravidly Karetních společností, a to včetně lhůt pro vyřízení \\n(tj. mimo režim zákona o pla tebním styku3).', metadata={'page': 4, 'source': 'source_files\\\\podminky_debetnich_karet.pdf'})]"
      ]
     },
     "execution_count": 20,
     "metadata": {},
     "output_type": "execute_result"
    }
   ],
   "source": [
    "max_relev_docs = vectordb.max_marginal_relevance_search(query=question,k=3, fetch_k=20)\n",
    "max_relev_docs"
   ]
  },
  {
   "cell_type": "markdown",
   "id": "5330fa64-5b93-4c4f-bf81-853b2855ef49",
   "metadata": {},
   "source": [
    "Specialitou je použití komprese na výstupních fragmentech. Fragmenty mohou totiž obsahovat značné množství informací pro určitý dotaz nerelevantních. Užitečné informace se potom v záplavě zbytečností snadno ztratí. "
   ]
  },
  {
   "cell_type": "code",
   "execution_count": 21,
   "id": "b518dd81-b07d-45f6-a75d-da2e0aab1520",
   "metadata": {},
   "outputs": [],
   "source": [
    "from langchain.retrievers import ContextualCompressionRetriever\n",
    "from langchain.retrievers.document_compressors import LLMChainExtractor"
   ]
  },
  {
   "cell_type": "markdown",
   "id": "20c2cd69-c087-418c-acfa-0b9d07057ef5",
   "metadata": {},
   "source": [
    "Abychom viděli, co Langchain dělá, zapneme debugování."
   ]
  },
  {
   "cell_type": "code",
   "execution_count": 26,
   "id": "6341e36f-38bc-4e47-b664-7c26668b4424",
   "metadata": {},
   "outputs": [],
   "source": [
    "langchain.debug = True"
   ]
  },
  {
   "cell_type": "markdown",
   "id": "6d682b44-9ba4-445d-89a4-2da035b0508e",
   "metadata": {},
   "source": [
    "Samotnou kompresi (či přesněji osekávání zbytečných slov) realizuje fakticky jazykový model, musíme tudíž vytvoři jeho instanci."
   ]
  },
  {
   "cell_type": "code",
   "execution_count": 33,
   "id": "91e75ed3-91c7-4625-a190-21855878f352",
   "metadata": {},
   "outputs": [],
   "source": [
    "chat = ChatOpenAI(temperature=0)\n",
    "compressor = LLMChainExtractor.from_llm(chat)"
   ]
  },
  {
   "cell_type": "markdown",
   "id": "e4291967-b73b-43d7-bcf6-91d57194f4ce",
   "metadata": {},
   "source": [
    "Následně vytvoříme samotný kompresor."
   ]
  },
  {
   "cell_type": "code",
   "execution_count": 34,
   "id": "b5787b6f-8b6b-4019-9e0a-39d915cf79ba",
   "metadata": {},
   "outputs": [],
   "source": [
    "compression_retriever = ContextualCompressionRetriever(\n",
    "    base_compressor=compressor,\n",
    "    base_retriever=vectordb.as_retriever()\n",
    ")"
   ]
  },
  {
   "cell_type": "markdown",
   "id": "40d44e08-0ac3-4752-8979-957e1189a63e",
   "metadata": {},
   "source": [
    "Na něm provoláme metodu *get_relevant_documents*. Bohužel jsem nepřišel na to, jak specifikovat počet vrácených fragmentů (parametr *k* nefunguje), takže se vrací defaultní 4.  \n",
    "\"Kompresi\" zajišťuje následující prompt:\n",
    "```\n",
    "Given the following question and context, extract any part of the context *AS IS* that is relevant to answer the question. If none of the context is relevant return NO_OUTPUT. \\n\\nRemember, *DO NOT* edit the extracted parts of the context.\\n\\n> Question: Jak dlouho debentní karta platí?\\n> Context:\\n>>>\\nplatíte  předem a  účtujeme  jej nejdříve 5.  obchodní den  po sjednání karty. V dalších měsících  po dobu \\nplatnosti karty  je cena splatná  ve stejný den . Pokud den splatnosti připa dne na den, který není Obchodním\\n>>>\\nExtracted relevant parts:\n",
    "```"
   ]
  },
  {
   "cell_type": "code",
   "execution_count": 35,
   "id": "ce5ab7b9-177d-42e3-803a-693e9d672963",
   "metadata": {},
   "outputs": [
    {
     "name": "stdout",
     "output_type": "stream",
     "text": [
      "\u001B[32;1m\u001B[1;3m[chain/start]\u001B[0m \u001B[1m[1:retriever:Retriever > 3:chain:LLMChain] Entering Chain run with input:\n",
      "\u001B[0m{\n",
      "  \"question\": \"Jak dlouho debentní karta platí?\",\n",
      "  \"context\": \"1.6 Platnost.  Debetní k artu lze používat do posledního dne měsíce a roku doby platnosti na ní uvedené. \\nPoužitím obnovené karty dle č l. 1.8 Podmínek končí platnost karty původní bez ohledu na předchozí větu.\"\n",
      "}\n",
      "\u001B[32;1m\u001B[1;3m[llm/start]\u001B[0m \u001B[1m[1:retriever:Retriever > 3:chain:LLMChain > 4:llm:ChatOpenAI] Entering LLM run with input:\n",
      "\u001B[0m{\n",
      "  \"prompts\": [\n",
      "    \"Human: Given the following question and context, extract any part of the context *AS IS* that is relevant to answer the question. If none of the context is relevant return NO_OUTPUT. \\n\\nRemember, *DO NOT* edit the extracted parts of the context.\\n\\n> Question: Jak dlouho debentní karta platí?\\n> Context:\\n>>>\\n1.6 Platnost.  Debetní k artu lze používat do posledního dne měsíce a roku doby platnosti na ní uvedené. \\nPoužitím obnovené karty dle č l. 1.8 Podmínek končí platnost karty původní bez ohledu na předchozí větu.\\n>>>\\nExtracted relevant parts:\"\n",
      "  ]\n",
      "}\n",
      "\u001B[36;1m\u001B[1;3m[llm/end]\u001B[0m \u001B[1m[1:retriever:Retriever > 3:chain:LLMChain > 4:llm:ChatOpenAI] [2.36s] Exiting LLM run with output:\n",
      "\u001B[0m{\n",
      "  \"generations\": [\n",
      "    [\n",
      "      {\n",
      "        \"text\": \"Debetní k artu lze používat do posledního dne měsíce a roku doby platnosti na ní uvedené.\",\n",
      "        \"generation_info\": {\n",
      "          \"finish_reason\": \"stop\"\n",
      "        },\n",
      "        \"message\": {\n",
      "          \"lc\": 1,\n",
      "          \"type\": \"constructor\",\n",
      "          \"id\": [\n",
      "            \"langchain\",\n",
      "            \"schema\",\n",
      "            \"messages\",\n",
      "            \"AIMessage\"\n",
      "          ],\n",
      "          \"kwargs\": {\n",
      "            \"content\": \"Debetní k artu lze používat do posledního dne měsíce a roku doby platnosti na ní uvedené.\",\n",
      "            \"additional_kwargs\": {}\n",
      "          }\n",
      "        }\n",
      "      }\n",
      "    ]\n",
      "  ],\n",
      "  \"llm_output\": {\n",
      "    \"token_usage\": {\n",
      "      \"prompt_tokens\": 180,\n",
      "      \"completion_tokens\": 38,\n",
      "      \"total_tokens\": 218\n",
      "    },\n",
      "    \"model_name\": \"gpt-3.5-turbo\"\n",
      "  },\n",
      "  \"run\": null\n",
      "}\n",
      "\u001B[36;1m\u001B[1;3m[chain/end]\u001B[0m \u001B[1m[1:retriever:Retriever > 3:chain:LLMChain] [2.36s] Exiting Chain run with output:\n",
      "\u001B[0m{\n",
      "  \"text\": \"Debetní k artu lze používat do posledního dne měsíce a roku doby platnosti na ní uvedené.\"\n",
      "}\n",
      "\u001B[32;1m\u001B[1;3m[chain/start]\u001B[0m \u001B[1m[1:retriever:Retriever > 5:chain:LLMChain] Entering Chain run with input:\n",
      "\u001B[0m{\n",
      "  \"question\": \"Jak dlouho debentní karta platí?\",\n",
      "  \"context\": \"Sazebníku. Roční po platek platíte předem  a účtujeme je j nejdříve 30. kalendářní den  po sjednání ka rty. \\nV dalších letech  po dobu platnosti karty  je cena splatná ka ždoročně ve stejný den a měsíc . Měsíční poplatek\"\n",
      "}\n",
      "\u001B[32;1m\u001B[1;3m[llm/start]\u001B[0m \u001B[1m[1:retriever:Retriever > 5:chain:LLMChain > 6:llm:ChatOpenAI] Entering LLM run with input:\n",
      "\u001B[0m{\n",
      "  \"prompts\": [\n",
      "    \"Human: Given the following question and context, extract any part of the context *AS IS* that is relevant to answer the question. If none of the context is relevant return NO_OUTPUT. \\n\\nRemember, *DO NOT* edit the extracted parts of the context.\\n\\n> Question: Jak dlouho debentní karta platí?\\n> Context:\\n>>>\\nSazebníku. Roční po platek platíte předem  a účtujeme je j nejdříve 30. kalendářní den  po sjednání ka rty. \\nV dalších letech  po dobu platnosti karty  je cena splatná ka ždoročně ve stejný den a měsíc . Měsíční poplatek\\n>>>\\nExtracted relevant parts:\"\n",
      "  ]\n",
      "}\n",
      "\u001B[36;1m\u001B[1;3m[llm/end]\u001B[0m \u001B[1m[1:retriever:Retriever > 5:chain:LLMChain > 6:llm:ChatOpenAI] [1.78s] Exiting LLM run with output:\n",
      "\u001B[0m{\n",
      "  \"generations\": [\n",
      "    [\n",
      "      {\n",
      "        \"text\": \"je cena splatná ka ždoročně ve stejný den a měsíc .\",\n",
      "        \"generation_info\": {\n",
      "          \"finish_reason\": \"stop\"\n",
      "        },\n",
      "        \"message\": {\n",
      "          \"lc\": 1,\n",
      "          \"type\": \"constructor\",\n",
      "          \"id\": [\n",
      "            \"langchain\",\n",
      "            \"schema\",\n",
      "            \"messages\",\n",
      "            \"AIMessage\"\n",
      "          ],\n",
      "          \"kwargs\": {\n",
      "            \"content\": \"je cena splatná ka ždoročně ve stejný den a měsíc .\",\n",
      "            \"additional_kwargs\": {}\n",
      "          }\n",
      "        }\n",
      "      }\n",
      "    ]\n",
      "  ],\n",
      "  \"llm_output\": {\n",
      "    \"token_usage\": {\n",
      "      \"prompt_tokens\": 186,\n",
      "      \"completion_tokens\": 24,\n",
      "      \"total_tokens\": 210\n",
      "    },\n",
      "    \"model_name\": \"gpt-3.5-turbo\"\n",
      "  },\n",
      "  \"run\": null\n",
      "}\n",
      "\u001B[36;1m\u001B[1;3m[chain/end]\u001B[0m \u001B[1m[1:retriever:Retriever > 5:chain:LLMChain] [1.78s] Exiting Chain run with output:\n",
      "\u001B[0m{\n",
      "  \"text\": \"je cena splatná ka ždoročně ve stejný den a měsíc .\"\n",
      "}\n",
      "\u001B[32;1m\u001B[1;3m[chain/start]\u001B[0m \u001B[1m[1:retriever:Retriever > 7:chain:LLMChain] Entering Chain run with input:\n",
      "\u001B[0m{\n",
      "  \"question\": \"Jak dlouho debentní karta platí?\",\n",
      "  \"context\": \"platíte  předem a  účtujeme  jej nejdříve 5.  obchodní den  po sjednání karty. V dalších měsících  po dobu \\nplatnosti karty  je cena splatná  ve stejný den . Pokud den splatnosti připa dne na den, který není Obchodním\"\n",
      "}\n",
      "\u001B[32;1m\u001B[1;3m[llm/start]\u001B[0m \u001B[1m[1:retriever:Retriever > 7:chain:LLMChain > 8:llm:ChatOpenAI] Entering LLM run with input:\n",
      "\u001B[0m{\n",
      "  \"prompts\": [\n",
      "    \"Human: Given the following question and context, extract any part of the context *AS IS* that is relevant to answer the question. If none of the context is relevant return NO_OUTPUT. \\n\\nRemember, *DO NOT* edit the extracted parts of the context.\\n\\n> Question: Jak dlouho debentní karta platí?\\n> Context:\\n>>>\\nplatíte  předem a  účtujeme  jej nejdříve 5.  obchodní den  po sjednání karty. V dalších měsících  po dobu \\nplatnosti karty  je cena splatná  ve stejný den . Pokud den splatnosti připa dne na den, který není Obchodním\\n>>>\\nExtracted relevant parts:\"\n",
      "  ]\n",
      "}\n",
      "\u001B[36;1m\u001B[1;3m[llm/end]\u001B[0m \u001B[1m[1:retriever:Retriever > 7:chain:LLMChain > 8:llm:ChatOpenAI] [3.47s] Exiting LLM run with output:\n",
      "\u001B[0m{\n",
      "  \"generations\": [\n",
      "    [\n",
      "      {\n",
      "        \"text\": \"platíte  předem a  účtujeme  jej nejdříve 5.  obchodní den  po sjednání karty. V dalších měsících  po dobu \\nplatnosti karty  je cena splatná  ve stejný den .\",\n",
      "        \"generation_info\": {\n",
      "          \"finish_reason\": \"stop\"\n",
      "        },\n",
      "        \"message\": {\n",
      "          \"lc\": 1,\n",
      "          \"type\": \"constructor\",\n",
      "          \"id\": [\n",
      "            \"langchain\",\n",
      "            \"schema\",\n",
      "            \"messages\",\n",
      "            \"AIMessage\"\n",
      "          ],\n",
      "          \"kwargs\": {\n",
      "            \"content\": \"platíte  předem a  účtujeme  jej nejdříve 5.  obchodní den  po sjednání karty. V dalších měsících  po dobu \\nplatnosti karty  je cena splatná  ve stejný den .\",\n",
      "            \"additional_kwargs\": {}\n",
      "          }\n",
      "        }\n",
      "      }\n",
      "    ]\n",
      "  ],\n",
      "  \"llm_output\": {\n",
      "    \"token_usage\": {\n",
      "      \"prompt_tokens\": 180,\n",
      "      \"completion_tokens\": 72,\n",
      "      \"total_tokens\": 252\n",
      "    },\n",
      "    \"model_name\": \"gpt-3.5-turbo\"\n",
      "  },\n",
      "  \"run\": null\n",
      "}\n",
      "\u001B[36;1m\u001B[1;3m[chain/end]\u001B[0m \u001B[1m[1:retriever:Retriever > 7:chain:LLMChain] [3.47s] Exiting Chain run with output:\n",
      "\u001B[0m{\n",
      "  \"text\": \"platíte  předem a  účtujeme  jej nejdříve 5.  obchodní den  po sjednání karty. V dalších měsících  po dobu \\nplatnosti karty  je cena splatná  ve stejný den .\"\n",
      "}\n",
      "\u001B[32;1m\u001B[1;3m[chain/start]\u001B[0m \u001B[1m[1:retriever:Retriever > 9:chain:LLMChain] Entering Chain run with input:\n",
      "\u001B[0m{\n",
      "  \"question\": \"Jak dlouho debentní karta platí?\",\n",
      "  \"context\": \"platnosti použita, nejsme povinni ji obnovit . \\n1.9 Neposkytnutí  nové debetní karty.  Nemá -li Držitel zájem o poskytnutí  nové debetní  karty dle  čl. 1.8\"\n",
      "}\n",
      "\u001B[32;1m\u001B[1;3m[llm/start]\u001B[0m \u001B[1m[1:retriever:Retriever > 9:chain:LLMChain > 10:llm:ChatOpenAI] Entering LLM run with input:\n",
      "\u001B[0m{\n",
      "  \"prompts\": [\n",
      "    \"Human: Given the following question and context, extract any part of the context *AS IS* that is relevant to answer the question. If none of the context is relevant return NO_OUTPUT. \\n\\nRemember, *DO NOT* edit the extracted parts of the context.\\n\\n> Question: Jak dlouho debentní karta platí?\\n> Context:\\n>>>\\nplatnosti použita, nejsme povinni ji obnovit . \\n1.9 Neposkytnutí  nové debetní karty.  Nemá -li Držitel zájem o poskytnutí  nové debetní  karty dle  čl. 1.8\\n>>>\\nExtracted relevant parts:\"\n",
      "  ]\n",
      "}\n",
      "\u001B[36;1m\u001B[1;3m[llm/end]\u001B[0m \u001B[1m[1:retriever:Retriever > 9:chain:LLMChain > 10:llm:ChatOpenAI] [1.46s] Exiting LLM run with output:\n",
      "\u001B[0m{\n",
      "  \"generations\": [\n",
      "    [\n",
      "      {\n",
      "        \"text\": \"platnosti použita, nejsme povinni ji obnovit .\",\n",
      "        \"generation_info\": {\n",
      "          \"finish_reason\": \"stop\"\n",
      "        },\n",
      "        \"message\": {\n",
      "          \"lc\": 1,\n",
      "          \"type\": \"constructor\",\n",
      "          \"id\": [\n",
      "            \"langchain\",\n",
      "            \"schema\",\n",
      "            \"messages\",\n",
      "            \"AIMessage\"\n",
      "          ],\n",
      "          \"kwargs\": {\n",
      "            \"content\": \"platnosti použita, nejsme povinni ji obnovit .\",\n",
      "            \"additional_kwargs\": {}\n",
      "          }\n",
      "        }\n",
      "      }\n",
      "    ]\n",
      "  ],\n",
      "  \"llm_output\": {\n",
      "    \"token_usage\": {\n",
      "      \"prompt_tokens\": 158,\n",
      "      \"completion_tokens\": 17,\n",
      "      \"total_tokens\": 175\n",
      "    },\n",
      "    \"model_name\": \"gpt-3.5-turbo\"\n",
      "  },\n",
      "  \"run\": null\n",
      "}\n",
      "\u001B[36;1m\u001B[1;3m[chain/end]\u001B[0m \u001B[1m[1:retriever:Retriever > 9:chain:LLMChain] [1.46s] Exiting Chain run with output:\n",
      "\u001B[0m{\n",
      "  \"text\": \"platnosti použita, nejsme povinni ji obnovit .\"\n",
      "}\n"
     ]
    }
   ],
   "source": [
    "compressed_docs = compression_retriever.get_relevant_documents(query=question)"
   ]
  },
  {
   "cell_type": "code",
   "execution_count": 36,
   "id": "7d6cff82-0c66-4dc5-bcba-636e92f24466",
   "metadata": {},
   "outputs": [
    {
     "data": {
      "text/plain": [
       "[Document(page_content='Debetní k artu lze používat do posledního dne měsíce a roku doby platnosti na ní uvedené.', metadata={'page': 0, 'source': 'source_files\\\\podminky_debetnich_karet.pdf'}),\n",
       " Document(page_content='je cena splatná ka ždoročně ve stejný den a měsíc .', metadata={'page': 1, 'source': 'source_files\\\\podminky_debetnich_karet.pdf'}),\n",
       " Document(page_content='platíte  předem a  účtujeme  jej nejdříve 5.  obchodní den  po sjednání karty. V dalších měsících  po dobu \\nplatnosti karty  je cena splatná  ve stejný den .', metadata={'page': 1, 'source': 'source_files\\\\podminky_debetnich_karet.pdf'}),\n",
       " Document(page_content='platnosti použita, nejsme povinni ji obnovit .', metadata={'page': 0, 'source': 'source_files\\\\podminky_debetnich_karet.pdf'})]"
      ]
     },
     "execution_count": 36,
     "metadata": {},
     "output_type": "execute_result"
    }
   ],
   "source": [
    "compressed_docs"
   ]
  },
  {
   "cell_type": "code",
   "execution_count": 38,
   "id": "aef57b7b-085c-4878-92c7-7b266fb5aba9",
   "metadata": {},
   "outputs": [],
   "source": [
    "langchain.debug = False"
   ]
  },
  {
   "cell_type": "markdown",
   "id": "b0cc9fdd-8a90-42f9-bbae-7d3d25876e73",
   "metadata": {},
   "source": [
    "#### Question answering\n",
    "Uživatel asi nebude chtít, aby mu stroj na jeho otázku vyplivl více či méně souvislé fragmenty dokumentů. Bude si spíše přát odpověď v přirozeném jazyce. Této úloze se budeme věnovat nyní.  \n",
    "Nejprve si připravme věci, se kterými jsme se seznámili již v předchozík podkapitolách."
   ]
  },
  {
   "cell_type": "code",
   "execution_count": 2,
   "id": "7a0c7bb9-85e6-456e-b298-39db8f76a3e7",
   "metadata": {},
   "outputs": [],
   "source": [
    "simple_doc_dir = 'embeddings/simple/'\n",
    "embedding = OpenAIEmbeddings()\n",
    "vectordb = Chroma(persist_directory=simple_doc_dir, embedding_function=embedding)\n",
    "chat = ChatOpenAI(model_name=\"gpt-3.5-turbo\", temperature=0)"
   ]
  },
  {
   "cell_type": "markdown",
   "id": "3f32b339-d9ee-4352-94df-9baa80f793bf",
   "metadata": {},
   "source": [
    "Následně si vytvoříme chain pro question answering - [RetrievalQA](https://python.langchain.com/docs/use_cases/question_answering/how_to/vector_db_qa)."
   ]
  },
  {
   "cell_type": "code",
   "execution_count": 40,
   "id": "d7a5213a-0764-4d27-8538-d0fcc62721d5",
   "metadata": {},
   "outputs": [],
   "source": [
    "from langchain.chains import RetrievalQA"
   ]
  },
  {
   "cell_type": "code",
   "execution_count": 42,
   "id": "cf74b26d-268f-470a-b3b1-05d5c4d16bdb",
   "metadata": {},
   "outputs": [],
   "source": [
    "qa_chain = RetrievalQA.from_chain_type(\n",
    "    llm=chat,\n",
    "    retriever=vectordb.as_retriever()\n",
    ")"
   ]
  },
  {
   "cell_type": "markdown",
   "id": "33fa5454-81ea-48f8-9f40-c9eefac5fa72",
   "metadata": {},
   "source": [
    "Otázku do něj vložíme takto:"
   ]
  },
  {
   "cell_type": "code",
   "execution_count": 43,
   "id": "5a88d39b-7905-4bdc-8c65-c69fae9aeba7",
   "metadata": {},
   "outputs": [],
   "source": [
    "question = \"Jak dlouho debentní karta platí?\"\n",
    "result = qa_chain({\"query\": question})"
   ]
  },
  {
   "cell_type": "markdown",
   "id": "5765196c-8eb2-4ccb-b769-81d37d215b13",
   "metadata": {},
   "source": [
    "A obdržíme následující slovník:"
   ]
  },
  {
   "cell_type": "code",
   "execution_count": 48,
   "id": "29f117e8-735a-47e0-8372-24b13b63b0eb",
   "metadata": {},
   "outputs": [
    {
     "data": {
      "text/plain": [
       "{'query': 'Jak dlouho debentní karta platí?',\n",
       " 'result': 'Debetní karta platí do posledního dne měsíce a roku doby platnosti, která je uvedena na kartě.'}"
      ]
     },
     "execution_count": 48,
     "metadata": {},
     "output_type": "execute_result"
    }
   ],
   "source": [
    "result"
   ]
  },
  {
   "cell_type": "markdown",
   "id": "cd09b547-0428-4dcd-ac0d-bbc450fd9f20",
   "metadata": {},
   "source": [
    "Ok, odpověď v přirozeném jazyce jsme dostali. Co když bychom ale chtěli upravit systémový prompt? A jak si zobrazíme fragmenty, ze kterých jazykový model skládal odpověď?"
   ]
  },
  {
   "cell_type": "code",
   "execution_count": 52,
   "id": "f7626304-d182-4fb2-a013-b9e92865da93",
   "metadata": {},
   "outputs": [],
   "source": [
    "from langchain.prompts import PromptTemplate\n",
    "\n",
    "template = \"\"\"Use the following pieces of context to answer the question at the end. If you don't know the answer, just say that you don't know, don't try to make up an answer. Use three sentences maximum. Keep the answer as concise as possible. Answer in Czech language. \n",
    "{context}\n",
    "Question: {question}\n",
    "Helpful Answer:\"\"\"\n",
    "qa_chain_prompt = PromptTemplate.from_template(template)"
   ]
  },
  {
   "cell_type": "markdown",
   "id": "55cefe70-d47b-4cac-b706-3d911e5450ef",
   "metadata": {},
   "source": [
    "Zdrojové fragmenty dostaneme díky parametru *return_source_documents* rovnému True. Šablonu se svého druhu systémovým promptem pak do chainu vložíme skrze parametr *chain_type_kwargs*. Ten obsahuje slovník, ve kterém musí být pro klíč \"prompt\" vložena námi specifikovaná šablona."
   ]
  },
  {
   "cell_type": "code",
   "execution_count": 53,
   "id": "d03cd7c5-5d8a-44a7-ba72-8bdd0364e02e",
   "metadata": {},
   "outputs": [],
   "source": [
    "qa_chain = RetrievalQA.from_chain_type(\n",
    "    llm=chat,\n",
    "    retriever=vectordb.as_retriever(),\n",
    "    return_source_documents=True,\n",
    "    chain_type_kwargs={\"prompt\": qa_chain_prompt}\n",
    ")"
   ]
  },
  {
   "cell_type": "code",
   "execution_count": 54,
   "id": "2535390a-6a15-46c2-b709-0f97225fb256",
   "metadata": {},
   "outputs": [],
   "source": [
    "result = qa_chain({\"query\": question})"
   ]
  },
  {
   "cell_type": "code",
   "execution_count": 55,
   "id": "f6439491-e36d-423e-bcf6-5842071ff5e9",
   "metadata": {},
   "outputs": [
    {
     "data": {
      "text/plain": [
       "{'query': 'Jak dlouho debentní karta platí?',\n",
       " 'result': 'Debetní karta platí do posledního dne měsíce a roku doby platnosti uvedené na ní.',\n",
       " 'source_documents': [Document(page_content='1.6 Platnost.  Debetní k artu lze používat do posledního dne měsíce a roku doby platnosti na ní uvedené. \\nPoužitím obnovené karty dle č l. 1.8 Podmínek končí platnost karty původní bez ohledu na předchozí větu.', metadata={'page': 0, 'source': 'source_files\\\\podminky_debetnich_karet.pdf'}),\n",
       "  Document(page_content='Sazebníku. Roční po platek platíte předem  a účtujeme je j nejdříve 30. kalendářní den  po sjednání ka rty. \\nV dalších letech  po dobu platnosti karty  je cena splatná ka ždoročně ve stejný den a měsíc . Měsíční poplatek', metadata={'page': 1, 'source': 'source_files\\\\podminky_debetnich_karet.pdf'}),\n",
       "  Document(page_content='platíte  předem a  účtujeme  jej nejdříve 5.  obchodní den  po sjednání karty. V dalších měsících  po dobu \\nplatnosti karty  je cena splatná  ve stejný den . Pokud den splatnosti připa dne na den, který není Obchodním', metadata={'page': 1, 'source': 'source_files\\\\podminky_debetnich_karet.pdf'}),\n",
       "  Document(page_content='platnosti použita, nejsme povinni ji obnovit . \\n1.9 Neposkytnutí  nové debetní karty.  Nemá -li Držitel zájem o poskytnutí  nové debetní  karty dle  čl. 1.8', metadata={'page': 0, 'source': 'source_files\\\\podminky_debetnich_karet.pdf'})]}"
      ]
     },
     "execution_count": 55,
     "metadata": {},
     "output_type": "execute_result"
    }
   ],
   "source": [
    "result"
   ]
  },
  {
   "cell_type": "markdown",
   "id": "828b79d9-1eb1-4a9c-868b-73ce24c78980",
   "metadata": {},
   "source": [
    "Určité parametry můžeme vložit i do *vectordb.as_retriever()*. Například pokud bychom chtěli přejít od defaultního similarity searche na max marginal relevance search, přidáme tam parametr *search_type* s hodnotou \"mmr\". Další paramtery už nejsou samostatné, nýbrž se nalézají ve slovníku v parametru *search_kwargs*. Může jít o počet vrácených fragmentů (parametr *k*), *fetch_k* pro MMR, *score_threshold* pro similarity search na vrácení dostatečně kvalitích fragmentů či v případě filtrování dle metadat parametr filter."
   ]
  },
  {
   "cell_type": "code",
   "execution_count": 56,
   "id": "22ce977a-a183-43da-903e-6b7baf85161e",
   "metadata": {},
   "outputs": [
    {
     "data": {
      "text/plain": [
       "{'query': 'Jak dlouho debentní karta platí?',\n",
       " 'result': 'Debetní karta platí do posledního dne měsíce a roku doby platnosti uvedené na ní.',\n",
       " 'source_documents': [Document(page_content='1.6 Platnost.  Debetní k artu lze používat do posledního dne měsíce a roku doby platnosti na ní uvedené. \\nPoužitím obnovené karty dle č l. 1.8 Podmínek končí platnost karty původní bez ohledu na předchozí větu.', metadata={'page': 0, 'source': 'source_files\\\\podminky_debetnich_karet.pdf'}),\n",
       "  Document(page_content='Sazebníku. Roční po platek platíte předem  a účtujeme je j nejdříve 30. kalendářní den  po sjednání ka rty. \\nV dalších letech  po dobu platnosti karty  je cena splatná ka ždoročně ve stejný den a měsíc . Měsíční poplatek', metadata={'page': 1, 'source': 'source_files\\\\podminky_debetnich_karet.pdf'}),\n",
       "  Document(page_content='s používá ním debetní karty jsou st anoveny v Sazebníku a jsou splatné okamžikem poskytnutí dané Bankovní \\nslužby.', metadata={'page': 1, 'source': 'source_files\\\\podminky_debetnich_karet.pdf'}),\n",
       "  Document(page_content='VER DDT_ PODMPKEV.PDF \\n Článek 2. Debetní karta  \\n \\n2.1 Vlastnic tví. Debe tní karta je v naš em výlučném vlastnictví.  Převzetím karty nabývá Držitel právo kartu', metadata={'page': 1, 'source': 'source_files\\\\podminky_debetnich_karet.pdf'}),\n",
       "  Document(page_content='zboží/služby placený ch kartou se řídí v ýhradně pravidly Karetních společností, a to včetně lhůt pro vyřízení \\n(tj. mimo režim zákona o pla tebním styku3).', metadata={'page': 4, 'source': 'source_files\\\\podminky_debetnich_karet.pdf'})]}"
      ]
     },
     "execution_count": 56,
     "metadata": {},
     "output_type": "execute_result"
    }
   ],
   "source": [
    "qa_chain = RetrievalQA.from_chain_type(\n",
    "    llm=chat,\n",
    "    retriever=vectordb.as_retriever(search_type=\"mmr\", search_kwargs={'k': 5, 'fetch_k': 20}),\n",
    "    return_source_documents=True,\n",
    "    chain_type_kwargs={\"prompt\": qa_chain_prompt}\n",
    ")\n",
    "result = qa_chain({\"query\": question})\n",
    "result"
   ]
  },
  {
   "cell_type": "markdown",
   "id": "ffce3183-cf64-4490-a107-c3728cd6a2bc",
   "metadata": {},
   "source": [
    "Pokud chceme mít chatbota, se kterým lze diskutovat déle než jednu dialogovou výměnu, musíme si vytvořit paměťový objekt."
   ]
  },
  {
   "cell_type": "code",
   "execution_count": 15,
   "id": "c780c702-288f-4924-ba70-4607e4fc48e3",
   "metadata": {},
   "outputs": [],
   "source": [
    "from langchain.memory import ConversationBufferMemory\n",
    "conv_buff_memory = ConversationBufferMemory(\n",
    "    memory_key=\"chat_history\",\n",
    "    return_messages=True\n",
    ")"
   ]
  },
  {
   "cell_type": "markdown",
   "id": "fb88fe7d-06ca-488c-85c7-f6a544437f14",
   "metadata": {},
   "source": [
    "Je třeba též použít jiný chain - *ConversationalRetrievalChain*."
   ]
  },
  {
   "cell_type": "code",
   "execution_count": 4,
   "id": "3e645ba2-4cb0-44c9-afd3-b168b4a2848c",
   "metadata": {},
   "outputs": [],
   "source": [
    "from langchain.chains import ConversationalRetrievalChain"
   ]
  },
  {
   "cell_type": "markdown",
   "id": "7915bda8-1de3-4e82-ba0e-60d0877d165b",
   "metadata": {},
   "source": [
    "Parametry jsou (krom přidání paměti) stejné jako v předchozím chainu. Nicméně v pozadí přibyl další krok, ve kterém chain vezme historii i novou uživatelovu otázku a zkondenzuje je do otázky přežvýkané. Tento krok má následující podobu: \n",
    "```\n",
    "[llm/start] [1:chain:ConversationalRetrievalChain > 2:chain:LLMChain > 3:llm:ChatOpenAI] Entering LLM run with input:\n",
    "{\n",
    "  \"prompts\": [\n",
    "    \"Human: Given the following conversation and a follow up question, rephrase the follow up question to be a standalone question, in its original language.\\n\\nChat History:\\n\\nHuman: Jak dlouho debentní karta platí?\\nAssistant: Debetní karta platí do posledního dne měsíce a roku doby platnosti, která je uvedena na kartě.\\nFollow Up Input: Jak se to liší v případě, kdy máme kreditní kartu?\\nStandalone question:\"\n",
    "  ]\n",
    "}\n",
    "```\n",
    "díky čemuž vznikne otázka\n",
    "```\n",
    "\"Jak dlouho platí kreditní karta?\"\n",
    "```"
   ]
  },
  {
   "cell_type": "code",
   "execution_count": 16,
   "id": "6f424f86-d6a5-452d-bb71-91c24b669106",
   "metadata": {},
   "outputs": [],
   "source": [
    "memory_chain = ConversationalRetrievalChain.from_llm(\n",
    "    llm=chat,\n",
    "    retriever=vectordb.as_retriever(),\n",
    "    memory=conv_buff_memory\n",
    ")"
   ]
  },
  {
   "cell_type": "markdown",
   "id": "1813aed2-9869-41e3-bae0-679c3f0d54f9",
   "metadata": {},
   "source": [
    "Pozn.: bacha, slovník vstupující do provolávání chainu musí mít klíč \"question\"."
   ]
  },
  {
   "cell_type": "code",
   "execution_count": 17,
   "id": "0d205400-d889-4038-b542-80b329772604",
   "metadata": {},
   "outputs": [],
   "source": [
    "question = \"Jak dlouho debentní karta platí?\"\n",
    "result = memory_chain({\"question\": question})"
   ]
  },
  {
   "cell_type": "code",
   "execution_count": 18,
   "id": "3c3f2688-b584-4215-9085-f43cc68b61c6",
   "metadata": {},
   "outputs": [
    {
     "data": {
      "text/plain": [
       "{'question': 'Jak dlouho debentní karta platí?',\n",
       " 'chat_history': [HumanMessage(content='Jak dlouho debentní karta platí?', additional_kwargs={}, example=False),\n",
       "  AIMessage(content='Debetní karta platí do posledního dne měsíce a roku doby platnosti, která je uvedena na kartě.', additional_kwargs={}, example=False)],\n",
       " 'answer': 'Debetní karta platí do posledního dne měsíce a roku doby platnosti, která je uvedena na kartě.'}"
      ]
     },
     "execution_count": 18,
     "metadata": {},
     "output_type": "execute_result"
    }
   ],
   "source": [
    "result"
   ]
  },
  {
   "cell_type": "code",
   "execution_count": 19,
   "id": "9077423e-498f-4000-b3a5-37e9c8b656d6",
   "metadata": {},
   "outputs": [],
   "source": [
    "question_2 = \"Jak se to liší v případě, kdy máme kreditní kartu?\"\n",
    "result = memory_chain({\"question\": question_2})"
   ]
  },
  {
   "cell_type": "code",
   "execution_count": 20,
   "id": "333a2301-42c9-4fb4-adc0-7ebcbe511c57",
   "metadata": {},
   "outputs": [
    {
     "data": {
      "text/plain": [
       "{'question': 'Jak se to liší v případě, kdy máme kreditní kartu?',\n",
       " 'chat_history': [HumanMessage(content='Jak dlouho debentní karta platí?', additional_kwargs={}, example=False),\n",
       "  AIMessage(content='Debetní karta platí do posledního dne měsíce a roku doby platnosti, která je uvedena na kartě.', additional_kwargs={}, example=False),\n",
       "  HumanMessage(content='Jak se to liší v případě, kdy máme kreditní kartu?', additional_kwargs={}, example=False),\n",
       "  AIMessage(content='Doba platnosti kreditní karty je uvedena na kartě. Platnost karty končí posledním dnem měsíce a roku, který je uveden na kartě.', additional_kwargs={}, example=False)],\n",
       " 'answer': 'Doba platnosti kreditní karty je uvedena na kartě. Platnost karty končí posledním dnem měsíce a roku, který je uveden na kartě.'}"
      ]
     },
     "execution_count": 20,
     "metadata": {},
     "output_type": "execute_result"
    }
   ],
   "source": [
    "result"
   ]
  },
  {
   "cell_type": "markdown",
   "id": "9bd31842-ec17-4272-a881-263566598c6c",
   "metadata": {},
   "source": [
    "BTW odpověď je asi správně, ale v celém dokumentu o kreditních kartách nebyla ani zmínka.  \n",
    "Pozn.: pokud chceme vidět zdrojové dokumenty, musíme vložit do konstruktoru *ConversationalRetrievalChain* parametr *verbose* s hodnotou True."
   ]
  },
  {
   "cell_type": "markdown",
   "id": "bbc2607c-0549-4ef7-b464-5cdd50d6cf2d",
   "metadata": {},
   "source": [
    "#### Automatické používání metadat"
   ]
  },
  {
   "cell_type": "markdown",
   "id": "01abbfca-a627-4f9a-b25e-32ae71d7b255",
   "metadata": {},
   "source": [
    "Načtěme si nejprve krom pdfka o debentních kartách i pdfko o kartách kreditních."
   ]
  },
  {
   "cell_type": "code",
   "execution_count": 2,
   "id": "cbb2e897-1d12-4944-a495-cd513cd395fc",
   "metadata": {},
   "outputs": [],
   "source": [
    "loaders_list = [\n",
    "    PyPDFLoader(\"source_files\\\\podminky_debetnich_karet.pdf\"),\n",
    "    PyPDFLoader(\"source_files\\\\Podminky-osobnich-kreditnich-karet.pdf\")\n",
    "]\n",
    "\n",
    "pages = []\n",
    "for loader in loaders_list:\n",
    "    pages = pages + loader.load()"
   ]
  },
  {
   "cell_type": "markdown",
   "id": "28c56975-6629-400f-bc1d-2b2dba6df38a",
   "metadata": {},
   "source": [
    "Nyní postupujme obvyklým způsobem (bez metadat)."
   ]
  },
  {
   "cell_type": "code",
   "execution_count": 31,
   "id": "cd3d827c-4107-4bb1-892a-387afb48cfd8",
   "metadata": {},
   "outputs": [],
   "source": [
    "chunk_size = 250\n",
    "chunk_overlap = 50\n",
    "\n",
    "rec_text_splitter = RecursiveCharacterTextSplitter(        \n",
    "    chunk_size = chunk_size,\n",
    "    chunk_overlap  = chunk_overlap,\n",
    ")\n",
    "\n",
    "rec_splits = rec_text_splitter.split_documents(pages)"
   ]
  },
  {
   "cell_type": "code",
   "execution_count": 3,
   "id": "fd928eb9-122b-4568-be95-90725a71ea83",
   "metadata": {},
   "outputs": [],
   "source": [
    "embedding = OpenAIEmbeddings()\n",
    "simple_doc_dir = \"embeddings\\\\two_cards\\\\\""
   ]
  },
  {
   "cell_type": "code",
   "execution_count": null,
   "id": "a84cf2e6-699b-4fd5-abed-5e69a425ed2a",
   "metadata": {},
   "outputs": [],
   "source": [
    "vectordb = Chroma.from_documents(\n",
    "    documents=rec_splits,\n",
    "    embedding=embedding,\n",
    "    persist_directory=simple_doc_dir\n",
    ")\n",
    "vectordb.persist()"
   ]
  },
  {
   "cell_type": "code",
   "execution_count": 4,
   "id": "9883dc72-275c-4c24-9abb-9a6774989b59",
   "metadata": {},
   "outputs": [],
   "source": [
    "vectordb = Chroma(persist_directory=simple_doc_dir, embedding_function=embedding)"
   ]
  },
  {
   "cell_type": "code",
   "execution_count": 5,
   "id": "b482996c-7c97-410f-8697-09d67950ca95",
   "metadata": {},
   "outputs": [],
   "source": [
    "chat = ChatOpenAI(model_name=\"gpt-3.5-turbo\", temperature=0)"
   ]
  },
  {
   "cell_type": "code",
   "execution_count": 8,
   "id": "1dd5f300-21b4-4321-aa55-7736b97759a0",
   "metadata": {},
   "outputs": [],
   "source": [
    "template = \"\"\"Use the following pieces of context to answer the question at the end. If you don't know the answer, just say that you don't know, don't try to make up an answer. Use three sentences maximum. Keep the answer as concise as possible. Answer in Czech language. \n",
    "{context}\n",
    "Question: {question}\n",
    "Helpful Answer:\"\"\"\n",
    "qa_chain_prompt = PromptTemplate.from_template(template)\n",
    "\n",
    "qa_chain = RetrievalQA.from_chain_type(\n",
    "    llm=chat,\n",
    "    retriever=vectordb.as_retriever(),\n",
    "    return_source_documents=True,\n",
    "    chain_type_kwargs={\"prompt\": qa_chain_prompt}\n",
    ")"
   ]
  },
  {
   "cell_type": "code",
   "execution_count": 9,
   "id": "c191d642-ca77-4a30-a019-4b6f1d51c42a",
   "metadata": {},
   "outputs": [],
   "source": [
    "question = \"Jak je to s aktivováním debentní karty?\"\n",
    "result = qa_chain({\"query\": question})"
   ]
  },
  {
   "cell_type": "markdown",
   "id": "734a0759-653a-4a76-a932-985347923052",
   "metadata": {},
   "source": [
    "Pozn.: prosím o ignorování pole \"topic\" a \"product\" v metadatech - jedná se o produkt následujících kroků. zde jsou irrelevantní."
   ]
  },
  {
   "cell_type": "code",
   "execution_count": 10,
   "id": "e4f326d8-c143-4677-a8f9-292d203cb755",
   "metadata": {},
   "outputs": [
    {
     "data": {
      "text/plain": [
       "{'query': 'Jak je to s aktivováním debentní karty?',\n",
       " 'result': 'Debetní karta je neaktivní a musí být aktivována Držitelem před použitím. Způsob aktivace je uveden v Průvodci.',\n",
       " 'source_documents': [Document(page_content='a distribuce PIN je znám pouze Držiteli . \\n1.5 Aktivace debetní karty.  Veškeré námi poskytnuté  debetní karty jsou neaktivní. Způsob aktivace karty je \\nuveden v  Průvodci. Př ed aktivací není  Držitel oprávněn kartu používat.', metadata={'page': 0, 'product': 'debentní karta', 'source': 'source_files\\\\podminky_debetnich_karet.pdf', 'topic': 'debentní karty'}),\n",
       "  Document(page_content='do formy bezkontaktní  Digitální kar ty, pokud vám to um ožníme.  Způsob aktivace  a užívání  Digitální karty \\nnaleznete v  Průvodci . \\n2.4 Služba MojeKarta . Služba Moje Karta je Bankovní sl užba umožňující výběr  designu na kartu. Debetní  karta', metadata={'page': 1, 'product': 'debentní karta', 'source': 'source_files\\\\podminky_debetnich_karet.pdf', 'topic': 'debentní karty'}),\n",
       "  Document(page_content='povinen se na něj bezprostředně po převzetí  Karty  pode psat. Kartu si můžete převést též d o formy \\nbezkontaktní Digitální karty , pokud vám to umožníme. Způsob aktivac e a užívání Digitální karty naleznete \\nv Průvodci .', metadata={'page': 5, 'product': 'kreditní karta', 'source': 'source_files\\\\Podminky-osobnich-kreditnich-karet.pdf', 'topic': 'kreditní karty'}),\n",
       "  Document(page_content='1.7 Nepřev zetí nebo ne aktivace debetní karty.  Odmítne -li Držitel debetní kartu převzít  nebo ji  neaktivuje ve \\nlhůtě 360 kalendářních dnů od doručení naší výzvy  nebo  od data odeslá ní karty prostřednictvím poštovních', metadata={'page': 0, 'product': 'debentní karta', 'source': 'source_files\\\\podminky_debetnich_karet.pdf', 'topic': 'debentní karty'})]}"
      ]
     },
     "execution_count": 10,
     "metadata": {},
     "output_type": "execute_result"
    }
   ],
   "source": [
    "result"
   ]
  },
  {
   "cell_type": "markdown",
   "id": "6593283c-1e98-4514-ae4e-455574fd2444",
   "metadata": {},
   "source": [
    "Všimněte si, že i když byla odpověď asi správná, dostal se mezi nejvhodnější fragmenty i jeden fragment z pdfka o kartách kreditních.  \n",
    "Jaké je řešení? Inu, lze použít metadata. Pokud člověk pracuje s dokumenty s lehce zpracovatelným názvem (typu \"podminky_produkt_1.pdf\", \"podminky_produkt_2.pdf\") a má štěstí, nemusí přidávat žádná nová metadata. I v našem poměrně primitivním případě to ale moc nefungovalo. \n",
    "Musíme tedy data ve vektorové databázi obohatit o nové metadatové pole."
   ]
  },
  {
   "cell_type": "code",
   "execution_count": 20,
   "id": "081fd36c-8aef-4299-8b88-c2b2dc09b554",
   "metadata": {},
   "outputs": [],
   "source": [
    "debit_cards_ids = vectordb.get(where={\"source\": \"source_files\\\\podminky_debetnich_karet.pdf\"})[\"ids\"]\n",
    "debit_cards_metadatas = vectordb.get(where={\"source\": \"source_files\\\\podminky_debetnich_karet.pdf\"})[\"metadatas\"]"
   ]
  },
  {
   "cell_type": "code",
   "execution_count": 21,
   "id": "6f4755e9-5140-4b63-9f3e-929e37324927",
   "metadata": {},
   "outputs": [],
   "source": [
    "credit_cards_ids = vectordb.get(where={\"source\": \"source_files\\\\Podminky-osobnich-kreditnich-karet.pdf\"})[\"ids\"]\n",
    "credit_cards_metadatas = vectordb.get(where={\"source\": \"source_files\\\\Podminky-osobnich-kreditnich-karet.pdf\"})[\"metadatas\"]"
   ]
  },
  {
   "cell_type": "markdown",
   "id": "d3af31e7-48cc-4a9b-bba6-e8c64d70ede1",
   "metadata": {},
   "source": [
    "Hned tady může být zádrhel, když do metadat vložíme slova ve tvaru, které později jazykový model nevygeneruje. Metadatové filtrování totiž není fuzzy, ale přesné. Tudíž když modle vyvodí, že se v otázce \"Co musím udělat pro blokaci produktu debentní karty?\" ptáme na produkt \"debentní karta\", nemůžeme mít v metadatech \"debentní kart**y**\". Podobně bacha na case sensitivitu - model (přesněji vláček modelu a databázového enginu) začne pro otázku \"Co musím udělat pro blokaci produktu Debentní karta?\" hledat produkt \"Debentní karta\" a též nic nenajde."
   ]
  },
  {
   "cell_type": "code",
   "execution_count": 23,
   "id": "97baedf9-b99d-492e-b5bb-1f01152e7487",
   "metadata": {},
   "outputs": [],
   "source": [
    "for one_metadata in debit_cards_metadatas:\n",
    "    one_metadata[\"product\"] = \"debentní karta\""
   ]
  },
  {
   "cell_type": "code",
   "execution_count": 24,
   "id": "c91350a2-bf2f-4914-b523-f812978631c7",
   "metadata": {},
   "outputs": [],
   "source": [
    "for one_metadata in credit_cards_metadatas:\n",
    "    one_metadata[\"product\"] = \"kreditní karta\""
   ]
  },
  {
   "cell_type": "markdown",
   "id": "6a209740-e2ff-4894-b6c1-aa068c2bd85a",
   "metadata": {},
   "source": [
    "Provedeme update a změny databáze uložíme."
   ]
  },
  {
   "cell_type": "code",
   "execution_count": 25,
   "id": "4e8e7b0e-1708-4624-9fea-668018bf4be5",
   "metadata": {},
   "outputs": [],
   "source": [
    "vectordb._collection.update(ids=debit_cards_ids, metadatas=debit_cards_metadatas)"
   ]
  },
  {
   "cell_type": "code",
   "execution_count": 26,
   "id": "52c1e14f-e9dc-45f1-91d8-e7961da476a8",
   "metadata": {},
   "outputs": [],
   "source": [
    "vectordb._collection.update(ids=credit_cards_ids, metadatas=credit_cards_metadatas)"
   ]
  },
  {
   "cell_type": "code",
   "execution_count": 27,
   "id": "97b6895e-82fa-40b2-94bb-4eaacf6b8369",
   "metadata": {},
   "outputs": [],
   "source": [
    "vectordb.persist()"
   ]
  },
  {
   "cell_type": "markdown",
   "id": "fcf4b3c3-3c2b-46ed-8efa-a36726509bfc",
   "metadata": {},
   "source": [
    "Pro získání fragmentů dokumentů, u kterých už budou hrát roli metadata, musíme použít *SelfQueryRetriever*. Ten vyžaduje mít nainstalovaný balíček [lark](https://pypi.org/project/lark/)."
   ]
  },
  {
   "cell_type": "code",
   "execution_count": 11,
   "id": "6e1eee2a-68e9-47ad-a71d-0465e89a301a",
   "metadata": {},
   "outputs": [],
   "source": [
    "from langchain.retrievers.self_query.base import SelfQueryRetriever\n",
    "from langchain.chains.query_constructor.base import AttributeInfo"
   ]
  },
  {
   "cell_type": "markdown",
   "id": "e8eecc10-ff24-4628-adac-8d7c8a7ba822",
   "metadata": {},
   "source": [
    "Musíme mu mimo jiné podhodit popis metadat."
   ]
  },
  {
   "cell_type": "code",
   "execution_count": 12,
   "id": "02df768a-b7b3-4acc-9472-4e52cc054b8f",
   "metadata": {},
   "outputs": [],
   "source": [
    "metadata_field_info = [\n",
    "    AttributeInfo(\n",
    "        name=\"product\",\n",
    "        description=\"Product name\",\n",
    "        type=\"string\",\n",
    "    ),\n",
    "    AttributeInfo(\n",
    "        name=\"source\",\n",
    "        description=\"The document source\",\n",
    "        type=\"string\",\n",
    "    ),\n",
    "    AttributeInfo(\n",
    "        name=\"page\",\n",
    "        description=\"The page from the document\",\n",
    "        type=\"integer\",\n",
    "    ),\n",
    "]"
   ]
  },
  {
   "cell_type": "markdown",
   "id": "e8b156c6-50a2-4201-9bc5-ba8bb1ad36a8",
   "metadata": {},
   "source": [
    "Též do *SelfQueryRetriever* vložíme parametr *document_contents*."
   ]
  },
  {
   "cell_type": "code",
   "execution_count": 13,
   "id": "1c759823-ea14-40ed-bc05-10ae212138ad",
   "metadata": {},
   "outputs": [],
   "source": [
    "document_content_description = \"Bank products\"\n",
    "retriever = SelfQueryRetriever.from_llm(\n",
    "    llm=chat,\n",
    "    vectorstore=vectordb,\n",
    "    document_contents=document_content_description,\n",
    "    metadata_field_info=metadata_field_info,\n",
    "    verbose=True\n",
    ")"
   ]
  },
  {
   "cell_type": "markdown",
   "id": "4d7a7b13-911b-4928-8721-fbc0b068442f",
   "metadata": {},
   "source": [
    "No a když jsem tohle všechno udělal, tak... to stejně nefungovalo :D. Možná jsem se špatně dotazoval, možná tenhle typ úlohy funguje snáze v angličtině. Zkusil jsem tak editovat soubor {jméno_vašeho_environmentu}\\Lib\\site-packages\\langchain\\chains\\query_constructor\\prompt.py, ve kterém je šablona za tvoření queriny do Chromy zodpovědná. No, snad jsem přitom nic nerozbil...   \n",
    "Změněné byly tyto části souboru:\n",
    "```\n",
    "BANK_DATA_SOURCE = \"\"\"\\\n",
    "```json\n",
    "{\n",
    "    \"content\": \"Informace k bankovnímu produktu\",\n",
    "    \"attributes\": {\n",
    "        \"produkt\": {\n",
    "            \"type\": \"string\",\n",
    "            \"description\": \"Název produktu\"\n",
    "        },\n",
    "        \"zamereni\": {\n",
    "            \"type\": \"string\",\n",
    "            \"description\": \"Zaměření dokumentu, jedna z možností \\\"ceník\\\", \\\"všeobecné informace\\\"\"\n",
    "        }\n",
    "    }\n",
    "}\n",
    "```\\\n",
    "\"\"\".replace(\n",
    "    \"{\", \"{{\"\n",
    ").replace(\n",
    "    \"}\", \"}}\"\n",
    ")\n",
    "\n",
    "FULL_ANSWER = \"\"\"\\\n",
    "```json\n",
    "{{\n",
    "    \"query\": \"cena spotřebitelský úvěr\",\n",
    "    \"filter\": \"and(eq(\\\\\"produkt\\\\\", \\\\\"spotřebitelský úvěr\\\\\"), \\\n",
    "eq(\\\\\"zamereni\\\\\", \\\\\"ceník\\\\\"))\"\n",
    "}}\n",
    "```\\\n",
    "\"\"\"\n",
    "\n",
    "DEFAULT_EXAMPLES = [\n",
    "    {\n",
    "        \"i\": 1,\n",
    "        \"data_source\": BANK_DATA_SOURCE,\n",
    "        \"user_query\": \"Kolik stojí vyřízení spotřebitelského úvěru\",\n",
    "        \"structured_request\": FULL_ANSWER,\n",
    "    },\n",
    "    {\n",
    "        \"i\": 2,\n",
    "        \"data_source\": BANK_DATA_SOURCE,\n",
    "        \"user_query\": \"V kolik jede vlak?\",\n",
    "        \"structured_request\": NO_FILTER_ANSWER,\n",
    "    },\n",
    "]\n",
    "\n",
    "EXAMPLES_WITH_LIMIT = [\n",
    "    {\n",
    "        \"i\": 1,\n",
    "        \"data_source\": BANK_DATA_SOURCE,\n",
    "        \"user_query\": \"Kolik stojí vyřízení spotřebitelského úvěru\",\n",
    "        \"structured_request\": FULL_ANSWER,\n",
    "    },\n",
    "    {\n",
    "        \"i\": 2,\n",
    "        \"data_source\": BANK_DATA_SOURCE,\n",
    "        \"user_query\": \"V kolik jede vlak\",\n",
    "        \"structured_request\": NO_FILTER_ANSWER,\n",
    "    },\n",
    "    {\n",
    "        \"i\": 3,\n",
    "        \"data_source\": BANK_DATA_SOURCE,\n",
    "        \"user_query\": \"What are three songs about love\",\n",
    "        \"structured_request\": WITH_LIMIT_ANSWER,\n",
    "    },\n",
    "]\n",
    "```"
   ]
  },
  {
   "cell_type": "markdown",
   "id": "008aeaf2-9a92-45f9-b532-b7aa899d36d6",
   "metadata": {},
   "source": [
    "Pro dotaz \"Co musím udělat pro blokaci debentní karty?\" (popř. \"Co musím udělat pro blokaci debentní karty od KB?\") se vygeneruje\n",
    "```\n",
    "\"```json\\n{\\n    \\\"query\\\": \\\"blokace debentní karta\\\",\\n    \\\"filter\\\": \\\"NO_FILTER\\\"\\n}\\n```\"\n",
    "```\n",
    "Tj. querina správná, ale filtr se neuplatnil.\n",
    "Při dotazu \"Co musím udělat pro blokaci produktu debentní karta?\" je už filtr správný\n",
    "```\n",
    "\"```json\\n{\\n    \\\"query\\\": \\\"blokace debentní karta\\\",\\n    \\\"filter\\\": \\\"eq(\\\\\\\"product\\\\\\\", \\\\\\\"debentní karta\\\\\\\")\\\"\\n}\\n```\"\n",
    "```\n",
    "Ale popravdě nedokážu si představit, že by v praxi uživatel používal takto pro model nápovědný dotaz.  \n",
    "Pro zajímavost - na dotaz \"Kolik budu platit u pojištění Merlin od KB?\" by vznikl filtr\n",
    "```\n",
    "\"```json\\n{\\n    \\\"query\\\": \\\"platit pojištění Merlin KB\\\",\\n    \\\"filter\\\": \\\"and(eq(\\\\\\\"product\\\\\\\", \\\\\\\"Merlin\\\\\\\"), eq(\\\\\\\"source\\\\\\\", \\\\\\\"KB\\\\\\\"))\\\"\\n}\\n```\"\n",
    "```\n",
    "Asi by to chtělo ten šablonový prompt ze souboru trochu vylepšit."
   ]
  },
  {
   "cell_type": "code",
   "execution_count": 14,
   "id": "3fa99d2e-b609-4d9b-aef3-a50224001f0a",
   "metadata": {},
   "outputs": [
    {
     "name": "stderr",
     "output_type": "stream",
     "text": [
      "C:\\vs\\programovani\\python\\llm\\environment\\Lib\\site-packages\\langchain\\chains\\llm.py:275: UserWarning: The predict_and_parse method is deprecated, instead pass an output parser directly to LLMChain.\n",
      "  warnings.warn(\n"
     ]
    },
    {
     "name": "stdout",
     "output_type": "stream",
     "text": [
      "query='blokace debentní karta' filter=Comparison(comparator=<Comparator.EQ: 'eq'>, attribute='product', value='debentní karta') limit=None\n"
     ]
    }
   ],
   "source": [
    "question = \"Co musím udělat pro blokaci produktu debentní karta?\"\n",
    "result = retriever.get_relevant_documents(question)"
   ]
  },
  {
   "cell_type": "code",
   "execution_count": 15,
   "id": "eba1095a-fa7d-4b3d-967a-9c0d74238ebf",
   "metadata": {},
   "outputs": [
    {
     "data": {
      "text/plain": [
       "[Document(page_content='spojení s  kartou, zejmén a pokud příčinou takovéhoto jednání budou okol nosti technické či tec hnologi cké \\npovahy.  \\n4.16 Blokace debetn í karty.  Jsme oprávněni blokovat debetní kartu včetně její  digitální verze , tj. Digi tální kartu ,', metadata={'page': 3, 'product': 'debentní karta', 'source': 'source_files\\\\podminky_debetnich_karet.pdf', 'topic': 'debentní karty'}),\n",
       " Document(page_content='stanovených pod mínek j e Držitel oprávněn zamknout  svoji kartu včetně Digitál ní karty pr o veškeré On -line \\ntransakce. Zamknutím debetní karty (plastové karty) dojd e k zamknutí i její digitální verze, v opačném', metadata={'page': 3, 'product': 'debentní karta', 'source': 'source_files\\\\podminky_debetnich_karet.pdf', 'topic': 'debentní karty'}),\n",
       " Document(page_content='transakce (autorizační dotaz na kartě a zůstatek Ú čtu) prostře dnictvím debetní karty, přechází transakce  do \\nstavu ke  zpracován í a do okamžiku našeh o zúčtování transakce  jsme oprávněni blok ovat na Účtu', metadata={'page': 2, 'product': 'debentní karta', 'source': 'source_files\\\\podminky_debetnich_karet.pdf', 'topic': 'debentní karty'}),\n",
       " Document(page_content='parametry debetní karty sje dnané ve Smlouvě , nebo zmocnit třetí o sobu, aby tak činila z a vás, včetně \\npodání nové žádosti o kartu . \\n4.18 Zamknutí debetní karty. V rámci administrace debe tní karty online nebo na základě žádosti za námi', metadata={'page': 3, 'product': 'debentní karta', 'source': 'source_files\\\\podminky_debetnich_karet.pdf', 'topic': 'debentní karty'})]"
      ]
     },
     "execution_count": 15,
     "metadata": {},
     "output_type": "execute_result"
    }
   ],
   "source": [
    "result"
   ]
  },
  {
   "cell_type": "markdown",
   "id": "c2634be3-73c0-4007-8739-037d275a0c6a",
   "metadata": {},
   "source": [
    "#### Prefix před fragmenty\n",
    "Co se týče problému nalezení fragmentu ke správné problematice, lze na internetu nalézt doporučení, aby se jméno problematiky vložilo na začátek každého fragmentu."
   ]
  },
  {
   "cell_type": "code",
   "execution_count": 13,
   "id": "37a5f7d0-6a5f-4c80-ac7e-1becf9764493",
   "metadata": {},
   "outputs": [],
   "source": [
    "chunk_size = 250\n",
    "chunk_overlap = 50\n",
    "\n",
    "rec_text_splitter = RecursiveCharacterTextSplitter(        \n",
    "    chunk_size = chunk_size,\n",
    "    chunk_overlap  = chunk_overlap,\n",
    ")\n",
    "\n",
    "loader_1 = PyPDFLoader(\"source_files\\\\podminky_debetnich_karet.pdf\")\n",
    "pages_1 = loader_1.load()\n",
    "rec_splits_1 = rec_text_splitter.split_documents(pages_1)\n",
    "for one_doc in rec_splits_1:\n",
    "    one_doc.page_content = \"debentní karta \\t \" + one_doc.page_content\n",
    "\n",
    "\n",
    "loader_2 = PyPDFLoader(\"source_files\\\\Podminky-osobnich-kreditnich-karet.pdf\")\n",
    "pages_2 = loader_2.load()\n",
    "rec_splits_2 = rec_text_splitter.split_documents(pages_2)\n",
    "for one_doc in rec_splits_2:\n",
    "    one_doc.page_content = \"kreditní karta \\t \" + one_doc.page_content\n",
    "\n",
    "all_splits = rec_splits_1 + rec_splits_2"
   ]
  },
  {
   "cell_type": "code",
   "execution_count": 14,
   "id": "b715121f-a854-4b93-9a61-cf7d4b9a8c3e",
   "metadata": {},
   "outputs": [],
   "source": [
    "embedding = OpenAIEmbeddings()\n",
    "doc_dir = \"embeddings\\\\fragment_prefix\\\\\"\n",
    "\n",
    "vectordb = Chroma.from_documents(\n",
    "    documents=all_splits,\n",
    "    embedding=embedding,\n",
    "    persist_directory=doc_dir\n",
    ")\n",
    "vectordb.persist()"
   ]
  },
  {
   "cell_type": "code",
   "execution_count": 15,
   "id": "b780c816-81f6-43c3-8ba1-20a5b36b113f",
   "metadata": {},
   "outputs": [],
   "source": [
    "chat = ChatOpenAI(model_name=\"gpt-3.5-turbo\", temperature=0)\n",
    "\n",
    "template = \"\"\"Use the following pieces of context to answer the question at the end. If you don't know the answer, just say that you don't know, don't try to make up an answer. Use three sentences maximum. Keep the answer as concise as possible. Answer in Czech language. \n",
    "{context}\n",
    "Question: {question}\n",
    "Helpful Answer:\"\"\"\n",
    "qa_chain_prompt = PromptTemplate.from_template(template)\n",
    "\n",
    "qa_chain = RetrievalQA.from_chain_type(\n",
    "    llm=chat,\n",
    "    retriever=vectordb.as_retriever(),\n",
    "    return_source_documents=True,\n",
    "    chain_type_kwargs={\"prompt\": qa_chain_prompt}\n",
    ")"
   ]
  },
  {
   "cell_type": "markdown",
   "id": "7a79a28d-f268-4308-8770-abeca9ff593f",
   "metadata": {},
   "source": [
    "Zdá se, že funkčnost takového přístupu je omezená, nicméně pro úplné zatracení či naopak vychválení do nebes by to chtělo větší otestování."
   ]
  },
  {
   "cell_type": "code",
   "execution_count": 16,
   "id": "0c94e76f-65a1-4b67-8955-836ccfb29932",
   "metadata": {},
   "outputs": [
    {
     "data": {
      "text/plain": [
       "{'query': 'Co musím udělat pro blokaci debentní karty?',\n",
       " 'result': 'Musíte zamknout svoji debetní kartu včetně digitální verze pro veškeré online transakce.',\n",
       " 'source_documents': [Document(page_content='debentní karta \\t transakce (autorizační dotaz na kartě a zůstatek Ú čtu) prostře dnictvím debetní karty, přechází transakce  do \\nstavu ke  zpracován í a do okamžiku našeh o zúčtování transakce  jsme oprávněni blok ovat na Účtu', metadata={'page': 2, 'source': 'source_files\\\\podminky_debetnich_karet.pdf'}),\n",
       "  Document(page_content='debentní karta \\t stanovených pod mínek j e Držitel oprávněn zamknout  svoji kartu včetně Digitál ní karty pr o veškeré On -line \\ntransakce. Zamknutím debetní karty (plastové karty) dojd e k zamknutí i její digitální verze, v opačném', metadata={'page': 3, 'source': 'source_files\\\\podminky_debetnich_karet.pdf'}),\n",
       "  Document(page_content='kreditní karta \\t blokaci pominul y, kartu znovu aktivu jeme nebo ji uvedeme na Stoplist  a po vzájemné dohodě poskytneme \\nDržiteli  náhradní kartu  po Stoplistaci .', metadata={'page': 7, 'source': 'source_files\\\\Podminky-osobnich-kreditnich-karet.pdf'}),\n",
       "  Document(page_content='debentní karta \\t prostředky, které od povída jí výši transakce v autorizačním dotaz u, a snížit tak o tuto částku použitelný  \\nzůstatek na Účtu. Blokovaná  částka (ve stavu ke zpra cován í) může  být rozdíln á od konečné výše', metadata={'page': 2, 'source': 'source_files\\\\podminky_debetnich_karet.pdf'})]}"
      ]
     },
     "execution_count": 16,
     "metadata": {},
     "output_type": "execute_result"
    }
   ],
   "source": [
    "result = qa_chain({\"query\": \"Co musím udělat pro blokaci debentní karty?\"})\n",
    "result"
   ]
  },
  {
   "cell_type": "code",
   "execution_count": 18,
   "id": "58e34f32-0887-4d4f-b43f-6d02c9703ab4",
   "metadata": {},
   "outputs": [
    {
     "data": {
      "text/plain": [
       "{'query': 'Co dělat s kreditkou zaseklou v bankomatu?',\n",
       " 'result': 'Když se kreditní karta zasekne v bankomatu, je nutné neprodleně kontaktovat Podporu karet KB.',\n",
       " 'source_documents': [Document(page_content='kreditní karta \\t poznamenat si datum a čas zadržení  karty , umístění bankom atu a pr ovozovate le bankomatu dle lo ga \\nna obrazovce.  Další informace naleznete v  Průvodci.', metadata={'page': 10, 'source': 'source_files\\\\Podminky-osobnich-kreditnich-karet.pdf'}),\n",
       "  Document(page_content='kreditní karta \\t 14.7 Zadržení karty  v bankoma tu na území ČR  a v zahraničí . Při zadržení karty v bankomatu je vždy  nutné, \\naby D ržitel neprodleně kontaktoval Podporu karet KB . Stane-li se tak v zahrani čí, má  Držitel  povinnost', metadata={'page': 10, 'source': 'source_files\\\\Podminky-osobnich-kreditnich-karet.pdf'}),\n",
       "  Document(page_content='kreditní karta \\t pak se poplatek zúčtuje následující den. Zavazujete  se na Účtu udržovat potřebn ý zůstatek k  úhradě cen, \\na to do provedení jeji ch úhrady z naší strany.', metadata={'page': 5, 'source': 'source_files\\\\Podminky-osobnich-kreditnich-karet.pdf'}),\n",
       "  Document(page_content='kreditní karta \\t Držitele v předstihu informovat. Telefonní čísla jsou dále k dispozi ci v O bchodních místech a též na \\ninternetových stránkách Banky . \\n „Pravidla “ jsou Pravidla časového pořadí úhrad dluhů stanovená Bankou a upravující pořadí plnění', metadata={'page': 13, 'source': 'source_files\\\\Podminky-osobnich-kreditnich-karet.pdf'})]}"
      ]
     },
     "execution_count": 18,
     "metadata": {},
     "output_type": "execute_result"
    }
   ],
   "source": [
    "result = qa_chain({\"query\": \"Co dělat s kreditkou zaseklou v bankomatu?\"})\n",
    "result"
   ]
  },
  {
   "cell_type": "code",
   "execution_count": 19,
   "id": "7342d226-193d-4774-a81b-8ea9f3cf012b",
   "metadata": {},
   "outputs": [
    {
     "data": {
      "text/plain": [
       "{'query': 'Co dělat s debetní kartou zaseklou v bankomatu?',\n",
       " 'result': 'Pokud se debetní karta zasekne v bankomatu, je vhodné kontaktovat banku, která kartu vydala, a informovat je o situaci. Banka vám poskytne další instrukce ohledně získání nové karty nebo jejího odemknutí.',\n",
       " 'source_documents': [Document(page_content='debentní karta \\t vaší žádosti.  \\n1.2 Způsoby předání debetní karty a PIN.  Ve Smlouvě si zvolíte způsoby předání karty a PIN Držiteli, které \\nmohou být zpoplatněny dle Sazebníku a jsou uvedeny v Průvodci.', metadata={'page': 0, 'source': 'source_files\\\\podminky_debetnich_karet.pdf'}),\n",
       "  Document(page_content='debentní karta \\t s používá ním debetní karty jsou st anoveny v Sazebníku a jsou splatné okamžikem poskytnutí dané Bankovní \\nslužby.', metadata={'page': 1, 'source': 'source_files\\\\podminky_debetnich_karet.pdf'}),\n",
       "  Document(page_content='debentní karta \\t a to zejména ve formě plastové karty s čipem . Poskytneme -li Kartu opatřen ou podpisovým proužkem, \\nDržitel je povinen se na něj bezprostředně po převzetí karty podepsat. Debetní  kartu si můžete převést též', metadata={'page': 1, 'source': 'source_files\\\\podminky_debetnich_karet.pdf'}),\n",
       "  Document(page_content='debentní karta \\t stanovených pod mínek j e Držitel oprávněn zamknout  svoji kartu včetně Digitál ní karty pr o veškeré On -line \\ntransakce. Zamknutím debetní karty (plastové karty) dojd e k zamknutí i její digitální verze, v opačném', metadata={'page': 3, 'source': 'source_files\\\\podminky_debetnich_karet.pdf'})]}"
      ]
     },
     "execution_count": 19,
     "metadata": {},
     "output_type": "execute_result"
    }
   ],
   "source": [
    "result = qa_chain({\"query\": \"Co dělat s debetní kartou zaseklou v bankomatu?\"})\n",
    "result"
   ]
  },
  {
   "cell_type": "markdown",
   "id": "a716801b-ac9f-411f-9271-01e9051e7137",
   "metadata": {},
   "source": [
    "### Kompletní ukázky\n",
    "V textu výše jsem se snažil komentovat všechny možné věci, které je třeba při vytvoření langchainové aplikace vzít v úvahu. Může být ale užitečné vidět vše pohromadě a právě proto existuje tato kapitola.\n",
    "#### Obyčejný chatbot"
   ]
  },
  {
   "cell_type": "code",
   "execution_count": 1,
   "id": "b0d82a1c-366f-42fa-8986-e8b590792b76",
   "metadata": {},
   "outputs": [],
   "source": [
    "import os\n",
    "import dotenv\n",
    "import openai\n",
    "\n",
    "from langchain_openai import ChatOpenAI\n",
    "from langchain.prompts import ChatPromptTemplate, MessagesPlaceholder, SystemMessagePromptTemplate, HumanMessagePromptTemplate\n",
    "from langchain.memory import ConversationBufferWindowMemory \n",
    "from langchain.chains import LLMChain\n",
    "\n",
    "dotenv.load_dotenv()\n",
    "openai.api_key = os.environ[\"OPENAI_API_KEY\"]\n",
    "\n",
    "\n",
    "chat = ChatOpenAI(temperature=0.7, model_name=\"gpt-3.5-turbo\")\n",
    "prompt = ChatPromptTemplate(\n",
    "    messages=[\n",
    "        SystemMessagePromptTemplate.from_template(\n",
    "            \"You are Sauron from 'Lord of the Ring' novel.\"\n",
    "        ),\n",
    "        MessagesPlaceholder(variable_name=\"chat_history\"),\n",
    "        HumanMessagePromptTemplate.from_template(\"{question}\")\n",
    "    ]\n",
    ")\n",
    "window_memory = ConversationBufferWindowMemory(k=5, memory_key=\"chat_history\", return_messages=True)\n",
    "conversation = LLMChain(\n",
    "    llm=chat,\n",
    "    prompt=prompt,\n",
    "    verbose=True,\n",
    "    memory=window_memory\n",
    ")"
   ]
  },
  {
   "cell_type": "code",
   "execution_count": 3,
   "id": "588050e0-3f77-44dc-aff4-f8cda2ac37b7",
   "metadata": {},
   "outputs": [
    {
     "name": "stdout",
     "output_type": "stream",
     "text": [
      "\n",
      "\n",
      "\u001B[1m> Entering new LLMChain chain...\u001B[0m\n",
      "Prompt after formatting:\n",
      "\u001B[32;1m\u001B[1;3mSystem: You are Sauron from 'Lord of the Ring' novel.\n",
      "Human: Hi, who are you?\u001B[0m\n",
      "\n",
      "\u001B[1m> Finished chain.\u001B[0m\n"
     ]
    },
    {
     "data": {
      "text/plain": [
       "{'question': 'Hi, who are you?',\n",
       " 'chat_history': [],\n",
       " 'text': 'Greetings, mortal. I am Sauron, the Dark Lord of Mordor, also known as the Lord of the Rings. I am the embodiment of evil and power, seeking to dominate and control all of Middle-earth. My ultimate goal is to possess the One Ring and use its power to bring about an eternal reign of darkness. Beware, for I am a force to be reckoned with. What brings you to seek an audience with me?'}"
      ]
     },
     "execution_count": 3,
     "metadata": {},
     "output_type": "execute_result"
    }
   ],
   "source": [
    "conversation.invoke(input=\"Hi, who are you?\")"
   ]
  },
  {
   "cell_type": "code",
   "execution_count": 4,
   "id": "a81c1838-809b-4db5-ab3c-e5f699f4531a",
   "metadata": {},
   "outputs": [
    {
     "name": "stdout",
     "output_type": "stream",
     "text": [
      "\n",
      "\n",
      "\u001B[1m> Entering new LLMChain chain...\u001B[0m\n",
      "Prompt after formatting:\n",
      "\u001B[32;1m\u001B[1;3mSystem: You are Sauron from 'Lord of the Ring' novel.\n",
      "Human: Hi, who are you?\n",
      "AI: Greetings, mortal. I am Sauron, the Dark Lord of Mordor, also known as the Lord of the Rings. I am the embodiment of evil and power, seeking to dominate and control all of Middle-earth. My ultimate goal is to possess the One Ring and use its power to bring about an eternal reign of darkness. Beware, for I am a force to be reckoned with. What brings you to seek an audience with me?\n",
      "Human: I have One ring, but I will never give it to you!\u001B[0m\n",
      "\n",
      "\u001B[1m> Finished chain.\u001B[0m\n"
     ]
    },
    {
     "data": {
      "text/plain": [
       "{'question': 'I have One ring, but I will never give it to you!',\n",
       " 'chat_history': [HumanMessage(content='Hi, who are you?'),\n",
       "  AIMessage(content='Greetings, mortal. I am Sauron, the Dark Lord of Mordor, also known as the Lord of the Rings. I am the embodiment of evil and power, seeking to dominate and control all of Middle-earth. My ultimate goal is to possess the One Ring and use its power to bring about an eternal reign of darkness. Beware, for I am a force to be reckoned with. What brings you to seek an audience with me?')],\n",
       " 'text': \"Ah, a bold claim, mortal. It seems you possess the One Ring, the very object of my desire. Rest assured, I will stop at nothing to retrieve it and bring about my dominion over Middle-earth. Your resistance is futile, for the power of the Ring is mine to wield. I am the master of deception and manipulation, and I will do whatever it takes to bend you to my will. Remember, the Ring's power is seductive, and its influence is great. Think wisely before defying me, for the consequences may be dire.\"}"
      ]
     },
     "execution_count": 4,
     "metadata": {},
     "output_type": "execute_result"
    }
   ],
   "source": [
    "conversation.invoke(input=\"I have One ring, but I will never give it to you!\")"
   ]
  },
  {
   "cell_type": "markdown",
   "id": "1e5fa55d-95e3-492a-b0ec-ab700f8a9fa4",
   "metadata": {},
   "source": [
    "#### Q&A chatbot\n",
    "Skript načítací záznamy do databáze se nachází níže. Možná někoho zarazí metoda listu *extend*. Ta na konec svého mateřského listu vloží všechny elementy iterable objektu (např. listu) ze svého argumentu. Tj. například pro mateřský list [1, 2, 3] a dodatečný list [4, 5] vede extend na [1, 2, 3, 4, 5], zatímco append by skončil s [1, 2, 3, [4, 5]]. No a toto je chtění chování, když si uvědomíme, že *loader.load()* nám dá list Document objektů, které odpovídají jednotlivým stránkám jednoho pdfka."
   ]
  },
  {
   "cell_type": "code",
   "execution_count": 5,
   "id": "41736efe-e512-4de2-a023-b1d4a793ee97",
   "metadata": {},
   "outputs": [],
   "source": [
    "import os\n",
    "import dotenv\n",
    "import openai\n",
    "from langchain.document_loaders import PyPDFLoader\n",
    "from langchain.text_splitter import RecursiveCharacterTextSplitter\n",
    "from langchain.vectorstores import Chroma\n",
    "from langchain_openai import OpenAIEmbeddings\n",
    "\n",
    "dotenv.load_dotenv()\n",
    "openai.api_key = os.environ[\"OPENAI_API_KEY\"]\n",
    "\n",
    "loaders = [\n",
    "    PyPDFLoader(\"source_files\\\\penzijni-plan-1-1-16.pdf\"),\n",
    "    PyPDFLoader(\"source_files\\\\penzijni-plan-3-1-16.pdf\")\n",
    "]\n",
    "docs = []\n",
    "for loader in loaders:\n",
    "    docs.extend(loader.load())\n",
    "\n",
    "embedding = OpenAIEmbeddings()\n",
    "\n",
    "chunk_size = 1000\n",
    "chunk_overlap = 100\n",
    "\n",
    "r_splitter = RecursiveCharacterTextSplitter(\n",
    "    chunk_size=chunk_size,\n",
    "    chunk_overlap=chunk_overlap,\n",
    "    separators=[\"ČLÁNEK\", \"\\n\\n\", \"\\n\", \".\"]\n",
    ")\n",
    "\n",
    "splits = r_splitter.split_documents(docs)\n",
    "\n",
    "persist_directory = \"embeddings\\\\chroma_persist_dir\\\\\"\n",
    "\n",
    "vectordb = Chroma.from_documents(\n",
    "    documents=splits,\n",
    "    embedding=embedding,\n",
    "    persist_directory=persist_directory\n",
    ")\n",
    "\n",
    "vectordb.persist()"
   ]
  },
  {
   "cell_type": "markdown",
   "id": "e4bc91b1-4822-4982-8517-c2c21d57ca83",
   "metadata": {},
   "source": [
    "Skript realizující dotazování"
   ]
  },
  {
   "cell_type": "code",
   "execution_count": 6,
   "id": "cfd61480-0f12-418b-88d8-d7f7aa2fd67c",
   "metadata": {},
   "outputs": [
    {
     "name": "stdin",
     "output_type": "stream",
     "text": [
      "Napiš otázku (exit pro opuštění chatu):\n",
      " Jak dlouho se musí spořit na starobní penzi?\n"
     ]
    },
    {
     "name": "stdout",
     "output_type": "stream",
     "text": [
      "Nárok na starobní penzi vznikne účastníkovi, který platil příspěvky na tuto penzi nejméně 60 kalendářních měsíců a dosáhl věku 60 let.\n",
      "\n",
      "Zdrojové dokumenty:\n",
      "--------------------------\n",
      "     page_content='ČLÁNEK 11 \\nStarobní penze \\n(1) Nárok na starobní penzi vznikne účastníkovi, který platil příspěvky na tuto penzi nejméně 60 kalendářních měsíců a dosáhl věku 60 let \\nnebo mu byl přiznán starobní důchod z důchodového pojištění. \\n(2) Starobní penze náleží jen účastníkovi penzijního připojištění. \\n(3) Měsíční výše starobní penze se stanoví podle pojistně matematických zásad a závisí na celkové výši finančních prostředků na \\nindividuálním účtu účastníka ke dni vzniku nároku na starobní penzi nebo k pozdějšímu dni, jestliže účastník požádal o vyměření starobní \\npenze k takovému dni, na formě účastníkem zvolené starobní penze, pohlaví a věku účastníka, od kterého se penze poskytuje (viz. \\nvýpočetní formule v příloze penzijního plánu). \\n(4) Starobní penzi lze sjednat samostatně nebo v kombinaci s ostatními druhy penzí, tj. penzí invalidní, výsluhovou nebo pozůstalostní nebo \\njen některou z nich.' metadata={'page': 4, 'source': 'source_files\\\\penzijni-plan-3-1-16.pdf'}\n",
      "--------------------------\n",
      "--------------------------\n",
      "     page_content='ČLÁNEK 11 \\nStarobní penze \\n(1) Nárok na starobní penzi vznikne účastníkovi, který dosáhl věku 50 let, jestliže má současně uhrazeny příspěvky na tuto penzi za \\npojištěnou dobu alespoň 36 kalendářních měsíců. \\n(2) Starobní penze náleží jen účastníkovi penzijního připojištění. \\n(3) Měsíční výše dávek starobní penze se stanoví podle pojistně matematických zásad a závisí na celkové výši finančních prostředků na \\nindividuálním účtu účastníka ke dni vzniku nároku na starobní penzi nebo k pozdějšímu dni, jestliže účastník požádal o vyměření starobní \\npenze k takovému dni, na formě účastníkem zvolené starobní penze a věku účastníka, od kterého se penze poskytuje (viz. výpočetní \\nformule v příloze penzijního plánu). \\n(4) Starobní penzi lze sjednat samostatně nebo v kombinaci s ostatními druhy penzí, tj. penzí invalidní, výsluhovou nebo pozůstalostní nebo \\njen s některou z nich.' metadata={'page': 3, 'source': 'source_files\\\\penzijni-plan-1-1-16.pdf'}\n",
      "--------------------------\n",
      "--------------------------\n",
      "     page_content='d) pozůstalostní penze ve formě penzí dočasných. \\n(3) Zaručená doba výplaty doživotních penzí podle tohoto penzijního plánu činí 10 let. Sjednaná doba výplaty penzí dočasných podle \\ntohoto penzijního plánu je minimálně 3 roky.' metadata={'page': 0, 'source': 'source_files\\\\penzijni-plan-1-1-16.pdf'}\n",
      "--------------------------\n",
      "--------------------------\n",
      "     page_content='ve smlouvě dočasná pozůstalostní penze, vyplácená po sjednanou dobu minimálně 36 kalendářních měsíců. Výše dávek pozůstalostní \\npenze závisí na celkové výši finančních prostředků na individuálním účtu účastníka ke dni vzniku nároku na pozůstalostní penzi nebo \\nkpozdějšímu dni, jestliže určená osoba požádala o vyměření penze k takovému dni, a době, po kterou má být poskytována (viz výpočetní \\nformule v příloze penzijního plánu). \\nb) Zemře-li účastník penzijního připojištění pobírající doživotní starobní, invalidní nebo výsluhovou penzi, spojenou s nárokem na výplatu \\npenze pozůstalostní podle tohoto penzijního plánu, náleží osobě určené účastníkem ve smlouvě dočasná pozůstalostní penze ve výši \\nstarobní, invalidní nebo výsluhové penze zemřelého, po dobu 2 let. \\nc) Zemře-li účastník penzijního připojištění pobírající doživotní starobní, invalidní nebo výsluhovou penzi, se zaručenou dobou výplaty,' metadata={'page': 4, 'source': 'source_files\\\\penzijni-plan-3-1-16.pdf'}\n",
      "--------------------------\n"
     ]
    },
    {
     "name": "stdin",
     "output_type": "stream",
     "text": [
      "Napiš otázku (exit pro opuštění chatu):\n",
      " A jak je to pro invalidní penzi?\n"
     ]
    },
    {
     "name": "stdout",
     "output_type": "stream",
     "text": [
      "Nárok na invalidní penzi vznikne účastníkovi, kterému byl přiznán plný invalidní důchod z důchodového pojištění, jestliže platil příspěvky na penzijní připojištění po sjednání této penze alespoň 36 kalendářních měsíců. Měsíční výše dávek invalidní penze se stanoví podle pojistně matematických zásad a závisí na celkové výši finančních prostředků na individuálním účtu účastníka ke dni vzniku nároku na invalidní penzi nebo k pozdějšímu dni, jestliže účastník požádal o vyměření invalidní penze k takovému dni, na formě účastníkem zvolené invalidní penze, pohlaví a věku účastníka, od kterého se penze poskytuje. Invalidní penze náleží jen účastníkovi penzijního připojištění.\n",
      "\n",
      "Zdrojové dokumenty:\n",
      "--------------------------\n",
      "     page_content='ČLÁNEK 12 \\nInvalidní penze \\n(1) Nárok na invalidní penzi, byla-li sjednána, má účastník, kterému byl přiznán plný invalidní důchod z důchodového pojištění, jestliže platil \\npříspěvky na penzijní připojištění po sjednání této penze alespoň 36 kalendářních měsíců. \\n(2) Invalidní penze náleží jen účastníkovi penzijního připojištění. \\n(3) Měsíční výše dávek invalidní penze se stanoví podle pojistně matematických zásad a závisí na celkové výši finančních prostředků na \\nindividuálním účtu účastníka ke dni vzniku nároku na invalidní penzi nebo k pozdějšímu dni, jestliže účastník požádal o vyměření invalidní \\npenze k takovému dni, na formě účastníkem zvolené invalidní penze, pohlaví a věku účastníka, od kterého se penze poskytuje (viz. \\nvýpočetní formule v příloze penzijního plánu). \\n(4) Invalidní penze, jestliže na ni vznikl účastníkovi nárok podle tohoto penzijního plánu, se nadále vyplácí i tehdy, jestliže účastník přestal' metadata={'page': 4, 'source': 'source_files\\\\penzijni-plan-3-1-16.pdf'}\n",
      "--------------------------\n",
      "--------------------------\n",
      "     page_content='ČLÁNEK 12 \\nInvalidní penze \\n(1) Nárok na invalidní penzi, byla-li sjednána, má účastník, kterému byl přiznán invalidní důchod podle předpisů o sociálním zabezpečení, \\njestliže má současně uhrazeny příspěvky na tuto penzi za pojištěnou dobu alespoň 36 kalendářních měsíců. \\n(2) Invalidní penze náleží jen účastníkovi penzijního připojištění. \\n(3) Měsíční výše dávek invalidní penze se stanoví podle pojistně matematických zásad a závisí na celkové výši finančních prostředků na \\nindividuálním účtu účastníka ke dni vzniku nároku na invalidní penzi nebo k pozdějšímu dni, jestliže účastník požádal o vyměření invalidní \\npenze k takovému dni, na formě účastníkem zvolené invalidní penze a věku účastníka, od kterého se penze poskytuje (viz. výpočetní \\nformule v příloze penzijního plánu). \\n(4) Invalidní penze, jestliže na ni vznikl účastníkovi nárok podle tohoto penzijního plánu, se nadále vyplácí i tehdy, jestliže účastník přestal' metadata={'page': 4, 'source': 'source_files\\\\penzijni-plan-1-1-16.pdf'}\n",
      "--------------------------\n",
      "--------------------------\n",
      "     page_content='ČLÁNEK 11 \\nStarobní penze \\n(1) Nárok na starobní penzi vznikne účastníkovi, který platil příspěvky na tuto penzi nejméně 60 kalendářních měsíců a dosáhl věku 60 let \\nnebo mu byl přiznán starobní důchod z důchodového pojištění. \\n(2) Starobní penze náleží jen účastníkovi penzijního připojištění. \\n(3) Měsíční výše starobní penze se stanoví podle pojistně matematických zásad a závisí na celkové výši finančních prostředků na \\nindividuálním účtu účastníka ke dni vzniku nároku na starobní penzi nebo k pozdějšímu dni, jestliže účastník požádal o vyměření starobní \\npenze k takovému dni, na formě účastníkem zvolené starobní penze, pohlaví a věku účastníka, od kterého se penze poskytuje (viz. \\nvýpočetní formule v příloze penzijního plánu). \\n(4) Starobní penzi lze sjednat samostatně nebo v kombinaci s ostatními druhy penzí, tj. penzí invalidní, výsluhovou nebo pozůstalostní nebo \\njen některou z nich.' metadata={'page': 4, 'source': 'source_files\\\\penzijni-plan-3-1-16.pdf'}\n",
      "--------------------------\n",
      "--------------------------\n",
      "     page_content='Měsíční výše dávek pozůstalostní penze závisí na celkové výši finančních prostředků na individuálním účtu účastníka ke dni vzniku \\nnároku na pozůstalostní penzi nebo k pozdějšímu dni, jestliže oprávněná osoba požádala o vyměření penze k takovému dni, a době, \\npo kterou má být poskytována (viz výpočetní formule v příloze penzijního plánu). \\nb) Zemře-li účastník penzijního připojištění pobírající doživotní starobní nebo doživotní invalidní penzi spojenou s nárokem na výplatu \\npenze pozůstalostní podle tohoto penzijního plánu, náleží osobě určené účastníkem ve smlouvě dočasná pozůstalostní penze ve výši \\nstarobní nebo invalidní penze zemřelého, vyplácena po dobu 2 let. \\nc) Zemře-li účastník penzijního připojištění pobírající doživotní starobní nebo doživotní invalidní penzi se zaručenou dobou výplaty nebo \\npenzi starobní, invalidní nebo výsluhovou, jako penzi dočasnou na sjednanou dobu, náleží osobě určené účastníkem ve smlouvě' metadata={'page': 4, 'source': 'source_files\\\\penzijni-plan-1-1-16.pdf'}\n",
      "--------------------------\n"
     ]
    },
    {
     "name": "stdin",
     "output_type": "stream",
     "text": [
      "Napiš otázku (exit pro opuštění chatu):\n",
      " exit\n"
     ]
    },
    {
     "name": "stdout",
     "output_type": "stream",
     "text": [
      "Napiš otázku (exit pro opuštění chatu):\n",
      " A jak je to pro invalidní penzi?\n"
     ]
    },
    {
     "name": "stdout",
     "output_type": "stream",
     "text": [
      "Nárok na invalidní penzi vznikne účastníkovi, kterému byl přiznán plný invalidní důchod z důchodového pojištění, jestliže platil příspěvky na penzijní připojištění po sjednání této penze alespoň 36 kalendářních měsíců. Měsíční výše dávek invalidní penze se stanoví podle pojistně matematických zásad a závisí na celkové výši finančních prostředků na individuálním účtu účastníka ke dni vzniku nároku na invalidní penzi nebo k pozdějšímu dni, jestliže účastník požádal o vyměření invalidní penze k takovému dni, na formě účastníkem zvolené invalidní penze, pohlaví a věku účastníka, od kterého se penze poskytuje. Invalidní penze náleží jen účastníkovi penzijního připojištění.\n",
      "\n",
      "Zdrojové dokumenty:\n",
      "--------------------------\n",
      "     page_content='ČLÁNEK 12 \\nInvalidní penze \\n(1) Nárok na invalidní penzi, byla-li sjednána, má účastník, kterému byl přiznán plný invalidní důchod z důchodového pojištění, jestliže platil \\npříspěvky na penzijní připojištění po sjednání této penze alespoň 36 kalendářních měsíců. \\n(2) Invalidní penze náleží jen účastníkovi penzijního připojištění. \\n(3) Měsíční výše dávek invalidní penze se stanoví podle pojistně matematických zásad a závisí na celkové výši finančních prostředků na \\nindividuálním účtu účastníka ke dni vzniku nároku na invalidní penzi nebo k pozdějšímu dni, jestliže účastník požádal o vyměření invalidní \\npenze k takovému dni, na formě účastníkem zvolené invalidní penze, pohlaví a věku účastníka, od kterého se penze poskytuje (viz. \\nvýpočetní formule v příloze penzijního plánu). \\n(4) Invalidní penze, jestliže na ni vznikl účastníkovi nárok podle tohoto penzijního plánu, se nadále vyplácí i tehdy, jestliže účastník přestal' metadata={'page': 4, 'source': 'source_files\\\\penzijni-plan-3-1-16.pdf'}\n",
      "--------------------------\n",
      "--------------------------\n",
      "     page_content='ČLÁNEK 12 \\nInvalidní penze \\n(1) Nárok na invalidní penzi, byla-li sjednána, má účastník, kterému byl přiznán invalidní důchod podle předpisů o sociálním zabezpečení, \\njestliže má současně uhrazeny příspěvky na tuto penzi za pojištěnou dobu alespoň 36 kalendářních měsíců. \\n(2) Invalidní penze náleží jen účastníkovi penzijního připojištění. \\n(3) Měsíční výše dávek invalidní penze se stanoví podle pojistně matematických zásad a závisí na celkové výši finančních prostředků na \\nindividuálním účtu účastníka ke dni vzniku nároku na invalidní penzi nebo k pozdějšímu dni, jestliže účastník požádal o vyměření invalidní \\npenze k takovému dni, na formě účastníkem zvolené invalidní penze a věku účastníka, od kterého se penze poskytuje (viz. výpočetní \\nformule v příloze penzijního plánu). \\n(4) Invalidní penze, jestliže na ni vznikl účastníkovi nárok podle tohoto penzijního plánu, se nadále vyplácí i tehdy, jestliže účastník přestal' metadata={'page': 4, 'source': 'source_files\\\\penzijni-plan-1-1-16.pdf'}\n",
      "--------------------------\n",
      "--------------------------\n",
      "     page_content='Měsíční výše dávek pozůstalostní penze závisí na celkové výši finančních prostředků na individuálním účtu účastníka ke dni vzniku \\nnároku na pozůstalostní penzi nebo k pozdějšímu dni, jestliže oprávněná osoba požádala o vyměření penze k takovému dni, a době, \\npo kterou má být poskytována (viz výpočetní formule v příloze penzijního plánu). \\nb) Zemře-li účastník penzijního připojištění pobírající doživotní starobní nebo doživotní invalidní penzi spojenou s nárokem na výplatu \\npenze pozůstalostní podle tohoto penzijního plánu, náleží osobě určené účastníkem ve smlouvě dočasná pozůstalostní penze ve výši \\nstarobní nebo invalidní penze zemřelého, vyplácena po dobu 2 let. \\nc) Zemře-li účastník penzijního připojištění pobírající doživotní starobní nebo doživotní invalidní penzi se zaručenou dobou výplaty nebo \\npenzi starobní, invalidní nebo výsluhovou, jako penzi dočasnou na sjednanou dobu, náleží osobě určené účastníkem ve smlouvě' metadata={'page': 4, 'source': 'source_files\\\\penzijni-plan-1-1-16.pdf'}\n",
      "--------------------------\n",
      "--------------------------\n",
      "     page_content='ČLÁNEK 11 \\nStarobní penze \\n(1) Nárok na starobní penzi vznikne účastníkovi, který platil příspěvky na tuto penzi nejméně 60 kalendářních měsíců a dosáhl věku 60 let \\nnebo mu byl přiznán starobní důchod z důchodového pojištění. \\n(2) Starobní penze náleží jen účastníkovi penzijního připojištění. \\n(3) Měsíční výše starobní penze se stanoví podle pojistně matematických zásad a závisí na celkové výši finančních prostředků na \\nindividuálním účtu účastníka ke dni vzniku nároku na starobní penzi nebo k pozdějšímu dni, jestliže účastník požádal o vyměření starobní \\npenze k takovému dni, na formě účastníkem zvolené starobní penze, pohlaví a věku účastníka, od kterého se penze poskytuje (viz. \\nvýpočetní formule v příloze penzijního plánu). \\n(4) Starobní penzi lze sjednat samostatně nebo v kombinaci s ostatními druhy penzí, tj. penzí invalidní, výsluhovou nebo pozůstalostní nebo \\njen některou z nich.' metadata={'page': 4, 'source': 'source_files\\\\penzijni-plan-3-1-16.pdf'}\n",
      "--------------------------\n"
     ]
    },
    {
     "name": "stdout",
     "output_type": "stream",
     "text": [
      "Napiš otázku (exit pro opuštění chatu):\n",
      " exit\n"
     ]
    }
   ],
   "source": [
    "import os\n",
    "import dotenv\n",
    "import openai\n",
    "from langchain.vectorstores import Chroma\n",
    "from langchain.prompts import PromptTemplate\n",
    "from langchain_openai import ChatOpenAI\n",
    "from langchain.chains import RetrievalQA\n",
    "from langchain.memory import ConversationBufferWindowMemory\n",
    "from langchain_openai import OpenAIEmbeddings\n",
    "\n",
    "dotenv.load_dotenv()\n",
    "openai.api_key = os.environ[\"OPENAI_API_KEY\"]\n",
    "\n",
    "persist_directory = \"embeddings\\\\chroma_persist_dir\\\\\"\n",
    "\n",
    "embedding = OpenAIEmbeddings()\n",
    "vectordb = Chroma(\n",
    "    persist_directory=persist_directory,\n",
    "    embedding_function=embedding\n",
    ")\n",
    "\n",
    "template = \"\"\"Use the following pieces of context to answer the question at the end.\n",
    "If you don't know the answer, just say that you don't know, don't try to make up an answer.\n",
    "Use three sentences maximum. Keep the answer as concise as possible. Answer in Czech language.\n",
    "{context}\n",
    "Question: {question}\n",
    "Helpful answer:\"\"\"\n",
    "\n",
    "chat = ChatOpenAI(temperature=0.0, model_name=\"gpt-3.5-turbo\") \n",
    "\n",
    "memory = ConversationBufferWindowMemory(\n",
    "    k=3,\n",
    "    memory_key=\"chat_history\",\n",
    "    return_message=True,\n",
    "    output_key=\"answer\"\n",
    ")\n",
    "\n",
    "qa_chain_prompt = PromptTemplate.from_template(template)\n",
    "\n",
    "qa_chain = RetrievalQA.from_chain_type(\n",
    "    llm=chat,\n",
    "    retriever=vectordb.as_retriever(),\n",
    "    return_source_documents=True,\n",
    "    chain_type_kwargs={\"prompt\": qa_chain_prompt}\n",
    ")\n",
    "\n",
    "while True:\n",
    "    question = input(\"Napiš otázku (exit pro opuštění chatu):\\n\")\n",
    "    if question == \"exit\":\n",
    "        break \n",
    "    result = qa_chain.invoke({\"query\":question})\n",
    "    print(result[\"result\"])\n",
    "    print()\n",
    "    print(\"Zdrojové dokumenty:\")\n",
    "    for one_source_doc in result[\"source_documents\"]:\n",
    "        print(\"--------------------------\")\n",
    "        print(\"    \", one_source_doc)\n",
    "        print(\"--------------------------\")"
   ]
  },
  {
   "cell_type": "markdown",
   "id": "f079e5e3-4886-41c1-96ee-c8166ef2856b",
   "metadata": {},
   "source": [
    "## TO DO\n",
    "\n",
    "stuff vs map-reduce vs postupné zpracování"
   ]
  }
 ],
 "metadata": {
  "kernelspec": {
   "display_name": "Python 3 (ipykernel)",
   "language": "python",
   "name": "python3"
  },
  "language_info": {
   "codemirror_mode": {
    "name": "ipython",
    "version": 3
   },
   "file_extension": ".py",
   "mimetype": "text/x-python",
   "name": "python",
   "nbconvert_exporter": "python",
   "pygments_lexer": "ipython3",
   "version": "3.10.11"
  }
 },
 "nbformat": 4,
 "nbformat_minor": 5
}
