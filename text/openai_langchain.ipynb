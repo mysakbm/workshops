{
 "cells": [
  {
   "cell_type": "markdown",
   "id": "70d36b45-481b-473f-bfd6-d8656887d8dc",
   "metadata": {},
   "source": [
    "Pozn.: zde se nacházejí importy potřebné pro to, aby po restartu kernelu běžela libovolná buňka. V rámci výkladu jsou při setkání se s určitou třídou či funkcí importy samozřejmě uvedeny."
   ]
  },
  {
   "cell_type": "code",
   "id": "db94ccfe-01ea-4e5b-8a90-f75d359dc487",
   "metadata": {},
   "source": [
    "import os\n",
    "import dotenv\n",
    "import openai\n",
    "import langchain\n",
    "\n",
    "from langchain.prompts import ChatPromptTemplate\n",
    "from langchain.prompts import PromptTemplate\n",
    "from langchain_openai import ChatOpenAI\n",
    "from langchain.llms import OpenAI\n",
    "\n",
    "from langchain.chains import LLMChain\n",
    "from langchain.chains import SimpleSequentialChain\n",
    "from langchain.chains import SequentialChain\n",
    "from langchain.chains import TransformChain\n",
    "\n",
    "from langchain.chains.router import MultiPromptChain\n",
    "from langchain.chains.router.llm_router import LLMRouterChain,RouterOutputParser\n",
    "\n",
    "from langchain.chains import ConversationChain\n",
    "from langchain.prompts import MessagesPlaceholder, SystemMessagePromptTemplate, HumanMessagePromptTemplate\n",
    "\n",
    "from langchain.memory import ConversationBufferMemory\n",
    "from langchain.memory import ConversationBufferWindowMemory \n",
    "from langchain.memory import ConversationTokenBufferMemory \n",
    "from langchain.memory import ConversationSummaryMemory \n",
    "from langchain.memory import ConversationEntityMemory \n",
    "from langchain.memory.prompt import ENTITY_MEMORY_CONVERSATION_TEMPLATE\n",
    "\n",
    "from langchain.document_loaders import PyPDFLoader\n",
    "from langchain.document_loaders import UnstructuredPDFLoader\n",
    "from langchain.document_loaders import UnstructuredHTMLLoader\n",
    "from langchain.document_loaders import BSHTMLLoader\n",
    "from langchain.document_loaders import WebBaseLoader\n",
    "from langchain.document_loaders import UnstructuredURLLoader\n",
    "from langchain.text_splitter import CharacterTextSplitter\n",
    "from langchain.text_splitter import RecursiveCharacterTextSplitter\n",
    "from langchain.text_splitter import Language\n",
    "from langchain_openai import OpenAIEmbeddings\n",
    "from langchain.vectorstores import Chroma\n",
    "from langchain_core.documents.base import Document\n",
    "\n",
    "from langchain.chains import RetrievalQA\n",
    "from langchain.retrievers.self_query.base import SelfQueryRetriever\n",
    "from langchain.chains.query_constructor.base import AttributeInfo\n",
    "\n",
    "dotenv.load_dotenv()\n",
    "openai.api_key = os.environ[\"OPENAI_API_KEY\"]"
   ],
   "outputs": [],
   "execution_count": null
  },
  {
   "cell_type": "markdown",
   "id": "cec9b1d5-7127-490e-8ffd-b23f2e3ce37c",
   "metadata": {},
   "source": [
    "V době psaní těchto řádků je to už několik měsíců, co vzalo ChatGPT svět útokem. Člověk se tak mohl pravidelně i ve sdělovacích prostředcích setkávat s více či méně relevantními články o AI. Tento spisek nemá ambice kráčet jim po boku - absolutně netuším, zda AI (z nějakého důvodu ztotožněná s generativními modely - např. s \"doplňovači\" textu ala GPT) začne nahrazovat zaměstnance, zda nás vyhubí anebo zda život půjde dál ve starých kolejích. Namísto toho bych tu chtěl ukázat, jak pracovat s modely od OpenAI a to sice jak napřímo, tak skrze framework Langchain.  \n",
    "Na tomto místě musím doporučit [langchainové kurzy](https://www.deeplearning.ai/short-courses/), které jsou dostupné na deeplearning.ai a ze kterých jsem při tvoření tohoto textu vycházel.\n",
    "\n",
    "# Obsah\n",
    "- [OpenAI](#OpenAI)\n",
    "  - [Tokeny](#Tokeny)\n",
    "  - [API klíč](#API-klíč)\n",
    "  - [Jednoduchý příklad](#Jednoduchý-příklad)\n",
    "  - [Chatbot](#Chatbot)\n",
    "- [Langchain](#Langchain)\n",
    "  - [Šablony promptů](#Šablony-promptů)\n",
    "  - [Chains](#Chains)\n",
    "    - [LLMChain](#LLMChain)\n",
    "    - [Sekvenční chainy](#Sekvenční-chainy)\n",
    "    - [RouterChain](#RouterChain)\n",
    "    - [Transformation chain](#Transformation-chain)\n",
    "  - [Paměť](#Paměť)\n",
    "    - [ConversationBufferMemory](#ConversationBufferMemory)\n",
    "    - [ConversationBufferWindowMemory](#ConversationBufferWindowMemory)\n",
    "    - [ConversationTokenBufferMemory](#ConversationTokenBufferMemory)\n",
    "    - [ConversationSummaryMemory](#ConversationSummaryMemory)\n",
    "    - [ConversationEntityMemory](#ConversationEntityMemory)\n",
    "  - [Q&A nad dokumenty](#Q&A-nad-dokumenty)\n",
    "    - [Načtení dokunetů](#Načtení-dokumentů)\n",
    "      - [Načtení pdfka](#Načtení-pdfka)\n",
    "      - [Načtení html souboru](#Načtení-html-souboru)\n",
    "      - [Načtení webové stránky](#Načtení-webové-stránky)\n",
    "    - [Splittery](#Splittery)\n",
    "    - [Embeddings, vectorstore](#Embeddings,-vectorstore)\n",
    "    - [Similarity search](#Similarity-search)\n",
    "    - [Question answering](#Question-answering)\n",
    "    - [Automatické používání metadat](#Automatické-používání-metadat)\n",
    "    - [Prefix před fragmenty](#Prefix-před-fragmenty)\n",
    "  - [Kompletní ukázky](#Kompletní-ukázky)\n",
    "    - [Obyčejný chatbot](#Obyčejný-chatbot)\n",
    "    - [Q&A chatbot](#Q&A-chatbot)"
   ]
  },
  {
   "cell_type": "markdown",
   "id": "53e198da-9fac-41e2-9600-3f32ae798f47",
   "metadata": {},
   "source": [
    "# OpenAI\n",
    "### Tokeny\n",
    "Pro použití OpenAI člověk napřed musí sebe i svou kartu registrovat [zde](https://platform.openai.com/). Na stránkách je poté třeba nechat si vygenerovat API klíč, s jehož pomocí při RESTovém volání OpenAI pozná, co má komu vlastně naúčtovat. Ceník nalezneme [tady](https://openai.com/pricing). Je vhodné zdůraznit, že narozdíl od dejme tomu Midjourney si člověk nekupuje měsíční předplatné, nýbrž platí za míru používání modelů. Přesněji platí za počet modelem zpracovaných tokenů. Do toho se počítají jak tokeny do modelu vstupující, tak tokeny modelem produkované. A co že je vlastně onen token? Jedná se o skupinu písmen, která tvoří slovo anebo jeho část. V angličtině v průměru vychází 1 token na 0,75 slova, v jiných jazycích je poměr horší. Pro získání reálné představy doporučuji podívat se [sem](https://platform.openai.com/tokenizer). Krom očividného omezení peněženkou je součet vstupních a výstupních tokenů (a tak i délka textu) omezen pamětí modelu (kontextem z pricing stránky) - například pro 4K GPT-3.5 model není možné mít text (otázku a odpověď) delší než 4000 tokenů - nadbytečné tokeny budou oříznuty, resp. vůbec nevzniknou. O tom se člověk může předvědčit v \"klasickém\" webovém GUI rozhraní ChatGPT. Model sám o sobě si nepamatuje, co se dělo v předchozím hovoru. Proto se mu musí celá historie konverzace při každé interakci posílat nanovo. Po čase je historie příliš dlouhá a tak jsou staré tokeny zahozeny a model tudíž začne zapomínat začátky konverzací."
   ]
  },
  {
   "cell_type": "markdown",
   "id": "2eabb417-6202-4e39-b69d-3bada92a78ab",
   "metadata": {},
   "source": [
    "### API klíč\n",
    "První tutoriálový příklad na [stránkách openai balíčku](https://pypi.org/project/openai/) začíná s \n",
    "```python\n",
    "import openai\n",
    "openai.api_key = \"sk-...\"  # supply your API key however you choose\n",
    "```\n",
    "Jeho problém tkví ve skutečnosti, že je API klíč umístěn uprostřed kódu. Když si člověk nedá pozor a kód někam pošle (třeba na GitHub), může se jeho jménem (a jeho peněženkou) GPT modelů dotazovat celý internet. Proto bude lepší používat [python-dotenv](https://pypi.org/project/python-dotenv/) balíček. S jeho pomocí Python načte klíč z .env souboru a nastaví ho jako proměnnou prostředí. Jak to konkrétně provedeme? Nejprve si ve stejném adresáři, ve kterém se nalézá notebook (ipynb soubor), vytvoříme .env soubor (opravdu se takto jmenuje, tj. v názvu je jen přípona) a vložíme do něj\n",
    "```\n",
    "OPENAI_API_KEY=nazdar1234\n",
    "```\n",
    "Poté naimportujeme *dotenv* a provoláme funkci *load_dotenv*."
   ]
  },
  {
   "cell_type": "code",
   "id": "dfaf82f1-23eb-4e48-98e4-295e08019685",
   "metadata": {},
   "source": [
    "import dotenv\n",
    "dotenv.load_dotenv();"
   ],
   "outputs": [],
   "execution_count": null
  },
  {
   "cell_type": "markdown",
   "id": "aab6b05d-19c9-47fd-90c4-fd47298dbcef",
   "metadata": {},
   "source": [
    "Že se proměnná prostředí načetla ověříme s pomocí balíčku *os*:"
   ]
  },
  {
   "cell_type": "code",
   "id": "89a80cd8-c39f-48c5-8a37-512a9dc775f7",
   "metadata": {},
   "source": [
    "import os\n",
    "os.environ[\"OPENAI_API_KEY\"]"
   ],
   "outputs": [],
   "execution_count": null
  },
  {
   "cell_type": "markdown",
   "id": "77c577a6-b8ec-4715-903f-027d59d8f30b",
   "metadata": {},
   "source": [
    "Pokud pracujeme s Azure OpenAI, je třeba inicializovat ještě několik dalších proměnných prostředí. Na těch už nic moc tajného není, tudíž mohou být volně v kódu. Vypadají nějak takto:\n",
    "```python\n",
    "openai.api_type = \"azure\"\n",
    "openai.api_version = \"2023-03-15-preview\"\n",
    "openai.api_base = \"http://testingazureopenai.openai.azure.com\"\n",
    "```\n",
    "Api type bude asi vždy stejné, api version se bude s časem měnit a nakonec api base závisí na jméně openai resourcu. Tyto parametry se dají nejsnadněji zjistit, když v AzureAI studiu vlezeme do \"Chat Playground\" a v sekci \"Chat Session\" klepneme na \"View Code\". "
   ]
  },
  {
   "cell_type": "markdown",
   "id": "8b2c3d54-2db3-46e4-ba2b-6c56b8f74e9f",
   "metadata": {},
   "source": [
    "### Jednoduchý příklad\n",
    "Nyní ale přikročme k prvnímu chatovacímu příkladu. Napřed si načteme potřebné balíčky a API klíč. Ten je potřeba vložit do *OpenAI* objektu, konkrétně do parametru *api_key*."
   ]
  },
  {
   "cell_type": "code",
   "id": "ad4e0c70",
   "metadata": {},
   "source": [
    "import os\n",
    "from openai import OpenAI\n",
    "import dotenv\n",
    "\n",
    "dotenv.load_dotenv()\n",
    "client = OpenAI(\n",
    "    api_key=os.environ.get(\"OPENAI_API_KEY\")\n",
    ")"
   ],
   "outputs": [],
   "execution_count": null
  },
  {
   "cell_type": "markdown",
   "id": "0e6ed9d6-f9fd-4e26-a99e-d82e041b7d54",
   "metadata": {},
   "source": [
    "Následně si vytvoříme objekt reprezentující chat a to s pomocí [*chat.completions.create*](https://platform.openai.com/docs/api-reference/chat/create). Tomu podhodíme jednak model, který chceme používat (parametr *model*), jednak dosavadní historii konverzace (parametr *messages*). Ta má podobu listu jsonů obsahujících jednak informaci o mluvčím (klíč \"role\" s hodnotami \"user\" či \"assistant\"), jednak samotnou promluvu (klíč \"content\")."
   ]
  },
  {
   "cell_type": "code",
   "id": "fba9dfb9",
   "metadata": {},
   "source": [
    "completion = client.chat.completions.create(\n",
    "    messages=[\n",
    "        {\"role\": \"user\", \"content\": \"Ahoj.\"}\n",
    "    ],\n",
    "    model=\"gpt-3.5-turbo\",\n",
    ")"
   ],
   "outputs": [],
   "execution_count": null
  },
  {
   "cell_type": "markdown",
   "id": "4c581e07-af0a-4a56-ba18-719a270045c3",
   "metadata": {},
   "source": [
    "Výstupem je následující věc. Všimněte si, že na konci dostáváme i informaci o počtu použitých tokenů."
   ]
  },
  {
   "cell_type": "code",
   "id": "ae970788",
   "metadata": {},
   "source": [
    "completion"
   ],
   "outputs": [],
   "execution_count": null
  },
  {
   "cell_type": "markdown",
   "id": "d67b960a-c9cc-4a33-8d97-401b5739963f",
   "metadata": {},
   "source": [
    "Pokud chceme ale jen odpověď chatbota, použijeme"
   ]
  },
  {
   "cell_type": "code",
   "id": "1f0724ef",
   "metadata": {},
   "source": [
    "completion.choices[0].message.content"
   ],
   "outputs": [],
   "execution_count": null
  },
  {
   "cell_type": "markdown",
   "id": "63ce50b5-a25a-466e-86a7-b8efc51ef306",
   "metadata": {},
   "source": [
    "Do *create* metody lze vložit další parametry. Například *temperature*, která s rostoucí hodnotou vede k chaotičtějším/kreativnějším odpovědím. Podle dokumentace je minimum 0, maximum 2 a default 1. Obecně ale hodnoty větší než 1 vedou obvykle k nesmyslné změti písmen."
   ]
  },
  {
   "cell_type": "code",
   "id": "edc94acb-3396-4689-98af-c72f04c47de8",
   "metadata": {},
   "source": [
    "completion = client.chat.completions.create(\n",
    "  model=\"gpt-3.5-turbo\",\n",
    "  messages=[\n",
    "    {\"role\": \"user\", \"content\": \"Ahoj.\"}\n",
    "  ],\n",
    "  temperature=2\n",
    ")\n",
    "\n",
    "completion.choices[0].message.content"
   ],
   "outputs": [],
   "execution_count": null
  },
  {
   "cell_type": "markdown",
   "id": "ffd0bebc-3e04-43dd-b853-7322c77d028d",
   "metadata": {},
   "source": [
    "Do *messages* lze vložit i tzv. systémový prompt, který chatbotu říká,v jaké roli má vlastně vystupovat. Takováto věc se označuje klíčem \"system\"."
   ]
  },
  {
   "cell_type": "code",
   "id": "70eaf800-d080-4b1f-8e5f-456b6a6f6847",
   "metadata": {},
   "source": [
    "completion = client.chat.completions.create(\n",
    "  model=\"gpt-3.5-turbo\",\n",
    "  messages=[\n",
    "    {\"role\": \"system\", \"content\": \"Jsi veverka milující oříšky. Odpovídáš maximálně ve dvou větách.\"},\n",
    "    {\"role\": \"user\", \"content\": \"Co bych si měl dát ke svačině?\"}\n",
    "  ],\n",
    "  temperature=0.7\n",
    ")\n",
    "\n",
    "print(completion.choices[0].message.content)"
   ],
   "outputs": [],
   "execution_count": null
  },
  {
   "cell_type": "markdown",
   "id": "7d415a8e",
   "metadata": {},
   "source": [
    "Pozn.: výše uvedené informace platí pro verzi balíčku openai větší nebo rovnou 1.0.0 ze září 2023. Pokud musíte pracovat s verzí starší, vypadá kód nějak takto:"
   ]
  },
  {
   "cell_type": "code",
   "id": "8a1d9945-57ce-4741-83d4-62021dbcabf1",
   "metadata": {},
   "source": [
    "import os\n",
    "import openai\n",
    "import dotenv\n",
    "\n",
    "dotenv.load_dotenv()\n",
    "openai.api_key = os.environ[\"OPENAI_API_KEY\"]\n",
    "\n",
    "completion = openai.ChatCompletion.create(\n",
    "  model=\"gpt-3.5-turbo\",\n",
    "  messages=[\n",
    "    {\"role\": \"user\", \"content\": \"Ahoj.\"}\n",
    "  ]\n",
    ")"
   ],
   "outputs": [],
   "execution_count": null
  },
  {
   "cell_type": "markdown",
   "id": "57d8da9c-18af-4973-a488-0bc73f954164",
   "metadata": {},
   "source": [
    "Pokud pracujeme s Azure OpenAI, musíme napsat něco v následujícím duchu:\n",
    "```python\n",
    "from openai import AzureOpenAI\n",
    "\n",
    "client = AzureOpenAI(\n",
    "    api_version=openai.api_version,\n",
    "    azure_endpoint=openai.api_base,\n",
    "    api_key=openai.api_key\n",
    ")\n",
    "\n",
    "completion = client.chat.completions.create(\n",
    "    model=\"jmeno_deploymentu\",\n",
    "    messages=[\n",
    "        {\"role\": \"user\", \"content\": \"Ahoj.\"}\n",
    "    ]\n",
    ")\n",
    "```"
   ]
  },
  {
   "cell_type": "markdown",
   "id": "c8850361-8b56-4533-8686-0a8275321f2d",
   "metadata": {},
   "source": [
    "### Chatbot\n",
    "Bohužel kód jak ho tady máme jako chatbot nefunguje - nijak se tu neukládá historie konverzací a pokaždé tak začínáme nanovo. V openai balíčku se žádná příhodná funkce ani třída nenalézá a tak si celou (byť v tomto případě ultra krátkou) logiku musíme napsat sami."
   ]
  },
  {
   "cell_type": "code",
   "id": "8dfecf1c-b50b-4075-b5ac-28ea82ec94e0",
   "metadata": {},
   "source": [
    "chat_history = [\n",
    "    {\"role\": \"system\", \"content\": \"Jsi veverka milující oříšky. Odpovídáš maximálně ve dvou větách.\"}\n",
    "  ]\n",
    "\n",
    "print(\"Pro ukončení konverzace napište 'exit'\")\n",
    "\n",
    "while True:\n",
    "    user_message = input(\"Uživatel: \")\n",
    "    if user_message == \"exit\":\n",
    "        break\n",
    "    chat_history.append(\n",
    "        {\"role\": \"user\", \"content\": user_message}\n",
    "    )\n",
    "    conversation = client.chat.completions.create(\n",
    "        model=\"gpt-3.5-turbo\",\n",
    "        messages=chat_history,\n",
    "        temperature=0.7\n",
    "    )\n",
    "    chatbot_answer = conversation.choices[0].message.content\n",
    "    chat_history.append(\n",
    "        {\"role\": \"assistant\", \"content\": chatbot_answer}\n",
    "    )\n",
    "    print(f\"Chatbot: {chatbot_answer}\")"
   ],
   "outputs": [],
   "execution_count": null
  },
  {
   "cell_type": "markdown",
   "id": "f8398575-3403-4630-a8ee-2b1a4ffcd106",
   "metadata": {},
   "source": [
    "# Langchain\n",
    "Sice bychom mohli pokračovat v používání čistého openai balíčku, ale museli bychom přitom programovat více, než by bylo potřeba. Existuje totiž balíček Langchain, který hromadu práce udělá za nás.  \n",
    "Pozn.: I v případě Langchainu se s postupem času objevily změny. Původní kód bude dohledatelný v historii repa, které právě čtete. Krom změn kódu se objevila i potřeba nainstalovat si integrační balíček [langchain-openai](https://pypi.org/project/langchain-openai/)."
   ]
  },
  {
   "cell_type": "markdown",
   "id": "ff6e3ccf-1714-436f-957c-9c9ab46ae48a",
   "metadata": {},
   "source": [
    "### Šablony promptů"
   ]
  },
  {
   "cell_type": "markdown",
   "id": "539dd7f3-d650-4bd5-b9fb-11c9b81d5233",
   "metadata": {},
   "source": [
    "S pomocí šablon lze s minimální prací navíc přepoužívat i poměrně komplexní prompty. Pro názornost nicméně začněme něčím jednoduchým.  \n",
    "Napřed si napíšeme stringový základ šablony, ve kterém vložíme dodatečné parametry do složených závorek. Vlastně to vypadá jako f-stringy, jen to f-ko na začátku chybí. Šablonu jako takovou vytvoříme s pomocí *ChatPromptTemplate.from_template*, do které jako parametr vložíme string z předchozího kroku."
   ]
  },
  {
   "cell_type": "code",
   "id": "3bea5c6a-b186-4a53-a593-f37b844cfd5c",
   "metadata": {},
   "source": [
    "from langchain.prompts import ChatPromptTemplate\n",
    "\n",
    "template_text = \"\"\"\n",
    "V jedné větě shrň text obklopený trojicí uvozovek. Odpověď musí být napsána v {language} jazyce. \n",
    "Text: '''{text}'''\n",
    "\"\"\"\n",
    "prompt_template = ChatPromptTemplate.from_template(template_text)"
   ],
   "outputs": [],
   "execution_count": null
  },
  {
   "cell_type": "markdown",
   "id": "65461648-59d5-48c2-8173-3b8fca1e4d4e",
   "metadata": {},
   "source": [
    "Takto vypadá jádro \"šablonového\" objektu. V první části vidíme jména do šablony dosazovaných proměnných."
   ]
  },
  {
   "cell_type": "code",
   "id": "814696ed-f042-446f-88e7-d5f10fccc884",
   "metadata": {},
   "source": [
    "prompt_template.messages[0].prompt"
   ],
   "outputs": [],
   "execution_count": null
  },
  {
   "cell_type": "code",
   "id": "bd46cf10-cd9f-4818-995e-010afbca9f0c",
   "metadata": {},
   "source": [
    "language = \"anglickém\""
   ],
   "outputs": [],
   "execution_count": null
  },
  {
   "cell_type": "markdown",
   "id": "abcccc59-d2de-4f30-8b2a-e6e41023316c",
   "metadata": {},
   "source": [
    "Jako testovací text použijeme kousek z [wiki článku o veverkách](https://cs.wikipedia.org/wiki/Veverka_obecn%C3%A1)."
   ]
  },
  {
   "cell_type": "code",
   "id": "36b6406e-6b90-4a65-b51e-0e965e657598",
   "metadata": {},
   "source": [
    "squirrel_text = \"\"\"\n",
    "Veverka obecná obvykle dorůstá 19 až 23 cm a dosahuje hmotnosti mezi 250 a 340 g někdy i víc. \n",
    "Huňatý ocas, který napomáhá udržovat rovnováhu při lezení a skocích na stromech a který veverka využívá \n",
    "jako „pokrývku“ těla při spánku, je 14,5 až 20 cm dlouhý.[3] Charakteristickým znakem veverky obecné jsou střapce \n",
    "chlupů na ušních boltcích směřující do špičky a viditelné především v zimním období. \n",
    "Stejně jako většina stromových veverek má i veverka obecná ostré a zakřivené drápy, které jí pomáhají při lezení po větvích stromů. \n",
    "\"\"\""
   ],
   "outputs": [],
   "execution_count": null
  },
  {
   "cell_type": "markdown",
   "id": "ff25ec0a-3618-4397-bdb7-c66685d161ba",
   "metadata": {},
   "source": [
    "Proměnné se do šablony dostanou v rámci provolání metody *format_messages*. V ní by každé proměnné měl odpovídat jeden parametr nesoucí její jméno."
   ]
  },
  {
   "cell_type": "code",
   "id": "0d370202-fdc3-477b-a9a7-d28b3c11dd4b",
   "metadata": {},
   "source": [
    "filled_template = prompt_template.format_messages(\n",
    "    language=language,\n",
    "    text=squirrel_text\n",
    ")"
   ],
   "outputs": [],
   "execution_count": null
  },
  {
   "cell_type": "markdown",
   "id": "6e35af2a-1645-43ec-b89d-7e63450525b9",
   "metadata": {},
   "source": [
    "Výsledek vypadá následně:"
   ]
  },
  {
   "cell_type": "code",
   "id": "aff4fb8c-ac7d-4da5-a8a8-41a6d742ba8c",
   "metadata": {},
   "source": [
    "filled_template"
   ],
   "outputs": [],
   "execution_count": null
  },
  {
   "cell_type": "markdown",
   "id": "ac619362-b998-49d0-85e2-46b76c48dc0a",
   "metadata": {},
   "source": [
    "Nyní musíme Langchainu říct, s jakým jazykovým modelem má pracovat. Pro podporované modely přitom existují separátní třídy. Seznam nalezneme [zde](https://python.langchain.com/docs/integrations/llms/). Zdůrazněme, že zatímco balíček openai dokázal obhospodařit jak OpenAI modely, tak Azure OpenAI modely, zde se jedná o separátní entity. Navíc historicky byl a asi pořád je rozdíl mezi třídami OpenAI a ChatOpenAI importovanými nyní z langchain_openai.  \n",
    "Jaké parametry můžeme do konstruktoru ChatOpenAI vložit? Jedná se primárně o teplotu (parametr *temperature* s defaultní hodnotou 0.7) a jméno LLM modelu (parametr *model_name* s defaultní hodnotou \"gpt-3.5-turbo\"). API klíč můžeme předávat parametrem *api_key* - pokud tak explicitně neuděláme, bude Langchain klíč hledat v *os.environ\\[\"OPENAI_API_KEY\"\\]*."
   ]
  },
  {
   "cell_type": "code",
   "id": "8ac12d0a-609c-4b47-93bc-4ff95da35beb",
   "metadata": {},
   "source": [
    "from langchain_openai import ChatOpenAI\n",
    "chat = ChatOpenAI(temperature=0.0, model_name=\"gpt-3.5-turbo\")"
   ],
   "outputs": [],
   "execution_count": null
  },
  {
   "cell_type": "markdown",
   "id": "82241053-df9c-4834-85d6-ff873d1ac1f1",
   "metadata": {},
   "source": [
    "Když pak do metody *invoke* našeho chatovacího modelu vložíme jako parametr šablonu a výsledku se zeptáme na atribut *content*, získáme odpověď. Vidíme, že anglický jazyk sice model pochopil, ale shrnutí zabralo více než požadovanou jednu větu. no, shrnutí - text vypadá spíš jako překlad..."
   ]
  },
  {
   "cell_type": "code",
   "id": "18a12548-0533-4904-8abb-4d564f029715",
   "metadata": {},
   "source": [
    "summary_response = chat.invoke(filled_template)\n",
    "print(summary_response.content)"
   ],
   "outputs": [],
   "execution_count": null
  },
  {
   "cell_type": "markdown",
   "id": "5499ff42-49f0-4f3c-b0e6-11e09215cdff",
   "metadata": {},
   "source": [
    "Člověka by napadlo, že se text bez ztráty informací do jedné věty možná shrnout nedá a nízká teplota zabraňuje kreativnější práci s informacemi."
   ]
  },
  {
   "cell_type": "code",
   "id": "7a7f8b43-889c-480d-b36d-14664ec8606c",
   "metadata": {},
   "source": [
    "chat = ChatOpenAI(\n",
    "    temperature=0.7, \n",
    "    model_name=\"gpt-3.5-turbo\"\n",
    ")\n",
    "summary_response = chat.invoke(filled_template)\n",
    "print(summary_response.content)"
   ],
   "outputs": [],
   "execution_count": null
  },
  {
   "cell_type": "markdown",
   "id": "65b2210f-d44d-4277-8fd4-83bc67e32dd6",
   "metadata": {},
   "source": [
    "Nicméně možná si model zkrátka co se instrukcí týče jenom nerozumí s češtinou tak dobře jako s angličtinou."
   ]
  },
  {
   "cell_type": "code",
   "id": "95b4ff0e-6ebd-4891-9da2-4878126475fb",
   "metadata": {},
   "source": [
    "template_text = \"\"\"\n",
    "Summarize the text surrounded by three quotation marks in one sentence. The answer must be written in {language} language. \n",
    "Text: '''{text}'''\n",
    "\"\"\"\n",
    "prompt_template = ChatPromptTemplate.from_template(template_text)\n",
    "language = \"czech\"\n",
    "\n",
    "filled_template = prompt_template.format_messages(\n",
    "    language=language,\n",
    "    text=squirrel_text\n",
    ")\n",
    "\n",
    "chat = ChatOpenAI(\n",
    "    temperature=0.0, \n",
    "    model_name=\"gpt-3.5-turbo\"\n",
    ")\n",
    "summary_response = chat.invoke(filled_template)\n",
    "print(summary_response.content)"
   ],
   "outputs": [],
   "execution_count": null
  },
  {
   "cell_type": "markdown",
   "id": "fa11a4d7-4275-43b9-8019-96a4fba3142b",
   "metadata": {},
   "source": [
    "Možná se nám někdy stane, že bude odpověď useknutá. To nejspíš bude dáno skutečností, že defaultní hodnota parametru *max_tokens* pro *ChatOpenAI*, která má velikost 256, na celou odpověď zkrátka nestačí. Pokud nechceme být omezováni (resp. pokud chceme být omezeni jen maximální velikostí kontextového okna), vložíme do parametru -1."
   ]
  },
  {
   "cell_type": "code",
   "id": "ed485a07-ae8a-42cb-9395-e41d0567806a",
   "metadata": {},
   "source": [
    "template_text = \"\"\"\n",
    "Summarize the text surrounded by three quotation marks in one sentence. The answer must be written in {language} language. \n",
    "Text: '''{text}'''\n",
    "\"\"\"\n",
    "prompt_template = ChatPromptTemplate.from_template(template_text)\n",
    "language = \"czech\"\n",
    "\n",
    "filled_template = prompt_template.format_messages(\n",
    "    language=language,\n",
    "    text=squirrel_text\n",
    ")\n",
    "\n",
    "chat = ChatOpenAI(\n",
    "    temperature=0.0, \n",
    "    model_name=\"gpt-3.5-turbo\",\n",
    "    max_tokens=22\n",
    ")\n",
    "summary_response = chat.invoke(filled_template)\n",
    "print(summary_response.content)"
   ],
   "outputs": [],
   "execution_count": null
  },
  {
   "cell_type": "markdown",
   "id": "a399bc41-54db-44a3-b20d-8f3d17f20bcc",
   "metadata": {},
   "source": [
    "Zkusme nyní lehce komplikovanější šablonu, která se bude koukat na [popis hry Na křídlech](https://www.tlamagames.com/deskove-hry/wingspan/)."
   ]
  },
  {
   "cell_type": "code",
   "id": "75715ffa-6a2f-49ab-bf9b-d667a2d82966",
   "metadata": {},
   "source": [
    "wingspan_text = \"\"\"\n",
    "Wingspan je kompetitivní středně těžká hra využívající karty a engine building mechanismus.\n",
    "\n",
    "Stáváte se nadšenými ornitology a sběrateli a snažíte se objevit a přilákat ty nejzajímavější ptáky da Vaší sítě rezervací. Každý pták posiluje řetěz kombinací pro daný habitat (akci). Tyto habitaty jsou zaměřeny na několik klíčových oblastí rozvoje:\n",
    "\n",
    "    Dostat žetony jídla výběrem kostky z krmítka (dice tower)\n",
    "    Kladení vajec s využitím miniaturních vajec v různých barvách\n",
    "    Dobrání ze stovek unikátních karet ptáků a zahrání těchto karet\n",
    "\n",
    "Vítězem je ten hráč, který má po 4 kolech nejvíce bodů.\n",
    "\n",
    "Pokud máte rádi hry jako Terraforming Mars a Gizmos, tak by tahle hra měla zalétnout na Váš stůl.\n",
    "\n",
    "Hra je určena pro 1-5 hráčů od 14 let.\n",
    "\n",
    "Pravidla i herní materiál je v angličtině.\n",
    "\"\"\"\n",
    "\n",
    "template_text = \"\"\"\n",
    "From text surrounded by by three quotation marks extract following information.\n",
    "\n",
    "1) Minimal age\n",
    "2) Number of players\n",
    "3) Victory condition\n",
    "\n",
    "The answer must be written in {language} language in {format} format. \n",
    "\n",
    "Text: '''{text}'''\n",
    "\"\"\"\n",
    "\n",
    "prompt_template = ChatPromptTemplate.from_template(template_text)\n",
    "language = \"czech\"\n",
    "format = \"json\"\n",
    "\n",
    "filled_template = prompt_template.format_messages(\n",
    "    language=language,\n",
    "    format=format,\n",
    "    text=wingspan_text\n",
    ")\n",
    "\n",
    "chat = ChatOpenAI(\n",
    "    temperature=0.0, \n",
    "    model_name=\"gpt-3.5-turbo\"\n",
    ")\n",
    "summary_response = chat.invoke(filled_template)\n",
    "print(summary_response.content)"
   ],
   "outputs": [],
   "execution_count": null
  },
  {
   "cell_type": "code",
   "id": "20f0a950-ab0f-429d-be0f-328a59743f41",
   "metadata": {},
   "source": [
    "prompt_template = ChatPromptTemplate.from_template(template_text)\n",
    "language = \"english\"\n",
    "format = \"plain text\"\n",
    "\n",
    "filled_template = prompt_template.format_messages(\n",
    "    language=language,\n",
    "    format=format,\n",
    "    text=wingspan_text\n",
    ")\n",
    "\n",
    "chat = ChatOpenAI(\n",
    "    temperature=0.0, \n",
    "    model_name=\"gpt-3.5-turbo\"\n",
    ")\n",
    "summary_response = chat.invoke(filled_template)\n",
    "print(summary_response.content)"
   ],
   "outputs": [],
   "execution_count": null
  },
  {
   "cell_type": "markdown",
   "id": "27cd17bb-7854-4268-a6e8-6e59fccbd576",
   "metadata": {},
   "source": [
    "V případě práce s Azure OpenAI budeme namísto *ChatOpenAI* používat *AzureChatOpenAI*. Rozdíl je i v parametrech - nebudeme specifikovat *model_name*, nýbrž *deployment_name*. V Azuru se totiž vytváří svého druhu instance modelů mimo (obvykle) v GUI, přičemž jsou pojmenovány právě jako deploymenty.  Vytvořené deploymenty člověk nalezne v Azure AI studiu v sekci \"deployments\" (do konstruktoru dáváme název z prvního sloupce tabulky).\n",
    "\n",
    "```python\n",
    "from langchain_openai import AzureChatOpenAI\n",
    "\n",
    "os.environ[\"AZURE_OPENAI_API_KEY\"] = \"api_klíč\"\n",
    "os.environ[\"AZURE_OPENAI_ENDPOINT\"] = \"endpoint ve formátu ala http://testingazureopenai.openai.azure.com\"\n",
    "chat = AzureChatOpenAI(deployment_name=\"jmeno_deploymentu\", temperature=0)\n",
    "```"
   ]
  },
  {
   "cell_type": "markdown",
   "id": "530d7fe1-aac0-4863-beeb-7e33e91bb277",
   "metadata": {},
   "source": [
    "## Chains\n",
    "Je načase přistoupit k věci, podle které nese Langchain své jméno - k chainům. Ty jsou [definovány](https://python.langchain.com/docs/modules/chains/) jako posloupnosti volání komponent, které mohou obsahovat další chainy. To by ve výsledku mělo vést k větší přehlednosti a snazší udržování kódu.\n",
    "#### [LLMChain](https://python.langchain.com/docs/modules/chains/foundational/llm_chain)\n",
    "Jedná se o asi nejjednodušší chain. Člověk do něj při inicializaci nasype template a jazykový model. Při samotném použití *LLMChain* provoláme s hodnotou proměnné, která se dosadí do šablony. Výsledný textový řetězec poputuje do jazykového modelu a následně obdržíme výsledek."
   ]
  },
  {
   "cell_type": "code",
   "id": "4f8b6ac0-85a5-4bc7-abf9-515292341eb7",
   "metadata": {},
   "source": [
    "from langchain.chains import LLMChain\n",
    "\n",
    "chat = ChatOpenAI(temperature=0.95)\n",
    "prompt_template = ChatPromptTemplate.from_template(\n",
    "    \"Jaké je nejvhodnější jméno pro {pet}? Odpověď má být krátka o délce jedné věty, ale měla by obsahovat zdůvodnění.\"\n",
    ")\n",
    "llm_chain = LLMChain(llm=chat, prompt=prompt_template)"
   ],
   "outputs": [],
   "execution_count": null
  },
  {
   "cell_type": "code",
   "id": "0d1a58df-9a70-42f8-8615-147f11d6fa79",
   "metadata": {},
   "source": [
    "pet = \"psa\"\n",
    "llm_chain.invoke(pet)"
   ],
   "outputs": [],
   "execution_count": null
  },
  {
   "cell_type": "markdown",
   "id": "0c0852cc-8d27-42c0-ac65-70618f0f8318",
   "metadata": {},
   "source": [
    "Obvykle ale nechceme slovníkovou omáčku okolo, ale jen samotnou odpověď. Kdysi bylo řešením použít metodu *run*. Ta ale brzo bude odstraněna."
   ]
  },
  {
   "cell_type": "code",
   "id": "5e416d9d-89cd-43af-8b7a-72638f79d8c8",
   "metadata": {},
   "source": [
    "pet = \"křečka\"\n",
    "llm_chain.run(pet)"
   ],
   "outputs": [],
   "execution_count": null
  },
  {
   "cell_type": "markdown",
   "id": "1b6aa76f-4912-4912-815a-6fd39fcedee6",
   "metadata": {},
   "source": [
    "Tudíž musíme explicitně \"slovníkově\" zmínit, co vlastně chceme vidět."
   ]
  },
  {
   "cell_type": "code",
   "id": "1ffc2bbb-49cc-456a-89ad-85723bdb4848",
   "metadata": {},
   "source": [
    "pet = \"králíka\"\n",
    "llm_chain.invoke(pet)[\"text\"]"
   ],
   "outputs": [],
   "execution_count": null
  },
  {
   "cell_type": "markdown",
   "id": "1891a943-ad6e-4ce3-8c3a-1ba79ba655de",
   "metadata": {},
   "source": [
    "V případě, že má jít do šablony více proměnných, musíme tyto proměnné do metody *invoke* předávat jako slovník v parametru *input*."
   ]
  },
  {
   "cell_type": "code",
   "id": "576ae240-e315-4598-a8a7-3ff207879ccd",
   "metadata": {},
   "source": [
    "prompt_template_two_var = ChatPromptTemplate.from_template(\n",
    "    \"\"\"\n",
    "    Write the best name for {pet}. Answer should be in one sentence, in {language} language, but should contain reasoning.\n",
    "    \"\"\"\n",
    ")\n",
    "llm_chain_two_var = LLMChain(llm=chat, prompt=prompt_template_two_var)\n",
    "input_vars = {\"pet\": \"cat\", \"language\": \"german\"}\n",
    "llm_chain_two_var.invoke(input=input_vars)"
   ],
   "outputs": [],
   "execution_count": null
  },
  {
   "cell_type": "markdown",
   "id": "2f6ce79d-75f5-433b-9c60-7ccb8b3ff790",
   "metadata": {},
   "source": [
    "Pokud člověk chce odpovědi na více separátních vstupů, není třeba popořadě manuálně provolávat model, ale lze použít metodu *apply*. Té se podhodí list slovníků s proměnnými."
   ]
  },
  {
   "cell_type": "code",
   "id": "74a0d464-9309-4ff6-b130-7ba2d6bb89ca",
   "metadata": {},
   "source": [
    "input_list = [\n",
    "    {\"pet\": \"parrot\", \"language\":\"english\"},\n",
    "    {\"pet\": \"bear\", \"language\":\"czech\"},\n",
    "    {\"pet\": \"monkey\", \"language\":\"german\"}\n",
    "]\n",
    "\n",
    "llm_chain_two_var.apply(input_list)"
   ],
   "outputs": [],
   "execution_count": null
  },
  {
   "cell_type": "markdown",
   "id": "7c5076b4-e0ba-4861-b51f-03cdcceeb4b8",
   "metadata": {},
   "source": [
    "#### [Sekvenční chainy](https://python.langchain.com/docs/modules/chains/foundational/sequential_chains)\n",
    "Sekvenční chainy jsou určeny pro situace, kdy výstup jednoho provolání modelu vkládáme jako vstup do provolání druhého. Existují ve dvou variantách:\n",
    "- SimpleSequentialChain, který má jen jeden vstup a jeden výstup\n",
    "- SequentialChain umožňující existenci více vstupů a výstupů\n",
    "\n",
    "Pro ukázku SimpleSequentialChain si napřed vytvoříme dva LLMChainy."
   ]
  },
  {
   "cell_type": "code",
   "id": "ef45a7e8-928d-4aab-b96a-1c26fd1c6c58",
   "metadata": {},
   "source": [
    "from langchain.chains import SimpleSequentialChain\n",
    "\n",
    "chat = ChatOpenAI(temperature=0.95)\n",
    "\n",
    "prompt_template_post = ChatPromptTemplate.from_template(\n",
    "    \"Write a LinkedIn post for company {company}.\"\n",
    ")\n",
    "\n",
    "post_chain = LLMChain(llm=chat, prompt=prompt_template_post)"
   ],
   "outputs": [],
   "execution_count": null
  },
  {
   "cell_type": "code",
   "id": "99661f46-b4c9-4a23-b8e4-fe5dd62b506c",
   "metadata": {},
   "source": [
    "prompt_template_summary = ChatPromptTemplate.from_template(\n",
    "    \"\"\"\n",
    "    Summarize the text surrounded by three quotation marks in one sentence.\n",
    "    Text: '''{text}''''\n",
    "    \"\"\"\n",
    ")\n",
    "\n",
    "summary_chain = LLMChain(llm=chat, prompt=prompt_template_summary)"
   ],
   "outputs": [],
   "execution_count": null
  },
  {
   "cell_type": "markdown",
   "id": "b7b8f8d6-798d-460c-960b-612e8f96d6c9",
   "metadata": {},
   "source": [
    "Následně s jejich pomocí vytvoříme SimpleSequentialChain."
   ]
  },
  {
   "cell_type": "code",
   "id": "168a9c7a-a259-4dc1-9d40-3fbd42c43ee4",
   "metadata": {},
   "source": [
    "overall_chain = SimpleSequentialChain(chains=[post_chain, summary_chain], verbose=True)"
   ],
   "outputs": [],
   "execution_count": null
  },
  {
   "cell_type": "markdown",
   "id": "7ecb6010-d00b-4b5d-86f8-6aea084e2fe0",
   "metadata": {},
   "source": [
    "Ten uvedeme do provozu provoláním metody *invoke*. Do té vložíme hodnotu, která bude dosazena do prvního LLMChainu (pořadí chainů dáno pořadím v listu vkládaného do parametru *chains*).  \n",
    "Jelikož jsme *SimpleSequentialChain* vytvořili s parametrem *verbose*=True, vidíme i mezivýsledky - výstup prvního a druhého LLMChainu v modré resp. žluté barvě. A ano, jsou zde warningy. Asi se jedná o nějaké volání v pozadí; zatím jsem nepřišel na to, co mám čím nahradit."
   ]
  },
  {
   "cell_type": "code",
   "id": "773304e6-0b89-45ff-b8b1-7f70f7913592",
   "metadata": {},
   "source": [
    "post_summary = overall_chain.invoke(\"Hamster food Inc.\")"
   ],
   "outputs": [],
   "execution_count": null
  },
  {
   "cell_type": "markdown",
   "id": "28539572-1485-4766-a8a0-561da430286c",
   "metadata": {},
   "source": [
    "Výsledek jsme si uložili do proměnné *post_summary*."
   ]
  },
  {
   "cell_type": "code",
   "id": "b3fa8b01-4550-4703-b080-b02172f6ea2f",
   "metadata": {},
   "source": [
    "post_summary"
   ],
   "outputs": [],
   "execution_count": null
  },
  {
   "cell_type": "markdown",
   "id": "a0ce02a8-202b-4b59-a8df-7e27797a53fe",
   "metadata": {},
   "source": [
    "S *verbose*=False žádné barevné výsledky neuvidíme."
   ]
  },
  {
   "cell_type": "code",
   "id": "f1b20d7f-1730-44b3-baac-f225716fb796",
   "metadata": {},
   "source": [
    "overall_chain = SimpleSequentialChain(chains=[post_chain, summary_chain], verbose=False)\n",
    "post_summary = overall_chain.invoke(\"Hamster food Inc.\")"
   ],
   "outputs": [],
   "execution_count": null
  },
  {
   "cell_type": "code",
   "id": "94a4ea36-a96b-4b49-a89f-8eab00df43d5",
   "metadata": {},
   "source": [
    "post_summary"
   ],
   "outputs": [],
   "execution_count": null
  },
  {
   "cell_type": "markdown",
   "id": "c720438d-e6b6-49b4-a1f0-80b3101edaba",
   "metadata": {},
   "source": [
    "Nyní se podívejme na *SequentialChain*. Zde první LLMChain bude mít dva vstupy. Navíc tu v parametru *output_key* říkáme, do jak pojmenované proměnné zpracované dalšími LLMChainy se má výstup tohoto chainu uložit."
   ]
  },
  {
   "cell_type": "code",
   "id": "db3cd209-f82b-41d0-a576-139bade3c728",
   "metadata": {},
   "source": [
    "from langchain.chains import SequentialChain\n",
    "\n",
    "chat = ChatOpenAI(temperature=0.95)\n",
    "\n",
    "prompt_template_post = ChatPromptTemplate.from_template(\n",
    "    \"Write a LinkedIn post for company {company} with length of {sentences_count} sentences.\"\n",
    ")\n",
    "\n",
    "post_chain = LLMChain(llm=chat, prompt=prompt_template_post, output_key=\"linkendin_post\")"
   ],
   "outputs": [],
   "execution_count": null
  },
  {
   "cell_type": "markdown",
   "id": "6e026ead-6c99-4c00-be14-35a0cad3b3dc",
   "metadata": {},
   "source": [
    "Dva vstupy a jeden *output_key* má i druhý *LLMChain*."
   ]
  },
  {
   "cell_type": "code",
   "id": "aaf3aa57-2e0b-4d80-a525-4abefb236af5",
   "metadata": {},
   "source": [
    "prompt_template_summary = ChatPromptTemplate.from_template(\n",
    "    \"\"\"\n",
    "    Summarize the text surrounded by three quotation marks in one sentence. Use {language} language.\n",
    "    Text: '''{linkendin_post}''''\n",
    "    \"\"\"\n",
    ")\n",
    "\n",
    "summary_chain = LLMChain(llm=chat, prompt=prompt_template_summary, output_key=\"summarization\")"
   ],
   "outputs": [],
   "execution_count": null
  },
  {
   "cell_type": "markdown",
   "id": "9e8c3b22-6581-47ea-a086-e9fe6d3c5267",
   "metadata": {},
   "source": [
    "Nyní si vytvoříme *SequentialChain*. Oproti *SimpleSequentialChain* tu navíc máme parametry *input_variables* a *output_variables*. Všimněme si, že i když se proměnná *language* používá až v druhém LLMChainu, je v *input_variables*. První LLMChain ji prostě ignoruje.  \n",
    "V SequentialChainu bychom mohli mít více chainů a ty by ani nemusely mít uspořádány čistě sériově. Langchain už by si je postupně pospouštěl podle potřebných input a output proměnných. Dokonce ani konec nemusí být v jednom chainu - zakončení může být více a pak je output_key každého koncového chainu umístěn do listu v *output_variables*."
   ]
  },
  {
   "cell_type": "code",
   "id": "f39688af-ed80-438c-bcac-2f6a36785551",
   "metadata": {},
   "source": [
    "overall_chain = SequentialChain(\n",
    "    chains=[post_chain, summary_chain],\n",
    "    input_variables=[\"company\", \"sentences_count\", \"language\"],\n",
    "    output_variables=[\"summarization\"],\n",
    "    verbose=True\n",
    ")"
   ],
   "outputs": [],
   "execution_count": null
  },
  {
   "cell_type": "markdown",
   "id": "74c26168-ee50-48e2-ac37-961384329a6b",
   "metadata": {},
   "source": [
    "Aktivovat *SequentialChain* můžeme vložením slovníku se záznamem pro každou *input_variable* do instance chainu."
   ]
  },
  {
   "cell_type": "code",
   "id": "a2deee5c-cbb1-4640-bf69-9780abddff15",
   "metadata": {},
   "source": [
    "overall_chain.invoke({\"language\":\"czech\", \"sentences_count\":3, \"company\":\"Turtles speedtravel\"})"
   ],
   "outputs": [],
   "execution_count": null
  },
  {
   "cell_type": "markdown",
   "id": "17a3d0dd-989a-4e8c-bb29-9fa6fd61bd77",
   "metadata": {},
   "source": [
    "Všimněme si ale, že i když jsme nastavili *verbose*=True, nevidíme mezivýsledky. Netušíme tak, co se vlastně uvnitř děje. Když ale nastavíme langchain do debug modu s pomocí *langchain.debug* = True, uvidíme vše do nejmenších podrobností."
   ]
  },
  {
   "cell_type": "code",
   "id": "74a7689e-5e08-4806-aa82-78c5b903034a",
   "metadata": {},
   "source": [
    "import langchain\n",
    "langchain.debug = True"
   ],
   "outputs": [],
   "execution_count": null
  },
  {
   "cell_type": "code",
   "id": "68be20b2-4368-40ee-a74f-981e3e80d681",
   "metadata": {},
   "source": [
    "overall_chain.invoke({\"language\":\"czech\", \"sentences_count\":3, \"company\":\"Turtles speedtravel\"})"
   ],
   "outputs": [],
   "execution_count": null
  },
  {
   "cell_type": "markdown",
   "id": "af783813-1f49-45fc-aa13-33fcc8aa06a6",
   "metadata": {},
   "source": [
    "#### RouterChain\n",
    "RouterChain dokáže posoudit, na který z podřízených chainů poslat uživatelský vstup. Narozdíl od sekvenčích chainů, kde je posloupnost řízena jménem proměnných (a tedy volbou programátora), v případě LLMRouterChain se o rozzařování skutečně stará jazykový model.  \n",
    "Pozn.: v této podkapitole čerpám z langchainového kurzu z deeplearning.ai opravdu extenzivně - MULTI_PROMPT_ROUTER_TEMPLATE je převzat beze změn metodou ctrl+C, ctrl+V.  \n",
    "Nejprve si vytvoříme základy šablon pro programování a pro vaření."
   ]
  },
  {
   "cell_type": "code",
   "id": "a5b5ac58-2447-4fe6-89b8-f00ec7c81224",
   "metadata": {},
   "source": [
    "from langchain.chains.router import MultiPromptChain\n",
    "from langchain.chains.router.llm_router import LLMRouterChain,RouterOutputParser\n",
    "from langchain.prompts import PromptTemplate\n",
    "\n",
    "it_problem_template = \"\"\"You are a very smart programmer. \n",
    "You are great at answering questions about computers, programming and IT in a concise \n",
    "and easy to understand manner. \n",
    "When you don't know the answer to a question you admit that you don't know.\n",
    "\n",
    "Here is a question:\n",
    "{input}\"\"\"\n",
    "\n",
    "cooking_template = \"\"\"Your are master chef, expert at cooking and food preparation. \n",
    "When you don't know the answer to a question you admit that you don't know.\n",
    "\n",
    "\n",
    "Here is a question:\n",
    "{input}\n",
    "\"\"\"\n",
    "\n",
    "prompt_infos = [\n",
    "    {\n",
    "        \"name\": \"programming\", \n",
    "        \"description\": \"Good for answering questions about programming and IT\", \n",
    "        \"prompt_template\": it_problem_template\n",
    "    },\n",
    "    {\n",
    "        \"name\": \"food\", \n",
    "        \"description\": \"Good for answering questions about food and cooking\", \n",
    "        \"prompt_template\": cooking_template\n",
    "    }\n",
    "]"
   ],
   "outputs": [],
   "execution_count": null
  },
  {
   "cell_type": "markdown",
   "id": "8ea0867f-41c0-4e24-87a1-0123065299c1",
   "metadata": {},
   "source": [
    "Následně dojde k vytvoření instance jazykového modelu a listu slovníku o podchainech."
   ]
  },
  {
   "cell_type": "code",
   "id": "8f91a9c6-9f7c-44c7-84b3-dd3c51fa202e",
   "metadata": {},
   "source": [
    "chat = ChatOpenAI(temperature=0)\n",
    "\n",
    "destination_chains = {}\n",
    "for one_prompt_info in prompt_infos:\n",
    "    name = one_prompt_info[\"name\"]\n",
    "    prompt_template = one_prompt_info[\"prompt_template\"]\n",
    "    prompt = ChatPromptTemplate.from_template(template=prompt_template)\n",
    "    chain = LLMChain(llm=chat, prompt=prompt)\n",
    "    destination_chains[name] = chain  \n",
    "    \n",
    "destinations = [f\"{one_prompt_info['name']}: {one_prompt_info['description']}\" for one_prompt_info in prompt_infos]\n",
    "destinations_str = \"\\n\".join(destinations)\n",
    "print(destinations_str)"
   ],
   "outputs": [],
   "execution_count": null
  },
  {
   "cell_type": "markdown",
   "id": "8ce4cbff-3de3-4482-b3ac-427de7e3cb88",
   "metadata": {},
   "source": [
    "Vytvoříme si i defaultní podchain, kam půjdou uživatelské dotazy, které se nevejdou nikam jinam."
   ]
  },
  {
   "cell_type": "code",
   "id": "6d45ae33-07df-4bd0-8095-e070f8ad8c97",
   "metadata": {},
   "source": [
    "default_prompt = ChatPromptTemplate.from_template(\"{input}\")\n",
    "default_chain = LLMChain(llm=chat, prompt=default_prompt)"
   ],
   "outputs": [],
   "execution_count": null
  },
  {
   "cell_type": "markdown",
   "id": "9711e81d-f1f8-4ba2-a8f6-ed2afcde68cb",
   "metadata": {},
   "source": [
    "Následuje extenzivní popis router šablony."
   ]
  },
  {
   "cell_type": "code",
   "id": "1445f206-d214-4c09-9857-252dc4f11cde",
   "metadata": {},
   "source": [
    "MULTI_PROMPT_ROUTER_TEMPLATE = \"\"\"Given a raw text input to a \n",
    "language model select the model prompt best suited for the input. \n",
    "You will be given the names of the available prompts and a \n",
    "description of what the prompt is best suited for. \n",
    "You may also revise the original input if you think that revising\n",
    "it will ultimately lead to a better response from the language model.\n",
    "\n",
    "<< FORMATTING >>\n",
    "Return a markdown code snippet with a JSON object formatted to look like:\n",
    "```json\n",
    "{{{{\n",
    "    \"destination\": string - name of the prompt to use or \"DEFAULT\"\n",
    "    \"next_inputs\": string - a potentially modified version of the original input\n",
    "}}}}\n",
    "```\n",
    "\n",
    "REMEMBER: \"destination\" MUST be one of the candidate prompt \n",
    "names specified below OR it can be \"DEFAULT\" if the input is not\n",
    "well suited for any of the candidate prompts.\n",
    "REMEMBER: \"next_inputs\" can just be the original input \n",
    "if you don't think any modifications are needed.\n",
    "\n",
    "<< CANDIDATE PROMPTS >>\n",
    "{destinations}\n",
    "\n",
    "<< INPUT >>\n",
    "{{input}}\n",
    "\n",
    "<< OUTPUT (remember to include the ```json)>>\"\"\""
   ],
   "outputs": [],
   "execution_count": null
  },
  {
   "cell_type": "markdown",
   "id": "816f87b1-98c5-4cfe-948c-69ceb10470a7",
   "metadata": {},
   "source": [
    "A vytvoření samotného routeru."
   ]
  },
  {
   "cell_type": "code",
   "id": "199f160d-bb5c-4ba9-8bfe-bbda96cec22e",
   "metadata": {},
   "source": [
    "router_template = MULTI_PROMPT_ROUTER_TEMPLATE.format(\n",
    "    destinations=destinations_str\n",
    ")\n",
    "router_prompt = PromptTemplate(\n",
    "    template=router_template,\n",
    "    input_variables=[\"input\"],\n",
    "    output_parser=RouterOutputParser(),\n",
    ")\n",
    "\n",
    "router_chain = LLMRouterChain.from_llm(chat, router_prompt)"
   ],
   "outputs": [],
   "execution_count": null
  },
  {
   "cell_type": "markdown",
   "id": "a731d4b6-a561-4bcf-adc6-9df69dbbd3d2",
   "metadata": {},
   "source": [
    "A nakonec tu máme chain, který *LLMRouterChain* obaluje a spojuje ho s podchainy."
   ]
  },
  {
   "cell_type": "code",
   "id": "c1b49296-d632-48c7-896d-0da0b9cad176",
   "metadata": {},
   "source": [
    "chain = MultiPromptChain(router_chain=router_chain, \n",
    "                         destination_chains=destination_chains, \n",
    "                         default_chain=default_chain, verbose=True\n",
    "                        )"
   ],
   "outputs": [],
   "execution_count": null
  },
  {
   "cell_type": "markdown",
   "id": "41ed5882-c749-4379-84c6-2554e4a8c1a2",
   "metadata": {},
   "source": [
    "Zde máme příklad programátorského podchainu."
   ]
  },
  {
   "cell_type": "code",
   "id": "3ce9553a-3412-40d0-96e4-0568d3e19d18",
   "metadata": {},
   "source": [
    "chain.invoke(\"What are good packages for graphs creation in Python?\")"
   ],
   "outputs": [],
   "execution_count": null
  },
  {
   "cell_type": "markdown",
   "id": "af950ceb-9b53-4539-bb61-e16e2cdeeb2b",
   "metadata": {},
   "source": [
    "Tady je dotaz na kuchařský podchain."
   ]
  },
  {
   "cell_type": "code",
   "id": "fda0addc-f51c-4e93-9111-c928e64c79b9",
   "metadata": {},
   "source": [
    "chain.run(\"How should I prepare fried cheese?\")"
   ],
   "outputs": [],
   "execution_count": null
  },
  {
   "cell_type": "markdown",
   "id": "9b36d4ea-8595-4665-91a6-bea295998dce",
   "metadata": {},
   "source": [
    "A nakonec defaultní podchain."
   ]
  },
  {
   "cell_type": "code",
   "id": "7467f3ad-2219-4c57-82d3-09102d15c7aa",
   "metadata": {},
   "source": [
    "chain.run(\"Who was Joseph II?\")"
   ],
   "outputs": [],
   "execution_count": null
  },
  {
   "cell_type": "markdown",
   "id": "6118b25a-0d30-49ba-8a1b-1a54332aefd6",
   "metadata": {},
   "source": [
    "#### [Transformation chain](https://python.langchain.com/docs/modules/chains/foundational/transformation)\n",
    "Transformation chain slouží k tomu, aby se na vstupní textový řetězec použila nějaká obecná pythoní funkce. Její jméno (tj. bez parametrů a kulatých závorek) se vloží do parametru *transofrm* konstruktoru *TransformChain*."
   ]
  },
  {
   "cell_type": "code",
   "id": "54de474f-f9c7-444a-8ace-f4684390ff5a",
   "metadata": {},
   "source": [
    "from langchain.chains import TransformChain\n",
    "\n",
    "def replace_animal(input_dict):\n",
    "    orig_text = input_dict[\"text\"]\n",
    "    replaced_text = orig_text.replace(\"squirrel\", \"unicorn\")\n",
    "    replaced_text = replaced_text.replace(\"squirrels\", \"unicorns\")\n",
    "    replaced_text = replaced_text.replace(\"Squirrel\", \"Unicorn\")\n",
    "    replaced_text = replaced_text.replace(\"Squirrels\", \"Unicorns\")\n",
    "    return {\"output_text\": replaced_text}\n",
    "\n",
    "transform_chain = TransformChain(\n",
    "    input_variables=[\"text\"], output_variables=[\"output_text\"], transform=replace_animal\n",
    ")"
   ],
   "outputs": [],
   "execution_count": null
  },
  {
   "cell_type": "markdown",
   "id": "43ae2552-8427-41d4-9206-9e79ecd969a7",
   "metadata": {},
   "source": [
    "Následně se s chainy pracuje jako v předchozích příkladech."
   ]
  },
  {
   "cell_type": "code",
   "id": "89372aa4-b014-4fbf-a321-0f04f115d58b",
   "metadata": {},
   "source": [
    "template = \"\"\"Find strange formulations in following text and write why are they strange:\n",
    "\n",
    "{output_text}\n",
    "\n",
    "Summary:\"\"\"\n",
    "prompt = PromptTemplate(input_variables=[\"output_text\"], template=template)\n",
    "chat = ChatOpenAI(temperature=0.0, model_name=\"gpt-3.5-turbo\")\n",
    "llm_chain = LLMChain(llm=chat, prompt=prompt)\n",
    "sequential_chain = SimpleSequentialChain(chains=[transform_chain, llm_chain])"
   ],
   "outputs": [],
   "execution_count": null
  },
  {
   "cell_type": "code",
   "id": "b8b9c938-4597-4714-949d-91f4c60498e1",
   "metadata": {},
   "source": [
    "sequential_chain.invoke(\n",
    "    \"\"\"\n",
    "    Squirrels are members of the family Sciuridae (/sɪˈjuːrɪdeɪ, -diː/), a family that includes small or medium-size rodents. \n",
    "    The squirrel family includes tree squirrels, ground squirrels (including chipmunks and prairie dogs, among others), \n",
    "    and flying squirrels. Squirrels are indigenous to the Americas, Eurasia, and Africa, and were introduced by humans to Australia.[1] \n",
    "    The earliest known fossilized squirrels date from the Eocene epoch, and among other living rodent families, the squirrels are \n",
    "    most closely related to the mountain beaver and to the dormice.\n",
    "    \"\"\"\n",
    ")"
   ],
   "outputs": [],
   "execution_count": null
  },
  {
   "cell_type": "markdown",
   "id": "6cd8e26d-ded6-43fe-99e1-982fc97eec93",
   "metadata": {},
   "source": [
    "## Paměť\n",
    "LLM modely jako takové si při odpovídání na uživatelův vstup předchozí interakce nepamatují. Proto se do nich musí explicitně přidat paměť, která bude historii v té či oné formě obsahovat.  \n",
    "#### ConversationBufferMemory\n",
    "Základním paměťovým objektem je *ConversationBufferMemory*. Ten si zkrátka pamatuje celou konverzaci tak, jak probíhala. Jak ale vypadá praktické použití? Asi nejsnazší je použit [*ConversationChain*](https://github.com/langchain-ai/langchain/blob/master/libs/langchain/langchain/chains/conversation/base.py). Do jeho konstruktoru vložíme chatovací model, paměť a lze sem umístit i flag, že požadujeme verbose výstup.  \n",
    "BACHA - *ConversationBufferMemory* dovoluje v parametru *memory_key* měnit defaultní klíč (s hodnotou *history*), skrze který se dá dostat k paměti. Jenomže *ConversationalChain* s ničím takovým nepočítá a pokud nedostane *history*, tak způsobí pád."
   ]
  },
  {
   "cell_type": "code",
   "id": "b59b1498-2d58-4c57-a206-db6c54479b39",
   "metadata": {},
   "source": [
    "from langchain.memory import ConversationBufferMemory\n",
    "from langchain.chains import ConversationChain\n",
    "\n",
    "chat = ChatOpenAI(temperature=0.3, model_name=\"gpt-3.5-turbo\")\n",
    "\n",
    "conv_buffer_memory = ConversationBufferMemory(return_messages=False)\n",
    "\n",
    "conversation = ConversationChain(\n",
    "    llm=chat,\n",
    "    verbose=True,\n",
    "    memory=conv_buffer_memory\n",
    ")"
   ],
   "outputs": [],
   "execution_count": null
  },
  {
   "cell_type": "code",
   "id": "dce76f98-0cfb-4b58-a01f-24fd7e122ec6",
   "metadata": {},
   "source": [
    "langchain.debug = False"
   ],
   "outputs": [],
   "execution_count": null
  },
  {
   "cell_type": "code",
   "id": "8fa1c2b8-1b5c-4d73-acd6-317a687f8f73",
   "metadata": {},
   "source": [
    "conversation.invoke(input=\"Hi, who are you?\")"
   ],
   "outputs": [],
   "execution_count": null
  },
  {
   "cell_type": "code",
   "id": "aa96aa00-dad5-4088-9a4d-25b67ef6c587",
   "metadata": {},
   "source": [
    "conversation.invoke(input=\"Do you know any famous hamsters?\")"
   ],
   "outputs": [],
   "execution_count": null
  },
  {
   "cell_type": "code",
   "id": "63fc0831-a7d2-42fb-9dad-e0bf224092d8",
   "metadata": {},
   "source": [
    "conversation.invoke(input=\"Have you ever heard about hamster called 'Boo'?\")"
   ],
   "outputs": [],
   "execution_count": null
  },
  {
   "cell_type": "markdown",
   "id": "a5127a2e-022d-42e8-a699-35a6ddb7da58",
   "metadata": {},
   "source": [
    "Na co slouží v definici paměťového objektu parametr *return_messages*? S pomocí metody *load_memory_variables* lze z paměťového objetku získat dosavadní historii konverzace (zde prázdné složené závorky coby parametr metody mají své použití pro určité typy pamětí, které nějaký vstupní parametr požadují). Pakliže bylo *return_messages* rovno False, obdržíme výstup v podobě velkého stringu:"
   ]
  },
  {
   "cell_type": "code",
   "id": "102d6bbd-4ffa-4a2e-9253-441f696f3449",
   "metadata": {},
   "source": [
    "conv_buffer_memory.load_memory_variables({})"
   ],
   "outputs": [],
   "execution_count": null
  },
  {
   "cell_type": "markdown",
   "id": "7c81aacf-080c-44de-8757-ddd2bbf3317e",
   "metadata": {},
   "source": [
    "Pokud ale bude *return_messages* rovno True, má výstup metody složitější strukturu:"
   ]
  },
  {
   "cell_type": "code",
   "id": "3346f3bf-b299-4f33-8b29-8343fb4c34f4",
   "metadata": {},
   "source": [
    "conv_buffer_memory.load_memory_variables({})"
   ],
   "outputs": [],
   "execution_count": null
  },
  {
   "cell_type": "markdown",
   "id": "4146d5cc-a7a6-46f0-af4a-5584237c51cb",
   "metadata": {},
   "source": [
    "V případě, že potřebujeme nastavit systémový prompt, bohužel musíme sáhnout po něčem komplikovanějším než je *ConversationChain* (byť v dalších příkladech pamětí budeme pro jednoduchost používat právě ten). Kód níže uvedený byl převzat (s mírnou úpravou) ze spodku [této stránky](https://python.langchain.com/docs/modules/memory/) dokumentace.  \n",
    "Pozn.: pokud bude v tomto případě u paměti nastaveno *return_messages*=False, kód spadne. Pád je dán faktem, že *MessagesPlaceholder* potřebuje historii jako list konverzací, nikoli jako jeden string. Též je třeba, aby *variable_name* v *MessagePlaceholder* odpovídalo *memory_key* v paměti."
   ]
  },
  {
   "cell_type": "code",
   "id": "1504d770-df54-4a15-a991-8a7eab6fa616",
   "metadata": {},
   "source": [
    "from langchain.prompts import MessagesPlaceholder, SystemMessagePromptTemplate, HumanMessagePromptTemplate\n",
    "\n",
    "chat = ChatOpenAI(temperature=0.3, model_name=\"gpt-3.5-turbo\")\n",
    "prompt = ChatPromptTemplate(\n",
    "    messages=[\n",
    "        SystemMessagePromptTemplate.from_template(\n",
    "            \"You are an infantile AI assistant who start every message with 'peekaboo'.\"\n",
    "        ),\n",
    "        MessagesPlaceholder(variable_name=\"chat_history\"),\n",
    "        HumanMessagePromptTemplate.from_template(\"{question}\")\n",
    "    ]\n",
    ")\n",
    "conv_buffer_memory = ConversationBufferMemory(memory_key=\"chat_history\", return_messages=True)\n",
    "conversation = LLMChain(\n",
    "    llm=chat,\n",
    "    prompt=prompt,\n",
    "    verbose=True,\n",
    "    memory=conv_buffer_memory\n",
    ")"
   ],
   "outputs": [],
   "execution_count": null
  },
  {
   "cell_type": "code",
   "id": "4b211208-9e87-4d76-a0d6-c7211eb63ff9",
   "metadata": {},
   "source": [
    "conversation({\"question\": \"Hi, who are you?\"})"
   ],
   "outputs": [],
   "execution_count": null
  },
  {
   "cell_type": "code",
   "id": "1a998216-e772-4de3-af55-68699a3e3231",
   "metadata": {},
   "source": [
    "conversation({\"question\": \"Do you know any famous hamsters?\"})"
   ],
   "outputs": [],
   "execution_count": null
  },
  {
   "cell_type": "markdown",
   "id": "6ad91ad1-a671-4300-a66c-bd4ae710cf1f",
   "metadata": {},
   "source": [
    "#### ConversationBufferWindowMemory\n",
    "*ConversationBufferWindowMemory* je variací na výše uvedený *ConversationBufferMemory*. Narozdíl od něj neobsahuje celou konverzaci, ale jen posledních *k* výměn (udáváme stejně se jmenujícím parametrem v konstruktoru paměti). Díky tomu je provoz chatbota levnější."
   ]
  },
  {
   "cell_type": "code",
   "id": "220a9a74-ce83-408d-85b0-3ed26c23f599",
   "metadata": {},
   "source": [
    "from langchain.memory import ConversationBufferWindowMemory \n",
    "\n",
    "chat = ChatOpenAI(temperature=0.3, model_name=\"gpt-3.5-turbo\")\n",
    "\n",
    "window_memory = ConversationBufferWindowMemory(k=1)\n",
    "\n",
    "conversation = ConversationChain(\n",
    "    llm=chat,\n",
    "    verbose=False,\n",
    "    memory=window_memory\n",
    ")"
   ],
   "outputs": [],
   "execution_count": null
  },
  {
   "cell_type": "code",
   "id": "114fbf6f-cdd5-4b6e-b90b-34bc7e34dfc4",
   "metadata": {},
   "source": [
    "conversation.invoke(input=\"Hi, who are you?\")"
   ],
   "outputs": [],
   "execution_count": null
  },
  {
   "cell_type": "code",
   "id": "dda92cb3-3996-4a16-9b67-859b54ef4672",
   "metadata": {},
   "source": [
    "window_memory.load_memory_variables({})"
   ],
   "outputs": [],
   "execution_count": null
  },
  {
   "cell_type": "code",
   "id": "0b60fe56-17eb-48cf-aec7-a21b35f7af8e",
   "metadata": {},
   "source": [
    "conversation.invoke(input=\"Do you know any famous rabbits?\")"
   ],
   "outputs": [],
   "execution_count": null
  },
  {
   "cell_type": "code",
   "id": "0c9812d7-af38-4c78-bdb5-77e72b1c1f5a",
   "metadata": {},
   "source": [
    "window_memory.load_memory_variables({})"
   ],
   "outputs": [],
   "execution_count": null
  },
  {
   "cell_type": "markdown",
   "id": "763a48a7-be10-448d-b29e-2cf1b1f11bc5",
   "metadata": {},
   "source": [
    "#### ConversationTokenBufferMemory\n",
    "Na podobném principu je založena i *ConversationTokenBufferMemory*, která uchovává historii jen dokud se vejde do *max_token_limit* počtu tokenů. Pokud nějaký příspěvek tuto hranici přesahuje, historie se de facto vymeže, tj. není to tak, že by v ní zbyl kousek starého příspěvku. Jelikož tokenizace je pro různé modely různá, musí se paměti v parametru *llm* předat i použitý model. Navíc je potřeba (minimálně pro OpenAI modely, ale možná i pro open source modely) mít nainstalovaný balíček [tiktoken](https://pypi.org/project/tiktoken/)."
   ]
  },
  {
   "cell_type": "code",
   "id": "823c769a-e473-406d-bc19-fbf304019d47",
   "metadata": {},
   "source": [
    "from langchain.memory import ConversationTokenBufferMemory \n",
    "\n",
    "chat = ChatOpenAI(temperature=0.3, model_name=\"gpt-3.5-turbo\")\n",
    "\n",
    "token_memory = ConversationTokenBufferMemory(llm=chat, max_token_limit=60)\n",
    "\n",
    "conversation = ConversationChain(\n",
    "    llm=chat,\n",
    "    verbose=False,\n",
    "    memory=token_memory\n",
    ")"
   ],
   "outputs": [],
   "execution_count": null
  },
  {
   "cell_type": "code",
   "id": "7de6bc66-12bd-484c-800c-f4e4ab5ba2d4",
   "metadata": {},
   "source": [
    "conversation.invoke(input=\"Hi, who are you?\")"
   ],
   "outputs": [],
   "execution_count": null
  },
  {
   "cell_type": "code",
   "id": "bd773ff1-4962-43c3-ac1b-461dc4e55341",
   "metadata": {},
   "source": [
    "token_memory.load_memory_variables({})"
   ],
   "outputs": [],
   "execution_count": null
  },
  {
   "cell_type": "code",
   "id": "6f0f5a55-0f74-4fc0-94fd-6bb96071a6e4",
   "metadata": {},
   "source": [
    "conversation.invoke(input=\"Do you know any famous beavers?\")"
   ],
   "outputs": [],
   "execution_count": null
  },
  {
   "cell_type": "code",
   "id": "3dd329fe-6a9d-4237-9282-b2bdfba479df",
   "metadata": {},
   "source": [
    "token_memory.load_memory_variables({})"
   ],
   "outputs": [],
   "execution_count": null
  },
  {
   "cell_type": "markdown",
   "id": "92435d6e-8e90-4bbc-beb9-8ff42f00d5e3",
   "metadata": {},
   "source": [
    "#### ConversationSummaryMemory\n",
    "Odlišným typem paměti je *ConversationSummaryMemory*. U ní se provolává jazykový model (specifikovaný v konstruktoru paměti pod parametrem *llm*, tj. může mít jiné vlastnosti než \"hlavní\" v aplikaci používaný model), který má za úkol provést sumarizaci dosavadní historie konverzace a nové konverzační výměny mezi člověkem a strojem. Užitečné je to zejména u dlouhých kovnerzací, kde úspora z redukce délky historie přebije nutnost většího počtu provolávání modelu."
   ]
  },
  {
   "cell_type": "code",
   "id": "6fc9fab2-418d-4710-a153-367e7769927b",
   "metadata": {},
   "source": [
    "from langchain_openai import OpenAI\n",
    "from langchain.memory import ConversationSummaryMemory \n",
    "\n",
    "chat = ChatOpenAI(temperature=0.3, model_name=\"gpt-3.5-turbo\")\n",
    "\n",
    "summary_memory = ConversationSummaryMemory(llm=OpenAI(temperature=0))\n",
    "\n",
    "conversation = ConversationChain(\n",
    "    llm=chat,\n",
    "    verbose=False,\n",
    "    memory=summary_memory\n",
    ")"
   ],
   "outputs": [],
   "execution_count": null
  },
  {
   "cell_type": "code",
   "id": "5443d978-aec8-48b6-963e-e28d53d43bf3",
   "metadata": {},
   "source": [
    "conversation.invoke(input=\"Hi, who are you?\")"
   ],
   "outputs": [],
   "execution_count": null
  },
  {
   "cell_type": "code",
   "id": "aca32eb8-94db-46bd-96d4-9ba12c81a44e",
   "metadata": {},
   "source": [
    "summary_memory.load_memory_variables({})"
   ],
   "outputs": [],
   "execution_count": null
  },
  {
   "cell_type": "code",
   "id": "97f30514-cf70-4a5e-bcde-9ca022abfd31",
   "metadata": {},
   "source": [
    "conversation.invoke(input=\"Do you know what are differences between rhinos and unicorns?\")"
   ],
   "outputs": [],
   "execution_count": null
  },
  {
   "cell_type": "code",
   "id": "57808f63-eed8-41f2-a093-2aa7edbc5669",
   "metadata": {},
   "source": [
    "summary_memory.load_memory_variables({})"
   ],
   "outputs": [],
   "execution_count": null
  },
  {
   "cell_type": "code",
   "id": "736ee973-a2e0-4d4b-98dd-3653082a3198",
   "metadata": {},
   "source": [
    "conversation.invoke(input=\"And what about similarities?\")"
   ],
   "outputs": [],
   "execution_count": null
  },
  {
   "cell_type": "code",
   "id": "3810d5d7-5281-474b-b4c2-7010de01df75",
   "metadata": {},
   "source": [
    "summary_memory.load_memory_variables({})"
   ],
   "outputs": [],
   "execution_count": null
  },
  {
   "cell_type": "markdown",
   "id": "3f70bea6-dfe2-4aa1-887b-1d4cbd3043de",
   "metadata": {},
   "source": [
    "#### ConversationEntityMemory\n",
    "Dalším speciálním typem paměti je *ConversationEntityMemory*. Ta z konverzace s pomocí jazykového modelu extrahuje informace o entitách.  \n",
    "Abychom se vyhnuli chybové hlášce\n",
    "```\n",
    "Got unexpected prompt input variables. The prompt expects ['history', 'input'], but got ['entities', 'history'] as inputs from memory, and input as the normal input key. (type=value_error)\n",
    "```\n",
    "musíme do *ConversationChain* přidat nový parametr *prompt*, do kterého vložíme importováním získanou *ENTITY_MEMORY_CONVERSATION_TEMPLATE*"
   ]
  },
  {
   "cell_type": "code",
   "id": "29f9c608-fb04-459a-bc26-8c74b9431193",
   "metadata": {},
   "source": [
    "from langchain.memory.prompt import ENTITY_MEMORY_CONVERSATION_TEMPLATE"
   ],
   "outputs": [],
   "execution_count": null
  },
  {
   "cell_type": "code",
   "id": "870fdb52-0353-4ea1-81d5-cabab0de879e",
   "metadata": {},
   "source": [
    "ENTITY_MEMORY_CONVERSATION_TEMPLATE"
   ],
   "outputs": [],
   "execution_count": null
  },
  {
   "cell_type": "code",
   "id": "559f73d3-3314-4c62-8954-3c401427cefb",
   "metadata": {},
   "source": [
    "from langchain.memory import ConversationEntityMemory \n",
    "from langchain.memory.prompt import ENTITY_MEMORY_CONVERSATION_TEMPLATE\n",
    "\n",
    "chat = ChatOpenAI(temperature=0.3, model_name=\"gpt-3.5-turbo\")\n",
    "\n",
    "entity_memory = ConversationEntityMemory(llm=OpenAI(temperature=0))\n",
    "\n",
    "conversation = ConversationChain(\n",
    "    llm=chat,\n",
    "    verbose=False,\n",
    "    prompt=ENTITY_MEMORY_CONVERSATION_TEMPLATE,\n",
    "    memory=entity_memory\n",
    ")"
   ],
   "outputs": [],
   "execution_count": null
  },
  {
   "cell_type": "code",
   "id": "038ece4e-0801-402f-86d9-8724b4061c52",
   "metadata": {},
   "source": [
    "conversation.invoke(input=\"Hi, who are you?\")"
   ],
   "outputs": [],
   "execution_count": null
  },
  {
   "cell_type": "markdown",
   "id": "ca3731f4-820b-4393-bacd-3f5c5c2e4e01",
   "metadata": {},
   "source": [
    "Pro zkontrolování obsahu paměti tentokrát nemůžeme použít *entity_memory.load_memory_variables({})*, ale musíme aplikovat *conversation.memory.entity_store.store*. Prozatím tam nic není."
   ]
  },
  {
   "cell_type": "code",
   "id": "49689bb0-d85e-4892-83e4-422015af71e1",
   "metadata": {},
   "source": [
    "conversation.memory.entity_store.store"
   ],
   "outputs": [],
   "execution_count": null
  },
  {
   "cell_type": "code",
   "id": "774023ff-d12f-41f4-afc4-7ae885ff7d84",
   "metadata": {},
   "source": [
    "conversation.invoke(input=\"Do you know what are differences between rhinos and unicorns?\")"
   ],
   "outputs": [],
   "execution_count": null
  },
  {
   "cell_type": "markdown",
   "id": "12104b4f-9e0e-4699-9786-f9740bd7e989",
   "metadata": {},
   "source": [
    "Postupně se ale začne pamět plnit dvojicemi \"entita\": \"informace o entitě\" (tady se to z nějakého důvodu nepovedlo...)."
   ]
  },
  {
   "cell_type": "code",
   "id": "07f5ffe9-f2a2-4a97-9ffc-b0ff3d36c3df",
   "metadata": {},
   "source": [
    "conversation.memory.entity_store.store"
   ],
   "outputs": [],
   "execution_count": null
  },
  {
   "cell_type": "code",
   "id": "070f0d10-3577-4841-9c72-7481fd9cd885",
   "metadata": {},
   "source": [
    "conversation.invoke(input=\"I read in a scientific journal that Duocorns, an unique breed of unicorns, have tow heads.\")"
   ],
   "outputs": [],
   "execution_count": null
  },
  {
   "cell_type": "code",
   "id": "d125a244-0ef1-42f2-9386-ca4ffd3cdcc7",
   "metadata": {},
   "source": [
    "conversation.memory.entity_store.store"
   ],
   "outputs": [],
   "execution_count": null
  },
  {
   "cell_type": "markdown",
   "id": "cffe2681-f57f-40e8-95ae-752d5d9b4573",
   "metadata": {},
   "source": [
    "## Q&A nad dokumenty"
   ]
  },
  {
   "cell_type": "markdown",
   "id": "27be55a8-340f-46d7-80d0-9b3daab60c98",
   "metadata": {},
   "source": [
    "#### Načtení dokumentů\n",
    "##### Načtení pdfka"
   ]
  },
  {
   "cell_type": "markdown",
   "id": "be0012e0-a2fc-463c-abb1-4818466fe859",
   "metadata": {},
   "source": [
    "S klasickým chatbotem si sice můžeme povídat, ale chudák zná přinejlepším jen ty informace, které měl k dispozici při trénování. Co když s ním ale chceme diskutovat obsah našich pro něj v době učení neznámých dokumentů? Této problematice se budeme věnovat právě nyní.  \n",
    "Pro začátek se bude naše množina dokumentů skládat z jednoho jediného kusu - z podmínek ke kreditním kartám od jedné z bank (nalezitelné [zde](https://www.kb.cz/cs/o-bance/dokumenty#13-Platebni-karty-debetni-a-kreditni)). Jedná se o pdf soubor. Pdfka ale umí langchain načítat až po nainstalování balíčku pypdf (přesněji různé langchainové metody mají různé prerekvizity, ale tahle cesta je asi nejméně komplikovaná).  \n",
    "Nejprve vytvoříme instanci třídy PyPDFLoader a to sice tak, že do konstruktoru vložíme cestu k souboru. Bacha - musí se jednat o string, nikoli o Path! Na instanci posléze provoláme metodu *load*. Existuje sice i *load_and_split*, ale tu zde z pedagogických důvodů probírat nebudeme - leze totiž do zelí tématu probíranému o kus dál."
   ]
  },
  {
   "cell_type": "code",
   "id": "9ef12bb0-c323-4ec1-8862-0109fa406a3c",
   "metadata": {},
   "source": [
    "from langchain_community.document_loaders import PyPDFLoader"
   ],
   "outputs": [],
   "execution_count": null
  },
  {
   "cell_type": "code",
   "id": "5eed3104-f4f1-4f1c-863c-bbbef3e18b11",
   "metadata": {},
   "source": [
    "file_path = \"source_files\\\\podminky_debetnich_karet.pdf\"\n",
    "\n",
    "loader = PyPDFLoader(file_path)"
   ],
   "outputs": [],
   "execution_count": null
  },
  {
   "cell_type": "code",
   "id": "5ee6eb52-beeb-4529-9482-18b6a1125ef6",
   "metadata": {},
   "source": [
    "pages = loader.load()"
   ],
   "outputs": [],
   "execution_count": null
  },
  {
   "cell_type": "markdown",
   "id": "87da8cb6-9983-4277-8d69-21a57ef01762",
   "metadata": {},
   "source": [
    "Load nahraje krom obsahu stránek dokumentu i metadata. V nich máme název souboru a číslo stránky. Tj. vypadá to nějak takto:\n",
    "```\n",
    "[Document(page_content='  \\n PODMÍNKY D EBETNÍCH KARET  ... výnosů z  trestné činnost i a financování te rorismu , ve znění \\npozdějších předpi sů ', metadata={'source': 'source_files\\\\podminky_debetnich_karet.pdf', 'page': 0}),\n",
    " Document(page_content='PODMÍNKY DEBETNÍCH KARET ... poskytnutí dané Bankovní \\nslužby.  \\n ', metadata={'source': 'source_files\\\\podminky_debetnich_karet.pdf', 'page': 1}),\n",
    "...\n",
    "```\n",
    "Pozn.: To, že u každé stránky - objektu typu *Document* - vidíme na začátku vždy \"PODMÍNKY DEBENTNÍCH KARET\", je dáno skutečností, že se zápatí stránky, které je vždy stejné, nějak dostalo na začátek. To mimo jiné znamená, že je potřeba dokumenty přes seriózním použitím začistit. Bohužel se tu též objevuje nadkritické množství mezer v místech, kde mezery neměly být (například hned v \"PODMÍNKY D EBETNÍCH KARET\")."
   ]
  },
  {
   "cell_type": "markdown",
   "id": "96f7c910-4ed0-4513-8b8a-40d997b41447",
   "metadata": {},
   "source": [
    "Jiný způsob, jak načíst obsah pdf souborů, je založen na práci balíčku [unstructured](https://pypi.org/project/unstructured/). Při přípravě tohoto textu jsem (pokud si dobře pamatuji) pro pfd žádnou rozšířenou verzi (ala pip install \"unstructured[pdf]\") instalovat nemusel. Tudíž jsem nenarazil na potřebu mít Rust kompilátor kvůli jedné z prerekvizit - balíčku safetensors. Nicméně dodatečně bylo třeba nainstalovat balíčky pdf2image a pdfminer.six (nikoli pdfminer - ten už je neudržovaný, navíc snaha o jeho použití skončila s chybovou hláškou \"ModuleNotFoundError: No module named 'pdfminer.high_level'\")."
   ]
  },
  {
   "cell_type": "code",
   "id": "15630cd4-9ce1-424e-b5a5-c702cb5111d2",
   "metadata": {},
   "source": [
    "from langchain_community.document_loaders import UnstructuredPDFLoader"
   ],
   "outputs": [],
   "execution_count": null
  },
  {
   "cell_type": "markdown",
   "id": "5e6da361-0c78-4bee-a6af-1990d15fb959",
   "metadata": {},
   "source": [
    "Unstructured loadery mohou fungovat ve dvou modech. Pokud bude parametr *mode* položet rovný \"single\", tak se celý dokument - zde pdfko - po použití metody *load* vrátí jako jeden langchainový *Document* objekt (tj. neproběhne ani rozdělení na stránky). Nicméně pokud se bude *mode* rovnat \"elements\", dojde k roztrhání dokumentu na malé kousky a ty kousky ponesou popisek charakterizují jejich obsah."
   ]
  },
  {
   "cell_type": "code",
   "id": "6b734b67-0ca2-42cd-81e6-521cf1051e22",
   "metadata": {},
   "source": [
    "loader = UnstructuredPDFLoader(\"source_files\\\\podminky_debetnich_karet.pdf\", mode=\"elements\")"
   ],
   "outputs": [],
   "execution_count": null
  },
  {
   "cell_type": "code",
   "id": "6c62357f-ddbf-40fd-af3b-3fa61ba69f60",
   "metadata": {},
   "source": [
    "data = loader.load()"
   ],
   "outputs": [],
   "execution_count": null
  },
  {
   "cell_type": "markdown",
   "id": "9888aaf6-1073-44cd-8207-beb8d5e51840",
   "metadata": {},
   "source": [
    "Zde máme pár příkladů:\n",
    "```\n",
    "[Document(page_content='PODMÍNKY DEBETNÍCH KARET', metadata={'source': 'source_files\\\\podminky_debetnich_karet.pdf', 'coordinates': {'points': ((239.57, 68.46839999999997), (239.57, 82.50839999999994), (456.64312, 82.50839999999994), (456.64312, 68.46839999999997)), 'system': 'PixelSpace', 'layout_width': 595.32, 'layout_height': 841.92}, 'filename': 'podminky_debetnich_karet.pdf', 'file_directory': 'source_files', 'last_modified': '2023-08-12T15:21:05', 'filetype': 'application/pdf', 'page_number': 1, 'category': 'Title'}),\n",
    " Document(page_content='Tyto Podmínky debetních karet obsahují bližší úpravu práv a povinností vyplývajících z uzavřené smlouvy, na základě které je poskytnuta debetní karta v souladu s pravidly příslušné Karetní společnosti. Seznamte se prosím důkladně s tímto dokumentem. Vaše případné dotazy rádi zodpovíme.', metadata={'source': 'source_files\\\\podminky_debetnich_karet.pdf', 'coordinates': {'points': ((56.64, 126.82999999999993), (56.64, 156.4699999999999), (541.018, 156.4699999999999), (541.018, 126.82999999999993)), 'system': 'PixelSpace', 'layout_width': 595.32, 'layout_height': 841.92}, 'filename': 'podminky_debetnich_karet.pdf', 'file_directory': 'source_files', 'last_modified': '2023-08-12T15:21:05', 'filetype': 'application/pdf', 'page_number': 1, 'category': 'NarrativeText'}),\n",
    "  Document(page_content='Článek 1. Poskytnutí debetní karty a její obnova', metadata={'source': 'source_files\\\\podminky_debetnich_karet.pdf', 'coordinates': {'points': ((65.184, 169.61839999999995), (65.184, 180.65839999999992), (317.03912, 180.65839999999992), (317.03912, 169.61839999999995)), 'system': 'PixelSpace', 'layout_width': 595.32, 'layout_height': 841.92}, 'filename': 'podminky_debetnich_karet.pdf', 'file_directory': 'source_files', 'last_modified': '2023-08-12T15:21:05', 'filetype': 'application/pdf', 'page_number': 1, 'category': 'NarrativeText'}),\n",
    " Document(page_content='1.1', metadata={'source': 'source_files\\\\podminky_debetnich_karet.pdf', 'coordinates': {'points': ((72.504, 195.3499999999999), (72.504, 204.3499999999999), (87.48599999999999, 204.3499999999999), (87.48599999999999, 195.3499999999999)), 'system': 'PixelSpace', 'layout_width': 595.32, 'layout_height': 841.92}, 'filename': 'podminky_debetnich_karet.pdf', 'file_directory': 'source_files', 'last_modified': '2023-08-12T15:21:05', 'filetype': 'application/pdf', 'page_number': 1, 'category': 'UncategorizedText'}),\n",
    "...\n",
    " Document(page_content='VER DDT_PODMPKEV.PDF', metadata={'source': 'source_files\\\\podminky_debetnich_karet.pdf', 'coordinates': {'points': ((487.18, 807.3276), (487.18, 811.2876), (539.8808799999999, 811.2876), (539.8808799999999, 807.3276)), 'system': 'PixelSpace', 'layout_width': 595.32, 'layout_height': 841.92}, 'filename': 'podminky_debetnich_karet.pdf', 'file_directory': 'source_files', 'last_modified': '2023-08-12T15:21:05', 'filetype': 'application/pdf', 'page_number': 10, 'category': 'Title'})]\n",
    "```\n",
    "Všimněme si, že kousky textu jsou seřazeny podle toho, jak se v pdfku objevily. V metadatech nalezneme mimo jiné číslo stránky, čtyři body ohraničující lokaci textu, jméno souboru anebo kategorii textu.  \n",
    "Jaké kategorie tu vidíme? \n",
    "- Title - nevyskytuje se jen u nadpisů, ale například i u kapitálkami vyvedeného zápatí (\"VER DDT_PODMPKEV.PDF\" z konce příkladu)\n",
    "- NarrativeText - většinově se jedná o občejný text\n",
    "- UncategorizedText - zde se obvykle nalézá \"smetí\" - číslování stránek, čísla paragrafů stojící mimo text anebo zápatí."
   ]
  },
  {
   "cell_type": "markdown",
   "id": "de3527d7-fa7b-460c-b93e-aa0d38871765",
   "metadata": {},
   "source": [
    "Rozdělení na kategorie nicméně není úplně spolehlivé. Když bychom si u našeho dokumentu nechali vypsat všechny \"Title\" dokumenty kódem\n",
    "```python\n",
    "for one_doc in data:\n",
    "    if one_doc.metadata[\"category\"] == \"Title\":\n",
    "        print(one_doc.page_content)\n",
    "```\n",
    "najdeme tam mezi nadpisy a kousky zápatí i normální text, např. \"3D Secure. Všechny námi poskytnuté debetní karty jsou 3D Secure aktivní.\". A naopak v \"NarrativeText\" člověk nalezne pár nadpisů. Je nakonec otázkou, zda není lepší, když si člověk dokument prohlédne a začistí ho ručně podle svého. Nakonec tak bude nejvhodnější single mode unstructured (narozdíl od PyPDFLoaderu nemá nabytečné mezery)"
   ]
  },
  {
   "cell_type": "code",
   "id": "6c6f59d6-fad4-46b4-824e-e15c44314d30",
   "metadata": {},
   "source": [
    "loader = UnstructuredPDFLoader(\"source_files\\\\podminky_debetnich_karet.pdf\", mode=\"single\")\n",
    "data = loader.load()"
   ],
   "outputs": [],
   "execution_count": null
  },
  {
   "cell_type": "markdown",
   "id": "6ff6ac5a-42f5-4431-ab9f-e7863f09c61f",
   "metadata": {},
   "source": [
    "Vytvoření objektu typu Document potřebné pro ruční vytváření fragmentů:"
   ]
  },
  {
   "cell_type": "code",
   "id": "a7c6497d-ed58-4601-858e-4410eae88c92",
   "metadata": {},
   "source": [
    "from langchain_core.documents.base import Document\n",
    "\n",
    "fragment = Document(\n",
    "    page_content=\"this is fragment text\",\n",
    "    metadata={\"file\":\"something.pdf\", \"page\":0, \"another_metadata_field\":\"something\"}\n",
    ")"
   ],
   "outputs": [],
   "execution_count": null
  },
  {
   "cell_type": "markdown",
   "id": "e25a0d6a-cf0c-4235-bfa7-059c26048f97",
   "metadata": {},
   "source": [
    "##### Načtení html souboru\n",
    "Pro načítání html stránek existují v rámci Langchainu dvě podporované cesty. Jedna vyžaduje použití balíčku [unstructured](https://pypi.org/project/unstructured/). Jako data použijeme wiki stránku o [jednom druhu křečka](https://en.wikipedia.org/wiki/Winter_white_dwarf_hamster). Zdůrazněme, že následující postup se týka html souboru uloženého na disku, nikoli webové stránky - na to je jiný loader."
   ]
  },
  {
   "cell_type": "code",
   "id": "cbcc4df2-2598-47d7-923e-21eeb4bd8841",
   "metadata": {},
   "source": [
    "from langchain_community.document_loaders import UnstructuredHTMLLoader"
   ],
   "outputs": [],
   "execution_count": null
  },
  {
   "cell_type": "code",
   "id": "8630637a-e794-4995-943b-bb18ed253a11",
   "metadata": {},
   "source": [
    "loader = UnstructuredHTMLLoader(\"source_files\\\\Winter white dwarf hamster - Wikipedia.htm\")"
   ],
   "outputs": [],
   "execution_count": null
  },
  {
   "cell_type": "code",
   "id": "365adbdf-46c0-4d68-8855-71106cf137a5",
   "metadata": {},
   "source": [
    "data = loader.load()"
   ],
   "outputs": [],
   "execution_count": null
  },
  {
   "cell_type": "markdown",
   "id": "59297196-13b6-491c-8991-c4fa23bbd9dc",
   "metadata": {},
   "source": [
    "Nahraný objekt vypadá (po vyřazení většiny textu z důvodu přehlednosti) takto:\n",
    "```\n",
    "[Document(page_content='Toggle the table of contents\\n\\nToggle the table of contents\\n\\nWinter white dwarf hamster\\n\\n43 languages\\n\\nالعربية\\n\\nAsturianu\\n\\nБългарски\\n\\nBrezhoneg\\n\\nCatalà\\n\\nCebuano\\n\\nČeština\\n\\nDeutsch\\n\\nDiné bizaad\\n\\nEesti\\n\\nEspañol\\n\\nEuskara\\n\\nفارسی\\n\\nFrançais\\n\\nFrysk\\n\\n한국어\\n\\nՀայերեն\\n\\nHrvatski\\n\\nBah  \n",
    "...  \n",
    "nCategories:\\n\\nIUCN Red List least concern species\\n\\nPhodopus\\n\\nRodents of Asia\\n\\nMammals described in 1773\\n\\nMammals of Siberia\\n\\nTaxa named by Peter Simon Pallas\\n\\nHidden categories: \\n\\nArticles with short description\\n\\nShort description is different from Wikidata\\n\\nGood articles\\n\\nArticles with \\'species\\' microformats', metadata={'source': 'source_files\\\\Winter white dwarf hamster - Wikipedia.htm'})]\n",
    "```\n",
    "Před použitím bude tedy potřeba provést opravdu masivní začištění."
   ]
  },
  {
   "cell_type": "markdown",
   "id": "e50eec47-4c9c-424e-88c4-09d1addb7d5e",
   "metadata": {},
   "source": [
    "Opět je možné použít unstructured načítání v modu \"elements\"."
   ]
  },
  {
   "cell_type": "code",
   "id": "f0846d3b-4aa9-4bfb-8feb-be7ca63f9ea8",
   "metadata": {},
   "source": [
    "loader = UnstructuredHTMLLoader(\"source_files\\\\Winter white dwarf hamster - Wikipedia.htm\", mode=\"elements\")"
   ],
   "outputs": [],
   "execution_count": null
  },
  {
   "cell_type": "code",
   "id": "81140d58-5790-4d63-99d6-487772f2fb37",
   "metadata": {},
   "source": [
    "data = loader.load()"
   ],
   "outputs": [],
   "execution_count": null
  },
  {
   "cell_type": "markdown",
   "id": "4f873617-a9d9-446a-8c34-e4f20e0cf046",
   "metadata": {},
   "source": [
    "Výsledek vypadá takto:\n",
    "```\n",
    "[Document(page_content='Toggle the table of contents', metadata={'source': 'source_files\\\\Winter white dwarf hamster - Wikipedia.htm', 'filename': 'Winter white dwarf hamster - Wikipedia.htm', 'file_directory': 'source_files', 'last_modified': '2023-08-22T20:35:12', 'filetype': 'text/html', 'page_number': 1, 'emphasized_text_contents': ['Toggle the table of contents'], 'emphasized_text_tags': ['span'], 'category': 'Title'}),  \n",
    "...  \n",
    " Document(page_content='population density is highly varied.', metadata={'source': 'source_files\\\\Winter white dwarf hamster - Wikipedia.htm', 'filename': 'Winter white dwarf hamster - Wikipedia.htm', 'file_directory': 'source_files', 'last_modified': '2023-08-22T20:35:12', 'filetype': 'text/html', 'page_number': 3, 'link_urls': ['https://en.wikipedia.org/wiki/Population_density'], 'link_texts': ['population density'], 'category': 'NarrativeText'}),\n",
    " Document(page_content='[23]', metadata={'source': 'source_files\\\\Winter white dwarf hamster - Wikipedia.htm', 'filename': 'Winter white dwarf hamster - Wikipedia.htm', 'file_directory': 'source_files', 'last_modified': '2023-08-22T20:35:12', 'filetype': 'text/html', 'page_number': 3, 'link_urls': ['#cite_note-J1979:R1998:E-23'], 'link_texts': ['[23]'], 'category': 'UncategorizedText'}),  \n",
    " ...  \n",
    "Document(page_content=\"Articles with 'species' microformats\", metadata={'source': 'source_files\\\\Winter white dwarf hamster - Wikipedia.htm', 'filename': 'Winter white dwarf hamster - Wikipedia.htm', 'file_directory': 'source_files', 'last_modified': '2023-08-22T20:35:12', 'filetype': 'text/html', 'page_number': 3, 'link_urls': ['https://en.wikipedia.org/wiki/Category:Articles_with_%27species%27_microformats'], 'link_texts': [\"Articles with 'species' microformats\"], 'category': 'ListItem'})]\n",
    "```"
   ]
  },
  {
   "cell_type": "markdown",
   "id": "6047f941-6317-4bd8-b3e0-97112ad525d5",
   "metadata": {},
   "source": [
    "Pro načtení html souboru lze též použít loader využívající BeautifulSoup4. Moje první provolání metody *load* vedlo k chybové hlášce obsahující mimo jiné\n",
    "```\n",
    "soup = BeautifulSoup(f, **self.bs_kwargs)\n",
    "```\n",
    "a\n",
    "```\n",
    "FeatureNotFound: Couldn't find a tree builder with the features you requested: lxml. Do you need to install a parser library?\n",
    "```\n",
    "A to i když byl ve virtuálním prostředí balíček BeautifulSoup4 nainstalován. Co ale chybělo byl balíček [lxml](https://pypi.org/project/lxml/). Po jeho nainstalování se ale (u anglického!) textu objevila další chybová hláška:\n",
    "```\n",
    "UnicodeDecodeError: 'charmap' codec can't decode byte 0x81 in position 27841: character maps to <undefined>\n",
    "```\n",
    "To kvůli tomu, že jsem nepoužil parametr *open_encoding* a html soubor se tak otevíral s defaultním kódováním, kterým je utf-8."
   ]
  },
  {
   "cell_type": "code",
   "id": "5ecc2256-b41e-4f68-a934-935fba97b06a",
   "metadata": {},
   "source": [
    "from langchain_community.document_loaders import BSHTMLLoader\n",
    "loader = BSHTMLLoader(\"source_files\\\\Winter white dwarf hamster - Wikipedia.htm\", open_encoding=\"latin1\")\n",
    "data = loader.load()"
   ],
   "outputs": [],
   "execution_count": null
  },
  {
   "cell_type": "markdown",
   "id": "4aba96dc-63d4-4a0d-ba0b-817372e57f13",
   "metadata": {},
   "source": [
    "Opět z nahraného objektu ukážeme pouze začátek a konec:\n",
    "```\n",
    "[Document(page_content='\\n\\n\\nWinter white dwarf hamster - Wikipedia\\n\\n\\n\\n\\n\\n\\n\\n\\n\\n\\n\\n\\n\\n\\n\\n\\n\\n\\n\\n\\n\\n\\n\\n\\n\\n\\n\\n\\n\\n\\n\\n\\n\\n\\n\\n\\n\\nJump to content\\n\\n\\n\\n\\n\\n\\n\\nMain menu\\n\\n\\n\\n\\n\\nMain menu\\nmove to sidebar\\nhide\\n\\n\\n\\n\\t\\tNavigation\\n\\t\\n\\n\\nMain pageContentsCurrent eventsRandom articleAbout WikipediaContact usDonate\\n\\n\\n\\n\\n\\n\\t\\tContribute\\n\\t\\n\\n\\nHelpLearn to editCommunity portalRecent changesUpload\n",
    "...\n",
    "\\nCookie statement\\n\\n\\n\\n\\n\\n\\n\\n\\n\\n\\n\\n\\nToggle limited content width\\n\\n\\n\\n\\n\\n\\n', metadata={'source': 'source_files\\\\Winter white dwarf hamster - Wikipedia.htm', 'title': 'Winter white dwarf hamster - Wikipedia'})]\n",
    "```\n",
    "Zdá se, že potřeba začištění je tu ještě větší než u balíčku unstructured..."
   ]
  },
  {
   "cell_type": "markdown",
   "id": "1d8bb12b-99c3-4fc4-b7d7-e3eadf00d680",
   "metadata": {},
   "source": [
    "##### [Načtení webové stránky](https://python.langchain.com/docs/integrations/document_loaders/web_base)"
   ]
  },
  {
   "cell_type": "markdown",
   "id": "0750427f-d1b9-496e-82e8-015233d5a0ae",
   "metadata": {},
   "source": [
    "V praxi bychom upřednostňovali, kdybychom vytěžované stránky nemuseli stahovat a kdyby si Langchain informace natahal přímo z webu. Na to slouží *WebBaseLoader*."
   ]
  },
  {
   "cell_type": "code",
   "id": "85da32b1-83d7-441d-89d5-423a306afbb2",
   "metadata": {},
   "source": [
    "from langchain_community.document_loaders import WebBaseLoader"
   ],
   "outputs": [],
   "execution_count": null
  },
  {
   "cell_type": "code",
   "id": "647ef698-62bf-4dcc-95d0-696092ed803d",
   "metadata": {},
   "source": [
    "loader = WebBaseLoader(\"https://en.wikipedia.org/wiki/Winter_white_dwarf_hamster\")"
   ],
   "outputs": [],
   "execution_count": null
  },
  {
   "cell_type": "code",
   "id": "fd97daed-2948-46f2-a89e-a976f97011fa",
   "metadata": {},
   "source": [
    "data = loader.load()"
   ],
   "outputs": [],
   "execution_count": null
  },
  {
   "cell_type": "markdown",
   "id": "66b07301-096d-495e-aeb5-973d7d9416f9",
   "metadata": {},
   "source": [
    "Zde vidíme příklad formátu, v jakém je stránka načtena:\n",
    "```\n",
    "[Document(page_content='\\n\\n\\n\\nWinter white dwarf hamster - Wikipedia\\n\\n\\n\\n\\n\\n\\n\\n\\n\\n\\n\\n\\n\\n\\n\\n\\n\\n\\n\\n\\n\\n\\n\\n\\n\\n\\n\\n\\n\\n\\n\\n\\n\\n\\n\\n\\n\\nJump to content\\n\\n\\n\\n\\n\\n\\n\\nMain menu\\n\\n\\n\\n\\n\\nMain menu\\nmove to sidebar\\nhide\\n\\n\\n\\n\\t\\tNavigation\\n\\t\\n\\n\\nMain pageContentsCurrent eventsRandom articleAbout WikipediaContact usDonate\\n\\n\\n\\n\\n\\n\\t\\tContribute\\n\\t\\n\\n\\nHelpLearn to editCommunity portalRecent changesUpload file\\n\\n\\n\\n\\n\\nLanguages\\n\\nLanguage links are at the top of the page across from the title.\n",
    "...\n",
    "\\nContact Wikipedia\\nCode of Conduct\\nMobile view\\nDevelopers\\nStatistics\\nCookie statement\\n\\n\\n\\n\\n\\n\\n\\n\\n\\n\\n\\n\\nToggle limited content width\\n\\n\\n\\n\\n\\n\\n\\n', metadata={'source': 'https://en.wikipedia.org/wiki/Winter_white_dwarf_hamster', 'title': 'Winter white dwarf hamster - Wikipedia', 'language': 'en'})]\n",
    "```"
   ]
  },
  {
   "cell_type": "markdown",
   "id": "a52ff565-b138-4af7-8910-533ba5444794",
   "metadata": {},
   "source": [
    "V rámci jednoho volání lze načíst i více stránek:"
   ]
  },
  {
   "cell_type": "code",
   "id": "72523577-e118-4df4-bdf7-4cadcf5d8d32",
   "metadata": {},
   "source": [
    "loader = WebBaseLoader([\n",
    "    \"https://en.wikipedia.org/wiki/Winter_white_dwarf_hamster\", \n",
    "    \"https://en.wikipedia.org/wiki/Syrian_hamster\"\n",
    "])"
   ],
   "outputs": [],
   "execution_count": null
  },
  {
   "cell_type": "code",
   "id": "67adca37-68f5-4d20-b0c3-3dcd6bef3469",
   "metadata": {},
   "source": [
    "data = loader.load()"
   ],
   "outputs": [],
   "execution_count": null
  },
  {
   "cell_type": "markdown",
   "id": "d000d2d3-e78f-4d37-ab07-0da4c802d7b4",
   "metadata": {},
   "source": [
    "Ukázka výsledku:\n",
    "```\n",
    "[Document(page_content='\\n\\n\\n\\nWinter white dwarf hamster - Wikipedia\\n\\n\\n\\n\\n\\n\\n\\n\\n\\n\\n\\n\\n\\n\\n\\n\\n\\n\\n\\n\\n\\n\\n\\n\\n\\n\\n\\n\\n\\n\\n\\n\\n\\n\\n\\n\\n\\nJump to content\\n\\n\\n\\n\\n\\n\\n\\nMain menu\\n\\n\\n\\n\\n\\nMain menu\\nmove to sidebar\\nhide\\n\\n\\n\\n\\t\\tNavigation\\n\\t\\n\\n\\nMain pageContentsCurrent eventsRandom articleAbout WikipediaContact usDonate\\n\\n\\n\\n\\n\\n\\t\\tContribute\n",
    "...\n",
    "\\nContact Wikipedia\\nCode of Conduct\\nMobile view\\nDevelopers\\nStatistics\\nCookie statement\\n\\n\\n\\n\\n\\n\\n\\n\\n\\n\\n\\n\\nToggle limited content width\\n\\n\\n\\n\\n\\n\\n\\n', metadata={'source': 'https://en.wikipedia.org/wiki/Winter_white_dwarf_hamster', 'title': 'Winter white dwarf hamster - Wikipedia', 'language': 'en'}),\n",
    " Document(page_content='\\n\\n\\n\\nGolden hamster - Wikipedia\\n\\n\\n\\n\\n\\n\\n\\n\\n\\n\\n\\n\\n\\n\\n\\n\\n\\n\\n\\n\\n\\n\\n\\n\\n\\n\\n\\n\\n\\n\\n\\n\\n\\n\\n\\n\\n\\nJump to content\\n\\n\\n\\n\\n\\n\\n\\nMain menu\\n\\n\\n\\n\\n\\nMain menu\\nmove to sidebar\\nhide\\n\\n\\n\\n\\t\\tNavigation\\n\\t\\n\\n\\nMain pageContentsCurrent eventsRandom articleAbout WikipediaContact usDonate\\n\\n\\n\\n\\n\\n\\t\\tContribute\\n\\t\\n\\n\\nHelpLearn to editCommunity portalRecent changesUpload file\n",
    "...\n",
    "\\nCode of Conduct\\nMobile view\\nDevelopers\\nStatistics\\nCookie statement\\n\\n\\n\\n\\n\\n\\n\\n\\n\\n\\n\\n\\nToggle limited content width\\n\\n\\n\\n\\n\\n\\n\\n', metadata={'source': 'https://en.wikipedia.org/wiki/Syrian_hamster', 'title': 'Golden hamster - Wikipedia', 'language': 'en'})]\n",
    "```"
   ]
  },
  {
   "cell_type": "markdown",
   "id": "89a3cdb2-655f-4084-b30c-e4f518bef75d",
   "metadata": {},
   "source": [
    "I pro načítání stránek z webu existuje [unstructured loader](https://python.langchain.com/docs/integrations/document_loaders/url)."
   ]
  },
  {
   "cell_type": "code",
   "id": "5d931406-abe4-4a2f-ae86-c2d97d05465e",
   "metadata": {},
   "source": [
    "from langchain_community.document_loaders import UnstructuredURLLoader"
   ],
   "outputs": [],
   "execution_count": null
  },
  {
   "cell_type": "code",
   "id": "30f56af1-2736-420e-a1f4-2d8eda02b872",
   "metadata": {},
   "source": [
    "urls = [\n",
    "    \"https://en.wikipedia.org/wiki/Winter_white_dwarf_hamster\", \n",
    "    \"https://en.wikipedia.org/wiki/Syrian_hamster\"\n",
    "]"
   ],
   "outputs": [],
   "execution_count": null
  },
  {
   "cell_type": "markdown",
   "id": "8278a424-b8e8-4177-aa33-0048276f51da",
   "metadata": {},
   "source": [
    "Když člověk nemá nainstalovaný balíček libmagic, objeví se hlášky\n",
    "```\n",
    "libmagic is unavailable but assists in filetype detection on file-like objects. Please consider installing libmagic for better results.\n",
    "Error fetching or processing https://en.wikipedia.org/wiki/Winter_white_dwarf_hamster, exception: Invalid file. The FileType.UNK file type is not supported in partition.\n",
    "libmagic is unavailable but assists in filetype detection on file-like objects. Please consider installing libmagic for better results.\n",
    "Error fetching or processing https://en.wikipedia.org/wiki/Syrian_hamster, exception: Invalid file. The FileType.UNK file type is not supported in partition.\n",
    "```\n",
    "Načtený objekt pak bude prázdným listem.\n",
    "Problém je, že existuje více libmagic ([zde](https://pypi.org/project/python-libmagic/#description) a [zde](https://pypi.org/project/libmagic/#description)), ty jsou ale relativně staré a prakticky od svého vzniku neudržované...  \n",
    "Též existuje balíček [python-magic](https://pypi.org/project/python-magic/#history). Ten už vypadá živěji, nicméně když nainstalujeme jeho nejnovější verzi, obdržíme errory\n",
    "```\n",
    "Error fetching or processing https://en.wikipedia.org/wiki/Winter_white_dwarf_hamster, exception: module 'magic' has no attribute 'from_buffer'\n",
    "Error fetching or processing https://en.wikipedia.org/wiki/Syrian_hamster, exception: module 'magic' has no attribute 'from_buffer'\n",
    "```\n",
    "Instalace starší verze vede též k chybovým hláškám.  \n",
    "Problém lze vyřešit instalací [python-magic-bin](https://pypi.org/project/python-magic-bin). Nicméně jedná se o binárky z repa zapadaného prachem."
   ]
  },
  {
   "cell_type": "code",
   "id": "31fa2cd8-8851-4337-9678-d0edc164786d",
   "metadata": {},
   "source": [
    "loader = UnstructuredURLLoader(urls=urls)\n",
    "data = loader.load()"
   ],
   "outputs": [],
   "execution_count": null
  },
  {
   "cell_type": "markdown",
   "id": "845948c4-148d-4061-b304-533c3f46d8c3",
   "metadata": {},
   "source": [
    "Ukázka:\n",
    "```\n",
    "[Document(page_content='Toggle the table of contents\\n\\nToggle the table of contents\\n\\nWinter white dwarf hamster\\n\\n43 languages\\n\\nالعربية\\n\\nAsturianu\\n\\nБългарски\\n\\nBrezhoneg\\n\\nCatalà\\n\\nCebuano\\n\\nČeština\\n\\nDeutsch\\n\\nDiné bizaad\\n\\nEesti\\n\\nEspañol\\n\\nEuskara\\n\\nفارسی\\n\\nFrançais\\n\\nFrysk\\n\\n한국어\\n\\nՀայերեն\\n\\nHrvatski\\n\\nBahasa Indonesia\\n\\nItaliano\\n\\nעברית\\n\\nҚазақша\\n\\nKotava\\n\\nLatviešu\\n\\nMagyar\\n\\nمصرى\\n\\nNederlands\\n\\n日本語\\n\\nNorsk bokmål\\n\\nNorsk nynorsk\\n\\nPolski\\n\\nPortuguês\\n\\nRomână\\n  \n",
    "...  \n",
    "Red List least concern species\\n\\nPhodopus\\n\\nRodents of Asia\\n\\nMammals described in 1773\\n\\nMammals of Siberia\\n\\nTaxa named by Peter Simon Pallas\\n\\nHidden categories: \\n\\nArticles with short description\\n\\nShort description is different from Wikidata\\n\\nGood articles\\n\\nArticles with \\'species\\' microformats', metadata={'source': 'https://en.wikipedia.org/wiki/Winter_white_dwarf_hamster'}),\n",
    " Document(page_content='Toggle the table of contents\\n\\nToggle the table of contents\\n\\nGolden hamster\\n\\n49 languages\\n\\nالعربية\\n\\nAragonés\\n\\nБеларуская (тарашкевіца)\\n\\nБългарски\\n\\nCatalà\\n\\nCebuano\\n\\nČeština\\n\\nCymraeg\\n\\nDeutsch\\n\\nDiné bizaad\\n\\nEesti\\n\\nEspañol\\n\\nEsperanto\\n\\nEuskara\\n\\nفارسی\\n\\nFrançais\\n\\nFrysk\\n\\nGaeilge\\n\\n한국어\\n\\nHrvatski\\n\\nBahasa Indonesia\\n\\nIta  \n",
    " ...  \n",
    " abic-language text\\n\\nAll articles with unsourced statements\\n\\nArticles with unsourced statements from June 2019\\n\\nArticles with unsourced statements from September 2019\\n\\nCommons link is on Wikidata\\n\\nArticles with GND identifiers\\n\\nArticles with J9U identifiers\\n\\nArticles with LCCN identifiers\\n\\nArticles with NKC identifiers\\n\\nArticles containing video clips', metadata={'source': 'https://en.wikipedia.org/wiki/Syrian_hamster'})]\n",
    "```"
   ]
  },
  {
   "cell_type": "code",
   "id": "d8ec45ce-fafb-4027-86d9-4959eb81d4ba",
   "metadata": {},
   "source": [
    "loader = UnstructuredURLLoader(urls=urls, mode=\"elements\")"
   ],
   "outputs": [],
   "execution_count": null
  },
  {
   "cell_type": "code",
   "id": "e7f3f5a7-4c6f-4ee7-acaa-ee1974576884",
   "metadata": {},
   "source": [
    "data = loader.load()"
   ],
   "outputs": [],
   "execution_count": null
  },
  {
   "cell_type": "markdown",
   "id": "48824f7a-6dbb-4bfa-886d-b29ac45ff956",
   "metadata": {},
   "source": [
    "Ukázka:\n",
    "```\n",
    "[Document(page_content='Toggle the table of contents', metadata={'filetype': 'text/html', 'page_number': 1, 'url': 'https://en.wikipedia.org/wiki/Winter_white_dwarf_hamster', 'emphasized_text_contents': ['Toggle the table of contents'], 'emphasized_text_tags': ['span'], 'category': 'Title'}),  \n",
    "...  \n",
    " Document(page_content='A hamster wheel is a common type of environmental enrichment, and it is important that hamsters have a wheel in their cage. TVT recommends wheels should be at least 30\\xa0cm for Syrian hamsters, since smaller diameters lead to permanent spinal curvatures, especially in young animals. They also recommend a solid running surface because rungs or mesh can cause injury.[19] A hamster should be able to run on its wheel without arching its back. A hamster that has to run with an arched back can have back pain and spine problems. A variety of toys and cardboard tubes and boxes can help to provide enrichment, as they are energetic and need space to exercise.[20]', metadata={'filetype': 'text/html', 'page_number': 3, 'url': 'https://en.wikipedia.org/wiki/Syrian_hamster', 'link_urls': ['/wiki/Hamster_wheel', '#cite_note-19', '#cite_note-20'], 'link_texts': ['hamster wheel', '[19]', '[20]'], 'category': 'NarrativeText'}),\n",
    " Document(page_content='Most hamsters in American and British pet stores are golden hamsters. Originally, golden hamsters occurred in just one color – the mixture of brown, black, and gold, but they have since developed a variety of color and pattern mutations, including cream, white, blonde, cinnamon, tortoiseshell, black, three different shades of gray, dominant spot, banded, and dilute.[citation needed]', metadata={'filetype': 'text/html', 'page_number': 3, 'url': 'https://en.wikipedia.org/wiki/Syrian_hamster', 'link_urls': ['/wiki/Wikipedia:Citation_needed'], 'link_texts': [None], 'emphasized_text_contents': ['citation needed', 'citation needed'], 'emphasized_text_tags': ['i', 'span'], 'category': 'NarrativeText'}),  \n",
    "...  \n",
    "Document(page_content='Articles containing video clips', metadata={'filetype': 'text/html', 'page_number': 3, 'url': 'https://en.wikipedia.org/wiki/Syrian_hamster', 'link_urls': ['/wiki/Category:Articles_containing_video_clips'], 'link_texts': ['Articles containing video clips'], 'category': 'ListItem'})]\n",
    "```"
   ]
  },
  {
   "cell_type": "markdown",
   "id": "1a49b651-5f00-4eef-a0a9-4acc195dbc64",
   "metadata": {},
   "source": [
    "#### Splittery\n",
    "Obsah stránek by zejména pro výživnější texty mohl být větší, než počet tokenů, které dokáže v jeden okamžik jazykový model zpracovat. Proto se dokumenty musí rozdělit na malé kousky.  \n",
    "Základním nástrojem pro takovou úlohu je *CharacterTextSplitter*. V jeho konstruktoru musíme do parametru *separator* vložit separační znak (resp. posloupnost znaků). Bacha - *CharacterTextSplitter* podporuje jen a pouze jeden separátor. Pokud bude splitování probíhat podle nějakého speciálního escapovaného znaku (např. podle znaku nového řádku) a nepoužíváme regulární výrazy (tj. parametr *is_separator_regex* není položený rovný True), musíme psát jen jedno zpětné lomítko! Následně specifikujeme optimální velikost fragmentu textu (parametr *chunk_size*; číslo je v počtu znaků podle funkce *len*) a velikost překryvu mezi fragmenty (parametr *chunk_overlap*)."
   ]
  },
  {
   "cell_type": "code",
   "id": "166985bf-8997-40a1-8a07-ee258f964622",
   "metadata": {},
   "source": [
    "from langchain.text_splitter import CharacterTextSplitter"
   ],
   "outputs": [],
   "execution_count": null
  },
  {
   "cell_type": "code",
   "id": "dbededcb-2687-4cac-8d37-af985f7d1e77",
   "metadata": {},
   "source": [
    "chunk_size = 250\n",
    "chunk_overlap = 50"
   ],
   "outputs": [],
   "execution_count": null
  },
  {
   "cell_type": "code",
   "id": "7bc5b7e0-ea69-4886-8125-7cff221fd016",
   "metadata": {},
   "source": [
    "char_text_splitter = CharacterTextSplitter(        \n",
    "    separator = \"\\n\",\n",
    "    chunk_size = chunk_size,\n",
    "    chunk_overlap  = chunk_overlap,\n",
    ")"
   ],
   "outputs": [],
   "execution_count": null
  },
  {
   "cell_type": "markdown",
   "id": "038deb21-0278-4a83-a7fc-34a15163d6b5",
   "metadata": {},
   "source": [
    "Pokud bychom chtěli splittovat obyčejný text, použili bychom metodu *split_text* instance *CharacterTextSplitter*, přičemž inkriminovaný text by byl předán metodě jako parametr. Nicméně my máme list obsahující navíc krom samotného textu i metadata o stránkách původního pdfka, s čímž není *split_text* očekávající string kompatibilní. Proto musíme použít metodu *split_documents*.  \n",
    "Jak vlastně splitování funguje?\n",
    " - pokud separátor není v dokumentu (v našem případě dokument = jedna stránka) přítomen, k žádnému rozsekání nedochází. Tj. pokud na vstupu bylo 10 stránek, bude stejný počet i na výstupu, což pro praktické použití optimální není.  \n",
    " - pokud je separátor vzácný, tak se některé dokumenty vůbec nerozsekají (protože v nich separátor není), jiné se rozdělí třeba jen podle jediného výskytu separátoru (i když i pak budou oba vzniklé fragmenty větší než *chunk_size*)\n",
    " - pokud je separátor přítomný často, proběhne rozsekávání tak, aby byla téměř dosažena, ale nikdy překročena *chunk_size* (resp. možná se dokument rozseká podle všech výskytů separátoru, ale pak se na sebe některé fragmenty znova nalepí).\n",
    "\n",
    "Bacha, pokud používáme regexy (*is_separator_regex* = True) a zvolíme nějaký obecný pattern (třeba \"\\\\w\"), tak se nám tímto patternem nahradí všechny relevantní znaky nahradí. Tj. fragment pak třeba vypadá takto:\n",
    "```\n",
    "'\\\\w \\\\w \\\\w \\\\w   \\n \\n \\n \\n \\n\\\\w \\\\w \\\\w, \\\\w. \\\\w., \\\\w \\\\w:  \\n\\\\w \\\\w, \\\\w \\\\w \\\\w \\\\w \\\\w. \\\\w, \\\\w \\\\w \\\\w, \\\\w: \\\\w  \\n\\\\w \\\\w \\\\w \\\\w \\\\w \\\\w \\\\w \\\\w \\\\w \\\\w, \\\\w \\\\w, \\\\w \\\\w \\\\w \\\\w/\\\\w  \\n\\\\w \\\\w \\\\w.\\\\w \\n \\\\w \\\\w \\\\w \\\\w \\\\w \\\\w \\\\w \\\\w \\\\w \\\\w \\\\w \\\\w  \\\\w \\\\w, \\\\w \\\\w \\n\\\\w \\\\w \\\\w  \\\\w \\\\w \\\\w  \\\\w \\\\w'\n",
    "```\n",
    "Takovému chování zabráníme umístěním parametru *keep_separator*=True do konstruktoru *CharacterTextSplitter*u.  \n",
    "Níže vidíme příklad výstupu metody *split_documents*:"
   ]
  },
  {
   "cell_type": "code",
   "id": "aa05e66b-e70d-4c9d-8d72-dc342f9017ba",
   "metadata": {},
   "source": [
    "char_splits = char_text_splitter.split_documents(pages)\n",
    "print(char_splits[0])\n",
    "print(len(char_splits[0].page_content))"
   ],
   "outputs": [],
   "execution_count": null
  },
  {
   "cell_type": "markdown",
   "id": "6c44b0a4-0b7f-4bfb-af53-8a828ce25e0f",
   "metadata": {},
   "source": [
    "Výše jsme viděli, že *CharacterTextSplitter* není pro práci s obyčejným textem kvůli omezení na jeden separátor moc praktický. Proto je vhodnější použít *RecursiveCharacterTextSplitter*. Ten nemá parametr *separator*, nýbrž *separators*. Do něj se vkládá list potenciálních separátorů. Jeho defaultní hodnotou je [\"\\n\\n\", \"\\n\", \" \", \"\"]. Myšlenka za touto volbou je taková, že se spitter snaží držet pohromadě odstavce (a potom věty a pak slova) tak dlouho, jak to jen jde, kvůli zachování informace schované v textu."
   ]
  },
  {
   "cell_type": "code",
   "id": "c7735dd6-146c-40c6-a4c5-edf97a854235",
   "metadata": {},
   "source": [
    "from langchain.text_splitter import RecursiveCharacterTextSplitter"
   ],
   "outputs": [],
   "execution_count": null
  },
  {
   "cell_type": "code",
   "id": "5b5ef92c-5897-4028-a28d-866605a5039d",
   "metadata": {},
   "source": [
    "chunk_size = 250\n",
    "chunk_overlap = 50"
   ],
   "outputs": [],
   "execution_count": null
  },
  {
   "cell_type": "code",
   "id": "1120a99d-e53f-43d2-a5a6-78575f77a22b",
   "metadata": {},
   "source": [
    "rec_text_splitter = RecursiveCharacterTextSplitter(        \n",
    "    chunk_size = chunk_size,\n",
    "    chunk_overlap  = chunk_overlap,\n",
    ")"
   ],
   "outputs": [],
   "execution_count": null
  },
  {
   "cell_type": "code",
   "id": "88f2b93e-b124-4725-9d00-714bcf1c3ab9",
   "metadata": {},
   "source": [
    "rec_splits = rec_text_splitter.split_documents(pages)"
   ],
   "outputs": [],
   "execution_count": null
  },
  {
   "cell_type": "code",
   "id": "b6d03f57-a196-46e5-a810-6b3a954f3630",
   "metadata": {},
   "source": [
    "rec_splits[0]"
   ],
   "outputs": [],
   "execution_count": null
  },
  {
   "cell_type": "markdown",
   "id": "59a51cc3-a01c-403c-b3f5-83a50e00d6b3",
   "metadata": {},
   "source": [
    "V případě, že bychom chtěli pracovat nikoli s přirozeným jazykem, ale s počítačovým kódem, mohou nám pomoci již předpřipravené separátory pro několik hlavních programovacích jazyků. Ty získáme naimportováním *Language* z *langchain.text_splitter*. Pokud separátory chceme vidět, musíme použít *get_separators_for_language*: "
   ]
  },
  {
   "cell_type": "code",
   "id": "ed617afb-b579-4af7-be99-2e84b283caad",
   "metadata": {},
   "source": [
    "from langchain.text_splitter import Language"
   ],
   "outputs": [],
   "execution_count": null
  },
  {
   "cell_type": "code",
   "id": "6a0fde4e-6531-4718-b93b-0c1d77c42b03",
   "metadata": {},
   "source": [
    "print(RecursiveCharacterTextSplitter.get_separators_for_language(Language.PYTHON))"
   ],
   "outputs": [],
   "execution_count": null
  },
  {
   "cell_type": "markdown",
   "id": "e21661ce-713d-49b9-8ed2-de0ae0e54fab",
   "metadata": {},
   "source": [
    "Při samotném praktickém použití vložíme *Language.PYTHON* do parametru *language* metody *from_language* (viz příklad převzatý z dokumentace):"
   ]
  },
  {
   "cell_type": "code",
   "id": "1cbbdc0c-a420-4121-b9b5-b2e38fa7005c",
   "metadata": {},
   "source": [
    "PYTHON_CODE = \"\"\"\n",
    "def hello_world():\n",
    "    print(\"Hello, World!\")\n",
    "\n",
    "# Call the function\n",
    "hello_world()\n",
    "\"\"\"\n",
    "python_splitter = RecursiveCharacterTextSplitter.from_language(\n",
    "    language=Language.PYTHON, chunk_size=50, chunk_overlap=0\n",
    ")\n",
    "python_docs = python_splitter.create_documents([PYTHON_CODE])\n",
    "python_docs"
   ],
   "outputs": [],
   "execution_count": null
  },
  {
   "cell_type": "markdown",
   "id": "c777839d-0678-4c62-9ab3-b5774d9ffb22",
   "metadata": {},
   "source": [
    "#### Embeddings, vectorstore\n",
    "Při hledání odpovědi na určitou otázku de facto hledáme otázce nejpodobnější fragmenty dokumentů. Nicméně jak bychom v přirozeném jazyce vůbec podobnost definovali? Nejpraktičtější řešení spočívá v převodu splitováním vyrobených fragmentů dokumentů na vektory (posloupnosti čísel). S nimi už můžeme pro (ne)podobnost aplikovat klasický matematický aparát ala cosinová podobnost. Tyto vektory se ale též musí někam uložit. Proto mluvíme obecně o tzv. vector stores, přičemž zde budeme konkrétně používat Chromu."
   ]
  },
  {
   "cell_type": "code",
   "id": "031a4874-ecc8-4a75-9d74-a68740c490af",
   "metadata": {},
   "source": [
    "from langchain.text_splitter import RecursiveCharacterTextSplitter"
   ],
   "outputs": [],
   "execution_count": null
  },
  {
   "cell_type": "code",
   "id": "e6b81c13-c1a9-47bf-b219-90e3d728ef2c",
   "metadata": {},
   "source": [
    "file_path = \"source_files\\\\podminky_debetnich_karet.pdf\"\n",
    "\n",
    "loader = PyPDFLoader(file_path)\n",
    "pages = loader.load()\n",
    "\n",
    "chunk_size = 250\n",
    "chunk_overlap = 50\n",
    "\n",
    "rec_text_splitter = RecursiveCharacterTextSplitter(        \n",
    "    chunk_size = chunk_size,\n",
    "    chunk_overlap  = chunk_overlap,\n",
    ")\n",
    "\n",
    "rec_splits = rec_text_splitter.split_documents(pages)"
   ],
   "outputs": [],
   "execution_count": null
  },
  {
   "cell_type": "markdown",
   "id": "381eaf05-1f1d-4b7d-947c-3ccd6506597e",
   "metadata": {},
   "source": [
    "Napřed specifikujeme, jaký model budeme používat pro výpočet embeddingů. *OpenAIEmbeddings* znamená, že použijeme model text-embedding-ada-002 od OpenAI. Ten při klasickém používání ala chatování či doplňování textu není tak mocný jako GPT3.5 nebo aspoň DaVinci. Nicméně při nápočtu embeddingů to zas takovou roli nehraje a naopak se hodí, že je tento model řádově levnější."
   ]
  },
  {
   "cell_type": "code",
   "id": "6eee558e-2f58-4654-85ed-e8664fe404f1",
   "metadata": {},
   "source": [
    "from langchain_openai import OpenAIEmbeddings"
   ],
   "outputs": [],
   "execution_count": null
  },
  {
   "cell_type": "code",
   "id": "1f58a723-cb3b-48b8-a389-19bf36484192",
   "metadata": {},
   "source": [
    "embedding = OpenAIEmbeddings()"
   ],
   "outputs": [],
   "execution_count": null
  },
  {
   "cell_type": "markdown",
   "id": "f609539d-1bb1-42d8-80c6-0eea6cd372ad",
   "metadata": {},
   "source": [
    "Pozn.: v případě práce s Azure OpenAI použijeme *AzureOpenAIEmbeddings*. Musí se specifikovat deployment, ve kterém je nasazený model určený na embeddingování. Taktéž je třeba nastavit *chunk_size* na jedničku (jinak se objeví tuším \"too many inputs\" chybová hláška).\n",
    "```python\n",
    "from langchain_openai import AzureOpenAIEmbeddings\n",
    "\n",
    "embedding = AzureOpenAIEmbeddings(deployment=\"deplyment_name_s_embedding_modelem\", chunk_size=1)\n",
    "```"
   ]
  },
  {
   "cell_type": "markdown",
   "id": "e0ce2462-d66a-46d5-b34a-949aaa3c547b",
   "metadata": {},
   "source": [
    "Pro použití Chromy musíme napřed nainstalovat odpovídající balíček [chromadb](https://pypi.org/project/chromadb/) (pokud se instalace nezdaří, máte možná příliš novou verzi Pythonu - v době psaní těchto řádků byla verze 3.10 ok, ale 3.12 už ne). Následně je potřeba provést importování."
   ]
  },
  {
   "cell_type": "code",
   "id": "e3c534d5-abf0-47c9-87a6-14db0d70b061",
   "metadata": {},
   "source": [
    "from langchain.vectorstores import Chroma"
   ],
   "outputs": [],
   "execution_count": null
  },
  {
   "cell_type": "markdown",
   "id": "802ffe2b-92ff-4e7d-8f4f-5b225ef896a5",
   "metadata": {},
   "source": [
    "Chroma je souborová databáze. Musíme tedy specifikovat, kam se budou její soubory (fakticky jde o parquety) ukládat."
   ]
  },
  {
   "cell_type": "code",
   "id": "b51e8698-77d7-4ced-ac35-07205982dd6a",
   "metadata": {},
   "source": [
    "simple_doc_dir = 'embeddings/simple/'"
   ],
   "outputs": [],
   "execution_count": null
  },
  {
   "cell_type": "code",
   "id": "2a17710e-554b-4ee7-aeab-01dc689c4d8e",
   "metadata": {},
   "source": [
    "vectordb = Chroma.from_documents(\n",
    "    documents=rec_splits,\n",
    "    embedding=embedding,\n",
    "    persist_directory=simple_doc_dir\n",
    ")"
   ],
   "outputs": [],
   "execution_count": null
  },
  {
   "cell_type": "markdown",
   "id": "a94ceac1-dda0-4924-bdc7-5cf9466e7a81",
   "metadata": {},
   "source": [
    "Na následující příkaz nesmíme zapomenout, neboť bez něj by se vektory fakticky neuložily na disk."
   ]
  },
  {
   "cell_type": "code",
   "id": "f4b53a83-2dcd-4a2a-9f66-0cef265ea6ea",
   "metadata": {},
   "source": [
    "vectordb.persist()"
   ],
   "outputs": [],
   "execution_count": null
  },
  {
   "cell_type": "markdown",
   "id": "af4e7800-0d04-4ad5-9880-650f6752994b",
   "metadata": {},
   "source": [
    "Pro načtení uložených embeddingů se použije"
   ]
  },
  {
   "cell_type": "code",
   "id": "195db05b-d77c-4500-8c25-a59a1b77ec98",
   "metadata": {},
   "source": [
    "vectordb = Chroma(\n",
    "    persist_directory=simple_doc_dir, \n",
    "    embedding_function=embedding\n",
    ")"
   ],
   "outputs": [],
   "execution_count": null
  },
  {
   "cell_type": "markdown",
   "id": "720889f2-f41e-44ba-b994-8b3793da0888",
   "metadata": {},
   "source": [
    "V běžném provozu asi nebudeme následující příkazy krom občasných kontrol potřebovat. Nicméně ne vždy se člověk v běžném provozu pohybuje...  \n",
    "Pro počet záznamů v konkrétním vectorstoru použijeme metodu *\\_collection.count*."
   ]
  },
  {
   "cell_type": "code",
   "id": "a3114732-f64e-4fc7-8534-ff2185b676fd",
   "metadata": {},
   "source": [
    "print(vectordb._collection.count())"
   ],
   "outputs": [],
   "execution_count": null
  },
  {
   "cell_type": "markdown",
   "id": "abcad8d4-981d-4599-9fa5-f8d8f197b4d4",
   "metadata": {},
   "source": [
    "Metoda *peek* ukáže několik prvních záznamů (počet je specifikován parametrem *limit*, přičemž defaultní hodnota má velikost 10).\n",
    "```\n",
    "vectordb._collection.peek(limit=3)\n",
    "```\n",
    "Výstup metody není z nejmenších, proto ho zde v surové podobě neukazujeme. Jedná se o slovník, ve kterém jsou postupně tyto klíče a hodnoty:\n",
    "- ids s listem idček jednotlivých fragmentů dokumentů  \n",
    "- embeddings s listem vektorů (alias listů floatů), ve kteréch jsou fragmenty dokumentů zakódované  \n",
    "- metadatas s listem metadat, která nabývají podoby slovníků s klíči \"page\" a \"source\"\n",
    "- documents s listem samotných fragmentů dokumentů v textové podobě\n",
    "```\n",
    "{'ids': ['a737d8ec-39ea-11ee-8841-80ce622bc396',\n",
    "  'a73b7183-39ea-11ee-a74a-80ce622bc396',\n",
    "  'a73b7184-39ea-11ee-bd3c-80ce622bc396'],\n",
    " 'embeddings': [[0.0016977092018350959,\n",
    "   -0.013771715573966503,\n",
    "   0.0062872255221009254,\n",
    "   ....\n",
    "   ....\n",
    "   -0.0042107910849153996,\n",
    "   -0.027450013905763626,\n",
    "   -0.02284945175051689,\n",
    "   0.06665701419115067,\n",
    "   ...]],\n",
    " 'metadatas': [{'page': 0,\n",
    "   'source': 'source_files\\\\podminky_debetnich_karet.pdf'},\n",
    "  {'page': 0, 'source': 'source_files\\\\podminky_debetnich_karet.pdf'},\n",
    "  {'page': 0, 'source': 'source_files\\\\podminky_debetnich_karet.pdf'}],\n",
    " 'documents': ['PODMÍNKY D EBETNÍCH KARET   \\n \\n \\n \\n \\nKomerční bank a, a. s., se sídlem:  \\nPraha 1, Na Pří kopě 33 čp. 969, PSČ 114 07, IČO: 45317054  \\nZAPSAN Á V OBCHODNÍM REJSTŘÍKU VEDENÉM MĚSTSKÝM SOUDEM V PRAZE, ODDÍL B, VLOŽKA 1 360 1/10',\n",
    "  'VER DDT_ PODMPKEV.PDF \\n Tyto Podmínky debetních karet obsahují bližší úpravu práv a povinností vyplývajících z  uzavřené smlouvy, na základě',\n",
    "  'které je poskytnuta  debetní karta v  souladu s  pravidly příslušné Karetní společnosti.  Seznamte se prosím důkladně \\ns tímto dokumentem. Vaše p řípadné dotazy rádi zodpovíme.  \\n \\nČlánek 1. Poskytnutí  debetní karty a její obnova']}\n",
    "```"
   ]
  },
  {
   "cell_type": "markdown",
   "id": "f2edb80d-5f80-40f5-a92f-c4dc8885f455",
   "metadata": {},
   "source": [
    "Metoda get (výsledek je stejný pro *get* i pro *\\_collection.get*) slouží k získání buďto některých záznamů (to tehdy, když do parametru ids vložíme string či list stringů s idčky) anebo všech záznamů (když idčka nespecifikujeme; počet vrácených fragmentů lze omezit parametrem *limit*) "
   ]
  },
  {
   "cell_type": "code",
   "id": "2adb91c1-afc5-4f11-b2cb-8c5bb54d3721",
   "metadata": {},
   "source": [
    "vectordb.get(ids=\"a73b7184-39ea-11ee-bd3c-80ce622bc396\")"
   ],
   "outputs": [],
   "execution_count": null
  },
  {
   "cell_type": "markdown",
   "id": "b9dde3c5-2f3c-4878-83dc-7a7705f98ff8",
   "metadata": {},
   "source": [
    "Defaultně se v odpovědi neobjeví embeddingy. Toto chování je řízené parametrem *include*, který defaultně obsahuje [\"metadatas\", \"documents\"]. Tudíž pokud chceme embeddingy, musíme je do listu explicitně přidat.\n",
    "```\n",
    "vectordb.get(\n",
    "    ids=\"a73b7184-39ea-11ee-bd3c-80ce622bc396\",\n",
    "    include=[\"metadatas\", \"documents\", \"embeddings\"]\n",
    ")\n",
    "```"
   ]
  },
  {
   "cell_type": "markdown",
   "id": "0a1ff5aa-7181-44a3-aece-90e4c5571640",
   "metadata": {},
   "source": [
    "Pokud chceme realizovat filtrování na základě metadat, musíme použít parametr *where*. Do něj vložíme slovník, kde klíčem bude \"page\" nebo \"source\" a hodnotou číslo stránky či zdrojový soubor>\n",
    "```\n",
    "vectordb.get(where={\"page\": 0})\n",
    "```\n",
    "```\n",
    "vectordb.get(where={\"source\": \"source_files\\\\podminky_debetnich_karet.pdf\"})\n",
    "```"
   ]
  },
  {
   "cell_type": "markdown",
   "id": "98cf2b5c-bbb7-46d8-9cdc-69273e745fc0",
   "metadata": {},
   "source": [
    "Pro získávání nejpodobnějších dokumentů vstupnímu textu sice slouží metoda *query* s parametrem *query_texts*, nicméně my v praxi budeme spíše používat langchainovou nadstavbu nad touto metodou."
   ]
  },
  {
   "cell_type": "markdown",
   "id": "57deb410-67c5-4716-9d44-4d7158ee0e7c",
   "metadata": {},
   "source": [
    "Co musíme udělat, když chceme některý ze záznamů updatovat? Vezměme si náhodně fragment i idčkem \"a73b7184-39ea-11ee-bd3c-80ce622bc396\"."
   ]
  },
  {
   "cell_type": "code",
   "id": "7f138cd9-75d5-440d-8c91-b8b8805807ed",
   "metadata": {},
   "source": [
    "some_fragment = vectordb.get(ids=\"a73b7184-39ea-11ee-bd3c-80ce622bc396\")"
   ],
   "outputs": [],
   "execution_count": null
  },
  {
   "cell_type": "markdown",
   "id": "ae3c0a46-5c05-4d3f-b11c-9b0b0c8c27c6",
   "metadata": {},
   "source": [
    "Jeho metadata vypadají takto:"
   ]
  },
  {
   "cell_type": "code",
   "id": "16ce3dfd-10c9-42a0-9646-c1037cb997fc",
   "metadata": {},
   "source": [
    "some_fragment[\"metadatas\"]"
   ],
   "outputs": [],
   "execution_count": null
  },
  {
   "cell_type": "markdown",
   "id": "000fa92b-730b-46d0-8f44-9f05f38bc207",
   "metadata": {},
   "source": [
    "Nyní metadata přepíšeme - přidáme další pole."
   ]
  },
  {
   "cell_type": "code",
   "id": "8ab5eb26-c33e-4ea7-9994-48e0ffbd9932",
   "metadata": {},
   "source": [
    "some_fragment[\"metadatas\"] = [{\n",
    "    'page': 0, \n",
    "    'source': 'source_files\\\\podminky_debetnich_karet.pdf',\n",
    "    \"some_info\": \"Terms of use of debit cards\"\n",
    "}]"
   ],
   "outputs": [],
   "execution_count": null
  },
  {
   "cell_type": "markdown",
   "id": "2eff86c6-d3e1-4c9e-b59e-afe70c3decf8",
   "metadata": {},
   "source": [
    "Provedeme *update* stejnejmennou metodou (bacha, musí to být v *\\_collection* - *vectordb.update* se vztahuje na objekty typu *Document*). Prvním parametrem je idčko, poté zde máme parametr *metadatas*, do kterého vložíme nová metadata. Mohl by tu být i parametr embeddings (pro update embeddingů) či documents (pro úpravu samotných textů)."
   ]
  },
  {
   "cell_type": "code",
   "id": "a73608c4-42d2-413a-8226-d76dc9293fa4",
   "metadata": {},
   "source": [
    "vectordb._collection.update(\"a73b7184-39ea-11ee-bd3c-80ce622bc396\", metadatas=some_fragment[\"metadatas\"])"
   ],
   "outputs": [],
   "execution_count": null
  },
  {
   "cell_type": "markdown",
   "id": "1d61657c-a501-4a1b-9e46-862a2a3253ad",
   "metadata": {},
   "source": [
    "Update se opravdu provedl."
   ]
  },
  {
   "cell_type": "code",
   "id": "868233ff-a367-4ae5-bc65-1244ae077340",
   "metadata": {},
   "source": [
    "vectordb.get(ids=\"a73b7184-39ea-11ee-bd3c-80ce622bc396\")"
   ],
   "outputs": [],
   "execution_count": null
  },
  {
   "cell_type": "markdown",
   "id": "94577ede-7839-48dd-90f3-31bb0f741a8b",
   "metadata": {},
   "source": [
    "Přičemž zbylé záznamy zůstávají touto operací nepostižené."
   ]
  },
  {
   "cell_type": "code",
   "id": "96af7661-214f-4aa4-827d-c2332322109d",
   "metadata": {},
   "source": [
    "vectordb.get(ids=\"a73b7183-39ea-11ee-a74a-80ce622bc396\")"
   ],
   "outputs": [],
   "execution_count": null
  },
  {
   "cell_type": "markdown",
   "id": "f52dd5b7-492a-446c-a23e-272eab415f90",
   "metadata": {},
   "source": [
    "Nakonec nesmíme zapomenout na uložení změn."
   ]
  },
  {
   "cell_type": "code",
   "id": "f0edd5bd-3679-4fcf-9349-65ff8265ccac",
   "metadata": {},
   "source": [
    "vectordb.persist()"
   ],
   "outputs": [],
   "execution_count": null
  },
  {
   "cell_type": "markdown",
   "id": "6645d59f-4cdf-497d-8039-87aba5babff6",
   "metadata": {},
   "source": [
    "Podobným způsobem by probíhalo i mazání záznamů, kdy bychom použili metodu *delete*:\n",
    "```\n",
    "vectordb._collection.delete(ids=\"a73b7183-39ea-11ee-a74a-80ce622bc396\")\n",
    "```"
   ]
  },
  {
   "cell_type": "markdown",
   "id": "6dd457f3-ccf6-4113-8562-8292a990334a",
   "metadata": {},
   "source": [
    "#### Similarity search\n",
    "Řekli jsme si, že metodu *query* na hledání podobnosti dokumentů používat nebudeme. Co ale místo ní máme k dispozici?"
   ]
  },
  {
   "cell_type": "code",
   "id": "7adf4d78-ad11-4fe3-9ec4-44baf1eb495b",
   "metadata": {},
   "source": [
    "question = \"Jak dlouho debentní karta platí?\""
   ],
   "outputs": [],
   "execution_count": null
  },
  {
   "cell_type": "markdown",
   "id": "c2f61fcd-7387-4b53-9565-cffbafce3139",
   "metadata": {},
   "source": [
    "Metoda *similarity_search* vyhledává *k* nejpodobnějších fragmentů dokumentů k dokumentu vloženému do parametru *query*. Založená je na počítání cosinové podobnosti mezi vektory fragmentů."
   ]
  },
  {
   "cell_type": "code",
   "id": "d68b63e5-6073-449e-965f-4d161ba2acdf",
   "metadata": {},
   "source": [
    "simple_sim_docs = vectordb.similarity_search(query=question,k=3)"
   ],
   "outputs": [],
   "execution_count": null
  },
  {
   "cell_type": "code",
   "id": "8b030301-9785-4ebd-8853-824e89072203",
   "metadata": {},
   "source": [
    "simple_sim_docs"
   ],
   "outputs": [],
   "execution_count": null
  },
  {
   "cell_type": "markdown",
   "id": "a7706efa-3e9d-485b-ad58-d2d8e78b3a9a",
   "metadata": {},
   "source": [
    "Lze do ní přidat i parametr *filter*, který se hodí pro omezení množiny, ve které se podobné framenty hledají, a to sice na základě metadat."
   ]
  },
  {
   "cell_type": "code",
   "id": "4c745af6-7efb-48e7-bbf2-faecf99f1d53",
   "metadata": {},
   "source": [
    "simple_sim_docs = vectordb.similarity_search(\n",
    "    query=question,\n",
    "    k=3,\n",
    "    filter={\"page\":0}\n",
    ")"
   ],
   "outputs": [],
   "execution_count": null
  },
  {
   "cell_type": "code",
   "id": "da743cf4-25f7-4ecd-a7d5-ba5e6ffa18eb",
   "metadata": {},
   "source": [
    "simple_sim_docs"
   ],
   "outputs": [],
   "execution_count": null
  },
  {
   "cell_type": "markdown",
   "id": "e01a78e5-3dc4-4591-97d3-6316c7012d92",
   "metadata": {},
   "source": [
    "Metoda *similarity_search* u vrácených fragmentů neukazuje, jak moc jsou dokumentu v *query* podobné. Tuto informaci můžeme ale dostat s metodou *similarity_search_with_score* - ta vrací velikost cosinové podobnosti, tj. menší číslo je lepší a nejlepší je 0."
   ]
  },
  {
   "cell_type": "code",
   "id": "0b8a6604-34d5-41cd-8d53-1877e8d95fc6",
   "metadata": {},
   "source": [
    "sim_score_docs = vectordb.similarity_search_with_score(query=question,k=3)\n",
    "sim_score_docs"
   ],
   "outputs": [],
   "execution_count": null
  },
  {
   "cell_type": "markdown",
   "id": "17345ec0-dbe8-422e-9f3d-6193b786da49",
   "metadata": {},
   "source": [
    "Podobně funguje *similarity_search_with_relevance_scores*, pouze je cosinová podobnost přepočítána na relevance score. To se nalézá v uzavřeném intervalu mezi 0 a 1, přičemž 0 jsou zcela nepodobné dokumenty, zatímco 1 mají zcela identické dokumenty."
   ]
  },
  {
   "cell_type": "code",
   "id": "c5160c03-35de-4d50-b388-6c4f550c7807",
   "metadata": {},
   "source": [
    "sim_rel_score_docs = vectordb.similarity_search_with_relevance_scores(query=question,k=3)\n",
    "sim_rel_score_docs"
   ],
   "outputs": [],
   "execution_count": null
  },
  {
   "cell_type": "markdown",
   "id": "3cad7e48-39c2-4215-a5e8-4b0885bf15c0",
   "metadata": {},
   "source": [
    "Na poněkud odlišném principu funguje *max_marginal_relevance_search*. Tato metoda se snaží současně optimalizovat podobnost a diverzitu dokumentů. To v praxi znamená, že najde na základě cosinové podobnosti *fetch_k* fragmentů (defaultně 20). Poté je ale seřadí tak, že penalizuje podobné či dokonce identické dokumenty a z nového řazení vrátí *k* fragmentů (defaultně 4). Bohužel zdá se, že žádné číslo kvantifikující podobnost či kvalitu výběru není ve funkci dostupné."
   ]
  },
  {
   "cell_type": "code",
   "id": "cca412e6-7d5b-4706-88c2-04f91432ce6f",
   "metadata": {},
   "source": [
    "max_relev_docs = vectordb.max_marginal_relevance_search(query=question,k=3, fetch_k=20)\n",
    "max_relev_docs"
   ],
   "outputs": [],
   "execution_count": null
  },
  {
   "cell_type": "markdown",
   "id": "5330fa64-5b93-4c4f-bf81-853b2855ef49",
   "metadata": {},
   "source": [
    "Specialitou je použití komprese na výstupních fragmentech. Fragmenty mohou totiž obsahovat značné množství informací pro určitý dotaz nerelevantních. Užitečné informace se potom v záplavě zbytečností snadno ztratí. "
   ]
  },
  {
   "cell_type": "code",
   "id": "b518dd81-b07d-45f6-a75d-da2e0aab1520",
   "metadata": {},
   "source": [
    "from langchain.retrievers import ContextualCompressionRetriever\n",
    "from langchain.retrievers.document_compressors import LLMChainExtractor"
   ],
   "outputs": [],
   "execution_count": null
  },
  {
   "cell_type": "markdown",
   "id": "20c2cd69-c087-418c-acfa-0b9d07057ef5",
   "metadata": {},
   "source": [
    "Abychom viděli, co Langchain dělá, zapneme debugování."
   ]
  },
  {
   "cell_type": "code",
   "id": "6341e36f-38bc-4e47-b664-7c26668b4424",
   "metadata": {},
   "source": [
    "langchain.debug = True"
   ],
   "outputs": [],
   "execution_count": null
  },
  {
   "cell_type": "markdown",
   "id": "6d682b44-9ba4-445d-89a4-2da035b0508e",
   "metadata": {},
   "source": [
    "Samotnou kompresi (či přesněji osekávání zbytečných slov) realizuje fakticky jazykový model, musíme tudíž vytvoři jeho instanci."
   ]
  },
  {
   "cell_type": "code",
   "id": "91e75ed3-91c7-4625-a190-21855878f352",
   "metadata": {},
   "source": [
    "chat = ChatOpenAI(temperature=0)\n",
    "compressor = LLMChainExtractor.from_llm(chat)"
   ],
   "outputs": [],
   "execution_count": null
  },
  {
   "cell_type": "markdown",
   "id": "e4291967-b73b-43d7-bcf6-91d57194f4ce",
   "metadata": {},
   "source": [
    "Následně vytvoříme samotný kompresor."
   ]
  },
  {
   "cell_type": "code",
   "id": "b5787b6f-8b6b-4019-9e0a-39d915cf79ba",
   "metadata": {},
   "source": [
    "compression_retriever = ContextualCompressionRetriever(\n",
    "    base_compressor=compressor,\n",
    "    base_retriever=vectordb.as_retriever()\n",
    ")"
   ],
   "outputs": [],
   "execution_count": null
  },
  {
   "cell_type": "markdown",
   "id": "40d44e08-0ac3-4752-8979-957e1189a63e",
   "metadata": {},
   "source": [
    "Na něm provoláme metodu *get_relevant_documents*. Bohužel jsem nepřišel na to, jak specifikovat počet vrácených fragmentů (parametr *k* nefunguje), takže se vrací defaultní 4.  \n",
    "\"Kompresi\" zajišťuje následující prompt:\n",
    "```\n",
    "Given the following question and context, extract any part of the context *AS IS* that is relevant to answer the question. If none of the context is relevant return NO_OUTPUT. \\n\\nRemember, *DO NOT* edit the extracted parts of the context.\\n\\n> Question: Jak dlouho debentní karta platí?\\n> Context:\\n>>>\\nplatíte  předem a  účtujeme  jej nejdříve 5.  obchodní den  po sjednání karty. V dalších měsících  po dobu \\nplatnosti karty  je cena splatná  ve stejný den . Pokud den splatnosti připa dne na den, který není Obchodním\\n>>>\\nExtracted relevant parts:\n",
    "```"
   ]
  },
  {
   "cell_type": "code",
   "id": "ce5ab7b9-177d-42e3-803a-693e9d672963",
   "metadata": {},
   "source": [
    "compressed_docs = compression_retriever.get_relevant_documents(query=question)"
   ],
   "outputs": [],
   "execution_count": null
  },
  {
   "cell_type": "code",
   "id": "7d6cff82-0c66-4dc5-bcba-636e92f24466",
   "metadata": {},
   "source": [
    "compressed_docs"
   ],
   "outputs": [],
   "execution_count": null
  },
  {
   "cell_type": "code",
   "id": "aef57b7b-085c-4878-92c7-7b266fb5aba9",
   "metadata": {},
   "source": [
    "langchain.debug = False"
   ],
   "outputs": [],
   "execution_count": null
  },
  {
   "cell_type": "markdown",
   "id": "b0cc9fdd-8a90-42f9-bbae-7d3d25876e73",
   "metadata": {},
   "source": [
    "#### Question answering\n",
    "Uživatel asi nebude chtít, aby mu stroj na jeho otázku vyplivl více či méně souvislé fragmenty dokumentů. Bude si spíše přát odpověď v přirozeném jazyce. Této úloze se budeme věnovat nyní.  \n",
    "Nejprve si připravme věci, se kterými jsme se seznámili již v předchozík podkapitolách."
   ]
  },
  {
   "cell_type": "code",
   "id": "7a0c7bb9-85e6-456e-b298-39db8f76a3e7",
   "metadata": {},
   "source": [
    "simple_doc_dir = 'embeddings/simple/'\n",
    "embedding = OpenAIEmbeddings()\n",
    "vectordb = Chroma(persist_directory=simple_doc_dir, embedding_function=embedding)\n",
    "chat = ChatOpenAI(model_name=\"gpt-3.5-turbo\", temperature=0)"
   ],
   "outputs": [],
   "execution_count": null
  },
  {
   "cell_type": "markdown",
   "id": "3f32b339-d9ee-4352-94df-9baa80f793bf",
   "metadata": {},
   "source": [
    "Následně si vytvoříme chain pro question answering - [RetrievalQA](https://python.langchain.com/docs/use_cases/question_answering/how_to/vector_db_qa)."
   ]
  },
  {
   "cell_type": "code",
   "id": "d7a5213a-0764-4d27-8538-d0fcc62721d5",
   "metadata": {},
   "source": [
    "from langchain.chains import RetrievalQA"
   ],
   "outputs": [],
   "execution_count": null
  },
  {
   "cell_type": "code",
   "id": "cf74b26d-268f-470a-b3b1-05d5c4d16bdb",
   "metadata": {},
   "source": [
    "qa_chain = RetrievalQA.from_chain_type(\n",
    "    llm=chat,\n",
    "    retriever=vectordb.as_retriever()\n",
    ")"
   ],
   "outputs": [],
   "execution_count": null
  },
  {
   "cell_type": "markdown",
   "id": "33fa5454-81ea-48f8-9f40-c9eefac5fa72",
   "metadata": {},
   "source": [
    "Otázku do něj vložíme takto:"
   ]
  },
  {
   "cell_type": "code",
   "id": "5a88d39b-7905-4bdc-8c65-c69fae9aeba7",
   "metadata": {},
   "source": [
    "question = \"Jak dlouho debentní karta platí?\"\n",
    "result = qa_chain({\"query\": question})"
   ],
   "outputs": [],
   "execution_count": null
  },
  {
   "cell_type": "markdown",
   "id": "5765196c-8eb2-4ccb-b769-81d37d215b13",
   "metadata": {},
   "source": [
    "A obdržíme následující slovník:"
   ]
  },
  {
   "cell_type": "code",
   "id": "29f117e8-735a-47e0-8372-24b13b63b0eb",
   "metadata": {},
   "source": [
    "result"
   ],
   "outputs": [],
   "execution_count": null
  },
  {
   "cell_type": "markdown",
   "id": "cd09b547-0428-4dcd-ac0d-bbc450fd9f20",
   "metadata": {},
   "source": [
    "Ok, odpověď v přirozeném jazyce jsme dostali. Co když bychom ale chtěli upravit systémový prompt? A jak si zobrazíme fragmenty, ze kterých jazykový model skládal odpověď?"
   ]
  },
  {
   "cell_type": "code",
   "id": "f7626304-d182-4fb2-a013-b9e92865da93",
   "metadata": {},
   "source": [
    "from langchain.prompts import PromptTemplate\n",
    "\n",
    "template = \"\"\"Use the following pieces of context to answer the question at the end. If you don't know the answer, just say that you don't know, don't try to make up an answer. Use three sentences maximum. Keep the answer as concise as possible. Answer in Czech language. \n",
    "{context}\n",
    "Question: {question}\n",
    "Helpful Answer:\"\"\"\n",
    "qa_chain_prompt = PromptTemplate.from_template(template)"
   ],
   "outputs": [],
   "execution_count": null
  },
  {
   "cell_type": "markdown",
   "id": "55cefe70-d47b-4cac-b706-3d911e5450ef",
   "metadata": {},
   "source": [
    "Zdrojové fragmenty dostaneme díky parametru *return_source_documents* rovnému True. Šablonu se svého druhu systémovým promptem pak do chainu vložíme skrze parametr *chain_type_kwargs*. Ten obsahuje slovník, ve kterém musí být pro klíč \"prompt\" vložena námi specifikovaná šablona."
   ]
  },
  {
   "cell_type": "code",
   "id": "d03cd7c5-5d8a-44a7-ba72-8bdd0364e02e",
   "metadata": {},
   "source": [
    "qa_chain = RetrievalQA.from_chain_type(\n",
    "    llm=chat,\n",
    "    retriever=vectordb.as_retriever(),\n",
    "    return_source_documents=True,\n",
    "    chain_type_kwargs={\"prompt\": qa_chain_prompt}\n",
    ")"
   ],
   "outputs": [],
   "execution_count": null
  },
  {
   "cell_type": "code",
   "id": "2535390a-6a15-46c2-b709-0f97225fb256",
   "metadata": {},
   "source": [
    "result = qa_chain({\"query\": question})"
   ],
   "outputs": [],
   "execution_count": null
  },
  {
   "cell_type": "code",
   "id": "f6439491-e36d-423e-bcf6-5842071ff5e9",
   "metadata": {},
   "source": [
    "result"
   ],
   "outputs": [],
   "execution_count": null
  },
  {
   "cell_type": "markdown",
   "id": "828b79d9-1eb1-4a9c-868b-73ce24c78980",
   "metadata": {},
   "source": [
    "Určité parametry můžeme vložit i do *vectordb.as_retriever()*. Například pokud bychom chtěli přejít od defaultního similarity searche na max marginal relevance search, přidáme tam parametr *search_type* s hodnotou \"mmr\". Další paramtery už nejsou samostatné, nýbrž se nalézají ve slovníku v parametru *search_kwargs*. Může jít o počet vrácených fragmentů (parametr *k*), *fetch_k* pro MMR, *score_threshold* pro similarity search na vrácení dostatečně kvalitích fragmentů či v případě filtrování dle metadat parametr filter."
   ]
  },
  {
   "cell_type": "code",
   "id": "22ce977a-a183-43da-903e-6b7baf85161e",
   "metadata": {},
   "source": [
    "qa_chain = RetrievalQA.from_chain_type(\n",
    "    llm=chat,\n",
    "    retriever=vectordb.as_retriever(search_type=\"mmr\", search_kwargs={'k': 5, 'fetch_k': 20}),\n",
    "    return_source_documents=True,\n",
    "    chain_type_kwargs={\"prompt\": qa_chain_prompt}\n",
    ")\n",
    "result = qa_chain({\"query\": question})\n",
    "result"
   ],
   "outputs": [],
   "execution_count": null
  },
  {
   "cell_type": "markdown",
   "id": "ffce3183-cf64-4490-a107-c3728cd6a2bc",
   "metadata": {},
   "source": [
    "Pokud chceme mít chatbota, se kterým lze diskutovat déle než jednu dialogovou výměnu, musíme si vytvořit paměťový objekt."
   ]
  },
  {
   "cell_type": "code",
   "id": "c780c702-288f-4924-ba70-4607e4fc48e3",
   "metadata": {},
   "source": [
    "from langchain.memory import ConversationBufferMemory\n",
    "conv_buff_memory = ConversationBufferMemory(\n",
    "    memory_key=\"chat_history\",\n",
    "    return_messages=True\n",
    ")"
   ],
   "outputs": [],
   "execution_count": null
  },
  {
   "cell_type": "markdown",
   "id": "fb88fe7d-06ca-488c-85c7-f6a544437f14",
   "metadata": {},
   "source": [
    "Je třeba též použít jiný chain - *ConversationalRetrievalChain*."
   ]
  },
  {
   "cell_type": "code",
   "id": "3e645ba2-4cb0-44c9-afd3-b168b4a2848c",
   "metadata": {},
   "source": [
    "from langchain.chains import ConversationalRetrievalChain"
   ],
   "outputs": [],
   "execution_count": null
  },
  {
   "cell_type": "markdown",
   "id": "7915bda8-1de3-4e82-ba0e-60d0877d165b",
   "metadata": {},
   "source": [
    "Parametry jsou (krom přidání paměti) stejné jako v předchozím chainu. Nicméně v pozadí přibyl další krok, ve kterém chain vezme historii i novou uživatelovu otázku a zkondenzuje je do otázky přežvýkané. Tento krok má následující podobu: \n",
    "```\n",
    "[llm/start] [1:chain:ConversationalRetrievalChain > 2:chain:LLMChain > 3:llm:ChatOpenAI] Entering LLM run with input:\n",
    "{\n",
    "  \"prompts\": [\n",
    "    \"Human: Given the following conversation and a follow up question, rephrase the follow up question to be a standalone question, in its original language.\\n\\nChat History:\\n\\nHuman: Jak dlouho debentní karta platí?\\nAssistant: Debetní karta platí do posledního dne měsíce a roku doby platnosti, která je uvedena na kartě.\\nFollow Up Input: Jak se to liší v případě, kdy máme kreditní kartu?\\nStandalone question:\"\n",
    "  ]\n",
    "}\n",
    "```\n",
    "díky čemuž vznikne otázka\n",
    "```\n",
    "\"Jak dlouho platí kreditní karta?\"\n",
    "```"
   ]
  },
  {
   "cell_type": "code",
   "id": "6f424f86-d6a5-452d-bb71-91c24b669106",
   "metadata": {},
   "source": [
    "memory_chain = ConversationalRetrievalChain.from_llm(\n",
    "    llm=chat,\n",
    "    retriever=vectordb.as_retriever(),\n",
    "    memory=conv_buff_memory\n",
    ")"
   ],
   "outputs": [],
   "execution_count": null
  },
  {
   "cell_type": "markdown",
   "id": "1813aed2-9869-41e3-bae0-679c3f0d54f9",
   "metadata": {},
   "source": [
    "Pozn.: bacha, slovník vstupující do provolávání chainu musí mít klíč \"question\"."
   ]
  },
  {
   "cell_type": "code",
   "id": "0d205400-d889-4038-b542-80b329772604",
   "metadata": {},
   "source": [
    "question = \"Jak dlouho debentní karta platí?\"\n",
    "result = memory_chain({\"question\": question})"
   ],
   "outputs": [],
   "execution_count": null
  },
  {
   "cell_type": "code",
   "id": "3c3f2688-b584-4215-9085-f43cc68b61c6",
   "metadata": {},
   "source": [
    "result"
   ],
   "outputs": [],
   "execution_count": null
  },
  {
   "cell_type": "code",
   "id": "9077423e-498f-4000-b3a5-37e9c8b656d6",
   "metadata": {},
   "source": [
    "question_2 = \"Jak se to liší v případě, kdy máme kreditní kartu?\"\n",
    "result = memory_chain({\"question\": question_2})"
   ],
   "outputs": [],
   "execution_count": null
  },
  {
   "cell_type": "code",
   "id": "333a2301-42c9-4fb4-adc0-7ebcbe511c57",
   "metadata": {},
   "source": [
    "result"
   ],
   "outputs": [],
   "execution_count": null
  },
  {
   "cell_type": "markdown",
   "id": "9bd31842-ec17-4272-a881-263566598c6c",
   "metadata": {},
   "source": [
    "BTW odpověď je asi správně, ale v celém dokumentu o kreditních kartách nebyla ani zmínka.  \n",
    "Pozn.: pokud chceme vidět zdrojové dokumenty, musíme vložit do konstruktoru *ConversationalRetrievalChain* parametr *verbose* s hodnotou True."
   ]
  },
  {
   "cell_type": "markdown",
   "id": "bbc2607c-0549-4ef7-b464-5cdd50d6cf2d",
   "metadata": {},
   "source": [
    "#### Automatické používání metadat"
   ]
  },
  {
   "cell_type": "markdown",
   "id": "01abbfca-a627-4f9a-b25e-32ae71d7b255",
   "metadata": {},
   "source": [
    "Načtěme si nejprve krom pdfka o debentních kartách i pdfko o kartách kreditních."
   ]
  },
  {
   "cell_type": "code",
   "id": "cbb2e897-1d12-4944-a495-cd513cd395fc",
   "metadata": {},
   "source": [
    "loaders_list = [\n",
    "    PyPDFLoader(\"source_files\\\\podminky_debetnich_karet.pdf\"),\n",
    "    PyPDFLoader(\"source_files\\\\Podminky-osobnich-kreditnich-karet.pdf\")\n",
    "]\n",
    "\n",
    "pages = []\n",
    "for loader in loaders_list:\n",
    "    pages = pages + loader.load()"
   ],
   "outputs": [],
   "execution_count": null
  },
  {
   "cell_type": "markdown",
   "id": "28c56975-6629-400f-bc1d-2b2dba6df38a",
   "metadata": {},
   "source": [
    "Nyní postupujme obvyklým způsobem (bez metadat)."
   ]
  },
  {
   "cell_type": "code",
   "id": "cd3d827c-4107-4bb1-892a-387afb48cfd8",
   "metadata": {},
   "source": [
    "chunk_size = 250\n",
    "chunk_overlap = 50\n",
    "\n",
    "rec_text_splitter = RecursiveCharacterTextSplitter(        \n",
    "    chunk_size = chunk_size,\n",
    "    chunk_overlap  = chunk_overlap,\n",
    ")\n",
    "\n",
    "rec_splits = rec_text_splitter.split_documents(pages)"
   ],
   "outputs": [],
   "execution_count": null
  },
  {
   "cell_type": "code",
   "id": "fd928eb9-122b-4568-be95-90725a71ea83",
   "metadata": {},
   "source": [
    "embedding = OpenAIEmbeddings()\n",
    "simple_doc_dir = \"embeddings\\\\two_cards\\\\\""
   ],
   "outputs": [],
   "execution_count": null
  },
  {
   "cell_type": "code",
   "id": "a84cf2e6-699b-4fd5-abed-5e69a425ed2a",
   "metadata": {},
   "source": [
    "vectordb = Chroma.from_documents(\n",
    "    documents=rec_splits,\n",
    "    embedding=embedding,\n",
    "    persist_directory=simple_doc_dir\n",
    ")\n",
    "vectordb.persist()"
   ],
   "outputs": [],
   "execution_count": null
  },
  {
   "cell_type": "code",
   "id": "9883dc72-275c-4c24-9abb-9a6774989b59",
   "metadata": {},
   "source": [
    "vectordb = Chroma(persist_directory=simple_doc_dir, embedding_function=embedding)"
   ],
   "outputs": [],
   "execution_count": null
  },
  {
   "cell_type": "code",
   "id": "b482996c-7c97-410f-8697-09d67950ca95",
   "metadata": {},
   "source": [
    "chat = ChatOpenAI(model_name=\"gpt-3.5-turbo\", temperature=0)"
   ],
   "outputs": [],
   "execution_count": null
  },
  {
   "cell_type": "code",
   "id": "1dd5f300-21b4-4321-aa55-7736b97759a0",
   "metadata": {},
   "source": [
    "template = \"\"\"Use the following pieces of context to answer the question at the end. If you don't know the answer, just say that you don't know, don't try to make up an answer. Use three sentences maximum. Keep the answer as concise as possible. Answer in Czech language. \n",
    "{context}\n",
    "Question: {question}\n",
    "Helpful Answer:\"\"\"\n",
    "qa_chain_prompt = PromptTemplate.from_template(template)\n",
    "\n",
    "qa_chain = RetrievalQA.from_chain_type(\n",
    "    llm=chat,\n",
    "    retriever=vectordb.as_retriever(),\n",
    "    return_source_documents=True,\n",
    "    chain_type_kwargs={\"prompt\": qa_chain_prompt}\n",
    ")"
   ],
   "outputs": [],
   "execution_count": null
  },
  {
   "cell_type": "code",
   "id": "c191d642-ca77-4a30-a019-4b6f1d51c42a",
   "metadata": {},
   "source": [
    "question = \"Jak je to s aktivováním debentní karty?\"\n",
    "result = qa_chain({\"query\": question})"
   ],
   "outputs": [],
   "execution_count": null
  },
  {
   "cell_type": "markdown",
   "id": "734a0759-653a-4a76-a932-985347923052",
   "metadata": {},
   "source": [
    "Pozn.: prosím o ignorování pole \"topic\" a \"product\" v metadatech - jedná se o produkt následujících kroků. zde jsou irrelevantní."
   ]
  },
  {
   "cell_type": "code",
   "id": "e4f326d8-c143-4677-a8f9-292d203cb755",
   "metadata": {},
   "source": [
    "result"
   ],
   "outputs": [],
   "execution_count": null
  },
  {
   "cell_type": "markdown",
   "id": "6593283c-1e98-4514-ae4e-455574fd2444",
   "metadata": {},
   "source": [
    "Všimněte si, že i když byla odpověď asi správná, dostal se mezi nejvhodnější fragmenty i jeden fragment z pdfka o kartách kreditních.  \n",
    "Jaké je řešení? Inu, lze použít metadata. Pokud člověk pracuje s dokumenty s lehce zpracovatelným názvem (typu \"podminky_produkt_1.pdf\", \"podminky_produkt_2.pdf\") a má štěstí, nemusí přidávat žádná nová metadata. I v našem poměrně primitivním případě to ale moc nefungovalo. \n",
    "Musíme tedy data ve vektorové databázi obohatit o nové metadatové pole."
   ]
  },
  {
   "cell_type": "code",
   "id": "081fd36c-8aef-4299-8b88-c2b2dc09b554",
   "metadata": {},
   "source": [
    "debit_cards_ids = vectordb.get(where={\"source\": \"source_files\\\\podminky_debetnich_karet.pdf\"})[\"ids\"]\n",
    "debit_cards_metadatas = vectordb.get(where={\"source\": \"source_files\\\\podminky_debetnich_karet.pdf\"})[\"metadatas\"]"
   ],
   "outputs": [],
   "execution_count": null
  },
  {
   "cell_type": "code",
   "id": "6f4755e9-5140-4b63-9f3e-929e37324927",
   "metadata": {},
   "source": [
    "credit_cards_ids = vectordb.get(where={\"source\": \"source_files\\\\Podminky-osobnich-kreditnich-karet.pdf\"})[\"ids\"]\n",
    "credit_cards_metadatas = vectordb.get(where={\"source\": \"source_files\\\\Podminky-osobnich-kreditnich-karet.pdf\"})[\"metadatas\"]"
   ],
   "outputs": [],
   "execution_count": null
  },
  {
   "cell_type": "markdown",
   "id": "d3af31e7-48cc-4a9b-bba6-e8c64d70ede1",
   "metadata": {},
   "source": [
    "Hned tady může být zádrhel, když do metadat vložíme slova ve tvaru, které později jazykový model nevygeneruje. Metadatové filtrování totiž není fuzzy, ale přesné. Tudíž když modle vyvodí, že se v otázce \"Co musím udělat pro blokaci produktu debentní karty?\" ptáme na produkt \"debentní karta\", nemůžeme mít v metadatech \"debentní kart**y**\". Podobně bacha na case sensitivitu - model (přesněji vláček modelu a databázového enginu) začne pro otázku \"Co musím udělat pro blokaci produktu Debentní karta?\" hledat produkt \"Debentní karta\" a též nic nenajde."
   ]
  },
  {
   "cell_type": "code",
   "id": "97baedf9-b99d-492e-b5bb-1f01152e7487",
   "metadata": {},
   "source": [
    "for one_metadata in debit_cards_metadatas:\n",
    "    one_metadata[\"product\"] = \"debentní karta\""
   ],
   "outputs": [],
   "execution_count": null
  },
  {
   "cell_type": "code",
   "id": "c91350a2-bf2f-4914-b523-f812978631c7",
   "metadata": {},
   "source": [
    "for one_metadata in credit_cards_metadatas:\n",
    "    one_metadata[\"product\"] = \"kreditní karta\""
   ],
   "outputs": [],
   "execution_count": null
  },
  {
   "cell_type": "markdown",
   "id": "6a209740-e2ff-4894-b6c1-aa068c2bd85a",
   "metadata": {},
   "source": [
    "Provedeme update a změny databáze uložíme."
   ]
  },
  {
   "cell_type": "code",
   "id": "4e8e7b0e-1708-4624-9fea-668018bf4be5",
   "metadata": {},
   "source": [
    "vectordb._collection.update(ids=debit_cards_ids, metadatas=debit_cards_metadatas)"
   ],
   "outputs": [],
   "execution_count": null
  },
  {
   "cell_type": "code",
   "id": "52c1e14f-e9dc-45f1-91d8-e7961da476a8",
   "metadata": {},
   "source": [
    "vectordb._collection.update(ids=credit_cards_ids, metadatas=credit_cards_metadatas)"
   ],
   "outputs": [],
   "execution_count": null
  },
  {
   "cell_type": "code",
   "id": "97b6895e-82fa-40b2-94bb-4eaacf6b8369",
   "metadata": {},
   "source": [
    "vectordb.persist()"
   ],
   "outputs": [],
   "execution_count": null
  },
  {
   "cell_type": "markdown",
   "id": "fcf4b3c3-3c2b-46ed-8efa-a36726509bfc",
   "metadata": {},
   "source": [
    "Pro získání fragmentů dokumentů, u kterých už budou hrát roli metadata, musíme použít *SelfQueryRetriever*. Ten vyžaduje mít nainstalovaný balíček [lark](https://pypi.org/project/lark/)."
   ]
  },
  {
   "cell_type": "code",
   "id": "6e1eee2a-68e9-47ad-a71d-0465e89a301a",
   "metadata": {},
   "source": [
    "from langchain.retrievers.self_query.base import SelfQueryRetriever\n",
    "from langchain.chains.query_constructor.base import AttributeInfo"
   ],
   "outputs": [],
   "execution_count": null
  },
  {
   "cell_type": "markdown",
   "id": "e8eecc10-ff24-4628-adac-8d7c8a7ba822",
   "metadata": {},
   "source": [
    "Musíme mu mimo jiné podhodit popis metadat."
   ]
  },
  {
   "cell_type": "code",
   "id": "02df768a-b7b3-4acc-9472-4e52cc054b8f",
   "metadata": {},
   "source": [
    "metadata_field_info = [\n",
    "    AttributeInfo(\n",
    "        name=\"product\",\n",
    "        description=\"Product name\",\n",
    "        type=\"string\",\n",
    "    ),\n",
    "    AttributeInfo(\n",
    "        name=\"source\",\n",
    "        description=\"The document source\",\n",
    "        type=\"string\",\n",
    "    ),\n",
    "    AttributeInfo(\n",
    "        name=\"page\",\n",
    "        description=\"The page from the document\",\n",
    "        type=\"integer\",\n",
    "    ),\n",
    "]"
   ],
   "outputs": [],
   "execution_count": null
  },
  {
   "cell_type": "markdown",
   "id": "e8b156c6-50a2-4201-9bc5-ba8bb1ad36a8",
   "metadata": {},
   "source": [
    "Též do *SelfQueryRetriever* vložíme parametr *document_contents*."
   ]
  },
  {
   "cell_type": "code",
   "id": "1c759823-ea14-40ed-bc05-10ae212138ad",
   "metadata": {},
   "source": [
    "document_content_description = \"Bank products\"\n",
    "retriever = SelfQueryRetriever.from_llm(\n",
    "    llm=chat,\n",
    "    vectorstore=vectordb,\n",
    "    document_contents=document_content_description,\n",
    "    metadata_field_info=metadata_field_info,\n",
    "    verbose=True\n",
    ")"
   ],
   "outputs": [],
   "execution_count": null
  },
  {
   "cell_type": "markdown",
   "id": "4d7a7b13-911b-4928-8721-fbc0b068442f",
   "metadata": {},
   "source": [
    "No a když jsem tohle všechno udělal, tak... to stejně nefungovalo :D. Možná jsem se špatně dotazoval, možná tenhle typ úlohy funguje snáze v angličtině. Zkusil jsem tak editovat soubor {jméno_vašeho_environmentu}\\Lib\\site-packages\\langchain\\chains\\query_constructor\\prompt.py, ve kterém je šablona za tvoření queriny do Chromy zodpovědná. No, snad jsem přitom nic nerozbil...   \n",
    "Změněné byly tyto části souboru:\n",
    "```\n",
    "BANK_DATA_SOURCE = \"\"\"\\\n",
    "```json\n",
    "{\n",
    "    \"content\": \"Informace k bankovnímu produktu\",\n",
    "    \"attributes\": {\n",
    "        \"produkt\": {\n",
    "            \"type\": \"string\",\n",
    "            \"description\": \"Název produktu\"\n",
    "        },\n",
    "        \"zamereni\": {\n",
    "            \"type\": \"string\",\n",
    "            \"description\": \"Zaměření dokumentu, jedna z možností \\\"ceník\\\", \\\"všeobecné informace\\\"\"\n",
    "        }\n",
    "    }\n",
    "}\n",
    "```\\\n",
    "\"\"\".replace(\n",
    "    \"{\", \"{{\"\n",
    ").replace(\n",
    "    \"}\", \"}}\"\n",
    ")\n",
    "\n",
    "FULL_ANSWER = \"\"\"\\\n",
    "```json\n",
    "{{\n",
    "    \"query\": \"cena spotřebitelský úvěr\",\n",
    "    \"filter\": \"and(eq(\\\\\"produkt\\\\\", \\\\\"spotřebitelský úvěr\\\\\"), \\\n",
    "eq(\\\\\"zamereni\\\\\", \\\\\"ceník\\\\\"))\"\n",
    "}}\n",
    "```\\\n",
    "\"\"\"\n",
    "\n",
    "DEFAULT_EXAMPLES = [\n",
    "    {\n",
    "        \"i\": 1,\n",
    "        \"data_source\": BANK_DATA_SOURCE,\n",
    "        \"user_query\": \"Kolik stojí vyřízení spotřebitelského úvěru\",\n",
    "        \"structured_request\": FULL_ANSWER,\n",
    "    },\n",
    "    {\n",
    "        \"i\": 2,\n",
    "        \"data_source\": BANK_DATA_SOURCE,\n",
    "        \"user_query\": \"V kolik jede vlak?\",\n",
    "        \"structured_request\": NO_FILTER_ANSWER,\n",
    "    },\n",
    "]\n",
    "\n",
    "EXAMPLES_WITH_LIMIT = [\n",
    "    {\n",
    "        \"i\": 1,\n",
    "        \"data_source\": BANK_DATA_SOURCE,\n",
    "        \"user_query\": \"Kolik stojí vyřízení spotřebitelského úvěru\",\n",
    "        \"structured_request\": FULL_ANSWER,\n",
    "    },\n",
    "    {\n",
    "        \"i\": 2,\n",
    "        \"data_source\": BANK_DATA_SOURCE,\n",
    "        \"user_query\": \"V kolik jede vlak\",\n",
    "        \"structured_request\": NO_FILTER_ANSWER,\n",
    "    },\n",
    "    {\n",
    "        \"i\": 3,\n",
    "        \"data_source\": BANK_DATA_SOURCE,\n",
    "        \"user_query\": \"What are three songs about love\",\n",
    "        \"structured_request\": WITH_LIMIT_ANSWER,\n",
    "    },\n",
    "]\n",
    "```"
   ]
  },
  {
   "cell_type": "markdown",
   "id": "008aeaf2-9a92-45f9-b532-b7aa899d36d6",
   "metadata": {},
   "source": [
    "Pro dotaz \"Co musím udělat pro blokaci debentní karty?\" (popř. \"Co musím udělat pro blokaci debentní karty od KB?\") se vygeneruje\n",
    "```\n",
    "\"```json\\n{\\n    \\\"query\\\": \\\"blokace debentní karta\\\",\\n    \\\"filter\\\": \\\"NO_FILTER\\\"\\n}\\n```\"\n",
    "```\n",
    "Tj. querina správná, ale filtr se neuplatnil.\n",
    "Při dotazu \"Co musím udělat pro blokaci produktu debentní karta?\" je už filtr správný\n",
    "```\n",
    "\"```json\\n{\\n    \\\"query\\\": \\\"blokace debentní karta\\\",\\n    \\\"filter\\\": \\\"eq(\\\\\\\"product\\\\\\\", \\\\\\\"debentní karta\\\\\\\")\\\"\\n}\\n```\"\n",
    "```\n",
    "Ale popravdě nedokážu si představit, že by v praxi uživatel používal takto pro model nápovědný dotaz.  \n",
    "Pro zajímavost - na dotaz \"Kolik budu platit u pojištění Merlin od KB?\" by vznikl filtr\n",
    "```\n",
    "\"```json\\n{\\n    \\\"query\\\": \\\"platit pojištění Merlin KB\\\",\\n    \\\"filter\\\": \\\"and(eq(\\\\\\\"product\\\\\\\", \\\\\\\"Merlin\\\\\\\"), eq(\\\\\\\"source\\\\\\\", \\\\\\\"KB\\\\\\\"))\\\"\\n}\\n```\"\n",
    "```\n",
    "Asi by to chtělo ten šablonový prompt ze souboru trochu vylepšit."
   ]
  },
  {
   "cell_type": "code",
   "id": "3fa99d2e-b609-4d9b-aef3-a50224001f0a",
   "metadata": {},
   "source": [
    "question = \"Co musím udělat pro blokaci produktu debentní karta?\"\n",
    "result = retriever.get_relevant_documents(question)"
   ],
   "outputs": [],
   "execution_count": null
  },
  {
   "cell_type": "code",
   "id": "eba1095a-fa7d-4b3d-967a-9c0d74238ebf",
   "metadata": {},
   "source": [
    "result"
   ],
   "outputs": [],
   "execution_count": null
  },
  {
   "cell_type": "markdown",
   "id": "c2634be3-73c0-4007-8739-037d275a0c6a",
   "metadata": {},
   "source": [
    "#### Prefix před fragmenty\n",
    "Co se týče problému nalezení fragmentu ke správné problematice, lze na internetu nalézt doporučení, aby se jméno problematiky vložilo na začátek každého fragmentu."
   ]
  },
  {
   "cell_type": "code",
   "id": "37a5f7d0-6a5f-4c80-ac7e-1becf9764493",
   "metadata": {},
   "source": [
    "chunk_size = 250\n",
    "chunk_overlap = 50\n",
    "\n",
    "rec_text_splitter = RecursiveCharacterTextSplitter(        \n",
    "    chunk_size = chunk_size,\n",
    "    chunk_overlap  = chunk_overlap,\n",
    ")\n",
    "\n",
    "loader_1 = PyPDFLoader(\"source_files\\\\podminky_debetnich_karet.pdf\")\n",
    "pages_1 = loader_1.load()\n",
    "rec_splits_1 = rec_text_splitter.split_documents(pages_1)\n",
    "for one_doc in rec_splits_1:\n",
    "    one_doc.page_content = \"debentní karta \\t \" + one_doc.page_content\n",
    "\n",
    "\n",
    "loader_2 = PyPDFLoader(\"source_files\\\\Podminky-osobnich-kreditnich-karet.pdf\")\n",
    "pages_2 = loader_2.load()\n",
    "rec_splits_2 = rec_text_splitter.split_documents(pages_2)\n",
    "for one_doc in rec_splits_2:\n",
    "    one_doc.page_content = \"kreditní karta \\t \" + one_doc.page_content\n",
    "\n",
    "all_splits = rec_splits_1 + rec_splits_2"
   ],
   "outputs": [],
   "execution_count": null
  },
  {
   "cell_type": "code",
   "id": "b715121f-a854-4b93-9a61-cf7d4b9a8c3e",
   "metadata": {},
   "source": [
    "embedding = OpenAIEmbeddings()\n",
    "doc_dir = \"embeddings\\\\fragment_prefix\\\\\"\n",
    "\n",
    "vectordb = Chroma.from_documents(\n",
    "    documents=all_splits,\n",
    "    embedding=embedding,\n",
    "    persist_directory=doc_dir\n",
    ")\n",
    "vectordb.persist()"
   ],
   "outputs": [],
   "execution_count": null
  },
  {
   "cell_type": "code",
   "id": "b780c816-81f6-43c3-8ba1-20a5b36b113f",
   "metadata": {},
   "source": [
    "chat = ChatOpenAI(model_name=\"gpt-3.5-turbo\", temperature=0)\n",
    "\n",
    "template = \"\"\"Use the following pieces of context to answer the question at the end. If you don't know the answer, just say that you don't know, don't try to make up an answer. Use three sentences maximum. Keep the answer as concise as possible. Answer in Czech language. \n",
    "{context}\n",
    "Question: {question}\n",
    "Helpful Answer:\"\"\"\n",
    "qa_chain_prompt = PromptTemplate.from_template(template)\n",
    "\n",
    "qa_chain = RetrievalQA.from_chain_type(\n",
    "    llm=chat,\n",
    "    retriever=vectordb.as_retriever(),\n",
    "    return_source_documents=True,\n",
    "    chain_type_kwargs={\"prompt\": qa_chain_prompt}\n",
    ")"
   ],
   "outputs": [],
   "execution_count": null
  },
  {
   "cell_type": "markdown",
   "id": "7a79a28d-f268-4308-8770-abeca9ff593f",
   "metadata": {},
   "source": [
    "Zdá se, že funkčnost takového přístupu je omezená, nicméně pro úplné zatracení či naopak vychválení do nebes by to chtělo větší otestování."
   ]
  },
  {
   "cell_type": "code",
   "id": "0c94e76f-65a1-4b67-8955-836ccfb29932",
   "metadata": {},
   "source": [
    "result = qa_chain({\"query\": \"Co musím udělat pro blokaci debentní karty?\"})\n",
    "result"
   ],
   "outputs": [],
   "execution_count": null
  },
  {
   "cell_type": "code",
   "id": "58e34f32-0887-4d4f-b43f-6d02c9703ab4",
   "metadata": {},
   "source": [
    "result = qa_chain({\"query\": \"Co dělat s kreditkou zaseklou v bankomatu?\"})\n",
    "result"
   ],
   "outputs": [],
   "execution_count": null
  },
  {
   "cell_type": "code",
   "id": "7342d226-193d-4774-a81b-8ea9f3cf012b",
   "metadata": {},
   "source": [
    "result = qa_chain({\"query\": \"Co dělat s debetní kartou zaseklou v bankomatu?\"})\n",
    "result"
   ],
   "outputs": [],
   "execution_count": null
  },
  {
   "cell_type": "markdown",
   "id": "a716801b-ac9f-411f-9271-01e9051e7137",
   "metadata": {},
   "source": [
    "### Kompletní ukázky\n",
    "V textu výše jsem se snažil komentovat všechny možné věci, které je třeba při vytvoření langchainové aplikace vzít v úvahu. Může být ale užitečné vidět vše pohromadě a právě proto existuje tato kapitola.\n",
    "#### Obyčejný chatbot"
   ]
  },
  {
   "cell_type": "code",
   "id": "b0d82a1c-366f-42fa-8986-e8b590792b76",
   "metadata": {},
   "source": [
    "import os\n",
    "import dotenv\n",
    "import openai\n",
    "\n",
    "from langchain_openai import ChatOpenAI\n",
    "from langchain.prompts import ChatPromptTemplate, MessagesPlaceholder, SystemMessagePromptTemplate, HumanMessagePromptTemplate\n",
    "from langchain.memory import ConversationBufferWindowMemory \n",
    "from langchain.chains import LLMChain\n",
    "\n",
    "dotenv.load_dotenv()\n",
    "openai.api_key = os.environ[\"OPENAI_API_KEY\"]\n",
    "\n",
    "\n",
    "chat = ChatOpenAI(temperature=0.7, model_name=\"gpt-3.5-turbo\")\n",
    "prompt = ChatPromptTemplate(\n",
    "    messages=[\n",
    "        SystemMessagePromptTemplate.from_template(\n",
    "            \"You are Sauron from 'Lord of the Ring' novel.\"\n",
    "        ),\n",
    "        MessagesPlaceholder(variable_name=\"chat_history\"),\n",
    "        HumanMessagePromptTemplate.from_template(\"{question}\")\n",
    "    ]\n",
    ")\n",
    "window_memory = ConversationBufferWindowMemory(k=5, memory_key=\"chat_history\", return_messages=True)\n",
    "conversation = LLMChain(\n",
    "    llm=chat,\n",
    "    prompt=prompt,\n",
    "    verbose=True,\n",
    "    memory=window_memory\n",
    ")"
   ],
   "outputs": [],
   "execution_count": null
  },
  {
   "cell_type": "code",
   "id": "588050e0-3f77-44dc-aff4-f8cda2ac37b7",
   "metadata": {},
   "source": [
    "conversation.invoke(input=\"Hi, who are you?\")"
   ],
   "outputs": [],
   "execution_count": null
  },
  {
   "cell_type": "code",
   "id": "a81c1838-809b-4db5-ab3c-e5f699f4531a",
   "metadata": {},
   "source": [
    "conversation.invoke(input=\"I have One ring, but I will never give it to you!\")"
   ],
   "outputs": [],
   "execution_count": null
  },
  {
   "cell_type": "markdown",
   "id": "1e5fa55d-95e3-492a-b0ec-ab700f8a9fa4",
   "metadata": {},
   "source": [
    "#### Q&A chatbot\n",
    "Skript načítací záznamy do databáze se nachází níže. Možná někoho zarazí metoda listu *extend*. Ta na konec svého mateřského listu vloží všechny elementy iterable objektu (např. listu) ze svého argumentu. Tj. například pro mateřský list [1, 2, 3] a dodatečný list [4, 5] vede extend na [1, 2, 3, 4, 5], zatímco append by skončil s [1, 2, 3, [4, 5]]. No a toto je chtění chování, když si uvědomíme, že *loader.load()* nám dá list Document objektů, které odpovídají jednotlivým stránkám jednoho pdfka."
   ]
  },
  {
   "cell_type": "code",
   "id": "41736efe-e512-4de2-a023-b1d4a793ee97",
   "metadata": {},
   "source": [
    "import os\n",
    "import dotenv\n",
    "import openai\n",
    "from langchain.document_loaders import PyPDFLoader\n",
    "from langchain.text_splitter import RecursiveCharacterTextSplitter\n",
    "from langchain.vectorstores import Chroma\n",
    "from langchain_openai import OpenAIEmbeddings\n",
    "\n",
    "dotenv.load_dotenv()\n",
    "openai.api_key = os.environ[\"OPENAI_API_KEY\"]\n",
    "\n",
    "loaders = [\n",
    "    PyPDFLoader(\"source_files\\\\penzijni-plan-1-1-16.pdf\"),\n",
    "    PyPDFLoader(\"source_files\\\\penzijni-plan-3-1-16.pdf\")\n",
    "]\n",
    "docs = []\n",
    "for loader in loaders:\n",
    "    docs.extend(loader.load())\n",
    "\n",
    "embedding = OpenAIEmbeddings()\n",
    "\n",
    "chunk_size = 1000\n",
    "chunk_overlap = 100\n",
    "\n",
    "r_splitter = RecursiveCharacterTextSplitter(\n",
    "    chunk_size=chunk_size,\n",
    "    chunk_overlap=chunk_overlap,\n",
    "    separators=[\"ČLÁNEK\", \"\\n\\n\", \"\\n\", \".\"]\n",
    ")\n",
    "\n",
    "splits = r_splitter.split_documents(docs)\n",
    "\n",
    "persist_directory = \"embeddings\\\\chroma_persist_dir\\\\\"\n",
    "\n",
    "vectordb = Chroma.from_documents(\n",
    "    documents=splits,\n",
    "    embedding=embedding,\n",
    "    persist_directory=persist_directory\n",
    ")\n",
    "\n",
    "vectordb.persist()"
   ],
   "outputs": [],
   "execution_count": null
  },
  {
   "cell_type": "markdown",
   "id": "e4bc91b1-4822-4982-8517-c2c21d57ca83",
   "metadata": {},
   "source": [
    "Skript realizující dotazování"
   ]
  },
  {
   "cell_type": "code",
   "id": "cfd61480-0f12-418b-88d8-d7f7aa2fd67c",
   "metadata": {},
   "source": [
    "import os\n",
    "import dotenv\n",
    "import openai\n",
    "from langchain.vectorstores import Chroma\n",
    "from langchain.prompts import PromptTemplate\n",
    "from langchain_openai import ChatOpenAI\n",
    "from langchain.chains import RetrievalQA\n",
    "from langchain.memory import ConversationBufferWindowMemory\n",
    "from langchain_openai import OpenAIEmbeddings\n",
    "\n",
    "dotenv.load_dotenv()\n",
    "openai.api_key = os.environ[\"OPENAI_API_KEY\"]\n",
    "\n",
    "persist_directory = \"embeddings\\\\chroma_persist_dir\\\\\"\n",
    "\n",
    "embedding = OpenAIEmbeddings()\n",
    "vectordb = Chroma(\n",
    "    persist_directory=persist_directory,\n",
    "    embedding_function=embedding\n",
    ")\n",
    "\n",
    "template = \"\"\"Use the following pieces of context to answer the question at the end.\n",
    "If you don't know the answer, just say that you don't know, don't try to make up an answer.\n",
    "Use three sentences maximum. Keep the answer as concise as possible. Answer in Czech language.\n",
    "{context}\n",
    "Question: {question}\n",
    "Helpful answer:\"\"\"\n",
    "\n",
    "chat = ChatOpenAI(temperature=0.0, model_name=\"gpt-3.5-turbo\") \n",
    "\n",
    "memory = ConversationBufferWindowMemory(\n",
    "    k=3,\n",
    "    memory_key=\"chat_history\",\n",
    "    return_message=True,\n",
    "    output_key=\"answer\"\n",
    ")\n",
    "\n",
    "qa_chain_prompt = PromptTemplate.from_template(template)\n",
    "\n",
    "qa_chain = RetrievalQA.from_chain_type(\n",
    "    llm=chat,\n",
    "    retriever=vectordb.as_retriever(),\n",
    "    return_source_documents=True,\n",
    "    chain_type_kwargs={\"prompt\": qa_chain_prompt}\n",
    ")\n",
    "\n",
    "while True:\n",
    "    question = input(\"Napiš otázku (exit pro opuštění chatu):\\n\")\n",
    "    if question == \"exit\":\n",
    "        break \n",
    "    result = qa_chain.invoke({\"query\":question})\n",
    "    print(result[\"result\"])\n",
    "    print()\n",
    "    print(\"Zdrojové dokumenty:\")\n",
    "    for one_source_doc in result[\"source_documents\"]:\n",
    "        print(\"--------------------------\")\n",
    "        print(\"    \", one_source_doc)\n",
    "        print(\"--------------------------\")"
   ],
   "outputs": [],
   "execution_count": null
  },
  {
   "cell_type": "markdown",
   "id": "f079e5e3-4886-41c1-96ee-c8166ef2856b",
   "metadata": {},
   "source": [
    "## TO DO\n",
    "\n",
    "stuff vs map-reduce vs postupné zpracování"
   ]
  }
 ],
 "metadata": {
  "kernelspec": {
   "display_name": "Python 3 (ipykernel)",
   "language": "python",
   "name": "python3"
  },
  "language_info": {
   "codemirror_mode": {
    "name": "ipython",
    "version": 3
   },
   "file_extension": ".py",
   "mimetype": "text/x-python",
   "name": "python",
   "nbconvert_exporter": "python",
   "pygments_lexer": "ipython3",
   "version": "3.10.0"
  }
 },
 "nbformat": 4,
 "nbformat_minor": 5
}
