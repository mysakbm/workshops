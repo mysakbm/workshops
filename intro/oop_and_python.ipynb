{
 "cells": [
  {
   "cell_type": "code",
   "execution_count": 1,
   "metadata": {},
   "outputs": [],
   "source": [
    "from typing import List"
   ]
  },
  {
   "cell_type": "markdown",
   "metadata": {},
   "source": [
    "### Procedurální vs objektové programování\n",
    "V úvodním školení jsme nevědomky tvořili kód v procedurálním stylu. V programech jsme ukládali data do primitivních datových typů (integery, stringy atd.) anebo do kolekcí (listy, slovníky apod.). Logiku popisující zacházení s daty jsme umístili do diametrálně odlišných konstrukcí - do funkcí.  \n",
    "Programovat lze ale i objektově (object oriented programming, OOP). Tehdy jsou jak data, tak postupy určené k nakládání s nimi spojeny do jedné entity - do objektu.  \n",
    "Rozdíl si ukážeme při snaze naprogramovat stravovací návyky sýkorek.  \n",
    "<img src=\"https://upload.wikimedia.org/wikipedia/commons/9/92/Coal_tit_UK09.JPG\" width=\"400\">"
   ]
  },
  {
   "cell_type": "markdown",
   "metadata": {},
   "source": [
    "V \"klasickém\" procedurálním programu si data o sýkorce uložíme do slovníku. Následně vytvoříme proměnnou *available_food* a naplníme ji pizzou. Nakonec **if** konstrukcí zkoumáme, jak se bude sýkorka na pizzu tvářit."
   ]
  },
  {
   "cell_type": "code",
   "execution_count": 2,
   "metadata": {},
   "outputs": [
    {
     "name": "stdout",
     "output_type": "stream",
     "text": [
      "?!?\n"
     ]
    }
   ],
   "source": [
    "#data\n",
    "sykora_uhelnicek_dict = {\n",
    "    \"czech_name\": \"Sýkora uhelníček\",\n",
    "    \"english_name\": \"Coal tit\",\n",
    "    \"food\": [\"insects\", \"spiders\", \"nuts\", \"seed\"]\n",
    "} \n",
    "\n",
    "#program logic\n",
    "available_food = \"pizza\"\n",
    "\n",
    "if available_food in sykora_uhelnicek_dict[\"food\"]:\n",
    "    print(\":)\")\n",
    "else:\n",
    "    print(\"?!?\")"
   ]
  },
  {
   "cell_type": "markdown",
   "metadata": {},
   "source": [
    "Stejného výsledku bychom mohli dosáhnout i s použitím objektů. Nejprve si s pomocí klíčového slova **class** vytvoříme třídu SykoraUhelnicek. Do ní vložíme proměnné - atributy třídy - stejně jako bychom je psali do těla obyčejného programu. Pouze musíme myslet na to, aby byly řádky s nimi správně odsazené - stejně jako u if/while/for konstrukcí Python pozná, kde třída končí, podle zmizení odsazení.  \n",
    "Jenže moment - výše jsme mluvili o objektech, zatímco nyní zde vytváříme jakousi třídu. Jaký je mezi těmito termíny vztah? Třída sama o sobě zastupuje šablonu objektu, nikoli objekt samotný. Tj. v našem případě se jedná o ideu sýkorky a nikoli o ptáčka, který venku sedí na větvi. Když chceme vytvořit konkrétního člena třídy (tzv. **instanci** třídy, tj. objekt), zavoláme jméno třídy, jako by se jednalo o funkci. Tj. napíšeme \n",
    "```python\n",
    "sykorka_1 = SykoraUhelnicek()\n",
    "```\n",
    "K atributům instance se dostaneme skrze tečkovou notaci. Tj. napíšeme název proměnné, ve které je instance uložena (zde sykorka_1), poté tečku a nakonec jméno atributu."
   ]
  },
  {
   "cell_type": "code",
   "execution_count": 3,
   "metadata": {},
   "outputs": [
    {
     "name": "stdout",
     "output_type": "stream",
     "text": [
      ":)\n"
     ]
    }
   ],
   "source": [
    "class SykoraUhelnicek:\n",
    "    czech_name = \"Sýkora uhelníček\"\n",
    "    english_name = \"Coal tit\"\n",
    "    food = [\"insects\", \"spiders\", \"nuts\", \"seed\"]\n",
    "\n",
    "sykorka_1 = SykoraUhelnicek()\n",
    "\n",
    "available_food = \"nuts\"\n",
    "\n",
    "if available_food in sykorka_1.food:\n",
    "    print(\":)\")\n",
    "else:\n",
    "    print(\"?!?\")"
   ]
  },
  {
   "cell_type": "markdown",
   "metadata": {},
   "source": [
    "Nicméně jak jsme výše psali, znakem objektově orientovaného programování je svázání dat i práce s nimi do jednoho balíku. Proto reakci sýkorky na jídlo vložíme do funkce *feed_bird*, kterou umístíme do těla třídy (tj. už samo klíčové slovo **def** bude odsazené a tělo funkce bude tudíž odsazené dvakrát). Správně bychom zde už neměli mluvit o funkci, nýbrž o metodě - metody jsou totiž ty funkce, které jsou umístěny do třídy.   \n",
    "Nakonec ještě krátce k tomu, jak by mělo vypadat jméno třídy - jednotlivá slova z názvu třídy v kontrastu se jmény proměnných neoddělujeme podtržítkem. Aby byly názvy čitelné, musí být tak první písmena slov velká."
   ]
  },
  {
   "cell_type": "code",
   "execution_count": 4,
   "metadata": {},
   "outputs": [
    {
     "name": "stdout",
     "output_type": "stream",
     "text": [
      ":)\n"
     ]
    }
   ],
   "source": [
    "class SykoraUhelnicek:\n",
    "    czech_name = \"Sýkora uhelníček\"\n",
    "    english_name = \"Coal tit\"\n",
    "    food = [\"insects\", \"spiders\", \"nuts\", \"seed\"]\n",
    "    \n",
    "    def feed_bird(self, available_food):\n",
    "        if available_food in self.food:\n",
    "            print(\":)\")\n",
    "        else:\n",
    "            print(\"?!?\")\n",
    "\n",
    "sykorka_1 = SykoraUhelnicek()\n",
    "sykorka_1.feed_bird(\"insects\")"
   ]
  },
  {
   "cell_type": "markdown",
   "metadata": {},
   "source": [
    "Proč se nám v kódu výše jako první parametr metody *feed_bird* objevilo jakési \"self\"? Toto slovo zastupuje instanci třídy - v našem případě jednoho opeřence, s jehož vlastnostmi bychom mohli chtít pracovat. V definici metod se vždy objevuje na prvním místě. Při *provolávání* metod se ale do kulatých závorek nepíše - fakticky je zasažená instance známa právě díky tečkové notaci. Zmiňme ještě, že existují i metody ve třídách zapsané, které self nemají - jedná se o metody tříd a nikoli instancí.  \n",
    "Zatím jsou naše sýkorky klonované - všechny mají vlastnosti dané pouze třídou. Co kdybychom jim ale chtěli přidělit určité vlastnosti vlastní pouze jedné instanci třídy? Viděli jsme, že novou instanci vytvoříme provoláním jména třídy s prázdnými kulatými závorkami. Když bychom chtěli například vytvořit sýkorku s určitou vahou a pohlavím, měli bychom tyto parametry do provolání přidat. Ale jak zajistit, aby se tyto parametry do instance dostaly? To řeší tzv. konstruktor, tj. metoda třídy, která nový objekt inicializuje. Tato metoda se musí jmenovat **\\_\\_init\\_\\_**. Jejími vstupy budou **self** a parametry, ze kterých nějak vyrobíme atributy. Tato výroba může mít podobu složitého kódu, ale i jednoduchého přiřazení. V příkladu do atributu instance - *self.weight* - vkládáme parametr konstruktoru *weight*.\n",
    "```python\n",
    "def __init__(self, weight):\n",
    "    self.weight = weight\n",
    "```\n",
    "Výše jsme viděli, že se instance třídy vytvořila, i když jsme metodu *\\_\\_init\\_\\_* nedefinovali. V takovém případě se Python tváří, jako by ve třídě byl přítomen prázdný konstruktor, tj. jako by třída obsahovala metodu\n",
    "```python\n",
    "def __init__(self):\n",
    "    pass\n",
    "```"
   ]
  },
  {
   "cell_type": "code",
   "execution_count": 5,
   "metadata": {},
   "outputs": [
    {
     "name": "stdout",
     "output_type": "stream",
     "text": [
      "Váha menší jak 9 gramů.\n",
      "Váha větší než (či rovna) 9 gramů,\n"
     ]
    }
   ],
   "source": [
    "class SykoraUhelnicek:\n",
    "    czech_name = \"Sýkora uhelníček\"\n",
    "    english_name = \"Coal tit\"\n",
    "    food = [\"insects\", \"spiders\", \"nuts\", \"seed\"]\n",
    "    \n",
    "    def __init__(self, weight, is_female):\n",
    "        self.weight = weight\n",
    "        self.is_female = is_female\n",
    "    \n",
    "    def feed_bird(self, available_food):\n",
    "        if available_food in self.food:\n",
    "            print(\":)\")\n",
    "        else:\n",
    "            print(\"?!?\")\n",
    "    \n",
    "    def print_if_lighter_than_nine_grams(self):\n",
    "        if self.weight < 9:\n",
    "            print(\"Váha menší jak 9 gramů.\")\n",
    "        else:\n",
    "            print(\"Váha větší než (či rovna) 9 gramů,\")\n",
    "\n",
    "sykorka_1 = SykoraUhelnicek(8.95, True)\n",
    "sykorka_2 = SykoraUhelnicek(9.2, False)\n",
    "sykorka_1.print_if_lighter_than_nine_grams()\n",
    "sykorka_2.print_if_lighter_than_nine_grams()\n"
   ]
  },
  {
   "cell_type": "markdown",
   "metadata": {},
   "source": [
    "Samozřejmě v i \"objektovém\" kódu bychom měli psát docstringy a typové anotace. Přitom **self** se neanotuje."
   ]
  },
  {
   "cell_type": "code",
   "execution_count": 6,
   "metadata": {},
   "outputs": [
    {
     "name": "stdout",
     "output_type": "stream",
     "text": [
      "Váha menší jak 9 gramů.\n",
      "Váha větší než (či rovna) 9 gramů,\n"
     ]
    }
   ],
   "source": [
    "class SykoraUhelnicek:\n",
    "    \"\"\"Class representing coal tit.\n",
    "    \"\"\"\n",
    "    czech_name = \"Sýkora uhelníček\"\n",
    "    english_name = \"Coal tit\"\n",
    "    food = [\"insects\", \"spiders\", \"nuts\", \"seed\"]\n",
    "    \n",
    "    def __init__(self, weight:float, is_female:bool)->None:\n",
    "        \"\"\"Instance initialization.\n",
    "        \n",
    "        Args:\n",
    "            weight: Bird weight in grams.\n",
    "            is_female: Flag (True/False) that bird is female.\n",
    "        \"\"\"\n",
    "        self.weight = weight\n",
    "        self.is_female = is_female\n",
    "    \n",
    "    def feed_bird(self, available_food:str)->None:\n",
    "        \"\"\"Prints bird reaction to offered food.\n",
    "        \n",
    "        Args:\n",
    "            available_food(str): Food name.\n",
    "        \"\"\"\n",
    "        if available_food in self.food:\n",
    "            print(\":)\")\n",
    "        else:\n",
    "            print(\"?!?\")\n",
    "    \n",
    "    def print_if_lighter_than_nine_grams(self)->None:\n",
    "        \"\"\"Prints message about bird weight.\n",
    "        \"\"\"\n",
    "        if self.weight < 9:\n",
    "            print(\"Váha menší jak 9 gramů.\")\n",
    "        else:\n",
    "            print(\"Váha větší než (či rovna) 9 gramů,\")\n",
    "\n",
    "sykorka_1 = SykoraUhelnicek(8.95, True)\n",
    "sykorka_2 = SykoraUhelnicek(9.2, False)\n",
    "sykorka_1.print_if_lighter_than_nine_grams()\n",
    "sykorka_2.print_if_lighter_than_nine_grams()"
   ]
  },
  {
   "cell_type": "markdown",
   "metadata": {},
   "source": [
    "#### Zkoumání nitra objektů  \n",
    "Při používání knihoven třetích stran se často dostaneme do situace, kdy bychom chtěli znát atributy a metody objektů. V takovém případě je nejvhodnější prozkoumat dokumentaci. Co když to ale není možné, protože dokumentace třeba vůbec neexistuje?  \n",
    "První možností je použití funkce **dir**, do které instanci třídy vložíme. Uvidíme pak hromadu metod obklopených dvojitými uvozovkami (o nich budeme mluvit dále v textu), ale i \"normální\" názvy. Bohužel z tohoto výstupu nelze poznat, který název odpovídá metodě a který atributu."
   ]
  },
  {
   "cell_type": "code",
   "execution_count": 7,
   "metadata": {},
   "outputs": [
    {
     "data": {
      "text/plain": [
       "['__class__',\n",
       " '__delattr__',\n",
       " '__dict__',\n",
       " '__dir__',\n",
       " '__doc__',\n",
       " '__eq__',\n",
       " '__format__',\n",
       " '__ge__',\n",
       " '__getattribute__',\n",
       " '__gt__',\n",
       " '__hash__',\n",
       " '__init__',\n",
       " '__init_subclass__',\n",
       " '__le__',\n",
       " '__lt__',\n",
       " '__module__',\n",
       " '__ne__',\n",
       " '__new__',\n",
       " '__reduce__',\n",
       " '__reduce_ex__',\n",
       " '__repr__',\n",
       " '__setattr__',\n",
       " '__sizeof__',\n",
       " '__str__',\n",
       " '__subclasshook__',\n",
       " '__weakref__',\n",
       " 'czech_name',\n",
       " 'english_name',\n",
       " 'feed_bird',\n",
       " 'food',\n",
       " 'is_female',\n",
       " 'print_if_lighter_than_nine_grams',\n",
       " 'weight']"
      ]
     },
     "execution_count": 7,
     "metadata": {},
     "output_type": "execute_result"
    }
   ],
   "source": [
    "dir(sykorka_1)"
   ]
  },
  {
   "cell_type": "markdown",
   "metadata": {},
   "source": [
    "Atributy instace jsou interně uloženy jako slovník. K tomuto slovníku se dostaneme s pomocí funkce **vars**. Všimněte si, že se v našem příkladu nezobrazily atributy třídy."
   ]
  },
  {
   "cell_type": "code",
   "execution_count": 8,
   "metadata": {},
   "outputs": [
    {
     "data": {
      "text/plain": [
       "{'weight': 8.95, 'is_female': True}"
      ]
     },
     "execution_count": 8,
     "metadata": {},
     "output_type": "execute_result"
    }
   ],
   "source": [
    "vars(sykorka_1)"
   ]
  },
  {
   "cell_type": "markdown",
   "metadata": {},
   "source": [
    "Též lze využít funkci **help**. Její použitelnost roste, pokud autor třídy používá docstringy."
   ]
  },
  {
   "cell_type": "code",
   "execution_count": 9,
   "metadata": {},
   "outputs": [
    {
     "name": "stdout",
     "output_type": "stream",
     "text": [
      "Help on SykoraUhelnicek in module __main__ object:\n",
      "\n",
      "class SykoraUhelnicek(builtins.object)\n",
      " |  SykoraUhelnicek(weight: float, is_female: bool) -> None\n",
      " |  \n",
      " |  Class representing coal tit.\n",
      " |  \n",
      " |  Methods defined here:\n",
      " |  \n",
      " |  __init__(self, weight: float, is_female: bool) -> None\n",
      " |      Instance initialization.\n",
      " |      \n",
      " |      Args:\n",
      " |          weight: Bird weight in grams.\n",
      " |          is_female: Flag (True/False) that bird is female.\n",
      " |  \n",
      " |  feed_bird(self, available_food: str) -> None\n",
      " |      Prints bird reaction to offered food.\n",
      " |      \n",
      " |      Args:\n",
      " |          available_food(str): Food name.\n",
      " |  \n",
      " |  print_if_lighter_than_nine_grams(self) -> None\n",
      " |      Prints message about bird weight.\n",
      " |  \n",
      " |  ----------------------------------------------------------------------\n",
      " |  Data descriptors defined here:\n",
      " |  \n",
      " |  __dict__\n",
      " |      dictionary for instance variables (if defined)\n",
      " |  \n",
      " |  __weakref__\n",
      " |      list of weak references to the object (if defined)\n",
      " |  \n",
      " |  ----------------------------------------------------------------------\n",
      " |  Data and other attributes defined here:\n",
      " |  \n",
      " |  czech_name = 'Sýkora uhelníček'\n",
      " |  \n",
      " |  english_name = 'Coal tit'\n",
      " |  \n",
      " |  food = ['insects', 'spiders', 'nuts', 'seed']\n",
      "\n"
     ]
    }
   ],
   "source": [
    "help(sykorka_1)"
   ]
  },
  {
   "cell_type": "markdown",
   "metadata": {},
   "source": [
    "#### Python a podtržítka\n",
    "Udělejme nyní úkrok stranou a podívejme se, k čemu se v Pythonu používají potržítka.  \n",
    "Podtržítko stojící samo o sobě se dá použít k získání výsledku posledního výrazu. Například napřed napíšeme do Jupyteru pětku:"
   ]
  },
  {
   "cell_type": "code",
   "execution_count": 10,
   "metadata": {},
   "outputs": [
    {
     "data": {
      "text/plain": [
       "5"
      ]
     },
     "execution_count": 10,
     "metadata": {},
     "output_type": "execute_result"
    }
   ],
   "source": [
    "5"
   ]
  },
  {
   "cell_type": "markdown",
   "metadata": {},
   "source": [
    "Nyní napíšeme podtřžítko a pětku dostaneme znovu:"
   ]
  },
  {
   "cell_type": "code",
   "execution_count": 11,
   "metadata": {},
   "outputs": [
    {
     "data": {
      "text/plain": [
       "5"
      ]
     },
     "execution_count": 11,
     "metadata": {},
     "output_type": "execute_result"
    }
   ],
   "source": [
    "_"
   ]
  },
  {
   "cell_type": "markdown",
   "metadata": {},
   "source": [
    "Znovu získat můžeme i výsledky aritmetických operací či výstupy funkcí."
   ]
  },
  {
   "cell_type": "code",
   "execution_count": 12,
   "metadata": {},
   "outputs": [
    {
     "data": {
      "text/plain": [
       "4"
      ]
     },
     "execution_count": 12,
     "metadata": {},
     "output_type": "execute_result"
    }
   ],
   "source": [
    "2+2"
   ]
  },
  {
   "cell_type": "code",
   "execution_count": 13,
   "metadata": {},
   "outputs": [
    {
     "data": {
      "text/plain": [
       "4"
      ]
     },
     "execution_count": 13,
     "metadata": {},
     "output_type": "execute_result"
    }
   ],
   "source": [
    "_"
   ]
  },
  {
   "cell_type": "code",
   "execution_count": 14,
   "metadata": {},
   "outputs": [
    {
     "data": {
      "text/plain": [
       "0.9999996829318346"
      ]
     },
     "execution_count": 14,
     "metadata": {},
     "output_type": "execute_result"
    }
   ],
   "source": [
    "import math\n",
    "math.sin(3.14/2)"
   ]
  },
  {
   "cell_type": "code",
   "execution_count": 15,
   "metadata": {},
   "outputs": [
    {
     "data": {
      "text/plain": [
       "0.9999996829318346"
      ]
     },
     "execution_count": 15,
     "metadata": {},
     "output_type": "execute_result"
    }
   ],
   "source": [
    "_"
   ]
  },
  {
   "cell_type": "markdown",
   "metadata": {},
   "source": [
    "V praxi se ale samostatně stojící podtržítko používá spíše jako taková černá díra na nechtěná data. Představme si například, že bychom použili funkci *enumerate*, ale chtěli z jejího výstupu pouze indexy a nikoli hodnoty. Pak ve **for** smyčce tyto hodnoty umístíme právě do podtržítka."
   ]
  },
  {
   "cell_type": "code",
   "execution_count": 16,
   "metadata": {},
   "outputs": [
    {
     "name": "stdout",
     "output_type": "stream",
     "text": [
      "0\n",
      "1\n",
      "2\n"
     ]
    }
   ],
   "source": [
    "for index, _ in enumerate([10,20,30]):\n",
    "    print(index)"
   ]
  },
  {
   "cell_type": "markdown",
   "metadata": {},
   "source": [
    "V \"normálních\" názvech funkcí a promnných se podtržítko používá k oddělení slov a tím ke zvýšení čitelnosti (nejaka_promenna je čitelnější než nejakapromenna).  \n",
    "Jedno podtržítko před názvem funkce/proměnné (\\_nejaka_promenna) značí, že by se s onou funkcí/proměnnou mělo zacházet jako s privátní. Tj. člověk by takovou věc neměl používat a spíš by se měl podívat do dokumentace, zda neexistuje nějaká neprivátní varianta. Nicméně jedná se jen a pouze o programátorský úzus, Python sám o sobě zde nějaké zvláštní chování nevynucuje.  \n",
    "Pokud před název funkce/proměnné ve třídě dáme potržítka dvě, opět se to obvykle interpretuje jako zprivátnění dotčené funkce/proměnné. Oproti předchozímu případu už zde ale Python jistou činnost vykoná - funkci/proměnnou přejmenuje a to sice tak, že jejímu názvu předsadí podtržítko a název třídy. Tudíž uživateli použití takovýchto privátních funkcí a proměnných neznemožní, pouze zkomplikuje."
   ]
  },
  {
   "cell_type": "code",
   "execution_count": 17,
   "metadata": {},
   "outputs": [],
   "source": [
    "class TestClassDoubleUnderscore():\n",
    "    def __private_method(self):\n",
    "        return \"Ahoj\"\n",
    "    def public_method(self):\n",
    "        return self.__private_method()"
   ]
  },
  {
   "cell_type": "code",
   "execution_count": 18,
   "metadata": {},
   "outputs": [
    {
     "data": {
      "text/plain": [
       "'Ahoj'"
      ]
     },
     "execution_count": 18,
     "metadata": {},
     "output_type": "execute_result"
    }
   ],
   "source": [
    "instance_podtrzitko = TestClassDoubleUnderscore()\n",
    "instance_podtrzitko.public_method()"
   ]
  },
  {
   "cell_type": "code",
   "execution_count": 19,
   "metadata": {},
   "outputs": [
    {
     "ename": "AttributeError",
     "evalue": "'TestClassDoubleUnderscore' object has no attribute '__private_method'",
     "output_type": "error",
     "traceback": [
      "\u001B[1;31m---------------------------------------------------------------------------\u001B[0m",
      "\u001B[1;31mAttributeError\u001B[0m                            Traceback (most recent call last)",
      "\u001B[1;32m<ipython-input-19-d4f1399775fa>\u001B[0m in \u001B[0;36m<module>\u001B[1;34m\u001B[0m\n\u001B[1;32m----> 1\u001B[1;33m \u001B[0minstance_podtrzitko\u001B[0m\u001B[1;33m.\u001B[0m\u001B[0m__private_method\u001B[0m\u001B[1;33m(\u001B[0m\u001B[1;33m)\u001B[0m\u001B[1;33m\u001B[0m\u001B[1;33m\u001B[0m\u001B[0m\n\u001B[0m",
      "\u001B[1;31mAttributeError\u001B[0m: 'TestClassDoubleUnderscore' object has no attribute '__private_method'"
     ]
    }
   ],
   "source": [
    "instance_podtrzitko.__private_method()"
   ]
  },
  {
   "cell_type": "code",
   "execution_count": 20,
   "metadata": {},
   "outputs": [
    {
     "data": {
      "text/plain": [
       "'Ahoj'"
      ]
     },
     "execution_count": 20,
     "metadata": {},
     "output_type": "execute_result"
    }
   ],
   "source": [
    "instance_podtrzitko._TestClassDoubleUnderscore__private_method()"
   ]
  },
  {
   "cell_type": "markdown",
   "metadata": {},
   "source": [
    "Někdy narazíme na funkce a proměnné, které mají jedno podtržítko na konci svého jména (např. print\\_). Zde se potržítko používá k tomu, aby nedošlo ke konfliktu s již zavedenou (ať už v rámci samotného Pythonu, či v souvislosti s nějakou knihovnou třetích stran) třídou/proměnnou.  \n",
    "Nakonec pokud má nějaká metoda třídy dvě podtržítka na začátku i na konci, jedná se o tzv. dunder/magic funkci. Příkladem budiž konstruktor *\\_\\_init\\_\\_*. Jedná se o metody, které, ač jsou psány programátorem, obvykle jím nejsou přímo provolávány. Namísto toho je Python zavolá při splnění určitých podmínek. Více si o nich povíme dále v textu."
   ]
  },
  {
   "cell_type": "markdown",
   "metadata": {},
   "source": [
    "#### Class variable vs instance variable\n",
    "U třídy SykorkaUhelnicek jsme viděli, že zatímco atribut \"czech_name\" byl vytvořen v rámci definice třídy a platí tak pro všechny instance třídy, hodnota atributu \"weight\" se týká jen jedné konkrétní instance. Platí, že atributy třídy mají i instance, ale atributy instance (vytvořené pomocí self.jmeno_atributu = \"něco\", obvykle v initu) třída samotná nemá."
   ]
  },
  {
   "cell_type": "code",
   "execution_count": 21,
   "metadata": {},
   "outputs": [
    {
     "name": "stdout",
     "output_type": "stream",
     "text": [
      "Sýkora uhelníček\n",
      "Sýkora uhelníček\n",
      "8.95\n"
     ]
    },
    {
     "ename": "AttributeError",
     "evalue": "type object 'SykoraUhelnicek' has no attribute 'weight'",
     "output_type": "error",
     "traceback": [
      "\u001B[1;31m---------------------------------------------------------------------------\u001B[0m",
      "\u001B[1;31mAttributeError\u001B[0m                            Traceback (most recent call last)",
      "\u001B[1;32m<ipython-input-21-ca4451ae4134>\u001B[0m in \u001B[0;36m<module>\u001B[1;34m\u001B[0m\n\u001B[0;32m      4\u001B[0m \u001B[1;31m#atribut instance\u001B[0m\u001B[1;33m\u001B[0m\u001B[1;33m\u001B[0m\u001B[1;33m\u001B[0m\u001B[0m\n\u001B[0;32m      5\u001B[0m \u001B[0mprint\u001B[0m\u001B[1;33m(\u001B[0m\u001B[0msykorka_1\u001B[0m\u001B[1;33m.\u001B[0m\u001B[0mweight\u001B[0m\u001B[1;33m)\u001B[0m\u001B[1;33m\u001B[0m\u001B[1;33m\u001B[0m\u001B[0m\n\u001B[1;32m----> 6\u001B[1;33m \u001B[0mprint\u001B[0m\u001B[1;33m(\u001B[0m\u001B[0mSykoraUhelnicek\u001B[0m\u001B[1;33m.\u001B[0m\u001B[0mweight\u001B[0m\u001B[1;33m)\u001B[0m\u001B[1;33m\u001B[0m\u001B[1;33m\u001B[0m\u001B[0m\n\u001B[0m",
      "\u001B[1;31mAttributeError\u001B[0m: type object 'SykoraUhelnicek' has no attribute 'weight'"
     ]
    }
   ],
   "source": [
    "#atribut třídy\n",
    "print(sykorka_1.czech_name)\n",
    "print(SykoraUhelnicek.czech_name)\n",
    "#atribut instance\n",
    "print(sykorka_1.weight)\n",
    "print(SykoraUhelnicek.weight)"
   ]
  },
  {
   "cell_type": "markdown",
   "metadata": {},
   "source": [
    "Pakliže změníme v rámci třídy class variable, promítne se změna i do všech instancí."
   ]
  },
  {
   "cell_type": "code",
   "execution_count": 22,
   "metadata": {},
   "outputs": [
    {
     "name": "stdout",
     "output_type": "stream",
     "text": [
      "Před změnou\n",
      "Hodnota czech_name pro třídu SykoraUhelnicek: Sýkora uhelníček\n",
      "Hodnota czech_name pro instanci sykorka_1: Sýkora uhelníček\n",
      "Hodnota czech_name pro instanci sykorka_3: Sýkora uhelníček\n",
      "Po změně\n",
      "Hodnota czech_name pro třídu SykoraUhelnicek: Nějaký opeřenec\n",
      "Hodnota czech_name pro instanci sykorka_1: Nějaký opeřenec\n",
      "Hodnota czech_name pro instanci sykorka_3: Nějaký opeřenec\n"
     ]
    }
   ],
   "source": [
    "class SykoraUhelnicek:\n",
    "    \"\"\"Class representing coal tit.\n",
    "    \"\"\"\n",
    "    czech_name = \"Sýkora uhelníček\"\n",
    "    english_name = \"Coal tit\"\n",
    "    food = [\"insects\", \"spiders\", \"nuts\", \"seed\"]\n",
    "    \n",
    "    def __init__(self, weight:float, is_female:bool)->None:\n",
    "        \"\"\"Instance initialization.\n",
    "        \n",
    "        Args:\n",
    "            weight: Bird weight in grams.\n",
    "            is_female: Flag (True/False) that bird is female.\n",
    "        \"\"\"\n",
    "        self.weight = weight\n",
    "        self.is_female = is_female\n",
    "\n",
    "sykorka_1 = SykoraUhelnicek(8.95, True)\n",
    "sykorka_2 = SykoraUhelnicek(9.2, False)\n",
    "\n",
    "print(\"Před změnou\")\n",
    "print(f\"Hodnota czech_name pro třídu SykoraUhelnicek: {SykoraUhelnicek.czech_name}\")\n",
    "print(f\"Hodnota czech_name pro instanci sykorka_1: {sykorka_1.czech_name}\")\n",
    "print(f\"Hodnota czech_name pro instanci sykorka_3: {sykorka_2.czech_name}\")\n",
    "SykoraUhelnicek.czech_name = \"Nějaký opeřenec\"\n",
    "print(\"Po změně\")\n",
    "print(f\"Hodnota czech_name pro třídu SykoraUhelnicek: {SykoraUhelnicek.czech_name}\")\n",
    "print(f\"Hodnota czech_name pro instanci sykorka_1: {sykorka_1.czech_name}\")\n",
    "print(f\"Hodnota czech_name pro instanci sykorka_3: {sykorka_2.czech_name}\")"
   ]
  },
  {
   "cell_type": "markdown",
   "metadata": {},
   "source": [
    "Jestliže změníme class variable v rámci *instance* třídy a nikoli samotné třídy, změna se do třídy ani dalších instancí nedostane. Dochází k tomu, že se pro tu danou instanci původní hodnota převzatá z třídy přepíše."
   ]
  },
  {
   "cell_type": "code",
   "execution_count": 23,
   "metadata": {},
   "outputs": [
    {
     "name": "stdout",
     "output_type": "stream",
     "text": [
      "Před změnou\n",
      "Hodnota czech_name pro třídu SykoraUhelnicek: Sýkora uhelníček\n",
      "Hodnota czech_name pro instanci sykorka_1: Sýkora uhelníček\n",
      "Hodnota czech_name pro instanci sykorka_3: Sýkora uhelníček\n",
      "Po změně\n",
      "Hodnota czech_name pro třídu SykoraUhelnicek: Sýkora uhelníček\n",
      "Hodnota czech_name pro instanci sykorka_1: Nějaký opeřenec\n",
      "Hodnota czech_name pro instanci sykorka_3: Sýkora uhelníček\n"
     ]
    }
   ],
   "source": [
    "class SykoraUhelnicek:\n",
    "    \"\"\"Class representing coal tit.\n",
    "    \"\"\"\n",
    "    czech_name = \"Sýkora uhelníček\"\n",
    "    english_name = \"Coal tit\"\n",
    "    food = [\"insects\", \"spiders\", \"nuts\", \"seed\"]\n",
    "    \n",
    "    def __init__(self, weight:float, is_female:bool)->None:\n",
    "        \"\"\"Instance initialization.\n",
    "        \n",
    "        Args:\n",
    "            weight: Bird weight in grams.\n",
    "            is_female: Flag (True/False) that bird is female.\n",
    "        \"\"\"\n",
    "        self.weight = weight\n",
    "        self.is_female = is_female\n",
    "\n",
    "sykorka_1 = SykoraUhelnicek(8.95, True)\n",
    "sykorka_2 = SykoraUhelnicek(9.2, False)\n",
    "\n",
    "print(\"Před změnou\")\n",
    "print(f\"Hodnota czech_name pro třídu SykoraUhelnicek: {SykoraUhelnicek.czech_name}\")\n",
    "print(f\"Hodnota czech_name pro instanci sykorka_1: {sykorka_1.czech_name}\")\n",
    "print(f\"Hodnota czech_name pro instanci sykorka_3: {sykorka_2.czech_name}\")\n",
    "sykorka_1.czech_name = \"Nějaký opeřenec\"\n",
    "print(\"Po změně\")\n",
    "print(f\"Hodnota czech_name pro třídu SykoraUhelnicek: {SykoraUhelnicek.czech_name}\")\n",
    "print(f\"Hodnota czech_name pro instanci sykorka_1: {sykorka_1.czech_name}\")\n",
    "print(f\"Hodnota czech_name pro instanci sykorka_3: {sykorka_2.czech_name}\")"
   ]
  },
  {
   "cell_type": "markdown",
   "metadata": {},
   "source": [
    "Nicméně je třeba myslet ještě na jednu věc - změna na úrovni třídy přepíše obsah instancí, které předtím nebyly přepsány. Avšak pokud jsme hodnotu atributu předtím už u nějaké instance napřímo přepsali, změna ve třídě se do ní nepropíše."
   ]
  },
  {
   "cell_type": "code",
   "execution_count": 24,
   "metadata": {},
   "outputs": [
    {
     "name": "stdout",
     "output_type": "stream",
     "text": [
      "Před změnou\n",
      "Hodnota czech_name pro třídu SykoraUhelnicek: Sýkora uhelníček\n",
      "Hodnota czech_name pro instanci sykorka_1: Sýkora uhelníček\n",
      "Hodnota czech_name pro instanci sykorka_3: Sýkora uhelníček\n",
      "Po změně v instanci sykorka_1\n",
      "Hodnota czech_name pro třídu SykoraUhelnicek: Sýkora uhelníček\n",
      "Hodnota czech_name pro instanci sykorka_1: Sýkora koňadra\n",
      "Hodnota czech_name pro instanci sykorka_3: Sýkora uhelníček\n",
      "Po změně v třídě SykorkaUhelnicek\n",
      "Hodnota czech_name pro třídu SykoraUhelnicek: Nějaký opeřenec\n",
      "Hodnota czech_name pro instanci sykorka_1: Sýkora koňadra\n",
      "Hodnota czech_name pro instanci sykorka_3: Nějaký opeřenec\n"
     ]
    }
   ],
   "source": [
    "class SykoraUhelnicek:\n",
    "    \"\"\"Class representing coal tit.\n",
    "    \"\"\"\n",
    "    czech_name = \"Sýkora uhelníček\"\n",
    "    english_name = \"Coal tit\"\n",
    "    food = [\"insects\", \"spiders\", \"nuts\", \"seed\"]\n",
    "    \n",
    "    def __init__(self, weight:float, is_female:bool)->None:\n",
    "        \"\"\"Instance initialization.\n",
    "        \n",
    "        Args:\n",
    "            weight: Bird weight in grams.\n",
    "            is_female: Flag (True/False) that bird is female.\n",
    "        \"\"\"\n",
    "        self.weight = weight\n",
    "        self.is_female = is_female\n",
    "\n",
    "sykorka_1 = SykoraUhelnicek(8.95, True)\n",
    "sykorka_2 = SykoraUhelnicek(9.2, False)\n",
    "\n",
    "print(\"Před změnou\")\n",
    "print(f\"Hodnota czech_name pro třídu SykoraUhelnicek: {SykoraUhelnicek.czech_name}\")\n",
    "print(f\"Hodnota czech_name pro instanci sykorka_1: {sykorka_1.czech_name}\")\n",
    "print(f\"Hodnota czech_name pro instanci sykorka_3: {sykorka_2.czech_name}\")\n",
    "print(\"Po změně v instanci sykorka_1\")\n",
    "sykorka_1.czech_name = \"Sýkora koňadra\"\n",
    "print(f\"Hodnota czech_name pro třídu SykoraUhelnicek: {SykoraUhelnicek.czech_name}\")\n",
    "print(f\"Hodnota czech_name pro instanci sykorka_1: {sykorka_1.czech_name}\")\n",
    "print(f\"Hodnota czech_name pro instanci sykorka_3: {sykorka_2.czech_name}\")\n",
    "print(\"Po změně v třídě SykorkaUhelnicek\")\n",
    "SykoraUhelnicek.czech_name = \"Nějaký opeřenec\"\n",
    "print(f\"Hodnota czech_name pro třídu SykoraUhelnicek: {SykoraUhelnicek.czech_name}\")\n",
    "print(f\"Hodnota czech_name pro instanci sykorka_1: {sykorka_1.czech_name}\")\n",
    "print(f\"Hodnota czech_name pro instanci sykorka_3: {sykorka_2.czech_name}\")"
   ]
  },
  {
   "cell_type": "markdown",
   "metadata": {},
   "source": [
    "#### Reference a předávání objektů funkcím\n"
   ]
  },
  {
   "cell_type": "markdown",
   "metadata": {},
   "source": [
    "Když předáme primitivní proměnnou (integer, string apod.) do funkce a ve funkci ji změníme, vně funkce zůstane proměnná v původním stavu. Ve funkci se totiž efektivně vytvořila nová proměnná, která \"jen náhodou\" obsahuje stejnou věc jako proměnná vně funkce."
   ]
  },
  {
   "cell_type": "code",
   "execution_count": 25,
   "metadata": {},
   "outputs": [
    {
     "name": "stdout",
     "output_type": "stream",
     "text": [
      "Number before function: 10\n",
      "Increased number in function: 13\n",
      "Number after function: 10\n"
     ]
    }
   ],
   "source": [
    "def print_number_plus_three(number:int)->None:\n",
    "    \"\"\"Prints given number increased by 3.\n",
    "    \n",
    "    Args:\n",
    "        number(int): Number to be increased and printed\n",
    "    \"\"\"\n",
    "    number = number + 3\n",
    "    print(f\"Increased number in function: {number}\")\n",
    "\n",
    "original_number = 10\n",
    "print(f\"Number before function: {original_number}\")\n",
    "print_number_plus_three(original_number)\n",
    "print(f\"Number after function: {original_number}\")"
   ]
  },
  {
   "cell_type": "markdown",
   "metadata": {},
   "source": [
    "Když ale to samé provedeme s objektem, změna se projeví i vně funkce. Nepředali jsme totiž objekt, ale referrenci na něj , tj. ukazatel někam do paměti, kde data objektu fakticky sídlí."
   ]
  },
  {
   "cell_type": "code",
   "execution_count": 26,
   "metadata": {},
   "outputs": [
    {
     "name": "stdout",
     "output_type": "stream",
     "text": [
      "Number before function: 10\n",
      "Increased number in function: 13\n",
      "Number after function: 13\n"
     ]
    }
   ],
   "source": [
    "class ToyNumber:\n",
    "    def __init__(self, number):\n",
    "        self.number = number\n",
    "\n",
    "def print_number_plus_three(number_object:ToyNumber)->None:\n",
    "    \"\"\"Prints given number increased by 3.\n",
    "    \n",
    "    Args:\n",
    "        number(toy_number_example): Number object to be increased and printed\n",
    "    \"\"\"\n",
    "    number_object.number = number_object.number + 3\n",
    "    print(f\"Increased number in function: {number_object.number}\")\n",
    "\n",
    "original_number = ToyNumber(10)\n",
    "print(f\"Number before function: {original_number.number}\")\n",
    "print_number_plus_three(original_number)\n",
    "print(f\"Number after function: {original_number.number}\")"
   ]
  },
  {
   "cell_type": "markdown",
   "metadata": {},
   "source": [
    "Nepomůže ani vytvoření nové proměnné - je to jen další reference na ten samý objekt uložený v paměti."
   ]
  },
  {
   "cell_type": "code",
   "execution_count": 27,
   "metadata": {},
   "outputs": [
    {
     "name": "stdout",
     "output_type": "stream",
     "text": [
      "Number before function: 10\n",
      "Increased number in function: 13\n",
      "Number after function: 13\n"
     ]
    }
   ],
   "source": [
    "class ToyNumber:\n",
    "    def __init__(self, number):\n",
    "        self.number = number\n",
    "\n",
    "def print_number_plus_three(number_object:ToyNumber)->None:\n",
    "    \"\"\"Prints given number increased by 3.\n",
    "    \n",
    "    Args:\n",
    "        number(toy_number_example): Number object to be increased and printed\n",
    "    \"\"\"\n",
    "    number_object.number = number_object.number + 3\n",
    "    print(f\"Increased number in function: {number_object.number}\")\n",
    "\n",
    "original_number = ToyNumber(10)\n",
    "another_number = original_number\n",
    "print(f\"Number before function: {original_number.number}\")\n",
    "print_number_plus_three(another_number)\n",
    "print(f\"Number after function: {original_number.number}\")"
   ]
  },
  {
   "cell_type": "markdown",
   "metadata": {},
   "source": [
    "Co s tím? Je potřeba udělat kopie dat, nikoli pouze kopie ukazatele. Ukažme si to nejprve na příkladu jednoduchého objektu - listu. Napřed tu máme situaci, kdy fakticky kopírujeme ukazatel na list, nikoli list samotný."
   ]
  },
  {
   "cell_type": "code",
   "execution_count": 28,
   "metadata": {},
   "outputs": [
    {
     "name": "stdout",
     "output_type": "stream",
     "text": [
      "some_list: [1, 2, 30], another_list: [1, 2, 30]\n"
     ]
    }
   ],
   "source": [
    "some_list = [1, 2, 3]\n",
    "another_list = some_list\n",
    "another_list[2] = 30\n",
    "print(f\"some_list: {some_list}, another_list: {another_list}\")"
   ]
  },
  {
   "cell_type": "markdown",
   "metadata": {},
   "source": [
    "Pakliže vytvoříme *another_list* provoláním metody **copy** na listu *some_list*, změna v jednom listu už se do listu druhého nepropíše. Jedná se totiž už o separátní entity, které bydlí v paměti jinde. "
   ]
  },
  {
   "cell_type": "code",
   "execution_count": 29,
   "metadata": {},
   "outputs": [
    {
     "name": "stdout",
     "output_type": "stream",
     "text": [
      "some_list: [1, 2, 3], another_list: [1, 2, 30]\n"
     ]
    }
   ],
   "source": [
    "some_list = [1, 2, 3]\n",
    "another_list = some_list.copy()\n",
    "another_list[2] = 30\n",
    "print(f\"some_list: {some_list}, another_list: {another_list}\")"
   ]
  },
  {
   "cell_type": "markdown",
   "metadata": {},
   "source": [
    "Co máme ale dělat, když objekt metodu *copy* nemá? Tehdy použijeme balíček **copy** (je součástí základní pythoní distribuce), přesněji funkci **copy** z něj,"
   ]
  },
  {
   "cell_type": "code",
   "execution_count": 30,
   "metadata": {},
   "outputs": [
    {
     "name": "stdout",
     "output_type": "stream",
     "text": [
      "some_list: [1, 2, 3], another_list: [1, 2, 30]\n"
     ]
    }
   ],
   "source": [
    "import copy\n",
    "\n",
    "some_list = [1, 2, 3]\n",
    "another_list = copy.copy(some_list)\n",
    "another_list[2] = 30\n",
    "print(f\"some_list: {some_list}, another_list: {another_list}\")"
   ]
  },
  {
   "cell_type": "markdown",
   "metadata": {},
   "source": [
    "Je-li obsahem listu objekt, už ale výše uvedený postup nefunguje."
   ]
  },
  {
   "cell_type": "code",
   "execution_count": 31,
   "metadata": {},
   "outputs": [
    {
     "name": "stdout",
     "output_type": "stream",
     "text": [
      "some_list: [1, 2, 30], another_list: [1, 2, 30]\n"
     ]
    }
   ],
   "source": [
    "class ToyNumber:\n",
    "    def __init__(self, number):\n",
    "        self.number = number\n",
    "    \n",
    "    def __repr__(self):\n",
    "        return str(self.number)\n",
    "\n",
    "prvni_cislo = ToyNumber(1)\n",
    "druhe_cislo = ToyNumber(2)\n",
    "treti_cislo = ToyNumber(3)\n",
    "some_list = [prvni_cislo, druhe_cislo, treti_cislo]\n",
    "another_list = some_list.copy()\n",
    "another_list[2].number = 30\n",
    "print(f\"some_list: {some_list}, another_list: {another_list}\")      "
   ]
  },
  {
   "cell_type": "markdown",
   "metadata": {},
   "source": [
    "Prblém je v tom, že list sám o sobě neobsahuje objekty, ale reference na objekty. Když se pak provolá funkce *copy*, je sice list zkopírován (tj. původní a nový list bydlí v paměti jinde), avšak kopie má v sobě úplně stejné reference jako originál. V takovémto případě mluvíme o *shallow* kopii.  \n",
    "Řešením je použít tzv. *deep* kopii, kdy jsou zkopírovány nikoli pouze listy, ale i všechny jejich prvky. Opět zde použijeme balíček *copy*, tentokrát ale sáhneme po funkci **deepcopy**."
   ]
  },
  {
   "cell_type": "code",
   "execution_count": 32,
   "metadata": {},
   "outputs": [
    {
     "name": "stdout",
     "output_type": "stream",
     "text": [
      "some_list: [1, 2, 30], another_list: [1, 2, 3]\n"
     ]
    }
   ],
   "source": [
    "import copy\n",
    "\n",
    "class ToyNumber:\n",
    "    def __init__(self, number):\n",
    "        self.number = number\n",
    "    \n",
    "    def __repr__(self):\n",
    "        return str(self.number)\n",
    "\n",
    "prvni_cislo = ToyNumber(1)\n",
    "druhe_cislo = ToyNumber(2)\n",
    "treti_cislo = ToyNumber(3)\n",
    "some_list = [prvni_cislo, druhe_cislo, treti_cislo]\n",
    "another_list = copy.deepcopy(some_list)\n",
    "treti_cislo.number = 30\n",
    "print(f\"some_list: {some_list}, another_list: {another_list}\")      "
   ]
  },
  {
   "cell_type": "markdown",
   "metadata": {},
   "source": [
    "Pro uživatele balíčku **pandas** poznamenejme, že metody **copy**, které jsou napojené na dataframy, fakticky vytvářejí *deep* a ne *shallow* kopie."
   ]
  },
  {
   "cell_type": "markdown",
   "metadata": {},
   "source": [
    "### Reference a defaultní parametr"
   ]
  },
  {
   "cell_type": "markdown",
   "metadata": {},
   "source": [
    "Problém s referencemi ale nekončí. Mějme funkci či metodu používající jako defautní parametr třeba prázný list."
   ]
  },
  {
   "cell_type": "code",
   "execution_count": 33,
   "metadata": {},
   "outputs": [],
   "source": [
    "class BetterList:\n",
    "    def __init__(self, orig_list=[]):\n",
    "        self.orig_list = orig_list\n",
    "    \n",
    "    def add_element(self, number):\n",
    "        self.orig_list.append(number)\n",
    "    \n",
    "    def remove_element(self, number):\n",
    "        self.orig_list.remove(number)"
   ]
  },
  {
   "cell_type": "markdown",
   "metadata": {},
   "source": [
    "Když do konstruktoru BetterListu nějaký list vložíme, žádný problém nezpozorujeme."
   ]
  },
  {
   "cell_type": "code",
   "execution_count": 34,
   "metadata": {},
   "outputs": [
    {
     "name": "stdout",
     "output_type": "stream",
     "text": [
      "orig_list of first_list: [10, 20, 30, 2]\n",
      "orig_list of second_list: [50, 60, 60]\n"
     ]
    }
   ],
   "source": [
    "first_list = BetterList([10,20,30])\n",
    "first_list.add_element(1)\n",
    "first_list.add_element(2)\n",
    "first_list.remove_element(1)\n",
    "print(f\"orig_list of first_list: {first_list.orig_list}\")\n",
    "\n",
    "second_list = BetterList([50,60,60])\n",
    "print(f\"orig_list of second_list: {second_list.orig_list}\")"
   ]
  },
  {
   "cell_type": "markdown",
   "metadata": {},
   "source": [
    "Co ale nastane, když začneme využívat defaultní hodnotu listu?"
   ]
  },
  {
   "cell_type": "code",
   "execution_count": 35,
   "metadata": {},
   "outputs": [
    {
     "name": "stdout",
     "output_type": "stream",
     "text": [
      "orig_list of third_list: [2]\n",
      "orig_list of fourth_list: [2]\n"
     ]
    }
   ],
   "source": [
    "third_list = BetterList()\n",
    "third_list.add_element(1)\n",
    "third_list.add_element(2)\n",
    "third_list.remove_element(1)\n",
    "print(f\"orig_list of third_list: {third_list.orig_list}\")\n",
    "\n",
    "fourth_list = BetterList()\n",
    "print(f\"orig_list of fourth_list: {fourth_list.orig_list}\")"
   ]
  },
  {
   "cell_type": "markdown",
   "metadata": {},
   "source": [
    "Vidíme, že ačkoli bychom u *fourth_list* čekali *orig_list* prázdný, máme v něm hodnoty z *orig_listu* instance *third_list*.  V čem tkví příčina tohoto chování? Defaultní argument je totiž vyhodnocen jen jednou, když Python projede definici funkce, nikoli pokaždé, když je funkce volaná. Pro lepší pochopení si v BetterListu tiskněme IDčka a hodnoty *orig_listů*:"
   ]
  },
  {
   "cell_type": "code",
   "execution_count": 36,
   "metadata": {},
   "outputs": [
    {
     "name": "stdout",
     "output_type": "stream",
     "text": [
      "Id of orig_list: 2237069450440\n",
      "Content of orig_list: []\n",
      "Id of self.orig_list: 2237069450440\n",
      "Content of self.orig_list: []\n",
      "orig_list of fifth_list: [2]\n",
      "Id of orig_list: 2237069450440\n",
      "Content of orig_list: [2]\n",
      "Id of self.orig_list: 2237069450440\n",
      "Content of self.orig_list: [2]\n",
      "orig_list of sixth_list: [2]\n"
     ]
    }
   ],
   "source": [
    "class BetterList:\n",
    "    def __init__(self, orig_list=[]):\n",
    "        self.orig_list = orig_list\n",
    "        print(f\"Id of orig_list: {id(orig_list)}\")\n",
    "        print(f\"Content of orig_list: {orig_list}\")\n",
    "        print(f\"Id of self.orig_list: {id(self.orig_list)}\")\n",
    "        print(f\"Content of self.orig_list: {self.orig_list}\")\n",
    "    \n",
    "    def add_element(self, number):\n",
    "        self.orig_list.append(number)\n",
    "    \n",
    "    def remove_element(self, number):\n",
    "        self.orig_list.remove(number)\n",
    "\n",
    "fifth_list = BetterList()\n",
    "fifth_list.add_element(1)\n",
    "fifth_list.add_element(2)\n",
    "fifth_list.remove_element(1)\n",
    "print(f\"orig_list of fifth_list: {fifth_list.orig_list}\")\n",
    "\n",
    "sixth_list = BetterList()\n",
    "print(f\"orig_list of sixth_list: {sixth_list.orig_list}\")"
   ]
  },
  {
   "cell_type": "markdown",
   "metadata": {},
   "source": [
    "Co s tím? Nejlepší je předávat defaultně None a to posléze kontrolovat v *if* konstrukci."
   ]
  },
  {
   "cell_type": "code",
   "execution_count": 37,
   "metadata": {},
   "outputs": [
    {
     "name": "stdout",
     "output_type": "stream",
     "text": [
      "orig_list of seventh_list: [2]\n",
      "orig_list of eighth_list: []\n"
     ]
    }
   ],
   "source": [
    "class BetterList:\n",
    "    def __init__(self, orig_list=None):\n",
    "        if orig_list is None:\n",
    "            self.orig_list = []\n",
    "        else:\n",
    "            self.orig_list = orig_list      \n",
    "    \n",
    "    def add_element(self, number):\n",
    "        self.orig_list.append(number)\n",
    "    \n",
    "    def remove_element(self, number):\n",
    "        self.orig_list.remove(number)\n",
    "\n",
    "seventh_list = BetterList()\n",
    "seventh_list.add_element(1)\n",
    "seventh_list.add_element(2)\n",
    "seventh_list.remove_element(1)\n",
    "print(f\"orig_list of seventh_list: {seventh_list.orig_list}\")\n",
    "\n",
    "eighth_list = BetterList()\n",
    "print(f\"orig_list of eighth_list: {eighth_list.orig_list}\")"
   ]
  },
  {
   "cell_type": "markdown",
   "metadata": {},
   "source": [
    "### Garbage collector\n",
    "U některých starších jazyků (např. u C) musí člověk manuálně spravovat paměť alokovanou pro jednotlivé objekty. Jinými slovy musí mazat objekty z paměti, když už jejich existence není potřeba. V opačném případě by totiž dříve nebo později hrozilo, že paměť dojde.  \n",
    "U Pythonu tuto správu obstarává automat - garbage collector. Ten (s určitou mírou zjednodušení) sleduje aktuální počet referencí na objekt a když tento počet padne na nulu, garbage collector z paměti daný objekt odstraní.  \n",
    "Reálně se o to starat nemusíme, nicméně zkusme se podívat, jak tyto počty referencí fungují. Na to použijeme funkci **getrefcount** z balíčku **sys**. Musíme myslet na to, že ta vrací číslo o jedna větší, než by se dalo čekat. To je kvůli dočasné referenci - argumentu funkce **getrefcount**."
   ]
  },
  {
   "cell_type": "code",
   "execution_count": 38,
   "metadata": {},
   "outputs": [
    {
     "name": "stdout",
     "output_type": "stream",
     "text": [
      "Number of references to instance toy_number 2\n",
      "Number of references after reference copying 3\n",
      "Number of references after copy reference deleting 2\n"
     ]
    }
   ],
   "source": [
    "import sys\n",
    "\n",
    "class ToyNumber:\n",
    "    def __init__(self, number):\n",
    "        self.number = number\n",
    "    \n",
    "    def __repr__(self):\n",
    "        return str(self.number)\n",
    "\n",
    "toy_number = ToyNumber(5)\n",
    "print(f\"Number of references to instance toy_number {sys.getrefcount(toy_number)}\")\n",
    "another_toy_number = toy_number\n",
    "print(f\"Number of references after reference copying {sys.getrefcount(toy_number)}\")\n",
    "del another_toy_number\n",
    "print(f\"Number of references after copy reference deleting {sys.getrefcount(toy_number)}\")"
   ]
  },
  {
   "cell_type": "markdown",
   "metadata": {},
   "source": [
    "### Dunder metody\n",
    "Dunder metody alias magic metody se dají poznat podle toho, že před i za jménem mají dvě podtržítka. Příkladem budiž konstruktor *\\_\\_init\\_\\_*. Podívejme se na pár dalších metod z této rodiny.\n",
    "#### \\_\\_str\\_\\_ a \\_\\_repr\\_\\_\n",
    "Když chceme vytisknout dejme tomu list, napíšeme *print(nejaky_list)* a uvidíme celý jeho obsah. Když se však pokusíme vyprintovat instanci sýkorky, dostaneme nic moc říkající výstup s informací, kde v paměti se objekt vlastně nalézá."
   ]
  },
  {
   "cell_type": "code",
   "execution_count": 39,
   "metadata": {},
   "outputs": [
    {
     "name": "stdout",
     "output_type": "stream",
     "text": [
      "<__main__.SykoraUhelnicek object at 0x00000208DBCB5608>\n"
     ]
    }
   ],
   "source": [
    "print(sykorka_1)"
   ]
  },
  {
   "cell_type": "markdown",
   "metadata": {},
   "source": [
    "Jak **\\_\\_str\\_\\_**, tak **\\_\\_repr\\_\\_** slouží k vytvoření vytisknutelné reprezentace objektu. Metoda *\\_\\_str\\_\\_* je neformální, tj. je určena primárně pro lidského uživatele a měl by se v ní tudíž klást důraz na čitelnost. Naproti tomu *\\_\\_repr\\_\\_* je formální a je určena pro logy a debugging. Rozdíl mezi zmíněnými metodami může být patrný například u objektů reprezentujících data a časy - u *\\_\\_str\\_\\_* bude datum/čas v lidsky čitelném formátu, u *\\_\\_repr\\_\\_* se asi bude jednat o vytištění datetime objektu."
   ]
  },
  {
   "cell_type": "code",
   "execution_count": 40,
   "metadata": {},
   "outputs": [
    {
     "name": "stdout",
     "output_type": "stream",
     "text": [
      "Sýkora uhelníček - weight: 8.95, female: True (__str__ method).\n"
     ]
    }
   ],
   "source": [
    "class SykoraUhelnicek:\n",
    "    \"\"\"Class representing coal tit.\n",
    "    \"\"\"\n",
    "    czech_name = \"Sýkora uhelníček\"\n",
    "    english_name = \"Coal tit\"\n",
    "    food = [\"insects\", \"spiders\", \"nuts\", \"seed\"]\n",
    "    \n",
    "    def __init__(self, weight:float, is_female:bool)->None:\n",
    "        \"\"\"Instance initialization.\n",
    "        \n",
    "        Args:\n",
    "            weight: Bird weight in grams.\n",
    "            is_female: Flag (True/False) that bird is female.\n",
    "        \"\"\"\n",
    "        self.weight = weight\n",
    "        self.is_female = is_female\n",
    "    \n",
    "    def __str__(self)->str:\n",
    "        \"\"\"Informal string representation.\n",
    "        \"\"\"\n",
    "        return f\"{self.czech_name} - weight: {self.weight}, female: {self.is_female} (__str__ method).\"\n",
    "\n",
    "sykorka_1 = SykoraUhelnicek(8.95, True)\n",
    "print(sykorka_1)"
   ]
  },
  {
   "cell_type": "markdown",
   "metadata": {},
   "source": [
    "V následujícím příkladu vrací *\\_\\_repr\\_\\_* string připomínající jsonu, ale fakticky by prošla i hláška, která je výše u *\\_\\_str\\_\\_*."
   ]
  },
  {
   "cell_type": "code",
   "execution_count": 41,
   "metadata": {},
   "outputs": [
    {
     "name": "stdout",
     "output_type": "stream",
     "text": [
      "{'czech_name': 'Sýkora uhelníček', 'english_name': 'Coal tit', 'food': '['insects', 'spiders', 'nuts', 'seed']', 'weight': '8.95', 'is_female': 'True', }\n"
     ]
    }
   ],
   "source": [
    "class SykoraUhelnicek:\n",
    "    \"\"\"Class representing coal tit.\n",
    "    \"\"\"\n",
    "    czech_name = \"Sýkora uhelníček\"\n",
    "    english_name = \"Coal tit\"\n",
    "    food = [\"insects\", \"spiders\", \"nuts\", \"seed\"]\n",
    "    \n",
    "    def __init__(self, weight:float, is_female:bool)->None:\n",
    "        \"\"\"Instance initialization.\n",
    "        \n",
    "        Args:\n",
    "            weight: Bird weight in grams.\n",
    "            is_female: Flag (True/False) that bird is female.\n",
    "        \"\"\"\n",
    "        self.weight = weight\n",
    "        self.is_female = is_female\n",
    "    \n",
    "    def __repr__(self)->str:\n",
    "        \"\"\"Formal string representation.\n",
    "        \"\"\"\n",
    "        return (\n",
    "            \"{\"\n",
    "            + \"'czech_name': '\" + self.czech_name + \"', \" \n",
    "            + \"'english_name': '\" + self.english_name + \"', \" \n",
    "            + \"'food': '\" + str(self.food) + \"', \" \n",
    "            + \"'weight': '\" + str(self.weight) + \"', \" \n",
    "            + \"'is_female': '\" + str(self.is_female) + \"', \" \n",
    "            \"}\"\n",
    "        )\n",
    "\n",
    "sykorka_1 = SykoraUhelnicek(8.95, True)\n",
    "print(sykorka_1)"
   ]
  },
  {
   "cell_type": "markdown",
   "metadata": {},
   "source": [
    "Funkce *print* se snaží použít metodu *\\_\\_str\\_\\_* a jen pokud ta není zadefinována, šáhne *print* po *\\_\\_repr\\_\\_*."
   ]
  },
  {
   "cell_type": "code",
   "execution_count": 42,
   "metadata": {},
   "outputs": [
    {
     "name": "stdout",
     "output_type": "stream",
     "text": [
      "Sýkora uhelníček - weight: 8.95, female: True (__str__ method).\n"
     ]
    }
   ],
   "source": [
    "class SykoraUhelnicek:\n",
    "    \"\"\"Class representing coal tit.\n",
    "    \"\"\"\n",
    "    czech_name = \"Sýkora uhelníček\"\n",
    "    english_name = \"Coal tit\"\n",
    "    food = [\"insects\", \"spiders\", \"nuts\", \"seed\"]\n",
    "    \n",
    "    def __init__(self, weight:float, is_female:bool)->None:\n",
    "        \"\"\"Instance initialization.\n",
    "        \n",
    "        Args:\n",
    "            weight: Bird weight in grams.\n",
    "            is_female: Flag (True/False) that bird is female.\n",
    "        \"\"\"\n",
    "        self.weight = weight\n",
    "        self.is_female = is_female\n",
    "    \n",
    "    def __repr__(self)->str:\n",
    "        \"\"\"Formal string representation.\n",
    "        \"\"\"\n",
    "        return (\n",
    "            \"{\"\n",
    "            + \"'czech_name': '\" + self.czech_name + \"', \" \n",
    "            + \"'english_name': '\" + self.english_name + \"', \" \n",
    "            + \"'food': '\" + str(self.food) + \"', \" \n",
    "            + \"'weight': '\" + str(self.weight) + \"', \" \n",
    "            + \"'is_female': '\" + str(self.is_female) + \"', \" \n",
    "            \"}\"\n",
    "        )\n",
    "    \n",
    "    def __str__(self)->str:\n",
    "        \"\"\"Informal string representation.\n",
    "        \"\"\"\n",
    "        return f\"{self.czech_name} - weight: {self.weight}, female: {self.is_female} (__str__ method).\"\n",
    "\n",
    "sykorka_1 = SykoraUhelnicek(8.95, True)\n",
    "print(sykorka_1)"
   ]
  },
  {
   "cell_type": "markdown",
   "metadata": {},
   "source": [
    "#### \\_\\_len\\_\\_\n",
    "Metoda **\\_\\_len\\_\\_** určité instance je to, co se zavolá, když do kódu napíšeme len(instance_tridy). Pakliže není zadefinovaná, Python neví, podle čeho délku instance odhadnout, a vrátí chybu v podobě \n",
    "```\n",
    "TypeError: object of type 'SykoraUhelnicek' has no len()\n",
    "```"
   ]
  },
  {
   "cell_type": "code",
   "execution_count": 43,
   "metadata": {},
   "outputs": [
    {
     "name": "stdout",
     "output_type": "stream",
     "text": [
      "Result of len function applied on ListWithMetadata instance: 3\n"
     ]
    }
   ],
   "source": [
    "class ListWithMetadata:\n",
    "    \"\"\"Dummy class for showing __len__ method.\n",
    "    \"\"\"\n",
    "    def __init__(self, list_with_numbers:List[int], some_metadata_info:str)->None:\n",
    "        \"\"\"Instance initialization.\n",
    "        \n",
    "        Args:\n",
    "            list_with_numbers(List[int]): List which is used for determination of instance length.\n",
    "            some_metadata_info(str): Some unimportant parameter.\n",
    "        \"\"\"\n",
    "        self.list_with_numbers = list_with_numbers\n",
    "        self.some_metadata_info = some_metadata_info\n",
    "    \n",
    "    def __len__(self)->int:\n",
    "        \"\"\"Returns length of instance.\n",
    "        \"\"\"\n",
    "        return len(self.list_with_numbers)\n",
    "\n",
    "some_list = ListWithMetadata([10,20,30], \"blablabla\")\n",
    "print(f\"Result of len function applied on ListWithMetadata instance: {len(some_list)}\")"
   ]
  },
  {
   "cell_type": "markdown",
   "metadata": {},
   "source": [
    "#### \\_\\_add\\_\\_\n",
    "Metoda **\\_\\_add\\_\\_** se používá v situacích, kdy bychom chtěli sčítat dva objekty pomocí operátoru \"+\"? "
   ]
  },
  {
   "cell_type": "code",
   "execution_count": 58,
   "metadata": {},
   "outputs": [
    {
     "name": "stdout",
     "output_type": "stream",
     "text": [
      "Color: green, weight: 67\n",
      "Color: blue, weight: 53\n",
      "Color: grey, weight: 120\n"
     ]
    }
   ],
   "source": [
    "class PlasticineOctopus:\n",
    "    def __init__(self, color:str, weight:int)->None:\n",
    "        \"\"\"Instance initialization\n",
    "        \n",
    "        Args:\n",
    "            color(str): Color of createed octopus.\n",
    "            weight(int): Weight of octopus in grams.\n",
    "        \"\"\"\n",
    "        self.color = color\n",
    "        self.weight = weight\n",
    "    \n",
    "    def __add__(self, other_octopus):\n",
    "        \"\"\"Merge two plasticine creatures into one.\n",
    "        \"\"\"\n",
    "        new_weight = self.weight + other_octopus.weight\n",
    "        new_color = \"grey\"\n",
    "        return PlasticineOctopus(new_color, new_weight)\n",
    "\n",
    "    \n",
    "    def __str__(self)->str:\n",
    "        \"\"\"Informal string representation.\n",
    "        \"\"\"\n",
    "        return f\"Color: {self.color}, weight: {self.weight}\"\n",
    "\n",
    "green_octopus = PlasticineOctopus(\"green\", 67)\n",
    "blue_octopus = PlasticineOctopus(\"blue\", 53)\n",
    "merged_octopus = blue_octopus + green_octopus\n",
    "print(green_octopus)\n",
    "print(blue_octopus)\n",
    "print(merged_octopus)"
   ]
  },
  {
   "cell_type": "markdown",
   "metadata": {},
   "source": [
    "Podobně fungují např. **\\_\\_sub\\_\\_** či **\\_\\_mul\\_\\_** anebo **\\_\\_eq\\_\\_**."
   ]
  },
  {
   "cell_type": "markdown",
   "metadata": {},
   "source": [
    "#### is, == a \\_\\_eq\\_\\_\n"
   ]
  },
  {
   "cell_type": "markdown",
   "metadata": {},
   "source": [
    "Pakliže člověk u třídy nezadefinuje metodu **\\_\\_eq\\_\\_**, použije se při porovnávání instancí této třídy efektivně klíčové slovo *is*. To zkoumá, jestli se jedná o objekty bydlící ve stejné části paměti."
   ]
  },
  {
   "cell_type": "code",
   "execution_count": 45,
   "metadata": {},
   "outputs": [
    {
     "name": "stdout",
     "output_type": "stream",
     "text": [
      "False\n",
      "True\n",
      "Nejsou si rovny\n"
     ]
    }
   ],
   "source": [
    "class ToyNumber:\n",
    "    def __init__(self, number):\n",
    "        self.number = number\n",
    "    \n",
    "    def __repr__(self):\n",
    "        return str(self.number)\n",
    "\n",
    "first_number = ToyNumber(3)\n",
    "second_number = ToyNumber(3)\n",
    "third_number = first_number\n",
    "\n",
    "print(first_number is second_number)\n",
    "print(first_number is third_number)\n",
    "\n",
    "if first_number == second_number:\n",
    "    print(\"Jsou si rovny\")\n",
    "else:\n",
    "    print(\"Nejsou si rovny\")"
   ]
  },
  {
   "cell_type": "markdown",
   "metadata": {},
   "source": [
    "Obvykle nás ale lokace objektu v paměti nezajímá a jde nám o srovnání určitého atributu (resp. atributů)."
   ]
  },
  {
   "cell_type": "code",
   "execution_count": 46,
   "metadata": {},
   "outputs": [
    {
     "name": "stdout",
     "output_type": "stream",
     "text": [
      "Jsou si rovny\n"
     ]
    }
   ],
   "source": [
    "class ToyNumber:\n",
    "    def __init__(self, number:int):\n",
    "        self.number = number\n",
    "    \n",
    "    def __repr__(self):\n",
    "        return str(self.number)\n",
    "    \n",
    "    def __eq__(self, other:ToyNumber):\n",
    "        return self.number == other.number\n",
    "\n",
    "first_number = ToyNumber(3)\n",
    "second_number = ToyNumber(3)\n",
    "\n",
    "if first_number == second_number:\n",
    "    print(\"Jsou si rovny\")\n",
    "else:\n",
    "    print(\"Nejsou si rovny\")"
   ]
  },
  {
   "cell_type": "markdown",
   "metadata": {},
   "source": [
    "#### Getry a setry\n",
    "V řadě programovacích jazyků (např v Javě) se k parametrům instance nepřistupuje napřímo, ale před tzv. getry a setry. Jedná se o funkce, které hodnotu atributu nastavují (setry; setPromenna), anebo proměnnou poskytují pro čtení (getry; getPromenna): \n",
    "```java\n",
    "public class SimpleGetterAndSetter {\n",
    "    private int number;\n",
    " \n",
    "    public int getNumber() {\n",
    "        return this.number;\n",
    "    }\n",
    " \n",
    "    public void setNumber(int num) {\n",
    "        this.number = num;\n",
    "    }\n",
    "}\n",
    "```\n",
    "Díky takovýmto metodám lze kontrolovat, zda s nimi uživatel zachází správně, např. zda se do nich nesnaží dostat nevalidní hodnotu (věk 1000 apod.). Obvykle se přímý přístup (skrze tečkovou notaci) k proměnným vypíná tak, že jsou označeny jako privátní. Dostupné jsou pak právě jen přes tyto specializované metody.  \n",
    "Přístup k této problematice v Pythonu je odlišný. Privátní proměnné sice existují - označují se podtržítkem před jménem - ale jejich \"privátnost\" je pouze programátorský úzus. To znamená, že nic člověku nebrání na \\_promenna sáhnout.  \n",
    "Obecně se defaultně v Pythonu getry a setry nepoužívají (oproti Javě, kde je zvykem je používat, i když k žádné kontrole správnosti nikdy docházet ani nebude). V případě, kdy je v pythoním kódu kontrola potřeba, se použijí dekorátory @property a @setter. Výhodou je, že se k atributům přistupuje jednoduše (z pohledu uživatele napřímo), ale checky, kvůli kterým getry a setry existují, se stejně provedou.  \n",
    "Všimněte si, že atribut číslo v názvu podtržítko nemá, ale v getrech a setrech se podtržítko vyskytuje. Popravdě kdybychom podtržítka vymazali, umřel by nám v Jupyteru pythoní kernel, protože by se setter donekonečna volal :D. To je dané tím, že by setter metoda a atribut sdíleli jméno."
   ]
  },
  {
   "cell_type": "code",
   "execution_count": 47,
   "metadata": {},
   "outputs": [
    {
     "name": "stdout",
     "output_type": "stream",
     "text": [
      "  Jsme v konstruktoru\n",
      "  Jsme v setru\n"
     ]
    }
   ],
   "source": [
    "class ZakaznikTelOperatora:\n",
    "    def __init__(self, cislo):\n",
    "        print(\"  Jsme v konstruktoru\")\n",
    "        self.cislo = cislo\n",
    "    \n",
    "    @property\n",
    "    def cislo(self):\n",
    "        print(\"  Jsme v getru\")\n",
    "        return self._cislo\n",
    "    \n",
    "    @cislo.setter\n",
    "    def cislo(self, new_number):\n",
    "        print(\"  Jsme v setru\")\n",
    "        self._cislo = new_number\n",
    "\n",
    "zakaznik = ZakaznikTelOperatora(123456789)"
   ]
  },
  {
   "cell_type": "markdown",
   "metadata": {},
   "source": [
    "Uživatel třídy ale žádnou divočinu ohledně podtržítek řešit nemusí - jak již padlo, z jeho pohledu se přistupuje k atributům stále napřímo přes tečkovou notaci."
   ]
  },
  {
   "cell_type": "code",
   "execution_count": 48,
   "metadata": {},
   "outputs": [
    {
     "name": "stdout",
     "output_type": "stream",
     "text": [
      "Změníme číslo\n",
      "  Jsme v setru\n",
      "Vytiskneme číslo\n",
      "  Jsme v getru\n",
      "987654321\n"
     ]
    }
   ],
   "source": [
    "print(\"Změníme číslo\")\n",
    "zakaznik.cislo = 987654321\n",
    "print(\"Vytiskneme číslo\")\n",
    "print(zakaznik.cislo)"
   ]
  },
  {
   "cell_type": "markdown",
   "metadata": {},
   "source": [
    "### Dědení"
   ]
  },
  {
   "cell_type": "markdown",
   "metadata": {},
   "source": [
    "Občas bývá užitečné mít třídu, která od nějaké jiné třídy přebere určitou funkčnost (metody) a nějak je rozšíří, resp. přidá funkčnosti nové. Obvykle novou třídu nepíšeme celou od začátku - byla by to práce navíc a navíc by se kód v případě změn hůře udržoval. Namísto toho se používá dědění. Třída A je potomkem třídy B, když při jejím definování napíšeme mateřskou třídu do kulatých závorek:\n",
    "```python\n",
    "class A(B):\n",
    "    some code\n",
    "```\n",
    "Díky tomuto má třída A přístup ke všem třídám a atributům třídy B. Obvykle se konstruktor dítěte manuálně nekopíruje z konstruktoru rodiče, nýbrž se konstuktor rodiče provolá. To se provádí pomocí **super()**.  \n",
    "Z příkladu vidíme, že dědící třída od rodiče přebrala metodu **fly**. Pakliže ale chceme, aby se metoda dítěte od rodiče lišila, zadefinujeme ji u dítěte obyčejným způsobem a ona metodu rodiče zastíní. V příkladu tomu tak je u **make_sounds** a vlastně i u konstruktoru. "
   ]
  },
  {
   "cell_type": "code",
   "execution_count": 49,
   "metadata": {},
   "outputs": [],
   "source": [
    "class Bird:\n",
    "    wings_count = 2\n",
    "    \n",
    "    def __init__(self, weight, is_female):\n",
    "        self.weight = weight\n",
    "        self.is_female = is_female\n",
    "    \n",
    "    def make_sounds(self):\n",
    "        print(\"Píp\")\n",
    "    \n",
    "    def fly(self):\n",
    "        print(\"Flying\")\n",
    "\n",
    "class Parrot(Bird):\n",
    "    def __init__(self, weight, is_female, color):\n",
    "        super().__init__(weight, is_female)\n",
    "        self.color = color\n",
    "    \n",
    "    def make_sounds(self):\n",
    "        print(\"Lorri chce suchááárek\")"
   ]
  },
  {
   "cell_type": "code",
   "execution_count": 50,
   "metadata": {},
   "outputs": [
    {
     "name": "stdout",
     "output_type": "stream",
     "text": [
      "green\n",
      "Lorri chce suchááárek\n",
      "Flying\n"
     ]
    }
   ],
   "source": [
    "lorri = Parrot(50, True, \"green\")\n",
    "print(lorri.color)\n",
    "lorri.make_sounds()\n",
    "lorri.fly()"
   ]
  },
  {
   "cell_type": "markdown",
   "metadata": {},
   "source": [
    "Podotkněme, že *super* se vztahuje k nejbezprostřednějšímu předkovi:"
   ]
  },
  {
   "cell_type": "code",
   "execution_count": 51,
   "metadata": {},
   "outputs": [
    {
     "name": "stdout",
     "output_type": "stream",
     "text": [
      "We are calling Parrot class method\n",
      "We are calling Bird class method\n"
     ]
    }
   ],
   "source": [
    "class Animal:\n",
    "    def where_we_are(self):\n",
    "        print(\"We are calling Animal class method\")\n",
    "\n",
    "class Bird(Animal):\n",
    "    def where_we_are(self):\n",
    "        print(\"We are calling Bird class method\")\n",
    "\n",
    "class Parrot(Bird):\n",
    "    def where_we_are(self):\n",
    "        print(\"We are calling Parrot class method\")\n",
    "    \n",
    "    def where_is_super_looking(self):\n",
    "        super().where_we_are()   \n",
    "\n",
    "lorri = Parrot()\n",
    "lorri.where_we_are()\n",
    "lorri.where_is_super_looking()"
   ]
  },
  {
   "cell_type": "markdown",
   "metadata": {},
   "source": [
    "### Vícenásobné dědění"
   ]
  },
  {
   "cell_type": "markdown",
   "metadata": {},
   "source": [
    "Python oproti jiným jazykům podporuje vícenásobné dědění. Provedeme to tak, že do závorek dětské třídy napíšeme všechny rodiče. Pakliže by dětská třída dědila stejně pojmenovanou metodu od více než jednoho rodiče, bude mít přednost metoda od toho rodiče, který byl v kulatých závorkách dřív (v našem příkladě půjde o *Cat.make_sound*). Podobně *super* se bude vztahovat na prvního rodiče. Proto se dejme tomu v initu super někdy nepoužívá a rodičovské třídy se volají svým jménem.  \n",
    "Vícenásobné dědění není nějaký nepraktický konstrukt, ale opravdu se v praxi používá. Například pandasí [dataframe](https://github.com/pandas-dev/pandas/blob/main/pandas/core/frame.py) (de facto objekt typu 2D tabulka) dědí jednak od třídy [NDFrame](https://github.com/pandas-dev/pandas/blob/main/pandas/core/generic.py) (N-rozměrná tabulka), jednak od třídy [OpsMixin](https://github.com/pandas-dev/pandas/blob/main/pandas/core/arraylike.py) (hromada funkcí, kterou sdílí všelijaké pandí objekty)."
   ]
  },
  {
   "cell_type": "code",
   "execution_count": 52,
   "metadata": {},
   "outputs": [],
   "source": [
    "class Cat:\n",
    "    def __init__(self, favourite_prey):\n",
    "        print(\"Cat init start\")\n",
    "        self.favourite_prey = favourite_prey\n",
    "        print(\"Cat init end\")\n",
    "    \n",
    "    def catch_mouse(self):\n",
    "        print(\"Catching mouse\")\n",
    "        \n",
    "    def make_sound(self):\n",
    "        print(\"Mňau\")\n",
    "    \n",
    "class Dog:\n",
    "    def __init__(self, favourite_toy):\n",
    "        print(\"Dog init start\")\n",
    "        self.favourite_toy = favourite_toy\n",
    "        print(\"Dog init end\")\n",
    "    \n",
    "    def make_sound(self):\n",
    "        print(\"Whoof whoof\")\n",
    "\n",
    "class Kockopes(Cat, Dog):\n",
    "    def __init__(self, favourite_prey, favourite_toy):\n",
    "        print(\"Kockopes init start\")\n",
    "        Cat.__init__(self, favourite_prey)\n",
    "        Dog.__init__(self, favourite_toy)\n",
    "        print(\"Kockopes init end\")"
   ]
  },
  {
   "cell_type": "code",
   "execution_count": 53,
   "metadata": {},
   "outputs": [
    {
     "name": "stdout",
     "output_type": "stream",
     "text": [
      "Kockopes init start\n",
      "Cat init start\n",
      "Cat init end\n",
      "Dog init start\n",
      "Dog init end\n",
      "Kockopes init end\n",
      "\n",
      "mouse\n",
      "ball\n",
      "\n",
      "Mňau\n",
      "Catching mouse\n"
     ]
    }
   ],
   "source": [
    "cosi = Kockopes(\"mouse\", \"ball\")\n",
    "\n",
    "print()\n",
    "print(cosi.favourite_prey)\n",
    "print(cosi.favourite_toy)\n",
    "print()\n",
    "cosi.make_sound()\n",
    "cosi.catch_mouse()"
   ]
  },
  {
   "cell_type": "markdown",
   "metadata": {},
   "source": [
    "Vidíme, že instance kočkopsa je instancí i tříd Cat a Dog."
   ]
  },
  {
   "cell_type": "code",
   "execution_count": 54,
   "metadata": {},
   "outputs": [
    {
     "data": {
      "text/plain": [
       "True"
      ]
     },
     "execution_count": 54,
     "metadata": {},
     "output_type": "execute_result"
    }
   ],
   "source": [
    "isinstance(cosi, Kockopes)"
   ]
  },
  {
   "cell_type": "code",
   "execution_count": 55,
   "metadata": {},
   "outputs": [
    {
     "data": {
      "text/plain": [
       "True"
      ]
     },
     "execution_count": 55,
     "metadata": {},
     "output_type": "execute_result"
    }
   ],
   "source": [
    "isinstance(cosi, Cat)"
   ]
  },
  {
   "cell_type": "code",
   "execution_count": 56,
   "metadata": {},
   "outputs": [
    {
     "data": {
      "text/plain": [
       "True"
      ]
     },
     "execution_count": 56,
     "metadata": {},
     "output_type": "execute_result"
    }
   ],
   "source": [
    "isinstance(cosi, Dog)"
   ]
  },
  {
   "cell_type": "code",
   "execution_count": 57,
   "metadata": {},
   "outputs": [
    {
     "data": {
      "text/plain": [
       "False"
      ]
     },
     "execution_count": 57,
     "metadata": {},
     "output_type": "execute_result"
    }
   ],
   "source": [
    "isinstance(cosi, Bird)"
   ]
  },
  {
   "cell_type": "code",
   "execution_count": null,
   "metadata": {},
   "outputs": [],
   "source": []
  }
 ],
 "metadata": {
  "kernelspec": {
   "display_name": "Python 3",
   "language": "python",
   "name": "python3"
  },
  "language_info": {
   "codemirror_mode": {
    "name": "ipython",
    "version": 3
   },
   "file_extension": ".py",
   "mimetype": "text/x-python",
   "name": "python",
   "nbconvert_exporter": "python",
   "pygments_lexer": "ipython3",
   "version": "3.7.4"
  },
  "varInspector": {
   "cols": {
    "lenName": 16,
    "lenType": 16,
    "lenVar": 40
   },
   "kernels_config": {
    "python": {
     "delete_cmd_postfix": "",
     "delete_cmd_prefix": "del ",
     "library": "var_list.py",
     "varRefreshCmd": "print(var_dic_list())"
    },
    "r": {
     "delete_cmd_postfix": ") ",
     "delete_cmd_prefix": "rm(",
     "library": "var_list.r",
     "varRefreshCmd": "cat(var_dic_list()) "
    }
   },
   "types_to_exclude": [
    "module",
    "function",
    "builtin_function_or_method",
    "instance",
    "_Feature"
   ],
   "window_display": false
  }
 },
 "nbformat": 4,
 "nbformat_minor": 4
}
