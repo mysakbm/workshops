{
 "cells": [
  {
   "cell_type": "markdown",
   "metadata": {},
   "source": [
    "## Slovo úvodem\n",
    "\n",
    "Tento workshop si rozhodně nedělá ambice fungovat jako regulérní školení, kde se během několika hodin nalije účastníkům do hlavy vše od přiřazování hodnot do proměnných až dejme tomu k testování kódu. Na takovou akci jednak není alokován čas, jednak mi to nepřijde efektivní - člověk je na jedno posezení schopen absorbovat jen určité množství informací.\n",
    "O čem dnešní seance tedy bude? Cílem bude Vám na jedné primitivní hře ukázat určité základní pythoní konstrukce, od kterých se budete moci odpíchnout v samostudiu, resp. jejichž znalost bude potřeba pro další workshopy (např. pro ten, který se bude věnovat balíčku pandas)."
   ]
  },
  {
   "cell_type": "markdown",
   "metadata": {
    "ExecuteTime": {
     "end_time": "2020-02-15T10:30:54.687134Z",
     "start_time": "2020-02-15T10:30:54.679160Z"
    }
   },
   "source": [
    "Před samotným začátkem výkladu si musíme ověřit, zda u vás Python vůbec funguje. \n",
    "- Vyrobte si pro účely tohoto workshopu separátní adresář.\n",
    "- V příkazové řádce do něj vstupte. Nejsnáze toho docílíte v Total Commanderu (Commands -> Open command prompt window). případně ve Startu zadejte do vyhledávání \"Příkazová řádka\" (resp. \"Command prompt\") a do konzole poté napište cd vas_adresar.\n",
    "- Napište python (potažmo pokud jste instalovali Anacondu bez local admin práv, mělo byste tuším napsat C:\\Users\\jmeno_vaseho_uctu\\AddData\\local\\continuum\\Anaconda\\python.exe)\n",
    "- pokud vidíte to, co je na obrázku níže, vše funguje; pythoní konzoli opustítě příkazem exit()\n",
    "![funkcni_python_konzole](pomocne_soubory/test_funkcnosti.png)"
   ]
  },
  {
   "cell_type": "markdown",
   "metadata": {},
   "source": [
    "### Ahoj světe\n",
    "Používání konzole je při vytváření programu poněkud nešikovné - při jejím zavření se totiž veškerá práce ztratí. Proto budeme kód psát pomocí textového editoru (ideálně Notepadu++ - vytvářejte prosím program v kódování UTF-8, nikoli v ANSI). Patří k dobrému bontonu v prvním programu pozdravit svět a ani my neučiníme jinak. Vytvořte si soubor hadej_cislo.py a do něj napiště\n",
    "```python\n",
    "print(\"Hello world\")\n",
    "```\n",
    "Do (doufám) stále ještě otevřené konzole poté vložte\n",
    "```\n",
    "python hadej_cislo.py\n",
    "```\n",
    "V konzoli by se pak mělo zjevit právě Hello world.\n",
    "\n",
    "### Proměnné \n",
    "\"Program\" bychom mohli přepsat na\n",
    "```python\n",
    "promenna = \"Hello world\"\n",
    "print(promenna)\n",
    "```\n",
    "Na prvním řádku vytváříme proměnnou a hned jí přiřazujeme hodnotu, na řádku dalším tiskneme její hodnotu. Narozdíl například od Javy nemusíme specifikovat, jaký typ proměnné vytváříme - jestli řetězec, číslo nebo něco jiného. Proměnná může navíc v průběhu času měnit svůj typ:"
   ]
  },
  {
   "cell_type": "code",
   "execution_count": 15,
   "metadata": {
    "ExecuteTime": {
     "end_time": "2020-02-23T19:20:29.081589Z",
     "start_time": "2020-02-23T19:20:29.074603Z"
    }
   },
   "outputs": [
    {
     "name": "stdout",
     "output_type": "stream",
     "text": [
      "Hello world\n",
      "42\n"
     ]
    }
   ],
   "source": [
    "promenna = \"Hello world\"\n",
    "print(promenna)\n",
    "promenna = 42\n",
    "print(promenna)"
   ]
  },
  {
   "cell_type": "markdown",
   "metadata": {},
   "source": [
    "V rámci tohoto workshopu budeme používat typy textový řetězec (string), celé číslo (integer), reálné číslo (float) a boolean (věc nabývající pouze dvou hodnot - True a False).\n",
    "Poznámka k názvům proměnných - mohou v nich být písmena, čísla a _. Dokonce by Vám měly projít i proměnné s diagritikou, ale prosím nedělejte to. Prvním znakem v názvu proměnné musí být písmeno či _ - číslovka by neprošla."
   ]
  },
  {
   "cell_type": "markdown",
   "metadata": {},
   "source": [
    "### Vstup a výstup\n",
    "Zdá se tedy, že s námi počítač komunikuje. Je tedy načase rozmyslet se, co se pokusíme vytvořit. Naším prvním cílem bude program, který si bude myslet určité náhodné přirozené číslo. Člověk pak toto číslo bude hádat, přičemž počítač mu buďto řekne, že se trefil anebo že hádal příliš nízko/vysoko.\n",
    "Sice se v předchozím odstavci psalo, že s námi náš křemíkový kolega komunikuje, fakticky se ale jednalo o monolog. Pro předání vstupu skrze příkazovou řádku se používá funkce **input**. Ta má jeden parametr (= ta věc za názvem funkce v kulatých závorkách), kterým je text předcházející uživatelskému vstupu.\n",
    "```python\n",
    "input(\"Ahoj, jak se jmenuješ? \")\n",
    "print(\"Rád tě poznávám.\")\n",
    "```\n",
    "Je sice pěkné, že **input** uživatele vyzývá, aby něco naťukal do klávesnice, ale my bychom s tímto vstupem rádi dále pracovali. **Input** ho přirozeně programátorovi dává k dispuzici, ten si ho musí do proměnné převzít tímto způsobem:\n",
    "```python\n",
    "jmeno = input(\"Ahoj, jak se jmenuješ? \")\n",
    "print(jmeno)\n",
    "```\n",
    "Všimněte si, že proměnnou jmeno, do které ukládáme uživatelský vstup, jsem nemusel předem vytvářet ani jsem pro ni nemusel specifikovat, zda do ní půjde číslo nebo textový řetězec. Následně si obsah proměnné můžeme nechat vytisknout do konzole opět s pomocí printu.\n",
    "Jenže my bychom chtěli jméno zakomponovat do řetězce \"Rád tě poznávám\". Jak na to? Způsobů je několik, asi nejlepší ale bude vložit před uvozovky, ktere řetězec obklopují, písmeno f  a proměnnou do řetězce vložit obklopenou složenými závorkami.\n",
    "```python\n",
    "jmeno = input(\"Ahoj, jak se jmenuješ? \")\n",
    "print(f\"Rád tě poznávám, {jmeno}.\")\n",
    "```\n",
    "Je vidět, že program neumí skloňovat, ale to mu hold budeme muset odpustit. Je tu ještě jedna věc - rádi bychom, aby uživatel psal své jméno ne na stejný řádek jako byla výzva počítače, ale až na řádek další. Toto odřádkování provedeme pomocí **\\n**. Zpětné lomítko a písmeno n nebudou vidět, způsobí ale, že se přesuneme níže.\n",
    "```python\n",
    "jmeno = input(\"Ahoj, jak se jmenuješ?\\n\")\n",
    "print(f\"Rád tě poznávám, {jmeno}.\")\n",
    "```"
   ]
  },
  {
   "cell_type": "markdown",
   "metadata": {
    "ExecuteTime": {
     "end_time": "2020-02-15T11:33:19.255006Z",
     "start_time": "2020-02-15T11:33:19.252013Z"
    }
   },
   "source": [
    "### Převádění proměnných\n",
    "Bude to takhle fungovat, i když bude na vstupu číslo?\n",
    "```python\n",
    "cislo = input(\"Řekni číslo: \")\n",
    "print(f\"Číslo je {cislo}.\")\n",
    "```\n",
    "Vypadá to nadějně. Hm... můžeme v těch složených závorkách provádět aritmentické operace?\n",
    "```python\n",
    "print(f\"Dva a dva jsou {2+2}.\")\n",
    "```\n",
    "Zjevně ano! Mělo by tedy fungovat i následující... nebo ne?\n",
    "```python\n",
    "cislo = input(\"Řekni číslo: \")\n",
    "print(f\"Není to moc málo? Co třeba {cislo+10}.\")\n",
    "```\n",
    "Pokud jste toto vyzkoušeli, právě koukáte na hlášku \n",
    "![spojovani_stringu_a_cisla](pomocne_soubory/spojovani_stringu_cisla.png)\n",
    "O co tady jde? Python si stěžuje, že dokáže slepit pouze dva stringy (stringem se míní textový řetězec), nikoli string a číslo. Jenže my mu dodali přeci dvě čísla! Nebo ne?\n",
    "Vložme do programu novou řádku, ve které budeme do konzole tiskount výstup funkce type. Ta bere objekt a zjišťuje, jestli je onen objekt celočíselné číslo, desetinné číslo, řetězec anebo nějaká mnohem složitější věc.\n",
    "```python\n",
    "cislo = input(\"Řekni číslo: \")\n",
    "print(type(cislo))\n",
    "print(f\"Není to moc málo? Co třeba {cislo+10}.\")\n",
    "```\n",
    "Ejhle, objevilo se nám zde **<class 'str'>**. To class a zobáčky ignorujme, důležité je pro nás to str alias string alias textový řetězec. Python tedy (nepřekvapivě) vstup vzal jako string a nijak dál ho neupravoval. Co teď s tím? Řešením je funkci input obklopint další funkcí, tentokráte **int**. Ta vezme svůj vstup a pokud to dává smysl, udělá z něj celočíselné číslo. \n",
    "```python\n",
    "cislo = int(input(\"Řekni číslo: \"))\n",
    "print(type(cislo))\n",
    "print(f\"Není to moc málo? Co třeba {cislo+10}.\")\n",
    "```\n",
    "Hurá, už všechno funguje, jak by mělo.\n",
    "\n",
    "Jak bychom vlastně převedli číslo na string? A co se vlastně stane, když sečteme dva stringy - to by (aspoň podle výše uvedené chybové hlášky) Pythonu asi nevadilo? Odpovědí na první otázku je funkce **str**. No a pokud chceme znát odpověď na otázku druhou, proženeme skrz Python následující:\n",
    "```python\n",
    "cislo = input(\"Řekni číslo: \")\n",
    "print(f\"Není to moc málo? Co třeba {cislo+str(10)}.\")\n",
    "```\n",
    "Vidíme, že sčítání řetězců fakticky znamená jejich *slepení*."
   ]
  },
  {
   "cell_type": "markdown",
   "metadata": {},
   "source": [
    "### Komentáře\n",
    "Může se stát, že si budete chtít do kódu vložit poznámku, co se na daném místě v programu vlastně děje. Anebo budete přepisovat funkcionalitu, jejíž implementací si ale nebudete jisti, a tak budete chtít původní kód nikoli vymazat, nýbrž učinit pro pythoní interpret neviditelný. Řešením jsou komentáře. Ty nabývají v Pythonu dvou forem. Jednořádkové jsou uvedeny hashtagem (#), víceřádkové jsou obklopeny trojicí uvozovek.\n",
    "```python\n",
    "print(\"Normální řádka\")\n",
    "#a tady je jednořádkový komentář\n",
    "print(\"Opět normální řádka)\n",
    "\"\"\"A zde máme\n",
    "komentář\n",
    "na\n",
    "více\n",
    "řádků\n",
    "\"\"\"\n",
    "```\n"
   ]
  },
  {
   "cell_type": "markdown",
   "metadata": {},
   "source": [
    "### If-elif-else podmínky\n",
    "Ok, umíme tedy od uživatele převzat vstup a konvertovat ho na číslo. Předpokládejme dále, že už máme v nějaké jiné proměnné uloženo ono hádané číslo. Jak ale zjistíme, že uživatel tipnul správně? Použijeme if podmínku.\n",
    "```python\n",
    "hledane_cislo = 42\n",
    "hadane_cislo = int(input(\"Řekni číslo: \"))\n",
    "if hledane_cislo == hadane_cislo:\n",
    "    print(\"Skvělé, uhodl(a) jste hledané číslo.\")\n",
    "```\n",
    "Vidíme tedy, že je nutno napsat **if**, poté podmínku a následně dvojtečku. Na následujících řádcích se pak nalézá blok kódu, který se má v případě úspěšného splnění podmínky spustit. No jo, ale jak tento blok kódu označíme? V Pythonu se pro tento účel nepoužívají složené závorky, nýbrž odsazení - všechny řádky patřící do podmínky by měly začínat čtyřmi mezerami (anebo jedním tabulátorem, ale to se moc nepoužívá).  \n",
    "_Pozn.: tabulátory a čtyři mezery by se v rámci jednoho souboru neměly míchat. U většiny IDE vede zmáčknutí tabulátoru k vytvořenní čtyř mezer, takže tento problém nenastává. Nicméně pokud pracujete v Notepadu++, musíte si tuto funkcionalitu nastavit v Settings -> Preferences -> Language, kde v Tab Settings zaškrtnete \"Replace by space\"._ \n",
    "```python\n",
    "hledane_cislo = 42\n",
    "hadane_cislo = int(input(\"Řekni číslo: \"))\n",
    "if hledane_cislo == hadane_cislo:\n",
    "    print(\"Skvělé, uhodl(a) jste hledané číslo.\")\n",
    "    print(\"Pořád jsme ještě v ifovém bloku\")\n",
    "print(\"A teď už jsme venku\")\n",
    "```\n",
    "Pokud hráč uhodl číslo, je happy, neboť počítač si s ním povídá. Pokud se ale spletl, patrně nyní trpí depresí, neboť jeho křemíkový společník na něj nijak nereaguje. To opravíme nalepením **else** větve na ifovou kontrukci. Ta se spustí, pokud ifová podmínka splněná není.\n",
    "```python\n",
    "hledane_cislo = 42\n",
    "hadane_cislo = int(input(\"Řekni číslo: \"))\n",
    "if hledane_cislo == hadane_cislo:\n",
    "    print(\"Skvělé, uhodl(a) jste hledané číslo.\")\n",
    "else:\n",
    "    print(\"Je mi líto, netrefil jsi se.\")\n",
    "print(\"A teď už jsme venku\")\n",
    "```\n",
    "V tomhle typu her by měl dostávat hádající hráč informaci, zda je číslo, které tipoval, větší nebo menší než hádané číslo. Tj. s obyčejným **else** si nevystačíme. Nicméně o tolik složitější situace není - použije se **elif** následované zněním podmínky následované dvojitečkou a odsazeným blokem příkazů.\n",
    "```python\n",
    "hledane_cislo = 42\n",
    "hadane_cislo = int(input(\"Řekni číslo: \"))\n",
    "if hledane_cislo == hadane_cislo:\n",
    "    print(\"Skvělé, uhodl(a) jste hledané číslo.\")\n",
    "elif hledane_cislo > hadane_cislo:\n",
    "    print(\"Hledané číslo je větší než to, které jste tipoval\")\n",
    "else:\n",
    "    print(\"Hledané číslo je menší než to, které jste tipoval\")\n",
    "print(\"A teď už jsme venku\")\n",
    "```"
   ]
  },
  {
   "cell_type": "markdown",
   "metadata": {},
   "source": [
    "### While smyčky\n",
    "Hra, která by trvala pouze jedno kolo, by asi moc zábavná nebyla. Musíme nějak zařídit, aby hráč mohl tipovat tak dlouho, dokud se netrefí - anebo ho hra neomrzí. Na vyřešení tohoto problému použijeme **while** smyčku. Její zápis je podobný ifu - za klíčovým slovem následuje podmínka a dvojtečka, na následujících řádcích je blok příkazů, které se spustí, když je podmínka splněna. Po doběhnutí bloku se opět zkontroluje podmínka za whilem a pokud stále platí, blok kódu se spustí znovu.\n",
    "```python\n",
    "hledane_cislo = 42\n",
    "uhodnuto = False\n",
    "while not uhodnuto:\n",
    "    hadane_cislo = int(input(\"Řekni číslo: \"))\n",
    "    if hledane_cislo == hadane_cislo:\n",
    "        print(\"Skvělé, uhodl(a) jste hledané číslo.\")\n",
    "        uhodnuto = True\n",
    "    elif hledane_cislo > hadane_cislo:\n",
    "        print(\"Hledané číslo je větší než to, které jste tipoval\")\n",
    "    else:\n",
    "        print(\"Hledané číslo je menší než to, které jste tipoval\")\n",
    "print(\"Jsme mimo while\")\n",
    "```\n",
    "Co by měl ale člověk dělat, když se ne a ne trefit a hra ho už omrzela? Samozřejmě je možností zavřít konzoli, nebyla by tu ale přeci jen méně agresivní cesta? Inu, existuje zde možnost stisknout CTRL+C, kterážto kombinace celý program zabije.\n",
    "Přeci jen ale znalost této zkratky od uživatele nemůžeme chtít. Navíc program končící chybovou hláškou - to nevypadá dobře. Co tedy s tím? Využijeme situace, že hádáme kladné číslo. Když by tedy uživatel zareagoval na výzvu k tipnutí čísla mínus jedničkou, brali bychom to jako signál k vyskočení z teoreticky nekonečné smyčky. Toto vyskočení zrealizujeme tak, že proměnnou _uhodnuto_ položíme rovnou True, stejně jako jsme to udělali v případě správně uhodnutého čísla.\n",
    "```python\n",
    "hledane_cislo = 42\n",
    "uhodnuto = False\n",
    "while not uhodnuto:\n",
    "    hadane_cislo = int(input(\"Řekni číslo: \"))\n",
    "    if hadane_cislo == -1:\n",
    "        uhodnuto = True\n",
    "    elif hledane_cislo == hadane_cislo:\n",
    "        print(\"Skvělé, uhodl(a) jste hledané číslo.\")\n",
    "        uhodnuto = True\n",
    "    elif hledane_cislo > hadane_cislo:\n",
    "        print(\"Hledané číslo je větší než to, které jste tipoval\")\n",
    "    else:\n",
    "        print(\"Hledané číslo je menší než to, které jste tipoval\")\n",
    "print(\"Jsme mimo while\")\n",
    "```\n",
    "To je ale popravdě poněkud neelegantní - co kdybychom s tou proměnou někde dále ještě pracovali? Druhou možností je použití příkazu **break**, který udělá přesně to, co potřebujeme - vyskočí ze smyčky.\n",
    "```python\n",
    "hledane_cislo = 42\n",
    "uhodnuto = False\n",
    "while not uhodnuto:\n",
    "    hadane_cislo = int(input(\"Řekni číslo: \"))\n",
    "    if hadane_cislo == -1:\n",
    "        print(\"Uživatel chce pryč\")\n",
    "        break\n",
    "    elif hledane_cislo == hadane_cislo:\n",
    "        print(\"Skvělé, uhodl(a) jste hledané číslo.\")\n",
    "        uhodnuto = True\n",
    "    elif hledane_cislo > hadane_cislo:\n",
    "        print(\"Hledané číslo je větší než to, které jste tipoval\")\n",
    "    else:\n",
    "        print(\"Hledané číslo je menší než to, které jste tipoval\")\n",
    "print(\"Jsme mimo while\")\n",
    "```\n",
    "S breakem příbuzný příkaz je **continue**. Ten způsobí, že se dané kolo smyčky přeruší a ihned se přejde do další iterace: \n",
    "```python\n",
    "hledane_cislo = 42\n",
    "uhodnuto = False\n",
    "cislo_iterace = 0\n",
    "while not uhodnuto:\n",
    "    cislo_iterace = cislo_iterace + 1\n",
    "    print(f\"Začátek kola {cislo_iterace}\")\n",
    "    hadane_cislo = int(input(\"Řekni číslo: \"))\n",
    "    if hadane_cislo == -1:\n",
    "        print(\"Uživatel chce pryč, ale my ho nepustíme\")\n",
    "        continue\n",
    "    elif hledane_cislo == hadane_cislo:\n",
    "        print(\"Skvělé, uhodl(a) jste hledané číslo.\")\n",
    "        uhodnuto = True\n",
    "    elif hledane_cislo > hadane_cislo:\n",
    "        print(\"Hledané číslo je větší než to, které jste tipoval\")\n",
    "    else:\n",
    "        print(\"Hledané číslo je menší než to, které jste tipoval\")\n",
    "    print(f\"Konec kola {cislo_iterace}\")\n",
    "print(\"Jsme mimo while\")\n",
    "```"
   ]
  },
  {
   "cell_type": "markdown",
   "metadata": {},
   "source": [
    "### For smyčky\n",
    "No jo, ale mít na uhodnutí čísla nekonečně pokusů není žádná výzva. Měli bychom uživateli dát dejme tomu 5 možností tipnout a pokud mu to na správnou odpověď nestačí, tak hold má smůlu. Ideální pro takovéto zadání je smyčka **for**.\n",
    "**For** se obvykle používá na procházení elementů nějaké sekvence, dejme tomu listu (k tomu se ale dostaneme až za chvíli). Pakliže chceme, aby se určitý blok kódu spustil dejme tomu pětkrát za sebou, spojíme **for** s příkazem **range**:"
   ]
  },
  {
   "cell_type": "code",
   "execution_count": 8,
   "metadata": {
    "ExecuteTime": {
     "end_time": "2020-02-23T19:08:23.544990Z",
     "start_time": "2020-02-23T19:08:23.538980Z"
    }
   },
   "outputs": [
    {
     "name": "stdout",
     "output_type": "stream",
     "text": [
      "0\n",
      "1\n",
      "2\n",
      "3\n",
      "4\n"
     ]
    }
   ],
   "source": [
    "for cislo in range(5):\n",
    "    print(cislo)"
   ]
  },
  {
   "cell_type": "markdown",
   "metadata": {},
   "source": [
    "Když kód výše odpálíme, vskutku uvidíme pět čísel - od nuly do čtyř. Parametr funkce **range** totiž udává (tedy když je  ten parametr jen jeden) počet čísel v seznamu čísel začínající nulou.\n",
    "Pakliže toto použijeme na naše hádání:\n",
    "```python\n",
    "hledane_cislo = 42\n",
    "uhodnuto = False\n",
    "for cislo_iterace in range(5):\n",
    "    print(f\"Začátek kola {cislo_iterace}\")\n",
    "    hadane_cislo = int(input(\"Řekni číslo: \"))\n",
    "    if hadane_cislo == -1:\n",
    "        print(\"Uživatel chce pryč\")\n",
    "        break\n",
    "    elif hledane_cislo == hadane_cislo:\n",
    "        print(\"Skvělé, uhodl(a) jste hledané číslo.\")\n",
    "        uhodnuto = True\n",
    "        break\n",
    "    elif hledane_cislo > hadane_cislo:\n",
    "        print(\"Hledané číslo je větší než to, které jste tipoval\")\n",
    "    else:\n",
    "        print(\"Hledané číslo je menší než to, které jste tipoval\")\n",
    "    print(f\"Konec kola {cislo_iterace}\")\n",
    "print(\"Jsme mimo for\")\n",
    "```\n",
    "Defaultně **range** začíná na nule. Pokud mu ale podhodíme dva parametry, bude první z nich začátek a druhý konec:"
   ]
  },
  {
   "cell_type": "code",
   "execution_count": 9,
   "metadata": {
    "ExecuteTime": {
     "end_time": "2020-02-23T19:09:14.756621Z",
     "start_time": "2020-02-23T19:09:14.749642Z"
    }
   },
   "outputs": [
    {
     "name": "stdout",
     "output_type": "stream",
     "text": [
      "10\n",
      "11\n",
      "12\n",
      "13\n",
      "14\n"
     ]
    }
   ],
   "source": [
    "for cislo_iterace in range(10,15):\n",
    "    print(cislo_iterace)"
   ]
  },
  {
   "cell_type": "markdown",
   "metadata": {},
   "source": [
    "Pokud bychom chtěli krokovat o hodnotu větši než 1 či o zápornou hodnotu, použijeme pro to třetí parametr:"
   ]
  },
  {
   "cell_type": "code",
   "execution_count": 10,
   "metadata": {
    "ExecuteTime": {
     "end_time": "2020-02-23T19:09:16.513274Z",
     "start_time": "2020-02-23T19:09:16.506297Z"
    }
   },
   "outputs": [
    {
     "name": "stdout",
     "output_type": "stream",
     "text": [
      "Větší krok\n",
      "10\n",
      "12\n",
      "14\n",
      "Krokování zpátky\n",
      "15\n",
      "14\n",
      "13\n",
      "12\n",
      "11\n"
     ]
    }
   ],
   "source": [
    "print(\"Větší krok\")\n",
    "for cislo_iterace in range(10,15,2):\n",
    "    print(cislo_iterace)\n",
    "print(\"Krokování zpátky\") \n",
    "for cislo_iterace in range(15,10,-1):\n",
    "    print(cislo_iterace)"
   ]
  },
  {
   "cell_type": "markdown",
   "metadata": {},
   "source": [
    "### Listy a volání o pomoc\n",
    "Představme si, že bychom chtěli uchovávat informaci o tom, jaká čísla uživatel tipoval. Na to musíme použít jiný nastroj než proměnné, což jsou de facto obaly na jednou číslo či jeden řetězec. Nyní bychom rádi měli k dispozici takovou \"superproměnnou\", do které by se vešlo proměnných několik. Takovou věcí je právě list.\n",
    "\n",
    "Prázdný list vytvoříme tak, že do proměnné přiřadíme prázdné hranaté uvozovky:\n",
    "```python\n",
    "prazdny_list = []\n",
    "```\n",
    "Pakliže chceme vytvořit list obsahující několik prvků, tak ony prvni mezi závorky vložíme. V jednom listu může být současně více typů objektů, můžou se v něm vyskytovat současně jak čísla, tak řetězce, ale kupříkladu i další listy\n",
    "```python\n",
    "plny_list = [\"ahoj\", 42, [1,2,3]]\n",
    "```\n",
    "Co ale máme udělat, když chceme do listu přidat nějakou věc až po jeho vytvoření? Použijeme funkci **append**, která se vztahuje k příslušnému listu. V praxi to znamená, že napíšeme jméno listu, za něj dáme tečku následovanou slovem append a do závorek vložíme přidávaný element."
   ]
  },
  {
   "cell_type": "code",
   "execution_count": 11,
   "metadata": {
    "ExecuteTime": {
     "end_time": "2020-02-23T19:10:16.562250Z",
     "start_time": "2020-02-23T19:10:16.554272Z"
    }
   },
   "outputs": [
    {
     "name": "stdout",
     "output_type": "stream",
     "text": [
      "['prvni', 'druhy', 'treti']\n"
     ]
    }
   ],
   "source": [
    "priklad_pridavani = [\"prvni\", \"druhy\"]\n",
    "priklad_pridavani.append(\"treti\")\n",
    "print(priklad_pridavani)"
   ]
  },
  {
   "cell_type": "markdown",
   "metadata": {},
   "source": [
    "Do listu jsme nějaké prvky umístili, jak je ale dostaneme ven? Přesněji - jak dostaneme první, druhý, poslední prvek? Elementy listů jsou číslované. Zrada spočívá v tom, že od nuly, tj. první prvek má index nula. Když ho tedy chceme získat, napíšeme "
   ]
  },
  {
   "cell_type": "code",
   "execution_count": 12,
   "metadata": {
    "ExecuteTime": {
     "end_time": "2020-02-23T19:10:19.623814Z",
     "start_time": "2020-02-23T19:10:19.615836Z"
    }
   },
   "outputs": [
    {
     "name": "stdout",
     "output_type": "stream",
     "text": [
      "První prvek je AAA\n",
      "Druhý prvek je BBB\n",
      "Třetí prvek je CCC\n"
     ]
    }
   ],
   "source": [
    "priklad_pridavani = [\"AAA\", \"BBB\", \"CCC\"]\n",
    "print(f\"První prvek je {priklad_pridavani[0]}\")\n",
    "print(f\"Druhý prvek je {priklad_pridavani[1]}\")\n",
    "print(f\"Třetí prvek je {priklad_pridavani[2]}\")"
   ]
  },
  {
   "cell_type": "markdown",
   "metadata": {},
   "source": [
    "Problém nastave v okamžiku, kdy se skrze index pokoušíme dostat na element, který v listu není:"
   ]
  },
  {
   "cell_type": "code",
   "execution_count": 13,
   "metadata": {
    "ExecuteTime": {
     "end_time": "2020-02-23T19:10:23.026749Z",
     "start_time": "2020-02-23T19:10:23.007800Z"
    }
   },
   "outputs": [
    {
     "ename": "IndexError",
     "evalue": "list index out of range",
     "output_type": "error",
     "traceback": [
      "\u001B[1;31m---------------------------------------------------------------------------\u001B[0m",
      "\u001B[1;31mIndexError\u001B[0m                                Traceback (most recent call last)",
      "\u001B[1;32m<ipython-input-13-8223a0d4e9b7>\u001B[0m in \u001B[0;36m<module>\u001B[1;34m\u001B[0m\n\u001B[0;32m      1\u001B[0m \u001B[0mpriklad_pridavani\u001B[0m \u001B[1;33m=\u001B[0m \u001B[1;33m[\u001B[0m\u001B[1;34m\"AAA\"\u001B[0m\u001B[1;33m,\u001B[0m \u001B[1;34m\"BBB\"\u001B[0m\u001B[1;33m,\u001B[0m \u001B[1;34m\"CCC\"\u001B[0m\u001B[1;33m]\u001B[0m\u001B[1;33m\u001B[0m\u001B[1;33m\u001B[0m\u001B[0m\n\u001B[1;32m----> 2\u001B[1;33m \u001B[0mprint\u001B[0m\u001B[1;33m(\u001B[0m\u001B[1;34mf\"Neexistující prvek je {priklad_pridavani[3]}\"\u001B[0m\u001B[1;33m)\u001B[0m\u001B[1;33m\u001B[0m\u001B[1;33m\u001B[0m\u001B[0m\n\u001B[0m",
      "\u001B[1;31mIndexError\u001B[0m: list index out of range"
     ]
    }
   ],
   "source": [
    "priklad_pridavani = [\"AAA\", \"BBB\", \"CCC\"]\n",
    "print(f\"Neexistující prvek je {priklad_pridavani[3]}\")"
   ]
  },
  {
   "cell_type": "markdown",
   "metadata": {},
   "source": [
    "Co ale máme dělat, když se chceme dostat k poslednímu prvku - spočítat počet prvků listu a pak chtít index o jedna menší? Taky by to šlo, existuje ale čistější varianta - chtít index, u kterého číslu jedna předchází znaménko mínus."
   ]
  },
  {
   "cell_type": "code",
   "execution_count": 1,
   "metadata": {
    "ExecuteTime": {
     "end_time": "2020-02-23T18:57:29.881927Z",
     "start_time": "2020-02-23T18:57:29.870957Z"
    }
   },
   "outputs": [
    {
     "name": "stdout",
     "output_type": "stream",
     "text": [
      "Poslední prvek je CCC\n"
     ]
    }
   ],
   "source": [
    "priklad_pridavani = [\"AAA\", \"BBB\", \"CCC\"]\n",
    "print(f\"Poslední prvek je {priklad_pridavani[-1]}\")"
   ]
  },
  {
   "cell_type": "markdown",
   "metadata": {},
   "source": [
    "Se stávajícími informacemi už můžeme náš program o sběr tipovaných hodnot obohatit:\n",
    "```python\n",
    "hledane_cislo = 42\n",
    "tipovani = []\n",
    "uhodnuto = False\n",
    "for cislo_iterace in range(5):\n",
    "\n",
    "    print(f\"Začátek kola {cislo_iterace+1}\")\n",
    "    hadane_cislo = int(input(\"Řekni číslo: \"))\n",
    "    if hadane_cislo == -1:\n",
    "        print(\"Uživatel chce pryč\")\n",
    "        break\n",
    "    tipovani.append(hadane_cislo)\n",
    "    if hledane_cislo == hadane_cislo:\n",
    "        print(\"Skvělé, uhodl(a) jste hledané číslo.\")\n",
    "        uhodnuto = True\n",
    "        break\n",
    "    elif hledane_cislo > hadane_cislo:\n",
    "        print(\"Hledané číslo je větší než to, které jste tipoval\")\n",
    "    else:\n",
    "        print(\"Hledané číslo je menší než to, které jste tipoval\")\n",
    "print(\"Seznam tipnutých čísel:\")\n",
    "print(tipovani)\n",
    "```"
   ]
  },
  {
   "cell_type": "markdown",
   "metadata": {},
   "source": [
    "Co ale s listy dělat dalšího? U foru jsme zmiňovali, že jeho nejpřirozenějším použitím je postupné vybírání prvků z nějaké množiny hodnot. Tento popis ale na listy přesně sedí! Lze tedy použít následující:"
   ]
  },
  {
   "cell_type": "code",
   "execution_count": 2,
   "metadata": {
    "ExecuteTime": {
     "end_time": "2020-02-23T18:57:30.052200Z",
     "start_time": "2020-02-23T18:57:29.884919Z"
    }
   },
   "outputs": [
    {
     "name": "stdout",
     "output_type": "stream",
     "text": [
      "jedna\n",
      "dva\n",
      "tři\n",
      "čtyři\n"
     ]
    }
   ],
   "source": [
    "list_pro_for = [\"jedna\", \"dva\",\"tři\", \"čtyři\"]\n",
    "for element in list_pro_for:\n",
    "    print(element)"
   ]
  },
  {
   "cell_type": "markdown",
   "metadata": {},
   "source": [
    "Existují situace, kdy bychom chtěli mít k dispozici jak hodnotu daného prvku, tak pořadí, ve kterém jsme daný prvek z listu vytáhli. K tomu lze použít enumerate, se kterým se zachází takto:"
   ]
  },
  {
   "cell_type": "code",
   "execution_count": 3,
   "metadata": {
    "ExecuteTime": {
     "end_time": "2020-02-23T18:57:30.199671Z",
     "start_time": "2020-02-23T18:57:30.058179Z"
    }
   },
   "outputs": [
    {
     "name": "stdout",
     "output_type": "stream",
     "text": [
      "Na indexu 0 je prvek 'jedna'\n",
      "Na indexu 1 je prvek 'dva'\n",
      "Na indexu 2 je prvek 'tři'\n",
      "Na indexu 3 je prvek 'čtyři'\n"
     ]
    }
   ],
   "source": [
    "list_pro_for = [\"jedna\", \"dva\",\"tři\", \"čtyři\"]\n",
    "for index, element in enumerate(list_pro_for):\n",
    "    print(f\"Na indexu {index} je prvek '{element}'\")"
   ]
  },
  {
   "cell_type": "markdown",
   "metadata": {},
   "source": [
    "Zde by bylo na místě podotknout, že pro zjišťování přítomnosti určitého elementu v listu nemusíme používat for a porovnávání hledaného řetězce s každým prvkem. Existuje totiž mnohem jednodušší varianta:"
   ]
  },
  {
   "cell_type": "code",
   "execution_count": 4,
   "metadata": {
    "ExecuteTime": {
     "end_time": "2020-02-23T18:57:30.327448Z",
     "start_time": "2020-02-23T18:57:30.206690Z"
    }
   },
   "outputs": [
    {
     "name": "stdout",
     "output_type": "stream",
     "text": [
      "True\n"
     ]
    }
   ],
   "source": [
    "list_pro_for = [\"jedna\", \"dva\",\"tři\", \"čtyři\"]\n",
    "bool_ctyri_in_list = (\"čtyři\" in list_pro_for)\n",
    "print(bool_ctyri_in_list)"
   ]
  },
  {
   "cell_type": "markdown",
   "metadata": {},
   "source": [
    "K listu je připojených více funkcí než pouze **append**. Co má ale člověk dělat, když si jejich jména nepamatuje a Google z nějakého důvodu přestal fungovat? Řešením je funkce **dir**. Do té se vloží libovolný objekt a ona nám pak ukáže všechny parametry a funkce na daný objekt napojené. V tento okamžik prosím ignorujte věci obklopené dvojicí podtržítkem - k nim se dostaneme v nějakém dalším workshopu."
   ]
  },
  {
   "cell_type": "code",
   "execution_count": 5,
   "metadata": {
    "ExecuteTime": {
     "end_time": "2020-02-23T18:57:30.442609Z",
     "start_time": "2020-02-23T18:57:30.330406Z"
    }
   },
   "outputs": [
    {
     "name": "stdout",
     "output_type": "stream",
     "text": [
      "['__add__', '__class__', '__contains__', '__delattr__', '__delitem__', '__dir__', '__doc__', '__eq__', '__format__', '__ge__', '__getattribute__', '__getitem__', '__gt__', '__hash__', '__iadd__', '__imul__', '__init__', '__init_subclass__', '__iter__', '__le__', '__len__', '__lt__', '__mul__', '__ne__', '__new__', '__reduce__', '__reduce_ex__', '__repr__', '__reversed__', '__rmul__', '__setattr__', '__setitem__', '__sizeof__', '__str__', '__subclasshook__', 'append', 'clear', 'copy', 'count', 'extend', 'index', 'insert', 'pop', 'remove', 'reverse', 'sort']\n"
     ]
    }
   ],
   "source": [
    "nejaky_list = []\n",
    "print(dir(nejaky_list))"
   ]
  },
  {
   "cell_type": "markdown",
   "metadata": {},
   "source": [
    "No jo, jenže ono sice člověka zahřeje na duši, že listy maji například funkci remove, ale k čemu nám to je, když nevíme, co daná funkce vlastně dělá? Naštěstí stačí použít funkci **help**, která bude mít jako parametr náš list s tou funkcí, o které si přejeme vědět více."
   ]
  },
  {
   "cell_type": "code",
   "execution_count": 6,
   "metadata": {
    "ExecuteTime": {
     "end_time": "2020-02-23T18:57:30.587081Z",
     "start_time": "2020-02-23T18:57:30.449589Z"
    }
   },
   "outputs": [
    {
     "name": "stdout",
     "output_type": "stream",
     "text": [
      "Help on built-in function remove:\n",
      "\n",
      "remove(value, /) method of builtins.list instance\n",
      "    Remove first occurrence of value.\n",
      "    \n",
      "    Raises ValueError if the value is not present.\n",
      "\n"
     ]
    }
   ],
   "source": [
    "nejaky_list = []\n",
    "help(nejaky_list.remove)"
   ]
  },
  {
   "cell_type": "markdown",
   "metadata": {},
   "source": [
    "Krátce se zmiňme ještě o bratrancích listů - o tuplech. Na první pohled vypadají jako listy, akorát s kruhovými závorkami."
   ]
  },
  {
   "cell_type": "code",
   "execution_count": 7,
   "metadata": {
    "ExecuteTime": {
     "end_time": "2020-02-23T18:57:30.692021Z",
     "start_time": "2020-02-23T18:57:30.592057Z"
    }
   },
   "outputs": [
    {
     "name": "stdout",
     "output_type": "stream",
     "text": [
      "Třetí prvek tuplu 'plny_tuple' : 'hodně'.\n"
     ]
    }
   ],
   "source": [
    "prazdny_tuple = ()\n",
    "plny_tuple = (1,2, \"hodně\")\n",
    "print(f\"Třetí prvek tuplu 'plny_tuple' : '{plny_tuple[2]}'.\")"
   ]
  },
  {
   "cell_type": "markdown",
   "metadata": {},
   "source": [
    "Rozdílné chování pozorujeme při pokusech do tuplu po jeho vytvoření přidat prvek anebo stávající prvek upravit - takovéto operace skončí chybou. Koneckonců vypusťne na libovolný tuple funkci dir - uvidíte, že na něj nic jako append navázané není. "
   ]
  },
  {
   "cell_type": "markdown",
   "metadata": {},
   "source": [
    "Nakonec by měly být zmíněny i slovníky (de facto mapy). Popravdě mne však nyní nenapadá, jak je zakomponovat do vytvářeného programu, tudíž se omezím jen na stručný popis jejich fungování.\n",
    "Když chceme vytvořit prázdný slovník, postupujeme podobně jako při vytváření prázdného listu, pouze hranaté závorky nahradíme závorkami složenými.\n",
    "```python\n",
    "prazdny_slovnik = {}\n",
    "```\n",
    "Pokud chceme slovník vytvořit s nějakými iniciálními hodnotami, vložíme je do něj ve fromátu klíč: hodnota. To fakticky vypadá nějak takhle:"
   ]
  },
  {
   "cell_type": "code",
   "execution_count": 5,
   "metadata": {
    "ExecuteTime": {
     "end_time": "2020-03-11T18:48:58.574896Z",
     "start_time": "2020-03-11T18:48:58.569908Z"
    }
   },
   "outputs": [
    {
     "data": {
      "text/plain": [
       "{'id': 123, 'jméno': 'Franta Vomáčka', 'známky': [1, 2, 3, 2, 5, 1]}"
      ]
     },
     "execution_count": 5,
     "metadata": {},
     "output_type": "execute_result"
    }
   ],
   "source": [
    "plny_slovnik = {\"id\":123, \"jméno\": \"Franta Vomáčka\", \"známky\": [1,2,3,2,5,1]}\n",
    "plny_slovnik"
   ]
  },
  {
   "cell_type": "markdown",
   "metadata": {},
   "source": [
    "Pokud chceme ze slovníku získat hodnotu, vložíme za jeho jméno do hranaté závorky klíč:"
   ]
  },
  {
   "cell_type": "code",
   "execution_count": 6,
   "metadata": {
    "ExecuteTime": {
     "end_time": "2020-03-11T18:48:59.452557Z",
     "start_time": "2020-03-11T18:48:59.447531Z"
    }
   },
   "outputs": [
    {
     "data": {
      "text/plain": [
       "[1, 2, 3, 2, 5, 1]"
      ]
     },
     "execution_count": 6,
     "metadata": {},
     "output_type": "execute_result"
    }
   ],
   "source": [
    "plny_slovnik[\"známky\"]"
   ]
  },
  {
   "cell_type": "markdown",
   "metadata": {},
   "source": [
    "Pro přidání nového páru klíč-hodnota položíme název slovníku následovaný novým klíčem v hranatých závorkách rovný nové hodnotě. "
   ]
  },
  {
   "cell_type": "code",
   "execution_count": 7,
   "metadata": {
    "ExecuteTime": {
     "end_time": "2020-03-11T18:53:24.944948Z",
     "start_time": "2020-03-11T18:53:24.938963Z"
    }
   },
   "outputs": [
    {
     "data": {
      "text/plain": [
       "{'id': 123,\n",
       " 'jméno': 'Franta Vomáčka',\n",
       " 'známky': [1, 2, 3, 2, 5, 1],\n",
       " 'něco': 'tralala'}"
      ]
     },
     "execution_count": 7,
     "metadata": {},
     "output_type": "execute_result"
    }
   ],
   "source": [
    "plny_slovnik[\"něco\"] = \"tralala\"\n",
    "plny_slovnik"
   ]
  },
  {
   "cell_type": "markdown",
   "metadata": {},
   "source": [
    "Naopak na odstranění záznamu se použije del:"
   ]
  },
  {
   "cell_type": "code",
   "execution_count": 8,
   "metadata": {
    "ExecuteTime": {
     "end_time": "2020-03-11T18:57:41.805146Z",
     "start_time": "2020-03-11T18:57:41.797205Z"
    }
   },
   "outputs": [
    {
     "data": {
      "text/plain": [
       "{'id': 123, 'jméno': 'Franta Vomáčka', 'známky': [1, 2, 3, 2, 5, 1]}"
      ]
     },
     "execution_count": 8,
     "metadata": {},
     "output_type": "execute_result"
    }
   ],
   "source": [
    "del plny_slovnik[\"něco\"] \n",
    "plny_slovnik"
   ]
  },
  {
   "cell_type": "markdown",
   "metadata": {},
   "source": [
    "Nakonec pokud bychom pro něco potřebovali seznam všech klíčů, hodnot či párů klíč-hodnota, lze použít"
   ]
  },
  {
   "cell_type": "code",
   "execution_count": 9,
   "metadata": {
    "ExecuteTime": {
     "end_time": "2020-03-11T18:59:27.849082Z",
     "start_time": "2020-03-11T18:59:27.844096Z"
    }
   },
   "outputs": [
    {
     "name": "stdout",
     "output_type": "stream",
     "text": [
      "dict_keys(['id', 'jméno', 'známky'])\n",
      "dict_values([123, 'Franta Vomáčka', [1, 2, 3, 2, 5, 1]])\n",
      "dict_items([('id', 123), ('jméno', 'Franta Vomáčka'), ('známky', [1, 2, 3, 2, 5, 1])])\n"
     ]
    }
   ],
   "source": [
    "print(plny_slovnik.keys())\n",
    "print(plny_slovnik.values())\n",
    "print(plny_slovnik.items())"
   ]
  },
  {
   "cell_type": "markdown",
   "metadata": {},
   "source": [
    "### Balíčky\n",
    "Vraťme se ale zpátky k naší hře. Ta je prakticky hotová - až na jeden drobný detail. Jakmile hráč jednou číslo uhodne, nemá důvod hrát dále, neboť odpověd už zná. Bylo by tedy pěkné, kdyby se hledané číslo při každém startu hry náhodně nastavilo. Jak toho ale dosáhnout?\n",
    "Po spuštění python.exe můžeme používat několik funkcí - například **print** a **input**. I čistý Python ale obsahuje celou řadu knihoven - balíčků, ve kterých se nalézají funkce dodatečné. Jednou z nich je funkce **randint** generující náhodná celá čísla, která se nachází v balíčků **random**.\n",
    "Když tuto funkci chceme použít, musíme nejdříva naimportovat její domovský balíček. To se dělá pomocí slova **import**, za kterým následuje jméno balíčku. Z důvodu přehlednosti by se všechny importy měly nalézat na začátku pythoního skriptu. Pro samotné použití funkce se na odpovídající místo v kódu napíše jméno balíčku následované tečkou a funkcí s parametry. Možností jak používat **import** je pravda trochu více, ale tím vás nyní nebudu zatěžovat.\n",
    "```python\n",
    "import random\n",
    "\n",
    "hledane_cislo = random.randint(1,100)\n",
    "uhodnuto = False\n",
    "for cislo_iterace in range(5):\n",
    "    print(f\"Začátek kola {cislo_iterace+1}\")\n",
    "    hadane_cislo = int(input(\"Řekni číslo: \"))\n",
    "    if hadane_cislo == -1:\n",
    "        print(\"Uživatel chce pryč\")\n",
    "        break\n",
    "    elif hledane_cislo == hadane_cislo:\n",
    "        print(\"Skvělé, uhodl(a) jste hledané číslo.\")\n",
    "        uhodnuto = True\n",
    "        break\n",
    "    elif hledane_cislo > hadane_cislo:\n",
    "        print(\"Hledané číslo je větší než to, které jste tipoval\")\n",
    "    else:\n",
    "        print(\"Hledané číslo je menší než to, které jste tipoval\")\n",
    "print(\"Jsme mimo for\")\n",
    "if not uhodnuto:\n",
    "    print(f\"Hledané číslo bylo {hledane_cislo}\")\n",
    "```"
   ]
  },
  {
   "cell_type": "code",
   "execution_count": 14,
   "metadata": {
    "ExecuteTime": {
     "end_time": "2020-02-23T19:13:18.796844Z",
     "start_time": "2020-02-23T19:13:13.907180Z"
    }
   },
   "outputs": [
    {
     "name": "stdout",
     "output_type": "stream",
     "text": [
      "Začátek iterace 0\n",
      "Řekni číslo: 12\n",
      "Hledané číslo je větší než to, které jste tipoval\n",
      "Konec iterace 0\n",
      "Začátek iterace 1\n",
      "Řekni číslo: 15\n",
      "Hledané číslo je větší než to, které jste tipoval\n",
      "Konec iterace 1\n",
      "Začátek iterace 2\n",
      "Řekni číslo: -1\n",
      "Uživatel chce pryč\n",
      "Jsme mimo for\n"
     ]
    }
   ],
   "source": [
    "import random\n",
    "\n",
    "hledane_cislo = random.randint(1,100)\n",
    "uhodnuto = False\n",
    "for cislo_iterace in range(5):\n",
    "    print(f\"Začátek iterace {cislo_iterace}\")\n",
    "    hadane_cislo = int(input(\"Řekni číslo: \"))\n",
    "    if hadane_cislo == -1:\n",
    "        print(\"Uživatel chce pryč\")\n",
    "        break\n",
    "    elif hledane_cislo == hadane_cislo:\n",
    "        print(\"Skvělé, uhodl(a) jste hledané číslo.\")\n",
    "        uhodnuto = True\n",
    "        break\n",
    "    elif hledane_cislo > hadane_cislo:\n",
    "        print(\"Hledané číslo je větší než to, které jste tipoval\")\n",
    "    else:\n",
    "        print(\"Hledané číslo je menší než to, které jste tipoval\")\n",
    "    print(f\"Konec iterace {cislo_iterace}\")\n",
    "print(\"Jsme mimo for\")"
   ]
  },
  {
   "cell_type": "markdown",
   "metadata": {},
   "source": [
    "### Funkce\n",
    "Představme si, že bychom chtěli hru trochu graficky vylepšit, aby na příslušných místech ukazovala veselý anebo smutný obličej. Výsledek by vypadal asi takto:\n",
    "```python\n",
    "import random\n",
    "\n",
    "hledane_cislo = random.randint(1,100)\n",
    "\n",
    "for cislo_iterace in range(5):\n",
    "    \n",
    "    print(f\"Začátek kola {cislo_iterace+1}\")\n",
    "    hadane_cislo = int(input(\"Řekni číslo: \"))\n",
    "    if hadane_cislo == -1:\n",
    "        print(\"Uživatel chce pryč\")\n",
    "        print(\"-------\")\n",
    "        print(\"| O O |\")\n",
    "        print(\"|     |\")\n",
    "        print(\"| --- |\")  \n",
    "        break\n",
    "    elif hledane_cislo == hadane_cislo:\n",
    "        print(\"Skvělé, uhodl(a) jste hledané číslo.\")\n",
    "        print(\"-------\")\n",
    "        print(\"| O O |\")\n",
    "        print(\"|     |\")\n",
    "        print(\"| \\_/ |\")\n",
    "        break\n",
    "    elif hledane_cislo > hadane_cislo:\n",
    "        print(\"Hledané číslo je větší než to, které jste tipoval\")\n",
    "        print(\"-------\")\n",
    "        print(\"| O O |\")\n",
    "        print(\"|     |\")\n",
    "        print(\"| --- |\")  \n",
    "    else:\n",
    "        print(\"Hledané číslo je menší než to, které jste tipoval\")\n",
    "        print(\"-------\")\n",
    "        print(\"| O O |\")\n",
    "        print(\"|     |\")\n",
    "        print(\"| --- |\")  \n",
    "print(\"Jsme mimo for\")\n",
    "if not uhodnuto:\n",
    "    print(f\"Hledané číslo bylo {hledane_cislo}\")\n",
    "```\n",
    "Jaký je s takovýmto kódem problém? Představme si, že bychom dostali dodatečné zadání, aby měly šťastný i smutný smajlík nosy. V ten okamžik bychom museli kvůli jedné věci provádět totožnou akci na čtyřech místech v kódu. V příkladě výše to je asi jedno, nicméně v reálném kódu by to znamenalo zvýšené riziko zavlečení chyb anebo toho, že bychom jednu ze změn zapomenuli provést.\n",
    "Co s tím? Vytvoříme si vlastní funkci. Její definice začíná slovem **def**, následuje jméno funkce a závorky s případnými parametry - sem se píšou názvy parametrů, typy parametrů (tj. jestli se jedná o integer či string) nejsou třeba. Následuje odsazený blok příkazů definující, co daná funkce vlastně dělá. Pakliže funkce vrací nějakou hodnotu, měla by obsahovat slovo **return** následované právě onou hodnotou. \n",
    "Příklad funkcí, které nepřijímají žádný parametr a nic nevrací:\n",
    "```python\n",
    "import random\n",
    "\n",
    "def happy_smajlik():\n",
    "    \"\"\"Vytiskne veseleho smajlika.\n",
    "    \"\"\"\n",
    "    print(\"-------\")\n",
    "    print(\"| O O |\")\n",
    "    print(\"|     |\")\n",
    "    print(\"| \\_/ |\")\n",
    "    \n",
    "def sad_sajlik():\n",
    "    \"\"\"Vytiskne smutneho smajlika.\n",
    "    \"\"\"\n",
    "    print(\"-------\")\n",
    "    print(\"| O O |\")\n",
    "    print(\"|     |\")\n",
    "    print(\"| --- |\")    \n",
    "\n",
    "hledane_cislo = random.randint(1,100)\n",
    "uhodnuto = False\n",
    "for cislo_iterace in range(5):\n",
    "    \n",
    "    print(f\"Začátek kola {cislo_iterace+1}\")\n",
    "    hadane_cislo = int(input(\"Řekni číslo: \"))\n",
    "    if hadane_cislo == -1:\n",
    "        print(\"Uživatel chce pryč\")\n",
    "        sad_sajlik()\n",
    "        break\n",
    "    elif hledane_cislo == hadane_cislo:\n",
    "        print(\"Skvělé, uhodl(a) jste hledané číslo.\")\n",
    "        happy_smajlik()\n",
    "        uhodnuto = True\n",
    "        break\n",
    "    elif hledane_cislo > hadane_cislo:\n",
    "        print(\"Hledané číslo je větší než to, které jste tipoval\")\n",
    "        sad_sajlik()\n",
    "    else:\n",
    "        print(\"Hledané číslo je menší než to, které jste tipoval\")\n",
    "        sad_sajlik()\n",
    "print(\"Jsme mimo for\")\n",
    "if not uhodnuto:\n",
    "    print(f\"Hledané číslo bylo {hledane_cislo}\")\n",
    "```\n",
    "To, že máme dvě funkce dělající prakticky totéž, není moc šťastné. Sloučme je tedy s tím, že tvar pusy smajlíka bude určovat vstupní parametr funkce.\n",
    "```python\n",
    "import random\n",
    "\n",
    "def vytiskni_smajlika(je_vesely):\n",
    "    \"\"\"Vytiskne smajlika.\n",
    "    \"\"\"\n",
    "    print(\"-------\")\n",
    "    print(\"| O O |\")\n",
    "    print(\"|     |\")\n",
    "    if je_vesely:\n",
    "        print(\"| \\_/ |\")\n",
    "    else:\n",
    "        print(\"| --- |\")\n",
    "\n",
    "hledane_cislo = random.randint(1,100)\n",
    "uhodnuto = False\n",
    "for cislo_iterace in range(5):\n",
    "    \n",
    "    print(f\"Začátek kola {cislo_iterace+1}\")\n",
    "    hadane_cislo = int(input(\"Řekni číslo: \"))\n",
    "    if hadane_cislo == -1:\n",
    "        print(\"Uživatel chce pryč\")\n",
    "        vytiskni_smajlika(False)\n",
    "        break\n",
    "    elif hledane_cislo == hadane_cislo:\n",
    "        print(\"Skvělé, uhodl(a) jste hledané číslo.\")\n",
    "        vytiskni_smajlika(True)\n",
    "        uhodnuto = True\n",
    "        break\n",
    "    elif hledane_cislo > hadane_cislo:\n",
    "        print(\"Hledané číslo je větší než to, které jste tipoval\")\n",
    "        vytiskni_smajlika(False)\n",
    "    else:\n",
    "        print(\"Hledané číslo je menší než to, které jste tipoval\")\n",
    "        vytiskni_smajlika(False)\n",
    "print(\"Jsme mimo for\")\n",
    "if not uhodnuto:\n",
    "    print(f\"Hledané číslo bylo {hledane_cislo}\")\n",
    "```\n",
    "Co kdybychom ale chtěli smajlíka tisknout v mateřském programu a ne ve funkci, od které bychom očekávali, že smajlíka vrátí coby list stringů??\n",
    "```python\n",
    "import random\n",
    "\n",
    "def vytiskni_smajlika(je_vesely):\n",
    "    \"\"\"Vytiskne smajlika.\n",
    "    \"\"\"\n",
    "    smajlik = []\n",
    "    smajlik.append(\"-------\")\n",
    "    smajlik.append(\"| O O |\")\n",
    "    smajlik.append(\"|     |\")\n",
    "    if je_vesely:\n",
    "        smajlik.append(\"| \\_/ |\")\n",
    "    else:\n",
    "        smajlik.append(\"| --- |\")\n",
    "    return smajlik\n",
    "\n",
    "hledane_cislo = random.randint(1,100)\n",
    "uhodnuto = False\n",
    "for cislo_iterace in range(5):\n",
    "    \n",
    "    print(f\"Začátek kola {cislo_iterace+1}\")\n",
    "    hadane_cislo = int(input(\"Řekni číslo: \"))\n",
    "    if hadane_cislo == -1:\n",
    "        print(\"Uživatel chce pryč\")\n",
    "        smajlik = vytiskni_smajlika(False)\n",
    "        for radek in smajlik:\n",
    "            print(radek)\n",
    "        break\n",
    "    elif hledane_cislo == hadane_cislo:\n",
    "        print(\"Skvělé, uhodl(a) jste hledané číslo.\")\n",
    "        smajlik = vytiskni_smajlika(True)\n",
    "        for radek in smajlik:\n",
    "            print(radek)\n",
    "        uhodnuto = True\n",
    "        break\n",
    "    elif hledane_cislo > hadane_cislo:\n",
    "        print(\"Hledané číslo je větší než to, které jste tipoval\")\n",
    "        smajlik = vytiskni_smajlika(False)\n",
    "        for radek in smajlik:\n",
    "            print(radek)\n",
    "    else:\n",
    "        print(\"Hledané číslo je menší než to, které jste tipoval\")\n",
    "        smajlik = vytiskni_smajlika(False)\n",
    "        for radek in smajlik:\n",
    "            print(radek)\n",
    "print(\"Jsme mimo for\")\n",
    "if not uhodnuto:\n",
    "    print(f\"Hledané číslo bylo {hledane_cislo}\")\n",
    "```\n",
    "Tohle popravdě není moc šťastné řešení, neboť se tu zbytečně opakuje totožná for smyčka. Nicméně k demonstraci returnu to snad postačuje."
   ]
  }
 ],
 "metadata": {
  "kernelspec": {
   "display_name": "Python 3 (ipykernel)",
   "language": "python",
   "name": "python3"
  },
  "language_info": {
   "codemirror_mode": {
    "name": "ipython",
    "version": 3
   },
   "file_extension": ".py",
   "mimetype": "text/x-python",
   "name": "python",
   "nbconvert_exporter": "python",
   "pygments_lexer": "ipython3",
   "version": "3.10.11"
  },
  "varInspector": {
   "cols": {
    "lenName": 16,
    "lenType": 16,
    "lenVar": 40
   },
   "kernels_config": {
    "python": {
     "delete_cmd_postfix": "",
     "delete_cmd_prefix": "del ",
     "library": "var_list.py",
     "varRefreshCmd": "print(var_dic_list())"
    },
    "r": {
     "delete_cmd_postfix": ") ",
     "delete_cmd_prefix": "rm(",
     "library": "var_list.r",
     "varRefreshCmd": "cat(var_dic_list()) "
    }
   },
   "types_to_exclude": [
    "module",
    "function",
    "builtin_function_or_method",
    "instance",
    "_Feature"
   ],
   "window_display": false
  }
 },
 "nbformat": 4,
 "nbformat_minor": 4
}
