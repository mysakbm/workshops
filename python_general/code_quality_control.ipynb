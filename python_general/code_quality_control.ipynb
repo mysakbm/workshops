{
 "cells": [
  {
   "cell_type": "markdown",
   "id": "ae3d55f3-413a-40b6-bca6-21d3590ae646",
   "metadata": {},
   "source": [
    "# Kvalita kódu\n",
    "Většina poznámek, které nalezneme v tomto repozitáři, se točí kolem otázky jak něco udělat. Text, který právě čteme, má zaměření jiné - věnuje se kvalitě kódu a jeho udržitelnosti. Tj. jde nám o to, jak napsat kód tak, aby se v něm některý náš kolega (anebo třeba i my sami po půl roce) vyznal a aby byl kód co možná nejméně náročný na údržbu. "
   ]
  },
  {
   "cell_type": "markdown",
   "id": "9f7c216c-237a-4f49-bb88-08900588866e",
   "metadata": {},
   "source": [
    "# Obsah\n",
    "- [Virtuální prostředí](#Virtuální-prostředí)  \n",
    "- [Requirements](#Requirements)  \n",
    "- [PEP 8](#PEP-8)  \n",
    "  - [Black](#Black)  \n",
    "  - [Yapf](#Yapf)  \n",
    "  - [Pylint](#Pylint)  \n",
    "  - [Flake8](#Flake8)  \n",
    "- [Typové anotace a mypy](#Typové-anotace-a-mypy)  \n",
    "- [Pydantic](#Pydantic)  \n",
    "- [Docstringy](#Docstringy)  \n",
    "- [Bandit](#Bandit)\n",
    "- [Github Actions](#Github-Actions)"
   ]
  },
  {
   "cell_type": "markdown",
   "id": "18a6cf0c-b596-493c-9adc-4eef10f78fce",
   "metadata": {},
   "source": [
    "## Virtuální prostředí\n",
    "Člověku nic nebrání nainstalovat si nejprve Python a potom skrze pip i různorodé balíčky. Dřív nebo později ale dojde k situaci, kdy projekt A potřebuje balíček o verzi 0.20 a ne novější, zatímco projekt B stojí a padá s totožným balíčkem, ale ve verzi 1.25 a ne starší. Co s tím potom dělat? V závislosti na úloze, na které programátor zrovna pracuje, balíčky přeinstalovávat? Z toho by byl jen jeden velký zmatek a ještě by se přitom mohly nabořit verze dalších balíčků. Správně řešení spočívá ve využití virtuálních prostředí.  \n",
    "Virtuální prostředí vytvoříme příkazem (puštěným v příkazovém řádku)\n",
    "```\n",
    "python -m venv environment\n",
    "```\n",
    "Zde říkáme \"hlavní\" instalaci pythonu, že chceme pustit balíček [venv](https://docs.python.org/3/library/venv.html) jako skript (proto parametr -m) s parametrem environment. Environment zde nereprezentuje klíčové slovo, ale jméno nového virtuálního prostředí a současně adresáře, který vznikne v pracovním adresáři příkazového řádku. Následně se do nově vytvořeného virtuálního prostředí přepneme příkazem\n",
    "```\n",
    "environment\\Scripts\\activate\n",
    "```\n",
    "resp. pokud jsme na Linuxu a nikoli na Windowsech\n",
    "```\n",
    "source environment\\bin\\activate\n",
    "```\n",
    "V tento okamžik už se příkazy **python** a **pip** nebudou vázat na python.exe a pip.exe bydlící v instalačním adresáři Pythonu, nýbrž na stejnojmené exe soubory ležící ve virtuálním prostředí. Když budeme nyní instalovat balíčky, uloží se (a budou viditelné v) jen do aktivního virtuálního prostředí a nebudou nijak interferovat s obsahem jiných virtuálních prostředí anebo s balíčky nainstalovanými v rámci základní pythoní instalace. Pokud chceme virtuální prostředí opustit, napíšeme do konzole příkaz\n",
    "```\n",
    "deactivate\n",
    "```\n",
    "Nikdy do adresáře environment (resp. jeho ekvivalentu, pokud jsme zvolili jiné jméno) explicitně neukládáme vlastní soubory. Onen adresář se totiž neverzuje (je na to moc velký a nic důležitého, co by nebylo jinde, v něm není). I kdybychom chtěli adresář překopírovat či přesunout, raději to nedělejme - lepší je vytvořit nové identické virtuální prostředí (při přesunu by se mohla nabořit vazba s mateřskou instalací).  \n",
    "Virtuální prostředí mají ze svého principu jednu nevýhodu - pokud nějaký balíček potřebujeme v několika z nich, musíme ho do každého prostředí nainstalovat. To ve výsledku znamená, že se nám po nějaké době nemusí dostávat místo na disku. Proto může být účelné prostředí v nepoužívaných projektech vymazat s tím, že v případě nutnosti ona prostředí znovuvytvoříme s pomocí requirements souborů.\n",
    "\n",
    "## Requirements\n",
    "Soubor requirements.txt v minimální variantě obsahuje jména balíčků (co řádek, to jeden balíček), které by měly být pro potřeby určitého projektu nainstalovány. Namísto toho, aby člověk instaloval balíčky ručně jeden po druhém, stačí pustit\n",
    "```\n",
    "pip install -r requirements.txt\n",
    "```\n",
    "Pozn.: soubor se seznamem balíčků se může jmenovat i jinak, jméno \"requirements.txt\" je zkrátka jen nejobvyklejší.  \n",
    "Obvykle chceme, aby virtuální prostředí vytvořené s pomocí requirements.txt bylo totožné jako to, na kterém jsme na našich počítačích původně pracovali.  V takovém případě nám ale nestačí pouze jména balíčků, měli bychom udat i jejich verze. Tj. řádky v requirements.txt by měly vypadat nějak takto:\n",
    "```\n",
    "pandas==2.2.2\n",
    "```\n",
    "V případě, že by nám z nějakého důvodu stačilo vynucovat minimální verzi balíčku, napíšeme \"pandas>=2.0.0\", pokud naopak nové verze nechceme, použijeme zápis \"pandas<2.0.0\".  \n",
    "Vyvstává tu ale jeden problém. Pakliže bychom do requirements.txt například napsali jen pandy, budou se prerekvizitní balíčky (numpy, six atd.) instalovat podle pandích requirements.txt (či spíše pandího setup.py). Dost možná se tyto balíčky nainstalují v novější verzi, tj. původní a nové virtuální prostředí nebudou stejné a tak hrozí výskyt bugů. Ok, takže si obsah našeho prostředí zafixujeme skrze pip freeze? Tj. do konzole napíšeme\n",
    "```\n",
    "pip freeze > requirements.txt\n",
    "```\n",
    "Nyní by se ale do našeho nového, dejme tomu produkčního environmentu nainstalovaly i věci typu pytest anebo třeba jupyter, které v produkci potřeba nebudou.  \n",
    "Na rovinu nyní netuším, zda je lepší možnost 1, možnost 2 anebo zda neexistuje třetí cesta skrze dodatečnou utilitu typu Poetry. Možná je řešením mít krom vývojového prostředí i testovací prostředí, kde budou jen ty opravdu potřebné balíčky pro běh aplikace a do produkčního requirements pak půjde freeze právě tohoto prostředí? "
   ]
  },
  {
   "cell_type": "markdown",
   "id": "39c27929-1e22-42a8-b21e-c3376388375f",
   "metadata": {},
   "source": [
    "## PEP 8\n",
    "Jak velké používat odřádkování (a mají se používat tabulátory či mezerníky)? Jaká by měla být maximální délka řádku? Podle jaké konvence by měly být pojmenovány proměnné? Tyto a mnohé další otázky mohou mít principielně různé odpovědi. V rámci jednoho týmu by jejich řešení mohlo vést k dlouhému dohadování, v globálním pohledu by zase různé předpoklady o tom, jak má co vypadat, mohly vést k ztížené čitelnosti kódu od různých lidí. Aby se zamezilo divergenci v konvencích, vznikl oficiální dokument věnovaný vhodné formální podobě kódu [PEP 8](https://peps.python.org/pep-0008/). Člověk též občas narazí na zmínky o [Google konvencích](https://google.github.io/styleguide/pyguide.html). Ty se možná kdysi od PEP 8 lišily, dnes se ale víceméně jedná o podrobnější rozepsání oblastí v PEP 8 zmíněných.  \n",
    "\n",
    "No jo, ono je sice užitečné si výše uvedené dokumenty přečíst, ale kdo má při tvorbě a kontrole kódu na vše myslet? Naštěstí existují utility, které nám s takovou prací pomohou. Jedná se o formattery a lintery. Formattery hledají věci, které lze bez znalosti kontextu kódu opravit, a opravu provedou. Mluvíme tu o špatném odřádkování, chybějících či přebývajících mezerách apod. Nejznámějšími formattery jsou **Black** a **Yapf**. Lintery sice chybějící či přebývající mezery taky hledají, nicméně zaměřují se i na nepoužité proměnné či funkce, chybějící importy či nevhodná pojmenování. Změny ale neprovádějí, jen uživateli problémy nahlásí. V oblasti pythoních linterů dominují **Pylint** a **Flake8**.\n",
    "\n",
    "### Black\n",
    "[Black](https://black.readthedocs.io/en/stable/) je význačný možnostmi nastavení - téměř žádné nejsou. \n",
    "Použití je triviální - v konzoli člověk napíše\n",
    "```\n",
    "black muj_skript.py\n",
    "```\n",
    "případně\n",
    "```\n",
    "black adresar_se_skripty\n",
    "```\n",
    "Jednu z mála věcí, které se v Blacku dají změnit, představuje šířka řádku. Pokud nám defaultní velikost 88 nevyhovuje, použijeme parametr -l (resp. --line-length):\n",
    "```\n",
    "black adresar_se_skripty -l 100\n",
    "```\n",
    "\n",
    "### Yapf\n",
    "Yapf si můžeme představit jako Black, u kterého se dá změnit úplně všechno.  \n",
    "Pro základní úpravu jednoho souboru musíme použít parametr -i (resp. --in-place) - bez něj by se výstup Yapfu neuložil do souboru, nýbrž by se pouze vytiskl do konzole.\n",
    "```\n",
    "yapf -i muj_skript.py\n",
    "```\n",
    "Pokud chceme upravit všechny soubory v adresáři, musíme navíc přidat parametr -r (--recursive)\n",
    "```\n",
    "yapf -i -r adresar_se_skripty\n",
    "```\n",
    "Defaultně Yapf postupuje podle PEP 8. Chceme-li, aby se pracovalo podle Google stylu, použijeme parametr --style následovaný hodnotou \"google\":\n",
    "```\n",
    "yapf -i --style google muj_skript.py\n",
    "```\n",
    "Pokud bychom z nějakého důvodu chtěli defaultní chování specifikovat explicitně, použijeme namísto toho hodnotu \"pep8\". Můžeme si vytvořit i svůj vlastní styl. Ten popíšeme v konfiguračním souboru (v příkladu pojmenovaném jako .yapfstyle, ale jmenovat se může všelijak). Příklad budiž takovýto:\n",
    "```\n",
    "[style]\n",
    "based_on_style = pep8\n",
    "column_limit = 40\n",
    "```\n",
    "Zde specifikujeme, z jakého stylu vycházíme a následně uvádíme změny - v příkladu maximální šířku řádku rovnou 40 znakům. Jména parametrů jsou k nalezení v [dokumentaci](https://github.com/google/yapf). Při samotném použití napíšeme jméno konfiguráku za parametr --style:\n",
    "```\n",
    "yapf -i --style .yapfstyle muj_skript.py\n",
    "```"
   ]
  },
  {
   "cell_type": "markdown",
   "id": "bc59ac2d-153c-4d85-a562-609245cbf494",
   "metadata": {},
   "source": [
    "### Pylint\n",
    "Pylintem zkontrolujeme pythoní skript pomocí příkazu\n",
    "```\n",
    "pylint muj_skript.py\n",
    "```\n",
    "Pylint můžeme vypustit i na celý adresář:\n",
    "```\n",
    "pylint adresar_se_skripty\n",
    "```\n",
    "Vždy dostaneme report věující se postupně různým okruhům problémů, který je ukončen bodovým hodnocením. Bodové maximum reprezentující z hlediska Pylintu ideální kód se rovná 10, minimum může být v principu v mínus nekonečnu (samozřejmě by se člověk musel hodně snažit, aby skončil pod dejme tomu -10). Též se uživateli ukáže bodové hodnocení předchozího běhu, aby mohl posoudit, jestli se kvalita kódu s provedenými změnami spíše zlepšila či zhoršila.  \n",
    "\n",
    "Představme si nyní, že bychom Pylint nepoušteli ručně v rámci nějaké ad-hoc kontroly, nýbrž že by byl součástí CICD pipeliny. Jak docílit toho, aby se v případě nízkého skóre nasazovací pipelina zastavila? I když to při ruční práci nevidíme, Pylint krom reportu jako hádám každý proces vrací *exit code*. Nicméně v tomto případě číslo různé od nuly neznamená, že Pylint jako program spadl, nýbrž že ve zkoumaném skriptu nalezl nějaké problémy. A jaké? To je definované kódem určeným s pomocí [této](https://pylint.pycqa.org/en/latest/user_guide/usage/run.html#exit-codes) tabulky. Jestli správně chápu její logiku, tak výskyt aspoň jednoho problému určitého druhu přispívá odpovídajícím číslem z tabulky a tato čísla se ve finále sečtou. Přitom výskyt různých problémů stejného typu už žádný dodatečný příspěvek nepřidává. Tj. například  když bychom v reportu měli tři problémy s konvencí a dva errory, vrátil by se nám *exit code* o velikosti 18. A jak vlastně onen *exit code* zobrazíme? Musíme jako příkaz následující po proběhnutí pylintu ve windosowské konzoli pustit následující:\n",
    "```\n",
    "echo %ERRORLEVEL%\n",
    "```\n",
    "No jo, jenže občas kód nesplňuje všechny záležitosti na 100%. A asi nedává smysl, aby se nasazení zastavilo kvůli jedné hlášce na konvenci. Proto lze Pylint pustit s parametrem --fail-under=cislo, který zajistí, že se nenulový error code vygeneruje jen když je skóre reportu menší než cislo (defaultně 10). Tj. v praxi to vypadá třeba takto:\n",
    "```\n",
    "pylint --fail-under=7 muj_skript.py\n",
    "```  \n",
    "Druhou možností, jak se zbavit vlivu nechtěných hlášek, je hlášky určité úrovně (**C**onvention, **W**arning, **E**rror) zkrátka vypnout. To se provede s pomocí parametru \"--disable=X\", kde X je C, W či E. Pokud chceme vypnout více kategorií, oddělíme jejich písmena čárkou. Tj. provádíme například volání\n",
    "```python\n",
    "pylint muj_skript.py --disable=C,W \n",
    "```  \n",
    "Člověk může specifikovat mnohá nastavení v příkazové řádce, to však není ani pohodlné, ani z hlediska produkčního řešení udržitelné (kdo si to má vše pamatovat). Naštěstí lze změny oproti defaultu napsat do konfigurečního souboru. Ten obvykle nese jméno \"pylintrc\" či \".pylintrc\" (existují i jiné možnosti - viz [zde](https://pylint.pycqa.org/en/latest/user_guide/usage/run.html#command-line-options)). Při spuštění pylintu ani není třeba přání použít custom nastavení vyjádřit - pylint hledá konfigurák a pokud ho najde, tak ho použije.  \n",
    "No jo, ale jak vlastně onen konfigurační soubor vyrobit? Nejsnáze toho dosáhneme exportem defaultního nastavení do souboru a následnými úpravami.\n",
    "```\n",
    "pylint --generate-toml-config > .pylintrc\n",
    "```"
   ]
  },
  {
   "cell_type": "markdown",
   "id": "59af203f-b83b-4ed4-ba5b-19aa07388208",
   "metadata": {},
   "source": [
    "### Flake8\n",
    "Úvodem bych měl podotknout, že narozdíl od doposud diskutovaných nástrojů jsem v praxi zatím Flake8 nikdy nepoužil. Tj. případné nepřesnosti či opomenutí nějaké význačné featury pocházejí z neznalosti, nikoli ze zlého úmyslu.  \n",
    "Základní použití Flake8 má podobu\n",
    "```\n",
    "flake8 muj_skript.py \n",
    "```\n",
    "resp.\n",
    "```\n",
    "flake8 muj_adresar\n",
    "```\n",
    "Pakliže nebude nalezen žádný problém, v konzoli se žádná hláška neobjeví (pokud pro nás tato skutečnost představuje problém, spustíme Flake8 s parametrem -v). V opačném případě hledíme na výstup ve vstylu\n",
    "```\n",
    "muj_skript.py:4:1: F401 'datetime' imported but unused\n",
    "```\n",
    "I Flake8 dovoluje uživateli vytvořit si svůj vlastní konfigurační soubor s vlastními pravidly - více viz [zde](https://flake8.pycqa.org/en/latest/user/configuration.html)."
   ]
  },
  {
   "cell_type": "markdown",
   "id": "d974feef-9ebe-4bfd-b13c-4f0ed757f6dd",
   "metadata": {},
   "source": [
    "## Typové anotace a mypy\n",
    "Jednou z výhod Pythonu je možnost mít proměnnou v jeden okamžik obsahující datový typ X a za chvíli hostící datový typ Y. Rychle se tak vytvářejí prototypy programů. Jednu z nevýhod Pythonu představuje skutečnost, že je možné mít proměnnou v jeden okamžik obsahující datový typ X a za chvíli hostící datový typ Y. Tím pádem se může do proměnné dostat věc, která tam být nemá. V lepším případě kvůli tomu program spadne, v horším úspěšně běží, ale vrátí nesmysl.  \n",
    "Řešení tohoto problému spočívá v typových anotacích. Jejich použití v jednoduché funkci si ukážeme na následujícím příkladu:\n",
    "```python\n",
    "get_hello_message(user_name:str)->str:\n",
    "    return f\"Hello {user_name}\"\n",
    "```\n",
    "Ono \":str\" říká, že do funkce by měla jít proměnná v podobě textového řetězce. \"->str\" nám zase naznačuje, že výstupem funkce bude též textový řetězec.  \n",
    "Musíme zde zdůraznit jednu důležitou věc - Python jako takový typové anotace ignoruje. Ty tak primárně slouží jen jako svého druhu dokumentace. Existují nicméně způsoby, z nichž nejznámější je balíček *mypy*, kterými můžeme typové anotace automaticky kontrolovat.  \n",
    "Výše jsme si ukázali použití typových anotací pro vstup do a výstup z funkce. Typové anotace lze použít (a opravdu se tak děje, byť fakticky v menší míře) i v \"normálním\" kódu. Vypadá to nějak takhle:\n",
    "```python\n",
    "some_int_variable:int = 4\n",
    "some_uninitialized_int_variable:int\n",
    "```\n",
    "Pro základní datové typy se použijí anotace *int*, *float*, *str* a *bool*. Pokud bychom potřebovali oanotovat bytový řetězec, použijeme anotaci *bytes*.\n",
    "\n",
    "U kolekcí je situace poněkud složitější a závisí na tom, s jakou verzí Pythonu pracujeme. Pro Python 3.8 a starší se musely typové anotace pro listy, tuply apod. importovat z balíčku *typing*. V příkladu níže si všimněme, že první písmena anotací jsou velká.  \n",
    "Datové typy elementů v listu či v množině se coby jeden prvek uvednou v hranatých závorkách. Pro slovníky jsou v hranatých závorkách dva elementy - první reprezentuje datový typ klíče, druhý datový typ hodnoty. Nakonec v případě tuplu vložíme do hranatých závorek datový typ každého elementu.\n",
    "```python\n",
    "from typing import List, Dict, Tuple\n",
    "\n",
    "some_list: List[str] = [\"Ahoj\", \"Nazdar\"]\n",
    "some_dict: Dict[int, str] = {1: \"Ahoj\", 2: \"Nazdar\"}\n",
    "some_tuple: Tuple[str,str,int] = (\"Ahoj\", \"Nazdar\", 42)\n",
    "```\n",
    "V případě, že například v listu může být více datových typů, použijeme *Union*:\n",
    "```python\n",
    "from typing import List, Union\n",
    "some_list: List[Union[str, int]] = [\"Ahoj\", \"Nazdar\", 42]\n",
    "```\n",
    "Nakonec pokud nějaké proměnná může krom \"obvyklé\" hodnoty obsahovat i None, aplikujeme *Optional*, do jehož hranatých závorek normální typ vložíme:\n",
    "```python\n",
    "some_variable: Optional[str] = \"something\n",
    "```\n",
    "Poznamenejme, že pokud pracujeme s funkcí, která vrací jen a pouze None, tak se žádným *Optional* neoznačuje - namísto toho prostě napíšeme  *None*:\n",
    "```python\n",
    "get_nothing(user_name:str)->None:\n",
    "    print(f\"Hello {user_name})\"\n",
    "```\n",
    "Pro Python 3.9 a novější se již importování kolekcí dělat nemusí. Níže vidíme, že v takovém případě mají jejich datové typy první písmeno malé.\n",
    "```python\n",
    "some_list: list[str] = [\"Ahoj\", \"Nazdar\"]\n",
    "some_dict: dict[int, str] = {1: \"Ahoj\", 2: \"Nazdar\"}\n",
    "some_tuple: tuple[str,str,int] = (\"Ahoj\", \"Nazdar\", 42)\n",
    "```\n",
    "Od Pythonu 3.10 už není třeba *Union*, jeho roli přebere znak *|*.\n",
    "```python\n",
    "some_list: List[str|int] = [\"Ahoj\", \"Nazdar\", 42]\n",
    "```\n",
    "Nakonec poznamenejme, že \"datový typ\" pro cokoli (aka defaultní chování Pythonu) nese označení *Any*. Pro použití nějakého objektu (dejme tomu pandího dataframu) můžeme použít jméno onoho objektu včetně zdrojového balíčku, tj. např. \"-> pd.DataFrame\".  \n",
    "Existuje i mnoho dalších vzácněji používaných anotací - přehled lze nalézt [zde](https://mypy.readthedocs.io/en/stable/cheat_sheet_py3.html)."
   ]
  },
  {
   "cell_type": "markdown",
   "id": "c64f328b-168b-4a4a-9d40-6513331e16d1",
   "metadata": {},
   "source": [
    "Inu dobrá, svůj kód jsme onanotovali. Jak ale provedeme jeho kontrolu? Jak již bylo řečeno výše, použijeme na to balíček [mypy](https://pypi.org/project/mypy/). Konkrétněji provoláme *mypy* s jménem souboru či adresáře coby parametrem:\n",
    "```python\n",
    "mypy muj_skript.py\n",
    "```\n",
    "resp.\n",
    "```python\n",
    "mypy muj_adresar\n",
    "```\n",
    "Občas se pro balíčky třetích stran objeví hláška ve stylu\n",
    "```\n",
    "error: Library stubs not installed for \"pandas\"  [import-untyped]\n",
    "```\n",
    "V takovém případě je potřeba doinstalovat balíček se [stub soubory](https://mypy.readthedocs.io/en/stable/stubs.html). Ale popravdě... to jsem nikdy neudělal. Typové anotace mi primárně přijdou užitečné coby pomůcka pro orientaci v kódu a možnost automatických kontrol je pouze třešinka na dortu, kterou v případě větších komplikací mohu oželet."
   ]
  },
  {
   "cell_type": "markdown",
   "id": "2aa3dd97-fb80-4abe-9820-431fca0bdfef",
   "metadata": {},
   "source": [
    "## Pydantic\n",
    "Pydantic má podobnou úlohu jako mypy - slouží k validaci typových anotací. Tento balíček zmiňujeme zejména proto, že je součástí známých knihoven jako Langchain, Transformers či FastApi (a docela často ho uvidíme v chybových hláškách při nezdařených instalacích těchto balíčků).  \n",
    "Pydantic se nezaměřuje na jednoduché proměnné, nýbrž slouží ke kontrole složitějších datových kolekcí. Dalo by se říci, že jeho největší přidaná hodnota tkví ve snadné validace vstupu od uživatele. I když technicky představuje pydantickový datový model pythoní třídu, nejedná se o nahrazení VŠECH tříd v kódu.  \n",
    "Ukažme si to na příkladu. Napřed si musíme vytvořit model objektu, tj. třídu dědící od *BaseModel*, která bude mít oanotované atributy."
   ]
  },
  {
   "cell_type": "code",
   "execution_count": 1,
   "id": "02f7eafc-2a64-49ba-9294-add9e6c2fea3",
   "metadata": {},
   "outputs": [],
   "source": [
    "from pydantic import BaseModel\n",
    "\n",
    "class HamsterModel(BaseModel):\n",
    "    hamster_id: int\n",
    "    name: str\n",
    "    color: str"
   ]
  },
  {
   "cell_type": "markdown",
   "id": "540006be-d2c1-4432-8f69-61744299b7af",
   "metadata": {},
   "source": [
    "Následně můžeme vytvořit instanci třídy s tím, že atributy předáme konstruktoru jako keywords arguments."
   ]
  },
  {
   "cell_type": "code",
   "execution_count": 2,
   "id": "5d7512c4-04bf-4338-b30f-b2bba4faa6b8",
   "metadata": {},
   "outputs": [
    {
     "data": {
      "text/plain": [
       "HamsterModel(hamster_id=3, name='hammy', color='brown')"
      ]
     },
     "execution_count": 2,
     "metadata": {},
     "output_type": "execute_result"
    }
   ],
   "source": [
    "HamsterModel(hamster_id=3, name=\"hammy\", color=\"brown\")"
   ]
  },
  {
   "cell_type": "markdown",
   "id": "333d9985-5574-45cc-82de-9e0d04f54ec3",
   "metadata": {},
   "source": [
    "Pokud bychom totiž předali \"normální\" poziční argumenty, obdrželi bychom chybu."
   ]
  },
  {
   "cell_type": "code",
   "execution_count": 3,
   "id": "f3967592-8973-4f38-8f6d-19573f9df428",
   "metadata": {},
   "outputs": [
    {
     "ename": "TypeError",
     "evalue": "BaseModel.__init__() takes 1 positional argument but 4 were given",
     "output_type": "error",
     "traceback": [
      "\u001b[1;31m---------------------------------------------------------------------------\u001b[0m",
      "\u001b[1;31mTypeError\u001b[0m                                 Traceback (most recent call last)",
      "Cell \u001b[1;32mIn[3], line 1\u001b[0m\n\u001b[1;32m----> 1\u001b[0m \u001b[43mHamsterModel\u001b[49m\u001b[43m(\u001b[49m\u001b[38;5;241;43m3\u001b[39;49m\u001b[43m,\u001b[49m\u001b[43m \u001b[49m\u001b[38;5;124;43m\"\u001b[39;49m\u001b[38;5;124;43mhammy\u001b[39;49m\u001b[38;5;124;43m\"\u001b[39;49m\u001b[43m,\u001b[49m\u001b[43m \u001b[49m\u001b[38;5;124;43m\"\u001b[39;49m\u001b[38;5;124;43mbrown\u001b[39;49m\u001b[38;5;124;43m\"\u001b[39;49m\u001b[43m)\u001b[49m\n",
      "\u001b[1;31mTypeError\u001b[0m: BaseModel.__init__() takes 1 positional argument but 4 were given"
     ]
    }
   ],
   "source": [
    "HamsterModel(3, \"hammy\", \"brown\")"
   ]
  },
  {
   "cell_type": "markdown",
   "id": "0a07ce84-bd80-407e-a1a2-66c849ca2045",
   "metadata": {},
   "source": [
    "Chybu obdržíme i v případě, kdy se pokusíme předat argument o špatném datovém typu."
   ]
  },
  {
   "cell_type": "code",
   "execution_count": 4,
   "id": "7267cbf1-2db8-4347-8ad1-e5e790c0f9e1",
   "metadata": {},
   "outputs": [
    {
     "ename": "ValidationError",
     "evalue": "1 validation error for HamsterModel\nhamster_id\n  Input should be a valid integer, unable to parse string as an integer [type=int_parsing, input_value='hodně', input_type=str]\n    For further information visit https://errors.pydantic.dev/2.8/v/int_parsing",
     "output_type": "error",
     "traceback": [
      "\u001b[1;31m---------------------------------------------------------------------------\u001b[0m",
      "\u001b[1;31mValidationError\u001b[0m                           Traceback (most recent call last)",
      "Cell \u001b[1;32mIn[4], line 1\u001b[0m\n\u001b[1;32m----> 1\u001b[0m \u001b[43mHamsterModel\u001b[49m\u001b[43m(\u001b[49m\u001b[43mhamster_id\u001b[49m\u001b[38;5;241;43m=\u001b[39;49m\u001b[38;5;124;43m\"\u001b[39;49m\u001b[38;5;124;43mhodně\u001b[39;49m\u001b[38;5;124;43m\"\u001b[39;49m\u001b[43m,\u001b[49m\u001b[43m \u001b[49m\u001b[43mname\u001b[49m\u001b[38;5;241;43m=\u001b[39;49m\u001b[38;5;124;43m\"\u001b[39;49m\u001b[38;5;124;43mhammy\u001b[39;49m\u001b[38;5;124;43m\"\u001b[39;49m\u001b[43m,\u001b[49m\u001b[43m \u001b[49m\u001b[43mcolor\u001b[49m\u001b[38;5;241;43m=\u001b[39;49m\u001b[38;5;124;43m\"\u001b[39;49m\u001b[38;5;124;43mbrown\u001b[39;49m\u001b[38;5;124;43m\"\u001b[39;49m\u001b[43m)\u001b[49m\n",
      "File \u001b[1;32mc:\\primary\\programovani\\python\\code_quality\\environment\\lib\\site-packages\\pydantic\\main.py:193\u001b[0m, in \u001b[0;36mBaseModel.__init__\u001b[1;34m(self, **data)\u001b[0m\n\u001b[0;32m    191\u001b[0m \u001b[38;5;66;03m# `__tracebackhide__` tells pytest and some other tools to omit this function from tracebacks\u001b[39;00m\n\u001b[0;32m    192\u001b[0m __tracebackhide__ \u001b[38;5;241m=\u001b[39m \u001b[38;5;28;01mTrue\u001b[39;00m\n\u001b[1;32m--> 193\u001b[0m \u001b[38;5;28;43mself\u001b[39;49m\u001b[38;5;241;43m.\u001b[39;49m\u001b[43m__pydantic_validator__\u001b[49m\u001b[38;5;241;43m.\u001b[39;49m\u001b[43mvalidate_python\u001b[49m\u001b[43m(\u001b[49m\u001b[43mdata\u001b[49m\u001b[43m,\u001b[49m\u001b[43m \u001b[49m\u001b[43mself_instance\u001b[49m\u001b[38;5;241;43m=\u001b[39;49m\u001b[38;5;28;43mself\u001b[39;49m\u001b[43m)\u001b[49m\n",
      "\u001b[1;31mValidationError\u001b[0m: 1 validation error for HamsterModel\nhamster_id\n  Input should be a valid integer, unable to parse string as an integer [type=int_parsing, input_value='hodně', input_type=str]\n    For further information visit https://errors.pydantic.dev/2.8/v/int_parsing"
     ]
    }
   ],
   "source": [
    "HamsterModel(hamster_id=\"hodně\", name=\"hammy\", color=\"brown\")"
   ]
  },
  {
   "cell_type": "markdown",
   "id": "607788d6-95d2-49a4-a394-6323fa36863a",
   "metadata": {},
   "source": [
    "Mohou se vyskytnout případy, kdy by byl kupříkladu string příliš obecný. Pokud může uživatel zadat jen jednu z omezené množiny možností, použijeme *Enum*:"
   ]
  },
  {
   "cell_type": "code",
   "execution_count": 5,
   "id": "4e77a311-16da-431b-ac11-8649210bb5f5",
   "metadata": {},
   "outputs": [],
   "source": [
    "from pydantic import BaseModel\n",
    "from enum import Enum\n",
    "\n",
    "class HamsterFood(Enum):\n",
    "    CARROTS = \"carrots\"\n",
    "    PELLETS = \"pellets\"\n",
    "    APPLES = \"apples\"\n",
    "\n",
    "class HamsterModel(BaseModel):\n",
    "    hamster_id: int\n",
    "    name: str\n",
    "    color: str\n",
    "    favourite_food: HamsterFood"
   ]
  },
  {
   "cell_type": "code",
   "execution_count": 6,
   "id": "c26454f6-b3eb-46a2-ba1b-1f3a29335ef9",
   "metadata": {},
   "outputs": [
    {
     "data": {
      "text/plain": [
       "HamsterModel(hamster_id=3, name='hammy', color='brown', favourite_food=<HamsterFood.APPLES: 'apples'>)"
      ]
     },
     "execution_count": 6,
     "metadata": {},
     "output_type": "execute_result"
    }
   ],
   "source": [
    "HamsterModel(hamster_id=3, name=\"hammy\", color=\"brown\", favourite_food=\"apples\")"
   ]
  },
  {
   "cell_type": "code",
   "execution_count": 7,
   "id": "e34206be-55e0-4580-b00c-fd3b2511a5a8",
   "metadata": {},
   "outputs": [
    {
     "ename": "ValidationError",
     "evalue": "1 validation error for HamsterModel\nfavourite_food\n  Input should be 'carrots', 'pellets' or 'apples' [type=enum, input_value='blueberries', input_type=str]\n    For further information visit https://errors.pydantic.dev/2.8/v/enum",
     "output_type": "error",
     "traceback": [
      "\u001b[1;31m---------------------------------------------------------------------------\u001b[0m",
      "\u001b[1;31mValidationError\u001b[0m                           Traceback (most recent call last)",
      "Cell \u001b[1;32mIn[7], line 1\u001b[0m\n\u001b[1;32m----> 1\u001b[0m \u001b[43mHamsterModel\u001b[49m\u001b[43m(\u001b[49m\u001b[43mhamster_id\u001b[49m\u001b[38;5;241;43m=\u001b[39;49m\u001b[38;5;241;43m3\u001b[39;49m\u001b[43m,\u001b[49m\u001b[43m \u001b[49m\u001b[43mname\u001b[49m\u001b[38;5;241;43m=\u001b[39;49m\u001b[38;5;124;43m\"\u001b[39;49m\u001b[38;5;124;43mhammy\u001b[39;49m\u001b[38;5;124;43m\"\u001b[39;49m\u001b[43m,\u001b[49m\u001b[43m \u001b[49m\u001b[43mcolor\u001b[49m\u001b[38;5;241;43m=\u001b[39;49m\u001b[38;5;124;43m\"\u001b[39;49m\u001b[38;5;124;43mbrown\u001b[39;49m\u001b[38;5;124;43m\"\u001b[39;49m\u001b[43m,\u001b[49m\u001b[43m \u001b[49m\u001b[43mfavourite_food\u001b[49m\u001b[38;5;241;43m=\u001b[39;49m\u001b[38;5;124;43m\"\u001b[39;49m\u001b[38;5;124;43mblueberries\u001b[39;49m\u001b[38;5;124;43m\"\u001b[39;49m\u001b[43m)\u001b[49m\n",
      "File \u001b[1;32mc:\\primary\\programovani\\python\\code_quality\\environment\\lib\\site-packages\\pydantic\\main.py:193\u001b[0m, in \u001b[0;36mBaseModel.__init__\u001b[1;34m(self, **data)\u001b[0m\n\u001b[0;32m    191\u001b[0m \u001b[38;5;66;03m# `__tracebackhide__` tells pytest and some other tools to omit this function from tracebacks\u001b[39;00m\n\u001b[0;32m    192\u001b[0m __tracebackhide__ \u001b[38;5;241m=\u001b[39m \u001b[38;5;28;01mTrue\u001b[39;00m\n\u001b[1;32m--> 193\u001b[0m \u001b[38;5;28;43mself\u001b[39;49m\u001b[38;5;241;43m.\u001b[39;49m\u001b[43m__pydantic_validator__\u001b[49m\u001b[38;5;241;43m.\u001b[39;49m\u001b[43mvalidate_python\u001b[49m\u001b[43m(\u001b[49m\u001b[43mdata\u001b[49m\u001b[43m,\u001b[49m\u001b[43m \u001b[49m\u001b[43mself_instance\u001b[49m\u001b[38;5;241;43m=\u001b[39;49m\u001b[38;5;28;43mself\u001b[39;49m\u001b[43m)\u001b[49m\n",
      "\u001b[1;31mValidationError\u001b[0m: 1 validation error for HamsterModel\nfavourite_food\n  Input should be 'carrots', 'pellets' or 'apples' [type=enum, input_value='blueberries', input_type=str]\n    For further information visit https://errors.pydantic.dev/2.8/v/enum"
     ]
    }
   ],
   "source": [
    "HamsterModel(hamster_id=3, name=\"hammy\", color=\"brown\", favourite_food=\"blueberries\")"
   ]
  },
  {
   "cell_type": "markdown",
   "id": "0e39611d-8dbe-4b09-8272-8052db382d31",
   "metadata": {},
   "source": [
    "Kontrolovat lze i datumy. Ty přitom mohou do validace vstupovat jako stringy o správném formátu (nicméně i podoba datetime.date funguje)."
   ]
  },
  {
   "cell_type": "code",
   "execution_count": 8,
   "id": "fdb0711d-64d1-4e41-b0f0-abdd4958e7b6",
   "metadata": {},
   "outputs": [],
   "source": [
    "from pydantic import BaseModel\n",
    "from datetime import date\n",
    "\n",
    "class HamsterModel(BaseModel):\n",
    "    hamster_id: int\n",
    "    name: str\n",
    "    color: str\n",
    "    birth_date: date"
   ]
  },
  {
   "cell_type": "code",
   "execution_count": 9,
   "id": "40e01c4e-6233-4ad6-9e4a-c5527c250e78",
   "metadata": {},
   "outputs": [
    {
     "data": {
      "text/plain": [
       "HamsterModel(hamster_id=3, name='hammy', color='brown', birth_date=datetime.date(2022, 10, 10))"
      ]
     },
     "execution_count": 9,
     "metadata": {},
     "output_type": "execute_result"
    }
   ],
   "source": [
    "HamsterModel(hamster_id=3, name=\"hammy\", color=\"brown\", birth_date=\"2022-10-10\")"
   ]
  },
  {
   "cell_type": "code",
   "execution_count": 10,
   "id": "ca1e6e19-1ece-430c-b8ef-c39fe4c2fa9a",
   "metadata": {},
   "outputs": [
    {
     "data": {
      "text/plain": [
       "HamsterModel(hamster_id=3, name='hammy', color='brown', birth_date=datetime.date(2022, 10, 10))"
      ]
     },
     "execution_count": 10,
     "metadata": {},
     "output_type": "execute_result"
    }
   ],
   "source": [
    "HamsterModel(hamster_id=3, name=\"hammy\", color=\"brown\", birth_date=date(2022, 10, 10))"
   ]
  },
  {
   "cell_type": "markdown",
   "id": "1245ef54-9bbc-408a-af89-ce38982b48d4",
   "metadata": {},
   "source": [
    "V rámci Pydanticu jsou připraveny i typické složitější datové struktury jako například [mailová adresa](https://docs.pydantic.dev/2.0/usage/types/string_types/#emailstr) (k tomu je pravda potřeba doinstalovat dodatečný balíček [zde](https://pypi.org/project/email-validator/)) či [kladné celé číslo](https://docs.pydantic.dev/2.0/usage/types/number_types/#constrained-integers):"
   ]
  },
  {
   "cell_type": "code",
   "execution_count": 11,
   "id": "745f8eef-1ce4-4d35-ba10-259b5a6bc7cd",
   "metadata": {},
   "outputs": [],
   "source": [
    "from pydantic import BaseModel, PositiveInt\n",
    "\n",
    "class HamsterModel(BaseModel):\n",
    "    hamster_id: int\n",
    "    name: str\n",
    "    color: str\n",
    "    age_in_months: PositiveInt"
   ]
  },
  {
   "cell_type": "code",
   "execution_count": 12,
   "id": "d9796eb3-d6d3-4cc9-b429-d41a921a8e5f",
   "metadata": {},
   "outputs": [
    {
     "data": {
      "text/plain": [
       "HamsterModel(hamster_id=3, name='hammy', color='brown', age_in_months=5)"
      ]
     },
     "execution_count": 12,
     "metadata": {},
     "output_type": "execute_result"
    }
   ],
   "source": [
    "HamsterModel(hamster_id=3, name=\"hammy\", color=\"brown\", age_in_months=5)"
   ]
  },
  {
   "cell_type": "code",
   "execution_count": 13,
   "id": "31c7960a-7198-4c3e-8b6f-cea90d4c00e2",
   "metadata": {},
   "outputs": [
    {
     "ename": "ValidationError",
     "evalue": "1 validation error for HamsterModel\nage_in_months\n  Input should be greater than 0 [type=greater_than, input_value=-5, input_type=int]\n    For further information visit https://errors.pydantic.dev/2.8/v/greater_than",
     "output_type": "error",
     "traceback": [
      "\u001b[1;31m---------------------------------------------------------------------------\u001b[0m",
      "\u001b[1;31mValidationError\u001b[0m                           Traceback (most recent call last)",
      "Cell \u001b[1;32mIn[13], line 1\u001b[0m\n\u001b[1;32m----> 1\u001b[0m \u001b[43mHamsterModel\u001b[49m\u001b[43m(\u001b[49m\u001b[43mhamster_id\u001b[49m\u001b[38;5;241;43m=\u001b[39;49m\u001b[38;5;241;43m3\u001b[39;49m\u001b[43m,\u001b[49m\u001b[43m \u001b[49m\u001b[43mname\u001b[49m\u001b[38;5;241;43m=\u001b[39;49m\u001b[38;5;124;43m\"\u001b[39;49m\u001b[38;5;124;43mhammy\u001b[39;49m\u001b[38;5;124;43m\"\u001b[39;49m\u001b[43m,\u001b[49m\u001b[43m \u001b[49m\u001b[43mcolor\u001b[49m\u001b[38;5;241;43m=\u001b[39;49m\u001b[38;5;124;43m\"\u001b[39;49m\u001b[38;5;124;43mbrown\u001b[39;49m\u001b[38;5;124;43m\"\u001b[39;49m\u001b[43m,\u001b[49m\u001b[43m \u001b[49m\u001b[43mage_in_months\u001b[49m\u001b[38;5;241;43m=\u001b[39;49m\u001b[38;5;241;43m-\u001b[39;49m\u001b[38;5;241;43m5\u001b[39;49m\u001b[43m)\u001b[49m\n",
      "File \u001b[1;32mc:\\primary\\programovani\\python\\code_quality\\environment\\lib\\site-packages\\pydantic\\main.py:193\u001b[0m, in \u001b[0;36mBaseModel.__init__\u001b[1;34m(self, **data)\u001b[0m\n\u001b[0;32m    191\u001b[0m \u001b[38;5;66;03m# `__tracebackhide__` tells pytest and some other tools to omit this function from tracebacks\u001b[39;00m\n\u001b[0;32m    192\u001b[0m __tracebackhide__ \u001b[38;5;241m=\u001b[39m \u001b[38;5;28;01mTrue\u001b[39;00m\n\u001b[1;32m--> 193\u001b[0m \u001b[38;5;28;43mself\u001b[39;49m\u001b[38;5;241;43m.\u001b[39;49m\u001b[43m__pydantic_validator__\u001b[49m\u001b[38;5;241;43m.\u001b[39;49m\u001b[43mvalidate_python\u001b[49m\u001b[43m(\u001b[49m\u001b[43mdata\u001b[49m\u001b[43m,\u001b[49m\u001b[43m \u001b[49m\u001b[43mself_instance\u001b[49m\u001b[38;5;241;43m=\u001b[39;49m\u001b[38;5;28;43mself\u001b[39;49m\u001b[43m)\u001b[49m\n",
      "\u001b[1;31mValidationError\u001b[0m: 1 validation error for HamsterModel\nage_in_months\n  Input should be greater than 0 [type=greater_than, input_value=-5, input_type=int]\n    For further information visit https://errors.pydantic.dev/2.8/v/greater_than"
     ]
    }
   ],
   "source": [
    "HamsterModel(hamster_id=3, name=\"hammy\", color=\"brown\", age_in_months=-5)"
   ]
  },
  {
   "cell_type": "markdown",
   "id": "18e57231-db23-4def-a30e-bd330376ebb8",
   "metadata": {},
   "source": [
    "Pokud bychom si s defaultními typy nevystačili, můžeme dodatečné validace specifikovat v rámci [*Field*](https://docs.pydantic.dev/latest/concepts/fields/#field-aliases). Níže uvedené zkratky mají význam \"greater than\" a \"lower than or equal\". "
   ]
  },
  {
   "cell_type": "code",
   "execution_count": 14,
   "id": "aa8effdc-8dbd-41bf-9274-7d7e9c0bc662",
   "metadata": {},
   "outputs": [],
   "source": [
    "from pydantic import BaseModel, Field\n",
    "\n",
    "class HamsterModel(BaseModel):\n",
    "    hamster_id: int\n",
    "    name: str\n",
    "    color: str\n",
    "    age_in_years: int = Field(gt=0, le=3)"
   ]
  },
  {
   "cell_type": "code",
   "execution_count": 15,
   "id": "8d9d9bb8-7913-47ca-a84b-186463ea15e4",
   "metadata": {},
   "outputs": [
    {
     "ename": "ValidationError",
     "evalue": "1 validation error for HamsterModel\nage_in_years\n  Input should be greater than 0 [type=greater_than, input_value=-1, input_type=int]\n    For further information visit https://errors.pydantic.dev/2.8/v/greater_than",
     "output_type": "error",
     "traceback": [
      "\u001b[1;31m---------------------------------------------------------------------------\u001b[0m",
      "\u001b[1;31mValidationError\u001b[0m                           Traceback (most recent call last)",
      "Cell \u001b[1;32mIn[15], line 1\u001b[0m\n\u001b[1;32m----> 1\u001b[0m \u001b[43mHamsterModel\u001b[49m\u001b[43m(\u001b[49m\u001b[43mhamster_id\u001b[49m\u001b[38;5;241;43m=\u001b[39;49m\u001b[38;5;241;43m3\u001b[39;49m\u001b[43m,\u001b[49m\u001b[43m \u001b[49m\u001b[43mname\u001b[49m\u001b[38;5;241;43m=\u001b[39;49m\u001b[38;5;124;43m\"\u001b[39;49m\u001b[38;5;124;43mhammy\u001b[39;49m\u001b[38;5;124;43m\"\u001b[39;49m\u001b[43m,\u001b[49m\u001b[43m \u001b[49m\u001b[43mcolor\u001b[49m\u001b[38;5;241;43m=\u001b[39;49m\u001b[38;5;124;43m\"\u001b[39;49m\u001b[38;5;124;43mbrown\u001b[39;49m\u001b[38;5;124;43m\"\u001b[39;49m\u001b[43m,\u001b[49m\u001b[43m \u001b[49m\u001b[43mage_in_years\u001b[49m\u001b[38;5;241;43m=\u001b[39;49m\u001b[38;5;241;43m-\u001b[39;49m\u001b[38;5;241;43m1\u001b[39;49m\u001b[43m)\u001b[49m\n",
      "File \u001b[1;32mc:\\primary\\programovani\\python\\code_quality\\environment\\lib\\site-packages\\pydantic\\main.py:193\u001b[0m, in \u001b[0;36mBaseModel.__init__\u001b[1;34m(self, **data)\u001b[0m\n\u001b[0;32m    191\u001b[0m \u001b[38;5;66;03m# `__tracebackhide__` tells pytest and some other tools to omit this function from tracebacks\u001b[39;00m\n\u001b[0;32m    192\u001b[0m __tracebackhide__ \u001b[38;5;241m=\u001b[39m \u001b[38;5;28;01mTrue\u001b[39;00m\n\u001b[1;32m--> 193\u001b[0m \u001b[38;5;28;43mself\u001b[39;49m\u001b[38;5;241;43m.\u001b[39;49m\u001b[43m__pydantic_validator__\u001b[49m\u001b[38;5;241;43m.\u001b[39;49m\u001b[43mvalidate_python\u001b[49m\u001b[43m(\u001b[49m\u001b[43mdata\u001b[49m\u001b[43m,\u001b[49m\u001b[43m \u001b[49m\u001b[43mself_instance\u001b[49m\u001b[38;5;241;43m=\u001b[39;49m\u001b[38;5;28;43mself\u001b[39;49m\u001b[43m)\u001b[49m\n",
      "\u001b[1;31mValidationError\u001b[0m: 1 validation error for HamsterModel\nage_in_years\n  Input should be greater than 0 [type=greater_than, input_value=-1, input_type=int]\n    For further information visit https://errors.pydantic.dev/2.8/v/greater_than"
     ]
    }
   ],
   "source": [
    "HamsterModel(hamster_id=3, name=\"hammy\", color=\"brown\", age_in_years=-1)"
   ]
  },
  {
   "cell_type": "code",
   "execution_count": 16,
   "id": "4d66c610-8d2b-4ff8-bec1-fdbec585c4f2",
   "metadata": {},
   "outputs": [
    {
     "ename": "ValidationError",
     "evalue": "1 validation error for HamsterModel\nage_in_years\n  Input should be less than or equal to 3 [type=less_than_equal, input_value=5, input_type=int]\n    For further information visit https://errors.pydantic.dev/2.8/v/less_than_equal",
     "output_type": "error",
     "traceback": [
      "\u001b[1;31m---------------------------------------------------------------------------\u001b[0m",
      "\u001b[1;31mValidationError\u001b[0m                           Traceback (most recent call last)",
      "Cell \u001b[1;32mIn[16], line 1\u001b[0m\n\u001b[1;32m----> 1\u001b[0m \u001b[43mHamsterModel\u001b[49m\u001b[43m(\u001b[49m\u001b[43mhamster_id\u001b[49m\u001b[38;5;241;43m=\u001b[39;49m\u001b[38;5;241;43m3\u001b[39;49m\u001b[43m,\u001b[49m\u001b[43m \u001b[49m\u001b[43mname\u001b[49m\u001b[38;5;241;43m=\u001b[39;49m\u001b[38;5;124;43m\"\u001b[39;49m\u001b[38;5;124;43mhammy\u001b[39;49m\u001b[38;5;124;43m\"\u001b[39;49m\u001b[43m,\u001b[49m\u001b[43m \u001b[49m\u001b[43mcolor\u001b[49m\u001b[38;5;241;43m=\u001b[39;49m\u001b[38;5;124;43m\"\u001b[39;49m\u001b[38;5;124;43mbrown\u001b[39;49m\u001b[38;5;124;43m\"\u001b[39;49m\u001b[43m,\u001b[49m\u001b[43m \u001b[49m\u001b[43mage_in_years\u001b[49m\u001b[38;5;241;43m=\u001b[39;49m\u001b[38;5;241;43m5\u001b[39;49m\u001b[43m)\u001b[49m\n",
      "File \u001b[1;32mc:\\primary\\programovani\\python\\code_quality\\environment\\lib\\site-packages\\pydantic\\main.py:193\u001b[0m, in \u001b[0;36mBaseModel.__init__\u001b[1;34m(self, **data)\u001b[0m\n\u001b[0;32m    191\u001b[0m \u001b[38;5;66;03m# `__tracebackhide__` tells pytest and some other tools to omit this function from tracebacks\u001b[39;00m\n\u001b[0;32m    192\u001b[0m __tracebackhide__ \u001b[38;5;241m=\u001b[39m \u001b[38;5;28;01mTrue\u001b[39;00m\n\u001b[1;32m--> 193\u001b[0m \u001b[38;5;28;43mself\u001b[39;49m\u001b[38;5;241;43m.\u001b[39;49m\u001b[43m__pydantic_validator__\u001b[49m\u001b[38;5;241;43m.\u001b[39;49m\u001b[43mvalidate_python\u001b[49m\u001b[43m(\u001b[49m\u001b[43mdata\u001b[49m\u001b[43m,\u001b[49m\u001b[43m \u001b[49m\u001b[43mself_instance\u001b[49m\u001b[38;5;241;43m=\u001b[39;49m\u001b[38;5;28;43mself\u001b[39;49m\u001b[43m)\u001b[49m\n",
      "\u001b[1;31mValidationError\u001b[0m: 1 validation error for HamsterModel\nage_in_years\n  Input should be less than or equal to 3 [type=less_than_equal, input_value=5, input_type=int]\n    For further information visit https://errors.pydantic.dev/2.8/v/less_than_equal"
     ]
    }
   ],
   "source": [
    "HamsterModel(hamster_id=3, name=\"hammy\", color=\"brown\", age_in_years=5)"
   ]
  },
  {
   "cell_type": "markdown",
   "id": "d5a1191d-b308-4343-9085-225bf8e52474",
   "metadata": {},
   "source": [
    "V rámci textových polí můžeme provádět i kontrolu skrze regulární výrazy:"
   ]
  },
  {
   "cell_type": "code",
   "execution_count": 17,
   "id": "6e3ff6df-1bc2-4892-8543-898fac0af3ee",
   "metadata": {},
   "outputs": [],
   "source": [
    "from pydantic import BaseModel, Field\n",
    "\n",
    "class HamsterModel(BaseModel):\n",
    "    hamster_id: int\n",
    "    name: str\n",
    "    color: str\n",
    "    hamster_email: str = Field(pattern=r\".+@hamster\\.cz$\")"
   ]
  },
  {
   "cell_type": "code",
   "execution_count": 18,
   "id": "0c79e416-a635-43b4-83d1-04af9db23af0",
   "metadata": {},
   "outputs": [
    {
     "data": {
      "text/plain": [
       "HamsterModel(hamster_id=3, name='hammy', color='brown', hamster_email='hammy@hamster.cz')"
      ]
     },
     "execution_count": 18,
     "metadata": {},
     "output_type": "execute_result"
    }
   ],
   "source": [
    "HamsterModel(hamster_id=3, name=\"hammy\", color=\"brown\", hamster_email=\"hammy@hamster.cz\")"
   ]
  },
  {
   "cell_type": "code",
   "execution_count": 19,
   "id": "e4ebf265-122c-43e5-8525-233998b95dd0",
   "metadata": {},
   "outputs": [
    {
     "ename": "ValidationError",
     "evalue": "1 validation error for HamsterModel\nhamster_email\n  String should match pattern '.+@hamster\\.cz$' [type=string_pattern_mismatch, input_value='hammy@hamster.com', input_type=str]\n    For further information visit https://errors.pydantic.dev/2.8/v/string_pattern_mismatch",
     "output_type": "error",
     "traceback": [
      "\u001b[1;31m---------------------------------------------------------------------------\u001b[0m",
      "\u001b[1;31mValidationError\u001b[0m                           Traceback (most recent call last)",
      "Cell \u001b[1;32mIn[19], line 1\u001b[0m\n\u001b[1;32m----> 1\u001b[0m \u001b[43mHamsterModel\u001b[49m\u001b[43m(\u001b[49m\u001b[43mhamster_id\u001b[49m\u001b[38;5;241;43m=\u001b[39;49m\u001b[38;5;241;43m3\u001b[39;49m\u001b[43m,\u001b[49m\u001b[43m \u001b[49m\u001b[43mname\u001b[49m\u001b[38;5;241;43m=\u001b[39;49m\u001b[38;5;124;43m\"\u001b[39;49m\u001b[38;5;124;43mhammy\u001b[39;49m\u001b[38;5;124;43m\"\u001b[39;49m\u001b[43m,\u001b[49m\u001b[43m \u001b[49m\u001b[43mcolor\u001b[49m\u001b[38;5;241;43m=\u001b[39;49m\u001b[38;5;124;43m\"\u001b[39;49m\u001b[38;5;124;43mbrown\u001b[39;49m\u001b[38;5;124;43m\"\u001b[39;49m\u001b[43m,\u001b[49m\u001b[43m \u001b[49m\u001b[43mhamster_email\u001b[49m\u001b[38;5;241;43m=\u001b[39;49m\u001b[38;5;124;43m\"\u001b[39;49m\u001b[38;5;124;43mhammy@hamster.com\u001b[39;49m\u001b[38;5;124;43m\"\u001b[39;49m\u001b[43m)\u001b[49m\n",
      "File \u001b[1;32mc:\\primary\\programovani\\python\\code_quality\\environment\\lib\\site-packages\\pydantic\\main.py:193\u001b[0m, in \u001b[0;36mBaseModel.__init__\u001b[1;34m(self, **data)\u001b[0m\n\u001b[0;32m    191\u001b[0m \u001b[38;5;66;03m# `__tracebackhide__` tells pytest and some other tools to omit this function from tracebacks\u001b[39;00m\n\u001b[0;32m    192\u001b[0m __tracebackhide__ \u001b[38;5;241m=\u001b[39m \u001b[38;5;28;01mTrue\u001b[39;00m\n\u001b[1;32m--> 193\u001b[0m \u001b[38;5;28;43mself\u001b[39;49m\u001b[38;5;241;43m.\u001b[39;49m\u001b[43m__pydantic_validator__\u001b[49m\u001b[38;5;241;43m.\u001b[39;49m\u001b[43mvalidate_python\u001b[49m\u001b[43m(\u001b[49m\u001b[43mdata\u001b[49m\u001b[43m,\u001b[49m\u001b[43m \u001b[49m\u001b[43mself_instance\u001b[49m\u001b[38;5;241;43m=\u001b[39;49m\u001b[38;5;28;43mself\u001b[39;49m\u001b[43m)\u001b[49m\n",
      "\u001b[1;31mValidationError\u001b[0m: 1 validation error for HamsterModel\nhamster_email\n  String should match pattern '.+@hamster\\.cz$' [type=string_pattern_mismatch, input_value='hammy@hamster.com', input_type=str]\n    For further information visit https://errors.pydantic.dev/2.8/v/string_pattern_mismatch"
     ]
    }
   ],
   "source": [
    "HamsterModel(hamster_id=3, name=\"hammy\", color=\"brown\", hamster_email=\"hammy@hamster.com\")"
   ]
  },
  {
   "cell_type": "markdown",
   "id": "6d192314-3f85-490d-bdc9-7099c67446b0",
   "metadata": {},
   "source": [
    "## Docstringy\n",
    "Typové anotace jsou sice fajn věc, nicméně nejlépe funkci funkce (či objektu) vysvětlí normální text. Dávat jednořádkové komentáře do různých sekcí funkce by čtenáři z budoucna komplikovalo pochopení kódu, proto je dobré mít komentářový blok, který se nachází hned pod hlavičkou funkce/metody/třídy. Takovýto text pak nazýváme docstringem.  \n",
    "Docstringy by měly obsahovat informaci o tom, co (a eventuálně proč a stručně v případě komplikovaných funkcí i jak) funkce dělá. Měly by být popsány vstupy i výstupy a případně i výjimky, které mohou při jejím běhu explicitně vznikat. Z hlediska formátu docstringů se člověk může setkat s prakticky čímkoli, nicméně existují tři dominující konvence - \"základní\", numpy a google.\n",
    "\n",
    "### Základní konvence\n",
    "V rámci této konvence se pod popisem funkce nachází popis vstupů do ní. Přitom pro každý vstup existují dva po sobě jdoucí řádky. V prvním, uvedeném slovy \":param jmeno_parametru:\" je tento vstupní parametr popsán. V druhém řádku, který začíná s \":type jmeno_parametru:\", je popsán datový typ. Pokud se jedná o parametr nepovinný, objevuje se na tomto řádku i heslo \"optional\". Podobně to funguje i pro výstup - tehdy řádky začínají s \":return:\" a \":rtype:\" (bez jména výstupní proměnnné). Více podrobností lze nalézt [zde](https://sphinx-rtd-tutorial.readthedocs.io/en/latest/docstrings.html)."
   ]
  },
  {
   "cell_type": "code",
   "execution_count": 3,
   "id": "5bd7c5e1-bdb8-471d-aadf-00723f0041ad",
   "metadata": {},
   "outputs": [],
   "source": [
    "def get_some_nonsense(necessary_number:int, unnecessary_number:int=2)->int:\n",
    "    \"\"\"Returns the sum of input numbers\n",
    "\n",
    "    :param necessary_number: First number.\n",
    "    :type necessary_number: int\n",
    "    :param unnecessary_number: Second number.\n",
    "    :type unnecessary_number: int, optional\n",
    "    :return: Sum of numbers.\n",
    "    :rtype: int\n",
    "    \"\"\"\n",
    "    return necessary_number + unnecessary_number"
   ]
  },
  {
   "cell_type": "markdown",
   "id": "b62c3fa7-e36c-4479-8769-a2de3afa58e4",
   "metadata": {},
   "source": [
    "### Numpy konvence\n",
    "U numpy konvence jsou již jména a datové typy parametrů na stejné řádce."
   ]
  },
  {
   "cell_type": "code",
   "execution_count": 4,
   "id": "c32e36c8-e8f0-425b-bdf4-f41894800e66",
   "metadata": {},
   "outputs": [],
   "source": [
    "def get_some_nonsense(necessary_number:int, unnecessary_number:int=2)->int:\n",
    "    \"\"\"Returns the sum of input numbers.\n",
    "\n",
    "    Parameters\n",
    "    ----------\n",
    "    necessary_number : int\n",
    "        First number.\n",
    "     unnecessary_number : int\n",
    "         Second number.\n",
    "\n",
    "    Returns\n",
    "    -------\n",
    "    int\n",
    "        Sum of numbers.\n",
    "    \"\"\"\n",
    "    return necessary_number + unnecessary_number"
   ]
  },
  {
   "cell_type": "markdown",
   "id": "f7981b9f-a9a3-4714-9e93-48e09f6df661",
   "metadata": {},
   "source": [
    "### Google konvence\n",
    "Google konvence vypadá jako na klepání do klávesnice úspornější verze numpy konvence. Nutno podotknout, že v nové verzi [Google konvencí](https://google.github.io/styleguide/pyguide.html#383-functions-and-methods) se zde už závorky s datovými typy neobjevují (možná byla tato informace vzhledem k typovým anotacím shledána nadbytečnou?)."
   ]
  },
  {
   "cell_type": "code",
   "execution_count": null,
   "id": "3007aac4-ed9e-4faf-90d4-b94ca1d273e4",
   "metadata": {},
   "outputs": [],
   "source": [
    "def get_some_nonsense(necessary_number:int, unnecessary_number:int=2)->int:\n",
    "    \"\"\"Returns the sum of input numbers.\n",
    "\n",
    "    Args:\n",
    "        necessary_number(int): First number.\n",
    "        unnecessary_number(int): Second number.\n",
    "\n",
    "    Returns:\n",
    "        int: Sum of numbers.\n",
    "    \"\"\"\n",
    "    return necessary_number + unnecessary_number"
   ]
  },
  {
   "cell_type": "markdown",
   "id": "b9df05ca-16d9-4ac9-a01d-e99625b7f8a0",
   "metadata": {},
   "source": [
    "## Bandit\n",
    "Badit má v principu podobnou funkci jako Pylint či Mypy - slouží ke kontrole kódu. Zaměřuje se přitom výhradně na problémy spojené s jeho bezpečností. Patří sem například hardcodovaná hesla, vyignorované výjimky (velký počet výjimek může indikovat pokus o útok a pokud se takováto věc ani neloguje...) či třeba použití *exec* příkazu. Seznam všech sledovaných věcí nalezneme [zde](https://bandit.readthedocs.io/en/latest/plugins/index.html).  \n",
    "Samotné použití má následující podobu:\n",
    "```python\n",
    "bandit my_script.py\n",
    "```\n",
    "přičemž výstup vypadá nějak takto>\n",
    "```\n",
    "[main]  INFO    profile include tests: None\n",
    "[main]  INFO    profile exclude tests: None\n",
    "[main]  INFO    cli include tests: None\n",
    "[main]  INFO    cli exclude tests: None\n",
    "[main]  INFO    running on Python 3.10.11\n",
    "Run started:2024-07-29 17:33:24.777244\n",
    "\n",
    "Test results:\n",
    ">> Issue: [B105:hardcoded_password_string] Possible hardcoded password: '1234hello'\n",
    "   Severity: Low   Confidence: Medium\n",
    "   CWE: CWE-259 (https://cwe.mitre.org/data/definitions/259.html)\n",
    "   More Info: https://bandit.readthedocs.io/en/1.7.9/plugins/b105_hardcoded_password_string.html\n",
    "   Location: .\\my_script.py:16:11\n",
    "15\n",
    "16      password = \"1234hello\"\n",
    "17      print(password)\n",
    "\n",
    "--------------------------------------------------\n",
    "\n",
    "Code scanned:\n",
    "        Total lines of code: 13\n",
    "        Total lines skipped (#nosec): 0\n",
    "\n",
    "Run metrics:\n",
    "        Total issues (by severity):\n",
    "                Undefined: 0\n",
    "                Low: 1\n",
    "                Medium: 0\n",
    "                High: 0\n",
    "        Total issues (by confidence):\n",
    "                Undefined: 0\n",
    "                Low: 0\n",
    "                Medium: 1\n",
    "                High: 0\n",
    "Files skipped (0):\n",
    "```\n",
    "Pakliže chceme prozkoumat všechny soubory v adresáři, musíme použít parametr -r:\n",
    "```\n",
    "bandit -r my_dir\n",
    "```"
   ]
  },
  {
   "cell_type": "markdown",
   "id": "c2201add-f9e6-4799-88da-c076a3bed9ac",
   "metadata": {},
   "source": [
    "## Github Actions\n",
    "Ono je sice pěkné, že u sebe na lokálu ručně všechny možné i nemožné kontroly spouštíme, ale co když na to jednou zapomeneme a do main větve repozitáře pošleme kód s bugy? Řešení spočívá v automatickém spuštění kontrol při každém pull requestu do mainu či jiné důležité větve. Samo o sobě by se nejednalo o snadnou věc - něco (třeba Jenkins skrz webhooky) by muselo sledovat repozitář, při pull requestu vzít kód, otestovat ho na nějakém pískovišti a na základě výsledku buďto kódu merge dovolit, anebo odmítnout. Naštěstí nic složitého vyrábět  nemusíme - celou tuto funkcionalitu dostáváme (minimálně coby běžní uživatelé) zadarmo v rámci Github Actions.  \n",
    "Jak na to? V repozitáři si uděláme složku \".github/workflows\", do které umístíme soubor \"build.yml\". Ten bude obsahovat text v následujícím stylu:\n",
    "```yaml\n",
    "name: example workflow\n",
    "\n",
    "on:\n",
    "  push:\n",
    "      branches: [ main ]\n",
    "  pull_request:\n",
    "      branches: [ main ]\n",
    "\n",
    "\n",
    "jobs:\n",
    "  build:\n",
    "    runs-on: ubuntu-latest\n",
    "    steps:\n",
    "    - uses: actions/checkout@v4\n",
    "    - name: Create Python environment\n",
    "      uses: actions/setup-python@v5\n",
    "      with:\n",
    "        python-version: 3.10.14\n",
    "    - name: Install packages\n",
    "      run: |\n",
    "        pip install -r requirements.txt\n",
    "    - name: Do linting checks\n",
    "      run: |\n",
    "        pylint --disable=C,W my_script.py\n",
    "    - name: Run the tests\n",
    "      run: |\n",
    "        python -m pytest tests\n",
    "```\n",
    "Napřed specifikujeme, pod jakým jménem budou v githubovské záložce \"Actions\" běhy kontrolního workflow k nalezení. Následně přikazujeme, že se má kontrolní workflow spustit při pushích a pull requestech do větve main. Nakonec zmiňujeme, že testy poběží na nejnovějším Ubuntu s určitou verzí Pythonu, že se mají nainstalovat balíčky z requiremts.txt a že má proběhnout linterování a testy. Pipa za \"run:\" umožňuje, aby příkazy mohly být na více řádcích.  \n",
    "\n",
    "V příkladu výše pouštíme celou věc na Linuxu. V případě, že bychom chtěli Windowsy, použijeme v sekci \"runs-on\" \"windows-latest\". Nicméně nastává problém - ne pro každou verzi Pythonu je k dispozici windowsovská instalačka. Dostupné kombinace platforem a pythoních verzí lze nalézt [zde](https://raw.githubusercontent.com/actions/python-versions/main/versions-manifest.json).  \n",
    "V případě, že bychom chtěli naráz testovat více operačních systémů a/nebo verzí Pythonu, musíme yaml soubor upravit následujícím způsobem:\n",
    "```yaml\n",
    "name: example workflow\n",
    "\n",
    "on:\n",
    "  push:\n",
    "      branches: [ main ]\n",
    "  pull_request:\n",
    "      branches: [ main ]\n",
    "\n",
    "\n",
    "jobs:\n",
    "  build:\n",
    "    runs-on: ${{ matrix.os }}\n",
    "    strategy:\n",
    "      matrix:\n",
    "        os: [windows-latest, ubuntu-latest]\n",
    "        python-version: [3.12.4, 3.10.14]\n",
    "    steps:\n",
    "    - uses: actions/checkout@v4\n",
    "    - name: Create Python environment\n",
    "      uses: actions/setup-python@v5\n",
    "      with:\n",
    "        python-version: ${{ matrix.python-version }}\n",
    "    - name: Install packages\n",
    "      run: |\n",
    "        pip install -r requirements.txt\n",
    "    - name: Do linting checks\n",
    "      run: |\n",
    "        pylint --disable=C,W hello.py\n",
    "    - name: Run the tests\n",
    "      run: |\n",
    "        python -m pytest -vv --cov=hello test_hello.py\n",
    "```\n",
    "\n",
    "Snad ještě jedna věc - v yamlu výše máme uvedené, že se kontrola bude spouštět i po pushi do masteru. To sice ano, ale... Aby Github Actions kontrolu mohlo spustit, tak se napřed musí dostat ke kódu. No a pokud člověk udělá z lokálu push do mainu na Github repozitáři, tak fakticky kontrola proběhne až poté, co už se všechny skripty na mainu zabydlí. Tj. i když kontrola spadne, na mainu špatná verze kódu zůstane."
   ]
  },
  {
   "cell_type": "code",
   "execution_count": null,
   "id": "e1646602-fa81-4ef9-80dd-26967e909f77",
   "metadata": {},
   "outputs": [],
   "source": []
  }
 ],
 "metadata": {
  "kernelspec": {
   "display_name": "Python 3 (ipykernel)",
   "language": "python",
   "name": "python3"
  },
  "language_info": {
   "codemirror_mode": {
    "name": "ipython",
    "version": 3
   },
   "file_extension": ".py",
   "mimetype": "text/x-python",
   "name": "python",
   "nbconvert_exporter": "python",
   "pygments_lexer": "ipython3",
   "version": "3.10.11"
  }
 },
 "nbformat": 4,
 "nbformat_minor": 5
}
