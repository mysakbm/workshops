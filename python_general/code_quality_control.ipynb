{
 "cells": [
  {
   "cell_type": "markdown",
   "id": "9f7c216c-237a-4f49-bb88-08900588866e",
   "metadata": {},
   "source": [
    "# WORK IN PROGRESS"
   ]
  },
  {
   "cell_type": "markdown",
   "id": "ae3d55f3-413a-40b6-bca6-21d3590ae646",
   "metadata": {},
   "source": [
    "# Kvalita kódu\n",
    "Většina poznámek, které nalezneme v tomto repozitáři, se točí kolem otázky jak něco udělat. Text, který právě čteme, má zaměření jiné - věnuje se kvalitě kódu a jeho udržitelnosti. Tj. jde nám o to, jak napsat kód tak, aby se v něm některý náš kolega (anebo třeba i my sami po půl roce) vyznal a aby byl kód co možná nejméně náročný na údržbu. "
   ]
  },
  {
   "cell_type": "markdown",
   "id": "18a6cf0c-b596-493c-9adc-4eef10f78fce",
   "metadata": {},
   "source": [
    "## Virtuální prostředí\n",
    "Člověku nic nebrání nainstalovat si nejprve Python a potom skrze pip i různorodé balíčky. Dřív nebo později ale dojde k situaci, kdy projekt A potřebuje balíček o verzi 0.20 a ne novější, zatímco projekt B stojí a padá s totožným balíčkem, ale ve verzi 1.25 a ne starší. Co s tím potom dělat? V závislosti na úloze, na které programátor zrovna pracuje, balíčky přeinstalovávat? Z toho by byl jen jeden velký zmatek a ještě by se přitom mohly nabořit verze dalších balíčků. Správně řešení spočívá ve využití virtuálních prostředí.  \n",
    "Virtuální prostředí vytvoříme příkazem (puštěným v příkazovém řádku)\n",
    "```\n",
    "python -m venv environment\n",
    "```\n",
    "Zde říkáme \"hlavní\" instalaci pythonu, že chceme pustit balíček [venv](https://docs.python.org/3/library/venv.html) jako skript (proto parametr -m) s parametrem environment. Environment zde nereprezentuje klíčové slovo, ale jméno nového virtuálního prostředí a současně adresáře, který vznikne v pracovním adresáři příkazového řádku. Následně se do nově vytvořeného virtuálního prostředí přepneme příkazem\n",
    "```\n",
    "environment\\Scripts\\activate\n",
    "```\n",
    "resp. pokud jsme na Linuxu a nikoli na Windowsech\n",
    "```\n",
    "source environment\\bin\\activate\n",
    "```\n",
    "V tento okamžik už se příkazy **python** a **pip** nebudou vázat na python.exe a pip.exe bydlící v instalačním adresáři Pythonu, nýbrž na stejnojmené exe soubory ležící ve virtuálním prostředí. Když budeme nyní instalovat balíčky, uloží se (a budou viditelné v) jen do aktivního virtuálního prostředí a nebudou nijak interferovat s obsahem jiných virtuálních prostředí anebo s balíčky nainstalovanými v rámci základní pythoní instalace. Pokud chceme virtuální prostředí opustit, napíšeme do konzole příkaz\n",
    "```\n",
    "deactivate\n",
    "```\n",
    "Nikdy do adresáře environment (resp. jeho ekvivalentu, pokud jsme zvolili jiné jméno) explicitně neukládáme vlastní soubory. Onen adresář se totiž neverzuje (je na to moc velký a nic důležitého, co by nebylo jinde, v něm není). I kdybychom chtěli adresář překopírovat či přesunout, raději to nedělejme - lepší je vytvořit nové identické virtuální prostředí (při přesunu by se mohla nabořit vazba s mateřskou instalací).  \n",
    "Virtuální prostředí mají ze svého principu jednu nevýhodu - pokud nějaký balíček potřebujeme v několika z nich, musíme ho do každého prostředí nainstalovat. To ve výsledku znamená, že se nám po nějaké době nemusí dostávat místo na disku. Proto může být účelné prostředí v nepoužívaných projektech vymazat s tím, že v případě nutnosti ona prostředí znovuvytvoříme s pomocí requirements souborů.\n",
    "\n",
    "## Requirements\n",
    "Soubor requirements.txt v minimální variantě obsahuje jména balíčků (co řádek, to jeden balíček), které by měly být pro potřeby určitého projektu nainstalovány. Namísto toho, aby člověk instaloval balíčky ručně jeden po druhém, stačí pustit\n",
    "```\n",
    "pip install -r requirements.txt\n",
    "```\n",
    "Pozn.: soubor se seznamem balíčků se může jmenovat i jinak, jméno \"requirements.txt\" je zkrátka jen nejobvyklejší.  \n",
    "Obvykle chceme, aby virtuální prostředí vytvořené s pomocí requirements.txt bylo totožné jako to, na kterém jsme na našich počítačích původně pracovali.  V takovém případě nám ale nestačí pouze jména balíčků, měli bychom udat i jejich verze. Tj. řádky v requirements.txt by měly vypadat nějak takto:\n",
    "```\n",
    "pandas==2.2.2\n",
    "```\n",
    "V případě, že by nám z nějakého důvodu stačilo vynucovat minimální verzi balíčku, napíšeme \"pandas>=2.0.0\", pokud naopak nové verze nechceme, použijeme zápis \"pandas<2.0.0\".  \n",
    "Vyvstává tu ale jeden problém. Pakliže bychom do requirements.txt například napsali jen pandy, budou se prerekvizitní balíčky (numpy, six atd.) instalovat podle pandích requirements.txt (či spíše pandího setup.py). Dost možná se tyto balíčky nainstalují v novější verzi, tj. původní a nové virtuální prostředí nebudou stejné a tak hrozí výskyt bugů. Ok, takže si obsah našeho prostředí zafixujeme skrze pip freeze? Tj. do konzole napíšeme\n",
    "```\n",
    "pip freeze > requirements.txt\n",
    "```\n",
    "Nyní by se ale do našeho nového, dejme tomu produkčního environmentu nainstalovaly i věci typu pytest anebo třeba jupyter, které v produkci potřeba nebudou.  \n",
    "Na rovinu nyní netuším, zda je lepší možnost 1, možnost 2 anebo zda neexistuje třetí cesta skrze dodatečnou utilitu typu Poetry. Možná je řešením mít krom vývojového prostředí i testovací prostředí, kde budou jen ty opravdu potřebné balíčky pro běh aplikace a do produkčního requirements pak půjde freeze právě tohoto prostředí? "
   ]
  },
  {
   "cell_type": "markdown",
   "id": "39c27929-1e22-42a8-b21e-c3376388375f",
   "metadata": {},
   "source": [
    "## PEP 8\n",
    "Jak velké používat odřádkování (a mají se používat tabulátory či mezerníky)? Jaká by měla být maximální délka řádku? Podle jaké konvence by měly být pojmenovány proměnné? Tyto a mnohé další otázky mohou mít principielně různé odpovědi. V rámci jednoho týmu by jejich řešení mohlo vést k dlouhému dohadování, v globálním pohledu by zase různé předpoklady o tom, jak má co vypadat, mohly vést k ztížené čitelnosti kódu od různých lidí. Aby se zamezilo divergenci v konvencích, vznikl oficiální dokument věnovaný vhodné formální podobě kódu [PEP 8](https://peps.python.org/pep-0008/). Člověk též občas narazí na zmínky o [Google konvencích](https://google.github.io/styleguide/pyguide.html). Ty se možná kdysi od PEP 8 lišily, dnes se ale víceméně jedná o podrobnější rozepsání oblastí v PEP 8 zmíněných.  \n",
    "\n",
    "No jo, ono je sice užitečné si výše uvedené dokumenty přečíst, ale kdo má při tvorbě a kontrole kódu na vše myslet? Naštěstí existují utility, které nám s takovou prací pomohou. Jedná se o formattery a lintery. Formattery hledají věci, které lze bez znalosti kontextu kódu opravit, a opravu provedou. Mluvíme tu o špatném odřádkování, chybějících či přebývajících mezerách apod. Nejznámějšími formattery jsou **Black** a **Yapf**. Lintery sice chybějící či přebývající mezery taky hledají, nicméně zaměřují se i na nepoužité proměnné či funkce, chybějící importy či nevhodná pojmenování. Změny ale neprovádějí, jen uživateli problémy nahlásí. V oblasti pythoních linterů dominují **Pylint** a **Flake8**.\n",
    "\n",
    "### Black\n",
    "[Black](https://black.readthedocs.io/en/stable/) je význačný možnostmi nastavení - téměř žádné nejsou. \n",
    "Použití je triviální - v konzoli člověk napíše\n",
    "```\n",
    "black muj_skript.py\n",
    "```\n",
    "případně\n",
    "```\n",
    "black adresar_se_skripty\n",
    "```\n",
    "Jednu z mála věcí, které se v Blacku dají změnit, představuje šířka řádku. Pokud nám defaultní velikost 88 nevyhovuje, použijeme parametr -l (resp. --line-length):\n",
    "```\n",
    "black adresar_se_skripty -l 100\n",
    "```\n",
    "\n",
    "### Yapf\n",
    "Yapf si můžeme představit jako Black, u kterého se dá změnit úplně všechno.  \n",
    "Pro základní úpravu jednoho souboru musíme použít parametr -i (resp. --in-place) - bez něj by se výstup Yapfu neuložil do souboru, nýbrž by se pouze vytiskl do konzole.\n",
    "```\n",
    "yapf -i muj_skript.py\n",
    "```\n",
    "Pokud chceme upravit všechny soubory v adresáři, musíme navíc přidat parametr -r (--recursive)\n",
    "```\n",
    "yapf -i -r adresar_se_skripty\n",
    "```\n",
    "Defaultně Yapf postupuje podle PEP 8. Chceme-li, aby se pracovalo podle Google stylu, použijeme parametr --style následovaný hodnotou \"google\":\n",
    "```\n",
    "yapf -i --style google muj_skript.py\n",
    "```\n",
    "Pokud bychom z nějakého důvodu chtěli defaultní chování specifikovat explicitně, použijeme namísto toho hodnotu \"pep8\". Můžeme si vytvořit i svůj vlastní styl. Ten popíšeme v konfiguračním souboru (v příkladu pojmenovaném jako .yapfstyle, ale jmenovat se může všelijak). Příklad budiž takovýto:\n",
    "```\n",
    "[style]\n",
    "based_on_style = pep8\n",
    "column_limit = 40\n",
    "```\n",
    "Zde specifikujeme, z jakého stylu vycházíme a následně uvádíme změny - v příkladu maximální šířku řádku rovnou 40 znakům. Jména parametrů jsou k nalezení v [dokumentaci](https://github.com/google/yapf). Při samotném použití napíšeme jméno konfiguráku za parametr --style:\n",
    "```\n",
    "yapf -i --style .yapfstyle muj_skript.py\n",
    "```"
   ]
  },
  {
   "cell_type": "markdown",
   "id": "bc59ac2d-153c-4d85-a562-609245cbf494",
   "metadata": {},
   "source": [
    "### Pylint\n",
    "Pylintem zkontrolujeme pythoní skript pomocí příkazu\n",
    "```\n",
    "pylint muj_skript.py\n",
    "```\n",
    "Pylint můžeme vypustit i na celý adresář:\n",
    "```\n",
    "pylint adresar_se_skripty\n",
    "```\n",
    "Vždy dostaneme report věující se postupně různým okruhům problémů, který je ukončen bodovým hodnocením. Bodové maximum reprezentující z hlediska Pylintu ideální kód se rovná 10, minimum může být v principu v mínus nekonečnu (samozřejmě by se člověk musel hodně snažit, aby skončil pod dejme tomu -10). Též se uživateli ukáže bodové hodnocení předchozího běhu, aby mohl posoudit, jestli se kvalita kódu s provedenými změnami spíše zlepšila či zhoršila.  \n",
    "\n",
    "Představme si nyní, že bychom Pylint nepoušteli ručně v rámci nějaké ad-hoc kontroly, nýbrž že by byl součástí CICD pipeliny. Jak docílit toho, aby se v případě nízkého skóre nasazovací pipelina zastavila? I když to při ruční práci nevidíme, Pylint krom reportu jako hádám každý proces vrací *exit code*. Nicméně v tomto případě číslo různé od nuly neznamená, že Pylint jako program spadl, nýbrž že ve zkoumaném skriptu nalezl nějaké problémy. A jaké? To je definované kódem určeným s pomocí [této](https://pylint.pycqa.org/en/latest/user_guide/usage/run.html#exit-codes) tabulky. Jestli správně chápu její logiku, tak výskyt aspoň jednoho problému určitého druhu přispívá odpovídajícím číslem z tabulky a tato čísla se ve finále sečtou. Přitom výskyt různých problémů stejného typu už žádný dodatečný příspěvek nepřidává. Tj. například  když bychom v reportu měli tři problémy s konvencí a dva errory, vrátil by se nám *exit code* o velikosti 18. A jak vlastně onen *exit code* zobrazíme? Musíme jako příkaz následující po proběhnutí pylintu ve windosowské konzoli pustit následující:\n",
    "```\n",
    "echo %ERRORLEVEL%\n",
    "```\n",
    "No jo, jenže občas kód nesplňuje všechny záležitosti na 100%. A asi nedává smysl, aby se nasazení zastavilo kvůli jedné hlášce na konvenci. Proto lze Pylint pustit s parametrem --fail-under=cislo, který zajistí, že se nenulový error code vygeneruje jen když je skóre reportu menší než cislo (defaultně 10). Tj. v praxi to vypadá třeba takto:\n",
    "```\n",
    "pylint --fail-under=7 muj_skript.py\n",
    "```\n",
    "\n",
    "\n",
    "\n",
    "nastavení a že si ho najde sám (když má soubor správné jméno)\n"
   ]
  },
  {
   "cell_type": "markdown",
   "id": "b9df05ca-16d9-4ac9-a01d-e99625b7f8a0",
   "metadata": {},
   "source": [
    "\n",
    "\n",
    "## Pydantic\n",
    "## Lintery (Pylint, Flake8)\n",
    "\n",
    "## Docstringy\n",
    "\n",
    "## Typové anotace a mypy\n",
    "\n",
    "## Bandit"
   ]
  },
  {
   "cell_type": "code",
   "execution_count": null,
   "id": "fbb6766d-5317-4f8f-a0c0-e7006a6dfe0e",
   "metadata": {},
   "outputs": [],
   "source": []
  }
 ],
 "metadata": {
  "kernelspec": {
   "display_name": "Python 3 (ipykernel)",
   "language": "python",
   "name": "python3"
  },
  "language_info": {
   "codemirror_mode": {
    "name": "ipython",
    "version": 3
   },
   "file_extension": ".py",
   "mimetype": "text/x-python",
   "name": "python",
   "nbconvert_exporter": "python",
   "pygments_lexer": "ipython3",
   "version": "3.10.11"
  }
 },
 "nbformat": 4,
 "nbformat_minor": 5
}
