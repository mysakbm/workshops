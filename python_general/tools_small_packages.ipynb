{
 "cells": [
  {
   "cell_type": "markdown",
   "id": "fd76968c",
   "metadata": {},
   "source": [
    "## Slovo úvodem\n",
    "Narozdíl od jiných notebooků v této části repozitáře tento notebook nevznikl jako podklad pro nějaký workshop či přednášku. Cílem spíše bylo mít někde ucelený soubor poznámek, který by byl vždy po ruce. Samozřejmě i tak se snažím, aby byl níže uvedený text čitelný a nebylo v něm příliš mnoho chyb. Přes to ale bude vzhledem ke svému účelu méně koherentní než texty jiné."
   ]
  },
  {
   "cell_type": "markdown",
   "id": "94822940",
   "metadata": {},
   "source": [
    "## Wheely"
   ]
  },
  {
   "cell_type": "markdown",
   "id": "78ab67b5",
   "metadata": {},
   "source": [
    "Při instalaci balíčku pomocí **pip install jmeno_balicku** se pip podívá na pypi.org a zkusí pro chtěný balíček nalézt wheel. Pokud se to nepovede, pokusí se pip stáhnout zdrojový kód. Co to ale vlastně ten wheel je a proč ho pip upřednostňuje před zdrojovým kódem?  \n",
    "Wheel je fakticky zip archiv obsahující soubory nutné k instalaci balíčku. Důležitá je skutečnost, že pokud balíček využívá Cčková rozšíření, má ve wheelu už odpovídající kód zkompilovaný pro příslušnou verzi Pythonu, operační systém a HW architekturu. Díky tomu nemusí mít u sebe uživatel nainstalovaný kompilátor, resp. při absenci kompilátoru smutně koukat na chybovou hlášku. Její příklad se nalézá níže pro balíček majka, který má na pypi.org pouze zdroják. \n",
    "```\n",
    "(environment) C:\\vs\\programovani\\python\\drobne_knihovny>pip install majka\n",
    "Collecting majka\n",
    "  Using cached https://files.pythonhosted.org/packages/6c/0c/92a788a342a880a676a9cf66b91ec6ec09fbabe5f87decc2cc7d1642b583/majka-0.8.tar.gz\n",
    "Installing collected packages: majka\n",
    "  Running setup.py install for majka ... error\n",
    "    Complete output from command c:\\vs\\programovani\\python\\drobne_knihovny\\environment\\scripts\\python.exe -u -c \"import setuptools, tokenize;__file__='C:\\\\Users\\\\NEWNOT~1\\\\AppData\\\\Local\\\\Temp\\\\pip-install-jq2cz80k\\\\majka\\\\setup.py';f=getattr(tokenize, 'open', open)(__file__);code=f.read().replace('\\r\\n', '\\n');f.close();exec(compile(code, __file__, 'exec'))\" install --record C:\\Users\\NEWNOT~1\\AppData\\Local\\Temp\\pip-record-jb0sqhcm\\install-record.txt --single-version-externally-managed --compile --install-headers c:\\vs\\programovani\\python\\drobne_knihovny\\environment\\include\\site\\python3.7\\majka:\n",
    "    running install\n",
    "    running build\n",
    "    running build_ext\n",
    "    building 'majka' extension\n",
    "    error: Microsoft Visual C++ 14.0 is required. Get it with \"Microsoft Visual C++ Build Tools\": https://visualstudio.microsoft.com/downloads/\n",
    "\n",
    "    ----------------------------------------\n",
    "Command \"c:\\vs\\programovani\\python\\drobne_knihovny\\environment\\scripts\\python.exe -u -c \"import setuptools, tokenize;__file__='C:\\\\Users\\\\NEWNOT~1\\\\AppData\\\\Local\\\\Temp\\\\pip-install-jq2cz80k\\\\majka\\\\setup.py';f=getattr(tokenize, 'open', open)(__file__);code=f.read().replace('\\r\\n', '\\n');f.close();exec(compile(code, __file__, 'exec'))\" install --record C:\\Users\\NEWNOT~1\\AppData\\Local\\Temp\\pip-record-jb0sqhcm\\install-record.txt --single-version-externally-managed --compile --install-headers c:\\vs\\programovani\\python\\drobne_knihovny\\environment\\include\\site\\python3.7\\majka\" failed with error code 1 in C:\\Users\\NEWNOT~1\\AppData\\Local\\Temp\\pip-install-jq2cz80k\\majka\\\n",
    "```\n",
    "S wheelem je instalace mnohem jednodušší.\n",
    "```\n",
    "(environment) C:\\vs\\programovani\\python\\drobne_knihovny>pip install numpy\n",
    "Collecting numpy\n",
    "  Downloading https://files.pythonhosted.org/packages/eb/a9/1e4215043cac5ffc6a5ab1f2e0e58a680fc8fd19e28eb28c01e90aeace3e/numpy-1.21.1-cp37-cp37m-win_amd64.whl (14.0MB)\n",
    "    100% |████████████████████████████████| 14.0MB 3.2MB/s\n",
    "Installing collected packages: numpy\n",
    "Successfully installed numpy-1.21.1\n",
    "```"
   ]
  },
  {
   "cell_type": "markdown",
   "id": "06c0c357",
   "metadata": {},
   "source": [
    "Podívejme se, co se vlastně ve wheelu nachází. Jak bylo uvedeno výše, wheel je archiv, nikoli binární soubor. Pro \"čistý\" balíček, který nepoužívá Cčko, se tak ve wheelu nachází zdrojový kód v normální pro člověka čitelné podobě."
   ]
  },
  {
   "cell_type": "markdown",
   "id": "513fad82",
   "metadata": {},
   "source": [
    "Wheely mají častokrát dosti divoké názvy. Jak je rozklíčovat? Šablona názvu má tvar {distribution}-{version}(-{build tag})?-{python tag}-{abi tag}-{platform tag}.whl, přičemž jako konkrétní příklad použijme dejme tomu numpy-1.21.1-cp37-cp37m-win_amd64.whl. \n",
    "- distribution značí jméno balíčku (numpy) a version jeho verzi (1.21.1)  \n",
    "- build tag je nepovinný - proto se v šabloně nalézá otazník. Používá se v případě, kdy by měly dva wheely všechny ostatní identifikátory (vč. verze balíčku) identické. U výše zmíněného numpy balíčku build tag přítomný není a hádám, že se s ním člověk při stahování souborů z pypi.org asi moc nesetká.  \n",
    "- python tag udává verzi Pythonu, pro který je wheel určen. Pokud bude balíček fungovat jak pro Python 2, tak pro Python 3, objeví se zde py2.py3. Pokud je ale určen pouze pro jednu z těchto možností, objeví se py2, nebo py3. Velice často ale dochází k tomu, že balíček funguje jen pro konkrétní minoritní verzi Pythonu. Tehdy se v názvu wheelu objeví např. py37. Nám se u numpy ale objevilo cp37. Písmeno c udává implementaci, konkrétně CPython. Balíček fungující na jakékoli implementaci Python má výše zmíněné py, například Jython by měl jy - více zkratek viz [zde](https://www.python.org/dev/peps/pep-0425/#python-tag), povídání k implementacím [tady](https://wiki.python.org/moin/PythonImplementations).  \n",
    "- ABI je zkratka pro Application Binary Interface. Jestli jsem vše správně pochopil, jedná se o interface, skrze který komunikuje program s DDLkama poskytovanýma Pythoní instalací nebo třeba operačním systémem (viz [toto](https://stackoverflow.com/questions/2171177/what-is-an-application-binary-interface-abi) a [toto](https://www.python.org/dev/peps/pep-0384/)). V našem konkrétním příkladě zde máme cp37m - první čtyři znaky se vztahují ke minor verzi Pythonu, písmeno m se týka [\"pymalloc alocatoru\"](https://stackoverflow.com/questions/54097033/what-does-the-m-in-a-python-abi-tag-mean).  \n",
    "- jako poslední je tag s operačním systémem a architekturou."
   ]
  },
  {
   "cell_type": "markdown",
   "id": "698ce197",
   "metadata": {},
   "source": [
    "Co ale dělat, když člověk u sebe potřebuje wheel vytvořit? Postup si ukážeme na balíčku majka, jehož zdrojáky v podobě archivu stáhneme [zde](https://pypi.org/project/majka/#files) a do pracovního adrsáře si rozbalíme majka-0.8. Dále si nainstalujeme pomocný balíček určený právě na vytváření wheelů (pip install wheel).  \n",
    "Defaultní postup by bylo vlézt do adresáře balíčku (majka-0.8) a v něm spustit \n",
    "```\n",
    "python setup.py bdist_wheel\n",
    "```\n",
    "To ale spadne na chybové hlášce \"error: invalid command 'bdist_wheel'\". Řešení spočívá v editaci souboru majka-0.8\\setup.py - před řádek \"from distutils.core import setup, Extension\" se musí umístit \"import setuptools\". Pořadí je zde důležité - pokud bychom importění setuptools umístili až na distutils.core, dostali bychom po spuštění wheel vytvářejícího příkazu chybu \"error: each element of 'ext_modules' option must be an Extension instance or 2-tuple\". Paklíiže se wheel úspěšně vytvořil, nalezneme ho v adresáři majka-0.8\\dist\\majka-0.8-cp37-cp37m-win_amd64.whl.  \n",
    "Podle dokumentace pro vytvoření wheelu u čistých balíčků nevyužívajících Cčko stačí do setup.cfg vložit\n",
    "```\n",
    "[bdist_wheel]\n",
    "universal = 1\n",
    "```\n",
    "Když ale to samé napíšeme u majky, ktrá Cčko potřebuje, je výsledný wheel úplně stejný jako předtím.\n",
    " "
   ]
  },
  {
   "cell_type": "markdown",
   "id": "41940c89",
   "metadata": {},
   "source": [
    "## Request"
   ]
  },
  {
   "cell_type": "code",
   "execution_count": 1,
   "id": "07b6cb8e",
   "metadata": {
    "ExecuteTime": {
     "end_time": "2021-08-08T18:42:29.025019Z",
     "start_time": "2021-08-08T18:42:23.614548Z"
    }
   },
   "outputs": [],
   "source": [
    "import requests"
   ]
  },
  {
   "cell_type": "markdown",
   "id": "155b6ed8",
   "metadata": {},
   "source": [
    "Pokud chceme provolat pomocí GETu nějakou stránku, napíšeme"
   ]
  },
  {
   "cell_type": "code",
   "execution_count": 5,
   "id": "2a36c9ea",
   "metadata": {
    "ExecuteTime": {
     "end_time": "2021-08-07T11:53:09.005804Z",
     "start_time": "2021-08-07T11:53:06.291159Z"
    }
   },
   "outputs": [
    {
     "data": {
      "text/plain": [
       "<Response [200]>"
      ]
     },
     "execution_count": 5,
     "metadata": {},
     "output_type": "execute_result"
    }
   ],
   "source": [
    "requests.get(\"https://seznam.cz\")"
   ]
  },
  {
   "cell_type": "markdown",
   "id": "0e6ed60f",
   "metadata": {},
   "source": [
    "Zdůrazněme, že https:// je potřeba - jinak se objeví chyba \n",
    "```\n",
    "MissingSchema: Invalid URL 'seznam.cz': No schema supplied. Perhaps you meant http://seznam.cz?\n",
    "```"
   ]
  },
  {
   "cell_type": "markdown",
   "id": "447152cf",
   "metadata": {},
   "source": [
    "Navrátový kód je sice pěkný, ale obvykle chceme GETem získat i nějaké nemetadatové informace. Návratový objekt si tak uložíme do proměnné:"
   ]
  },
  {
   "cell_type": "code",
   "execution_count": 6,
   "id": "7dcf9900",
   "metadata": {
    "ExecuteTime": {
     "end_time": "2021-08-07T11:54:35.366310Z",
     "start_time": "2021-08-07T11:54:35.088650Z"
    }
   },
   "outputs": [],
   "source": [
    "response = requests.get(\"https://seznam.cz\")"
   ]
  },
  {
   "cell_type": "markdown",
   "id": "6c7a1b08",
   "metadata": {},
   "source": [
    "Printění tohoto objektu dává informaci o návratovém kódu."
   ]
  },
  {
   "cell_type": "code",
   "execution_count": 9,
   "id": "e17c7775",
   "metadata": {
    "ExecuteTime": {
     "end_time": "2021-08-07T11:55:38.763488Z",
     "start_time": "2021-08-07T11:55:38.746424Z"
    }
   },
   "outputs": [
    {
     "name": "stdout",
     "output_type": "stream",
     "text": [
      "<Response [200]>\n"
     ]
    }
   ],
   "source": [
    "print(response)"
   ]
  },
  {
   "cell_type": "markdown",
   "id": "6f0edebb",
   "metadata": {},
   "source": [
    "Nicméně pokud ccheme tento kód získat jako integer a ne jako nějakou responsi, musíme šáhnout na atribut *status_code* response objektu."
   ]
  },
  {
   "cell_type": "code",
   "execution_count": 10,
   "id": "2953c550",
   "metadata": {
    "ExecuteTime": {
     "end_time": "2021-08-07T11:56:56.709692Z",
     "start_time": "2021-08-07T11:56:56.693535Z"
    }
   },
   "outputs": [
    {
     "data": {
      "text/plain": [
       "200"
      ]
     },
     "execution_count": 10,
     "metadata": {},
     "output_type": "execute_result"
    }
   ],
   "source": [
    "response.status_code"
   ]
  },
  {
   "cell_type": "markdown",
   "id": "a20e4dbb",
   "metadata": {},
   "source": [
    "Pokud bychom chtěli získat samotný obsah návratové zrpávy, zavolali bychom\n",
    "```python\n",
    "response.content\n",
    "```\n",
    "případně\n",
    "```python\n",
    "response.text\n",
    "```\n",
    "Nicméně tyto zprávy by v případě seznamácké stránky byly příliš velké a tak i nepřehledné. Proto se pokusíme provolat Elasticsearch bydlící na lokálu na portu 9200."
   ]
  },
  {
   "cell_type": "code",
   "execution_count": 12,
   "id": "594dcbc1",
   "metadata": {
    "ExecuteTime": {
     "end_time": "2021-08-07T12:21:02.182661Z",
     "start_time": "2021-08-07T12:21:02.161718Z"
    }
   },
   "outputs": [],
   "source": [
    "response = requests.get(\"http://localhost:9200\")"
   ]
  },
  {
   "cell_type": "code",
   "execution_count": 14,
   "id": "6ec74641",
   "metadata": {
    "ExecuteTime": {
     "end_time": "2021-08-07T12:21:15.007470Z",
     "start_time": "2021-08-07T12:21:14.997498Z"
    }
   },
   "outputs": [
    {
     "data": {
      "text/plain": [
       "200"
      ]
     },
     "execution_count": 14,
     "metadata": {},
     "output_type": "execute_result"
    }
   ],
   "source": [
    "response.status_code"
   ]
  },
  {
   "cell_type": "markdown",
   "id": "d26a789d",
   "metadata": {},
   "source": [
    "Vidíme, že content obsahuje binární objekt."
   ]
  },
  {
   "cell_type": "code",
   "execution_count": 13,
   "id": "018028c4",
   "metadata": {
    "ExecuteTime": {
     "end_time": "2021-08-07T12:21:03.717909Z",
     "start_time": "2021-08-07T12:21:03.698960Z"
    }
   },
   "outputs": [
    {
     "data": {
      "text/plain": [
       "b'{\\n  \"name\" : \"LAPTOP-T8SH3TQ4\",\\n  \"cluster_name\" : \"elasticsearch\",\\n  \"cluster_uuid\" : \"EZ6I1dsWS-WFN0A1spvfXQ\",\\n  \"version\" : {\\n    \"number\" : \"7.13.3\",\\n    \"build_flavor\" : \"default\",\\n    \"build_type\" : \"zip\",\\n    \"build_hash\" : \"5d21bea28db1e89ecc1f66311ebdec9dc3aa7d64\",\\n    \"build_date\" : \"2021-07-02T12:06:10.804015202Z\",\\n    \"build_snapshot\" : false,\\n    \"lucene_version\" : \"8.8.2\",\\n    \"minimum_wire_compatibility_version\" : \"6.8.0\",\\n    \"minimum_index_compatibility_version\" : \"6.0.0-beta1\"\\n  },\\n  \"tagline\" : \"You Know, for Search\"\\n}\\n'"
      ]
     },
     "execution_count": 13,
     "metadata": {},
     "output_type": "execute_result"
    }
   ],
   "source": [
    "response.content"
   ]
  },
  {
   "cell_type": "markdown",
   "id": "d09f2111",
   "metadata": {
    "ExecuteTime": {
     "end_time": "2021-08-07T12:22:31.950174Z",
     "start_time": "2021-08-07T12:22:31.938167Z"
    }
   },
   "source": [
    "Text je obyčejný string, i když jeho vnitřní struktura vypadá jako json. Jak z něj ale rozumně onen json dostat?"
   ]
  },
  {
   "cell_type": "code",
   "execution_count": 18,
   "id": "3d7c6842",
   "metadata": {
    "ExecuteTime": {
     "end_time": "2021-08-07T12:22:01.280107Z",
     "start_time": "2021-08-07T12:22:01.271095Z"
    }
   },
   "outputs": [
    {
     "data": {
      "text/plain": [
       "str"
      ]
     },
     "execution_count": 18,
     "metadata": {},
     "output_type": "execute_result"
    }
   ],
   "source": [
    "type(response.text)"
   ]
  },
  {
   "cell_type": "code",
   "execution_count": 17,
   "id": "2a920f3a",
   "metadata": {
    "ExecuteTime": {
     "end_time": "2021-08-07T12:21:38.986871Z",
     "start_time": "2021-08-07T12:21:38.969882Z"
    }
   },
   "outputs": [
    {
     "data": {
      "text/plain": [
       "'{\\n  \"name\" : \"LAPTOP-T8SH3TQ4\",\\n  \"cluster_name\" : \"elasticsearch\",\\n  \"cluster_uuid\" : \"EZ6I1dsWS-WFN0A1spvfXQ\",\\n  \"version\" : {\\n    \"number\" : \"7.13.3\",\\n    \"build_flavor\" : \"default\",\\n    \"build_type\" : \"zip\",\\n    \"build_hash\" : \"5d21bea28db1e89ecc1f66311ebdec9dc3aa7d64\",\\n    \"build_date\" : \"2021-07-02T12:06:10.804015202Z\",\\n    \"build_snapshot\" : false,\\n    \"lucene_version\" : \"8.8.2\",\\n    \"minimum_wire_compatibility_version\" : \"6.8.0\",\\n    \"minimum_index_compatibility_version\" : \"6.0.0-beta1\"\\n  },\\n  \"tagline\" : \"You Know, for Search\"\\n}\\n'"
      ]
     },
     "execution_count": 17,
     "metadata": {},
     "output_type": "execute_result"
    }
   ],
   "source": [
    "response.text"
   ]
  },
  {
   "cell_type": "markdown",
   "id": "a70c0af0",
   "metadata": {},
   "source": [
    "Stačí použít metodu (opravdu metodu, nikoli atribut) *json*."
   ]
  },
  {
   "cell_type": "code",
   "execution_count": 20,
   "id": "886c0f39",
   "metadata": {
    "ExecuteTime": {
     "end_time": "2021-08-07T12:22:46.731411Z",
     "start_time": "2021-08-07T12:22:46.712460Z"
    },
    "scrolled": true
   },
   "outputs": [
    {
     "data": {
      "text/plain": [
       "{'name': 'LAPTOP-T8SH3TQ4',\n",
       " 'cluster_name': 'elasticsearch',\n",
       " 'cluster_uuid': 'EZ6I1dsWS-WFN0A1spvfXQ',\n",
       " 'version': {'number': '7.13.3',\n",
       "  'build_flavor': 'default',\n",
       "  'build_type': 'zip',\n",
       "  'build_hash': '5d21bea28db1e89ecc1f66311ebdec9dc3aa7d64',\n",
       "  'build_date': '2021-07-02T12:06:10.804015202Z',\n",
       "  'build_snapshot': False,\n",
       "  'lucene_version': '8.8.2',\n",
       "  'minimum_wire_compatibility_version': '6.8.0',\n",
       "  'minimum_index_compatibility_version': '6.0.0-beta1'},\n",
       " 'tagline': 'You Know, for Search'}"
      ]
     },
     "execution_count": 20,
     "metadata": {},
     "output_type": "execute_result"
    }
   ],
   "source": [
    "response.json()"
   ]
  },
  {
   "cell_type": "markdown",
   "id": "410209e2",
   "metadata": {},
   "source": [
    "Občas se též hodí mít informace o hlavičce (např. aby člověk věděl, jaký je vlastně typ toho, co ze serveru dostává - v našem případě je to json, viz content-type)."
   ]
  },
  {
   "cell_type": "code",
   "execution_count": 21,
   "id": "3b53b1e9",
   "metadata": {
    "ExecuteTime": {
     "end_time": "2021-08-07T12:25:32.385034Z",
     "start_time": "2021-08-07T12:25:32.374064Z"
    }
   },
   "outputs": [
    {
     "data": {
      "text/plain": [
       "{'Warning': '299 Elasticsearch-7.13.3-5d21bea28db1e89ecc1f66311ebdec9dc3aa7d64 \"Elasticsearch built-in security features are not enabled. Without authentication, your cluster could be accessible to anyone. See https://www.elastic.co/guide/en/elasticsearch/reference/7.13/security-minimal-setup.html to enable security.\"', 'content-type': 'application/json; charset=UTF-8', 'content-encoding': 'gzip', 'content-length': '339'}"
      ]
     },
     "execution_count": 21,
     "metadata": {},
     "output_type": "execute_result"
    }
   ],
   "source": [
    "response.headers"
   ]
  },
  {
   "cell_type": "markdown",
   "id": "fa196f2d",
   "metadata": {},
   "source": [
    "V rámci elasticu budeme onomu search enginu předkládat dotazy, nejen ho provolávat s cílem zjitit, jestli žije. Url bude pořád stejná, není důvod přecházet na url Kibany. \n",
    "Pokud chceme zjisti obsah určitého dokumentu, což bychom v Kibaně realizovali pomocí\n",
    "```\n",
    "GET news_headlines/_doc/7Rmlz3oBnJR_Eb7VMUY_\n",
    "```\n",
    "použijeme i nyní requests.get. Pouze url rozšíříme o odpovídající parametry."
   ]
  },
  {
   "cell_type": "code",
   "execution_count": 28,
   "id": "06704eb1",
   "metadata": {
    "ExecuteTime": {
     "end_time": "2021-08-07T12:41:18.772759Z",
     "start_time": "2021-08-07T12:41:18.741804Z"
    }
   },
   "outputs": [
    {
     "data": {
      "text/plain": [
       "{'_index': 'news_headlines',\n",
       " '_type': '_doc',\n",
       " '_id': '7Rmlz3oBnJR_Eb7VMUY_',\n",
       " '_version': 1,\n",
       " '_seq_no': 7790,\n",
       " '_primary_term': 1,\n",
       " 'found': True,\n",
       " '_source': {'date': '2018-01-11',\n",
       "  'short_description': 'French police recovered the merchandise stolen in an armed robbery on Wednesday.',\n",
       "  '@timestamp': '2018-01-11T00:00:00.000+01:00',\n",
       "  'link': 'https://www.huffingtonpost.com/entry/paris-hotel-robbery-jewels-recovered_us_5a57e499e4b0720dc4c592af',\n",
       "  'category': 'WORLD NEWS',\n",
       "  'headline': '$5.4 Million In Jewels Recovered From Paris Hotel Heist',\n",
       "  'authors': 'Emmnauel Jarry, Reuters'}}"
      ]
     },
     "execution_count": 28,
     "metadata": {},
     "output_type": "execute_result"
    }
   ],
   "source": [
    "elasticsearch_url = \"http://localhost:9200\"\n",
    "index_name = \"news_headlines\"\n",
    "document_id = \"7Rmlz3oBnJR_Eb7VMUY_\"\n",
    "whole_url = elasticsearch_url + \"/\" + index_name + \"/_doc/\" + document_id\n",
    "response = requests.get(whole_url)\n",
    "response.json()"
   ]
  },
  {
   "cell_type": "markdown",
   "id": "a2a03dbb",
   "metadata": {},
   "source": [
    "Pokud bychom chtěli zíksat nějakou informaci s pomocí getu, na který nalepíme parametry (tj. výsledná url má tvar typu https://www.google.com/search?q=kakadu), můžeme použít i parametr params a to sice následujícím způsobem."
   ]
  },
  {
   "cell_type": "code",
   "execution_count": 8,
   "id": "f7d49d82",
   "metadata": {
    "ExecuteTime": {
     "end_time": "2021-08-08T18:51:49.217672Z",
     "start_time": "2021-08-08T18:51:48.748758Z"
    }
   },
   "outputs": [],
   "source": [
    "google_url = \"https://www.google.com/search\"\n",
    "response = requests.get(\n",
    "    google_url,\n",
    "    params={\"q\": \"kakadu\"}\n",
    ")"
   ]
  },
  {
   "cell_type": "markdown",
   "id": "756013e8",
   "metadata": {},
   "source": [
    "Běžnější ale bude posílat data pomocí postu. Obvykle by se data posílala s pomocí parametru data. jelikžož zde ale posíláme json, jmenuje se tak i použitý parametr. Výhodou je, že informace o tom, že posíláme právě json, se dostane i do hlavičky requestu."
   ]
  },
  {
   "cell_type": "code",
   "execution_count": 19,
   "id": "e082fbb2",
   "metadata": {
    "ExecuteTime": {
     "end_time": "2021-08-08T19:04:39.378747Z",
     "start_time": "2021-08-08T19:04:38.929395Z"
    }
   },
   "outputs": [],
   "source": [
    "elasticsearch_url = \"http://localhost:9200\"\n",
    "index_name = \"animals\"\n",
    "whole_url = elasticsearch_url + \"/\" + index_name + \"/_doc\"\n",
    "animals_dict = {\"animal_name\": \"parrot\", \"animal_type\": \"bird\"}\n",
    "response = requests.post(\n",
    "    whole_url,\n",
    "    json=animals_dict\n",
    ")"
   ]
  },
  {
   "cell_type": "code",
   "execution_count": 22,
   "id": "957bda8b",
   "metadata": {
    "ExecuteTime": {
     "end_time": "2021-08-08T19:05:40.115660Z",
     "start_time": "2021-08-08T19:05:40.099993Z"
    }
   },
   "outputs": [
    {
     "data": {
      "text/plain": [
       "{'_index': 'animals',\n",
       " '_type': '_doc',\n",
       " '_id': 'cjYnJ3sBVWSKN75mGWMR',\n",
       " '_version': 1,\n",
       " 'result': 'created',\n",
       " '_shards': {'total': 2, 'successful': 1, 'failed': 0},\n",
       " '_seq_no': 0,\n",
       " '_primary_term': 1}"
      ]
     },
     "execution_count": 22,
     "metadata": {},
     "output_type": "execute_result"
    }
   ],
   "source": [
    "response.json()"
   ]
  },
  {
   "cell_type": "markdown",
   "id": "b51215c6",
   "metadata": {},
   "source": [
    "Za situace, kdy posíláme na endpoint soubor, lze použít následující konstrukci:\n",
    "```python\n",
    "with open(one_file_name, \"rb\") as opened_file:\n",
    "    file_dict =  {\"file\": opened_file}\n",
    "    response = requests.post(local_endpoint, files=files_dict)\n",
    "```"
   ]
  },
  {
   "cell_type": "markdown",
   "id": "ae142e9a-5ccb-4078-b58f-2492eeb8dd42",
   "metadata": {},
   "source": [
    "## Datetime"
   ]
  },
  {
   "cell_type": "markdown",
   "id": "70119ef5-0c76-4fa0-90a1-843ba2da33ea",
   "metadata": {},
   "source": [
    "Balíček datetime slouží k operacím spojeným s datem a časem."
   ]
  },
  {
   "cell_type": "code",
   "execution_count": 2,
   "id": "311818b1-25c8-4991-b239-9543bb5dd465",
   "metadata": {},
   "outputs": [],
   "source": [
    "import datetime"
   ]
  },
  {
   "cell_type": "markdown",
   "id": "978367bb-d372-4de1-8df6-7197ecfb1db7",
   "metadata": {},
   "source": [
    "Aktuální timestampu dostaneme skrze metodu *now*. Všimněme si, že v kódu píšeme datetime dvakrát za sebou. Poprvé toto slovo zastupuje balíček, podruhé objekt reprezentující datum a čas."
   ]
  },
  {
   "cell_type": "code",
   "execution_count": 3,
   "id": "ea05f44f-f893-4daf-8786-fb3921dc7046",
   "metadata": {},
   "outputs": [
    {
     "data": {
      "text/plain": [
       "datetime.datetime(2024, 6, 30, 19, 9, 41, 816552)"
      ]
     },
     "execution_count": 3,
     "metadata": {},
     "output_type": "execute_result"
    }
   ],
   "source": [
    "datetime.datetime.now()"
   ]
  },
  {
   "cell_type": "markdown",
   "id": "f4446575-5e97-419c-8996-7c1c68fc65d4",
   "metadata": {},
   "source": [
    "V případě potřeby lze z *datetime* objektu vypreparovat datum (resp. čas) metodou *date* (resp. *time*). Pro datum lze použít i alternativní funkci *datetime.date.today()*."
   ]
  },
  {
   "cell_type": "code",
   "execution_count": 5,
   "id": "873772bc-5179-4ec9-9e26-ae2d59654e79",
   "metadata": {},
   "outputs": [
    {
     "data": {
      "text/plain": [
       "datetime.date(2024, 6, 30)"
      ]
     },
     "execution_count": 5,
     "metadata": {},
     "output_type": "execute_result"
    }
   ],
   "source": [
    "datetime.datetime.now().date()"
   ]
  },
  {
   "cell_type": "code",
   "execution_count": 4,
   "id": "984eb409-9125-4b34-84ab-63e95901d3db",
   "metadata": {},
   "outputs": [
    {
     "data": {
      "text/plain": [
       "datetime.time(19, 12, 38, 400622)"
      ]
     },
     "execution_count": 4,
     "metadata": {},
     "output_type": "execute_result"
    }
   ],
   "source": [
    "datetime.datetime.now().time()"
   ]
  },
  {
   "cell_type": "markdown",
   "id": "eebc1124-ebf6-4f1c-8c9a-0ab917f57282",
   "metadata": {},
   "source": [
    "Jednotlivé části datetime objektu z něj lze v podobě integerů dostat použitím správného atributu."
   ]
  },
  {
   "cell_type": "code",
   "execution_count": 11,
   "id": "55d1d90c-04cd-4ca7-9120-67f6d49bf4c8",
   "metadata": {},
   "outputs": [
    {
     "name": "stdout",
     "output_type": "stream",
     "text": [
      "2024-06-30 19:18:45.495735\n",
      "2024\n",
      "6\n",
      "30\n",
      "19\n",
      "18\n",
      "45\n"
     ]
    }
   ],
   "source": [
    "current_timestamp = datetime.datetime.now()\n",
    "print(current_timestamp)\n",
    "print(current_timestamp.year)\n",
    "print(current_timestamp.month)\n",
    "print(current_timestamp.day)\n",
    "print(current_timestamp.hour)\n",
    "print(current_timestamp.minute)\n",
    "print(current_timestamp.second)"
   ]
  },
  {
   "cell_type": "markdown",
   "id": "459b0487-6c71-4736-b22d-eeafa741b6c5",
   "metadata": {},
   "source": [
    "Obvykle datetime objekt ale nevytváříme s pomocí *now()*. Do konstrukturu můžeme napsat vše od roku po mikrosekundy:"
   ]
  },
  {
   "cell_type": "code",
   "execution_count": 13,
   "id": "5cec76d7-c51a-425c-90bc-a3fbf4c23be2",
   "metadata": {},
   "outputs": [
    {
     "data": {
      "text/plain": [
       "datetime.datetime(2024, 12, 1, 10, 12, 59, 123456)"
      ]
     },
     "execution_count": 13,
     "metadata": {},
     "output_type": "execute_result"
    }
   ],
   "source": [
    "datetime.datetime(2024, 12, 1, 10, 12, 59, 123456)"
   ]
  },
  {
   "cell_type": "markdown",
   "id": "1ed066d5-f481-45d0-829f-43da73ab3500",
   "metadata": {},
   "source": [
    "Přitom ale povinný je jen rok, měsíc a den:"
   ]
  },
  {
   "cell_type": "code",
   "execution_count": 15,
   "id": "97bfaadd-be5d-4508-99af-0a9adc59c642",
   "metadata": {},
   "outputs": [
    {
     "data": {
      "text/plain": [
       "datetime.datetime(2024, 12, 1, 0, 0)"
      ]
     },
     "execution_count": 15,
     "metadata": {},
     "output_type": "execute_result"
    }
   ],
   "source": [
    "datetime.datetime(2024, 12, 1)"
   ]
  },
  {
   "cell_type": "markdown",
   "id": "e566fe71-e86b-4352-bd38-b2e7385d32aa",
   "metadata": {},
   "source": [
    "Nejčastěji ale datetime objekt vytvoříme z textového řetězce. Použijeme pro to metodu *strptime*. Ta jako první parametr přebírá string s timestampou, druhým parametrem je pak formát specifikující, jak string rozklíčovat (bacha - *strptime* nepodporuje key argumenty, tj. nic jako format=\"%Y-%m-%d\" nebude fungovat).  \n",
    "Ve formátu se specifické znaky označují prefixem v podobě procenta, tj. například \"%Y\" znamená rok ve formátu XXXX. Seznam těchto specifických znaků nalezneme na spodku [této stránky](https://docs.python.org/3/library/datetime.html). Znaky bez prefixu (tečky, pomlčky apod.) se budou párovat se svými dvojčaty ve stringu bez jakýchkoli dalších podmínek."
   ]
  },
  {
   "cell_type": "code",
   "execution_count": 19,
   "id": "9705fa68-8c63-40bb-9000-b8cc5a360091",
   "metadata": {},
   "outputs": [
    {
     "data": {
      "text/plain": [
       "datetime.datetime(2024, 12, 1, 0, 0)"
      ]
     },
     "execution_count": 19,
     "metadata": {},
     "output_type": "execute_result"
    }
   ],
   "source": [
    "string_date = \"2024-12-1\"\n",
    "datetime.datetime.strptime(string_date, \"%Y-%m-%d\")"
   ]
  },
  {
   "cell_type": "markdown",
   "id": "73e9f368-99d3-45b6-a762-8b41db13bbcf",
   "metadata": {},
   "source": [
    "Existuje i opačná operace - převod datetimu na string. To má na starosti metoda *strftime*."
   ]
  },
  {
   "cell_type": "code",
   "execution_count": 20,
   "id": "63f7374c-9935-4e0e-9214-c81c4493a793",
   "metadata": {},
   "outputs": [
    {
     "data": {
      "text/plain": [
       "'2024-06-30'"
      ]
     },
     "execution_count": 20,
     "metadata": {},
     "output_type": "execute_result"
    }
   ],
   "source": [
    "current_timestamp = datetime.datetime.now()\n",
    "current_timestamp.strftime(\"%Y-%m-%d\")"
   ]
  },
  {
   "cell_type": "markdown",
   "id": "e810457b-d778-4227-850d-a90dd7ad329d",
   "metadata": {},
   "source": [
    "Pokud potřebujeme určité datum posunout o nějaký interval dopředu či dozadu, použijeme objekt *timedelta*, který přičteme k *datetime* objektu. Parametry, které můžeme pro *timedelta* použít, jsou *weeks*, *days*, *hours*, *minutes*, *seconds*, *milliseconds* a *microseconds*. "
   ]
  },
  {
   "cell_type": "code",
   "execution_count": 8,
   "id": "a85fac00-fbd6-44cc-b850-755a69872b05",
   "metadata": {},
   "outputs": [
    {
     "name": "stdout",
     "output_type": "stream",
     "text": [
      "2024-07-01 18:59:27.045414\n",
      "2024-07-02 18:59:27.045414\n",
      "2024-06-30 18:59:27.045414\n",
      "2024-07-08 18:59:27.045414\n",
      "2024-07-01 16:59:27.045414\n"
     ]
    }
   ],
   "source": [
    "current_timestamp = datetime.datetime.now()\n",
    "print(current_timestamp)\n",
    "tomorrow_timestamp = current_timestamp + datetime.timedelta(days=1)\n",
    "print(tomorrow_timestamp)\n",
    "yesterday_timestamp = current_timestamp + datetime.timedelta(days=-1)\n",
    "print(yesterday_timestamp)\n",
    "next_week_timestamp = current_timestamp + datetime.timedelta(weeks=1)\n",
    "print(next_week_timestamp)\n",
    "two_hours_ago_timestamp = current_timestamp + datetime.timedelta(hours=-2)\n",
    "print(two_hours_ago_timestamp)"
   ]
  },
  {
   "cell_type": "code",
   "execution_count": null,
   "id": "07d9b0a4-d20d-47a6-8615-8058a8b5528b",
   "metadata": {},
   "outputs": [],
   "source": []
  }
 ],
 "metadata": {
  "kernelspec": {
   "display_name": "Python 3 (ipykernel)",
   "language": "python",
   "name": "python3"
  },
  "language_info": {
   "codemirror_mode": {
    "name": "ipython",
    "version": 3
   },
   "file_extension": ".py",
   "mimetype": "text/x-python",
   "name": "python",
   "nbconvert_exporter": "python",
   "pygments_lexer": "ipython3",
   "version": "3.10.11"
  },
  "varInspector": {
   "cols": {
    "lenName": 16,
    "lenType": 16,
    "lenVar": 40
   },
   "kernels_config": {
    "python": {
     "delete_cmd_postfix": "",
     "delete_cmd_prefix": "del ",
     "library": "var_list.py",
     "varRefreshCmd": "print(var_dic_list())"
    },
    "r": {
     "delete_cmd_postfix": ") ",
     "delete_cmd_prefix": "rm(",
     "library": "var_list.r",
     "varRefreshCmd": "cat(var_dic_list()) "
    }
   },
   "types_to_exclude": [
    "module",
    "function",
    "builtin_function_or_method",
    "instance",
    "_Feature"
   ],
   "window_display": false
  }
 },
 "nbformat": 4,
 "nbformat_minor": 5
}
