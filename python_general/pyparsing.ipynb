{
 "cells": [
  {
   "cell_type": "markdown",
   "metadata": {},
   "source": [
    "# Pyparsing\n",
    "Když potřebujeme z textového řetězce dostat nějakou informaci, můžeme použít základní metody s textovými řetězci spojené - např. *split* či *find*. Tento přístup se ale už pro lehce komplikovanější úlohy stává neprůchodným. Proto vyvstane potřeba používat regulární výrazy. V Pythonu sáhneme po implementaci z balíčku *re* (zájemci mohou v tomto repozitáří najít povídání o základech jeho používání). Bohužel regulární výrazy mají tendenci stát se velice nepřehlednými.  \n",
    "Jedním z možných řešení je používat gramatiky, konkrétně v případě Pythonu balíček *Pyparsing*. Ten podporuje rozpad patternů na jednodušší prvky. Navíc defaultně ignoruje bílé znaky, což opět činí patterny přehlednější. Nicméně v případě potřeby se dá toto ignorování bílých znaků modifikovat.  "
   ]
  },
  {
   "cell_type": "markdown",
   "metadata": {},
   "source": [
    "Pozn.: ujistěte se, že máte nainstalovanou trojkovou verzi pyparsingu. Jinak byste se mohli setkat s chybami typu\n",
    "```\n",
    "AttributeError: 'And' object has no attribute 'parse_string'\n",
    "```"
   ]
  },
  {
   "cell_type": "markdown",
   "metadata": {},
   "source": [
    "### Základy parsování"
   ]
  },
  {
   "cell_type": "code",
   "execution_count": 1,
   "metadata": {},
   "outputs": [],
   "source": [
    "import pyparsing as pp"
   ]
  },
  {
   "cell_type": "markdown",
   "metadata": {},
   "source": [
    "Začněme s něčím jednoduchým. Mějme sqlkový select, ze kterého chceme dostat jak jméno poptávaného sloupce, tak jméno zdrojové tabulky. Select je opravdu ten nejprimitivnější možný, tj. pracujeme zde s konstrukcí\n",
    "```sql\n",
    "select sloupec from tabulka;\n",
    "```\n",
    "Vidíme, že tu máme dva typy slov (přesněji shluků znaků - na konci dotazu máme středník). První typ slov bude vždy stejný - jedná se o \"select\", \"from\" a \";\". Při vytváření pyparsingového patternu, tj. šablony, která bude programu říkat, co má vlastně hledat, je napíšeme explicitně. U druhého typu slov se bude obsah měnit - můžeme se totiž ptát na jakýkoli sloupec z jakékoli tabulky. Pro začátek předpokládejme, že názvy budou tvořeny pouze písmeny. Ty bychom sice teoreticky mohli ručně vypisovat, ale praktičtější bude použít již předpřipravenou konstantu *pyparsing.alphas* (resp. *pp.alphas* kvůli aliasu balíčku):"
   ]
  },
  {
   "cell_type": "code",
   "execution_count": 2,
   "metadata": {},
   "outputs": [
    {
     "name": "stdout",
     "output_type": "stream",
     "text": [
      "Data type of pp.alphas: <class 'str'>\n",
      "Content of pp.alphas: ABCDEFGHIJKLMNOPQRSTUVWXYZabcdefghijklmnopqrstuvwxyz\n"
     ]
    }
   ],
   "source": [
    "print(f\"Data type of pp.alphas: {type(pp.alphas)}\")\n",
    "print(f\"Content of pp.alphas: {pp.alphas}\")"
   ]
  },
  {
   "cell_type": "markdown",
   "metadata": {},
   "source": [
    "Chybí tu sice například české znaky, ale počítejme s tím, že ty nikdo do názvů sloupců/tabulek nedává.  \n",
    "Samotná slova či přesněji shluky znaků obklopených znaky bílými vytvoříme provoláním *pyparsing.Word*. Do kulatých závorek při vytváření tohoto objektu vložíme znaky, ze kterých se ono \"slovo\" může skládat. V našem případě tam patří právě textový řetězec *pp.alphas*. Pokud bychom z nějakého důvodu potřebovali pouze velká anebo naopak pouze malá písmena, aplikujeme na *pp.alphas* obyčejné metody vlastní všem stringům - *upper()* a *lower()*.   \n",
    "Nyní máme vytvořený pattern. Na tomto objektu provoláme metodu *parse_string*, které jako argument předáme string, který chceme prozkoumat. "
   ]
  },
  {
   "cell_type": "code",
   "execution_count": 3,
   "metadata": {},
   "outputs": [
    {
     "data": {
      "text/plain": [
       "ParseResults(['select', 'someCol', 'from', 'someTable', ';'], {})"
      ]
     },
     "execution_count": 3,
     "metadata": {},
     "output_type": "execute_result"
    }
   ],
   "source": [
    "query = \"\"\"\n",
    "select someCol from someTable;\n",
    "\"\"\"\n",
    "query_pattern = \"select\" + pp.Word(pp.alphas) + \"from\" + pp.Word(pp.alphas) + \";\"\n",
    "result = query_pattern.parse_string(query)\n",
    "result"
   ]
  },
  {
   "cell_type": "markdown",
   "metadata": {},
   "source": [
    "Všimněme si, že výsledek je stejný, i když jsou ve zkoumaném textu i jiné bílé znaky než mezerník:"
   ]
  },
  {
   "cell_type": "code",
   "execution_count": 4,
   "metadata": {},
   "outputs": [
    {
     "data": {
      "text/plain": [
       "ParseResults(['select', 'someCol', 'from', 'someTable', ';'], {})"
      ]
     },
     "execution_count": 4,
     "metadata": {},
     "output_type": "execute_result"
    }
   ],
   "source": [
    "query = \"\"\"\n",
    "select\\tsomeCol\n",
    "\n",
    "\n",
    "\n",
    "from someTable;\n",
    "\"\"\"\n",
    "query_pattern = \"select\" + pp.Word(pp.alphas) + \"from\" + pp.Word(pp.alphas) + \";\"\n",
    "result = query_pattern.parse_string(query)\n",
    "result"
   ]
  },
  {
   "cell_type": "markdown",
   "metadata": {},
   "source": [
    "Může se stát, že některá část patternu pro nás bude nezajímavá. V parsování musí být uplatněná, ale ve výpisu výsledků by nám jenom překážela. V takovém případě můžeme použít *pp.Suppress*. Vidíme, že po jeho aplikaci na středník se tento znak už ve výsledku neobjeví."
   ]
  },
  {
   "cell_type": "code",
   "execution_count": 5,
   "metadata": {},
   "outputs": [
    {
     "data": {
      "text/plain": [
       "ParseResults(['select', 'someCol', 'from', 'someTable'], {})"
      ]
     },
     "execution_count": 5,
     "metadata": {},
     "output_type": "execute_result"
    }
   ],
   "source": [
    "query = \"\"\"\n",
    "select someCol from someTable;\n",
    "\"\"\"\n",
    "query_pattern = \"select\" + pp.Word(pp.alphas) + \"from\" + pp.Word(pp.alphas) + pp.Suppress(\";\")\n",
    "result = query_pattern.parse_string(query)\n",
    "result"
   ]
  },
  {
   "cell_type": "markdown",
   "metadata": {},
   "source": [
    "No jo, co když ale spíše než vyhození nedůležitých prvků z výsledku chceme důležité prvky vybrat? Ano, mohli bychom suppress dát na téměř všechno v patternu, takové řešení by ale moc elegantní nebylo. Naštěstí existuje vhodnější postup. První věc, kterou uděláme, je vložení *pp.Word* do samostatných proměnných. Následně na ně napojíme jména s pomocí metody *set_result_name*."
   ]
  },
  {
   "cell_type": "code",
   "execution_count": 6,
   "metadata": {},
   "outputs": [
    {
     "data": {
      "text/plain": [
       "ParseResults(['select', 'someCol', 'from', 'someTable', ';'], {'columns': 'someCol', 'tables': 'someTable'})"
      ]
     },
     "execution_count": 6,
     "metadata": {},
     "output_type": "execute_result"
    }
   ],
   "source": [
    "query = \"\"\"\n",
    "select someCol from someTable;\n",
    "\"\"\"\n",
    "\n",
    "column_name = pp.Word(pp.alphas).set_results_name(\"columns\")\n",
    "table_name = pp.Word(pp.alphas).set_results_name(\"tables\")\n",
    "query_pattern = \"select\" +  column_name + \"from\" + table_name + \";\"\n",
    "result = query_pattern.parse_string(query)\n",
    "result"
   ]
  },
  {
   "cell_type": "markdown",
   "metadata": {},
   "source": [
    "Vidíme, že ve výsledném objektu se krom listu plní i druhá část - slovník. Do něj se nemusíme dostávat indexací ParseResult objektu, přístup je možný přímo:"
   ]
  },
  {
   "cell_type": "code",
   "execution_count": 7,
   "metadata": {},
   "outputs": [
    {
     "data": {
      "text/plain": [
       "'someCol'"
      ]
     },
     "execution_count": 7,
     "metadata": {},
     "output_type": "execute_result"
    }
   ],
   "source": [
    "result[\"columns\"]"
   ]
  },
  {
   "cell_type": "code",
   "execution_count": 8,
   "metadata": {},
   "outputs": [
    {
     "data": {
      "text/plain": [
       "'someTable'"
      ]
     },
     "execution_count": 8,
     "metadata": {},
     "output_type": "execute_result"
    }
   ],
   "source": [
    "result[\"tables\"]"
   ]
  },
  {
   "cell_type": "markdown",
   "metadata": {},
   "source": [
    "#### Možnosti Word objektů\n",
    "Podívejme se na pár možností, jak *Word* objekty obohatit. Dejme tomu, že by se v názvech sloupců a tabulek objevila podtržítka. V takovém případě parsování selže. Naštěstí chybová hláška napoví, kde vznikl problém:"
   ]
  },
  {
   "cell_type": "code",
   "execution_count": 12,
   "metadata": {},
   "outputs": [
    {
     "ename": "ParseException",
     "evalue": "Expected 'from', found '_'  (at char 12), (line:2, col:12)",
     "output_type": "error",
     "traceback": [
      "\u001b[1;31m---------------------------------------------------------------------------\u001b[0m",
      "\u001b[1;31mParseException\u001b[0m                            Traceback (most recent call last)",
      "\u001b[1;32m<ipython-input-12-a5fe70949cf5>\u001b[0m in \u001b[0;36m<module>\u001b[1;34m\u001b[0m\n\u001b[0;32m      6\u001b[0m \u001b[0mtable_name\u001b[0m \u001b[1;33m=\u001b[0m \u001b[0mpp\u001b[0m\u001b[1;33m.\u001b[0m\u001b[0mWord\u001b[0m\u001b[1;33m(\u001b[0m\u001b[0mpp\u001b[0m\u001b[1;33m.\u001b[0m\u001b[0malphas\u001b[0m\u001b[1;33m)\u001b[0m\u001b[1;33m.\u001b[0m\u001b[0mset_results_name\u001b[0m\u001b[1;33m(\u001b[0m\u001b[1;34m\"tables\"\u001b[0m\u001b[1;33m)\u001b[0m\u001b[1;33m\u001b[0m\u001b[1;33m\u001b[0m\u001b[0m\n\u001b[0;32m      7\u001b[0m \u001b[0mquery_pattern\u001b[0m \u001b[1;33m=\u001b[0m \u001b[1;34m\"select\"\u001b[0m \u001b[1;33m+\u001b[0m  \u001b[0mcolumn_name\u001b[0m \u001b[1;33m+\u001b[0m \u001b[1;34m\"from\"\u001b[0m \u001b[1;33m+\u001b[0m \u001b[0mtable_name\u001b[0m \u001b[1;33m+\u001b[0m \u001b[1;34m\";\"\u001b[0m\u001b[1;33m\u001b[0m\u001b[1;33m\u001b[0m\u001b[0m\n\u001b[1;32m----> 8\u001b[1;33m \u001b[0mresult\u001b[0m \u001b[1;33m=\u001b[0m \u001b[0mquery_pattern\u001b[0m\u001b[1;33m.\u001b[0m\u001b[0mparse_string\u001b[0m\u001b[1;33m(\u001b[0m\u001b[0mquery\u001b[0m\u001b[1;33m)\u001b[0m\u001b[1;33m\u001b[0m\u001b[1;33m\u001b[0m\u001b[0m\n\u001b[0m\u001b[0;32m      9\u001b[0m \u001b[0mresult\u001b[0m\u001b[1;33m\u001b[0m\u001b[1;33m\u001b[0m\u001b[0m\n",
      "\u001b[1;32mc:\\vs\\programovani\\python\\workshopy\\environment\\lib\\site-packages\\pyparsing\\core.py\u001b[0m in \u001b[0;36mparse_string\u001b[1;34m(self, instring, parse_all, parseAll)\u001b[0m\n\u001b[0;32m   1141\u001b[0m             \u001b[1;32melse\u001b[0m\u001b[1;33m:\u001b[0m\u001b[1;33m\u001b[0m\u001b[1;33m\u001b[0m\u001b[0m\n\u001b[0;32m   1142\u001b[0m                 \u001b[1;31m# catch and re-raise exception from here, clearing out pyparsing internal stack trace\u001b[0m\u001b[1;33m\u001b[0m\u001b[1;33m\u001b[0m\u001b[1;33m\u001b[0m\u001b[0m\n\u001b[1;32m-> 1143\u001b[1;33m                 \u001b[1;32mraise\u001b[0m \u001b[0mexc\u001b[0m\u001b[1;33m.\u001b[0m\u001b[0mwith_traceback\u001b[0m\u001b[1;33m(\u001b[0m\u001b[1;32mNone\u001b[0m\u001b[1;33m)\u001b[0m\u001b[1;33m\u001b[0m\u001b[1;33m\u001b[0m\u001b[0m\n\u001b[0m\u001b[0;32m   1144\u001b[0m         \u001b[1;32melse\u001b[0m\u001b[1;33m:\u001b[0m\u001b[1;33m\u001b[0m\u001b[1;33m\u001b[0m\u001b[0m\n\u001b[0;32m   1145\u001b[0m             \u001b[1;32mreturn\u001b[0m \u001b[0mtokens\u001b[0m\u001b[1;33m\u001b[0m\u001b[1;33m\u001b[0m\u001b[0m\n",
      "\u001b[1;31mParseException\u001b[0m: Expected 'from', found '_'  (at char 12), (line:2, col:12)"
     ]
    }
   ],
   "source": [
    "query = \"\"\"\n",
    "select some_col from some_table;\n",
    "\"\"\"\n",
    "\n",
    "column_name = pp.Word(pp.alphas).set_results_name(\"columns\")\n",
    "table_name = pp.Word(pp.alphas).set_results_name(\"tables\")\n",
    "query_pattern = \"select\" +  column_name + \"from\" + table_name + \";\"\n",
    "result = query_pattern.parse_string(query)\n",
    "result"
   ]
  },
  {
   "cell_type": "markdown",
   "metadata": {},
   "source": [
    "Podívejme se o pár řádků výše - uvidíme, že *pp.alphas* je fakticky obyčejný textový řetězec. Tudíž nic nebrání k němu operátorem plus přidat další znak:"
   ]
  },
  {
   "cell_type": "code",
   "execution_count": 13,
   "metadata": {},
   "outputs": [
    {
     "name": "stdout",
     "output_type": "stream",
     "text": [
      "Tabulky: some_table, sloupce: some_col\n"
     ]
    }
   ],
   "source": [
    "query = \"\"\"\n",
    "select some_col from some_table;\n",
    "\"\"\"\n",
    "\n",
    "column_name = pp.Word(pp.alphas + \"_\").set_results_name(\"columns\")\n",
    "table_name = pp.Word(pp.alphas + \"_\").set_results_name(\"tables\")\n",
    "query_pattern = \"select\" +  column_name + \"from\" + table_name + \";\"\n",
    "result = query_pattern.parse_string(query)\n",
    "print(f\"Tabulky: {result['tables']}, sloupce: {result['columns']}\")"
   ]
  },
  {
   "cell_type": "markdown",
   "metadata": {},
   "source": [
    "Podobná situace nastane, pokud názvy sloupců a tabulek budou obsahovat číslovky. Mohli bychom sice explicitně psát \n",
    "```\n",
    "pp.alphas + \"_\" + \"0123456789\"\n",
    "```\n",
    "ale pohodlnější bude použít *pp.nums*, anebo rovnou *pp.alphanums*, které v sobě už *pp.alphas* a *pp.nums* spojuje."
   ]
  },
  {
   "cell_type": "code",
   "execution_count": 14,
   "metadata": {},
   "outputs": [
    {
     "name": "stdout",
     "output_type": "stream",
     "text": [
      "Tabulky: some_table_1, sloupce: some_col_1\n"
     ]
    }
   ],
   "source": [
    "query = \"\"\"\n",
    "select some_col_1 from some_table_1;\n",
    "\"\"\"\n",
    "\n",
    "column_name = pp.Word(pp.alphas + \"_\" + pp.nums).set_results_name(\"columns\")\n",
    "table_name = pp.Word(pp.alphanums + \"_\").set_results_name(\"tables\")\n",
    "query_pattern = \"select\" +  column_name + \"from\" + table_name + \";\"\n",
    "result = query_pattern.parse_string(query)\n",
    "print(f\"Tabulky: {result['tables']}, sloupce: {result['columns']}\")"
   ]
  },
  {
   "cell_type": "markdown",
   "metadata": {},
   "source": [
    "Mohlo by se stát, že v názvech sice číslovky povolené jsou, nesmějí se ale objevit na začátku. Takovéto pravidlo vynucuje například Python u jmen proměnných. Pokud něco takového chceme implementovat, musíme *pp.Words* provolat s dvěma parametry. První bude obsahovat znaky povolené pro první znak hledaných slov, druhý parametr pak znaky pro zbývající část slov. Pakliže druhý parametr uveden není, aplikuje se parametr první na slova celá. Tak to koneckonců bylo u předchozích kusů kódu. Nyní si ukažme dvouparametrové provolání *pp.Word* na příkladech. První bude obsahovat validní query, druhý pak nevhodnou query s číslovkami na začátku názvu sloupce."
   ]
  },
  {
   "cell_type": "code",
   "execution_count": 15,
   "metadata": {},
   "outputs": [
    {
     "name": "stdout",
     "output_type": "stream",
     "text": [
      "Tabulky: some_table_1, sloupce: some_col_1\n"
     ]
    }
   ],
   "source": [
    "query = \"\"\"\n",
    "select some_col_1 from some_table_1;\n",
    "\"\"\"\n",
    "\n",
    "column_name = pp.Word(pp.alphas + \"_\", pp.alphanums + \"_\").set_results_name(\"columns\")\n",
    "table_name = pp.Word(pp.alphas + \"_\", pp.alphanums + \"_\").set_results_name(\"tables\")\n",
    "query_pattern = \"select\" +  column_name + \"from\" + table_name + \";\"\n",
    "result = query_pattern.parse_string(query)\n",
    "print(f\"Tabulky: {result['tables']}, sloupce: {result['columns']}\")"
   ]
  },
  {
   "cell_type": "markdown",
   "metadata": {},
   "source": [
    "Nyní ten samý pattern na nevalidním jméně tabulky:"
   ]
  },
  {
   "cell_type": "code",
   "execution_count": 16,
   "metadata": {},
   "outputs": [
    {
     "ename": "ParseException",
     "evalue": "Expected W:(A-Z_a-z, 0-9A-Z_a-z), found '1'  (at char 8), (line:2, col:8)",
     "output_type": "error",
     "traceback": [
      "\u001b[1;31m---------------------------------------------------------------------------\u001b[0m",
      "\u001b[1;31mParseException\u001b[0m                            Traceback (most recent call last)",
      "\u001b[1;32m<ipython-input-16-016580567dbc>\u001b[0m in \u001b[0;36m<module>\u001b[1;34m\u001b[0m\n\u001b[0;32m      6\u001b[0m \u001b[0mtable_name\u001b[0m \u001b[1;33m=\u001b[0m \u001b[0mpp\u001b[0m\u001b[1;33m.\u001b[0m\u001b[0mWord\u001b[0m\u001b[1;33m(\u001b[0m\u001b[0mpp\u001b[0m\u001b[1;33m.\u001b[0m\u001b[0malphas\u001b[0m \u001b[1;33m+\u001b[0m \u001b[1;34m\"_\"\u001b[0m\u001b[1;33m,\u001b[0m \u001b[0mpp\u001b[0m\u001b[1;33m.\u001b[0m\u001b[0malphanums\u001b[0m \u001b[1;33m+\u001b[0m \u001b[1;34m\"_\"\u001b[0m\u001b[1;33m)\u001b[0m\u001b[1;33m.\u001b[0m\u001b[0mset_results_name\u001b[0m\u001b[1;33m(\u001b[0m\u001b[1;34m\"tables\"\u001b[0m\u001b[1;33m)\u001b[0m\u001b[1;33m\u001b[0m\u001b[1;33m\u001b[0m\u001b[0m\n\u001b[0;32m      7\u001b[0m \u001b[0mquery_pattern\u001b[0m \u001b[1;33m=\u001b[0m \u001b[1;34m\"select\"\u001b[0m \u001b[1;33m+\u001b[0m  \u001b[0mcolumn_name\u001b[0m \u001b[1;33m+\u001b[0m \u001b[1;34m\"from\"\u001b[0m \u001b[1;33m+\u001b[0m \u001b[0mtable_name\u001b[0m \u001b[1;33m+\u001b[0m \u001b[1;34m\";\"\u001b[0m\u001b[1;33m\u001b[0m\u001b[1;33m\u001b[0m\u001b[0m\n\u001b[1;32m----> 8\u001b[1;33m \u001b[0mresult\u001b[0m \u001b[1;33m=\u001b[0m \u001b[0mquery_pattern\u001b[0m\u001b[1;33m.\u001b[0m\u001b[0mparse_string\u001b[0m\u001b[1;33m(\u001b[0m\u001b[0mquery\u001b[0m\u001b[1;33m)\u001b[0m\u001b[1;33m\u001b[0m\u001b[1;33m\u001b[0m\u001b[0m\n\u001b[0m\u001b[0;32m      9\u001b[0m \u001b[0mprint\u001b[0m\u001b[1;33m(\u001b[0m\u001b[1;34mf\"Tabulky: {result['tables']}, sloupce: {result['columns']}\"\u001b[0m\u001b[1;33m)\u001b[0m\u001b[1;33m\u001b[0m\u001b[1;33m\u001b[0m\u001b[0m\n",
      "\u001b[1;32mc:\\vs\\programovani\\python\\workshopy\\environment\\lib\\site-packages\\pyparsing\\core.py\u001b[0m in \u001b[0;36mparse_string\u001b[1;34m(self, instring, parse_all, parseAll)\u001b[0m\n\u001b[0;32m   1141\u001b[0m             \u001b[1;32melse\u001b[0m\u001b[1;33m:\u001b[0m\u001b[1;33m\u001b[0m\u001b[1;33m\u001b[0m\u001b[0m\n\u001b[0;32m   1142\u001b[0m                 \u001b[1;31m# catch and re-raise exception from here, clearing out pyparsing internal stack trace\u001b[0m\u001b[1;33m\u001b[0m\u001b[1;33m\u001b[0m\u001b[1;33m\u001b[0m\u001b[0m\n\u001b[1;32m-> 1143\u001b[1;33m                 \u001b[1;32mraise\u001b[0m \u001b[0mexc\u001b[0m\u001b[1;33m.\u001b[0m\u001b[0mwith_traceback\u001b[0m\u001b[1;33m(\u001b[0m\u001b[1;32mNone\u001b[0m\u001b[1;33m)\u001b[0m\u001b[1;33m\u001b[0m\u001b[1;33m\u001b[0m\u001b[0m\n\u001b[0m\u001b[0;32m   1144\u001b[0m         \u001b[1;32melse\u001b[0m\u001b[1;33m:\u001b[0m\u001b[1;33m\u001b[0m\u001b[1;33m\u001b[0m\u001b[0m\n\u001b[0;32m   1145\u001b[0m             \u001b[1;32mreturn\u001b[0m \u001b[0mtokens\u001b[0m\u001b[1;33m\u001b[0m\u001b[1;33m\u001b[0m\u001b[0m\n",
      "\u001b[1;31mParseException\u001b[0m: Expected W:(A-Z_a-z, 0-9A-Z_a-z), found '1'  (at char 8), (line:2, col:8)"
     ]
    }
   ],
   "source": [
    "query = \"\"\"\n",
    "select 1_some_col from 1_some_table;\n",
    "\"\"\"\n",
    "\n",
    "column_name = pp.Word(pp.alphas + \"_\", pp.alphanums + \"_\").set_results_name(\"columns\")\n",
    "table_name = pp.Word(pp.alphas + \"_\", pp.alphanums + \"_\").set_results_name(\"tables\")\n",
    "query_pattern = \"select\" +  column_name + \"from\" + table_name + \";\"\n",
    "result = query_pattern.parse_string(query)\n",
    "print(f\"Tabulky: {result['tables']}, sloupce: {result['columns']}\")"
   ]
  },
  {
   "cell_type": "markdown",
   "metadata": {},
   "source": [
    "Mohl by se vyskytnout případ, kdy bychom chtěli namatchovat slovo o předem stanovené velikosti. Představme si například, že u tabulky použijeme třípísmenný alias. Tehdy se použije další nepovinný parametr konstruktoru *Word* a to sice *exact*. Ten se položí roven chtěnému počtu znaků. Pokud bychom si přáli mít *interval* počtu znaků, využijeme namísto toho parametry *min* a *max*."
   ]
  },
  {
   "cell_type": "code",
   "execution_count": 17,
   "metadata": {},
   "outputs": [
    {
     "name": "stdout",
     "output_type": "stream",
     "text": [
      "Tabulky: some_table_1 (alias sta), sloupce: some_col_1\n"
     ]
    }
   ],
   "source": [
    "query = \"\"\"\n",
    "select sta.some_col_1 from some_table_1 sta;\n",
    "\"\"\"\n",
    "\n",
    "column_name = pp.Word(pp.alphas + \"_\", pp.alphanums + \"_\").set_results_name(\"columns\")\n",
    "table_name = pp.Word(pp.alphas + \"_\", pp.alphanums + \"_\").set_results_name(\"tables\")\n",
    "table_alias = pp.Word(pp.alphanums, exact=3).set_results_name(\"alias\")\n",
    "\n",
    "query_pattern = \"select\" +  table_alias + \".\" + column_name + \"from\" + table_name + table_alias + \";\"\n",
    "result = query_pattern.parse_string(query)\n",
    "print(f\"Tabulky: {result['tables']} (alias {result['alias']}), sloupce: {result['columns']}\")"
   ]
  },
  {
   "cell_type": "markdown",
   "metadata": {},
   "source": [
    "#### Combine"
   ]
  },
  {
   "cell_type": "markdown",
   "metadata": {},
   "source": [
    "No jo, nyní by ale prošla i nevalidní query, která má mezi aliasem, tečkou a jménem sloupce mezery."
   ]
  },
  {
   "cell_type": "code",
   "execution_count": 18,
   "metadata": {},
   "outputs": [
    {
     "name": "stdout",
     "output_type": "stream",
     "text": [
      "Tabulky: some_table_1 (alias sta), sloupce: some_col_1\n"
     ]
    }
   ],
   "source": [
    "query = \"\"\"\n",
    "select sta  .  some_col_1 from some_table_1 sta;\n",
    "\"\"\"\n",
    "\n",
    "column_name = pp.Word(pp.alphas + \"_\", pp.alphanums + \"_\").set_results_name(\"columns\")\n",
    "table_name = pp.Word(pp.alphas + \"_\", pp.alphanums + \"_\").set_results_name(\"tables\")\n",
    "table_alias = pp.Word(pp.alphanums, exact=3).set_results_name(\"alias\")\n",
    "\n",
    "query_pattern = \"select\" +  table_alias + \".\" + column_name + \"from\" + table_name + table_alias + \";\"\n",
    "result = query_pattern.parse_string(query)\n",
    "print(f\"Tabulky: {result['tables']} (alias {result['alias']}), sloupce: {result['columns']}\")"
   ]
  },
  {
   "cell_type": "markdown",
   "metadata": {},
   "source": [
    "V takovýchto případech je nutné slepit jednotlivé části dohromady pomocí *Combine*. Zdůrazněme, že v pozadí se všechny zkombinované části patternu slepí do jednoho textového řetězce. Tj. nejde tu pouze o shluknutí částí, jak se dá dosáhnout v o něco níže ukázané *pp.Group*.  \n",
    "Nejprve příklad toho, jak Combine zabrání naparsování špatné query:"
   ]
  },
  {
   "cell_type": "code",
   "execution_count": 19,
   "metadata": {},
   "outputs": [
    {
     "ename": "ParseException",
     "evalue": "Expected '.', found ' '  (at char 11), (line:2, col:11)",
     "output_type": "error",
     "traceback": [
      "\u001b[1;31m---------------------------------------------------------------------------\u001b[0m",
      "\u001b[1;31mParseException\u001b[0m                            Traceback (most recent call last)",
      "\u001b[1;32m<ipython-input-19-81051382667b>\u001b[0m in \u001b[0;36m<module>\u001b[1;34m\u001b[0m\n\u001b[0;32m      9\u001b[0m \u001b[1;33m\u001b[0m\u001b[0m\n\u001b[0;32m     10\u001b[0m \u001b[0mquery_pattern\u001b[0m \u001b[1;33m=\u001b[0m \u001b[1;34m\"select\"\u001b[0m \u001b[1;33m+\u001b[0m  \u001b[0malias_with_column\u001b[0m \u001b[1;33m+\u001b[0m \u001b[1;34m\"from\"\u001b[0m \u001b[1;33m+\u001b[0m \u001b[0mtable_name\u001b[0m \u001b[1;33m+\u001b[0m \u001b[0mtable_alias\u001b[0m \u001b[1;33m+\u001b[0m \u001b[1;34m\";\"\u001b[0m\u001b[1;33m\u001b[0m\u001b[1;33m\u001b[0m\u001b[0m\n\u001b[1;32m---> 11\u001b[1;33m \u001b[0mresult\u001b[0m \u001b[1;33m=\u001b[0m \u001b[0mquery_pattern\u001b[0m\u001b[1;33m.\u001b[0m\u001b[0mparse_string\u001b[0m\u001b[1;33m(\u001b[0m\u001b[0mquery\u001b[0m\u001b[1;33m)\u001b[0m\u001b[1;33m\u001b[0m\u001b[1;33m\u001b[0m\u001b[0m\n\u001b[0m\u001b[0;32m     12\u001b[0m \u001b[0mprint\u001b[0m\u001b[1;33m(\u001b[0m\u001b[1;34mf\"Tabulky: {result['tables']} (alias {result['alias']}), sloupce: {result['columns']}\"\u001b[0m\u001b[1;33m)\u001b[0m\u001b[1;33m\u001b[0m\u001b[1;33m\u001b[0m\u001b[0m\n",
      "\u001b[1;32mc:\\vs\\programovani\\python\\workshopy\\environment\\lib\\site-packages\\pyparsing\\core.py\u001b[0m in \u001b[0;36mparse_string\u001b[1;34m(self, instring, parse_all, parseAll)\u001b[0m\n\u001b[0;32m   1141\u001b[0m             \u001b[1;32melse\u001b[0m\u001b[1;33m:\u001b[0m\u001b[1;33m\u001b[0m\u001b[1;33m\u001b[0m\u001b[0m\n\u001b[0;32m   1142\u001b[0m                 \u001b[1;31m# catch and re-raise exception from here, clearing out pyparsing internal stack trace\u001b[0m\u001b[1;33m\u001b[0m\u001b[1;33m\u001b[0m\u001b[1;33m\u001b[0m\u001b[0m\n\u001b[1;32m-> 1143\u001b[1;33m                 \u001b[1;32mraise\u001b[0m \u001b[0mexc\u001b[0m\u001b[1;33m.\u001b[0m\u001b[0mwith_traceback\u001b[0m\u001b[1;33m(\u001b[0m\u001b[1;32mNone\u001b[0m\u001b[1;33m)\u001b[0m\u001b[1;33m\u001b[0m\u001b[1;33m\u001b[0m\u001b[0m\n\u001b[0m\u001b[0;32m   1144\u001b[0m         \u001b[1;32melse\u001b[0m\u001b[1;33m:\u001b[0m\u001b[1;33m\u001b[0m\u001b[1;33m\u001b[0m\u001b[0m\n\u001b[0;32m   1145\u001b[0m             \u001b[1;32mreturn\u001b[0m \u001b[0mtokens\u001b[0m\u001b[1;33m\u001b[0m\u001b[1;33m\u001b[0m\u001b[0m\n",
      "\u001b[1;31mParseException\u001b[0m: Expected '.', found ' '  (at char 11), (line:2, col:11)"
     ]
    }
   ],
   "source": [
    "query = \"\"\"\n",
    "select sta  .  some_col_1 from some_table_1 sta;\n",
    "\"\"\"\n",
    "\n",
    "column_name = pp.Word(pp.alphas + \"_\", pp.alphanums + \"_\").set_results_name(\"columns\")\n",
    "table_name = pp.Word(pp.alphas + \"_\", pp.alphanums + \"_\").set_results_name(\"tables\")\n",
    "table_alias = pp.Word(pp.alphanums, exact=3).set_results_name(\"alias\")\n",
    "alias_with_column = pp.Combine(table_alias + \".\" + column_name)\n",
    "\n",
    "query_pattern = \"select\" +  alias_with_column + \"from\" + table_name + table_alias + \";\"\n",
    "result = query_pattern.parse_string(query)\n",
    "print(f\"Tabulky: {result['tables']} (alias {result['alias']}), sloupce: {result['columns']}\")"
   ]
  },
  {
   "cell_type": "markdown",
   "metadata": {},
   "source": [
    "A nyní si ukážeme, jak ten samý kód funguje u validní query:"
   ]
  },
  {
   "cell_type": "code",
   "execution_count": 20,
   "metadata": {},
   "outputs": [
    {
     "name": "stdout",
     "output_type": "stream",
     "text": [
      "Tabulky: some_table_1 (alias sta), sloupce: some_col_1\n"
     ]
    }
   ],
   "source": [
    "query = \"\"\"\n",
    "select sta.some_col_1 from some_table_1 sta;\n",
    "\"\"\"\n",
    "\n",
    "column_name = pp.Word(pp.alphas + \"_\", pp.alphanums + \"_\").set_results_name(\"columns\")\n",
    "table_name = pp.Word(pp.alphas + \"_\", pp.alphanums + \"_\").set_results_name(\"tables\")\n",
    "table_alias = pp.Word(pp.alphanums, exact=3).set_results_name(\"alias\")\n",
    "alias_with_column = pp.Combine(table_alias + \".\" + column_name)\n",
    "\n",
    "query_pattern = \"select\" +  alias_with_column + \"from\" + table_name + table_alias + \";\"\n",
    "result = query_pattern.parse_string(query)\n",
    "print(f\"Tabulky: {result['tables']} (alias {result['alias']}), sloupce: {result['columns']}\")"
   ]
  },
  {
   "cell_type": "markdown",
   "metadata": {},
   "source": [
    "#### Nepovinné a vícenásobné části patternu"
   ]
  },
  {
   "cell_type": "markdown",
   "metadata": {},
   "source": [
    "Když bychom chtěli nyní kódem naparsovat query bez aliasů, tak parsování selže. Nicméně query správně napsaná je. Musíme tudíž parsovadlu nějak říci, že aliasy jsou nepovinné. Toho dosáhneme jejich vložením do *pp.Optional*."
   ]
  },
  {
   "cell_type": "code",
   "execution_count": 21,
   "metadata": {},
   "outputs": [
    {
     "name": "stdout",
     "output_type": "stream",
     "text": [
      "Tabulky: some_table_1 (no alias), sloupce: some_col_1\n"
     ]
    }
   ],
   "source": [
    "query = \"\"\"\n",
    "select some_col_1 from some_table_1;\n",
    "\"\"\"\n",
    "\n",
    "column_name = pp.Word(pp.alphas + \"_\", pp.alphanums + \"_\").set_results_name(\"columns\")\n",
    "table_name = pp.Word(pp.alphas + \"_\", pp.alphanums + \"_\").set_results_name(\"tables\")\n",
    "table_alias = pp.Word(pp.alphanums, exact=3).set_results_name(\"alias\")\n",
    "alias_with_column = pp.Combine(pp.Optional(table_alias + \".\") + column_name)\n",
    "\n",
    "query_pattern = \"select\" +  alias_with_column + \"from\" + table_name + pp.Optional(table_alias) + \";\"\n",
    "result = query_pattern.parse_string(query)\n",
    "\n",
    "if \"alias\" in result.keys():\n",
    "    print(f\"Tabulky: {result['tables']} (alias {result['alias']}), sloupce: {result['columns']}\")\n",
    "else:\n",
    "    print(f\"Tabulky: {result['tables']} (no alias), sloupce: {result['columns']}\")"
   ]
  },
  {
   "cell_type": "markdown",
   "metadata": {},
   "source": [
    "Ptát se prostřednictvím selectu jen na jeden sloupec je docela nuda. Nicméně aby pattern rozšířenou query o sloupce další zchroustal, musíme do něj přidat *pp.ZeroOrMore*. Do tohoto nového objektu přidáme čárku a sloupec.V případě, kdy bychom z nějakého důvodu potřebovali aspoň jeden výskyt (zde to nedává smysl kvůli čárce), existuje i *pp.OneOrMore*.  \n",
    "Když se ale podíváme na výsledný výpis, vidíme v něm jen poslední sloupec."
   ]
  },
  {
   "cell_type": "code",
   "execution_count": 22,
   "metadata": {},
   "outputs": [
    {
     "name": "stdout",
     "output_type": "stream",
     "text": [
      "Tabulky: some_table_1 (no alias), sloupce: some_col_3\n"
     ]
    }
   ],
   "source": [
    "query = \"\"\"\n",
    "select some_col_1, some_col_2, some_col_3 from some_table_1;\n",
    "\"\"\"\n",
    "\n",
    "column_name = pp.Word(pp.alphas + \"_\", pp.alphanums + \"_\").set_results_name(\"columns\")\n",
    "table_name = pp.Word(pp.alphas + \"_\", pp.alphanums + \"_\").set_results_name(\"tables\")\n",
    "table_alias = pp.Word(pp.alphanums, exact=3).set_results_name(\"alias\")\n",
    "alias_with_column = pp.Combine(pp.Optional(table_alias + \".\") + column_name)\n",
    "\n",
    "query_pattern = (\n",
    "    \"select\" +  alias_with_column \n",
    "    + pp.ZeroOrMore(pp.Suppress(\",\") + alias_with_column) \n",
    "    + \"from\" + table_name + pp.Optional(table_alias) + \";\"\n",
    ")\n",
    "result = query_pattern.parse_string(query)\n",
    "\n",
    "if \"alias\" in result.keys():\n",
    "    print(f\"Tabulky: {result['tables']} (alias {result['alias']}), sloupce: {result['columns']}\")\n",
    "else:\n",
    "    print(f\"Tabulky: {result['tables']} (no alias), sloupce: {result['columns']}\")"
   ]
  },
  {
   "cell_type": "markdown",
   "metadata": {},
   "source": [
    "Když si necháme vypsat obsah result objektu, uvidíme v něm všechny tři sloupce jen v první \"listové\" části. Co teď s tím? Přeci jen použití slovníku podobné syntaxe vypadalo na začátku jako docela velké ulehčení práce."
   ]
  },
  {
   "cell_type": "code",
   "execution_count": 23,
   "metadata": {},
   "outputs": [
    {
     "data": {
      "text/plain": [
       "ParseResults(['select', 'some_col_1', 'some_col_2', 'some_col_3', 'from', 'some_table_1', ';'], {'columns': 'some_col_3', 'tables': 'some_table_1'})"
      ]
     },
     "execution_count": 23,
     "metadata": {},
     "output_type": "execute_result"
    }
   ],
   "source": [
    "result"
   ]
  },
  {
   "cell_type": "markdown",
   "metadata": {},
   "source": [
    "Řešení je vcelku jednoduché - stačí přidat do metody *set_results_name* parametr *list_all_matches* s hodnotou True."
   ]
  },
  {
   "cell_type": "code",
   "execution_count": 24,
   "metadata": {},
   "outputs": [
    {
     "name": "stdout",
     "output_type": "stream",
     "text": [
      "Tabulky: ['some_table_1'] (no alias), sloupce: ['some_col_1', 'some_col_2', 'some_col_3']\n"
     ]
    }
   ],
   "source": [
    "query = \"\"\"\n",
    "select some_col_1, some_col_2, some_col_3 from some_table_1;\n",
    "\"\"\"\n",
    "\n",
    "column_name = pp.Word(pp.alphas + \"_\", pp.alphanums + \"_\").set_results_name(\"columns\", list_all_matches=True)\n",
    "table_name = pp.Word(pp.alphas + \"_\", pp.alphanums + \"_\").set_results_name(\"tables\", list_all_matches=True)\n",
    "table_alias = pp.Word(pp.alphanums, exact=3).set_results_name(\"alias\")\n",
    "alias_with_column = pp.Combine(pp.Optional(table_alias + \".\") + column_name)\n",
    "\n",
    "query_pattern = (\n",
    "    \"select\" +  alias_with_column \n",
    "    + pp.ZeroOrMore(\",\" + alias_with_column) \n",
    "    + \"from\" + table_name + pp.Optional(table_alias) + \";\"\n",
    ")\n",
    "result = query_pattern.parse_string(query)\n",
    "\n",
    "if \"alias\" in result.keys():\n",
    "    print(f\"Tabulky: {result['tables']} (alias {result['alias']}), sloupce: {result['columns']}\")\n",
    "else:\n",
    "    print(f\"Tabulky: {result['tables']} (no alias), sloupce: {result['columns']}\")"
   ]
  },
  {
   "cell_type": "markdown",
   "metadata": {},
   "source": [
    "#### OR logika"
   ]
  },
  {
   "cell_type": "markdown",
   "metadata": {},
   "source": [
    "Mějme situaci, kdy bychom chtěli současně parsovat selecty i delety. Fakticky si tak musíme vytvořit jednak pattern pro select, jednak pattern pro delete. Mezi nimi posléze nastavíme OR pomocí znaku pipy (|, tj. na české klávesnici pravý alt + W)."
   ]
  },
  {
   "cell_type": "code",
   "execution_count": 22,
   "metadata": {},
   "outputs": [
    {
     "name": "stdout",
     "output_type": "stream",
     "text": [
      "Tabulky: ['some_table_1'] (no alias), sloupce: ['some_col_1', 'some_col_2', 'some_col_3']\n",
      "Tabulky: ['some_table_1'] (no alias)\n"
     ]
    }
   ],
   "source": [
    "query_select = \"\"\"\n",
    "select some_col_1, some_col_2, some_col_3 from some_table_1;\n",
    "\"\"\"\n",
    "\n",
    "query_delete = \"\"\"\n",
    "delete from some_table_1;\n",
    "\"\"\"\n",
    "\n",
    "column_name = pp.Word(pp.alphas + \"_\", pp.alphanums + \"_\").set_results_name(\"columns\", list_all_matches=True)\n",
    "table_name = pp.Word(pp.alphas + \"_\", pp.alphanums + \"_\").set_results_name(\"tables\", list_all_matches=True)\n",
    "table_alias = pp.Word(pp.alphanums, exact=3).set_results_name(\"alias\")\n",
    "alias_with_column = pp.Combine(pp.Optional(table_alias + \".\") + column_name)\n",
    "\n",
    "select_query_pattern = (\n",
    "    \"select\" +  alias_with_column \n",
    "    + pp.ZeroOrMore(\",\" + alias_with_column) \n",
    "    + \"from\" + table_name + pp.Optional(table_alias) + \";\"\n",
    ")\n",
    "\n",
    "delete_query_pattern = (\n",
    "    \"delete from\" + table_name + \";\"\n",
    ")\n",
    "\n",
    "query_pattern = (select_query_pattern | delete_query_pattern)\n",
    "\n",
    "result = query_pattern.parse_string(query_select)\n",
    "\n",
    "if \"alias\" in result.keys():\n",
    "    print(f\"Tabulky: {result['tables']} (alias {result['alias']}), sloupce: {result['columns']}\")\n",
    "else:\n",
    "    print(f\"Tabulky: {result['tables']} (no alias), sloupce: {result['columns']}\")\n",
    "    \n",
    "result = query_pattern.parse_string(query_delete)\n",
    "\n",
    "if \"alias\" in result.keys():\n",
    "    print(f\"Tabulky: {result['tables']} (alias {result['alias']})\")\n",
    "else:\n",
    "    print(f\"Tabulky: {result['tables']} (no alias)\")"
   ]
  },
  {
   "cell_type": "markdown",
   "metadata": {},
   "source": [
    "Nyní se pokusíme vytvořit jednoduchou where podmínku. Klíčová slova se nám nyní začínají hromadit a tak bude lepší je vypisovat nikoli jako textové řetězce, ale jako pyparsingové objekty. konkrétně použijeme tzv. *CaselessKeyword*. Caseless znamená, že se nám provede match nezávisle na velikosti písmen. Keyword značí, že nalezené klíčové slovo musí být následované neklíčovým slovem. Tím se liší od podobného objektu *Literal*, který by třeba pro slovo \"if\" namatchoval začátek \"ifAndOnlyIf\".  \n",
    "Ve wheru budeme porovnávat hodnotu sloupce s nějakou číselnou hodnotou. Nicméně porovnávacích operátorů je několik. Mohli bychom sice použít OR konstrukci, ale mnohem pohodlnější bude využití *one_of* funkce. Ta přebere textový řetězec a roztrhá ho podle bílých znaků. Výsledek se pak bude matchovat na libovolný z takto vytvořených tokenů."
   ]
  },
  {
   "cell_type": "code",
   "execution_count": 25,
   "metadata": {},
   "outputs": [
    {
     "name": "stdout",
     "output_type": "stream",
     "text": [
      "Tabulky: ['some_table_1'] (alias sta), sloupce: ['some_col_1', 'some_col_2', 'some_col_3']\n"
     ]
    }
   ],
   "source": [
    "query = \"\"\"\n",
    "select sta.some_col_1 \n",
    "from some_table_1 sta \n",
    "where sta.some_col_2 >= 5\n",
    "and sta.some_col_3 = 'hello' \n",
    ";\n",
    "\"\"\"\n",
    "select_keyword = pp.CaselessKeyword(\"select\")\n",
    "from_keyword = pp.CaselessKeyword(\"from\")\n",
    "where_keyword = pp.CaselessKeyword(\"where\")\n",
    "and_keyword = pp.CaselessKeyword(\"and\")\n",
    "or_keyword = pp.CaselessKeyword(\"or\")\n",
    "\n",
    "column_name = pp.Word(pp.alphas + \"_\", pp.alphanums + \"_\").set_results_name(\"columns\", list_all_matches=True)\n",
    "table_name = pp.Word(pp.alphas + \"_\", pp.alphanums + \"_\").set_results_name(\"tables\", list_all_matches=True)\n",
    "table_alias = pp.Word(pp.alphanums, exact=3).set_results_name(\"alias\")\n",
    "alias_with_column = pp.Combine(pp.Optional(table_alias + \".\") + column_name)\n",
    "\n",
    "comparison = pp.one_of(\"= < > >= <= <>\")\n",
    "cond_number = pp.Word(pp.nums + \",.\")\n",
    "cond_string = \"'\" + pp.Word(pp.alphas) + \"'\"\n",
    "one_cond = alias_with_column + comparison + (alias_with_column | cond_number | cond_string)\n",
    "where_condition = where_keyword + one_cond + pp.ZeroOrMore((and_keyword|or_keyword) + one_cond )\n",
    "\n",
    "select_query_pattern = (\n",
    "    select_keyword +  alias_with_column \n",
    "    + pp.ZeroOrMore(\",\" + alias_with_column) \n",
    "    + from_keyword + table_name + pp.Optional(table_alias) \n",
    "    + pp.Optional(where_condition)\n",
    "    + \";\"\n",
    ")\n",
    "\n",
    "result = select_query_pattern.parse_string(query)\n",
    "if \"alias\" in result.keys():\n",
    "    print(f\"Tabulky: {result['tables']} (alias {result['alias']}), sloupce: {result['columns']}\")\n",
    "else:\n",
    "    print(f\"Tabulky: {result['tables']} (no alias), sloupce: {result['columns']}\")"
   ]
  },
  {
   "cell_type": "markdown",
   "metadata": {},
   "source": [
    "#### Komentáře\n",
    "Pakliže parsujeme kód, často se v něm objeví komentáře, které namísto systaxe toho konkrétního programovacího jazyka respektují jazyk přirozený. Proto je užitečné, aby se k takovýmto řádkům choval pyparsing stejně jako překladač - aby tyto řádky ignoroval. To zařídíme zavoláním metody *ignore* na patternu. Parametrem ignoru bude textový řetězec, který komentáře definuje. Obvykle půjde o znak označující komentář (např. v pythonu #) následovaný *pp.rest_of_line*. Tato konstrukce označuje všechny zbývající znaky na řádku."
   ]
  },
  {
   "cell_type": "code",
   "execution_count": 26,
   "metadata": {},
   "outputs": [
    {
     "name": "stdout",
     "output_type": "stream",
     "text": [
      "Tabulky: some_table_1 (alias sta), sloupce: some_col_1\n"
     ]
    }
   ],
   "source": [
    "query = \"\"\"\n",
    "select sta.some_col_1 \n",
    "#blabla\n",
    "from some_table_1 sta;\n",
    "\"\"\"\n",
    "\n",
    "column_name = pp.Word(pp.alphas + \"_\", pp.alphanums + \"_\").set_results_name(\"columns\")\n",
    "table_name = pp.Word(pp.alphas + \"_\", pp.alphanums + \"_\").set_results_name(\"tables\")\n",
    "table_alias = pp.Word(pp.alphanums, exact=3).set_results_name(\"alias\")\n",
    "alias_with_column = pp.Combine(table_alias + \".\" + column_name)\n",
    "\n",
    "query_pattern = \"select\" +  alias_with_column + \"from\" + table_name + table_alias + \";\"\n",
    "query_pattern.ignore(\"#\" + pp.rest_of_line)\n",
    "\n",
    "result = query_pattern.parse_string(query)\n",
    "print(f\"Tabulky: {result['tables']} (alias {result['alias']}), sloupce: {result['columns']}\")"
   ]
  },
  {
   "cell_type": "markdown",
   "metadata": {},
   "source": [
    "Zdůrazněme, že pokud se nějaký text nalézá na stejném řádku jako komentář, ale před *počátečním* znakem komentáře, pyparsing tento text normálně zpracuje."
   ]
  },
  {
   "cell_type": "code",
   "execution_count": 27,
   "metadata": {},
   "outputs": [
    {
     "name": "stdout",
     "output_type": "stream",
     "text": [
      "Tabulky: some_table_1 (alias sta), sloupce: some_col_1\n"
     ]
    }
   ],
   "source": [
    "query = \"\"\"\n",
    "select sta.some_col_1 \n",
    "from #blabla\n",
    "some_table_1 sta;\n",
    "\"\"\"\n",
    "\n",
    "column_name = pp.Word(pp.alphas + \"_\", pp.alphanums + \"_\").set_results_name(\"columns\")\n",
    "table_name = pp.Word(pp.alphas + \"_\", pp.alphanums + \"_\").set_results_name(\"tables\")\n",
    "table_alias = pp.Word(pp.alphanums, exact=3).set_results_name(\"alias\")\n",
    "alias_with_column = pp.Combine(table_alias + \".\" + column_name)\n",
    "\n",
    "query_pattern = \"select\" +  alias_with_column + \"from\" + table_name + table_alias + \";\"\n",
    "query_pattern.ignore(\"#\" + pp.rest_of_line)\n",
    "\n",
    "result = query_pattern.parse_string(query)\n",
    "print(f\"Tabulky: {result['tables']} (alias {result['alias']}), sloupce: {result['columns']}\")"
   ]
  },
  {
   "cell_type": "markdown",
   "metadata": {},
   "source": [
    "#### Rekurze (select v selectu)"
   ]
  },
  {
   "cell_type": "markdown",
   "metadata": {},
   "source": [
    "Představme si ale jinou situaci - co kdyby byl ve where podmínce subselect? Tak by se nám vytvořila rekurze, kdy by předpis patternu pro select odkazoval sám na sebe. To v pyparsingu vytvořit lze, ale musí se na to použít speciální konstrukce.  \n",
    "Nejprve se element s rekurzí položí rovný *pp.Forward()*. Posléze se do něj vloží celá definice pomocí operátoru \"<<\".  \n",
    "Všimněte si, že jsme celý select (až na středník) obalili do *pp.Group*. Díky tomu select drží pohromadě a nedojde k pomíchání jednotlivých úrovní selectu a subselectu. V result objektu nejsou tabulky a sloupce subselectu - k nim se musíme dostat tak, že nejprve skočíme do výsledku zodpovědného právě za onen subslelect."
   ]
  },
  {
   "cell_type": "code",
   "execution_count": 28,
   "metadata": {},
   "outputs": [
    {
     "name": "stdout",
     "output_type": "stream",
     "text": [
      "For main query:\n",
      "Tabulky: ['some_table_1'] (alias sta), sloupce: ['some_col_1', 'some_col_2']\n",
      "For subquery:\n",
      "Tabulky: ['another_table'] (alias ant), sloupce: ['some_another_col']\n"
     ]
    }
   ],
   "source": [
    "query = \"\"\"\n",
    "select sta.some_col_1 \n",
    "from some_table_1 sta \n",
    "where sta.some_col_2 in (select ant.some_another_col from another_table ant)\n",
    ";\n",
    "\"\"\"\n",
    "\n",
    "select_keyword = pp.CaselessKeyword(\"select\")\n",
    "from_keyword = pp.CaselessKeyword(\"from\")\n",
    "where_keyword = pp.CaselessKeyword(\"where\")\n",
    "and_keyword = pp.CaselessKeyword(\"and\")\n",
    "or_keyword = pp.CaselessKeyword(\"or\")\n",
    "in_keyword = pp.CaselessKeyword(\"in\")\n",
    "\n",
    "column_name = pp.Word(pp.alphas + \"_\", pp.alphanums + \"_\").set_results_name(\"columns\", list_all_matches=True)\n",
    "table_name = pp.Word(pp.alphas + \"_\", pp.alphanums + \"_\").set_results_name(\"tables\", list_all_matches=True)\n",
    "table_alias = pp.Word(pp.alphanums, exact=3).set_results_name(\"alias\")\n",
    "alias_with_column = pp.Combine(pp.Optional(table_alias + \".\") + column_name)\n",
    "\n",
    "select_fragment = pp.Forward()\n",
    "\n",
    "select_fragment << pp.Group(\n",
    "    select_keyword +  alias_with_column \n",
    "    + pp.ZeroOrMore(\",\" + alias_with_column) \n",
    "    + from_keyword + table_name + pp.Optional(table_alias) \n",
    "    + pp.Optional(\n",
    "        where_keyword + alias_with_column + in_keyword + \"(\" \n",
    "        +  select_fragment.set_results_name(\"inner_select\") \n",
    "        + \")\"\n",
    "    )\n",
    ")\n",
    "\n",
    "query_pattern = select_fragment + pp.Suppress(\";\")\n",
    "\n",
    "result = query_pattern.parse_string(query)[0]\n",
    "\n",
    "print(\"For main query:\")\n",
    "if \"alias\" in result.keys():\n",
    "    print(f\"Tabulky: {result['tables']} (alias {result['alias']}), sloupce: {result['columns']}\")\n",
    "else:\n",
    "    print(f\"Tabulky: {result['tables']} (no alias), sloupce: {result['columns']}\")\n",
    "    \n",
    "print(\"For subquery:\")\n",
    "subquery_result = result[\"inner_select\"]\n",
    "if \"alias\" in subquery_result.keys():\n",
    "    print(f\"Tabulky: {subquery_result['tables']} (alias {subquery_result['alias']}), sloupce: {subquery_result['columns']}\")\n",
    "else:\n",
    "    print(f\"Tabulky: {subquery_result['tables']} (no alias), sloupce: {subquery_result['columns']}\")"
   ]
  },
  {
   "cell_type": "markdown",
   "metadata": {},
   "source": [
    "#### Negativní look-ahead"
   ]
  },
  {
   "cell_type": "markdown",
   "metadata": {},
   "source": [
    "Někdy se hodí mít možnost zakázat namatchování patternu na určitou část textového řetězce. Příkladem budiž situace, kdy by se v SQLkovém dotazu objevilo chybné zdvojení klíčového slova - třeba *from*. Za normálních okolností by se toto *from* označilo jako jméno tabulky, což nechceme."
   ]
  },
  {
   "cell_type": "code",
   "execution_count": 29,
   "metadata": {},
   "outputs": [
    {
     "data": {
      "text/plain": [
       "ParseResults(['select', 'someCol', 'from', 'from', ';'], {'columns': 'someCol', 'tables': 'from'})"
      ]
     },
     "execution_count": 29,
     "metadata": {},
     "output_type": "execute_result"
    }
   ],
   "source": [
    "query = \"\"\"\n",
    "select someCol from from;\n",
    "\"\"\"\n",
    "\n",
    "column_name = pp.Word(pp.alphas).set_results_name(\"columns\")\n",
    "table_name = pp.Word(pp.alphas).set_results_name(\"tables\")\n",
    "query_pattern = \"select\" +  column_name + \"from\" + table_name + \";\"\n",
    "result = query_pattern.parse_string(query)\n",
    "result"
   ]
  },
  {
   "cell_type": "markdown",
   "metadata": {},
   "source": [
    "Řešení je postavit vlnku před pyparsinový výraz. Zde ji vkládáme před *pp.Literal* - její umístění před textový řetězec bohužel nefunguje. Při samotném parsování pyparsingový engine dojde k výrazu s vlnkou - zde *table_name*. Zkontroluje, zda se na místě, kde se právě v parsovaném řetězci nachází, výraz s vlnkou nachází. Pokud ano, vytvoří chybu. Pokud ne, pokračuje engine v zpracovávání dalších prvků patternu dál, aniž by ovlnkovaný výraz vedl k jakémukoli posunu v parsovaném řetězci.  \n",
    "Příklad s nevhodnou query:"
   ]
  },
  {
   "cell_type": "code",
   "execution_count": 30,
   "metadata": {},
   "outputs": [
    {
     "ename": "ParseException",
     "evalue": "Found unwanted token, 'from', found ' '  (at char 20), (line:2, col:20)",
     "output_type": "error",
     "traceback": [
      "\u001b[1;31m---------------------------------------------------------------------------\u001b[0m",
      "\u001b[1;31mParseException\u001b[0m                            Traceback (most recent call last)",
      "\u001b[1;32m<ipython-input-30-a6278d3fdd84>\u001b[0m in \u001b[0;36m<module>\u001b[1;34m\u001b[0m\n\u001b[0;32m      6\u001b[0m \u001b[0mtable_name\u001b[0m \u001b[1;33m=\u001b[0m \u001b[1;33m~\u001b[0m\u001b[0mpp\u001b[0m\u001b[1;33m.\u001b[0m\u001b[0mLiteral\u001b[0m\u001b[1;33m(\u001b[0m\u001b[1;34m\"from\"\u001b[0m\u001b[1;33m)\u001b[0m \u001b[1;33m+\u001b[0m \u001b[0mpp\u001b[0m\u001b[1;33m.\u001b[0m\u001b[0mWord\u001b[0m\u001b[1;33m(\u001b[0m\u001b[0mpp\u001b[0m\u001b[1;33m.\u001b[0m\u001b[0malphas\u001b[0m\u001b[1;33m)\u001b[0m\u001b[1;33m.\u001b[0m\u001b[0mset_results_name\u001b[0m\u001b[1;33m(\u001b[0m\u001b[1;34m\"tables\"\u001b[0m\u001b[1;33m)\u001b[0m\u001b[1;33m\u001b[0m\u001b[1;33m\u001b[0m\u001b[0m\n\u001b[0;32m      7\u001b[0m \u001b[0mquery_pattern\u001b[0m \u001b[1;33m=\u001b[0m \u001b[1;34m\"select\"\u001b[0m \u001b[1;33m+\u001b[0m  \u001b[0mcolumn_name\u001b[0m \u001b[1;33m+\u001b[0m \u001b[1;34m\"from\"\u001b[0m \u001b[1;33m+\u001b[0m \u001b[0mtable_name\u001b[0m \u001b[1;33m+\u001b[0m \u001b[1;34m\";\"\u001b[0m\u001b[1;33m\u001b[0m\u001b[1;33m\u001b[0m\u001b[0m\n\u001b[1;32m----> 8\u001b[1;33m \u001b[0mresult\u001b[0m \u001b[1;33m=\u001b[0m \u001b[0mquery_pattern\u001b[0m\u001b[1;33m.\u001b[0m\u001b[0mparse_string\u001b[0m\u001b[1;33m(\u001b[0m\u001b[0mquery\u001b[0m\u001b[1;33m)\u001b[0m\u001b[1;33m\u001b[0m\u001b[1;33m\u001b[0m\u001b[0m\n\u001b[0m\u001b[0;32m      9\u001b[0m \u001b[0mresult\u001b[0m\u001b[1;33m\u001b[0m\u001b[1;33m\u001b[0m\u001b[0m\n",
      "\u001b[1;32mc:\\vs\\programovani\\python\\workshopy\\environment\\lib\\site-packages\\pyparsing\\core.py\u001b[0m in \u001b[0;36mparse_string\u001b[1;34m(self, instring, parse_all, parseAll)\u001b[0m\n\u001b[0;32m   1141\u001b[0m             \u001b[1;32melse\u001b[0m\u001b[1;33m:\u001b[0m\u001b[1;33m\u001b[0m\u001b[1;33m\u001b[0m\u001b[0m\n\u001b[0;32m   1142\u001b[0m                 \u001b[1;31m# catch and re-raise exception from here, clearing out pyparsing internal stack trace\u001b[0m\u001b[1;33m\u001b[0m\u001b[1;33m\u001b[0m\u001b[1;33m\u001b[0m\u001b[0m\n\u001b[1;32m-> 1143\u001b[1;33m                 \u001b[1;32mraise\u001b[0m \u001b[0mexc\u001b[0m\u001b[1;33m.\u001b[0m\u001b[0mwith_traceback\u001b[0m\u001b[1;33m(\u001b[0m\u001b[1;32mNone\u001b[0m\u001b[1;33m)\u001b[0m\u001b[1;33m\u001b[0m\u001b[1;33m\u001b[0m\u001b[0m\n\u001b[0m\u001b[0;32m   1144\u001b[0m         \u001b[1;32melse\u001b[0m\u001b[1;33m:\u001b[0m\u001b[1;33m\u001b[0m\u001b[1;33m\u001b[0m\u001b[0m\n\u001b[0;32m   1145\u001b[0m             \u001b[1;32mreturn\u001b[0m \u001b[0mtokens\u001b[0m\u001b[1;33m\u001b[0m\u001b[1;33m\u001b[0m\u001b[0m\n",
      "\u001b[1;31mParseException\u001b[0m: Found unwanted token, 'from', found ' '  (at char 20), (line:2, col:20)"
     ]
    }
   ],
   "source": [
    "query = \"\"\"\n",
    "select someCol from from;\n",
    "\"\"\"\n",
    "\n",
    "column_name = pp.Word(pp.alphas).set_results_name(\"columns\")\n",
    "table_name = ~pp.Literal(\"from\") + pp.Word(pp.alphas).set_results_name(\"tables\")\n",
    "query_pattern = \"select\" +  column_name + \"from\" + table_name + \";\"\n",
    "result = query_pattern.parse_string(query)\n",
    "result"
   ]
  },
  {
   "cell_type": "markdown",
   "metadata": {},
   "source": [
    "Příklad se správnou query:"
   ]
  },
  {
   "cell_type": "code",
   "execution_count": 31,
   "metadata": {},
   "outputs": [
    {
     "data": {
      "text/plain": [
       "ParseResults(['select', 'someCol', 'from', 'someTable', ';'], {'columns': 'someCol', 'tables': 'someTable'})"
      ]
     },
     "execution_count": 31,
     "metadata": {},
     "output_type": "execute_result"
    }
   ],
   "source": [
    "query = \"\"\"\n",
    "select someCol from someTable;\n",
    "\"\"\"\n",
    "\n",
    "column_name = pp.Word(pp.alphas).set_results_name(\"columns\")\n",
    "table_name = ~pp.Literal(\"from\") + pp.Word(pp.alphas).set_results_name(\"tables\")\n",
    "query_pattern = \"select\" +  column_name + \"from\" + table_name + \";\"\n",
    "result = query_pattern.parse_string(query)\n",
    "result"
   ]
  },
  {
   "cell_type": "markdown",
   "metadata": {},
   "source": [
    "### Užitečné metody patternu\n",
    "Doposud jsme k parsování textu používali metodu patternu *parse_string*. Ta se defautlně snaží na text namatchovat pattern. Pokud text pokračuje dále, tak to už *parse_string* nijak netrápí."
   ]
  },
  {
   "cell_type": "code",
   "execution_count": 32,
   "metadata": {},
   "outputs": [
    {
     "name": "stdout",
     "output_type": "stream",
     "text": [
      "Tabulky: some_table_1, sloupce: some_col_1\n"
     ]
    }
   ],
   "source": [
    "query = \"\"\"\n",
    "select some_col_1 from some_table_1;\n",
    "blabla\n",
    "\"\"\"\n",
    "\n",
    "column_name = pp.Word(pp.alphas + \"_\", pp.alphanums + \"_\").set_results_name(\"columns\")\n",
    "table_name = pp.Word(pp.alphas + \"_\", pp.alphanums + \"_\").set_results_name(\"tables\")\n",
    "query_pattern = \"select\" +  column_name + \"from\" + table_name + \";\"\n",
    "result = query_pattern.parse_string(query)\n",
    "print(f\"Tabulky: {result['tables']}, sloupce: {result['columns']}\")"
   ]
  },
  {
   "cell_type": "markdown",
   "metadata": {},
   "source": [
    "Pokud ale takové chování není žádoucí, lze do *parse_string* přidat parametr *parse_all* s hodnotou \"all\". Po takové změně výše uvedený příkaz skončí chybou:"
   ]
  },
  {
   "cell_type": "code",
   "execution_count": 33,
   "metadata": {},
   "outputs": [
    {
     "ename": "ParseException",
     "evalue": "Expected end of text, found 'blabla'  (at char 38), (line:3, col:1)",
     "output_type": "error",
     "traceback": [
      "\u001b[1;31m---------------------------------------------------------------------------\u001b[0m",
      "\u001b[1;31mParseException\u001b[0m                            Traceback (most recent call last)",
      "\u001b[1;32m<ipython-input-33-4275a75dbc96>\u001b[0m in \u001b[0;36m<module>\u001b[1;34m\u001b[0m\n\u001b[0;32m      7\u001b[0m \u001b[0mtable_name\u001b[0m \u001b[1;33m=\u001b[0m \u001b[0mpp\u001b[0m\u001b[1;33m.\u001b[0m\u001b[0mWord\u001b[0m\u001b[1;33m(\u001b[0m\u001b[0mpp\u001b[0m\u001b[1;33m.\u001b[0m\u001b[0malphas\u001b[0m \u001b[1;33m+\u001b[0m \u001b[1;34m\"_\"\u001b[0m\u001b[1;33m,\u001b[0m \u001b[0mpp\u001b[0m\u001b[1;33m.\u001b[0m\u001b[0malphanums\u001b[0m \u001b[1;33m+\u001b[0m \u001b[1;34m\"_\"\u001b[0m\u001b[1;33m)\u001b[0m\u001b[1;33m.\u001b[0m\u001b[0mset_results_name\u001b[0m\u001b[1;33m(\u001b[0m\u001b[1;34m\"tables\"\u001b[0m\u001b[1;33m)\u001b[0m\u001b[1;33m\u001b[0m\u001b[1;33m\u001b[0m\u001b[0m\n\u001b[0;32m      8\u001b[0m \u001b[0mquery_pattern\u001b[0m \u001b[1;33m=\u001b[0m \u001b[1;34m\"select\"\u001b[0m \u001b[1;33m+\u001b[0m  \u001b[0mcolumn_name\u001b[0m \u001b[1;33m+\u001b[0m \u001b[1;34m\"from\"\u001b[0m \u001b[1;33m+\u001b[0m \u001b[0mtable_name\u001b[0m \u001b[1;33m+\u001b[0m \u001b[1;34m\";\"\u001b[0m\u001b[1;33m\u001b[0m\u001b[1;33m\u001b[0m\u001b[0m\n\u001b[1;32m----> 9\u001b[1;33m \u001b[0mresult\u001b[0m \u001b[1;33m=\u001b[0m \u001b[0mquery_pattern\u001b[0m\u001b[1;33m.\u001b[0m\u001b[0mparse_string\u001b[0m\u001b[1;33m(\u001b[0m\u001b[0mquery\u001b[0m\u001b[1;33m,\u001b[0m \u001b[0mparse_all\u001b[0m\u001b[1;33m=\u001b[0m\u001b[1;32mTrue\u001b[0m\u001b[1;33m)\u001b[0m\u001b[1;33m\u001b[0m\u001b[1;33m\u001b[0m\u001b[0m\n\u001b[0m\u001b[0;32m     10\u001b[0m \u001b[0mprint\u001b[0m\u001b[1;33m(\u001b[0m\u001b[1;34mf\"Tabulky: {result['tables']}, sloupce: {result['columns']}\"\u001b[0m\u001b[1;33m)\u001b[0m\u001b[1;33m\u001b[0m\u001b[1;33m\u001b[0m\u001b[0m\n",
      "\u001b[1;32mc:\\vs\\programovani\\python\\workshopy\\environment\\lib\\site-packages\\pyparsing\\core.py\u001b[0m in \u001b[0;36mparse_string\u001b[1;34m(self, instring, parse_all, parseAll)\u001b[0m\n\u001b[0;32m   1141\u001b[0m             \u001b[1;32melse\u001b[0m\u001b[1;33m:\u001b[0m\u001b[1;33m\u001b[0m\u001b[1;33m\u001b[0m\u001b[0m\n\u001b[0;32m   1142\u001b[0m                 \u001b[1;31m# catch and re-raise exception from here, clearing out pyparsing internal stack trace\u001b[0m\u001b[1;33m\u001b[0m\u001b[1;33m\u001b[0m\u001b[1;33m\u001b[0m\u001b[0m\n\u001b[1;32m-> 1143\u001b[1;33m                 \u001b[1;32mraise\u001b[0m \u001b[0mexc\u001b[0m\u001b[1;33m.\u001b[0m\u001b[0mwith_traceback\u001b[0m\u001b[1;33m(\u001b[0m\u001b[1;32mNone\u001b[0m\u001b[1;33m)\u001b[0m\u001b[1;33m\u001b[0m\u001b[1;33m\u001b[0m\u001b[0m\n\u001b[0m\u001b[0;32m   1144\u001b[0m         \u001b[1;32melse\u001b[0m\u001b[1;33m:\u001b[0m\u001b[1;33m\u001b[0m\u001b[1;33m\u001b[0m\u001b[0m\n\u001b[0;32m   1145\u001b[0m             \u001b[1;32mreturn\u001b[0m \u001b[0mtokens\u001b[0m\u001b[1;33m\u001b[0m\u001b[1;33m\u001b[0m\u001b[0m\n",
      "\u001b[1;31mParseException\u001b[0m: Expected end of text, found 'blabla'  (at char 38), (line:3, col:1)"
     ]
    }
   ],
   "source": [
    "query = \"\"\"\n",
    "select some_col_1 from some_table_1;\n",
    "blabla\n",
    "\"\"\"\n",
    "\n",
    "column_name = pp.Word(pp.alphas + \"_\", pp.alphanums + \"_\").set_results_name(\"columns\")\n",
    "table_name = pp.Word(pp.alphas + \"_\", pp.alphanums + \"_\").set_results_name(\"tables\")\n",
    "query_pattern = \"select\" +  column_name + \"from\" + table_name + \";\"\n",
    "result = query_pattern.parse_string(query, parse_all=True)\n",
    "print(f\"Tabulky: {result['tables']}, sloupce: {result['columns']}\")"
   ]
  },
  {
   "cell_type": "markdown",
   "metadata": {},
   "source": [
    "Často budeme parsovat soubory. Ty bychom sice mohli otevřít a poté prohnat skrze *parse_string*, ale metoda *parse_file* nám situaci zjednodušuje - obě operace v sobě totiž spojuje."
   ]
  },
  {
   "cell_type": "code",
   "execution_count": 34,
   "metadata": {},
   "outputs": [
    {
     "name": "stdout",
     "output_type": "stream",
     "text": [
      "Tabulky: some_table_1, sloupce: some_col_1\n"
     ]
    }
   ],
   "source": [
    "column_name = pp.Word(pp.alphas + \"_\", pp.alphanums + \"_\").set_results_name(\"columns\")\n",
    "table_name = pp.Word(pp.alphas + \"_\", pp.alphanums + \"_\").set_results_name(\"tables\")\n",
    "query_pattern = \"select\" +  column_name + \"from\" + table_name + \";\"\n",
    "result = query_pattern.parse_file(\"file_for_pyparsing.txt\")\n",
    "print(f\"Tabulky: {result['tables']}, sloupce: {result['columns']}\")"
   ]
  },
  {
   "cell_type": "markdown",
   "metadata": {},
   "source": [
    "Někdy se pro nás zajímavé části textu nalézají zahrabané v hromadě hlušiny, pro kterou gramatiku vymýšlet nechceme. Tehdy nám poslouží metoda *scan_string*. U ní budeme muset upravit práci v výsledným objektem. Jím je totiž generátor (proto procházení forem), který poskytuje jednočlenné tuply s výsledky (proto [0]). Všiměte si, že *scan_string* nalezne všechny (nepřekrývající se) výskyty patternu v textu."
   ]
  },
  {
   "cell_type": "code",
   "execution_count": 35,
   "metadata": {},
   "outputs": [
    {
     "name": "stdout",
     "output_type": "stream",
     "text": [
      "Tabulky: some_table_1, sloupce: some_col_1\n",
      "Tabulky: some_table_2, sloupce: some_col_2\n"
     ]
    }
   ],
   "source": [
    "query = \"\"\"\n",
    "blabla\n",
    "select some_col_1 from some_table_1;\n",
    "blabla\n",
    "select some_col_2 from some_table_2;\n",
    "tralalala\n",
    "\"\"\"\n",
    "\n",
    "column_name = pp.Word(pp.alphas + \"_\", pp.alphanums + \"_\").set_results_name(\"columns\")\n",
    "table_name = pp.Word(pp.alphas + \"_\", pp.alphanums + \"_\").set_results_name(\"tables\")\n",
    "query_pattern = \"select\" +  column_name + \"from\" + table_name + \";\"\n",
    "results = query_pattern.scan_string(query)\n",
    "for one_result in results:\n",
    "    print(f\"Tabulky: {one_result[0]['tables']}, sloupce: {one_result[0]['columns']}\")"
   ]
  },
  {
   "cell_type": "markdown",
   "metadata": {},
   "source": [
    "Práce s výstupem *scan_string* je poněkud nešikovná. Proto byl vytvořena metoda *search_string*, která funguje velice podobně, akorát namísto generátoru vrací listu podobný objekt, jehož prvky nejsou tuply, ale samotné ParseResulty (tj. věci, se kterou jsme pracovali u výstupu *parse_string*). Fakticky to znamená, že ve zpracování výsledku už můžeme indexaci pominout."
   ]
  },
  {
   "cell_type": "code",
   "execution_count": 36,
   "metadata": {},
   "outputs": [
    {
     "name": "stdout",
     "output_type": "stream",
     "text": [
      "Tabulky: some_table_1, sloupce: some_col_1\n",
      "Tabulky: some_table_2, sloupce: some_col_2\n"
     ]
    }
   ],
   "source": [
    "query = \"\"\"\n",
    "blabla\n",
    "select some_col_1 from some_table_1;\n",
    "blabla\n",
    "select some_col_2 from some_table_2;\n",
    "tralalala\n",
    "\"\"\"\n",
    "\n",
    "column_name = pp.Word(pp.alphas + \"_\", pp.alphanums + \"_\").set_results_name(\"columns\")\n",
    "table_name = pp.Word(pp.alphas + \"_\", pp.alphanums + \"_\").set_results_name(\"tables\")\n",
    "query_pattern = \"select\" +  column_name + \"from\" + table_name + \";\"\n",
    "results = query_pattern.search_string(query)\n",
    "for one_result in results:\n",
    "    print(f\"Tabulky: {one_result['tables']}, sloupce: {one_result['columns']}\")"
   ]
  },
  {
   "cell_type": "markdown",
   "metadata": {},
   "source": [
    "Když člověk rozšiřuje pattern a zkouší ho na nových příkladech, může se stát, že díky takto vzniklým změnám už pattern nebude sedět na příklady staré. To je dobré podchytit v nějaké testovací funkci či metodě, která spustí naráz hromadu příkladů. Tato metoda se v pyparsingu nazývá *run_tests*. Jako parametr přebírá list se seznamem příkladů. Návratovou hodnotou je tuple o dvou prvcích. V prvním je boolean indukující, zda všechny testy dopadly úspěšně, v druhém pak ParseResulty pro každý z testů."
   ]
  },
  {
   "cell_type": "code",
   "execution_count": 37,
   "metadata": {},
   "outputs": [
    {
     "name": "stdout",
     "output_type": "stream",
     "text": [
      "\n",
      "select some_col_1 from some_table_1;\n",
      "['select', 'some_col_1', 'from', 'some_table_1', ';']\n",
      "- columns: ['some_col_1']\n",
      "- tables: ['some_table_1']\n",
      "\n",
      "select sta.some_col_1 from some_table_1 sta;\n",
      "['select', 'sta.some_col_1', 'from', 'some_table_1', 'sta', ';']\n",
      "- alias: 'sta'\n",
      "- columns: ['some_col_1']\n",
      "- tables: ['some_table_1']\n",
      "\n",
      "select tra.sta.some_col_1 from some_table_1 sta tra;\n",
      "select tra.sta.some_col_1 from some_table_1 sta tra;\n",
      "              ^\n",
      "ParseException: Expected 'from', found '.'  (at char 14), (line:1, col:15)\n",
      "FAIL: Expected 'from', found '.'  (at char 14), (line:1, col:15)\n"
     ]
    },
    {
     "data": {
      "text/plain": [
       "(False,\n",
       " [('select some_col_1 from some_table_1;',\n",
       "   ParseResults(['select', 'some_col_1', 'from', 'some_table_1', ';'], {'columns': ['some_col_1'], 'tables': ['some_table_1']})),\n",
       "  ('select sta.some_col_1 from some_table_1 sta;',\n",
       "   ParseResults(['select', 'sta.some_col_1', 'from', 'some_table_1', 'sta', ';'], {'alias': 'sta', 'columns': ['some_col_1'], 'tables': ['some_table_1']})),\n",
       "  ('select tra.sta.some_col_1 from some_table_1 sta tra;',\n",
       "   Expected 'from', found '.'  (at char 14), (line:1, col:15))])"
      ]
     },
     "execution_count": 37,
     "metadata": {},
     "output_type": "execute_result"
    }
   ],
   "source": [
    "test_queries = [\n",
    "    \"select some_col_1 from some_table_1;\",\n",
    "    \"select sta.some_col_1 from some_table_1 sta;\",\n",
    "    \"select tra.sta.some_col_1 from some_table_1 sta tra;\",\n",
    "]\n",
    "\n",
    "column_name = pp.Word(pp.alphas + \"_\", pp.alphanums + \"_\").set_results_name(\"columns\", list_all_matches=True)\n",
    "table_name = pp.Word(pp.alphas + \"_\", pp.alphanums + \"_\").set_results_name(\"tables\", list_all_matches=True)\n",
    "table_alias = pp.Word(pp.alphanums, exact=3).set_results_name(\"alias\")\n",
    "alias_with_column = pp.Combine(pp.Optional(table_alias + \".\") + column_name)\n",
    "\n",
    "query_pattern = (\n",
    "    \"select\" +  alias_with_column \n",
    "    + pp.ZeroOrMore(\",\" + alias_with_column) \n",
    "    + \"from\" + table_name + pp.Optional(table_alias) + \";\"\n",
    ")\n",
    "\n",
    "query_pattern.run_tests(test_queries)"
   ]
  },
  {
   "cell_type": "markdown",
   "metadata": {},
   "source": [
    "Alternativně může být vstupem *run_tests* i víceřádkový textový řetězec, kde jsou jednotlivé testy odděleny hashtagem a komentářem."
   ]
  },
  {
   "cell_type": "code",
   "execution_count": 38,
   "metadata": {},
   "outputs": [
    {
     "name": "stdout",
     "output_type": "stream",
     "text": [
      "\n",
      "# komenter k prvni query\n",
      "select some_col_1 from some_table_1;\n",
      "['select', 'some_col_1', 'from', 'some_table_1', ';']\n",
      "- columns: ['some_col_1']\n",
      "- tables: ['some_table_1']\n",
      "\n",
      "# komenter k druhe query\n",
      "select sta.some_col_1 from some_table_1 sta;\n",
      "['select', 'sta.some_col_1', 'from', 'some_table_1', 'sta', ';']\n",
      "- alias: 'sta'\n",
      "- columns: ['some_col_1']\n",
      "- tables: ['some_table_1']\n",
      "\n",
      "# komenter k treti query\n",
      "select tra.sta.some_col_1 from some_table_1 sta tra;\n",
      "select tra.sta.some_col_1 from some_table_1 sta tra;\n",
      "              ^\n",
      "ParseException: Expected 'from', found '.'  (at char 14), (line:1, col:15)\n",
      "FAIL: Expected 'from', found '.'  (at char 14), (line:1, col:15)\n"
     ]
    },
    {
     "data": {
      "text/plain": [
       "(False,\n",
       " [('select some_col_1 from some_table_1;',\n",
       "   ParseResults(['select', 'some_col_1', 'from', 'some_table_1', ';'], {'columns': ['some_col_1'], 'tables': ['some_table_1']})),\n",
       "  ('select sta.some_col_1 from some_table_1 sta;',\n",
       "   ParseResults(['select', 'sta.some_col_1', 'from', 'some_table_1', 'sta', ';'], {'alias': 'sta', 'columns': ['some_col_1'], 'tables': ['some_table_1']})),\n",
       "  ('select tra.sta.some_col_1 from some_table_1 sta tra;',\n",
       "   Expected 'from', found '.'  (at char 14), (line:1, col:15))])"
      ]
     },
     "execution_count": 38,
     "metadata": {},
     "output_type": "execute_result"
    }
   ],
   "source": [
    "test_queries_string = \"\"\"\n",
    "    # komenter k prvni query\n",
    "    select some_col_1 from some_table_1;\n",
    "    # komenter k druhe query\n",
    "    select sta.some_col_1 from some_table_1 sta;\n",
    "    # komenter k treti query\n",
    "    select tra.sta.some_col_1 from some_table_1 sta tra;\n",
    "\"\"\"\n",
    "\n",
    "column_name = pp.Word(pp.alphas + \"_\", pp.alphanums + \"_\").set_results_name(\"columns\", list_all_matches=True)\n",
    "table_name = pp.Word(pp.alphas + \"_\", pp.alphanums + \"_\").set_results_name(\"tables\", list_all_matches=True)\n",
    "table_alias = pp.Word(pp.alphanums, exact=3).set_results_name(\"alias\")\n",
    "alias_with_column = pp.Combine(pp.Optional(table_alias + \".\") + column_name)\n",
    "\n",
    "query_pattern = (\n",
    "    \"select\" +  alias_with_column \n",
    "    + pp.ZeroOrMore(\",\" + alias_with_column) \n",
    "    + \"from\" + table_name + pp.Optional(table_alias) + \";\"\n",
    ")\n",
    "\n",
    "query_pattern.run_tests(test_queries_string)"
   ]
  },
  {
   "cell_type": "markdown",
   "metadata": {},
   "source": [
    "Nakonec i ukažme metodu, která vytváří graf patternu. Pro její použití bude potřeba napřed nainstalovat dodatečný balíček a to pomocí příkazu\n",
    "```\n",
    "pip install pyparsing[diagrams]\n",
    "```\n",
    "Nutno poznamenat, že vytvářeč grafu občas selže (například u patternu, který jsme použil pro demonstaci ORu)"
   ]
  },
  {
   "cell_type": "code",
   "execution_count": 39,
   "metadata": {},
   "outputs": [],
   "source": [
    "query = \"\"\"\n",
    "select some_col_1 from some_table_1;\n",
    "\"\"\"\n",
    "\n",
    "column_name = pp.Word(pp.alphas + \"_\", pp.alphanums + \"_\").set_results_name(\"columns\")\n",
    "table_name = pp.Word(pp.alphas + \"_\", pp.alphanums + \"_\").set_results_name(\"tables\")\n",
    "query_pattern = \"select\" +  column_name + \"from\" + table_name + \";\"\n",
    "\n",
    "query_pattern.create_diagram(\"soubor.html\", show_results_names=True, show_groups=True)"
   ]
  },
  {
   "cell_type": "code",
   "execution_count": null,
   "metadata": {},
   "outputs": [],
   "source": []
  }
 ],
 "metadata": {
  "kernelspec": {
   "display_name": "Python 3",
   "language": "python",
   "name": "python3"
  },
  "language_info": {
   "codemirror_mode": {
    "name": "ipython",
    "version": 3
   },
   "file_extension": ".py",
   "mimetype": "text/x-python",
   "name": "python",
   "nbconvert_exporter": "python",
   "pygments_lexer": "ipython3",
   "version": "3.7.4"
  }
 },
 "nbformat": 4,
 "nbformat_minor": 4
}
