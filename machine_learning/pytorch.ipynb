{
 "cells": [
  {
   "cell_type": "markdown",
   "metadata": {},
   "source": [
    "# Work in progress\n",
    "# Pytorch\n",
    "Na předchozích workshopech (resp. ve vedlejších noteboocích, pokud toto čtete na Githubu) jsme se věnovali základním technikám a algoritmům strojového učení. Jejich výhody spočívaly v nepříliš velkých hardwarových nárocích a vcelku solidním výkonu na tabulkoidních datech. Nezmínili jsme tehdy ale neuronové sítě a deep learning. V povídání o zpracování textu jsme se o tyto termíny už trochu otřeli, nicméně na danou problematiku se pořádně podíváme až nyní.  \n",
    "Technicky vzato jsou neuronové sítě jen podmnožinou strojového učení. Fakticky se ale jedná o velice důležitou podmnožinu, která s přehledem dokázala vyřešit problémy, na které klasické postupy nestačily - zmiňme třeba klasifikaci objektů na obrázcích či složitější práci s textem. Daní za tento výkon je větší složitost problematiky a hlavně větší doba trénování a hardwarové nároky.  \n",
    "V současné době jsou v pythonu etablovány dva frameworky spojené s neuronovými sítěmi - TensorFlow (i s nadstavbou Keras) a PyTorch. Sice mezi nimi existují určité technické rozdíly, ty ale nicméně nejsou pro naše dnešní úvodní povídání zase až tak podstatné a navíc se v průběhu času postupně stírají. Když se podíváte na můj GitHub, uvidíte pár věcí založených na TensorFlowu a koneckonců nultou iteraci tohoto workshopu jsem ukazoval též na něm. Proč tedy v nadpisu vidíte PyTorch? Inu, důvod je dosti přizemní - Tensorflow 2.X není kompatibilní s grafickou kartou na mém notebooku, tudíž by i příprava ukázkových příkladů trvala příliš dlouho. No a ukazovat Vám příklady pro starou verzi Tensorflowu mi nepřijde jako úplně dobrý nápad, když byste ho stejně nepoužívali. \n",
    "\n",
    "## Obsah  \n",
    "- [Manipulace s tenzory](#Manipulace-s-tenzory)  \n",
    "- [Příprava dat - tabulky](#Příprava-dat-tabulky)  \n",
    "  - [Použití Pytorche](#Použití-Pytorche)  \n",
    "  - [Použití scikit-learnu](#Použití-scikit-learnu)  \n",
    "- [Výroba jednoduché neuronové sítě](#Výroba-jednoduché-neuronové-sítě)  \n",
    "  - [Aktivační funkce](#Aktivační-funkce)  \n",
    "    - [Sigmoid](#Sigmoid)  \n",
    "    - [Softmax](#Softmax)  \n",
    "    - [Tanh](#Tanh)  \n",
    "    - [ReLU](#ReLU)  \n",
    "  - [Ztrátová funkce](#Ztrátová-funkce)  \n",
    "    - [Mean squared error (MSE)](#Mean-squared-error-(MSE))  \n",
    "    - [Cross-entropy loss](#Cross-entropy-loss)  \n",
    "  - [Backpropagace](#Backpropagace)  \n",
    "  - [Optimizéty](#Optimizéry)  \n",
    "  - [Dense síť v Pytorchi](#Dense-síť-v-Pytorchi)  \n",
    "  - [Minibatch](#Minibatch)  \n",
    "  - [Dense síť a obrázky](#Dense-síť-a-obrázky)  \n",
    "- [Konvoluční sítě](#Konvoluční-sítě)  \n",
    "  - [Maxpooling](#Maxpooling)  \n",
    "  - [Dropout](#Dropout)  \n",
    "  - [Batch normalization](#Batch-normalization)  \n",
    "- [Předtrénované neuronové sítě pro práci s obrázky](#Předtrénované-neuronové-sítě-pro-práci-s-obrázky)  \n",
    "  - [ImageNet](#ImageNet)  \n",
    "  - [Příprava obrázku](#Příprava-obrázku)  \n",
    "  - [AlexNet](#AlexNet)  \n",
    "  - [VGGNet](#VGGNet)  \n",
    "  - [Inception/GoogLeNet](#Inception/GoogLeNet)  \n",
    "  - [ResNet](#ResNet)  \n",
    "- [Transfer learning](#Transfer-learning)"
   ]
  },
  {
   "cell_type": "markdown",
   "metadata": {},
   "source": [
    "## Manipulace s tenzory  \n",
    "Stejně jako balíček Pandas přináší dataframe (a sérii), na kterém poté staví celou svou činnost, nese s sebou Pytorch tenzor. Co to vlastně tenzor je? Tento termín se vyskytuje i mimo Pytorch a označuje se jím (matematici pominou zjednodušení) zobecnění skalárů, vektrorů a matic do vyšších dimenzí. Člověk by si mohl myslet, že stejnou funkčnost zastanou stávající pythoní objekty a není třeba vymýšlet něco nového. Bohužel je ale situace komplikovanější. V Pythonu je totiž každá věc včetně integerů či floatů objekt. To znamená, že tyto konstrukce obsahují krom číslené informace i něco navíc. Tohle \"něco\" sice přináší dodatečnou funkčnost, ale také to zabírá víc paměti. U pár čísel to nevadí, jenomže při práci s neuronovými sítěmi s pouhými několika čísly pracovat nebudeme. No a výhodou tenzoru je to, že čísla v něm obsažená jsou opravdu jen čísla bez čehokoli dalšího. Jinak pytorchí tenzory mohou obsahovat pouze čísla (pokud booleany budeme brát také za čísla), nikoli ale textové řetězce.  \n",
    "Jelikož jsou tenzory základním stavebním kamenem Pytorche, měli bychom se s nimi naučit pracovat, než budeme dělat cokoli komplikovanějšího.  \n",
    "\n",
    "Z historických důvodů se importovaný balíček nejmenuje pytorch, nýbrž torch."
   ]
  },
  {
   "cell_type": "code",
   "execution_count": 1,
   "metadata": {
    "ExecuteTime": {
     "end_time": "2021-06-18T18:32:28.417073Z",
     "start_time": "2021-06-18T18:31:50.686990Z"
    }
   },
   "outputs": [],
   "source": [
    "import torch\n",
    "import torchvision\n",
    "import pathlib\n",
    "from sklearn.datasets import load_iris\n",
    "from sklearn.preprocessing import OneHotEncoder\n",
    "from sklearn.preprocessing import StandardScaler\n",
    "from sklearn.model_selection import train_test_split\n",
    "import os\n",
    "import pandas as pd\n",
    "from matplotlib.image import imread\n",
    "import matplotlib.pyplot as plt\n",
    "import math"
   ]
  },
  {
   "cell_type": "markdown",
   "metadata": {},
   "source": [
    "Asi nejpřímočařejší je vytvoření 1D tenzorů obsahující pouze jedničky či nuly. Parametr funkcí *ones* a *zeros* udává počet těchto čísel."
   ]
  },
  {
   "cell_type": "code",
   "execution_count": 5,
   "metadata": {
    "ExecuteTime": {
     "end_time": "2021-04-04T18:16:24.010863Z",
     "start_time": "2021-04-04T18:16:23.574367Z"
    }
   },
   "outputs": [
    {
     "name": "stdout",
     "output_type": "stream",
     "text": [
      "Tensor of ones:\n",
      "tensor([1., 1., 1., 1., 1.])\n",
      "Tensor of zeros:\n",
      "tensor([0., 0., 0., 0., 0., 0., 0.])\n"
     ]
    }
   ],
   "source": [
    "tensor_of_ones = torch.ones(5)\n",
    "print(\"Tensor of ones:\")\n",
    "print(tensor_of_ones)\n",
    "\n",
    "tensor_of_zeros = torch.zeros(7)\n",
    "print (\"Tensor of zeros:\")\n",
    "print(tensor_of_zeros)"
   ]
  },
  {
   "cell_type": "markdown",
   "metadata": {},
   "source": [
    "Lze vytvořit i tenzor obsahující náhodná čísla:"
   ]
  },
  {
   "cell_type": "code",
   "execution_count": 3,
   "metadata": {
    "ExecuteTime": {
     "end_time": "2021-04-04T18:14:59.367881Z",
     "start_time": "2021-04-04T18:14:57.380910Z"
    }
   },
   "outputs": [
    {
     "data": {
      "text/plain": [
       "tensor([0.2395, 0.2264, 0.5841, 0.7670, 0.4245])"
      ]
     },
     "execution_count": 3,
     "metadata": {},
     "output_type": "execute_result"
    }
   ],
   "source": [
    "torch.rand(5)"
   ]
  },
  {
   "cell_type": "markdown",
   "metadata": {},
   "source": [
    "K elementům tenzoru můžeme přistupovat \"normálně\", tj přes index. Za pozornost asi stojí zmínka, že i když chceme jen jeden element tenzoru, nevrátí se nám číslo, ale tenzor."
   ]
  },
  {
   "cell_type": "code",
   "execution_count": 6,
   "metadata": {
    "ExecuteTime": {
     "end_time": "2021-04-04T18:16:24.830621Z",
     "start_time": "2021-04-04T18:16:24.800726Z"
    }
   },
   "outputs": [
    {
     "data": {
      "text/plain": [
       "tensor(1.)"
      ]
     },
     "execution_count": 6,
     "metadata": {},
     "output_type": "execute_result"
    }
   ],
   "source": [
    "tensor_of_ones[0]"
   ]
  },
  {
   "cell_type": "markdown",
   "metadata": {},
   "source": [
    "Pokud opravdu potřebujeme číslo, musíme použít metodu *item*."
   ]
  },
  {
   "cell_type": "code",
   "execution_count": 7,
   "metadata": {
    "ExecuteTime": {
     "end_time": "2021-04-04T18:16:35.070478Z",
     "start_time": "2021-04-04T18:16:35.050650Z"
    }
   },
   "outputs": [
    {
     "data": {
      "text/plain": [
       "1.0"
      ]
     },
     "execution_count": 7,
     "metadata": {},
     "output_type": "execute_result"
    }
   ],
   "source": [
    "tensor_of_ones[0].item()"
   ]
  },
  {
   "cell_type": "markdown",
   "metadata": {},
   "source": [
    "Tenzory nejsou immutable, nýbrž se čísla v nich dají měnit:"
   ]
  },
  {
   "cell_type": "code",
   "execution_count": 4,
   "metadata": {
    "ExecuteTime": {
     "end_time": "2021-04-03T18:50:24.159251Z",
     "start_time": "2021-04-03T18:50:23.904104Z"
    }
   },
   "outputs": [
    {
     "data": {
      "text/plain": [
       "tensor([  1.,   1.,   1.,   1., 999.])"
      ]
     },
     "execution_count": 4,
     "metadata": {},
     "output_type": "execute_result"
    }
   ],
   "source": [
    "tensor_of_ones[-1] = 999\n",
    "tensor_of_ones"
   ]
  },
  {
   "cell_type": "markdown",
   "metadata": {},
   "source": [
    "Pokud chceme mít tenzor jedniček/nul o více rozměrech, napíšeme zkrátka do funkce více parametrů."
   ]
  },
  {
   "cell_type": "code",
   "execution_count": 5,
   "metadata": {
    "ExecuteTime": {
     "end_time": "2021-04-03T18:50:24.345241Z",
     "start_time": "2021-04-03T18:50:24.159251Z"
    }
   },
   "outputs": [
    {
     "data": {
      "text/plain": [
       "tensor([[0., 0., 0.],\n",
       "        [0., 0., 0.]])"
      ]
     },
     "execution_count": 5,
     "metadata": {},
     "output_type": "execute_result"
    }
   ],
   "source": [
    "torch.zeros(2,3)"
   ]
  },
  {
   "cell_type": "code",
   "execution_count": 6,
   "metadata": {
    "ExecuteTime": {
     "end_time": "2021-04-03T18:50:24.460655Z",
     "start_time": "2021-04-03T18:50:24.345241Z"
    }
   },
   "outputs": [
    {
     "data": {
      "text/plain": [
       "tensor([[[0., 0., 0., 0.],\n",
       "         [0., 0., 0., 0.],\n",
       "         [0., 0., 0., 0.]],\n",
       "\n",
       "        [[0., 0., 0., 0.],\n",
       "         [0., 0., 0., 0.],\n",
       "         [0., 0., 0., 0.]]])"
      ]
     },
     "execution_count": 6,
     "metadata": {},
     "output_type": "execute_result"
    }
   ],
   "source": [
    "torch.zeros(2,3, 4)"
   ]
  },
  {
   "cell_type": "markdown",
   "metadata": {},
   "source": [
    "Obecný tenzor se dá vyrobit například pomocí listu"
   ]
  },
  {
   "cell_type": "code",
   "execution_count": 7,
   "metadata": {
    "ExecuteTime": {
     "end_time": "2021-04-03T18:50:24.577089Z",
     "start_time": "2021-04-03T18:50:24.460655Z"
    }
   },
   "outputs": [
    {
     "data": {
      "text/plain": [
       "tensor([1, 2, 3, 4, 5, 6])"
      ]
     },
     "execution_count": 7,
     "metadata": {},
     "output_type": "execute_result"
    }
   ],
   "source": [
    "tensor_of_numbers = torch.tensor([1,2,3,4,5,6])\n",
    "tensor_of_numbers"
   ]
  },
  {
   "cell_type": "markdown",
   "metadata": {},
   "source": [
    "Takto lze vytvořit i vícedimenzionální tenzory - v listu musí být podlisty"
   ]
  },
  {
   "cell_type": "code",
   "execution_count": 8,
   "metadata": {
    "ExecuteTime": {
     "end_time": "2021-04-03T18:50:24.690110Z",
     "start_time": "2021-04-03T18:50:24.577089Z"
    }
   },
   "outputs": [
    {
     "data": {
      "text/plain": [
       "tensor([[1, 2],\n",
       "        [3, 4],\n",
       "        [5, 6]])"
      ]
     },
     "execution_count": 8,
     "metadata": {},
     "output_type": "execute_result"
    }
   ],
   "source": [
    "tensor_more_dims = torch.tensor([\n",
    "    [1, 2],\n",
    "    [3, 4],\n",
    "    [5, 6]\n",
    "])\n",
    "tensor_more_dims"
   ]
  },
  {
   "cell_type": "markdown",
   "metadata": {},
   "source": [
    "Upozorněme, že nelze vytvořit \"pilovitý tenzor\", tj. něco v duchu\n",
    "```python\n",
    "tensor_bad = torch.tensor([\n",
    "    [1, 2],\n",
    "    [3],\n",
    "    [5, 6]\n",
    "])\n",
    "```\n",
    "Tvar (velikost tenzoru v jednotlivých dimenzích) se získá pomocí atributu shape"
   ]
  },
  {
   "cell_type": "code",
   "execution_count": 9,
   "metadata": {
    "ExecuteTime": {
     "end_time": "2021-04-03T18:50:24.824319Z",
     "start_time": "2021-04-03T18:50:24.690110Z"
    }
   },
   "outputs": [
    {
     "name": "stdout",
     "output_type": "stream",
     "text": [
      "Shape of 1D tensor: torch.Size([6])\n",
      "Shape of 2D tensor: torch.Size([3, 2])\n"
     ]
    }
   ],
   "source": [
    "print(f\"Shape of 1D tensor: {tensor_of_numbers.shape}\")\n",
    "print(f\"Shape of 2D tensor: {tensor_more_dims.shape}\")"
   ]
  },
  {
   "cell_type": "markdown",
   "metadata": {},
   "source": [
    "Když hovoříme o dimenzích, asi bychom měli zmínit funkce squeeze a unsqueeze. Squeeze z tenzoru odstraní všechny dimenze o velikosti 1."
   ]
  },
  {
   "cell_type": "code",
   "execution_count": 10,
   "metadata": {
    "ExecuteTime": {
     "end_time": "2021-04-03T18:50:24.946882Z",
     "start_time": "2021-04-03T18:50:24.824319Z"
    }
   },
   "outputs": [
    {
     "name": "stdout",
     "output_type": "stream",
     "text": [
      "Tensor before squeze:\n",
      "tensor([[1.],\n",
      "        [1.]])\n",
      "Shape of tensor before squeeze: torch.Size([2, 1])\n",
      "\n",
      "Tensor after squeeze:\n",
      "tensor([1., 1.])\n",
      "Shape of tensor after squeeze: torch.Size([2])\n",
      "\n"
     ]
    }
   ],
   "source": [
    "tensor_before_squeeze = torch.ones(2,1)\n",
    "print(\"Tensor before squeze:\")\n",
    "print(tensor_before_squeeze)\n",
    "print(f\"Shape of tensor before squeeze: {tensor_before_squeeze.shape}\\n\")\n",
    "\n",
    "tensor_after_squeeze = tensor_before_squeeze.squeeze()\n",
    "print(\"Tensor after squeeze:\")\n",
    "print(tensor_after_squeeze)\n",
    "print(f\"Shape of tensor after squeeze: {tensor_after_squeeze.shape}\\n\")"
   ]
  },
  {
   "cell_type": "markdown",
   "metadata": {},
   "source": [
    "Unsqueeze naopak na místo určené uživatelem dimenzi o velikosti jedna přidá. Typické užití je v převedení jednoho tenzoru do stejného rozměru, jako má tenzor jiný, aby se s oběma součaasně dalo pracovat."
   ]
  },
  {
   "cell_type": "code",
   "execution_count": 11,
   "metadata": {
    "ExecuteTime": {
     "end_time": "2021-04-03T18:50:25.263823Z",
     "start_time": "2021-04-03T18:50:24.946882Z"
    }
   },
   "outputs": [
    {
     "name": "stdout",
     "output_type": "stream",
     "text": [
      "Tensor before unsqueze:\n",
      "tensor([[1., 1.],\n",
      "        [1., 1.]])\n",
      "Shape of tensor before unsqueeze: torch.Size([2, 2])\n",
      "\n",
      "Tensor after unsqueeze:\n",
      "tensor([[[1., 1.]],\n",
      "\n",
      "        [[1., 1.]]])\n",
      "Shape of tensor after unsqueeze: torch.Size([2, 1, 2])\n",
      "\n"
     ]
    }
   ],
   "source": [
    "tensor_before_unsqueeze = torch.ones(2,2)\n",
    "print(\"Tensor before unsqueze:\")\n",
    "print(tensor_before_unsqueeze)\n",
    "print(f\"Shape of tensor before unsqueeze: {tensor_before_unsqueeze.shape}\\n\")\n",
    "\n",
    "tensor_after_unsqueeze = tensor_before_unsqueeze.unsqueeze(1)\n",
    "print(\"Tensor after unsqueeze:\")\n",
    "print(tensor_after_unsqueeze)\n",
    "print(f\"Shape of tensor after unsqueeze: {tensor_after_unsqueeze.shape}\\n\")"
   ]
  },
  {
   "cell_type": "markdown",
   "metadata": {},
   "source": [
    "Výše jsme si ukázali, jak se dostat k číslu v 1D tenzoru. U vícedimenzionálních tenzorů přistupujeme k jednotlivým číslům pomocí n indexů, kde n je počet dimenzí."
   ]
  },
  {
   "cell_type": "code",
   "execution_count": 12,
   "metadata": {
    "ExecuteTime": {
     "end_time": "2021-04-03T18:50:25.279450Z",
     "start_time": "2021-04-03T18:50:25.263823Z"
    }
   },
   "outputs": [
    {
     "data": {
      "text/plain": [
       "tensor(3)"
      ]
     },
     "execution_count": 12,
     "metadata": {},
     "output_type": "execute_result"
    }
   ],
   "source": [
    "tensor_more_dims[1,0]"
   ]
  },
  {
   "cell_type": "markdown",
   "metadata": {},
   "source": [
    "Případně můžeme vzít celý řádek"
   ]
  },
  {
   "cell_type": "code",
   "execution_count": 13,
   "metadata": {
    "ExecuteTime": {
     "end_time": "2021-04-03T18:50:25.411127Z",
     "start_time": "2021-04-03T18:50:25.279450Z"
    }
   },
   "outputs": [
    {
     "data": {
      "text/plain": [
       "tensor([3, 4])"
      ]
     },
     "execution_count": 13,
     "metadata": {},
     "output_type": "execute_result"
    }
   ],
   "source": [
    "row = tensor_more_dims[1]\n",
    "row"
   ]
  },
  {
   "cell_type": "markdown",
   "metadata": {},
   "source": [
    "Či sloupec"
   ]
  },
  {
   "cell_type": "code",
   "execution_count": 14,
   "metadata": {
    "ExecuteTime": {
     "end_time": "2021-04-03T18:50:25.527019Z",
     "start_time": "2021-04-03T18:50:25.411127Z"
    }
   },
   "outputs": [
    {
     "data": {
      "text/plain": [
       "tensor([2, 4, 6])"
      ]
     },
     "execution_count": 14,
     "metadata": {},
     "output_type": "execute_result"
    }
   ],
   "source": [
    "column = tensor_more_dims[:,1]\n",
    "column"
   ]
  },
  {
   "cell_type": "markdown",
   "metadata": {},
   "source": [
    "Bacha ale, takhle se nevyrání nové tenzory, pouze se na původní data koukáme jiným způsobem."
   ]
  },
  {
   "cell_type": "code",
   "execution_count": 15,
   "metadata": {
    "ExecuteTime": {
     "end_time": "2021-04-03T18:50:25.627262Z",
     "start_time": "2021-04-03T18:50:25.527019Z"
    }
   },
   "outputs": [
    {
     "data": {
      "text/plain": [
       "tensor([[ 1, 20],\n",
       "        [ 3,  4],\n",
       "        [ 5,  6]])"
      ]
     },
     "execution_count": 15,
     "metadata": {},
     "output_type": "execute_result"
    }
   ],
   "source": [
    "column[0] = 20\n",
    "tensor_more_dims"
   ]
  },
  {
   "cell_type": "markdown",
   "metadata": {},
   "source": [
    "Fakticky to funguje tak, že jsou data v tzv storagi - vždy jednorozměrném poli. Tenzory jsou pak jenom pohledem na toto pole. Narozdíl od tenzoru nemá storage parametr shape."
   ]
  },
  {
   "cell_type": "code",
   "execution_count": 16,
   "metadata": {
    "ExecuteTime": {
     "end_time": "2021-04-03T18:50:25.781428Z",
     "start_time": "2021-04-03T18:50:25.627262Z"
    }
   },
   "outputs": [
    {
     "data": {
      "text/plain": [
       " 1\n",
       " 20\n",
       " 3\n",
       " 4\n",
       " 5\n",
       " 6\n",
       "[torch.LongStorage of size 6]"
      ]
     },
     "execution_count": 16,
     "metadata": {},
     "output_type": "execute_result"
    }
   ],
   "source": [
    "tensor_more_dims.storage()"
   ]
  },
  {
   "cell_type": "markdown",
   "metadata": {},
   "source": [
    "Funkce storage_offset() vrací index, od kterého ve storagi začíná první prvek příslušného tenzoru."
   ]
  },
  {
   "cell_type": "code",
   "execution_count": 17,
   "metadata": {
    "ExecuteTime": {
     "end_time": "2021-04-03T18:50:25.897461Z",
     "start_time": "2021-04-03T18:50:25.781428Z"
    }
   },
   "outputs": [
    {
     "data": {
      "text/plain": [
       "0"
      ]
     },
     "execution_count": 17,
     "metadata": {},
     "output_type": "execute_result"
    }
   ],
   "source": [
    "tensor_more_dims.storage_offset()"
   ]
  },
  {
   "cell_type": "code",
   "execution_count": 18,
   "metadata": {
    "ExecuteTime": {
     "end_time": "2021-04-03T18:50:26.028977Z",
     "start_time": "2021-04-03T18:50:25.897461Z"
    }
   },
   "outputs": [
    {
     "data": {
      "text/plain": [
       "1"
      ]
     },
     "execution_count": 18,
     "metadata": {},
     "output_type": "execute_result"
    }
   ],
   "source": [
    "column.storage_offset()"
   ]
  },
  {
   "cell_type": "code",
   "execution_count": 19,
   "metadata": {
    "ExecuteTime": {
     "end_time": "2021-04-03T18:50:26.152228Z",
     "start_time": "2021-04-03T18:50:26.028977Z"
    }
   },
   "outputs": [
    {
     "data": {
      "text/plain": [
       "2"
      ]
     },
     "execution_count": 19,
     "metadata": {},
     "output_type": "execute_result"
    }
   ],
   "source": [
    "row.storage_offset()"
   ]
  },
  {
   "cell_type": "markdown",
   "metadata": {
    "ExecuteTime": {
     "end_time": "2021-04-03T15:16:05.265191Z",
     "start_time": "2021-04-03T15:16:05.250349Z"
    }
   },
   "source": [
    "Stride zase říká, kolik prvků se musí ve storagi přeskočit, když se v tenzoru přesuneme o jednu pozici. Výsledný tuple ukazuje stride pro každou dimenzi."
   ]
  },
  {
   "cell_type": "code",
   "execution_count": 20,
   "metadata": {
    "ExecuteTime": {
     "end_time": "2021-04-03T18:50:26.268073Z",
     "start_time": "2021-04-03T18:50:26.152228Z"
    }
   },
   "outputs": [
    {
     "data": {
      "text/plain": [
       "(2, 1)"
      ]
     },
     "execution_count": 20,
     "metadata": {},
     "output_type": "execute_result"
    }
   ],
   "source": [
    "tensor_more_dims.stride()"
   ]
  },
  {
   "cell_type": "code",
   "execution_count": 21,
   "metadata": {
    "ExecuteTime": {
     "end_time": "2021-04-03T18:50:26.383904Z",
     "start_time": "2021-04-03T18:50:26.268073Z"
    }
   },
   "outputs": [
    {
     "data": {
      "text/plain": [
       "(2,)"
      ]
     },
     "execution_count": 21,
     "metadata": {},
     "output_type": "execute_result"
    }
   ],
   "source": [
    "column.stride()"
   ]
  },
  {
   "cell_type": "code",
   "execution_count": 22,
   "metadata": {
    "ExecuteTime": {
     "end_time": "2021-04-03T18:50:26.515327Z",
     "start_time": "2021-04-03T18:50:26.383904Z"
    }
   },
   "outputs": [
    {
     "data": {
      "text/plain": [
       "(1,)"
      ]
     },
     "execution_count": 22,
     "metadata": {},
     "output_type": "execute_result"
    }
   ],
   "source": [
    "row.stride()"
   ]
  },
  {
   "cell_type": "markdown",
   "metadata": {},
   "source": [
    "Proč vůbec o těchto věcech mluvíme? Díky nim jsou mnohé operace s tenzory výpočetně nenáročné - nedochází totiž k přeuspořádání dat, pouze se změní několik málo metadat. Příkladem takovéto operace může být transpozice, tj. prohození sloupců a řádků. Realizujeme ji pomocí metody *t*."
   ]
  },
  {
   "cell_type": "code",
   "execution_count": 23,
   "metadata": {
    "ExecuteTime": {
     "end_time": "2021-04-03T18:50:26.631401Z",
     "start_time": "2021-04-03T18:50:26.515327Z"
    }
   },
   "outputs": [
    {
     "name": "stdout",
     "output_type": "stream",
     "text": [
      "Original tensor\n",
      "tensor([[1, 2],\n",
      "        [3, 4],\n",
      "        [5, 6]])\n",
      "Original tensor metadata -  offset: 0, stride: (2, 1)\n",
      "\n",
      "Transponed tensor\n",
      "tensor([[1, 3, 5],\n",
      "        [2, 4, 6]])\n",
      "Transponed tensor metadata -  offset: 0, stride: (1, 2)\n",
      "\n"
     ]
    }
   ],
   "source": [
    "original_tensor = torch.tensor([\n",
    "    [1, 2],\n",
    "    [3, 4],\n",
    "    [5, 6],\n",
    "])\n",
    "print(\"Original tensor\")\n",
    "print(original_tensor)\n",
    "print(f\"Original tensor metadata -  offset: {original_tensor.storage_offset()}, stride: {original_tensor.stride()}\\n\")\n",
    "print(\"Transponed tensor\")\n",
    "transponed_tensor = original_tensor.t()\n",
    "print(transponed_tensor)\n",
    "print(f\"Transponed tensor metadata -  offset: {transponed_tensor.storage_offset()}, stride: {transponed_tensor.stride()}\\n\")"
   ]
  },
  {
   "cell_type": "markdown",
   "metadata": {},
   "source": [
    "Transpozici lze realizovat i na tenzorech o vyšších dimenzích. Tehdy se musí použít funkce *transpose*, která přebírá dva parametry - indexy prohazovaných os. Tj. pro 2D tenzory je metodě *t* ekvivaletní *transpose(0,1)*."
   ]
  },
  {
   "cell_type": "code",
   "execution_count": 24,
   "metadata": {
    "ExecuteTime": {
     "end_time": "2021-04-03T18:50:26.754218Z",
     "start_time": "2021-04-03T18:50:26.631401Z"
    }
   },
   "outputs": [
    {
     "name": "stdout",
     "output_type": "stream",
     "text": [
      "torch.Size([2, 3, 4])\n",
      "torch.Size([2, 4, 3])\n"
     ]
    }
   ],
   "source": [
    "many_dim_tensor = torch.zeros(2,3,4)\n",
    "print(many_dim_tensor.shape)\n",
    "transponed_many_dim_tensor = many_dim_tensor.transpose(1,2)\n",
    "print(transponed_many_dim_tensor.shape)"
   ]
  },
  {
   "cell_type": "markdown",
   "metadata": {},
   "source": [
    "Existuje ale ještě jedna, asi dokonce častěji používaná funkcionalita - pohledy. O co se jedná? Dalo by se říci, že pohled se má k tenzoru jako tenzor ke storagi. Jinými slovy jedná se o způsob, jak přespořádat elementy tenzoru. Z hlediska technického je view metoda tenzoru, která přebírá n argumentů. Ty popořadě specifikují velikost dimenze, jejíž index odpovídá pořadí argumentu. Pokud člověk na nějaké místo (nejen na konec, jako v příkladu, ale i kamkoli jinam) napíše mínus jedničku, dopočítá se velikost dimenze z ostatních dimenzí a počtu dat v původním tenzoru."
   ]
  },
  {
   "cell_type": "code",
   "execution_count": 25,
   "metadata": {
    "ExecuteTime": {
     "end_time": "2021-04-03T18:50:26.886441Z",
     "start_time": "2021-04-03T18:50:26.754218Z"
    }
   },
   "outputs": [
    {
     "name": "stdout",
     "output_type": "stream",
     "text": [
      "Original tensor:\n",
      "tensor([[ 1,  2,  3,  4,  5,  6],\n",
      "        [ 7,  8,  9, 10, 11, 12]])\n",
      "First tensor:\n",
      "tensor([[ 1,  2,  3,  4],\n",
      "        [ 5,  6,  7,  8],\n",
      "        [ 9, 10, 11, 12]])\n",
      "Second tensor:\n",
      "tensor([[[ 1,  2],\n",
      "         [ 3,  4],\n",
      "         [ 5,  6]],\n",
      "\n",
      "        [[ 7,  8],\n",
      "         [ 9, 10],\n",
      "         [11, 12]]])\n"
     ]
    }
   ],
   "source": [
    "normal_tensor = torch.tensor([\n",
    "    [1,2,3,4,5,6],\n",
    "    [7,8,9,10,11,12]\n",
    "])\n",
    "\n",
    "first_view = normal_tensor.view(3,4)\n",
    "second_view = normal_tensor.view(2,3,-1)\n",
    "\n",
    "print(\"Original tensor:\")\n",
    "print(normal_tensor)\n",
    "print(\"First tensor:\")\n",
    "print(first_view)\n",
    "print(\"Second tensor:\")\n",
    "print(second_view)"
   ]
  },
  {
   "cell_type": "markdown",
   "metadata": {},
   "source": [
    "Tenzor je objekt obsahující čísla, vyvstává tak otázka, jak s tenzory (ve správných dimenzích maticemi či vektory) vlastně počítat."
   ]
  },
  {
   "cell_type": "code",
   "execution_count": 19,
   "metadata": {
    "ExecuteTime": {
     "end_time": "2021-04-04T18:32:05.740224Z",
     "start_time": "2021-04-04T18:32:05.719992Z"
    }
   },
   "outputs": [],
   "source": [
    "first_tensor = torch.Tensor([\n",
    "    [1,1,1],\n",
    "    [2,2,2],\n",
    "    [3,3,3]\n",
    "])\n",
    "second_tensor = torch.Tensor([\n",
    "    [10,1,0],\n",
    "    [0,10,1],\n",
    "    [-1,-1,-1]\n",
    "])"
   ]
  },
  {
   "cell_type": "markdown",
   "metadata": {
    "ExecuteTime": {
     "end_time": "2021-04-04T18:31:08.900306Z",
     "start_time": "2021-04-04T18:31:08.870283Z"
    }
   },
   "source": [
    "Přičítání/odečítání/násobení/dělení tenzoru číslem je přímočaré:"
   ]
  },
  {
   "cell_type": "code",
   "execution_count": 13,
   "metadata": {
    "ExecuteTime": {
     "end_time": "2021-04-04T18:30:11.280119Z",
     "start_time": "2021-04-04T18:30:11.240666Z"
    }
   },
   "outputs": [
    {
     "data": {
      "text/plain": [
       "tensor([[0.3333, 0.3333, 0.3333],\n",
       "        [0.6667, 0.6667, 0.6667],\n",
       "        [1.0000, 1.0000, 1.0000]])"
      ]
     },
     "execution_count": 13,
     "metadata": {},
     "output_type": "execute_result"
    }
   ],
   "source": [
    "first_tensor/3"
   ]
  },
  {
   "cell_type": "markdown",
   "metadata": {},
   "source": [
    "Sčítání a odčítání tenzorů mezi sebou také (jen tedy tenzory musí mít stejný tvar)."
   ]
  },
  {
   "cell_type": "code",
   "execution_count": 20,
   "metadata": {
    "ExecuteTime": {
     "end_time": "2021-04-04T18:32:06.710399Z",
     "start_time": "2021-04-04T18:32:06.690090Z"
    }
   },
   "outputs": [
    {
     "data": {
      "text/plain": [
       "tensor([[-9.,  0.,  1.],\n",
       "        [ 2., -8.,  1.],\n",
       "        [ 4.,  4.,  4.]])"
      ]
     },
     "execution_count": 20,
     "metadata": {},
     "output_type": "execute_result"
    }
   ],
   "source": [
    "first_tensor-second_tensor"
   ]
  },
  {
   "cell_type": "markdown",
   "metadata": {},
   "source": [
    "Násobení tenzorů po elementech (myšleno, že dejme tomu ve  2D bude ij-tý element výsledku roven ij-tému elementu prvního tenzoru a ij-tému elementu druhého tenzoru) realizujeme hvězdičkou..."
   ]
  },
  {
   "cell_type": "code",
   "execution_count": 8,
   "metadata": {
    "ExecuteTime": {
     "end_time": "2021-04-04T18:24:38.180323Z",
     "start_time": "2021-04-04T18:24:36.901004Z"
    }
   },
   "outputs": [
    {
     "data": {
      "text/plain": [
       "tensor([[10.,  1.,  0.],\n",
       "        [ 0., 20.,  2.],\n",
       "        [-3., -3., -3.]])"
      ]
     },
     "execution_count": 8,
     "metadata": {},
     "output_type": "execute_result"
    }
   ],
   "source": [
    "first_tensor*second_tensor"
   ]
  },
  {
   "cell_type": "markdown",
   "metadata": {},
   "source": [
    "... či metodou *mul*."
   ]
  },
  {
   "cell_type": "code",
   "execution_count": 9,
   "metadata": {
    "ExecuteTime": {
     "end_time": "2021-04-04T18:26:50.138328Z",
     "start_time": "2021-04-04T18:26:50.120171Z"
    }
   },
   "outputs": [
    {
     "data": {
      "text/plain": [
       "tensor([[10.,  1.,  0.],\n",
       "        [ 0., 20.,  2.],\n",
       "        [-3., -3., -3.]])"
      ]
     },
     "execution_count": 9,
     "metadata": {},
     "output_type": "execute_result"
    }
   ],
   "source": [
    "first_tensor.mul(second_tensor)"
   ]
  },
  {
   "cell_type": "markdown",
   "metadata": {},
   "source": [
    "Klasické maticové násobení provedeme zavináčem..."
   ]
  },
  {
   "cell_type": "code",
   "execution_count": 10,
   "metadata": {
    "ExecuteTime": {
     "end_time": "2021-04-04T18:27:54.800486Z",
     "start_time": "2021-04-04T18:27:53.260236Z"
    }
   },
   "outputs": [
    {
     "data": {
      "text/plain": [
       "tensor([[ 9., 10.,  0.],\n",
       "        [18., 20.,  0.],\n",
       "        [27., 30.,  0.]])"
      ]
     },
     "execution_count": 10,
     "metadata": {},
     "output_type": "execute_result"
    }
   ],
   "source": [
    "first_tensor@second_tensor"
   ]
  },
  {
   "cell_type": "markdown",
   "metadata": {},
   "source": [
    "... či metodou *matmul*."
   ]
  },
  {
   "cell_type": "code",
   "execution_count": 11,
   "metadata": {
    "ExecuteTime": {
     "end_time": "2021-04-04T18:28:49.400526Z",
     "start_time": "2021-04-04T18:28:49.380327Z"
    }
   },
   "outputs": [
    {
     "data": {
      "text/plain": [
       "tensor([[ 9., 10.,  0.],\n",
       "        [18., 20.,  0.],\n",
       "        [27., 30.,  0.]])"
      ]
     },
     "execution_count": 11,
     "metadata": {},
     "output_type": "execute_result"
    }
   ],
   "source": [
    "first_tensor.matmul(second_tensor)"
   ]
  },
  {
   "cell_type": "markdown",
   "metadata": {},
   "source": [
    "Někdy potřebujeme udělat kopii tenzoru, která nebude s originálem sdílet data ve storagi. Tehdy musíme použít metodu *clone*."
   ]
  },
  {
   "cell_type": "code",
   "execution_count": 26,
   "metadata": {
    "ExecuteTime": {
     "end_time": "2021-04-03T18:50:26.987375Z",
     "start_time": "2021-04-03T18:50:26.886441Z"
    }
   },
   "outputs": [
    {
     "name": "stdout",
     "output_type": "stream",
     "text": [
      "Original tensor\n",
      "tensor([[1, 2],\n",
      "        [3, 4],\n",
      "        [5, 6]])\n",
      "Cloned tensor\n",
      "tensor([[50,  2],\n",
      "        [ 3,  4],\n",
      "        [ 5,  6]])\n"
     ]
    }
   ],
   "source": [
    "cloned_tensor = original_tensor.clone()\n",
    "cloned_tensor[0,0] = 50\n",
    "print(\"Original tensor\")\n",
    "print(original_tensor)\n",
    "print(\"Cloned tensor\")\n",
    "print(cloned_tensor)"
   ]
  },
  {
   "cell_type": "markdown",
   "metadata": {},
   "source": [
    "Pro porovnání elementů v tenzoru s určitou hodnotou můžeme použít následující funkce:\n",
    "- lt (neboli lower than)\n",
    "- le (neboli lower than or equal)\n",
    "- eq (neboli equal)\n",
    "- ge (neboli greater than or equal)\n",
    "- gt (neboli greather than) \n",
    "\n",
    "Jejich samostatné použití vyústí v tenzor booleanů:"
   ]
  },
  {
   "cell_type": "code",
   "execution_count": 27,
   "metadata": {
    "ExecuteTime": {
     "end_time": "2021-04-03T18:50:27.157431Z",
     "start_time": "2021-04-03T18:50:26.987375Z"
    }
   },
   "outputs": [
    {
     "name": "stdout",
     "output_type": "stream",
     "text": [
      "Original tensor\n",
      "tensor([[ 1,  2,  3],\n",
      "        [ 4,  5,  6],\n",
      "        [ 7,  8,  9],\n",
      "        [10, 11, 12]])\n",
      "Tensor of comparison validity:\n",
      "tensor([[False, False, False],\n",
      "        [False,  True, False],\n",
      "        [False, False, False],\n",
      "        [False, False, False]])\n"
     ]
    }
   ],
   "source": [
    "comparison_tensor = torch.tensor([\n",
    "    [1,2,3],\n",
    "    [4,5,6],\n",
    "    [7,8,9],\n",
    "    [10,11,12]\n",
    "])\n",
    "print(\"Original tensor\")\n",
    "print(comparison_tensor)\n",
    "print(\"Tensor of comparison validity:\")\n",
    "print(comparison_tensor.eq(5))"
   ]
  },
  {
   "cell_type": "markdown",
   "metadata": {},
   "source": [
    "Pro zjištění hodnot podmínku splňující musíme podobně jako v pandách použít hranaté závorky."
   ]
  },
  {
   "cell_type": "code",
   "execution_count": 28,
   "metadata": {
    "ExecuteTime": {
     "end_time": "2021-04-03T18:50:27.389217Z",
     "start_time": "2021-04-03T18:50:27.157431Z"
    }
   },
   "outputs": [
    {
     "data": {
      "text/plain": [
       "tensor([ 5,  6,  7,  8,  9, 10, 11, 12])"
      ]
     },
     "execution_count": 28,
     "metadata": {},
     "output_type": "execute_result"
    }
   ],
   "source": [
    "comparison_tensor[comparison_tensor.ge(5)]"
   ]
  },
  {
   "cell_type": "markdown",
   "metadata": {},
   "source": [
    "Pokud chceme v jeden okamžik použít více podmínek, musíme je svázat pomocí & (má význam *and*) či | (má význam *or*)"
   ]
  },
  {
   "cell_type": "code",
   "execution_count": 29,
   "metadata": {
    "ExecuteTime": {
     "end_time": "2021-04-03T18:50:27.574070Z",
     "start_time": "2021-04-03T18:50:27.389217Z"
    }
   },
   "outputs": [
    {
     "data": {
      "text/plain": [
       "tensor([ 1,  2, 11, 12])"
      ]
     },
     "execution_count": 29,
     "metadata": {},
     "output_type": "execute_result"
    }
   ],
   "source": [
    "comparison_tensor[comparison_tensor.lt(3) | comparison_tensor.gt(10)]"
   ]
  },
  {
   "cell_type": "code",
   "execution_count": 30,
   "metadata": {
    "ExecuteTime": {
     "end_time": "2021-04-03T18:50:27.637124Z",
     "start_time": "2021-04-03T18:50:27.574070Z"
    }
   },
   "outputs": [
    {
     "data": {
      "text/plain": [
       "tensor([4, 5, 6, 7, 8, 9])"
      ]
     },
     "execution_count": 30,
     "metadata": {},
     "output_type": "execute_result"
    }
   ],
   "source": [
    "comparison_tensor[comparison_tensor.gt(3) & comparison_tensor.lt(10)]"
   ]
  },
  {
   "cell_type": "markdown",
   "metadata": {},
   "source": [
    "Další pro obálkoidní objekty (listy, dataframy) typickou úlohou je nalepování jeden na druhý. To se v Pytorchi realizuje funkcí *cat*. Jejím prvním parametrem je tuple či list s na sebe nalepovanými tenzory, druhý parametr - *dim* - pak říká, přes jakou osu/dimezi se na sebe tenzory vlastě mají lepit. Platí přitom, že ostatní dimeze tenzorů by měly mít stejný rozměr."
   ]
  },
  {
   "cell_type": "code",
   "execution_count": 31,
   "metadata": {
    "ExecuteTime": {
     "end_time": "2021-04-03T18:50:27.759042Z",
     "start_time": "2021-04-03T18:50:27.637124Z"
    }
   },
   "outputs": [
    {
     "data": {
      "text/plain": [
       "tensor([[ 1,  2,  3,  4],\n",
       "        [ 5,  6,  7,  8],\n",
       "        [ 9, 10, 11, 12]])"
      ]
     },
     "execution_count": 31,
     "metadata": {},
     "output_type": "execute_result"
    }
   ],
   "source": [
    "first_tensor = torch.tensor([\n",
    "    [1,2,3,4],\n",
    "    [5,6,7,8]\n",
    "])\n",
    "second_tensor = torch.tensor([\n",
    "    [9,10,11,12]\n",
    "])\n",
    "concatenated_tensor = torch.cat((first_tensor, second_tensor), dim=0)\n",
    "concatenated_tensor"
   ]
  },
  {
   "cell_type": "markdown",
   "metadata": {
    "ExecuteTime": {
     "end_time": "2021-04-03T09:10:21.624199Z",
     "start_time": "2021-04-03T09:10:21.593970Z"
    }
   },
   "source": [
    "Jakých datových typů vlastně mohou hodnoty v tenzoru nabývat? Máme k dispozici několikero typů floatů a integerů + booleany:\n",
    "- torch.bool  \n",
    "- torch.float16 (alias torch.half)\n",
    "- torch.float32 (alias torch.float) - jedná se o default\n",
    "- torch.float64 (alias torch.double)\n",
    "- torch.int8\n",
    "- torch.uint8\n",
    "- torch.int16 (alias torch.short)\n",
    "- torch.int32 (alias torch.int)\n",
    "- torch.int64 (alias torch.long)  - jedná se default při vložení celých čísel do kontruktoru\n",
    "  \n",
    "Datový typ můžeme nastavit při vytvoření tenzoru s pomocí parametru dtype:"
   ]
  },
  {
   "cell_type": "code",
   "execution_count": 32,
   "metadata": {
    "ExecuteTime": {
     "end_time": "2021-04-03T18:50:27.874751Z",
     "start_time": "2021-04-03T18:50:27.759042Z"
    }
   },
   "outputs": [
    {
     "data": {
      "text/plain": [
       "tensor([1, 2, 3, 4], dtype=torch.int32)"
      ]
     },
     "execution_count": 32,
     "metadata": {},
     "output_type": "execute_result"
    }
   ],
   "source": [
    "tensor_integers = torch.tensor([1,2,3,4], dtype=torch.int32)\n",
    "tensor_integers"
   ]
  },
  {
   "cell_type": "code",
   "execution_count": 33,
   "metadata": {
    "ExecuteTime": {
     "end_time": "2021-04-03T18:50:27.990974Z",
     "start_time": "2021-04-03T18:50:27.874751Z"
    }
   },
   "outputs": [
    {
     "data": {
      "text/plain": [
       "tensor([1., 2., 3., 4.])"
      ]
     },
     "execution_count": 33,
     "metadata": {},
     "output_type": "execute_result"
    }
   ],
   "source": [
    "tensor_floats = torch.tensor([1,2,3,4], dtype=torch.float32)\n",
    "tensor_floats"
   ]
  },
  {
   "cell_type": "markdown",
   "metadata": {},
   "source": [
    "Pro konverzi již existujících tensorů lze použít metody *to* či *type*. Pro jistotu zdůrazněme, že původní tenzor si zachovává svůj datový typ."
   ]
  },
  {
   "cell_type": "code",
   "execution_count": 34,
   "metadata": {
    "ExecuteTime": {
     "end_time": "2021-04-03T18:50:28.107054Z",
     "start_time": "2021-04-03T18:50:27.990974Z"
    }
   },
   "outputs": [
    {
     "data": {
      "text/plain": [
       "tensor([1., 2., 3., 4.], dtype=torch.float64)"
      ]
     },
     "execution_count": 34,
     "metadata": {},
     "output_type": "execute_result"
    }
   ],
   "source": [
    "tensor_float64 = tensor_integers.to(dtype=torch.double)\n",
    "tensor_float64"
   ]
  },
  {
   "cell_type": "code",
   "execution_count": 35,
   "metadata": {
    "ExecuteTime": {
     "end_time": "2021-04-03T18:50:28.344887Z",
     "start_time": "2021-04-03T18:50:28.107054Z"
    }
   },
   "outputs": [
    {
     "data": {
      "text/plain": [
       "tensor([1, 2, 3, 4], dtype=torch.int16)"
      ]
     },
     "execution_count": 35,
     "metadata": {},
     "output_type": "execute_result"
    }
   ],
   "source": [
    "tensor_int16 = tensor_floats.type(torch.short)\n",
    "tensor_int16"
   ]
  },
  {
   "cell_type": "markdown",
   "metadata": {},
   "source": [
    "S pytorchími tenzory a numpoidními poli se pracuje dosti podobně a tak není moc překvapivé, že jedny můžeme konvertovat na druhé. Přeměna tezoru na numpy array se provede pomocí metody *numpy*."
   ]
  },
  {
   "cell_type": "code",
   "execution_count": 36,
   "metadata": {
    "ExecuteTime": {
     "end_time": "2021-04-03T18:50:28.438824Z",
     "start_time": "2021-04-03T18:50:28.344887Z"
    }
   },
   "outputs": [
    {
     "data": {
      "text/plain": [
       "array([1, 2, 3, 4], dtype=int64)"
      ]
     },
     "execution_count": 36,
     "metadata": {},
     "output_type": "execute_result"
    }
   ],
   "source": [
    "some_tensor = torch.tensor([1,2,3,4])\n",
    "some_numpy_array = some_tensor.numpy()\n",
    "some_numpy_array"
   ]
  },
  {
   "cell_type": "markdown",
   "metadata": {},
   "source": [
    "Opačný proces se realizuje funkcí *from_numpy*."
   ]
  },
  {
   "cell_type": "code",
   "execution_count": 37,
   "metadata": {
    "ExecuteTime": {
     "end_time": "2021-04-03T18:50:28.591985Z",
     "start_time": "2021-04-03T18:50:28.438824Z"
    }
   },
   "outputs": [
    {
     "name": "stdout",
     "output_type": "stream",
     "text": [
      "tensor([1, 2, 3, 4])\n",
      "torch.int64\n"
     ]
    }
   ],
   "source": [
    "tensor_from_numpy = torch.from_numpy(some_numpy_array)\n",
    "print(tensor_from_numpy)\n",
    "print(tensor_from_numpy.dtype)"
   ]
  },
  {
   "cell_type": "markdown",
   "metadata": {},
   "source": [
    "V kontextu deep learningu je významný přesun tenzorů z CPU na GPU. Proč vlastně GPU vůbec řešíme? Jeden výpočetní element (jádro) na CPU je silnější než jeden výpočetní element na GPU. Jenomže zatímco jader na CPU máme pár jednotek, na GPU je jich řádově mnohem více. No a vzhledem k tomu, že výpočty spojené s neuronovými sitěmi se dají dobře paralelizovat, trvají operace s použitím GPU mnohem kratší dobu.  \n",
    "Každopádně abychom něco s GPU mohli dělat, musíme si ověřit, že ji Pytorch vůbec vidí:"
   ]
  },
  {
   "cell_type": "code",
   "execution_count": 2,
   "metadata": {
    "ExecuteTime": {
     "end_time": "2021-04-04T18:11:42.180642Z",
     "start_time": "2021-04-04T18:11:39.535767Z"
    }
   },
   "outputs": [
    {
     "data": {
      "text/plain": [
       "True"
      ]
     },
     "execution_count": 2,
     "metadata": {},
     "output_type": "execute_result"
    }
   ],
   "source": [
    "torch.cuda.is_available()"
   ]
  },
  {
   "cell_type": "markdown",
   "metadata": {},
   "source": [
    "Aby nějaký výpočet na GPU mohl probíhat, musíme tam nejprve dostat vstupní data. Jedním ze způsobů, jak toho docílit, je stanovit už v konstruktoru tenzoru, že mají operace probíhat na *device=\"cuda\"*. CUDA (Compute Unified Device Architecture) je platforma pro paralelní výpočty nad grafickými kartami Nvidie. Pozn.: nula v outputu buňky níže označuje index grafické karty."
   ]
  },
  {
   "cell_type": "code",
   "execution_count": 38,
   "metadata": {
    "ExecuteTime": {
     "end_time": "2021-04-03T18:50:47.484100Z",
     "start_time": "2021-04-03T18:50:28.591985Z"
    }
   },
   "outputs": [
    {
     "data": {
      "text/plain": [
       "tensor([1, 2, 3, 4], device='cuda:0')"
      ]
     },
     "execution_count": 38,
     "metadata": {},
     "output_type": "execute_result"
    }
   ],
   "source": [
    "tensor_gpu = torch.tensor([1,2,3,4], device=\"cuda\")\n",
    "tensor_gpu"
   ]
  },
  {
   "cell_type": "markdown",
   "metadata": {},
   "source": [
    "Už vytvořené tenzory zkopírujeme na GPU pomocí metody *to*. Stejná metoda pak zase zkopíruje tenzor z GPU na CPU."
   ]
  },
  {
   "cell_type": "code",
   "execution_count": 39,
   "metadata": {
    "ExecuteTime": {
     "end_time": "2021-04-03T18:50:47.500105Z",
     "start_time": "2021-04-03T18:50:47.484100Z"
    }
   },
   "outputs": [
    {
     "name": "stdout",
     "output_type": "stream",
     "text": [
      "tensor([1, 2, 3, 4])\n",
      "tensor([1, 2, 3, 4], device='cuda:0')\n",
      "tensor([1, 2, 3, 4])\n"
     ]
    }
   ],
   "source": [
    "tensor_cpu = torch.tensor([1,2,3,4])\n",
    "tensor_moved_to_gpu = tensor_cpu.to(device=\"cuda\")\n",
    "tesor_moved_to_cpu = tensor_moved_to_gpu.to(device=\"cpu\")\n",
    "\n",
    "print(tensor_cpu)\n",
    "print(tensor_moved_to_gpu)\n",
    "print(tesor_moved_to_cpu)"
   ]
  },
  {
   "cell_type": "markdown",
   "metadata": {},
   "source": [
    "Zdůrazněme, že se tu opravdu jedná o kopírování, tj. změna v původním objektu nevyvolá změnu v objektu na novém působišti."
   ]
  },
  {
   "cell_type": "code",
   "execution_count": 40,
   "metadata": {
    "ExecuteTime": {
     "end_time": "2021-04-03T18:50:47.722066Z",
     "start_time": "2021-04-03T18:50:47.500105Z"
    }
   },
   "outputs": [
    {
     "name": "stdout",
     "output_type": "stream",
     "text": [
      "tensor([10,  2,  3,  4])\n",
      "tensor([ 1, 20,  3,  4], device='cuda:0')\n",
      "tensor([ 1,  2, 30,  4])\n"
     ]
    }
   ],
   "source": [
    "tensor_cpu[0] = 10\n",
    "tensor_moved_to_gpu[1] = 20\n",
    "tesor_moved_to_cpu[2] = 30\n",
    "\n",
    "print(tensor_cpu)\n",
    "print(tensor_moved_to_gpu)\n",
    "print(tesor_moved_to_cpu)"
   ]
  },
  {
   "cell_type": "markdown",
   "metadata": {},
   "source": [
    "Co dělat, když chceme tenzor uložit na disk? Nejpřímočařejší je využití funkce *save*, která fakticky objekt uloží ve formátu pickle."
   ]
  },
  {
   "cell_type": "code",
   "execution_count": 41,
   "metadata": {
    "ExecuteTime": {
     "end_time": "2021-04-03T18:50:48.038474Z",
     "start_time": "2021-04-03T18:50:47.722066Z"
    }
   },
   "outputs": [],
   "source": [
    "saved_tensor = torch.tensor([1,2,3,4])\n",
    "torch.save(saved_tensor, \"saved_tensor.t\")"
   ]
  },
  {
   "cell_type": "markdown",
   "metadata": {},
   "source": [
    "Nahrát tenzor z disku můžeme pomocí funkce load."
   ]
  },
  {
   "cell_type": "code",
   "execution_count": 42,
   "metadata": {
    "ExecuteTime": {
     "end_time": "2021-04-03T18:50:48.054095Z",
     "start_time": "2021-04-03T18:50:48.038474Z"
    }
   },
   "outputs": [
    {
     "data": {
      "text/plain": [
       "tensor([1, 2, 3, 4])"
      ]
     },
     "execution_count": 42,
     "metadata": {},
     "output_type": "execute_result"
    }
   ],
   "source": [
    "loaded_tensor = torch.load(\"saved_tensor.t\")\n",
    "loaded_tensor"
   ]
  },
  {
   "cell_type": "markdown",
   "metadata": {},
   "source": [
    "Možností pro ukládání je více - například lze použít formát HDF5. To zde ale ukazovat nebudeme."
   ]
  },
  {
   "cell_type": "markdown",
   "metadata": {},
   "source": [
    "## Příprava dat - tabulky"
   ]
  },
  {
   "cell_type": "markdown",
   "metadata": {},
   "source": [
    "### Použití Pytorche\n",
    "Předtím, než se pustíme do vytvoření té nejjednodušší neuronové sítě, si musíme připravit data. V rámci zažití pytorchích operací to zkusme napřed bez použití sklearnovkých utilit. Nicméně jak později uvidíme, s nimi se bude přeci jen pracovat efektivněji.  \n",
    "Co se dat týče, použijme klasický dataset kosatců."
   ]
  },
  {
   "cell_type": "code",
   "execution_count": 2,
   "metadata": {
    "ExecuteTime": {
     "end_time": "2021-05-14T14:12:13.940302Z",
     "start_time": "2021-05-14T14:12:13.539128Z"
    }
   },
   "outputs": [
    {
     "data": {
      "text/html": [
       "<div>\n",
       "<style scoped>\n",
       "    .dataframe tbody tr th:only-of-type {\n",
       "        vertical-align: middle;\n",
       "    }\n",
       "\n",
       "    .dataframe tbody tr th {\n",
       "        vertical-align: top;\n",
       "    }\n",
       "\n",
       "    .dataframe thead th {\n",
       "        text-align: right;\n",
       "    }\n",
       "</style>\n",
       "<table border=\"1\" class=\"dataframe\">\n",
       "  <thead>\n",
       "    <tr style=\"text-align: right;\">\n",
       "      <th></th>\n",
       "      <th>sepal length (cm)</th>\n",
       "      <th>sepal width (cm)</th>\n",
       "      <th>petal length (cm)</th>\n",
       "      <th>petal width (cm)</th>\n",
       "      <th>target</th>\n",
       "    </tr>\n",
       "  </thead>\n",
       "  <tbody>\n",
       "    <tr>\n",
       "      <th>0</th>\n",
       "      <td>5.1</td>\n",
       "      <td>3.5</td>\n",
       "      <td>1.4</td>\n",
       "      <td>0.2</td>\n",
       "      <td>0</td>\n",
       "    </tr>\n",
       "    <tr>\n",
       "      <th>1</th>\n",
       "      <td>4.9</td>\n",
       "      <td>3.0</td>\n",
       "      <td>1.4</td>\n",
       "      <td>0.2</td>\n",
       "      <td>0</td>\n",
       "    </tr>\n",
       "    <tr>\n",
       "      <th>2</th>\n",
       "      <td>4.7</td>\n",
       "      <td>3.2</td>\n",
       "      <td>1.3</td>\n",
       "      <td>0.2</td>\n",
       "      <td>0</td>\n",
       "    </tr>\n",
       "    <tr>\n",
       "      <th>3</th>\n",
       "      <td>4.6</td>\n",
       "      <td>3.1</td>\n",
       "      <td>1.5</td>\n",
       "      <td>0.2</td>\n",
       "      <td>0</td>\n",
       "    </tr>\n",
       "    <tr>\n",
       "      <th>4</th>\n",
       "      <td>5.0</td>\n",
       "      <td>3.6</td>\n",
       "      <td>1.4</td>\n",
       "      <td>0.2</td>\n",
       "      <td>0</td>\n",
       "    </tr>\n",
       "  </tbody>\n",
       "</table>\n",
       "</div>"
      ],
      "text/plain": [
       "   sepal length (cm)  sepal width (cm)  petal length (cm)  petal width (cm)  \\\n",
       "0                5.1               3.5                1.4               0.2   \n",
       "1                4.9               3.0                1.4               0.2   \n",
       "2                4.7               3.2                1.3               0.2   \n",
       "3                4.6               3.1                1.5               0.2   \n",
       "4                5.0               3.6                1.4               0.2   \n",
       "\n",
       "   target  \n",
       "0       0  \n",
       "1       0  \n",
       "2       0  \n",
       "3       0  \n",
       "4       0  "
      ]
     },
     "execution_count": 2,
     "metadata": {},
     "output_type": "execute_result"
    }
   ],
   "source": [
    "iris_data_heap = load_iris()\n",
    "iris_dataframe = pd.DataFrame(iris_data_heap[\"data\"], columns=iris_data_heap[\"feature_names\"])\n",
    "iris_dataframe[\"target\"] = pd.Series(iris_data_heap[\"target\"])\n",
    "iris_dataframe.head()"
   ]
  },
  {
   "cell_type": "markdown",
   "metadata": {
    "ExecuteTime": {
     "end_time": "2021-04-04T13:46:15.263100Z",
     "start_time": "2021-04-04T13:46:15.247479Z"
    }
   },
   "source": [
    "Pytorch dovoluje konvertovat na tenzory numpoidní pole, nikoli dataframy, proto dodatečný převod."
   ]
  },
  {
   "cell_type": "code",
   "execution_count": 3,
   "metadata": {
    "ExecuteTime": {
     "end_time": "2021-04-17T14:05:25.983527Z",
     "start_time": "2021-04-17T14:05:24.583639Z"
    }
   },
   "outputs": [
    {
     "name": "stdout",
     "output_type": "stream",
     "text": [
      "Shape of iris tensor: torch.Size([150, 5])\n"
     ]
    },
    {
     "data": {
      "text/plain": [
       "tensor([[5.1000, 3.5000, 1.4000, 0.2000, 0.0000],\n",
       "        [4.9000, 3.0000, 1.4000, 0.2000, 0.0000],\n",
       "        [4.7000, 3.2000, 1.3000, 0.2000, 0.0000],\n",
       "        [4.6000, 3.1000, 1.5000, 0.2000, 0.0000],\n",
       "        [5.0000, 3.6000, 1.4000, 0.2000, 0.0000]], dtype=torch.float64)"
      ]
     },
     "execution_count": 3,
     "metadata": {},
     "output_type": "execute_result"
    }
   ],
   "source": [
    "iris_tensor = torch.tensor(iris_dataframe.to_numpy())\n",
    "print(f\"Shape of iris tensor: {iris_tensor.shape}\")\n",
    "iris_tensor[0:5,:]"
   ]
  },
  {
   "cell_type": "markdown",
   "metadata": {},
   "source": [
    "Data rozděleme na trénovací a testovací. V Pytorchi na to lze použít funkci random_split, s tím se ale pojí použití několika dalších typů objektů. Na ty přijde řeč až později v textu, proto tady provedeme naivnější postup s pomocí funkce *randperm*. Ta jako parametr přebírá celé číslo n a vytvoří jednorozměrný tenzor s náhodně uspořádánými čísly 0 až n-1 (každé se vyskytuje právě jednou). Tato náhodně přeuspořádaná čísla nám poslouží jako indexy řádků nového tenzoru. Ten bude fakticky stejný jako původní, jen bude mít přeházené řádky. Tento nový tenzor rozdělíme v poměru 80%:20% s tím, že větší část bude sloužit k trénování modelu a menší k jeho testování."
   ]
  },
  {
   "cell_type": "code",
   "execution_count": 4,
   "metadata": {
    "ExecuteTime": {
     "end_time": "2021-04-17T14:06:04.024050Z",
     "start_time": "2021-04-17T14:06:03.743618Z"
    }
   },
   "outputs": [],
   "source": [
    "total_length = iris_tensor.shape[0]\n",
    "train_length = round(total_length*0.8)\n",
    "iris_tensor_row_permutation = iris_tensor[torch.randperm(total_length),:]\n",
    "iris_train = iris_tensor_row_permutation[:train_length,:]\n",
    "iris_test = iris_tensor_row_permutation[train_length:,:]"
   ]
  },
  {
   "cell_type": "markdown",
   "metadata": {},
   "source": [
    "Prediktory musí stát samostatně - vyrobme si tedy nové tenzory, kde sloupeček s targety není."
   ]
  },
  {
   "cell_type": "code",
   "execution_count": 5,
   "metadata": {
    "ExecuteTime": {
     "end_time": "2021-04-17T14:06:07.293508Z",
     "start_time": "2021-04-17T14:06:07.264049Z"
    }
   },
   "outputs": [
    {
     "name": "stdout",
     "output_type": "stream",
     "text": [
      "Shape of iris tensor without target: torch.Size([120, 4])\n"
     ]
    },
    {
     "data": {
      "text/plain": [
       "tensor([[6.7000, 2.5000, 5.8000, 1.8000],\n",
       "        [4.4000, 3.0000, 1.3000, 0.2000],\n",
       "        [6.3000, 2.3000, 4.4000, 1.3000],\n",
       "        [4.7000, 3.2000, 1.6000, 0.2000],\n",
       "        [4.4000, 3.2000, 1.3000, 0.2000]], dtype=torch.float64)"
      ]
     },
     "execution_count": 5,
     "metadata": {},
     "output_type": "execute_result"
    }
   ],
   "source": [
    "iris_train_predictors = iris_train[:,:-1]\n",
    "iris_test_predictors = iris_test[:,:-1]\n",
    "\n",
    "print(f\"Shape of iris tensor without target: {iris_train_predictors.shape}\")\n",
    "iris_train_predictors[0:5,:]"
   ]
  },
  {
   "cell_type": "markdown",
   "metadata": {},
   "source": [
    "Stejně tak si vyrobme i tenzor, kde budou pouze targety. Jelikož Pytorch si s takovýmto formátem targetu poradí (nemusíme provádět one-hot encodování), není třeba nic dalšího dělat. "
   ]
  },
  {
   "cell_type": "code",
   "execution_count": 34,
   "metadata": {
    "ExecuteTime": {
     "end_time": "2021-04-06T19:54:48.933386Z",
     "start_time": "2021-04-06T19:54:48.918315Z"
    }
   },
   "outputs": [
    {
     "name": "stdout",
     "output_type": "stream",
     "text": [
      "Shape of iris target tensor: torch.Size([120])\n"
     ]
    },
    {
     "data": {
      "text/plain": [
       "tensor([0., 0., 1., 0., 1., 0., 0., 0., 0., 0., 0., 2., 0., 2., 2., 1., 1., 0.,\n",
       "        2., 1., 0., 0., 0., 1., 0., 2., 1., 1., 2., 2., 2., 0., 1., 1., 1., 1.,\n",
       "        2., 0., 2., 2., 0., 1., 1., 2., 2., 0., 2., 1., 0., 1., 0., 0., 0., 1.,\n",
       "        2., 0., 0., 1., 1., 1., 0., 2., 2., 0., 1., 1., 1., 0., 2., 0., 1., 1.,\n",
       "        2., 2., 2., 2., 2., 1., 1., 2., 0., 0., 1., 0., 1., 1., 0., 2., 1., 1.,\n",
       "        1., 0., 2., 2., 1., 0., 1., 2., 0., 0., 2., 2., 0., 2., 2., 2., 0., 1.,\n",
       "        0., 2., 2., 2., 1., 1., 1., 0., 2., 2., 0., 1.], dtype=torch.float64)"
      ]
     },
     "execution_count": 34,
     "metadata": {},
     "output_type": "execute_result"
    }
   ],
   "source": [
    "iris_train_target = iris_train[:,-1]\n",
    "iris_test_target = iris_test[:,-1]\n",
    "\n",
    "print(f\"Shape of iris target tensor: {iris_train_target.shape}\")\n",
    "iris_train_target"
   ]
  },
  {
   "cell_type": "markdown",
   "metadata": {},
   "source": [
    "Z důvodu rychlosti či dokonce vůbec proveditelnosti konvergence trénování jsou neuronové sítě jedním z algoritmů, který vyžaduje nanormovaná data. Opět zkusíme provést normování bez použití utilit z sklearnu."
   ]
  },
  {
   "cell_type": "code",
   "execution_count": 6,
   "metadata": {
    "ExecuteTime": {
     "end_time": "2021-04-17T14:24:28.399583Z",
     "start_time": "2021-04-17T14:24:27.549492Z"
    }
   },
   "outputs": [
    {
     "name": "stdout",
     "output_type": "stream",
     "text": [
      "Tensor with average value of every column: tensor([5.8258, 3.0517, 3.6767, 1.1525], dtype=torch.float64)\n",
      "Tensor with variance of every column: tensor([0.7387, 0.1921, 3.2421, 0.5679], dtype=torch.float64)\n"
     ]
    },
    {
     "data": {
      "text/plain": [
       "tensor([[ 1.0171, -1.2587,  1.1792,  0.8592],\n",
       "        [-1.6589, -0.1179, -1.3199, -1.2640],\n",
       "        [ 0.5517, -1.7150,  0.4017,  0.1957],\n",
       "        [-1.3099,  0.3384, -1.1533, -1.2640],\n",
       "        [-1.6589,  0.3384, -1.3199, -1.2640]], dtype=torch.float64)"
      ]
     },
     "execution_count": 6,
     "metadata": {},
     "output_type": "execute_result"
    }
   ],
   "source": [
    "columns_mean = torch.mean(iris_train_predictors, dim=0)\n",
    "print(f\"Tensor with average value of every column: {columns_mean}\")\n",
    "columns_variance = torch.var(iris_train_predictors, dim=0)\n",
    "print(f\"Tensor with variance of every column: {columns_variance}\")\n",
    "\n",
    "iris_train_predictors_normalised = (iris_train_predictors-columns_mean)/torch.sqrt(columns_variance)\n",
    "iris_test_predictors_normalised = (iris_test_predictors-columns_mean)/torch.sqrt(columns_variance)\n",
    "\n",
    "iris_train_predictors_normalised[0:5,:]"
   ]
  },
  {
   "cell_type": "markdown",
   "metadata": {},
   "source": [
    "### Použití scikit-learnu"
   ]
  },
  {
   "cell_type": "markdown",
   "metadata": {},
   "source": [
    "Nyní se pokusíme dosáhnout stejného vysledku s použitím scikit-learnu. No ale jelikož budeme dále používat objekty vyrobené právě s jeho pomocí, proběhne tu i rozdělení na trénovací a testovací data."
   ]
  },
  {
   "cell_type": "code",
   "execution_count": 3,
   "metadata": {
    "ExecuteTime": {
     "end_time": "2021-05-14T14:13:13.882587Z",
     "start_time": "2021-05-14T14:13:13.294054Z"
    }
   },
   "outputs": [],
   "source": [
    "iris_data_heap = load_iris()\n",
    "iris_dataframe = pd.DataFrame(iris_data_heap[\"data\"], columns=iris_data_heap[\"feature_names\"])\n",
    "iris_dataframe[\"target\"] = pd.Series(iris_data_heap[\"target\"])\n",
    "\n",
    "train_features, test_features, train_target, test_target = \\\n",
    "    train_test_split(iris_dataframe.drop(\"target\", axis=1), iris_dataframe[[\"target\"]], test_size=0.2, random_state=10)"
   ]
  },
  {
   "cell_type": "code",
   "execution_count": 4,
   "metadata": {
    "ExecuteTime": {
     "end_time": "2021-05-14T14:13:14.114794Z",
     "start_time": "2021-05-14T14:13:13.929234Z"
    }
   },
   "outputs": [
    {
     "data": {
      "text/plain": [
       "tensor([1, 1, 2, 2, 2, 0, 2, 2, 2, 2, 0, 0, 1, 0, 1, 0, 1, 1, 2, 2, 1, 2, 1, 1,\n",
       "        1, 0, 0, 1, 0, 2, 0, 0, 2, 1, 2, 0, 2, 0, 1, 1, 0, 2, 2, 2, 2, 2, 0, 1,\n",
       "        2, 1, 0, 2, 1, 1, 0, 0, 0, 1, 2, 2, 1, 0, 0, 0, 2, 2, 1, 1, 2, 2, 2, 2,\n",
       "        1, 0, 0, 1, 0, 0, 2, 1, 0, 0, 0, 1, 0, 1, 0, 1, 2, 0, 1, 1, 2, 0, 2, 0,\n",
       "        1, 1, 2, 2, 0, 1, 2, 2, 1, 1, 2, 0, 2, 0, 0, 1, 0, 2, 2, 2, 1, 0, 2, 0])"
      ]
     },
     "execution_count": 4,
     "metadata": {},
     "output_type": "execute_result"
    }
   ],
   "source": [
    "target_train_tensor = torch.tensor(train_target.to_numpy(), dtype=torch.int64).squeeze()\n",
    "target_test_tensor = torch.tensor(test_target.to_numpy(), dtype=torch.int64).squeeze()\n",
    "\n",
    "target_train_tensor"
   ]
  },
  {
   "cell_type": "markdown",
   "metadata": {},
   "source": [
    "Ani ke škálování se toho mnoho říci nedá:"
   ]
  },
  {
   "cell_type": "code",
   "execution_count": 5,
   "metadata": {
    "ExecuteTime": {
     "end_time": "2021-05-14T14:13:14.515824Z",
     "start_time": "2021-05-14T14:13:14.330506Z"
    }
   },
   "outputs": [
    {
     "data": {
      "text/plain": [
       "tensor([[ 0.8711, -0.3989,  0.4606,  0.1058],\n",
       "        [ 0.3938, -0.3989,  0.2919,  0.1058],\n",
       "        [ 1.5871, -0.1677,  1.1354,  0.4945],\n",
       "        [-0.0835, -0.6302,  0.7418,  1.5309],\n",
       "        [ 0.5131, -1.3239,  0.6855,  0.8831]], dtype=torch.float64)"
      ]
     },
     "execution_count": 5,
     "metadata": {},
     "output_type": "execute_result"
    }
   ],
   "source": [
    "scaler_standard = StandardScaler()\n",
    "\n",
    "scaled_predictors_train = scaler_standard.fit_transform(train_features)\n",
    "scaled_predictors_train_tensor = torch.tensor(scaled_predictors_train)\n",
    "\n",
    "scaled_predictors_test = scaler_standard.transform(test_features)\n",
    "scaled_predictors_test_tensor = torch.tensor(scaled_predictors_test)\n",
    "\n",
    "scaled_predictors_train_tensor[0:5,:]"
   ]
  },
  {
   "cell_type": "markdown",
   "metadata": {},
   "source": [
    "## Výroba jednoduché neuronové sítě"
   ]
  },
  {
   "cell_type": "markdown",
   "metadata": {},
   "source": [
    "Na úplném začátku si ujasněme, co vlastně jednoduchou (dense) sítí myslíme. Jedná se o strukturu složenou z neuronů, které jsou uspořádány do vrstev (viz obr. 1). Každý neuron v n-té vrstvě je spojen s každým neuronem v n-1 a n+1 vrstvě, s neurony ze své vlastní vrstvy ale žádné spojení nemá. První vrstva se nazývá vrstvou vstupní. Do každého neuronu zde umístěného se bez jakýchkoli dalších transformací dostávají data z jednoho z prediktorů. To tedy například znamená, že neuronová síť zpracovávající kosatcová data by měla mít 4 vstupní neurony. Podobně výstuní vrstva obsahuje to, co by měl model uživateli poskytnout. V případě regresních úloh či binárního klasifikátoru je na výstupu jeden neuron, u multiclass klasifikačních úloh by ale na výstupu měl být pro každou třídu alokován jeden neuron. Tyto neuronvy by totiž měly obsahovat pravděpodobnost, že ohodnocovaný záznam do příslušné třídy patří.   \n",
    "![vrstvy](pytorch_images/layers.png)\n",
    "<center>Obrázek 1: Uspořádání neuronů do vrstev.</center>  \n",
    "\n",
    "V předchozím odstavci se pořád mluví o neuronech - jak ale tyto záhadné objekty fungují? Neuron přebírá informace - hodnoty z předešlé vrstvy. Nicméně tyto hodnoty jsou přenásobeny váhami $w_i$. Zdůrazněme, že jelikož váhy NEJSOU omezeny na interval [0,1], může se jejich působením přebíraná hodnota i zvětšovat. V obrázku č. 2 vidíme, že do neuronu míří i jakési *b*. Jedná se o bias neboli konstantu, která je pro každný neuron jiná. Dalo by se říci, je *b* je ekvivaletní $w_0$, přičemž hodnota, kterou tato váha upravuje, je vždy jednička. Když se to dá dohromady, má hodnota např. neuronu C z obrázku velikost $z = w_1A + w_2B + b_C$. Kdyby toto bylo vše, neměla by všam neuronová síť moc smysl. Jednalo by se totiž o řetěz lineárních operací, které by se daly přepsat do podoby jedné jediné lienární operace. Proto se na mezivýsledek označený písmenem *z* v rámci neuronu vypustí nějaká nelineární funkce (obvykle nazývaná aktivační funkce) a výstupem neuronu je tak  \n",
    "$y = f_{akt}(z) = f_{akt}(w_1A + w_2B + b_C)$.  \n",
    "\n",
    "![neuron](pytorch_images/one_neuron.png)\n",
    "<center>Obrázek 2: Náčrt neuronu.</center>  \n",
    "\n",
    "### Aktivační funkce\n",
    "Aktivační funkce bývají pro jednu vrstvu stejné. Častokrát dokonce bývá aktivační funkce stejná pro celou síť - tedy s čestnou výjimkou výstupní vrstvy. Tam bývá buďto funkce, která hodnoty neuronu převádí do intervalu [0,1] (klasifikační úlohy), anebo aktivační funkce absentuje (regresní úlohy). A jaké funkce se vlastně používají?"
   ]
  },
  {
   "cell_type": "markdown",
   "metadata": {},
   "source": [
    "#### Sigmoid\n",
    "Funkce sigmoid definovaná jako  \n",
    "$f(x) = \\frac{1}{1+exp(-x)}$  \n",
    "bere jako vstup čísla v intervalu [-inf, +inf], aby vyprodukovala výstup z intervalu [0,1]. Díky tomu může být použita jako aktivační funkce pro výstupní vrstvu u binárního klasifikačního problému, kde se její produkt dá interpretovat jako pravděpodobnost. Kdysi se sigmoid používal jako aktivační funkce i u skrytých vrstev, nicméně ukázalo se, že se pro takovou úlohu moc nehodí. Z grafu níže vidíme, že se pro (relativně) velké a malé hodnoty saturuje. Jeho derivace je díky tomu v těchto oblastech velice malá. Níže si u backpropagace ukážeme, že při hledání optimálních hondot vah se mezi sebou přenásobují všelijaké derivace. No a sigmoid takovéto součiny posílal do nuly - proto se hovořilo o *vanishing gradientu*.   \n",
    "V kódu se vytvoří pomocí jako *torch.nn.Sigmoid()*."
   ]
  },
  {
   "cell_type": "code",
   "execution_count": 15,
   "metadata": {
    "ExecuteTime": {
     "end_time": "2021-04-09T19:30:41.544737Z",
     "start_time": "2021-04-09T19:30:41.425268Z"
    }
   },
   "outputs": [
    {
     "data": {
      "image/png": "[encoded data removed]",
      "text/plain": [
       "<Figure size 432x288 with 1 Axes>"
      ]
     },
     "metadata": {
      "needs_background": "light"
     },
     "output_type": "display_data"
    }
   ],
   "source": [
    "x = np.arange(-10,10,0.5)\n",
    "y = 1/(1+np.exp(-x))\n",
    "plt.plot(x,y);\n",
    "plt.title(\"Sigmoid function\");"
   ]
  },
  {
   "cell_type": "markdown",
   "metadata": {},
   "source": [
    "#### Softmax  \n",
    "Softmax se používá jako aktivační funkce na výstupní vrstvě pro případ multiclass klasiifikační úlohy. Stejně jako softmax provádí převod intervalu [-inf, +inf] na [0,1], navíc ale provádí normování. To znamená, že pravděpodobnosti všech tříd se po použití softmaxu dají sečíst na jedničku. Matematický předpis nabývá tvaru  \n",
    "$f(x_i)=\\frac{exp(x_i)}{\\sum_{j=1}^{k}exp(x_j)}$  \n",
    "V kódu se vytvoří pomocí *torch.nn.Softmax(dim=1)* - zde *dim* specifikuje, přes kterou osu má proběhnout normalizace tříd.\n"
   ]
  },
  {
   "cell_type": "markdown",
   "metadata": {},
   "source": [
    "#### Tanh  \n",
    "Hyperbolický tangent se chová podobně jako sigmoid. Nicméně jeho použití vede k rychlejšímu natrénování sítě (viz Y. Lecun et al.: [Efficient BackProp](https://www.researchgate.net/publication/2811922_Efficient_BackProp), sekce 4.3 a 4.4). Tanh bohužel se sigmoidem sdílí i problém s vanishing gradientem. No a jelikož interval [-inf,+inf] převádí na [-1,1], není tudíž vhodný na použití pro výstupní vrstvu.  \n",
    "$f(x) = \\frac{exp(x) - exp(-x)}{exp(x) + exp(-x)}$  \n",
    "Kód - *torch.nn.Tanh()*."
   ]
  },
  {
   "cell_type": "code",
   "execution_count": 2,
   "metadata": {
    "ExecuteTime": {
     "end_time": "2021-04-10T09:28:20.626155Z",
     "start_time": "2021-04-10T09:28:19.526290Z"
    }
   },
   "outputs": [
    {
     "data": {
      "image/png": "[encoded data removed]",
      "text/plain": [
       "<Figure size 432x288 with 1 Axes>"
      ]
     },
     "metadata": {
      "needs_background": "light"
     },
     "output_type": "display_data"
    }
   ],
   "source": [
    "x = np.arange(-10,10,0.5)\n",
    "y = (np.exp(x) - np.exp(-x))/(np.exp(x) + np.exp(-x))\n",
    "plt.plot(x,y);\n",
    "plt.title(\"Tanh function\");"
   ]
  },
  {
   "cell_type": "markdown",
   "metadata": {},
   "source": [
    "#### ReLU\n",
    "ReLU (rectified linear unit) je definována jako  \n",
    "\n",
    "$f(x) = max(0,x)$\n",
    "\n",
    "Dnes je asi nejpoužívanější aktivační funkcí. Důvodem tkví ve snížení pravděpodobnosti, že dojde ke gradient vanishingu. To je dáno tím, že pro kladné x je gradient konstantní. Drobným bonusem jsou i v porovnání se sigmoidem/tanh nižší výpočetní nároky. Trochu problémů může přinést způsob, jakým se do ReLU dostává nelinearita - nulovou hodnotou pro x<0. Pokud by se do této oblasti při trénování dostal větší počet neuronů, byla by jejích výstupem nula a trénování by se zastavilo (tzv. dying ReLU problem). Proto se občas používá Leaky ReLU definované vztahem (konstanta pro x<0 je víceméně irrelevantní, pakliže je tedy malá)  \n",
    "\n",
    "$f(x) = x $  pro $x > 0$  \n",
    "$f(x) = 0,01x $ pro $x\\le0$  \n",
    "\n",
    "Kód - *torch.nn.ReLU()*."
   ]
  },
  {
   "cell_type": "code",
   "execution_count": 17,
   "metadata": {
    "ExecuteTime": {
     "end_time": "2021-04-10T13:37:39.718797Z",
     "start_time": "2021-04-10T13:37:39.588805Z"
    }
   },
   "outputs": [
    {
     "data": {
      "image/png": "[encoded data removed]",
      "text/plain": [
       "<Figure size 432x288 with 1 Axes>"
      ]
     },
     "metadata": {
      "needs_background": "light"
     },
     "output_type": "display_data"
    }
   ],
   "source": [
    "x = np.arange(-10,10,0.5)\n",
    "y = np.where(x < 0, 0, x)\n",
    "plt.plot(x,y)\n",
    "plt.title(\"ReLU\");"
   ]
  },
  {
   "cell_type": "code",
   "execution_count": 16,
   "metadata": {
    "ExecuteTime": {
     "end_time": "2021-04-10T13:37:30.118720Z",
     "start_time": "2021-04-10T13:37:30.003581Z"
    }
   },
   "outputs": [
    {
     "data": {
      "image/png": "[encoded data removed]",
      "text/plain": [
       "<Figure size 432x288 with 1 Axes>"
      ]
     },
     "metadata": {
      "needs_background": "light"
     },
     "output_type": "display_data"
    }
   ],
   "source": [
    "x = np.arange(-10,10,0.5)\n",
    "y = np.where(x < 0, 0.01*x, x)\n",
    "plt.plot(x,y)\n",
    "plt.title(\"Leaky ReLU\");"
   ]
  },
  {
   "cell_type": "markdown",
   "metadata": {},
   "source": [
    "### Ztrátová funkce  \n",
    "Nyní můžeme vzít prediktory pro jeden záznam, umístit je do vstupní vrstvy a postupným počítáním se dobrat až k výstupu poslední vrstvy. Tomu se říká *forward pass*. Nyní bychom rádi věděli, jak moc se takto vypočítaná čísla liší od realných hodnot. K tomu nám poslouží ztrátová funkce (*loss function*) *L*. Obecně platí, že čím je výstup této funkce vyšší, tím horší předpověď neuronové sítě je. Ztrátových funkcí existuje podobně jako aktivačních funkcí mnoho druhů s tím, že na různé úlohy se nejlépe hodí různé z nich.  \n",
    "\n",
    "#### Mean squared error  (MSE)\n",
    "Průměrná hodnota čtverce rozdílu reálné hodnoty $y$ a výstupu sítě $\\hat{y}$ se používá pro regresní úlohy. Nepřekvapí, že akcentuje velikost rozdílu mezi odečítanými hodnotami. Její definice:  \n",
    "\n",
    "$L_{MSE}(y, \\hat{y}) = \\frac{1}{n}\\sum_{i=1}^{n}(y-\\hat{y})^2$  \n",
    "\n",
    "Existují i funce příbuzné, například mean absolute error (MAE)  \n",
    "\n",
    "$L_{MAE}(y, \\hat{y}) = \\frac{1}{n}\\sum_{i=1}^{n}|y-\\hat{y}|$  \n",
    "\n",
    "anebo root mean squared error (RMSE)  \n",
    "\n",
    "$L_{RMSE}(y, \\hat{y}) = \\frac{1}{n}\\sqrt{\\sum_{i=1}^{n}(y-\\hat{y})^2}$  \n",
    "\n",
    "Použití v kódu: *loss_function = torch.nn.MSELoss()*.\n",
    "\n",
    "\n",
    "#### Cross-entropy loss\n",
    "Cross-entropy loss je určená pro klasifikační úlohy o X třídách. Je je definovaná jako  \n",
    "\n",
    "$L_{categorical}(y, \\hat{y}) = -\\sum_{i}y_iln(\\hat{y_i})$ \n",
    "\n",
    "Zdůrazněme, že $y_i$ i $\\hat{y_i}$ mají význam pravděpodobnosti. Vidíme, že v optimálním případě bude hodnota ztrátové funkce nulová (pravděpodobnosti stoprocentní), v neideálním (faktické a predikované pravděpodobnosti různé od jedničky a  vzájemně odlišné) kladná. Koneckonců kvůli konzistenci s jinými ztrátovými funkcemi se zde vyskytuje znaménko mínus. Logaritmus hodnoty x pro x menší než základ logaritmu, který je v PyTorchi obvykle Eulerovo číslo, je totiž záporný.  \n",
    "Variací na toto je binary cross-entropy pro úlohy o dvou možných třídách  \n",
    "\n",
    "$L_{binary}(y, \\hat{y}) = -yln(\\hat{y})-(1-y)ln(1-\\hat{y})$  \n",
    "\n",
    "Vidíme, že $L_{categorical}$ se redukuje na $L_{binary}$, pokud *i* může nabývat pouze dvou hodnot a platí, že $y_1 + y_2 = 1$.   \n",
    "Teď ale pár slov o tom, jak je cross-entropy loss implementovaná v Pytorchi. Jednak existuje ve fromě torch.nn.NLLLoss. V takovém případě čeká, že bude ve výstupní vrstvě použit jako aktivační funkce logaritmus softmaxu (nebo spíše funkce LogSoftmax, která ošetřuje problém s logaritmu na exponenciálu a s tím spjaté problémy). Dále zde máme torch.nn.CrossEntropyLoss. Ta v sobě LogSoftmax a NLLLoss spojuje. To mimo jiné znamená, že se ve výstupní vrstvě nesmí použít žádná aktivační funkce. V podobném vztahu jsou i binární cross-entropy ztrátové funkce BCELoss a BCEWithLogitsLoss (= sigmoid na výstupu + BCELoss).  \n",
    "\n",
    "Použití v kódu: *loss_function = torch.nn.CrossEntropyLoss()*."
   ]
  },
  {
   "cell_type": "markdown",
   "metadata": {},
   "source": [
    "### Backpropagace\n",
    "Provedli jsme forward pass a spočítali hodnotu ztrátové funkce. Nyní bychom rádi tuto hodnotu minimalizovali, aby síť dokázala provádět správné predikce. Onu minimalizaci provedeme vhodnou změnou vah $w_i$. Nicméně jak tuto změnu realizovat? Přeci jen náhodné tipování by asi k cíli nevedlo.  \n",
    "Musíme použít některý z optimizérů. Z nich asi nejklasičtějším je tzv. *gradient descent*. Jeho definice vypadá následovně:  \n",
    "$w_{i}^{new} = w_{i}^{old} - \\alpha\\frac{\\partial L}{\\partial w_{i}^{old}}$  \n",
    "Co se tady vlastně děje? Nová hodnota váhy se počítá jako stará hodnota váhy opravená o člen beroucí v úvahu to, jak se s touto vahou mění hodnota ztrátové funkce. Proč zde máme znaménko mínus? Snažíme se nalézt minimum L v závislosti na w. Dejme tomu, že předpis pro ztrátovou funkci má podobu $L = w^2$ a my se nacházíme v bodě w = 5. Chceme se dostat do minima, tj. do bodu w = 0. Derivace L podle w činí 2w, tj. po dosazení 10. Pokud bychom desítku k původní hodnotě váhy přičetli, od kýženého cíle bychom se vzdálili. Dobrá, to vysvětluje mínus. Co je ale ono alfa? Jedná se o tzv. learning rate. Pro pochopení jeho významu se vraťme k našemu příkladu. Nyní desítku nebudeme k pětce přičítat, nýbrž odečítat. Výsledkem je -5. Tj. vyrazili jsme sice správným směrem, ale náš cíl - nulu - jsme značně přestřelili. Pro jiné ztrátové funkce by se mohlo dokonce stát, že namísto setrvání na konstatní vzdálenosti bychom se krok po kroku od cíle vzdalovali. Proto musí být derivace zmenšována learning ratem. Samozřejmě se to nesmí přehnat - pokud by byl learning rate přilíš malý, tak bychom k cíli nikdy nedokonvergovali.  \n",
    "No jo, to je všechno sice hezké, ale jak vůbec onu derivaci ztrátové funkce vlastně spočítat? Přeci jen v sekci věnované ztrátovým funkcím se ve vzorcích žádná váha nevyskytovala. Na řešení tohoto problému použijeme proces zvaný backpropagace. Demonstrujeme si ho na příkladu sítě z obrázku č. 1. Předpokládejme, že všechny neurony včetně výstupního maji jako aktivační funkci softmax a že ztrátovou funkcí je MSE (ano, takhle asi normální síť vypadat nebude, ale jako ukázkový příklad je to vyhovující). Pro jednoduchost ignorujme existenci biasů a provádějme backpropagaci poté, co sítí probublal jeden trénovací záznam.  \n",
    "Připomeňme si použité matematické výrazy. Nejprve ztrátová funkce (y je target trénovacího záznamu, jenž se nemění, $\\hat{y_E}$ představuje výstup sítě, který chceme optimalizovat):  \n",
    "\n",
    "$L = (y-\\hat{y_E})^2$  \n",
    "\n",
    "Výstup neuronu, dejme tomu neuronu E:  \n",
    "\n",
    "$\\hat{y_E} = sigmoid(z_E) = \\frac{1}{1+exp(-z_E)}$  \n",
    "\n",
    "No a hodnota v neuronu před použítím aktivační funkce:  \n",
    "\n",
    "$z_E = w_5y_C + w_6y_D$  \n",
    "\n",
    "Proveďme pomocný výpočet, který se nám posléze bude mnohokrát opakovat:  \n",
    "\n",
    "$\\frac{dy_X}{dz_X} = \\frac{d}{dz_X}\\frac{1}{1+exp(-z_X)} = \\frac{-\\frac{d}{dz}(1+exp(-z_X))}{(1+exp(-z_X))^2} = \\frac{exp(-z)}{(1+exp(-z))^2} = \\frac{1}{1+exp(-z_X)} \\frac{exp(-z_X) + 1 - 1}{1+exp(-z_X)} = \\frac{1}{1+exp(-z_X)}(1-\\frac{1}{1+exp(-z_X)}) = y_X(1-y_X)$\n",
    "\n",
    "Jak by tedy vypadá derivace ztrátové funkce podle jednotlivých vah, která se posléze dosadí do vztahu uvedeného na začátku této sekce? Podívejme se nejprve na derivaci podle $w_5$:  \n",
    "\n",
    "$\\frac{\\partial L}{\\partial w_5}=\\frac{\\partial L}{\\partial y_E}\\frac{\\partial y_E}{\\partial z_E}\\frac{\\partial z_E}{\\partial w_5} = [-2(y-y_E)][y_E(1-y_E)][y_C]$\n",
    "\n",
    "V tomto výrazu už všechny proměnné známe (y bez indexu je target z trénovacích dat, y s indexy C a E jsou výstupy neuronů C a E po aplikaci aktivačních funkcí). Derivace podle $w_6$ by byla téměř stejná, pouze by došlo k nahrazení $y_C$ za $y_D$. Obdobně pro váhy s indexy 1 až 4 by se počítalo  \n",
    "\n",
    "$\\frac{\\partial L}{\\partial w_3}=\\frac{\\partial L}{\\partial y_C}\\frac{\\partial y_C}{\\partial z_C}\\frac{\\partial z_C}{\\partial w_3}= [\\frac{\\partial L}{\\partial z_E}\\frac{\\partial z_E}{\\partial y_C}][\\frac{\\partial y_C}{\\partial z_C}][\\frac{\\partial z_C}{\\partial w_3}] = [w_5\\frac{\\partial L}{\\partial z_E}][y_C(1-y_C)][y_B] = [w_5\\frac{\\partial L}{\\partial y_E}\\frac{\\partial y_E}{\\partial z_E}][y_C(1-y_C)][y_B] = [w_5(-2(y-y_E))y_E(1-y_E)][y_C(1-y_C)][y_B]$  "
   ]
  },
  {
   "cell_type": "markdown",
   "metadata": {},
   "source": [
    "### Optimizéry  \n",
    "V rámci výpočtu v sekci backpropagace jsme upravovali váhy sítě po každém jednotlivém záznamu. Předtím jsme u ztrátových funkcí zase počítali s tím, že se budou vyhodnocovat najednou všechna data. Jaký přístup tedy platí? Inu, platit mohou oba + tu je ještě jeden navíc:  \n",
    "- batch gradient descent - u toho přístupu se ztrátová funkce vypočte jako průměr přes všechny záznamy. Poněkud nepříjemné je, že výpočet má tendenci zaseknout se v některém lokálním minimu ztrátové funkce a nedosáhne tak do nejoptimálnější globálního minima. No a pak tu je drobný technický problém - dost často nebude možné nacpat celý dataset do paměti.\n",
    "- stochastic gradient descent - zde updaty vah probíhají po forward passu každého jednotlivého trénovacího záznamu. Tím je trénování mnohem rychlejší - po 100 záznamech dojde 100x k updatování vah a ne pouze k updatu jednomu, jako tomu bylo v předchozím případě. Díky tomu, že jsou jednotlivé záznamy zašuměné, dochází k vyskakování z lokálních minim (u batch gradient descent k tomu moc nedochází, neboť šum je přes množství záznamů vyprůměrován). Jenže občas se vyskočí i z minima globálního.\n",
    "- mini-batch - jedná se o kombinaci předchozích - updaty vah probíhají po forward passu n záznamů. Takovýto update se nazývá iterace, kterých proběhne pro projití celého datasetu o N záznamech. Tj. počet iterací na dataset je N/n. Průchod celým trénovacím datasetem se nazývá epocha.  \n",
    "\n",
    "Toliko teorie. V Pytorchi je zrada v tom, že všechny tyto věci lze realizovat jedním optimizérem nazvaným SGD. Velikost batche se nastavuje jiným způsobem.  \n",
    "Když už mluvíme o optimizérech neboli věcech, které se starají o updatování vah, obyčejný gradient descent ukázaný výše je jen tím nejstarším z mnoha dalších, často mnohem mocnějších. Připomeňme si jeho vzorec: \n",
    "\n",
    "$w_{i}^{new} = w_{i}^{old} - \\alpha\\frac{\\partial L}{\\partial w_{i}^{old}}$  \n",
    "\n"
   ]
  },
  {
   "cell_type": "markdown",
   "metadata": {},
   "source": [
    "Zdůrazněme, že learning rate $\\alpha$ má pro všechny váhy stejnou hodnotu, což je jeden z důvodů proč by měly být prediktory normalizované.  \n",
    "V Pytorchi se SGD optimizér vytváří kódem\n",
    "```python\n",
    "optimizer = torch.optim.SGD(model.parameters(), lr=0.01)\n",
    "```\n",
    "Zde model je neuronová síť (viz popis kódu níže), *lr* značí learning rate."
   ]
  },
  {
   "cell_type": "markdown",
   "metadata": {},
   "source": [
    "Problém s čistým gradient descentem je v tom, že má tendenci se zaseknout v lokálních minimech. Řešením je věc zvaná momentum. To je v překladu hybnost, fakticky se to ale chová spíš jako setrvačnost. Změna vah díky němu je totiž závislá i na vzdálenější minulosti vah a to sice podle následujícího předpisu:  \n",
    "\n",
    "$w_{i}^{new} = w_{i}^{old} - \\alpha\\frac{\\partial L}{\\partial w_{i}^{old}} + \\mu(|w_{i}^{old}-w_{i}^{older}|)$  \n",
    "\n",
    "Zde $\\mu$ je momentum rate, ktere obvykle nabývá hodnot od 0,10 do 0,99, nejčastěji ale 0,9.  \n",
    "\n",
    "Jak tuto záležitost zrealizujeme v kódu? Použije se opět *SGD*, avšak přidá se parametr momentum (jeho defaultní hodnota je 0, tj. defautlně je u *SGD* vypnutý):\n",
    "```python\n",
    "optimizer = torch.optim.SGD(model.parameters(), lr=0.01, momentum=0.9)\n",
    "```\n",
    "\n",
    "Existuje ještě cosi nazvaného v originále Nesterov momentum. Zatímco u klasického momentu (fakt nechci používat termín hybnost) se nejprve spočítá gradient na stávající váze a váha se pak s jeho pomocí updatuje, u  Nesterova momentu se nejprve změní hodnota váhy (na základě starého gradientu) a gradient se přepočítá až posléze. Myšlenka by měla být taková, že se při tom koriguje případná chyba z první části. Obecně by mělo použítí Nestorova momentu vést k rychlejší konvergenci.  \n",
    "Nesterův moment se opět realizuje parametrem v *SGD*, který se nepřekvapivě jmenuje *nesterov* (defaultně je toto chování vypnuté, tj. parametr má hodnotu False).\n",
    "```python\n",
    "optimizer = torch.optim.SGD(model.parameters(), lr=0.01, momentum=0.9, nesterov=True)\n",
    "```\n",
    "\n",
    "Dalším optimizérem je *Adagrad* (adaptive gradient algorithm). Zatímco *SGD* má learning rate pro všechny váhy stejný, u Adagradu má každý prediktor svůj vlastní learning rate. Ten se navíc dynamicky mění. Je větší pro méně časté prediktory (myšleno binární prediktory, kde se převážně vyskytuje hodnota 0) a menší pro často se vyskytující prediktory. To znamená, že se Adagrad hodí na sparse matice (spjaté např. s NLP). Pokud se ptáte, co se děje pro prediktory se spojitými proměnnými... no, netuším :D. Každopádně vzoreček vypadá takto:  \n",
    "\n",
    "$w_{i}^{new} = w_{i}^{old} - \\frac{\\alpha}{\\sqrt{G_i+\\epsilon}}\\frac{\\partial L}{\\partial w_{i}^{old}}$  \n",
    "\n",
    "Zde G představuje sumu druhých mocnin gradientů z předchozích cyklů. Jelikož se jedná o druhé mocniny, jsou všechny kladné a G tak s časem monotóně roste. Nakonec se tak efektivní learning rate dostane do nuly, což znamená konec učení. Parametr $\\epsilon$ zde je kvůli tomu, aby na začátku nedošlo k dělení nulou.  \n",
    "Kód:  \n",
    "```python\n",
    "optimizer = torch.optim.Adagrad(model.parameters(), lr=0.01)\n",
    "```\n",
    "Parametr $\\epsilon$ (nazvaný *eps*) má defaultní hodnotu $10^{-10}$ a asi není důvod ho měnit.  \n",
    "\n",
    "Jiným známým optimizérem je *RMSProp* (root mean square propagation). Jedná se vlastně o rozšíření jiného optimizéru - rprop (resilient backpropagation). Ten se díval nikoli na velikost gradientu, ale pouze na jeho znaménko (de facto byl gradient normován svou absolutní hodnotou). Platilo navíc, že pokud bylo znaménko dva gradienty po sobě stejné, zvýšil se learning rate, v opačném případě došlo k jeho zmenšení. Problém s rprop byl v tom, že byl použitelný pro batch gradient descent, nikoli ale pro minibatche. Kdyby byl totiž gradient pro devět minibatchů +0.1 a pro desátý -0.9, learning rate by se značně zvětšil. Proto byl vymyšlen RMSProp, který funguje obdobně, avšak gradienty normuje odmocninou klouzavých průměrů jejich druhých mocnin. Tj. platí  \n",
    "\n",
    "$E_{i}^{old} = \\beta E_{i}^{older}+(1-\\beta)(\\frac{\\partial L}{\\partial w_{i}^{old}})^2 $  \n",
    "\n",
    "$w_{i}^{new} = w_{i}^{old} - \\frac{\\alpha}{\\sqrt{E_{i}^{old}+\\epsilon}}\\frac{\\partial L}{\\partial w_{i}^{old}}$  \n",
    "\n",
    "Kód:  \n",
    "```python\n",
    "optimizer = torch.optim.RMSprop(model.parameters(), lr=0.01)\n",
    "```\n",
    "Nepovinnými parametry jsou *alpha* (jedná se o betu ze vzorce výše :D) s defaultní hodnotou 0.99 a *eps*.  \n",
    "\n",
    "Posledním a asi nejdůležitějším optimizérem je Adam (aka adaptive moment estimation). Ten je zadefinován takto:  \n",
    "\n",
    "$m_{i}^{new} = \\beta_1 m_{i}^{old} + (1-\\beta_1)(\\frac{\\partial L}{\\partial w_{i}^{old}})$  \n",
    "$v_{i}^{new} = \\beta_2 m_{i}^{old} + (1-\\beta_2)(\\frac{\\partial L}{\\partial w_{i}^{old}})^2$  \n",
    "$w_{i}^{new} = w_{i}^{old} - \\frac{\\alpha m_{i}^{new}}{\\sqrt{v_{i}^{new} + \\epsilon}}$\n",
    "\n",
    "Kód:\n",
    "```python\n",
    "optimizer = torch.optim.Adam(model.parameters(), lr=0.01)\n",
    "```\n",
    "Jako nepovinný parametr tu je *betas* (defaultně *betas*=(0.9, 0.999)) a *eps* (defaultně *eps*=1e-08).\n",
    "\n",
    "Fakticky se asi dá říci, že pokud nemá člověk nějaký speciální důvod k tomu činit opak, měl by zvolit za optimizér právě Adama.\n"
   ]
  },
  {
   "cell_type": "markdown",
   "metadata": {},
   "source": [
    "### Dense síť v Pytorchi"
   ]
  },
  {
   "cell_type": "markdown",
   "metadata": {},
   "source": [
    "Přejděme nyní od teorie k praxi. Nejprve si ukážeme výseky kódu umístěné v \"nespustitelném\" textu, spustitelný kód bude následovat až posléze.  \n",
    "Začněme s architekturu neuronové sítě. Vytvoříme si nové třídy dědíci od *torch.nn.Module*. V konstruktoru si zadefinujeme jednotlivé prvky sítě coby atributy objektu. V metodě *forward* tyto prvky na sebe navážeme. Nakonec vytvoříme instanci sítě a přesuneme ji na vhodnou výpočetní lokaci.\n",
    "```python\n",
    "class NeuralNetwork(torch.nn.Module):\n",
    "    def __init__(self):\n",
    "        super(NeuralNetwork, self).__init__()\n",
    "        self.first_linear = torch.nn.Linear(4,6)\n",
    "        self.second_linear = torch.nn.Linear(6,3)\n",
    "        self.relu = torch.nn.ReLU()     \n",
    "\n",
    "    def forward(self, x):\n",
    "        x = self.first_linear(x)\n",
    "        x = self.relu(x)\n",
    "        x = self.second_linear(x)\n",
    "        return x\n",
    "\n",
    "device = \"cuda\" if torch.cuda.is_available() else \"cpu\"\n",
    "model = NeuralNetwork().to(device)\n",
    "```\n",
    "Následně zvolíme ztrátovou funkci a optimizér. Do konstruktoru optimizéru vstupuje *model.parameters()*. Tato metoda vrací generátor s věcmi, které bude optimizér ladit - tenzory s váhami a biasy.\n",
    "```python\n",
    "loss_function = torch.nn.CrossEntropyLoss()\n",
    "optimizer = torch.optim.SGD(model.parameters(), lr=1e-2)\n",
    "```\n",
    "Nyní je na čase specifikovat trénovací smyčku. Nejprve pošleme tenzor prediktorů i tenzor targetů do správné výpočetní lokace. Následně vypočteme predikci i ztrátu. Jelikož zde pracujeme v batchovém modu, tj. v rámci jedné iterace probereme celou epochu, je ztráta sumou ztrát přes všechny záznamy. Nyní musíme vynulovat uložené gradienty z předchozího učícího cyklu (*optimizer.zero_grad()*), na základě aktuální ztráty spočítat nové gradienty (*loss.backward()*) a s jejich pomocí aktualizovat váhy (*optimizer.step()*). Nakonec vezmeme ztrátu (z 1x1 tenzoru ji vyjmeme pomocí metody *item()*, vložíme ji do listu s ostatními trénovacími ztrátami a vytiskneme ji (na 8 platných cifer). Bacha - tato ztráta je průměrem ztrát přes všechny záznamy v (mini)batchi. Tj. její dělení velikostí minibatche povede k nesmyslnému číslu.\n",
    "```python\n",
    "def training_function(\n",
    "    predictors_train, target_train, model, \n",
    "    loss_function, optimizer, device, training_loss,\n",
    "    print_flag\n",
    "):\n",
    "    predictors_train = predictors_train.to(device) \n",
    "    target_train = target_train.to(device)\n",
    "        \n",
    "    prediction = model(predictors_train.float())\n",
    "    loss = loss_function(prediction, target_train)\n",
    "\n",
    "    optimizer.zero_grad()\n",
    "    loss.backward()\n",
    "    optimizer.step()\n",
    "\n",
    "    loss = loss.item()\n",
    "    training_loss.append(loss)\n",
    "    if print_flag:\n",
    "        print(f\"Training loss: {loss:>8f} \")\n",
    "```\n",
    "Následně si zadefinujeme testovací smyčku. Opět se na začátku přenášejí tenzory prediktorů i targetů na příslušný device. Následně se spočítá predikce, ztráta a počet správně predikovaných záznamů. To vše v kontextovém manageru *with torch.no_grad*. Tato konstrukce slouží k tomu, aby se vypnul výpočet gradientu, díky čemu celá oprerace klade menší nároky na paměť (koneckonců i kdybychom tady nějaký gradient spočítali, v trénovací smyčce se vynuluje). Nakonec si spočítáme accuracy, kterou i se ztrátou vytiskneme.  \n",
    "Pozn.: jelikož máme dataset, kde jsou všechny třídy stejnoměrně zastoupeny, není použití accuracy zas tak problematické. Samozřejmě pro ostré použití by to asi chtělo jinou metriku.\n",
    "```python\n",
    "def testing_function(\n",
    "    predictors_test, target_test, \n",
    "    model, loss_function, device, testing_loss,\n",
    "    print_flag\n",
    "):\n",
    "    predictors_test = predictors_test.to(device)\n",
    "    target_test = target_test.to(device)\n",
    "    \n",
    "    with torch.no_grad():\n",
    "        prediction = model(predictors_test.float())\n",
    "        test_loss = loss_function(prediction, target_test).item()\n",
    "        correct = (prediction.argmax(1) == target_test).type(torch.float).sum().item()\n",
    "\n",
    "    accuracy = correct/len(target_test)\n",
    "    testing_loss.append(test_loss)\n",
    "    if print_flag:\n",
    "        print(f\"Test Error: \\n Accuracy: {(100*accuracy):>0.1f}%, Loss: {test_loss:>8f} \\n\")\n",
    "```\n",
    "Nakonec musíme přidat smyčku, která bude v rámci každé epochy volat učící a testovací funkce.\n",
    "```python\n",
    "epochs = 1000\n",
    "training_loss = []\n",
    "testing_loss = []\n",
    "for epoch_index in range(epochs):\n",
    "    if (epoch_index+1)%100 == 0:\n",
    "        print_flag = True\n",
    "        print(f\"Epoch {epoch_index+1}\\n------------------------------------------------\")\n",
    "    else:\n",
    "        print_flag = False\n",
    "\n",
    "    training_function(\n",
    "        scaled_predictors_train_tensor, target_train_tensor, \n",
    "        model, loss_function, optimizer, device, training_loss,\n",
    "        print_flag\n",
    "    )\n",
    "    testing_function(\n",
    "        scaled_predictors_test_tensor, target_test_tensor, \n",
    "        model, loss_function, device, testing_loss,\n",
    "        print_flag\n",
    "    )\n",
    "print(\"Training has been completed.\")\n",
    "```\n",
    "A neměli bychom zapomenout na vykreslení grafu, abychom viděli, jestli náhodou nedošlo k overfitu.\n",
    "```python\n",
    "plt.plot(training_loss)\n",
    "plt.plot(testing_loss)\n",
    "plt.title(\"Comparison of training and testing loss\")\n",
    "plt.xlabel(\"Epoch number\")\n",
    "plt.ylabel(\"Loss\")\n",
    "plt.legend([\"train\", \"test\"]);\n",
    "```"
   ]
  },
  {
   "cell_type": "code",
   "execution_count": 6,
   "metadata": {
    "ExecuteTime": {
     "end_time": "2021-04-18T09:04:52.064322Z",
     "start_time": "2021-04-18T09:02:57.795272Z"
    }
   },
   "outputs": [
    {
     "name": "stdout",
     "output_type": "stream",
     "text": [
      "Epoch 100\n",
      "------------------------------------------------\n",
      "Training loss: 0.833411 \n",
      "Test Error: \n",
      " Accuracy: 56.7%, Loss: 0.931106\n",
      "\n",
      "Epoch 200\n",
      "------------------------------------------------\n",
      "Training loss: 0.670990 \n",
      "Test Error: \n",
      " Accuracy: 56.7%, Loss: 0.761044\n",
      "\n",
      "Epoch 300\n",
      "------------------------------------------------\n",
      "Training loss: 0.559931 \n",
      "Test Error: \n",
      " Accuracy: 56.7%, Loss: 0.642015\n",
      "\n",
      "Epoch 400\n",
      "------------------------------------------------\n",
      "Training loss: 0.481586 \n",
      "Test Error: \n",
      " Accuracy: 70.0%, Loss: 0.553599\n",
      "\n",
      "Epoch 500\n",
      "------------------------------------------------\n",
      "Training loss: 0.422764 \n",
      "Test Error: \n",
      " Accuracy: 80.0%, Loss: 0.482262\n",
      "\n",
      "Epoch 600\n",
      "------------------------------------------------\n",
      "Training loss: 0.375264 \n",
      "Test Error: \n",
      " Accuracy: 90.0%, Loss: 0.422229\n",
      "\n",
      "Epoch 700\n",
      "------------------------------------------------\n",
      "Training loss: 0.336326 \n",
      "Test Error: \n",
      " Accuracy: 93.3%, Loss: 0.371211\n",
      "\n",
      "Epoch 800\n",
      "------------------------------------------------\n",
      "Training loss: 0.304486 \n",
      "Test Error: \n",
      " Accuracy: 93.3%, Loss: 0.328865\n",
      "\n",
      "Epoch 900\n",
      "------------------------------------------------\n",
      "Training loss: 0.277990 \n",
      "Test Error: \n",
      " Accuracy: 93.3%, Loss: 0.294194\n",
      "\n",
      "Epoch 1000\n",
      "------------------------------------------------\n",
      "Training loss: 0.255645 \n",
      "Test Error: \n",
      " Accuracy: 93.3%, Loss: 0.265899\n",
      "\n",
      "Training has been completed.\n"
     ]
    },
    {
     "data": {
      "image/png": "[encoded data removed]",
      "text/plain": [
       "<Figure size 432x288 with 1 Axes>"
      ]
     },
     "metadata": {
      "needs_background": "light"
     },
     "output_type": "display_data"
    }
   ],
   "source": [
    "class NeuralNetwork(torch.nn.Module):\n",
    "    def __init__(self):\n",
    "        super(NeuralNetwork, self).__init__()\n",
    "        self.first_linear = torch.nn.Linear(4,6)\n",
    "        self.second_linear = torch.nn.Linear(6,3)\n",
    "        self.relu = torch.nn.ReLU()     \n",
    "\n",
    "    def forward(self, x):\n",
    "        x = self.first_linear(x)\n",
    "        x = self.relu(x)\n",
    "        x = self.second_linear(x)\n",
    "        return x\n",
    "\n",
    "def training_function(\n",
    "    predictors_train, target_train, model, \n",
    "    loss_function, optimizer, device, training_loss,\n",
    "    print_flag\n",
    "):\n",
    "    predictors_train = predictors_train.to(device) \n",
    "    target_train = target_train.to(device)\n",
    "        \n",
    "    prediction = model(predictors_train.float())\n",
    "    loss = loss_function(prediction, target_train)\n",
    "\n",
    "    optimizer.zero_grad()\n",
    "    loss.backward()\n",
    "    optimizer.step()\n",
    "\n",
    "    loss = loss.item()\n",
    "    training_loss.append(loss)\n",
    "    if print_flag:\n",
    "        print(f\"Training loss: {loss:>8f} \")\n",
    "\n",
    "def testing_function(\n",
    "    predictors_test, target_test, \n",
    "    model, loss_function, device, testing_loss,\n",
    "    print_flag\n",
    "):\n",
    "    predictors_test = predictors_test.to(device)\n",
    "    target_test = target_test.to(device)\n",
    "    \n",
    "    \n",
    "    with torch.no_grad():\n",
    "        prediction = model(predictors_test.float())\n",
    "        test_loss = loss_function(prediction, target_test).item()\n",
    "        correct = (prediction.argmax(1) == target_test).type(torch.float).sum().item()\n",
    "\n",
    "    accuracy = correct/len(target_test)\n",
    "    testing_loss.append(test_loss)\n",
    "    if print_flag:\n",
    "        print(f\"Test Error: \\n Accuracy: {(100*accuracy):>0.1f}%, Loss: {test_loss:>8f}\\n\")\n",
    "\n",
    "device = \"cuda\" if torch.cuda.is_available() else \"cpu\"\n",
    "model = NeuralNetwork().to(device)\n",
    "loss_function = torch.nn.CrossEntropyLoss()\n",
    "optimizer = torch.optim.SGD(model.parameters(), lr=1e-2)\n",
    "\n",
    "epochs = 1000\n",
    "training_loss = []\n",
    "testing_loss = []\n",
    "for epoch_index in range(epochs):\n",
    "    if (epoch_index+1)%100 == 0:\n",
    "        print_flag = True\n",
    "        print(f\"Epoch {epoch_index+1}\\n------------------------------------------------\")\n",
    "    else:\n",
    "        print_flag = False\n",
    "    training_function(\n",
    "        scaled_predictors_train_tensor, \n",
    "        target_train_tensor, model, \n",
    "        loss_function, optimizer, device, training_loss,\n",
    "        print_flag\n",
    "    )\n",
    "    testing_function(\n",
    "        scaled_predictors_test_tensor, \n",
    "        target_test_tensor, \n",
    "        model, loss_function, device, testing_loss,\n",
    "        print_flag\n",
    "    )\n",
    "print(\"Training has been completed.\")\n",
    "plt.plot(training_loss)\n",
    "plt.plot(testing_loss)\n",
    "plt.title(\"Comparison of training and testing loss\")\n",
    "plt.xlabel(\"Epoch number\")\n",
    "plt.ylabel(\"Loss\")\n",
    "plt.legend([\"train\", \"test\"]);"
   ]
  },
  {
   "cell_type": "markdown",
   "metadata": {},
   "source": [
    "Když budeme chtít separátně predikovat jeden záznam:"
   ]
  },
  {
   "cell_type": "code",
   "execution_count": 138,
   "metadata": {
    "ExecuteTime": {
     "end_time": "2021-04-06T20:17:03.098630Z",
     "start_time": "2021-04-06T20:17:03.083702Z"
    }
   },
   "outputs": [
    {
     "data": {
      "text/plain": [
       "tensor([[9.9962e-01, 3.5742e-04, 2.1419e-05]], grad_fn=<SoftmaxBackward>)"
      ]
     },
     "execution_count": 138,
     "metadata": {},
     "output_type": "execute_result"
    }
   ],
   "source": [
    "one_flower_data = [[5.1, 3.5, 1.4, 0.2]]\n",
    "one_flower_data_scaled = scaler_standard.transform(one_flower_data)\n",
    "model(torch.tensor(one_flower_data_scaled, dtype=torch.float))"
   ]
  },
  {
   "cell_type": "markdown",
   "metadata": {},
   "source": [
    "Vidíme tedy, že záznam patří do třídy nula."
   ]
  },
  {
   "cell_type": "markdown",
   "metadata": {
    "ExecuteTime": {
     "end_time": "2021-04-06T20:19:50.228197Z",
     "start_time": "2021-04-06T20:19:50.218683Z"
    }
   },
   "source": [
    "Pokud chceme vidět hodnoty natrénovaných vah a biasů, musíme iterovat skrze *model.parameters()*. Popořadě vidíme tensor s váhami mezi vstupní a skrytou vrstvou (počet sloupců odpovídá počtu neuronů na vstupu, počet řádků počtu neuronů v skryté vrstvě), biasy neuronů skryté vrstvy, váhy pro přenos dat ze skryté vrstvy do vrstvy výstupní a nakonec biasy neuronů výstupní vrstvy."
   ]
  },
  {
   "cell_type": "code",
   "execution_count": 151,
   "metadata": {
    "ExecuteTime": {
     "end_time": "2021-04-06T20:19:14.405373Z",
     "start_time": "2021-04-06T20:19:14.378352Z"
    }
   },
   "outputs": [
    {
     "name": "stdout",
     "output_type": "stream",
     "text": [
      "tensor([[-0.6802,  0.9106, -1.2377, -0.8025],\n",
      "        [ 0.3611,  0.2494, -1.0059, -1.2421],\n",
      "        [-0.1037, -0.5822,  0.0942, -0.5350],\n",
      "        [-0.3903,  0.2221,  0.0998,  0.4802],\n",
      "        [ 0.4602, -0.5523,  1.1910,  0.9661],\n",
      "        [-0.1081,  0.0972, -0.0771, -0.3260]])\n",
      "tensor([0.5124, 2.1203, 0.2244, 0.2276, 0.7244, 0.0303])\n",
      "tensor([[ 1.2981,  0.6153,  0.0262, -0.3483, -1.2300,  0.2722],\n",
      "        [-1.1254,  1.2054,  0.3833, -0.4465, -0.1897, -0.2362],\n",
      "        [-0.7292, -2.2703, -0.4741,  0.0066,  1.3413, -0.2339]])\n",
      "tensor([-1.2878,  0.6663,  0.2144])\n"
     ]
    }
   ],
   "source": [
    "for param in model.parameters():\n",
    "    print(param.data)"
   ]
  },
  {
   "cell_type": "markdown",
   "metadata": {},
   "source": [
    "### Minibatch  \n",
    "V sekci výše jsme pracovali v batchovém modu, tj. váhy se updatovaly až po projití všech trénovacích záznamů. V praxi je ale lepší použití minibatche, kdy update probíhá na základě (a po napočítání) n trénovacích záznamů. Člověk by si sice mohl celou kódovou infrastukturu postavit sám, ale lepší bude využít možností, které Pytorch nabízí. Konkrétně se jedná o objekty typiu Dataset a Dataloader.  \n",
    "Nejprve se vytvoří potomek *torch.utils.data.Dataset*. Ten by měl mít implementované následující metody: *\\_\\_init\\_\\_*, *\\_\\_len\\_\\_* a *\\_\\_getitem\\_\\_*. V příkladu níže v rámci konstruktoru do instance vkládáme jak trénovací prediktory, tak trénovací targety. To asi můžeme dovolit v příkladu s kosatci, nicméně pro normální úlohy by se to mohlo ukázat nevhodné a vlastně jdoucí proti smyslu Datasetu. Například kdybychom řešili problém klasifikace obrázků, tak bude lepší v rámci initu vytvořit slovník mapující index obrázku na jeho lokaci na disku než ty obrázky na stejném místě všechny najednou načítat. Na metodě *len* asi není co vysvětlovat, getitem by měl vracet jeden záznam (i když chceme minibatch o více záznamech).\n",
    "```python\n",
    "class IrisDataset(torch.utils.data.Dataset):\n",
    "  def __init__(self, predictors, targets):      \n",
    "        self.predictors = predictors\n",
    "        self.targets = targets\n",
    "\n",
    "  def __len__(self):\n",
    "        return len(self.targets)\n",
    "\n",
    "  def __getitem__(self, index):\n",
    "        one_record_predictors = self.predictors[index]\n",
    "        one_record_target = self.targets[index]\n",
    "        return one_record_predictors, one_record_target\n",
    "```\n",
    "Následně se musí vytvořit instance DataLoaderu (*torch.utils.data.DataLoader*). Zde už není třeba žádné dědění, ale klasické volání:\n",
    "```python\n",
    "loader = torch.utils.data.DataLoader(iris_dataset, batch_size=9, shuffle=True, pin_memory=True)\n",
    "```\n",
    "Prvním argumentem DataLoaderu je instance datasetu, kterým chceme procházet. Následuje velikost minibatche - *batch_size*. Pokud není celkový počet záznamů v trénovací množině dělitelný *batch_size*, tak holt bude poslední minimabatch o něco menší než ty ostatní. Parametr *shuffle* říká, zda mají být data z datasetu brána náhodně nebo podle svého původního pořadí. Pro získání robustnějšího modelu je lepší, když bude pořadí náhodné. Proto bacha - defaultní hodnota *shuffle* je False. Nakonec tu máme parametr *pin_memory*. Ten urychlí případný přenos tenzorů na GPU (pakliže jsme přenos nerealizovali třeba v rámci Datasetu a opravdu plánujeme GPU použít).  \n",
    "Pro případ, že bychom se asi hlavně kvůli sanity checku chtěli podívat na podobu první batche z dataloaderu, použijeme *next(iter(loader_train))*. Nicméně poté by bylo záhodno dataloader znovu inicializovat, aby nám spotřebovaná iterace nechyběla.   \n",
    "Pakliže zapracujeme Dataset a Dataloader do předchozího kosatcového příkladu, bude to vypadat následovně:"
   ]
  },
  {
   "cell_type": "code",
   "execution_count": 10,
   "metadata": {
    "ExecuteTime": {
     "end_time": "2021-04-18T15:55:46.777707Z",
     "start_time": "2021-04-18T15:55:38.684948Z"
    }
   },
   "outputs": [
    {
     "name": "stdout",
     "output_type": "stream",
     "text": [
      "Epoch 100\n",
      "------------------------------------------------\n",
      "Training loss: 0.587415 \n",
      "Test Error: \n",
      " Accuracy: 73.3%, Loss: 0.616483\n",
      "\n",
      "Epoch 200\n",
      "------------------------------------------------\n",
      "Training loss: 0.432243 \n",
      "Test Error: \n",
      " Accuracy: 86.7%, Loss: 0.458482\n",
      "\n",
      "Epoch 300\n",
      "------------------------------------------------\n",
      "Training loss: 0.331106 \n",
      "Test Error: \n",
      " Accuracy: 90.0%, Loss: 0.330256\n",
      "\n",
      "Epoch 400\n",
      "------------------------------------------------\n",
      "Training loss: 0.173413 \n",
      "Test Error: \n",
      " Accuracy: 96.7%, Loss: 0.232739\n",
      "\n",
      "Epoch 500\n",
      "------------------------------------------------\n",
      "Training loss: 0.116496 \n",
      "Test Error: \n",
      " Accuracy: 96.7%, Loss: 0.172618\n",
      "\n",
      "Epoch 600\n",
      "------------------------------------------------\n",
      "Training loss: 0.119003 \n",
      "Test Error: \n",
      " Accuracy: 96.7%, Loss: 0.137046\n",
      "\n",
      "Epoch 700\n",
      "------------------------------------------------\n",
      "Training loss: 0.155070 \n",
      "Test Error: \n",
      " Accuracy: 96.7%, Loss: 0.113805\n",
      "\n",
      "Epoch 800\n",
      "------------------------------------------------\n",
      "Training loss: 0.094723 \n",
      "Test Error: \n",
      " Accuracy: 96.7%, Loss: 0.097368\n",
      "\n",
      "Epoch 900\n",
      "------------------------------------------------\n",
      "Training loss: 0.075397 \n",
      "Test Error: \n",
      " Accuracy: 96.7%, Loss: 0.085097\n",
      "\n",
      "Epoch 1000\n",
      "------------------------------------------------\n",
      "Training loss: 0.135764 \n",
      "Test Error: \n",
      " Accuracy: 96.7%, Loss: 0.075827\n",
      "\n",
      "Training has been completed.\n"
     ]
    },
    {
     "data": {
      "image/png": "[encoded data removed]",
      "text/plain": [
       "<Figure size 432x288 with 1 Axes>"
      ]
     },
     "metadata": {
      "needs_background": "light"
     },
     "output_type": "display_data"
    }
   ],
   "source": [
    "class IrisDataset(torch.utils.data.Dataset):\n",
    "    def __init__(self, predictors, targets):      \n",
    "        self.predictors = predictors\n",
    "        self.targets = targets\n",
    "\n",
    "    def __len__(self):\n",
    "        return len(self.targets)\n",
    "\n",
    "    def __getitem__(self, index):\n",
    "        one_record_predictors = self.predictors[index]\n",
    "        one_record_target = self.targets[index]\n",
    "        return one_record_predictors, one_record_target\n",
    "\n",
    "class NeuralNetwork(torch.nn.Module):\n",
    "    def __init__(self):\n",
    "        super(NeuralNetwork, self).__init__()\n",
    "        self.first_linear = torch.nn.Linear(4,6)\n",
    "        self.second_linear = torch.nn.Linear(6,3)\n",
    "        self.relu = torch.nn.ReLU()     \n",
    "\n",
    "    def forward(self, x):\n",
    "        x = self.first_linear(x)\n",
    "        x = self.relu(x)\n",
    "        x = self.second_linear(x)\n",
    "        return x\n",
    "\n",
    "def training_function(\n",
    "    predictors_train, target_train, model, \n",
    "    loss_function, optimizer, device, training_loss,\n",
    "    print_flag\n",
    "):\n",
    "    predictors_train = predictors_train.to(device) \n",
    "    target_train = target_train.to(device)\n",
    "        \n",
    "    prediction = model(predictors_train.float())\n",
    "    loss = loss_function(prediction, target_train)\n",
    "\n",
    "    optimizer.zero_grad()\n",
    "    loss.backward()\n",
    "    optimizer.step()\n",
    "\n",
    "    loss = loss.item()\n",
    "    training_loss.append(loss)\n",
    "    if print_flag:\n",
    "        print(f\"Training loss: {loss:>8f} \")\n",
    "\n",
    "def testing_function(\n",
    "    predictors_test, target_test, \n",
    "    model, loss_function, device, testing_loss,\n",
    "    print_flag\n",
    "):\n",
    "    predictors_test = predictors_test.to(device)\n",
    "    target_test = target_test.to(device)\n",
    "    \n",
    "    \n",
    "    with torch.no_grad():\n",
    "        prediction = model(predictors_test.float())\n",
    "        test_loss = loss_function(prediction, target_test).item()\n",
    "        correct = (prediction.argmax(1) == target_test).type(torch.float).sum().item()\n",
    "\n",
    "    accuracy = correct/len(target_test)\n",
    "    testing_loss.append(test_loss)\n",
    "    if print_flag:\n",
    "        print(f\"Test Error: \\n Accuracy: {(100*accuracy):>0.1f}%, Loss: {test_loss:>8f}\\n\")\n",
    "\n",
    "device = \"cuda\" if torch.cuda.is_available() else \"cpu\"\n",
    "model = NeuralNetwork().to(device)\n",
    "loss_function = torch.nn.CrossEntropyLoss()\n",
    "optimizer = torch.optim.SGD(model.parameters(), lr=1e-2)\n",
    "\n",
    "iris_dataset = IrisDataset(scaled_predictors_train_tensor, target_train_tensor)\n",
    "loader = torch.utils.data.DataLoader(iris_dataset, batch_size=30, shuffle=True, pin_memory=True)\n",
    "\n",
    "epochs = 1000\n",
    "training_loss = []\n",
    "testing_loss = []\n",
    "for epoch_index in range(epochs):\n",
    "    for batch_index, batch in enumerate(loader):\n",
    "        if ((epoch_index+1)%100 == 0) and batch_index == 3:\n",
    "            print_flag = True\n",
    "            print(f\"Epoch {epoch_index+1}\\n------------------------------------------------\")\n",
    "        else:\n",
    "            print_flag = False\n",
    "        training_function(\n",
    "            batch[0], \n",
    "            batch[1], model, \n",
    "            loss_function, optimizer, device, training_loss,\n",
    "            print_flag\n",
    "        )\n",
    "        testing_function(\n",
    "            scaled_predictors_test_tensor, \n",
    "            target_test_tensor, \n",
    "            model, loss_function, device, testing_loss,\n",
    "            print_flag\n",
    "        )\n",
    "print(\"Training has been completed.\")\n",
    "plt.plot(training_loss)\n",
    "plt.plot(testing_loss)\n",
    "plt.title(\"Comparison of training and testing loss\")\n",
    "plt.xlabel(\"Iteration number\")\n",
    "plt.ylabel(\"Loss\")\n",
    "plt.legend([\"train\", \"test\"]);"
   ]
  },
  {
   "cell_type": "markdown",
   "metadata": {},
   "source": [
    "### Dense síť a obrázky\n",
    "Podívejme se nyní na něco lehce pokročilejšího - zkusme v pomocí dense neuronové sítě provést klasifikaci obrázků z MNIST datasetu. Ten se skládá z jednobarevných obrázků o rozměrech 28x28 pixelů, na kterých jsou rukou psané číslice od 0 do 9.  \n",
    "Nejprve se musíme nějak k datům dostat. Pro jednoduchost vezměme zavděk MNIST datasetu přibalenému v rámci *torchvision*, konkrétně výstupem funkce *torchvision.datasets.MNIST*. Prvním parametrem této funkce je místo, kde má Pytorch obrázková data hledat, resp. kam je má při parametru *download=True* z internetu stáhnout. Tento údaj nemá defaultní hodnotu, tj. člověk zde opravdu musí specifikovat adresář a nemůže se spoléhat na to, že se mu stáhnutá data uloží někde v jeho user adresáři. Bacha na relativní adresy a zpětná lomítka - když napíšete *root=\"/torch_mnist_files/\"*, tak se Vám i na Windowsech data dostanou do rootu, tj. vytvoří se adresář C:\\torch_mnist_files. Pokud tedy chcete vytvořit adresář v homu Jupyteru, musíte psát *root=\"torch_mnist_files/\"*. Též je vhodné uvést parametr *train* (hodnoty True/False). Ten udává, zda se má v rámci volání funkce vrátit dataset s trénovacími či s testovacími daty.  \n",
    "BACHA - pokud člověk nemá nainstalovaný balíček *ipywidgets* (*pip install ipywidgets*), tak funkce MNIST (minimálně při spouštění v Jupyteru) spadne."
   ]
  },
  {
   "cell_type": "code",
   "execution_count": 2,
   "metadata": {
    "ExecuteTime": {
     "end_time": "2021-05-16T14:19:34.328742Z",
     "start_time": "2021-05-16T14:19:33.108010Z"
    }
   },
   "outputs": [],
   "source": [
    "dataset_train = torchvision.datasets.MNIST(root=\"torch_mnist_files/\", download=True, train=True)\n",
    "dataset_test = torchvision.datasets.MNIST(root=\"torch_mnist_files/\", download=True, train=False)"
   ]
  },
  {
   "cell_type": "markdown",
   "metadata": {},
   "source": [
    "Vidíme, že v trénovacím datasetu je 60 000 záznamů, v testovacím 10 000."
   ]
  },
  {
   "cell_type": "code",
   "execution_count": 3,
   "metadata": {
    "ExecuteTime": {
     "end_time": "2021-05-16T14:19:35.088377Z",
     "start_time": "2021-05-16T14:19:35.068280Z"
    }
   },
   "outputs": [
    {
     "data": {
      "text/plain": [
       "Dataset MNIST\n",
       "    Number of datapoints: 60000\n",
       "    Root location: torch_mnist_files/\n",
       "    Split: Train"
      ]
     },
     "execution_count": 3,
     "metadata": {},
     "output_type": "execute_result"
    }
   ],
   "source": [
    "dataset_train"
   ]
  },
  {
   "cell_type": "code",
   "execution_count": 4,
   "metadata": {
    "ExecuteTime": {
     "end_time": "2021-05-16T14:19:36.077952Z",
     "start_time": "2021-05-16T14:19:36.023312Z"
    }
   },
   "outputs": [
    {
     "data": {
      "text/plain": [
       "Dataset MNIST\n",
       "    Number of datapoints: 10000\n",
       "    Root location: torch_mnist_files/\n",
       "    Split: Test"
      ]
     },
     "execution_count": 4,
     "metadata": {},
     "output_type": "execute_result"
    }
   ],
   "source": [
    "dataset_test"
   ]
  },
  {
   "cell_type": "markdown",
   "metadata": {},
   "source": [
    "Co prvek datasetu, co tuple dvou věcí - obrázku a třídy"
   ]
  },
  {
   "cell_type": "code",
   "execution_count": 5,
   "metadata": {
    "ExecuteTime": {
     "end_time": "2021-05-16T14:19:38.398362Z",
     "start_time": "2021-05-16T14:19:37.608229Z"
    }
   },
   "outputs": [
    {
     "data": {
      "text/plain": [
       "(<PIL.Image.Image image mode=L size=28x28 at 0x1BAC873CF88>, 5)"
      ]
     },
     "execution_count": 5,
     "metadata": {},
     "output_type": "execute_result"
    }
   ],
   "source": [
    "dataset_train[0]"
   ]
  },
  {
   "cell_type": "markdown",
   "metadata": {},
   "source": [
    "A opravdu se jedná o obrázek - dotaz na typ vrátí PIL.Image.Image."
   ]
  },
  {
   "cell_type": "code",
   "execution_count": 6,
   "metadata": {
    "ExecuteTime": {
     "end_time": "2021-05-16T14:19:39.028049Z",
     "start_time": "2021-05-16T14:19:38.548312Z"
    }
   },
   "outputs": [
    {
     "data": {
      "image/png": "[encoded data removed]",
      "text/plain": [
       "<PIL.Image.Image image mode=L size=28x28 at 0x1BAC88FEAC8>"
      ]
     },
     "execution_count": 6,
     "metadata": {},
     "output_type": "execute_result"
    }
   ],
   "source": [
    "dataset_train[0][0]"
   ]
  },
  {
   "cell_type": "markdown",
   "metadata": {},
   "source": [
    "Máme tady tedy obrázek (objekt typu PIL.Image.Image), ale pro dense neuronovou síť bychom potřebovali jednorozměrný vektor. Hypoteticky bychom mohli obrázek převést na numerické pole pomocí funkce *asarray* funkci z balíčku numpy. Výsledek bychom měli dále podělit 255, aby čísla ležela v intervalu mezi nulou a jedničkou. Následoval by převod na teznor a přetvoření 2D matice 28x28 na 1D vektor o délce 784. "
   ]
  },
  {
   "cell_type": "code",
   "execution_count": 7,
   "metadata": {
    "ExecuteTime": {
     "end_time": "2021-05-16T14:19:40.578504Z",
     "start_time": "2021-05-16T14:19:39.883150Z"
    }
   },
   "outputs": [
    {
     "data": {
      "text/plain": [
       "torch.Size([784])"
      ]
     },
     "execution_count": 7,
     "metadata": {},
     "output_type": "execute_result"
    }
   ],
   "source": [
    "import numpy as np\n",
    "figure_as_array = np.asarray(dataset_train[0][0])/255\n",
    "figure_as_tensor = torch.tensor(figure_as_array)\n",
    "figure_as_1D_tensor = torch.squeeze(figure_as_tensor.view(784,-1))\n",
    "figure_as_1D_tensor.shape"
   ]
  },
  {
   "cell_type": "markdown",
   "metadata": {},
   "source": [
    "Nešlo by to ale nějak elegantněji? Inu, v *torchvision* existuje třída (opravdu třída, nikoli funkce) ToTensor, která vezme PIL obrázek či numpoidní pole, znormalizuje ho (dělením maximální hodnotou 255) a převede na tenzor. Převod do 1D si tu už pravda musíme zajistit sami."
   ]
  },
  {
   "cell_type": "code",
   "execution_count": 8,
   "metadata": {
    "ExecuteTime": {
     "end_time": "2021-05-16T14:19:41.578239Z",
     "start_time": "2021-05-16T14:19:41.548007Z"
    }
   },
   "outputs": [
    {
     "data": {
      "text/plain": [
       "torch.Size([784])"
      ]
     },
     "execution_count": 8,
     "metadata": {},
     "output_type": "execute_result"
    }
   ],
   "source": [
    "to_tensor_instance = torchvision.transforms.ToTensor()\n",
    "figure_as_tensor = to_tensor_instance(dataset_train[0][0])\n",
    "figure_as_1D_tensor = torch.squeeze(figure_as_tensor.view(784,-1))\n",
    "figure_as_1D_tensor.shape"
   ]
  },
  {
   "cell_type": "markdown",
   "metadata": {},
   "source": [
    "OK, výsledek vypadá o něco líp, ale pořád je to takové nešikovné. Existuje elegantnější cesta, která využívá jeden z parametrů Datasetu - *transform*. Ten se položí rovný nějaké funkci a tato funkce bude uplatňována na každý prvek z datasetu přebíraný.  \n",
    "Pokud se ptáte, proč má první prvek z dataset_trainu rozměry [1,28,28], tak je to počet barevných channelů (kanálů - u šedého obrázku je jen jeden, u barevného obrázku 3) a výška s šířkou."
   ]
  },
  {
   "cell_type": "code",
   "execution_count": 9,
   "metadata": {
    "ExecuteTime": {
     "end_time": "2021-05-16T14:19:43.314674Z",
     "start_time": "2021-05-16T14:19:43.248379Z"
    }
   },
   "outputs": [
    {
     "data": {
      "text/plain": [
       "torch.Size([1, 28, 28])"
      ]
     },
     "execution_count": 9,
     "metadata": {},
     "output_type": "execute_result"
    }
   ],
   "source": [
    "dataset_train = torchvision.datasets.MNIST(\n",
    "    root=\"torch_mnist_files/\", download=True, train=True, \n",
    "    transform=torchvision.transforms.ToTensor()\n",
    "    )\n",
    "dataset_test = torchvision.datasets.MNIST(\n",
    "    root=\"torch_mnist_files/\", download=True, train=False,\n",
    "    transform=torchvision.transforms.ToTensor()\n",
    "    )\n",
    "\n",
    "dataset_train[0][0].shape"
   ]
  },
  {
   "cell_type": "markdown",
   "metadata": {},
   "source": [
    "Pakliže člověk potřebuje na sebe napojit několik transformací, musí použít *torchvision.transforms.Compose*."
   ]
  },
  {
   "cell_type": "code",
   "execution_count": 10,
   "metadata": {
    "ExecuteTime": {
     "end_time": "2021-05-16T14:19:45.758349Z",
     "start_time": "2021-05-16T14:19:45.548088Z"
    }
   },
   "outputs": [
    {
     "data": {
      "text/plain": [
       "torch.Size([784])"
      ]
     },
     "execution_count": 10,
     "metadata": {},
     "output_type": "execute_result"
    }
   ],
   "source": [
    "dataset_train = torchvision.datasets.MNIST(\n",
    "    root=\"torch_mnist_files/\", download=True, train=True, \n",
    "    transform=torchvision.transforms.Compose([\n",
    "        torchvision.transforms.ToTensor(),\n",
    "        torchvision.transforms.Lambda(lambda x: torch.squeeze(x.view(784,-1)))\n",
    "        ])\n",
    "    )\n",
    "dataset_test = torchvision.datasets.MNIST(\n",
    "    root=\"torch_mnist_files/\", download=True, train=False,\n",
    "    transform=torchvision.transforms.Compose([\n",
    "        torchvision.transforms.ToTensor(),\n",
    "        torchvision.transforms.Lambda(lambda x: torch.squeeze(x.view(784,-1)))\n",
    "        ])\n",
    "    )\n",
    "\n",
    "dataset_train[0][0].shape"
   ]
  },
  {
   "cell_type": "markdown",
   "metadata": {},
   "source": [
    "Zjednorozměrnění tenzoru lze dosáhnout nejen s pomocí *torch.squeeze(x.view(784,-1))*, ale i s *torch.flatten(x)*."
   ]
  },
  {
   "cell_type": "code",
   "execution_count": 18,
   "metadata": {
    "ExecuteTime": {
     "end_time": "2021-04-24T08:42:49.856639Z",
     "start_time": "2021-04-24T08:42:49.806988Z"
    },
    "scrolled": true
   },
   "outputs": [
    {
     "data": {
      "text/plain": [
       "torch.Size([784])"
      ]
     },
     "execution_count": 18,
     "metadata": {},
     "output_type": "execute_result"
    }
   ],
   "source": [
    "dataset_train = torchvision.datasets.MNIST(\n",
    "    root=\"torch_mnist_files/\", download=True, train=True, \n",
    "    transform=torchvision.transforms.Compose([\n",
    "        torchvision.transforms.ToTensor(),\n",
    "        torchvision.transforms.Lambda(lambda x: torch.flatten(x))\n",
    "        ])\n",
    "    )\n",
    "dataset_test = torchvision.datasets.MNIST(\n",
    "    root=\"torch_mnist_files/\", download=True, train=False,\n",
    "    transform=torchvision.transforms.Compose([\n",
    "        torchvision.transforms.ToTensor(),\n",
    "        torchvision.transforms.Lambda(lambda x: torch.flatten(x))\n",
    "        ])\n",
    "    )\n",
    "\n",
    "dataset_train[0][0].shape"
   ]
  },
  {
   "cell_type": "markdown",
   "metadata": {},
   "source": [
    "V předchozím příkladě jsme celý testovací dataset vyhodnocovali najednou. Nicméně i ten může být stejně jako trénovací dataset příliš velký a tak se musí brát po minibatchích."
   ]
  },
  {
   "cell_type": "code",
   "execution_count": 11,
   "metadata": {
    "ExecuteTime": {
     "end_time": "2021-05-16T14:19:53.408301Z",
     "start_time": "2021-05-16T14:19:53.378416Z"
    }
   },
   "outputs": [],
   "source": [
    "loader_train = torch.utils.data.DataLoader(dataset_train, batch_size=128, shuffle=True, pin_memory=True)\n",
    "loader_test = torch.utils.data.DataLoader(dataset_test, batch_size=1000, shuffle=True, pin_memory=True)"
   ]
  },
  {
   "cell_type": "markdown",
   "metadata": {},
   "source": [
    "Následuje samotný kód s vytvořením a trénováním neuronové sítě. Možná Vás zarazí, proč je na druhém grafu nižší pro testovací data menší ztráta než pro data trénovací. To je dáno skutečností, že k vyhodnocení testovacích dat dojde v rámci dané epochy až poté, co proběhne trénování s průběžným zachycováním trénovací ztráty. Tj. fakticky testovací data vidí lepší model, než většina trénovacích dat. "
   ]
  },
  {
   "cell_type": "code",
   "execution_count": 12,
   "metadata": {
    "ExecuteTime": {
     "end_time": "2021-05-16T14:21:32.551461Z",
     "start_time": "2021-05-16T14:19:58.098478Z"
    }
   },
   "outputs": [
    {
     "name": "stdout",
     "output_type": "stream",
     "text": [
      "Epoch 1\n",
      "----------------------------------------\n",
      "Avg. loss per record - train: 0.5144125097977327\n",
      "Avg. loss per record - test: 0.282414086163044\n",
      "Correct predictions in current epoch: 9190.0\n",
      "Avg. test accuracy: 0.919\n",
      "\n",
      "Epoch 2\n",
      "----------------------------------------\n",
      "Avg. loss per record - train: 0.2622159062259233\n",
      "Avg. loss per record - test: 0.22650277465581894\n",
      "Correct predictions in current epoch: 9361.0\n",
      "Avg. test accuracy: 0.936\n",
      "\n",
      "Epoch 3\n",
      "----------------------------------------\n",
      "Avg. loss per record - train: 0.2088568624116973\n",
      "Avg. loss per record - test: 0.18904304653406143\n",
      "Correct predictions in current epoch: 9420.0\n",
      "Avg. test accuracy: 0.942\n",
      "\n",
      "Epoch 4\n",
      "----------------------------------------\n",
      "Avg. loss per record - train: 0.169425891803653\n",
      "Avg. loss per record - test: 0.15578586459159852\n",
      "Correct predictions in current epoch: 9549.0\n",
      "Avg. test accuracy: 0.955\n",
      "\n",
      "Epoch 5\n",
      "----------------------------------------\n",
      "Avg. loss per record - train: 0.14322960639654447\n",
      "Avg. loss per record - test: 0.13777597695589067\n",
      "Correct predictions in current epoch: 9595.0\n",
      "Avg. test accuracy: 0.960\n",
      "\n",
      "Training has been completed.\n"
     ]
    },
    {
     "data": {
      "image/png": "[encoded data removed]",
      "text/plain": [
       "<Figure size 432x288 with 1 Axes>"
      ]
     },
     "metadata": {
      "needs_background": "light"
     },
     "output_type": "display_data"
    },
    {
     "data": {
      "image/png": "[encoded data removed]",
      "text/plain": [
       "<Figure size 432x288 with 1 Axes>"
      ]
     },
     "metadata": {
      "needs_background": "light"
     },
     "output_type": "display_data"
    }
   ],
   "source": [
    "class NeuralNetwork(torch.nn.Module):\n",
    "    def __init__(self):\n",
    "        super(NeuralNetwork, self).__init__()\n",
    "        self.first_linear = torch.nn.Linear(784,50)\n",
    "        self.second_linear = torch.nn.Linear(50,10)\n",
    "        self.relu = torch.nn.ReLU()     \n",
    "\n",
    "    def forward(self, x):\n",
    "        x = self.first_linear(x)\n",
    "        x = self.relu(x)\n",
    "        x = self.second_linear(x)\n",
    "        return x\n",
    "\n",
    "def training_function(\n",
    "    predictors_train, target_train, model, \n",
    "    loss_function, optimizer, device, training_loss    \n",
    "):\n",
    "    predictors_train = predictors_train.to(device) \n",
    "    target_train = target_train.to(device)\n",
    "        \n",
    "    prediction = model(predictors_train.float())\n",
    "    loss = loss_function(prediction, target_train)\n",
    "\n",
    "    optimizer.zero_grad()\n",
    "    loss.backward()\n",
    "    optimizer.step()\n",
    "\n",
    "    loss = loss.item()\n",
    "    training_loss.append(loss)       \n",
    "\n",
    "def testing_function(\n",
    "    predictors_test, target_test, \n",
    "    model, loss_function, device, testing_loss    \n",
    "):\n",
    "    predictors_test = predictors_test.to(device)\n",
    "    target_test = target_test.to(device)\n",
    "    \n",
    "    with torch.no_grad():\n",
    "        prediction = model(predictors_test.float())\n",
    "        test_loss = loss_function(prediction, target_test).item()\n",
    "        correct_pred_count = (prediction.argmax(1) == target_test).type(torch.float).sum().item()\n",
    "        \n",
    "    testing_loss.append(test_loss)\n",
    "    return correct_pred_count\n",
    "\n",
    "dataset_train = torchvision.datasets.MNIST(\n",
    "    root=\"torch_mnist_files/\", download=True, train=True, \n",
    "    transform=torchvision.transforms.Compose([\n",
    "        torchvision.transforms.ToTensor(),\n",
    "        torchvision.transforms.Lambda(lambda x: torch.flatten(x))\n",
    "        ])\n",
    "    )\n",
    "dataset_test = torchvision.datasets.MNIST(\n",
    "    root=\"torch_mnist_files/\", download=True, train=False,\n",
    "    transform=torchvision.transforms.Compose([\n",
    "        torchvision.transforms.ToTensor(),\n",
    "        torchvision.transforms.Lambda(lambda x: torch.flatten(x))\n",
    "        ])\n",
    "    )\n",
    "loader_train = torch.utils.data.DataLoader(dataset_train, batch_size=128, shuffle=True, pin_memory=True)\n",
    "loader_test = torch.utils.data.DataLoader(dataset_test, batch_size=1000, shuffle=True, pin_memory=True)\n",
    "\n",
    "device = \"cuda\" if torch.cuda.is_available() else \"cpu\"\n",
    "model = NeuralNetwork().to(device)\n",
    "loss_function = torch.nn.CrossEntropyLoss()\n",
    "optimizer = torch.optim.Adam(model.parameters(), lr=0.001)\n",
    "epochs = 5\n",
    "\n",
    "training_loss_epoch = []\n",
    "training_loss_iteration = []\n",
    "testing_loss_epoch = []\n",
    "for epoch_index in range(epochs):\n",
    "    print(f\"Epoch {epoch_index+1}\\n----------------------------------------\")\n",
    "    \n",
    "    training_loss = []\n",
    "    for batch_index, batch in enumerate(loader_train):\n",
    "        training_function(\n",
    "            batch[0], batch[1], model, \n",
    "            loss_function, optimizer, device, training_loss\n",
    "        )\n",
    "    training_loss_iteration += training_loss\n",
    "    avg_loss_per_batch_train = sum(training_loss)/(batch_index+1)\n",
    "    training_loss_epoch.append(avg_loss_per_batch_train)\n",
    "    print(f\"Avg. loss per record - train: {avg_loss_per_batch_train}\")      \n",
    "        \n",
    "    testing_loss = []\n",
    "    correct_pred_count = 0\n",
    "    for batch_index, batch in enumerate(loader_test): \n",
    "        correct_pred_count += testing_function(\n",
    "           batch[0], batch[1], model, \n",
    "           loss_function, device, testing_loss\n",
    "        )\n",
    "    avg_loss_per_batch_test = sum(testing_loss)/(batch_index+1)\n",
    "    testing_loss_epoch.append(avg_loss_per_batch_test)\n",
    "    print(f\"Avg. loss per record - test: {avg_loss_per_batch_test}\")\n",
    "    print(f\"Correct predictions in current epoch: {correct_pred_count}\")\n",
    "    print(f\"Avg. test accuracy: {correct_pred_count/len(dataset_test):.3f}\\n\")\n",
    "        \n",
    "print(\"Training has been completed.\")\n",
    "\n",
    "plt.plot(training_loss_iteration)\n",
    "plt.title(\"Dependence of training loss on iteration\")\n",
    "plt.xlabel(\"Iteration number\")\n",
    "plt.ylabel(\"Loss\")\n",
    "\n",
    "plt.figure()\n",
    "plt.plot(training_loss_epoch, \"o-\")\n",
    "plt.plot(testing_loss_epoch, \"o-\")\n",
    "plt.title(\"Comparison of training and testing loss\")\n",
    "plt.xlabel(\"Epoch number\")\n",
    "plt.ylabel(\"Loss\")\n",
    "plt.legend([\"train\", \"test\"]);"
   ]
  },
  {
   "cell_type": "markdown",
   "metadata": {},
   "source": [
    "## Konvoluční sítě\n",
    "V sekci výše jsme použili na klasifikaci obrázků klasickou neuronovou síť, kde byl každý neuron jedné vrstvy spoijen s každým neuronem vrstev sousedících. Problém takovéhoto přístupu je vazba přítomnosti určitého objektu na určité lokaci (vlastně na určitý pixel) obrázku. Tj. po naučení neuronová síť například vždy očekává oblouček u cifry 2 ve středu horní části obrázku, ale nepočítá s tím, že někdo dvojku například umístí k levému okraji. Proto se na podobné úlohy používají konvoluční vrstvy, které nejsou vázány na hodnoty konkrétních pixelů, ale na přítomnost určitých charakteristických útvarů kdekoli na ploše obrázku.  \n",
    "Fungování konvoluční vrstvy si vysvětlíme s pomocí obr. 3. Mějme na začátku šedý obrázek o rozměru 10x10 pixelů. Na ten začne působit konvoluční filtr, tzv. kernel. Ten v jeden okamžik ale nepůsobí na celý obrázek, ale pouze na jeho část, která má obvykle rozměry 2x2, 3x3 či 4x4 pixely. Když zde mluvím o působení, mám na mysli sumu element-wise násobení matic, tj. výstupem je pak jedna hodnota. Posléze se filtr posune, nejčastěji o jedno políčko - posun je buďto v horizontálním, anebo vertikálním směru, nikoli v obou směrech najednou. Následně kernel na částečně nové ploše opět provede svoje výpočty a vyprodukuje další číslo. Když takto postupně projede celý obrázek, je výsledekem matice čísel o velikosti 8x8. Následovat by mohla další konvoluční vrstva, anebo už \"normální\" vrstva neuronů (torch.nn.Linear). Pro převod se samozřejmě musí 2D matice převést na 1D vektor.  \n",
    "\n",
    "![konvoluce](pytorch_images/convolution_principle.png)\n",
    "<center>Obrázek 3: Nástin fungování konvoluce. Na původní obrázek o rozměrech 10x10 pixelů působí kernel o rozměrech 3x3 pixely. Výsledkem je feature mapa o rozměru 8x8 pixelů.</center>  \n",
    "\n",
    "Výhodou takovéhoto přístupu je malý počet vah potřebný k natrénování jednoho kernelu (3x3 kernel má 9 vah + bias). Díky tomu lze nátrénovat kernelů více a to bez nějakých krvavých nároků na hardware. Proč by nám ale tohle mělo pomoci? Věc spočívá v tom, že v rámci učení se váhy kernelů mění tak, aby výsledkem aplikace kernelu na původní obrázek (anebo na výstup předchozích kernelů) byla feature mapa alias nějaký význačný vzor v obrázku (viz obr. 4). Význačným vzorem může být vertikální čára anebo třeba oko. Jelikož na začátku jsou váhy jednotlivých kernelů náhodné, během trénovací se kernely naučí zaměřovat se na jiné vzory (jeden se například zaměří na vertikální čáry, další na čáry horizontální a jiný třeba na tečky). Dále je vhodné si všimnout, že zatímco se kernely v prvních vrstvách vážou na jednoduché vzory (např. na čáry), kernely v dalších vrstvách se chytají na vzorky čím dál víc komplikované (viz obr. 4 dole). Jelikož složitých vzorů je více než vzorů jednoduchých, počet kernelů roste tím víc, čím dál sev síti dostáváme.\n",
    "\n",
    "![filtry_a](pytorch_images/conv2_block1_out.jpg) ![filtry_b](pytorch_images/conv3_block4_out.jpg)\n",
    "<center>Obrázek 4: Ukázka feature map pro konvoluční vrstvu první (nahoře) a trochu pozdější (dole).</center>  \n",
    "\n",
    "Co se u takové konvoluční vrstvy dá vlastně nastavit? Už jsme mluvili o velikosti kernelu. Dalším parametrem je počet vstupních a výstupních channelů (kanálů). Vstup je dán buďto počtem channelů z předchozí konvoluční vrstvy, anebo barevností zdrojového obrázku, pokud vytváříme první konvoluční vrstvu. Pro obrázky ve stupni šedi je vstupní channel jen jeden, pro barevné jsou channely tři (barevný obrázek je totiž fakticky tvořen třemi jednobarevnými obrázky za červenou, zelenou a modrou barvu). Specifikovat se musí i počet výstupních channelů. Pokud je toto číslo příliš velké, větší než počet nalezitelných vzorů, jen zbytečně pltýváme výpočetní kapacitou. Pokud je číslo naopak malé, zbytečně podvazujeme možnosti sítě. Dalším parametrem je velikost posunu kernelu - hovoříme o tzv. stridu. Výše jsme se tvářili, že posun je vždy jedna, ale toto číslo může být i vyšší. Čím vyšší stride, tím menší je výška a šířka výsledné feature mapy. Nicméně obvykle je stride jedničkový, protože na zmenšování obrázků existuje vhodnější postup. Nakonec tu máme padding. Výše jsme zmínili, že když posouváme kernelem po ploše obrázku, fakticky je výsledná feature mapa o něco menší než originální obrázek. Proti tomu lze bojovat paddingem, který říká, o kolik políček může kernel z původního obrázku \"přečuhovat\" (tato dodatečná políčka se berou, jako by obsahovaly nulu) - viz obr. 5. Díky správně zvolenému paddingu má totiž vstup a výstup stejné rozměry a nehorzí tak, že bychom v hloubce sítě byli omezeni zkolabováním obrázku pod velikost kernelu.\n",
    "\n",
    "![padding](pytorch_images/padding.png)\n",
    "<center>Obrázek 5: Ukázka paddingu o velikosti 1. Původní pixely jsou vybarveny zeleně, paddingem přidané \"pixely\" jsou bílé.</center>  \n",
    "\n",
    "#### Maxpooling\n",
    "Pro konvoluční sítě jsou krom samotných konvolučních vrstev specifické i tzv. maxpooling vrstvy. O co se jedná? Tato vrstva rozdělí vstupní matici (teoreticky třeba i původní obrázek, obvykle ale feature mapu) a rozdělí ji na pooly alias vedle sebe postavené čtverce. Jejich velikost činí nejčastěji 2x2 pixely. Z každého čtverce se vezme jeden pixel - u maxpoolingu už jméno napovídá, že se bude jednat o ten s nejvyšší hodnotou. Z takto vybraných hodnot se vytvoří výstupní mapa, která je tak oproti vstupu poloviční (počet channelů se nemění).  \n",
    "Myšlenka stojící za maxpoolingem tkví v tom, že ve feature mapách je jen vzácně důležitá informace obsažená stejnou měrou v sousedních pixelech (proto vybíráme ze čtyřech sousedních) a velice často se nachází v těch s vyšší intezitou (hodnotou). Tj. fakticky informaci neztrácíme, ale omezením velikosti map jsme zmenšili výpočetní náročnost následných operací.  \n",
    "V pytorchi nalezneme maxpooling pro jeden, dva či tři rozměry a to sice jako separátní funkce. Tj. například pro maxpooling ve 2D, který je určen právě pro obrázky, existuje funkce **torch.nn.MaxPool2d**. Její jediný povinný parametr je velikost hrany čtverce označujícího oblast maxpoolingu. \n",
    "\n",
    "#### Dropout\n",
    "Dropout vrstvy sice zmiňujeme až zde u konvolučních sítí, použít se ale mohou i u jiných architektur včetně klasické dense neuronové sítě. Jedná se o v případě neuronových sítí asi o nejčastější regularizační techniku, tj. techniku na boj s overfitováním. Principielně jde o to, že během trénování má každá spojnice mezi neurony sousedních vrstev určitou pravděpodobnost (obvykle 20%), že v dané epoše de facto nebude existovat. Díky tomu se nemůže neuronová sít vázat na konkrétní hodnoty konrktétních neuronů, ale musí se naučit dělat své predikce robustněji.  \n",
    "Zdůrazněme ale, že mimo trénování k dropoutu nedochází. Jak vlastně pytoch pozná, že dropout má nebo nemá použít? No, musíme mu říct, že jsme vstoupili do vyhodnocnovací fáze a to sice pomocí metody **eval()** volané na příslušném ML modelu. Pakliže bychom chtěli zpátky do trénovacího modu, musíme použít metodu **train()** (defaultně je model po vytvoření v trénovacím modu). Pokud bychom z nějakého důvodu potřebovali vědět, ve kterém modu se model zrovna nachází, musíme se podívat na atribut **training** modelu.  \n",
    "Samotný dropout je v pytorchi implementován jako funkce *torch.nn.Dropout*. Parametr *p* udává pravděpodobnost, že bude spojení jedno spojení neuronů dočasně přerušeno.\n",
    "\n",
    "#### Batch normalization\n",
    "Stejně jako dropout se i batch normalization používá u většího množství typů neuronových sítí. Společné s dropoutoutem má i další vlastnost - pomáhá zamezit overfitu. Dále je díky batch normalization síť robustnější na iniciální volbu vah a taktéž je možné zvětšit learning rate. Jelikož dropout komplikuje výpočty potřebné pro batch normalization, neměly by se oba tyto přístupy používat současně.  \n",
    "Co přesně batch normalizace dělá? Pro každou minibatch spočte průměr a standardní odchylku a data potom vycentruje na nulu a naškáluje. Současně si tyto průměry a standardní odchylky uloží mimo, aby bylo podle čeho škálovat data při obyčejném  \"netrénovacím\" použití sítě. Díky vycentrování pak nedochází k tomu, že by byla data kvůli činnosti vrstev předchozích posunuta do takových oblastí aktivačních funkcí, kde by tyto funkce již byly nasycené (tím myslím, kde by se pro relativně velké změny x příliš neměnilo f(x)).    \n",
    "V pytorchi existuje několik implementací batch normalizace, které jsou určeny pro různé rozměry vstupu. Jelikož nyní řešíme obrázky alias 2D matice, budeme pracovat s *torch.nn.BatchNorm2d*. Povinný je jeden parametr - počet channelů na vstupu. Obvykle se normalizační vrstvy umísťují těsně před aktivační funkci, byť zrovna u ReLU je to přeci jen s otazníkem."
   ]
  },
  {
   "cell_type": "markdown",
   "metadata": {},
   "source": [
    "Příklad použití konvoluční sítě s dropoutem."
   ]
  },
  {
   "cell_type": "code",
   "execution_count": 13,
   "metadata": {
    "ExecuteTime": {
     "end_time": "2021-05-16T14:23:49.871870Z",
     "start_time": "2021-05-16T14:22:04.320302Z"
    }
   },
   "outputs": [
    {
     "name": "stdout",
     "output_type": "stream",
     "text": [
      "Epoch 1\n",
      "----------------------------------------\n",
      "Avg. loss per record - train: 0.48958707326002465\n",
      "Avg. loss per record - test: 0.14493158534169198\n",
      "Correct predictions in current epoch: 9598.0\n",
      "Avg. test accuracy: 0.960\n",
      "\n",
      "Epoch 2\n",
      "----------------------------------------\n",
      "Avg. loss per record - train: 0.15603475613412318\n",
      "Avg. loss per record - test: 0.0845109425485134\n",
      "Correct predictions in current epoch: 9740.0\n",
      "Avg. test accuracy: 0.974\n",
      "\n",
      "Epoch 3\n",
      "----------------------------------------\n",
      "Avg. loss per record - train: 0.11690743215112036\n",
      "Avg. loss per record - test: 0.06969285011291504\n",
      "Correct predictions in current epoch: 9777.0\n",
      "Avg. test accuracy: 0.978\n",
      "\n",
      "Epoch 4\n",
      "----------------------------------------\n",
      "Avg. loss per record - train: 0.10039454828431485\n",
      "Avg. loss per record - test: 0.05791048370301723\n",
      "Correct predictions in current epoch: 9820.0\n",
      "Avg. test accuracy: 0.982\n",
      "\n",
      "Epoch 5\n",
      "----------------------------------------\n",
      "Avg. loss per record - train: 0.08859255578297415\n",
      "Avg. loss per record - test: 0.052050205692648885\n",
      "Correct predictions in current epoch: 9829.0\n",
      "Avg. test accuracy: 0.983\n",
      "\n",
      "Training has been completed.\n"
     ]
    },
    {
     "data": {
      "image/png": "[encoded data removed]",
      "text/plain": [
       "<Figure size 432x288 with 1 Axes>"
      ]
     },
     "metadata": {
      "needs_background": "light"
     },
     "output_type": "display_data"
    },
    {
     "data": {
      "image/png": "[encoded data removed]",
      "text/plain": [
       "<Figure size 432x288 with 1 Axes>"
      ]
     },
     "metadata": {
      "needs_background": "light"
     },
     "output_type": "display_data"
    }
   ],
   "source": [
    "class ConvNeuralNetwork(torch.nn.Module):\n",
    "    def __init__(self):\n",
    "        super(ConvNeuralNetwork, self).__init__()\n",
    "        self.first_conv = torch.nn.Conv2d(1,10, kernel_size=3)\n",
    "        self.second_conv = torch.nn.Conv2d(10,30, kernel_size=3)\n",
    "        self.linear = torch.nn.Linear(750,10)\n",
    "        self.relu = torch.nn.ReLU()  \n",
    "        self.max_pool = torch.nn.MaxPool2d(2)\n",
    "        self.dropout = torch.nn.Dropout(p=0.2)\n",
    "\n",
    "    def forward(self, x):\n",
    "        x = self.first_conv(x)\n",
    "        x = self.relu(x)\n",
    "        x = self.max_pool(x)\n",
    "        x = self.dropout(x)\n",
    "        x = self.second_conv(x)\n",
    "        x = self.relu(x)\n",
    "        x = self.max_pool(x)\n",
    "        x = self.dropout(x)\n",
    "        x = torch.flatten(x, 1)\n",
    "        x = self.linear(x)       \n",
    "        return x\n",
    "\n",
    "def training_function(\n",
    "    predictors_train, target_train, model, \n",
    "    loss_function, optimizer, device, training_loss    \n",
    "):\n",
    "    predictors_train = predictors_train.to(device) \n",
    "    target_train = target_train.to(device)\n",
    "        \n",
    "    prediction = model(predictors_train.float())\n",
    "    loss = loss_function(prediction, target_train)\n",
    "\n",
    "    optimizer.zero_grad()\n",
    "    loss.backward()\n",
    "    optimizer.step()\n",
    "\n",
    "    loss = loss.item()\n",
    "    training_loss.append(loss)       \n",
    "\n",
    "def testing_function(\n",
    "    predictors_test, target_test, \n",
    "    model, loss_function, device, testing_loss    \n",
    "):\n",
    "    predictors_test = predictors_test.to(device)\n",
    "    target_test = target_test.to(device)\n",
    "    \n",
    "    with torch.no_grad():\n",
    "        prediction = model(predictors_test.float())\n",
    "        test_loss = loss_function(prediction, target_test).item()\n",
    "        correct_pred_count = (prediction.argmax(1) == target_test).type(torch.float).sum().item()\n",
    "        \n",
    "    testing_loss.append(test_loss)\n",
    "    return correct_pred_count\n",
    "\n",
    "dataset_train = torchvision.datasets.MNIST(\n",
    "    root=\"torch_mnist_files/\", download=True, train=True, \n",
    "    transform=torchvision.transforms.ToTensor()\n",
    "    )\n",
    "dataset_test = torchvision.datasets.MNIST(\n",
    "    root=\"torch_mnist_files/\", download=True, train=False,\n",
    "    transform=torchvision.transforms.ToTensor()\n",
    "    )\n",
    "loader_train = torch.utils.data.DataLoader(dataset_train, batch_size=128, shuffle=True, pin_memory=True)\n",
    "loader_test = torch.utils.data.DataLoader(dataset_test, batch_size=1000, shuffle=True, pin_memory=True)\n",
    "\n",
    "device = \"cuda\" if torch.cuda.is_available() else \"cpu\"\n",
    "model = ConvNeuralNetwork().to(device)\n",
    "loss_function = torch.nn.CrossEntropyLoss()\n",
    "optimizer = torch.optim.Adam(model.parameters(), lr=0.001)\n",
    "epochs = 5\n",
    "\n",
    "training_loss_epoch = []\n",
    "training_loss_iteration = []\n",
    "testing_loss_epoch = []\n",
    "for epoch_index in range(epochs):\n",
    "    print(f\"Epoch {epoch_index+1}\\n----------------------------------------\")\n",
    "    \n",
    "    model.train()\n",
    "    training_loss = []\n",
    "    for batch_index, batch in enumerate(loader_train):\n",
    "        training_function(\n",
    "            batch[0], batch[1], model, \n",
    "            loss_function, optimizer, device, training_loss\n",
    "        )\n",
    "    training_loss_iteration += training_loss\n",
    "    avg_loss_per_batch_train = sum(training_loss)/(batch_index+1)\n",
    "    training_loss_epoch.append(avg_loss_per_batch_train)\n",
    "    print(f\"Avg. loss per record - train: {avg_loss_per_batch_train}\")      \n",
    "        \n",
    "    model.eval()\n",
    "    testing_loss = []\n",
    "    correct_pred_count = 0\n",
    "    for batch_index, batch in enumerate(loader_test): \n",
    "        correct_pred_count += testing_function(\n",
    "           batch[0], batch[1], model, \n",
    "           loss_function, device, testing_loss\n",
    "        )\n",
    "    avg_loss_per_batch_test = sum(testing_loss)/(batch_index+1)\n",
    "    testing_loss_epoch.append(avg_loss_per_batch_test)\n",
    "    print(f\"Avg. loss per record - test: {avg_loss_per_batch_test}\")\n",
    "    print(f\"Correct predictions in current epoch: {correct_pred_count}\")\n",
    "    print(f\"Avg. test accuracy: {correct_pred_count/len(dataset_test):.3f}\\n\")\n",
    "        \n",
    "print(\"Training has been completed.\")\n",
    "\n",
    "plt.plot(training_loss_iteration)\n",
    "plt.title(\"Dependence of training loss on iteration\")\n",
    "plt.xlabel(\"Iteration number\")\n",
    "plt.ylabel(\"Loss\")\n",
    "\n",
    "plt.figure()\n",
    "plt.plot(training_loss_epoch, \"o-\")\n",
    "plt.plot(testing_loss_epoch, \"o-\")\n",
    "plt.title(\"Comparison of training and testing loss\")\n",
    "plt.xlabel(\"Epoch number\")\n",
    "plt.ylabel(\"Loss\")\n",
    "plt.legend([\"train\", \"test\"]);"
   ]
  },
  {
   "cell_type": "markdown",
   "metadata": {},
   "source": [
    "Úplně to samé, ale namísto dropoutu použita batch normalizace."
   ]
  },
  {
   "cell_type": "code",
   "execution_count": 15,
   "metadata": {
    "ExecuteTime": {
     "end_time": "2021-05-16T14:32:54.773968Z",
     "start_time": "2021-05-16T14:31:44.830567Z"
    }
   },
   "outputs": [
    {
     "name": "stdout",
     "output_type": "stream",
     "text": [
      "Epoch 1\n",
      "----------------------------------------\n",
      "Avg. loss per record - train: 0.2169622987516717\n",
      "Avg. loss per record - test: 0.07549258694052696\n",
      "Correct predictions in current epoch: 9758.0\n",
      "Avg. test accuracy: 0.976\n",
      "\n",
      "Epoch 2\n",
      "----------------------------------------\n",
      "Avg. loss per record - train: 0.06192709760827773\n",
      "Avg. loss per record - test: 0.05327208675444126\n",
      "Correct predictions in current epoch: 9832.0\n",
      "Avg. test accuracy: 0.983\n",
      "\n",
      "Epoch 3\n",
      "----------------------------------------\n",
      "Avg. loss per record - train: 0.047010224356230645\n",
      "Avg. loss per record - test: 0.054216804727911946\n",
      "Correct predictions in current epoch: 9827.0\n",
      "Avg. test accuracy: 0.983\n",
      "\n",
      "Epoch 4\n",
      "----------------------------------------\n",
      "Avg. loss per record - train: 0.0384977093345718\n",
      "Avg. loss per record - test: 0.04079209957271814\n",
      "Correct predictions in current epoch: 9868.0\n",
      "Avg. test accuracy: 0.987\n",
      "\n",
      "Epoch 5\n",
      "----------------------------------------\n",
      "Avg. loss per record - train: 0.03377215018414501\n",
      "Avg. loss per record - test: 0.03799010403454304\n",
      "Correct predictions in current epoch: 9887.0\n",
      "Avg. test accuracy: 0.989\n",
      "\n",
      "Training has been completed.\n"
     ]
    },
    {
     "data": {
      "image/png": "[encoded data removed]",
      "text/plain": [
       "<Figure size 432x288 with 1 Axes>"
      ]
     },
     "metadata": {
      "needs_background": "light"
     },
     "output_type": "display_data"
    },
    {
     "data": {
      "image/png": "[encoded data removed]",
      "text/plain": [
       "<Figure size 432x288 with 1 Axes>"
      ]
     },
     "metadata": {
      "needs_background": "light"
     },
     "output_type": "display_data"
    }
   ],
   "source": [
    "class ConvNeuralNetwork(torch.nn.Module):\n",
    "    def __init__(self):\n",
    "        super(ConvNeuralNetwork, self).__init__()\n",
    "        self.first_conv = torch.nn.Conv2d(1,10, kernel_size=3)\n",
    "        self.first_batch_norm = torch.nn.BatchNorm2d(10)\n",
    "        self.second_conv = torch.nn.Conv2d(10,30, kernel_size=3)\n",
    "        self.second_batch_norm = torch.nn.BatchNorm2d(30)\n",
    "        self.linear = torch.nn.Linear(750,10)\n",
    "        self.relu = torch.nn.ReLU()  \n",
    "        self.max_pool = torch.nn.MaxPool2d(2)\n",
    "\n",
    "    def forward(self, x):\n",
    "        x = self.first_conv(x)\n",
    "        x = self.first_batch_norm(x)        \n",
    "        x = self.relu(x)\n",
    "        x = self.max_pool(x)\n",
    "        x = self.second_conv(x)\n",
    "        x = self.second_batch_norm(x)\n",
    "        x = self.relu(x)\n",
    "        x = self.max_pool(x)\n",
    "        x = torch.flatten(x, 1)\n",
    "        x = self.linear(x)       \n",
    "        return x\n",
    "\n",
    "def training_function(\n",
    "    predictors_train, target_train, model, \n",
    "    loss_function, optimizer, device, training_loss    \n",
    "):\n",
    "    predictors_train = predictors_train.to(device) \n",
    "    target_train = target_train.to(device)\n",
    "        \n",
    "    prediction = model(predictors_train.float())\n",
    "    loss = loss_function(prediction, target_train)\n",
    "\n",
    "    optimizer.zero_grad()\n",
    "    loss.backward()\n",
    "    optimizer.step()\n",
    "\n",
    "    loss = loss.item()\n",
    "    training_loss.append(loss)       \n",
    "\n",
    "def testing_function(\n",
    "    predictors_test, target_test, \n",
    "    model, loss_function, device, testing_loss    \n",
    "):\n",
    "    predictors_test = predictors_test.to(device)\n",
    "    target_test = target_test.to(device)\n",
    "    \n",
    "    with torch.no_grad():\n",
    "        prediction = model(predictors_test.float())\n",
    "        test_loss = loss_function(prediction, target_test).item()\n",
    "        correct_pred_count = (prediction.argmax(1) == target_test).type(torch.float).sum().item()\n",
    "        \n",
    "    testing_loss.append(test_loss)\n",
    "    return correct_pred_count\n",
    "\n",
    "dataset_train = torchvision.datasets.MNIST(\n",
    "    root=\"torch_mnist_files/\", download=True, train=True, \n",
    "    transform=torchvision.transforms.ToTensor()\n",
    "    )\n",
    "dataset_test = torchvision.datasets.MNIST(\n",
    "    root=\"torch_mnist_files/\", download=True, train=False,\n",
    "    transform=torchvision.transforms.ToTensor()\n",
    "    )\n",
    "loader_train = torch.utils.data.DataLoader(dataset_train, batch_size=128, shuffle=True, pin_memory=True)\n",
    "loader_test = torch.utils.data.DataLoader(dataset_test, batch_size=1000, shuffle=True, pin_memory=True)\n",
    "\n",
    "device = \"cuda\" if torch.cuda.is_available() else \"cpu\"\n",
    "model = ConvNeuralNetwork().to(device)\n",
    "loss_function = torch.nn.CrossEntropyLoss()\n",
    "optimizer = torch.optim.Adam(model.parameters(), lr=0.001)\n",
    "epochs = 5\n",
    "\n",
    "training_loss_epoch = []\n",
    "training_loss_iteration = []\n",
    "testing_loss_epoch = []\n",
    "for epoch_index in range(epochs):\n",
    "    print(f\"Epoch {epoch_index+1}\\n----------------------------------------\")\n",
    "    \n",
    "    model.train()\n",
    "    training_loss = []\n",
    "    for batch_index, batch in enumerate(loader_train):\n",
    "        training_function(\n",
    "            batch[0], batch[1], model, \n",
    "            loss_function, optimizer, device, training_loss\n",
    "        )\n",
    "    training_loss_iteration += training_loss\n",
    "    avg_loss_per_batch_train = sum(training_loss)/(batch_index+1)\n",
    "    training_loss_epoch.append(avg_loss_per_batch_train)\n",
    "    print(f\"Avg. loss per record - train: {avg_loss_per_batch_train}\")      \n",
    "        \n",
    "    model.eval()\n",
    "    testing_loss = []\n",
    "    correct_pred_count = 0\n",
    "    for batch_index, batch in enumerate(loader_test): \n",
    "        correct_pred_count += testing_function(\n",
    "           batch[0], batch[1], model, \n",
    "           loss_function, device, testing_loss\n",
    "        )\n",
    "    avg_loss_per_batch_test = sum(testing_loss)/(batch_index+1)\n",
    "    testing_loss_epoch.append(avg_loss_per_batch_test)\n",
    "    print(f\"Avg. loss per record - test: {avg_loss_per_batch_test}\")\n",
    "    print(f\"Correct predictions in current epoch: {correct_pred_count}\")\n",
    "    print(f\"Avg. test accuracy: {correct_pred_count/len(dataset_test):.3f}\\n\")\n",
    "        \n",
    "print(\"Training has been completed.\")\n",
    "\n",
    "plt.plot(training_loss_iteration)\n",
    "plt.title(\"Dependence of training loss on iteration\")\n",
    "plt.xlabel(\"Iteration number\")\n",
    "plt.ylabel(\"Loss\")\n",
    "\n",
    "plt.figure()\n",
    "plt.plot(training_loss_epoch, \"o-\")\n",
    "plt.plot(testing_loss_epoch, \"o-\")\n",
    "plt.title(\"Comparison of training and testing loss\")\n",
    "plt.xlabel(\"Epoch number\")\n",
    "plt.ylabel(\"Loss\")\n",
    "plt.legend([\"train\", \"test\"]);"
   ]
  },
  {
   "cell_type": "markdown",
   "metadata": {},
   "source": [
    "## Předtrénované neuronové sítě pro práci s obrázky  \n",
    "Pro natrénování neuronové sítě člověk potřebuje velké množství dat a solidní hardware. Co se ale dá dělat v případě, kdy tyto prerekvizity nejsou splněny a přitom je potřeba dejme tomu klasifikovat nějaký obrázek. Tehdy se dá použít jeden z předtrénovaných modelů, které jsou součástní Pytorche.  \n",
    "\n",
    "#### ImageNet  \n",
    "To, co síť dokáže klasifikovat, závisí na datech, s jejichž pomocí byla natrénovaná. Těmito daty byl u modelů dále diskutovaných ImageNet. Jedná se o velkou databázi obrázků určenou právě pro použití v souvislosti s technikami na rozpoznávání obrázků. V současnosti obsahuje cca 15 milionů obrázků rozdělěných do zhruba 22 tisíc kategorií (viz [zde](https://image-net.org/about.php)). Pro natrénování níže ukázaných modelů se ale použila [redukovaná verze](https://image-net.org/challenges/LSVRC/2010/index.php), která obsahuje pouze 1000 tříd. \n",
    "\n",
    "#### Příprava obrázku  \n",
    "Všechny obrázkové předtrénované modely vyžadují, aby jim byl podhozen obrázek v určitém formátu. V této sekci si ukážeme, jak takový obrázek připravit.  \n",
    "Nejprve si obrázek musíme načíst ze souboru. Pro tento účel použijeme funkci z matplotlibu *imread*."
   ]
  },
  {
   "cell_type": "code",
   "execution_count": 45,
   "metadata": {
    "ExecuteTime": {
     "end_time": "2021-06-13T14:09:05.298401Z",
     "start_time": "2021-06-13T14:09:05.278455Z"
    }
   },
   "outputs": [
    {
     "data": {
      "text/plain": [
       "(554, 800, 3)"
      ]
     },
     "execution_count": 45,
     "metadata": {},
     "output_type": "execute_result"
    }
   ],
   "source": [
    "from matplotlib.image import imread\n",
    "\n",
    "penguin_image = imread(\"pytorch_images/tucnaci.jpg\")\n",
    "penguin_image.shape"
   ]
  },
  {
   "cell_type": "markdown",
   "metadata": {},
   "source": [
    "Máme numpy array, jehož osami jsou výška, šířka a barevné channely a to sice v tomto pořadí. Jenomže [zde](https://pytorch.org/vision/stable/models.html) se lze dočíst, že pytorchí modely vyžadují pořadí channely, výška, šířka. Pro prohození os v obrázku použijeme metodu *transpose*."
   ]
  },
  {
   "cell_type": "code",
   "execution_count": 46,
   "metadata": {
    "ExecuteTime": {
     "end_time": "2021-06-13T14:09:06.157450Z",
     "start_time": "2021-06-13T14:09:06.138460Z"
    }
   },
   "outputs": [
    {
     "data": {
      "text/plain": [
       "(3, 554, 800)"
      ]
     },
     "execution_count": 46,
     "metadata": {},
     "output_type": "execute_result"
    }
   ],
   "source": [
    "penguin_image = penguin_image.transpose(2, 0, 1)\n",
    "penguin_image.shape"
   ]
  },
  {
   "cell_type": "markdown",
   "metadata": {},
   "source": [
    "Obrázek obsahuje hodnoty pixelů od 0 do 255. Proto musíme numpoidní pole vydělit 255, abychom se dostali do intervalu [0,1]."
   ]
  },
  {
   "cell_type": "code",
   "execution_count": 47,
   "metadata": {
    "ExecuteTime": {
     "end_time": "2021-06-13T14:09:07.155476Z",
     "start_time": "2021-06-13T14:09:06.524531Z"
    }
   },
   "outputs": [],
   "source": [
    "penguin_image = penguin_image / 255"
   ]
  },
  {
   "cell_type": "markdown",
   "metadata": {},
   "source": [
    "Numpoidní pole musíme převést na tenzor."
   ]
  },
  {
   "cell_type": "code",
   "execution_count": 48,
   "metadata": {
    "ExecuteTime": {
     "end_time": "2021-06-13T14:09:07.419525Z",
     "start_time": "2021-06-13T14:09:07.404566Z"
    }
   },
   "outputs": [],
   "source": [
    "penguin_tensor = torch.from_numpy(penguin_image).to(dtype=torch.float)"
   ]
  },
  {
   "cell_type": "markdown",
   "metadata": {},
   "source": [
    "Model dále očekává, že se mu podhodí batch a ne pouze jeden obrázek. Musíme tudíž přidat jednu \"jednoprvkovou\" osu."
   ]
  },
  {
   "cell_type": "code",
   "execution_count": 49,
   "metadata": {
    "ExecuteTime": {
     "end_time": "2021-06-13T14:09:08.166443Z",
     "start_time": "2021-06-13T14:09:08.156469Z"
    }
   },
   "outputs": [
    {
     "data": {
      "text/plain": [
       "torch.Size([1, 3, 554, 800])"
      ]
     },
     "execution_count": 49,
     "metadata": {},
     "output_type": "execute_result"
    }
   ],
   "source": [
    "penguin_tensor = penguin_tensor.unsqueeze(dim=0)\n",
    "penguin_tensor.shape"
   ]
  },
  {
   "cell_type": "markdown",
   "metadata": {},
   "source": [
    "Všechny předtrénované modely byly natrénovány na obrázcích o rozměrech 224x224. Proto na tu samou velikost naškálujeme i  obrázek tučňáka."
   ]
  },
  {
   "cell_type": "code",
   "execution_count": 50,
   "metadata": {
    "ExecuteTime": {
     "end_time": "2021-06-13T14:09:47.037141Z",
     "start_time": "2021-06-13T14:09:47.019226Z"
    }
   },
   "outputs": [
    {
     "data": {
      "text/plain": [
       "torch.Size([1, 3, 224, 224])"
      ]
     },
     "execution_count": 50,
     "metadata": {},
     "output_type": "execute_result"
    }
   ],
   "source": [
    "transform_resize = torchvision.transforms.Resize((224,224))\n",
    "penguin_tensor = transform_resize(penguin_tensor)\n",
    "penguin_tensor.shape"
   ]
  },
  {
   "cell_type": "markdown",
   "metadata": {},
   "source": [
    "Navíc musíme hodnoty pixelů normalizovat. Proč jsou v buňce níže zrovna ta čísla, která v ní jsou? Inu, byly uvedeny v instrukcích [zde](https://pytorch.org/vision/stable/models.html)."
   ]
  },
  {
   "cell_type": "code",
   "execution_count": 51,
   "metadata": {
    "ExecuteTime": {
     "end_time": "2021-06-13T14:09:48.884466Z",
     "start_time": "2021-06-13T14:09:48.879517Z"
    }
   },
   "outputs": [],
   "source": [
    "normalize = torchvision.transforms.Normalize(\n",
    "    mean=[0.485, 0.456, 0.406],\n",
    "    std=[0.229, 0.224, 0.225]\n",
    "    )\n",
    "    \n",
    "penguin_tensor = normalize(penguin_tensor)"
   ]
  },
  {
   "cell_type": "markdown",
   "metadata": {},
   "source": [
    "#### AlexNet"
   ]
  },
  {
   "cell_type": "markdown",
   "metadata": {},
   "source": [
    "[AlexNet](https://www.cs.toronto.edu/~kriz/imagenet_classification_with_deep_convolutional.pdf) (pojmenované hádám podle křestního jména jejího tvůrce) byla asi první \"velkou\" konvoluční neuronovou sítí, neboť si poradila nejen s MNIST úlohou, ale v roce 2012 vyhrála soutěž ImageNet Large Scale Visual Recognition Challenge (ILSVRC). Schéma její architektury (obr. 6) vypadá pravda docela divoce. To je dáno tím, že se tehdy všechna data potřebná na natrénování nevešla do paměti jedné grafické karty (velikost její paměti činila 3 GB). Tudíž se karty použily dvě. Nicméně když si odmyslíme tuto paralelizaci, používá AlexNet techniky popsané výše v textu. Samozřejmě dnes jsou už tyto postupy etablované, ale tehdy bylo jejich použití nové. Podotkněme, že jsou v síti použity kernely o velikostech 3x3, 5x5 a dokonce 11x11.  \n",
    "\n",
    "![alexnet](pytorch_images/alexnet.png)\n",
    "<center>Obrázek 6: Schéma AlexNetu. Obrázek pochází z <a href=\"https://www.cs.toronto.edu/~kriz/imagenet_classification_with_deep_convolutional.pdf\">A. Krizhevsky et al.: ImageNet Classification with Deep Convolutional Neural Networks, 2012</a>.</center>  "
   ]
  },
  {
   "cell_type": "markdown",
   "metadata": {},
   "source": [
    "Co máme ale udělat, když chceme AlexNet použít? Použijeme funkci *alexnet*. Jelikož chceme mít model předtrénovaný, musíme nastavit parametr *pretrained* na hodnotu True (default je False!)."
   ]
  },
  {
   "cell_type": "code",
   "execution_count": 52,
   "metadata": {
    "ExecuteTime": {
     "end_time": "2021-06-13T14:09:54.578629Z",
     "start_time": "2021-06-13T14:09:51.565234Z"
    }
   },
   "outputs": [],
   "source": [
    "import torchvision.models as models\n",
    "alexnet = models.alexnet(pretrained=True)"
   ]
  },
  {
   "cell_type": "markdown",
   "metadata": {},
   "source": [
    "Načtený model je v trénovacím modu. Protože nechceme, aby se nám v průběhu predikce měnil, musíme ho přepnout do vyhodnocovaního modu."
   ]
  },
  {
   "cell_type": "code",
   "execution_count": 53,
   "metadata": {
    "ExecuteTime": {
     "end_time": "2021-06-13T14:09:54.901254Z",
     "start_time": "2021-06-13T14:09:54.887804Z"
    }
   },
   "outputs": [
    {
     "name": "stdout",
     "output_type": "stream",
     "text": [
      "Model in train mode: True\n",
      "Model in train mode: False\n"
     ]
    }
   ],
   "source": [
    "print(f\"Model in train mode: {alexnet.training}\")\n",
    "alexnet.eval()\n",
    "print(f\"Model in train mode: {alexnet.training}\")"
   ]
  },
  {
   "cell_type": "markdown",
   "metadata": {},
   "source": [
    "Predikci realizujeme tak, že model zavoláme s tenzorem obrázku coby parametrem. Nicméně to, co se nám vrátí, je tenzor o 1000 prvcích - pro každou třídu Imagenetu jeden."
   ]
  },
  {
   "cell_type": "code",
   "execution_count": 54,
   "metadata": {
    "ExecuteTime": {
     "end_time": "2021-06-13T14:09:55.285822Z",
     "start_time": "2021-06-13T14:09:55.195750Z"
    }
   },
   "outputs": [
    {
     "data": {
      "text/plain": [
       "torch.Size([1, 1000])"
      ]
     },
     "execution_count": 54,
     "metadata": {},
     "output_type": "execute_result"
    }
   ],
   "source": [
    "alexnet(penguin_tensor).shape"
   ]
  },
  {
   "cell_type": "markdown",
   "metadata": {},
   "source": [
    "Proto s pomocí *argmaxu* nalezneme index největší hodnoty. Index 145 odpovídá podle [tohoto odkazu](https://gist.github.com/yrevar/942d3a0ac09ec9e5eb3a) tučňáku patagonskému. Na obrázku je nicméně tučňák kroužkový. Důvod tohoto omylu sítě tkví v tom, že v Imagenetu o 1000 třídách je právě jen jeden druh tučňáka."
   ]
  },
  {
   "cell_type": "code",
   "execution_count": 55,
   "metadata": {
    "ExecuteTime": {
     "end_time": "2021-06-13T14:09:55.615976Z",
     "start_time": "2021-06-13T14:09:55.570065Z"
    }
   },
   "outputs": [
    {
     "data": {
      "text/plain": [
       "tensor(145)"
      ]
     },
     "execution_count": 55,
     "metadata": {},
     "output_type": "execute_result"
    }
   ],
   "source": [
    "torch.argmax(alexnet(penguin_tensor))"
   ]
  },
  {
   "cell_type": "markdown",
   "metadata": {},
   "source": [
    "Jaký význam ale vlastně hodnoty v 1000-prvkovém tenzoru mají? Jedná se o nenormalizovaná skore. Aby z nich člověk dostal pravděpodobnost, musí na ně vypustit softmax. Síť sama totiž ve výstupní vrstvě aktivační funkci asi kvůli ztrátové funkci [nemá](https://github.com/pytorch/vision/blob/master/torchvision/models/alexnet.py)."
   ]
  },
  {
   "cell_type": "code",
   "execution_count": 56,
   "metadata": {
    "ExecuteTime": {
     "end_time": "2021-06-13T14:09:56.433395Z",
     "start_time": "2021-06-13T14:09:56.342676Z"
    }
   },
   "outputs": [
    {
     "name": "stdout",
     "output_type": "stream",
     "text": [
      "Probability that there is a penguin on the picture: 0.97\n",
      "Sanity check - sum of all probabilities: 1.00\n"
     ]
    }
   ],
   "source": [
    "softmax_for_penguin = torch.nn.Softmax(dim=0)\n",
    "penguin_probability = softmax_for_penguin(alexnet(penguin_tensor)[0])[145]\n",
    "print(f\"Probability that there is a penguin on the picture: {penguin_probability:.2f}\")\n",
    "sum_of_all_proba = sum(softmax_for_penguin(alexnet(penguin_tensor)[0]))\n",
    "print(f\"Sanity check - sum of all probabilities: {sum_of_all_proba:.2f}\")"
   ]
  },
  {
   "cell_type": "markdown",
   "metadata": {},
   "source": [
    "#### VGGNet\n",
    "[VGGNet](https://arxiv.org/abs/1409.1556) vytvořila roku 2014 na oxfordské univerzitě Visual Geometry Group. Principielně má VGGNet podobnou architekturu jako AlexNet, avšak počet skrytých vrstvev je mnohem větší - 16 u VGG16, 19 u VGG19. Dále snad jenom poznamenejme, že velikost kernelu byla u všech konvolučních vrstev stejná a to sice 3x3."
   ]
  },
  {
   "cell_type": "markdown",
   "metadata": {},
   "source": [
    "Model stáhneme podobně jako u AlexNetu, avšak bacha - má přes 500 Mb."
   ]
  },
  {
   "cell_type": "code",
   "execution_count": 57,
   "metadata": {
    "ExecuteTime": {
     "end_time": "2021-06-13T14:10:09.627596Z",
     "start_time": "2021-06-13T14:10:02.201282Z"
    }
   },
   "outputs": [],
   "source": [
    "import torchvision.models as models\n",
    "vgg16 = models.vgg16(pretrained=True)"
   ]
  },
  {
   "cell_type": "code",
   "execution_count": 58,
   "metadata": {
    "ExecuteTime": {
     "end_time": "2021-06-13T14:10:09.940760Z",
     "start_time": "2021-06-13T14:10:09.926796Z"
    }
   },
   "outputs": [
    {
     "name": "stdout",
     "output_type": "stream",
     "text": [
      "Model in train mode: True\n",
      "Model in train mode: False\n"
     ]
    }
   ],
   "source": [
    "print(f\"Model in train mode: {vgg16.training}\")\n",
    "vgg16.eval()\n",
    "print(f\"Model in train mode: {vgg16.training}\")"
   ]
  },
  {
   "cell_type": "code",
   "execution_count": 59,
   "metadata": {
    "ExecuteTime": {
     "end_time": "2021-06-13T14:10:10.518218Z",
     "start_time": "2021-06-13T14:10:10.224002Z"
    }
   },
   "outputs": [
    {
     "data": {
      "text/plain": [
       "torch.Size([1, 1000])"
      ]
     },
     "execution_count": 59,
     "metadata": {},
     "output_type": "execute_result"
    }
   ],
   "source": [
    "vgg16(penguin_tensor).shape"
   ]
  },
  {
   "cell_type": "code",
   "execution_count": 60,
   "metadata": {
    "ExecuteTime": {
     "end_time": "2021-06-13T14:10:11.080715Z",
     "start_time": "2021-06-13T14:10:10.804451Z"
    }
   },
   "outputs": [
    {
     "data": {
      "text/plain": [
       "tensor(145)"
      ]
     },
     "execution_count": 60,
     "metadata": {},
     "output_type": "execute_result"
    }
   ],
   "source": [
    "torch.argmax(vgg16(penguin_tensor))"
   ]
  },
  {
   "cell_type": "code",
   "execution_count": 61,
   "metadata": {
    "ExecuteTime": {
     "end_time": "2021-06-13T14:10:11.969519Z",
     "start_time": "2021-06-13T14:10:11.392064Z"
    }
   },
   "outputs": [
    {
     "name": "stdout",
     "output_type": "stream",
     "text": [
      "Probability that there is a penguin on the picture: 0.86\n",
      "Sanity check - sum of all probabilities: 1.00\n"
     ]
    }
   ],
   "source": [
    "softmax_for_penguin = torch.nn.Softmax(dim=0)\n",
    "penguin_probability = softmax_for_penguin(vgg16(penguin_tensor)[0])[145]\n",
    "print(f\"Probability that there is a penguin on the picture: {penguin_probability:.2f}\")\n",
    "sum_of_all_proba = sum(softmax_for_penguin(vgg16(penguin_tensor)[0]))\n",
    "print(f\"Sanity check - sum of all probabilities: {sum_of_all_proba:.2f}\")"
   ]
  },
  {
   "cell_type": "markdown",
   "metadata": {},
   "source": [
    "#### Inception/GoogLeNet\n",
    "Inception i její mutace pojmenovaná [GoogLeNet](https://arxiv.org/abs/1409.4842) pochází taktéž z roku 2014. Je hlubší než VGGNet (22 vrstev), přitom je u ní k naučení řádově menší množství parametrů (VGG mělo cca 138 milionů, GoogLeNet má zhruba 13 milionů). Oproti předchozím sítím obsahuje tzv. inception modul (viz obr. 7), resp. řadu takovýchto modulů umístěných za sebe.\n",
    "Inception modul stojí na tom, že si člověk nemusí zvolit jednu velikost kernelu, ale že je v síti na stejném místě současně použito několikero velikosti kernelů a feature mapy jimi vytvořené se potom sloučí na jednu hromadu. Tj. pokud v inception modulu byly čtyři vrstvy o počtu produkovaných channelů 64, 128, 32 a 32, bude mít výstup modulu 256 channelů. Člověka by při pohledu na obrázek mohlo napadnout, jaký význam mají kernely o velikosti 1x1. Ty slouží na redukci počtu channelů (při zachování výšky a šířky) a tím i výpočetní zátěže.\n",
    "\n",
    "![inception_module.png](pytorch_images/inception_module.png)\n",
    "<center>Obrázek 7: Náčrt inception modulu. Obrázek pochází z <a href=\"https://arxiv.org/abs/1409.4842\">C. Szegedy et al.: Going deeper with convolutions, 2014</a>.</center>  "
   ]
  },
  {
   "cell_type": "code",
   "execution_count": 62,
   "metadata": {
    "ExecuteTime": {
     "end_time": "2021-06-13T14:12:12.657357Z",
     "start_time": "2021-06-13T14:12:09.329664Z"
    }
   },
   "outputs": [],
   "source": [
    "import torchvision.models as models\n",
    "googlenet = models.googlenet(pretrained=True)"
   ]
  },
  {
   "cell_type": "code",
   "execution_count": 63,
   "metadata": {
    "ExecuteTime": {
     "end_time": "2021-06-13T14:12:13.159218Z",
     "start_time": "2021-06-13T14:12:13.145442Z"
    }
   },
   "outputs": [
    {
     "name": "stdout",
     "output_type": "stream",
     "text": [
      "Model in train mode: True\n",
      "Model in train mode: False\n"
     ]
    }
   ],
   "source": [
    "print(f\"Model in train mode: {googlenet.training}\")\n",
    "googlenet.eval()\n",
    "print(f\"Model in train mode: {googlenet.training}\")"
   ]
  },
  {
   "cell_type": "code",
   "execution_count": 64,
   "metadata": {
    "ExecuteTime": {
     "end_time": "2021-06-13T14:12:14.423486Z",
     "start_time": "2021-06-13T14:12:13.427583Z"
    }
   },
   "outputs": [
    {
     "data": {
      "text/plain": [
       "torch.Size([1, 1000])"
      ]
     },
     "execution_count": 64,
     "metadata": {},
     "output_type": "execute_result"
    }
   ],
   "source": [
    "googlenet(penguin_tensor).shape"
   ]
  },
  {
   "cell_type": "code",
   "execution_count": 65,
   "metadata": {
    "ExecuteTime": {
     "end_time": "2021-06-13T14:12:14.910187Z",
     "start_time": "2021-06-13T14:12:14.742638Z"
    }
   },
   "outputs": [
    {
     "data": {
      "text/plain": [
       "tensor(145)"
      ]
     },
     "execution_count": 65,
     "metadata": {},
     "output_type": "execute_result"
    }
   ],
   "source": [
    "torch.argmax(googlenet(penguin_tensor))"
   ]
  },
  {
   "cell_type": "code",
   "execution_count": 66,
   "metadata": {
    "ExecuteTime": {
     "end_time": "2021-06-13T14:12:16.213644Z",
     "start_time": "2021-06-13T14:12:15.212379Z"
    }
   },
   "outputs": [
    {
     "name": "stdout",
     "output_type": "stream",
     "text": [
      "Probability that there is a penguin on the picture: 0.71\n",
      "Sanity check - sum of all probabilities: 1.00\n"
     ]
    }
   ],
   "source": [
    "softmax_for_penguin = torch.nn.Softmax(dim=0)\n",
    "penguin_probability = softmax_for_penguin(googlenet(penguin_tensor)[0])[145]\n",
    "print(f\"Probability that there is a penguin on the picture: {penguin_probability:.2f}\")\n",
    "sum_of_all_proba = sum(softmax_for_penguin(googlenet(penguin_tensor)[0]))\n",
    "print(f\"Sanity check - sum of all probabilities: {sum_of_all_proba:.2f}\")"
   ]
  },
  {
   "cell_type": "markdown",
   "metadata": {},
   "source": [
    "#### ResNet  \n",
    "Jak šel čas a zlepšovaly se hardwarové modely, rostla u sítí jejich hloubka. Bohužel tento růst nemohl být nekonečný a to kvůli vanishing gradientu (aka příliš početné přenásobení gradientu ztrátové funkce číslem v absolutní hodnotě menším než 1). Řešením, které bylo aplikováno v Residual Neuron Network v roce 2015, byly tzv. skip connectiony. Fakticky se jedná o zkratku obcházející některé konvoluční vrstvy (viz obr. 8). \n",
    "![skip_connection.png](pytorch_images/skip_connection.png)\n",
    "<center>Obrázek 8: Náčrt skip connectiony. Obrázek pochází z <a href=\"https://arxiv.org/abs/1512.03385\">K. He et al.: Deep Residual Learning for Image Recognition, 2015</a>.</center"
   ]
  },
  {
   "cell_type": "code",
   "execution_count": 67,
   "metadata": {
    "ExecuteTime": {
     "end_time": "2021-06-13T14:12:22.190818Z",
     "start_time": "2021-06-13T14:12:21.540178Z"
    }
   },
   "outputs": [],
   "source": [
    "import torchvision.models as models\n",
    "resnet18 = models.resnet18(pretrained=True)"
   ]
  },
  {
   "cell_type": "code",
   "execution_count": 68,
   "metadata": {
    "ExecuteTime": {
     "end_time": "2021-06-13T14:12:22.487027Z",
     "start_time": "2021-06-13T14:12:22.474061Z"
    }
   },
   "outputs": [
    {
     "name": "stdout",
     "output_type": "stream",
     "text": [
      "Model in train mode: True\n",
      "Model in train mode: False\n"
     ]
    }
   ],
   "source": [
    "print(f\"Model in train mode: {resnet18.training}\")\n",
    "resnet18.eval()\n",
    "print(f\"Model in train mode: {resnet18.training}\")"
   ]
  },
  {
   "cell_type": "code",
   "execution_count": 69,
   "metadata": {
    "ExecuteTime": {
     "end_time": "2021-06-13T14:12:23.114844Z",
     "start_time": "2021-06-13T14:12:22.816648Z"
    }
   },
   "outputs": [
    {
     "data": {
      "text/plain": [
       "torch.Size([1, 1000])"
      ]
     },
     "execution_count": 69,
     "metadata": {},
     "output_type": "execute_result"
    }
   ],
   "source": [
    "resnet18(penguin_tensor).shape"
   ]
  },
  {
   "cell_type": "code",
   "execution_count": 70,
   "metadata": {
    "ExecuteTime": {
     "end_time": "2021-06-13T14:12:23.537715Z",
     "start_time": "2021-06-13T14:12:23.437983Z"
    }
   },
   "outputs": [
    {
     "data": {
      "text/plain": [
       "tensor(145)"
      ]
     },
     "execution_count": 70,
     "metadata": {},
     "output_type": "execute_result"
    }
   ],
   "source": [
    "torch.argmax(resnet18(penguin_tensor))"
   ]
  },
  {
   "cell_type": "code",
   "execution_count": 71,
   "metadata": {
    "ExecuteTime": {
     "end_time": "2021-06-13T14:12:24.861926Z",
     "start_time": "2021-06-13T14:12:24.716315Z"
    }
   },
   "outputs": [
    {
     "name": "stdout",
     "output_type": "stream",
     "text": [
      "Probability that there is a penguin on the picture: 0.51\n",
      "Sanity check - sum of all probabilities: 1.00\n"
     ]
    }
   ],
   "source": [
    "softmax_for_penguin = torch.nn.Softmax(dim=0)\n",
    "penguin_probability = softmax_for_penguin(resnet18(penguin_tensor)[0])[145]\n",
    "print(f\"Probability that there is a penguin on the picture: {penguin_probability:.2f}\")\n",
    "sum_of_all_proba = sum(softmax_for_penguin(resnet18(penguin_tensor)[0]))\n",
    "print(f\"Sanity check - sum of all probabilities: {sum_of_all_proba:.2f}\")"
   ]
  },
  {
   "cell_type": "markdown",
   "metadata": {},
   "source": [
    "## Transfer learning  \n",
    "Výše jsme řešili situaci, kdy můžeme na naše data vypustit předtrénovaný model. Co ale máme dělat v případě, kdy se třídy obrázků, které chceme klasifikovat, nekryjí s těmi v předtrénovaných modelech a současně nemáme dost dat či silné železo na to, abychom natréovali model od první do poslední vrstvy? V takovém případě použijeme transfer learning.  \n",
    "Tranfer learning je fakticky transfer zkušeností, které neuronová síť nabrala u jedné úlohy, k úloze jiné. V praxi to znamená, že se při učení sítě na nových datech mění váhy jen u X posledních vrstev, zatímco vrstvy předchozí jsou \"zmražené\". Pokud jsou si úlohy relativně podobné, stačí přetrénovat jen poslední dense vrstvy, v opačném případě se musí přetrénovat i některé z konvolučních vrstev. Samozřejmě asi ne ty první, které zachycují obecné geometrické tvary, ale spíš těch pár posledních.  \n",
    "Pro demonstraci použitelnosti transfer learningu zkusíme porovnat síť trénovanou úplně od začátku a předtrénovanou síť se zamrzlými konvolučními vrstvami. Cílem bude klasifikovat fotky ptáků [odsud](http://www.vision.caltech.edu/visipedia/CUB-200.html).  \n",
    "Nejprve si vytvoříme odpovídající dataset. Kód níže předpokládá, že se v domovském adresáři Jupyteru nalézá adresář *birds*, ve kterém jsou podadresáře odpovídající jednotlivým druhům. Možná vám přijde kód v metodě \\_get_classes_and_file_names poněkud divoký. To je kvůli tomu, že v adresářích jsou krom normálních jpg obrázků i divné jpg soubory bez relevantního obsahu. Transformace obrázků víceméně odpovídají transformacím tučňáka z předešlé kapitoly.  \n",
    "Obrázky pro transfer learning byly přeškálovany na 224x224, neboť tento rozměr měly i trénovací data původního modelu. U custom modelu proběhlo škálování na 100x100, neboť vyšší rozměry by už můj počítač nezvládl."
   ]
  },
  {
   "cell_type": "code",
   "execution_count": 2,
   "metadata": {
    "ExecuteTime": {
     "end_time": "2021-06-18T18:32:53.671300Z",
     "start_time": "2021-06-18T18:32:48.827069Z"
    }
   },
   "outputs": [],
   "source": [
    "class BirdsDataset(torch.utils.data.Dataset):\n",
    "    def _get_classes_and_file_names(self):\n",
    "        classes_dict = {}\n",
    "        picture_names_dict = {}\n",
    "        self.class_to_class_index = {}\n",
    "\n",
    "        initial_index = 0\n",
    "        initial_class_index = 0\n",
    "        for current_walk_dir, _, all_file_names in os.walk(top=\"birds\", topdown=False):\n",
    "            bird_file_names =[file_name for file_name in all_file_names if \"._\" not in file_name]\n",
    "            for bird_file_name in bird_file_names:\n",
    "                bird_name = \"_\".join(bird_file_names[0].split(\"_\")[:-2])\n",
    "                classes_dict[initial_index] = bird_name\n",
    "                picture_names_dict[initial_index] = current_walk_dir + \"\\\\\" + bird_file_name\n",
    "                initial_index += 1\n",
    "                if bird_name not in self.class_to_class_index:\n",
    "                    self.class_to_class_index[bird_name] = initial_class_index\n",
    "                    initial_class_index += 1\n",
    "        return picture_names_dict, classes_dict\n",
    "    \n",
    "    def __init__(self, transform):      \n",
    "        self.predictors, self.targets = self._get_classes_and_file_names()\n",
    "        self.transform = transform\n",
    "\n",
    "    def __len__(self):\n",
    "        return len(self.targets)\n",
    "\n",
    "    def __getitem__(self, index):\n",
    "        one_file_name = self.predictors[index]\n",
    "        bird_image = imread(pathlib.Path(one_file_name))/255\n",
    "        bird_image = bird_image.transpose(2, 0, 1)\n",
    "        bird_image_tensor = torch.from_numpy(bird_image).to(dtype=torch.float)\n",
    "        bird_image_tensor = self.transform(bird_image_tensor)\n",
    "        \n",
    "        one_record_target = self.targets[index]\n",
    "        one_record_target_tensor = self.class_to_class_index[one_record_target]\n",
    "        return bird_image_tensor, one_record_target_tensor\n",
    "\n",
    "birds_dataset_custom = BirdsDataset(transform=torchvision.transforms.Resize([100,100]))\n",
    "train_size_custom = int(0.8 * len(birds_dataset_custom))\n",
    "test_size_custom = len(birds_dataset_custom) - train_size_custom\n",
    "train_dataset_custom, test_dataset_custom = \\\n",
    "    torch.utils.data.random_split(birds_dataset_custom, [train_size_custom, test_size_custom])\n",
    "train_loader_custom = torch.utils.data.DataLoader(train_dataset_custom, batch_size=32, shuffle=True, pin_memory=True)\n",
    "test_loader_custom = torch.utils.data.DataLoader(test_dataset_custom, batch_size=64, shuffle=True, pin_memory=True)\n",
    "\n",
    "birds_dataset_tran = BirdsDataset(transform=torchvision.transforms.Resize([224,224]))\n",
    "train_size_tran = int(0.8 * len(birds_dataset_tran))\n",
    "test_size_tran = len(birds_dataset_tran) - train_size_tran\n",
    "train_dataset_tran, test_dataset_tran = \\\n",
    "    torch.utils.data.random_split(birds_dataset_tran, [train_size_tran, test_size_tran])\n",
    "train_loader_tran= torch.utils.data.DataLoader(train_dataset_tran, batch_size=32, shuffle=True, pin_memory=True)\n",
    "test_loader_tran = torch.utils.data.DataLoader(test_dataset_tran, batch_size=64, shuffle=True, pin_memory=True)"
   ]
  },
  {
   "cell_type": "markdown",
   "metadata": {},
   "source": [
    "Vypusťme na dataset ručně vytvořený model. Jeho architektura má k dokonalosti daleko, ale cokoli lepšího by vedlo pouze na errorovou hlášku o nedostatku paměti na GPU."
   ]
  },
  {
   "cell_type": "code",
   "execution_count": 3,
   "metadata": {
    "ExecuteTime": {
     "end_time": "2021-06-18T18:45:42.875400Z",
     "start_time": "2021-06-18T18:32:55.577258Z"
    }
   },
   "outputs": [
    {
     "name": "stdout",
     "output_type": "stream",
     "text": [
      "Epoch 1\n",
      "----------------------------------------\n",
      "Avg. loss per record - train: 6.2600559240934865\n",
      "Avg. loss per record - test: 5.568668516058671\n",
      "Correct predictions in current epoch: 56.0 (from 1207)\n",
      "Avg. test accuracy: 0.046\n",
      "\n",
      "Epoch 2\n",
      "----------------------------------------\n",
      "Avg. loss per record - train: 3.1419075356413986\n",
      "Avg. loss per record - test: 5.577868913349352\n",
      "Correct predictions in current epoch: 90.0 (from 1207)\n",
      "Avg. test accuracy: 0.075\n",
      "\n",
      "Epoch 3\n",
      "----------------------------------------\n",
      "Avg. loss per record - train: 1.2628170315003553\n",
      "Avg. loss per record - test: 5.667599477266011\n",
      "Correct predictions in current epoch: 85.0 (from 1207)\n",
      "Avg. test accuracy: 0.070\n",
      "\n",
      "Epoch 4\n",
      "----------------------------------------\n",
      "Avg. loss per record - train: 0.41193521605027433\n",
      "Avg. loss per record - test: 5.426454719744231\n",
      "Correct predictions in current epoch: 112.0 (from 1207)\n",
      "Avg. test accuracy: 0.093\n",
      "\n",
      "Epoch 5\n",
      "----------------------------------------\n",
      "Avg. loss per record - train: 0.1553214823222713\n",
      "Avg. loss per record - test: 5.202044537192897\n",
      "Correct predictions in current epoch: 115.0 (from 1207)\n",
      "Avg. test accuracy: 0.095\n",
      "\n",
      "Training has been completed.\n"
     ]
    },
    {
     "data": {
      "image/png": "[encoded data removed]",
      "text/plain": [
       "<Figure size 432x288 with 1 Axes>"
      ]
     },
     "metadata": {
      "needs_background": "light"
     },
     "output_type": "display_data"
    },
    {
     "data": {
      "image/png": "[encoded data removed]",
      "text/plain": [
       "<Figure size 432x288 with 1 Axes>"
      ]
     },
     "metadata": {
      "needs_background": "light"
     },
     "output_type": "display_data"
    }
   ],
   "source": [
    "class ConvNeuralNetwork(torch.nn.Module):\n",
    "    def __init__(self):\n",
    "        super(ConvNeuralNetwork, self).__init__()\n",
    "        self.first_conv = torch.nn.Conv2d(3,30, kernel_size=3)\n",
    "        self.first_batch_norm = torch.nn.BatchNorm2d(30)\n",
    "        self.second_conv = torch.nn.Conv2d(30,70, kernel_size=3)\n",
    "        self.second_batch_norm = torch.nn.BatchNorm2d(70)\n",
    "        self.linear = torch.nn.Linear(37030,200)\n",
    "        self.relu = torch.nn.ReLU()  \n",
    "        self.max_pool = torch.nn.MaxPool2d(2)\n",
    "\n",
    "    def forward(self, x):\n",
    "        x = self.first_conv(x)\n",
    "        x = self.first_batch_norm(x)        \n",
    "        x = self.relu(x)\n",
    "        x = self.max_pool(x)\n",
    "        x = self.second_conv(x)\n",
    "        x = self.second_batch_norm(x)\n",
    "        x = self.relu(x)\n",
    "        x = self.max_pool(x)\n",
    "        x = torch.flatten(x, 1)\n",
    "        x = self.linear(x) \n",
    "        return x\n",
    "\n",
    "def training_function(\n",
    "    predictors_train, target_train, model, \n",
    "    loss_function, optimizer, device, training_loss    \n",
    "):\n",
    "    predictors_train = predictors_train.to(device) \n",
    "    target_train = target_train.to(device)\n",
    "        \n",
    "    prediction = model(predictors_train.float())\n",
    "    loss = loss_function(prediction, target_train)\n",
    "\n",
    "    optimizer.zero_grad()\n",
    "    loss.backward()\n",
    "    optimizer.step()\n",
    "\n",
    "    loss = loss.item()\n",
    "    training_loss.append(loss)       \n",
    "\n",
    "def testing_function(\n",
    "    predictors_test, target_test, \n",
    "    model, loss_function, device, testing_loss    \n",
    "):\n",
    "    predictors_test = predictors_test.to(device)\n",
    "    target_test = target_test.to(device)\n",
    "    \n",
    "    with torch.no_grad():\n",
    "        prediction = model(predictors_test.float())\n",
    "        test_loss = loss_function(prediction, target_test).item()\n",
    "        correct_pred_count = (prediction.argmax(1) == target_test).type(torch.float).sum().item()\n",
    "        \n",
    "    testing_loss.append(test_loss)\n",
    "    return correct_pred_count\n",
    "\n",
    "\n",
    "device = \"cuda\" if torch.cuda.is_available() else \"cpu\"\n",
    "model = ConvNeuralNetwork().to(device)\n",
    "loss_function = torch.nn.CrossEntropyLoss()\n",
    "optimizer = torch.optim.Adam(model.parameters(), lr=0.0001)\n",
    "epochs = 5\n",
    "\n",
    "training_loss_epoch = []\n",
    "training_loss_iteration = []\n",
    "testing_loss_epoch = []\n",
    "for epoch_index in range(epochs):\n",
    "    print(f\"Epoch {epoch_index+1}\\n----------------------------------------\")\n",
    "    \n",
    "    model.train()\n",
    "    training_loss = []\n",
    "    for batch_index, batch in enumerate(train_loader_custom):\n",
    "        training_function(\n",
    "            batch[0], batch[1], model, \n",
    "            loss_function, optimizer, device, training_loss\n",
    "        )\n",
    "    training_loss_iteration += training_loss\n",
    "    avg_loss_per_batch_train = sum(training_loss)/(batch_index+1)\n",
    "    training_loss_epoch.append(avg_loss_per_batch_train)\n",
    "    print(f\"Avg. loss per record - train: {avg_loss_per_batch_train}\")      \n",
    "        \n",
    "    model.eval()\n",
    "    testing_loss = []\n",
    "    correct_pred_count = 0\n",
    "    for batch_index, batch in enumerate(test_loader_custom): \n",
    "        correct_pred_count += testing_function(\n",
    "           batch[0], batch[1], model, \n",
    "           loss_function, device, testing_loss\n",
    "        )\n",
    "    avg_loss_per_batch_test = sum(testing_loss)/(batch_index+1)\n",
    "    testing_loss_epoch.append(avg_loss_per_batch_test)\n",
    "    print(f\"Avg. loss per record - test: {avg_loss_per_batch_test}\")\n",
    "    print(f\"Correct predictions in current epoch: {correct_pred_count} (from {len(test_dataset_custom)})\")\n",
    "    print(f\"Avg. test accuracy: {correct_pred_count/len(test_dataset_custom):.3f}\\n\")\n",
    "        \n",
    "print(\"Training has been completed.\")\n",
    "\n",
    "plt.plot(training_loss_iteration)\n",
    "plt.title(\"Dependence of training loss on iteration\")\n",
    "plt.xlabel(\"Iteration number\")\n",
    "plt.ylabel(\"Loss\")\n",
    "\n",
    "plt.figure()\n",
    "plt.plot(training_loss_epoch, \"o-\")\n",
    "plt.plot(testing_loss_epoch, \"o-\")\n",
    "plt.title(\"Comparison of training and testing loss\")\n",
    "plt.xlabel(\"Epoch number\")\n",
    "plt.ylabel(\"Loss\")\n",
    "plt.legend([\"train\", \"test\"]);"
   ]
  },
  {
   "cell_type": "markdown",
   "metadata": {},
   "source": [
    "Žádná slávo to tedy není.  \n",
    "Nyní použijme transfer learning. Vycházet budeme z resnetu, který si tudíž musíme načíst."
   ]
  },
  {
   "cell_type": "code",
   "execution_count": 3,
   "metadata": {
    "ExecuteTime": {
     "end_time": "2021-06-14T13:05:51.812235Z",
     "start_time": "2021-06-14T13:05:49.452764Z"
    }
   },
   "outputs": [],
   "source": [
    "import torchvision.models as models\n",
    "resnet18 = models.resnet18(pretrained=True)"
   ]
  },
  {
   "cell_type": "markdown",
   "metadata": {},
   "source": [
    "Když se podíváme na strukturu tohoto modelu, vidíme, že se skládá z několika konvolučních bloků a že na jeho samotném konci je obyčejná dense vrstva mapující svoje vstupy na 1000 výstupů odpovídající jednotlivým třídám Imagenetu."
   ]
  },
  {
   "cell_type": "code",
   "execution_count": 4,
   "metadata": {
    "ExecuteTime": {
     "end_time": "2021-06-14T13:05:51.859101Z",
     "start_time": "2021-06-14T13:05:51.827860Z"
    }
   },
   "outputs": [
    {
     "data": {
      "text/plain": [
       "ResNet(\n",
       "  (conv1): Conv2d(3, 64, kernel_size=(7, 7), stride=(2, 2), padding=(3, 3), bias=False)\n",
       "  (bn1): BatchNorm2d(64, eps=1e-05, momentum=0.1, affine=True, track_running_stats=True)\n",
       "  (relu): ReLU(inplace=True)\n",
       "  (maxpool): MaxPool2d(kernel_size=3, stride=2, padding=1, dilation=1, ceil_mode=False)\n",
       "  (layer1): Sequential(\n",
       "    (0): BasicBlock(\n",
       "      (conv1): Conv2d(64, 64, kernel_size=(3, 3), stride=(1, 1), padding=(1, 1), bias=False)\n",
       "      (bn1): BatchNorm2d(64, eps=1e-05, momentum=0.1, affine=True, track_running_stats=True)\n",
       "      (relu): ReLU(inplace=True)\n",
       "      (conv2): Conv2d(64, 64, kernel_size=(3, 3), stride=(1, 1), padding=(1, 1), bias=False)\n",
       "      (bn2): BatchNorm2d(64, eps=1e-05, momentum=0.1, affine=True, track_running_stats=True)\n",
       "    )\n",
       "    (1): BasicBlock(\n",
       "      (conv1): Conv2d(64, 64, kernel_size=(3, 3), stride=(1, 1), padding=(1, 1), bias=False)\n",
       "      (bn1): BatchNorm2d(64, eps=1e-05, momentum=0.1, affine=True, track_running_stats=True)\n",
       "      (relu): ReLU(inplace=True)\n",
       "      (conv2): Conv2d(64, 64, kernel_size=(3, 3), stride=(1, 1), padding=(1, 1), bias=False)\n",
       "      (bn2): BatchNorm2d(64, eps=1e-05, momentum=0.1, affine=True, track_running_stats=True)\n",
       "    )\n",
       "  )\n",
       "  (layer2): Sequential(\n",
       "    (0): BasicBlock(\n",
       "      (conv1): Conv2d(64, 128, kernel_size=(3, 3), stride=(2, 2), padding=(1, 1), bias=False)\n",
       "      (bn1): BatchNorm2d(128, eps=1e-05, momentum=0.1, affine=True, track_running_stats=True)\n",
       "      (relu): ReLU(inplace=True)\n",
       "      (conv2): Conv2d(128, 128, kernel_size=(3, 3), stride=(1, 1), padding=(1, 1), bias=False)\n",
       "      (bn2): BatchNorm2d(128, eps=1e-05, momentum=0.1, affine=True, track_running_stats=True)\n",
       "      (downsample): Sequential(\n",
       "        (0): Conv2d(64, 128, kernel_size=(1, 1), stride=(2, 2), bias=False)\n",
       "        (1): BatchNorm2d(128, eps=1e-05, momentum=0.1, affine=True, track_running_stats=True)\n",
       "      )\n",
       "    )\n",
       "    (1): BasicBlock(\n",
       "      (conv1): Conv2d(128, 128, kernel_size=(3, 3), stride=(1, 1), padding=(1, 1), bias=False)\n",
       "      (bn1): BatchNorm2d(128, eps=1e-05, momentum=0.1, affine=True, track_running_stats=True)\n",
       "      (relu): ReLU(inplace=True)\n",
       "      (conv2): Conv2d(128, 128, kernel_size=(3, 3), stride=(1, 1), padding=(1, 1), bias=False)\n",
       "      (bn2): BatchNorm2d(128, eps=1e-05, momentum=0.1, affine=True, track_running_stats=True)\n",
       "    )\n",
       "  )\n",
       "  (layer3): Sequential(\n",
       "    (0): BasicBlock(\n",
       "      (conv1): Conv2d(128, 256, kernel_size=(3, 3), stride=(2, 2), padding=(1, 1), bias=False)\n",
       "      (bn1): BatchNorm2d(256, eps=1e-05, momentum=0.1, affine=True, track_running_stats=True)\n",
       "      (relu): ReLU(inplace=True)\n",
       "      (conv2): Conv2d(256, 256, kernel_size=(3, 3), stride=(1, 1), padding=(1, 1), bias=False)\n",
       "      (bn2): BatchNorm2d(256, eps=1e-05, momentum=0.1, affine=True, track_running_stats=True)\n",
       "      (downsample): Sequential(\n",
       "        (0): Conv2d(128, 256, kernel_size=(1, 1), stride=(2, 2), bias=False)\n",
       "        (1): BatchNorm2d(256, eps=1e-05, momentum=0.1, affine=True, track_running_stats=True)\n",
       "      )\n",
       "    )\n",
       "    (1): BasicBlock(\n",
       "      (conv1): Conv2d(256, 256, kernel_size=(3, 3), stride=(1, 1), padding=(1, 1), bias=False)\n",
       "      (bn1): BatchNorm2d(256, eps=1e-05, momentum=0.1, affine=True, track_running_stats=True)\n",
       "      (relu): ReLU(inplace=True)\n",
       "      (conv2): Conv2d(256, 256, kernel_size=(3, 3), stride=(1, 1), padding=(1, 1), bias=False)\n",
       "      (bn2): BatchNorm2d(256, eps=1e-05, momentum=0.1, affine=True, track_running_stats=True)\n",
       "    )\n",
       "  )\n",
       "  (layer4): Sequential(\n",
       "    (0): BasicBlock(\n",
       "      (conv1): Conv2d(256, 512, kernel_size=(3, 3), stride=(2, 2), padding=(1, 1), bias=False)\n",
       "      (bn1): BatchNorm2d(512, eps=1e-05, momentum=0.1, affine=True, track_running_stats=True)\n",
       "      (relu): ReLU(inplace=True)\n",
       "      (conv2): Conv2d(512, 512, kernel_size=(3, 3), stride=(1, 1), padding=(1, 1), bias=False)\n",
       "      (bn2): BatchNorm2d(512, eps=1e-05, momentum=0.1, affine=True, track_running_stats=True)\n",
       "      (downsample): Sequential(\n",
       "        (0): Conv2d(256, 512, kernel_size=(1, 1), stride=(2, 2), bias=False)\n",
       "        (1): BatchNorm2d(512, eps=1e-05, momentum=0.1, affine=True, track_running_stats=True)\n",
       "      )\n",
       "    )\n",
       "    (1): BasicBlock(\n",
       "      (conv1): Conv2d(512, 512, kernel_size=(3, 3), stride=(1, 1), padding=(1, 1), bias=False)\n",
       "      (bn1): BatchNorm2d(512, eps=1e-05, momentum=0.1, affine=True, track_running_stats=True)\n",
       "      (relu): ReLU(inplace=True)\n",
       "      (conv2): Conv2d(512, 512, kernel_size=(3, 3), stride=(1, 1), padding=(1, 1), bias=False)\n",
       "      (bn2): BatchNorm2d(512, eps=1e-05, momentum=0.1, affine=True, track_running_stats=True)\n",
       "    )\n",
       "  )\n",
       "  (avgpool): AdaptiveAvgPool2d(output_size=(1, 1))\n",
       "  (fc): Linear(in_features=512, out_features=1000, bias=True)\n",
       ")"
      ]
     },
     "execution_count": 4,
     "metadata": {},
     "output_type": "execute_result"
    }
   ],
   "source": [
    "resnet18"
   ]
  },
  {
   "cell_type": "markdown",
   "metadata": {},
   "source": [
    "Všechny vrstvy mají defaultně nastaveno *require_grad* na True, tj. mohou být přetrénovány. To nechceme, proto musíme u všech nastavíme *require_grad* na False. Následně přepíšeme dense vrstvu tak, aby měla jen 200 výstupů, což odpovídá počtu tříd operečnů v naší úloze. Jelikož jsme tuto vstvu vytvořili nově, má narozdíl od ostatních přetrénování povolené. Koneckonců to je potřeba - váhy jsou inicializovány na nevhodné hodnoty."
   ]
  },
  {
   "cell_type": "code",
   "execution_count": 5,
   "metadata": {
    "ExecuteTime": {
     "end_time": "2021-06-14T13:05:51.990629Z",
     "start_time": "2021-06-14T13:05:51.874724Z"
    }
   },
   "outputs": [],
   "source": [
    "for param in resnet18.parameters():\n",
    "    param.requires_grad = False\n",
    "\n",
    "resnet18.fc = torch.nn.Linear(in_features=512, out_features=200, bias=True)"
   ]
  },
  {
   "cell_type": "markdown",
   "metadata": {},
   "source": [
    "Spusťme trénování."
   ]
  },
  {
   "cell_type": "code",
   "execution_count": 7,
   "metadata": {
    "ExecuteTime": {
     "end_time": "2021-06-14T13:40:40.738562Z",
     "start_time": "2021-06-14T13:05:53.951328Z"
    }
   },
   "outputs": [
    {
     "name": "stdout",
     "output_type": "stream",
     "text": [
      "Epoch 1\n",
      "----------------------------------------\n",
      "Avg. loss per record - train: 4.698748680140009\n",
      "Avg. loss per record - test: 3.7799875359786186\n",
      "Correct predictions in current epoch: 245.0 (from 1207)\n",
      "Avg. test accuracy: 0.203\n",
      "\n",
      "Epoch 2\n",
      "----------------------------------------\n",
      "Avg. loss per record - train: 3.0067842732991603\n",
      "Avg. loss per record - test: 2.9852578765467594\n",
      "Correct predictions in current epoch: 391.0 (from 1207)\n",
      "Avg. test accuracy: 0.324\n",
      "\n",
      "Epoch 3\n",
      "----------------------------------------\n",
      "Avg. loss per record - train: 2.1780143826213103\n",
      "Avg. loss per record - test: 2.5857470412003365\n",
      "Correct predictions in current epoch: 493.0 (from 1207)\n",
      "Avg. test accuracy: 0.408\n",
      "\n",
      "Epoch 4\n",
      "----------------------------------------\n",
      "Avg. loss per record - train: 1.7083425624481101\n",
      "Avg. loss per record - test: 2.327026053478843\n",
      "Correct predictions in current epoch: 541.0 (from 1207)\n",
      "Avg. test accuracy: 0.448\n",
      "\n",
      "Epoch 5\n",
      "----------------------------------------\n",
      "Avg. loss per record - train: 1.4041710649894563\n",
      "Avg. loss per record - test: 2.223133137351588\n",
      "Correct predictions in current epoch: 538.0 (from 1207)\n",
      "Avg. test accuracy: 0.446\n",
      "\n",
      "Epoch 6\n",
      "----------------------------------------\n",
      "Avg. loss per record - train: 1.150703954380869\n",
      "Avg. loss per record - test: 2.11729843992936\n",
      "Correct predictions in current epoch: 568.0 (from 1207)\n",
      "Avg. test accuracy: 0.471\n",
      "\n",
      "Epoch 7\n",
      "----------------------------------------\n",
      "Avg. loss per record - train: 0.997025246257024\n",
      "Avg. loss per record - test: 2.0620929692920886\n",
      "Correct predictions in current epoch: 572.0 (from 1207)\n",
      "Avg. test accuracy: 0.474\n",
      "\n",
      "Epoch 8\n",
      "----------------------------------------\n",
      "Avg. loss per record - train: 0.851965507924162\n",
      "Avg. loss per record - test: 2.0056011551304866\n",
      "Correct predictions in current epoch: 597.0 (from 1207)\n",
      "Avg. test accuracy: 0.495\n",
      "\n",
      "Epoch 9\n",
      "----------------------------------------\n",
      "Avg. loss per record - train: 0.7445324110669016\n",
      "Avg. loss per record - test: 1.9999135544425564\n",
      "Correct predictions in current epoch: 600.0 (from 1207)\n",
      "Avg. test accuracy: 0.497\n",
      "\n",
      "Epoch 10\n",
      "----------------------------------------\n",
      "Avg. loss per record - train: 0.6455831563235909\n",
      "Avg. loss per record - test: 1.9500985020085384\n",
      "Correct predictions in current epoch: 610.0 (from 1207)\n",
      "Avg. test accuracy: 0.505\n",
      "\n",
      "Epoch 11\n",
      "----------------------------------------\n",
      "Avg. loss per record - train: 0.5855656109306197\n",
      "Avg. loss per record - test: 1.9605759946923507\n",
      "Correct predictions in current epoch: 616.0 (from 1207)\n",
      "Avg. test accuracy: 0.510\n",
      "\n",
      "Epoch 12\n",
      "----------------------------------------\n",
      "Avg. loss per record - train: 0.5176634188519408\n",
      "Avg. loss per record - test: 1.9662493028138812\n",
      "Correct predictions in current epoch: 623.0 (from 1207)\n",
      "Avg. test accuracy: 0.516\n",
      "\n",
      "Epoch 13\n",
      "----------------------------------------\n",
      "Avg. loss per record - train: 0.4655948691810204\n",
      "Avg. loss per record - test: 1.9666801440088373\n",
      "Correct predictions in current epoch: 590.0 (from 1207)\n",
      "Avg. test accuracy: 0.489\n",
      "\n",
      "Epoch 14\n",
      "----------------------------------------\n",
      "Avg. loss per record - train: 0.42651350213991884\n",
      "Avg. loss per record - test: 1.9632901392484967\n",
      "Correct predictions in current epoch: 615.0 (from 1207)\n",
      "Avg. test accuracy: 0.510\n",
      "\n",
      "Epoch 15\n",
      "----------------------------------------\n",
      "Avg. loss per record - train: 0.37673500190112763\n",
      "Avg. loss per record - test: 1.9909200542851497\n",
      "Correct predictions in current epoch: 588.0 (from 1207)\n",
      "Avg. test accuracy: 0.487\n",
      "\n",
      "Training has been completed.\n"
     ]
    },
    {
     "data": {
      "image/png": "[encoded data removed]",
      "text/plain": [
       "<Figure size 432x288 with 1 Axes>"
      ]
     },
     "metadata": {
      "needs_background": "light"
     },
     "output_type": "display_data"
    },
    {
     "data": {
      "image/png": "[encoded data removed]",
      "text/plain": [
       "<Figure size 432x288 with 1 Axes>"
      ]
     },
     "metadata": {
      "needs_background": "light"
     },
     "output_type": "display_data"
    }
   ],
   "source": [
    "def training_function(\n",
    "    predictors_train, target_train, model, \n",
    "    loss_function, optimizer, device, training_loss    \n",
    "):\n",
    "    predictors_train = predictors_train.to(device) \n",
    "    target_train = target_train.to(device)\n",
    "        \n",
    "    prediction = model(predictors_train.float())\n",
    "    loss = loss_function(prediction, target_train)\n",
    "\n",
    "    optimizer.zero_grad()\n",
    "    loss.backward()\n",
    "    optimizer.step()\n",
    "\n",
    "    loss = loss.item()\n",
    "    training_loss.append(loss)       \n",
    "\n",
    "def testing_function(\n",
    "    predictors_test, target_test, \n",
    "    model, loss_function, device, testing_loss    \n",
    "):\n",
    "    predictors_test = predictors_test.to(device)\n",
    "    target_test = target_test.to(device)\n",
    "    \n",
    "    with torch.no_grad():\n",
    "        prediction = model(predictors_test.float())\n",
    "        test_loss = loss_function(prediction, target_test).item()\n",
    "        correct_pred_count = (prediction.argmax(1) == target_test).type(torch.float).sum().item()\n",
    "        \n",
    "    testing_loss.append(test_loss)\n",
    "    return correct_pred_count\n",
    "\n",
    "\n",
    "device = \"cuda\" if torch.cuda.is_available() else \"cpu\"\n",
    "model = resnet18.to(device)\n",
    "loss_function = torch.nn.CrossEntropyLoss()\n",
    "optimizer = torch.optim.Adam(model.parameters(), lr=0.001)\n",
    "epochs = 15\n",
    "\n",
    "training_loss_epoch = []\n",
    "training_loss_iteration = []\n",
    "testing_loss_epoch = []\n",
    "for epoch_index in range(epochs):\n",
    "    print(f\"Epoch {epoch_index+1}\\n----------------------------------------\")\n",
    "    \n",
    "    model.train()\n",
    "    training_loss = []\n",
    "    for batch_index, batch in enumerate(train_loader_tran):\n",
    "        training_function(\n",
    "            batch[0], batch[1], model, \n",
    "            loss_function, optimizer, device, training_loss\n",
    "        )\n",
    "    training_loss_iteration += training_loss\n",
    "    avg_loss_per_batch_train = sum(training_loss)/(batch_index+1)\n",
    "    training_loss_epoch.append(avg_loss_per_batch_train)\n",
    "    print(f\"Avg. loss per record - train: {avg_loss_per_batch_train}\")      \n",
    "        \n",
    "    model.eval()\n",
    "    testing_loss = []\n",
    "    correct_pred_count = 0\n",
    "    for batch_index, batch in enumerate(test_loader_tran): \n",
    "        correct_pred_count += testing_function(\n",
    "           batch[0], batch[1], model, \n",
    "           loss_function, device, testing_loss\n",
    "        )\n",
    "    avg_loss_per_batch_test = sum(testing_loss)/(batch_index+1)\n",
    "    testing_loss_epoch.append(avg_loss_per_batch_test)\n",
    "    print(f\"Avg. loss per record - test: {avg_loss_per_batch_test}\")\n",
    "    print(f\"Correct predictions in current epoch: {correct_pred_count} (from {len(test_dataset_tran)})\")\n",
    "    print(f\"Avg. test accuracy: {correct_pred_count/len(test_dataset_tran):.3f}\\n\")\n",
    "        \n",
    "print(\"Training has been completed.\")\n",
    "\n",
    "plt.plot(training_loss_iteration)\n",
    "plt.title(\"Dependence of training loss on iteration\")\n",
    "plt.xlabel(\"Iteration number\")\n",
    "plt.ylabel(\"Loss\")\n",
    "\n",
    "plt.figure()\n",
    "plt.plot(training_loss_epoch, \"o-\")\n",
    "plt.plot(testing_loss_epoch, \"o-\")\n",
    "plt.title(\"Comparison of training and testing loss\")\n",
    "plt.xlabel(\"Epoch number\")\n",
    "plt.ylabel(\"Loss\")\n",
    "plt.legend([\"train\", \"test\"]);"
   ]
  },
  {
   "cell_type": "markdown",
   "metadata": {},
   "source": [
    "Je vidět, že ztrátová funkce pro testovací data už níže nepůjde, další epochy tak nemá smysl přidávat. Přesnost není zrovná slavná. Možná by pomohlo, kdybych trénovací data obohatily o věci typu náhodný flip obrázků či jejich točení a stlačování. Taky by asi pomohlo dát k přetrénování poslední konvoluční vrstvu - to by ale můj HW nezvládl. Každopádně takto vytvořený model je mnohem lepší než model vytvářený na zelené louce."
   ]
  },
  {
   "cell_type": "markdown",
   "metadata": {},
   "source": [
    "Vytvořme si ještě confusion matici."
   ]
  },
  {
   "cell_type": "code",
   "execution_count": 10,
   "metadata": {
    "ExecuteTime": {
     "end_time": "2021-06-14T13:42:31.809209Z",
     "start_time": "2021-06-14T13:42:09.164230Z"
    }
   },
   "outputs": [],
   "source": [
    "model.eval()\n",
    "\n",
    "list_predictions = []\n",
    "list_reality = []\n",
    "\n",
    "for batch in test_loader_tran: \n",
    "    with torch.no_grad():\n",
    "        features_to_cuda = batch[0].to(device)\n",
    "        prediction = model(features_to_cuda.float())\n",
    "        most_probably_pred = prediction.argmax(1).cpu().numpy()\n",
    "        list_predictions.append(most_probably_pred)\n",
    "    real_class = batch[1].cpu()\n",
    "    list_reality.append(real_class)\n",
    "\n",
    "conc_list_predictions = np.concatenate(list_predictions)\n",
    "conc_list_list_reality = np.concatenate(list_reality)"
   ]
  },
  {
   "cell_type": "markdown",
   "metadata": {},
   "source": [
    "Za jakých okolností vlastně model selhával? Základní druh ptáka určil obvykle správně, ale obšas s sekl u poddruhů. Napříkad indexy 0 až 3 včetně patří různým druhům albatrosa, indexy 192 až 198 včetně zase patří nejrůznějším střízlíků (mapování indexů na názvy ptáků je v *birds_dataset_tran.class_to_class_index*)."
   ]
  },
  {
   "cell_type": "code",
   "execution_count": 11,
   "metadata": {
    "ExecuteTime": {
     "end_time": "2021-06-14T13:42:33.494363Z",
     "start_time": "2021-06-14T13:42:32.796078Z"
    }
   },
   "outputs": [
    {
     "data": {
      "text/html": [
       "<div>\n",
       "<style scoped>\n",
       "    .dataframe tbody tr th:only-of-type {\n",
       "        vertical-align: middle;\n",
       "    }\n",
       "\n",
       "    .dataframe tbody tr th {\n",
       "        vertical-align: top;\n",
       "    }\n",
       "\n",
       "    .dataframe thead th {\n",
       "        text-align: right;\n",
       "    }\n",
       "</style>\n",
       "<table border=\"1\" class=\"dataframe\">\n",
       "  <thead>\n",
       "    <tr style=\"text-align: right;\">\n",
       "      <th>col_0</th>\n",
       "      <th>0</th>\n",
       "      <th>1</th>\n",
       "      <th>2</th>\n",
       "      <th>3</th>\n",
       "      <th>4</th>\n",
       "      <th>5</th>\n",
       "      <th>6</th>\n",
       "      <th>7</th>\n",
       "      <th>8</th>\n",
       "      <th>9</th>\n",
       "      <th>...</th>\n",
       "      <th>190</th>\n",
       "      <th>191</th>\n",
       "      <th>192</th>\n",
       "      <th>193</th>\n",
       "      <th>194</th>\n",
       "      <th>195</th>\n",
       "      <th>196</th>\n",
       "      <th>197</th>\n",
       "      <th>198</th>\n",
       "      <th>199</th>\n",
       "    </tr>\n",
       "    <tr>\n",
       "      <th>row_0</th>\n",
       "      <th></th>\n",
       "      <th></th>\n",
       "      <th></th>\n",
       "      <th></th>\n",
       "      <th></th>\n",
       "      <th></th>\n",
       "      <th></th>\n",
       "      <th></th>\n",
       "      <th></th>\n",
       "      <th></th>\n",
       "      <th></th>\n",
       "      <th></th>\n",
       "      <th></th>\n",
       "      <th></th>\n",
       "      <th></th>\n",
       "      <th></th>\n",
       "      <th></th>\n",
       "      <th></th>\n",
       "      <th></th>\n",
       "      <th></th>\n",
       "      <th></th>\n",
       "    </tr>\n",
       "  </thead>\n",
       "  <tbody>\n",
       "    <tr>\n",
       "      <th>0</th>\n",
       "      <td>4</td>\n",
       "      <td>1</td>\n",
       "      <td>2</td>\n",
       "      <td>0</td>\n",
       "      <td>0</td>\n",
       "      <td>0</td>\n",
       "      <td>0</td>\n",
       "      <td>0</td>\n",
       "      <td>0</td>\n",
       "      <td>0</td>\n",
       "      <td>...</td>\n",
       "      <td>0</td>\n",
       "      <td>0</td>\n",
       "      <td>0</td>\n",
       "      <td>0</td>\n",
       "      <td>0</td>\n",
       "      <td>0</td>\n",
       "      <td>0</td>\n",
       "      <td>0</td>\n",
       "      <td>0</td>\n",
       "      <td>0</td>\n",
       "    </tr>\n",
       "    <tr>\n",
       "      <th>1</th>\n",
       "      <td>0</td>\n",
       "      <td>3</td>\n",
       "      <td>2</td>\n",
       "      <td>0</td>\n",
       "      <td>0</td>\n",
       "      <td>0</td>\n",
       "      <td>0</td>\n",
       "      <td>0</td>\n",
       "      <td>0</td>\n",
       "      <td>0</td>\n",
       "      <td>...</td>\n",
       "      <td>0</td>\n",
       "      <td>0</td>\n",
       "      <td>0</td>\n",
       "      <td>0</td>\n",
       "      <td>0</td>\n",
       "      <td>0</td>\n",
       "      <td>0</td>\n",
       "      <td>0</td>\n",
       "      <td>0</td>\n",
       "      <td>0</td>\n",
       "    </tr>\n",
       "    <tr>\n",
       "      <th>2</th>\n",
       "      <td>0</td>\n",
       "      <td>1</td>\n",
       "      <td>2</td>\n",
       "      <td>0</td>\n",
       "      <td>0</td>\n",
       "      <td>0</td>\n",
       "      <td>0</td>\n",
       "      <td>0</td>\n",
       "      <td>0</td>\n",
       "      <td>0</td>\n",
       "      <td>...</td>\n",
       "      <td>0</td>\n",
       "      <td>0</td>\n",
       "      <td>0</td>\n",
       "      <td>0</td>\n",
       "      <td>0</td>\n",
       "      <td>0</td>\n",
       "      <td>0</td>\n",
       "      <td>0</td>\n",
       "      <td>0</td>\n",
       "      <td>0</td>\n",
       "    </tr>\n",
       "    <tr>\n",
       "      <th>3</th>\n",
       "      <td>0</td>\n",
       "      <td>0</td>\n",
       "      <td>0</td>\n",
       "      <td>3</td>\n",
       "      <td>0</td>\n",
       "      <td>0</td>\n",
       "      <td>0</td>\n",
       "      <td>0</td>\n",
       "      <td>0</td>\n",
       "      <td>0</td>\n",
       "      <td>...</td>\n",
       "      <td>0</td>\n",
       "      <td>0</td>\n",
       "      <td>0</td>\n",
       "      <td>0</td>\n",
       "      <td>0</td>\n",
       "      <td>0</td>\n",
       "      <td>0</td>\n",
       "      <td>0</td>\n",
       "      <td>0</td>\n",
       "      <td>0</td>\n",
       "    </tr>\n",
       "    <tr>\n",
       "      <th>4</th>\n",
       "      <td>0</td>\n",
       "      <td>0</td>\n",
       "      <td>0</td>\n",
       "      <td>0</td>\n",
       "      <td>4</td>\n",
       "      <td>0</td>\n",
       "      <td>1</td>\n",
       "      <td>0</td>\n",
       "      <td>0</td>\n",
       "      <td>0</td>\n",
       "      <td>...</td>\n",
       "      <td>0</td>\n",
       "      <td>0</td>\n",
       "      <td>0</td>\n",
       "      <td>0</td>\n",
       "      <td>0</td>\n",
       "      <td>0</td>\n",
       "      <td>0</td>\n",
       "      <td>0</td>\n",
       "      <td>0</td>\n",
       "      <td>0</td>\n",
       "    </tr>\n",
       "    <tr>\n",
       "      <th>...</th>\n",
       "      <td>...</td>\n",
       "      <td>...</td>\n",
       "      <td>...</td>\n",
       "      <td>...</td>\n",
       "      <td>...</td>\n",
       "      <td>...</td>\n",
       "      <td>...</td>\n",
       "      <td>...</td>\n",
       "      <td>...</td>\n",
       "      <td>...</td>\n",
       "      <td>...</td>\n",
       "      <td>...</td>\n",
       "      <td>...</td>\n",
       "      <td>...</td>\n",
       "      <td>...</td>\n",
       "      <td>...</td>\n",
       "      <td>...</td>\n",
       "      <td>...</td>\n",
       "      <td>...</td>\n",
       "      <td>...</td>\n",
       "      <td>...</td>\n",
       "    </tr>\n",
       "    <tr>\n",
       "      <th>195</th>\n",
       "      <td>0</td>\n",
       "      <td>0</td>\n",
       "      <td>0</td>\n",
       "      <td>0</td>\n",
       "      <td>0</td>\n",
       "      <td>0</td>\n",
       "      <td>0</td>\n",
       "      <td>0</td>\n",
       "      <td>0</td>\n",
       "      <td>0</td>\n",
       "      <td>...</td>\n",
       "      <td>0</td>\n",
       "      <td>0</td>\n",
       "      <td>1</td>\n",
       "      <td>0</td>\n",
       "      <td>0</td>\n",
       "      <td>1</td>\n",
       "      <td>1</td>\n",
       "      <td>0</td>\n",
       "      <td>0</td>\n",
       "      <td>0</td>\n",
       "    </tr>\n",
       "    <tr>\n",
       "      <th>196</th>\n",
       "      <td>0</td>\n",
       "      <td>0</td>\n",
       "      <td>0</td>\n",
       "      <td>0</td>\n",
       "      <td>0</td>\n",
       "      <td>0</td>\n",
       "      <td>0</td>\n",
       "      <td>0</td>\n",
       "      <td>0</td>\n",
       "      <td>0</td>\n",
       "      <td>...</td>\n",
       "      <td>0</td>\n",
       "      <td>0</td>\n",
       "      <td>0</td>\n",
       "      <td>0</td>\n",
       "      <td>0</td>\n",
       "      <td>0</td>\n",
       "      <td>3</td>\n",
       "      <td>0</td>\n",
       "      <td>0</td>\n",
       "      <td>0</td>\n",
       "    </tr>\n",
       "    <tr>\n",
       "      <th>197</th>\n",
       "      <td>0</td>\n",
       "      <td>0</td>\n",
       "      <td>0</td>\n",
       "      <td>0</td>\n",
       "      <td>0</td>\n",
       "      <td>0</td>\n",
       "      <td>0</td>\n",
       "      <td>0</td>\n",
       "      <td>0</td>\n",
       "      <td>0</td>\n",
       "      <td>...</td>\n",
       "      <td>0</td>\n",
       "      <td>0</td>\n",
       "      <td>0</td>\n",
       "      <td>0</td>\n",
       "      <td>0</td>\n",
       "      <td>0</td>\n",
       "      <td>0</td>\n",
       "      <td>3</td>\n",
       "      <td>0</td>\n",
       "      <td>0</td>\n",
       "    </tr>\n",
       "    <tr>\n",
       "      <th>198</th>\n",
       "      <td>0</td>\n",
       "      <td>0</td>\n",
       "      <td>0</td>\n",
       "      <td>0</td>\n",
       "      <td>0</td>\n",
       "      <td>0</td>\n",
       "      <td>0</td>\n",
       "      <td>0</td>\n",
       "      <td>0</td>\n",
       "      <td>0</td>\n",
       "      <td>...</td>\n",
       "      <td>0</td>\n",
       "      <td>0</td>\n",
       "      <td>0</td>\n",
       "      <td>1</td>\n",
       "      <td>1</td>\n",
       "      <td>0</td>\n",
       "      <td>1</td>\n",
       "      <td>1</td>\n",
       "      <td>2</td>\n",
       "      <td>0</td>\n",
       "    </tr>\n",
       "    <tr>\n",
       "      <th>199</th>\n",
       "      <td>0</td>\n",
       "      <td>0</td>\n",
       "      <td>0</td>\n",
       "      <td>0</td>\n",
       "      <td>0</td>\n",
       "      <td>0</td>\n",
       "      <td>0</td>\n",
       "      <td>0</td>\n",
       "      <td>0</td>\n",
       "      <td>0</td>\n",
       "      <td>...</td>\n",
       "      <td>0</td>\n",
       "      <td>0</td>\n",
       "      <td>0</td>\n",
       "      <td>0</td>\n",
       "      <td>0</td>\n",
       "      <td>0</td>\n",
       "      <td>0</td>\n",
       "      <td>0</td>\n",
       "      <td>0</td>\n",
       "      <td>0</td>\n",
       "    </tr>\n",
       "  </tbody>\n",
       "</table>\n",
       "<p>197 rows × 198 columns</p>\n",
       "</div>"
      ],
      "text/plain": [
       "col_0  0    1    2    3    4    5    6    7    8    9    ...  190  191  192  \\\n",
       "row_0                                                    ...                  \n",
       "0        4    1    2    0    0    0    0    0    0    0  ...    0    0    0   \n",
       "1        0    3    2    0    0    0    0    0    0    0  ...    0    0    0   \n",
       "2        0    1    2    0    0    0    0    0    0    0  ...    0    0    0   \n",
       "3        0    0    0    3    0    0    0    0    0    0  ...    0    0    0   \n",
       "4        0    0    0    0    4    0    1    0    0    0  ...    0    0    0   \n",
       "...    ...  ...  ...  ...  ...  ...  ...  ...  ...  ...  ...  ...  ...  ...   \n",
       "195      0    0    0    0    0    0    0    0    0    0  ...    0    0    1   \n",
       "196      0    0    0    0    0    0    0    0    0    0  ...    0    0    0   \n",
       "197      0    0    0    0    0    0    0    0    0    0  ...    0    0    0   \n",
       "198      0    0    0    0    0    0    0    0    0    0  ...    0    0    0   \n",
       "199      0    0    0    0    0    0    0    0    0    0  ...    0    0    0   \n",
       "\n",
       "col_0  193  194  195  196  197  198  199  \n",
       "row_0                                     \n",
       "0        0    0    0    0    0    0    0  \n",
       "1        0    0    0    0    0    0    0  \n",
       "2        0    0    0    0    0    0    0  \n",
       "3        0    0    0    0    0    0    0  \n",
       "4        0    0    0    0    0    0    0  \n",
       "...    ...  ...  ...  ...  ...  ...  ...  \n",
       "195      0    0    1    1    0    0    0  \n",
       "196      0    0    0    3    0    0    0  \n",
       "197      0    0    0    0    3    0    0  \n",
       "198      1    1    0    1    1    2    0  \n",
       "199      0    0    0    0    0    0    0  \n",
       "\n",
       "[197 rows x 198 columns]"
      ]
     },
     "execution_count": 11,
     "metadata": {},
     "output_type": "execute_result"
    }
   ],
   "source": [
    "pd.crosstab(conc_list_predictions, conc_list_list_reality)"
   ]
  },
  {
   "cell_type": "code",
   "execution_count": null,
   "metadata": {},
   "outputs": [],
   "source": []
  }
 ],
 "metadata": {
  "kernelspec": {
   "display_name": "Python 3 (ipykernel)",
   "language": "python",
   "name": "python3"
  },
  "language_info": {
   "codemirror_mode": {
    "name": "ipython",
    "version": 3
   },
   "file_extension": ".py",
   "mimetype": "text/x-python",
   "name": "python",
   "nbconvert_exporter": "python",
   "pygments_lexer": "ipython3",
   "version": "3.10.15"
  },
  "varInspector": {
   "cols": {
    "lenName": 16,
    "lenType": 16,
    "lenVar": 40
   },
   "kernels_config": {
    "python": {
     "delete_cmd_postfix": "",
     "delete_cmd_prefix": "del ",
     "library": "var_list.py",
     "varRefreshCmd": "print(var_dic_list())"
    },
    "r": {
     "delete_cmd_postfix": ") ",
     "delete_cmd_prefix": "rm(",
     "library": "var_list.r",
     "varRefreshCmd": "cat(var_dic_list()) "
    }
   },
   "types_to_exclude": [
    "module",
    "function",
    "builtin_function_or_method",
    "instance",
    "_Feature"
   ],
   "window_display": false
  }
 },
 "nbformat": 4,
 "nbformat_minor": 4
}
