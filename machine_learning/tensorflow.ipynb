{
 "cells": [
  {
   "cell_type": "markdown",
   "id": "f6860043-5423-4636-9231-c4de74b21061",
   "metadata": {},
   "source": [
    "# Tensorflow\n",
    "Pozn.: v tomto textu vycházím (místy dokonce kód přejímám) z Deep learning v jazyku Python od F. Cholleta."
   ]
  },
  {
   "cell_type": "code",
   "execution_count": 1,
   "id": "3b6889b9-c87b-479a-b8d9-d4f9820c7db5",
   "metadata": {},
   "outputs": [],
   "source": [
    "import tensorflow as tf\n",
    "import numpy as np\n",
    "import matplotlib.pyplot as plt\n",
    "import pandas as pd\n",
    "\n",
    "from tensorflow.keras.metrics import BinaryAccuracy, Precision, Recall, AUC, CategoricalAccuracy, SparseCategoricalAccuracy\n",
    "from tensorflow import keras\n",
    "from tensorflow.keras import layers, regularizers\n",
    "from keras.optimizers import RMSprop\n",
    "from keras.losses import CategoricalCrossentropy, SparseCategoricalCrossentropy, BinaryCrossentropy\n",
    "from tensorflow.keras.models import load_model"
   ]
  },
  {
   "cell_type": "markdown",
   "id": "981ee3b2-0e83-40b3-9f87-a1793d4b6e7e",
   "metadata": {},
   "source": [
    "Tenzory v Tensorflow vytvoříme pomocí funkce *constant*, které podhodíme v případě 1D tenzoru list. Všimněme si, že defaultním datovým typem v případě integerů na vstupu je 32-bitový integer. Pokud bychom potřebovali float, musíme k číslů přidat desetinné tečky a za nimi jednu nulu."
   ]
  },
  {
   "cell_type": "code",
   "execution_count": 2,
   "id": "87702a95-4c41-4d52-8a9d-108c04c586f4",
   "metadata": {},
   "outputs": [
    {
     "name": "stdout",
     "output_type": "stream",
     "text": [
      "tf.Tensor([1 2 3], shape=(3,), dtype=int32)\n",
      "tf.Tensor([1. 2. 3.], shape=(3,), dtype=float32)\n"
     ]
    }
   ],
   "source": [
    "tensor_1d = tf.constant([1, 2, 3])\n",
    "print(tensor_1d)\n",
    "tensor_1d_float = tf.constant([1.0, 2.0, 3.0])\n",
    "print(tensor_1d_float)"
   ]
  },
  {
   "cell_type": "markdown",
   "id": "02a42f56-82a6-4eab-8815-aa012b4a70bf",
   "metadata": {},
   "source": [
    "Pro vytvoření 2D tenzoru do funkce *constant* vložíme list listů. Pro více rozměrů pokračuje vnořování listů v podobném duchu."
   ]
  },
  {
   "cell_type": "code",
   "execution_count": 3,
   "id": "5456286e-83b0-4305-bc07-a909c7791e12",
   "metadata": {},
   "outputs": [
    {
     "name": "stdout",
     "output_type": "stream",
     "text": [
      "tf.Tensor(\n",
      "[[1 2 3]\n",
      " [4 5 6]], shape=(2, 3), dtype=int32)\n"
     ]
    }
   ],
   "source": [
    "tensor_2d = tf.constant([\n",
    "    [1, 2, 3],\n",
    "    [4, 5, 6]\n",
    "])\n",
    "print(tensor_2d)"
   ]
  },
  {
   "cell_type": "markdown",
   "id": "49182f1a-1bfd-406b-9bfb-db295b707fb6",
   "metadata": {},
   "source": [
    "Narozdíl od Pytorche jsou tenzory v Tensorflow immutable, tj. po jejich vytvoření je už nemůžeme měnit:"
   ]
  },
  {
   "cell_type": "code",
   "execution_count": 4,
   "id": "56482b8f-1081-45a7-a8a3-e117134dbd1b",
   "metadata": {},
   "outputs": [
    {
     "name": "stdout",
     "output_type": "stream",
     "text": [
      "tf.Tensor(3, shape=(), dtype=int32)\n"
     ]
    },
    {
     "ename": "TypeError",
     "evalue": "'tensorflow.python.framework.ops.EagerTensor' object does not support item assignment",
     "output_type": "error",
     "traceback": [
      "\u001b[1;31m---------------------------------------------------------------------------\u001b[0m",
      "\u001b[1;31mTypeError\u001b[0m                                 Traceback (most recent call last)",
      "Cell \u001b[1;32mIn[4], line 3\u001b[0m\n\u001b[0;32m      1\u001b[0m tensor_1d \u001b[38;5;241m=\u001b[39m tf\u001b[38;5;241m.\u001b[39mconstant([\u001b[38;5;241m1\u001b[39m, \u001b[38;5;241m2\u001b[39m, \u001b[38;5;241m3\u001b[39m])\n\u001b[0;32m      2\u001b[0m \u001b[38;5;28mprint\u001b[39m(tensor_1d[\u001b[38;5;241m2\u001b[39m])\n\u001b[1;32m----> 3\u001b[0m \u001b[43mtensor_1d\u001b[49m\u001b[43m[\u001b[49m\u001b[38;5;241;43m2\u001b[39;49m\u001b[43m]\u001b[49m\u001b[38;5;241m=\u001b[39m\u001b[38;5;241m30\u001b[39m\n",
      "\u001b[1;31mTypeError\u001b[0m: 'tensorflow.python.framework.ops.EagerTensor' object does not support item assignment"
     ]
    }
   ],
   "source": [
    "tensor_1d = tf.constant([1, 2, 3])\n",
    "print(tensor_1d[2])\n",
    "tensor_1d[2]=30"
   ]
  },
  {
   "cell_type": "markdown",
   "id": "2d22d724-908d-4c90-8842-f86066c96f99",
   "metadata": {},
   "source": [
    "Jelikož jsou neuronové sítě založené na změnách vah reprezentovaných tensory, musí existovat měnitelný tensorový objekt. Jedná se o instance třídy *Variable*, kterým neměnný tensor podohodíme do konstruktoru jako *initial_value*."
   ]
  },
  {
   "cell_type": "code",
   "execution_count": 6,
   "id": "8d3e3541-eca9-4001-99cc-5bd73c174c66",
   "metadata": {},
   "outputs": [
    {
     "data": {
      "text/plain": [
       "<tf.Variable 'Variable:0' shape=(3,) dtype=int32, numpy=array([1, 2, 3])>"
      ]
     },
     "execution_count": 6,
     "metadata": {},
     "output_type": "execute_result"
    }
   ],
   "source": [
    "some_variable = tf.Variable(initial_value=tensor_1d)\n",
    "some_variable"
   ]
  },
  {
   "cell_type": "markdown",
   "id": "e1f5853c-b315-435e-b290-039755a090cb",
   "metadata": {},
   "source": [
    "Proměnnou změníme s pomocí metody *assign*. Do té musíme vložit tensor o stejném rozměru, který měl tensor původní. V opačném případě se setkáme s chybovou hláškou \n",
    "```\n",
    "ValueError: Cannot assign value to variable ' Variable:0': Shape mismatch.The variable shape (3,), and the assigned value shape () are incompatible.\n",
    "```"
   ]
  },
  {
   "cell_type": "code",
   "execution_count": 9,
   "id": "843e8544-d324-4666-8dbe-831dcf2cc456",
   "metadata": {},
   "outputs": [
    {
     "data": {
      "text/plain": [
       "<tf.Variable 'Variable:0' shape=(3,) dtype=int32, numpy=array([4, 5, 6])>"
      ]
     },
     "execution_count": 9,
     "metadata": {},
     "output_type": "execute_result"
    }
   ],
   "source": [
    "some_variable.assign([4,5,6])\n",
    "some_variable"
   ]
  },
  {
   "cell_type": "markdown",
   "id": "06f35e67-df7a-40b9-b2db-69876a520e28",
   "metadata": {},
   "source": [
    "Pokud chceme změnit jen jednu hodnotu (či obecně výsek hodnot), použijeme identifikaci indexy a *assign* metodu až posléze.\n",
    "\n",
    "Bacha - pokud bychom se pokusili o \"přímé\" nastavení hodnoty (ala \"some_variable[2] = 60\"), dostali bychom chybu\n",
    "```\n",
    "TypeError: 'ResourceVariable' object does not support item assignment\n",
    "```"
   ]
  },
  {
   "cell_type": "code",
   "execution_count": 12,
   "id": "4c6116f8-eb96-4b8f-a841-99ff3aa5601c",
   "metadata": {},
   "outputs": [
    {
     "data": {
      "text/plain": [
       "<tf.Variable 'Variable:0' shape=(3,) dtype=int32, numpy=array([ 4,  5, 60])>"
      ]
     },
     "execution_count": 12,
     "metadata": {},
     "output_type": "execute_result"
    }
   ],
   "source": [
    "some_variable[2].assign(60)\n",
    "some_variable"
   ]
  },
  {
   "cell_type": "markdown",
   "id": "b7239044-5bfa-4a3c-b8e9-05e75bf28bf1",
   "metadata": {},
   "source": [
    "Pro přičtení či odečtení bychom do assignu mohli dávat kód nesoucí se ve stylu \"some_variable + [10,10,10]\". Nicméně asi přehlednější budou metody *assign_add\" a \"assign_sub* fungující podobně jako += a -=."
   ]
  },
  {
   "cell_type": "code",
   "execution_count": 14,
   "id": "0ad51642-d5ad-4154-95d1-66f42976d396",
   "metadata": {},
   "outputs": [
    {
     "data": {
      "text/plain": [
       "<tf.Variable 'Variable:0' shape=(3,) dtype=int32, numpy=array([14, 15, 70])>"
      ]
     },
     "execution_count": 14,
     "metadata": {},
     "output_type": "execute_result"
    }
   ],
   "source": [
    "some_variable.assign_add([10,10,10])\n",
    "some_variable"
   ]
  },
  {
   "cell_type": "code",
   "execution_count": 15,
   "id": "e1d0c816-53c4-4249-8c02-be539d269556",
   "metadata": {},
   "outputs": [
    {
     "data": {
      "text/plain": [
       "<tf.Variable 'Variable:0' shape=(3,) dtype=int32, numpy=array([ 4,  5, 60])>"
      ]
     },
     "execution_count": 15,
     "metadata": {},
     "output_type": "execute_result"
    }
   ],
   "source": [
    "some_variable.assign_sub([10,10,10])\n",
    "some_variable"
   ]
  },
  {
   "cell_type": "markdown",
   "id": "bf6f39de-dc44-46b6-8119-2af46bfbf994",
   "metadata": {},
   "source": [
    "Dalším rozdílem mezi Pytorchem a Tensorflowem je skutečnost, že v Tensorflowu mohou tenzory obsahovat i textové řetězce:"
   ]
  },
  {
   "cell_type": "code",
   "execution_count": 18,
   "id": "db32d873-c475-45a6-ab8a-ffa07fef4053",
   "metadata": {},
   "outputs": [
    {
     "name": "stdout",
     "output_type": "stream",
     "text": [
      "tf.Tensor([b'one' b'two' b'three'], shape=(3,), dtype=string)\n"
     ]
    }
   ],
   "source": [
    "tensor_text = tf.constant([\"one\", \"two\", \"three\"])\n",
    "print(tensor_text)"
   ]
  },
  {
   "cell_type": "markdown",
   "id": "c414a663-b47a-44ff-9a24-a7f6e0c9e09a",
   "metadata": {},
   "source": [
    "Nepravidelné (pilovité) tvary jsou ale zakázány i v Tensorflowu. Následující kód by vedl k hlášce \"ValueError: Can't convert non-rectangular Python sequence to Tensor.\".\n",
    "```python\n",
    "tensor_bad = tf.constant([\n",
    "    [1, 2],\n",
    "    [3],\n",
    "    [5, 6]\n",
    "])\n",
    "```"
   ]
  },
  {
   "cell_type": "markdown",
   "id": "e0b63ce5-2fae-4f5b-9d13-e748c1d91098",
   "metadata": {},
   "source": [
    "Pro zjištění velikosti dimezí se použije atribut *shape*. "
   ]
  },
  {
   "cell_type": "code",
   "execution_count": 20,
   "id": "367e7ce9-a7f6-4e46-a26e-caff260a48f7",
   "metadata": {},
   "outputs": [
    {
     "name": "stdout",
     "output_type": "stream",
     "text": [
      "(2, 3)\n"
     ]
    }
   ],
   "source": [
    "tensor_2d = tf.constant([\n",
    "    [1, 2, 3],\n",
    "    [4, 5, 6]\n",
    "])\n",
    "print(tensor_2d.shape)"
   ]
  },
  {
   "cell_type": "markdown",
   "id": "3e645969-04a7-4604-bc65-97073508a209",
   "metadata": {},
   "source": [
    "Pro zjištění *počtu* dimenzí lze zase sáhnout po atributu *ndim*:"
   ]
  },
  {
   "cell_type": "code",
   "execution_count": 21,
   "id": "4f48e686-fa76-4f4d-bd4a-ea38e021ef32",
   "metadata": {},
   "outputs": [
    {
     "name": "stdout",
     "output_type": "stream",
     "text": [
      "2\n"
     ]
    }
   ],
   "source": [
    "print(tensor_2d.ndim)"
   ]
  },
  {
   "cell_type": "markdown",
   "id": "7ee9c893-bc12-4087-99d5-94b21e2138bc",
   "metadata": {},
   "source": [
    "Datový typ získáme skrze atribut *dtype*."
   ]
  },
  {
   "cell_type": "code",
   "execution_count": 22,
   "id": "76e06fb0-6724-4e8e-b452-c62f1d4ab861",
   "metadata": {},
   "outputs": [
    {
     "name": "stdout",
     "output_type": "stream",
     "text": [
      "<dtype: 'int32'>\n"
     ]
    }
   ],
   "source": [
    "print(tensor_2d.dtype)"
   ]
  },
  {
   "cell_type": "markdown",
   "id": "341d6a02-ea37-4fb4-850b-112380f2461d",
   "metadata": {},
   "source": [
    "Získání celkového počtu elementů bychom díky pravidelnému tvaru získali přenásobením velikostí dimenzí. Nicméně takové operace nebude potřeba, neboť na celkový počet elementů máme dedikovanou funkci (nikoli metodu tenzoru, nýbrž opravdu samostatnou funkci!) *size*:"
   ]
  },
  {
   "cell_type": "code",
   "execution_count": 23,
   "id": "d0655a98-b14e-4fec-a1bb-2f2f8c00e5a3",
   "metadata": {},
   "outputs": [
    {
     "data": {
      "text/plain": [
       "<tf.Tensor: shape=(), dtype=int32, numpy=6>"
      ]
     },
     "execution_count": 23,
     "metadata": {},
     "output_type": "execute_result"
    }
   ],
   "source": [
    "tf.size(tensor_2d)"
   ]
  },
  {
   "cell_type": "markdown",
   "id": "dd89b993-efd4-4764-827e-2681feab8124",
   "metadata": {},
   "source": [
    "Pro ukázku matematických operací mezi tenzory si dva exempláře připravme."
   ]
  },
  {
   "cell_type": "code",
   "execution_count": 24,
   "id": "008f2024-1361-44d4-9c4d-2bfd44b1235f",
   "metadata": {},
   "outputs": [],
   "source": [
    "first_tensor = tf.constant([\n",
    "    [1,1,1],\n",
    "    [2,2,2],\n",
    "    [3,3,3]\n",
    "])\n",
    "second_tensor = tf.constant([\n",
    "    [10,1,0],\n",
    "    [0,10,1],\n",
    "    [-1,-1,-1]\n",
    "])"
   ]
  },
  {
   "cell_type": "markdown",
   "id": "5359cbe1-4c33-455c-a3d2-0d715ca6a906",
   "metadata": {},
   "source": [
    "Operace mezi tenzorem a číslem jsou přímočaré."
   ]
  },
  {
   "cell_type": "code",
   "execution_count": 25,
   "id": "ffba5c01-8a2b-436c-9d55-3f423f0758dd",
   "metadata": {},
   "outputs": [
    {
     "data": {
      "text/plain": [
       "<tf.Tensor: shape=(3, 3), dtype=float64, numpy=\n",
       "array([[0.33333333, 0.33333333, 0.33333333],\n",
       "       [0.66666667, 0.66666667, 0.66666667],\n",
       "       [1.        , 1.        , 1.        ]])>"
      ]
     },
     "execution_count": 25,
     "metadata": {},
     "output_type": "execute_result"
    }
   ],
   "source": [
    "first_tensor/3"
   ]
  },
  {
   "cell_type": "markdown",
   "id": "901b4561-3534-44eb-bdee-5b72b4ac9140",
   "metadata": {},
   "source": [
    "\"Element-wise\" operace mezi dvěma tenzory lze provést s pomocí stejných operátorů jako v Pytorchi."
   ]
  },
  {
   "cell_type": "code",
   "execution_count": 26,
   "id": "300906d3-67bb-47a1-bbac-73d75632f1b1",
   "metadata": {},
   "outputs": [
    {
     "data": {
      "text/plain": [
       "<tf.Tensor: shape=(3, 3), dtype=int32, numpy=\n",
       "array([[-9,  0,  1],\n",
       "       [ 2, -8,  1],\n",
       "       [ 4,  4,  4]])>"
      ]
     },
     "execution_count": 26,
     "metadata": {},
     "output_type": "execute_result"
    }
   ],
   "source": [
    "first_tensor-second_tensor"
   ]
  },
  {
   "cell_type": "code",
   "execution_count": 27,
   "id": "915eb0ab-dba5-428c-bf77-cb4448133889",
   "metadata": {},
   "outputs": [
    {
     "data": {
      "text/plain": [
       "<tf.Tensor: shape=(3, 3), dtype=int32, numpy=\n",
       "array([[10,  1,  0],\n",
       "       [ 0, 20,  2],\n",
       "       [-3, -3, -3]])>"
      ]
     },
     "execution_count": 27,
     "metadata": {},
     "output_type": "execute_result"
    }
   ],
   "source": [
    "first_tensor*second_tensor"
   ]
  },
  {
   "cell_type": "markdown",
   "id": "ade064a3-3362-4467-837b-c32550b5ed79",
   "metadata": {},
   "source": [
    "Pro skalární součin sáhneme po zavináči:"
   ]
  },
  {
   "cell_type": "code",
   "execution_count": 28,
   "id": "7298dbe4-4b8b-4489-bde2-5f57ef2b2152",
   "metadata": {},
   "outputs": [
    {
     "data": {
      "text/plain": [
       "<tf.Tensor: shape=(3, 3), dtype=int32, numpy=\n",
       "array([[ 9, 10,  0],\n",
       "       [18, 20,  0],\n",
       "       [27, 30,  0]])>"
      ]
     },
     "execution_count": 28,
     "metadata": {},
     "output_type": "execute_result"
    }
   ],
   "source": [
    "first_tensor@second_tensor"
   ]
  },
  {
   "cell_type": "markdown",
   "id": "ecf45f68-d780-4d89-9908-8775f07c2bf3",
   "metadata": {},
   "source": [
    "Pokud chceme explicitně použít funkce, tak pro násobení mezi jednotlivými elementy tenzorů aplikujeme *multiply* (v Pytorchi *mul*) a pro maticové násobení *matmul* (stejné jméno jako v Pytorchi)."
   ]
  },
  {
   "cell_type": "code",
   "execution_count": 29,
   "id": "c1f2c03a-5e5b-4bff-bceb-658d8f8fa7b1",
   "metadata": {},
   "outputs": [
    {
     "data": {
      "text/plain": [
       "<tf.Tensor: shape=(3, 3), dtype=int32, numpy=\n",
       "array([[10,  1,  0],\n",
       "       [ 0, 20,  2],\n",
       "       [-3, -3, -3]])>"
      ]
     },
     "execution_count": 29,
     "metadata": {},
     "output_type": "execute_result"
    }
   ],
   "source": [
    "tf.multiply(first_tensor, second_tensor)"
   ]
  },
  {
   "cell_type": "code",
   "execution_count": 30,
   "id": "c56cfce1-f535-4ce1-bb4c-3cd75cd407f3",
   "metadata": {},
   "outputs": [
    {
     "data": {
      "text/plain": [
       "<tf.Tensor: shape=(3, 3), dtype=int32, numpy=\n",
       "array([[ 9, 10,  0],\n",
       "       [18, 20,  0],\n",
       "       [27, 30,  0]])>"
      ]
     },
     "execution_count": 30,
     "metadata": {},
     "output_type": "execute_result"
    }
   ],
   "source": [
    "tf.matmul(first_tensor, second_tensor)"
   ]
  },
  {
   "cell_type": "markdown",
   "id": "b894d7e2-2a98-4d12-9ef6-374f174b90cd",
   "metadata": {},
   "source": [
    "Na porovnání elemetů tenzoru se použijí dvojená rovnítka."
   ]
  },
  {
   "cell_type": "code",
   "execution_count": 31,
   "id": "3c41f559-d582-4fb7-a7c8-4ad25b973ce8",
   "metadata": {},
   "outputs": [
    {
     "data": {
      "text/plain": [
       "<tf.Tensor: shape=(3, 3), dtype=bool, numpy=\n",
       "array([[False,  True, False],\n",
       "       [False, False, False],\n",
       "       [False, False, False]])>"
      ]
     },
     "execution_count": 31,
     "metadata": {},
     "output_type": "execute_result"
    }
   ],
   "source": [
    "first_tensor == second_tensor"
   ]
  },
  {
   "cell_type": "markdown",
   "id": "2b34debc-3e84-4648-a970-355aa49de258",
   "metadata": {},
   "source": [
    "Převod tenzoru na numpy array zajistí vložení tenzoru do odpovídajícího konstruktoru."
   ]
  },
  {
   "cell_type": "code",
   "execution_count": 32,
   "id": "b7d954fa-5881-4483-8a63-ecadadd799e0",
   "metadata": {},
   "outputs": [
    {
     "data": {
      "text/plain": [
       "array([[1, 1, 1],\n",
       "       [2, 2, 2],\n",
       "       [3, 3, 3]])"
      ]
     },
     "execution_count": 32,
     "metadata": {},
     "output_type": "execute_result"
    }
   ],
   "source": [
    "np.array(first_tensor)"
   ]
  },
  {
   "cell_type": "markdown",
   "id": "ab8df514-1eeb-4926-a31d-c8a2e6b2bc49",
   "metadata": {},
   "source": [
    "Pro získání gradientu funkce vypuštěné na tensor se použije *GradientTape*. Všechny operace se musí uskutečnit v jejím kontextovém bloku, gradienty následně získáme z *gradient* metody objektu *tape* (onen blok reprezentující), do které vložíme jednak výsledek operace, jednak vstupní tensor (vstupní proměnnou).\n",
    "\n",
    "Bacha - očekává se, že vstupem budou floaty - pokud by se list v konstruktoru *Variable* skládal z integerů, uložilo by se do proměnné *gradient* None. Takto vidíme, že se koeficient z derivace (3*2) správně vynásobil s hodnotami vstupního vektoru. "
   ]
  },
  {
   "cell_type": "code",
   "execution_count": 36,
   "id": "92d8cef2-fc40-49bb-9ca8-84107641391e",
   "metadata": {},
   "outputs": [
    {
     "data": {
      "text/plain": [
       "<tf.Tensor: shape=(3,), dtype=float32, numpy=array([18., 60., 30.], dtype=float32)>"
      ]
     },
     "execution_count": 36,
     "metadata": {},
     "output_type": "execute_result"
    }
   ],
   "source": [
    "original_tensor = tf.Variable(initial_value=[3.,10.,5.])\n",
    "with tf.GradientTape() as tape:\n",
    "    intermediate_result = tf.square(original_tensor)\n",
    "    final_result = 3*intermediate_result\n",
    "\n",
    "gradient = tape.gradient(final_result, original_tensor)\n",
    "gradient"
   ]
  },
  {
   "cell_type": "markdown",
   "id": "7b840434-c138-412b-8481-bc1a9f908e4e",
   "metadata": {},
   "source": [
    "## Binární klasifikace"
   ]
  },
  {
   "cell_type": "markdown",
   "id": "0caaceb1-bb02-4828-985c-9422c607ced4",
   "metadata": {},
   "source": [
    "V následujících příkladech si stáhneme předpřipravená data. Budeme s nimi sice muset udělat pár základních úprav, s prací se surovými daty se to ale nedá srovnávat.  \n",
    "Předpřipravené datasety získáme s pomocí funkcí z *tensorflow.keras.datasets*. Závorky u výstupů jsou opravdu potřeba - jinak bychom dostali chybu \"ValueError: not enough values to unpack (expected 4, got 2)\". Parametr *num_words* značí, že chceme jen X nejzastoupenějších slov z korpusu."
   ]
  },
  {
   "cell_type": "code",
   "execution_count": 2,
   "id": "0c73d61d-5767-43e3-8e26-91e59877d61e",
   "metadata": {},
   "outputs": [],
   "source": [
    "from tensorflow.keras.datasets import imdb\n",
    "num_wanted_words = 10_000\n",
    "(train_data, train_labels), (test_data, test_labels) = imdb.load_data(num_words=num_wanted_words)"
   ]
  },
  {
   "cell_type": "markdown",
   "id": "dc981459-cc86-4a74-be05-8b3b5af3b042",
   "metadata": {},
   "source": [
    "Labely obsahují flag o sentimentu recenze z imdb - 0 značí negativní recenzi, 1 recenzi pozitivní."
   ]
  },
  {
   "cell_type": "code",
   "execution_count": 3,
   "id": "317d8635-733c-4d37-a0cc-7ad101e8b8fc",
   "metadata": {},
   "outputs": [
    {
     "data": {
      "text/plain": [
       "array([1, 0, 0, 1, 0], dtype=int64)"
      ]
     },
     "execution_count": 3,
     "metadata": {},
     "output_type": "execute_result"
    }
   ],
   "source": [
    "train_labels[0:5]"
   ]
  },
  {
   "cell_type": "markdown",
   "id": "42da02f6-3be5-49e2-b5ba-e1c139041635",
   "metadata": {},
   "source": [
    "Trénovací data se skládají z listu integerů o proměnlivé délce. Každé číslo totiž reprezentuje index slova, které bylo v recenzi použito."
   ]
  },
  {
   "cell_type": "code",
   "execution_count": 3,
   "id": "65f694be-ef89-4ec2-85b6-8a36bb84adbb",
   "metadata": {},
   "outputs": [
    {
     "data": {
      "text/plain": [
       "[1, 14, 22, 16, 43, 530, 973, 1622, 1385, 65]"
      ]
     },
     "execution_count": 3,
     "metadata": {},
     "output_type": "execute_result"
    }
   ],
   "source": [
    "train_data[0][0:10]"
   ]
  },
  {
   "cell_type": "code",
   "execution_count": 4,
   "id": "2dde7044-2a37-4e75-9317-e4b6babf8a2d",
   "metadata": {},
   "outputs": [
    {
     "name": "stdout",
     "output_type": "stream",
     "text": [
      "218 189\n"
     ]
    }
   ],
   "source": [
    "print(\n",
    "    len(train_data[0]),\n",
    "    len(train_data[1])\n",
    ")"
   ]
  },
  {
   "cell_type": "markdown",
   "id": "8b278331-2782-40bc-bb7f-03e593091724",
   "metadata": {},
   "source": [
    "Data převedeme na vektor s délkou celého slovníku, kde jedničky na k-tém místě reprezentují přítomnost slova o indexu k."
   ]
  },
  {
   "cell_type": "code",
   "execution_count": 5,
   "id": "c516c9f8-8b7c-4767-badc-275766fba157",
   "metadata": {},
   "outputs": [
    {
     "data": {
      "text/plain": [
       "numpy.ndarray"
      ]
     },
     "execution_count": 5,
     "metadata": {},
     "output_type": "execute_result"
    }
   ],
   "source": [
    "type(train_data)"
   ]
  },
  {
   "cell_type": "code",
   "execution_count": 62,
   "id": "f92404c5-95a7-47e4-9b64-a42a9a9eff68",
   "metadata": {},
   "outputs": [],
   "source": [
    "def vectorize_sequence(semitransformed_reviews_array:np.ndarray, dimension:int=num_wanted_words):\n",
    "    transformed_reviews_array = np.zeros(\n",
    "        (\n",
    "        len(semitransformed_reviews_array), \n",
    "        dimension\n",
    "        )\n",
    "    )\n",
    "    for one_review_index, one_review in enumerate(semitransformed_reviews_array):\n",
    "        for one_word_number in one_review:\n",
    "            transformed_reviews_array[one_review_index,one_word_number] = 1\n",
    "    return transformed_reviews_array"
   ]
  },
  {
   "cell_type": "code",
   "execution_count": null,
   "id": "1e6f63d8-dbca-46b0-9356-04bbdde84dfb",
   "metadata": {},
   "outputs": [],
   "source": [
    "x_train = vectorize_sequence(train_data)\n",
    "x_test = vectorize_sequence(test_data)"
   ]
  },
  {
   "cell_type": "code",
   "execution_count": 7,
   "id": "c392ca0b-8089-4e17-90ef-d1c62f03efd9",
   "metadata": {},
   "outputs": [
    {
     "data": {
      "text/plain": [
       "array([0., 1., 1., ..., 0., 0., 0.])"
      ]
     },
     "execution_count": 7,
     "metadata": {},
     "output_type": "execute_result"
    }
   ],
   "source": [
    "x_train[0]"
   ]
  },
  {
   "cell_type": "markdown",
   "id": "4fe405f4-9c0e-4820-aa4e-8fc1c5ff0cb0",
   "metadata": {},
   "source": [
    "Labely převedeme z integerů na floaty."
   ]
  },
  {
   "cell_type": "code",
   "execution_count": 8,
   "id": "14b788c5-0801-48a0-8bda-b9dd63f2c437",
   "metadata": {},
   "outputs": [],
   "source": [
    "y_train = train_labels.astype(\"float32\")\n",
    "y_test = test_labels.astype(\"float32\")"
   ]
  },
  {
   "cell_type": "markdown",
   "id": "a3fa35b9-f83e-446d-869e-2d973eeac20d",
   "metadata": {},
   "source": [
    "Model vytvoříme s pomocí *Sequentials* objektu, do kterého vložíme několik *Dense* vrstev. Číslo v prvním parametru představuje počet výstupů z vrstvy, parametr *activation* očekává aktivační funkci, zde v podobě stringového názvu (bez aktivační funkce by se celá neuronová síť dala nahradit logistickou regresí). "
   ]
  },
  {
   "cell_type": "code",
   "execution_count": 28,
   "id": "457c5b87-b0eb-4adf-b55c-647d791a16ab",
   "metadata": {},
   "outputs": [],
   "source": [
    "from tensorflow import keras\n",
    "from tensorflow.keras import layers\n",
    "\n",
    "model = keras.Sequential([\n",
    "    layers.Dense(16, activation=\"relu\"),\n",
    "    layers.Dense(16, activation=\"relu\"),\n",
    "    layers.Dense(1, activation=\"sigmoid\"),\n",
    "])"
   ]
  },
  {
   "cell_type": "markdown",
   "id": "843557c5-f4d0-4b61-b19d-7a88c9827f31",
   "metadata": {},
   "source": [
    "Výše jsme si zadefinovali architekturu modelu, nicméně model fakticky vytvoříme až příkazem *compile*. Do této metody vložíme *optimizer* - způsob, jakým se bude Keras snažit dosáhnout minimální ztrátové funkce. Dále musíme zadat samotnou ztrátovou funkci - to do parametru *loss*. Nakonec zadáme metriky, které chceme při validaci sledovat. Tyto metriky se nepoužívají při optimalizaci vah - na to slouží ztrátová funkce. Metriky tak nejsou určené pro algoritmus, ale jen pro nás. Díky tomu sem můžeme dát i věci, které by se obtížně derivovaly, např. AUC."
   ]
  },
  {
   "cell_type": "code",
   "execution_count": 30,
   "id": "fedab652-9b6c-4ee0-b60f-05813d552929",
   "metadata": {},
   "outputs": [],
   "source": [
    "from tensorflow.keras.metrics import BinaryAccuracy, Precision, Recall, AUC\n",
    "\n",
    "model.compile(\n",
    "    optimizer=\"rmsprop\",\n",
    "    loss=\"binary_crossentropy\",\n",
    "    metrics=[BinaryAccuracy(), Precision(), Recall(), AUC()]\n",
    ")"
   ]
  },
  {
   "cell_type": "markdown",
   "id": "4521e767-0f9e-42b0-800a-23ce3172cc02",
   "metadata": {},
   "source": [
    "Z trénovací sady vydělíme sadu validační (jednoduchým použitím indexů, což znamená, že předpokládáme, že data už byly zamíchaná)."
   ]
  },
  {
   "cell_type": "code",
   "execution_count": 31,
   "id": "c1e94b13-f7a1-42a1-9dde-e8238b0e3263",
   "metadata": {},
   "outputs": [],
   "source": [
    "x_val = x_train[:10000]\n",
    "partial_x_train = x_train[10000:]\n",
    "y_val = y_train[:10000]\n",
    "partial_y_train = y_train[10000:]"
   ]
  },
  {
   "cell_type": "markdown",
   "id": "046750f6-77ef-4b4e-b804-aac54668bd30",
   "metadata": {},
   "source": [
    "Validační data vložíme do *fit* metody modelu, konrkétně do parametru *validation_data*. Díky tomu se budou při trénování sledovat metriky nejen pro trénovací data, ale právě i pro data validační. Do *fit* vložíme pochopitelně i trénovací data. Též specifikujeme velikost dávky (*batch_size*) alias množství dat, které má optimalizér v jeden okamžik k dispozici. Nakonec specifikujeme i počet *epoch*, tj. informaci o tom, kolikrát má model projet celá trénovací data."
   ]
  },
  {
   "cell_type": "code",
   "execution_count": 32,
   "id": "28f09744-3b80-4ca4-8a88-d2f3fcd88a99",
   "metadata": {},
   "outputs": [
    {
     "name": "stdout",
     "output_type": "stream",
     "text": [
      "Epoch 1/20\n",
      "30/30 [==============================] - 2s 51ms/step - loss: 0.4988 - binary_accuracy: 0.7924 - precision_4: 0.8044 - recall_4: 0.7688 - auc_4: 0.8809 - val_loss: 0.3718 - val_binary_accuracy: 0.8728 - val_precision_4: 0.8580 - val_recall_4: 0.8967 - val_auc_4: 0.9419\n",
      "Epoch 2/20\n",
      "30/30 [==============================] - 1s 20ms/step - loss: 0.2943 - binary_accuracy: 0.9038 - precision_4: 0.8993 - recall_4: 0.9079 - auc_4: 0.9631 - val_loss: 0.3146 - val_binary_accuracy: 0.8771 - val_precision_4: 0.9223 - val_recall_4: 0.8264 - val_auc_4: 0.9511\n",
      "Epoch 3/20\n",
      "30/30 [==============================] - 1s 19ms/step - loss: 0.2157 - binary_accuracy: 0.9297 - precision_4: 0.9261 - recall_4: 0.9327 - auc_4: 0.9788 - val_loss: 0.2778 - val_binary_accuracy: 0.8912 - val_precision_4: 0.8891 - val_recall_4: 0.8965 - val_auc_4: 0.9546\n",
      "Epoch 4/20\n",
      "30/30 [==============================] - 1s 20ms/step - loss: 0.1718 - binary_accuracy: 0.9440 - precision_4: 0.9408 - recall_4: 0.9468 - auc_4: 0.9858 - val_loss: 0.2797 - val_binary_accuracy: 0.8856 - val_precision_4: 0.8996 - val_recall_4: 0.8708 - val_auc_4: 0.9537\n",
      "Epoch 5/20\n",
      "30/30 [==============================] - 1s 23ms/step - loss: 0.1373 - binary_accuracy: 0.9562 - precision_4: 0.9555 - recall_4: 0.9564 - auc_4: 0.9910 - val_loss: 0.2944 - val_binary_accuracy: 0.8827 - val_precision_4: 0.9095 - val_recall_4: 0.8528 - val_auc_4: 0.9523\n",
      "Epoch 6/20\n",
      "30/30 [==============================] - 1s 20ms/step - loss: 0.1110 - binary_accuracy: 0.9668 - precision_4: 0.9658 - recall_4: 0.9674 - auc_4: 0.9942 - val_loss: 0.3051 - val_binary_accuracy: 0.8834 - val_precision_4: 0.8548 - val_recall_4: 0.9266 - val_auc_4: 0.9509\n",
      "Epoch 7/20\n",
      "30/30 [==============================] - 1s 23ms/step - loss: 0.0921 - binary_accuracy: 0.9725 - precision_4: 0.9717 - recall_4: 0.9730 - auc_4: 0.9961 - val_loss: 0.3219 - val_binary_accuracy: 0.8809 - val_precision_4: 0.8568 - val_recall_4: 0.9177 - val_auc_4: 0.9488\n",
      "Epoch 8/20\n",
      "30/30 [==============================] - 1s 22ms/step - loss: 0.0772 - binary_accuracy: 0.9789 - precision_4: 0.9787 - recall_4: 0.9789 - auc_4: 0.9974 - val_loss: 0.3784 - val_binary_accuracy: 0.8726 - val_precision_4: 0.8298 - val_recall_4: 0.9408 - val_auc_4: 0.9445\n",
      "Epoch 9/20\n",
      "30/30 [==============================] - 1s 28ms/step - loss: 0.0596 - binary_accuracy: 0.9855 - precision_4: 0.9834 - recall_4: 0.9874 - auc_4: 0.9986 - val_loss: 0.3585 - val_binary_accuracy: 0.8805 - val_precision_4: 0.8710 - val_recall_4: 0.8963 - val_auc_4: 0.9443\n",
      "Epoch 10/20\n",
      "30/30 [==============================] - 1s 23ms/step - loss: 0.0484 - binary_accuracy: 0.9885 - precision_4: 0.9886 - recall_4: 0.9882 - auc_4: 0.9992 - val_loss: 0.3902 - val_binary_accuracy: 0.8748 - val_precision_4: 0.8862 - val_recall_4: 0.8631 - val_auc_4: 0.9420\n",
      "Epoch 11/20\n",
      "30/30 [==============================] - 1s 25ms/step - loss: 0.0373 - binary_accuracy: 0.9922 - precision_4: 0.9917 - recall_4: 0.9926 - auc_4: 0.9996 - val_loss: 0.4728 - val_binary_accuracy: 0.8627 - val_precision_4: 0.9096 - val_recall_4: 0.8086 - val_auc_4: 0.9364\n",
      "Epoch 12/20\n",
      "30/30 [==============================] - 1s 33ms/step - loss: 0.0333 - binary_accuracy: 0.9922 - precision_4: 0.9921 - recall_4: 0.9922 - auc_4: 0.9996 - val_loss: 0.4478 - val_binary_accuracy: 0.8725 - val_precision_4: 0.8744 - val_recall_4: 0.8731 - val_auc_4: 0.9370\n",
      "Epoch 13/20\n",
      "30/30 [==============================] - 1s 24ms/step - loss: 0.0262 - binary_accuracy: 0.9943 - precision_4: 0.9936 - recall_4: 0.9950 - auc_4: 0.9997 - val_loss: 0.4784 - val_binary_accuracy: 0.8728 - val_precision_4: 0.8655 - val_recall_4: 0.8860 - val_auc_4: 0.9345\n",
      "Epoch 14/20\n",
      "30/30 [==============================] - 1s 24ms/step - loss: 0.0174 - binary_accuracy: 0.9975 - precision_4: 0.9973 - recall_4: 0.9977 - auc_4: 0.9999 - val_loss: 0.5277 - val_binary_accuracy: 0.8645 - val_precision_4: 0.8899 - val_recall_4: 0.8351 - val_auc_4: 0.9313\n",
      "Epoch 15/20\n",
      "30/30 [==============================] - 1s 31ms/step - loss: 0.0164 - binary_accuracy: 0.9979 - precision_4: 0.9975 - recall_4: 0.9983 - auc_4: 1.0000 - val_loss: 0.5413 - val_binary_accuracy: 0.8706 - val_precision_4: 0.8649 - val_recall_4: 0.8817 - val_auc_4: 0.9289\n",
      "Epoch 16/20\n",
      "30/30 [==============================] - 1s 19ms/step - loss: 0.0097 - binary_accuracy: 0.9995 - precision_4: 0.9993 - recall_4: 0.9997 - auc_4: 1.0000 - val_loss: 0.5828 - val_binary_accuracy: 0.8671 - val_precision_4: 0.8788 - val_recall_4: 0.8549 - val_auc_4: 0.9269\n",
      "Epoch 17/20\n",
      "30/30 [==============================] - 1s 21ms/step - loss: 0.0091 - binary_accuracy: 0.9993 - precision_4: 0.9992 - recall_4: 0.9995 - auc_4: 1.0000 - val_loss: 0.6161 - val_binary_accuracy: 0.8678 - val_precision_4: 0.8724 - val_recall_4: 0.8648 - val_auc_4: 0.9247\n",
      "Epoch 18/20\n",
      "30/30 [==============================] - 1s 25ms/step - loss: 0.0112 - binary_accuracy: 0.9973 - precision_4: 0.9984 - recall_4: 0.9962 - auc_4: 0.9999 - val_loss: 0.6456 - val_binary_accuracy: 0.8697 - val_precision_4: 0.8691 - val_recall_4: 0.8737 - val_auc_4: 0.9231\n",
      "Epoch 19/20\n",
      "30/30 [==============================] - 1s 22ms/step - loss: 0.0038 - binary_accuracy: 0.9998 - precision_4: 0.9996 - recall_4: 1.0000 - auc_4: 1.0000 - val_loss: 0.6810 - val_binary_accuracy: 0.8691 - val_precision_4: 0.8575 - val_recall_4: 0.8886 - val_auc_4: 0.9203\n",
      "Epoch 20/20\n",
      "30/30 [==============================] - 1s 24ms/step - loss: 0.0072 - binary_accuracy: 0.9983 - precision_4: 0.9979 - recall_4: 0.9987 - auc_4: 1.0000 - val_loss: 0.7172 - val_binary_accuracy: 0.8664 - val_precision_4: 0.8665 - val_recall_4: 0.8696 - val_auc_4: 0.9181\n"
     ]
    }
   ],
   "source": [
    "history = model.fit(\n",
    "    partial_x_train,\n",
    "    partial_y_train,\n",
    "    epochs=20,\n",
    "    batch_size=512,\n",
    "    validation_data=(x_val,y_val)\n",
    ")"
   ]
  },
  {
   "cell_type": "markdown",
   "id": "844c970b-2700-4b24-b62b-cca58c0b4294",
   "metadata": {},
   "source": [
    "Vidíme, že v history objektu jsou opravdu všechny metriky pro trénovací i validační data a to pro každou epochu."
   ]
  },
  {
   "cell_type": "code",
   "execution_count": 35,
   "id": "2f7d47ab-43ea-4e1b-8928-f7353ea80712",
   "metadata": {},
   "outputs": [
    {
     "data": {
      "text/plain": [
       "dict_keys(['loss', 'binary_accuracy', 'precision_4', 'recall_4', 'auc_4', 'val_loss', 'val_binary_accuracy', 'val_precision_4', 'val_recall_4', 'val_auc_4'])"
      ]
     },
     "execution_count": 35,
     "metadata": {},
     "output_type": "execute_result"
    }
   ],
   "source": [
    "history.history.keys()"
   ]
  },
  {
   "cell_type": "markdown",
   "id": "28c94d19-3a68-46d6-9120-39e552dc6199",
   "metadata": {},
   "source": [
    "Když si vykreslíme ztrátu i accuracy, vidíme, že se obě cca od čtvrté epochy kazí."
   ]
  },
  {
   "cell_type": "code",
   "execution_count": 14,
   "id": "54552333-4c77-4af3-906b-5fe4c91f5c80",
   "metadata": {},
   "outputs": [],
   "source": [
    "import matplotlib.pyplot as plt"
   ]
  },
  {
   "cell_type": "code",
   "execution_count": 33,
   "id": "3adb4cc1-1e84-4b5b-b060-e34042578fef",
   "metadata": {},
   "outputs": [
    {
     "data": {
      "text/plain": [
       "<matplotlib.legend.Legend at 0x16f63ea37f0>"
      ]
     },
     "execution_count": 33,
     "metadata": {},
     "output_type": "execute_result"
    },
    {
     "data": {
      "image/png": "[encoded data removed]",
      "text/plain": [
       "<Figure size 640x480 with 1 Axes>"
      ]
     },
     "metadata": {},
     "output_type": "display_data"
    }
   ],
   "source": [
    "history_dict = history.history\n",
    "train_loss_values = history_dict[\"loss\"]\n",
    "val_loss_values = history_dict[\"val_loss\"]\n",
    "epochs = range(1, len(train_loss_values)+1)\n",
    "\n",
    "plt.plot(epochs, train_loss_values, \"bo\", label=\"Training loss\")\n",
    "plt.plot(epochs, val_loss_values, \"b\", label=\"Validation loss\")\n",
    "\n",
    "plt.title(\"Training and validation loss\")\n",
    "plt.xlabel(\"Epoch\")\n",
    "plt.ylabel(\"Loss\")\n",
    "plt.legend()"
   ]
  },
  {
   "cell_type": "code",
   "execution_count": 36,
   "id": "2cd187ff-270e-4cc2-ac5c-49a26c44e970",
   "metadata": {},
   "outputs": [
    {
     "data": {
      "text/plain": [
       "<matplotlib.legend.Legend at 0x16f659cf850>"
      ]
     },
     "execution_count": 36,
     "metadata": {},
     "output_type": "execute_result"
    },
    {
     "data": {
      "image/png": "[encoded data removed]",
      "text/plain": [
       "<Figure size 640x480 with 1 Axes>"
      ]
     },
     "metadata": {},
     "output_type": "display_data"
    }
   ],
   "source": [
    "history_dict = history.history\n",
    "train_accuracy = history_dict[\"binary_accuracy\"]\n",
    "val_accuracy = history_dict[\"val_binary_accuracy\"]\n",
    "epochs = range(1, len(train_accuracy)+1)\n",
    "\n",
    "plt.plot(epochs, train_accuracy, \"bo\", label=\"Training accuracy\")\n",
    "plt.plot(epochs, val_accuracy, \"b\", label=\"Validation accuracy\")\n",
    "\n",
    "plt.title(\"Training and validation accuracy\")\n",
    "plt.xlabel(\"Epoch\")\n",
    "plt.ylabel(\"Accuracy\")\n",
    "plt.legend()"
   ]
  },
  {
   "cell_type": "markdown",
   "id": "ccef0b94-65aa-4f73-b247-32df18c3c3c8",
   "metadata": {},
   "source": [
    "Model tedy vyrobíme znova, tentokrát jen s čtyřmi epochami. Jelikož už validaci nepotřebujeme, použijeme pro trénování všechna data. Taktéž už není potřeba history objekt."
   ]
  },
  {
   "cell_type": "code",
   "execution_count": 37,
   "id": "e90efa5e-641b-4dc5-91de-c057c10894e5",
   "metadata": {},
   "outputs": [
    {
     "name": "stdout",
     "output_type": "stream",
     "text": [
      "Epoch 1/4\n",
      "49/49 [==============================] - 2s 15ms/step - loss: 0.4374 - binary_accuracy: 0.8230 - precision_5: 0.8492 - recall_5: 0.7855 - auc_5: 0.9089\n",
      "Epoch 2/4\n",
      "49/49 [==============================] - 1s 14ms/step - loss: 0.2516 - binary_accuracy: 0.9124 - precision_5: 0.9081 - recall_5: 0.9178 - auc_5: 0.9676\n",
      "Epoch 3/4\n",
      "49/49 [==============================] - 1s 13ms/step - loss: 0.1966 - binary_accuracy: 0.9306 - precision_5: 0.9274 - recall_5: 0.9345 - auc_5: 0.9784\n",
      "Epoch 4/4\n",
      "49/49 [==============================] - 1s 13ms/step - loss: 0.1647 - binary_accuracy: 0.9413 - precision_5: 0.9388 - recall_5: 0.9442 - auc_5: 0.9846\n"
     ]
    },
    {
     "data": {
      "text/plain": [
       "<keras.callbacks.History at 0x16f67591b70>"
      ]
     },
     "execution_count": 37,
     "metadata": {},
     "output_type": "execute_result"
    }
   ],
   "source": [
    "model = keras.Sequential([\n",
    "    layers.Dense(16, activation=\"relu\"),\n",
    "    layers.Dense(16, activation=\"relu\"),\n",
    "    layers.Dense(1, activation=\"sigmoid\"),\n",
    "])\n",
    "\n",
    "model.compile(\n",
    "    optimizer=\"rmsprop\",\n",
    "    loss=\"binary_crossentropy\",\n",
    "    metrics=[BinaryAccuracy(), Precision(), Recall(), AUC()]\n",
    ")\n",
    "\n",
    "model.fit(\n",
    "    x_train,\n",
    "    y_train,\n",
    "    epochs=4,\n",
    "    batch_size=512\n",
    ")"
   ]
  },
  {
   "cell_type": "markdown",
   "id": "fc0c1808-4a96-4ff7-8581-793828c34745",
   "metadata": {},
   "source": [
    "Pro metriky na testovacích datech provoláme na natrénovaném modelu metodu *evaluate*."
   ]
  },
  {
   "cell_type": "code",
   "execution_count": 38,
   "id": "2e48c9ba-b29e-4837-b687-6f53c583d883",
   "metadata": {},
   "outputs": [
    {
     "name": "stdout",
     "output_type": "stream",
     "text": [
      "782/782 [==============================] - 5s 6ms/step - loss: 0.2963 - binary_accuracy: 0.8822 - precision_5: 0.8808 - recall_5: 0.8841 - auc_5: 0.9484\n"
     ]
    }
   ],
   "source": [
    "result = model.evaluate(x_test, y_test)"
   ]
  },
  {
   "cell_type": "markdown",
   "id": "c1bc03d6-d256-401d-8f88-0e0de620a1b1",
   "metadata": {},
   "source": [
    "Pro predikování na datech použijeme metodu *predict*:"
   ]
  },
  {
   "cell_type": "code",
   "execution_count": 39,
   "id": "dc2c2c17-30fa-493e-aa1b-9409bad10e85",
   "metadata": {},
   "outputs": [
    {
     "name": "stdout",
     "output_type": "stream",
     "text": [
      "782/782 [==============================] - 1s 2ms/step\n"
     ]
    },
    {
     "data": {
      "text/plain": [
       "array([0.19706404], dtype=float32)"
      ]
     },
     "execution_count": 39,
     "metadata": {},
     "output_type": "execute_result"
    }
   ],
   "source": [
    "model.predict(x_test)[0]"
   ]
  },
  {
   "cell_type": "markdown",
   "id": "3b881f82-8369-42d9-8088-6157c8f76609",
   "metadata": {},
   "source": [
    "## Multiclass klasifikace"
   ]
  },
  {
   "cell_type": "markdown",
   "id": "dd30bdf9-8fbc-4ebb-8681-6fd3c19fda69",
   "metadata": {},
   "source": [
    "Data získáme z datasetu reuters. Strukturu mají stejnou jako imdb, jen v labelech nejsou nuly a jedničky, nýbrž je tříd mnohem víc."
   ]
  },
  {
   "cell_type": "code",
   "execution_count": 2,
   "id": "fc02bcb8-4777-4118-b983-92a48913db63",
   "metadata": {},
   "outputs": [],
   "source": [
    "from tensorflow.keras.datasets import reuters\n",
    "num_wanted_words = 10_000\n",
    "(train_data, train_labels), (test_data, test_labels) = reuters.load_data(num_words=num_wanted_words)"
   ]
  },
  {
   "cell_type": "code",
   "execution_count": 3,
   "id": "8c8e44d2-728c-4a9f-a2f8-3b670981cd64",
   "metadata": {},
   "outputs": [
    {
     "data": {
      "text/plain": [
       "array([ 3,  4,  3,  4,  4,  4,  4,  3,  3, 16], dtype=int64)"
      ]
     },
     "execution_count": 3,
     "metadata": {},
     "output_type": "execute_result"
    }
   ],
   "source": [
    "train_labels[0:10]"
   ]
  },
  {
   "cell_type": "code",
   "execution_count": 4,
   "id": "419de477-1ff3-4921-a34d-11a3e5036ccd",
   "metadata": {},
   "outputs": [
    {
     "name": "stdout",
     "output_type": "stream",
     "text": [
      "0 45\n"
     ]
    }
   ],
   "source": [
    "print(\n",
    "    min(train_labels),\n",
    "    max(train_labels)\n",
    ")"
   ]
  },
  {
   "cell_type": "markdown",
   "id": "606145a3-9452-481b-b2cf-db41c8ba207b",
   "metadata": {},
   "source": [
    "Stejně jako v předchozí úloze upravíme trénovací a testovací data (myšleno featury, nikoli labely)"
   ]
  },
  {
   "cell_type": "code",
   "execution_count": 5,
   "id": "8bebe810-ecbf-440e-a2a4-5173f09c1841",
   "metadata": {},
   "outputs": [],
   "source": [
    "def vectorize_sequence(semitransformed_reviews_array:np.ndarray, dimension:int=num_wanted_words):\n",
    "    transformed_reviews_array = np.zeros(\n",
    "        (\n",
    "        len(semitransformed_reviews_array), \n",
    "        dimension\n",
    "        )\n",
    "    )\n",
    "    for one_review_index, one_review in enumerate(semitransformed_reviews_array):\n",
    "        for one_word_number in one_review:\n",
    "            transformed_reviews_array[one_review_index,one_word_number] = 1\n",
    "    return transformed_reviews_array"
   ]
  },
  {
   "cell_type": "code",
   "execution_count": 6,
   "id": "351d45c4-acdd-44bd-9e69-23a5ad25a54b",
   "metadata": {},
   "outputs": [],
   "source": [
    "x_train = vectorize_sequence(train_data)\n",
    "x_test = vectorize_sequence(test_data)"
   ]
  },
  {
   "cell_type": "markdown",
   "id": "902fe7d8-6f0e-4cdf-abae-764e6fd67500",
   "metadata": {},
   "source": [
    "Narozdíl od sklearnu si Keras s takto vypadajícími labely sám o sobě neporadí, tj. musíme ručně docílit one-hot encodingu."
   ]
  },
  {
   "cell_type": "code",
   "execution_count": 7,
   "id": "4f61d774-8ddb-47a3-81d8-eb29e5e90014",
   "metadata": {},
   "outputs": [],
   "source": [
    "def transform_to_one_hot(labels:np.ndarray, dimension:int=46):\n",
    "    number_of_records = len(labels)\n",
    "    one_hot_array = np.zeros(\n",
    "        (number_of_records, dimension)\n",
    "    )\n",
    "    for record_index, record_class_number in enumerate(labels):\n",
    "        one_hot_array[record_index, record_class_number] = 1\n",
    "    return one_hot_array\n",
    "\n",
    "y_train = transform_to_one_hot(train_labels)\n",
    "y_test = transform_to_one_hot(test_labels)"
   ]
  },
  {
   "cell_type": "markdown",
   "id": "e71b5ac2-0582-488c-a05e-25fe463fbd2d",
   "metadata": {},
   "source": [
    "Architektura modelu musí reflektovat, že máme 46 tříd."
   ]
  },
  {
   "cell_type": "code",
   "execution_count": 23,
   "id": "f78a604d-1198-4682-b91f-d633814e5c4d",
   "metadata": {},
   "outputs": [],
   "source": [
    "model = keras.Sequential([\n",
    "    layers.Dense(64, activation=\"relu\"),\n",
    "    layers.Dense(64, activation=\"relu\"),\n",
    "    layers.Dense(46, activation=\"sigmoid\"),\n",
    "])"
   ]
  },
  {
   "cell_type": "markdown",
   "id": "ebbab35d-47ce-4945-82c4-28827a07024e",
   "metadata": {},
   "source": [
    "Zkompilujeme model, přičemž tentorkát použijeme pro specifikování optimizéru a ztráty odpovídající objekty, nikoli jejich stringová jména."
   ]
  },
  {
   "cell_type": "code",
   "execution_count": 24,
   "id": "3f15b1db-0d7b-412f-ab05-c1835bd7becb",
   "metadata": {},
   "outputs": [],
   "source": [
    "from keras.metrics import CategoricalAccuracy\n",
    "from keras.optimizers import RMSprop\n",
    "from keras.losses import CategoricalCrossentropy\n",
    "\n",
    "model.compile(\n",
    "    optimizer=RMSprop(learning_rate=0.001),\n",
    "    loss=CategoricalCrossentropy(),\n",
    "    metrics=[CategoricalAccuracy()]\n",
    ")"
   ]
  },
  {
   "cell_type": "markdown",
   "id": "a59ded1f-a68a-42db-849c-85adbb23a222",
   "metadata": {},
   "source": [
    "Narozdíl od předchozího příkladu si nebudeme validační set tvořit ručně sami, ale využijeme možnosti zadat do fitovací funkce parametr *validation_split*. Číslo v něm uložené říká, jaká část trénovacích dat má být uložena bokem pro validaci."
   ]
  },
  {
   "cell_type": "code",
   "execution_count": 25,
   "id": "0b1f1b93-2636-43d5-99fd-dd3ed2b9801d",
   "metadata": {},
   "outputs": [
    {
     "name": "stdout",
     "output_type": "stream",
     "text": [
      "Epoch 1/20\n",
      "16/16 [==============================] - 1s 31ms/step - loss: 2.5725 - categorical_accuracy: 0.5174 - val_loss: 1.8482 - val_categorical_accuracy: 0.6307\n",
      "Epoch 2/20\n",
      "16/16 [==============================] - 0s 14ms/step - loss: 1.4076 - categorical_accuracy: 0.7039 - val_loss: 1.4043 - val_categorical_accuracy: 0.7208\n",
      "Epoch 3/20\n",
      "16/16 [==============================] - 0s 14ms/step - loss: 1.0225 - categorical_accuracy: 0.7854 - val_loss: 1.2049 - val_categorical_accuracy: 0.7364\n",
      "Epoch 4/20\n",
      "16/16 [==============================] - 0s 13ms/step - loss: 0.7958 - categorical_accuracy: 0.8332 - val_loss: 1.1095 - val_categorical_accuracy: 0.7531\n",
      "Epoch 5/20\n",
      "16/16 [==============================] - 0s 14ms/step - loss: 0.6375 - categorical_accuracy: 0.8676 - val_loss: 1.0401 - val_categorical_accuracy: 0.7742\n",
      "Epoch 6/20\n",
      "16/16 [==============================] - 0s 13ms/step - loss: 0.5129 - categorical_accuracy: 0.8981 - val_loss: 1.0111 - val_categorical_accuracy: 0.7798\n",
      "Epoch 7/20\n",
      "16/16 [==============================] - 0s 14ms/step - loss: 0.4136 - categorical_accuracy: 0.9162 - val_loss: 0.9879 - val_categorical_accuracy: 0.7953\n",
      "Epoch 8/20\n",
      "16/16 [==============================] - 0s 13ms/step - loss: 0.3382 - categorical_accuracy: 0.9292 - val_loss: 0.9804 - val_categorical_accuracy: 0.7953\n",
      "Epoch 9/20\n",
      "16/16 [==============================] - 0s 13ms/step - loss: 0.2825 - categorical_accuracy: 0.9383 - val_loss: 0.9798 - val_categorical_accuracy: 0.7964\n",
      "Epoch 10/20\n",
      "16/16 [==============================] - 0s 14ms/step - loss: 0.2384 - categorical_accuracy: 0.9461 - val_loss: 0.9692 - val_categorical_accuracy: 0.8053\n",
      "Epoch 11/20\n",
      "16/16 [==============================] - 0s 14ms/step - loss: 0.2014 - categorical_accuracy: 0.9518 - val_loss: 0.9919 - val_categorical_accuracy: 0.8065\n",
      "Epoch 12/20\n",
      "16/16 [==============================] - 0s 17ms/step - loss: 0.1838 - categorical_accuracy: 0.9520 - val_loss: 1.0017 - val_categorical_accuracy: 0.7987\n",
      "Epoch 13/20\n",
      "16/16 [==============================] - 0s 14ms/step - loss: 0.1606 - categorical_accuracy: 0.9552 - val_loss: 1.0578 - val_categorical_accuracy: 0.7987\n",
      "Epoch 14/20\n",
      "16/16 [==============================] - 0s 13ms/step - loss: 0.1486 - categorical_accuracy: 0.9573 - val_loss: 1.1016 - val_categorical_accuracy: 0.7831\n",
      "Epoch 15/20\n",
      "16/16 [==============================] - 0s 14ms/step - loss: 0.1400 - categorical_accuracy: 0.9566 - val_loss: 1.1025 - val_categorical_accuracy: 0.7742\n",
      "Epoch 16/20\n",
      "16/16 [==============================] - 0s 14ms/step - loss: 0.1261 - categorical_accuracy: 0.9582 - val_loss: 1.1402 - val_categorical_accuracy: 0.7931\n",
      "Epoch 17/20\n",
      "16/16 [==============================] - 0s 13ms/step - loss: 0.1225 - categorical_accuracy: 0.9587 - val_loss: 1.1640 - val_categorical_accuracy: 0.7798\n",
      "Epoch 18/20\n",
      "16/16 [==============================] - 0s 13ms/step - loss: 0.1104 - categorical_accuracy: 0.9608 - val_loss: 1.1155 - val_categorical_accuracy: 0.7909\n",
      "Epoch 19/20\n",
      "16/16 [==============================] - 0s 13ms/step - loss: 0.1138 - categorical_accuracy: 0.9602 - val_loss: 1.1976 - val_categorical_accuracy: 0.7809\n",
      "Epoch 20/20\n",
      "16/16 [==============================] - 0s 12ms/step - loss: 0.1092 - categorical_accuracy: 0.9600 - val_loss: 1.2505 - val_categorical_accuracy: 0.7731\n"
     ]
    }
   ],
   "source": [
    "history = model.fit(\n",
    "    x_train,\n",
    "    y_train,\n",
    "    epochs=20,\n",
    "    batch_size=512,\n",
    "    validation_split=0.1\n",
    ")"
   ]
  },
  {
   "cell_type": "code",
   "execution_count": 27,
   "id": "93a029ce-98eb-45ee-a2f9-45c5aedaf9a2",
   "metadata": {},
   "outputs": [
    {
     "data": {
      "text/plain": [
       "<matplotlib.legend.Legend at 0x25f80ae78b0>"
      ]
     },
     "execution_count": 27,
     "metadata": {},
     "output_type": "execute_result"
    },
    {
     "data": {
      "image/png": "[encoded data removed]",
      "text/plain": [
       "<Figure size 640x480 with 1 Axes>"
      ]
     },
     "metadata": {},
     "output_type": "display_data"
    }
   ],
   "source": [
    "history_dict = history.history\n",
    "train_loss_values = history_dict[\"loss\"]\n",
    "val_loss_values = history_dict[\"val_loss\"]\n",
    "epochs = range(1, len(train_loss_values)+1)\n",
    "\n",
    "plt.plot(epochs, train_loss_values, \"bo\", label=\"Training loss\")\n",
    "plt.plot(epochs, val_loss_values, \"b\", label=\"Validation loss\")\n",
    "\n",
    "plt.title(\"Training and validation loss\")\n",
    "plt.xlabel(\"Epoch\")\n",
    "plt.ylabel(\"Loss\")\n",
    "plt.legend()"
   ]
  },
  {
   "cell_type": "code",
   "execution_count": 28,
   "id": "c36973f0-8075-481a-b253-7c7aa2475c7b",
   "metadata": {},
   "outputs": [
    {
     "data": {
      "text/plain": [
       "<matplotlib.legend.Legend at 0x260311d7700>"
      ]
     },
     "execution_count": 28,
     "metadata": {},
     "output_type": "execute_result"
    },
    {
     "data": {
      "image/png": "[encoded data removed]",
      "text/plain": [
       "<Figure size 640x480 with 1 Axes>"
      ]
     },
     "metadata": {},
     "output_type": "display_data"
    }
   ],
   "source": [
    "history_dict = history.history\n",
    "train_accuracy = history_dict[\"categorical_accuracy\"]\n",
    "val_accuracy = history_dict[\"val_categorical_accuracy\"]\n",
    "epochs = range(1, len(train_accuracy)+1)\n",
    "\n",
    "plt.plot(epochs, train_accuracy, \"bo\", label=\"Training accuracy\")\n",
    "plt.plot(epochs, val_accuracy, \"b\", label=\"Validation accuracy\")\n",
    "\n",
    "plt.title(\"Training and validation accuracy\")\n",
    "plt.xlabel(\"Epoch\")\n",
    "plt.ylabel(\"Accuracy\")\n",
    "plt.legend()"
   ]
  },
  {
   "cell_type": "markdown",
   "id": "922585cd-1650-455a-b32f-2001ba54db4b",
   "metadata": {},
   "source": [
    "Tentokrát je optimální počet epoch 9."
   ]
  },
  {
   "cell_type": "code",
   "execution_count": 30,
   "id": "a4a94148-1d22-4470-8822-a81d13a04574",
   "metadata": {},
   "outputs": [
    {
     "name": "stdout",
     "output_type": "stream",
     "text": [
      "Epoch 1/9\n",
      "18/18 [==============================] - 1s 14ms/step - loss: 2.3102 - categorical_accuracy: 0.5563\n",
      "Epoch 2/9\n",
      "18/18 [==============================] - 0s 9ms/step - loss: 1.2904 - categorical_accuracy: 0.7190\n",
      "Epoch 3/9\n",
      "18/18 [==============================] - 0s 10ms/step - loss: 0.9840 - categorical_accuracy: 0.7833\n",
      "Epoch 4/9\n",
      "18/18 [==============================] - 0s 11ms/step - loss: 0.7736 - categorical_accuracy: 0.8353\n",
      "Epoch 5/9\n",
      "18/18 [==============================] - 0s 11ms/step - loss: 0.6082 - categorical_accuracy: 0.8725\n",
      "Epoch 6/9\n",
      "18/18 [==============================] - 0s 11ms/step - loss: 0.4835 - categorical_accuracy: 0.8987\n",
      "Epoch 7/9\n",
      "18/18 [==============================] - 0s 10ms/step - loss: 0.3932 - categorical_accuracy: 0.9173\n",
      "Epoch 8/9\n",
      "18/18 [==============================] - 0s 10ms/step - loss: 0.3169 - categorical_accuracy: 0.9321\n",
      "Epoch 9/9\n",
      "18/18 [==============================] - 0s 9ms/step - loss: 0.2657 - categorical_accuracy: 0.9397\n",
      "\n",
      "Evaluation:\n",
      "71/71 [==============================] - 0s 4ms/step - loss: 0.9334 - categorical_accuracy: 0.7992\n"
     ]
    }
   ],
   "source": [
    "model = keras.Sequential([\n",
    "    layers.Dense(64, activation=\"relu\"),\n",
    "    layers.Dense(64, activation=\"relu\"),\n",
    "    layers.Dense(46, activation=\"sigmoid\"),\n",
    "])\n",
    "\n",
    "model.compile(\n",
    "    optimizer=RMSprop(learning_rate=0.001),\n",
    "    loss=CategoricalCrossentropy(),\n",
    "    metrics=[CategoricalAccuracy()]\n",
    ")\n",
    "\n",
    "model.fit(\n",
    "    x_train,\n",
    "    y_train,\n",
    "    epochs=9,\n",
    "    batch_size=512\n",
    ")\n",
    "print(\"\\nEvaluation:\")\n",
    "results = model.evaluate(x_test, y_test)"
   ]
  },
  {
   "cell_type": "markdown",
   "id": "9b2456b7-dc50-4758-a9e8-357fdb7043e8",
   "metadata": {},
   "source": [
    "Predikce pro konkrétní záznam vrací pravděpodobnosti, že onen záznam patří do jednotlivých tříd. Index třídy s největší pravděpodobností získáme s pomocí funkce *argmax*. Zde vidíme třídu s indexem 3, tj. čtvrtou třídu."
   ]
  },
  {
   "cell_type": "code",
   "execution_count": 31,
   "id": "05e3aa19-de58-45f1-a5eb-ac7711756434",
   "metadata": {},
   "outputs": [
    {
     "name": "stdout",
     "output_type": "stream",
     "text": [
      "71/71 [==============================] - 0s 2ms/step\n"
     ]
    },
    {
     "data": {
      "text/plain": [
       "array([8.3763964e-02, 1.9728145e-02, 9.9926838e-04, 9.9498284e-01,\n",
       "       9.8273152e-01, 5.0012926e-03, 4.0150754e-02, 1.6929327e-02,\n",
       "       5.5495912e-01, 5.0430163e-03, 3.7319552e-02, 1.9128680e-01,\n",
       "       7.7282816e-02, 2.8937635e-01, 5.5351807e-03, 5.8209361e-03,\n",
       "       3.5418794e-01, 1.1323322e-01, 5.3417198e-02, 4.6794623e-01,\n",
       "       3.7798905e-01, 1.5960233e-01, 1.1187242e-02, 6.0523804e-02,\n",
       "       2.2164236e-03, 2.2637554e-02, 5.4282718e-04, 5.0235134e-02,\n",
       "       7.2176315e-02, 2.5244039e-02, 4.1572358e-02, 4.5352641e-02,\n",
       "       2.2410968e-02, 2.5000699e-02, 2.2011069e-03, 3.4719261e-03,\n",
       "       7.1229249e-02, 3.1901464e-02, 3.4213606e-03, 3.0719396e-01,\n",
       "       1.1166827e-02, 4.1027565e-02, 1.3333463e-02, 5.8359560e-03,\n",
       "       3.6250323e-02, 7.0123733e-03], dtype=float32)"
      ]
     },
     "execution_count": 31,
     "metadata": {},
     "output_type": "execute_result"
    }
   ],
   "source": [
    "predictions = model.predict(x_test)\n",
    "predictions[0]"
   ]
  },
  {
   "cell_type": "code",
   "execution_count": 32,
   "id": "60336e1e-d320-44e8-ad0c-78406a0ceaf3",
   "metadata": {},
   "outputs": [
    {
     "data": {
      "text/plain": [
       "3"
      ]
     },
     "execution_count": 32,
     "metadata": {},
     "output_type": "execute_result"
    }
   ],
   "source": [
    "np.argmax(predictions[0])"
   ]
  },
  {
   "cell_type": "markdown",
   "id": "bcadcf37-6180-4719-a226-4781d41a28e2",
   "metadata": {},
   "source": [
    "Pozn.: labely bychom mohli nechat tak, jak byly. V takovém případě bychom ale museli použít sparse varianty ztrátové funkce a accuracy."
   ]
  },
  {
   "cell_type": "code",
   "execution_count": 38,
   "id": "6c9fb56d-2200-4ce0-859f-daed10eacf61",
   "metadata": {},
   "outputs": [
    {
     "name": "stdout",
     "output_type": "stream",
     "text": [
      "Epoch 1/9\n",
      "18/18 [==============================] - 1s 12ms/step - loss: 2.6068 - sparse_categorical_accuracy: 0.5418\n",
      "Epoch 2/9\n",
      "18/18 [==============================] - 0s 9ms/step - loss: 1.3924 - sparse_categorical_accuracy: 0.7067\n",
      "Epoch 3/9\n",
      "18/18 [==============================] - 0s 9ms/step - loss: 1.0317 - sparse_categorical_accuracy: 0.7768\n",
      "Epoch 4/9\n",
      "18/18 [==============================] - 0s 11ms/step - loss: 0.8047 - sparse_categorical_accuracy: 0.8268\n",
      "Epoch 5/9\n",
      "18/18 [==============================] - 0s 9ms/step - loss: 0.6378 - sparse_categorical_accuracy: 0.8625\n",
      "Epoch 6/9\n",
      "18/18 [==============================] - 0s 9ms/step - loss: 0.5092 - sparse_categorical_accuracy: 0.8901\n",
      "Epoch 7/9\n",
      "18/18 [==============================] - 0s 10ms/step - loss: 0.4068 - sparse_categorical_accuracy: 0.9108\n",
      "Epoch 8/9\n",
      "18/18 [==============================] - 0s 11ms/step - loss: 0.3327 - sparse_categorical_accuracy: 0.9272\n",
      "Epoch 9/9\n",
      "18/18 [==============================] - 0s 7ms/step - loss: 0.2754 - sparse_categorical_accuracy: 0.9374\n",
      "\n",
      "Evaluation:\n",
      "71/71 [==============================] - 0s 2ms/step - loss: 0.9598 - sparse_categorical_accuracy: 0.7947\n"
     ]
    }
   ],
   "source": [
    "from keras.losses import SparseCategoricalCrossentropy\n",
    "from keras.metrics import SparseCategoricalAccuracy\n",
    "\n",
    "model = keras.Sequential([\n",
    "    layers.Dense(64, activation=\"relu\"),\n",
    "    layers.Dense(64, activation=\"relu\"),\n",
    "    layers.Dense(46, activation=\"sigmoid\"),\n",
    "])\n",
    "\n",
    "model.compile(\n",
    "    optimizer=RMSprop(learning_rate=0.001),\n",
    "    loss=SparseCategoricalCrossentropy(),\n",
    "    metrics=[SparseCategoricalAccuracy()]\n",
    ")\n",
    "\n",
    "model.fit(\n",
    "    x_train,\n",
    "    train_labels,\n",
    "    epochs=9,\n",
    "    batch_size=512\n",
    ")\n",
    "print(\"\\nEvaluation:\")\n",
    "results = model.evaluate(x_test, test_labels)"
   ]
  },
  {
   "cell_type": "markdown",
   "id": "3882a2c2-d23b-480c-ac31-c3ae2976fc50",
   "metadata": {},
   "source": [
    "## Regrese"
   ]
  },
  {
   "cell_type": "markdown",
   "id": "a742e5d0-b794-4366-8c3a-220c787103fe",
   "metadata": {},
   "source": [
    "Pro ukázku regrese použijeme dataset o nemovitostech v Bostonu."
   ]
  },
  {
   "cell_type": "code",
   "execution_count": 2,
   "id": "bc5294dd-6b02-41ac-90f2-16d7cc58c0d4",
   "metadata": {},
   "outputs": [],
   "source": [
    "from tensorflow.keras.datasets import boston_housing\n",
    "(train_data, train_targets), (test_data, test_targets) = boston_housing.load_data()"
   ]
  },
  {
   "cell_type": "markdown",
   "id": "395bb278-4485-4b88-a87e-9f613a8aac47",
   "metadata": {},
   "source": [
    "Všimněme si, že data jsou opravdu mrňavá - v trénovací sadě máme jen cca 400 záznamů."
   ]
  },
  {
   "cell_type": "code",
   "execution_count": 3,
   "id": "a22da87c-d015-4ecf-9c35-13bfe6eb841f",
   "metadata": {},
   "outputs": [
    {
     "data": {
      "text/plain": [
       "(404, 13)"
      ]
     },
     "execution_count": 3,
     "metadata": {},
     "output_type": "execute_result"
    }
   ],
   "source": [
    "train_data.shape"
   ]
  },
  {
   "cell_type": "code",
   "execution_count": 4,
   "id": "91374f5f-73fd-49e2-a4bc-938609ec140a",
   "metadata": {},
   "outputs": [
    {
     "data": {
      "text/plain": [
       "(102, 13)"
      ]
     },
     "execution_count": 4,
     "metadata": {},
     "output_type": "execute_result"
    }
   ],
   "source": [
    "test_data.shape"
   ]
  },
  {
   "cell_type": "markdown",
   "id": "4af55424-0bbb-438f-ae10-4aefa1e25665",
   "metadata": {},
   "source": [
    "Labely obsahují ceny nemovitostí v tisících dolarů."
   ]
  },
  {
   "cell_type": "code",
   "execution_count": 5,
   "id": "5c9f37b9-9ef2-4dcc-a8e9-11cbd0ecdfad",
   "metadata": {},
   "outputs": [
    {
     "data": {
      "text/plain": [
       "array([15.2, 42.3, 50. , 21.1, 17.7, 18.5, 11.3, 15.6, 15.6, 14.4])"
      ]
     },
     "execution_count": 5,
     "metadata": {},
     "output_type": "execute_result"
    }
   ],
   "source": [
    "train_targets[0:10]"
   ]
  },
  {
   "cell_type": "markdown",
   "id": "a6c45ed2-bc0f-433a-a2df-9f17fc27de8b",
   "metadata": {},
   "source": [
    "Neuronové sítě se při trénování dostávají do problémů, pakliže mají jednotlivé featury nesouměřitelné velikosti. Proto musíme provést škálování, tj. předpokládáme normální rozdělení a tak od trénovacích dat odečteme průměr a výsledek pak vydělíme standardní odchylkou. Je třeba si uvědomit, že u testovacích dat musíme použít průměr a odchylku vypočtenou z trénovacích dat."
   ]
  },
  {
   "cell_type": "code",
   "execution_count": 6,
   "id": "da3a9865-56a4-4f65-9722-94dfc970f4b9",
   "metadata": {},
   "outputs": [],
   "source": [
    "train_mean = train_data.mean(axis=0)\n",
    "train_data = train_data - train_mean\n",
    "train_std = train_data.std(axis=0)\n",
    "train_data = train_data/train_std\n",
    "\n",
    "test_data = test_data - train_mean\n",
    "test_data = test_data/train_std"
   ]
  },
  {
   "cell_type": "markdown",
   "id": "34e01c8f-839d-406e-8a17-a218dbe74849",
   "metadata": {},
   "source": [
    "Z důvodů, které mi zatím unikají, jsem při použití ztrátové funkce v nestringové objektové podobě dostal při fitování chybu \"No gradients provided for any variable\". Tudíž do ztráty raději vkládám \"mse\"."
   ]
  },
  {
   "cell_type": "code",
   "execution_count": 7,
   "id": "2b8438fd-8364-4a83-9a63-c5fe91249895",
   "metadata": {},
   "outputs": [],
   "source": [
    "def build_model():\n",
    "    model = keras.Sequential([\n",
    "        layers.Dense(64, activation=\"relu\"),\n",
    "        layers.Dense(64, activation=\"relu\"),\n",
    "        layers.Dense(1)\n",
    "    ])\n",
    "    model.compile(\n",
    "        optimizer=RMSprop(),\n",
    "        loss=\"mse\", metrics=[\"mae\"]\n",
    "    )\n",
    "    return model"
   ]
  },
  {
   "cell_type": "markdown",
   "id": "3d92ba44-24f9-4fb6-9d69-095af8bfe8d4",
   "metadata": {},
   "source": [
    "Mohli bychom si vytvořit klasickou validační sadu. Jenomže vzhledem k tomu, že máme málo záznamů, váha každého záznamu by prudce narostla. Tudíž by se metriky mohly dosti odlišovat podle toho, jaké záznamy do validační sady zrovna spadly. Proto použijeme k-fold crossvalidation. To znamená, že si trénovací data rozdělíme na K částí. Nejprve natrénujeme model na prvních K-1 částech a zvalidujeme na K-té části. Žolík trénovací sady bude v dalších iteracích přecházet na další části. Ve vsýledku tak budeme mít pro každou metriku K čísel, které můžeme zprůměrovat. "
   ]
  },
  {
   "cell_type": "code",
   "execution_count": 9,
   "id": "5aa22109-9311-41f9-8176-adff04a1d596",
   "metadata": {},
   "outputs": [
    {
     "name": "stdout",
     "output_type": "stream",
     "text": [
      "Processing fold 0\n",
      "Processing fold 1\n",
      "Processing fold 2\n",
      "Processing fold 3\n"
     ]
    }
   ],
   "source": [
    "folds_count = 4\n",
    "num_val_samples = len(train_data)//folds_count\n",
    "num_epochs = 500\n",
    "all_mae_histories = []\n",
    "\n",
    "for fold_index in range(folds_count):\n",
    "    print(f\"Processing fold {fold_index}\")\n",
    "    val_data = train_data[fold_index*num_val_samples : (fold_index+1)*num_val_samples]\n",
    "    val_targets = train_targets[fold_index*num_val_samples : (fold_index+1)*num_val_samples]\n",
    "\n",
    "    partial_train_data = np.concatenate(\n",
    "        [\n",
    "            train_data[: fold_index*num_val_samples],\n",
    "            train_data[(fold_index+1)*num_val_samples:]\n",
    "        ],\n",
    "        axis=0\n",
    "    )\n",
    "    partial_train_targets = np.concatenate(\n",
    "        [\n",
    "            train_targets[: fold_index*num_val_samples],\n",
    "            train_targets[(fold_index+1)*num_val_samples:]\n",
    "        ],\n",
    "        axis=0\n",
    "    )\n",
    "\n",
    "    model = build_model()\n",
    "\n",
    "    history = model.fit(\n",
    "        partial_train_data, partial_train_targets,\n",
    "        validation_data=(val_data, val_targets),\n",
    "        epochs=num_epochs, batch_size=16, verbose=0\n",
    "    )\n",
    "    mae_history = history.history[\"val_mae\"]\n",
    "    all_mae_histories.append(mae_history)"
   ]
  },
  {
   "cell_type": "markdown",
   "id": "e0a3b765-ceb2-4e6e-bc79-9982717c3f03",
   "metadata": {},
   "source": [
    "Nyní metriky pro jednotlivé epochy zprůměrujeme a vykreslíme do grafu."
   ]
  },
  {
   "cell_type": "code",
   "execution_count": 10,
   "id": "9f274a56-2c6e-4d0b-a494-23e6e5201084",
   "metadata": {},
   "outputs": [],
   "source": [
    "average_mae_history = []\n",
    "for epoch_index in range(num_epochs):\n",
    "    average_mae = np.mean([one_fold_history[epoch_index] for one_fold_history in all_mae_histories])\n",
    "    average_mae_history.append(average_mae)"
   ]
  },
  {
   "cell_type": "code",
   "execution_count": 11,
   "id": "faae99be-1d3c-4a1a-ae9c-0be1c0305988",
   "metadata": {},
   "outputs": [
    {
     "data": {
      "image/png": "[encoded data removed]",
      "text/plain": [
       "<Figure size 640x480 with 1 Axes>"
      ]
     },
     "metadata": {},
     "output_type": "display_data"
    }
   ],
   "source": [
    "plt.plot(range(1, num_epochs + 1), average_mae_history)\n",
    "plt.xlabel(\"Epoch number\")\n",
    "plt.ylabel(\"Validation MAE\");"
   ]
  },
  {
   "cell_type": "markdown",
   "id": "86a87642-79cc-434c-a474-dea01780bcba",
   "metadata": {},
   "source": [
    "Usekneme začátek grafu, abychom něco viděli. Z nového borázku je jasné, že stačí cca 100 epoch a další už jsou kontraproduktivní."
   ]
  },
  {
   "cell_type": "code",
   "execution_count": 16,
   "id": "5aea082e-4a0e-4290-adc1-a33eb582c4bb",
   "metadata": {},
   "outputs": [
    {
     "data": {
      "image/png": "[encoded data removed]",
      "text/plain": [
       "<Figure size 640x480 with 1 Axes>"
      ]
     },
     "metadata": {},
     "output_type": "display_data"
    }
   ],
   "source": [
    "plt.plot(range(10, num_epochs + 1), average_mae_history[9:])\n",
    "plt.xlabel(\"Epoch number\")\n",
    "plt.ylabel(\"Validation MAE\");"
   ]
  },
  {
   "cell_type": "markdown",
   "id": "d389f9c2-c8bf-4a79-9a75-56e3d9257595",
   "metadata": {},
   "source": [
    "Nakonec znova provedeme natrénování na celých trénovacích datech a spočítáme si metriky na datech testovacích."
   ]
  },
  {
   "cell_type": "code",
   "execution_count": 17,
   "id": "a42feea9-090f-4252-91ac-3aa48f6670b7",
   "metadata": {},
   "outputs": [
    {
     "name": "stdout",
     "output_type": "stream",
     "text": [
      "4/4 [==============================] - 0s 2ms/step - loss: 17.6522 - mae: 2.5623\n"
     ]
    }
   ],
   "source": [
    "model = build_model()\n",
    "model.fit(train_data, train_targets, epochs=100, batch_size=16, verbose=False)\n",
    "\n",
    "test_mse_score, test_mae_score = model.evaluate(test_data, test_targets)"
   ]
  },
  {
   "cell_type": "markdown",
   "id": "c1c4ada2-5380-45eb-88f9-f63e62ef3048",
   "metadata": {},
   "source": [
    "### Regularizace modelu\n",
    "Pakliže se model naučí až příliš dobře trénovací data, má to neblahý vliv na predikce na validační (a následně i na testovací) sadě. Postupy vedoucí k redukci tohoto jevu označujeme jako regularizace.  \n",
    "V kontextu obyčejných neuronových sítí máme tři základní regularizační přístupy:  \n",
    "- zmenšení sítě  \n",
    "- regularizace vah  \n",
    "- dropout  "
   ]
  },
  {
   "cell_type": "markdown",
   "id": "8cf45d88-d272-4c61-afe9-c85a60fcb762",
   "metadata": {},
   "source": [
    "Regularizaci si předvedeme na imdb datasetu."
   ]
  },
  {
   "cell_type": "code",
   "execution_count": 2,
   "id": "9a0f21e3-c0fd-4c35-b4f5-1317437d25e0",
   "metadata": {},
   "outputs": [],
   "source": [
    "from tensorflow.keras.datasets import imdb\n",
    "num_wanted_words = 10_000\n",
    "(train_data, train_labels), (test_data, test_labels) = imdb.load_data(num_words=num_wanted_words)\n",
    "\n",
    "def vectorize_sequence(semitransformed_reviews_array:np.ndarray, dimension:int=num_wanted_words):\n",
    "    transformed_reviews_array = np.zeros(\n",
    "        (\n",
    "        len(semitransformed_reviews_array), \n",
    "        dimension\n",
    "        )\n",
    "    )\n",
    "    for one_review_index, one_review in enumerate(semitransformed_reviews_array):\n",
    "        for one_word_number in one_review:\n",
    "            transformed_reviews_array[one_review_index,one_word_number] = 1\n",
    "    return transformed_reviews_array\n",
    "\n",
    "x_train = vectorize_sequence(train_data)\n",
    "x_test = vectorize_sequence(test_data)\n",
    "y_train = train_labels.astype(\"float32\")\n",
    "y_test = test_labels.astype(\"float32\")"
   ]
  },
  {
   "cell_type": "markdown",
   "id": "03517737-e3b2-419c-a93e-e36e88817dbc",
   "metadata": {},
   "source": [
    "Napřed jako referenční model vytvoříme stejnou architekturu, s jakou jsme už pracovali výše."
   ]
  },
  {
   "cell_type": "code",
   "execution_count": 4,
   "id": "f63532b8-cc90-4e35-8ff3-5a9c868a67af",
   "metadata": {},
   "outputs": [],
   "source": [
    "model = keras.Sequential([\n",
    "    layers.Dense(16, activation=\"relu\"),\n",
    "    layers.Dense(16, activation=\"relu\"),\n",
    "    layers.Dense(1, activation=\"sigmoid\"),\n",
    "])\n",
    "\n",
    "from keras.losses import BinaryCrossentropy\n",
    "\n",
    "model.compile(\n",
    "    optimizer=RMSprop(learning_rate=0.001),\n",
    "    loss=BinaryCrossentropy(),\n",
    "    metrics=[BinaryAccuracy(), Precision(), Recall(), AUC()]\n",
    ")\n",
    "\n",
    "history = model.fit(\n",
    "    x_train,\n",
    "    y_train,\n",
    "    epochs=20,\n",
    "    batch_size=512,\n",
    "    validation_split=0.1,\n",
    "    verbose=0\n",
    ")"
   ]
  },
  {
   "cell_type": "code",
   "execution_count": 6,
   "id": "1c623e25-39c6-4b86-aed8-c182cc103d7f",
   "metadata": {},
   "outputs": [
    {
     "data": {
      "text/plain": [
       "<matplotlib.legend.Legend at 0x2107887a2f0>"
      ]
     },
     "execution_count": 6,
     "metadata": {},
     "output_type": "execute_result"
    },
    {
     "data": {
      "image/png": "[encoded data removed]",
      "text/plain": [
       "<Figure size 640x480 with 1 Axes>"
      ]
     },
     "metadata": {},
     "output_type": "display_data"
    }
   ],
   "source": [
    "history_dict = history.history\n",
    "train_loss_values = history_dict[\"loss\"]\n",
    "val_loss_values = history_dict[\"val_loss\"]\n",
    "epochs = range(1, len(train_loss_values)+1)\n",
    "\n",
    "plt.plot(epochs, train_loss_values, \"bo\", label=\"Training loss\")\n",
    "plt.plot(epochs, val_loss_values, \"b\", label=\"Validation loss\")\n",
    "\n",
    "plt.title(\"Training and validation loss\")\n",
    "plt.xlabel(\"Epoch\")\n",
    "plt.ylabel(\"Loss\")\n",
    "plt.legend()"
   ]
  },
  {
   "cell_type": "markdown",
   "id": "697c3fdb-cb09-4f47-a809-6daa99f262a0",
   "metadata": {},
   "source": [
    "Nyní zmenšíme počet neurovnů ve vrstvách sítě. Z výsledku je vidět, že validace nikdy nedosáhla optimální velikosti, ale zase mnohem déle vydržela v platu. Pro počet neuronů rovný 4 vypadal výsledek stejně jako výše pro 16 neuronů. Obecně neexistuje žádná všeobecně platná heuristika ohledně toho, jaká velikost by byla optimální."
   ]
  },
  {
   "cell_type": "code",
   "execution_count": 4,
   "id": "a9f1041f-603e-4933-a2df-6970518808c2",
   "metadata": {},
   "outputs": [],
   "source": [
    "model_small_size = keras.Sequential([\n",
    "    layers.Dense(2, activation=\"relu\"),\n",
    "    layers.Dense(2, activation=\"relu\"),\n",
    "    layers.Dense(1, activation=\"sigmoid\"),\n",
    "])\n",
    "\n",
    "model_small_size.compile(\n",
    "    optimizer=RMSprop(learning_rate=0.001),\n",
    "    loss=BinaryCrossentropy(),\n",
    "    metrics=[BinaryAccuracy(), Precision(), Recall(), AUC()]\n",
    ")\n",
    "\n",
    "history = model_small_size.fit(\n",
    "    x_train,\n",
    "    y_train,\n",
    "    epochs=30,\n",
    "    batch_size=512,\n",
    "    validation_split=0.1,\n",
    "    verbose=0\n",
    ")"
   ]
  },
  {
   "cell_type": "code",
   "execution_count": 5,
   "id": "5d5ae2e8-f283-42cb-850d-b2fa67441c49",
   "metadata": {},
   "outputs": [
    {
     "data": {
      "text/plain": [
       "<matplotlib.legend.Legend at 0x201afa73c10>"
      ]
     },
     "execution_count": 5,
     "metadata": {},
     "output_type": "execute_result"
    },
    {
     "data": {
      "image/png": "[encoded data removed]",
      "text/plain": [
       "<Figure size 640x480 with 1 Axes>"
      ]
     },
     "metadata": {},
     "output_type": "display_data"
    }
   ],
   "source": [
    "history_dict = history.history\n",
    "train_loss_values = history_dict[\"loss\"]\n",
    "val_loss_values = history_dict[\"val_loss\"]\n",
    "epochs = range(1, len(train_loss_values)+1)\n",
    "\n",
    "plt.plot(epochs, train_loss_values, \"bo\", label=\"Training loss\")\n",
    "plt.plot(epochs, val_loss_values, \"b\", label=\"Validation loss\")\n",
    "\n",
    "plt.title(\"Training and validation loss\")\n",
    "plt.xlabel(\"Epoch\")\n",
    "plt.ylabel(\"Loss\")\n",
    "plt.legend()"
   ]
  },
  {
   "cell_type": "markdown",
   "id": "f2b6f426-7f89-45bc-a590-025156d16d17",
   "metadata": {},
   "source": [
    "Pro příliš velký model bude naopak validační ztráta extrémně velká."
   ]
  },
  {
   "cell_type": "code",
   "execution_count": 6,
   "id": "5cf82409-9b9f-42f8-8c2f-ed655a42776f",
   "metadata": {},
   "outputs": [],
   "source": [
    "model_large_size = keras.Sequential([\n",
    "    layers.Dense(512, activation=\"relu\"),\n",
    "    layers.Dense(512, activation=\"relu\"),\n",
    "    layers.Dense(1, activation=\"sigmoid\"),\n",
    "])\n",
    "\n",
    "model_large_size.compile(\n",
    "    optimizer=RMSprop(learning_rate=0.001),\n",
    "    loss=BinaryCrossentropy(),\n",
    "    metrics=[BinaryAccuracy(), Precision(), Recall(), AUC()]\n",
    ")\n",
    "\n",
    "history = model_large_size.fit(\n",
    "    x_train,\n",
    "    y_train,\n",
    "    epochs=30,\n",
    "    batch_size=512,\n",
    "    validation_split=0.1,\n",
    "    verbose=0\n",
    ")"
   ]
  },
  {
   "cell_type": "code",
   "execution_count": 7,
   "id": "cd79864e-502f-420e-ac8f-5a93b897fde0",
   "metadata": {},
   "outputs": [
    {
     "data": {
      "text/plain": [
       "<matplotlib.legend.Legend at 0x201b00a75b0>"
      ]
     },
     "execution_count": 7,
     "metadata": {},
     "output_type": "execute_result"
    },
    {
     "data": {
      "image/png": "[encoded data removed]",
      "text/plain": [
       "<Figure size 640x480 with 1 Axes>"
      ]
     },
     "metadata": {},
     "output_type": "display_data"
    }
   ],
   "source": [
    "history_dict = history.history\n",
    "train_loss_values = history_dict[\"loss\"]\n",
    "val_loss_values = history_dict[\"val_loss\"]\n",
    "epochs = range(1, len(train_loss_values)+1)\n",
    "\n",
    "plt.plot(epochs, train_loss_values, \"bo\", label=\"Training loss\")\n",
    "plt.plot(epochs, val_loss_values, \"b\", label=\"Validation loss\")\n",
    "\n",
    "plt.title(\"Training and validation loss\")\n",
    "plt.xlabel(\"Epoch\")\n",
    "plt.ylabel(\"Loss\")\n",
    "plt.legend()"
   ]
  },
  {
   "cell_type": "markdown",
   "id": "13968387-5914-42aa-b580-c42be57d47b5",
   "metadata": {},
   "source": [
    "Druhý regularizační přístup spočívá v regularizaci vah. Principielně jde o to, že se k celkové ztrátové funkci přičte penalizační člen skládající se z nějaké uživatelem určené konstanty a jednotlivých vah. Díky tomu musí váhy nabývat menších hodnot a rozdělení hodnot vah se stane pravidelnějším.  \n",
    "Pokud chceme použít regularizace vah, přidáme do *Dense* vrstev parametr *kernel_regularizer*. Do něj vložíme některý z typů regularizace. Níže ukazujeme l2, možné jsou ale i l1 či l1_l2 (číslo v závorkách udává míru penalizace).  \n",
    "V tomto příkladu vedla l2 regularizace k zploštění závislosti ztrátové funkce. Nicméně obvykle bývají neuronové sítě tak přeparametrizované, že tento přístup mnoho nedělá."
   ]
  },
  {
   "cell_type": "code",
   "execution_count": 6,
   "id": "09fc516a-663a-478b-83d1-a8697f06c79b",
   "metadata": {},
   "outputs": [],
   "source": [
    "from tensorflow.keras import regularizers\n",
    "\n",
    "model_kernel_reg = keras.Sequential([\n",
    "    layers.Dense(16, activation=\"relu\", kernel_regularizer=regularizers.l2(0.002)),\n",
    "    layers.Dense(16, activation=\"relu\", kernel_regularizer=regularizers.l2(0.002)),\n",
    "    layers.Dense(1, activation=\"sigmoid\"),\n",
    "])\n",
    "\n",
    "from tensorflow.keras.metrics import BinaryAccuracy, Precision, Recall, AUC\n",
    "from keras.losses import BinaryCrossentropy\n",
    "from keras.optimizers import RMSprop\n",
    "\n",
    "\n",
    "model_kernel_reg.compile(\n",
    "    optimizer=RMSprop(learning_rate=0.001),\n",
    "    loss=BinaryCrossentropy(),\n",
    "    metrics=[BinaryAccuracy(), Precision(), Recall(), AUC()]\n",
    ")\n",
    "\n",
    "history = model_kernel_reg.fit(\n",
    "    x_train,\n",
    "    y_train,\n",
    "    epochs=20,\n",
    "    batch_size=512,\n",
    "    validation_split=0.1,\n",
    "    verbose=0\n",
    ")"
   ]
  },
  {
   "cell_type": "code",
   "execution_count": 7,
   "id": "db175bb1-1747-4e9f-a202-11faed40cea2",
   "metadata": {},
   "outputs": [
    {
     "data": {
      "text/plain": [
       "<matplotlib.legend.Legend at 0x1528de86200>"
      ]
     },
     "execution_count": 7,
     "metadata": {},
     "output_type": "execute_result"
    },
    {
     "data": {
      "image/png": "[encoded data removed]",
      "text/plain": [
       "<Figure size 640x480 with 1 Axes>"
      ]
     },
     "metadata": {},
     "output_type": "display_data"
    }
   ],
   "source": [
    "history_dict = history.history\n",
    "train_loss_values = history_dict[\"loss\"]\n",
    "val_loss_values = history_dict[\"val_loss\"]\n",
    "epochs = range(1, len(train_loss_values)+1)\n",
    "\n",
    "plt.plot(epochs, train_loss_values, \"bo\", label=\"Training loss\")\n",
    "plt.plot(epochs, val_loss_values, \"b\", label=\"Validation loss\")\n",
    "\n",
    "plt.title(\"Training and validation loss\")\n",
    "plt.xlabel(\"Epoch\")\n",
    "plt.ylabel(\"Loss\")\n",
    "plt.legend()"
   ]
  },
  {
   "cell_type": "markdown",
   "id": "dd8c2ecc-68fd-4daa-96b8-a17ea01c149a",
   "metadata": {},
   "source": [
    "V praxi bývá mnohem spolehlivější třetí regularizační přístup - dropout. Jedná se o to, že se v rámci jednotlivých iterací trénování některé váhy dočasně vynulují (při predikci už ale žádné nulování není). V praxi se to celé realizuje přidáním *Dropout* vrstev. "
   ]
  },
  {
   "cell_type": "code",
   "execution_count": 4,
   "id": "6de59741-7ead-439b-b6d3-9ff7a12c6928",
   "metadata": {},
   "outputs": [],
   "source": [
    "model_dropout = keras.Sequential([\n",
    "    layers.Dense(16, activation=\"relu\"),\n",
    "    layers.Dropout(0.5),\n",
    "    layers.Dense(16, activation=\"relu\"),\n",
    "    layers.Dropout(0.5),\n",
    "    layers.Dense(1, activation=\"sigmoid\"),\n",
    "])\n",
    "\n",
    "model_dropout.compile(\n",
    "    optimizer=RMSprop(learning_rate=0.001),\n",
    "    loss=BinaryCrossentropy(),\n",
    "    metrics=[BinaryAccuracy(), Precision(), Recall(), AUC()]\n",
    ")\n",
    "\n",
    "history = model_dropout.fit(\n",
    "    x_train,\n",
    "    y_train,\n",
    "    epochs=20,\n",
    "    batch_size=512,\n",
    "    validation_split=0.1,\n",
    "    verbose=0\n",
    ")"
   ]
  },
  {
   "cell_type": "code",
   "execution_count": 5,
   "id": "155e3dbc-a202-4073-a763-27bc0e0197be",
   "metadata": {},
   "outputs": [
    {
     "data": {
      "text/plain": [
       "<matplotlib.legend.Legend at 0x1f7ac8deb60>"
      ]
     },
     "execution_count": 5,
     "metadata": {},
     "output_type": "execute_result"
    },
    {
     "data": {
      "image/png": "[encoded data removed]",
      "text/plain": [
       "<Figure size 640x480 with 1 Axes>"
      ]
     },
     "metadata": {},
     "output_type": "display_data"
    }
   ],
   "source": [
    "history_dict = history.history\n",
    "train_loss_values = history_dict[\"loss\"]\n",
    "val_loss_values = history_dict[\"val_loss\"]\n",
    "epochs = range(1, len(train_loss_values)+1)\n",
    "\n",
    "plt.plot(epochs, train_loss_values, \"bo\", label=\"Training loss\")\n",
    "plt.plot(epochs, val_loss_values, \"b\", label=\"Validation loss\")\n",
    "\n",
    "plt.title(\"Training and validation loss\")\n",
    "plt.xlabel(\"Epoch\")\n",
    "plt.ylabel(\"Loss\")\n",
    "plt.legend()"
   ]
  },
  {
   "cell_type": "markdown",
   "id": "482279e4-cb0d-4d52-be06-a25c5a5e1e25",
   "metadata": {},
   "source": [
    "## Funkcionální API\n",
    "Doposud jsme modely vyráběli tím nejjednodušším způsobem - skrz *keras.Sequential*, do jehož konstruktoru jsme vkládali list s vrstvami. Existuje ale i složítejší, avšak flexibilnější přístup - funkcionální API. Ukažme si, jak by tahle věc vypadala při vytváření IMDB modelu.  \n",
    "Nejprve provedeme klasické načtení dat a jejich úpravu."
   ]
  },
  {
   "cell_type": "code",
   "execution_count": 2,
   "id": "62335e68-939b-4300-861b-e37a74a2663e",
   "metadata": {},
   "outputs": [],
   "source": [
    "from tensorflow.keras.datasets import imdb\n",
    "num_wanted_words = 10_000\n",
    "(train_data, train_labels), (test_data, test_labels) = imdb.load_data(num_words=num_wanted_words)\n",
    "\n",
    "def vectorize_sequence(semitransformed_reviews_array:np.ndarray, dimension:int=num_wanted_words):\n",
    "    transformed_reviews_array = np.zeros(\n",
    "        (\n",
    "        len(semitransformed_reviews_array), \n",
    "        dimension\n",
    "        )\n",
    "    )\n",
    "    for one_review_index, one_review in enumerate(semitransformed_reviews_array):\n",
    "        for one_word_number in one_review:\n",
    "            transformed_reviews_array[one_review_index,one_word_number] = 1\n",
    "    return transformed_reviews_array\n",
    "\n",
    "x_train = vectorize_sequence(train_data)\n",
    "x_test = vectorize_sequence(test_data)\n",
    "y_train = train_labels.astype(\"float32\")\n",
    "y_test = test_labels.astype(\"float32\")"
   ]
  },
  {
   "cell_type": "markdown",
   "id": "9748abe5-6ce6-40f3-8c9d-9b9ec07f25ea",
   "metadata": {},
   "source": [
    "Nyní si vytvořme samotný model. Napřed musíme vytvořit v sekvenčním přístupu nepotřebnou vrstvu - Input (ona teda není nepotřebná, jen si ji v sekvenčím přístupu Keras dopočítá automaticky). V jejím konstruktoru musíme uvést parametr *shape* obsahující tuple s tvarem jednoho vzorku trénovacích dat. Tj. neuvádíme zde velikost batche. Pro \"klasický\" jednodimenzionální vstup bude *shape* roven (n,), kde n je počet featurů. V našem případě máme featurů 10 000, proto *shape=(10_000,)*. Pokud by vstupem byly barevné (tj. tříchannelové) obrázky 32x32 pixelů, psali bychom *shape=(32,32,3)*. Čárka v 1D variantě je z toho důvodu, že bez ní by Python z jednočlenného tuplu udělal rovnou integer, s čímž by si Keras neporadil.  \n",
    "Následně za sebe jednotlivé vrstvy pokládáme, takže to vypadá, jako by ranější vrtva byla argumentem následující vrstvy. Nakonec vytvoříme *Model* objekt, u kterého specifikujeme, co je *inputs* a co je *outputs*.  \n",
    "Pozn.: na funkcionální přístup to není nijak exkluzivně napojené, ale někde to zmínit musím - vrstvy můžeme pojmenovat s pomocí parametru *name* v konstruktoru."
   ]
  },
  {
   "cell_type": "code",
   "execution_count": 10,
   "id": "9148d32c-9f06-42ab-ad02-203b56ddc973",
   "metadata": {},
   "outputs": [],
   "source": [
    "inputs = keras.Input(shape=(10_000,))\n",
    "my_first_layer = layers.Dense(16, activation=\"relu\")(inputs)\n",
    "my_second_layer = layers.Dense(16, activation=\"relu\", name=\"moje_druha_vrstva\")(my_first_layer)\n",
    "outputs = layers.Dense(1, activation=\"sigmoid\")(my_second_layer)\n",
    "\n",
    "model = keras.Model(inputs=inputs, outputs=outputs)"
   ]
  },
  {
   "cell_type": "markdown",
   "id": "15684656-770d-41e0-b66f-47bf5812c596",
   "metadata": {},
   "source": [
    "Trénování modelu je totožné jako u sekvenčního přístupu."
   ]
  },
  {
   "cell_type": "code",
   "execution_count": 11,
   "id": "6a580c55-10c5-4e77-9747-0ca007596222",
   "metadata": {},
   "outputs": [],
   "source": [
    "model.compile(\n",
    "    optimizer=RMSprop(learning_rate=0.001),\n",
    "    loss=BinaryCrossentropy(),\n",
    "    metrics=[BinaryAccuracy(), Precision(), Recall(), AUC()]\n",
    ")\n",
    "\n",
    "history = model.fit(\n",
    "    x_train,\n",
    "    y_train,\n",
    "    epochs=20,\n",
    "    batch_size=512,\n",
    "    validation_split=0.1,\n",
    "    verbose=0\n",
    ")"
   ]
  },
  {
   "cell_type": "markdown",
   "id": "5704cefa-0cb0-4c0d-829d-bf10b1517819",
   "metadata": {},
   "source": [
    "Stejně jako u sekvennčího přístupu si lze pomocí *summary* metody vypsat, jak neuronová síť vypadá a kolik má parametrů. U vrstev vidíme zda jak naše pojmenovávání, tak jména defaultní. None na prvních místech output shapu znamená, že se tahle věc může měnit. Zde konkrétně v závislosti na velikosti batche."
   ]
  },
  {
   "cell_type": "code",
   "execution_count": 12,
   "id": "7ab8daef-7cd8-4edf-8d01-65553de2349a",
   "metadata": {},
   "outputs": [
    {
     "name": "stdout",
     "output_type": "stream",
     "text": [
      "Model: \"model_1\"\n",
      "_________________________________________________________________\n",
      " Layer (type)                Output Shape              Param #   \n",
      "=================================================================\n",
      " input_2 (InputLayer)        [(None, 10000)]           0         \n",
      "                                                                 \n",
      " dense_2 (Dense)             (None, 16)                160016    \n",
      "                                                                 \n",
      " moje_druha_vrstva (Dense)   (None, 16)                272       \n",
      "                                                                 \n",
      " dense_3 (Dense)             (None, 1)                 17        \n",
      "                                                                 \n",
      "=================================================================\n",
      "Total params: 160,305\n",
      "Trainable params: 160,305\n",
      "Non-trainable params: 0\n",
      "_________________________________________________________________\n"
     ]
    }
   ],
   "source": [
    "model.summary()"
   ]
  },
  {
   "cell_type": "markdown",
   "id": "16a261da-790b-4c1d-9b21-57faf46993db",
   "metadata": {},
   "source": [
    "Modely lze vizualizovat i do grafů, které se pak uloží do souboru. Člověk ale musí mít nainstalovaný graphviz (myšleno program, ne pythoní balíček) a balíček pydot.\n",
    "```\n",
    "keras.utils.plot_model(model, \"graf_meho_modelu.jpg\", show_shapes=True)\n",
    "```"
   ]
  },
  {
   "cell_type": "markdown",
   "id": "7333a311-90e0-4bcc-a9c1-986ca01eb0c5",
   "metadata": {},
   "source": [
    "Lze mít i model s více vstupy (myšleno opravdu kvalitativně odlišnými, nikoli jen o jeden feature víc) a/nebo výstupy. Funguje to tak, že si vytvoříme několik *Input* vrstev, které slijeme dohromady s pomocí kódu ala\n",
    "```\n",
    "feature_layer = layers.Concatenate()([first_input, second_input, third_input])\n",
    "```\n",
    "A pro více výstupů\n",
    "```\n",
    "binary_output = layers.Dense(1, activation=\"sigmoid\")(some_layer)\n",
    "multiclass_output = layers.Dense(number_of_classes, activation=\"softmax\")(some_layer)\n",
    "```\n",
    "Model se pak vytváří s pomocí\n",
    "```\n",
    "model = keras.Model(inputs=[first_input, second_input, third_input], outputs=[binary_output, multiclass_output])\n",
    "```"
   ]
  },
  {
   "cell_type": "markdown",
   "id": "723d6e73-c192-4ae0-bc6d-a10cd1b8bfff",
   "metadata": {},
   "source": [
    "## Callbacky a Tensorboard"
   ]
  },
  {
   "cell_type": "markdown",
   "id": "8b2f9f10-795a-47da-8c46-3610a5fae6f9",
   "metadata": {},
   "source": [
    "Callbacky představují třídy, jejichž metody jsou spuštěny v určitých význačných okamžicích, např. na začátku/konci epochy či zpracování jedné batche. Člověk si může napsat i callbacky vlastní, my se tu ale podíváme na callbacky předpřipravené. *EarlyStopping* zastaví trénování, pakliže se specifikovaná metrika (v příkladu níže validační ztráta) nebude zlepšovat po dobu X epoch, kde X specifikujeme parametrem *patience*. *ModelCheckpoint* dovoluje ukládat iterace modelu během trénování; pokud použijeme *save_best_only* s hodnotou True, tak se uloží (přepíše uložení z předchozích epoch) jen takový model, jehož metrika specifikovaná v parametru *monitor* se zlepšila. *CSVLogger* na konci každé epochy zapíše sledované metriky do souboru.  \n",
    "Ukažme si příklad na IMDB úloze. Vidíme, že list s callbacky se vkládá až do metody *fit*."
   ]
  },
  {
   "cell_type": "code",
   "execution_count": 2,
   "id": "90cc5ee7-26ea-4f55-8948-63064c937f8f",
   "metadata": {},
   "outputs": [],
   "source": [
    "from tensorflow.keras.datasets import imdb\n",
    "num_wanted_words = 10_000\n",
    "(train_data, train_labels), (test_data, test_labels) = imdb.load_data(num_words=num_wanted_words)\n",
    "\n",
    "def vectorize_sequence(semitransformed_reviews_array:np.ndarray, dimension:int=num_wanted_words):\n",
    "    transformed_reviews_array = np.zeros(\n",
    "        (\n",
    "        len(semitransformed_reviews_array), \n",
    "        dimension\n",
    "        )\n",
    "    )\n",
    "    for one_review_index, one_review in enumerate(semitransformed_reviews_array):\n",
    "        for one_word_number in one_review:\n",
    "            transformed_reviews_array[one_review_index,one_word_number] = 1\n",
    "    return transformed_reviews_array\n",
    "\n",
    "x_train = vectorize_sequence(train_data)\n",
    "x_test = vectorize_sequence(test_data)\n",
    "y_train = train_labels.astype(\"float32\")\n",
    "y_test = test_labels.astype(\"float32\")"
   ]
  },
  {
   "cell_type": "code",
   "execution_count": 4,
   "id": "cf5258a9-9f10-4bf0-9523-81593811b18d",
   "metadata": {},
   "outputs": [],
   "source": [
    "inputs = keras.Input(shape=(10_000,))\n",
    "my_first_layer = layers.Dense(16, activation=\"relu\")(inputs)\n",
    "my_second_layer = layers.Dense(16, activation=\"relu\", name=\"moje_druha_vrstva\")(my_first_layer)\n",
    "outputs = layers.Dense(1, activation=\"sigmoid\")(my_second_layer)\n",
    "\n",
    "model = keras.Model(inputs=inputs, outputs=outputs)\n",
    "\n",
    "model.compile(\n",
    "    optimizer=RMSprop(learning_rate=0.001),\n",
    "    loss=BinaryCrossentropy(),\n",
    "    metrics=[BinaryAccuracy(), Precision(), Recall(), AUC()]\n",
    ")"
   ]
  },
  {
   "cell_type": "code",
   "execution_count": 5,
   "id": "060844dc-a3c3-4224-977e-80ac23197e03",
   "metadata": {},
   "outputs": [
    {
     "data": {
      "text/plain": [
       "<keras.callbacks.History at 0x278e797ab30>"
      ]
     },
     "execution_count": 5,
     "metadata": {},
     "output_type": "execute_result"
    }
   ],
   "source": [
    "early_stopping_callback = keras.callbacks.EarlyStopping(\n",
    "    monitor=\"val_loss\",\n",
    "    patience=2\n",
    ")\n",
    "\n",
    "model_checkpoint_callback = keras.callbacks.ModelCheckpoint(\n",
    "    filepath=\"imdb_model.keras\",\n",
    "    monitor=\"val_loss\",\n",
    "    save_best_only=True\n",
    ")\n",
    "\n",
    "csv_logger_callback = keras.callbacks.CSVLogger(\n",
    "    \"training_log.csv\",\n",
    "    separator=\"|\", \n",
    "    append=False\n",
    ")\n",
    "\n",
    "callbacks_list = [\n",
    "    early_stopping_callback, \n",
    "    model_checkpoint_callback, \n",
    "    csv_logger_callback\n",
    "]\n",
    "\n",
    "model.fit(\n",
    "    x_train,\n",
    "    y_train,\n",
    "    epochs=20,\n",
    "    batch_size=512,\n",
    "    validation_split=0.1,\n",
    "    verbose=0,\n",
    "    callbacks=callbacks_list\n",
    ")"
   ]
  },
  {
   "cell_type": "markdown",
   "id": "891adcfc-ada3-4d12-9558-d1498c8e97d3",
   "metadata": {},
   "source": [
    "Model uložený pomocí callbacku (anebo třeba i normální metodou *save*) načteme funkcí *load_model*:"
   ]
  },
  {
   "cell_type": "code",
   "execution_count": 6,
   "id": "c410d107-4bd8-48c3-bd84-4906938a9233",
   "metadata": {},
   "outputs": [
    {
     "name": "stdout",
     "output_type": "stream",
     "text": [
      "Model: \"model_1\"\n",
      "_________________________________________________________________\n",
      " Layer (type)                Output Shape              Param #   \n",
      "=================================================================\n",
      " input_2 (InputLayer)        [(None, 10000)]           0         \n",
      "                                                                 \n",
      " dense_2 (Dense)             (None, 16)                160016    \n",
      "                                                                 \n",
      " moje_druha_vrstva (Dense)   (None, 16)                272       \n",
      "                                                                 \n",
      " dense_3 (Dense)             (None, 1)                 17        \n",
      "                                                                 \n",
      "=================================================================\n",
      "Total params: 160,305\n",
      "Trainable params: 160,305\n",
      "Non-trainable params: 0\n",
      "_________________________________________________________________\n"
     ]
    }
   ],
   "source": [
    "from tensorflow.keras.models import load_model\n",
    "\n",
    "loaded_model = load_model(\"imdb_model.keras\")\n",
    "loaded_model.summary()"
   ]
  },
  {
   "cell_type": "markdown",
   "id": "77a7a711-f709-4981-8a45-baa490534b8a",
   "metadata": {},
   "source": [
    "Pokud se chceme podívat na grafy závislostí jednotlivých metrik na epoše, použijeme TensorBoard. Napřed do modelu vložíme odpovídající callback s adresářem, kam se mají logy ukládat (nemusí předem existovat)."
   ]
  },
  {
   "cell_type": "code",
   "execution_count": 7,
   "id": "9997b85a-a130-4c6c-9868-ddd684fe3a07",
   "metadata": {},
   "outputs": [
    {
     "data": {
      "text/plain": [
       "<keras.callbacks.History at 0x278f12ffeb0>"
      ]
     },
     "execution_count": 7,
     "metadata": {},
     "output_type": "execute_result"
    }
   ],
   "source": [
    "inputs = keras.Input(shape=(10_000,))\n",
    "my_first_layer = layers.Dense(16, activation=\"relu\")(inputs)\n",
    "my_second_layer = layers.Dense(16, activation=\"relu\", name=\"moje_druha_vrstva\")(my_first_layer)\n",
    "outputs = layers.Dense(1, activation=\"sigmoid\")(my_second_layer)\n",
    "\n",
    "model = keras.Model(inputs=inputs, outputs=outputs)\n",
    "\n",
    "model.compile(\n",
    "    optimizer=RMSprop(learning_rate=0.001),\n",
    "    loss=BinaryCrossentropy(),\n",
    "    metrics=[BinaryAccuracy(), Precision(), Recall(), AUC()]\n",
    ")\n",
    "\n",
    "tensorborad_callback = keras.callbacks.TensorBoard(\n",
    "    log_dir=\"my_tensorboard_logs\"\n",
    ")\n",
    "\n",
    "model.fit(\n",
    "    x_train,\n",
    "    y_train,\n",
    "    epochs=20,\n",
    "    batch_size=512,\n",
    "    validation_split=0.1,\n",
    "    verbose=0,\n",
    "    callbacks=[tensorborad_callback]\n",
    ")"
   ]
  },
  {
   "cell_type": "markdown",
   "id": "0e9930bc-3cb6-42ea-b3a1-1b89aaef8b5a",
   "metadata": {},
   "source": [
    "Tensorboard samotný coby webovou aplikaci pak pustíme příkazem\n",
    "```\n",
    "tensorboard --logdir my_tensorboard_logs\n",
    "```"
   ]
  },
  {
   "cell_type": "markdown",
   "id": "1b56a652-a869-4872-8ca2-54f288c633f1",
   "metadata": {},
   "source": [
    "# Časové řady\n",
    "Data - časové řady o počasí z meteorologické stanice v Jeně - stáhneme [odsud](s3.amazonaws.com/keras-datasets/jena_climate_2009_2016.csv.zip)."
   ]
  },
  {
   "cell_type": "code",
   "execution_count": 31,
   "id": "0c7b7eaa-6522-4a4b-b57d-71b5156a232f",
   "metadata": {},
   "outputs": [],
   "source": [
    "import pandas as pd"
   ]
  },
  {
   "cell_type": "code",
   "execution_count": 2,
   "id": "e6249386-9d53-4ebd-9872-215cd6687040",
   "metadata": {},
   "outputs": [
    {
     "data": {
      "text/html": [
       "<div>\n",
       "<style scoped>\n",
       "    .dataframe tbody tr th:only-of-type {\n",
       "        vertical-align: middle;\n",
       "    }\n",
       "\n",
       "    .dataframe tbody tr th {\n",
       "        vertical-align: top;\n",
       "    }\n",
       "\n",
       "    .dataframe thead th {\n",
       "        text-align: right;\n",
       "    }\n",
       "</style>\n",
       "<table border=\"1\" class=\"dataframe\">\n",
       "  <thead>\n",
       "    <tr style=\"text-align: right;\">\n",
       "      <th></th>\n",
       "      <th>Date Time</th>\n",
       "      <th>p (mbar)</th>\n",
       "      <th>T (degC)</th>\n",
       "      <th>Tpot (K)</th>\n",
       "      <th>Tdew (degC)</th>\n",
       "      <th>rh (%)</th>\n",
       "      <th>VPmax (mbar)</th>\n",
       "      <th>VPact (mbar)</th>\n",
       "      <th>VPdef (mbar)</th>\n",
       "      <th>sh (g/kg)</th>\n",
       "      <th>H2OC (mmol/mol)</th>\n",
       "      <th>rho (g/m**3)</th>\n",
       "      <th>wv (m/s)</th>\n",
       "      <th>max. wv (m/s)</th>\n",
       "      <th>wd (deg)</th>\n",
       "    </tr>\n",
       "  </thead>\n",
       "  <tbody>\n",
       "    <tr>\n",
       "      <th>0</th>\n",
       "      <td>01.01.2009 00:10:00</td>\n",
       "      <td>996.52</td>\n",
       "      <td>-8.02</td>\n",
       "      <td>265.40</td>\n",
       "      <td>-8.90</td>\n",
       "      <td>93.3</td>\n",
       "      <td>3.33</td>\n",
       "      <td>3.11</td>\n",
       "      <td>0.22</td>\n",
       "      <td>1.94</td>\n",
       "      <td>3.12</td>\n",
       "      <td>1307.75</td>\n",
       "      <td>1.03</td>\n",
       "      <td>1.75</td>\n",
       "      <td>152.3</td>\n",
       "    </tr>\n",
       "    <tr>\n",
       "      <th>1</th>\n",
       "      <td>01.01.2009 00:20:00</td>\n",
       "      <td>996.57</td>\n",
       "      <td>-8.41</td>\n",
       "      <td>265.01</td>\n",
       "      <td>-9.28</td>\n",
       "      <td>93.4</td>\n",
       "      <td>3.23</td>\n",
       "      <td>3.02</td>\n",
       "      <td>0.21</td>\n",
       "      <td>1.89</td>\n",
       "      <td>3.03</td>\n",
       "      <td>1309.80</td>\n",
       "      <td>0.72</td>\n",
       "      <td>1.50</td>\n",
       "      <td>136.1</td>\n",
       "    </tr>\n",
       "    <tr>\n",
       "      <th>2</th>\n",
       "      <td>01.01.2009 00:30:00</td>\n",
       "      <td>996.53</td>\n",
       "      <td>-8.51</td>\n",
       "      <td>264.91</td>\n",
       "      <td>-9.31</td>\n",
       "      <td>93.9</td>\n",
       "      <td>3.21</td>\n",
       "      <td>3.01</td>\n",
       "      <td>0.20</td>\n",
       "      <td>1.88</td>\n",
       "      <td>3.02</td>\n",
       "      <td>1310.24</td>\n",
       "      <td>0.19</td>\n",
       "      <td>0.63</td>\n",
       "      <td>171.6</td>\n",
       "    </tr>\n",
       "    <tr>\n",
       "      <th>3</th>\n",
       "      <td>01.01.2009 00:40:00</td>\n",
       "      <td>996.51</td>\n",
       "      <td>-8.31</td>\n",
       "      <td>265.12</td>\n",
       "      <td>-9.07</td>\n",
       "      <td>94.2</td>\n",
       "      <td>3.26</td>\n",
       "      <td>3.07</td>\n",
       "      <td>0.19</td>\n",
       "      <td>1.92</td>\n",
       "      <td>3.08</td>\n",
       "      <td>1309.19</td>\n",
       "      <td>0.34</td>\n",
       "      <td>0.50</td>\n",
       "      <td>198.0</td>\n",
       "    </tr>\n",
       "    <tr>\n",
       "      <th>4</th>\n",
       "      <td>01.01.2009 00:50:00</td>\n",
       "      <td>996.51</td>\n",
       "      <td>-8.27</td>\n",
       "      <td>265.15</td>\n",
       "      <td>-9.04</td>\n",
       "      <td>94.1</td>\n",
       "      <td>3.27</td>\n",
       "      <td>3.08</td>\n",
       "      <td>0.19</td>\n",
       "      <td>1.92</td>\n",
       "      <td>3.09</td>\n",
       "      <td>1309.00</td>\n",
       "      <td>0.32</td>\n",
       "      <td>0.63</td>\n",
       "      <td>214.3</td>\n",
       "    </tr>\n",
       "  </tbody>\n",
       "</table>\n",
       "</div>"
      ],
      "text/plain": [
       "             Date Time  p (mbar)  T (degC)  Tpot (K)  Tdew (degC)  rh (%)  \\\n",
       "0  01.01.2009 00:10:00    996.52     -8.02    265.40        -8.90    93.3   \n",
       "1  01.01.2009 00:20:00    996.57     -8.41    265.01        -9.28    93.4   \n",
       "2  01.01.2009 00:30:00    996.53     -8.51    264.91        -9.31    93.9   \n",
       "3  01.01.2009 00:40:00    996.51     -8.31    265.12        -9.07    94.2   \n",
       "4  01.01.2009 00:50:00    996.51     -8.27    265.15        -9.04    94.1   \n",
       "\n",
       "   VPmax (mbar)  VPact (mbar)  VPdef (mbar)  sh (g/kg)  H2OC (mmol/mol)  \\\n",
       "0          3.33          3.11          0.22       1.94             3.12   \n",
       "1          3.23          3.02          0.21       1.89             3.03   \n",
       "2          3.21          3.01          0.20       1.88             3.02   \n",
       "3          3.26          3.07          0.19       1.92             3.08   \n",
       "4          3.27          3.08          0.19       1.92             3.09   \n",
       "\n",
       "   rho (g/m**3)  wv (m/s)  max. wv (m/s)  wd (deg)  \n",
       "0       1307.75      1.03           1.75     152.3  \n",
       "1       1309.80      0.72           1.50     136.1  \n",
       "2       1310.24      0.19           0.63     171.6  \n",
       "3       1309.19      0.34           0.50     198.0  \n",
       "4       1309.00      0.32           0.63     214.3  "
      ]
     },
     "execution_count": 2,
     "metadata": {},
     "output_type": "execute_result"
    }
   ],
   "source": [
    "temperatures_frame = pd.read_csv(\"jena_time_series\\\\jena_climate_2009_2016.csv\")\n",
    "temperatures_frame.head()"
   ]
  },
  {
   "cell_type": "markdown",
   "id": "5f978b83-56df-47af-9338-070ba909e645",
   "metadata": {},
   "source": [
    "Vytvoříme si jednak separátní sérii s teplotami a jednak dataframe se vším (vč. teploty - teplota pro čas X závisí na teplotách předchozích) až na \"date time\" sloupec."
   ]
  },
  {
   "cell_type": "code",
   "execution_count": 3,
   "id": "3ca3c2a3-31da-4605-9793-7829c10fcfc0",
   "metadata": {},
   "outputs": [],
   "source": [
    "target_column_name = \"T (degC)\"\n",
    "raw_data_columns_names = temperatures_frame.columns[1:]\n",
    "\n",
    "target_column = temperatures_frame[target_column_name]\n",
    "raw_data_columns = temperatures_frame[raw_data_columns_names]"
   ]
  },
  {
   "cell_type": "markdown",
   "id": "136f2115-77d0-4eab-93f5-b5607103221d",
   "metadata": {},
   "source": [
    "Jelikož chceme predikovat časovou řadu (tj. chceme predikovat speciální časové období - budoucnost), nemůžeme data do trénovací, validační a testovací sady brát náhodně, nýbrž je musíme brát popořadě."
   ]
  },
  {
   "cell_type": "code",
   "execution_count": 4,
   "id": "236aafe1-2461-49c1-adf9-9e20ca6753ed",
   "metadata": {},
   "outputs": [
    {
     "name": "stdout",
     "output_type": "stream",
     "text": [
      "210225 105112 105114\n"
     ]
    }
   ],
   "source": [
    "num_train_samples = int(0.50 * len(temperatures_frame))\n",
    "num_val_samples = int(0.25 * len(temperatures_frame))\n",
    "num_test_samples = len(temperatures_frame) - num_train_samples - num_val_samples\n",
    "\n",
    "print(num_train_samples, num_val_samples, num_test_samples)"
   ]
  },
  {
   "cell_type": "markdown",
   "id": "f4ff2e4e-f4a9-47a9-9f96-6d0350cb6dab",
   "metadata": {},
   "source": [
    "Vzhledem k nesouměřitelným hodnotám ve sloupcích je musíme naškálovat."
   ]
  },
  {
   "cell_type": "code",
   "execution_count": 5,
   "id": "40fd7d32-c4d2-4501-b999-37051e0b40b1",
   "metadata": {},
   "outputs": [
    {
     "data": {
      "text/html": [
       "<div>\n",
       "<style scoped>\n",
       "    .dataframe tbody tr th:only-of-type {\n",
       "        vertical-align: middle;\n",
       "    }\n",
       "\n",
       "    .dataframe tbody tr th {\n",
       "        vertical-align: top;\n",
       "    }\n",
       "\n",
       "    .dataframe thead th {\n",
       "        text-align: right;\n",
       "    }\n",
       "</style>\n",
       "<table border=\"1\" class=\"dataframe\">\n",
       "  <thead>\n",
       "    <tr style=\"text-align: right;\">\n",
       "      <th></th>\n",
       "      <th>p (mbar)</th>\n",
       "      <th>T (degC)</th>\n",
       "      <th>Tpot (K)</th>\n",
       "      <th>Tdew (degC)</th>\n",
       "      <th>rh (%)</th>\n",
       "      <th>VPmax (mbar)</th>\n",
       "      <th>VPact (mbar)</th>\n",
       "      <th>VPdef (mbar)</th>\n",
       "      <th>sh (g/kg)</th>\n",
       "      <th>H2OC (mmol/mol)</th>\n",
       "      <th>rho (g/m**3)</th>\n",
       "      <th>wv (m/s)</th>\n",
       "      <th>max. wv (m/s)</th>\n",
       "      <th>wd (deg)</th>\n",
       "    </tr>\n",
       "  </thead>\n",
       "  <tbody>\n",
       "    <tr>\n",
       "      <th>0</th>\n",
       "      <td>0.913649</td>\n",
       "      <td>-1.920636</td>\n",
       "      <td>-1.974488</td>\n",
       "      <td>-1.866254</td>\n",
       "      <td>1.048015</td>\n",
       "      <td>-1.291316</td>\n",
       "      <td>-1.467152</td>\n",
       "      <td>-0.782343</td>\n",
       "      <td>-1.470122</td>\n",
       "      <td>-1.472032</td>\n",
       "      <td>2.124151</td>\n",
       "      <td>-0.730165</td>\n",
       "      <td>-0.779351</td>\n",
       "      <td>-0.281192</td>\n",
       "    </tr>\n",
       "    <tr>\n",
       "      <th>1</th>\n",
       "      <td>0.919528</td>\n",
       "      <td>-1.965100</td>\n",
       "      <td>-2.018478</td>\n",
       "      <td>-1.919925</td>\n",
       "      <td>1.054028</td>\n",
       "      <td>-1.304472</td>\n",
       "      <td>-1.488855</td>\n",
       "      <td>-0.784440</td>\n",
       "      <td>-1.489114</td>\n",
       "      <td>-1.493462</td>\n",
       "      <td>2.172914</td>\n",
       "      <td>-0.932305</td>\n",
       "      <td>-0.886968</td>\n",
       "      <td>-0.469893</td>\n",
       "    </tr>\n",
       "    <tr>\n",
       "      <th>2</th>\n",
       "      <td>0.914825</td>\n",
       "      <td>-1.976501</td>\n",
       "      <td>-2.029758</td>\n",
       "      <td>-1.924162</td>\n",
       "      <td>1.084097</td>\n",
       "      <td>-1.307103</td>\n",
       "      <td>-1.491266</td>\n",
       "      <td>-0.786537</td>\n",
       "      <td>-1.492912</td>\n",
       "      <td>-1.495843</td>\n",
       "      <td>2.183381</td>\n",
       "      <td>-1.277899</td>\n",
       "      <td>-1.261473</td>\n",
       "      <td>-0.056383</td>\n",
       "    </tr>\n",
       "    <tr>\n",
       "      <th>3</th>\n",
       "      <td>0.912474</td>\n",
       "      <td>-1.953699</td>\n",
       "      <td>-2.006071</td>\n",
       "      <td>-1.890265</td>\n",
       "      <td>1.102138</td>\n",
       "      <td>-1.300525</td>\n",
       "      <td>-1.476798</td>\n",
       "      <td>-0.788633</td>\n",
       "      <td>-1.477719</td>\n",
       "      <td>-1.481556</td>\n",
       "      <td>2.158404</td>\n",
       "      <td>-1.180089</td>\n",
       "      <td>-1.317434</td>\n",
       "      <td>0.251128</td>\n",
       "    </tr>\n",
       "    <tr>\n",
       "      <th>4</th>\n",
       "      <td>0.912474</td>\n",
       "      <td>-1.949139</td>\n",
       "      <td>-2.002687</td>\n",
       "      <td>-1.886027</td>\n",
       "      <td>1.096124</td>\n",
       "      <td>-1.299210</td>\n",
       "      <td>-1.474386</td>\n",
       "      <td>-0.788633</td>\n",
       "      <td>-1.477719</td>\n",
       "      <td>-1.479175</td>\n",
       "      <td>2.153885</td>\n",
       "      <td>-1.193130</td>\n",
       "      <td>-1.261473</td>\n",
       "      <td>0.440993</td>\n",
       "    </tr>\n",
       "  </tbody>\n",
       "</table>\n",
       "</div>"
      ],
      "text/plain": [
       "   p (mbar)  T (degC)  Tpot (K)  Tdew (degC)    rh (%)  VPmax (mbar)  \\\n",
       "0  0.913649 -1.920636 -1.974488    -1.866254  1.048015     -1.291316   \n",
       "1  0.919528 -1.965100 -2.018478    -1.919925  1.054028     -1.304472   \n",
       "2  0.914825 -1.976501 -2.029758    -1.924162  1.084097     -1.307103   \n",
       "3  0.912474 -1.953699 -2.006071    -1.890265  1.102138     -1.300525   \n",
       "4  0.912474 -1.949139 -2.002687    -1.886027  1.096124     -1.299210   \n",
       "\n",
       "   VPact (mbar)  VPdef (mbar)  sh (g/kg)  H2OC (mmol/mol)  rho (g/m**3)  \\\n",
       "0     -1.467152     -0.782343  -1.470122        -1.472032      2.124151   \n",
       "1     -1.488855     -0.784440  -1.489114        -1.493462      2.172914   \n",
       "2     -1.491266     -0.786537  -1.492912        -1.495843      2.183381   \n",
       "3     -1.476798     -0.788633  -1.477719        -1.481556      2.158404   \n",
       "4     -1.474386     -0.788633  -1.477719        -1.479175      2.153885   \n",
       "\n",
       "   wv (m/s)  max. wv (m/s)  wd (deg)  \n",
       "0 -0.730165      -0.779351 -0.281192  \n",
       "1 -0.932305      -0.886968 -0.469893  \n",
       "2 -1.277899      -1.261473 -0.056383  \n",
       "3 -1.180089      -1.317434  0.251128  \n",
       "4 -1.193130      -1.261473  0.440993  "
      ]
     },
     "execution_count": 5,
     "metadata": {},
     "output_type": "execute_result"
    }
   ],
   "source": [
    "train_data_mean = raw_data_columns[:num_train_samples].mean()\n",
    "train_data_std = raw_data_columns[:num_train_samples].std()\n",
    "\n",
    "raw_data_scaled = (raw_data_columns - train_data_mean) / train_data_std\n",
    "raw_data_scaled.head()"
   ]
  },
  {
   "cell_type": "markdown",
   "id": "42984cf2-37b0-4cee-a68c-ce8715771bf8",
   "metadata": {},
   "source": [
    "Pro přípravu dat pro trénování modelu na časové řady se hodí funkce *timeseries_dataset_from_array*. Pro pochopení jejích parametrů si napřed vytvořme fake data."
   ]
  },
  {
   "cell_type": "code",
   "execution_count": 7,
   "id": "6b36a06e-b645-4d2c-8bf0-bcbffa51203a",
   "metadata": {},
   "outputs": [],
   "source": [
    "fake_features = range(1,101)\n",
    "fake_target = range(8, 109)"
   ]
  },
  {
   "cell_type": "markdown",
   "id": "c2e3bc4e-57cc-4872-838c-841255f834d9",
   "metadata": {},
   "source": [
    "Funkci musíme nakrmit minimálně třemi parametry. Jednak featurami, jednak targetem a jednak *sequence_length*. Ta udává, jak dlouhý výsek featur se má vzít pro vytvoření jednoho záznamu."
   ]
  },
  {
   "cell_type": "code",
   "execution_count": 17,
   "id": "9a92a316-c211-457a-aded-2aed48423738",
   "metadata": {},
   "outputs": [],
   "source": [
    "fake_dataset = keras.utils.timeseries_dataset_from_array(\n",
    "    fake_features,\n",
    "    fake_target,\n",
    "    sequence_length=10\n",
    ")"
   ]
  },
  {
   "cell_type": "markdown",
   "id": "e4d92cee-257a-4c1e-abce-96faa0288df2",
   "metadata": {},
   "source": [
    "Zdůrazněme, že výseky se překrývají (tj. není to tak, že by jeden končil desítkou a druhý začínal jedenáctkou)."
   ]
  },
  {
   "cell_type": "code",
   "execution_count": 18,
   "id": "03f39833-a77e-43d7-b092-e3539bfbc1ea",
   "metadata": {},
   "outputs": [
    {
     "name": "stdout",
     "output_type": "stream",
     "text": [
      "tf.Tensor(\n",
      "[[ 1  2  3  4  5  6  7  8  9 10]\n",
      " [ 2  3  4  5  6  7  8  9 10 11]\n",
      " [ 3  4  5  6  7  8  9 10 11 12]\n",
      " [ 4  5  6  7  8  9 10 11 12 13]\n",
      " [ 5  6  7  8  9 10 11 12 13 14]], shape=(5, 10), dtype=int32)\n",
      "tf.Tensor([ 8  9 10 11 12], shape=(5,), dtype=int32)\n",
      "************\n"
     ]
    }
   ],
   "source": [
    "for fake_dataset_features, fake_dataset_target in fake_dataset:\n",
    "    print(fake_dataset_features[0:5])\n",
    "    print(fake_dataset_target[0:5])\n",
    "    print(\"************\")"
   ]
  },
  {
   "cell_type": "markdown",
   "id": "da1a9f69-1728-40b0-b33a-2db2c4dd82d5",
   "metadata": {},
   "source": [
    "Parametr *sampling_rate* zařídí, že se při konstrukci feature vektorů bude brát jen každy N-tý záznam (targety nijak posouvané nejsou). Defaultně *sampling_rate* = 1."
   ]
  },
  {
   "cell_type": "code",
   "execution_count": 19,
   "id": "8bc0dd98-f704-4f26-8af7-d6beca96990f",
   "metadata": {},
   "outputs": [
    {
     "name": "stdout",
     "output_type": "stream",
     "text": [
      "tf.Tensor(\n",
      "[[ 1  6 11 16 21 26 31 36 41 46]\n",
      " [ 2  7 12 17 22 27 32 37 42 47]\n",
      " [ 3  8 13 18 23 28 33 38 43 48]\n",
      " [ 4  9 14 19 24 29 34 39 44 49]\n",
      " [ 5 10 15 20 25 30 35 40 45 50]], shape=(5, 10), dtype=int32)\n",
      "tf.Tensor([ 8  9 10 11 12], shape=(5,), dtype=int32)\n",
      "************\n"
     ]
    }
   ],
   "source": [
    "fake_dataset = keras.utils.timeseries_dataset_from_array(\n",
    "    fake_features,\n",
    "    fake_target,\n",
    "    sequence_length=10,\n",
    "    sampling_rate=5\n",
    ")\n",
    "\n",
    "for fake_dataset_features, fake_dataset_target in fake_dataset:\n",
    "    print(fake_dataset_features[0:5])\n",
    "    print(fake_dataset_target[0:5])\n",
    "    print(\"************\")"
   ]
  },
  {
   "cell_type": "markdown",
   "id": "9500e15a-7f24-4805-b3ac-a49f8b0f87bc",
   "metadata": {},
   "source": [
    "Parametry *start_index* a *end_index* způsobí, že se z dat (jak featurů, tak targetů) budou brát jen hodnoty mezi těmito indexy. Pokud si jsou tyto čísla blíž než je *sequence_length*, tak ve vytvořeném datasetu nebude nic."
   ]
  },
  {
   "cell_type": "code",
   "execution_count": 24,
   "id": "0bb33d39-8df8-4c25-848f-d3dce088b35d",
   "metadata": {},
   "outputs": [
    {
     "name": "stdout",
     "output_type": "stream",
     "text": [
      "tf.Tensor(\n",
      "[[ 4  5  6  7  8  9 10 11 12 13]\n",
      " [ 5  6  7  8  9 10 11 12 13 14]\n",
      " [ 6  7  8  9 10 11 12 13 14 15]], shape=(3, 10), dtype=int32)\n",
      "tf.Tensor([11 12 13], shape=(3,), dtype=int32)\n",
      "************\n"
     ]
    }
   ],
   "source": [
    "fake_dataset = keras.utils.timeseries_dataset_from_array(\n",
    "    fake_features,\n",
    "    fake_target,\n",
    "    sequence_length=10,\n",
    "    start_index=3,\n",
    "    end_index=15\n",
    ")\n",
    "\n",
    "for fake_dataset_features, fake_dataset_target in fake_dataset:\n",
    "    print(fake_dataset_features[0:5])\n",
    "    print(fake_dataset_target[0:5])\n",
    "    print(\"************\")"
   ]
  },
  {
   "cell_type": "markdown",
   "id": "62efed24-5272-4889-a0ff-a5be5aeaa7f8",
   "metadata": {},
   "source": [
    "Pokud nastavíme *shuffle*=True (defaultně False), bude dataset poskytovat záznamy nikoli chronologicky, ale náhodně."
   ]
  },
  {
   "cell_type": "code",
   "execution_count": 25,
   "id": "61c88793-3c55-495c-b3a7-fe6283e22d81",
   "metadata": {},
   "outputs": [
    {
     "name": "stdout",
     "output_type": "stream",
     "text": [
      "tf.Tensor(\n",
      "[[80 81 82 83 84 85 86 87 88 89]\n",
      " [39 40 41 42 43 44 45 46 47 48]\n",
      " [74 75 76 77 78 79 80 81 82 83]\n",
      " [55 56 57 58 59 60 61 62 63 64]\n",
      " [29 30 31 32 33 34 35 36 37 38]], shape=(5, 10), dtype=int32)\n",
      "tf.Tensor([87 46 81 62 36], shape=(5,), dtype=int32)\n",
      "************\n"
     ]
    }
   ],
   "source": [
    "fake_dataset = keras.utils.timeseries_dataset_from_array(\n",
    "    fake_features,\n",
    "    fake_target,\n",
    "    sequence_length=10,\n",
    "    shuffle=True\n",
    ")\n",
    "\n",
    "for fake_dataset_features, fake_dataset_target in fake_dataset:\n",
    "    print(fake_dataset_features[0:5])\n",
    "    print(fake_dataset_target[0:5])\n",
    "    print(\"************\")"
   ]
  },
  {
   "cell_type": "markdown",
   "id": "c6bf758c-83d7-4aa3-a1bb-a0efb9006cb3",
   "metadata": {},
   "source": [
    "Nakonec parametrem *batch_size* nastavíme počet záznamů v každé dávce (defaultně 128)."
   ]
  },
  {
   "cell_type": "code",
   "execution_count": 29,
   "id": "4dca6f77-65ba-4063-8459-ee11e06bfbbe",
   "metadata": {},
   "outputs": [
    {
     "name": "stdout",
     "output_type": "stream",
     "text": [
      "tf.Tensor(\n",
      "[[ 1  2  3  4  5  6  7  8  9 10]\n",
      " [ 2  3  4  5  6  7  8  9 10 11]], shape=(2, 10), dtype=int32)\n",
      "tf.Tensor([8 9], shape=(2,), dtype=int32)\n",
      "************\n"
     ]
    }
   ],
   "source": [
    "fake_dataset = keras.utils.timeseries_dataset_from_array(\n",
    "    fake_features,\n",
    "    fake_target,\n",
    "    sequence_length=10,\n",
    "    batch_size=2\n",
    ")\n",
    "\n",
    "for fake_dataset_features, fake_dataset_target in fake_dataset:\n",
    "    print(fake_dataset_features)\n",
    "    print(fake_dataset_target)\n",
    "    print(\"************\")\n",
    "    break"
   ]
  },
  {
   "cell_type": "markdown",
   "id": "c113dc8d-8ff7-43b1-ae29-180abb8f09f6",
   "metadata": {},
   "source": [
    "Vytvořme si tedy datasety pro trénování, validaci a test. V datech máme pro každou hodinu 6 záznamů (měření po 10 minutách), tudíž *sampling_rate*=6 budeme mít jeden záznam na hodinu. Delay se v indexování vstupních framů objevuje proto, aby bylo z *raw_data_scaled* do featurů bráno vše až na posledních *delay* záznamů a naopak do targetů šly až teploty pro ony vynechané záznamy. "
   ]
  },
  {
   "cell_type": "code",
   "execution_count": 6,
   "id": "5941ca94-33ff-4260-ae9d-3cd6c8b4ac01",
   "metadata": {},
   "outputs": [],
   "source": [
    "sampling_rate = 6\n",
    "sequence_length = 5*24\n",
    "delay = sampling_rate*(sequence_length + 24 - 1)\n",
    "batch_size = 256\n",
    "\n",
    "train_dataset = keras.utils.timeseries_dataset_from_array(\n",
    "    raw_data_scaled[:-delay],\n",
    "    targets=target_column[delay:],\n",
    "    sampling_rate=sampling_rate,\n",
    "    sequence_length=sequence_length,\n",
    "    shuffle=True,\n",
    "    batch_size=batch_size,\n",
    "    start_index=0,\n",
    "    end_index=num_train_samples\n",
    ")\n",
    "\n",
    "val_dataset = keras.utils.timeseries_dataset_from_array(\n",
    "    raw_data_scaled[:-delay],\n",
    "    targets=target_column[delay:],\n",
    "    sampling_rate=sampling_rate,\n",
    "    sequence_length=sequence_length,\n",
    "    shuffle=True,\n",
    "    batch_size=batch_size,\n",
    "    start_index=num_train_samples,\n",
    "    end_index=num_train_samples+num_val_samples\n",
    ")\n",
    "\n",
    "test_dataset = keras.utils.timeseries_dataset_from_array(\n",
    "    raw_data_scaled[:-delay],\n",
    "    targets=target_column[delay:],\n",
    "    sampling_rate=sampling_rate,\n",
    "    sequence_length=sequence_length,\n",
    "    shuffle=True,\n",
    "    batch_size=batch_size,\n",
    "    start_index=num_train_samples+num_val_samples\n",
    ")"
   ]
  },
  {
   "cell_type": "code",
   "execution_count": 7,
   "id": "55c1154a-52c0-474b-9c34-49bfea24b16a",
   "metadata": {},
   "outputs": [],
   "source": [
    "input_frame_col_count = raw_data_scaled.shape[-1]\n",
    "inputs = keras.Input(shape=(sequence_length, input_frame_col_count))\n",
    "lstm_layer = layers.LSTM(16)(inputs)\n",
    "outputs = layers.Dense(1)(lstm_layer)\n",
    "simple_model = keras.Model(inputs, outputs)\n",
    "simple_model.compile(optimizer=\"rmsprop\", loss=\"mse\", metrics=[\"mae\"])\n",
    "history = simple_model.fit(\n",
    "    train_dataset,\n",
    "    epochs=10,\n",
    "    validation_data=val_dataset,\n",
    "    verbose=False\n",
    ")"
   ]
  },
  {
   "cell_type": "markdown",
   "id": "7c3da8ce-0039-4f58-8828-56292602d804",
   "metadata": {},
   "source": [
    "MAE má vcelku rozumno velikost, z grafu ale vidíme, že došlo k overfitingu."
   ]
  },
  {
   "cell_type": "code",
   "execution_count": 8,
   "id": "faa3b2cc-94cc-4c8f-bba4-5a9fd30da9d5",
   "metadata": {},
   "outputs": [
    {
     "name": "stdout",
     "output_type": "stream",
     "text": [
      "405/405 [==============================] - 9s 22ms/step - loss: 10.9568 - mae: 2.5573\n",
      "Test MAE: 2.5572612285614014\n"
     ]
    }
   ],
   "source": [
    "print(f\"Test MAE: {simple_model.evaluate(test_dataset)[1]}\")"
   ]
  },
  {
   "cell_type": "code",
   "execution_count": 11,
   "id": "6146bd3f-b228-4e86-b85f-9e36535d528e",
   "metadata": {},
   "outputs": [
    {
     "data": {
      "text/plain": [
       "<matplotlib.legend.Legend at 0x234a6bb3fd0>"
      ]
     },
     "execution_count": 11,
     "metadata": {},
     "output_type": "execute_result"
    },
    {
     "data": {
      "image/png": "[encoded data removed]",
      "text/plain": [
       "<Figure size 640x480 with 1 Axes>"
      ]
     },
     "metadata": {},
     "output_type": "display_data"
    }
   ],
   "source": [
    "history_dict = history.history\n",
    "train_loss_values = history_dict[\"loss\"]\n",
    "val_loss_values = history_dict[\"val_loss\"]\n",
    "epochs = range(2, len(train_loss_values)+1)\n",
    "\n",
    "plt.plot(epochs, train_loss_values[1:], \"bo\", label=\"Training loss\")\n",
    "plt.plot(epochs, val_loss_values[1:], \"b\", label=\"Validation loss\")\n",
    "\n",
    "plt.title(\"Training and validation loss\")\n",
    "plt.xlabel(\"Epoch\")\n",
    "plt.ylabel(\"Loss\")\n",
    "plt.legend()"
   ]
  },
  {
   "cell_type": "markdown",
   "id": "8db6e5a8-fa06-42d4-80af-70479288bc37",
   "metadata": {},
   "source": [
    "Abychom overiftingu zabránili, použijeme dropout. S ním se ale pracuje trochu jinak než dejme tomu u konvolučních sítí - krom dedikované dropout vrstvy musíme ještě přidat odpovídající parametr do LSTM vrstev. Též je třeba do všech rekurentních vrstev s výjimkou té poslední dodat parametr *return_sequences* s hodnotou True (defaultní je False). False povede k tomu, že se vrátí poslední člen výstupní sekvence (myšleno člen s \"nejvyšším\" časem), True, že se vrátí sekvence celá - bez toho by na sebe rekurentní vrstvy nešlo lepit."
   ]
  },
  {
   "cell_type": "code",
   "execution_count": null,
   "id": "5008c51c-321d-45b3-bb50-3edc9ce66411",
   "metadata": {},
   "outputs": [],
   "source": [
    "input_frame_col_count = raw_data_scaled.shape[-1]\n",
    "inputs = keras.Input(shape=(sequence_length, input_frame_col_count))\n",
    "lstm_layer_1 = layers.LSTM(16, recurrent_dropout=0.5, return_sequences=True)(inputs)\n",
    "lstm_layer_2 = layers.LSTM(16, recurrent_dropout=0.5, return_sequences=False)(lstm_layer_1)\n",
    "dropout_layer = layers.Dropout(0.5)(lstm_layer_2)\n",
    "outputs = layers.Dense(1)(dropout_layer)\n",
    "dropout_model = keras.Model(inputs, outputs)\n",
    "dropout_model.compile(optimizer=\"rmsprop\", loss=\"mse\", metrics=[\"mae\"])\n",
    "history = dropout_model.fit(\n",
    "    train_dataset,\n",
    "    epochs=10,\n",
    "    validation_data=val_dataset,\n",
    "    verbose=True\n",
    ")"
   ]
  },
  {
   "cell_type": "code",
   "execution_count": null,
   "id": "f4ab7b01-0cce-4931-a3a8-3e14faa3e915",
   "metadata": {},
   "outputs": [],
   "source": []
  }
 ],
 "metadata": {
  "kernelspec": {
   "display_name": "Python 3 (ipykernel)",
   "language": "python",
   "name": "python3"
  },
  "language_info": {
   "codemirror_mode": {
    "name": "ipython",
    "version": 3
   },
   "file_extension": ".py",
   "mimetype": "text/x-python",
   "name": "python",
   "nbconvert_exporter": "python",
   "pygments_lexer": "ipython3",
   "version": "3.10.15"
  }
 },
 "nbformat": 4,
 "nbformat_minor": 5
}
